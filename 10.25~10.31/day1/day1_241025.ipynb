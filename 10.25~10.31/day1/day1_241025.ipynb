{
 "cells": [
  {
   "cell_type": "markdown",
   "metadata": {},
   "source": [
    "1. Python을 통한 DB Connection\n",
    "\n",
    "## 1-1 Postgresql 라이브러리(psycopg2)를 활용한 Connection\n",
    "\n",
    "#### 1) Connection"
   ]
  },
  {
   "cell_type": "code",
   "execution_count": 71,
   "metadata": {},
   "outputs": [],
   "source": [
    "import psycopg2\n",
    "\n",
    "# database connection 생성\n",
    "db = psycopg2.connect(\n",
    "    host='127.0.0.1',\n",
    "    dbname='postgres',\n",
    "    user='postgres',\n",
    "    password='',\n",
    "    port=5433\n",
    "    )\n",
    "\n",
    "# 커서 생성 > 특정 SQL 문장을 처리한 결과를 담고 있는 영역을 가리키는 일종의 포인터 / 쿼리문에 의해서 반환되는 결과값들을 저장하는 메모리공간\n",
    "cursor=db.cursor()"
   ]
  },
  {
   "cell_type": "markdown",
   "metadata": {},
   "source": [
    "### 2) CRUD Execution"
   ]
  },
  {
   "cell_type": "code",
   "execution_count": 74,
   "metadata": {},
   "outputs": [],
   "source": [
    "create_query = \"CREATE TABLE lecture (id SERIAL PRIMARY KEY, name VARCHAR(65533), year INT, gender VARCHAR(65533), count INT);\"\n",
    "\n",
    "insert_query = \"INSERT INTO lecture VALUES(1, 'Tom', 2024, 'M', 1100);\"\n",
    "\n",
    "update_query =  \"\"\"\n",
    "    UPDATE lecture\n",
    "    SET id = 1,\n",
    "        name = 'CHUNJAE',\n",
    "        year = '1994',\n",
    "        gender = 'M',\n",
    "        count = '1000'\n",
    "    WHERE id = 1;\n",
    "    \"\"\"\n",
    "\n",
    "delete_query = \"DELETE FROM lecture WHERE id = 1;\"\n",
    "\n",
    "drop_query = \"DROP TABLE lecture\"\n"
   ]
  },
  {
   "cell_type": "code",
   "execution_count": 75,
   "metadata": {},
   "outputs": [],
   "source": [
    "# Create table\n",
    "\n",
    "cursor.execute(create_query)\n",
    "db.commit()"
   ]
  },
  {
   "cell_type": "code",
   "execution_count": 11,
   "metadata": {},
   "outputs": [],
   "source": [
    "# INSERT ROW\n",
    "\n",
    "cursor.execute(insert_query)\n",
    "db.commit()"
   ]
  },
  {
   "cell_type": "code",
   "execution_count": 20,
   "metadata": {},
   "outputs": [
    {
     "ename": "UndefinedTable",
     "evalue": "오류:  \"lecture\" 이름의 릴레이션(relation)이 없습니다\nLINE 1: SELECT * FROM lecture\n                      ^\n",
     "output_type": "error",
     "traceback": [
      "\u001b[1;31m---------------------------------------------------------------------------\u001b[0m",
      "\u001b[1;31mUndefinedTable\u001b[0m                            Traceback (most recent call last)",
      "Cell \u001b[1;32mIn[20], line 3\u001b[0m\n\u001b[0;32m      1\u001b[0m \u001b[38;5;66;03m# SELECT\u001b[39;00m\n\u001b[1;32m----> 3\u001b[0m cursor\u001b[38;5;241m.\u001b[39mexecute(\u001b[38;5;124m\"\u001b[39m\u001b[38;5;124mSELECT * FROM lecture\u001b[39m\u001b[38;5;124m\"\u001b[39m)\n\u001b[0;32m      4\u001b[0m cursor\u001b[38;5;241m.\u001b[39mfetchall()\n",
      "\u001b[1;31mUndefinedTable\u001b[0m: 오류:  \"lecture\" 이름의 릴레이션(relation)이 없습니다\nLINE 1: SELECT * FROM lecture\n                      ^\n"
     ]
    }
   ],
   "source": [
    "# SELECT\n",
    "\n",
    "cursor.execute(\"SELECT * FROM lecture\")\n",
    "cursor.fetchall()"
   ]
  },
  {
   "cell_type": "code",
   "execution_count": 17,
   "metadata": {},
   "outputs": [
    {
     "data": {
      "text/plain": [
       "[(1, 'CHUNJAE', 1994, 'M', 1000)]"
      ]
     },
     "execution_count": 17,
     "metadata": {},
     "output_type": "execute_result"
    }
   ],
   "source": [
    "#Update ROW\n",
    "\n",
    "cursor.execute(update_query)\n",
    "db.commit()\n",
    "\n",
    "cursor.execute(\"SELECT * FROM lecture\")\n",
    "cursor.fetchall()"
   ]
  },
  {
   "cell_type": "code",
   "execution_count": 70,
   "metadata": {},
   "outputs": [
    {
     "ename": "InFailedSqlTransaction",
     "evalue": "오류:  현재 트랜잭션은 중지되어 있습니다. 이 트랜잭션을 종료하기 전까지는 모든 명령이 무시될 것입니다\n",
     "output_type": "error",
     "traceback": [
      "\u001b[1;31m---------------------------------------------------------------------------\u001b[0m",
      "\u001b[1;31mInFailedSqlTransaction\u001b[0m                    Traceback (most recent call last)",
      "Cell \u001b[1;32mIn[70], line 3\u001b[0m\n\u001b[0;32m      1\u001b[0m \u001b[38;5;66;03m# DELETE ROW\u001b[39;00m\n\u001b[1;32m----> 3\u001b[0m cursor\u001b[38;5;241m.\u001b[39mexecute(delete_query)\n\u001b[0;32m      4\u001b[0m db\u001b[38;5;241m.\u001b[39mcommit()\n\u001b[0;32m      6\u001b[0m cursor\u001b[38;5;241m.\u001b[39mexecute(\u001b[38;5;124m\"\u001b[39m\u001b[38;5;124mSELECT * FROM lecture\u001b[39m\u001b[38;5;124m\"\u001b[39m)\n",
      "\u001b[1;31mInFailedSqlTransaction\u001b[0m: 오류:  현재 트랜잭션은 중지되어 있습니다. 이 트랜잭션을 종료하기 전까지는 모든 명령이 무시될 것입니다\n"
     ]
    }
   ],
   "source": [
    "# DELETE ROW\n",
    "\n",
    "cursor.execute(delete_query)\n",
    "db.commit()\n",
    "\n",
    "cursor.execute(\"SELECT * FROM lecture\")\n",
    "cursor.fetchall()"
   ]
  },
  {
   "cell_type": "code",
   "execution_count": 80,
   "metadata": {},
   "outputs": [],
   "source": [
    "# DROP TABLE\n",
    "\n",
    "cursor.execute(drop_query)\n",
    "db.commit()"
   ]
  },
  {
   "cell_type": "markdown",
   "metadata": {},
   "source": [
    "#### 3) Connection Pool\n",
    "\n",
    "<img src=\"https://velog.velcdn.com/images/newnew_daddy/post/f0569aa7-1aad-466e-a24f-5e3b5f248a72/image.png\" width=\"30%\">\n",
    "\n",
    "- 일정량의 Connection 객체를 미리 만들어서 pool에 저장\n",
    "- 클라이언트 요청이 오면 Connection 객체를 빌려주고 해당 객체의 임무가 완료되면 다시 Connection 객체를 반납 받아 pool에 저장\n",
    "- 큰 커넥션 풀은 메모리 소모가 큰 대신 대기 시간이 적어지고, 작은 커넥션 풀은 메모리 소모가 작은 대신 대기 시간이 길어진다. ([적정 Connection 수 공식](https://github.com/brettwooldridge/HikariCP/wiki/About-Pool-Sizing#the-formula))\n",
    "- 자원을 사용하면 반드시 반납을 해줘야하는데 이를 위해 DB 연결시 파이썬 `with문`을 사용"
   ]
  },
  {
   "cell_type": "code",
   "execution_count": 81,
   "metadata": {},
   "outputs": [],
   "source": [
    "# Connection 종료\n",
    "\n",
    "cursor.close()"
   ]
  },
  {
   "cell_type": "markdown",
   "metadata": {},
   "source": [
    "### 1-2. ORM 라이브러리(sqlalchemy)를 활용한 Connection\n",
    "\n",
    "#### ORM(Object Relational Mapping)\n",
    "\n",
    "<img src=\"https://velog.velcdn.com/images/newnew_daddy/post/ca5652a2-0686-462b-bed4-4483815708e5/image.png\" width=\"40%\">\n",
    "\n",
    "- Python 객체와 관계형 DB의 data를 매핑해주는 것\n",
    "- 장점\n",
    "    - Query가 아닌 코드로 데이터를 조작할 수 있어 개발자가 프로그래밍에 더 집중할 수 있도록 도와준다.\n",
    "    - 재사용 및 유지보수의 편리성이 증가한다.\n",
    "    - DBMS에 대한 종속성이 줄어든다.\n",
    "\n",
    "- 단점\n",
    "  - 완벽한 ORM으로만 서비스를 구현하기 어렵다.\n",
    "  - 프로시저가 많은 시스템에선 ORM의 객체 지향적인 장점을 활용하기 어렵다."
   ]
  },
  {
   "cell_type": "markdown",
   "metadata": {},
   "source": [
    "#### 1) Connection 및 Session"
   ]
  },
  {
   "cell_type": "code",
   "execution_count": 82,
   "metadata": {},
   "outputs": [],
   "source": [
    "from sqlalchemy import create_engine, text\n",
    "from sqlalchemy.orm import sessionmaker\n",
    "\n",
    "engine_name = 'postgresql'\n",
    "user_id = 'postgres'\n",
    "user_pw = ''\n",
    "host = '127.0.0.1'\n",
    "port = '5433'\n",
    "database = 'postgres'\n",
    "\n",
    "db = create_engine(f'{engine_name}://{user_id}:{user_pw}@{host}:{port}/{database}')\n",
    "\n",
    "cursor = db.connect()\n",
    "Session = sessionmaker(db)\n",
    "session = Session"
   ]
  },
  {
   "cell_type": "code",
   "execution_count": 62,
   "metadata": {},
   "outputs": [],
   "source": [
    "cursor.close()"
   ]
  },
  {
   "cell_type": "code",
   "execution_count": 83,
   "metadata": {},
   "outputs": [],
   "source": [
    "from sqlalchemy import Column, INTEGER, VARCHAR\n",
    "from sqlalchemy.orm import declarative_base\n",
    "\n",
    "Base = declarative_base()\n",
    "\n",
    "class lecture(Base):\n",
    "    __tablename__ = 'lecture'\n",
    "\n",
    "    id = Column('id', INTEGER, primary_key=True, autoincrement=True)\n",
    "    name = Column('name', VARCHAR(65533), nullable=False)\n",
    "    year = Column('year', INTEGER, nullable=False)\n",
    "    gender = Column('gender',VARCHAR(65533), nullable=False)\n",
    "    count = Column('count', INTEGER, nullable=False)\n",
    "\n",
    "# Create\n",
    "Base.metadata.create_all(db)"
   ]
  },
  {
   "cell_type": "markdown",
   "metadata": {},
   "source": [
    "### 3) ORM을 활용한 CRUD"
   ]
  },
  {
   "cell_type": "code",
   "execution_count": 84,
   "metadata": {},
   "outputs": [
    {
     "ename": "AttributeError",
     "evalue": "'NoneType' object has no attribute 'id'",
     "output_type": "error",
     "traceback": [
      "\u001b[1;31m---------------------------------------------------------------------------\u001b[0m",
      "\u001b[1;31mAttributeError\u001b[0m                            Traceback (most recent call last)",
      "Cell \u001b[1;32mIn[84], line 9\u001b[0m\n\u001b[0;32m      4\u001b[0m session \u001b[38;5;241m=\u001b[39m Session()\n\u001b[0;32m      7\u001b[0m res \u001b[38;5;241m=\u001b[39m session\u001b[38;5;241m.\u001b[39mquery(lecture)\u001b[38;5;241m.\u001b[39mfirst()\n\u001b[1;32m----> 9\u001b[0m \u001b[38;5;28mprint\u001b[39m(res\u001b[38;5;241m.\u001b[39mid, res\u001b[38;5;241m.\u001b[39mname, res\u001b[38;5;241m.\u001b[39myear, res\u001b[38;5;241m.\u001b[39mgender, res\u001b[38;5;241m.\u001b[39mcount)\n",
      "\u001b[1;31mAttributeError\u001b[0m: 'NoneType' object has no attribute 'id'"
     ]
    }
   ],
   "source": [
    "from sqlalchemy.orm import sessionmaker\n",
    "\n",
    "Session = sessionmaker(bind=db)\n",
    "session = Session()\n",
    "\n",
    "\n",
    "res = session.query(lecture).first()\n",
    "\n",
    "print(res.id, res.name, res.year, res.gender, res.count)"
   ]
  },
  {
   "cell_type": "code",
   "execution_count": 85,
   "metadata": {},
   "outputs": [
    {
     "ename": "AttributeError",
     "evalue": "'NoneType' object has no attribute 'id'",
     "output_type": "error",
     "traceback": [
      "\u001b[1;31m---------------------------------------------------------------------------\u001b[0m",
      "\u001b[1;31mAttributeError\u001b[0m                            Traceback (most recent call last)",
      "Cell \u001b[1;32mIn[85], line 6\u001b[0m\n\u001b[0;32m      1\u001b[0m session \u001b[38;5;241m=\u001b[39m Session()\n\u001b[0;32m      4\u001b[0m res \u001b[38;5;241m=\u001b[39m session\u001b[38;5;241m.\u001b[39mquery(lecture)\u001b[38;5;241m.\u001b[39mfirst()\n\u001b[1;32m----> 6\u001b[0m \u001b[38;5;28mprint\u001b[39m(res\u001b[38;5;241m.\u001b[39mid, res\u001b[38;5;241m.\u001b[39mname, res\u001b[38;5;241m.\u001b[39myear, res\u001b[38;5;241m.\u001b[39mgender, res\u001b[38;5;241m.\u001b[39mcount)\n",
      "\u001b[1;31mAttributeError\u001b[0m: 'NoneType' object has no attribute 'id'"
     ]
    }
   ],
   "source": [
    "session = Session()\n",
    "\n",
    "\n",
    "res = session.query(lecture).first()\n",
    "\n",
    "print(res.id, res.name, res.year, res.gender, res.count)"
   ]
  },
  {
   "cell_type": "code",
   "execution_count": 86,
   "metadata": {},
   "outputs": [],
   "source": [
    "# INSERT\n",
    "\n",
    "datal = lecture(id=3, name='chunjae', year=1990, gender='M', count=1234)\n",
    "session.add(datal)\n",
    "session.commit()"
   ]
  },
  {
   "cell_type": "code",
   "execution_count": 40,
   "metadata": {},
   "outputs": [],
   "source": [
    "# UPDATE\n",
    "\n",
    "session.query(lecture).filter(lecture.name == 'chunjae').update({'gender':'F', 'count':1500})\n",
    "session.commit()"
   ]
  },
  {
   "cell_type": "code",
   "execution_count": 87,
   "metadata": {},
   "outputs": [],
   "source": [
    "# DELETE\n",
    "\n",
    "session.query(lecture).filter(lecture.id == 3).delete()\n",
    "session.commit()"
   ]
  },
  {
   "cell_type": "markdown",
   "metadata": {},
   "source": [
    "#### 4) OMR Core 방법을 활용한 CRUD"
   ]
  },
  {
   "cell_type": "code",
   "execution_count": 92,
   "metadata": {},
   "outputs": [],
   "source": [
    "from sqlalchemy import create_engine, Table, Column, Integer, String, MetaData\n",
    "from sqlalchemy.orm import sessionmaker\n",
    "\n",
    "db = create_engine(f'{engine_name}://{user_id}:{user_pw}@{host}:{port}/{database}')\n",
    "\n",
    "Session = sessionmaker(db)\n",
    "session = Session()\n",
    "\n",
    "meta = MetaData()\n",
    "\n",
    "core_table = Table(\n",
    "    'first', meta,\n",
    "    Column('id', Integer, primary_key=True, autoincrement=True),\n",
    "    Column('name', String),\n",
    "    Column('year', Integer),\n",
    "    Column('gender', String),\n",
    "    Column('count', Integer)\n",
    ")\n",
    "\n",
    "meta.create_all(db)"
   ]
  },
  {
   "cell_type": "code",
   "execution_count": 101,
   "metadata": {},
   "outputs": [
    {
     "name": "stdout",
     "output_type": "stream",
     "text": [
      "(1, 'hahaha', 2023, 'M', 555)\n",
      "(2, 'hwang', 1994, 'M', 12)\n"
     ]
    }
   ],
   "source": [
    "from sqlalchemy import insert, update, delete\n",
    "\n",
    "# Select ALL\n",
    "res = core_table.select()\n",
    "result = session.execute(res)\n",
    "\n",
    "for row in result:\n",
    "    print(row)"
   ]
  },
  {
   "cell_type": "code",
   "execution_count": 94,
   "metadata": {},
   "outputs": [],
   "source": [
    "# Insert one\n",
    "stmt = insert(core_table).values(name=\"hahaha\", year=2023, gender=\"M\", count=555)\n",
    "\n",
    "with db.connect() as conn:\n",
    "    result = conn.execute(stmt)\n",
    "    conn.commit()"
   ]
  },
  {
   "cell_type": "code",
   "execution_count": 96,
   "metadata": {},
   "outputs": [],
   "source": [
    "# Insert multi\n",
    "stmt = insert(core_table)\n",
    "data_list = [\n",
    "    {\"name\": \"hwang\", \"year\": 1994, \"gender\": \"M\", \"count\": 12},\n",
    "    {\"name\": \"jeong\", \"year\": 1996, \"gender\": \"F\", \"count\": 32}\n",
    "]\n",
    "\n",
    "with db.connect() as conn:\n",
    "    result = conn.execute(stmt, data_list)\n",
    "    conn.commit()"
   ]
  },
  {
   "cell_type": "code",
   "execution_count": 98,
   "metadata": {},
   "outputs": [],
   "source": [
    "#Update \n",
    "stmt = update(core_table).where(core_table.c.name == \"jeong\").values(year=1000)\n",
    "\n",
    "with db.connect() as conn:\n",
    "    result = conn.execute(stmt)\n",
    "    conn.commit()"
   ]
  },
  {
   "cell_type": "code",
   "execution_count": 100,
   "metadata": {},
   "outputs": [],
   "source": [
    "# Delete\n",
    "stmt = delete(core_table).where(core_table.c.name == \"jeong\")\n",
    "\n",
    "with db.connect() as conn:\n",
    "    result = conn.execute(stmt)\n",
    "    conn.commit()"
   ]
  },
  {
   "cell_type": "markdown",
   "metadata": {},
   "source": [
    "#### 1-3. Python을 활용한 Bulk Insert\n",
    "\n",
    "##### 1.For문을 활용한 Insert\n",
    "##### 2.to_sql() 함수를 활용한 Insert\n",
    "##### 3.execute_values() 함수를 활용한 Insert"
   ]
  },
  {
   "cell_type": "markdown",
   "metadata": {},
   "source": [
    "#### Panda for loop"
   ]
  },
  {
   "cell_type": "code",
   "execution_count": 5,
   "metadata": {},
   "outputs": [],
   "source": [
    "import psycopg2 as pgsql\n",
    "\n",
    "# database connection\n",
    "db = pgsql.connect(\n",
    "    host='127.0.0.1',\n",
    "    dbname='postgres',\n",
    "    user='postgres',\n",
    "    password='',\n",
    "    port=5433\n",
    ")\n",
    "\n",
    "cursor = db.cursor()"
   ]
  },
  {
   "cell_type": "code",
   "execution_count": 6,
   "metadata": {},
   "outputs": [],
   "source": [
    "drop_query = \"DROP TABLE lecture\"\n",
    "\n",
    "cursor.execute(drop_query)\n",
    "db.commit()"
   ]
  },
  {
   "cell_type": "code",
   "execution_count": 7,
   "metadata": {},
   "outputs": [],
   "source": [
    "create_query = \"CREATE TABLE lecture (id SERIAL PRIMARY KEY, name VARCHAR(65533), year INT, gender VARCHAR(65533), count INT);\"\n",
    "\n",
    "cursor.execute(create_query)\n",
    "db.commit()"
   ]
  },
  {
   "cell_type": "code",
   "execution_count": 10,
   "metadata": {},
   "outputs": [
    {
     "data": {
      "text/html": [
       "<div>\n",
       "<style scoped>\n",
       "    .dataframe tbody tr th:only-of-type {\n",
       "        vertical-align: middle;\n",
       "    }\n",
       "\n",
       "    .dataframe tbody tr th {\n",
       "        vertical-align: top;\n",
       "    }\n",
       "\n",
       "    .dataframe thead th {\n",
       "        text-align: right;\n",
       "    }\n",
       "</style>\n",
       "<table border=\"1\" class=\"dataframe\">\n",
       "  <thead>\n",
       "    <tr style=\"text-align: right;\">\n",
       "      <th></th>\n",
       "      <th>id</th>\n",
       "      <th>name</th>\n",
       "      <th>year</th>\n",
       "      <th>gender</th>\n",
       "      <th>count</th>\n",
       "    </tr>\n",
       "  </thead>\n",
       "  <tbody>\n",
       "    <tr>\n",
       "      <th>0</th>\n",
       "      <td>1</td>\n",
       "      <td>Mary</td>\n",
       "      <td>1880</td>\n",
       "      <td>F</td>\n",
       "      <td>7065</td>\n",
       "    </tr>\n",
       "    <tr>\n",
       "      <th>1</th>\n",
       "      <td>2</td>\n",
       "      <td>Anna</td>\n",
       "      <td>1880</td>\n",
       "      <td>F</td>\n",
       "      <td>2604</td>\n",
       "    </tr>\n",
       "    <tr>\n",
       "      <th>2</th>\n",
       "      <td>3</td>\n",
       "      <td>Emma</td>\n",
       "      <td>1880</td>\n",
       "      <td>F</td>\n",
       "      <td>2003</td>\n",
       "    </tr>\n",
       "    <tr>\n",
       "      <th>3</th>\n",
       "      <td>4</td>\n",
       "      <td>Elizabeth</td>\n",
       "      <td>1880</td>\n",
       "      <td>F</td>\n",
       "      <td>1939</td>\n",
       "    </tr>\n",
       "    <tr>\n",
       "      <th>4</th>\n",
       "      <td>5</td>\n",
       "      <td>Minnie</td>\n",
       "      <td>1880</td>\n",
       "      <td>F</td>\n",
       "      <td>1746</td>\n",
       "    </tr>\n",
       "    <tr>\n",
       "      <th>5</th>\n",
       "      <td>6</td>\n",
       "      <td>Margaret</td>\n",
       "      <td>1880</td>\n",
       "      <td>F</td>\n",
       "      <td>1578</td>\n",
       "    </tr>\n",
       "    <tr>\n",
       "      <th>6</th>\n",
       "      <td>7</td>\n",
       "      <td>Ida</td>\n",
       "      <td>1880</td>\n",
       "      <td>F</td>\n",
       "      <td>1472</td>\n",
       "    </tr>\n",
       "    <tr>\n",
       "      <th>7</th>\n",
       "      <td>8</td>\n",
       "      <td>Alice</td>\n",
       "      <td>1880</td>\n",
       "      <td>F</td>\n",
       "      <td>1414</td>\n",
       "    </tr>\n",
       "    <tr>\n",
       "      <th>8</th>\n",
       "      <td>9</td>\n",
       "      <td>Bertha</td>\n",
       "      <td>1880</td>\n",
       "      <td>F</td>\n",
       "      <td>1320</td>\n",
       "    </tr>\n",
       "    <tr>\n",
       "      <th>9</th>\n",
       "      <td>10</td>\n",
       "      <td>Sarah</td>\n",
       "      <td>1880</td>\n",
       "      <td>F</td>\n",
       "      <td>1288</td>\n",
       "    </tr>\n",
       "  </tbody>\n",
       "</table>\n",
       "</div>"
      ],
      "text/plain": [
       "   id       name  year gender  count\n",
       "0   1       Mary  1880      F   7065\n",
       "1   2       Anna  1880      F   2604\n",
       "2   3       Emma  1880      F   2003\n",
       "3   4  Elizabeth  1880      F   1939\n",
       "4   5     Minnie  1880      F   1746\n",
       "5   6   Margaret  1880      F   1578\n",
       "6   7        Ida  1880      F   1472\n",
       "7   8      Alice  1880      F   1414\n",
       "8   9     Bertha  1880      F   1320\n",
       "9  10      Sarah  1880      F   1288"
      ]
     },
     "execution_count": 10,
     "metadata": {},
     "output_type": "execute_result"
    }
   ],
   "source": [
    "import pandas as pd\n",
    "\n",
    "# Import\n",
    "df = pd.read_csv('./dataset/data-01/names.csv')\n",
    "df.head(10)"
   ]
  },
  {
   "cell_type": "code",
   "execution_count": 11,
   "metadata": {},
   "outputs": [
    {
     "data": {
      "text/plain": [
       "id         int64\n",
       "name      object\n",
       "year       int64\n",
       "gender    object\n",
       "count      int64\n",
       "dtype: object"
      ]
     },
     "execution_count": 11,
     "metadata": {},
     "output_type": "execute_result"
    }
   ],
   "source": [
    "df.dtypes"
   ]
  },
  {
   "cell_type": "code",
   "execution_count": 22,
   "metadata": {},
   "outputs": [],
   "source": [
    "delete_query = \"DELETE FROM lecture\"\n",
    "cursor.execute(delete_query)\n",
    "\n",
    "db.commit()"
   ]
  },
  {
   "cell_type": "code",
   "execution_count": 20,
   "metadata": {},
   "outputs": [],
   "source": [
    "# BULK INSERT -> tuple(for)\n",
    "\n",
    "for data in range(len(df)):\n",
    "    datas = tuple(df.iloc[data])\n",
    "    query = f\"INSERT INTO lecture VALUES{datas}\"\n",
    "    cursor.execute(query)\n",
    "\n",
    "db.commit()"
   ]
  },
  {
   "cell_type": "code",
   "execution_count": 23,
   "metadata": {},
   "outputs": [
    {
     "data": {
      "text/plain": [
       "[]"
      ]
     },
     "execution_count": 23,
     "metadata": {},
     "output_type": "execute_result"
    }
   ],
   "source": [
    "# SELECT\n",
    "cursor.execute(\"SELECT * FROM lecture LIMIT 10\")\n",
    "cursor.fetchall()"
   ]
  },
  {
   "cell_type": "markdown",
   "metadata": {},
   "source": [
    "#### 2) Pandas - to_sql() 메소드\n",
    "\n",
    "- dataframe.to_sql(테이블명, sqlalchemy_connector, option)"
   ]
  },
  {
   "cell_type": "code",
   "execution_count": 8,
   "metadata": {},
   "outputs": [],
   "source": [
    "from sqlalchemy import create_engine\n",
    "\n",
    "engine = 'postgresql'\n",
    "user = 'postgres'\n",
    "password = ''\n",
    "host = '127.0.0.1'\n",
    "port = '5432'\n",
    "database = 'postgres'\n",
    "\n",
    "db = create_engine(f'{engine}://{user}:{password}@{host}:{port}/{database}')"
   ]
  },
  {
   "cell_type": "code",
   "execution_count": 9,
   "metadata": {},
   "outputs": [
    {
     "data": {
      "text/plain": [
       "id           2\n",
       "name      Anna\n",
       "year      1880\n",
       "gender       F\n",
       "count     2604\n",
       "Name: 1, dtype: object"
      ]
     },
     "execution_count": 9,
     "metadata": {},
     "output_type": "execute_result"
    }
   ],
   "source": [
    "import pandas as pd\n",
    "\n",
    "df = pd.read_csv('./dataset/data-01/names.csv')\n",
    "df.iloc(1)\n",
    "df.iloc[1,:]"
   ]
  },
  {
   "cell_type": "code",
   "execution_count": 10,
   "metadata": {},
   "outputs": [
    {
     "data": {
      "text/plain": [
       "1000"
      ]
     },
     "execution_count": 10,
     "metadata": {},
     "output_type": "execute_result"
    }
   ],
   "source": [
    "# BULK INSERT\n",
    "df.to_sql(name=\"lecture\", con=db, if_exists=\"replace\")"
   ]
  },
  {
   "cell_type": "markdown",
   "metadata": {},
   "source": [
    "### 3) psycopg2 라이브러리의 execute_values() 메소드"
   ]
  },
  {
   "cell_type": "code",
   "execution_count": 2,
   "metadata": {},
   "outputs": [],
   "source": [
    "import psycopg2\n",
    "\n",
    "db = psycopg2.connect(\n",
    "    host='127.0.0.1',\n",
    "    dbname='postgres',\n",
    "    user='postgres',\n",
    "    password='',\n",
    "    port=5433\n",
    ")\n",
    "\n",
    "cursor=db.cursor()"
   ]
  },
  {
   "cell_type": "code",
   "execution_count": 3,
   "metadata": {},
   "outputs": [],
   "source": [
    "delete_query = \"DELETE fROM lecture;\"\n",
    "\n",
    "cursor.execute(delete_query)\n",
    "db.commit()"
   ]
  },
  {
   "cell_type": "code",
   "execution_count": 4,
   "metadata": {},
   "outputs": [
    {
     "data": {
      "text/plain": [
       "[]"
      ]
     },
     "execution_count": 4,
     "metadata": {},
     "output_type": "execute_result"
    }
   ],
   "source": [
    "cursor.execute(\"SELECT * FROM lecture\")\n",
    "cursor.fetchall()"
   ]
  },
  {
   "cell_type": "code",
   "execution_count": 5,
   "metadata": {},
   "outputs": [],
   "source": [
    "import pandas as pd\n",
    "\n",
    "df = pd.read_csv('./dataset/data-01/names.csv')\n",
    "df['id'] = df['id'].astype(float)\n",
    "df['year'] = df['year'].astype(float)\n",
    "df['count'] =  df['count'].astype(float)\n",
    "\n",
    "insert_list = list()\n",
    "\n",
    "for i in range(5,50):\n",
    "    insert_list.append(tuple(df.iloc[i]))"
   ]
  },
  {
   "cell_type": "code",
   "execution_count": 7,
   "metadata": {},
   "outputs": [
    {
     "data": {
      "text/plain": [
       "id        float64\n",
       "name       object\n",
       "year      float64\n",
       "gender     object\n",
       "count     float64\n",
       "dtype: object"
      ]
     },
     "execution_count": 7,
     "metadata": {},
     "output_type": "execute_result"
    }
   ],
   "source": [
    "df.dtypes"
   ]
  },
  {
   "cell_type": "code",
   "execution_count": 8,
   "metadata": {},
   "outputs": [],
   "source": [
    "import numpy as np\n",
    "from psycopg2.extensions import register_adapter, AsIs\n",
    "register_adapter(np.int64, AsIs)"
   ]
  },
  {
   "cell_type": "code",
   "execution_count": 9,
   "metadata": {},
   "outputs": [],
   "source": [
    "from psycopg2.extras import execute_values\n",
    "\n",
    "sql = f\"INSERT INTO lecture VALUES %s;\"\n",
    "execute_values(cursor, sql, insert_list)\n",
    "\n",
    "db.commit()"
   ]
  },
  {
   "cell_type": "markdown",
   "metadata": {},
   "source": [
    "### 2. dotenv 라이브러리를 활용한 민감 정보 관리\n",
    "\n",
    "- 환경 변수에 대한 관리를 효과적이고 안전하게 할 수 있도록 도와주는 python 라이브러리\n",
    "- DB정보, 비밀번호, API KEY 등 외부에 공유되거나 Git 에 올라가면 안되는 값들을 하드코딩 하지 않고 사용\n",
    "\n",
    "pip install python-dotenv"
   ]
  },
  {
   "cell_type": "code",
   "execution_count": 11,
   "metadata": {},
   "outputs": [
    {
     "name": "stdout",
     "output_type": "stream",
     "text": [
      "c:\\Users\\user\\Desktop\\code\\.env\n"
     ]
    }
   ],
   "source": [
    "import dotenv\n",
    "\n",
    "# PATH\n",
    "env_path = dotenv.find_dotenv()\n",
    "print(env_path)"
   ]
  },
  {
   "cell_type": "code",
   "execution_count": 13,
   "metadata": {},
   "outputs": [
    {
     "data": {
      "text/plain": [
       "True"
      ]
     },
     "execution_count": 13,
     "metadata": {},
     "output_type": "execute_result"
    }
   ],
   "source": [
    "# .env load\n",
    "dotenv.load_dotenv(env_path)"
   ]
  },
  {
   "cell_type": "code",
   "execution_count": null,
   "metadata": {},
   "outputs": [],
   "source": [
    "# .env values\n",
    "dotenv.dotenv_values(env_path)"
   ]
  },
  {
   "cell_type": "code",
   "execution_count": 15,
   "metadata": {},
   "outputs": [
    {
     "data": {
      "text/plain": [
       "(True, 'HOST', '876543')"
      ]
     },
     "execution_count": 15,
     "metadata": {},
     "output_type": "execute_result"
    }
   ],
   "source": [
    "# .env values change\n",
    "# dotenv.set_key(env_path, 'HOST', '876543')"
   ]
  },
  {
   "cell_type": "code",
   "execution_count": 30,
   "metadata": {},
   "outputs": [],
   "source": [
    "# LOAD\n",
    "\n",
    "import os\n",
    "from dotenv import load_dotenv\n",
    "\n",
    "load_dotenv()\n",
    "\n",
    "engine   = os.getenv(\"POSTGRES_ENGINE\")\n",
    "user     = os.getenv(\"POSTGRES_USER\")\n",
    "password = os.getenv(\"POSTGRES_PASSWORD\")\n",
    "host     = os.getenv(\"POSTGRES_HOST\")\n",
    "port     = os.getenv(\"POSTGRES_PORT\")\n",
    "database = os.getenv(\"POSTGRES_DB\")"
   ]
  },
  {
   "cell_type": "code",
   "execution_count": null,
   "metadata": {},
   "outputs": [],
   "source": [
    "(engine, user, password, host, port, database)"
   ]
  },
  {
   "cell_type": "markdown",
   "metadata": {},
   "source": [
    "### DB Connection"
   ]
  },
  {
   "cell_type": "code",
   "execution_count": 33,
   "metadata": {},
   "outputs": [],
   "source": [
    "import psycopg2\n",
    "\n",
    "db = psycopg2.connect(\n",
    "    dbname=database,\n",
    "    user=user,\n",
    "    password=password,\n",
    "    port=port,\n",
    "    host=host\n",
    ")\n",
    "\n",
    "cursor=db.cursor()"
   ]
  },
  {
   "cell_type": "markdown",
   "metadata": {},
   "source": [
    "### 3. Python Class를 사용한 DB Connection"
   ]
  },
  {
   "cell_type": "markdown",
   "metadata": {},
   "source": [
    "##### 0) self"
   ]
  },
  {
   "cell_type": "code",
   "execution_count": 34,
   "metadata": {},
   "outputs": [],
   "source": [
    "class TempClass:\n",
    "    def __init__(self, name:str, age:int, count:int):\n",
    "        self.name = name\n",
    "        self.age = age\n",
    "        self.count = count\n",
    "        self.addage()\n",
    "\n",
    "    def printall(self):\n",
    "        print(self.name)\n",
    "        print(self.age)\n",
    "        print(self.count)\n",
    "\n",
    "    def printself(self):\n",
    "        return self\n",
    "    \n",
    "    def addage(self):\n",
    "        self.new_age = self.age+10"
   ]
  },
  {
   "cell_type": "code",
   "execution_count": 36,
   "metadata": {},
   "outputs": [
    {
     "name": "stdout",
     "output_type": "stream",
     "text": [
      "<__main__.TempClass object at 0x000001BCFEAD6DB0>\n",
      "<__main__.TempClass object at 0x000001BCFEAD6DB0>\n"
     ]
    }
   ],
   "source": [
    "a1 = TempClass(age=2,count=3,name=\"chunjae\")\n",
    "s1 = a1.printself()\n",
    "\n",
    "print(a1)\n",
    "print(s1)"
   ]
  },
  {
   "cell_type": "code",
   "execution_count": 37,
   "metadata": {},
   "outputs": [
    {
     "data": {
      "text/plain": [
       "{'name': 'chunjae', 'age': 2, 'count': 3, 'new_age': 12}"
      ]
     },
     "execution_count": 37,
     "metadata": {},
     "output_type": "execute_result"
    }
   ],
   "source": [
    "# 객체 인자 확인\n",
    "s1.__dict__"
   ]
  },
  {
   "cell_type": "code",
   "execution_count": 38,
   "metadata": {},
   "outputs": [
    {
     "data": {
      "text/plain": [
       "['addage', 'age', 'count', 'name', 'new_age', 'printall', 'printself']"
      ]
     },
     "execution_count": 38,
     "metadata": {},
     "output_type": "execute_result"
    }
   ],
   "source": [
    "[i for i in dir(s1) if '__' not in i]"
   ]
  },
  {
   "cell_type": "code",
   "execution_count": 41,
   "metadata": {},
   "outputs": [
    {
     "data": {
      "text/plain": [
       "{'name': 'jeongseok', 'age': 3, 'count': 1}"
      ]
     },
     "execution_count": 41,
     "metadata": {},
     "output_type": "execute_result"
    }
   ],
   "source": [
    "from easydict import EasyDict\n",
    "\n",
    "self = EasyDict(dict())\n",
    "self[\"name\"] = \"jeongseok\"\n",
    "self[\"age\"] = 3\n",
    "self[\"count\"] = 1\n",
    "\n",
    "s2 = self\n",
    "\n",
    "s2"
   ]
  },
  {
   "cell_type": "code",
   "execution_count": 42,
   "metadata": {},
   "outputs": [
    {
     "data": {
      "text/plain": [
       "{'name': 'jeongseok', 'age': 3, 'count': 1, 'hoho': 'ho'}"
      ]
     },
     "execution_count": 42,
     "metadata": {},
     "output_type": "execute_result"
    }
   ],
   "source": [
    "self.hoho = \"ho\"\n",
    "\n",
    "self"
   ]
  },
  {
   "cell_type": "markdown",
   "metadata": {},
   "source": [
    "### 1) DBConnector Class"
   ]
  },
  {
   "cell_type": "code",
   "execution_count": 43,
   "metadata": {},
   "outputs": [],
   "source": [
    "import psycopg2\n",
    "\n",
    "class DBConnector:\n",
    "    def __init__(self, host, database, user, password, port):\n",
    "        self.host = host\n",
    "        self.database = database\n",
    "        self.user = user\n",
    "        self.password = password\n",
    "        self.port = port\n",
    "\n",
    "    def postgres_connect(self):\n",
    "        print('<<< pssql_connector >>')\n",
    "        self.conn = psycopg2.connect(\n",
    "                                        host=self.host, \\\n",
    "                                        dbname=self.database, \\\n",
    "                                        user=self.user, \\\n",
    "                                        password=self.password, \\\n",
    "                                        port=self.port\n",
    "                                    )\n",
    "        return self"
   ]
  },
  {
   "cell_type": "code",
   "execution_count": null,
   "metadata": {},
   "outputs": [],
   "source": [
    "(host, database, user, password, port)"
   ]
  },
  {
   "cell_type": "code",
   "execution_count": 45,
   "metadata": {},
   "outputs": [
    {
     "name": "stdout",
     "output_type": "stream",
     "text": [
      "<<< pssql_connector >>\n"
     ]
    }
   ],
   "source": [
    "db_object = DBConnector(host, database, user, password, port)\n",
    "db_conn = db_object.postgres_connect().conn\n",
    "\n",
    "cursor=db_conn.cursor()"
   ]
  },
  {
   "cell_type": "code",
   "execution_count": 46,
   "metadata": {},
   "outputs": [
    {
     "data": {
      "text/plain": [
       "[(6, 'Margaret', 1880, 'F', 1578),\n",
       " (7, 'Ida', 1880, 'F', 1472),\n",
       " (8, 'Alice', 1880, 'F', 1414),\n",
       " (9, 'Bertha', 1880, 'F', 1320),\n",
       " (10, 'Sarah', 1880, 'F', 1288)]"
      ]
     },
     "execution_count": 46,
     "metadata": {},
     "output_type": "execute_result"
    }
   ],
   "source": [
    "cursor.execute(\"SELECT * FROM lecture LIMIT 5\")\n",
    "cursor.fetchall()"
   ]
  },
  {
   "cell_type": "markdown",
   "metadata": {},
   "source": [
    "##### 2) with문 적용\n",
    "Bad Case\n",
    "\n",
    "<img src=\"https://velog.velcdn.com/images/newnew_daddy/post/df312bda-0b22-4476-8a03-505f1d3cf5b4/image.png\" width=\"20%\">\n",
    "\n",
    "Good Case\n",
    "\n",
    "<img src=\"https://velog.velcdn.com/images/newnew_daddy/post/707d46b0-8a0b-4862-ad95-285dc04ddc29/image.png\" width=\"20%\">\n",
    "\n",
    "- Python에서 파일 또는 리소스 관리를 더 효과적으로 처리하기 위한 블록 구조\n",
    "- 리소스를 열고 사용한 후 자동으로 닫아주기 때문에 닫아주는 코드를 작성할 필요가 없습니다. \n",
    "- 주로 파일 입출력, 데이터베이스 연결, 네트워크 연결 등 리소스 관리에 사용됩니다.\n",
    "\n",
    "    ```\n",
    "    with문을 사용할 때는 with 키워드 다음에 리소스를 관리하는 객체를 생성하는 표현식을 사용하며, \n",
    "    이 객체는 __enter__와 __exit__ 메소드를 구현해야 합니다. \n",
    "    with 블록 내에서 리소스를 사용하고 블록을 벗어나면 __exit__ 메소드가 호출되어 리소스를 정리합니다.\n",
    "\n",
    "    -ChatGPT-\n",
    "    ```"
   ]
  },
  {
   "cell_type": "code",
   "execution_count": null,
   "metadata": {},
   "outputs": [],
   "source": [
    "file = open('temp.txt', 'a')\n",
    "file.write(\"1\")\n",
    "file.write(\"2\")\n",
    "\n",
    "file.close()"
   ]
  },
  {
   "cell_type": "code",
   "execution_count": 48,
   "metadata": {},
   "outputs": [
    {
     "ename": "TypeError",
     "evalue": "'DBConnector' object does not support the context manager protocol",
     "output_type": "error",
     "traceback": [
      "\u001b[1;31m---------------------------------------------------------------------------\u001b[0m",
      "\u001b[1;31mTypeError\u001b[0m                                 Traceback (most recent call last)",
      "Cell \u001b[1;32mIn[48], line 3\u001b[0m\n\u001b[0;32m      1\u001b[0m db_object \u001b[38;5;241m=\u001b[39m DBConnector(host, database, user, password, port)\n\u001b[1;32m----> 3\u001b[0m \u001b[38;5;28;01mwith\u001b[39;00m db_object \u001b[38;5;28;01mas\u001b[39;00m connected:\n\u001b[0;32m      4\u001b[0m     db_conn \u001b[38;5;241m=\u001b[39m connected\u001b[38;5;241m.\u001b[39mconn\n\u001b[0;32m      5\u001b[0m     cursor\u001b[38;5;241m=\u001b[39mdb_conn\u001b[38;5;241m.\u001b[39mcursor()\n",
      "\u001b[1;31mTypeError\u001b[0m: 'DBConnector' object does not support the context manager protocol"
     ]
    }
   ],
   "source": [
    "db_object = DBConnector(host, database, user, password, port)\n",
    "\n",
    "with db_object as connected:\n",
    "    db_conn = connected.conn\n",
    "    cursor=db_conn.cursor()\n",
    "\n",
    "    cursor.execute(\"SELECT * FROM lecture LIMIT 5\")\n",
    "    print(cursor.fetchall())"
   ]
  },
  {
   "cell_type": "code",
   "execution_count": 49,
   "metadata": {},
   "outputs": [],
   "source": [
    "class ContextManager:\n",
    "    def __init__(self, age):\n",
    "        print(\"Start! Class\")\n",
    "        self.age = age\n",
    "\n",
    "    def __enter__(self):\n",
    "        print(\"Enter\")\n",
    "\n",
    "    def __exit__(self, exc_type, exc_value, traceback):\n",
    "        print(\"Exit\")\n",
    "\n",
    "    def show(self):\n",
    "        print(self.age)\n",
    "        return self.__dict__"
   ]
  },
  {
   "cell_type": "code",
   "execution_count": 50,
   "metadata": {},
   "outputs": [
    {
     "name": "stdout",
     "output_type": "stream",
     "text": [
      "Start! Class\n",
      "Enter\n",
      "10\n",
      "{'age': 10}\n",
      "Exit\n"
     ]
    }
   ],
   "source": [
    "context = ContextManager(age=10)\n",
    "\n",
    "with context:\n",
    "    print(context.show())"
   ]
  },
  {
   "cell_type": "code",
   "execution_count": 54,
   "metadata": {},
   "outputs": [],
   "source": [
    "class DBConnector:\n",
    "    def __init__(self, host, database, user, password, port):\n",
    "        print(\"Start! Class\")\n",
    "        self.host = host\n",
    "        self.database = database\n",
    "        self.user = user\n",
    "        self.password = password\n",
    "        self.port = port\n",
    "        self.connect = self.postgres_connect()\n",
    "\n",
    "    def __enter__(self):\n",
    "        print(\"Enter\")\n",
    "        return self\n",
    "    \n",
    "    def __exit__(self, exc_type, exc_value, traceback):\n",
    "        self.conn.close()\n",
    "        print(\"Exit\")\n",
    "\n",
    "    def postgres_connect(self):\n",
    "        self.conn = psycopg2.connect(\n",
    "                                        host=self.host, \\\n",
    "                                        dbname=self.database, \\\n",
    "                                        user=self.user, \\\n",
    "                                        password=self.password, \\\n",
    "                                        port=self.port\n",
    "                                    )\n",
    "        return self"
   ]
  },
  {
   "cell_type": "code",
   "execution_count": 55,
   "metadata": {},
   "outputs": [
    {
     "name": "stdout",
     "output_type": "stream",
     "text": [
      "Start! Class\n"
     ]
    }
   ],
   "source": [
    "db_object = DBConnector(host, database, user, password, port)\n",
    "db_conn = db_object.postgres_connect().conn\n",
    "\n",
    "cursor=db_conn.cursor()"
   ]
  },
  {
   "cell_type": "code",
   "execution_count": 56,
   "metadata": {},
   "outputs": [
    {
     "name": "stdout",
     "output_type": "stream",
     "text": [
      "Start! Class\n",
      "Enter\n",
      "[(6, 'Margaret', 1880, 'F', 1578), (7, 'Ida', 1880, 'F', 1472), (8, 'Alice', 1880, 'F', 1414), (9, 'Bertha', 1880, 'F', 1320), (10, 'Sarah', 1880, 'F', 1288), (11, 'Annie', 1880, 'F', 1258), (12, 'Clara', 1880, 'F', 1226), (13, 'Ella', 1880, 'F', 1156), (14, 'Florence', 1880, 'F', 1063), (15, 'Cora', 1880, 'F', 1045)]\n",
      "Exit\n"
     ]
    }
   ],
   "source": [
    "db_object = DBConnector(host, database, user, password, port)\n",
    "\n",
    "with db_object as connected:\n",
    "    db_conn = connected.conn\n",
    "    cursor=db_conn.cursor()\n",
    "\n",
    "    cursor.execute(\"SELECT * FROM lecture LIMIT 10\")\n",
    "    print(cursor.fetchall())"
   ]
  },
  {
   "cell_type": "code",
   "execution_count": 57,
   "metadata": {},
   "outputs": [],
   "source": [
    "class DBConnector:\n",
    "    def __init__(self, host, database, user, password, port):\n",
    "        print(\"Start! Class\")\n",
    "        self.conn_params = dict(\n",
    "            host = host,\n",
    "            dbname = database,\n",
    "            user = user,\n",
    "            password = password,\n",
    "            port = port\n",
    "        )\n",
    "        self.host = host\n",
    "        self.database = database\n",
    "        self.user = user\n",
    "        self.password = password\n",
    "        self.port = port\n",
    "\n",
    "    def __enter__(self):\n",
    "        print(\"Enter\")\n",
    "        return self\n",
    "    \n",
    "    def __exit__(self, exc_type, exc_value, traceback):\n",
    "        self.conn.close()\n",
    "        print(\"Exit\")\n",
    "\n",
    "    def postgres_connect(self):\n",
    "        print(\"<<< postgres_connect >>>\")\n",
    "        self.conn = psycopg2.connect(\n",
    "                                        host=self.host, \\\n",
    "                                        dbname=self.database, \\\n",
    "                                        user=self.user, \\\n",
    "                                        password=self.password, \\\n",
    "                                        port=self.port\n",
    "                                    )\n",
    "        return self"
   ]
  },
  {
   "cell_type": "markdown",
   "metadata": {},
   "source": [
    "#### Asterisk(*)"
   ]
  },
  {
   "cell_type": "code",
   "execution_count": 58,
   "metadata": {},
   "outputs": [
    {
     "name": "stdout",
     "output_type": "stream",
     "text": [
      "one =  1\n",
      "two =  2\n"
     ]
    }
   ],
   "source": [
    "def func(one, two):\n",
    "    print(\"one = \", one)\n",
    "    print(\"two = \", two)\n",
    "\n",
    "func(1,2)"
   ]
  },
  {
   "cell_type": "code",
   "execution_count": 59,
   "metadata": {},
   "outputs": [
    {
     "name": "stdout",
     "output_type": "stream",
     "text": [
      "*args =  (1, 2, 3)\n",
      "6\n"
     ]
    }
   ],
   "source": [
    "# *args -> 이름이 정해지지 않은 변수가 여러개 있을때 사용\n",
    "\n",
    "def func(*args):\n",
    "    print(\"*args = \", args)\n",
    "    print(sum(args))\n",
    "\n",
    "func(1,2,3)"
   ]
  },
  {
   "cell_type": "code",
   "execution_count": 63,
   "metadata": {},
   "outputs": [
    {
     "name": "stdout",
     "output_type": "stream",
     "text": [
      "**kwargs =  {'one': 1, 'two': 2}\n"
     ]
    }
   ],
   "source": [
    "# **kwargs -> 이름이 정해진 변수가 여러개 있을때 사용\n",
    "\n",
    "def func(**kwargs):\n",
    "    print(\"**kwargs = \", kwargs)\n",
    "\n",
    "func(one=1,two=2)"
   ]
  },
  {
   "cell_type": "code",
   "execution_count": 69,
   "metadata": {},
   "outputs": [
    {
     "name": "stdout",
     "output_type": "stream",
     "text": [
      "Start! Class\n"
     ]
    },
    {
     "data": {
      "text/plain": [
       "{'host': 1, 'dbname': 2, 'user': 3, 'password': 4, 'port': 5}"
      ]
     },
     "execution_count": 69,
     "metadata": {},
     "output_type": "execute_result"
    }
   ],
   "source": [
    "test = DBConnector(1,2,3,4,5)\n",
    "\n",
    "test.conn_params"
   ]
  },
  {
   "cell_type": "code",
   "execution_count": 70,
   "metadata": {},
   "outputs": [
    {
     "name": "stdout",
     "output_type": "stream",
     "text": [
      "Start! Class\n"
     ]
    },
    {
     "data": {
      "text/plain": [
       "{'host': 1, 'dbname': 2, 'user': 3, 'password': 4, 'port': 5}"
      ]
     },
     "execution_count": 70,
     "metadata": {},
     "output_type": "execute_result"
    }
   ],
   "source": [
    "# LIST\n",
    "args = [1,2,3,4,5]\n",
    "\n",
    "list_params = DBConnector(*args)\n",
    "\n",
    "list_params.conn_params"
   ]
  },
  {
   "cell_type": "code",
   "execution_count": 71,
   "metadata": {},
   "outputs": [
    {
     "name": "stdout",
     "output_type": "stream",
     "text": [
      "Start! Class\n"
     ]
    },
    {
     "data": {
      "text/plain": [
       "{'host': 1, 'dbname': 2, 'user': 3, 'password': 4, 'port': 5}"
      ]
     },
     "execution_count": 71,
     "metadata": {},
     "output_type": "execute_result"
    }
   ],
   "source": [
    "# DICT\n",
    "\n",
    "kwargs = dict(\n",
    "            host = 1,\n",
    "            database = 2,\n",
    "            user = 3,\n",
    "            password = 4,\n",
    "            port =5\n",
    ")\n",
    "\n",
    "dict_params = DBConnector(**kwargs)\n",
    "\n",
    "dict_params.conn_params"
   ]
  },
  {
   "cell_type": "code",
   "execution_count": 5,
   "metadata": {},
   "outputs": [],
   "source": [
    "class DBConnector:\n",
    "    def __init__(self, host, database, user, password, port):\n",
    "        print(\"Start DBConnector!\")\n",
    "        self.conn_params = dict(\n",
    "            host = host,\n",
    "            dbname = database,\n",
    "            user = user,\n",
    "            password = password,\n",
    "            port = port\n",
    "        )\n",
    "        self.connect = self.postgres_connect()\n",
    "\n",
    "    def __enter__(self):\n",
    "        print(\"Enter\")\n",
    "        return self\n",
    "\n",
    "    def __exit__(self, exc_type, exc_value, traceback):\n",
    "        self.conn.close()\n",
    "        print(\"Exit\")\n",
    "\n",
    "    def postgres_connect(self):\n",
    "        self.conn = psycopg2.connect(**self.conn_params)\n",
    "        return self"
   ]
  },
  {
   "cell_type": "code",
   "execution_count": 75,
   "metadata": {},
   "outputs": [
    {
     "name": "stdout",
     "output_type": "stream",
     "text": [
      "Start DBConnector!\n",
      "Enter\n",
      "[(6, 'Margaret', 1880, 'F', 1578), (7, 'Ida', 1880, 'F', 1472), (8, 'Alice', 1880, 'F', 1414), (9, 'Bertha', 1880, 'F', 1320), (10, 'Sarah', 1880, 'F', 1288)]\n",
      "Exit\n"
     ]
    }
   ],
   "source": [
    "db_object = DBConnector(host, database, user, password, port)\n",
    "\n",
    "with db_object as connected:\n",
    "    db_conn = connected.conn\n",
    "    cursor=db_conn.cursor()\n",
    "\n",
    "    cursor.execute(\"SELECT * FROM lecture LIMIT 5\")\n",
    "    print(cursor.fetchall())"
   ]
  },
  {
   "cell_type": "markdown",
   "metadata": {},
   "source": [
    "#### .env 적용한 connection"
   ]
  },
  {
   "cell_type": "code",
   "execution_count": 1,
   "metadata": {},
   "outputs": [],
   "source": [
    "import dotenv, psycopg2\n",
    "\n",
    "env_path = dotenv.find_dotenv()\n",
    "# print(env_path)\n",
    "dotenv.load_dotenv(env_path)\n",
    "\n",
    "import os\n",
    "from dotenv import load_dotenv\n",
    "\n",
    "load_dotenv()\n",
    "\n",
    "engine   = os.getenv(\"POSTGRES_ENGINE\")\n",
    "user     = os.getenv(\"POSTGRES_USER\")\n",
    "password = os.getenv(\"POSTGRES_PASSWORD\")\n",
    "host     = os.getenv(\"POSTGRES_HOST\")\n",
    "port     = os.getenv(\"POSTGRES_PORT\")\n",
    "database = os.getenv(\"POSTGRES_DB\")"
   ]
  },
  {
   "cell_type": "code",
   "execution_count": 2,
   "metadata": {},
   "outputs": [],
   "source": [
    "DB_SETTINGS = {\n",
    "    \"POSTGRES\": {\n",
    "        'host': os.getenv(\"POSTGRES_HOST\"),\n",
    "        'database': os.getenv(\"POSTGRES_DB\"),\n",
    "        'user': os.getenv(\"POSTGRES_USER\"),\n",
    "        'password': os.getenv(\"POSTGRES_PASSWORD\"),\n",
    "        'port': os.getenv(\"POSTGRES_PORT\")\n",
    "    }\n",
    "}"
   ]
  },
  {
   "cell_type": "code",
   "execution_count": null,
   "metadata": {},
   "outputs": [],
   "source": [
    "DB_SETTINGS['POSTGRES']"
   ]
  },
  {
   "cell_type": "code",
   "execution_count": 6,
   "metadata": {},
   "outputs": [
    {
     "name": "stdout",
     "output_type": "stream",
     "text": [
      "Start DBConnector!\n",
      "Enter\n",
      "Exit\n"
     ]
    },
    {
     "ename": "UndefinedTable",
     "evalue": "오류:  \"lecture\" 이름의 릴레이션(relation)이 없습니다\nLINE 1: SELECT * FROM lecture LIMIT 5\n                      ^\n",
     "output_type": "error",
     "traceback": [
      "\u001b[1;31m---------------------------------------------------------------------------\u001b[0m",
      "\u001b[1;31mUndefinedTable\u001b[0m                            Traceback (most recent call last)",
      "Cell \u001b[1;32mIn[6], line 7\u001b[0m\n\u001b[0;32m      4\u001b[0m db_conn \u001b[38;5;241m=\u001b[39m connected\u001b[38;5;241m.\u001b[39mconn\n\u001b[0;32m      5\u001b[0m cursor\u001b[38;5;241m=\u001b[39mdb_conn\u001b[38;5;241m.\u001b[39mcursor()\n\u001b[1;32m----> 7\u001b[0m \u001b[43mcursor\u001b[49m\u001b[38;5;241;43m.\u001b[39;49m\u001b[43mexecute\u001b[49m\u001b[43m(\u001b[49m\u001b[38;5;124;43m\"\u001b[39;49m\u001b[38;5;124;43mSELECT * FROM lecture LIMIT 5\u001b[39;49m\u001b[38;5;124;43m\"\u001b[39;49m\u001b[43m)\u001b[49m\n\u001b[0;32m      8\u001b[0m \u001b[38;5;28mprint\u001b[39m(cursor\u001b[38;5;241m.\u001b[39mfetchall())\n",
      "\u001b[1;31mUndefinedTable\u001b[0m: 오류:  \"lecture\" 이름의 릴레이션(relation)이 없습니다\nLINE 1: SELECT * FROM lecture LIMIT 5\n                      ^\n"
     ]
    }
   ],
   "source": [
    "db_object = DBConnector(**DB_SETTINGS['POSTGRES'])\n",
    "\n",
    "with db_object as connected:\n",
    "    db_conn = connected.conn\n",
    "    cursor=db_conn.cursor()\n",
    "\n",
    "    cursor.execute(\"SELECT * FROM lecture LIMIT 5\")\n",
    "    print(cursor.fetchall())"
   ]
  },
  {
   "cell_type": "code",
   "execution_count": 83,
   "metadata": {},
   "outputs": [],
   "source": [
    "DB_SETTINGS = {\n",
    "    \"POSTGRES\": {\n",
    "        'host': os.getenv(\"POSTGRES_HOST\"),\n",
    "        'database': os.getenv(\"POSTGRES_DB\"),\n",
    "        'user': os.getenv(\"POSTGRES_USER\"),\n",
    "        'password': os.getenv(\"POSTGRES_PASSWORD\"),\n",
    "        'port': os.getenv(\"POSTGRES_PORT\")\n",
    "    },\n",
    "    \"KDT9\": {\n",
    "        'host': os.getenv(\"POSTGRES_HOST\"),\n",
    "        'database': os.getenv(\"POSTGRES_DB_2\"),\n",
    "        'user': os.getenv(\"POSTGRES_USER\"),\n",
    "        'password': os.getenv(\"POSTGRES_PASSWORD\"),\n",
    "        'port': os.getenv(\"POSTGRES_PORT\")\n",
    "    }\n",
    "}"
   ]
  },
  {
   "cell_type": "code",
   "execution_count": 85,
   "metadata": {},
   "outputs": [
    {
     "name": "stdout",
     "output_type": "stream",
     "text": [
      "Start DBConnector!\n",
      "Enter\n",
      "[('postgres', 'pg_catalog', 'pg_statistic', 'BASE TABLE', None, None, None, None, None, 'YES', 'NO', None), ('postgres', 'pg_catalog', 'pg_type', 'BASE TABLE', None, None, None, None, None, 'YES', 'NO', None), ('postgres', 'pg_catalog', 'pg_foreign_table', 'BASE TABLE', None, None, None, None, None, 'YES', 'NO', None), ('postgres', 'pg_catalog', 'pg_authid', 'BASE TABLE', None, None, None, None, None, 'YES', 'NO', None), ('postgres', 'pg_catalog', 'pg_shadow', 'VIEW', None, None, None, None, None, 'NO', 'NO', None), ('postgres', 'public', 'first', 'BASE TABLE', None, None, None, None, None, 'YES', 'NO', None), ('postgres', 'pg_catalog', 'pg_roles', 'VIEW', None, None, None, None, None, 'NO', 'NO', None), ('postgres', 'pg_catalog', 'pg_statistic_ext_data', 'BASE TABLE', None, None, None, None, None, 'YES', 'NO', None), ('postgres', 'pg_catalog', 'pg_hba_file_rules', 'VIEW', None, None, None, None, None, 'NO', 'NO', None), ('postgres', 'pg_catalog', 'pg_settings', 'VIEW', None, None, None, None, None, 'NO', 'NO', None), ('postgres', 'pg_catalog', 'pg_file_settings', 'VIEW', None, None, None, None, None, 'NO', 'NO', None), ('postgres', 'pg_catalog', 'pg_backend_memory_contexts', 'VIEW', None, None, None, None, None, 'NO', 'NO', None), ('postgres', 'pg_catalog', 'pg_ident_file_mappings', 'VIEW', None, None, None, None, None, 'NO', 'NO', None), ('postgres', 'pg_catalog', 'pg_config', 'VIEW', None, None, None, None, None, 'NO', 'NO', None), ('postgres', 'pg_catalog', 'pg_shmem_allocations', 'VIEW', None, None, None, None, None, 'NO', 'NO', None), ('postgres', 'pg_catalog', 'pg_tables', 'VIEW', None, None, None, None, None, 'NO', 'NO', None), ('postgres', 'pg_catalog', 'pg_user_mapping', 'BASE TABLE', None, None, None, None, None, 'YES', 'NO', None), ('postgres', 'pg_catalog', 'pg_statio_all_sequences', 'VIEW', None, None, None, None, None, 'NO', 'NO', None), ('postgres', 'pg_catalog', 'pg_replication_origin_status', 'VIEW', None, None, None, None, None, 'NO', 'NO', None), ('postgres', 'pg_catalog', 'pg_subscription', 'BASE TABLE', None, None, None, None, None, 'YES', 'NO', None), ('postgres', 'pg_catalog', 'pg_attribute', 'BASE TABLE', None, None, None, None, None, 'YES', 'NO', None), ('postgres', 'pg_catalog', 'pg_proc', 'BASE TABLE', None, None, None, None, None, 'YES', 'NO', None), ('postgres', 'pg_catalog', 'pg_class', 'BASE TABLE', None, None, None, None, None, 'YES', 'NO', None), ('postgres', 'pg_catalog', 'pg_attrdef', 'BASE TABLE', None, None, None, None, None, 'YES', 'NO', None), ('postgres', 'pg_catalog', 'pg_statio_sys_sequences', 'VIEW', None, None, None, None, None, 'NO', 'NO', None), ('postgres', 'pg_catalog', 'pg_statio_user_sequences', 'VIEW', None, None, None, None, None, 'NO', 'NO', None), ('postgres', 'pg_catalog', 'pg_constraint', 'BASE TABLE', None, None, None, None, None, 'YES', 'NO', None), ('postgres', 'pg_catalog', 'pg_inherits', 'BASE TABLE', None, None, None, None, None, 'YES', 'NO', None), ('postgres', 'pg_catalog', 'pg_index', 'BASE TABLE', None, None, None, None, None, 'YES', 'NO', None), ('postgres', 'pg_catalog', 'pg_operator', 'BASE TABLE', None, None, None, None, None, 'YES', 'NO', None), ('postgres', 'pg_catalog', 'pg_opfamily', 'BASE TABLE', None, None, None, None, None, 'YES', 'NO', None), ('postgres', 'pg_catalog', 'pg_opclass', 'BASE TABLE', None, None, None, None, None, 'YES', 'NO', None), ('postgres', 'pg_catalog', 'pg_am', 'BASE TABLE', None, None, None, None, None, 'YES', 'NO', None), ('postgres', 'pg_catalog', 'pg_amop', 'BASE TABLE', None, None, None, None, None, 'YES', 'NO', None), ('postgres', 'pg_catalog', 'pg_amproc', 'BASE TABLE', None, None, None, None, None, 'YES', 'NO', None), ('postgres', 'pg_catalog', 'pg_language', 'BASE TABLE', None, None, None, None, None, 'YES', 'NO', None), ('postgres', 'pg_catalog', 'pg_largeobject_metadata', 'BASE TABLE', None, None, None, None, None, 'YES', 'NO', None), ('postgres', 'pg_catalog', 'pg_aggregate', 'BASE TABLE', None, None, None, None, None, 'YES', 'NO', None), ('postgres', 'pg_catalog', 'pg_statistic_ext', 'BASE TABLE', None, None, None, None, None, 'YES', 'NO', None), ('postgres', 'pg_catalog', 'pg_rewrite', 'BASE TABLE', None, None, None, None, None, 'YES', 'NO', None), ('postgres', 'pg_catalog', 'pg_trigger', 'BASE TABLE', None, None, None, None, None, 'YES', 'NO', None), ('postgres', 'pg_catalog', 'pg_event_trigger', 'BASE TABLE', None, None, None, None, None, 'YES', 'NO', None), ('postgres', 'pg_catalog', 'pg_description', 'BASE TABLE', None, None, None, None, None, 'YES', 'NO', None), ('postgres', 'pg_catalog', 'pg_cast', 'BASE TABLE', None, None, None, None, None, 'YES', 'NO', None), ('postgres', 'pg_catalog', 'pg_enum', 'BASE TABLE', None, None, None, None, None, 'YES', 'NO', None), ('postgres', 'pg_catalog', 'pg_namespace', 'BASE TABLE', None, None, None, None, None, 'YES', 'NO', None), ('postgres', 'pg_catalog', 'pg_conversion', 'BASE TABLE', None, None, None, None, None, 'YES', 'NO', None), ('postgres', 'pg_catalog', 'pg_depend', 'BASE TABLE', None, None, None, None, None, 'YES', 'NO', None), ('postgres', 'pg_catalog', 'pg_database', 'BASE TABLE', None, None, None, None, None, 'YES', 'NO', None), ('postgres', 'pg_catalog', 'pg_db_role_setting', 'BASE TABLE', None, None, None, None, None, 'YES', 'NO', None), ('postgres', 'pg_catalog', 'pg_tablespace', 'BASE TABLE', None, None, None, None, None, 'YES', 'NO', None), ('postgres', 'pg_catalog', 'pg_auth_members', 'BASE TABLE', None, None, None, None, None, 'YES', 'NO', None), ('postgres', 'pg_catalog', 'pg_shdepend', 'BASE TABLE', None, None, None, None, None, 'YES', 'NO', None), ('postgres', 'pg_catalog', 'pg_shdescription', 'BASE TABLE', None, None, None, None, None, 'YES', 'NO', None), ('postgres', 'pg_catalog', 'pg_ts_config', 'BASE TABLE', None, None, None, None, None, 'YES', 'NO', None), ('postgres', 'pg_catalog', 'pg_ts_config_map', 'BASE TABLE', None, None, None, None, None, 'YES', 'NO', None), ('postgres', 'pg_catalog', 'pg_ts_dict', 'BASE TABLE', None, None, None, None, None, 'YES', 'NO', None), ('postgres', 'pg_catalog', 'pg_ts_parser', 'BASE TABLE', None, None, None, None, None, 'YES', 'NO', None), ('postgres', 'pg_catalog', 'pg_ts_template', 'BASE TABLE', None, None, None, None, None, 'YES', 'NO', None), ('postgres', 'pg_catalog', 'pg_extension', 'BASE TABLE', None, None, None, None, None, 'YES', 'NO', None), ('postgres', 'pg_catalog', 'pg_foreign_data_wrapper', 'BASE TABLE', None, None, None, None, None, 'YES', 'NO', None), ('postgres', 'pg_catalog', 'pg_foreign_server', 'BASE TABLE', None, None, None, None, None, 'YES', 'NO', None), ('postgres', 'pg_catalog', 'pg_policy', 'BASE TABLE', None, None, None, None, None, 'YES', 'NO', None), ('postgres', 'pg_catalog', 'pg_replication_origin', 'BASE TABLE', None, None, None, None, None, 'YES', 'NO', None), ('postgres', 'pg_catalog', 'pg_default_acl', 'BASE TABLE', None, None, None, None, None, 'YES', 'NO', None), ('postgres', 'pg_catalog', 'pg_init_privs', 'BASE TABLE', None, None, None, None, None, 'YES', 'NO', None), ('postgres', 'pg_catalog', 'pg_seclabel', 'BASE TABLE', None, None, None, None, None, 'YES', 'NO', None), ('postgres', 'pg_catalog', 'pg_shseclabel', 'BASE TABLE', None, None, None, None, None, 'YES', 'NO', None), ('postgres', 'pg_catalog', 'pg_collation', 'BASE TABLE', None, None, None, None, None, 'YES', 'NO', None), ('postgres', 'pg_catalog', 'pg_parameter_acl', 'BASE TABLE', None, None, None, None, None, 'YES', 'NO', None), ('postgres', 'pg_catalog', 'pg_partitioned_table', 'BASE TABLE', None, None, None, None, None, 'YES', 'NO', None), ('postgres', 'pg_catalog', 'pg_range', 'BASE TABLE', None, None, None, None, None, 'YES', 'NO', None), ('postgres', 'pg_catalog', 'pg_transform', 'BASE TABLE', None, None, None, None, None, 'YES', 'NO', None), ('postgres', 'pg_catalog', 'pg_sequence', 'BASE TABLE', None, None, None, None, None, 'YES', 'NO', None), ('postgres', 'pg_catalog', 'pg_publication', 'BASE TABLE', None, None, None, None, None, 'YES', 'NO', None), ('postgres', 'pg_catalog', 'pg_publication_namespace', 'BASE TABLE', None, None, None, None, None, 'YES', 'NO', None), ('postgres', 'pg_catalog', 'pg_publication_rel', 'BASE TABLE', None, None, None, None, None, 'YES', 'NO', None), ('postgres', 'pg_catalog', 'pg_subscription_rel', 'BASE TABLE', None, None, None, None, None, 'YES', 'NO', None), ('postgres', 'pg_catalog', 'pg_group', 'VIEW', None, None, None, None, None, 'YES', 'NO', None), ('postgres', 'pg_catalog', 'pg_user', 'VIEW', None, None, None, None, None, 'NO', 'NO', None), ('postgres', 'pg_catalog', 'pg_policies', 'VIEW', None, None, None, None, None, 'NO', 'NO', None), ('postgres', 'pg_catalog', 'pg_rules', 'VIEW', None, None, None, None, None, 'NO', 'NO', None), ('postgres', 'pg_catalog', 'pg_views', 'VIEW', None, None, None, None, None, 'NO', 'NO', None), ('postgres', 'pg_catalog', 'pg_matviews', 'VIEW', None, None, None, None, None, 'NO', 'NO', None), ('postgres', 'pg_catalog', 'pg_indexes', 'VIEW', None, None, None, None, None, 'NO', 'NO', None), ('postgres', 'pg_catalog', 'pg_sequences', 'VIEW', None, None, None, None, None, 'NO', 'NO', None), ('postgres', 'pg_catalog', 'pg_stats', 'VIEW', None, None, None, None, None, 'NO', 'NO', None), ('postgres', 'pg_catalog', 'pg_stats_ext', 'VIEW', None, None, None, None, None, 'NO', 'NO', None), ('postgres', 'pg_catalog', 'pg_stats_ext_exprs', 'VIEW', None, None, None, None, None, 'NO', 'NO', None), ('postgres', 'pg_catalog', 'pg_publication_tables', 'VIEW', None, None, None, None, None, 'NO', 'NO', None), ('postgres', 'pg_catalog', 'pg_locks', 'VIEW', None, None, None, None, None, 'NO', 'NO', None), ('postgres', 'pg_catalog', 'pg_cursors', 'VIEW', None, None, None, None, None, 'NO', 'NO', None), ('postgres', 'pg_catalog', 'pg_available_extensions', 'VIEW', None, None, None, None, None, 'NO', 'NO', None), ('postgres', 'pg_catalog', 'pg_available_extension_versions', 'VIEW', None, None, None, None, None, 'NO', 'NO', None), ('postgres', 'pg_catalog', 'pg_prepared_xacts', 'VIEW', None, None, None, None, None, 'NO', 'NO', None), ('postgres', 'pg_catalog', 'pg_prepared_statements', 'VIEW', None, None, None, None, None, 'NO', 'NO', None), ('postgres', 'pg_catalog', 'pg_seclabels', 'VIEW', None, None, None, None, None, 'NO', 'NO', None), ('postgres', 'pg_catalog', 'pg_timezone_abbrevs', 'VIEW', None, None, None, None, None, 'NO', 'NO', None), ('postgres', 'pg_catalog', 'pg_timezone_names', 'VIEW', None, None, None, None, None, 'NO', 'NO', None), ('postgres', 'pg_catalog', 'pg_stat_all_tables', 'VIEW', None, None, None, None, None, 'NO', 'NO', None), ('postgres', 'pg_catalog', 'pg_stat_xact_all_tables', 'VIEW', None, None, None, None, None, 'NO', 'NO', None), ('postgres', 'pg_catalog', 'pg_stat_xact_user_tables', 'VIEW', None, None, None, None, None, 'NO', 'NO', None), ('postgres', 'pg_catalog', 'pg_stat_sys_tables', 'VIEW', None, None, None, None, None, 'NO', 'NO', None), ('postgres', 'pg_catalog', 'pg_stat_xact_sys_tables', 'VIEW', None, None, None, None, None, 'NO', 'NO', None), ('postgres', 'pg_catalog', 'pg_stat_user_tables', 'VIEW', None, None, None, None, None, 'NO', 'NO', None), ('postgres', 'pg_catalog', 'pg_statio_all_tables', 'VIEW', None, None, None, None, None, 'NO', 'NO', None), ('postgres', 'pg_catalog', 'pg_statio_sys_tables', 'VIEW', None, None, None, None, None, 'NO', 'NO', None), ('postgres', 'pg_catalog', 'pg_statio_user_tables', 'VIEW', None, None, None, None, None, 'NO', 'NO', None), ('postgres', 'pg_catalog', 'pg_stat_all_indexes', 'VIEW', None, None, None, None, None, 'NO', 'NO', None), ('postgres', 'pg_catalog', 'pg_stat_sys_indexes', 'VIEW', None, None, None, None, None, 'NO', 'NO', None), ('postgres', 'pg_catalog', 'pg_stat_user_indexes', 'VIEW', None, None, None, None, None, 'NO', 'NO', None), ('postgres', 'pg_catalog', 'pg_statio_all_indexes', 'VIEW', None, None, None, None, None, 'NO', 'NO', None), ('postgres', 'pg_catalog', 'pg_statio_sys_indexes', 'VIEW', None, None, None, None, None, 'NO', 'NO', None), ('postgres', 'pg_catalog', 'pg_statio_user_indexes', 'VIEW', None, None, None, None, None, 'NO', 'NO', None), ('postgres', 'pg_catalog', 'pg_stat_activity', 'VIEW', None, None, None, None, None, 'NO', 'NO', None), ('postgres', 'pg_catalog', 'pg_stat_replication', 'VIEW', None, None, None, None, None, 'NO', 'NO', None), ('postgres', 'pg_catalog', 'pg_stat_slru', 'VIEW', None, None, None, None, None, 'NO', 'NO', None), ('postgres', 'pg_catalog', 'pg_stat_wal_receiver', 'VIEW', None, None, None, None, None, 'NO', 'NO', None), ('postgres', 'pg_catalog', 'pg_stat_recovery_prefetch', 'VIEW', None, None, None, None, None, 'NO', 'NO', None), ('postgres', 'pg_catalog', 'pg_stat_subscription', 'VIEW', None, None, None, None, None, 'NO', 'NO', None), ('postgres', 'pg_catalog', 'pg_stat_ssl', 'VIEW', None, None, None, None, None, 'NO', 'NO', None), ('postgres', 'pg_catalog', 'pg_stat_gssapi', 'VIEW', None, None, None, None, None, 'NO', 'NO', None), ('postgres', 'pg_catalog', 'pg_replication_slots', 'VIEW', None, None, None, None, None, 'NO', 'NO', None), ('postgres', 'pg_catalog', 'pg_stat_replication_slots', 'VIEW', None, None, None, None, None, 'NO', 'NO', None), ('postgres', 'pg_catalog', 'pg_stat_database', 'VIEW', None, None, None, None, None, 'NO', 'NO', None), ('postgres', 'pg_catalog', 'pg_stat_database_conflicts', 'VIEW', None, None, None, None, None, 'YES', 'NO', None), ('postgres', 'pg_catalog', 'pg_stat_user_functions', 'VIEW', None, None, None, None, None, 'NO', 'NO', None), ('postgres', 'pg_catalog', 'pg_stat_xact_user_functions', 'VIEW', None, None, None, None, None, 'NO', 'NO', None), ('postgres', 'pg_catalog', 'pg_stat_archiver', 'VIEW', None, None, None, None, None, 'NO', 'NO', None), ('postgres', 'pg_catalog', 'pg_stat_bgwriter', 'VIEW', None, None, None, None, None, 'NO', 'NO', None), ('postgres', 'pg_catalog', 'pg_stat_checkpointer', 'VIEW', None, None, None, None, None, 'NO', 'NO', None), ('postgres', 'pg_catalog', 'pg_stat_io', 'VIEW', None, None, None, None, None, 'NO', 'NO', None), ('postgres', 'pg_catalog', 'pg_stat_wal', 'VIEW', None, None, None, None, None, 'NO', 'NO', None), ('postgres', 'pg_catalog', 'pg_stat_progress_analyze', 'VIEW', None, None, None, None, None, 'NO', 'NO', None), ('postgres', 'pg_catalog', 'pg_stat_progress_vacuum', 'VIEW', None, None, None, None, None, 'NO', 'NO', None), ('postgres', 'pg_catalog', 'pg_stat_progress_cluster', 'VIEW', None, None, None, None, None, 'NO', 'NO', None), ('postgres', 'pg_catalog', 'pg_stat_progress_create_index', 'VIEW', None, None, None, None, None, 'NO', 'NO', None), ('postgres', 'pg_catalog', 'pg_stat_progress_basebackup', 'VIEW', None, None, None, None, None, 'NO', 'NO', None), ('postgres', 'pg_catalog', 'pg_stat_progress_copy', 'VIEW', None, None, None, None, None, 'NO', 'NO', None), ('postgres', 'pg_catalog', 'pg_user_mappings', 'VIEW', None, None, None, None, None, 'NO', 'NO', None), ('postgres', 'pg_catalog', 'pg_stat_subscription_stats', 'VIEW', None, None, None, None, None, 'NO', 'NO', None), ('postgres', 'pg_catalog', 'pg_wait_events', 'VIEW', None, None, None, None, None, 'NO', 'NO', None), ('postgres', 'pg_catalog', 'pg_largeobject', 'BASE TABLE', None, None, None, None, None, 'YES', 'NO', None), ('postgres', 'information_schema', 'column_column_usage', 'VIEW', None, None, None, None, None, 'NO', 'NO', None), ('postgres', 'information_schema', 'information_schema_catalog_name', 'VIEW', None, None, None, None, None, 'NO', 'NO', None), ('postgres', 'information_schema', 'check_constraints', 'VIEW', None, None, None, None, None, 'NO', 'NO', None), ('postgres', 'information_schema', 'applicable_roles', 'VIEW', None, None, None, None, None, 'NO', 'NO', None), ('postgres', 'information_schema', 'administrable_role_authorizations', 'VIEW', None, None, None, None, None, 'NO', 'NO', None), ('postgres', 'information_schema', 'attributes', 'VIEW', None, None, None, None, None, 'NO', 'NO', None), ('postgres', 'information_schema', 'collations', 'VIEW', None, None, None, None, None, 'NO', 'NO', None), ('postgres', 'information_schema', 'character_sets', 'VIEW', None, None, None, None, None, 'NO', 'NO', None), ('postgres', 'information_schema', 'check_constraint_routine_usage', 'VIEW', None, None, None, None, None, 'NO', 'NO', None), ('postgres', 'information_schema', 'column_privileges', 'VIEW', None, None, None, None, None, 'NO', 'NO', None), ('postgres', 'information_schema', 'collation_character_set_applicability', 'VIEW', None, None, None, None, None, 'NO', 'NO', None), ('postgres', 'information_schema', 'column_domain_usage', 'VIEW', None, None, None, None, None, 'NO', 'NO', None), ('postgres', 'information_schema', 'column_udt_usage', 'VIEW', None, None, None, None, None, 'NO', 'NO', None), ('postgres', 'information_schema', 'columns', 'VIEW', None, None, None, None, None, 'NO', 'NO', None), ('postgres', 'information_schema', 'constraint_column_usage', 'VIEW', None, None, None, None, None, 'NO', 'NO', None), ('postgres', 'information_schema', 'constraint_table_usage', 'VIEW', None, None, None, None, None, 'NO', 'NO', None), ('postgres', 'information_schema', 'domain_constraints', 'VIEW', None, None, None, None, None, 'NO', 'NO', None), ('postgres', 'information_schema', 'routine_table_usage', 'VIEW', None, None, None, None, None, 'NO', 'NO', None), ('postgres', 'information_schema', 'domain_udt_usage', 'VIEW', None, None, None, None, None, 'NO', 'NO', None), ('postgres', 'information_schema', 'domains', 'VIEW', None, None, None, None, None, 'NO', 'NO', None), ('postgres', 'information_schema', 'enabled_roles', 'VIEW', None, None, None, None, None, 'NO', 'NO', None), ('postgres', 'information_schema', 'routines', 'VIEW', None, None, None, None, None, 'NO', 'NO', None), ('postgres', 'information_schema', 'key_column_usage', 'VIEW', None, None, None, None, None, 'NO', 'NO', None), ('postgres', 'information_schema', 'parameters', 'VIEW', None, None, None, None, None, 'NO', 'NO', None), ('postgres', 'information_schema', 'referential_constraints', 'VIEW', None, None, None, None, None, 'NO', 'NO', None), ('postgres', 'information_schema', 'schemata', 'VIEW', None, None, None, None, None, 'NO', 'NO', None), ('postgres', 'information_schema', 'role_column_grants', 'VIEW', None, None, None, None, None, 'NO', 'NO', None), ('postgres', 'information_schema', 'routine_column_usage', 'VIEW', None, None, None, None, None, 'NO', 'NO', None), ('postgres', 'information_schema', 'sql_parts', 'BASE TABLE', None, None, None, None, None, 'YES', 'NO', None), ('postgres', 'information_schema', 'routine_privileges', 'VIEW', None, None, None, None, None, 'NO', 'NO', None), ('postgres', 'information_schema', 'sequences', 'VIEW', None, None, None, None, None, 'NO', 'NO', None), ('postgres', 'information_schema', 'role_routine_grants', 'VIEW', None, None, None, None, None, 'NO', 'NO', None), ('postgres', 'information_schema', 'routine_routine_usage', 'VIEW', None, None, None, None, None, 'NO', 'NO', None), ('postgres', 'information_schema', 'routine_sequence_usage', 'VIEW', None, None, None, None, None, 'NO', 'NO', None), ('postgres', 'information_schema', 'sql_features', 'BASE TABLE', None, None, None, None, None, 'YES', 'NO', None), ('postgres', 'information_schema', 'sql_implementation_info', 'BASE TABLE', None, None, None, None, None, 'YES', 'NO', None), ('postgres', 'information_schema', 'role_table_grants', 'VIEW', None, None, None, None, None, 'NO', 'NO', None), ('postgres', 'information_schema', 'sql_sizing', 'BASE TABLE', None, None, None, None, None, 'YES', 'NO', None), ('postgres', 'information_schema', 'table_privileges', 'VIEW', None, None, None, None, None, 'NO', 'NO', None), ('postgres', 'information_schema', 'table_constraints', 'VIEW', None, None, None, None, None, 'NO', 'NO', None), ('postgres', 'information_schema', 'transforms', 'VIEW', None, None, None, None, None, 'NO', 'NO', None), ('postgres', 'information_schema', 'tables', 'VIEW', None, None, None, None, None, 'NO', 'NO', None), ('postgres', 'information_schema', 'triggered_update_columns', 'VIEW', None, None, None, None, None, 'NO', 'NO', None), ('postgres', 'information_schema', 'triggers', 'VIEW', None, None, None, None, None, 'NO', 'NO', None), ('postgres', 'information_schema', 'udt_privileges', 'VIEW', None, None, None, None, None, 'NO', 'NO', None), ('postgres', 'information_schema', '_pg_foreign_data_wrappers', 'VIEW', None, None, None, None, None, 'NO', 'NO', None), ('postgres', 'information_schema', 'role_udt_grants', 'VIEW', None, None, None, None, None, 'NO', 'NO', None), ('postgres', 'information_schema', 'usage_privileges', 'VIEW', None, None, None, None, None, 'NO', 'NO', None), ('postgres', 'information_schema', 'foreign_tables', 'VIEW', None, None, None, None, None, 'NO', 'NO', None), ('postgres', 'information_schema', 'role_usage_grants', 'VIEW', None, None, None, None, None, 'NO', 'NO', None), ('postgres', 'information_schema', 'foreign_data_wrapper_options', 'VIEW', None, None, None, None, None, 'NO', 'NO', None), ('postgres', 'information_schema', 'user_defined_types', 'VIEW', None, None, None, None, None, 'NO', 'NO', None), ('postgres', 'information_schema', 'view_column_usage', 'VIEW', None, None, None, None, None, 'NO', 'NO', None), ('postgres', 'information_schema', 'view_routine_usage', 'VIEW', None, None, None, None, None, 'NO', 'NO', None), ('postgres', 'information_schema', 'foreign_data_wrappers', 'VIEW', None, None, None, None, None, 'NO', 'NO', None), ('postgres', 'information_schema', 'view_table_usage', 'VIEW', None, None, None, None, None, 'NO', 'NO', None), ('postgres', 'information_schema', 'views', 'VIEW', None, None, None, None, None, 'NO', 'NO', None), ('postgres', 'information_schema', '_pg_foreign_servers', 'VIEW', None, None, None, None, None, 'NO', 'NO', None), ('postgres', 'information_schema', 'data_type_privileges', 'VIEW', None, None, None, None, None, 'NO', 'NO', None), ('postgres', 'information_schema', 'element_types', 'VIEW', None, None, None, None, None, 'NO', 'NO', None), ('postgres', 'information_schema', '_pg_foreign_table_columns', 'VIEW', None, None, None, None, None, 'NO', 'NO', None), ('postgres', 'information_schema', '_pg_user_mappings', 'VIEW', None, None, None, None, None, 'NO', 'NO', None), ('postgres', 'information_schema', 'column_options', 'VIEW', None, None, None, None, None, 'NO', 'NO', None), ('postgres', 'information_schema', 'foreign_server_options', 'VIEW', None, None, None, None, None, 'NO', 'NO', None), ('postgres', 'information_schema', 'foreign_servers', 'VIEW', None, None, None, None, None, 'NO', 'NO', None), ('postgres', 'information_schema', '_pg_foreign_tables', 'VIEW', None, None, None, None, None, 'NO', 'NO', None), ('postgres', 'information_schema', 'foreign_table_options', 'VIEW', None, None, None, None, None, 'NO', 'NO', None), ('postgres', 'public', 'lecture', 'BASE TABLE', None, None, None, None, None, 'YES', 'NO', None), ('postgres', 'information_schema', 'user_mapping_options', 'VIEW', None, None, None, None, None, 'NO', 'NO', None), ('postgres', 'information_schema', 'user_mappings', 'VIEW', None, None, None, None, None, 'NO', 'NO', None)]\n",
      "Exit\n"
     ]
    }
   ],
   "source": [
    "db_object = DBConnector(**DB_SETTINGS['POSTGRES'])\n",
    "\n",
    "with db_object as connected:\n",
    "    db_conn = connected.conn\n",
    "    cursor=db_conn.cursor()\n",
    "\n",
    "    cursor.execute(\"SELECT * FROM INFORMATION_SCHEMA.TABLES\")\n",
    "    print(cursor.fetchall())"
   ]
  },
  {
   "cell_type": "code",
   "execution_count": null,
   "metadata": {},
   "outputs": [],
   "source": []
  }
 ],
 "metadata": {
  "kernelspec": {
   "display_name": "vvenv",
   "language": "python",
   "name": "python3"
  },
  "language_info": {
   "codemirror_mode": {
    "name": "ipython",
    "version": 3
   },
   "file_extension": ".py",
   "mimetype": "text/x-python",
   "name": "python",
   "nbconvert_exporter": "python",
   "pygments_lexer": "ipython3",
   "version": "3.12.4"
  }
 },
 "nbformat": 4,
 "nbformat_minor": 2
}
