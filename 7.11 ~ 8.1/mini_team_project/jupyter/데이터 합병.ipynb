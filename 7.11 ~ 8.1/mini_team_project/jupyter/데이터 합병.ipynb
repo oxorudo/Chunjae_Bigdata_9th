{
 "cells": [
  {
   "cell_type": "code",
   "execution_count": 91,
   "metadata": {},
   "outputs": [
    {
     "name": "stdout",
     "output_type": "stream",
     "text": [
      "customer_id                 0\n",
      "customer_unique_id          0\n",
      "customer_zip_code_prefix    0\n",
      "customer_city               0\n",
      "customer_state              0\n",
      "dtype: int64\n",
      "                        customer_id                customer_unique_id  \\\n",
      "0  06b8999e2fba1a1fbc88172c00ba8bc7  861eff4711a542e4b93843c6dd7febb0   \n",
      "1  18955e83d337fd6b2def6b18a428ac77  290c77bc529b7ac935b93aa66c333dc3   \n",
      "2  4e7b3e00288586ebd08712fdd0374a03  060e732b5b29e8181a18229c7b0b2b5e   \n",
      "3  b2b6027bc5c5109e529d4dc6358b12c3  259dac757896d24d7702b9acbbff3f3c   \n",
      "4  4f2d8ab171c80ec8364f7c12e35b23ad  345ecd01c38d18a9036ed96c73b8d066   \n",
      "\n",
      "   customer_zip_code_prefix          customer_city customer_state  \n",
      "0                     14409                 franca             SP  \n",
      "1                      9790  sao bernardo do campo             SP  \n",
      "2                      1151              sao paulo             SP  \n",
      "3                      8775        mogi das cruzes             SP  \n",
      "4                     13056               campinas             SP  \n"
     ]
    }
   ],
   "source": [
    "import pandas as pd\n",
    "import seaborn as sns\n",
    "import matplotlib.pyplot as plt\n",
    "\n",
    "\n",
    "\n",
    "df1 = pd.read_csv(\"data/olist_customers_dataset.csv\") # 고객과 고객 위치 데이터\n",
    "\n",
    "\n",
    "\n",
    "print(df1.isnull().sum())\n",
    "print(df1.head())"
   ]
  },
  {
   "cell_type": "code",
   "execution_count": 92,
   "metadata": {},
   "outputs": [
    {
     "name": "stdout",
     "output_type": "stream",
     "text": [
      "   geolocation_zip_code_prefix  geolocation_lat  geolocation_lng  \\\n",
      "0                         1037       -23.545621       -46.639292   \n",
      "1                         1046       -23.546081       -46.644820   \n",
      "2                         1046       -23.546129       -46.642951   \n",
      "3                         1041       -23.544392       -46.639499   \n",
      "4                         1035       -23.541578       -46.641607   \n",
      "\n",
      "  geolocation_city geolocation_state  \n",
      "0        sao paulo                SP  \n",
      "1        sao paulo                SP  \n",
      "2        sao paulo                SP  \n",
      "3        sao paulo                SP  \n",
      "4        sao paulo                SP  \n"
     ]
    }
   ],
   "source": [
    "#브라질 우편번호와 위도/경도 좌표 데이터\n",
    "df2 = pd.read_csv(\"data/olist_geolocation_dataset.csv\")\n",
    "\n",
    "\n",
    "print(df2.head())"
   ]
  },
  {
   "cell_type": "code",
   "execution_count": 93,
   "metadata": {},
   "outputs": [
    {
     "name": "stdout",
     "output_type": "stream",
     "text": [
      "order_id               0\n",
      "order_item_id          0\n",
      "product_id             0\n",
      "seller_id              0\n",
      "shipping_limit_date    0\n",
      "price                  0\n",
      "freight_value          0\n",
      "dtype: int64\n",
      "                           order_id  order_item_id  \\\n",
      "0  00010242fe8c5a6d1ba2dd792cb16214              1   \n",
      "1  00018f77f2f0320c557190d7a144bdd3              1   \n",
      "2  000229ec398224ef6ca0657da4fc703e              1   \n",
      "3  00024acbcdf0a6daa1e931b038114c75              1   \n",
      "4  00042b26cf59d7ce69dfabb4e55b4fd9              1   \n",
      "\n",
      "                         product_id                         seller_id  \\\n",
      "0  4244733e06e7ecb4970a6e2683c13e61  48436dade18ac8b2bce089ec2a041202   \n",
      "1  e5f2d52b802189ee658865ca93d83a8f  dd7ddc04e1b6c2c614352b383efe2d36   \n",
      "2  c777355d18b72b67abbeef9df44fd0fd  5b51032eddd242adc84c38acab88f23d   \n",
      "3  7634da152a4610f1595efa32f14722fc  9d7a1d34a5052409006425275ba1c2b4   \n",
      "4  ac6c3623068f30de03045865e4e10089  df560393f3a51e74553ab94004ba5c87   \n",
      "\n",
      "   shipping_limit_date   price  freight_value  \n",
      "0  2017-09-19 09:45:35   58.90          13.29  \n",
      "1  2017-05-03 11:05:13  239.90          19.93  \n",
      "2  2018-01-18 14:48:30  199.00          17.87  \n",
      "3  2018-08-15 10:10:18   12.99          12.79  \n",
      "4  2017-02-13 13:57:51  199.90          18.14  \n"
     ]
    }
   ],
   "source": [
    "# 주문의 구매 제품 데이터\n",
    "df3 = pd.read_csv(\"data/olist_order_items_dataset.csv\")\n",
    "\n",
    "print(df3.isnull().sum())\n",
    "print(df3.head())"
   ]
  },
  {
   "cell_type": "code",
   "execution_count": 94,
   "metadata": {},
   "outputs": [
    {
     "name": "stdout",
     "output_type": "stream",
     "text": [
      "order_id                0\n",
      "payment_sequential      0\n",
      "payment_type            0\n",
      "payment_installments    0\n",
      "payment_value           0\n",
      "dtype: int64\n",
      "                           order_id  payment_sequential payment_type  \\\n",
      "0  b81ef226f3fe1789b1e8b2acac839d17                   1  credit_card   \n",
      "1  a9810da82917af2d9aefd1278f1dcfa0                   1  credit_card   \n",
      "2  25e8ea4e93396b6fa0d3dd708e76c1bd                   1  credit_card   \n",
      "3  ba78997921bbcdc1373bb41e913ab953                   1  credit_card   \n",
      "4  42fdf880ba16b47b59251dd489d4441a                   1  credit_card   \n",
      "\n",
      "   payment_installments  payment_value  \n",
      "0                     8          99.33  \n",
      "1                     1          24.39  \n",
      "2                     1          65.71  \n",
      "3                     8         107.78  \n",
      "4                     2         128.45  \n"
     ]
    },
    {
     "data": {
      "text/plain": [
       "payment_type\n",
       "credit_card    76795\n",
       "boleto         19784\n",
       "voucher         5775\n",
       "debit_card      1529\n",
       "not_defined        3\n",
       "Name: count, dtype: int64"
      ]
     },
     "execution_count": 94,
     "metadata": {},
     "output_type": "execute_result"
    }
   ],
   "source": [
    "# 주문에 대한 결제 데이터\n",
    "df4 = pd.read_csv(\"data/olist_order_payments_dataset.csv\")\n",
    "\n",
    "print(df4.isnull().sum())\n",
    "print(df4.head())\n",
    "\n",
    "df4['payment_type'].value_counts()"
   ]
  },
  {
   "cell_type": "code",
   "execution_count": 95,
   "metadata": {},
   "outputs": [
    {
     "name": "stdout",
     "output_type": "stream",
     "text": [
      "review_id                      0\n",
      "order_id                       0\n",
      "review_score                   0\n",
      "review_comment_title       87656\n",
      "review_comment_message     58247\n",
      "review_creation_date           0\n",
      "review_answer_timestamp        0\n",
      "dtype: int64\n",
      "                          review_id                          order_id  \\\n",
      "0  7bc2406110b926393aa56f80a40eba40  73fc7af87114b39712e6da79b0a377eb   \n",
      "1  80e641a11e56f04c1ad469d5645fdfde  a548910a1c6147796b98fdf73dbeba33   \n",
      "2  228ce5500dc1d8e020d8d1322874b6f0  f9e4b658b201a9f2ecdecbb34bed034b   \n",
      "3  e64fb393e7b32834bb789ff8bb30750e  658677c97b385a9be170737859d3511b   \n",
      "4  f7c4243c7fe1938f181bec41a392bdeb  8e6bfb81e283fa7e4f11123a3fb894f1   \n",
      "\n",
      "   review_score review_comment_title  \\\n",
      "0             4                  NaN   \n",
      "1             5                  NaN   \n",
      "2             5                  NaN   \n",
      "3             5                  NaN   \n",
      "4             5                  NaN   \n",
      "\n",
      "                              review_comment_message review_creation_date  \\\n",
      "0                                                NaN  2018-01-18 00:00:00   \n",
      "1                                                NaN  2018-03-10 00:00:00   \n",
      "2                                                NaN  2018-02-17 00:00:00   \n",
      "3              Recebi bem antes do prazo estipulado.  2017-04-21 00:00:00   \n",
      "4  Parabéns lojas lannister adorei comprar pela I...  2018-03-01 00:00:00   \n",
      "\n",
      "  review_answer_timestamp  \n",
      "0     2018-01-18 21:46:59  \n",
      "1     2018-03-11 03:05:13  \n",
      "2     2018-02-18 14:36:24  \n",
      "3     2017-04-21 22:02:06  \n",
      "4     2018-03-02 10:26:53  \n"
     ]
    }
   ],
   "source": [
    "# 고객이 제품에 대해 작성한 리뷰 데이터\n",
    "df5 = pd.read_csv(\"data/olist_order_reviews_dataset.csv\")\n",
    "\n",
    "print(df5.isnull().sum())\n",
    "print(df5.head())\n",
    "\n"
   ]
  },
  {
   "cell_type": "code",
   "execution_count": 96,
   "metadata": {},
   "outputs": [
    {
     "name": "stdout",
     "output_type": "stream",
     "text": [
      "product_id                      0\n",
      "product_category_name         610\n",
      "product_name_lenght           610\n",
      "product_description_lenght    610\n",
      "product_photos_qty            610\n",
      "product_weight_g                2\n",
      "product_length_cm               2\n",
      "product_height_cm               2\n",
      "product_width_cm                2\n",
      "dtype: int64\n",
      "                         product_id  product_category_name  \\\n",
      "0  1e9e8ef04dbcff4541ed26657ea517e5             perfumaria   \n",
      "1  3aa071139cb16b67ca9e5dea641aaa2f                  artes   \n",
      "2  96bd76ec8810374ed1b65e291975717f          esporte_lazer   \n",
      "3  cef67bcfe19066a932b7673e239eb23d                  bebes   \n",
      "4  9dc1a7de274444849c219cff195d0b71  utilidades_domesticas   \n",
      "\n",
      "   product_name_lenght  product_description_lenght  product_photos_qty  \\\n",
      "0                 40.0                       287.0                 1.0   \n",
      "1                 44.0                       276.0                 1.0   \n",
      "2                 46.0                       250.0                 1.0   \n",
      "3                 27.0                       261.0                 1.0   \n",
      "4                 37.0                       402.0                 4.0   \n",
      "\n",
      "   product_weight_g  product_length_cm  product_height_cm  product_width_cm  \n",
      "0             225.0               16.0               10.0              14.0  \n",
      "1            1000.0               30.0               18.0              20.0  \n",
      "2             154.0               18.0                9.0              15.0  \n",
      "3             371.0               26.0                4.0              26.0  \n",
      "4             625.0               20.0               17.0              13.0  \n"
     ]
    }
   ],
   "source": [
    "# Olist에서 판매한 제품 데이터\n",
    "df6 = pd.read_csv(\"data/olist_products_dataset.csv\")\n",
    "\n",
    "print(df6.isnull().sum())\n",
    "print(df6.head())\n",
    "\n"
   ]
  },
  {
   "cell_type": "code",
   "execution_count": 97,
   "metadata": {},
   "outputs": [
    {
     "name": "stdout",
     "output_type": "stream",
     "text": [
      "seller_id                 0\n",
      "seller_zip_code_prefix    0\n",
      "seller_city               0\n",
      "seller_state              0\n",
      "dtype: int64\n",
      "                          seller_id  seller_zip_code_prefix  \\\n",
      "0  3442f8959a84dea7ee197c632cb2df15                   13023   \n",
      "1  d1b65fc7debc3361ea86b5f14c68d2e2                   13844   \n",
      "2  ce3ad9de960102d0677a81f5d0bb7b2d                   20031   \n",
      "3  c0f3eea2e14555b6faeea3dd58c1b1c3                    4195   \n",
      "4  51a04a8a6bdcb23deccc82b0b80742cf                   12914   \n",
      "\n",
      "         seller_city seller_state  \n",
      "0           campinas           SP  \n",
      "1         mogi guacu           SP  \n",
      "2     rio de janeiro           RJ  \n",
      "3          sao paulo           SP  \n",
      "4  braganca paulista           SP  \n"
     ]
    }
   ],
   "source": [
    "# 주문에 대한 판매자 데이터\n",
    "df7 = pd.read_csv(\"data/olist_sellers_dataset.csv\")\n",
    "\n",
    "print(df7.isnull().sum())\n",
    "print(df7.head())\n",
    "\n"
   ]
  },
  {
   "cell_type": "code",
   "execution_count": 98,
   "metadata": {},
   "outputs": [
    {
     "name": "stdout",
     "output_type": "stream",
     "text": [
      "order_id                            0\n",
      "customer_id                         0\n",
      "order_status                        0\n",
      "order_purchase_timestamp            0\n",
      "order_approved_at                 160\n",
      "order_delivered_carrier_date     1783\n",
      "order_delivered_customer_date    2965\n",
      "order_estimated_delivery_date       0\n",
      "dtype: int64\n",
      "                           order_id                       customer_id  \\\n",
      "0  e481f51cbdc54678b7cc49136f2d6af7  9ef432eb6251297304e76186b10a928d   \n",
      "1  53cdb2fc8bc7dce0b6741e2150273451  b0830fb4747a6c6d20dea0b8c802d7ef   \n",
      "2  47770eb9100c2d0c44946d9cf07ec65d  41ce2a54c0b03bf3443c3d931a367089   \n",
      "3  949d5b44dbf5de918fe9c16f97b45f8a  f88197465ea7920adcdbec7375364d82   \n",
      "4  ad21c59c0840e6cb83a9ceb5573f8159  8ab97904e6daea8866dbdbc4fb7aad2c   \n",
      "\n",
      "  order_status order_purchase_timestamp    order_approved_at  \\\n",
      "0    delivered      2017-10-02 10:56:33  2017-10-02 11:07:15   \n",
      "1    delivered      2018-07-24 20:41:37  2018-07-26 03:24:27   \n",
      "2    delivered      2018-08-08 08:38:49  2018-08-08 08:55:23   \n",
      "3    delivered      2017-11-18 19:28:06  2017-11-18 19:45:59   \n",
      "4    delivered      2018-02-13 21:18:39  2018-02-13 22:20:29   \n",
      "\n",
      "  order_delivered_carrier_date order_delivered_customer_date  \\\n",
      "0          2017-10-04 19:55:00           2017-10-10 21:25:13   \n",
      "1          2018-07-26 14:31:00           2018-08-07 15:27:45   \n",
      "2          2018-08-08 13:50:00           2018-08-17 18:06:29   \n",
      "3          2017-11-22 13:39:59           2017-12-02 00:28:42   \n",
      "4          2018-02-14 19:46:34           2018-02-16 18:17:02   \n",
      "\n",
      "  order_estimated_delivery_date  \n",
      "0           2017-10-18 00:00:00  \n",
      "1           2018-08-13 00:00:00  \n",
      "2           2018-09-04 00:00:00  \n",
      "3           2017-12-15 00:00:00  \n",
      "4           2018-02-26 00:00:00  \n",
      "<class 'pandas.core.frame.DataFrame'>\n",
      "RangeIndex: 99441 entries, 0 to 99440\n",
      "Data columns (total 8 columns):\n",
      " #   Column                         Non-Null Count  Dtype \n",
      "---  ------                         --------------  ----- \n",
      " 0   order_id                       99441 non-null  object\n",
      " 1   customer_id                    99441 non-null  object\n",
      " 2   order_status                   99441 non-null  object\n",
      " 3   order_purchase_timestamp       99441 non-null  object\n",
      " 4   order_approved_at              99281 non-null  object\n",
      " 5   order_delivered_carrier_date   97658 non-null  object\n",
      " 6   order_delivered_customer_date  96476 non-null  object\n",
      " 7   order_estimated_delivery_date  99441 non-null  object\n",
      "dtypes: object(8)\n",
      "memory usage: 6.1+ MB\n",
      "None\n",
      "order_status\n",
      "delivered      96478\n",
      "shipped         1107\n",
      "canceled         625\n",
      "unavailable      609\n",
      "invoiced         314\n",
      "processing       301\n",
      "created            5\n",
      "approved           2\n",
      "Name: count, dtype: int64\n"
     ]
    }
   ],
   "source": [
    "# 주문에 대한 다른 모든 정보 데이터\n",
    "df8 = pd.read_csv(\"data/olist_orders_dataset.csv\")\n",
    "\n",
    "print(df8.isnull().sum())\n",
    "print(df8.head())\n",
    "\n",
    "print(df8.info())\n",
    "\n",
    "print(df8['order_status'].value_counts())"
   ]
  },
  {
   "cell_type": "code",
   "execution_count": 99,
   "metadata": {},
   "outputs": [
    {
     "name": "stdout",
     "output_type": "stream",
     "text": [
      "<class 'pandas.core.frame.DataFrame'>\n",
      "Index: 97916 entries, 0 to 117328\n",
      "Data columns (total 39 columns):\n",
      " #   Column                         Non-Null Count  Dtype  \n",
      "---  ------                         --------------  -----  \n",
      " 0   order_id                       97916 non-null  object \n",
      " 1   order_item_id                  97916 non-null  int64  \n",
      " 2   product_id                     97916 non-null  object \n",
      " 3   seller_id                      97916 non-null  object \n",
      " 4   shipping_limit_date            97916 non-null  object \n",
      " 5   price                          97916 non-null  float64\n",
      " 6   freight_value                  97916 non-null  float64\n",
      " 7   payment_sequential             97916 non-null  int64  \n",
      " 8   payment_type                   97916 non-null  object \n",
      " 9   payment_installments           97916 non-null  int64  \n",
      " 10  payment_value                  97916 non-null  float64\n",
      " 11  review_id                      97916 non-null  object \n",
      " 12  review_score                   97916 non-null  int64  \n",
      " 13  review_comment_title           11462 non-null  object \n",
      " 14  review_comment_message         40261 non-null  object \n",
      " 15  review_creation_date           97916 non-null  object \n",
      " 16  review_answer_timestamp        97916 non-null  object \n",
      " 17  product_category_name          96511 non-null  object \n",
      " 18  product_name_lenght            96511 non-null  float64\n",
      " 19  product_description_lenght     96511 non-null  float64\n",
      " 20  product_photos_qty             96511 non-null  float64\n",
      " 21  product_weight_g               97900 non-null  float64\n",
      " 22  product_length_cm              97900 non-null  float64\n",
      " 23  product_height_cm              97900 non-null  float64\n",
      " 24  product_width_cm               97900 non-null  float64\n",
      " 25  customer_id                    97916 non-null  object \n",
      " 26  order_status                   97916 non-null  object \n",
      " 27  order_purchase_timestamp       97916 non-null  object \n",
      " 28  order_approved_at              97902 non-null  object \n",
      " 29  order_delivered_carrier_date   96925 non-null  object \n",
      " 30  order_delivered_customer_date  95829 non-null  object \n",
      " 31  order_estimated_delivery_date  97916 non-null  object \n",
      " 32  customer_unique_id             97916 non-null  object \n",
      " 33  customer_zip_code_prefix       97916 non-null  int64  \n",
      " 34  customer_city                  97916 non-null  object \n",
      " 35  customer_state                 97916 non-null  object \n",
      " 36  seller_zip_code_prefix         97916 non-null  int64  \n",
      " 37  seller_city                    97916 non-null  object \n",
      " 38  seller_state                   97916 non-null  object \n",
      "dtypes: float64(10), int64(6), object(23)\n",
      "memory usage: 29.9+ MB\n"
     ]
    }
   ],
   "source": [
    "olist_df = pd.merge(df3, df4, on = 'order_id')\n",
    "olist_df = olist_df.merge(df5, on = 'order_id')\n",
    "olist_df = olist_df.merge(df6, on = 'product_id')\n",
    "olist_df = olist_df.merge(df8, on = 'order_id')\n",
    "olist_df = olist_df.merge(df1, on = 'customer_id')\n",
    "olist_df = olist_df.merge(df7, on = 'seller_id')\n",
    "\n",
    "olist_df.duplicated(subset = 'order_id').value_counts()\n",
    "olist_df = olist_df[~olist_df.duplicated(['order_id'])]\n",
    "\n",
    "\n",
    "olist_df.info()\n",
    "\n"
   ]
  },
  {
   "cell_type": "code",
   "execution_count": 100,
   "metadata": {},
   "outputs": [
    {
     "name": "stdout",
     "output_type": "stream",
     "text": [
      "<class 'pandas.core.frame.DataFrame'>\n",
      "RangeIndex: 97916 entries, 0 to 97915\n",
      "Data columns (total 39 columns):\n",
      " #   Column                         Non-Null Count  Dtype  \n",
      "---  ------                         --------------  -----  \n",
      " 0   order_id                       97916 non-null  object \n",
      " 1   order_item_id                  97916 non-null  int64  \n",
      " 2   product_id                     97916 non-null  object \n",
      " 3   seller_id                      97916 non-null  object \n",
      " 4   shipping_limit_date            97916 non-null  object \n",
      " 5   price                          97916 non-null  float64\n",
      " 6   freight_value                  97916 non-null  float64\n",
      " 7   payment_sequential             97916 non-null  int64  \n",
      " 8   payment_type                   97916 non-null  object \n",
      " 9   payment_installments           97916 non-null  int64  \n",
      " 10  payment_value                  97916 non-null  float64\n",
      " 11  review_id                      97916 non-null  object \n",
      " 12  review_score                   97916 non-null  int64  \n",
      " 13  review_comment_title           11462 non-null  object \n",
      " 14  review_comment_message         40261 non-null  object \n",
      " 15  review_creation_date           97916 non-null  object \n",
      " 16  review_answer_timestamp        97916 non-null  object \n",
      " 17  product_category_name          96511 non-null  object \n",
      " 18  product_name_lenght            96511 non-null  float64\n",
      " 19  product_description_lenght     96511 non-null  float64\n",
      " 20  product_photos_qty             96511 non-null  float64\n",
      " 21  product_weight_g               97900 non-null  float64\n",
      " 22  product_length_cm              97900 non-null  float64\n",
      " 23  product_height_cm              97900 non-null  float64\n",
      " 24  product_width_cm               97900 non-null  float64\n",
      " 25  customer_id                    97916 non-null  object \n",
      " 26  order_status                   97916 non-null  object \n",
      " 27  order_purchase_timestamp       97916 non-null  object \n",
      " 28  order_approved_at              97902 non-null  object \n",
      " 29  order_delivered_carrier_date   96925 non-null  object \n",
      " 30  order_delivered_customer_date  95829 non-null  object \n",
      " 31  order_estimated_delivery_date  97916 non-null  object \n",
      " 32  customer_unique_id             97916 non-null  object \n",
      " 33  customer_zip_code_prefix       97916 non-null  int64  \n",
      " 34  customer_city                  97916 non-null  object \n",
      " 35  customer_state                 97916 non-null  object \n",
      " 36  seller_zip_code_prefix         97916 non-null  int64  \n",
      " 37  seller_city                    97916 non-null  object \n",
      " 38  seller_state                   97916 non-null  object \n",
      "dtypes: float64(10), int64(6), object(23)\n",
      "memory usage: 29.1+ MB\n"
     ]
    }
   ],
   "source": [
    "olist_df = olist_df.reset_index()\n",
    "olist_df = olist_df.drop(columns = {'index'})\n",
    "\n",
    "olist_df.info()\n",
    "\n",
    "olist_df.to_csv('olist_df.csv')"
   ]
  }
 ],
 "metadata": {
  "kernelspec": {
   "display_name": "base",
   "language": "python",
   "name": "python3"
  },
  "language_info": {
   "codemirror_mode": {
    "name": "ipython",
    "version": 3
   },
   "file_extension": ".py",
   "mimetype": "text/x-python",
   "name": "python",
   "nbconvert_exporter": "python",
   "pygments_lexer": "ipython3",
   "version": "3.12.4"
  }
 },
 "nbformat": 4,
 "nbformat_minor": 2
}
