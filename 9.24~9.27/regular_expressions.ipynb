{
 "cells": [
  {
   "cell_type": "code",
   "execution_count": 1,
   "metadata": {},
   "outputs": [],
   "source": [
    "reg_text = '안녕, 나는 잎싹이야. 너도 잎싹이고, 쟤도 잎싹이야. 우리 모두 잎싹이야.'"
   ]
  },
  {
   "cell_type": "code",
   "execution_count": 2,
   "metadata": {},
   "outputs": [
    {
     "data": {
      "text/plain": [
       "'안녕, 나는 절대잎싹아님이야. 너도 절대잎싹아님이고, 쟤도 절대잎싹아님이야. 우리 모두 절대잎싹아님이야.'"
      ]
     },
     "execution_count": 2,
     "metadata": {},
     "output_type": "execute_result"
    }
   ],
   "source": [
    "reg_text.replace('잎싹', '절대잎싹아님')"
   ]
  },
  {
   "cell_type": "code",
   "execution_count": 3,
   "metadata": {},
   "outputs": [],
   "source": [
    "reg_text = '안녕, 나는 잎싹이야. 너도 잎1싹이고, 쟤도 잎123싹이야. 우리 모두 잎567싹이야.'"
   ]
  },
  {
   "cell_type": "code",
   "execution_count": 4,
   "metadata": {},
   "outputs": [],
   "source": [
    "import re\n",
    "# Regular Expressions(정규표현식)"
   ]
  },
  {
   "cell_type": "code",
   "execution_count": null,
   "metadata": {},
   "outputs": [],
   "source": [
    "re.sub('바꿀 대상','원하는 결과','전체체 텍스트')"
   ]
  },
  {
   "cell_type": "code",
   "execution_count": 6,
   "metadata": {},
   "outputs": [
    {
     "data": {
      "text/plain": [
       "'안녕, 나는 잎싹이야. 너도 잎싹이고, 쟤도 잎싹이야. 우리 모두 잎싹이야.'"
      ]
     },
     "execution_count": 6,
     "metadata": {},
     "output_type": "execute_result"
    }
   ],
   "source": [
    "# 0 ~ 9 사이의 임의의 숫자 하나, 그것을 빈 문자열로 바꿀것이다. (정규식 대괄호 뒤에 플러스 붙으면 대상의 형식은 1자리 이상(한자리든 세자리든))\n",
    "re.sub('[0-9]+','',reg_text)"
   ]
  },
  {
   "cell_type": "code",
   "execution_count": 8,
   "metadata": {},
   "outputs": [],
   "source": [
    "id_text = '안녕하세요, 저는 ABC예요. 제 주민번호는 123456-7890123 이에요. 제 주소는 XX시 00구 123-45번지예요.'"
   ]
  },
  {
   "cell_type": "code",
   "execution_count": 9,
   "metadata": {},
   "outputs": [
    {
     "data": {
      "text/plain": [
       "'안녕하세요, 저는 ABC예요. 제 주민번호는 ******-******* 이에요. 제 주소는 XX시 00구 ******-*******번지예요.'"
      ]
     },
     "execution_count": 9,
     "metadata": {},
     "output_type": "execute_result"
    }
   ],
   "source": [
    "re.sub('[0-9]+-[0-9]+','******-*******',id_text) # 이러면 뒤에 주소도 마스킹됨."
   ]
  },
  {
   "cell_type": "code",
   "execution_count": 10,
   "metadata": {},
   "outputs": [
    {
     "data": {
      "text/plain": [
       "'안녕하세요, 저는 ABC예요. 제 주민번호는 ******-******* 이에요. 제 주소는 XX시 00구 123-45번지예요.'"
      ]
     },
     "execution_count": 10,
     "metadata": {},
     "output_type": "execute_result"
    }
   ],
   "source": [
    "# \\d = [0-9] \n",
    "# 무식한 방법\n",
    "re.sub('\\d\\d\\d\\d\\d\\d-\\d\\d\\d\\d\\d\\d\\d', '******-*******', id_text)"
   ]
  },
  {
   "cell_type": "code",
   "execution_count": 11,
   "metadata": {},
   "outputs": [
    {
     "data": {
      "text/plain": [
       "'안녕하세요, 저는 ABC예요. 제 주민번호는 ******-******* 이에요. 제 주소는 XX시 00구 123-45번지예요.'"
      ]
     },
     "execution_count": 11,
     "metadata": {},
     "output_type": "execute_result"
    }
   ],
   "source": [
    "# 이렇게 하면 된다.\n",
    "re.sub('\\d{6}-\\d{7}','******-*******',id_text)"
   ]
  },
  {
   "cell_type": "code",
   "execution_count": 12,
   "metadata": {},
   "outputs": [],
   "source": [
    "eng_text = 'Squire Trelawney, Dr. Livesey, and the rest of these gentlemen having asked me to write down the whole particulars about Treasure Island,'"
   ]
  },
  {
   "cell_type": "code",
   "execution_count": 15,
   "metadata": {},
   "outputs": [
    {
     "name": "stdout",
     "output_type": "stream",
     "text": [
      "Squire Trelawney,\n",
      " Dr.\n",
      " Livesey,\n",
      " and the rest of these gentlemen having asked me to write down the whole particulars about Treasure Island,\n",
      "\n"
     ]
    }
   ],
   "source": [
    "print(re.sub(r'[,.]', lambda x: x.group(0) + '\\n', eng_text)) # 온점, 쉼표마다 개행하기"
   ]
  },
  {
   "cell_type": "code",
   "execution_count": 16,
   "metadata": {},
   "outputs": [],
   "source": [
    "# 중간중간에 온점 찍고, Dr. 에서만 개행하지 않도록 만들어보기\n",
    "eng_text = 'Squire Trelawney, Dr. Livesey, and the rest of these gentlemen. having asked me to write. down the whole particulars. about Treasure Island,'"
   ]
  },
  {
   "cell_type": "code",
   "execution_count": 18,
   "metadata": {},
   "outputs": [
    {
     "name": "stdout",
     "output_type": "stream",
     "text": [
      "Squire Trelawney,\n",
      " Dr. Livesey,\n",
      " and the rest of these gentlemen.\n",
      " having asked me to write.\n",
      " down the whole particulars.\n",
      " about Treasure Island,\n",
      "\n"
     ]
    }
   ],
   "source": [
    "print(re.sub(r'\\b(?<!Dr)\\s*[,.]', lambda x: x.group(0) + '\\n', eng_text))\n",
    "# \\b(?<!Dr)\\s* 로 표현된 문자열 뒤에 쉼표, 온점 있으면 그 문자열의 group 뒤에 개행문자 추가.\n",
    "# x : 전체 문자열, group(0) : 정규식에 해당하는 문자열 전체(group() 소괄호 안에 0이 아닌 n이 들어가면 정규식에 맞는 n번째 문자열을 말한다.)"
   ]
  },
  {
   "cell_type": "markdown",
   "metadata": {},
   "source": [
    "정규식 해석\n",
    "\n",
    "1. \\b:\n",
    "\n",
    "**단어 경계(word boundary)**를 의미합니다. 이는 단어와 단어가 아닌 문자의 경계(예: 공백, 구두점 등)를 나타냅니다.\n",
    "예를 들어, apple에서 앞뒤로 공백이 있다면, 단어 경계는 apple의 앞과 뒤에 위치하게 됩니다.\n",
    "\n",
    "2. (?<!Dr):\n",
    "\n",
    " **부정형 전방 탐색(negative lookbehind)**입니다.\n",
    "이 부분은 Dr로 시작하지 않는 경우를 의미합니다. 즉, 이 정규식은 해당 위치의 바로 앞이 Dr가 아닌 경우에만 일치하게 됩니다.\n",
    "예를 들어, Dr.와 같은 문자열은 일치하지 않지만, Mr.나 John. 같은 문자열은 일치할 수 있습니다.\n",
    "\n",
    "3. \\s*:\n",
    "\n",
    "0개 이상의 공백 문자를 의미합니다.\n",
    "\\s는 공백 문자를 의미하며, 탭, 줄바꿈, 스페이스 등이 포함됩니다. *는 이 공백이 0개 이상 있을 수 있다는 의미입니다.\n",
    "즉, 이 부분은 공백이 없어도 일치하고, 여러 개의 공백이 있어도 일치합니다.\n",
    "\n",
    "4. [,.]:\n",
    "\n",
    "대괄호 [] 안에 들어간 것은 **문자 클래스(character class)**로, 이 경우 **,(콤마) 또는 .(마침표)**와 일치합니다.\n",
    "이 부분은 텍스트에서 콤마나 마침표가 등장하는 부분과 일치합니다."
   ]
  },
  {
   "cell_type": "code",
   "execution_count": 28,
   "metadata": {},
   "outputs": [],
   "source": [
    "id_text = '안녕하세요, 저는 ABC예요. 제 주민번호는 123456-2890123 이에요. 제 주소는 XX시 00구 123-45번지예요.'"
   ]
  },
  {
   "cell_type": "code",
   "execution_count": 30,
   "metadata": {},
   "outputs": [
    {
     "data": {
      "text/plain": [
       "'안녕하세요, 저는 ABC예요. 제 주민번호는 123456-2****** 이에요. 제 주소는 XX시 00구 123-45번지예요.'"
      ]
     },
     "execution_count": 30,
     "metadata": {},
     "output_type": "execute_result"
    }
   ],
   "source": [
    "# 주민번호 뒷자리 맨앞자리 뺴고 가려보기\n",
    "re.sub(r'-[1-4]\\d{6}',lambda x: x.group(0)[0:2] + '******',id_text)\n",
    "# 뒷자리 정보를 정규식으로 표현한다. (- 뒤에, [1-4] 범위의 숫자가 있고, 뒤에 6자리의 숫자가 추가로 있음을 표현.)"
   ]
  }
 ],
 "metadata": {
  "kernelspec": {
   "display_name": "Python 3",
   "language": "python",
   "name": "python3"
  },
  "language_info": {
   "codemirror_mode": {
    "name": "ipython",
    "version": 3
   },
   "file_extension": ".py",
   "mimetype": "text/x-python",
   "name": "python",
   "nbconvert_exporter": "python",
   "pygments_lexer": "ipython3",
   "version": "3.8.19"
  }
 },
 "nbformat": 4,
 "nbformat_minor": 2
}
