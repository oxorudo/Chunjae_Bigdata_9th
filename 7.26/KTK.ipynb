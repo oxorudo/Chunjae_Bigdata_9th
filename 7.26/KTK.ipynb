{
 "cells": [
  {
   "cell_type": "code",
   "execution_count": null,
   "metadata": {},
   "outputs": [],
   "source": [
    "!pip install pm4py"
   ]
  },
  {
   "cell_type": "code",
   "execution_count": null,
   "metadata": {},
   "outputs": [],
   "source": [
    "# from google.colab import drive\n",
    "# drive.mount(\"/content/drive\")"
   ]
  },
  {
   "cell_type": "code",
   "execution_count": null,
   "metadata": {},
   "outputs": [],
   "source": [
    "import os\n",
    "import pm4py\n",
    "import graphviz\n",
    "import pandas as pd\n",
    "import datetime as dt\n",
    "from pm4py.algo.discovery.alpha import algorithm as alpha_miner\n",
    "from pm4py.algo.discovery.dfg import algorithm as dfg_discovery\n",
    "from pm4py.visualization.dfg import visualizer as dfg_visualization\n",
    "from pm4py.objects.conversion.log import converter as log_converter\n",
    "from pm4py.visualization.petri_net import visualizer as pn_visualizer"
   ]
  },
  {
   "cell_type": "code",
   "execution_count": null,
   "metadata": {},
   "outputs": [],
   "source": [
    "sample = pd.read_csv(\"./sample1.csv\")"
   ]
  },
  {
   "cell_type": "code",
   "execution_count": null,
   "metadata": {},
   "outputs": [],
   "source": [
    "sample.head()"
   ]
  },
  {
   "cell_type": "code",
   "execution_count": null,
   "metadata": {},
   "outputs": [],
   "source": [
    "case_list = []\n",
    "case_number = 1\n",
    "\n",
    "for ymd in sample[\"proc_ymd\"].unique():\n",
    "    target = sample[sample[\"proc_ymd\"] == ymd]\n",
    "    for case_add in range(len(target)):\n",
    "        case_list.append(case_number)\n",
    "    case_number += 1\n",
    "\n",
    "sample[\"case_id\"] = case_list\n",
    "\n",
    "target = sample[[\"case_id\", \"eventtime_kst\", \"object_description\"]].dropna()\n",
    "eventlog = target.rename(\n",
    "    columns={\n",
    "        \"case_id\": \"case:concept:name\",\n",
    "        \"eventtime_kst\": \"time:timestamp\",\n",
    "        \"object_description\": \"concept:name\",\n",
    "        \"userid\": \"org:resource\",\n",
    "    }\n",
    ")"
   ]
  },
  {
   "cell_type": "code",
   "execution_count": null,
   "metadata": {},
   "outputs": [],
   "source": [
    "target.head()"
   ]
  },
  {
   "cell_type": "code",
   "execution_count": null,
   "metadata": {},
   "outputs": [],
   "source": [
    "# Convert the log to a suitable format for alpha miner\n",
    "log = log_converter.apply(eventlog)\n",
    "\n",
    "# Discover the process model using alpha miner\n",
    "net, initial_marking, final_marking = alpha_miner.apply(log)\n",
    "\n",
    "# Apply the Petri net visualizer\n",
    "gviz = pn_visualizer.apply(net, initial_marking, final_marking)\n",
    "\n",
    "# Convert the DOT source to a string\n",
    "dot_string = gviz.source\n",
    "\n",
    "# Render the modified DOT file using Graphviz\n",
    "graph = graphviz.Source(dot_string)\n",
    "graph"
   ]
  },
  {
   "cell_type": "code",
   "execution_count": null,
   "metadata": {},
   "outputs": [],
   "source": [
    "eventlog[\"time:timestamp\"] = eventlog[\"time:timestamp\"].apply(\n",
    "    lambda x: pd.to_datetime(x)\n",
    ")\n",
    "log = log_converter.apply(eventlog)\n",
    "\n",
    "dfg = dfg_discovery.apply(log)\n",
    "gviz = dfg_visualization.apply(\n",
    "    dfg, log=log, variant=dfg_visualization.Variants.PERFORMANCE\n",
    ")\n",
    "\n",
    "dot_string = gviz.source\n",
    "\n",
    "# Render the modified Dot file using graphviz\n",
    "graph = graphviz.Source(dot_string)\n",
    "graph"
   ]
  },
  {
   "cell_type": "code",
   "execution_count": null,
   "metadata": {},
   "outputs": [],
   "source": [
    "eventlog[\"time:timestamp\"] = eventlog[\"time:timestamp\"].apply(\n",
    "    lambda x: pd.to_datetime(x)\n",
    ")\n",
    "filtered = pm4py.filter_time_range(\n",
    "    eventlog, dt.datetime(2010, 12, 30), dt.datetime(2010, 12, 31), mode=\"events\"\n",
    ")\n",
    "\n",
    "\n",
    "log = log_converter.apply(eventlog)\n",
    "\n",
    "dfg = dfg_discovery.apply(log)\n",
    "gviz = dfg_visualization.apply(\n",
    "    dfg, log=log, variant=dfg_visualization.Variants.FREQUENCY\n",
    ")\n",
    "\n",
    "dot_string = gviz.source\n",
    "\n",
    "# Render the modified DOT file using Graphviz\n",
    "graph = graphviz.Source(dot_string)\n",
    "graph"
   ]
  },
  {
   "cell_type": "code",
   "execution_count": null,
   "metadata": {},
   "outputs": [],
   "source": [
    "log_1 = log_converter.apply(log)\n",
    "filtered = pm4py.get_event_attribute_values(log_1, \"concept:name\", {\"밀크T초등\"})"
   ]
  },
  {
   "cell_type": "code",
   "execution_count": null,
   "metadata": {},
   "outputs": [],
   "source": [
    "eventlog[\"time:timestamp\"] = eventlog[\"time:timestamp\"].apply(\n",
    "    lambda x: pd.to_datetime(x)\n",
    ")\n",
    "\n",
    "log = log_converter.apply(eventlog)\n",
    "\n",
    "dfg = dfg_discovery.apply(log)\n",
    "gviz = dfg_visualization.apply(\n",
    "    dfg, log=log, variant=dfg_visualization.Variants.FREQUENCY\n",
    ")\n",
    "\n",
    "dot_string = gviz.source\n",
    "\n",
    "# Render the modified DOT file using Graphviz\n",
    "graph = graphviz.Source(dot_string)\n",
    "graph"
   ]
  }
 ],
 "metadata": {
  "kernelspec": {
   "display_name": "base",
   "language": "python",
   "name": "python3"
  },
  "language_info": {
   "codemirror_mode": {
    "name": "ipython",
    "version": 3
   },
   "file_extension": ".py",
   "mimetype": "text/x-python",
   "name": "python",
   "nbconvert_exporter": "python",
   "pygments_lexer": "ipython3",
   "version": "3.12.4"
  }
 },
 "nbformat": 4,
 "nbformat_minor": 2
}
