{
 "cells": [
  {
   "cell_type": "markdown",
   "metadata": {},
   "source": [
    "# 실습"
   ]
  },
  {
   "cell_type": "markdown",
   "metadata": {},
   "source": [
    "1. 입력과 출력\n",
    "    - 사용자로부터 이름과 나이를 입력받습니다.\n",
    "    - 입력받은 이름과 나이는 각각 변수 `name` `age` 에 할당합니다.\n",
    "    - `안녕하세요, {이름}님 당신의 나이는 {나이}세입니다.` 라고 출력하는 프로그램을 작성하세요.\n",
    "    - 예시\n",
    "    \n",
    "    ```bash\n",
    "    이름을 입력하세요 : \n",
    "    나이를 입력하세요 : \n",
    "    안녕하세요, -님 당신의 나이는 -세입니다.\n",
    "    ```"
   ]
  },
  {
   "cell_type": "code",
   "execution_count": 10,
   "metadata": {},
   "outputs": [
    {
     "name": "stdout",
     "output_type": "stream",
     "text": [
      "안녕하세요, 곽태경님 당신의 나이는 25세입니다.\n",
      "안녕하세요, 곽태경 님 당신의 나이는 25 세입니다.\n",
      "안녕하세요, 곽태경님 당신의 나이는 25세입니다.\n"
     ]
    }
   ],
   "source": [
    "name = input(\"이름을 입력하세요 : \")\n",
    "age = input(\"나이를 입력하세요 : \")\n",
    "\n",
    "print(\"안녕하세요\", end=\", \")\n",
    "print(name, end=\"\")\n",
    "print(\"님 당신의 나이는\", end=\" \")\n",
    "print(age, end=\"\")\n",
    "print(\"세입니다.\")\n",
    "\n",
    "print(\"안녕하세요,\", name, \"님 당신의 나이는\", age, \"세입니다.\")\n",
    "\n",
    "# print(f\"안녕하세요, {name}님 당신의 나이는 {age}세입니다.\")"
   ]
  },
  {
   "cell_type": "markdown",
   "metadata": {},
   "source": [
    "2. 자료형 변환\n",
    "    - 사용자로부터 숫자 2개를 입력받습니다.\n",
    "    - 입력받은 숫자 2개를 각각 변수 `num1` `num2` 에 할당합니다.\n",
    "    - 두 변수의 자료형을 정수형으로 변환합니다.\n",
    "    - 두 변수의 `합`을 출력하는 프로그램을 작성하세요.\n",
    "    - 예시\n",
    "    \n",
    "    ```bash\n",
    "    첫 번째 숫자를 입력하세요 : \n",
    "    두 번째 숫자를 입력하세요 :\n",
    "    두 숫자의 합은 - 입니다.\n",
    "    ```"
   ]
  },
  {
   "cell_type": "code",
   "execution_count": 2,
   "metadata": {},
   "outputs": [
    {
     "name": "stdout",
     "output_type": "stream",
     "text": [
      "두 숫자의 합은 8입니다.\n",
      "두 숫자의 합은 8 입니다.\n"
     ]
    }
   ],
   "source": [
    "number1 = input(\"첫 번째 숫자를 입력하세요 : \")\n",
    "number2 = input(\"두 번째 숫자를 입력하세요 : \")\n",
    "\n",
    "number1, number2 = int(number1), int(number2)\n",
    "\n",
    "print(\"두 숫자의 합은\", end=\" \")\n",
    "print(number1 + number2, end=\"\")\n",
    "print(\"입니다.\")\n",
    "\n",
    "print(\"두 숫자의 합은\", number1 + number2, \"입니다.\")"
   ]
  },
  {
   "cell_type": "markdown",
   "metadata": {},
   "source": [
    "3. 두 숫자의 사칙연산\n",
    "    - 사용자로부터 숫자 2개를 입력받습니다.\n",
    "    - 입력받은 숫자 2개를 각각 변수 `num1` `num2` 에 할당합니다.\n",
    "    - 두 변수의 자료형을 정수형으로 변환합니다.\n",
    "    - 두 변수를 `덧셈, 뺄셈, 나눗셈, 곱셈`한 결과를 출력하는 프로그램을 작성하세요.\n",
    "    단, 연산 순서는 입력 순서대로 진행합니다.\n",
    "    - 예시\n",
    "    \n",
    "    ```bash\n",
    "    첫 번째 숫자를 입력하세요 : \n",
    "    두 번째 숫자를 입력하세요 :\n",
    "    덧셈 : -\n",
    "    빼기 : -\n",
    "    나누기 : -\n",
    "    곱하기 : -\n",
    "    ```"
   ]
  },
  {
   "cell_type": "code",
   "execution_count": 3,
   "metadata": {},
   "outputs": [
    {
     "name": "stdout",
     "output_type": "stream",
     "text": [
      "덧셈 : 7\n",
      "뺄셈 : -3\n",
      "나눗셈 : 0.4\n",
      "곱셈 : 10\n"
     ]
    }
   ],
   "source": [
    "number1 = input(\"첫 번째 숫자를 입력하세요 : \")\n",
    "number2 = input(\"두 번째 숫자를 입력하세요 : \")\n",
    "\n",
    "number1, number2 = int(number1), int(number2)\n",
    "\n",
    "print(\"덧셈 : \", end=\"\")\n",
    "print(number1 + number2)\n",
    "print(\"뺄셈 : \", end=\"\")\n",
    "print(number1 - number2)\n",
    "print(\"나눗셈 : \", end=\"\")\n",
    "print(number1 / number2)\n",
    "print(\"곱셈 : \", end=\"\")\n",
    "print(number1 * number2)"
   ]
  },
  {
   "cell_type": "markdown",
   "metadata": {},
   "source": [
    "4. 두 숫자의 몫과 나머지\n",
    "    - 사용자로부터 숫자 2개를 입력받습니다.\n",
    "    - 입력받은 숫자 2개를 각각 변수 `num1` `num2` 에 할당합니다.\n",
    "    - 두 변수의 자료형을 정수형으로 변환합니다.\n",
    "    - `num1 / num2` 의 `몫, 나머지`를 출력하는 프로그램을 작성하세요.\n",
    "    - 예시\n",
    "    \n",
    "    ```bash\n",
    "    첫 번째 숫자를 입력하세요 : \n",
    "    두 번째 숫자를 입력하세요 :\n",
    "    몫 : -\n",
    "    나머지 : -\n",
    "    ```"
   ]
  },
  {
   "cell_type": "code",
   "execution_count": 4,
   "metadata": {},
   "outputs": [
    {
     "name": "stdout",
     "output_type": "stream",
     "text": [
      "몫 : 2\n",
      "나머지 : 0\n"
     ]
    }
   ],
   "source": [
    "number1 = input(\"첫 번째 숫자를 입력하세요 : \")\n",
    "number2 = input(\"두 번째 숫자를 입력하세요 : \")\n",
    "\n",
    "number1, number2 = int(number1), int(number2)\n",
    "\n",
    "print(\"몫 : \", end=\"\")\n",
    "print(number1 // number2)\n",
    "print(\"나머지 : \", end=\"\")\n",
    "print(number1 % number2)"
   ]
  },
  {
   "cell_type": "markdown",
   "metadata": {},
   "source": [
    "5. 세 숫자의 평균\n",
    "    - 사용자로부터 숫자 3개를 입력받습니다.\n",
    "    - 세 변수의 `평균` 을 구한 결과를 출력하는 프로그램을 작성하세요.\n",
    "    - 예시\n",
    "    \n",
    "    ```bash\n",
    "    첫 번째 숫자를 입력하세요 : \n",
    "    두 번째 숫자를 입력하세요 :\n",
    "    세 번째 숫자를 입력하세요 :\n",
    "    평균 : -\n",
    "    ```"
   ]
  },
  {
   "cell_type": "code",
   "execution_count": 5,
   "metadata": {},
   "outputs": [
    {
     "name": "stdout",
     "output_type": "stream",
     "text": [
      "평균 : 2.0\n"
     ]
    }
   ],
   "source": [
    "number1 = input(\"첫 번째 숫자를 입력하세요 : \")\n",
    "number2 = input(\"두 번째 숫자를 입력하세요 : \")\n",
    "number3 = input(\"세 번째 숫자를 입력하세요 : \")\n",
    "\n",
    "number1, number2, number3 = int(number1), int(number2), int(number3)\n",
    "\n",
    "average = (number1 + number2 + number3) / 3\n",
    "\n",
    "print(\"평균 :\", average)"
   ]
  },
  {
   "cell_type": "markdown",
   "metadata": {},
   "source": [
    "6. 문자열 연산\n",
    "    - 사용자로부터 문자열 2개를 입력받습니다.\n",
    "    - 두 문자열을 하나의 문자열로 연결한 결과를 출력하는 프로그램을 작성하세요.\n",
    "    단, 합친 두 문자열 사이를 `/`  로 연결하세요.\n",
    "    - 예시\n",
    "    \n",
    "    ```bash\n",
    "    첫 번째 문자열을 입력하세요 : Hello\n",
    "    두 번째 문자열을 입력하세요 : Python\n",
    "    연결한 문자열 : Hello/Python\n",
    "    ```"
   ]
  },
  {
   "cell_type": "code",
   "execution_count": 1,
   "metadata": {},
   "outputs": [
    {
     "name": "stdout",
     "output_type": "stream",
     "text": [
      "연결한 문자열 : Hello/Python\n"
     ]
    }
   ],
   "source": [
    "str1 = input(\"첫 번째 문자열을 입력하세요 : \")\n",
    "str2 = input(\"두 번째 문자열을 입력하세요 : \")\n",
    "\n",
    "print(\"연결한 문자열 :\", str1, end=\"/\")\n",
    "print(str2)"
   ]
  },
  {
   "cell_type": "markdown",
   "metadata": {},
   "source": [
    "7. 사각형의 둘레와 넓이\n",
    "    - 사용자로부터 변의 길이 2개를 입력받습니다.\n",
    "    - 사각형의 `둘레, 넓이` 를 구한 결과를 출력하는 프로그램을 작성하세요.\n",
    "    - 예시\n",
    "    \n",
    "    ```bash\n",
    "    첫 번째 변의 길이를 입력하세요 :\n",
    "    두 번째 변의 길이를 입력하세요 :\n",
    "    사각형의 둘레 : - \n",
    "    사각형의 넓이 : -\n",
    "    ```"
   ]
  },
  {
   "cell_type": "code",
   "execution_count": 7,
   "metadata": {},
   "outputs": [
    {
     "name": "stdout",
     "output_type": "stream",
     "text": [
      "사각형의 둘레 : 14\n",
      "사각형의 넓이 : 10\n"
     ]
    }
   ],
   "source": [
    "x = input(\"첫 번째 변의 길이를 입력하세요 : \")\n",
    "y = input(\"두 번째 변의 길이를 입력하세요 : \")\n",
    "\n",
    "x, y = int(x), int(y)\n",
    "\n",
    "print(\"사각형의 둘레 :\", x + x + y + y)\n",
    "print(\"사각형의 넓이 :\", x * y)"
   ]
  },
  {
   "cell_type": "markdown",
   "metadata": {},
   "source": [
    "8. 원의 둘레와 넓이\n",
    "    - 사용자로부터 반지름을 입력받습니다.\n",
    "    - 원의 `둘레, 넓이` 를 구한 결과를 출력하는 프로그램을 작성하세요.\n",
    "    단, π ****= 3.14\n",
    "    - 예시\n",
    "    \n",
    "    ```bash\n",
    "    반지름을 입력하세요 :\n",
    "    원의 둘레 : -\n",
    "    원의 넓이 : -\n",
    "    ```"
   ]
  },
  {
   "cell_type": "code",
   "execution_count": 8,
   "metadata": {},
   "outputs": [
    {
     "name": "stdout",
     "output_type": "stream",
     "text": [
      "원의 둘레 : 31.400000000000002\n",
      "원의 넓이 : 78.5\n"
     ]
    }
   ],
   "source": [
    "r = input(\"반지름을 입력하세요 : \")\n",
    "\n",
    "r, pi = int(r), 3.14\n",
    "\n",
    "print(\"원의 둘레 :\", 2 * pi * r)\n",
    "print(\"원의 넓이 :\", pi * (r**2))"
   ]
  },
  {
   "cell_type": "markdown",
   "metadata": {},
   "source": [
    "9. 거듭제곱\n",
    "    - 사용자로부터 밑`a` 과 지수`b` 를 입력받습니다.\n",
    "    - `a^b` 의 결과를 출력하는 프로그램을 작성하세요.\n",
    "    - 예시\n",
    "    \n",
    "    ```bash\n",
    "    밑을 입력하세요 : \n",
    "    지수를 입력하세요 : \n",
    "    a^b : -\n",
    "    ```"
   ]
  },
  {
   "cell_type": "code",
   "execution_count": 11,
   "metadata": {},
   "outputs": [
    {
     "name": "stdout",
     "output_type": "stream",
     "text": [
      "a^b : 81\n"
     ]
    }
   ],
   "source": [
    "a = input(\"밑을 입력하세요 : \")\n",
    "b = input(\"지수를 입력하세요 : \")\n",
    "\n",
    "a, b = int(a), int(b)\n",
    "\n",
    "print(\"a^b :\", a**b)"
   ]
  }
 ],
 "metadata": {
  "kernelspec": {
   "display_name": "base",
   "language": "python",
   "name": "python3"
  },
  "language_info": {
   "codemirror_mode": {
    "name": "ipython",
    "version": 3
   },
   "file_extension": ".py",
   "mimetype": "text/x-python",
   "name": "python",
   "nbconvert_exporter": "python",
   "pygments_lexer": "ipython3",
   "version": "3.12.4"
  }
 },
 "nbformat": 4,
 "nbformat_minor": 2
}
