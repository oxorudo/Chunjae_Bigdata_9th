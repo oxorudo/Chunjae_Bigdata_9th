{
 "cells": [
  {
   "cell_type": "code",
   "execution_count": 3,
   "metadata": {},
   "outputs": [],
   "source": [
    "# write\n",
    "file = open(\"example.txt\", \"w\") # 파일 열기(쓰기 모드) # w : 쓰기 모드(파일이 존재하지 않으면 새로 생성, 기존 파일이 있으면 덮어씀)\n",
    "file.write(\"Hello World\") # write(내용)\n",
    "file.close() # 닫기"
   ]
  },
  {
   "cell_type": "markdown",
   "metadata": {},
   "source": [
    "### 파일 열기 모드\n",
    "\n",
    "- 파일을 열 때 모드를 선택해서 열 수 있습니다.\n",
    "    - `r`: 읽기 모드 (파일이 존재해야 함)\n",
    "    - `w`: 쓰기 모드 (파일이 존재하지 않으면 새로 생성, 기존 파일이 있으면 덮어씀)\n",
    "    - `a`: 추가 모드 (파일이 존재하지 않으면 새로 생성, 기존 파일이 있으면 파일 끝에 추가)\n",
    "    - `t`: 텍스트 모드 (기본값, 텍스트 파일을 다룰 때 사용)"
   ]
  },
  {
   "cell_type": "code",
   "execution_count": 5,
   "metadata": {},
   "outputs": [],
   "source": [
    "# with문 : 파일을 자동으로 닫아줘서 안전하게 파일을 다룰 수 있게 해줌\n",
    "with open(\"example.txt\", \"w\") as file:\n",
    "    file.write(\"Hello Python\")"
   ]
  },
  {
   "cell_type": "code",
   "execution_count": 6,
   "metadata": {},
   "outputs": [],
   "source": [
    "# 추가 모드(a) : 이어서 계속 쓰게 됨\n",
    "with open(\"example.txt\", \"a\") as file:\n",
    "    file.write(\"Hello Python \\n\")"
   ]
  },
  {
   "cell_type": "code",
   "execution_count": 7,
   "metadata": {},
   "outputs": [
    {
     "name": "stdout",
     "output_type": "stream",
     "text": [
      "Hello PythonHello Python \n",
      "\n",
      "<class 'str'>\n"
     ]
    }
   ],
   "source": [
    "# read\n",
    "with open(\"example.txt\", \"r\") as f: # 읽기 모드 r # file = f로 간소화(as 이용)\n",
    "    content = f.read()\n",
    "    print(content)\n",
    "    print(type(content))"
   ]
  },
  {
   "cell_type": "code",
   "execution_count": 10,
   "metadata": {},
   "outputs": [
    {
     "name": "stdout",
     "output_type": "stream",
     "text": [
      "Hello PythonHello Python \n",
      "\n"
     ]
    }
   ],
   "source": [
    "# readline() : 파일에서 한 줄씩 읽어옴, 호출할 때마다 다음 줄을 읽음\n",
    "with open(\"example.txt\", \"r\") as f:\n",
    "    line = f.readline()\n",
    "    while line:\n",
    "        print(line)\n",
    "        line = f.readline()\n",
    "        "
   ]
  },
  {
   "cell_type": "code",
   "execution_count": 11,
   "metadata": {},
   "outputs": [
    {
     "name": "stdout",
     "output_type": "stream",
     "text": [
      "['Hello PythonHello Python \\n']\n",
      "Hello PythonHello Python a\n"
     ]
    }
   ],
   "source": [
    "# readlines() - 파일에서 모든 줄을 읽고, 각 줄을 리스트의 원소로 저장\n",
    "with open(\"example.txt\", \"r\") as f:\n",
    "    lines = f.readlines()\n",
    "    print(lines)\n",
    "\n",
    "    for line in lines:\n",
    "        print(line.replace(\"\\n\", \"a\"))  # 역슬래시를 빈 문자로 바꿈"
   ]
  }
 ],
 "metadata": {
  "kernelspec": {
   "display_name": "base",
   "language": "python",
   "name": "python3"
  },
  "language_info": {
   "codemirror_mode": {
    "name": "ipython",
    "version": 3
   },
   "file_extension": ".py",
   "mimetype": "text/x-python",
   "name": "python",
   "nbconvert_exporter": "python",
   "pygments_lexer": "ipython3",
   "version": "3.12.3"
  }
 },
 "nbformat": 4,
 "nbformat_minor": 2
}
