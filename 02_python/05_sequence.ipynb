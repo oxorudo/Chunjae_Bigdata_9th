{
 "cells": [
  {
   "cell_type": "code",
   "execution_count": 6,
   "metadata": {},
   "outputs": [
    {
     "name": "stdout",
     "output_type": "stream",
     "text": [
      "[]\n",
      "<class 'list'>\n",
      "False\n"
     ]
    }
   ],
   "source": [
    "# 리스트 변수의 생성\n",
    "# 정수형 => ex) 변수이름 = 5 형태\n",
    "\n",
    "# 리스트의 표시 대괄호 []\n",
    "numbers = []  # 비어 있는 리스트를 생성해서 변수에 저장\n",
    "\n",
    "print(numbers)\n",
    "print(type(numbers))\n",
    "print(bool(numbers))  # 비어있는 리스트 [] 거짓(False)로 평가"
   ]
  },
  {
   "cell_type": "code",
   "execution_count": 4,
   "metadata": {},
   "outputs": [
    {
     "name": "stdout",
     "output_type": "stream",
     "text": [
      "[1, 2, 3, 4]\n",
      "True\n"
     ]
    }
   ],
   "source": [
    "# 리스트 변수에 값을 저장\n",
    "# 대괄호 [] 안에 값을 작성하는데 쉼표(,)로 값들을 구분\n",
    "\n",
    "numbers = [1, 2, 3, 4]\n",
    "\n",
    "print(numbers)\n",
    "print(bool(numbers))  # 값이 하나라도 있으면 참(True)로 평가"
   ]
  },
  {
   "cell_type": "code",
   "execution_count": 7,
   "metadata": {},
   "outputs": [
    {
     "name": "stdout",
     "output_type": "stream",
     "text": [
      "[1, 1.5, '1.5', False]\n"
     ]
    }
   ],
   "source": [
    "# 리스트에 값을 저장할 때, 값들의 자료형의 구분이 없다.\n",
    "# 동일한 자료형만 있어야 할 필요가 없음\n",
    "\n",
    "datas = [1, 1.5, \"1.5\", False]\n",
    "\n",
    "print(datas)"
   ]
  },
  {
   "cell_type": "code",
   "execution_count": 10,
   "metadata": {},
   "outputs": [
    {
     "name": "stdout",
     "output_type": "stream",
     "text": [
      "[1, 2, 3, 4, 5]\n"
     ]
    }
   ],
   "source": [
    "# 리스트 연산\n",
    "# + 와 * 두 가지가 있음\n",
    "\n",
    "# 더하기(+) : 두 개 이상의 리스트를 이어서 새로운 리스트를 생성\n",
    "numbers1 = [1, 2]\n",
    "numbers2 = [3, 4]\n",
    "number3 = [5]\n",
    "\n",
    "numbers4 = numbers1 + numbers2 + number3\n",
    "# numbers4 변수에 numbers1, numbers2, number3 을 연결해서 생긴 리스트를 저장\n",
    "\n",
    "print(numbers4)"
   ]
  },
  {
   "cell_type": "code",
   "execution_count": 11,
   "metadata": {},
   "outputs": [
    {
     "name": "stdout",
     "output_type": "stream",
     "text": [
      "[1, 2, 1, 2, 1, 2, 1, 2, 1, 2, 1, 2, 1, 2, 1, 2, 1, 2, 1, 2]\n"
     ]
    }
   ],
   "source": [
    "# 곱하기(*) : 하나의 리스트를 곱한 수 만큼 연결해서 새로운 리스트를 생성\n",
    "numbers1 = [1, 2]\n",
    "numbers2 = numbers1 * 10\n",
    "# numbers2 변수에 numbers1을 10번 연결해서 생성된 리스트를 저장\n",
    "\n",
    "print(numbers2)"
   ]
  },
  {
   "cell_type": "code",
   "execution_count": 15,
   "metadata": {},
   "outputs": [
    {
     "name": "stdout",
     "output_type": "stream",
     "text": [
      "1\n",
      "2\n",
      "3\n",
      "4\n",
      "5\n"
     ]
    }
   ],
   "source": [
    "# 리스트의 인덱싱(index)\n",
    "# 리스트 내부 값을 찾는(조회, 접근) 방법\n",
    "numbers = [1, 2, 3, 4, 5]\n",
    "\n",
    "# numbers에 저장된 값들을 출력\n",
    "# 인덱스는 0부터 시작\n",
    "print(numbers[0])\n",
    "print(numbers[1])\n",
    "print(numbers[2])\n",
    "print(numbers[3])\n",
    "print(numbers[4])"
   ]
  },
  {
   "cell_type": "code",
   "execution_count": 17,
   "metadata": {},
   "outputs": [
    {
     "name": "stdout",
     "output_type": "stream",
     "text": [
      "5\n",
      "3\n",
      "2\n",
      "4\n",
      "1\n"
     ]
    }
   ],
   "source": [
    "# 음수 인덱싱 : 음수를 활용한 인덱싱, 리스트의 값들을 반대로 찾는다.\n",
    "# 음수 인덱싱의 첫 번재는 -1\n",
    "\n",
    "# 정수, 음수 0 양수\n",
    "numbers = [1, 2, 3, 4, 5]\n",
    "\n",
    "print(numbers[-1])\n",
    "print(numbers[-3])\n",
    "print(numbers[-4])\n",
    "print(numbers[-2])\n",
    "print(numbers[-5])"
   ]
  },
  {
   "cell_type": "code",
   "execution_count": 21,
   "metadata": {},
   "outputs": [
    {
     "name": "stdout",
     "output_type": "stream",
     "text": [
      "[1, 2, 3, 4, 5]\n",
      "[0, 2, 3, 4, 5]\n",
      "[0, 1, 3, 4, 5]\n",
      "[0, 1, 3, 4, 99]\n"
     ]
    }
   ],
   "source": [
    "# 리스트의 인덱싱을 활용한 값 수정\n",
    "numbers = [1, 2, 3, 4, 5]\n",
    "print(numbers)\n",
    "\n",
    "# 수정을 원하는 위치를 찾고, 그 위치에 새로운 값을 저장\n",
    "numbers[0] = 0\n",
    "\n",
    "print(numbers)\n",
    "\n",
    "numbers[1] = 1\n",
    "print(numbers)\n",
    "\n",
    "# 음수 인덱싱을 이용해도 수정 가능\n",
    "numbers[-1] = 99\n",
    "print(numbers)"
   ]
  },
  {
   "cell_type": "markdown",
   "metadata": {},
   "source": [
    "### 유용한 기능\n",
    "\n",
    "1. 한 줄 복사 : 원하는 줄에 아무 곳이나 커서를 올리고 ctrl + c (드래그 x)\n",
    "2. 한 줄 잘라내기 : 한 줄 복사 + 삭제, ctrl + x"
   ]
  },
  {
   "cell_type": "code",
   "execution_count": 38,
   "metadata": {},
   "outputs": [
    {
     "name": "stdout",
     "output_type": "stream",
     "text": [
      "[1, 2, 3, 4]\n",
      "[1, 2, 3, 4]\n",
      "[1, 2, 3, 4]\n",
      "[2, 3, 4, 5]\n",
      "[2, 3, 4]\n",
      "[1, 3]\n",
      "[1, 2, 3, 4, 5]\n",
      "[5, 4, 3, 2, 1]\n",
      "[]\n"
     ]
    }
   ],
   "source": [
    "# 리스트의 슬라이싱\n",
    "# 리스트의 일부를 분할하는 방법\n",
    "\n",
    "numbers = [1, 2, 3, 4, 5]\n",
    "# numbers[start : end : step]\n",
    "# start <= 분할되는 값 < end (start부터 end 전까지)\n",
    "\n",
    "# start, end, step을 다 쓰는 경우\n",
    "# 1,2,3,4\n",
    "print(numbers[0:4:1])\n",
    "\n",
    "# step은 생략이 가능, 기본값 = 1\n",
    "print(numbers[0:4])\n",
    "\n",
    "# start도 생략이 가능, 기본값 = 0\n",
    "print(numbers[:4])\n",
    "\n",
    "# end도 생략이 가능, start 부터 마지막 값까지 분할\n",
    "print(numbers[1:])\n",
    "\n",
    "# 음수를 활용해서도 슬라이싱 가능\n",
    "print(numbers[-4:-1])\n",
    "\n",
    "# step = 2\n",
    "print(numbers[0:4:2])\n",
    "\n",
    "# start, end, step을 모두 생략\n",
    "# print(nmubers)\n",
    "print(numbers[::])\n",
    "\n",
    "# step = -1 : 순서가 반대로 분할\n",
    "print(numbers[::-1])\n",
    "\n",
    "# 선생님께서 실수하신 것에 대한 출력이 안나온이유\n",
    "# 1 -> 4, -1 증가?\n",
    "print(numbers[1:4:-1])\n",
    "# step이 -1이므로 1부터 4까지 슬라이싱 할 수 없다."
   ]
  },
  {
   "cell_type": "code",
   "execution_count": 40,
   "metadata": {},
   "outputs": [
    {
     "name": "stdout",
     "output_type": "stream",
     "text": [
      "[]\n",
      "[1]\n",
      "[1, 1.5]\n",
      "[1, 1.5, 'Hello World']\n"
     ]
    }
   ],
   "source": [
    "# 리스트에 값 추가\n",
    "# 리스트변수.append(값)\n",
    "# 리스트의 마지막에 새로운 값을 추가\n",
    "\n",
    "numbers = []\n",
    "print(numbers)\n",
    "numbers.append(1)  # 리스트의 마지막에 1을 추가\n",
    "print(numbers)\n",
    "numbers.append(1.5)  # 리스트 마지막에 값 1.5를 추가\n",
    "print(numbers)\n",
    "\n",
    "word = \"Hello World\"\n",
    "numbers.append(word)  # 리스트 마지막에 변수 word가 가진 값을 추가\n",
    "print(numbers)"
   ]
  },
  {
   "cell_type": "code",
   "execution_count": 44,
   "metadata": {},
   "outputs": [
    {
     "name": "stdout",
     "output_type": "stream",
     "text": [
      "[1, 2, 3]\n",
      "[1, 2]\n",
      "[1, 2, 3, 4, 5]\n",
      "[1, 2, 4, 5]\n",
      "[1, 2, 5]\n",
      "5\n"
     ]
    }
   ],
   "source": [
    "# 리스트의 값 삭제\n",
    "# 리스트변수.pop()\n",
    "# 리스트의 마지막 값을 삭제\n",
    "numbers = [1, 2, 3]\n",
    "print(numbers)\n",
    "\n",
    "numbers.pop()\n",
    "print(numbers)\n",
    "\n",
    "# 리스트변수.pop(인덱스)\n",
    "# 특정 인덱스의 값이 삭제\n",
    "numbers = [1, 2, 3, 4, 5]\n",
    "print(numbers)\n",
    "# 값 3을 삭제 -> 인덱스 2의 값을 삭제\n",
    "numbers.pop(2)\n",
    "print(numbers)\n",
    "\n",
    "# 값 4를 삭제 -> 동일하게 인덱스 2의 값을 삭제\n",
    "numbers.pop(2)\n",
    "print(numbers)\n",
    "\n",
    "# pop()으로 삭제한 값은 반환됨\n",
    "# 반환된다 -> 특정 기능을 수행하고, 어떠한 값을 돌려준다.\n",
    "numbers = [1, 2, 3, 4, 5]\n",
    "\n",
    "print(numbers.pop())  # numbers.pop() == 5"
   ]
  },
  {
   "cell_type": "code",
   "execution_count": 48,
   "metadata": {},
   "outputs": [
    {
     "name": "stdout",
     "output_type": "stream",
     "text": [
      "word2\n"
     ]
    }
   ],
   "source": [
    "# 문자열은 추가, 삭제, 수정이 불가능하다.\n",
    "string = \"word\"\n",
    "# string[0] = \"m\" 문자열은 수정이 불가능하다.\n",
    "\n",
    "new_string = (\n",
    "    string + \"2\"\n",
    ")  # 값을 추가한 것처럼 보이지만, 사실은 새로운 문자열을 생성한 것이다.\n",
    "print(new_string)"
   ]
  },
  {
   "cell_type": "code",
   "execution_count": 56,
   "metadata": {},
   "outputs": [
    {
     "name": "stdout",
     "output_type": "stream",
     "text": [
      "안녕하세요. 저의 이름은 곽태경입니다.\n",
      "저의 나이는 25입니다.\n",
      "저의 나이는 24.0입니다.\n",
      "안녕하세요. 저의 이름은 곽태경이고 나이는 25입니다.\n"
     ]
    }
   ],
   "source": [
    "# 문자열 f-string\n",
    "# 문자열을 생성할 때 변수의 삽입을 편하게 해 주는 문법\n",
    "\n",
    "# f-string의 구조\n",
    "# f\"문자열 앞에 f를 붙이고, 문자열 내부에 변수를 넣고 싶은 위치에는 중괄호로 {변수}를 감싸 넣습니다.\"\n",
    "\n",
    "name = \"곽태경\"\n",
    "introduce = f\"안녕하세요. 저의 이름은 {name}입니다.\"\n",
    "\n",
    "print(introduce)\n",
    "\n",
    "# 변수 대신에 표현식(연산식)을 넣을 수 있습니다.\n",
    "age = 24\n",
    "introduce = f\"저의 나이는 {age+1}입니다.\"\n",
    "print(introduce)\n",
    "\n",
    "introduce = f\"저의 나이는 {float(age)}입니다.\"\n",
    "\n",
    "print(introduce)\n",
    "\n",
    "print(f\"안녕하세요. 저의 이름은 {name}이고 나이는 {age+1}입니다.\")"
   ]
  },
  {
   "cell_type": "code",
   "execution_count": 64,
   "metadata": {},
   "outputs": [
    {
     "name": "stdout",
     "output_type": "stream",
     "text": [
      "range(0, 10)\n",
      "[0, 1, 2, 3, 4, 5, 6, 7, 8, 9]\n",
      "[0, 1, 2, 3, 4, 5, 6, 7, 8, 9]\n",
      "[0, 1, 2, 3, 4, 5, 6, 7, 8, 9]\n",
      "[10, 9, 8, 7, 6, 5, 4, 3, 2, 1]\n"
     ]
    }
   ],
   "source": [
    "# 레인지(range)\n",
    "# 연속된 정수의 목록을 생성해주는 기능(함수)\n",
    "\n",
    "# range(start, end, step)\n",
    "# 리스트와 동일하게 end는 포함하지 않는다.\n",
    "\n",
    "print(range(0, 10, 1))\n",
    "print(list(range(0, 10, 1)))  # 레인지를 리스트로 형 변환\n",
    "\n",
    "# step 생략 가능, 기본값 = 1\n",
    "print(list(range(0, 10)))\n",
    "\n",
    "# start 생략 가능, 기본값 = 0\n",
    "print(list(range(10)))\n",
    "\n",
    "# end는 생략 불가능\n",
    "\n",
    "# step = -1, 반대로 생성됨\n",
    "print(list(range(10, 0, -1)))"
   ]
  },
  {
   "cell_type": "code",
   "execution_count": 67,
   "metadata": {},
   "outputs": [
    {
     "name": "stdout",
     "output_type": "stream",
     "text": [
      "<class 'tuple'>\n"
     ]
    },
    {
     "ename": "TypeError",
     "evalue": "'tuple' object does not support item assignment",
     "output_type": "error",
     "traceback": [
      "\u001b[1;31m---------------------------------------------------------------------------\u001b[0m",
      "\u001b[1;31mTypeError\u001b[0m                                 Traceback (most recent call last)",
      "Cell \u001b[1;32mIn[67], line 6\u001b[0m\n\u001b[0;32m      3\u001b[0m numbers \u001b[38;5;241m=\u001b[39m (\u001b[38;5;241m1\u001b[39m,\u001b[38;5;241m2\u001b[39m,\u001b[38;5;241m3\u001b[39m,\u001b[38;5;241m4\u001b[39m,\u001b[38;5;241m5\u001b[39m)\n\u001b[0;32m      4\u001b[0m \u001b[38;5;28mprint\u001b[39m(\u001b[38;5;28mtype\u001b[39m(numbers))\n\u001b[1;32m----> 6\u001b[0m numbers[\u001b[38;5;241m0\u001b[39m] \u001b[38;5;241m=\u001b[39m \u001b[38;5;241m0\u001b[39m\n",
      "\u001b[1;31mTypeError\u001b[0m: 'tuple' object does not support item assignment"
     ]
    }
   ],
   "source": [
    "# 튜플 : 리스트와 거의 같지만 수정이 불가능하다, 소괄호로 감싸준다. 리스트와 연산은 동일하다.\n",
    "\n",
    "numbers = (1, 2, 3, 4, 5)\n",
    "print(type(numbers))\n",
    "\n",
    "numbers[0] = 0"
   ]
  },
  {
   "cell_type": "markdown",
   "metadata": {},
   "source": [
    "### 리스트 문자열 튜플 비교\n",
    "\n",
    "- 수정(추가, 삭제) 가능 여부\n",
    "    - 리스트 가능\n",
    "    -문자열 불가능\n",
    "    -튜플 불가능\n",
    "- 인덱싱\n",
    "    -모두 가능\n",
    "- 슬라이싱\n",
    "    - 모두 가능\n",
    "- 값들의 자료형 일치 여부\n",
    "    - 리스트 : 값들의 자료형이 달라도 된다.\n",
    "    - 튜플 : 값들의 자료형이 달라도 된다.\n",
    "    - 문자열 : 문자만 가능하다."
   ]
  },
  {
   "cell_type": "code",
   "execution_count": 70,
   "metadata": {},
   "outputs": [
    {
     "name": "stdout",
     "output_type": "stream",
     "text": [
      "True\n",
      "False\n",
      "True\n"
     ]
    }
   ],
   "source": [
    "# 멤버쉽 연산자\n",
    "# in / not in\n",
    "# 특정 값이 컨테이너 변수에 있는지 평가(참 / 거짓)하는 연산자\n",
    "\n",
    "numbers = [1, 2, 3]\n",
    "is_in_one = 1 in numbers # 정수형 1이 numbers 변수에 있는지 평가\n",
    "print(is_in_one)\n",
    "\n",
    "is_in_one = \"1\" in numbers # 문자열 1 존재 여부를 평가\n",
    "print(is_in_one)\n",
    "\n",
    "is_not_in_four = 4 not in numbers # 정수형 4가 numbers에 없는지 평가\n",
    "print(is_not_in_four)"
   ]
  }
 ],
 "metadata": {
  "kernelspec": {
   "display_name": "base",
   "language": "python",
   "name": "python3"
  },
  "language_info": {
   "codemirror_mode": {
    "name": "ipython",
    "version": 3
   },
   "file_extension": ".py",
   "mimetype": "text/x-python",
   "name": "python",
   "nbconvert_exporter": "python",
   "pygments_lexer": "ipython3",
   "version": "3.12.4"
  }
 },
 "nbformat": 4,
 "nbformat_minor": 2
}
