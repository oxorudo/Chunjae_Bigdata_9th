{
 "cells": [
  {
   "cell_type": "code",
   "execution_count": null,
   "metadata": {},
   "outputs": [],
   "source": [
    "# input(프롬프트) : 입력받기\n",
    "input(\"이름을 입력해 주세요.\")  # 괄호 안의 내용은 프롬프트(안내 메시지)"
   ]
  },
  {
   "cell_type": "code",
   "execution_count": null,
   "metadata": {},
   "outputs": [],
   "source": [
    "input()  # 프롬프트 없이도 가능"
   ]
  },
  {
   "cell_type": "code",
   "execution_count": null,
   "metadata": {},
   "outputs": [],
   "source": [
    "# 입력만 받아서는 값을 활용할 수 없음\n",
    "# 입력 받은 값을 변수에 저장\n",
    "name = input(\"이름을 입력해 주세요.\")\n",
    "print(name)\n",
    "\n",
    "# 입력을 받은 값은 모두 문자열\n",
    "print(type(name))"
   ]
  },
  {
   "cell_type": "code",
   "execution_count": null,
   "metadata": {},
   "outputs": [],
   "source": [
    "# 숫자를 받았더라도 자료형은 문자열\n",
    "age = input(\"나이를 입력해주세요.\")\n",
    "\n",
    "print(age)\n",
    "print(type(age))"
   ]
  },
  {
   "cell_type": "code",
   "execution_count": null,
   "metadata": {},
   "outputs": [],
   "source": [
    "# 입력받은 값을 정수형으로 사용하고 싶으면?\n",
    "\n",
    "age = int(input(\"나이를 입력해주세요.\"))\n",
    "\n",
    "print(age)\n",
    "print(type(age))"
   ]
  },
  {
   "cell_type": "code",
   "execution_count": 16,
   "metadata": {},
   "outputs": [
    {
     "name": "stdout",
     "output_type": "stream",
     "text": [
      "이름\n",
      "나이\n"
     ]
    }
   ],
   "source": [
    "# 사용자 출력\n",
    "# print(값) : 값을 출력함\n",
    "# 함수가 실행되면 자동으로 한 줄을 띄움(개행, 개행문자 : \\n)\n",
    "print(\"이름\")\n",
    "print(\"나이\")"
   ]
  },
  {
   "cell_type": "code",
   "execution_count": 17,
   "metadata": {},
   "outputs": [
    {
     "name": "stdout",
     "output_type": "stream",
     "text": [
      "곽태경 25 수원\n",
      "곽태경 25 수원\n"
     ]
    }
   ],
   "source": [
    "# print(값1, 값2, 값3, ... ) : 여러개의 값을 출력함\n",
    "print(\"곽태경\", 25, \"수원\")\n",
    "\n",
    "name = \"곽태경\"\n",
    "age = 25\n",
    "location = \"수원\"\n",
    "\n",
    "print(name, age, location)"
   ]
  },
  {
   "cell_type": "code",
   "execution_count": 20,
   "metadata": {},
   "outputs": [
    {
     "name": "stdout",
     "output_type": "stream",
     "text": [
      "hello world!!?"
     ]
    }
   ],
   "source": [
    "# end 옵션 : 출력 마지막에 나올 문자열을 설정\n",
    "print(\"hello world\", end=\"!!?\")"
   ]
  },
  {
   "cell_type": "code",
   "execution_count": 26,
   "metadata": {},
   "outputs": [
    {
     "name": "stdout",
     "output_type": "stream",
     "text": [
      "hello!world\n",
      "010-1234-5678\n",
      "helloworld\n",
      "hello\n",
      "world\n"
     ]
    }
   ],
   "source": [
    "print(\"hello\", end=\"!\")  # end 옵션을 사용하면 원래 끝에 붙던 개행문자가 사라짐\n",
    "print(\"world\")\n",
    "\n",
    "print(\"010\", end=\"-\")\n",
    "print(\"1234\", end=\"-\")  # end 옵션에 - 사용해서 전화번호 표현\n",
    "print(\"5678\")\n",
    "\n",
    "print(\"hello\", end=\"\")  # end 옵션에 빈 문자열을 넣으면 붙여 쓰기 가능\n",
    "print(\"world\")\n",
    "\n",
    "# print의 기본값\n",
    "print(\"hello\", end=\"\\n\")\n",
    "print(\"world\")"
   ]
  }
 ],
 "metadata": {
  "kernelspec": {
   "display_name": "base",
   "language": "python",
   "name": "python3"
  },
  "language_info": {
   "codemirror_mode": {
    "name": "ipython",
    "version": 3
   },
   "file_extension": ".py",
   "mimetype": "text/x-python",
   "name": "python",
   "nbconvert_exporter": "python",
   "pygments_lexer": "ipython3",
   "version": "3.12.4"
  }
 },
 "nbformat": 4,
 "nbformat_minor": 2
}
