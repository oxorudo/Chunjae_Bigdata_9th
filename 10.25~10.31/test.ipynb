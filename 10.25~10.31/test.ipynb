{
 "cells": [
  {
   "cell_type": "markdown",
   "metadata": {},
   "source": [
    "1. Python을 통한 DB Connection\n",
    "\n",
    "## 1-1 Postgresql 라이브러리(psycopg2)를 활용한 Connection\n",
    "\n",
    "### 1) Connection"
   ]
  },
  {
   "cell_type": "code",
   "execution_count": 25,
   "metadata": {},
   "outputs": [],
   "source": [
    "import psycopg2\n",
    "\n",
    "# database connection\n",
    "db = psycopg2.connect(\n",
    "    host=\"127.0.0.1\",\n",
    "    dbname=\"postgres\",\n",
    "    user=\"postgres\",\n",
    "    password=\"\",\n",
    "    port=5432,\n",
    ")"
   ]
  },
  {
   "cell_type": "code",
   "execution_count": 26,
   "metadata": {},
   "outputs": [],
   "source": [
    "cursor = db.cursor()"
   ]
  },
  {
   "cell_type": "markdown",
   "metadata": {},
   "source": [
    "### 2) CRUD Execution"
   ]
  },
  {
   "cell_type": "code",
   "execution_count": 7,
   "metadata": {},
   "outputs": [],
   "source": [
    "create_query = \"CREATE TABLE lecture (id SERIAL PRIMARY KEY, name VARCHAR(32), year INT, gender VARCHAR(10), count INT);\"\n",
    "\n",
    "insert_query = \"INSERT INTO lecture VALUES (1, 'Tom', 2024, 'M', 1100);\"\n",
    "\n",
    "update_query = \"\"\"\n",
    "    UPDATE lecture\n",
    "    SET id = 1,\n",
    "        name = 'CHUNJAE',\n",
    "        year = '1994',\n",
    "        gender = 'M',\n",
    "        count = '1000'\n",
    "    WHERE id = 1;\n",
    "    \"\"\"\n",
    "\n",
    "delete_query = \"DELETE FROM lecture WHERE id = 1;\"\n",
    "\n",
    "drop_query = \"DROP TABLE lecture\""
   ]
  },
  {
   "cell_type": "code",
   "execution_count": 8,
   "metadata": {},
   "outputs": [
    {
     "ename": "DuplicateTable",
     "evalue": "오류:  \"lecture\" 이름의 릴레이션(relation)이 이미 있습니다\n",
     "output_type": "error",
     "traceback": [
      "\u001b[1;31m---------------------------------------------------------------------------\u001b[0m",
      "\u001b[1;31mDuplicateTable\u001b[0m                            Traceback (most recent call last)",
      "Cell \u001b[1;32mIn[8], line 3\u001b[0m\n\u001b[0;32m      1\u001b[0m \u001b[38;5;66;03m# Create table\u001b[39;00m\n\u001b[1;32m----> 3\u001b[0m cursor\u001b[38;5;241m.\u001b[39mexecute(create_query)\n\u001b[0;32m      4\u001b[0m db\u001b[38;5;241m.\u001b[39mcommit()\n",
      "\u001b[1;31mDuplicateTable\u001b[0m: 오류:  \"lecture\" 이름의 릴레이션(relation)이 이미 있습니다\n"
     ]
    }
   ],
   "source": [
    "# Create table\n",
    "\n",
    "cursor.execute(create_query)\n",
    "db.commit()"
   ]
  },
  {
   "cell_type": "code",
   "execution_count": 16,
   "metadata": {},
   "outputs": [],
   "source": [
    "# Insert Row\n",
    "\n",
    "cursor.execute(insert_query)\n",
    "db.commit()"
   ]
  },
  {
   "cell_type": "code",
   "execution_count": 33,
   "metadata": {},
   "outputs": [
    {
     "ename": "InFailedSqlTransaction",
     "evalue": "오류:  현재 트랜잭션은 중지되어 있습니다. 이 트랜잭션을 종료하기 전까지는 모든 명령이 무시될 것입니다\n",
     "output_type": "error",
     "traceback": [
      "\u001b[1;31m---------------------------------------------------------------------------\u001b[0m",
      "\u001b[1;31mInFailedSqlTransaction\u001b[0m                    Traceback (most recent call last)",
      "Cell \u001b[1;32mIn[33], line 3\u001b[0m\n\u001b[0;32m      1\u001b[0m \u001b[38;5;66;03m# Select\u001b[39;00m\n\u001b[1;32m----> 3\u001b[0m cursor\u001b[38;5;241m.\u001b[39mexecute(\u001b[38;5;124m'\u001b[39m\u001b[38;5;124mSELECT * FROM lecture\u001b[39m\u001b[38;5;124m'\u001b[39m)\n\u001b[0;32m      4\u001b[0m cursor\u001b[38;5;241m.\u001b[39mfetchall()\n",
      "\u001b[1;31mInFailedSqlTransaction\u001b[0m: 오류:  현재 트랜잭션은 중지되어 있습니다. 이 트랜잭션을 종료하기 전까지는 모든 명령이 무시될 것입니다\n"
     ]
    }
   ],
   "source": [
    "# Select\n",
    "\n",
    "cursor.execute(\"SELECT * FROM lecture\")\n",
    "cursor.fetchall()"
   ]
  },
  {
   "cell_type": "code",
   "execution_count": 38,
   "metadata": {},
   "outputs": [
    {
     "data": {
      "text/plain": [
       "[(1, 'CHUNJAE', 1994, 'M', 1000)]"
      ]
     },
     "execution_count": 38,
     "metadata": {},
     "output_type": "execute_result"
    }
   ],
   "source": [
    "# Update Row\n",
    "\n",
    "cursor.execute(update_query)\n",
    "db.commit()\n",
    "\n",
    "cursor.execute(\"SELECT * FROM lecture\")\n",
    "cursor.fetchall()"
   ]
  },
  {
   "cell_type": "code",
   "execution_count": 39,
   "metadata": {},
   "outputs": [
    {
     "data": {
      "text/plain": [
       "[]"
      ]
     },
     "execution_count": 39,
     "metadata": {},
     "output_type": "execute_result"
    }
   ],
   "source": [
    "# DELETE ROW\n",
    "cursor.execute(delete_query)\n",
    "db.commit()\n",
    "cursor.execute(\"SELECT * FROM lecture\")\n",
    "cursor.fetchall()"
   ]
  },
  {
   "cell_type": "code",
   "execution_count": 40,
   "metadata": {},
   "outputs": [],
   "source": [
    "# DROP TABLE\n",
    "cursor.execute(drop_query)\n",
    "db.commit()"
   ]
  },
  {
   "cell_type": "code",
   "execution_count": 41,
   "metadata": {},
   "outputs": [
    {
     "ename": "UndefinedTable",
     "evalue": "오류:  \"lecture\" 이름의 릴레이션(relation)이 없습니다\nLINE 1: select * from lecture\n                      ^\n",
     "output_type": "error",
     "traceback": [
      "\u001b[1;31m---------------------------------------------------------------------------\u001b[0m",
      "\u001b[1;31mUndefinedTable\u001b[0m                            Traceback (most recent call last)",
      "Cell \u001b[1;32mIn[41], line 1\u001b[0m\n\u001b[1;32m----> 1\u001b[0m cursor\u001b[38;5;241m.\u001b[39mexecute(\u001b[38;5;124m'\u001b[39m\u001b[38;5;124mselect * from lecture\u001b[39m\u001b[38;5;124m'\u001b[39m)\n\u001b[0;32m      2\u001b[0m cursor\u001b[38;5;241m.\u001b[39mfetchall()\n",
      "\u001b[1;31mUndefinedTable\u001b[0m: 오류:  \"lecture\" 이름의 릴레이션(relation)이 없습니다\nLINE 1: select * from lecture\n                      ^\n"
     ]
    }
   ],
   "source": [
    "cursor.execute('select * from lecture')\n",
    "cursor.fetchall()"
   ]
  },
  {
   "cell_type": "code",
   "execution_count": 42,
   "metadata": {},
   "outputs": [],
   "source": [
    "# Connection 종료\n",
    "\n",
    "cursor.close()"
   ]
  },
  {
   "cell_type": "markdown",
   "metadata": {},
   "source": [
    "### 1-2. ORM 라이브러리(sqlalchemy)를 활용한 Connection\n",
    "\n",
    "#### ORM(Object Relational Mapping)"
   ]
  },
  {
   "cell_type": "markdown",
   "metadata": {},
   "source": [
    "1) Connection 및 Session"
   ]
  },
  {
   "cell_type": "code",
   "execution_count": 55,
   "metadata": {},
   "outputs": [],
   "source": [
    "from sqlalchemy import create_engine, text\n",
    "from sqlalchemy.orm import sessionmaker\n",
    "\n",
    "engine_name = 'postgresql'\n",
    "user_id = 'postgres'\n",
    "user_pw = ''\n",
    "host = '127.0.0.1'\n",
    "port = 5432\n",
    "database = 'postgres'\n",
    "\n",
    "db = create_engine(f'{engine_name}://{user_id}:{user_pw}@{host}:{port}/{database}')\n",
    "\n",
    "cursor = db.connect()"
   ]
  },
  {
   "cell_type": "code",
   "execution_count": 36,
   "metadata": {},
   "outputs": [],
   "source": [
    "from sqlalchemy import Column, INTEGER, VARCHAR\n",
    "from sqlalchemy.orm import declarative_base\n",
    "from sqlalchemy.orm import sessionmaker\n",
    "\n",
    "Session = sessionmaker(bind=db)\n",
    "session = Session()\n",
    "\n",
    "Base = declarative_base()\n",
    "\n",
    "class lecture(Base):\n",
    "    __tablename__ = 'lecture'\n",
    "\n",
    "    id = Column('id', INTEGER, primary_key=True, autoincrement = True)\n",
    "\n",
    "    name = Column('name', VARCHAR(10), nullable=False)\n",
    "\n",
    "    year = Column('year', INTEGER, nullable=False)\n",
    "\n",
    "    gender = Column('gender', VARCHAR(10), nullable=False)\n",
    "\n",
    "    count = Column('count', INTEGER, nullable=False)\n",
    "\n",
    "# Create\n",
    "Base.metadata.create_all(db)\n"
   ]
  },
  {
   "cell_type": "markdown",
   "metadata": {},
   "source": [
    "#### 3) ORM을 이용한 CRUD"
   ]
  },
  {
   "cell_type": "code",
   "execution_count": 37,
   "metadata": {},
   "outputs": [
    {
     "ename": "IntegrityError",
     "evalue": "(psycopg2.errors.UniqueViolation) 오류:  중복된 키 값이 \"lecture_pkey\" 고유 제약 조건을 위반함\nDETAIL:  (id)=(3) 키가 이미 있습니다.\n\n[SQL: INSERT INTO lecture (id, name, year, gender, count) VALUES (%(id)s, %(name)s, %(year)s, %(gender)s, %(count)s)]\n[parameters: {'id': 3, 'name': 'chunjae', 'year': 1990, 'gender': 'M', 'count': 1234}]\n(Background on this error at: https://sqlalche.me/e/14/gkpj)",
     "output_type": "error",
     "traceback": [
      "\u001b[1;31m---------------------------------------------------------------------------\u001b[0m",
      "\u001b[1;31mUniqueViolation\u001b[0m                           Traceback (most recent call last)",
      "File \u001b[1;32mc:\\Users\\user\\anaconda3\\Lib\\site-packages\\sqlalchemy\\engine\\base.py:1910\u001b[0m, in \u001b[0;36mConnection._execute_context\u001b[1;34m(self, dialect, constructor, statement, parameters, execution_options, *args, **kw)\u001b[0m\n\u001b[0;32m   1909\u001b[0m     \u001b[38;5;28;01mif\u001b[39;00m \u001b[38;5;129;01mnot\u001b[39;00m evt_handled:\n\u001b[1;32m-> 1910\u001b[0m         \u001b[38;5;28mself\u001b[39m\u001b[38;5;241m.\u001b[39mdialect\u001b[38;5;241m.\u001b[39mdo_execute(\n\u001b[0;32m   1911\u001b[0m             cursor, statement, parameters, context\n\u001b[0;32m   1912\u001b[0m         )\n\u001b[0;32m   1914\u001b[0m \u001b[38;5;28;01mif\u001b[39;00m \u001b[38;5;28mself\u001b[39m\u001b[38;5;241m.\u001b[39m_has_events \u001b[38;5;129;01mor\u001b[39;00m \u001b[38;5;28mself\u001b[39m\u001b[38;5;241m.\u001b[39mengine\u001b[38;5;241m.\u001b[39m_has_events:\n",
      "File \u001b[1;32mc:\\Users\\user\\anaconda3\\Lib\\site-packages\\sqlalchemy\\engine\\default.py:736\u001b[0m, in \u001b[0;36mDefaultDialect.do_execute\u001b[1;34m(self, cursor, statement, parameters, context)\u001b[0m\n\u001b[0;32m    735\u001b[0m \u001b[38;5;28;01mdef\u001b[39;00m \u001b[38;5;21mdo_execute\u001b[39m(\u001b[38;5;28mself\u001b[39m, cursor, statement, parameters, context\u001b[38;5;241m=\u001b[39m\u001b[38;5;28;01mNone\u001b[39;00m):\n\u001b[1;32m--> 736\u001b[0m     cursor\u001b[38;5;241m.\u001b[39mexecute(statement, parameters)\n",
      "\u001b[1;31mUniqueViolation\u001b[0m: 오류:  중복된 키 값이 \"lecture_pkey\" 고유 제약 조건을 위반함\nDETAIL:  (id)=(3) 키가 이미 있습니다.\n",
      "\nThe above exception was the direct cause of the following exception:\n",
      "\u001b[1;31mIntegrityError\u001b[0m                            Traceback (most recent call last)",
      "Cell \u001b[1;32mIn[37], line 6\u001b[0m\n\u001b[0;32m      3\u001b[0m datal \u001b[38;5;241m=\u001b[39m lecture(\u001b[38;5;28mid\u001b[39m\u001b[38;5;241m=\u001b[39m\u001b[38;5;241m3\u001b[39m, name\u001b[38;5;241m=\u001b[39m\u001b[38;5;124m'\u001b[39m\u001b[38;5;124mchunjae\u001b[39m\u001b[38;5;124m'\u001b[39m, year \u001b[38;5;241m=\u001b[39m \u001b[38;5;241m1990\u001b[39m, gender \u001b[38;5;241m=\u001b[39m \u001b[38;5;124m'\u001b[39m\u001b[38;5;124mM\u001b[39m\u001b[38;5;124m'\u001b[39m, count\u001b[38;5;241m=\u001b[39m\u001b[38;5;241m1234\u001b[39m)\n\u001b[0;32m      5\u001b[0m session\u001b[38;5;241m.\u001b[39madd(datal)\n\u001b[1;32m----> 6\u001b[0m session\u001b[38;5;241m.\u001b[39mcommit()\n",
      "File \u001b[1;32mc:\\Users\\user\\anaconda3\\Lib\\site-packages\\sqlalchemy\\orm\\session.py:1454\u001b[0m, in \u001b[0;36mSession.commit\u001b[1;34m(self)\u001b[0m\n\u001b[0;32m   1451\u001b[0m     \u001b[38;5;28;01mif\u001b[39;00m \u001b[38;5;129;01mnot\u001b[39;00m \u001b[38;5;28mself\u001b[39m\u001b[38;5;241m.\u001b[39m_autobegin():\n\u001b[0;32m   1452\u001b[0m         \u001b[38;5;28;01mraise\u001b[39;00m sa_exc\u001b[38;5;241m.\u001b[39mInvalidRequestError(\u001b[38;5;124m\"\u001b[39m\u001b[38;5;124mNo transaction is begun.\u001b[39m\u001b[38;5;124m\"\u001b[39m)\n\u001b[1;32m-> 1454\u001b[0m \u001b[38;5;28mself\u001b[39m\u001b[38;5;241m.\u001b[39m_transaction\u001b[38;5;241m.\u001b[39mcommit(_to_root\u001b[38;5;241m=\u001b[39m\u001b[38;5;28mself\u001b[39m\u001b[38;5;241m.\u001b[39mfuture)\n",
      "File \u001b[1;32mc:\\Users\\user\\anaconda3\\Lib\\site-packages\\sqlalchemy\\orm\\session.py:832\u001b[0m, in \u001b[0;36mSessionTransaction.commit\u001b[1;34m(self, _to_root)\u001b[0m\n\u001b[0;32m    830\u001b[0m \u001b[38;5;28mself\u001b[39m\u001b[38;5;241m.\u001b[39m_assert_active(prepared_ok\u001b[38;5;241m=\u001b[39m\u001b[38;5;28;01mTrue\u001b[39;00m)\n\u001b[0;32m    831\u001b[0m \u001b[38;5;28;01mif\u001b[39;00m \u001b[38;5;28mself\u001b[39m\u001b[38;5;241m.\u001b[39m_state \u001b[38;5;129;01mis\u001b[39;00m \u001b[38;5;129;01mnot\u001b[39;00m PREPARED:\n\u001b[1;32m--> 832\u001b[0m     \u001b[38;5;28mself\u001b[39m\u001b[38;5;241m.\u001b[39m_prepare_impl()\n\u001b[0;32m    834\u001b[0m \u001b[38;5;28;01mif\u001b[39;00m \u001b[38;5;28mself\u001b[39m\u001b[38;5;241m.\u001b[39m_parent \u001b[38;5;129;01mis\u001b[39;00m \u001b[38;5;28;01mNone\u001b[39;00m \u001b[38;5;129;01mor\u001b[39;00m \u001b[38;5;28mself\u001b[39m\u001b[38;5;241m.\u001b[39mnested:\n\u001b[0;32m    835\u001b[0m     \u001b[38;5;28;01mfor\u001b[39;00m conn, trans, should_commit, autoclose \u001b[38;5;129;01min\u001b[39;00m \u001b[38;5;28mset\u001b[39m(\n\u001b[0;32m    836\u001b[0m         \u001b[38;5;28mself\u001b[39m\u001b[38;5;241m.\u001b[39m_connections\u001b[38;5;241m.\u001b[39mvalues()\n\u001b[0;32m    837\u001b[0m     ):\n",
      "File \u001b[1;32mc:\\Users\\user\\anaconda3\\Lib\\site-packages\\sqlalchemy\\orm\\session.py:811\u001b[0m, in \u001b[0;36mSessionTransaction._prepare_impl\u001b[1;34m(self)\u001b[0m\n\u001b[0;32m    809\u001b[0m     \u001b[38;5;28;01mif\u001b[39;00m \u001b[38;5;28mself\u001b[39m\u001b[38;5;241m.\u001b[39msession\u001b[38;5;241m.\u001b[39m_is_clean():\n\u001b[0;32m    810\u001b[0m         \u001b[38;5;28;01mbreak\u001b[39;00m\n\u001b[1;32m--> 811\u001b[0m     \u001b[38;5;28mself\u001b[39m\u001b[38;5;241m.\u001b[39msession\u001b[38;5;241m.\u001b[39mflush()\n\u001b[0;32m    812\u001b[0m \u001b[38;5;28;01melse\u001b[39;00m:\n\u001b[0;32m    813\u001b[0m     \u001b[38;5;28;01mraise\u001b[39;00m exc\u001b[38;5;241m.\u001b[39mFlushError(\n\u001b[0;32m    814\u001b[0m         \u001b[38;5;124m\"\u001b[39m\u001b[38;5;124mOver 100 subsequent flushes have occurred within \u001b[39m\u001b[38;5;124m\"\u001b[39m\n\u001b[0;32m    815\u001b[0m         \u001b[38;5;124m\"\u001b[39m\u001b[38;5;124msession.commit() - is an after_flush() hook \u001b[39m\u001b[38;5;124m\"\u001b[39m\n\u001b[0;32m    816\u001b[0m         \u001b[38;5;124m\"\u001b[39m\u001b[38;5;124mcreating new objects?\u001b[39m\u001b[38;5;124m\"\u001b[39m\n\u001b[0;32m    817\u001b[0m     )\n",
      "File \u001b[1;32mc:\\Users\\user\\anaconda3\\Lib\\site-packages\\sqlalchemy\\orm\\session.py:3449\u001b[0m, in \u001b[0;36mSession.flush\u001b[1;34m(self, objects)\u001b[0m\n\u001b[0;32m   3447\u001b[0m \u001b[38;5;28;01mtry\u001b[39;00m:\n\u001b[0;32m   3448\u001b[0m     \u001b[38;5;28mself\u001b[39m\u001b[38;5;241m.\u001b[39m_flushing \u001b[38;5;241m=\u001b[39m \u001b[38;5;28;01mTrue\u001b[39;00m\n\u001b[1;32m-> 3449\u001b[0m     \u001b[38;5;28mself\u001b[39m\u001b[38;5;241m.\u001b[39m_flush(objects)\n\u001b[0;32m   3450\u001b[0m \u001b[38;5;28;01mfinally\u001b[39;00m:\n\u001b[0;32m   3451\u001b[0m     \u001b[38;5;28mself\u001b[39m\u001b[38;5;241m.\u001b[39m_flushing \u001b[38;5;241m=\u001b[39m \u001b[38;5;28;01mFalse\u001b[39;00m\n",
      "File \u001b[1;32mc:\\Users\\user\\anaconda3\\Lib\\site-packages\\sqlalchemy\\orm\\session.py:3588\u001b[0m, in \u001b[0;36mSession._flush\u001b[1;34m(self, objects)\u001b[0m\n\u001b[0;32m   3585\u001b[0m     transaction\u001b[38;5;241m.\u001b[39mcommit()\n\u001b[0;32m   3587\u001b[0m \u001b[38;5;28;01mexcept\u001b[39;00m:\n\u001b[1;32m-> 3588\u001b[0m     \u001b[38;5;28;01mwith\u001b[39;00m util\u001b[38;5;241m.\u001b[39msafe_reraise():\n\u001b[0;32m   3589\u001b[0m         transaction\u001b[38;5;241m.\u001b[39mrollback(_capture_exception\u001b[38;5;241m=\u001b[39m\u001b[38;5;28;01mTrue\u001b[39;00m)\n",
      "File \u001b[1;32mc:\\Users\\user\\anaconda3\\Lib\\site-packages\\sqlalchemy\\util\\langhelpers.py:70\u001b[0m, in \u001b[0;36msafe_reraise.__exit__\u001b[1;34m(self, type_, value, traceback)\u001b[0m\n\u001b[0;32m     68\u001b[0m     \u001b[38;5;28mself\u001b[39m\u001b[38;5;241m.\u001b[39m_exc_info \u001b[38;5;241m=\u001b[39m \u001b[38;5;28;01mNone\u001b[39;00m  \u001b[38;5;66;03m# remove potential circular references\u001b[39;00m\n\u001b[0;32m     69\u001b[0m     \u001b[38;5;28;01mif\u001b[39;00m \u001b[38;5;129;01mnot\u001b[39;00m \u001b[38;5;28mself\u001b[39m\u001b[38;5;241m.\u001b[39mwarn_only:\n\u001b[1;32m---> 70\u001b[0m         compat\u001b[38;5;241m.\u001b[39mraise_(\n\u001b[0;32m     71\u001b[0m             exc_value,\n\u001b[0;32m     72\u001b[0m             with_traceback\u001b[38;5;241m=\u001b[39mexc_tb,\n\u001b[0;32m     73\u001b[0m         )\n\u001b[0;32m     74\u001b[0m \u001b[38;5;28;01melse\u001b[39;00m:\n\u001b[0;32m     75\u001b[0m     \u001b[38;5;28;01mif\u001b[39;00m \u001b[38;5;129;01mnot\u001b[39;00m compat\u001b[38;5;241m.\u001b[39mpy3k \u001b[38;5;129;01mand\u001b[39;00m \u001b[38;5;28mself\u001b[39m\u001b[38;5;241m.\u001b[39m_exc_info \u001b[38;5;129;01mand\u001b[39;00m \u001b[38;5;28mself\u001b[39m\u001b[38;5;241m.\u001b[39m_exc_info[\u001b[38;5;241m1\u001b[39m]:\n\u001b[0;32m     76\u001b[0m         \u001b[38;5;66;03m# emulate Py3K's behavior of telling us when an exception\u001b[39;00m\n\u001b[0;32m     77\u001b[0m         \u001b[38;5;66;03m# occurs in an exception handler.\u001b[39;00m\n",
      "File \u001b[1;32mc:\\Users\\user\\anaconda3\\Lib\\site-packages\\sqlalchemy\\util\\compat.py:211\u001b[0m, in \u001b[0;36mraise_\u001b[1;34m(***failed resolving arguments***)\u001b[0m\n\u001b[0;32m    208\u001b[0m     exception\u001b[38;5;241m.\u001b[39m__cause__ \u001b[38;5;241m=\u001b[39m replace_context\n\u001b[0;32m    210\u001b[0m \u001b[38;5;28;01mtry\u001b[39;00m:\n\u001b[1;32m--> 211\u001b[0m     \u001b[38;5;28;01mraise\u001b[39;00m exception\n\u001b[0;32m    212\u001b[0m \u001b[38;5;28;01mfinally\u001b[39;00m:\n\u001b[0;32m    213\u001b[0m     \u001b[38;5;66;03m# credit to\u001b[39;00m\n\u001b[0;32m    214\u001b[0m     \u001b[38;5;66;03m# https://cosmicpercolator.com/2016/01/13/exception-leaks-in-python-2-and-3/\u001b[39;00m\n\u001b[0;32m    215\u001b[0m     \u001b[38;5;66;03m# as the __traceback__ object creates a cycle\u001b[39;00m\n\u001b[0;32m    216\u001b[0m     \u001b[38;5;28;01mdel\u001b[39;00m exception, replace_context, from_, with_traceback\n",
      "File \u001b[1;32mc:\\Users\\user\\anaconda3\\Lib\\site-packages\\sqlalchemy\\orm\\session.py:3549\u001b[0m, in \u001b[0;36mSession._flush\u001b[1;34m(self, objects)\u001b[0m\n\u001b[0;32m   3547\u001b[0m \u001b[38;5;28mself\u001b[39m\u001b[38;5;241m.\u001b[39m_warn_on_events \u001b[38;5;241m=\u001b[39m \u001b[38;5;28;01mTrue\u001b[39;00m\n\u001b[0;32m   3548\u001b[0m \u001b[38;5;28;01mtry\u001b[39;00m:\n\u001b[1;32m-> 3549\u001b[0m     flush_context\u001b[38;5;241m.\u001b[39mexecute()\n\u001b[0;32m   3550\u001b[0m \u001b[38;5;28;01mfinally\u001b[39;00m:\n\u001b[0;32m   3551\u001b[0m     \u001b[38;5;28mself\u001b[39m\u001b[38;5;241m.\u001b[39m_warn_on_events \u001b[38;5;241m=\u001b[39m \u001b[38;5;28;01mFalse\u001b[39;00m\n",
      "File \u001b[1;32mc:\\Users\\user\\anaconda3\\Lib\\site-packages\\sqlalchemy\\orm\\unitofwork.py:456\u001b[0m, in \u001b[0;36mUOWTransaction.execute\u001b[1;34m(self)\u001b[0m\n\u001b[0;32m    454\u001b[0m \u001b[38;5;28;01melse\u001b[39;00m:\n\u001b[0;32m    455\u001b[0m     \u001b[38;5;28;01mfor\u001b[39;00m rec \u001b[38;5;129;01min\u001b[39;00m topological\u001b[38;5;241m.\u001b[39msort(\u001b[38;5;28mself\u001b[39m\u001b[38;5;241m.\u001b[39mdependencies, postsort_actions):\n\u001b[1;32m--> 456\u001b[0m         rec\u001b[38;5;241m.\u001b[39mexecute(\u001b[38;5;28mself\u001b[39m)\n",
      "File \u001b[1;32mc:\\Users\\user\\anaconda3\\Lib\\site-packages\\sqlalchemy\\orm\\unitofwork.py:630\u001b[0m, in \u001b[0;36mSaveUpdateAll.execute\u001b[1;34m(self, uow)\u001b[0m\n\u001b[0;32m    628\u001b[0m \u001b[38;5;129m@util\u001b[39m\u001b[38;5;241m.\u001b[39mpreload_module(\u001b[38;5;124m\"\u001b[39m\u001b[38;5;124msqlalchemy.orm.persistence\u001b[39m\u001b[38;5;124m\"\u001b[39m)\n\u001b[0;32m    629\u001b[0m \u001b[38;5;28;01mdef\u001b[39;00m \u001b[38;5;21mexecute\u001b[39m(\u001b[38;5;28mself\u001b[39m, uow):\n\u001b[1;32m--> 630\u001b[0m     util\u001b[38;5;241m.\u001b[39mpreloaded\u001b[38;5;241m.\u001b[39morm_persistence\u001b[38;5;241m.\u001b[39msave_obj(\n\u001b[0;32m    631\u001b[0m         \u001b[38;5;28mself\u001b[39m\u001b[38;5;241m.\u001b[39mmapper,\n\u001b[0;32m    632\u001b[0m         uow\u001b[38;5;241m.\u001b[39mstates_for_mapper_hierarchy(\u001b[38;5;28mself\u001b[39m\u001b[38;5;241m.\u001b[39mmapper, \u001b[38;5;28;01mFalse\u001b[39;00m, \u001b[38;5;28;01mFalse\u001b[39;00m),\n\u001b[0;32m    633\u001b[0m         uow,\n\u001b[0;32m    634\u001b[0m     )\n",
      "File \u001b[1;32mc:\\Users\\user\\anaconda3\\Lib\\site-packages\\sqlalchemy\\orm\\persistence.py:245\u001b[0m, in \u001b[0;36msave_obj\u001b[1;34m(base_mapper, states, uowtransaction, single)\u001b[0m\n\u001b[0;32m    233\u001b[0m     update \u001b[38;5;241m=\u001b[39m _collect_update_commands(\n\u001b[0;32m    234\u001b[0m         uowtransaction, table, states_to_update\n\u001b[0;32m    235\u001b[0m     )\n\u001b[0;32m    237\u001b[0m     _emit_update_statements(\n\u001b[0;32m    238\u001b[0m         base_mapper,\n\u001b[0;32m    239\u001b[0m         uowtransaction,\n\u001b[1;32m   (...)\u001b[0m\n\u001b[0;32m    242\u001b[0m         update,\n\u001b[0;32m    243\u001b[0m     )\n\u001b[1;32m--> 245\u001b[0m     _emit_insert_statements(\n\u001b[0;32m    246\u001b[0m         base_mapper,\n\u001b[0;32m    247\u001b[0m         uowtransaction,\n\u001b[0;32m    248\u001b[0m         mapper,\n\u001b[0;32m    249\u001b[0m         table,\n\u001b[0;32m    250\u001b[0m         insert,\n\u001b[0;32m    251\u001b[0m     )\n\u001b[0;32m    253\u001b[0m _finalize_insert_update_commands(\n\u001b[0;32m    254\u001b[0m     base_mapper,\n\u001b[0;32m    255\u001b[0m     uowtransaction,\n\u001b[1;32m   (...)\u001b[0m\n\u001b[0;32m    271\u001b[0m     ),\n\u001b[0;32m    272\u001b[0m )\n",
      "File \u001b[1;32mc:\\Users\\user\\anaconda3\\Lib\\site-packages\\sqlalchemy\\orm\\persistence.py:1097\u001b[0m, in \u001b[0;36m_emit_insert_statements\u001b[1;34m(base_mapper, uowtransaction, mapper, table, insert, bookkeeping)\u001b[0m\n\u001b[0;32m   1094\u001b[0m records \u001b[38;5;241m=\u001b[39m \u001b[38;5;28mlist\u001b[39m(records)\n\u001b[0;32m   1095\u001b[0m multiparams \u001b[38;5;241m=\u001b[39m [rec[\u001b[38;5;241m2\u001b[39m] \u001b[38;5;28;01mfor\u001b[39;00m rec \u001b[38;5;129;01min\u001b[39;00m records]\n\u001b[1;32m-> 1097\u001b[0m c \u001b[38;5;241m=\u001b[39m connection\u001b[38;5;241m.\u001b[39m_execute_20(\n\u001b[0;32m   1098\u001b[0m     statement, multiparams, execution_options\u001b[38;5;241m=\u001b[39mexecution_options\n\u001b[0;32m   1099\u001b[0m )\n\u001b[0;32m   1101\u001b[0m \u001b[38;5;28;01mif\u001b[39;00m bookkeeping:\n\u001b[0;32m   1102\u001b[0m     \u001b[38;5;28;01mfor\u001b[39;00m (\n\u001b[0;32m   1103\u001b[0m         (\n\u001b[0;32m   1104\u001b[0m             state,\n\u001b[1;32m   (...)\u001b[0m\n\u001b[0;32m   1113\u001b[0m         last_inserted_params,\n\u001b[0;32m   1114\u001b[0m     ) \u001b[38;5;129;01min\u001b[39;00m \u001b[38;5;28mzip\u001b[39m(records, c\u001b[38;5;241m.\u001b[39mcontext\u001b[38;5;241m.\u001b[39mcompiled_parameters):\n",
      "File \u001b[1;32mc:\\Users\\user\\anaconda3\\Lib\\site-packages\\sqlalchemy\\engine\\base.py:1710\u001b[0m, in \u001b[0;36mConnection._execute_20\u001b[1;34m(self, statement, parameters, execution_options)\u001b[0m\n\u001b[0;32m   1706\u001b[0m     util\u001b[38;5;241m.\u001b[39mraise_(\n\u001b[0;32m   1707\u001b[0m         exc\u001b[38;5;241m.\u001b[39mObjectNotExecutableError(statement), replace_context\u001b[38;5;241m=\u001b[39merr\n\u001b[0;32m   1708\u001b[0m     )\n\u001b[0;32m   1709\u001b[0m \u001b[38;5;28;01melse\u001b[39;00m:\n\u001b[1;32m-> 1710\u001b[0m     \u001b[38;5;28;01mreturn\u001b[39;00m meth(\u001b[38;5;28mself\u001b[39m, args_10style, kwargs_10style, execution_options)\n",
      "File \u001b[1;32mc:\\Users\\user\\anaconda3\\Lib\\site-packages\\sqlalchemy\\sql\\elements.py:334\u001b[0m, in \u001b[0;36mClauseElement._execute_on_connection\u001b[1;34m(self, connection, multiparams, params, execution_options, _force)\u001b[0m\n\u001b[0;32m    330\u001b[0m \u001b[38;5;28;01mdef\u001b[39;00m \u001b[38;5;21m_execute_on_connection\u001b[39m(\n\u001b[0;32m    331\u001b[0m     \u001b[38;5;28mself\u001b[39m, connection, multiparams, params, execution_options, _force\u001b[38;5;241m=\u001b[39m\u001b[38;5;28;01mFalse\u001b[39;00m\n\u001b[0;32m    332\u001b[0m ):\n\u001b[0;32m    333\u001b[0m     \u001b[38;5;28;01mif\u001b[39;00m _force \u001b[38;5;129;01mor\u001b[39;00m \u001b[38;5;28mself\u001b[39m\u001b[38;5;241m.\u001b[39msupports_execution:\n\u001b[1;32m--> 334\u001b[0m         \u001b[38;5;28;01mreturn\u001b[39;00m connection\u001b[38;5;241m.\u001b[39m_execute_clauseelement(\n\u001b[0;32m    335\u001b[0m             \u001b[38;5;28mself\u001b[39m, multiparams, params, execution_options\n\u001b[0;32m    336\u001b[0m         )\n\u001b[0;32m    337\u001b[0m     \u001b[38;5;28;01melse\u001b[39;00m:\n\u001b[0;32m    338\u001b[0m         \u001b[38;5;28;01mraise\u001b[39;00m exc\u001b[38;5;241m.\u001b[39mObjectNotExecutableError(\u001b[38;5;28mself\u001b[39m)\n",
      "File \u001b[1;32mc:\\Users\\user\\anaconda3\\Lib\\site-packages\\sqlalchemy\\engine\\base.py:1577\u001b[0m, in \u001b[0;36mConnection._execute_clauseelement\u001b[1;34m(self, elem, multiparams, params, execution_options)\u001b[0m\n\u001b[0;32m   1565\u001b[0m compiled_cache \u001b[38;5;241m=\u001b[39m execution_options\u001b[38;5;241m.\u001b[39mget(\n\u001b[0;32m   1566\u001b[0m     \u001b[38;5;124m\"\u001b[39m\u001b[38;5;124mcompiled_cache\u001b[39m\u001b[38;5;124m\"\u001b[39m, \u001b[38;5;28mself\u001b[39m\u001b[38;5;241m.\u001b[39mengine\u001b[38;5;241m.\u001b[39m_compiled_cache\n\u001b[0;32m   1567\u001b[0m )\n\u001b[0;32m   1569\u001b[0m compiled_sql, extracted_params, cache_hit \u001b[38;5;241m=\u001b[39m elem\u001b[38;5;241m.\u001b[39m_compile_w_cache(\n\u001b[0;32m   1570\u001b[0m     dialect\u001b[38;5;241m=\u001b[39mdialect,\n\u001b[0;32m   1571\u001b[0m     compiled_cache\u001b[38;5;241m=\u001b[39mcompiled_cache,\n\u001b[1;32m   (...)\u001b[0m\n\u001b[0;32m   1575\u001b[0m     linting\u001b[38;5;241m=\u001b[39m\u001b[38;5;28mself\u001b[39m\u001b[38;5;241m.\u001b[39mdialect\u001b[38;5;241m.\u001b[39mcompiler_linting \u001b[38;5;241m|\u001b[39m compiler\u001b[38;5;241m.\u001b[39mWARN_LINTING,\n\u001b[0;32m   1576\u001b[0m )\n\u001b[1;32m-> 1577\u001b[0m ret \u001b[38;5;241m=\u001b[39m \u001b[38;5;28mself\u001b[39m\u001b[38;5;241m.\u001b[39m_execute_context(\n\u001b[0;32m   1578\u001b[0m     dialect,\n\u001b[0;32m   1579\u001b[0m     dialect\u001b[38;5;241m.\u001b[39mexecution_ctx_cls\u001b[38;5;241m.\u001b[39m_init_compiled,\n\u001b[0;32m   1580\u001b[0m     compiled_sql,\n\u001b[0;32m   1581\u001b[0m     distilled_params,\n\u001b[0;32m   1582\u001b[0m     execution_options,\n\u001b[0;32m   1583\u001b[0m     compiled_sql,\n\u001b[0;32m   1584\u001b[0m     distilled_params,\n\u001b[0;32m   1585\u001b[0m     elem,\n\u001b[0;32m   1586\u001b[0m     extracted_params,\n\u001b[0;32m   1587\u001b[0m     cache_hit\u001b[38;5;241m=\u001b[39mcache_hit,\n\u001b[0;32m   1588\u001b[0m )\n\u001b[0;32m   1589\u001b[0m \u001b[38;5;28;01mif\u001b[39;00m has_events:\n\u001b[0;32m   1590\u001b[0m     \u001b[38;5;28mself\u001b[39m\u001b[38;5;241m.\u001b[39mdispatch\u001b[38;5;241m.\u001b[39mafter_execute(\n\u001b[0;32m   1591\u001b[0m         \u001b[38;5;28mself\u001b[39m,\n\u001b[0;32m   1592\u001b[0m         elem,\n\u001b[1;32m   (...)\u001b[0m\n\u001b[0;32m   1596\u001b[0m         ret,\n\u001b[0;32m   1597\u001b[0m     )\n",
      "File \u001b[1;32mc:\\Users\\user\\anaconda3\\Lib\\site-packages\\sqlalchemy\\engine\\base.py:1953\u001b[0m, in \u001b[0;36mConnection._execute_context\u001b[1;34m(self, dialect, constructor, statement, parameters, execution_options, *args, **kw)\u001b[0m\n\u001b[0;32m   1950\u001b[0m             branched\u001b[38;5;241m.\u001b[39mclose()\n\u001b[0;32m   1952\u001b[0m \u001b[38;5;28;01mexcept\u001b[39;00m \u001b[38;5;167;01mBaseException\u001b[39;00m \u001b[38;5;28;01mas\u001b[39;00m e:\n\u001b[1;32m-> 1953\u001b[0m     \u001b[38;5;28mself\u001b[39m\u001b[38;5;241m.\u001b[39m_handle_dbapi_exception(\n\u001b[0;32m   1954\u001b[0m         e, statement, parameters, cursor, context\n\u001b[0;32m   1955\u001b[0m     )\n\u001b[0;32m   1957\u001b[0m \u001b[38;5;28;01mreturn\u001b[39;00m result\n",
      "File \u001b[1;32mc:\\Users\\user\\anaconda3\\Lib\\site-packages\\sqlalchemy\\engine\\base.py:2134\u001b[0m, in \u001b[0;36mConnection._handle_dbapi_exception\u001b[1;34m(self, e, statement, parameters, cursor, context)\u001b[0m\n\u001b[0;32m   2132\u001b[0m     util\u001b[38;5;241m.\u001b[39mraise_(newraise, with_traceback\u001b[38;5;241m=\u001b[39mexc_info[\u001b[38;5;241m2\u001b[39m], from_\u001b[38;5;241m=\u001b[39me)\n\u001b[0;32m   2133\u001b[0m \u001b[38;5;28;01melif\u001b[39;00m should_wrap:\n\u001b[1;32m-> 2134\u001b[0m     util\u001b[38;5;241m.\u001b[39mraise_(\n\u001b[0;32m   2135\u001b[0m         sqlalchemy_exception, with_traceback\u001b[38;5;241m=\u001b[39mexc_info[\u001b[38;5;241m2\u001b[39m], from_\u001b[38;5;241m=\u001b[39me\n\u001b[0;32m   2136\u001b[0m     )\n\u001b[0;32m   2137\u001b[0m \u001b[38;5;28;01melse\u001b[39;00m:\n\u001b[0;32m   2138\u001b[0m     util\u001b[38;5;241m.\u001b[39mraise_(exc_info[\u001b[38;5;241m1\u001b[39m], with_traceback\u001b[38;5;241m=\u001b[39mexc_info[\u001b[38;5;241m2\u001b[39m])\n",
      "File \u001b[1;32mc:\\Users\\user\\anaconda3\\Lib\\site-packages\\sqlalchemy\\util\\compat.py:211\u001b[0m, in \u001b[0;36mraise_\u001b[1;34m(***failed resolving arguments***)\u001b[0m\n\u001b[0;32m    208\u001b[0m     exception\u001b[38;5;241m.\u001b[39m__cause__ \u001b[38;5;241m=\u001b[39m replace_context\n\u001b[0;32m    210\u001b[0m \u001b[38;5;28;01mtry\u001b[39;00m:\n\u001b[1;32m--> 211\u001b[0m     \u001b[38;5;28;01mraise\u001b[39;00m exception\n\u001b[0;32m    212\u001b[0m \u001b[38;5;28;01mfinally\u001b[39;00m:\n\u001b[0;32m    213\u001b[0m     \u001b[38;5;66;03m# credit to\u001b[39;00m\n\u001b[0;32m    214\u001b[0m     \u001b[38;5;66;03m# https://cosmicpercolator.com/2016/01/13/exception-leaks-in-python-2-and-3/\u001b[39;00m\n\u001b[0;32m    215\u001b[0m     \u001b[38;5;66;03m# as the __traceback__ object creates a cycle\u001b[39;00m\n\u001b[0;32m    216\u001b[0m     \u001b[38;5;28;01mdel\u001b[39;00m exception, replace_context, from_, with_traceback\n",
      "File \u001b[1;32mc:\\Users\\user\\anaconda3\\Lib\\site-packages\\sqlalchemy\\engine\\base.py:1910\u001b[0m, in \u001b[0;36mConnection._execute_context\u001b[1;34m(self, dialect, constructor, statement, parameters, execution_options, *args, **kw)\u001b[0m\n\u001b[0;32m   1908\u001b[0m                 \u001b[38;5;28;01mbreak\u001b[39;00m\n\u001b[0;32m   1909\u001b[0m     \u001b[38;5;28;01mif\u001b[39;00m \u001b[38;5;129;01mnot\u001b[39;00m evt_handled:\n\u001b[1;32m-> 1910\u001b[0m         \u001b[38;5;28mself\u001b[39m\u001b[38;5;241m.\u001b[39mdialect\u001b[38;5;241m.\u001b[39mdo_execute(\n\u001b[0;32m   1911\u001b[0m             cursor, statement, parameters, context\n\u001b[0;32m   1912\u001b[0m         )\n\u001b[0;32m   1914\u001b[0m \u001b[38;5;28;01mif\u001b[39;00m \u001b[38;5;28mself\u001b[39m\u001b[38;5;241m.\u001b[39m_has_events \u001b[38;5;129;01mor\u001b[39;00m \u001b[38;5;28mself\u001b[39m\u001b[38;5;241m.\u001b[39mengine\u001b[38;5;241m.\u001b[39m_has_events:\n\u001b[0;32m   1915\u001b[0m     \u001b[38;5;28mself\u001b[39m\u001b[38;5;241m.\u001b[39mdispatch\u001b[38;5;241m.\u001b[39mafter_cursor_execute(\n\u001b[0;32m   1916\u001b[0m         \u001b[38;5;28mself\u001b[39m,\n\u001b[0;32m   1917\u001b[0m         cursor,\n\u001b[1;32m   (...)\u001b[0m\n\u001b[0;32m   1921\u001b[0m         context\u001b[38;5;241m.\u001b[39mexecutemany,\n\u001b[0;32m   1922\u001b[0m     )\n",
      "File \u001b[1;32mc:\\Users\\user\\anaconda3\\Lib\\site-packages\\sqlalchemy\\engine\\default.py:736\u001b[0m, in \u001b[0;36mDefaultDialect.do_execute\u001b[1;34m(self, cursor, statement, parameters, context)\u001b[0m\n\u001b[0;32m    735\u001b[0m \u001b[38;5;28;01mdef\u001b[39;00m \u001b[38;5;21mdo_execute\u001b[39m(\u001b[38;5;28mself\u001b[39m, cursor, statement, parameters, context\u001b[38;5;241m=\u001b[39m\u001b[38;5;28;01mNone\u001b[39;00m):\n\u001b[1;32m--> 736\u001b[0m     cursor\u001b[38;5;241m.\u001b[39mexecute(statement, parameters)\n",
      "\u001b[1;31mIntegrityError\u001b[0m: (psycopg2.errors.UniqueViolation) 오류:  중복된 키 값이 \"lecture_pkey\" 고유 제약 조건을 위반함\nDETAIL:  (id)=(3) 키가 이미 있습니다.\n\n[SQL: INSERT INTO lecture (id, name, year, gender, count) VALUES (%(id)s, %(name)s, %(year)s, %(gender)s, %(count)s)]\n[parameters: {'id': 3, 'name': 'chunjae', 'year': 1990, 'gender': 'M', 'count': 1234}]\n(Background on this error at: https://sqlalche.me/e/14/gkpj)"
     ]
    }
   ],
   "source": [
    "# insert\n",
    "\n",
    "datal = lecture(id=3, name='chunjae', year = 1990, gender = 'M', count=1234)\n",
    "\n",
    "session.add(datal)\n",
    "session.commit()"
   ]
  },
  {
   "cell_type": "code",
   "execution_count": 38,
   "metadata": {},
   "outputs": [
    {
     "ename": "PendingRollbackError",
     "evalue": "This Session's transaction has been rolled back due to a previous exception during flush. To begin a new transaction with this Session, first issue Session.rollback(). Original exception was: (psycopg2.errors.UniqueViolation) 오류:  중복된 키 값이 \"lecture_pkey\" 고유 제약 조건을 위반함\nDETAIL:  (id)=(3) 키가 이미 있습니다.\n\n[SQL: INSERT INTO lecture (id, name, year, gender, count) VALUES (%(id)s, %(name)s, %(year)s, %(gender)s, %(count)s)]\n[parameters: {'id': 3, 'name': 'chunjae', 'year': 1990, 'gender': 'M', 'count': 1234}]\n(Background on this error at: https://sqlalche.me/e/14/gkpj) (Background on this error at: https://sqlalche.me/e/14/7s2a)",
     "output_type": "error",
     "traceback": [
      "\u001b[1;31m---------------------------------------------------------------------------\u001b[0m",
      "\u001b[1;31mPendingRollbackError\u001b[0m                      Traceback (most recent call last)",
      "Cell \u001b[1;32mIn[38], line 3\u001b[0m\n\u001b[0;32m      1\u001b[0m \u001b[38;5;66;03m# one select\u001b[39;00m\n\u001b[1;32m----> 3\u001b[0m res \u001b[38;5;241m=\u001b[39m session\u001b[38;5;241m.\u001b[39mquery(lecture)\u001b[38;5;241m.\u001b[39mfirst()\n\u001b[0;32m      5\u001b[0m (res\u001b[38;5;241m.\u001b[39mid, res\u001b[38;5;241m.\u001b[39mname, res\u001b[38;5;241m.\u001b[39myear, res\u001b[38;5;241m.\u001b[39mgender, res\u001b[38;5;241m.\u001b[39mcount)\n",
      "File \u001b[1;32mc:\\Users\\user\\anaconda3\\Lib\\site-packages\\sqlalchemy\\orm\\query.py:2824\u001b[0m, in \u001b[0;36mQuery.first\u001b[1;34m(self)\u001b[0m\n\u001b[0;32m   2822\u001b[0m     \u001b[38;5;28;01mreturn\u001b[39;00m \u001b[38;5;28mself\u001b[39m\u001b[38;5;241m.\u001b[39m_iter()\u001b[38;5;241m.\u001b[39mfirst()\n\u001b[0;32m   2823\u001b[0m \u001b[38;5;28;01melse\u001b[39;00m:\n\u001b[1;32m-> 2824\u001b[0m     \u001b[38;5;28;01mreturn\u001b[39;00m \u001b[38;5;28mself\u001b[39m\u001b[38;5;241m.\u001b[39mlimit(\u001b[38;5;241m1\u001b[39m)\u001b[38;5;241m.\u001b[39m_iter()\u001b[38;5;241m.\u001b[39mfirst()\n",
      "File \u001b[1;32mc:\\Users\\user\\anaconda3\\Lib\\site-packages\\sqlalchemy\\orm\\query.py:2916\u001b[0m, in \u001b[0;36mQuery._iter\u001b[1;34m(self)\u001b[0m\n\u001b[0;32m   2913\u001b[0m params \u001b[38;5;241m=\u001b[39m \u001b[38;5;28mself\u001b[39m\u001b[38;5;241m.\u001b[39m_params\n\u001b[0;32m   2915\u001b[0m statement \u001b[38;5;241m=\u001b[39m \u001b[38;5;28mself\u001b[39m\u001b[38;5;241m.\u001b[39m_statement_20()\n\u001b[1;32m-> 2916\u001b[0m result \u001b[38;5;241m=\u001b[39m \u001b[38;5;28mself\u001b[39m\u001b[38;5;241m.\u001b[39msession\u001b[38;5;241m.\u001b[39mexecute(\n\u001b[0;32m   2917\u001b[0m     statement,\n\u001b[0;32m   2918\u001b[0m     params,\n\u001b[0;32m   2919\u001b[0m     execution_options\u001b[38;5;241m=\u001b[39m{\u001b[38;5;124m\"\u001b[39m\u001b[38;5;124m_sa_orm_load_options\u001b[39m\u001b[38;5;124m\"\u001b[39m: \u001b[38;5;28mself\u001b[39m\u001b[38;5;241m.\u001b[39mload_options},\n\u001b[0;32m   2920\u001b[0m )\n\u001b[0;32m   2922\u001b[0m \u001b[38;5;66;03m# legacy: automatically set scalars, unique\u001b[39;00m\n\u001b[0;32m   2923\u001b[0m \u001b[38;5;28;01mif\u001b[39;00m result\u001b[38;5;241m.\u001b[39m_attributes\u001b[38;5;241m.\u001b[39mget(\u001b[38;5;124m\"\u001b[39m\u001b[38;5;124mis_single_entity\u001b[39m\u001b[38;5;124m\"\u001b[39m, \u001b[38;5;28;01mFalse\u001b[39;00m):\n",
      "File \u001b[1;32mc:\\Users\\user\\anaconda3\\Lib\\site-packages\\sqlalchemy\\orm\\session.py:1716\u001b[0m, in \u001b[0;36mSession.execute\u001b[1;34m(self, statement, params, execution_options, bind_arguments, _parent_execute_state, _add_event, **kw)\u001b[0m\n\u001b[0;32m   1712\u001b[0m     execution_options \u001b[38;5;241m=\u001b[39m execution_options\u001b[38;5;241m.\u001b[39munion(\n\u001b[0;32m   1713\u001b[0m         \u001b[38;5;28mdict\u001b[39m(future_result\u001b[38;5;241m=\u001b[39m\u001b[38;5;28;01mFalse\u001b[39;00m)\n\u001b[0;32m   1714\u001b[0m     )\n\u001b[0;32m   1715\u001b[0m \u001b[38;5;28;01melse\u001b[39;00m:\n\u001b[1;32m-> 1716\u001b[0m     conn \u001b[38;5;241m=\u001b[39m \u001b[38;5;28mself\u001b[39m\u001b[38;5;241m.\u001b[39m_connection_for_bind(bind)\n\u001b[0;32m   1717\u001b[0m result \u001b[38;5;241m=\u001b[39m conn\u001b[38;5;241m.\u001b[39m_execute_20(statement, params \u001b[38;5;129;01mor\u001b[39;00m {}, execution_options)\n\u001b[0;32m   1719\u001b[0m \u001b[38;5;28;01mif\u001b[39;00m compile_state_cls:\n",
      "File \u001b[1;32mc:\\Users\\user\\anaconda3\\Lib\\site-packages\\sqlalchemy\\orm\\session.py:1555\u001b[0m, in \u001b[0;36mSession._connection_for_bind\u001b[1;34m(self, engine, execution_options, **kw)\u001b[0m\n\u001b[0;32m   1552\u001b[0m TransactionalContext\u001b[38;5;241m.\u001b[39m_trans_ctx_check(\u001b[38;5;28mself\u001b[39m)\n\u001b[0;32m   1554\u001b[0m \u001b[38;5;28;01mif\u001b[39;00m \u001b[38;5;28mself\u001b[39m\u001b[38;5;241m.\u001b[39m_transaction \u001b[38;5;129;01mis\u001b[39;00m \u001b[38;5;129;01mnot\u001b[39;00m \u001b[38;5;28;01mNone\u001b[39;00m \u001b[38;5;129;01mor\u001b[39;00m \u001b[38;5;28mself\u001b[39m\u001b[38;5;241m.\u001b[39m_autobegin():\n\u001b[1;32m-> 1555\u001b[0m     \u001b[38;5;28;01mreturn\u001b[39;00m \u001b[38;5;28mself\u001b[39m\u001b[38;5;241m.\u001b[39m_transaction\u001b[38;5;241m.\u001b[39m_connection_for_bind(\n\u001b[0;32m   1556\u001b[0m         engine, execution_options\n\u001b[0;32m   1557\u001b[0m     )\n\u001b[0;32m   1559\u001b[0m \u001b[38;5;28;01massert\u001b[39;00m \u001b[38;5;28mself\u001b[39m\u001b[38;5;241m.\u001b[39m_transaction \u001b[38;5;129;01mis\u001b[39;00m \u001b[38;5;28;01mNone\u001b[39;00m\n\u001b[0;32m   1560\u001b[0m \u001b[38;5;28;01massert\u001b[39;00m \u001b[38;5;28mself\u001b[39m\u001b[38;5;241m.\u001b[39mautocommit\n",
      "File \u001b[1;32mc:\\Users\\user\\anaconda3\\Lib\\site-packages\\sqlalchemy\\orm\\session.py:724\u001b[0m, in \u001b[0;36mSessionTransaction._connection_for_bind\u001b[1;34m(self, bind, execution_options)\u001b[0m\n\u001b[0;32m    723\u001b[0m \u001b[38;5;28;01mdef\u001b[39;00m \u001b[38;5;21m_connection_for_bind\u001b[39m(\u001b[38;5;28mself\u001b[39m, bind, execution_options):\n\u001b[1;32m--> 724\u001b[0m     \u001b[38;5;28mself\u001b[39m\u001b[38;5;241m.\u001b[39m_assert_active()\n\u001b[0;32m    726\u001b[0m     \u001b[38;5;28;01mif\u001b[39;00m bind \u001b[38;5;129;01min\u001b[39;00m \u001b[38;5;28mself\u001b[39m\u001b[38;5;241m.\u001b[39m_connections:\n\u001b[0;32m    727\u001b[0m         \u001b[38;5;28;01mif\u001b[39;00m execution_options:\n",
      "File \u001b[1;32mc:\\Users\\user\\anaconda3\\Lib\\site-packages\\sqlalchemy\\orm\\session.py:604\u001b[0m, in \u001b[0;36mSessionTransaction._assert_active\u001b[1;34m(self, prepared_ok, rollback_ok, deactive_ok, closed_msg)\u001b[0m\n\u001b[0;32m    602\u001b[0m \u001b[38;5;28;01mif\u001b[39;00m \u001b[38;5;129;01mnot\u001b[39;00m deactive_ok \u001b[38;5;129;01mand\u001b[39;00m \u001b[38;5;129;01mnot\u001b[39;00m rollback_ok:\n\u001b[0;32m    603\u001b[0m     \u001b[38;5;28;01mif\u001b[39;00m \u001b[38;5;28mself\u001b[39m\u001b[38;5;241m.\u001b[39m_rollback_exception:\n\u001b[1;32m--> 604\u001b[0m         \u001b[38;5;28;01mraise\u001b[39;00m sa_exc\u001b[38;5;241m.\u001b[39mPendingRollbackError(\n\u001b[0;32m    605\u001b[0m             \u001b[38;5;124m\"\u001b[39m\u001b[38;5;124mThis Session\u001b[39m\u001b[38;5;124m'\u001b[39m\u001b[38;5;124ms transaction has been rolled back \u001b[39m\u001b[38;5;124m\"\u001b[39m\n\u001b[0;32m    606\u001b[0m             \u001b[38;5;124m\"\u001b[39m\u001b[38;5;124mdue to a previous exception during flush.\u001b[39m\u001b[38;5;124m\"\u001b[39m\n\u001b[0;32m    607\u001b[0m             \u001b[38;5;124m\"\u001b[39m\u001b[38;5;124m To begin a new transaction with this Session, \u001b[39m\u001b[38;5;124m\"\u001b[39m\n\u001b[0;32m    608\u001b[0m             \u001b[38;5;124m\"\u001b[39m\u001b[38;5;124mfirst issue Session.rollback().\u001b[39m\u001b[38;5;124m\"\u001b[39m\n\u001b[0;32m    609\u001b[0m             \u001b[38;5;124m\"\u001b[39m\u001b[38;5;124m Original exception was: \u001b[39m\u001b[38;5;132;01m%s\u001b[39;00m\u001b[38;5;124m\"\u001b[39m\n\u001b[0;32m    610\u001b[0m             \u001b[38;5;241m%\u001b[39m \u001b[38;5;28mself\u001b[39m\u001b[38;5;241m.\u001b[39m_rollback_exception,\n\u001b[0;32m    611\u001b[0m             code\u001b[38;5;241m=\u001b[39m\u001b[38;5;124m\"\u001b[39m\u001b[38;5;124m7s2a\u001b[39m\u001b[38;5;124m\"\u001b[39m,\n\u001b[0;32m    612\u001b[0m         )\n\u001b[0;32m    613\u001b[0m     \u001b[38;5;28;01melif\u001b[39;00m \u001b[38;5;129;01mnot\u001b[39;00m deactive_ok:\n\u001b[0;32m    614\u001b[0m         \u001b[38;5;28;01mraise\u001b[39;00m sa_exc\u001b[38;5;241m.\u001b[39mInvalidRequestError(\n\u001b[0;32m    615\u001b[0m             \u001b[38;5;124m\"\u001b[39m\u001b[38;5;124mThis session is in \u001b[39m\u001b[38;5;124m'\u001b[39m\u001b[38;5;124minactive\u001b[39m\u001b[38;5;124m'\u001b[39m\u001b[38;5;124m state, due to the \u001b[39m\u001b[38;5;124m\"\u001b[39m\n\u001b[0;32m    616\u001b[0m             \u001b[38;5;124m\"\u001b[39m\u001b[38;5;124mSQL transaction being rolled back; no further \u001b[39m\u001b[38;5;124m\"\u001b[39m\n\u001b[0;32m    617\u001b[0m             \u001b[38;5;124m\"\u001b[39m\u001b[38;5;124mSQL can be emitted within this transaction.\u001b[39m\u001b[38;5;124m\"\u001b[39m\n\u001b[0;32m    618\u001b[0m         )\n",
      "\u001b[1;31mPendingRollbackError\u001b[0m: This Session's transaction has been rolled back due to a previous exception during flush. To begin a new transaction with this Session, first issue Session.rollback(). Original exception was: (psycopg2.errors.UniqueViolation) 오류:  중복된 키 값이 \"lecture_pkey\" 고유 제약 조건을 위반함\nDETAIL:  (id)=(3) 키가 이미 있습니다.\n\n[SQL: INSERT INTO lecture (id, name, year, gender, count) VALUES (%(id)s, %(name)s, %(year)s, %(gender)s, %(count)s)]\n[parameters: {'id': 3, 'name': 'chunjae', 'year': 1990, 'gender': 'M', 'count': 1234}]\n(Background on this error at: https://sqlalche.me/e/14/gkpj) (Background on this error at: https://sqlalche.me/e/14/7s2a)"
     ]
    }
   ],
   "source": [
    "# one select\n",
    "\n",
    "res = session.query(lecture).first()\n",
    "\n",
    "(res.id, res.name, res.year, res.gender, res.count)"
   ]
  },
  {
   "cell_type": "code",
   "execution_count": 39,
   "metadata": {},
   "outputs": [
    {
     "ename": "PendingRollbackError",
     "evalue": "This Session's transaction has been rolled back due to a previous exception during flush. To begin a new transaction with this Session, first issue Session.rollback(). Original exception was: (psycopg2.errors.UniqueViolation) 오류:  중복된 키 값이 \"lecture_pkey\" 고유 제약 조건을 위반함\nDETAIL:  (id)=(3) 키가 이미 있습니다.\n\n[SQL: INSERT INTO lecture (id, name, year, gender, count) VALUES (%(id)s, %(name)s, %(year)s, %(gender)s, %(count)s)]\n[parameters: {'id': 3, 'name': 'chunjae', 'year': 1990, 'gender': 'M', 'count': 1234}]\n(Background on this error at: https://sqlalche.me/e/14/gkpj) (Background on this error at: https://sqlalche.me/e/14/7s2a)",
     "output_type": "error",
     "traceback": [
      "\u001b[1;31m---------------------------------------------------------------------------\u001b[0m",
      "\u001b[1;31mPendingRollbackError\u001b[0m                      Traceback (most recent call last)",
      "Cell \u001b[1;32mIn[39], line 3\u001b[0m\n\u001b[0;32m      1\u001b[0m \u001b[38;5;66;03m# update\u001b[39;00m\n\u001b[1;32m----> 3\u001b[0m session\u001b[38;5;241m.\u001b[39mquery(lecture)\u001b[38;5;241m.\u001b[39mfilter(lecture\u001b[38;5;241m.\u001b[39mname \u001b[38;5;241m==\u001b[39m \u001b[38;5;124m'\u001b[39m\u001b[38;5;124mchunjae\u001b[39m\u001b[38;5;124m'\u001b[39m)\u001b[38;5;241m.\u001b[39mupdate({\u001b[38;5;124m'\u001b[39m\u001b[38;5;124mgender\u001b[39m\u001b[38;5;124m'\u001b[39m : \u001b[38;5;124m'\u001b[39m\u001b[38;5;124mF\u001b[39m\u001b[38;5;124m'\u001b[39m,\u001b[38;5;124m'\u001b[39m\u001b[38;5;124mcount\u001b[39m\u001b[38;5;124m'\u001b[39m : \u001b[38;5;241m1500\u001b[39m})\n",
      "File \u001b[1;32mc:\\Users\\user\\anaconda3\\Lib\\site-packages\\sqlalchemy\\orm\\query.py:3306\u001b[0m, in \u001b[0;36mQuery.update\u001b[1;34m(self, values, synchronize_session, update_args)\u001b[0m\n\u001b[0;32m   3303\u001b[0m     upd \u001b[38;5;241m=\u001b[39m upd\u001b[38;5;241m.\u001b[39mwith_dialect_options(\u001b[38;5;241m*\u001b[39m\u001b[38;5;241m*\u001b[39mupdate_args)\n\u001b[0;32m   3305\u001b[0m upd\u001b[38;5;241m.\u001b[39m_where_criteria \u001b[38;5;241m=\u001b[39m \u001b[38;5;28mself\u001b[39m\u001b[38;5;241m.\u001b[39m_where_criteria\n\u001b[1;32m-> 3306\u001b[0m result \u001b[38;5;241m=\u001b[39m \u001b[38;5;28mself\u001b[39m\u001b[38;5;241m.\u001b[39msession\u001b[38;5;241m.\u001b[39mexecute(\n\u001b[0;32m   3307\u001b[0m     upd,\n\u001b[0;32m   3308\u001b[0m     \u001b[38;5;28mself\u001b[39m\u001b[38;5;241m.\u001b[39m_params,\n\u001b[0;32m   3309\u001b[0m     execution_options\u001b[38;5;241m=\u001b[39m{\u001b[38;5;124m\"\u001b[39m\u001b[38;5;124msynchronize_session\u001b[39m\u001b[38;5;124m\"\u001b[39m: synchronize_session},\n\u001b[0;32m   3310\u001b[0m )\n\u001b[0;32m   3311\u001b[0m bulk_ud\u001b[38;5;241m.\u001b[39mresult \u001b[38;5;241m=\u001b[39m result\n\u001b[0;32m   3312\u001b[0m \u001b[38;5;28mself\u001b[39m\u001b[38;5;241m.\u001b[39msession\u001b[38;5;241m.\u001b[39mdispatch\u001b[38;5;241m.\u001b[39mafter_bulk_update(bulk_ud)\n",
      "File \u001b[1;32mc:\\Users\\user\\anaconda3\\Lib\\site-packages\\sqlalchemy\\orm\\session.py:1716\u001b[0m, in \u001b[0;36mSession.execute\u001b[1;34m(self, statement, params, execution_options, bind_arguments, _parent_execute_state, _add_event, **kw)\u001b[0m\n\u001b[0;32m   1712\u001b[0m     execution_options \u001b[38;5;241m=\u001b[39m execution_options\u001b[38;5;241m.\u001b[39munion(\n\u001b[0;32m   1713\u001b[0m         \u001b[38;5;28mdict\u001b[39m(future_result\u001b[38;5;241m=\u001b[39m\u001b[38;5;28;01mFalse\u001b[39;00m)\n\u001b[0;32m   1714\u001b[0m     )\n\u001b[0;32m   1715\u001b[0m \u001b[38;5;28;01melse\u001b[39;00m:\n\u001b[1;32m-> 1716\u001b[0m     conn \u001b[38;5;241m=\u001b[39m \u001b[38;5;28mself\u001b[39m\u001b[38;5;241m.\u001b[39m_connection_for_bind(bind)\n\u001b[0;32m   1717\u001b[0m result \u001b[38;5;241m=\u001b[39m conn\u001b[38;5;241m.\u001b[39m_execute_20(statement, params \u001b[38;5;129;01mor\u001b[39;00m {}, execution_options)\n\u001b[0;32m   1719\u001b[0m \u001b[38;5;28;01mif\u001b[39;00m compile_state_cls:\n",
      "File \u001b[1;32mc:\\Users\\user\\anaconda3\\Lib\\site-packages\\sqlalchemy\\orm\\session.py:1555\u001b[0m, in \u001b[0;36mSession._connection_for_bind\u001b[1;34m(self, engine, execution_options, **kw)\u001b[0m\n\u001b[0;32m   1552\u001b[0m TransactionalContext\u001b[38;5;241m.\u001b[39m_trans_ctx_check(\u001b[38;5;28mself\u001b[39m)\n\u001b[0;32m   1554\u001b[0m \u001b[38;5;28;01mif\u001b[39;00m \u001b[38;5;28mself\u001b[39m\u001b[38;5;241m.\u001b[39m_transaction \u001b[38;5;129;01mis\u001b[39;00m \u001b[38;5;129;01mnot\u001b[39;00m \u001b[38;5;28;01mNone\u001b[39;00m \u001b[38;5;129;01mor\u001b[39;00m \u001b[38;5;28mself\u001b[39m\u001b[38;5;241m.\u001b[39m_autobegin():\n\u001b[1;32m-> 1555\u001b[0m     \u001b[38;5;28;01mreturn\u001b[39;00m \u001b[38;5;28mself\u001b[39m\u001b[38;5;241m.\u001b[39m_transaction\u001b[38;5;241m.\u001b[39m_connection_for_bind(\n\u001b[0;32m   1556\u001b[0m         engine, execution_options\n\u001b[0;32m   1557\u001b[0m     )\n\u001b[0;32m   1559\u001b[0m \u001b[38;5;28;01massert\u001b[39;00m \u001b[38;5;28mself\u001b[39m\u001b[38;5;241m.\u001b[39m_transaction \u001b[38;5;129;01mis\u001b[39;00m \u001b[38;5;28;01mNone\u001b[39;00m\n\u001b[0;32m   1560\u001b[0m \u001b[38;5;28;01massert\u001b[39;00m \u001b[38;5;28mself\u001b[39m\u001b[38;5;241m.\u001b[39mautocommit\n",
      "File \u001b[1;32mc:\\Users\\user\\anaconda3\\Lib\\site-packages\\sqlalchemy\\orm\\session.py:724\u001b[0m, in \u001b[0;36mSessionTransaction._connection_for_bind\u001b[1;34m(self, bind, execution_options)\u001b[0m\n\u001b[0;32m    723\u001b[0m \u001b[38;5;28;01mdef\u001b[39;00m \u001b[38;5;21m_connection_for_bind\u001b[39m(\u001b[38;5;28mself\u001b[39m, bind, execution_options):\n\u001b[1;32m--> 724\u001b[0m     \u001b[38;5;28mself\u001b[39m\u001b[38;5;241m.\u001b[39m_assert_active()\n\u001b[0;32m    726\u001b[0m     \u001b[38;5;28;01mif\u001b[39;00m bind \u001b[38;5;129;01min\u001b[39;00m \u001b[38;5;28mself\u001b[39m\u001b[38;5;241m.\u001b[39m_connections:\n\u001b[0;32m    727\u001b[0m         \u001b[38;5;28;01mif\u001b[39;00m execution_options:\n",
      "File \u001b[1;32mc:\\Users\\user\\anaconda3\\Lib\\site-packages\\sqlalchemy\\orm\\session.py:604\u001b[0m, in \u001b[0;36mSessionTransaction._assert_active\u001b[1;34m(self, prepared_ok, rollback_ok, deactive_ok, closed_msg)\u001b[0m\n\u001b[0;32m    602\u001b[0m \u001b[38;5;28;01mif\u001b[39;00m \u001b[38;5;129;01mnot\u001b[39;00m deactive_ok \u001b[38;5;129;01mand\u001b[39;00m \u001b[38;5;129;01mnot\u001b[39;00m rollback_ok:\n\u001b[0;32m    603\u001b[0m     \u001b[38;5;28;01mif\u001b[39;00m \u001b[38;5;28mself\u001b[39m\u001b[38;5;241m.\u001b[39m_rollback_exception:\n\u001b[1;32m--> 604\u001b[0m         \u001b[38;5;28;01mraise\u001b[39;00m sa_exc\u001b[38;5;241m.\u001b[39mPendingRollbackError(\n\u001b[0;32m    605\u001b[0m             \u001b[38;5;124m\"\u001b[39m\u001b[38;5;124mThis Session\u001b[39m\u001b[38;5;124m'\u001b[39m\u001b[38;5;124ms transaction has been rolled back \u001b[39m\u001b[38;5;124m\"\u001b[39m\n\u001b[0;32m    606\u001b[0m             \u001b[38;5;124m\"\u001b[39m\u001b[38;5;124mdue to a previous exception during flush.\u001b[39m\u001b[38;5;124m\"\u001b[39m\n\u001b[0;32m    607\u001b[0m             \u001b[38;5;124m\"\u001b[39m\u001b[38;5;124m To begin a new transaction with this Session, \u001b[39m\u001b[38;5;124m\"\u001b[39m\n\u001b[0;32m    608\u001b[0m             \u001b[38;5;124m\"\u001b[39m\u001b[38;5;124mfirst issue Session.rollback().\u001b[39m\u001b[38;5;124m\"\u001b[39m\n\u001b[0;32m    609\u001b[0m             \u001b[38;5;124m\"\u001b[39m\u001b[38;5;124m Original exception was: \u001b[39m\u001b[38;5;132;01m%s\u001b[39;00m\u001b[38;5;124m\"\u001b[39m\n\u001b[0;32m    610\u001b[0m             \u001b[38;5;241m%\u001b[39m \u001b[38;5;28mself\u001b[39m\u001b[38;5;241m.\u001b[39m_rollback_exception,\n\u001b[0;32m    611\u001b[0m             code\u001b[38;5;241m=\u001b[39m\u001b[38;5;124m\"\u001b[39m\u001b[38;5;124m7s2a\u001b[39m\u001b[38;5;124m\"\u001b[39m,\n\u001b[0;32m    612\u001b[0m         )\n\u001b[0;32m    613\u001b[0m     \u001b[38;5;28;01melif\u001b[39;00m \u001b[38;5;129;01mnot\u001b[39;00m deactive_ok:\n\u001b[0;32m    614\u001b[0m         \u001b[38;5;28;01mraise\u001b[39;00m sa_exc\u001b[38;5;241m.\u001b[39mInvalidRequestError(\n\u001b[0;32m    615\u001b[0m             \u001b[38;5;124m\"\u001b[39m\u001b[38;5;124mThis session is in \u001b[39m\u001b[38;5;124m'\u001b[39m\u001b[38;5;124minactive\u001b[39m\u001b[38;5;124m'\u001b[39m\u001b[38;5;124m state, due to the \u001b[39m\u001b[38;5;124m\"\u001b[39m\n\u001b[0;32m    616\u001b[0m             \u001b[38;5;124m\"\u001b[39m\u001b[38;5;124mSQL transaction being rolled back; no further \u001b[39m\u001b[38;5;124m\"\u001b[39m\n\u001b[0;32m    617\u001b[0m             \u001b[38;5;124m\"\u001b[39m\u001b[38;5;124mSQL can be emitted within this transaction.\u001b[39m\u001b[38;5;124m\"\u001b[39m\n\u001b[0;32m    618\u001b[0m         )\n",
      "\u001b[1;31mPendingRollbackError\u001b[0m: This Session's transaction has been rolled back due to a previous exception during flush. To begin a new transaction with this Session, first issue Session.rollback(). Original exception was: (psycopg2.errors.UniqueViolation) 오류:  중복된 키 값이 \"lecture_pkey\" 고유 제약 조건을 위반함\nDETAIL:  (id)=(3) 키가 이미 있습니다.\n\n[SQL: INSERT INTO lecture (id, name, year, gender, count) VALUES (%(id)s, %(name)s, %(year)s, %(gender)s, %(count)s)]\n[parameters: {'id': 3, 'name': 'chunjae', 'year': 1990, 'gender': 'M', 'count': 1234}]\n(Background on this error at: https://sqlalche.me/e/14/gkpj) (Background on this error at: https://sqlalche.me/e/14/7s2a)"
     ]
    }
   ],
   "source": [
    "# update\n",
    "\n",
    "session.query(lecture).filter(lecture.name == 'chunjae').update({'gender' : 'F','count' : 1500})"
   ]
  },
  {
   "cell_type": "code",
   "execution_count": 40,
   "metadata": {},
   "outputs": [],
   "source": [
    "from sqlalchemy import create_engine, Table, Column, Integer, String, MetaData\n",
    "from sqlalchemy.orm import sessionmaker\n",
    "\n",
    "db = create_engine(f'{engine_name}://{user_id}:{user_pw}@{host}:{port}/{database}')\n",
    "\n",
    "Session = sessionmaker(db)\n",
    "session = Session()\n",
    "\n",
    "meta = MetaData()\n",
    "\n",
    "core_table = Table(\n",
    "    'first', meta,\n",
    "    Column('id', Integer, primary_key = True, autoincrement = True),\n",
    "    Column('name', String),\n",
    "    Column('year', Integer),\n",
    "    Column('gender', String),\n",
    "    Column('count', Integer)\n",
    ")\n",
    "\n",
    "meta.create_all(db)\n"
   ]
  },
  {
   "cell_type": "code",
   "execution_count": 54,
   "metadata": {},
   "outputs": [],
   "source": [
    "from sqlalchemy import insert, update, delete\n",
    "\n",
    "# Select all\n",
    "res = core_table.select()\n",
    "result = session.execute(res)\n",
    "\n",
    "for row in result:\n",
    "    print(row)"
   ]
  },
  {
   "cell_type": "code",
   "execution_count": 56,
   "metadata": {},
   "outputs": [
    {
     "ename": "AttributeError",
     "evalue": "'Connection' object has no attribute 'commit'",
     "output_type": "error",
     "traceback": [
      "\u001b[1;31m---------------------------------------------------------------------------\u001b[0m",
      "\u001b[1;31mAttributeError\u001b[0m                            Traceback (most recent call last)",
      "Cell \u001b[1;32mIn[56], line 6\u001b[0m\n\u001b[0;32m      4\u001b[0m \u001b[38;5;28;01mwith\u001b[39;00m db\u001b[38;5;241m.\u001b[39mconnect() \u001b[38;5;28;01mas\u001b[39;00m conn:\n\u001b[0;32m      5\u001b[0m     result \u001b[38;5;241m=\u001b[39m conn\u001b[38;5;241m.\u001b[39mexecute(stmt)\n\u001b[1;32m----> 6\u001b[0m     conn\u001b[38;5;241m.\u001b[39mcommit()\n",
      "\u001b[1;31mAttributeError\u001b[0m: 'Connection' object has no attribute 'commit'"
     ]
    }
   ],
   "source": [
    "# insert one\n",
    "stmt = insert(core_table).values(name=\"hahaha\", year=2023, gender=\"M\", count=555)\n",
    "\n",
    "with db.connect() as conn:\n",
    "    result = conn.execute(stmt)\n",
    "    conn.commit()"
   ]
  },
  {
   "cell_type": "code",
   "execution_count": 43,
   "metadata": {},
   "outputs": [
    {
     "ename": "AttributeError",
     "evalue": "'Connection' object has no attribute 'commit'",
     "output_type": "error",
     "traceback": [
      "\u001b[1;31m---------------------------------------------------------------------------\u001b[0m",
      "\u001b[1;31mAttributeError\u001b[0m                            Traceback (most recent call last)",
      "Cell \u001b[1;32mIn[43], line 9\u001b[0m\n\u001b[0;32m      7\u001b[0m \u001b[38;5;28;01mwith\u001b[39;00m db\u001b[38;5;241m.\u001b[39mconnect() \u001b[38;5;28;01mas\u001b[39;00m conn:\n\u001b[0;32m      8\u001b[0m     result \u001b[38;5;241m=\u001b[39m conn\u001b[38;5;241m.\u001b[39mexecute(stmt, data_list)\n\u001b[1;32m----> 9\u001b[0m     conn\u001b[38;5;241m.\u001b[39mcommit()\n",
      "\u001b[1;31mAttributeError\u001b[0m: 'Connection' object has no attribute 'commit'"
     ]
    }
   ],
   "source": [
    "stmt = insert(core_table)\n",
    "data_list = [\n",
    "    {'name' : 'hwang', 'year' : 1994, 'gender' : 'M', 'count' : 12},\n",
    "    {'name' : 'jeong', 'year' : 1996, 'gender' : 'F', 'count' : 32}\n",
    "]\n",
    "\n",
    "with db.connect() as conn:\n",
    "    result = conn.execute(stmt, data_list)\n",
    "    conn.commit()"
   ]
  },
  {
   "cell_type": "code",
   "execution_count": 44,
   "metadata": {},
   "outputs": [
    {
     "ename": "AttributeError",
     "evalue": "'Connection' object has no attribute 'commit'",
     "output_type": "error",
     "traceback": [
      "\u001b[1;31m---------------------------------------------------------------------------\u001b[0m",
      "\u001b[1;31mAttributeError\u001b[0m                            Traceback (most recent call last)",
      "Cell \u001b[1;32mIn[44], line 5\u001b[0m\n\u001b[0;32m      3\u001b[0m \u001b[38;5;28;01mwith\u001b[39;00m db\u001b[38;5;241m.\u001b[39mconnect() \u001b[38;5;28;01mas\u001b[39;00m conn:\n\u001b[0;32m      4\u001b[0m     result \u001b[38;5;241m=\u001b[39m conn\u001b[38;5;241m.\u001b[39mexecute(stmt)\n\u001b[1;32m----> 5\u001b[0m     conn\u001b[38;5;241m.\u001b[39mcommit()\n",
      "\u001b[1;31mAttributeError\u001b[0m: 'Connection' object has no attribute 'commit'"
     ]
    }
   ],
   "source": [
    "stmt = update(core_table).where(core_table.c.name == 'jeong').values(year = 1000)\n",
    "\n",
    "with db.connect() as conn:\n",
    "    result = conn.execute(stmt)\n",
    "    conn.commit()"
   ]
  },
  {
   "cell_type": "code",
   "execution_count": 53,
   "metadata": {},
   "outputs": [
    {
     "ename": "AttributeError",
     "evalue": "'Connection' object has no attribute 'commit'",
     "output_type": "error",
     "traceback": [
      "\u001b[1;31m---------------------------------------------------------------------------\u001b[0m",
      "\u001b[1;31mAttributeError\u001b[0m                            Traceback (most recent call last)",
      "Cell \u001b[1;32mIn[53], line 5\u001b[0m\n\u001b[0;32m      3\u001b[0m \u001b[38;5;28;01mwith\u001b[39;00m db\u001b[38;5;241m.\u001b[39mconnect() \u001b[38;5;28;01mas\u001b[39;00m conn:\n\u001b[0;32m      4\u001b[0m     result \u001b[38;5;241m=\u001b[39m conn\u001b[38;5;241m.\u001b[39mexecute(stmt)\n\u001b[1;32m----> 5\u001b[0m     conn\u001b[38;5;241m.\u001b[39mcommit()\n",
      "\u001b[1;31mAttributeError\u001b[0m: 'Connection' object has no attribute 'commit'"
     ]
    }
   ],
   "source": [
    "stmt = delete(core_table).where(core_table.c.name =='hahaha')\n",
    "\n",
    "with db.connect() as conn:\n",
    "    result = conn.execute(stmt)\n",
    "    conn.commit()"
   ]
  },
  {
   "cell_type": "code",
   "execution_count": null,
   "metadata": {},
   "outputs": [],
   "source": [
    "# drop\n",
    "first_table = Table('first', Base.metadata, autoload_with=db)\n",
    "\n",
    "first_table.drop(db)"
   ]
  },
  {
   "cell_type": "markdown",
   "metadata": {},
   "source": [
    "#### 1-3. Python을 활용한  Bulk Insert\n",
    "\n",
    "##### 1. For문을 활용한 Insert\n",
    "##### 2. to_sql 함수를 활용한 Insert\n",
    "##### 3. execute_values() 함수를 활용한 Insert"
   ]
  },
  {
   "cell_type": "markdown",
   "metadata": {},
   "source": [
    "#### Pandas for loop"
   ]
  },
  {
   "cell_type": "code",
   "execution_count": 3,
   "metadata": {},
   "outputs": [],
   "source": [
    "import psycopg2 as pgsql\n",
    "\n",
    "# database connection\n",
    "db = pgsql.connect(\n",
    "    host=\"127.0.0.1\",\n",
    "    dbname=\"postgres\",\n",
    "    user=\"postgres\",\n",
    "    password=\"\",\n",
    "    port=5432,\n",
    ")\n",
    "\n",
    "cursor = db.cursor()"
   ]
  },
  {
   "cell_type": "code",
   "execution_count": 4,
   "metadata": {},
   "outputs": [],
   "source": [
    "drop_query = \"DROP TABLE LECTURE\"\n",
    "\n",
    "cursor.execute(drop_query)\n",
    "db.commit()"
   ]
  },
  {
   "cell_type": "code",
   "execution_count": 61,
   "metadata": {},
   "outputs": [],
   "source": [
    "create_query = \"CREATE TABLE lecture (id SERIAL PRIMARY KEY, name varchar(65533), year INT, gender varchar(65533), count INT);\"\n",
    "\n",
    "cursor.execute(create_query)\n",
    "db.commit()"
   ]
  },
  {
   "cell_type": "code",
   "execution_count": 18,
   "metadata": {},
   "outputs": [
    {
     "data": {
      "text/html": [
       "<div>\n",
       "<style scoped>\n",
       "    .dataframe tbody tr th:only-of-type {\n",
       "        vertical-align: middle;\n",
       "    }\n",
       "\n",
       "    .dataframe tbody tr th {\n",
       "        vertical-align: top;\n",
       "    }\n",
       "\n",
       "    .dataframe thead th {\n",
       "        text-align: right;\n",
       "    }\n",
       "</style>\n",
       "<table border=\"1\" class=\"dataframe\">\n",
       "  <thead>\n",
       "    <tr style=\"text-align: right;\">\n",
       "      <th></th>\n",
       "      <th>id</th>\n",
       "      <th>name</th>\n",
       "      <th>year</th>\n",
       "      <th>gender</th>\n",
       "      <th>count</th>\n",
       "    </tr>\n",
       "  </thead>\n",
       "  <tbody>\n",
       "    <tr>\n",
       "      <th>0</th>\n",
       "      <td>1</td>\n",
       "      <td>Mary</td>\n",
       "      <td>1880</td>\n",
       "      <td>F</td>\n",
       "      <td>7065</td>\n",
       "    </tr>\n",
       "    <tr>\n",
       "      <th>1</th>\n",
       "      <td>2</td>\n",
       "      <td>Anna</td>\n",
       "      <td>1880</td>\n",
       "      <td>F</td>\n",
       "      <td>2604</td>\n",
       "    </tr>\n",
       "    <tr>\n",
       "      <th>2</th>\n",
       "      <td>3</td>\n",
       "      <td>Emma</td>\n",
       "      <td>1880</td>\n",
       "      <td>F</td>\n",
       "      <td>2003</td>\n",
       "    </tr>\n",
       "    <tr>\n",
       "      <th>3</th>\n",
       "      <td>4</td>\n",
       "      <td>Elizabeth</td>\n",
       "      <td>1880</td>\n",
       "      <td>F</td>\n",
       "      <td>1939</td>\n",
       "    </tr>\n",
       "    <tr>\n",
       "      <th>4</th>\n",
       "      <td>5</td>\n",
       "      <td>Minnie</td>\n",
       "      <td>1880</td>\n",
       "      <td>F</td>\n",
       "      <td>1746</td>\n",
       "    </tr>\n",
       "    <tr>\n",
       "      <th>5</th>\n",
       "      <td>6</td>\n",
       "      <td>Margaret</td>\n",
       "      <td>1880</td>\n",
       "      <td>F</td>\n",
       "      <td>1578</td>\n",
       "    </tr>\n",
       "    <tr>\n",
       "      <th>6</th>\n",
       "      <td>7</td>\n",
       "      <td>Ida</td>\n",
       "      <td>1880</td>\n",
       "      <td>F</td>\n",
       "      <td>1472</td>\n",
       "    </tr>\n",
       "    <tr>\n",
       "      <th>7</th>\n",
       "      <td>8</td>\n",
       "      <td>Alice</td>\n",
       "      <td>1880</td>\n",
       "      <td>F</td>\n",
       "      <td>1414</td>\n",
       "    </tr>\n",
       "    <tr>\n",
       "      <th>8</th>\n",
       "      <td>9</td>\n",
       "      <td>Bertha</td>\n",
       "      <td>1880</td>\n",
       "      <td>F</td>\n",
       "      <td>1320</td>\n",
       "    </tr>\n",
       "    <tr>\n",
       "      <th>9</th>\n",
       "      <td>10</td>\n",
       "      <td>Sarah</td>\n",
       "      <td>1880</td>\n",
       "      <td>F</td>\n",
       "      <td>1288</td>\n",
       "    </tr>\n",
       "  </tbody>\n",
       "</table>\n",
       "</div>"
      ],
      "text/plain": [
       "   id       name  year gender  count\n",
       "0   1       Mary  1880      F   7065\n",
       "1   2       Anna  1880      F   2604\n",
       "2   3       Emma  1880      F   2003\n",
       "3   4  Elizabeth  1880      F   1939\n",
       "4   5     Minnie  1880      F   1746\n",
       "5   6   Margaret  1880      F   1578\n",
       "6   7        Ida  1880      F   1472\n",
       "7   8      Alice  1880      F   1414\n",
       "8   9     Bertha  1880      F   1320\n",
       "9  10      Sarah  1880      F   1288"
      ]
     },
     "execution_count": 18,
     "metadata": {},
     "output_type": "execute_result"
    }
   ],
   "source": [
    "import pandas as pd\n",
    "\n",
    "df = pd.read_csv('./dataset/data-01/names.csv')\n",
    "df.head(10)"
   ]
  },
  {
   "cell_type": "code",
   "execution_count": 20,
   "metadata": {},
   "outputs": [
    {
     "name": "stdout",
     "output_type": "stream",
     "text": [
      "<class 'pandas.core.frame.DataFrame'>\n",
      "RangeIndex: 2000 entries, 0 to 1999\n",
      "Data columns (total 5 columns):\n",
      " #   Column  Non-Null Count  Dtype \n",
      "---  ------  --------------  ----- \n",
      " 0   id      2000 non-null   int64 \n",
      " 1   name    2000 non-null   object\n",
      " 2   year    2000 non-null   int64 \n",
      " 3   gender  2000 non-null   object\n",
      " 4   count   2000 non-null   int64 \n",
      "dtypes: int64(3), object(2)\n",
      "memory usage: 78.3+ KB\n"
     ]
    }
   ],
   "source": [
    "df.info()"
   ]
  },
  {
   "cell_type": "code",
   "execution_count": null,
   "metadata": {},
   "outputs": [],
   "source": [
    "from sqlalchemy import create_engine\n",
    "\n",
    "engine = create_engine(f'sqlite://{}')\n",
    "\n",
    "\n",
    "\n",
    "# Bulk Insert\n",
    "\n",
    "df.to_sql(name='lecture', con=db, if_exists = 'replace')"
   ]
  },
  {
   "cell_type": "code",
   "execution_count": 21,
   "metadata": {},
   "outputs": [],
   "source": [
    "# Bulk insert -> tuple(for)\n",
    "\n",
    "for data in range(len(df)):\n",
    "    datas = tuple(df.iloc[data])\n",
    "    query = f'insert into lecture values {datas}'\n",
    "    cursor.execute(query)\n",
    "\n",
    "db.commit()"
   ]
  },
  {
   "cell_type": "code",
   "execution_count": 24,
   "metadata": {},
   "outputs": [
    {
     "ename": "UndefinedTable",
     "evalue": "오류:  \"lecture\" 이름의 릴레이션(relation)이 없습니다\nLINE 1: select * from lecture limit 10\n                      ^\n",
     "output_type": "error",
     "traceback": [
      "\u001b[1;31m---------------------------------------------------------------------------\u001b[0m",
      "\u001b[1;31mUndefinedTable\u001b[0m                            Traceback (most recent call last)",
      "Cell \u001b[1;32mIn[24], line 2\u001b[0m\n\u001b[0;32m      1\u001b[0m \u001b[38;5;66;03m# select\u001b[39;00m\n\u001b[1;32m----> 2\u001b[0m cursor\u001b[38;5;241m.\u001b[39mexecute(\u001b[38;5;124m'\u001b[39m\u001b[38;5;124mselect * from lecture limit 10\u001b[39m\u001b[38;5;124m'\u001b[39m)\n\u001b[0;32m      3\u001b[0m cursor\u001b[38;5;241m.\u001b[39mfetchall()\n",
      "\u001b[1;31mUndefinedTable\u001b[0m: 오류:  \"lecture\" 이름의 릴레이션(relation)이 없습니다\nLINE 1: select * from lecture limit 10\n                      ^\n"
     ]
    }
   ],
   "source": [
    "# select\n",
    "cursor.execute('select * from lecture limit 10')\n",
    "cursor.fetchall()"
   ]
  },
  {
   "cell_type": "markdown",
   "metadata": {},
   "source": [
    "#### Pandas - to_sql 메소드\n",
    "    - dataframe.to_sql(테이블명, sqlalchemy_connector, option)"
   ]
  },
  {
   "cell_type": "code",
   "execution_count": 5,
   "metadata": {},
   "outputs": [],
   "source": [
    "from sqlalchemy import create_engine\n",
    "\n",
    "engine = 'postgresql'\n",
    "user = 'postgres'\n",
    "password = ''\n",
    "host = '127.0.0.1'\n",
    "port = '5432'\n",
    "database = 'postgres'\n",
    "\n",
    "db = create_engine(f'{engine}://{user}:{password}@{host}:{port}/{database}')\n",
    "\n"
   ]
  },
  {
   "cell_type": "code",
   "execution_count": 6,
   "metadata": {},
   "outputs": [
    {
     "data": {
      "text/plain": [
       "id           2\n",
       "name      Anna\n",
       "year      1880\n",
       "gender       F\n",
       "count     2604\n",
       "Name: 1, dtype: object"
      ]
     },
     "execution_count": 6,
     "metadata": {},
     "output_type": "execute_result"
    }
   ],
   "source": [
    "import pandas as pd\n",
    "\n",
    "df = pd.read_csv('./dataset/data-01/names.csv')\n",
    "\n",
    "df.iloc[1]\n",
    "df.iloc[1,:]"
   ]
  },
  {
   "cell_type": "code",
   "execution_count": 7,
   "metadata": {},
   "outputs": [
    {
     "data": {
      "text/plain": [
       "1000"
      ]
     },
     "execution_count": 7,
     "metadata": {},
     "output_type": "execute_result"
    }
   ],
   "source": [
    "# bulk insert\n",
    "\n",
    "df.to_sql(name = 'lecture', con = db, if_exists= 'replace')"
   ]
  },
  {
   "cell_type": "markdown",
   "metadata": {},
   "source": [
    "### 3) psycopg2 라이브러리의 execute_values() 메소드"
   ]
  },
  {
   "cell_type": "code",
   "execution_count": 54,
   "metadata": {},
   "outputs": [],
   "source": [
    "import psycopg2 as pgsql\n",
    "\n",
    "# database connection\n",
    "db = pgsql.connect(\n",
    "    host=\"127.0.0.1\",\n",
    "    dbname=\"postgres\",\n",
    "    user=\"postgres\",\n",
    "    password=\"\",\n",
    "    port=5432,\n",
    ")\n",
    "\n",
    "cursor = db.cursor()"
   ]
  },
  {
   "cell_type": "code",
   "execution_count": 51,
   "metadata": {},
   "outputs": [],
   "source": [
    "delete_query = 'delete from lecture'\n",
    "\n",
    "cursor.execute(delete_query)\n",
    "db.commit()"
   ]
  },
  {
   "cell_type": "code",
   "execution_count": 29,
   "metadata": {},
   "outputs": [
    {
     "data": {
      "text/plain": [
       "[]"
      ]
     },
     "execution_count": 29,
     "metadata": {},
     "output_type": "execute_result"
    }
   ],
   "source": [
    "cursor.execute('select * from lecture')\n",
    "cursor.fetchall()"
   ]
  },
  {
   "cell_type": "code",
   "execution_count": 45,
   "metadata": {},
   "outputs": [],
   "source": [
    "import pandas as pd\n",
    "\n",
    "df = pd.read_csv('./dataset/data-01/names.csv')\n",
    "df['id'] = df['id'].astype(int)\n",
    "df['year'] = df['year'].astype(int)\n",
    "df['count'] = df['count'].astype(int)\n",
    "\n",
    "insert_list = list()\n",
    "\n",
    "for i in range(5,50):\n",
    "    insert_list.append(tuple(df.iloc[i]))"
   ]
  },
  {
   "cell_type": "code",
   "execution_count": 56,
   "metadata": {},
   "outputs": [
    {
     "name": "stdout",
     "output_type": "stream",
     "text": [
      "<class 'pandas.core.frame.DataFrame'>\n",
      "RangeIndex: 2000 entries, 0 to 1999\n",
      "Data columns (total 5 columns):\n",
      " #   Column  Non-Null Count  Dtype \n",
      "---  ------  --------------  ----- \n",
      " 0   id      2000 non-null   int32 \n",
      " 1   name    2000 non-null   object\n",
      " 2   year    2000 non-null   int32 \n",
      " 3   gender  2000 non-null   object\n",
      " 4   count   2000 non-null   int32 \n",
      "dtypes: int32(3), object(2)\n",
      "memory usage: 54.8+ KB\n"
     ]
    }
   ],
   "source": [
    "df.info()"
   ]
  },
  {
   "cell_type": "code",
   "execution_count": 58,
   "metadata": {},
   "outputs": [],
   "source": [
    "import numpy as np\n",
    "from psycopg2.extensions import register_adapter, AsIs\n",
    "register_adapter(np.int64, AsIs)\n"
   ]
  },
  {
   "cell_type": "code",
   "execution_count": 59,
   "metadata": {},
   "outputs": [
    {
     "ename": "ProgrammingError",
     "evalue": "can't adapt type 'numpy.int32'",
     "output_type": "error",
     "traceback": [
      "\u001b[1;31m---------------------------------------------------------------------------\u001b[0m",
      "\u001b[1;31mProgrammingError\u001b[0m                          Traceback (most recent call last)",
      "Cell \u001b[1;32mIn[59], line 4\u001b[0m\n\u001b[0;32m      1\u001b[0m \u001b[38;5;28;01mfrom\u001b[39;00m \u001b[38;5;21;01mpsycopg2\u001b[39;00m\u001b[38;5;21;01m.\u001b[39;00m\u001b[38;5;21;01mextras\u001b[39;00m \u001b[38;5;28;01mimport\u001b[39;00m execute_values\n\u001b[0;32m      3\u001b[0m sql \u001b[38;5;241m=\u001b[39m \u001b[38;5;124mf\u001b[39m\u001b[38;5;124m'\u001b[39m\u001b[38;5;124mINSERT INTO lecture VALUES %s;\u001b[39m\u001b[38;5;124m'\u001b[39m\n\u001b[1;32m----> 4\u001b[0m \u001b[43mexecute_values\u001b[49m\u001b[43m(\u001b[49m\u001b[43mcursor\u001b[49m\u001b[43m,\u001b[49m\u001b[43m \u001b[49m\u001b[43msql\u001b[49m\u001b[43m,\u001b[49m\u001b[43m \u001b[49m\u001b[43minsert_list\u001b[49m\u001b[43m)\u001b[49m\n\u001b[0;32m      6\u001b[0m db\u001b[38;5;241m.\u001b[39mcommit()\n",
      "File \u001b[1;32mc:\\Users\\user\\anaconda3\\envs\\vvenv\\Lib\\site-packages\\psycopg2\\extras.py:1296\u001b[0m, in \u001b[0;36mexecute_values\u001b[1;34m(cur, sql, argslist, template, page_size, fetch)\u001b[0m\n\u001b[0;32m   1294\u001b[0m parts \u001b[38;5;241m=\u001b[39m pre[:]\n\u001b[0;32m   1295\u001b[0m \u001b[38;5;28;01mfor\u001b[39;00m args \u001b[38;5;129;01min\u001b[39;00m page:\n\u001b[1;32m-> 1296\u001b[0m     parts\u001b[38;5;241m.\u001b[39mappend(\u001b[43mcur\u001b[49m\u001b[38;5;241;43m.\u001b[39;49m\u001b[43mmogrify\u001b[49m\u001b[43m(\u001b[49m\u001b[43mtemplate\u001b[49m\u001b[43m,\u001b[49m\u001b[43m \u001b[49m\u001b[43margs\u001b[49m\u001b[43m)\u001b[49m)\n\u001b[0;32m   1297\u001b[0m     parts\u001b[38;5;241m.\u001b[39mappend(\u001b[38;5;124mb\u001b[39m\u001b[38;5;124m'\u001b[39m\u001b[38;5;124m,\u001b[39m\u001b[38;5;124m'\u001b[39m)\n\u001b[0;32m   1298\u001b[0m parts[\u001b[38;5;241m-\u001b[39m\u001b[38;5;241m1\u001b[39m:] \u001b[38;5;241m=\u001b[39m post\n",
      "\u001b[1;31mProgrammingError\u001b[0m: can't adapt type 'numpy.int32'"
     ]
    }
   ],
   "source": [
    "from psycopg2.extras import execute_values\n",
    "\n",
    "sql = f'INSERT INTO lecture VALUES %s;'\n",
    "execute_values(cursor, sql, insert_list)\n",
    "\n",
    "db.commit()"
   ]
  },
  {
   "cell_type": "markdown",
   "metadata": {},
   "source": [
    "### 2. dotenv 라이브러리를 활용한 민감 정보 관리\n",
    "- 환경 변수에 대한 관리를 효과적이고 안전하게 할 수 있도록 도와주는 python 라이브러리\n",
    "- DB정보, 비밀번호, API KEY 등 외부에 공유되거나 git에 오라가면 안되는 값들을 하드코딩 하지 않고 사용\n",
    "\n",
    "pip install python-dotenv"
   ]
  },
  {
   "cell_type": "code",
   "execution_count": 12,
   "metadata": {},
   "outputs": [
    {
     "name": "stdout",
     "output_type": "stream",
     "text": [
      "d:\\workspace\\Chunjae_Bigdata_9th\\10.25~10.31\\.env\n"
     ]
    }
   ],
   "source": [
    "import dotenv\n",
    "\n",
    "env_path = dotenv.find_dotenv()\n",
    "print(env_path)"
   ]
  },
  {
   "cell_type": "code",
   "execution_count": 13,
   "metadata": {},
   "outputs": [
    {
     "data": {
      "text/plain": [
       "True"
      ]
     },
     "execution_count": 13,
     "metadata": {},
     "output_type": "execute_result"
    }
   ],
   "source": [
    "# .env load\n",
    "dotenv.load_dotenv(env_path)"
   ]
  },
  {
   "cell_type": "code",
   "execution_count": 21,
   "metadata": {},
   "outputs": [],
   "source": [
    "# .env values\n",
    "\n",
    "# dotenv.dotenv_values(env_path)"
   ]
  },
  {
   "cell_type": "code",
   "execution_count": 70,
   "metadata": {},
   "outputs": [
    {
     "data": {
      "text/plain": [
       "(True, 'HOST', '87654321')"
      ]
     },
     "execution_count": 70,
     "metadata": {},
     "output_type": "execute_result"
    }
   ],
   "source": [
    "# .env values change\n",
    "# dotenv.set_key(env_path, 'HOST', '87654321')"
   ]
  },
  {
   "cell_type": "code",
   "execution_count": 20,
   "metadata": {},
   "outputs": [],
   "source": [
    "# load\n",
    "\n",
    "import os\n",
    "\n",
    "dotenv.load_dotenv()\n",
    "\n",
    "engine = os.getenv('POSTGRES_ENGINE')\n",
    "user = os.getenv('POSTGRES_USER')\n",
    "password = os.getenv('POSTGRES_PASSWORD')\n",
    "host = os.getenv('POSTGRES_HOST')\n",
    "port = os.getenv(\"POSTGRES_PORT\")\n",
    "database = os.getenv(\"POSTGRES_DB\")\n",
    "\n",
    "# print(engine, user, password, host, port, database)"
   ]
  },
  {
   "cell_type": "markdown",
   "metadata": {},
   "source": [
    "### DB Connection"
   ]
  },
  {
   "cell_type": "code",
   "execution_count": 19,
   "metadata": {},
   "outputs": [],
   "source": [
    "import psycopg2\n",
    "\n",
    "db = psycopg2.connect(\n",
    "    dbname = database,\n",
    "    user = user,\n",
    "    password = password,\n",
    "    port = port,\n",
    "    host = host\n",
    ")\n",
    "\n",
    "cursor = db.cursor()"
   ]
  },
  {
   "cell_type": "markdown",
   "metadata": {},
   "source": [
    "### 3. Python Class를 사용한 DB Connection\n",
    "\n",
    "0) self"
   ]
  },
  {
   "cell_type": "code",
   "execution_count": 24,
   "metadata": {},
   "outputs": [],
   "source": [
    "class TempClass:\n",
    "    def __init__(self, name:str, age:int, count:int):\n",
    "        self.name = name\n",
    "        self.age = age\n",
    "        self.count = count\n",
    "        self.addage()\n",
    "\n",
    "    def printall(self):\n",
    "        print(self.name)\n",
    "        print(self.age)\n",
    "        print(self.count)\n",
    "\n",
    "\n",
    "    def printself(self):\n",
    "        return self\n",
    "    \n",
    "    def addage(self):\n",
    "        self.new_age = self.age + 10\n"
   ]
  },
  {
   "cell_type": "code",
   "execution_count": 26,
   "metadata": {},
   "outputs": [
    {
     "name": "stdout",
     "output_type": "stream",
     "text": [
      "<__main__.TempClass object at 0x000001C5C4858A70>\n",
      "<__main__.TempClass object at 0x000001C5C4858A70>\n"
     ]
    }
   ],
   "source": [
    "a1 = TempClass('chunjae', 2,3)\n",
    "s1 = a1.printself()\n",
    "\n",
    "print(a1)\n",
    "print(s1)"
   ]
  },
  {
   "cell_type": "code",
   "execution_count": 27,
   "metadata": {},
   "outputs": [
    {
     "data": {
      "text/plain": [
       "{'name': 'chunjae', 'age': 2, 'count': 3, 'new_age': 12}"
      ]
     },
     "execution_count": 27,
     "metadata": {},
     "output_type": "execute_result"
    }
   ],
   "source": [
    "# 객체 인자 확인\n",
    "s1.__dict__"
   ]
  },
  {
   "cell_type": "code",
   "execution_count": 28,
   "metadata": {},
   "outputs": [
    {
     "data": {
      "text/plain": [
       "['addage', 'age', 'count', 'name', 'new_age', 'printall', 'printself']"
      ]
     },
     "execution_count": 28,
     "metadata": {},
     "output_type": "execute_result"
    }
   ],
   "source": [
    "[i for i in dir(s1) if '__' not in i]"
   ]
  },
  {
   "cell_type": "code",
   "execution_count": 30,
   "metadata": {},
   "outputs": [
    {
     "data": {
      "text/plain": [
       "3"
      ]
     },
     "execution_count": 30,
     "metadata": {},
     "output_type": "execute_result"
    }
   ],
   "source": [
    "from easydict import EasyDict\n",
    "\n",
    "self = EasyDict(dict())\n",
    "self['name'] = 'kwak'\n",
    "self['age'] = 3\n",
    "self['count'] = 1\n",
    "\n",
    "s2 = self\n",
    "\n",
    "s2.age"
   ]
  },
  {
   "cell_type": "code",
   "execution_count": 32,
   "metadata": {},
   "outputs": [
    {
     "data": {
      "text/plain": [
       "{'name': 'kwak', 'age': 3, 'count': 1, 'hoho': 'ho'}"
      ]
     },
     "execution_count": 32,
     "metadata": {},
     "output_type": "execute_result"
    }
   ],
   "source": [
    "self.hoho = 'ho'\n",
    "\n",
    "self"
   ]
  },
  {
   "cell_type": "markdown",
   "metadata": {},
   "source": [
    "### 1) DBConnector Class"
   ]
  },
  {
   "cell_type": "code",
   "execution_count": 16,
   "metadata": {},
   "outputs": [],
   "source": [
    "import psycopg2\n",
    "\n",
    "class DBConnector:\n",
    "    def __init__(self, host, database, user, password, port):\n",
    "        self.host = host\n",
    "        self.database = database\n",
    "        self.user = user\n",
    "        self.password = password\n",
    "        self.port = port\n",
    "\n",
    "    def postgres_connect(self):\n",
    "        print('<<< pssql_connector >>>')\n",
    "        self.conn = psycopg2.connect(\n",
    "            host=self.host,\n",
    "            dbname = self.database,\n",
    "            user = self.user,\n",
    "            password = self.password,\n",
    "            port = self.port,\n",
    "        )\n",
    "        return self"
   ]
  },
  {
   "cell_type": "code",
   "execution_count": null,
   "metadata": {},
   "outputs": [],
   "source": [
    "host, database, user, password, port"
   ]
  },
  {
   "cell_type": "code",
   "execution_count": 10,
   "metadata": {},
   "outputs": [
    {
     "name": "stdout",
     "output_type": "stream",
     "text": [
      "<<< pssql_connector >>>\n"
     ]
    }
   ],
   "source": [
    "db_object = DBConnector(host, database, user, password, port)\n",
    "db_conn = db_object.postgres_connect().conn\n",
    "\n",
    "cursor=db_conn.cursor()"
   ]
  },
  {
   "cell_type": "code",
   "execution_count": 11,
   "metadata": {},
   "outputs": [
    {
     "data": {
      "text/plain": [
       "[(0, 1, 'Mary', 1880, 'F', 7065),\n",
       " (1, 2, 'Anna', 1880, 'F', 2604),\n",
       " (2, 3, 'Emma', 1880, 'F', 2003),\n",
       " (3, 4, 'Elizabeth', 1880, 'F', 1939),\n",
       " (4, 5, 'Minnie', 1880, 'F', 1746)]"
      ]
     },
     "execution_count": 11,
     "metadata": {},
     "output_type": "execute_result"
    }
   ],
   "source": [
    "cursor.execute(\"SELECT * FROM lecture LIMIT 5\")\n",
    "\n",
    "cursor.fetchall()"
   ]
  },
  {
   "cell_type": "markdown",
   "metadata": {},
   "source": [
    "with문 :  python에서 파일 또는 리소스 관리를 더 효과적으로 처리하기 위한 블록 구조\n",
    "리소스를 열고 사용한 후 자동으로 닫아주기 때문에 닫아주는 코드를 작성할 필요가 없다."
   ]
  },
  {
   "cell_type": "code",
   "execution_count": 12,
   "metadata": {},
   "outputs": [],
   "source": [
    "file = open('temp.txt', 'a')\n",
    "file.write('1')\n",
    "file.write('2')\n",
    "\n",
    "file.close()"
   ]
  },
  {
   "cell_type": "code",
   "execution_count": 15,
   "metadata": {},
   "outputs": [
    {
     "ename": "TypeError",
     "evalue": "'DBConnector' object does not support the context manager protocol",
     "output_type": "error",
     "traceback": [
      "\u001b[1;31m---------------------------------------------------------------------------\u001b[0m",
      "\u001b[1;31mTypeError\u001b[0m                                 Traceback (most recent call last)",
      "Cell \u001b[1;32mIn[15], line 3\u001b[0m\n\u001b[0;32m      1\u001b[0m db_object \u001b[38;5;241m=\u001b[39m DBConnector(host, database, user, password, port)\n\u001b[1;32m----> 3\u001b[0m \u001b[38;5;28;43;01mwith\u001b[39;49;00m\u001b[43m \u001b[49m\u001b[43mdb_object\u001b[49m\u001b[43m \u001b[49m\u001b[38;5;28;43;01mas\u001b[39;49;00m\u001b[43m \u001b[49m\u001b[43mconnected\u001b[49m\u001b[43m:\u001b[49m\n\u001b[0;32m      4\u001b[0m \u001b[43m    \u001b[49m\u001b[43mdb_conn\u001b[49m\u001b[43m \u001b[49m\u001b[38;5;241;43m=\u001b[39;49m\u001b[43m \u001b[49m\u001b[43mconnected\u001b[49m\u001b[38;5;241;43m.\u001b[39;49m\u001b[43mconn\u001b[49m\n\u001b[0;32m      5\u001b[0m \u001b[43m    \u001b[49m\u001b[43mcursor\u001b[49m\u001b[38;5;241;43m=\u001b[39;49m\u001b[43mdb_conn\u001b[49m\u001b[38;5;241;43m.\u001b[39;49m\u001b[43mcursor\u001b[49m\u001b[43m(\u001b[49m\u001b[43m)\u001b[49m\n",
      "\u001b[1;31mTypeError\u001b[0m: 'DBConnector' object does not support the context manager protocol"
     ]
    }
   ],
   "source": [
    "db_object = DBConnector(host, database, user, password, port)\n",
    "\n",
    "with db_object as connected:\n",
    "    db_conn = connected.conn\n",
    "    cursor=db_conn.cursor()\n",
    "\n",
    "    cursor.execute(\"SELECT * FROM lecture LIMIT 5\")\n",
    "    print(cursor.fetchall())"
   ]
  },
  {
   "cell_type": "code",
   "execution_count": 19,
   "metadata": {},
   "outputs": [],
   "source": [
    "class ContextManager:\n",
    "    def __init__(self, age):\n",
    "        print('Start! Class')\n",
    "        self.age = age\n",
    "\n",
    "    def __enter__(self):\n",
    "        print('Enter')\n",
    "\n",
    "    def __exit__(self, exc_type, exc_value, traceback):\n",
    "        print('Exit')\n",
    "\n",
    "    def show(self):\n",
    "        print(self.age)\n",
    "        return self.__dict__"
   ]
  },
  {
   "cell_type": "code",
   "execution_count": 20,
   "metadata": {},
   "outputs": [
    {
     "name": "stdout",
     "output_type": "stream",
     "text": [
      "Start! Class\n",
      "Enter\n",
      "10\n",
      "{'age': 10}\n",
      "Exit\n"
     ]
    }
   ],
   "source": [
    "context = ContextManager(age=10)\n",
    "\n",
    "with context:\n",
    "    print(context.show())"
   ]
  },
  {
   "cell_type": "code",
   "execution_count": 31,
   "metadata": {},
   "outputs": [],
   "source": [
    "class DBConnector:\n",
    "    def __init__(self, host, database, user, password, port):\n",
    "        print('start class')\n",
    "        self.host = host\n",
    "        self.database = database\n",
    "        self.user = user\n",
    "        self.password = password\n",
    "        self.port = port\n",
    "        self.connect = self.postgres_connect()\n",
    "\n",
    "    def __enter__(self):\n",
    "        print('Enter')\n",
    "        return self\n",
    "    \n",
    "    def __exit__(self,exc_type, exc_value, traceback):\n",
    "        self.conn.close()\n",
    "        print('exit')\n",
    "    \n",
    "    def postgres_connect(self):\n",
    "        self.conn = psycopg2.connect(\n",
    "            host = self.host,\n",
    "            dbname = self.database,\n",
    "            user = self.user,\n",
    "            password = self.password,\n",
    "            port = self.port\n",
    "        )\n",
    "        return self"
   ]
  },
  {
   "cell_type": "code",
   "execution_count": 32,
   "metadata": {},
   "outputs": [
    {
     "name": "stdout",
     "output_type": "stream",
     "text": [
      "start class\n"
     ]
    }
   ],
   "source": [
    "db_object = DBConnector(host, database, user, password, port)\n",
    "db_conn = db_object.postgres_connect().conn\n",
    "\n",
    "cursor = db_conn.cursor()"
   ]
  },
  {
   "cell_type": "code",
   "execution_count": 34,
   "metadata": {},
   "outputs": [
    {
     "name": "stdout",
     "output_type": "stream",
     "text": [
      "start class\n",
      "Enter\n",
      "[(0, 1, 'Mary', 1880, 'F', 7065), (1, 2, 'Anna', 1880, 'F', 2604), (2, 3, 'Emma', 1880, 'F', 2003), (3, 4, 'Elizabeth', 1880, 'F', 1939), (4, 5, 'Minnie', 1880, 'F', 1746), (5, 6, 'Margaret', 1880, 'F', 1578), (6, 7, 'Ida', 1880, 'F', 1472), (7, 8, 'Alice', 1880, 'F', 1414), (8, 9, 'Bertha', 1880, 'F', 1320), (9, 10, 'Sarah', 1880, 'F', 1288)]\n",
      "exit\n"
     ]
    }
   ],
   "source": [
    "db_object = DBConnector(host, database, user, password, port)\n",
    "\n",
    "with db_object as connected:\n",
    "    db_conn = connected.conn\n",
    "    cursor = db_conn.cursor()\n",
    "\n",
    "    cursor.execute('select * from lecture limit 10')\n",
    "    print(cursor.fetchall())"
   ]
  },
  {
   "cell_type": "code",
   "execution_count": 52,
   "metadata": {},
   "outputs": [],
   "source": [
    "class DBConnector:\n",
    "    def __init__(self, host, database, user, password, port):\n",
    "        self.conn_params = dict(\n",
    "            host = host,\n",
    "            dbname = database,\n",
    "            user = user,\n",
    "            password = password,\n",
    "            port = port\n",
    "        )\n",
    "        self.host = host\n",
    "        self.database = database\n",
    "        self.user = user\n",
    "        self.password = password\n",
    "        self.port = port\n",
    "\n",
    "    def __enter__(self):\n",
    "        print(\"enter\")\n",
    "        return self\n",
    "    \n",
    "    def __exit__(self, exc_type, exc_value, traceback):\n",
    "        self.conn.close()\n",
    "        print(\"Exit\")\n",
    "\n",
    "    def postgres_connect(self):\n",
    "        print(\"<<< postgres_connect >>>\")\n",
    "        self.conn = psycopg2.connect(\n",
    "            host = self.host,\n",
    "            dbname = self.database,\n",
    "            user = self.user,\n",
    "            password = self.password,\n",
    "            port = self.port,\n",
    "            options='-c client_encoding=UTF8'\n",
    "        )\n",
    "        return self\n",
    "    \n"
   ]
  },
  {
   "cell_type": "markdown",
   "metadata": {},
   "source": [
    "#### Asterisk(*)"
   ]
  },
  {
   "cell_type": "code",
   "execution_count": 38,
   "metadata": {},
   "outputs": [
    {
     "name": "stdout",
     "output_type": "stream",
     "text": [
      "one =  1\n",
      "two =  2\n"
     ]
    }
   ],
   "source": [
    "def func(one, two):\n",
    "    print('one = ', one)\n",
    "    print('two = ', two)\n",
    "    \n",
    "func(1,2)"
   ]
  },
  {
   "cell_type": "code",
   "execution_count": 44,
   "metadata": {},
   "outputs": [
    {
     "name": "stdout",
     "output_type": "stream",
     "text": [
      "args =  (1, 2, 3, 4, 5)\n",
      "15\n"
     ]
    }
   ],
   "source": [
    "# *args = 이름이 정해지지 않은 변수가 여러개 있을 때 사용 가능 (튜플로 감싸져 나옴)\n",
    "\n",
    "def func(*args):\n",
    "    print('args = ', args)\n",
    "    print(sum(args))\n",
    "\n",
    "    \n",
    "func(1,2,3,4,5)"
   ]
  },
  {
   "cell_type": "code",
   "execution_count": 45,
   "metadata": {},
   "outputs": [
    {
     "name": "stdout",
     "output_type": "stream",
     "text": [
      "**kwargs =  {'one': 1, 'two': 4}\n"
     ]
    }
   ],
   "source": [
    "# **kwargs = 더블 애스터리스크 : 이름이 정해진 변수가 여러개 있을 때 사용\n",
    "\n",
    "def func(**kwargs):\n",
    "    print(\"**kwargs = \", kwargs)\n",
    "    \n",
    "func(one=1, two=4)"
   ]
  },
  {
   "cell_type": "code",
   "execution_count": 53,
   "metadata": {},
   "outputs": [],
   "source": [
    "test = DBConnector(1,2,3,4,5)"
   ]
  },
  {
   "cell_type": "code",
   "execution_count": 54,
   "metadata": {},
   "outputs": [
    {
     "data": {
      "text/plain": [
       "{'host': 1, 'dbname': 2, 'user': 3, 'password': 4, 'port': 5}"
      ]
     },
     "execution_count": 54,
     "metadata": {},
     "output_type": "execute_result"
    }
   ],
   "source": [
    "# list\n",
    "\n",
    "args = [1,2,3,4,5]\n",
    "\n",
    "list_params = DBConnector(*args)\n",
    "\n",
    "list_params.conn_params"
   ]
  },
  {
   "cell_type": "code",
   "execution_count": 55,
   "metadata": {},
   "outputs": [
    {
     "data": {
      "text/plain": [
       "{'host': 1, 'dbname': 2, 'user': 3, 'password': 4, 'port': 5}"
      ]
     },
     "execution_count": 55,
     "metadata": {},
     "output_type": "execute_result"
    }
   ],
   "source": [
    "# dict\n",
    "\n",
    "kwargs = dict(\n",
    "    host = 1,\n",
    "    database = 2,\n",
    "    user = 3,\n",
    "    password = 4,\n",
    "    port = 5\n",
    ")\n",
    "\n",
    "dict_params = DBConnector(**kwargs)\n",
    "\n",
    "dict_params.conn_params"
   ]
  },
  {
   "cell_type": "code",
   "execution_count": 56,
   "metadata": {},
   "outputs": [],
   "source": [
    "class DBConnector:\n",
    "    def __init__(self, host, database, user, password, port):\n",
    "        print('start DBConnector!')\n",
    "        self.conn_params = dict(\n",
    "            host = host,\n",
    "            dbname = database,\n",
    "            user = user,\n",
    "            password = password,\n",
    "            port = port\n",
    "        )\n",
    "        self.connect = self.postgres_connect()\n",
    "\n",
    "    def __enter__(self):\n",
    "        print('enter')\n",
    "        return self\n",
    "    \n",
    "    def __exit__(self, exc_type, exc_value, traceback):\n",
    "        self.conn.close()\n",
    "        print('exit')\n",
    "\n",
    "    def postgres_connect(self):\n",
    "        self.conn = psycopg2.connect(\n",
    "            **self.conn_params\n",
    "        )\n",
    "        return self"
   ]
  },
  {
   "cell_type": "code",
   "execution_count": 59,
   "metadata": {},
   "outputs": [
    {
     "name": "stdout",
     "output_type": "stream",
     "text": [
      "start DBConnector!\n",
      "enter\n",
      "[(0, 1, 'Mary', 1880, 'F', 7065), (1, 2, 'Anna', 1880, 'F', 2604), (2, 3, 'Emma', 1880, 'F', 2003), (3, 4, 'Elizabeth', 1880, 'F', 1939), (4, 5, 'Minnie', 1880, 'F', 1746)]\n",
      "exit\n"
     ]
    }
   ],
   "source": [
    "db_object = DBConnector(host, database, user, password, port)\n",
    "\n",
    "with db_object as connected:\n",
    "    db_conn = connected.conn\n",
    "    cursor = db_conn.cursor()\n",
    "\n",
    "    cursor.execute('select * from lecture limit 5')\n",
    "    print(cursor.fetchall())"
   ]
  },
  {
   "cell_type": "markdown",
   "metadata": {},
   "source": [
    "#### .env 적용한 connection"
   ]
  },
  {
   "cell_type": "code",
   "execution_count": 62,
   "metadata": {},
   "outputs": [],
   "source": [
    "import dotenv, psycopg2\n",
    "\n",
    "env_path = dotenv.find_dotenv()\n",
    "env_path\n",
    "\n",
    "dotenv.load_dotenv(env_path)\n",
    "\n",
    "import os\n",
    "\n",
    "engine = os.getenv('POSTGRES_ENGINE')\n",
    "user = os.getenv('POSTGRES_USER')\n",
    "password = os.getenv('POSTGRES_PASSWORD')\n",
    "host = os.getenv('POSTGRES_HOST')\n",
    "port = os.getenv(\"POSTGRES_PORT\")\n",
    "database = os.getenv(\"POSTGRES_DB\")\n",
    "\n"
   ]
  },
  {
   "cell_type": "code",
   "execution_count": 63,
   "metadata": {},
   "outputs": [],
   "source": [
    "db_settings = {\n",
    "    \"postgres\" : {\n",
    "        'host' : os.getenv('POSTGRES_HOST'),\n",
    "        'database' :  os.getenv(\"POSTGRES_DB\"),\n",
    "        'user' : os.getenv('POSTGRES_USER'),\n",
    "        'password' : os.getenv('POSTGRES_PASSWORD'),\n",
    "        'port' : os.getenv(\"POSTGRES_PORT\")\n",
    "    }\n",
    "}"
   ]
  },
  {
   "cell_type": "code",
   "execution_count": null,
   "metadata": {},
   "outputs": [],
   "source": [
    "db_settings['postgres']"
   ]
  },
  {
   "cell_type": "code",
   "execution_count": 69,
   "metadata": {},
   "outputs": [
    {
     "name": "stdout",
     "output_type": "stream",
     "text": [
      "start DBConnector!\n",
      "enter\n",
      "[(0, 1, 'Mary', 1880, 'F', 7065), (1, 2, 'Anna', 1880, 'F', 2604), (2, 3, 'Emma', 1880, 'F', 2003), (3, 4, 'Elizabeth', 1880, 'F', 1939), (4, 5, 'Minnie', 1880, 'F', 1746)]\n",
      "exit\n"
     ]
    }
   ],
   "source": [
    "db_object = DBConnector(**db_settings['postgres'])\n",
    "\n",
    "with db_object as connected:\n",
    "    db_conn = connected.conn\n",
    "    cursor = db_conn.cursor()\n",
    "\n",
    "    cursor.execute('select * from lecture limit 5')\n",
    "    print(cursor.fetchall())"
   ]
  },
  {
   "cell_type": "code",
   "execution_count": 70,
   "metadata": {},
   "outputs": [
    {
     "name": "stdout",
     "output_type": "stream",
     "text": [
      "start DBConnector!\n",
      "enter\n",
      "[('pg_statistic',), ('pg_type',), ('pg_foreign_table',), ('pg_authid',), ('pg_shadow',), ('pg_roles',), ('pg_statistic_ext_data',), ('pg_hba_file_rules',), ('pg_settings',), ('pg_file_settings',), ('pg_backend_memory_contexts',), ('pg_ident_file_mappings',), ('pg_config',), ('pg_shmem_allocations',), ('pg_tables',), ('lecture',), ('pg_user_mapping',), ('pg_statio_all_sequences',), ('pg_replication_origin_status',), ('pg_subscription',), ('pg_attribute',), ('pg_proc',), ('pg_class',), ('pg_attrdef',), ('pg_statio_sys_sequences',), ('pg_statio_user_sequences',), ('pg_constraint',), ('pg_inherits',), ('pg_index',), ('pg_operator',), ('pg_opfamily',), ('pg_opclass',), ('pg_am',), ('pg_amop',), ('pg_amproc',), ('pg_language',), ('pg_largeobject_metadata',), ('pg_aggregate',), ('pg_statistic_ext',), ('pg_rewrite',), ('pg_trigger',), ('pg_event_trigger',), ('pg_description',), ('pg_cast',), ('pg_enum',), ('pg_namespace',), ('pg_conversion',), ('pg_depend',), ('pg_database',), ('pg_db_role_setting',), ('pg_tablespace',), ('pg_auth_members',), ('pg_shdepend',), ('pg_shdescription',), ('pg_ts_config',), ('pg_ts_config_map',), ('pg_ts_dict',), ('pg_ts_parser',), ('pg_ts_template',), ('pg_extension',), ('pg_foreign_data_wrapper',), ('pg_foreign_server',), ('pg_policy',), ('pg_replication_origin',), ('pg_default_acl',), ('pg_init_privs',), ('pg_seclabel',), ('pg_shseclabel',), ('pg_collation',), ('pg_parameter_acl',), ('pg_partitioned_table',), ('pg_range',), ('pg_transform',), ('pg_sequence',), ('pg_publication',), ('pg_publication_namespace',), ('pg_publication_rel',), ('pg_subscription_rel',), ('pg_group',), ('pg_user',), ('pg_policies',), ('pg_rules',), ('pg_views',), ('pg_matviews',), ('pg_indexes',), ('pg_sequences',), ('pg_stats',), ('pg_stats_ext',), ('pg_stats_ext_exprs',), ('pg_publication_tables',), ('pg_locks',), ('pg_cursors',), ('pg_available_extensions',), ('pg_available_extension_versions',), ('pg_prepared_xacts',), ('pg_prepared_statements',), ('pg_seclabels',), ('pg_timezone_abbrevs',), ('pg_timezone_names',), ('pg_stat_all_tables',), ('pg_stat_xact_all_tables',), ('pg_stat_xact_user_tables',), ('pg_stat_sys_tables',), ('pg_stat_xact_sys_tables',), ('pg_stat_user_tables',), ('pg_statio_all_tables',), ('pg_statio_sys_tables',), ('pg_statio_user_tables',), ('pg_stat_all_indexes',), ('pg_stat_sys_indexes',), ('pg_stat_user_indexes',), ('pg_statio_all_indexes',), ('pg_statio_sys_indexes',), ('pg_statio_user_indexes',), ('pg_stat_activity',), ('pg_stat_replication',), ('pg_stat_slru',), ('pg_stat_wal_receiver',), ('pg_stat_recovery_prefetch',), ('pg_stat_subscription',), ('pg_stat_ssl',), ('pg_stat_gssapi',), ('pg_replication_slots',), ('pg_stat_replication_slots',), ('pg_stat_database',), ('pg_stat_database_conflicts',), ('pg_stat_user_functions',), ('pg_stat_xact_user_functions',), ('pg_stat_archiver',), ('pg_stat_bgwriter',), ('pg_stat_checkpointer',), ('pg_stat_io',), ('pg_stat_wal',), ('pg_stat_progress_analyze',), ('pg_stat_progress_vacuum',), ('pg_stat_progress_cluster',), ('pg_stat_progress_create_index',), ('pg_stat_progress_basebackup',), ('pg_stat_progress_copy',), ('pg_user_mappings',), ('pg_stat_subscription_stats',), ('pg_wait_events',), ('pg_largeobject',), ('column_column_usage',), ('information_schema_catalog_name',), ('check_constraints',), ('applicable_roles',), ('administrable_role_authorizations',), ('attributes',), ('collations',), ('character_sets',), ('check_constraint_routine_usage',), ('column_privileges',), ('collation_character_set_applicability',), ('column_domain_usage',), ('column_udt_usage',), ('columns',), ('constraint_column_usage',), ('constraint_table_usage',), ('domain_constraints',), ('routine_table_usage',), ('domain_udt_usage',), ('domains',), ('enabled_roles',), ('routines',), ('key_column_usage',), ('parameters',), ('referential_constraints',), ('schemata',), ('role_column_grants',), ('routine_column_usage',), ('sql_parts',), ('routine_privileges',), ('sequences',), ('role_routine_grants',), ('routine_routine_usage',), ('routine_sequence_usage',), ('sql_features',), ('sql_implementation_info',), ('role_table_grants',), ('sql_sizing',), ('table_privileges',), ('table_constraints',), ('transforms',), ('tables',), ('triggered_update_columns',), ('triggers',), ('first',), ('udt_privileges',), ('_pg_foreign_data_wrappers',), ('role_udt_grants',), ('usage_privileges',), ('foreign_tables',), ('role_usage_grants',), ('foreign_data_wrapper_options',), ('user_defined_types',), ('view_column_usage',), ('view_routine_usage',), ('foreign_data_wrappers',), ('view_table_usage',), ('views',), ('_pg_foreign_servers',), ('data_type_privileges',), ('element_types',), ('_pg_foreign_table_columns',), ('_pg_user_mappings',), ('column_options',), ('foreign_server_options',), ('foreign_servers',), ('_pg_foreign_tables',), ('foreign_table_options',), ('user_mapping_options',), ('user_mappings',)]\n",
      "exit\n"
     ]
    }
   ],
   "source": [
    "db_object = DBConnector(**db_settings['postgres'])\n",
    "\n",
    "with db_object as connected:\n",
    "    db_conn = connected.conn\n",
    "    cursor = db_conn.cursor()\n",
    "\n",
    "    cursor.execute('select table_name from information_schema.tables')\n",
    "    print(cursor.fetchall())"
   ]
  }
 ],
 "metadata": {
  "kernelspec": {
   "display_name": "vvenv",
   "language": "python",
   "name": "python3"
  },
  "language_info": {
   "codemirror_mode": {
    "name": "ipython",
    "version": 3
   },
   "file_extension": ".py",
   "mimetype": "text/x-python",
   "name": "python",
   "nbconvert_exporter": "python",
   "pygments_lexer": "ipython3",
   "version": "3.12.4"
  }
 },
 "nbformat": 4,
 "nbformat_minor": 2
}
