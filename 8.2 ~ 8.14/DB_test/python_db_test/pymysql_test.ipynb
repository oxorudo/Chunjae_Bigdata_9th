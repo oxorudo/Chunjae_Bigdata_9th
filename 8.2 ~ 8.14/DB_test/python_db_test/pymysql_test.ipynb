{
 "cells": [
  {
   "cell_type": "code",
   "execution_count": 1,
   "metadata": {},
   "outputs": [],
   "source": [
    "import pymysql\n",
    "\n",
    "# DB 연결\n",
    "def db_connect():\n",
    "    conn = pymysql.connect(\n",
    "        host='localhost',\n",
    "        user='testuser',\n",
    "        password='',\n",
    "        db='db_test',\n",
    "        charset='utf8mb4',\n",
    "        # 사용시 데이터 딕셔너리로 데이터가 반환됨.\n",
    "        cursorclass=pymysql.cursors.DictCursor\n",
    "    )\n",
    "    return conn"
   ]
  },
  {
   "cell_type": "code",
   "execution_count": 2,
   "metadata": {},
   "outputs": [
    {
     "name": "stdout",
     "output_type": "stream",
     "text": [
      "[{'ID': 1, 'LOGIN_ID': '곽태경', 'LOGIN_PASSWORD': '수원시', 'NAME': None, 'ADDRESS': None, 'PHONE': '01011112222', 'ERROR_COUNT': 1011111111}, {'ID': 2, 'LOGIN_ID': 'user1', 'LOGIN_PASSWORD': 'user1', 'NAME': 'aaa', 'ADDRESS': '서울시', 'PHONE': '010-333-3333', 'ERROR_COUNT': 0}, {'ID': 3, 'LOGIN_ID': 'user2', 'LOGIN_PASSWORD': 'user2', 'NAME': 'bbb', 'ADDRESS': None, 'PHONE': '010-1111-111', 'ERROR_COUNT': 0}, {'ID': 4, 'LOGIN_ID': 'user3', 'LOGIN_PASSWORD': 'user3', 'NAME': 'ccc', 'ADDRESS': '경기도 안양시', 'PHONE': '010-222-2222', 'ERROR_COUNT': 0}, {'ID': 5, 'LOGIN_ID': 'user1', 'LOGIN_PASSWORD': 'user1', 'NAME': 'aaa', 'ADDRESS': '서울시', 'PHONE': '010-333-3333', 'ERROR_COUNT': 0}, {'ID': 6, 'LOGIN_ID': 'user2', 'LOGIN_PASSWORD': 'user2', 'NAME': 'bbb', 'ADDRESS': None, 'PHONE': '010-1111-111', 'ERROR_COUNT': 0}, {'ID': 7, 'LOGIN_ID': 'user3', 'LOGIN_PASSWORD': 'user3', 'NAME': 'ccc', 'ADDRESS': '경기도 안양시', 'PHONE': '010-222-2222', 'ERROR_COUNT': 0}, {'ID': 8, 'LOGIN_ID': 'user1', 'LOGIN_PASSWORD': 'user1', 'NAME': 'aaa', 'ADDRESS': '서울시', 'PHONE': '010-333-3333', 'ERROR_COUNT': 0}, {'ID': 9, 'LOGIN_ID': 'user2', 'LOGIN_PASSWORD': 'user2', 'NAME': 'bbb', 'ADDRESS': None, 'PHONE': '010-1111-111', 'ERROR_COUNT': 0}, {'ID': 10, 'LOGIN_ID': 'user3', 'LOGIN_PASSWORD': 'user3', 'NAME': 'ccc', 'ADDRESS': '경기도 안양시', 'PHONE': '010-222-2222', 'ERROR_COUNT': 0}, {'ID': 11, 'LOGIN_ID': 'user1', 'LOGIN_PASSWORD': 'user1', 'NAME': 'aaa', 'ADDRESS': '서울시', 'PHONE': '010-333-3333', 'ERROR_COUNT': 0}, {'ID': 12, 'LOGIN_ID': 'user2', 'LOGIN_PASSWORD': 'user2', 'NAME': 'bbb', 'ADDRESS': None, 'PHONE': '010-1111-111', 'ERROR_COUNT': 0}, {'ID': 13, 'LOGIN_ID': 'user3', 'LOGIN_PASSWORD': 'user3', 'NAME': 'ccc', 'ADDRESS': '경기도 안양시', 'PHONE': '010-222-2222', 'ERROR_COUNT': 0}, {'ID': 14, 'LOGIN_ID': 'user1', 'LOGIN_PASSWORD': 'user1', 'NAME': 'aaa', 'ADDRESS': '서울시', 'PHONE': '010-333-3333', 'ERROR_COUNT': 0}, {'ID': 15, 'LOGIN_ID': 'user2', 'LOGIN_PASSWORD': 'user2', 'NAME': 'bbb', 'ADDRESS': None, 'PHONE': '010-1111-111', 'ERROR_COUNT': 0}, {'ID': 16, 'LOGIN_ID': 'user3', 'LOGIN_PASSWORD': 'user3', 'NAME': 'ccc', 'ADDRESS': '경기도 안양시', 'PHONE': '010-222-2222', 'ERROR_COUNT': 0}, {'ID': 17, 'LOGIN_ID': 'user4', 'LOGIN_PASSWORD': 'user4', 'NAME': 'ddd', 'ADDRESS': None, 'PHONE': None, 'ERROR_COUNT': 0}, {'ID': 18, 'LOGIN_ID': 'user5', 'LOGIN_PASSWORD': 'user5', 'NAME': 'eee', 'ADDRESS': None, 'PHONE': None, 'ERROR_COUNT': 0}, {'ID': 19, 'LOGIN_ID': 'user6', 'LOGIN_PASSWORD': 'user6', 'NAME': 'Fff', 'ADDRESS': None, 'PHONE': None, 'ERROR_COUNT': 0}]\n"
     ]
    }
   ],
   "source": [
    "# 유저 목록을 가져오는 프로그램을 작성해봅시다.\n",
    "SQL1 = '''SELECT \n",
    "            ID, \n",
    "            LOGIN_ID,\n",
    "            LOGIN_PASSWORD,\n",
    "            NAME,\n",
    "            ADDRESS,\n",
    "            PHONE,\n",
    "            ERROR_COUNT\n",
    "        FROM TB_USER\n",
    "'''\n",
    "\n",
    "with db_connect() as conn:\n",
    "    with conn.cursor() as cursor:\n",
    "        cursor.execute(SQL1)\n",
    "        results = cursor.fetchall()\n",
    "        print(results)"
   ]
  },
  {
   "cell_type": "code",
   "execution_count": 3,
   "metadata": {},
   "outputs": [
    {
     "name": "stdout",
     "output_type": "stream",
     "text": [
      "[{'id': 1, 'title': 'a', 'content': 'aa', 'user_id': 1, 'create_date': datetime.datetime(2024, 8, 7, 11, 14, 21), 'update_date': datetime.datetime(2024, 8, 7, 11, 14, 21)}, {'id': 2, 'title': 'b', 'content': 'b', 'user_id': 2, 'create_date': datetime.datetime(2024, 8, 7, 11, 14, 47), 'update_date': datetime.datetime(2024, 8, 7, 11, 14, 47)}, {'id': 3, 'title': 'c', 'content': 'c', 'user_id': 3, 'create_date': datetime.datetime(2024, 8, 7, 11, 14, 58), 'update_date': datetime.datetime(2024, 8, 7, 11, 14, 58)}, {'id': 4, 'title': 'd', 'content': 'd', 'user_id': 4, 'create_date': datetime.datetime(2024, 8, 7, 11, 15, 7), 'update_date': datetime.datetime(2024, 8, 7, 11, 15, 7)}, {'id': 5, 'title': 'e', 'content': 'ee', 'user_id': 5, 'create_date': datetime.datetime(2024, 8, 7, 11, 15, 17), 'update_date': datetime.datetime(2024, 8, 7, 11, 15, 17)}, {'id': 6, 'title': 'f', 'content': 'ff', 'user_id': 6, 'create_date': datetime.datetime(2024, 8, 7, 11, 15, 26), 'update_date': datetime.datetime(2024, 8, 7, 11, 15, 26)}, {'id': 36, 'title': 'PY_TESTING_TITLE', 'content': 'PY_TESTING_CONTENT', 'user_id': 6, 'create_date': datetime.datetime(2024, 8, 7, 17, 23, 41), 'update_date': datetime.datetime(2024, 8, 7, 17, 23, 41)}]\n"
     ]
    }
   ],
   "source": [
    "# 게시판 데이터를 출력해봅시다.\n",
    "SQL2 = '''SELECT \n",
    "            *\n",
    "        FROM TB_BOARD\n",
    "'''\n",
    "\n",
    "with db_connect() as conn:\n",
    "    with conn.cursor() as cursor:\n",
    "        cursor.execute(SQL2)\n",
    "        results = cursor.fetchall()\n",
    "        print(results)"
   ]
  },
  {
   "cell_type": "code",
   "execution_count": 4,
   "metadata": {},
   "outputs": [
    {
     "name": "stdout",
     "output_type": "stream",
     "text": [
      "[{'id': 3, 'name': 'bbb', 'title': 'c', 'content': 'c'}]\n"
     ]
    }
   ],
   "source": [
    "# 유저의 식별자가 3인 데이터의 아이디, 이름, 작성한 게시판명, 내용을 출력해봅시다.\n",
    "SQL3 = '''SELECT \n",
    "            USER.id,\n",
    "            name,\n",
    "            title,\n",
    "            content\n",
    "        FROM TB_BOARD board\n",
    "        INNER JOIN TB_USER AS user\n",
    "        ON USER.ID = board.user_id\n",
    "        WHERE USER.ID = 3\n",
    "'''\n",
    "\n",
    "with db_connect() as conn:\n",
    "    with conn.cursor() as cursor:\n",
    "        cursor.execute(SQL3)\n",
    "        results = cursor.fetchall()\n",
    "        print(results)"
   ]
  },
  {
   "cell_type": "code",
   "execution_count": 5,
   "metadata": {},
   "outputs": [],
   "source": [
    "# 2번 유저로 실제로 게시판에 글을 등록해봅시다.\n",
    "SQL4 = '''INSERT INTO \n",
    "            TB_BOARD(title, content, user_id)\n",
    "        values\n",
    "            (%s, %s, %s) \n",
    "'''\n",
    "\n",
    "with db_connect() as conn:\n",
    "    with conn.cursor() as cursor:\n",
    "        BOARD = ('PY_TESTING_TITLE','PY_TESTING_CONTENT', 6)\n",
    "        cursor.execute(SQL4, BOARD)\n",
    "        conn.commit()\n"
   ]
  },
  {
   "cell_type": "code",
   "execution_count": 6,
   "metadata": {},
   "outputs": [],
   "source": [
    "# 임의의 게시판 하나를 수정해봅시다.\n",
    "SQL5 = '''UPDATE TB_BOARD SET\n",
    "            CONTENT = 'ff',\n",
    "            TITLE = 'f'\n",
    "            WHERE ID = 6;\n",
    "'''\n",
    "\n",
    "with db_connect() as conn:\n",
    "    with conn.cursor() as cursor:\n",
    "        cursor.execute(SQL5)\n",
    "        conn.commit()"
   ]
  },
  {
   "cell_type": "code",
   "execution_count": 7,
   "metadata": {},
   "outputs": [],
   "source": [
    "# 임의의 게시판 하나를 삭제해봅시다.\n",
    "SQL6 = '''DELETE FROM TB_BOARD\n",
    "            WHERE ID = 35;\n",
    "'''\n",
    "\n",
    "with db_connect() as conn:\n",
    "    with conn.cursor() as cursor:\n",
    "        cursor.execute(SQL6)\n",
    "        conn.commit()"
   ]
  }
 ],
 "metadata": {
  "kernelspec": {
   "display_name": "base",
   "language": "python",
   "name": "python3"
  },
  "language_info": {
   "codemirror_mode": {
    "name": "ipython",
    "version": 3
   },
   "file_extension": ".py",
   "mimetype": "text/x-python",
   "name": "python",
   "nbconvert_exporter": "python",
   "pygments_lexer": "ipython3",
   "version": "3.12.4"
  }
 },
 "nbformat": 4,
 "nbformat_minor": 2
}
