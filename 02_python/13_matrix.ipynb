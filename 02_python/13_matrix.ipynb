{
 "cells": [
  {
   "cell_type": "code",
   "execution_count": 5,
   "metadata": {},
   "outputs": [
    {
     "name": "stdout",
     "output_type": "stream",
     "text": [
      "y = 0\n",
      "x = 0\n",
      "x = 1\n",
      "x = 2\n",
      "y = 1\n",
      "x = 0\n",
      "x = 1\n",
      "x = 2\n"
     ]
    }
   ],
   "source": [
    "n = 2  # range 범위\n",
    "m = 3  # range 범위\n",
    "\n",
    "for y in range(n):\n",
    "    print(f\"y = {y}\")\n",
    "    for x in range(m):\n",
    "        print(f\"x = {x}\")"
   ]
  },
  {
   "cell_type": "code",
   "execution_count": 8,
   "metadata": {},
   "outputs": [
    {
     "name": "stdout",
     "output_type": "stream",
     "text": [
      "y = 2, x = 1\n",
      "y = 2, x = 2\n",
      "y = 2, x = 3\n",
      "y = 2, x = 4\n",
      "y = 3, x = 1\n",
      "y = 3, x = 2\n",
      "y = 3, x = 3\n",
      "y = 3, x = 4\n",
      "y = 4, x = 1\n",
      "y = 4, x = 2\n",
      "y = 4, x = 3\n",
      "y = 4, x = 4\n",
      "y = 5, x = 1\n",
      "y = 5, x = 2\n",
      "y = 5, x = 3\n",
      "y = 5, x = 4\n"
     ]
    }
   ],
   "source": [
    "# y : 2 -> 5\n",
    "# x : 1 -> 4\n",
    "\n",
    "for y in range(2, 6):\n",
    "    for x in range(1, 5):\n",
    "        print(f\"y = {y}, x = {x}\")"
   ]
  },
  {
   "cell_type": "code",
   "execution_count": 11,
   "metadata": {},
   "outputs": [
    {
     "name": "stdout",
     "output_type": "stream",
     "text": [
      "[[1, 2, 3], [4, 5, 6], [7, 8, 9]]\n"
     ]
    }
   ],
   "source": [
    "# 이차원 리스트의 생성\n",
    "matrix = [\n",
    "    [1, 2, 3],\n",
    "    [4, 5, 6],\n",
    "    [7, 8, 9],\n",
    "]\n",
    "\n",
    "print(matrix)"
   ]
  },
  {
   "cell_type": "code",
   "execution_count": 15,
   "metadata": {},
   "outputs": [
    {
     "name": "stdout",
     "output_type": "stream",
     "text": [
      "[[1, 2, 3], [4, 5, 6], [7, 8, 9]]\n"
     ]
    }
   ],
   "source": [
    "# 이차원 리스트의 값 추가\n",
    "matrix = []\n",
    "\n",
    "# append() 메서드 활용 => 리스트를 append한다.\n",
    "matrix.append([1, 2, 3])\n",
    "matrix.append([4, 5, 6])\n",
    "matrix.append([7, 8, 9])\n",
    "\n",
    "print(matrix)"
   ]
  },
  {
   "cell_type": "code",
   "execution_count": 19,
   "metadata": {},
   "outputs": [
    {
     "name": "stdout",
     "output_type": "stream",
     "text": [
      "[[1], [2], [3], [4], 5]\n"
     ]
    }
   ],
   "source": [
    "matrix = [[1], [2], [3], [4]]\n",
    "\n",
    "matrix.append(5)  # 이차원 리스트가 아니게 됨\n",
    "\n",
    "print(matrix)"
   ]
  },
  {
   "cell_type": "code",
   "execution_count": 24,
   "metadata": {},
   "outputs": [
    {
     "name": "stdout",
     "output_type": "stream",
     "text": [
      "[4, 5, 6]\n",
      "5\n",
      "1\n",
      "2\n",
      "3\n",
      "4\n",
      "5\n",
      "6\n",
      "7\n",
      "8\n",
      "9\n"
     ]
    }
   ],
   "source": [
    "# 이차원 리스트의 인덱싱\n",
    "# 일차원 리스트 인덱싱 : 리스트이름[인덱스]\n",
    "# 이차원 리스트 인덱싱 : 리스트이름[행,세로 ,y][열,가로, x]\n",
    "\n",
    "matrix = [\n",
    "    [1, 2, 3],\n",
    "    [4, 5, 6],\n",
    "    [7, 8, 9],\n",
    "]\n",
    "\n",
    "print(matrix[1])\n",
    "print(matrix[1][1])\n",
    "\n",
    "\n",
    "for i in range(3):\n",
    "    for j in range(3):\n",
    "        print(matrix[i][j])"
   ]
  },
  {
   "cell_type": "code",
   "execution_count": 32,
   "metadata": {},
   "outputs": [
    {
     "name": "stdout",
     "output_type": "stream",
     "text": [
      "[[1, 2, 3], [4, 0, 6], [7, 8, 9, 10]]\n"
     ]
    }
   ],
   "source": [
    "# 값의 수정과 추가\n",
    "\n",
    "matrix = [\n",
    "    [1, 2, 3],\n",
    "    [4, 5, 6],\n",
    "    [7, 8, 9],\n",
    "]\n",
    "\n",
    "# 숫자 5 => 숫자 0\n",
    "matrix[1][1] = 0\n",
    "# 세 번째 리스트에 값을 10 추가\n",
    "matrix[2].append(10)\n",
    "\n",
    "\"\"\"\n",
    "잘못된 코드\n",
    "matrix[2][5] = 10\n",
    "matrix[2][0].append(10)\n",
    "\"\"\"\n",
    "\n",
    "print(matrix)"
   ]
  },
  {
   "cell_type": "code",
   "execution_count": 55,
   "metadata": {},
   "outputs": [
    {
     "name": "stdout",
     "output_type": "stream",
     "text": [
      "4\n",
      "[1, 2, 3, 4] 4\n",
      "[4, 5, 6] 3\n",
      "[7, 8] 2\n",
      "[7, 8, 9] 3\n",
      "! 3\n",
      "1\n",
      "2\n",
      "3\n",
      "4\n",
      "4\n",
      "5\n",
      "6\n",
      "7\n",
      "8\n",
      "7\n",
      "8\n",
      "9\n"
     ]
    }
   ],
   "source": [
    "# 이중반복문과 이차원 리스트\n",
    "\n",
    "matrix = [\n",
    "    [1, 2, 3, 4],\n",
    "    [4, 5, 6],\n",
    "    [7, 8],\n",
    "    [7, 8, 9],\n",
    "]\n",
    "\n",
    "# 리스트의 길이\n",
    "matrix_length = len(matrix)  # 리스트 내부 일차원 리스트들의 개수\n",
    "print(matrix_length)\n",
    "\n",
    "# 이차원 리스트의 인덱스(행,열)\n",
    "for row in range(matrix_length):\n",
    "    list_length = len(matrix[row])\n",
    "    print(\n",
    "        matrix[row], list_length\n",
    "    )  # matrix_length = 행의 개수, list_matrix = 열의 개수\n",
    "\n",
    "# 일차원 리스트에 저장된 원소에 접근하는 방법\n",
    "\n",
    "for row in range(matrix_length):\n",
    "    list_length = len(matrix[row])\n",
    "    for col in range(list_length):\n",
    "\n",
    "        print(matrix[row][col])\n",
    "\n",
    "        # 정수형 자료형 -> 문자열 자료형 ???\n",
    "        matrix[row][col] = str(matrix[row][col])"
   ]
  },
  {
   "cell_type": "code",
   "execution_count": null,
   "metadata": {},
   "outputs": [],
   "source": []
  }
 ],
 "metadata": {
  "kernelspec": {
   "display_name": "base",
   "language": "python",
   "name": "python3"
  },
  "language_info": {
   "codemirror_mode": {
    "name": "ipython",
    "version": 3
   },
   "file_extension": ".py",
   "mimetype": "text/x-python",
   "name": "python",
   "nbconvert_exporter": "python",
   "pygments_lexer": "ipython3",
   "version": "3.12.4"
  }
 },
 "nbformat": 4,
 "nbformat_minor": 2
}
