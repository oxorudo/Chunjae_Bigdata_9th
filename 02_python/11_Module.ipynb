{
 "cells": [
  {
   "cell_type": "markdown",
   "metadata": {},
   "source": [
    "- ### random"
   ]
  },
  {
   "cell_type": "code",
   "execution_count": 3,
   "metadata": {},
   "outputs": [
    {
     "name": "stdout",
     "output_type": "stream",
     "text": [
      "3\n",
      "2\n",
      "4\n",
      "5\n",
      "1\n",
      "1\n"
     ]
    }
   ],
   "source": [
    "import random\n",
    "\n",
    "# 특정범위의 무작위 수를 반환\n",
    "for i in range(6):\n",
    "    number = random.randint(1, 5) # 범위 안의 무작위 1개의 정수를 반환(시작 숫자부터 끝 숫자까지 포함해서)\n",
    "    print(number)"
   ]
  },
  {
   "cell_type": "code",
   "execution_count": 1,
   "metadata": {},
   "outputs": [
    {
     "name": "stdout",
     "output_type": "stream",
     "text": [
      "5\n"
     ]
    }
   ],
   "source": [
    "import random\n",
    "\n",
    "numbers = [1, 2, 3, 4, 5]\n",
    "number = random.choice(numbers) # 리스트 내 원소 중 하나를 무작위로 반환\n",
    "print(number)"
   ]
  },
  {
   "cell_type": "code",
   "execution_count": 4,
   "metadata": {},
   "outputs": [
    {
     "name": "stdout",
     "output_type": "stream",
     "text": [
      "[3, 1, 4]\n"
     ]
    }
   ],
   "source": [
    "import random\n",
    "\n",
    "numbers = [1, 2, 3, 4, 5]\n",
    "number_sample = random.sample(numbers, 3) # 리스트에서 원소 중 지정한 갯수만큼 무작위로 뽑아 반환\n",
    "\n",
    "print(number_sample)"
   ]
  },
  {
   "cell_type": "markdown",
   "metadata": {},
   "source": [
    "- ### time"
   ]
  },
  {
   "cell_type": "code",
   "execution_count": 2,
   "metadata": {},
   "outputs": [
    {
     "name": "stdout",
     "output_type": "stream",
     "text": [
      "Hello World\n",
      "Hello Python\n",
      "Hello World\n",
      "Hello Python\n",
      "Hello World\n",
      "Hello Python\n",
      "Hello World\n",
      "Hello Python\n",
      "Hello World\n",
      "Hello Python\n"
     ]
    }
   ],
   "source": [
    "import time\n",
    "\n",
    "# sleep은 따로 리턴값이 없음\n",
    "\n",
    "for i in range(0, 5):\n",
    "    print(\"Hello World\")\n",
    "    time.sleep(5) # 5초 대기\n",
    "    print(\"Hello Python\")  # 5초 대기 후 실행"
   ]
  },
  {
   "cell_type": "code",
   "execution_count": 3,
   "metadata": {},
   "outputs": [
    {
     "name": "stdout",
     "output_type": "stream",
     "text": [
      "1721054411.2016454\n"
     ]
    }
   ],
   "source": [
    "import time\n",
    "\n",
    "current_time = time.time()\n",
    "print(current_time)\n",
    "\n",
    "# time() : 1970년 1월 1일 0시 0분 0초 기준 현재 시간(초)를 반환\n",
    "# 프로그램의 실행 시간을 측정할 때 사용"
   ]
  }
 ],
 "metadata": {
  "kernelspec": {
   "display_name": "base",
   "language": "python",
   "name": "python3"
  },
  "language_info": {
   "codemirror_mode": {
    "name": "ipython",
    "version": 3
   },
   "file_extension": ".py",
   "mimetype": "text/x-python",
   "name": "python",
   "nbconvert_exporter": "python",
   "pygments_lexer": "ipython3",
   "version": "3.12.3"
  }
 },
 "nbformat": 4,
 "nbformat_minor": 2
}
