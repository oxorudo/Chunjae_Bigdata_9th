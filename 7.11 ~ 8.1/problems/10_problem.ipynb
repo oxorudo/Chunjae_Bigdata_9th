{
 "cells": [
  {
   "cell_type": "markdown",
   "metadata": {},
   "source": [
    "### (1) 데이터 불러오고 저장하기\n",
    "\n",
    "[titanic.csv](https://prod-files-secure.s3.us-west-2.amazonaws.com/f2678325-6f7b-4a25-b188-86c42030d6d5/ca4938ca-19f2-4d57-9d62-bec7883ef54c/titanic.csv)\n",
    "\n",
    "1. 위 데이터 파일을 다운로드 받습니다.\n",
    "2. 파일을 불러와서 데이터프레임을 생성하세요.\n",
    "3. 해당 데이터프레임을 `json` 파일로 저장하세요."
   ]
  },
  {
   "cell_type": "code",
   "execution_count": 9,
   "metadata": {},
   "outputs": [
    {
     "name": "stdout",
     "output_type": "stream",
     "text": [
      "     survived  pclass     sex   age  sibsp  parch     fare embarked   class  \\\n",
      "0           0       3    male  22.0      1      0   7.2500        S   Third   \n",
      "1           1       1  female  38.0      1      0  71.2833        C   First   \n",
      "2           1       3  female  26.0      0      0   7.9250        S   Third   \n",
      "3           1       1  female  35.0      1      0  53.1000        S   First   \n",
      "4           0       3    male  35.0      0      0   8.0500        S   Third   \n",
      "..        ...     ...     ...   ...    ...    ...      ...      ...     ...   \n",
      "886         0       2    male  27.0      0      0  13.0000        S  Second   \n",
      "887         1       1  female  19.0      0      0  30.0000        S   First   \n",
      "888         0       3  female   NaN      1      2  23.4500        S   Third   \n",
      "889         1       1    male  26.0      0      0  30.0000        C   First   \n",
      "890         0       3    male  32.0      0      0   7.7500        Q   Third   \n",
      "\n",
      "       who  adult_male deck  embark_town alive  alone  \n",
      "0      man        True  NaN  Southampton    no  False  \n",
      "1    woman       False    C    Cherbourg   yes  False  \n",
      "2    woman       False  NaN  Southampton   yes   True  \n",
      "3    woman       False    C  Southampton   yes  False  \n",
      "4      man        True  NaN  Southampton    no   True  \n",
      "..     ...         ...  ...          ...   ...    ...  \n",
      "886    man        True  NaN  Southampton    no   True  \n",
      "887  woman       False    B  Southampton   yes   True  \n",
      "888  woman       False  NaN  Southampton    no  False  \n",
      "889    man        True    C    Cherbourg   yes   True  \n",
      "890    man        True  NaN   Queenstown    no   True  \n",
      "\n",
      "[891 rows x 15 columns]\n"
     ]
    }
   ],
   "source": [
    "import pandas as pd\n",
    "import json\n",
    "\n",
    "df = pd.read_csv(\"data/titanic.csv\")\n",
    "\n",
    "df_df = pd.DataFrame(df)\n",
    "\n",
    "print(df_df)\n",
    "\n",
    "df_df.to_json(\"titanic.json\", indent=4)"
   ]
  },
  {
   "cell_type": "markdown",
   "metadata": {},
   "source": [
    "### (2) 네이버 상품 정보 불러와서 저장하기\n",
    "\n",
    "1. 네이버 상품 정보 데이터 `json` 파일을 불러와서 데이터프레임을 생성하세요.\n",
    "2. 해당 데이터프레임을 `csv` 파일로 저장하세요."
   ]
  },
  {
   "cell_type": "code",
   "execution_count": 14,
   "metadata": {},
   "outputs": [
    {
     "name": "stdout",
     "output_type": "stream",
     "text": [
      "                                            상품명       가격  \\\n",
      "0       (25-43)남자 냉장고 바지 시원한 여름 밴딩 아이스 슬랙스 빅사이즈  11,800원   \n",
      "1                  남자 냉장고바지 와이드 팬츠 여름 쿨 아이스 슬랙스  16,900원   \n",
      "2          INTERMEZZO 24 Summer 쿨맥스 라이크라 슬랙스 3종  29,570원   \n",
      "3             여름 봄 가을 면 9부 스판 정장 바지 빅사이즈 남자 슬랙스  19,500원   \n",
      "4      남자 냉장고 여름 바지 슬랙스 시원한 쿨 아이스 밴딩 스판 빅사이즈 조거  13,900원   \n",
      "..                                          ...      ...   \n",
      "155                    남자 여름슬랙스 9부 정장바지 초박초경량스판   8,360원   \n",
      "156         프로젝트엠 남성 에어로쿨 슬림핏 슬랙스 팬츠 EPC2PP1331   8,720원   \n",
      "157                    컨셉원 MW TR 슬림핏 슬랙스 114501  23,200원   \n",
      "158  프랭키뉴욕 여름 남자슬랙스 COOL 슬림 스판 9부 정장바지 RI7UPA03  16,530원   \n",
      "159               지오다노 쿨맥스 테이퍼드 히든밴딩 슬랙스 113515  27,000원   \n",
      "\n",
      "                                                    주소     배송료  \n",
      "0    https://cr.shopping.naver.com/adcr.nhn?x=k5zQR...  3,000원  \n",
      "1    https://cr.shopping.naver.com/adcr.nhn?x=28W%2...  3,000원  \n",
      "2    https://cr.shopping.naver.com/adcr.nhn?x=cEeXZ...      무료  \n",
      "3    https://cr.shopping.naver.com/adcr.nhn?x=ncVLZ...      무료  \n",
      "4    https://cr.shopping.naver.com/adcr.nhn?x=k1WoA...  3,000원  \n",
      "..                                                 ...     ...  \n",
      "155  https://cr.shopping.naver.com/adcr.nhn?x=73bF2...  3,000원  \n",
      "156  https://cr.shopping.naver.com/adcr.nhn?x=R4sx5...      무료  \n",
      "157  https://cr.shopping.naver.com/adcr.nhn?x=zGVX1...      무료  \n",
      "158  https://cr.shopping.naver.com/adcr.nhn?x=YoFMD...  2,500원  \n",
      "159  https://cr.shopping.naver.com/adcr.nhn?x=Qgvc1...  3,000원  \n",
      "\n",
      "[160 rows x 4 columns]\n"
     ]
    }
   ],
   "source": [
    "df = pd.read_json(\"data/shopping_list.json\")\n",
    "\n",
    "df_df = pd.DataFrame(df)\n",
    "\n",
    "print(df_df)\n",
    "\n",
    "df_df.to_csv(\"data/shopping_list.csv\")"
   ]
  }
 ],
 "metadata": {
  "kernelspec": {
   "display_name": "base",
   "language": "python",
   "name": "python3"
  },
  "language_info": {
   "codemirror_mode": {
    "name": "ipython",
    "version": 3
   },
   "file_extension": ".py",
   "mimetype": "text/x-python",
   "name": "python",
   "nbconvert_exporter": "python",
   "pygments_lexer": "ipython3",
   "version": "3.12.4"
  }
 },
 "nbformat": 4,
 "nbformat_minor": 2
}
