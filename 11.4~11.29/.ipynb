{
 "cells": [
  {
   "cell_type": "code",
   "execution_count": 1,
   "metadata": {},
   "outputs": [
    {
     "ename": "FileNotFoundError",
     "evalue": "[Errno 2] No such file or directory: 'path_to_your_pdf.pdf'",
     "output_type": "error",
     "traceback": [
      "\u001b[0;31m---------------------------------------------------------------------------\u001b[0m",
      "\u001b[0;31mFileNotFoundError\u001b[0m                         Traceback (most recent call last)",
      "Cell \u001b[0;32mIn[1], line 48\u001b[0m\n\u001b[1;32m     45\u001b[0m json_path \u001b[39m=\u001b[39m \u001b[39m'\u001b[39m\u001b[39moutput_data.json\u001b[39m\u001b[39m'\u001b[39m\n\u001b[1;32m     47\u001b[0m \u001b[39m# 함수 실행\u001b[39;00m\n\u001b[0;32m---> 48\u001b[0m pdf_to_json(pdf_path, json_path)\n",
      "Cell \u001b[0;32mIn[1], line 35\u001b[0m, in \u001b[0;36mpdf_to_json\u001b[0;34m(pdf_path, json_path)\u001b[0m\n\u001b[1;32m     34\u001b[0m \u001b[39mdef\u001b[39;00m \u001b[39mpdf_to_json\u001b[39m(pdf_path, json_path):\n\u001b[0;32m---> 35\u001b[0m     reader \u001b[39m=\u001b[39m PdfReader(pdf_path)\n\u001b[1;32m     36\u001b[0m     num_pages \u001b[39m=\u001b[39m \u001b[39mlen\u001b[39m(reader\u001b[39m.\u001b[39mpages)\n\u001b[1;32m     37\u001b[0m     \u001b[39mprint\u001b[39m(\u001b[39mf\u001b[39m\u001b[39m\"\u001b[39m\u001b[39mTotal pages in PDF: \u001b[39m\u001b[39m{\u001b[39;00mnum_pages\u001b[39m}\u001b[39;00m\u001b[39m\"\u001b[39m)\n",
      "File \u001b[0;32m/opt/anaconda3/envs/venv/lib/python3.8/site-packages/PyPDF2/_reader.py:317\u001b[0m, in \u001b[0;36mPdfReader.__init__\u001b[0;34m(self, stream, strict, password)\u001b[0m\n\u001b[1;32m    311\u001b[0m     logger_warning(\n\u001b[1;32m    312\u001b[0m         \u001b[39m\"\u001b[39m\u001b[39mPdfReader stream/file object is not in binary mode. \u001b[39m\u001b[39m\"\u001b[39m\n\u001b[1;32m    313\u001b[0m         \u001b[39m\"\u001b[39m\u001b[39mIt may not be read correctly.\u001b[39m\u001b[39m\"\u001b[39m,\n\u001b[1;32m    314\u001b[0m         \u001b[39m__name__\u001b[39m,\n\u001b[1;32m    315\u001b[0m     )\n\u001b[1;32m    316\u001b[0m \u001b[39mif\u001b[39;00m \u001b[39misinstance\u001b[39m(stream, (\u001b[39mstr\u001b[39m, Path)):\n\u001b[0;32m--> 317\u001b[0m     \u001b[39mwith\u001b[39;00m \u001b[39mopen\u001b[39;49m(stream, \u001b[39m\"\u001b[39;49m\u001b[39mrb\u001b[39;49m\u001b[39m\"\u001b[39;49m) \u001b[39mas\u001b[39;00m fh:\n\u001b[1;32m    318\u001b[0m         stream \u001b[39m=\u001b[39m BytesIO(fh\u001b[39m.\u001b[39mread())\n\u001b[1;32m    319\u001b[0m \u001b[39mself\u001b[39m\u001b[39m.\u001b[39mread(stream)\n",
      "\u001b[0;31mFileNotFoundError\u001b[0m: [Errno 2] No such file or directory: 'path_to_your_pdf.pdf'"
     ]
    }
   ],
   "source": [
    "import tabula\n",
    "import json\n",
    "import os\n",
    "from PyPDF2 import PdfReader\n",
    "\n",
    "def extract_tables_from_pdf(pdf_path):\n",
    "    # PDF 파일에서 표를 추출\n",
    "    tables = tabula.read_pdf(pdf_path, pages='all', multiple_tables=True)\n",
    "    return tables\n",
    "\n",
    "def process_table_to_json(tables):\n",
    "    result_dict = {}\n",
    "    for table in tables:\n",
    "        for index, row in table.iterrows():\n",
    "            # row는 한 행의 데이터를 포함하고 있음\n",
    "            # 각 컬럼에 맞게 데이터 접근 필요\n",
    "            # 예를 들어, '단어', '영어', '난이도', '예문', '예문뜻' 컬럼을 가정\n",
    "            word = row['단어']\n",
    "            if word not in result_dict:\n",
    "                result_dict[word] = []\n",
    "            entry = {\n",
    "                \"영어\": row['영어'],\n",
    "                \"난이도\": row['난이도'],\n",
    "                \"예문\": row['예문'],\n",
    "                \"예문뜻\": row['예문뜻']\n",
    "            }\n",
    "            result_dict[word].append(entry)\n",
    "    return result_dict\n",
    "\n",
    "def save_json(data, file_path):\n",
    "    with open(file_path, 'w', encoding='utf-8') as f:\n",
    "        json.dump(data, f, ensure_ascii=False, indent=2)\n",
    "\n",
    "def pdf_to_json(pdf_path, json_path):\n",
    "    reader = PdfReader(pdf_path)\n",
    "    num_pages = len(reader.pages)\n",
    "    print(f\"Total pages in PDF: {num_pages}\")\n",
    "\n",
    "    tables = extract_tables_from_pdf(pdf_path)\n",
    "    json_data = process_table_to_json(tables)\n",
    "    save_json(json_data, json_path)\n",
    "\n",
    "# PDF 경로와 저장할 JSON 파일 경로 지정\n",
    "pdf_path = 'path_to_your_pdf.pdf'\n",
    "json_path = 'output_data.json'\n",
    "\n",
    "# 함수 실행\n",
    "pdf_to_json(pdf_path, json_path)\n"
   ]
  }
 ],
 "metadata": {
  "kernelspec": {
   "display_name": "Python 3",
   "language": "python",
   "name": "python3"
  },
  "language_info": {
   "codemirror_mode": {
    "name": "ipython",
    "version": 3
   },
   "file_extension": ".py",
   "mimetype": "text/x-python",
   "name": "python",
   "nbconvert_exporter": "python",
   "pygments_lexer": "ipython3",
   "version": "3.8.20"
  },
  "orig_nbformat": 4
 },
 "nbformat": 4,
 "nbformat_minor": 2
}
