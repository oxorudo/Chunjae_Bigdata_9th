{
 "cells": [
  {
   "cell_type": "code",
   "execution_count": null,
   "metadata": {},
   "outputs": [],
   "source": [
    "100  # 100이라는 값\n",
    "number = 100  # number라는 변수(상자) 100을 저장"
   ]
  },
  {
   "cell_type": "code",
   "execution_count": null,
   "metadata": {},
   "outputs": [],
   "source": [
    "# 수학\n",
    "1 + 1 = 2 # 같다\n",
    "# 프로그래밍\n",
    "number = 1 # 대입\n",
    "# = 는 절대 같다는 의미가 아님"
   ]
  },
  {
   "cell_type": "code",
   "execution_count": null,
   "metadata": {},
   "outputs": [],
   "source": [
    "# 모든 자료형의 값은 변수에 저장할 수 있다.\n",
    "name = \"taekyeong\"\n",
    "age = 25\n",
    "is_male = True\n",
    "\n",
    "# 변수는 하나의 값\n",
    "print(name, age, is_male)"
   ]
  },
  {
   "cell_type": "code",
   "execution_count": null,
   "metadata": {},
   "outputs": [],
   "source": [
    "# 생성하지 않은 변수는 사용 불가\n",
    "print(location)"
   ]
  },
  {
   "cell_type": "code",
   "execution_count": 8,
   "metadata": {},
   "outputs": [
    {
     "name": "stdout",
     "output_type": "stream",
     "text": [
      "<class 'str'>\n",
      "<class 'int'>\n",
      "<class 'bool'>\n"
     ]
    }
   ],
   "source": [
    "# type()로 변수에 할당된 변수의 자료형을 확인할 수 있다\n",
    "print(type(name))\n",
    "print(type(age))\n",
    "print(type(is_male))"
   ]
  },
  {
   "cell_type": "code",
   "execution_count": 10,
   "metadata": {},
   "outputs": [
    {
     "name": "stdout",
     "output_type": "stream",
     "text": [
      "20\n",
      "20\n"
     ]
    }
   ],
   "source": [
    "# 변수는 각 데이터가 어떤 의미를 가지고 있는지 쉽게 파악할 수 있다.\n",
    "print(20)  # 그냥 20\n",
    "\n",
    "age = 20  # 변수 정의하고 값 할당\n",
    "print(age)  # 20이라는 값이 나이라는것을 바로 알 수 있음"
   ]
  },
  {
   "cell_type": "code",
   "execution_count": 12,
   "metadata": {},
   "outputs": [
    {
     "name": "stdout",
     "output_type": "stream",
     "text": [
      "Life is too short, You need Python\n",
      "Life is too short, You need Python\n",
      "Life is too short, You need Python\n",
      "Life is too short, You need Python\n",
      "Life is too short, You need Python\n",
      "Life is too short, You need Python\n",
      "Life is too short, You need Python\n",
      "Life is too short, You need Python\n"
     ]
    }
   ],
   "source": [
    "# 변수는 코드의 재사용성과 가독성을 높여준다.\n",
    "print(\"Life is too short, You need Python\")\n",
    "print(\"Life is too short, You need Python\")\n",
    "print(\"Life is too short, You need Python\")\n",
    "print(\"Life is too short, You need Python\")\n",
    "\n",
    "sentence = \"Life is too short, You need Python\"\n",
    "print(sentence)\n",
    "print(sentence)\n",
    "print(sentence)\n",
    "print(sentence)  # 하나의 변수로 동일한 문자열을 재사용 가능하다.\n",
    "\n",
    "# sentence에서 you => We로 바꿔야 할 때도 변수가 있으면 유지 보수가 훨씬 쉽다. (하나하나 고칠 필요가 없다)"
   ]
  },
  {
   "cell_type": "markdown",
   "metadata": {},
   "source": [
    "### 식별자(Identifiers)\n",
    "\n",
    "- 식별자는 `변수의 이름`을 의미합니다.\n",
    "- 할당 연산자(=)에서 왼쪽에 해당하는 부분이다.\n",
    "- 식별자, 즉 변수 이름을 작성할 때는 몇 가지 규칙이 존재합니다\n",
    "    1. 알파벳, 언더바(_), 숫자로 구성되어야 합니다.\n",
    "        - number\n",
    "        - my_note\n",
    "        - car1\n",
    "    2. 첫 글자에는 숫자가 올 수 없습니다.\n",
    "        - 1car (x)\n",
    "        - car1 (o)\n",
    "    3. 대소문자를 구별합니다.\n",
    "        - a 와 A는 다른 변수명입니다.\n",
    "    4. 공백을 넘을 수 없습니다. 공백이 필요하면 `언더바 _` 로 구분합니다.\n",
    "        - my list (x)\n",
    "        - my_list (o)\n",
    "    5. 예약어를 사용할 수 없습니다.\n",
    "    \n",
    "    >False, None, True, and, as, assert, async, await, break, class, continue, def, \n",
    "    del, elif, else, except, finally, for, from, global, if, import, in, is, lambda, \n",
    "    nonlocal, not, or, pass, raise, return, try, while, with, yield 등등"
   ]
  },
  {
   "cell_type": "code",
   "execution_count": 14,
   "metadata": {},
   "outputs": [
    {
     "name": "stdout",
     "output_type": "stream",
     "text": [
      "10\n"
     ]
    },
    {
     "ename": "TypeError",
     "evalue": "'int' object is not callable",
     "output_type": "error",
     "traceback": [
      "\u001b[1;31m---------------------------------------------------------------------------\u001b[0m",
      "\u001b[1;31mTypeError\u001b[0m                                 Traceback (most recent call last)",
      "Cell \u001b[1;32mIn[14], line 6\u001b[0m\n\u001b[0;32m      3\u001b[0m \u001b[38;5;28mint\u001b[39m \u001b[38;5;241m=\u001b[39m \u001b[38;5;241m10\u001b[39m \u001b[38;5;66;03m# 기존 코드를 지우고, 재할당(덮어씌움)\u001b[39;00m\n\u001b[0;32m      4\u001b[0m \u001b[38;5;28mprint\u001b[39m(\u001b[38;5;28mint\u001b[39m)\n\u001b[1;32m----> 6\u001b[0m \u001b[38;5;28mprint\u001b[39m(\u001b[38;5;28mint\u001b[39m(\u001b[38;5;241m10.0\u001b[39m))\n",
      "\u001b[1;31mTypeError\u001b[0m: 'int' object is not callable"
     ]
    }
   ],
   "source": [
    "# 예약어를 사용한다고 당장 오류 발생 x\n",
    "\n",
    "int = 10  # 기존 코드를 지우고, 재할당(덮어씌움)\n",
    "print(int)\n",
    "\n",
    "print(int(10.0))  # 함수 기능이 사라짐\n",
    "\n",
    "# 이래서 예약어는 식별자로 사용하면 안 됨"
   ]
  },
  {
   "cell_type": "markdown",
   "metadata": {},
   "source": [
    "##리터럴(Literal)\n",
    "\n",
    "리터럴은 데이터의 값을 의미합니다.\n",
    "\n",
    "할당 연산자(=)에서 오른쪽에 해당하는 부분입니다.\n",
    "\n",
    "예를 들어, 100은 정수 리터럴이고, “Python”은 문자열 리터럴입니다.\n",
    "\n",
    "\n",
    "```python\n",
    "number = 100  # 식별자가 number인 변수에 정수 리터럴 100을 할당\n",
    "```"
   ]
  },
  {
   "cell_type": "code",
   "execution_count": 16,
   "metadata": {},
   "outputs": [
    {
     "name": "stdout",
     "output_type": "stream",
     "text": [
      "100\n",
      "200\n",
      "300\n"
     ]
    }
   ],
   "source": [
    "# 재할당 : 기존의 값을 지우고 새로운 값을 할당\n",
    "\n",
    "number = 100\n",
    "\n",
    "print(number)\n",
    "\n",
    "number = 200  # 기존의 100을 지우고 200을 재할당\n",
    "\n",
    "print(number)\n",
    "\n",
    "number = 100\n",
    "number = 200\n",
    "number = 300\n",
    "\n",
    "print(number)  # 마지막으로 할당된 값만 가지고 있음"
   ]
  },
  {
   "cell_type": "code",
   "execution_count": 18,
   "metadata": {},
   "outputs": [
    {
     "name": "stdout",
     "output_type": "stream",
     "text": [
      "10 10\n",
      "10 10\n"
     ]
    }
   ],
   "source": [
    "# 동시할당 : 한 줄의 코드에 값을 동시 저장\n",
    "\n",
    "number1 = 10\n",
    "number2 = 10\n",
    "print(number1, number2)\n",
    "\n",
    "number3 = number4 = 10\n",
    "\n",
    "print(number3, number4)"
   ]
  },
  {
   "cell_type": "code",
   "execution_count": 21,
   "metadata": {},
   "outputs": [
    {
     "name": "stdout",
     "output_type": "stream",
     "text": [
      "10 20\n",
      "30 40 50\n"
     ]
    }
   ],
   "source": [
    "# 한 줄의 코드에 값을 각각 다르게 저장\n",
    "number1, number2 = 10, 20\n",
    "print(number1, number2)\n",
    "\n",
    "number3, number4, number5 = 30, 40, 50\n",
    "print(number3, number4, number5)"
   ]
  },
  {
   "cell_type": "code",
   "execution_count": null,
   "metadata": {},
   "outputs": [],
   "source": []
  }
 ],
 "metadata": {
  "kernelspec": {
   "display_name": "base",
   "language": "python",
   "name": "python3"
  },
  "language_info": {
   "codemirror_mode": {
    "name": "ipython",
    "version": 3
   },
   "file_extension": ".py",
   "mimetype": "text/x-python",
   "name": "python",
   "nbconvert_exporter": "python",
   "pygments_lexer": "ipython3",
   "version": "3.12.4"
  }
 },
 "nbformat": 4,
 "nbformat_minor": 2
}
