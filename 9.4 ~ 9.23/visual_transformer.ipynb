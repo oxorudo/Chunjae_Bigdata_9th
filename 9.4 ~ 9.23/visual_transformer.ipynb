{
 "cells": [
  {
   "cell_type": "code",
   "execution_count": 54,
   "metadata": {},
   "outputs": [
    {
     "name": "stderr",
     "output_type": "stream",
     "text": [
      "Fast image processor class <class 'transformers.models.vit.image_processing_vit_fast.ViTImageProcessorFast'> is available for this model. Using slow image processor class. To use the fast image processor class set `use_fast=True`.\n",
      "Hardware accelerator e.g. GPU is available in the environment, but no `device` argument is passed to the `Pipeline` object. Model will be on CPU.\n"
     ]
    }
   ],
   "source": [
    "from transformers import pipeline\n",
    "from ipywidgets import FileUpload\n",
    "from IPython.display import display\n",
    "from PIL import Image\n",
    "import io\n",
    "import matplotlib.pyplot as plt\n",
    "\n",
    "\n",
    "\n",
    "clf = pipeline(task='image-classification', model='google/vit-base-patch16-224')"
   ]
  },
  {
   "cell_type": "code",
   "execution_count": 74,
   "metadata": {},
   "outputs": [],
   "source": [
    "img = ''\n",
    "\n",
    "def upload_button():\n",
    "    global img\n",
    "    img = FileUpload(multile=False)\n",
    "    display(img)\n",
    "\n",
    "def img_trans(img):\n",
    "    img_bytes = io.BytesIO(img.value[0].content)\n",
    "    input_img = Image.open(img_bytes)\n",
    "\n",
    "    return input_img\n",
    "\n",
    "def imshow(input_img):\n",
    "    plt.subplots(figsize=(3,3))\n",
    "    plt.imshow(input_img)\n",
    "    plt.axis('off')\n",
    "    plt.title('input image')\n",
    "    plt.show()\n",
    "\n",
    "def classification(input_img, clf=clf):\n",
    "\n",
    "    animal = clf(input_img)\n",
    "    animal = animal[0]['label']\n",
    "\n",
    "    if 'cat' in animal.lower():\n",
    "        print('야옹')\n",
    "    elif 'corgi' in animal.lower():\n",
    "        print('멍멍')\n",
    "    else:\n",
    "        print(f'입력된 사진에는 {animal}가 있습니다.')"
   ]
  },
  {
   "cell_type": "code",
   "execution_count": 1,
   "metadata": {},
   "outputs": [
    {
     "ename": "NameError",
     "evalue": "name 'upload_button' is not defined",
     "output_type": "error",
     "traceback": [
      "\u001b[1;31m---------------------------------------------------------------------------\u001b[0m",
      "\u001b[1;31mNameError\u001b[0m                                 Traceback (most recent call last)",
      "Cell \u001b[1;32mIn[1], line 1\u001b[0m\n\u001b[1;32m----> 1\u001b[0m upload_button()\n",
      "\u001b[1;31mNameError\u001b[0m: name 'upload_button' is not defined"
     ]
    }
   ],
   "source": [
    "upload_button()"
   ]
  },
  {
   "cell_type": "code",
   "execution_count": null,
   "metadata": {},
   "outputs": [],
   "source": []
  }
 ],
 "metadata": {
  "kernelspec": {
   "display_name": "base",
   "language": "python",
   "name": "python3"
  },
  "language_info": {
   "codemirror_mode": {
    "name": "ipython",
    "version": 3
   },
   "file_extension": ".py",
   "mimetype": "text/x-python",
   "name": "python",
   "nbconvert_exporter": "python",
   "pygments_lexer": "ipython3",
   "version": "3.12.4"
  }
 },
 "nbformat": 4,
 "nbformat_minor": 2
}
