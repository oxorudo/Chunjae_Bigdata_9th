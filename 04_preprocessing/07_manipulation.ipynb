{
 "cells": [
  {
   "cell_type": "code",
   "execution_count": 17,
   "metadata": {},
   "outputs": [],
   "source": [
    "import pandas as pd\n",
    "\n",
    "# 데이터 프레임 생성\n",
    "df = pd.DataFrame({\"A\": [1, 2, 3], \"B\": [4, 5, 6]})"
   ]
  },
  {
   "cell_type": "code",
   "execution_count": 18,
   "metadata": {},
   "outputs": [
    {
     "name": "stdout",
     "output_type": "stream",
     "text": [
      "   A    B\n",
      "0  1    4\n",
      "1  2  200\n",
      "2  3    6\n"
     ]
    }
   ],
   "source": [
    "# 값(셀) 선택 후 수정\n",
    "# 행 레이블 1, 열 B의 데이터의 값을 200 수정\n",
    "df.loc[1, \"B\"] = 200\n",
    "print(df)"
   ]
  },
  {
   "cell_type": "code",
   "execution_count": 19,
   "metadata": {},
   "outputs": [
    {
     "name": "stdout",
     "output_type": "stream",
     "text": [
      "   A    B\n",
      "0  1  100\n",
      "1  2  100\n",
      "2  3  100\n"
     ]
    }
   ],
   "source": [
    "# 열 전체의 값을 수정\n",
    "df[\"B\"] = 100\n",
    "print(df)"
   ]
  },
  {
   "cell_type": "code",
   "execution_count": 20,
   "metadata": {},
   "outputs": [
    {
     "name": "stdout",
     "output_type": "stream",
     "text": [
      "   A    B\n",
      "2  3  100\n",
      "   A    B\n",
      "0  1  100\n",
      "1  2  100\n",
      "2  5  100\n"
     ]
    }
   ],
   "source": [
    "# 조건부 수정\n",
    "\n",
    "# 선택, A 열 값이 3인 데이터를 출력\n",
    "print(df.loc[df[\"A\"] == 3])\n",
    "\n",
    "# A열 값이 3인 A열의 데이터를 5로 수정\n",
    "df.loc[df[\"A\"] == 3, \"A\"] = 5\n",
    "print(df)"
   ]
  },
  {
   "cell_type": "code",
   "execution_count": 26,
   "metadata": {},
   "outputs": [
    {
     "name": "stdout",
     "output_type": "stream",
     "text": [
      "   C    B\n",
      "0  1  100\n",
      "1  2  100\n",
      "2  5  100\n",
      "   C    D\n",
      "0  1  100\n",
      "1  2  100\n",
      "2  5  100\n",
      "   A    B\n",
      "0  1  100\n",
      "B  2  100\n",
      "C  5  100\n",
      "   A    B\n",
      "A  1  100\n",
      "1  2  100\n",
      "2  5  100\n"
     ]
    }
   ],
   "source": [
    "# 레이블(라벨) 수정\n",
    "# rename()\n",
    "\n",
    "# A -> C\n",
    "# axis = 1 -> 열 레이블 수정을 의미(axis = 0 : 행 레이블)\n",
    "df2 = df.rename({\"A\": \"C\"}, axis=1)\n",
    "print(df2)\n",
    "# A -> C\n",
    "# B -> D\n",
    "df3 = df.rename(\n",
    "    columns={\"A\": \"C\", \"B\": \"D\"}\n",
    ")  # 그냥 이렇게 columns를 써서 하는게 더 직관적\n",
    "# columns = {기존 열 레이블 : 수정할 열 레이블}\n",
    "\n",
    "print(df3)\n",
    "\n",
    "# 행 레이블 인자 index = {기존 행 레이블 : 수정할 행 레이블}\n",
    "\n",
    "df4 = df.rename(index={1: \"B\", 2: \"C\"})\n",
    "print(df4)\n",
    "\n",
    "# 원래는 rename은 수정이 된 새로운 데이터프레임을 만들어 낸다. 원래 데이터를 수정하려면\n",
    "# inplace = True : 원본 데이터프레임을 수정함\n",
    "df.rename(index={0: \"A\"}, inplace=True)  # inplace = True : 원본 데이터프레임을 수정함\n",
    "\n",
    "print(df)"
   ]
  },
  {
   "cell_type": "code",
   "execution_count": 36,
   "metadata": {},
   "outputs": [
    {
     "name": "stdout",
     "output_type": "stream",
     "text": [
      "0    1.0\n",
      "1    2.0\n",
      "2    3.0\n",
      "Name: A, dtype: float64\n",
      "     A  B\n",
      "0  1.0  4\n",
      "1  2.0  5\n",
      "2  3.0  6\n"
     ]
    }
   ],
   "source": [
    "# 열 자료형 수정\n",
    "\n",
    "df = pd.DataFrame(\n",
    "    {\n",
    "        \"A\": [1, 2, 3],\n",
    "        \"B\": [4.5, 5.5, 6.4],\n",
    "    }\n",
    ")\n",
    "\n",
    "print(df[\"A\"].astype(float))\n",
    "# print(df)\n",
    "\n",
    "# 자료형을 수정만 해주는 메서드\n",
    "df[\"A\"] = df[\"A\"].astype(float)\n",
    "df[\"B\"] = df[\"B\"].astype(int)\n",
    "print(df)"
   ]
  },
  {
   "cell_type": "code",
   "execution_count": 38,
   "metadata": {},
   "outputs": [
    {
     "name": "stdout",
     "output_type": "stream",
     "text": [
      "     A     B\n",
      "0    1   4.5\n",
      "1    2   5.5\n",
      "2    3   6.4\n",
      "99  99  99.0\n"
     ]
    }
   ],
   "source": [
    "# 추가하기\n",
    "\n",
    "df = pd.DataFrame(\n",
    "    {\n",
    "        \"A\": [1, 2, 3],\n",
    "        \"B\": [4.5, 5.5, 6.4],\n",
    "    }\n",
    ")\n",
    "\n",
    "# loc를 활용해서 행 레이블을 직접 입력\n",
    "df.loc[99] = [99, 99]\n",
    "print(df)"
   ]
  },
  {
   "cell_type": "code",
   "execution_count": 40,
   "metadata": {},
   "outputs": [
    {
     "name": "stdout",
     "output_type": "stream",
     "text": [
      "   A    B\n",
      "0  1  4.5\n",
      "1  2  5.5\n",
      "2  3  6.4\n",
      "3  4  7.2\n",
      "   A    B\n",
      "0  1  4.5\n",
      "1  2  5.5\n",
      "2  3  6.4\n",
      "3  4  7.2\n",
      "4  1  4.5\n",
      "5  2  5.5\n",
      "6  3  6.4\n",
      "7  4  7.2\n"
     ]
    }
   ],
   "source": [
    "# 2개의 데이터프레임을 합치는 방법\n",
    "\n",
    "# 행 레이블(인덱스) 초기화 시킴\n",
    "\n",
    "new_df = pd.DataFrame(\n",
    "    {\n",
    "        \"A\": [4],\n",
    "        \"B\": [7.2],\n",
    "    }\n",
    ")\n",
    "\n",
    "# pd.concat() 메서드\n",
    "# pc.concat([데이터프레임1, 데이터프레임2])\n",
    "# 새로운 데이터프레임을 생성해서 반환\n",
    "# ignore_index = True : 새로운 데이터프레임을 만들 때 행 레이블(인덱스) 초기화 시킴\n",
    "\n",
    "df2 = pd.concat([df, new_df], ignore_index=True)\n",
    "\n",
    "print(df2)\n",
    "\n",
    "df3 = pd.concat([df, new_df, df2], ignore_index=True)\n",
    "print(df3)"
   ]
  },
  {
   "cell_type": "code",
   "execution_count": 43,
   "metadata": {},
   "outputs": [
    {
     "name": "stdout",
     "output_type": "stream",
     "text": [
      "   A    B  C      E\n",
      "0  1  4.5  0  False\n",
      "1  2  5.5  0   True\n",
      "2  3  6.4  0   True\n",
      "   A    B  C      E\n",
      "0  1  4.5  0  False\n",
      "1  2  5.5  0   True\n",
      "2  3  6.4  0   True\n"
     ]
    }
   ],
   "source": [
    "# 열 추가하기\n",
    "\n",
    "new_df = pd.DataFrame(\n",
    "    {\n",
    "        \"A\": [4],\n",
    "        \"B\": [7.2],\n",
    "    }\n",
    ")\n",
    "\n",
    "df[\"C\"] = 0\n",
    "\n",
    "print(df)\n",
    "\n",
    "# 조건을 통한 불린형 값을 가진 열을 추가\n",
    "df[\"E\"] = df[\"A\"] >= 2\n",
    "print(df)"
   ]
  },
  {
   "cell_type": "code",
   "execution_count": 45,
   "metadata": {},
   "outputs": [
    {
     "name": "stdout",
     "output_type": "stream",
     "text": [
      "    이름\n",
      "0  홍길동\n",
      "1  이순신\n",
      "2  홍길동\n",
      "3  이순신\n",
      "4  강감찬\n",
      "5  안창호\n"
     ]
    }
   ],
   "source": [
    "# 열 삭제하기\n",
    "\n",
    "df = pd.DataFrame(\n",
    "    {\n",
    "        \"이름\": [\"홍길동\", \"이순신\", \"홍길동\", \"이순신\", \"강감찬\", \"안창호\"],\n",
    "        \"나이\": [25, 40, 25, 50, 35, 33],\n",
    "        \"직업\": [\"개발자\", \"선생님\", \"개발자\", \"의사\", \"의사\", \"선생님\"],\n",
    "    }\n",
    ")\n",
    "\n",
    "# 열 삭제 : drop(columns = [])\n",
    "# 행 삭제 : drop(index = [])\n",
    "# inplace 인자가 존재한다. (원본 수정 유무)\n",
    "\n",
    "df.drop(columns=[\"나이\", \"직업\"], inplace=True) # 나이와 직업 열 사라짐, 원본을 수정함\n",
    "print(df)"
   ]
  },
  {
   "cell_type": "code",
   "execution_count": 50,
   "metadata": {},
   "outputs": [
    {
     "name": "stdout",
     "output_type": "stream",
     "text": [
      "    이름  나이   직업\n",
      "0  홍길동  25  개발자\n",
      "1  이순신  40  선생님\n",
      "2  홍길동  25  개발자\n",
      "3  이순신  50   의사\n",
      "4  강감찬  35   의사\n",
      "5  안창호  33  선생님\n",
      "    이름  나이   직업\n",
      "3  이순신  50   의사\n",
      "4  강감찬  35   의사\n",
      "5  안창호  33  선생님\n",
      "    이름  나이   직업\n",
      "1  이순신  40  선생님\n",
      "3  이순신  50   의사\n",
      "4  강감찬  35   의사\n",
      "5  안창호  33  선생님\n"
     ]
    }
   ],
   "source": [
    "df = pd.DataFrame(\n",
    "    {\n",
    "        \"이름\": [\"홍길동\", \"이순신\", \"홍길동\", \"이순신\", \"강감찬\", \"안창호\"],\n",
    "        \"나이\": [25, 40, 25, 50, 35, 33],\n",
    "        \"직업\": [\"개발자\", \"선생님\", \"개발자\", \"의사\", \"의사\", \"선생님\"],\n",
    "    }\n",
    ")\n",
    "\n",
    "print(df)//\n",
    "dropped_df = df.drop(index = [0,1,2])\n",
    "print(dropped_df)\n",
    "\n",
    "# 조건부 행 삭제\n",
    "\n",
    "# 나이가 30 미만인 인덱스(행 레이블) 속성 추출\n",
    "\n",
    "df[df[\"나이\"] < 30].index # 0,2번이 나이가 30 미만이다.\n",
    "\n",
    "# 해당 인덱스(행 레이블) 삭제\n",
    "dropped_df = df.drop(index = df[df[\"나이\"] < 30].index)\n",
    "\n",
    "print(dropped_df)"
   ]
  }
 ],
 "metadata": {
  "kernelspec": {
   "display_name": "base",
   "language": "python",
   "name": "python3"
  },
  "language_info": {
   "codemirror_mode": {
    "name": "ipython",
    "version": 3
   },
   "file_extension": ".py",
   "mimetype": "text/x-python",
   "name": "python",
   "nbconvert_exporter": "python",
   "pygments_lexer": "ipython3",
   "version": "3.12.4"
  }
 },
 "nbformat": 4,
 "nbformat_minor": 2
}
