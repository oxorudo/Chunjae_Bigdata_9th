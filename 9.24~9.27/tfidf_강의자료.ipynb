{
 "cells": [
  {
   "cell_type": "markdown",
   "id": "fa49f741-88f9-4575-bc13-f3d7e90171d3",
   "metadata": {},
   "source": [
    "# TF-IDF\n",
    "---\n",
    "* TF (Term Frequency, 단어 빈도): 어떤 단어가 문서 내에서 얼마나 자주 등장하는지를 나타내는 지표\n",
    "* DF (Document Frequency, 문서 빈도): 어떤 단어가 문서**군** 내에서 얼마나 자주 등장하는지를 나타내는 지표. 이 때, 등장 빈도는 해당 단어가 존재하는지 여부만 체크합니다\n",
    "* IDF (Inverse Document Frequency, 역문서 빈도): 문서 빈도의 역수\n",
    "* TF-IDF: TF * IDF\n",
    "</br></br>\n",
    "어떤 단어 $t$ 가 있고, 문서 $d$ 가 있다 $d$ 를 포함한 문서군은 $D$ 이다. 이 때, 아래와 같이 정의한다.\n",
    "</br></br>\n",
    "* 불린 빈도 $tf(t,d)$ = $t$ 가 $d$ 에 나타났는가? True: 1, False: 0\n",
    "* $f(t,d)$ : 문서 내에서 단어의 총 빈도\n",
    "</br></br>\n",
    "<img src=\"https://wikimedia.org/api/rest_v1/media/math/render/svg/9116cd515075990e05a5489020384c714408d63f\">\n",
    "</br></br>\n",
    "<img src=\"https://wikimedia.org/api/rest_v1/media/math/render/svg/cc5cc57e5b68902a0bfaf42f04e53458503601c4\">"
   ]
  },
  {
   "cell_type": "code",
   "execution_count": 35,
   "id": "1eeeb02b-88c7-4f25-be51-d2172f03b678",
   "metadata": {},
   "outputs": [],
   "source": [
    "import pandas as pd"
   ]
  },
  {
   "cell_type": "code",
   "execution_count": 7,
   "id": "6abe4469-9a50-4626-99a5-c1dd69240947",
   "metadata": {},
   "outputs": [],
   "source": [
    "docs = [\n",
    "    '마트 딸기 진짜 비싸다',\n",
    "    '나는 오늘 아침 사과 먹겠다',\n",
    "    '아침 사과 금 사과',\n",
    "    '나는 오늘 저녁 딸기 먹겠다'\n",
    "]"
   ]
  },
  {
   "cell_type": "code",
   "execution_count": 19,
   "id": "abbf400c-8a40-49db-b622-ada52fdbeae0",
   "metadata": {},
   "outputs": [],
   "source": [
    "vocab = list(set([word for doc in docs for word in doc.split()]))"
   ]
  },
  {
   "cell_type": "code",
   "execution_count": 21,
   "id": "8191c555-87d5-4590-b45d-6c1b037f57cc",
   "metadata": {},
   "outputs": [],
   "source": [
    "vocab.sort()"
   ]
  },
  {
   "cell_type": "code",
   "execution_count": 23,
   "id": "5b299b70-9721-4038-a465-65e3d0b5695c",
   "metadata": {},
   "outputs": [
    {
     "data": {
      "text/plain": [
       "['금', '나는', '딸기', '마트', '먹겠다', '비싸다', '사과', '아침', '오늘', '저녁', '진짜']"
      ]
     },
     "execution_count": 23,
     "metadata": {},
     "output_type": "execute_result"
    }
   ],
   "source": [
    "vocab"
   ]
  },
  {
   "cell_type": "code",
   "execution_count": 27,
   "id": "51552c84-1ead-471a-bcea-10f5e026ab0e",
   "metadata": {},
   "outputs": [],
   "source": [
    "N = len(docs)"
   ]
  },
  {
   "cell_type": "code",
   "execution_count": 31,
   "id": "7940a3a6-63da-424e-91c0-32d6ecb8f6f5",
   "metadata": {},
   "outputs": [],
   "source": [
    "dtm = []\n",
    "\n",
    "for idx in range(N):\n",
    "    doc = docs[idx]\n",
    "    in_dtm = []\n",
    "\n",
    "    for v_idx in range(len(vocab)):\n",
    "        voca = vocab[v_idx]\n",
    "        in_dtm.append(doc.count(voca))\n",
    "\n",
    "    dtm.append(in_dtm)"
   ]
  },
  {
   "cell_type": "code",
   "execution_count": 41,
   "id": "11ede678-c305-415e-a8df-e1a53e5e0f1d",
   "metadata": {},
   "outputs": [],
   "source": [
    "dtm = pd.DataFrame(dtm, columns=vocab, index=['1번문서','2번문서','3번문서','4번문서'])"
   ]
  },
  {
   "cell_type": "code",
   "execution_count": 43,
   "id": "625ca7f0-ad02-405c-bd06-b4d50dc5c5fa",
   "metadata": {},
   "outputs": [
    {
     "data": {
      "text/html": [
       "<div>\n",
       "<style scoped>\n",
       "    .dataframe tbody tr th:only-of-type {\n",
       "        vertical-align: middle;\n",
       "    }\n",
       "\n",
       "    .dataframe tbody tr th {\n",
       "        vertical-align: top;\n",
       "    }\n",
       "\n",
       "    .dataframe thead th {\n",
       "        text-align: right;\n",
       "    }\n",
       "</style>\n",
       "<table border=\"1\" class=\"dataframe\">\n",
       "  <thead>\n",
       "    <tr style=\"text-align: right;\">\n",
       "      <th></th>\n",
       "      <th>금</th>\n",
       "      <th>나는</th>\n",
       "      <th>딸기</th>\n",
       "      <th>마트</th>\n",
       "      <th>먹겠다</th>\n",
       "      <th>비싸다</th>\n",
       "      <th>사과</th>\n",
       "      <th>아침</th>\n",
       "      <th>오늘</th>\n",
       "      <th>저녁</th>\n",
       "      <th>진짜</th>\n",
       "    </tr>\n",
       "  </thead>\n",
       "  <tbody>\n",
       "    <tr>\n",
       "      <th>1번문서</th>\n",
       "      <td>0</td>\n",
       "      <td>0</td>\n",
       "      <td>1</td>\n",
       "      <td>1</td>\n",
       "      <td>0</td>\n",
       "      <td>1</td>\n",
       "      <td>0</td>\n",
       "      <td>0</td>\n",
       "      <td>0</td>\n",
       "      <td>0</td>\n",
       "      <td>1</td>\n",
       "    </tr>\n",
       "    <tr>\n",
       "      <th>2번문서</th>\n",
       "      <td>0</td>\n",
       "      <td>1</td>\n",
       "      <td>0</td>\n",
       "      <td>0</td>\n",
       "      <td>1</td>\n",
       "      <td>0</td>\n",
       "      <td>1</td>\n",
       "      <td>1</td>\n",
       "      <td>1</td>\n",
       "      <td>0</td>\n",
       "      <td>0</td>\n",
       "    </tr>\n",
       "    <tr>\n",
       "      <th>3번문서</th>\n",
       "      <td>1</td>\n",
       "      <td>0</td>\n",
       "      <td>0</td>\n",
       "      <td>0</td>\n",
       "      <td>0</td>\n",
       "      <td>0</td>\n",
       "      <td>2</td>\n",
       "      <td>1</td>\n",
       "      <td>0</td>\n",
       "      <td>0</td>\n",
       "      <td>0</td>\n",
       "    </tr>\n",
       "    <tr>\n",
       "      <th>4번문서</th>\n",
       "      <td>0</td>\n",
       "      <td>1</td>\n",
       "      <td>1</td>\n",
       "      <td>0</td>\n",
       "      <td>1</td>\n",
       "      <td>0</td>\n",
       "      <td>0</td>\n",
       "      <td>0</td>\n",
       "      <td>1</td>\n",
       "      <td>1</td>\n",
       "      <td>0</td>\n",
       "    </tr>\n",
       "  </tbody>\n",
       "</table>\n",
       "</div>"
      ],
      "text/plain": [
       "      금  나는  딸기  마트  먹겠다  비싸다  사과  아침  오늘  저녁  진짜\n",
       "1번문서  0   0   1   1    0    1   0   0   0   0   1\n",
       "2번문서  0   1   0   0    1    0   1   1   1   0   0\n",
       "3번문서  1   0   0   0    0    0   2   1   0   0   0\n",
       "4번문서  0   1   1   0    1    0   0   0   1   1   0"
      ]
     },
     "execution_count": 43,
     "metadata": {},
     "output_type": "execute_result"
    }
   ],
   "source": [
    "dtm"
   ]
  },
  {
   "cell_type": "code",
   "execution_count": 46,
   "id": "1387fb86-b3c2-447d-b5d2-433e6a55fd65",
   "metadata": {},
   "outputs": [],
   "source": [
    "import math\n",
    "\n",
    "def tf(t, d):\n",
    "    # 문서 d에서 단어 t가 몇번이나 나왔는지를 카운트한 뒤 리턴\n",
    "    return d.count(t)\n",
    "\n",
    "def df(t, D):\n",
    "    # 문서군 D의 각 문서 d에서 t가 몇번이나 나왔는지를 카운트한 뒤 리턴. 단, d에서 t가 존재하는지 여부만 체크\n",
    "    df = 0\n",
    "    \n",
    "    for d in D:\n",
    "        df += t in d\n",
    "\n",
    "    return df\n",
    "\n",
    "def idf(t, D):\n",
    "    # df의 역수를 리턴\n",
    "    N = len(D)\n",
    "    return math.log(N / (df(t, D) + 1))\n",
    "\n",
    "def tf_idf(t, d, D):\n",
    "    # tf * idf를 리턴\n",
    "    return tf(t, d) * idf(t, D)"
   ]
  },
  {
   "cell_type": "code",
   "execution_count": 48,
   "id": "98e32f44-da93-415b-93a2-07884bb2ce54",
   "metadata": {},
   "outputs": [],
   "source": [
    "result = []\n",
    "\n",
    "for idx in range(N):\n",
    "    result.append([])\n",
    "    doc = docs[idx]\n",
    "\n",
    "    for v_idx in range(len(vocab)):\n",
    "        token = vocab[v_idx]\n",
    "        result[-1].append(tf(token, doc))"
   ]
  },
  {
   "cell_type": "code",
   "execution_count": 60,
   "id": "25ac20fc-fd35-4ca2-896b-87d8863c17da",
   "metadata": {},
   "outputs": [],
   "source": [
    "_tf = pd.DataFrame(result, columns=vocab)"
   ]
  },
  {
   "cell_type": "code",
   "execution_count": 62,
   "id": "a68db675-58eb-4aa5-a2b5-65127e6f3d64",
   "metadata": {},
   "outputs": [
    {
     "data": {
      "text/html": [
       "<div>\n",
       "<style scoped>\n",
       "    .dataframe tbody tr th:only-of-type {\n",
       "        vertical-align: middle;\n",
       "    }\n",
       "\n",
       "    .dataframe tbody tr th {\n",
       "        vertical-align: top;\n",
       "    }\n",
       "\n",
       "    .dataframe thead th {\n",
       "        text-align: right;\n",
       "    }\n",
       "</style>\n",
       "<table border=\"1\" class=\"dataframe\">\n",
       "  <thead>\n",
       "    <tr style=\"text-align: right;\">\n",
       "      <th></th>\n",
       "      <th>금</th>\n",
       "      <th>나는</th>\n",
       "      <th>딸기</th>\n",
       "      <th>마트</th>\n",
       "      <th>먹겠다</th>\n",
       "      <th>비싸다</th>\n",
       "      <th>사과</th>\n",
       "      <th>아침</th>\n",
       "      <th>오늘</th>\n",
       "      <th>저녁</th>\n",
       "      <th>진짜</th>\n",
       "    </tr>\n",
       "  </thead>\n",
       "  <tbody>\n",
       "    <tr>\n",
       "      <th>0</th>\n",
       "      <td>0</td>\n",
       "      <td>0</td>\n",
       "      <td>1</td>\n",
       "      <td>1</td>\n",
       "      <td>0</td>\n",
       "      <td>1</td>\n",
       "      <td>0</td>\n",
       "      <td>0</td>\n",
       "      <td>0</td>\n",
       "      <td>0</td>\n",
       "      <td>1</td>\n",
       "    </tr>\n",
       "    <tr>\n",
       "      <th>1</th>\n",
       "      <td>0</td>\n",
       "      <td>1</td>\n",
       "      <td>0</td>\n",
       "      <td>0</td>\n",
       "      <td>1</td>\n",
       "      <td>0</td>\n",
       "      <td>1</td>\n",
       "      <td>1</td>\n",
       "      <td>1</td>\n",
       "      <td>0</td>\n",
       "      <td>0</td>\n",
       "    </tr>\n",
       "    <tr>\n",
       "      <th>2</th>\n",
       "      <td>1</td>\n",
       "      <td>0</td>\n",
       "      <td>0</td>\n",
       "      <td>0</td>\n",
       "      <td>0</td>\n",
       "      <td>0</td>\n",
       "      <td>2</td>\n",
       "      <td>1</td>\n",
       "      <td>0</td>\n",
       "      <td>0</td>\n",
       "      <td>0</td>\n",
       "    </tr>\n",
       "    <tr>\n",
       "      <th>3</th>\n",
       "      <td>0</td>\n",
       "      <td>1</td>\n",
       "      <td>1</td>\n",
       "      <td>0</td>\n",
       "      <td>1</td>\n",
       "      <td>0</td>\n",
       "      <td>0</td>\n",
       "      <td>0</td>\n",
       "      <td>1</td>\n",
       "      <td>1</td>\n",
       "      <td>0</td>\n",
       "    </tr>\n",
       "  </tbody>\n",
       "</table>\n",
       "</div>"
      ],
      "text/plain": [
       "   금  나는  딸기  마트  먹겠다  비싸다  사과  아침  오늘  저녁  진짜\n",
       "0  0   0   1   1    0    1   0   0   0   0   1\n",
       "1  0   1   0   0    1    0   1   1   1   0   0\n",
       "2  1   0   0   0    0    0   2   1   0   0   0\n",
       "3  0   1   1   0    1    0   0   0   1   1   0"
      ]
     },
     "execution_count": 62,
     "metadata": {},
     "output_type": "execute_result"
    }
   ],
   "source": [
    "_tf"
   ]
  },
  {
   "cell_type": "code",
   "execution_count": 64,
   "id": "634a58dd-22cc-42db-a9e3-35abe15f1dd0",
   "metadata": {},
   "outputs": [],
   "source": [
    "result = []\n",
    "for v_idx in range(len(vocab)):\n",
    "    token = vocab[v_idx]\n",
    "    result.append(idf(token, docs))"
   ]
  },
  {
   "cell_type": "code",
   "execution_count": 70,
   "id": "45d37f09-51cb-4122-8fa3-57a2ae2c6767",
   "metadata": {},
   "outputs": [],
   "source": [
    "_idf = pd.DataFrame(result, index=vocab, columns=['IDF'])"
   ]
  },
  {
   "cell_type": "code",
   "execution_count": 72,
   "id": "c4b62e62-d39c-4124-8707-e1999be6a653",
   "metadata": {},
   "outputs": [
    {
     "data": {
      "text/html": [
       "<div>\n",
       "<style scoped>\n",
       "    .dataframe tbody tr th:only-of-type {\n",
       "        vertical-align: middle;\n",
       "    }\n",
       "\n",
       "    .dataframe tbody tr th {\n",
       "        vertical-align: top;\n",
       "    }\n",
       "\n",
       "    .dataframe thead th {\n",
       "        text-align: right;\n",
       "    }\n",
       "</style>\n",
       "<table border=\"1\" class=\"dataframe\">\n",
       "  <thead>\n",
       "    <tr style=\"text-align: right;\">\n",
       "      <th></th>\n",
       "      <th>IDF</th>\n",
       "    </tr>\n",
       "  </thead>\n",
       "  <tbody>\n",
       "    <tr>\n",
       "      <th>금</th>\n",
       "      <td>0.693147</td>\n",
       "    </tr>\n",
       "    <tr>\n",
       "      <th>나는</th>\n",
       "      <td>0.287682</td>\n",
       "    </tr>\n",
       "    <tr>\n",
       "      <th>딸기</th>\n",
       "      <td>0.287682</td>\n",
       "    </tr>\n",
       "    <tr>\n",
       "      <th>마트</th>\n",
       "      <td>0.693147</td>\n",
       "    </tr>\n",
       "    <tr>\n",
       "      <th>먹겠다</th>\n",
       "      <td>0.287682</td>\n",
       "    </tr>\n",
       "    <tr>\n",
       "      <th>비싸다</th>\n",
       "      <td>0.693147</td>\n",
       "    </tr>\n",
       "    <tr>\n",
       "      <th>사과</th>\n",
       "      <td>0.287682</td>\n",
       "    </tr>\n",
       "    <tr>\n",
       "      <th>아침</th>\n",
       "      <td>0.287682</td>\n",
       "    </tr>\n",
       "    <tr>\n",
       "      <th>오늘</th>\n",
       "      <td>0.287682</td>\n",
       "    </tr>\n",
       "    <tr>\n",
       "      <th>저녁</th>\n",
       "      <td>0.693147</td>\n",
       "    </tr>\n",
       "    <tr>\n",
       "      <th>진짜</th>\n",
       "      <td>0.693147</td>\n",
       "    </tr>\n",
       "  </tbody>\n",
       "</table>\n",
       "</div>"
      ],
      "text/plain": [
       "          IDF\n",
       "금    0.693147\n",
       "나는   0.287682\n",
       "딸기   0.287682\n",
       "마트   0.693147\n",
       "먹겠다  0.287682\n",
       "비싸다  0.693147\n",
       "사과   0.287682\n",
       "아침   0.287682\n",
       "오늘   0.287682\n",
       "저녁   0.693147\n",
       "진짜   0.693147"
      ]
     },
     "execution_count": 72,
     "metadata": {},
     "output_type": "execute_result"
    }
   ],
   "source": [
    "_idf"
   ]
  },
  {
   "cell_type": "code",
   "execution_count": 74,
   "id": "dc1b77a0-1cba-4730-be44-aafbceea4f15",
   "metadata": {},
   "outputs": [],
   "source": [
    "result = []\n",
    "for idx in range(N):\n",
    "    result.append([])\n",
    "    d = docs[idx]\n",
    "\n",
    "    for v_idx in range(len(vocab)):\n",
    "        t = vocab[v_idx]\n",
    "        result[-1].append(tf_idf(t, d, docs))"
   ]
  },
  {
   "cell_type": "code",
   "execution_count": 86,
   "id": "85c0d117-35ea-43b6-90f5-5534a9d3e06e",
   "metadata": {},
   "outputs": [],
   "source": [
    "_tf_idf = pd.DataFrame(result, columns=vocab)"
   ]
  },
  {
   "cell_type": "code",
   "execution_count": 88,
   "id": "bc93857e-c25e-461d-8526-14dbd69846ef",
   "metadata": {},
   "outputs": [
    {
     "data": {
      "text/html": [
       "<div>\n",
       "<style scoped>\n",
       "    .dataframe tbody tr th:only-of-type {\n",
       "        vertical-align: middle;\n",
       "    }\n",
       "\n",
       "    .dataframe tbody tr th {\n",
       "        vertical-align: top;\n",
       "    }\n",
       "\n",
       "    .dataframe thead th {\n",
       "        text-align: right;\n",
       "    }\n",
       "</style>\n",
       "<table border=\"1\" class=\"dataframe\">\n",
       "  <thead>\n",
       "    <tr style=\"text-align: right;\">\n",
       "      <th></th>\n",
       "      <th>금</th>\n",
       "      <th>나는</th>\n",
       "      <th>딸기</th>\n",
       "      <th>마트</th>\n",
       "      <th>먹겠다</th>\n",
       "      <th>비싸다</th>\n",
       "      <th>사과</th>\n",
       "      <th>아침</th>\n",
       "      <th>오늘</th>\n",
       "      <th>저녁</th>\n",
       "      <th>진짜</th>\n",
       "    </tr>\n",
       "  </thead>\n",
       "  <tbody>\n",
       "    <tr>\n",
       "      <th>0</th>\n",
       "      <td>0.000000</td>\n",
       "      <td>0.000000</td>\n",
       "      <td>0.287682</td>\n",
       "      <td>0.693147</td>\n",
       "      <td>0.000000</td>\n",
       "      <td>0.693147</td>\n",
       "      <td>0.000000</td>\n",
       "      <td>0.000000</td>\n",
       "      <td>0.000000</td>\n",
       "      <td>0.000000</td>\n",
       "      <td>0.693147</td>\n",
       "    </tr>\n",
       "    <tr>\n",
       "      <th>1</th>\n",
       "      <td>0.000000</td>\n",
       "      <td>0.287682</td>\n",
       "      <td>0.000000</td>\n",
       "      <td>0.000000</td>\n",
       "      <td>0.287682</td>\n",
       "      <td>0.000000</td>\n",
       "      <td>0.287682</td>\n",
       "      <td>0.287682</td>\n",
       "      <td>0.287682</td>\n",
       "      <td>0.000000</td>\n",
       "      <td>0.000000</td>\n",
       "    </tr>\n",
       "    <tr>\n",
       "      <th>2</th>\n",
       "      <td>0.693147</td>\n",
       "      <td>0.000000</td>\n",
       "      <td>0.000000</td>\n",
       "      <td>0.000000</td>\n",
       "      <td>0.000000</td>\n",
       "      <td>0.000000</td>\n",
       "      <td>0.575364</td>\n",
       "      <td>0.287682</td>\n",
       "      <td>0.000000</td>\n",
       "      <td>0.000000</td>\n",
       "      <td>0.000000</td>\n",
       "    </tr>\n",
       "    <tr>\n",
       "      <th>3</th>\n",
       "      <td>0.000000</td>\n",
       "      <td>0.287682</td>\n",
       "      <td>0.287682</td>\n",
       "      <td>0.000000</td>\n",
       "      <td>0.287682</td>\n",
       "      <td>0.000000</td>\n",
       "      <td>0.000000</td>\n",
       "      <td>0.000000</td>\n",
       "      <td>0.287682</td>\n",
       "      <td>0.693147</td>\n",
       "      <td>0.000000</td>\n",
       "    </tr>\n",
       "  </tbody>\n",
       "</table>\n",
       "</div>"
      ],
      "text/plain": [
       "          금        나는        딸기        마트       먹겠다       비싸다        사과  \\\n",
       "0  0.000000  0.000000  0.287682  0.693147  0.000000  0.693147  0.000000   \n",
       "1  0.000000  0.287682  0.000000  0.000000  0.287682  0.000000  0.287682   \n",
       "2  0.693147  0.000000  0.000000  0.000000  0.000000  0.000000  0.575364   \n",
       "3  0.000000  0.287682  0.287682  0.000000  0.287682  0.000000  0.000000   \n",
       "\n",
       "         아침        오늘        저녁        진짜  \n",
       "0  0.000000  0.000000  0.000000  0.693147  \n",
       "1  0.287682  0.287682  0.000000  0.000000  \n",
       "2  0.287682  0.000000  0.000000  0.000000  \n",
       "3  0.000000  0.287682  0.693147  0.000000  "
      ]
     },
     "execution_count": 88,
     "metadata": {},
     "output_type": "execute_result"
    }
   ],
   "source": [
    "_tf_idf"
   ]
  },
  {
   "cell_type": "code",
   "execution_count": 90,
   "id": "1d49770b-7dbd-4ddf-99e8-596d928321f0",
   "metadata": {},
   "outputs": [],
   "source": [
    "from sklearn.feature_extraction.text import CountVectorizer"
   ]
  },
  {
   "cell_type": "code",
   "execution_count": 92,
   "id": "8fdf11d9-14c8-4d3d-9218-ee23e09f4c9c",
   "metadata": {},
   "outputs": [],
   "source": [
    "vector = CountVectorizer()"
   ]
  },
  {
   "cell_type": "code",
   "execution_count": 96,
   "id": "2f5a32f4-533b-4829-867b-7d633a7b0536",
   "metadata": {},
   "outputs": [
    {
     "data": {
      "text/plain": [
       "array([[0, 1, 1, 0, 1, 0, 0, 0, 0, 1],\n",
       "       [1, 0, 0, 1, 0, 1, 1, 1, 0, 0],\n",
       "       [0, 0, 0, 0, 0, 2, 1, 0, 0, 0],\n",
       "       [1, 1, 0, 1, 0, 0, 0, 1, 1, 0]], dtype=int64)"
      ]
     },
     "execution_count": 96,
     "metadata": {},
     "output_type": "execute_result"
    }
   ],
   "source": [
    "vector.fit_transform(docs).toarray()"
   ]
  },
  {
   "cell_type": "code",
   "execution_count": 98,
   "id": "217d183e-d16e-4a3d-96d9-eb41e3b7a86f",
   "metadata": {},
   "outputs": [
    {
     "data": {
      "text/plain": [
       "{'마트': 2,\n",
       " '딸기': 1,\n",
       " '진짜': 9,\n",
       " '비싸다': 4,\n",
       " '나는': 0,\n",
       " '오늘': 7,\n",
       " '아침': 6,\n",
       " '사과': 5,\n",
       " '먹겠다': 3,\n",
       " '저녁': 8}"
      ]
     },
     "execution_count": 98,
     "metadata": {},
     "output_type": "execute_result"
    }
   ],
   "source": [
    "vector.vocabulary_"
   ]
  },
  {
   "cell_type": "code",
   "execution_count": null,
   "id": "a3a16e72-94d9-473e-91be-747ea8244fb9",
   "metadata": {},
   "outputs": [],
   "source": [
    "from sklearn.feature_extraction.text import TfidfVectorizer\n",
    "\n",
    "tfidf = TfidfVectorizer()\n",
    "arr = tfidf.fit_transform(docs).toarray()\n",
    "col = tfidf.get_feature_names_out()"
   ]
  },
  {
   "cell_type": "code",
   "execution_count": 118,
   "id": "b8b66f06-13e2-4fcb-bc1e-2841ae136f73",
   "metadata": {},
   "outputs": [
    {
     "data": {
      "text/html": [
       "<div>\n",
       "<style scoped>\n",
       "    .dataframe tbody tr th:only-of-type {\n",
       "        vertical-align: middle;\n",
       "    }\n",
       "\n",
       "    .dataframe tbody tr th {\n",
       "        vertical-align: top;\n",
       "    }\n",
       "\n",
       "    .dataframe thead th {\n",
       "        text-align: right;\n",
       "    }\n",
       "</style>\n",
       "<table border=\"1\" class=\"dataframe\">\n",
       "  <thead>\n",
       "    <tr style=\"text-align: right;\">\n",
       "      <th></th>\n",
       "      <th>나는</th>\n",
       "      <th>딸기</th>\n",
       "      <th>마트</th>\n",
       "      <th>먹겠다</th>\n",
       "      <th>비싸다</th>\n",
       "      <th>사과</th>\n",
       "      <th>아침</th>\n",
       "      <th>오늘</th>\n",
       "      <th>저녁</th>\n",
       "      <th>진짜</th>\n",
       "    </tr>\n",
       "  </thead>\n",
       "  <tbody>\n",
       "    <tr>\n",
       "      <th>0</th>\n",
       "      <td>0.000000</td>\n",
       "      <td>0.414289</td>\n",
       "      <td>0.525473</td>\n",
       "      <td>0.000000</td>\n",
       "      <td>0.525473</td>\n",
       "      <td>0.000000</td>\n",
       "      <td>0.000000</td>\n",
       "      <td>0.000000</td>\n",
       "      <td>0.000000</td>\n",
       "      <td>0.525473</td>\n",
       "    </tr>\n",
       "    <tr>\n",
       "      <th>1</th>\n",
       "      <td>0.447214</td>\n",
       "      <td>0.000000</td>\n",
       "      <td>0.000000</td>\n",
       "      <td>0.447214</td>\n",
       "      <td>0.000000</td>\n",
       "      <td>0.447214</td>\n",
       "      <td>0.447214</td>\n",
       "      <td>0.447214</td>\n",
       "      <td>0.000000</td>\n",
       "      <td>0.000000</td>\n",
       "    </tr>\n",
       "    <tr>\n",
       "      <th>2</th>\n",
       "      <td>0.000000</td>\n",
       "      <td>0.000000</td>\n",
       "      <td>0.000000</td>\n",
       "      <td>0.000000</td>\n",
       "      <td>0.000000</td>\n",
       "      <td>0.894427</td>\n",
       "      <td>0.447214</td>\n",
       "      <td>0.000000</td>\n",
       "      <td>0.000000</td>\n",
       "      <td>0.000000</td>\n",
       "    </tr>\n",
       "    <tr>\n",
       "      <th>3</th>\n",
       "      <td>0.422247</td>\n",
       "      <td>0.422247</td>\n",
       "      <td>0.000000</td>\n",
       "      <td>0.422247</td>\n",
       "      <td>0.000000</td>\n",
       "      <td>0.000000</td>\n",
       "      <td>0.000000</td>\n",
       "      <td>0.422247</td>\n",
       "      <td>0.535566</td>\n",
       "      <td>0.000000</td>\n",
       "    </tr>\n",
       "  </tbody>\n",
       "</table>\n",
       "</div>"
      ],
      "text/plain": [
       "         나는        딸기        마트       먹겠다       비싸다        사과        아침  \\\n",
       "0  0.000000  0.414289  0.525473  0.000000  0.525473  0.000000  0.000000   \n",
       "1  0.447214  0.000000  0.000000  0.447214  0.000000  0.447214  0.447214   \n",
       "2  0.000000  0.000000  0.000000  0.000000  0.000000  0.894427  0.447214   \n",
       "3  0.422247  0.422247  0.000000  0.422247  0.000000  0.000000  0.000000   \n",
       "\n",
       "         오늘        저녁        진짜  \n",
       "0  0.000000  0.000000  0.525473  \n",
       "1  0.447214  0.000000  0.000000  \n",
       "2  0.000000  0.000000  0.000000  \n",
       "3  0.422247  0.535566  0.000000  "
      ]
     },
     "execution_count": 118,
     "metadata": {},
     "output_type": "execute_result"
    }
   ],
   "source": [
    "pd.DataFrame(arr, columns=col)"
   ]
  },
  {
   "cell_type": "code",
   "execution_count": null,
   "id": "8dc74238-d3c9-4278-b58d-86d961c4e9a8",
   "metadata": {},
   "outputs": [],
   "source": []
  },
  {
   "cell_type": "code",
   "execution_count": 120,
   "id": "a98dd7ee-234a-4119-b6dd-ba6abc9714a3",
   "metadata": {},
   "outputs": [],
   "source": [
    "f = open('./강경애-원고료_이백원-신가정.txt', 'r', encoding='utf8')"
   ]
  },
  {
   "cell_type": "code",
   "execution_count": 122,
   "id": "74538048-e5cb-46f7-a02c-dad4f93feebe",
   "metadata": {},
   "outputs": [],
   "source": [
    "txt = f.readlines()"
   ]
  },
  {
   "cell_type": "code",
   "execution_count": 130,
   "id": "6192dfb4-5b6a-440a-937d-a3aa811031e8",
   "metadata": {},
   "outputs": [],
   "source": [
    "txt2 = ' '.join(txt).split('.\\n')"
   ]
  },
  {
   "cell_type": "code",
   "execution_count": 136,
   "id": "017e427a-2c7a-4ebe-885f-2edf968201a7",
   "metadata": {},
   "outputs": [],
   "source": [
    "txt2 = [t + '.' for t in txt2]"
   ]
  },
  {
   "cell_type": "code",
   "execution_count": 138,
   "id": "484764f3-99f9-4d1a-8fee-4a569c47ea54",
   "metadata": {},
   "outputs": [
    {
     "data": {
      "text/plain": [
       "'  K야, 너도 짐작하는지 모르겠다마는! 나는 어려서부터 순조롭지 못한 가정\\n 에서 자랐고 또 커서까지라도 순경에 처하지 못한 나는 그나마 쥐꼬리만큼\\n 배운 이 지식까지라도 우리 형부의 덕이었니라. 그러니 어려서부터 명일빔\\n 한 벌 색들여 못 입어 봤으며 먹는 것이란 언제나 조밥이었구나. 그러고 학\\n 교에 다니면서도 맘대로 학용품을 어디 써보았겠니. 학기초마다 책을 못 사\\n 서 울고 울다가는 겨우 남의 낡은 책을 얻어 가졌으며 종이와 붓이 없어 나\\n 의 조고만 가슴은 그 몇 번이나 달막거리었는지 모른다.'"
      ]
     },
     "execution_count": 138,
     "metadata": {},
     "output_type": "execute_result"
    }
   ],
   "source": [
    "txt2[5]"
   ]
  },
  {
   "cell_type": "code",
   "execution_count": 140,
   "id": "99e9183a-ca2a-4056-a1c2-812820fa62d1",
   "metadata": {},
   "outputs": [],
   "source": [
    "from konlpy.tag import Okt"
   ]
  },
  {
   "cell_type": "code",
   "execution_count": 142,
   "id": "b73ace4a-044f-4b1a-a30f-742c93891a45",
   "metadata": {},
   "outputs": [],
   "source": [
    "okt = Okt()"
   ]
  },
  {
   "cell_type": "code",
   "execution_count": 148,
   "id": "78e5db8d-ff19-4fd5-9be7-eb2ae648bde0",
   "metadata": {},
   "outputs": [],
   "source": [
    "target = [okt.nouns(t) for t in txt2[5:25]]"
   ]
  },
  {
   "cell_type": "code",
   "execution_count": 152,
   "id": "38403e2b-ff8f-431d-a49c-02a51cb0ec46",
   "metadata": {},
   "outputs": [],
   "source": [
    "vec = TfidfVectorizer()"
   ]
  },
  {
   "cell_type": "code",
   "execution_count": 172,
   "id": "cfcedddc-5b93-4222-87f2-bb2a894d2c9e",
   "metadata": {},
   "outputs": [],
   "source": [
    "target2 = [' '.join(t) for t in target]"
   ]
  },
  {
   "cell_type": "code",
   "execution_count": 174,
   "id": "afeb522e-8560-4492-a893-3d8d8183426e",
   "metadata": {},
   "outputs": [],
   "source": [
    "target_matrix = vec.fit_transform(target2)"
   ]
  },
  {
   "cell_type": "code",
   "execution_count": 182,
   "id": "1a3926a5-b8e0-42c8-ae36-6bc593f6e577",
   "metadata": {},
   "outputs": [],
   "source": [
    "df_val = target_matrix.toarray()"
   ]
  },
  {
   "cell_type": "code",
   "execution_count": 184,
   "id": "0f451175-9f6a-4434-ac30-6ae6bc48360b",
   "metadata": {},
   "outputs": [],
   "source": [
    "df_col = vec.get_feature_names_out()"
   ]
  },
  {
   "cell_type": "code",
   "execution_count": 186,
   "id": "342ea86e-d5c4-4d68-be07-065e1698c292",
   "metadata": {},
   "outputs": [],
   "source": [
    "df = pd.DataFrame(df_val, columns=df_col)"
   ]
  },
  {
   "cell_type": "code",
   "execution_count": 202,
   "id": "b4c652a7-9d99-4930-a23f-304325334c03",
   "metadata": {},
   "outputs": [
    {
     "name": "stdout",
     "output_type": "stream",
     "text": [
      "0 0.0\n",
      "1 0.0\n",
      "2 0.0\n",
      "3 0.0\n",
      "4 0.0\n",
      "5 0.0\n",
      "6 0.0\n",
      "7 0.0\n",
      "8 0.0\n",
      "9 0.0\n",
      "10 0.0\n",
      "11 0.0\n",
      "12 0.0\n",
      "13 0.0\n",
      "14 0.0\n",
      "15 0.0\n",
      "16 0.0\n",
      "17 0.0\n",
      "18 0.0\n",
      "19 0.0\n",
      "20 0.0\n",
      "21 0.0\n",
      "22 0.0\n",
      "23 0.0\n",
      "24 0.0\n",
      "25 0.0\n",
      "26 0.0\n",
      "27 0.0\n",
      "28 0.0\n",
      "29 0.0\n",
      "30 0.0\n",
      "31 0.0\n",
      "32 0.0\n",
      "33 0.0\n",
      "34 0.0\n",
      "35 0.0\n",
      "36 0.0\n",
      "37 0.0\n",
      "38 0.0\n",
      "39 0.0\n",
      "40 0.0\n",
      "41 0.0\n",
      "42 0.0\n",
      "43 0.0\n",
      "44 0.0\n",
      "45 0.0\n",
      "46 0.0\n",
      "47 0.0\n",
      "48 0.0\n",
      "49 0.0\n",
      "50 0.0\n",
      "51 0.0\n",
      "52 0.0\n",
      "53 0.0\n",
      "54 0.0\n",
      "55 0.0\n",
      "56 0.0\n",
      "57 0.0\n",
      "58 0.0\n",
      "59 0.0\n",
      "60 0.0\n",
      "61 0.0\n",
      "62 0.0\n",
      "63 0.0\n",
      "64 0.0\n",
      "65 0.7424277384490324\n",
      "66 0.0\n",
      "67 0.0\n",
      "68 0.6699261550211748\n",
      "69 0.0\n",
      "70 0.0\n",
      "71 0.0\n",
      "72 0.0\n",
      "73 0.0\n",
      "74 0.0\n",
      "75 0.0\n",
      "76 0.0\n",
      "77 0.0\n",
      "78 0.0\n",
      "79 0.0\n",
      "80 0.0\n",
      "81 0.0\n",
      "82 0.0\n",
      "83 0.0\n",
      "84 0.0\n",
      "85 0.0\n",
      "86 0.0\n",
      "87 0.0\n",
      "88 0.0\n",
      "89 0.0\n",
      "90 0.0\n",
      "91 0.0\n",
      "92 0.0\n",
      "93 0.0\n",
      "94 0.0\n",
      "95 0.0\n",
      "96 0.0\n",
      "97 0.0\n",
      "98 0.0\n",
      "99 0.0\n",
      "100 0.0\n",
      "101 0.0\n",
      "102 0.0\n",
      "103 0.0\n",
      "104 0.0\n",
      "105 0.0\n",
      "106 0.0\n",
      "107 0.0\n",
      "108 0.0\n",
      "109 0.0\n",
      "110 0.0\n",
      "111 0.0\n",
      "112 0.0\n",
      "113 0.0\n",
      "114 0.0\n",
      "115 0.0\n",
      "116 0.0\n",
      "117 0.0\n",
      "118 0.0\n",
      "119 0.0\n",
      "120 0.0\n",
      "121 0.0\n",
      "122 0.0\n",
      "123 0.0\n",
      "124 0.0\n",
      "125 0.0\n",
      "126 0.0\n",
      "127 0.0\n",
      "128 0.0\n",
      "129 0.0\n",
      "130 0.0\n",
      "131 0.0\n",
      "132 0.0\n",
      "133 0.0\n",
      "134 0.0\n",
      "135 0.0\n",
      "136 0.0\n",
      "137 0.0\n",
      "138 0.0\n",
      "139 0.0\n",
      "140 0.0\n",
      "141 0.0\n",
      "142 0.0\n",
      "143 0.0\n",
      "144 0.0\n",
      "145 0.0\n",
      "146 0.0\n",
      "147 0.0\n",
      "148 0.0\n",
      "149 0.0\n",
      "150 0.0\n",
      "151 0.0\n",
      "152 0.0\n",
      "153 0.0\n",
      "154 0.0\n",
      "155 0.0\n",
      "156 0.0\n",
      "157 0.0\n",
      "158 0.0\n",
      "159 0.0\n",
      "160 0.0\n",
      "161 0.0\n",
      "162 0.0\n",
      "163 0.0\n",
      "164 0.0\n",
      "165 0.0\n",
      "166 0.0\n",
      "167 0.0\n",
      "168 0.0\n",
      "169 0.0\n",
      "170 0.0\n",
      "171 0.0\n",
      "172 0.0\n",
      "173 0.0\n",
      "174 0.0\n",
      "175 0.0\n",
      "176 0.0\n",
      "177 0.0\n",
      "178 0.0\n",
      "179 0.0\n",
      "180 0.0\n",
      "181 0.0\n",
      "182 0.0\n",
      "183 0.0\n",
      "184 0.0\n",
      "185 0.0\n",
      "186 0.0\n",
      "187 0.0\n",
      "188 0.0\n",
      "189 0.0\n",
      "190 0.0\n",
      "191 0.0\n",
      "192 0.0\n",
      "193 0.0\n",
      "194 0.0\n",
      "195 0.0\n",
      "196 0.0\n",
      "197 0.0\n",
      "198 0.0\n",
      "199 0.0\n",
      "200 0.0\n",
      "201 0.0\n",
      "202 0.0\n",
      "203 0.0\n",
      "204 0.0\n",
      "205 0.0\n",
      "206 0.0\n",
      "207 0.0\n",
      "208 0.0\n",
      "209 0.0\n",
      "210 0.0\n",
      "211 0.0\n",
      "212 0.0\n",
      "213 0.0\n",
      "214 0.0\n",
      "215 0.0\n",
      "216 0.0\n",
      "217 0.0\n",
      "218 0.0\n",
      "219 0.0\n",
      "220 0.0\n",
      "221 0.0\n",
      "222 0.0\n",
      "223 0.0\n",
      "224 0.0\n",
      "225 0.0\n",
      "226 0.0\n",
      "227 0.0\n",
      "228 0.0\n",
      "229 0.0\n",
      "230 0.0\n",
      "231 0.0\n",
      "232 0.0\n",
      "233 0.0\n",
      "234 0.0\n",
      "235 0.0\n",
      "236 0.0\n",
      "237 0.0\n",
      "238 0.0\n",
      "239 0.0\n",
      "240 0.0\n",
      "241 0.0\n",
      "242 0.0\n",
      "243 0.0\n",
      "244 0.0\n",
      "245 0.0\n",
      "246 0.0\n",
      "247 0.0\n",
      "248 0.0\n",
      "249 0.0\n",
      "250 0.0\n",
      "251 0.0\n",
      "252 0.0\n",
      "253 0.0\n",
      "254 0.0\n",
      "255 0.0\n",
      "256 0.0\n",
      "257 0.0\n",
      "258 0.0\n",
      "259 0.0\n",
      "260 0.0\n",
      "261 0.0\n",
      "262 0.0\n",
      "263 0.0\n",
      "264 0.0\n",
      "265 0.0\n",
      "266 0.0\n",
      "267 0.0\n",
      "268 0.0\n",
      "269 0.0\n",
      "270 0.0\n",
      "271 0.0\n",
      "272 0.0\n",
      "273 0.0\n",
      "274 0.0\n",
      "275 0.0\n",
      "276 0.0\n",
      "277 0.0\n",
      "278 0.0\n",
      "279 0.0\n",
      "280 0.0\n",
      "281 0.0\n",
      "282 0.0\n",
      "283 0.0\n",
      "284 0.0\n",
      "285 0.0\n",
      "286 0.0\n",
      "287 0.0\n",
      "288 0.0\n",
      "289 0.0\n",
      "290 0.0\n",
      "291 0.0\n",
      "292 0.0\n",
      "293 0.0\n",
      "294 0.0\n",
      "295 0.0\n",
      "296 0.0\n",
      "297 0.0\n",
      "298 0.0\n",
      "299 0.0\n",
      "300 0.0\n",
      "301 0.0\n",
      "302 0.0\n",
      "303 0.0\n",
      "304 0.0\n",
      "305 0.0\n",
      "306 0.0\n",
      "307 0.0\n",
      "308 0.0\n",
      "309 0.0\n",
      "310 0.0\n",
      "311 0.0\n",
      "312 0.0\n",
      "313 0.0\n",
      "314 0.0\n",
      "315 0.0\n",
      "316 0.0\n",
      "317 0.0\n",
      "318 0.0\n",
      "319 0.0\n",
      "320 0.0\n",
      "321 0.0\n",
      "322 0.0\n",
      "323 0.0\n",
      "324 0.0\n"
     ]
    }
   ],
   "source": [
    "for c, v in enumerate(df.iloc[3]):\n",
    "    print(c, v)"
   ]
  },
  {
   "cell_type": "code",
   "execution_count": 198,
   "id": "61e4c9f6-96f5-435d-b72a-f99ffa2c7ad0",
   "metadata": {},
   "outputs": [
    {
     "data": {
      "text/plain": [
       "(0.7424277384490324, 0.6699261550211748)"
      ]
     },
     "execution_count": 198,
     "metadata": {},
     "output_type": "execute_result"
    }
   ],
   "source": [
    "df.iloc[3, 65], df.iloc[3, 68]"
   ]
  },
  {
   "cell_type": "code",
   "execution_count": 200,
   "id": "3c9b6d09-e0d6-4d64-8e97-a1137002ec10",
   "metadata": {},
   "outputs": [
    {
     "data": {
      "text/plain": [
       "('눈사람', '다가')"
      ]
     },
     "execution_count": 200,
     "metadata": {},
     "output_type": "execute_result"
    }
   ],
   "source": [
    "df.columns[65], df.columns[68]"
   ]
  },
  {
   "cell_type": "code",
   "execution_count": 204,
   "id": "2e14412e-7242-45d5-a5de-cd11dab45ae1",
   "metadata": {},
   "outputs": [
    {
     "data": {
      "text/plain": [
       "' 나는 벌을 서면서도 눈사람의 그 입과 그 눈이 우스워서 킥 하고 웃다가 또\\n 울다가 하였다.'"
      ]
     },
     "execution_count": 204,
     "metadata": {},
     "output_type": "execute_result"
    }
   ],
   "source": [
    "txt2[8]"
   ]
  },
  {
   "cell_type": "code",
   "execution_count": null,
   "id": "b455778b-8fa2-4577-84e5-c6af1d22bcc8",
   "metadata": {},
   "outputs": [],
   "source": []
  }
 ],
 "metadata": {
  "kernelspec": {
   "display_name": "Python 3 (ipykernel)",
   "language": "python",
   "name": "python3"
  },
  "language_info": {
   "codemirror_mode": {
    "name": "ipython",
    "version": 3
   },
   "file_extension": ".py",
   "mimetype": "text/x-python",
   "name": "python",
   "nbconvert_exporter": "python",
   "pygments_lexer": "ipython3",
   "version": "3.12.4"
  }
 },
 "nbformat": 4,
 "nbformat_minor": 5
}
