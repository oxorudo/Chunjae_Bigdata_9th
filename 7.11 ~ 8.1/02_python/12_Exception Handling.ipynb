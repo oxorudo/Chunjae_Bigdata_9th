{
 "cells": [
  {
   "cell_type": "code",
   "execution_count": 3,
   "metadata": {},
   "outputs": [
    {
     "name": "stdout",
     "output_type": "stream",
     "text": [
      "에러가 발생했습니다: division by zero\n",
      "코드를 종료합니다\n"
     ]
    }
   ],
   "source": [
    "try:\n",
    "    # 실행할 코드\n",
    "    # 예외가 발생할 수 있는 코드\n",
    "    # 예외가 발생했을 떄 예외 처리를 하고 싶은 코드\n",
    "    n = int(input(\"숫자를 입력하세요 : \"))\n",
    "    x = 10 / n\n",
    "\n",
    "    pass\n",
    "except Exception as e:  # Exception : 예외의 종류\n",
    "    # 예외가 발생했을 때 실행할 코드\n",
    "    print(\"에러가 발생했습니다:\", e)\n",
    "else:\n",
    "    # 예외가 발생안했을 때 실행할 코드\n",
    "    print(x)\n",
    "finally:\n",
    "    # 예외 발생 여부와 상관없이 항상 실행할 코드\n",
    "    print(\"코드를 종료합니다\")"
   ]
  },
  {
   "cell_type": "code",
   "execution_count": 7,
   "metadata": {},
   "outputs": [
    {
     "name": "stdout",
     "output_type": "stream",
     "text": [
      "IndexError가 발생했습니다. list index out of range\n",
      "리스트의 길이 : 11\n"
     ]
    }
   ],
   "source": [
    "# 리스트 인덱싱이 범위를 벗어났을 때 생기는 예외\n",
    "try:\n",
    "    numbers = [0,1,2,3,4,5,6,7,8,9,10]\n",
    "    print(numbers[99])\n",
    "except Exception as e:\n",
    "    print(\"IndexError가 발생했습니다.\", e)\n",
    "finally:\n",
    "    print(f\"리스트의 길이 : {len(numbers)}\")"
   ]
  },
  {
   "cell_type": "code",
   "execution_count": 6,
   "metadata": {},
   "outputs": [
    {
     "name": "stdout",
     "output_type": "stream",
     "text": [
      "정수형으로 변환할 수 없습니다.\n"
     ]
    }
   ],
   "source": [
    "# 예외(except)를 나눠서 작성하는 방법\n",
    "try:\n",
    "    n = int(input(\"숫자를 입력해주세요.\"))\n",
    "    x = 10 / n\n",
    "except ZeroDivisionError as e:\n",
    "    print(\"0으로는 숫자를 나눌 수 없습니다.\")\n",
    "except ValueError as e:\n",
    "    print(\"정수형으로 변환할 수 없습니다.\")\n",
    "else:\n",
    "    print(n)"
   ]
  },
  {
   "cell_type": "markdown",
   "metadata": {},
   "source": [
    "### 예외의 종류\n",
    "\n",
    "`Exception`\n",
    "\n",
    "- 모든 예외의 기본으로 모든 예외에 대해 대응합니다.\n",
    "\n",
    "`ZeroDivisionError`\n",
    "\n",
    "- 0으로 나눴을 때 발생합니다.\n",
    "\n",
    "`AttributeError`\n",
    "\n",
    "- 존재하지 않는 객체 속성을 접근할 때 발생합니다.\n",
    "\n",
    "`IndexError`\n",
    "\n",
    "- 인덱스 범위를 벗어났을때 발생합니다.\n",
    "\n",
    "`SyntaxError`\n",
    "\n",
    "- 문법적 오류가 있을때 발생합니다.\n",
    "\n",
    "`IndentationError`\n",
    "\n",
    "- 들여쓰기가 잘못된 경우 발생합니다.\n",
    "\n",
    "`TypeError`\n",
    "\n",
    "- 연산 또는 함수를 적용할 때 자료형이 옳지않은 경우 발생합니다."
   ]
  }
 ],
 "metadata": {
  "kernelspec": {
   "display_name": "base",
   "language": "python",
   "name": "python3"
  },
  "language_info": {
   "codemirror_mode": {
    "name": "ipython",
    "version": 3
   },
   "file_extension": ".py",
   "mimetype": "text/x-python",
   "name": "python",
   "nbconvert_exporter": "python",
   "pygments_lexer": "ipython3",
   "version": "3.12.3"
  }
 },
 "nbformat": 4,
 "nbformat_minor": 2
}
