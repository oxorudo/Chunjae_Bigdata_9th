{
 "cells": [
  {
   "cell_type": "code",
   "execution_count": 25,
   "metadata": {},
   "outputs": [
    {
     "name": "stdout",
     "output_type": "stream",
     "text": [
      "            Name           Position         Office  Age  Salary\n",
      "0       John Doe  Software Engineer       New York   28   95000\n",
      "1     Jane Smith     Data Scientist  San Francisco   34  125000\n",
      "2    Peter Jones    Project Manager         Berlin   45   75000\n",
      "3   Linda Taylor      HR Specialist         London   32   85000\n",
      "4    Emily Clark     Data Scientist  San Francisco   30  115000\n",
      "5    David Smith  Software Engineer       New York   38  105000\n",
      "6  Michael Brown      HR Specialist         London   41   90000\n",
      "7  Sarah Johnson    Project Manager         Berlin   28   80000\n",
      "          Name           Position         Office  Age  Salary\n",
      "0     John Doe  Software Engineer       New York   28   95000\n",
      "1   Jane Smith     Data Scientist  San Francisco   34  125000\n",
      "2  Peter Jones    Project Manager         Berlin   45   75000\n"
     ]
    }
   ],
   "source": [
    "import pandas as pd\n",
    "\n",
    "data = {\n",
    "    \"Name\": [\n",
    "        \"John Doe\",\n",
    "        \"Jane Smith\",\n",
    "        \"Peter Jones\",\n",
    "        \"Linda Taylor\",\n",
    "        \"Emily Clark\",\n",
    "        \"David Smith\",\n",
    "        \"Michael Brown\",\n",
    "        \"Sarah Johnson\",\n",
    "    ],\n",
    "    \"Position\": [\n",
    "        \"Software Engineer\",\n",
    "        \"Data Scientist\",\n",
    "        \"Project Manager\",\n",
    "        \"HR Specialist\",\n",
    "        \"Data Scientist\",\n",
    "        \"Software Engineer\",\n",
    "        \"HR Specialist\",\n",
    "        \"Project Manager\",\n",
    "    ],\n",
    "    \"Office\": [\n",
    "        \"New York\",\n",
    "        \"San Francisco\",\n",
    "        \"Berlin\",\n",
    "        \"London\",\n",
    "        \"San Francisco\",\n",
    "        \"New York\",\n",
    "        \"London\",\n",
    "        \"Berlin\",\n",
    "    ],\n",
    "    \"Age\": [28, 34, 45, 32, 30, 38, 41, 28],\n",
    "    \"Salary\": [95000, 125000, 75000, 85000, 115000, 105000, 90000, 80000],\n",
    "}\n",
    "\n",
    "df = pd.DataFrame(data)\n",
    "print(df)\n",
    "\n",
    "print(df.head(3))"
   ]
  },
  {
   "cell_type": "code",
   "execution_count": 26,
   "metadata": {},
   "outputs": [
    {
     "name": "stdout",
     "output_type": "stream",
     "text": [
      "           Name           Position         Office  Age  Salary\n",
      "0      John Doe  Software Engineer       New York   28   95000\n",
      "1    Jane Smith     Data Scientist  San Francisco   34  125000\n",
      "2   Peter Jones    Project Manager         Berlin   45   75000\n",
      "3  Linda Taylor      HR Specialist         London   32   85000\n",
      "4   Emily Clark     Data Scientist  San Francisco   30  115000\n",
      "          Name           Position         Office  Age  Salary\n",
      "0     John Doe  Software Engineer       New York   28   95000\n",
      "1   Jane Smith     Data Scientist  San Francisco   34  125000\n",
      "2  Peter Jones    Project Manager         Berlin   45   75000\n",
      "            Name           Position         Office  Age  Salary\n",
      "3   Linda Taylor      HR Specialist         London   32   85000\n",
      "4    Emily Clark     Data Scientist  San Francisco   30  115000\n",
      "5    David Smith  Software Engineer       New York   38  105000\n",
      "6  Michael Brown      HR Specialist         London   41   90000\n",
      "7  Sarah Johnson    Project Manager         Berlin   28   80000\n"
     ]
    }
   ],
   "source": [
    "# head(), tail()\n",
    "# head(n) : 상위 n개의 행을 확인\n",
    "# tail(n) : 하위 n개의 행을 확인\n",
    "\n",
    "# 인자를 주지 않으면 5개의 행을 확인\n",
    "print(df.head())\n",
    "\n",
    "# 상위 3개의 행을 확인\n",
    "print(df.head(3))\n",
    "\n",
    "# 하위 5개의 행을 확인하는 코드 작성\n",
    "print(df.tail(5))"
   ]
  },
  {
   "cell_type": "code",
   "execution_count": 27,
   "metadata": {},
   "outputs": [
    {
     "name": "stdout",
     "output_type": "stream",
     "text": [
      "(8, 5)\n"
     ]
    }
   ],
   "source": [
    "# 데이터프레임 shape\n",
    "\n",
    "shape = df.shape\n",
    "print(shape)"
   ]
  },
  {
   "cell_type": "code",
   "execution_count": 28,
   "metadata": {},
   "outputs": [
    {
     "name": "stdout",
     "output_type": "stream",
     "text": [
      "Name        object\n",
      "Position    object\n",
      "Office      object\n",
      "Age          int64\n",
      "Salary       int64\n",
      "dtype: object\n"
     ]
    }
   ],
   "source": [
    "# 각 열의 데이터 타입을 확인하는 dtypes 속성\n",
    "\n",
    "dtypes = df.dtypes\n",
    "print(dtypes)"
   ]
  },
  {
   "cell_type": "code",
   "execution_count": 29,
   "metadata": {},
   "outputs": [
    {
     "name": "stdout",
     "output_type": "stream",
     "text": [
      "<class 'pandas.core.frame.DataFrame'>\n",
      "RangeIndex: 8 entries, 0 to 7\n",
      "Data columns (total 5 columns):\n",
      " #   Column    Non-Null Count  Dtype \n",
      "---  ------    --------------  ----- \n",
      " 0   Name      8 non-null      object\n",
      " 1   Position  8 non-null      object\n",
      " 2   Office    8 non-null      object\n",
      " 3   Age       8 non-null      int64 \n",
      " 4   Salary    8 non-null      int64 \n",
      "dtypes: int64(2), object(3)\n",
      "memory usage: 452.0+ bytes\n",
      "None\n"
     ]
    }
   ],
   "source": [
    "# 전체적인 요약 정보 info()\n",
    "\n",
    "info = df.info()\n",
    "\n",
    "print(info)"
   ]
  },
  {
   "cell_type": "code",
   "execution_count": 30,
   "metadata": {},
   "outputs": [
    {
     "name": "stdout",
     "output_type": "stream",
     "text": [
      "RangeIndex(start=0, stop=8, step=1)\n",
      "Index(['Name', 'Position', 'Office', 'Age', 'Salary'], dtype='object')\n"
     ]
    }
   ],
   "source": [
    "# 행(index) 와 열(column) 정보 속성\n",
    "\n",
    "index_info = df.index\n",
    "print(index_info)\n",
    "\n",
    "column_info = df.columns\n",
    "print(column_info)"
   ]
  },
  {
   "cell_type": "code",
   "execution_count": 31,
   "metadata": {},
   "outputs": [
    {
     "name": "stdout",
     "output_type": "stream",
     "text": [
      "            Name           Position         Office  Age  Salary\n",
      "2    Peter Jones    Project Manager         Berlin   45   75000\n",
      "7  Sarah Johnson    Project Manager         Berlin   28   80000\n",
      "3   Linda Taylor      HR Specialist         London   32   85000\n",
      "6  Michael Brown      HR Specialist         London   41   90000\n",
      "0       John Doe  Software Engineer       New York   28   95000\n",
      "5    David Smith  Software Engineer       New York   38  105000\n",
      "4    Emily Clark     Data Scientist  San Francisco   30  115000\n",
      "1     Jane Smith     Data Scientist  San Francisco   34  125000\n",
      "            Name           Position         Office  Age  Salary\n",
      "0       John Doe  Software Engineer       New York   28   95000\n",
      "7  Sarah Johnson    Project Manager         Berlin   28   80000\n",
      "4    Emily Clark     Data Scientist  San Francisco   30  115000\n",
      "3   Linda Taylor      HR Specialist         London   32   85000\n",
      "1     Jane Smith     Data Scientist  San Francisco   34  125000\n",
      "5    David Smith  Software Engineer       New York   38  105000\n",
      "6  Michael Brown      HR Specialist         London   41   90000\n",
      "2    Peter Jones    Project Manager         Berlin   45   75000\n"
     ]
    }
   ],
   "source": [
    "# 열을 기준으로 정렬\n",
    "# .sort_values(by = \"열이름\")\n",
    "\n",
    "# 열 Salary 기준으로 정렬\n",
    "print(df.sort_values(by=\"Salary\"))\n",
    "\n",
    "# 열 Age 기준으로 정렬해보자\n",
    "print(df.sort_values(by=\"Age\"))"
   ]
  },
  {
   "cell_type": "code",
   "execution_count": 32,
   "metadata": {},
   "outputs": [
    {
     "name": "stdout",
     "output_type": "stream",
     "text": [
      "            Name           Position         Office  Age  Salary\n",
      "1     Jane Smith     Data Scientist  San Francisco   34  125000\n",
      "4    Emily Clark     Data Scientist  San Francisco   30  115000\n",
      "5    David Smith  Software Engineer       New York   38  105000\n",
      "0       John Doe  Software Engineer       New York   28   95000\n",
      "6  Michael Brown      HR Specialist         London   41   90000\n",
      "3   Linda Taylor      HR Specialist         London   32   85000\n",
      "7  Sarah Johnson    Project Manager         Berlin   28   80000\n",
      "2    Peter Jones    Project Manager         Berlin   45   75000\n"
     ]
    }
   ],
   "source": [
    "# 열 Salary 기준으로 내림차순으로 정렬\n",
    "print(df.sort_values(by=\"Salary\", ascending=False))"
   ]
  },
  {
   "cell_type": "code",
   "execution_count": 34,
   "metadata": {},
   "outputs": [
    {
     "name": "stdout",
     "output_type": "stream",
     "text": [
      "            Name           Position         Office  Age  Salary\n",
      "7  Sarah Johnson    Project Manager         Berlin   28   80000\n",
      "0       John Doe  Software Engineer       New York   28   95000\n",
      "4    Emily Clark     Data Scientist  San Francisco   30  115000\n",
      "3   Linda Taylor      HR Specialist         London   32   85000\n",
      "1     Jane Smith     Data Scientist  San Francisco   34  125000\n",
      "5    David Smith  Software Engineer       New York   38  105000\n",
      "6  Michael Brown      HR Specialist         London   41   90000\n",
      "2    Peter Jones    Project Manager         Berlin   45   75000\n"
     ]
    }
   ],
   "source": [
    "# 2개 이상의 열을 기준으로 정렬\n",
    "# 기준이 되는 열들을 리스트에 저장해서 인자로 전달\n",
    "# 열 Age, 열 Salary 기준으로 정렬하는 코드를 작성\n",
    "print(df.sort_values(by=[\"Age\", \"Salary\"]))"
   ]
  },
  {
   "cell_type": "code",
   "execution_count": 35,
   "metadata": {},
   "outputs": [
    {
     "name": "stdout",
     "output_type": "stream",
     "text": [
      "            Name           Position         Office  Age  Salary\n",
      "0       John Doe  Software Engineer       New York   28   95000\n",
      "1     Jane Smith     Data Scientist  San Francisco   34  125000\n",
      "2    Peter Jones    Project Manager         Berlin   45   75000\n",
      "3   Linda Taylor      HR Specialist         London   32   85000\n",
      "4    Emily Clark     Data Scientist  San Francisco   30  115000\n",
      "5    David Smith  Software Engineer       New York   38  105000\n",
      "6  Michael Brown      HR Specialist         London   41   90000\n",
      "7  Sarah Johnson    Project Manager         Berlin   28   80000\n"
     ]
    }
   ],
   "source": [
    "# 인덱스(행) 기준 정렬\n",
    "new_df = df.sort_values(by=[\"Age\", \"Salary\"]) # 위에 코드는 인덱스가 뒤죽박죽이다.\n",
    "print(new_df.sort_index()) # sort_index로 index 기준으로 정렬한다."
   ]
  }
 ],
 "metadata": {
  "kernelspec": {
   "display_name": "base",
   "language": "python",
   "name": "python3"
  },
  "language_info": {
   "codemirror_mode": {
    "name": "ipython",
    "version": 3
   },
   "file_extension": ".py",
   "mimetype": "text/x-python",
   "name": "python",
   "nbconvert_exporter": "python",
   "pygments_lexer": "ipython3",
   "version": "3.12.4"
  }
 },
 "nbformat": 4,
 "nbformat_minor": 2
}
