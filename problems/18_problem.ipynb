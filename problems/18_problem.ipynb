{
 "cells": [
  {
   "cell_type": "code",
   "execution_count": 34,
   "metadata": {},
   "outputs": [
    {
     "name": "stdout",
     "output_type": "stream",
     "text": [
      "     학생ID      이름  나이     전공  학년    학점\n",
      "0       1     학생1  25    물리학   2  3.44\n",
      "1       2     학생2  20  컴퓨터공학   1  3.22\n",
      "2       3     학생3  23    물리학   2  3.38\n",
      "3       4     학생4  23   전자공학   3  1.36\n",
      "4       5     학생5  27  컴퓨터공학   2  3.65\n",
      "..    ...     ...  ..    ...  ..   ...\n",
      "995   996   학생996  24    생물학   2  2.28\n",
      "996   997   학생997  21    물리학   1  1.89\n",
      "997   998   학생998  21    물리학   3  3.58\n",
      "998   999   학생999  21    물리학   4  1.79\n",
      "999  1000  학생1000  27    생물학   2  3.96\n",
      "\n",
      "[1000 rows x 6 columns]\n"
     ]
    }
   ],
   "source": [
    "import pandas as pd\n",
    "import numpy as np\n",
    "\n",
    "np.random.seed(0)\n",
    "\n",
    "# 학생 수\n",
    "num_students = 1000\n",
    "\n",
    "# 데이터프레임 생성\n",
    "df = pd.DataFrame(\n",
    "    {\n",
    "        \"학생ID\": np.arange(1, num_students + 1),\n",
    "        \"이름\": [f\"학생{i}\" for i in range(1, num_students + 1)],\n",
    "        \"나이\": np.random.randint(20, 30, size=num_students),\n",
    "        \"전공\": np.random.choice(\n",
    "            [\"컴퓨터공학\", \"물리학\", \"전자공학\", \"수학\", \"화학\", \"생물학\"],\n",
    "            size=num_students,\n",
    "        ),\n",
    "        \"학년\": np.random.randint(1, 5, size=num_students),\n",
    "        \"학점\": np.round(np.random.uniform(1.0, 4.5, size=num_students), 2),\n",
    "    }\n",
    ")\n",
    "print(df)"
   ]
  },
  {
   "cell_type": "markdown",
   "metadata": {},
   "source": [
    "### (2) 데이터 요약\n",
    "\n",
    "1. 전공별 평균 학점을 출력하세요.\n",
    "    \n",
    "    ```bash\n",
    "    전공\n",
    "    물리학      2.816265\n",
    "    생물학      2.787976\n",
    "    수학       2.721966\n",
    "    전자공학     2.897711\n",
    "    컴퓨터공학    2.835890\n",
    "    화학       2.621887\n",
    "    Name: 학점, dtype: float64\n",
    "    ```\n",
    "    \n",
    "2. 학년별 평균 학점을 출력하세요.\n",
    "    \n",
    "    ```bash\n",
    "    학년\n",
    "    1    2.803766\n",
    "    2    2.864941\n",
    "    3    2.762008\n",
    "    4    2.695253\n",
    "    Name: 학점, dtype: float64\n",
    "    ```\n",
    "    \n",
    "3. 전공 및 학년별 평균 학점을 출력하세요.\n",
    "    \n",
    "    ```bash\n",
    "    전공     학년\n",
    "    물리학    1     2.897407\n",
    "           2     2.855581\n",
    "           3     2.890612\n",
    "           4     2.656170\n",
    "    생물학    1     2.670513\n",
    "           2     2.866863\n",
    "           3     2.804857\n",
    "           4     2.787209\n",
    "    수학     1     2.646078\n",
    "           2     2.822353\n",
    "           3     2.695106\n",
    "           4     2.759348\n",
    "    전자공학   1     3.326857\n",
    "           2     2.913043\n",
    "           3     2.758571\n",
    "           4     2.650278\n",
    "    컴퓨터공학  1     3.004750\n",
    "           2     2.816944\n",
    "           3     2.870732\n",
    "           4     2.672826\n",
    "    화학     1     2.402821\n",
    "           2     2.894419\n",
    "           3     2.526579\n",
    "           4     2.633333\n",
    "    Name: 학점, dtype: float64\n",
    "    ```\n",
    "    \n",
    "4. 각 전공별 최고 학점을 출력하세요.\n",
    "    \n",
    "    ```bash\n",
    "    전공\n",
    "    물리학      4.49\n",
    "    생물학      4.49\n",
    "    수학       4.46\n",
    "    전자공학     4.44\n",
    "    컴퓨터공학    4.50\n",
    "    화학       4.43\n",
    "    Name: 학점, dtype: float64\n",
    "    ```\n",
    "    \n",
    "5. 전공별 학생ID의 수, 나이의 평균, 학점의 평균을 출력하세요.\n",
    "    \n",
    "    ```bash\n",
    "           학생ID         나이        학점\n",
    "    전공                              \n",
    "    물리학     166  24.391566  2.816265\n",
    "    생물학     168  24.666667  2.787976\n",
    "    수학      178  24.483146  2.721966\n",
    "    전자공학    166  24.343373  2.897711\n",
    "    컴퓨터공학   163  24.294479  2.835890\n",
    "    화학      159  24.477987  2.621887\n",
    "    ```\n",
    "    \n",
    "6. 학년별 학생ID의 수, 학점의 최댓값, 학점의 최소값을 출력하세요.\n",
    "    \n",
    "    ```bash\n",
    "        학생ID    학점      \n",
    "       count   max   min\n",
    "    학년                  \n",
    "    1    231  4.46  1.05\n",
    "    2    253  4.49  1.00\n",
    "    3    259  4.49  1.02\n",
    "    4    257  4.50  1.01\n",
    "    ```"
   ]
  },
  {
   "cell_type": "code",
   "execution_count": 35,
   "metadata": {},
   "outputs": [
    {
     "name": "stdout",
     "output_type": "stream",
     "text": [
      "전공\n",
      "물리학      2.816265\n",
      "생물학      2.787976\n",
      "수학       2.721966\n",
      "전자공학     2.897711\n",
      "컴퓨터공학    2.835890\n",
      "화학       2.621887\n",
      "Name: 학점, dtype: float64\n"
     ]
    }
   ],
   "source": [
    "group = df.groupby(\"전공\")\n",
    "\n",
    "print(group[\"학점\"].mean())"
   ]
  },
  {
   "cell_type": "code",
   "execution_count": 36,
   "metadata": {},
   "outputs": [
    {
     "name": "stdout",
     "output_type": "stream",
     "text": [
      "학년\n",
      "1    2.803766\n",
      "2    2.864941\n",
      "3    2.762008\n",
      "4    2.695253\n",
      "Name: 학점, dtype: float64\n"
     ]
    }
   ],
   "source": [
    "group = df.groupby(\"학년\")\n",
    "\n",
    "print(group[\"학점\"].mean())"
   ]
  },
  {
   "cell_type": "code",
   "execution_count": 37,
   "metadata": {},
   "outputs": [
    {
     "name": "stdout",
     "output_type": "stream",
     "text": [
      "전공     학년\n",
      "물리학    1     2.897407\n",
      "       2     2.855581\n",
      "       3     2.890612\n",
      "       4     2.656170\n",
      "생물학    1     2.670513\n",
      "       2     2.866863\n",
      "       3     2.804857\n",
      "       4     2.787209\n",
      "수학     1     2.646078\n",
      "       2     2.822353\n",
      "       3     2.695106\n",
      "       4     2.759348\n",
      "전자공학   1     3.326857\n",
      "       2     2.913043\n",
      "       3     2.758571\n",
      "       4     2.650278\n",
      "컴퓨터공학  1     3.004750\n",
      "       2     2.816944\n",
      "       3     2.870732\n",
      "       4     2.672826\n",
      "화학     1     2.402821\n",
      "       2     2.894419\n",
      "       3     2.526579\n",
      "       4     2.633333\n",
      "Name: 학점, dtype: float64\n"
     ]
    }
   ],
   "source": [
    "group = df.groupby([\"전공\", \"학년\"])\n",
    "\n",
    "print(group[\"학점\"].mean())"
   ]
  },
  {
   "cell_type": "code",
   "execution_count": 38,
   "metadata": {},
   "outputs": [
    {
     "name": "stdout",
     "output_type": "stream",
     "text": [
      "전공\n",
      "물리학      4.49\n",
      "생물학      4.49\n",
      "수학       4.46\n",
      "전자공학     4.44\n",
      "컴퓨터공학    4.50\n",
      "화학       4.43\n",
      "Name: 학점, dtype: float64\n"
     ]
    }
   ],
   "source": [
    "group = df.groupby(\"전공\")\n",
    "\n",
    "print(group[\"학점\"].max())"
   ]
  },
  {
   "cell_type": "code",
   "execution_count": 39,
   "metadata": {},
   "outputs": [
    {
     "name": "stdout",
     "output_type": "stream",
     "text": [
      "       학생ID         나이        학점\n",
      "전공                              \n",
      "물리학     166  24.391566  2.816265\n",
      "생물학     168  24.666667  2.787976\n",
      "수학      178  24.483146  2.721966\n",
      "전자공학    166  24.343373  2.897711\n",
      "컴퓨터공학   163  24.294479  2.835890\n",
      "화학      159  24.477987  2.621887\n"
     ]
    }
   ],
   "source": [
    "group.agg({\"학생ID\": \"count\", \"나이\": \"mean\", \"학점\": \"mean\"})\n",
    "\n",
    "print(group.agg({\"학생ID\": \"count\", \"나이\": \"mean\", \"학점\": \"mean\"}))"
   ]
  },
  {
   "cell_type": "code",
   "execution_count": 40,
   "metadata": {},
   "outputs": [
    {
     "name": "stdout",
     "output_type": "stream",
     "text": [
      "    학생ID    학점      \n",
      "   count   max   min\n",
      "학년                  \n",
      "1    231  4.46  1.05\n",
      "2    253  4.49  1.00\n",
      "3    259  4.49  1.02\n",
      "4    257  4.50  1.01\n"
     ]
    }
   ],
   "source": [
    "group = df.groupby(\"학년\")\n",
    "\n",
    "print(group.agg({\"학생ID\": \"count\", \"학점\": [\"max\", \"min\"]}))"
   ]
  }
 ],
 "metadata": {
  "kernelspec": {
   "display_name": "base",
   "language": "python",
   "name": "python3"
  },
  "language_info": {
   "codemirror_mode": {
    "name": "ipython",
    "version": 3
   },
   "file_extension": ".py",
   "mimetype": "text/x-python",
   "name": "python",
   "nbconvert_exporter": "python",
   "pygments_lexer": "ipython3",
   "version": "3.12.4"
  }
 },
 "nbformat": 4,
 "nbformat_minor": 2
}
