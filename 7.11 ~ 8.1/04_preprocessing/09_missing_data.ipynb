{
 "cells": [
  {
   "cell_type": "code",
   "execution_count": 1,
   "metadata": {},
   "outputs": [],
   "source": [
    "import numpy as np\n",
    "import pandas as pd\n",
    "\n",
    "\n",
    "data = {\n",
    "    \"학생\": [\n",
    "        \"이순신\",\n",
    "        \"세종대왕\",\n",
    "        \"윤봉길\",\n",
    "        \"안중근\",\n",
    "        \"김구\",\n",
    "        \"강감찬\",\n",
    "        \"유관순\",\n",
    "        \"장영실\",\n",
    "        \"이성계\",\n",
    "        \"이황\",\n",
    "    ],\n",
    "    \"국어\": [85, 92, np.nan, 88, 76, 95, np.nan, 90, 80, np.nan],\n",
    "    \"수학\": [78, 85, 88, np.nan, 90, 85, 93, np.nan, 82, 77],\n",
    "    \"영어\": [92, np.nan, 85, 89, 94, 90, np.nan, 88, 84, 79],\n",
    "    \"과학\": [np.nan, 89, 90, 85, 87, 93, 92, 90, np.nan, 88],\n",
    "}\n",
    "\n",
    "df = pd.DataFrame(data)"
   ]
  },
  {
   "cell_type": "code",
   "execution_count": 4,
   "metadata": {},
   "outputs": [
    {
     "name": "stdout",
     "output_type": "stream",
     "text": [
      "학생    0\n",
      "국어    3\n",
      "수학    2\n",
      "영어    2\n",
      "과학    2\n",
      "dtype: int64\n"
     ]
    }
   ],
   "source": [
    "# 1. 결측치 확인\n",
    "print(df.isnull().sum())  # 몇개 있는지 확인"
   ]
  },
  {
   "cell_type": "code",
   "execution_count": 8,
   "metadata": {},
   "outputs": [
    {
     "name": "stdout",
     "output_type": "stream",
     "text": [
      "    학생    국어    수학    영어    과학\n",
      "4   김구  76.0  90.0  94.0  87.0\n",
      "5  강감찬  95.0  85.0  90.0  93.0\n"
     ]
    }
   ],
   "source": [
    "# 결측치 제거\n",
    "\n",
    "# 1. 결측치가 있는 행을 제거하는 방법\n",
    "df_cleaned = df.dropna(axis=\"index\")\n",
    "\n",
    "print(df_cleaned)"
   ]
  },
  {
   "cell_type": "code",
   "execution_count": 10,
   "metadata": {},
   "outputs": [
    {
     "name": "stdout",
     "output_type": "stream",
     "text": [
      "     학생\n",
      "0   이순신\n",
      "1  세종대왕\n",
      "2   윤봉길\n",
      "3   안중근\n",
      "4    김구\n",
      "5   강감찬\n",
      "6   유관순\n",
      "7   장영실\n",
      "8   이성계\n",
      "9    이황\n"
     ]
    }
   ],
   "source": [
    "# 2.  결측치가 있는 열을 제거하는 방법\n",
    "df_cleaned = df.dropna(axis=\"columns\")\n",
    "\n",
    "print(df_cleaned)"
   ]
  },
  {
   "cell_type": "code",
   "execution_count": 17,
   "metadata": {},
   "outputs": [
    {
     "name": "stdout",
     "output_type": "stream",
     "text": [
      "    학생    국어    수학    영어    과학\n",
      "0  이순신  85.0  78.0  92.0   NaN\n",
      "2  윤봉길   NaN  88.0  85.0  90.0\n",
      "4   김구  76.0  90.0  94.0  87.0\n",
      "5  강감찬  95.0  85.0  90.0  93.0\n",
      "8  이성계  80.0  82.0  84.0   NaN\n",
      "9   이황   NaN  77.0  79.0  88.0\n"
     ]
    }
   ],
   "source": [
    "# 3. 일부 열에 대해 결측치가 있을 때 행을 제거하는 방법\n",
    "# subset = [\"열1\",\"열2\"]\n",
    "\n",
    "# 수학, 영어 열에 대한 결측치가 있을 때 행을 제거하는 코드를 짜보자\n",
    "df_cleaned = df.dropna(axis=0, subset=[\"수학\", \"영어\"])\n",
    "print(df_cleaned)"
   ]
  },
  {
   "cell_type": "code",
   "execution_count": 24,
   "metadata": {},
   "outputs": [
    {
     "name": "stdout",
     "output_type": "stream",
     "text": [
      "     학생    국어    수학    영어    과학\n",
      "0   이순신  85.0  78.0  92.0   NaN\n",
      "1  세종대왕  92.0  85.0   NaN  89.0\n",
      "2   윤봉길  50.0  88.0  85.0  90.0\n",
      "3   안중근  88.0   NaN  89.0  85.0\n",
      "4    김구  76.0  90.0  94.0  87.0\n",
      "5   강감찬  95.0  85.0  90.0  93.0\n",
      "6   유관순  50.0  93.0   NaN  92.0\n",
      "7   장영실  90.0   NaN  88.0  90.0\n",
      "8   이성계  80.0  82.0  84.0   NaN\n",
      "9    이황  50.0  77.0  79.0  88.0\n"
     ]
    }
   ],
   "source": [
    "# 결측치 대체\n",
    "\n",
    "# 1. 특정 열 결측치를 고정값으로 대체\n",
    "# 데이터프레임 복사\n",
    "df_replace = df.copy()\n",
    "\n",
    "df_replace[\"국어\"] = df[\"국어\"].fillna(50)\n",
    "print(df_replace)"
   ]
  },
  {
   "cell_type": "code",
   "execution_count": 30,
   "metadata": {},
   "outputs": [
    {
     "data": {
      "text/html": [
       "<div>\n",
       "<style scoped>\n",
       "    .dataframe tbody tr th:only-of-type {\n",
       "        vertical-align: middle;\n",
       "    }\n",
       "\n",
       "    .dataframe tbody tr th {\n",
       "        vertical-align: top;\n",
       "    }\n",
       "\n",
       "    .dataframe thead th {\n",
       "        text-align: right;\n",
       "    }\n",
       "</style>\n",
       "<table border=\"1\" class=\"dataframe\">\n",
       "  <thead>\n",
       "    <tr style=\"text-align: right;\">\n",
       "      <th></th>\n",
       "      <th>학생</th>\n",
       "      <th>국어</th>\n",
       "      <th>수학</th>\n",
       "      <th>영어</th>\n",
       "      <th>과학</th>\n",
       "    </tr>\n",
       "  </thead>\n",
       "  <tbody>\n",
       "    <tr>\n",
       "      <th>0</th>\n",
       "      <td>이순신</td>\n",
       "      <td>85.0</td>\n",
       "      <td>78.00</td>\n",
       "      <td>92.0</td>\n",
       "      <td>89.5</td>\n",
       "    </tr>\n",
       "    <tr>\n",
       "      <th>1</th>\n",
       "      <td>세종대왕</td>\n",
       "      <td>92.0</td>\n",
       "      <td>85.00</td>\n",
       "      <td>NaN</td>\n",
       "      <td>89.0</td>\n",
       "    </tr>\n",
       "    <tr>\n",
       "      <th>2</th>\n",
       "      <td>윤봉길</td>\n",
       "      <td>50.0</td>\n",
       "      <td>88.00</td>\n",
       "      <td>85.0</td>\n",
       "      <td>90.0</td>\n",
       "    </tr>\n",
       "    <tr>\n",
       "      <th>3</th>\n",
       "      <td>안중근</td>\n",
       "      <td>88.0</td>\n",
       "      <td>84.75</td>\n",
       "      <td>89.0</td>\n",
       "      <td>85.0</td>\n",
       "    </tr>\n",
       "    <tr>\n",
       "      <th>4</th>\n",
       "      <td>김구</td>\n",
       "      <td>76.0</td>\n",
       "      <td>90.00</td>\n",
       "      <td>94.0</td>\n",
       "      <td>87.0</td>\n",
       "    </tr>\n",
       "    <tr>\n",
       "      <th>5</th>\n",
       "      <td>강감찬</td>\n",
       "      <td>95.0</td>\n",
       "      <td>85.00</td>\n",
       "      <td>90.0</td>\n",
       "      <td>93.0</td>\n",
       "    </tr>\n",
       "    <tr>\n",
       "      <th>6</th>\n",
       "      <td>유관순</td>\n",
       "      <td>50.0</td>\n",
       "      <td>93.00</td>\n",
       "      <td>NaN</td>\n",
       "      <td>92.0</td>\n",
       "    </tr>\n",
       "    <tr>\n",
       "      <th>7</th>\n",
       "      <td>장영실</td>\n",
       "      <td>90.0</td>\n",
       "      <td>84.75</td>\n",
       "      <td>88.0</td>\n",
       "      <td>90.0</td>\n",
       "    </tr>\n",
       "    <tr>\n",
       "      <th>8</th>\n",
       "      <td>이성계</td>\n",
       "      <td>80.0</td>\n",
       "      <td>82.00</td>\n",
       "      <td>84.0</td>\n",
       "      <td>89.5</td>\n",
       "    </tr>\n",
       "    <tr>\n",
       "      <th>9</th>\n",
       "      <td>이황</td>\n",
       "      <td>50.0</td>\n",
       "      <td>77.00</td>\n",
       "      <td>79.0</td>\n",
       "      <td>88.0</td>\n",
       "    </tr>\n",
       "  </tbody>\n",
       "</table>\n",
       "</div>"
      ],
      "text/plain": [
       "     학생    국어     수학    영어    과학\n",
       "0   이순신  85.0  78.00  92.0  89.5\n",
       "1  세종대왕  92.0  85.00   NaN  89.0\n",
       "2   윤봉길  50.0  88.00  85.0  90.0\n",
       "3   안중근  88.0  84.75  89.0  85.0\n",
       "4    김구  76.0  90.00  94.0  87.0\n",
       "5   강감찬  95.0  85.00  90.0  93.0\n",
       "6   유관순  50.0  93.00   NaN  92.0\n",
       "7   장영실  90.0  84.75  88.0  90.0\n",
       "8   이성계  80.0  82.00  84.0  89.5\n",
       "9    이황  50.0  77.00  79.0  88.0"
      ]
     },
     "execution_count": 30,
     "metadata": {},
     "output_type": "execute_result"
    }
   ],
   "source": [
    "# 2. 산술 연산(평균, 중앙값) 대체\n",
    "\n",
    "# 수학 데이터들의 평균값으로 대체\n",
    "df_replace[\"수학\"] = df[\"수학\"].fillna(df[\"수학\"].mean())\n",
    "\n",
    "# 수학 데이터들의 중앙값으로 대체\n",
    "df_replace[\"과학\"] = df[\"과학\"].fillna(df[\"과학\"].median())\n",
    "\n",
    "df_replace"
   ]
  },
  {
   "cell_type": "code",
   "execution_count": 32,
   "metadata": {},
   "outputs": [
    {
     "name": "stdout",
     "output_type": "stream",
     "text": [
      "     학생    국어     수학    영어    과학\n",
      "0   이순신  85.0  78.00  92.0  89.5\n",
      "1  세종대왕  92.0  85.00  84.0  89.0\n",
      "2   윤봉길  50.0  88.00  85.0  90.0\n",
      "3   안중근  88.0  84.75  89.0  85.0\n",
      "4    김구  76.0  90.00  94.0  87.0\n",
      "5   강감찬  95.0  85.00  90.0  93.0\n",
      "6   유관순  50.0  93.00  92.0  92.0\n",
      "7   장영실  90.0  84.75  88.0  90.0\n",
      "8   이성계  80.0  82.00  84.0  89.5\n",
      "9    이황  50.0  77.00  79.0  88.0\n"
     ]
    }
   ],
   "source": [
    "# 3. 최빈값 mode()\n",
    "df_replace[\"영어\"] = df[\"영어\"].fillna(\n",
    "    df[\"영어\"].mode(\"영어\"[0])\n",
    ")  # 최빈값이 여러개일경우 맨 처음 값을 가져온다.\n",
    "print(df_replace)"
   ]
  }
 ],
 "metadata": {
  "kernelspec": {
   "display_name": "base",
   "language": "python",
   "name": "python3"
  },
  "language_info": {
   "codemirror_mode": {
    "name": "ipython",
    "version": 3
   },
   "file_extension": ".py",
   "mimetype": "text/x-python",
   "name": "python",
   "nbconvert_exporter": "python",
   "pygments_lexer": "ipython3",
   "version": "3.12.4"
  }
 },
 "nbformat": 4,
 "nbformat_minor": 2
}
