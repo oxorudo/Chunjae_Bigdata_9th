{
 "cells": [
  {
   "cell_type": "code",
   "execution_count": 30,
   "metadata": {},
   "outputs": [
    {
     "name": "stdout",
     "output_type": "stream",
     "text": [
      "MoviePy - Writing audio in extracted_audio1.mp3\n"
     ]
    },
    {
     "name": "stderr",
     "output_type": "stream",
     "text": [
      "                                                                      \r"
     ]
    },
    {
     "name": "stdout",
     "output_type": "stream",
     "text": [
      "MoviePy - Done.\n",
      "음성 파일이 extracted_audio1.mp3에 저장되었습니다.\n",
      "MoviePy - Writing audio in extracted_audio2.mp3\n"
     ]
    },
    {
     "name": "stderr",
     "output_type": "stream",
     "text": [
      "                                                                      \r"
     ]
    },
    {
     "name": "stdout",
     "output_type": "stream",
     "text": [
      "MoviePy - Done.\n",
      "음성 파일이 extracted_audio2.mp3에 저장되었습니다.\n",
      "MoviePy - Writing audio in extracted_audio3.mp3\n"
     ]
    },
    {
     "name": "stderr",
     "output_type": "stream",
     "text": [
      "                                                                      \r"
     ]
    },
    {
     "name": "stdout",
     "output_type": "stream",
     "text": [
      "MoviePy - Done.\n",
      "음성 파일이 extracted_audio3.mp3에 저장되었습니다.\n",
      "MoviePy - Writing audio in extracted_audio4.mp3\n"
     ]
    },
    {
     "name": "stderr",
     "output_type": "stream",
     "text": [
      "                                                                      "
     ]
    },
    {
     "name": "stdout",
     "output_type": "stream",
     "text": [
      "MoviePy - Done.\n",
      "음성 파일이 extracted_audio4.mp3에 저장되었습니다.\n"
     ]
    },
    {
     "name": "stderr",
     "output_type": "stream",
     "text": [
      "\r"
     ]
    }
   ],
   "source": [
    "from moviepy.editor import VideoFileClip\n",
    "\n",
    "# 동영상 파일 경로\n",
    "\n",
    "audio_path = []\n",
    "\n",
    "for i in range(0, 4):\n",
    "    video_path = f\"./ebs/y2mate.com - 초등 수학 개념잡기  23강 문제 해결의 여러가지 방법 찾기1   00{i+1}_360P.mp4\"\n",
    "\n",
    "    # 동영상 로드\n",
    "    video = VideoFileClip(video_path)\n",
    "\n",
    "    # 음성 파일로 저장\n",
    "\n",
    "    audio_path.append(f\"extracted_audio{i+1}.mp3\")\n",
    "    video.audio.write_audiofile(audio_path[i])\n",
    "\n",
    "    print(f\"음성 파일이 {audio_path[i]}에 저장되었습니다.\")"
   ]
  },
  {
   "cell_type": "code",
   "execution_count": 31,
   "metadata": {},
   "outputs": [],
   "source": [
    "from moviepy.editor import AudioFileClip\n",
    "import os"
   ]
  },
  {
   "cell_type": "code",
   "execution_count": 34,
   "metadata": {},
   "outputs": [
    {
     "name": "stdout",
     "output_type": "stream",
     "text": [
      "Converting: y2mate.com - 초등 수학 개념잡기  01강 네자리수와 큰 수001_360P.mp4 -> ./ebs_audio/y2mate.com - 초등 수학 개념잡기  01강 네자리수와 큰 수001_360P.mp3\n",
      "MoviePy - Writing audio in ./ebs_audio/y2mate.com - 초등 수학 개념잡기  01강 네자리수와 큰 수001_360P.mp3\n"
     ]
    },
    {
     "name": "stderr",
     "output_type": "stream",
     "text": [
      "                                                                      \r"
     ]
    },
    {
     "name": "stdout",
     "output_type": "stream",
     "text": [
      "MoviePy - Done.\n",
      "Converting: y2mate.com - 초등 수학 개념잡기  01강 네자리수와 큰 수002_360P.mp4 -> ./ebs_audio/y2mate.com - 초등 수학 개념잡기  01강 네자리수와 큰 수002_360P.mp3\n",
      "MoviePy - Writing audio in ./ebs_audio/y2mate.com - 초등 수학 개념잡기  01강 네자리수와 큰 수002_360P.mp3\n"
     ]
    },
    {
     "name": "stderr",
     "output_type": "stream",
     "text": [
      "                                                                      \r"
     ]
    },
    {
     "name": "stdout",
     "output_type": "stream",
     "text": [
      "MoviePy - Done.\n",
      "Converting: y2mate.com - 초등 수학 개념잡기  01강 네자리수와 큰 수003_360P.mp4 -> ./ebs_audio/y2mate.com - 초등 수학 개념잡기  01강 네자리수와 큰 수003_360P.mp3\n",
      "MoviePy - Writing audio in ./ebs_audio/y2mate.com - 초등 수학 개념잡기  01강 네자리수와 큰 수003_360P.mp3\n"
     ]
    },
    {
     "name": "stderr",
     "output_type": "stream",
     "text": [
      "                                                                      \r"
     ]
    },
    {
     "name": "stdout",
     "output_type": "stream",
     "text": [
      "MoviePy - Done.\n",
      "Converting: y2mate.com - 초등 수학 개념잡기  01강 네자리수와 큰 수004_360P.mp4 -> ./ebs_audio/y2mate.com - 초등 수학 개념잡기  01강 네자리수와 큰 수004_360P.mp3\n",
      "MoviePy - Writing audio in ./ebs_audio/y2mate.com - 초등 수학 개념잡기  01강 네자리수와 큰 수004_360P.mp3\n"
     ]
    },
    {
     "name": "stderr",
     "output_type": "stream",
     "text": [
      "                                                                      \r"
     ]
    },
    {
     "name": "stdout",
     "output_type": "stream",
     "text": [
      "MoviePy - Done.\n",
      "Converting: y2mate.com - 초등 수학 개념잡기  02강 덧셈과 뺄셈의 여러가지 방법001_360P.mp4 -> ./ebs_audio/y2mate.com - 초등 수학 개념잡기  02강 덧셈과 뺄셈의 여러가지 방법001_360P.mp3\n",
      "MoviePy - Writing audio in ./ebs_audio/y2mate.com - 초등 수학 개념잡기  02강 덧셈과 뺄셈의 여러가지 방법001_360P.mp3\n"
     ]
    },
    {
     "name": "stderr",
     "output_type": "stream",
     "text": [
      "                                                                      \r"
     ]
    },
    {
     "name": "stdout",
     "output_type": "stream",
     "text": [
      "MoviePy - Done.\n",
      "Converting: y2mate.com - 초등 수학 개념잡기  02강 덧셈과 뺄셈의 여러가지 방법002_360P.mp4 -> ./ebs_audio/y2mate.com - 초등 수학 개념잡기  02강 덧셈과 뺄셈의 여러가지 방법002_360P.mp3\n",
      "MoviePy - Writing audio in ./ebs_audio/y2mate.com - 초등 수학 개념잡기  02강 덧셈과 뺄셈의 여러가지 방법002_360P.mp3\n"
     ]
    },
    {
     "name": "stderr",
     "output_type": "stream",
     "text": [
      "                                                                      \r"
     ]
    },
    {
     "name": "stdout",
     "output_type": "stream",
     "text": [
      "MoviePy - Done.\n",
      "Converting: y2mate.com - 초등 수학 개념잡기  02강 덧셈과 뺄셈의 여러가지 방법003_360P.mp4 -> ./ebs_audio/y2mate.com - 초등 수학 개념잡기  02강 덧셈과 뺄셈의 여러가지 방법003_360P.mp3\n",
      "MoviePy - Writing audio in ./ebs_audio/y2mate.com - 초등 수학 개념잡기  02강 덧셈과 뺄셈의 여러가지 방법003_360P.mp3\n"
     ]
    },
    {
     "name": "stderr",
     "output_type": "stream",
     "text": [
      "                                                                      \r"
     ]
    },
    {
     "name": "stdout",
     "output_type": "stream",
     "text": [
      "MoviePy - Done.\n",
      "Converting: y2mate.com - 초등 수학 개념잡기  02강 덧셈과 뺄셈의 여러가지 방법004_360P.mp4 -> ./ebs_audio/y2mate.com - 초등 수학 개념잡기  02강 덧셈과 뺄셈의 여러가지 방법004_360P.mp3\n",
      "MoviePy - Writing audio in ./ebs_audio/y2mate.com - 초등 수학 개념잡기  02강 덧셈과 뺄셈의 여러가지 방법004_360P.mp3\n"
     ]
    },
    {
     "name": "stderr",
     "output_type": "stream",
     "text": [
      "                                                                      \r"
     ]
    },
    {
     "name": "stdout",
     "output_type": "stream",
     "text": [
      "MoviePy - Done.\n",
      "Converting: y2mate.com - 초등 수학 개념잡기  03강 곱셈의 계산 원리001_360P.mp4 -> ./ebs_audio/y2mate.com - 초등 수학 개념잡기  03강 곱셈의 계산 원리001_360P.mp3\n",
      "MoviePy - Writing audio in ./ebs_audio/y2mate.com - 초등 수학 개념잡기  03강 곱셈의 계산 원리001_360P.mp3\n"
     ]
    },
    {
     "name": "stderr",
     "output_type": "stream",
     "text": [
      "                                                                      \r"
     ]
    },
    {
     "name": "stdout",
     "output_type": "stream",
     "text": [
      "MoviePy - Done.\n",
      "Converting: y2mate.com - 초등 수학 개념잡기  03강 곱셈의 계산 원리002_360p.mp4 -> ./ebs_audio/y2mate.com - 초등 수학 개념잡기  03강 곱셈의 계산 원리002_360p.mp3\n",
      "MoviePy - Writing audio in ./ebs_audio/y2mate.com - 초등 수학 개념잡기  03강 곱셈의 계산 원리002_360p.mp3\n"
     ]
    },
    {
     "name": "stderr",
     "output_type": "stream",
     "text": [
      "                                                                      \r"
     ]
    },
    {
     "name": "stdout",
     "output_type": "stream",
     "text": [
      "MoviePy - Done.\n",
      "Converting: y2mate.com - 초등 수학 개념잡기  03강 곱셈의 계산 원리003_360p.mp4 -> ./ebs_audio/y2mate.com - 초등 수학 개념잡기  03강 곱셈의 계산 원리003_360p.mp3\n",
      "MoviePy - Writing audio in ./ebs_audio/y2mate.com - 초등 수학 개념잡기  03강 곱셈의 계산 원리003_360p.mp3\n"
     ]
    },
    {
     "name": "stderr",
     "output_type": "stream",
     "text": [
      "                                                                      \r"
     ]
    },
    {
     "name": "stdout",
     "output_type": "stream",
     "text": [
      "MoviePy - Done.\n",
      "Converting: y2mate.com - 초등 수학 개념잡기  03강 곱셈의 계산 원리004_360P.mp4 -> ./ebs_audio/y2mate.com - 초등 수학 개념잡기  03강 곱셈의 계산 원리004_360P.mp3\n",
      "MoviePy - Writing audio in ./ebs_audio/y2mate.com - 초등 수학 개념잡기  03강 곱셈의 계산 원리004_360P.mp3\n"
     ]
    },
    {
     "name": "stderr",
     "output_type": "stream",
     "text": [
      "                                                                      \r"
     ]
    },
    {
     "name": "stdout",
     "output_type": "stream",
     "text": [
      "MoviePy - Done.\n",
      "Converting: y2mate.com - 초등 수학 개념잡기  04강 나눗셈의 원리    001_360P.mp4 -> ./ebs_audio/y2mate.com - 초등 수학 개념잡기  04강 나눗셈의 원리    001_360P.mp3\n",
      "MoviePy - Writing audio in ./ebs_audio/y2mate.com - 초등 수학 개념잡기  04강 나눗셈의 원리    001_360P.mp3\n"
     ]
    },
    {
     "name": "stderr",
     "output_type": "stream",
     "text": [
      "                                                                      \r"
     ]
    },
    {
     "name": "stdout",
     "output_type": "stream",
     "text": [
      "MoviePy - Done.\n",
      "Converting: y2mate.com - 초등 수학 개념잡기  04강 나눗셈의 원리    002_360P.mp4 -> ./ebs_audio/y2mate.com - 초등 수학 개념잡기  04강 나눗셈의 원리    002_360P.mp3\n",
      "MoviePy - Writing audio in ./ebs_audio/y2mate.com - 초등 수학 개념잡기  04강 나눗셈의 원리    002_360P.mp3\n"
     ]
    },
    {
     "name": "stderr",
     "output_type": "stream",
     "text": [
      "                                                                      \r"
     ]
    },
    {
     "name": "stdout",
     "output_type": "stream",
     "text": [
      "MoviePy - Done.\n",
      "Converting: y2mate.com - 초등 수학 개념잡기  04강 나눗셈의 원리    003_360P.mp4 -> ./ebs_audio/y2mate.com - 초등 수학 개념잡기  04강 나눗셈의 원리    003_360P.mp3\n",
      "MoviePy - Writing audio in ./ebs_audio/y2mate.com - 초등 수학 개념잡기  04강 나눗셈의 원리    003_360P.mp3\n"
     ]
    },
    {
     "name": "stderr",
     "output_type": "stream",
     "text": [
      "                                                                      \r"
     ]
    },
    {
     "name": "stdout",
     "output_type": "stream",
     "text": [
      "MoviePy - Done.\n",
      "Converting: y2mate.com - 초등 수학 개념잡기  04강 나눗셈의 원리    004_360P.mp4 -> ./ebs_audio/y2mate.com - 초등 수학 개념잡기  04강 나눗셈의 원리    004_360P.mp3\n",
      "MoviePy - Writing audio in ./ebs_audio/y2mate.com - 초등 수학 개념잡기  04강 나눗셈의 원리    004_360P.mp3\n"
     ]
    },
    {
     "name": "stderr",
     "output_type": "stream",
     "text": [
      "                                                                      \r"
     ]
    },
    {
     "name": "stdout",
     "output_type": "stream",
     "text": [
      "MoviePy - Done.\n",
      "Converting: y2mate.com - 초등 수학 개념잡기  05강 혼합계산의 원리   001_360P.mp4 -> ./ebs_audio/y2mate.com - 초등 수학 개념잡기  05강 혼합계산의 원리   001_360P.mp3\n",
      "MoviePy - Writing audio in ./ebs_audio/y2mate.com - 초등 수학 개념잡기  05강 혼합계산의 원리   001_360P.mp3\n"
     ]
    },
    {
     "name": "stderr",
     "output_type": "stream",
     "text": [
      "                                                                      \r"
     ]
    },
    {
     "name": "stdout",
     "output_type": "stream",
     "text": [
      "MoviePy - Done.\n",
      "Converting: y2mate.com - 초등 수학 개념잡기  05강 혼합계산의 원리   002_360P.mp4 -> ./ebs_audio/y2mate.com - 초등 수학 개념잡기  05강 혼합계산의 원리   002_360P.mp3\n",
      "MoviePy - Writing audio in ./ebs_audio/y2mate.com - 초등 수학 개념잡기  05강 혼합계산의 원리   002_360P.mp3\n"
     ]
    },
    {
     "name": "stderr",
     "output_type": "stream",
     "text": [
      "                                                                      \r"
     ]
    },
    {
     "name": "stdout",
     "output_type": "stream",
     "text": [
      "MoviePy - Done.\n",
      "Converting: y2mate.com - 초등 수학 개념잡기  05강 혼합계산의 원리   003_360P.mp4 -> ./ebs_audio/y2mate.com - 초등 수학 개념잡기  05강 혼합계산의 원리   003_360P.mp3\n",
      "MoviePy - Writing audio in ./ebs_audio/y2mate.com - 초등 수학 개념잡기  05강 혼합계산의 원리   003_360P.mp3\n"
     ]
    },
    {
     "name": "stderr",
     "output_type": "stream",
     "text": [
      "                                                                      \r"
     ]
    },
    {
     "name": "stdout",
     "output_type": "stream",
     "text": [
      "MoviePy - Done.\n",
      "Converting: y2mate.com - 초등 수학 개념잡기  05강 혼합계산의 원리   004_360P.mp4 -> ./ebs_audio/y2mate.com - 초등 수학 개념잡기  05강 혼합계산의 원리   004_360P.mp3\n",
      "MoviePy - Writing audio in ./ebs_audio/y2mate.com - 초등 수학 개념잡기  05강 혼합계산의 원리   004_360P.mp3\n"
     ]
    },
    {
     "name": "stderr",
     "output_type": "stream",
     "text": [
      "                                                                      \r"
     ]
    },
    {
     "name": "stdout",
     "output_type": "stream",
     "text": [
      "MoviePy - Done.\n",
      "Converting: y2mate.com - 초등 수학 개념잡기  06강 분수 이해하기   001_360P.mp4 -> ./ebs_audio/y2mate.com - 초등 수학 개념잡기  06강 분수 이해하기   001_360P.mp3\n",
      "MoviePy - Writing audio in ./ebs_audio/y2mate.com - 초등 수학 개념잡기  06강 분수 이해하기   001_360P.mp3\n"
     ]
    },
    {
     "name": "stderr",
     "output_type": "stream",
     "text": [
      "                                                                      \r"
     ]
    },
    {
     "name": "stdout",
     "output_type": "stream",
     "text": [
      "MoviePy - Done.\n",
      "Converting: y2mate.com - 초등 수학 개념잡기  06강 분수 이해하기   003_360P.mp4 -> ./ebs_audio/y2mate.com - 초등 수학 개념잡기  06강 분수 이해하기   003_360P.mp3\n",
      "MoviePy - Writing audio in ./ebs_audio/y2mate.com - 초등 수학 개념잡기  06강 분수 이해하기   003_360P.mp3\n"
     ]
    },
    {
     "name": "stderr",
     "output_type": "stream",
     "text": [
      "                                                                      \r"
     ]
    },
    {
     "name": "stdout",
     "output_type": "stream",
     "text": [
      "MoviePy - Done.\n",
      "Converting: y2mate.com - 초등 수학 개념잡기  06강 분수 이해하기   004_360P.mp4 -> ./ebs_audio/y2mate.com - 초등 수학 개념잡기  06강 분수 이해하기   004_360P.mp3\n",
      "MoviePy - Writing audio in ./ebs_audio/y2mate.com - 초등 수학 개념잡기  06강 분수 이해하기   004_360P.mp3\n"
     ]
    },
    {
     "name": "stderr",
     "output_type": "stream",
     "text": [
      "                                                                      \r"
     ]
    },
    {
     "name": "stdout",
     "output_type": "stream",
     "text": [
      "MoviePy - Done.\n",
      "Converting: y2mate.com - 초등 수학 개념잡기  07강 소수 이해하기   001_360P.mp4 -> ./ebs_audio/y2mate.com - 초등 수학 개념잡기  07강 소수 이해하기   001_360P.mp3\n",
      "MoviePy - Writing audio in ./ebs_audio/y2mate.com - 초등 수학 개념잡기  07강 소수 이해하기   001_360P.mp3\n"
     ]
    },
    {
     "name": "stderr",
     "output_type": "stream",
     "text": [
      "                                                                      \r"
     ]
    },
    {
     "name": "stdout",
     "output_type": "stream",
     "text": [
      "MoviePy - Done.\n",
      "Converting: y2mate.com - 초등 수학 개념잡기  07강 소수 이해하기   002_360P.mp4 -> ./ebs_audio/y2mate.com - 초등 수학 개념잡기  07강 소수 이해하기   002_360P.mp3\n",
      "MoviePy - Writing audio in ./ebs_audio/y2mate.com - 초등 수학 개념잡기  07강 소수 이해하기   002_360P.mp3\n"
     ]
    },
    {
     "name": "stderr",
     "output_type": "stream",
     "text": [
      "                                                                      \r"
     ]
    },
    {
     "name": "stdout",
     "output_type": "stream",
     "text": [
      "MoviePy - Done.\n",
      "Converting: y2mate.com - 초등 수학 개념잡기  07강 소수 이해하기   003_360p.mp4 -> ./ebs_audio/y2mate.com - 초등 수학 개념잡기  07강 소수 이해하기   003_360p.mp3\n",
      "MoviePy - Writing audio in ./ebs_audio/y2mate.com - 초등 수학 개념잡기  07강 소수 이해하기   003_360p.mp3\n"
     ]
    },
    {
     "name": "stderr",
     "output_type": "stream",
     "text": [
      "                                                                      \r"
     ]
    },
    {
     "name": "stdout",
     "output_type": "stream",
     "text": [
      "MoviePy - Done.\n",
      "Converting: y2mate.com - 초등 수학 개념잡기  07강 소수 이해하기   004_360P.mp4 -> ./ebs_audio/y2mate.com - 초등 수학 개념잡기  07강 소수 이해하기   004_360P.mp3\n",
      "MoviePy - Writing audio in ./ebs_audio/y2mate.com - 초등 수학 개념잡기  07강 소수 이해하기   004_360P.mp3\n"
     ]
    },
    {
     "name": "stderr",
     "output_type": "stream",
     "text": [
      "                                                                      \r"
     ]
    },
    {
     "name": "stdout",
     "output_type": "stream",
     "text": [
      "MoviePy - Done.\n",
      "Converting: y2mate.com - 초등 수학 개념잡기  08강 분수의 덧셈과 뺄셈 원리    001_360P.mp4 -> ./ebs_audio/y2mate.com - 초등 수학 개념잡기  08강 분수의 덧셈과 뺄셈 원리    001_360P.mp3\n",
      "MoviePy - Writing audio in ./ebs_audio/y2mate.com - 초등 수학 개념잡기  08강 분수의 덧셈과 뺄셈 원리    001_360P.mp3\n"
     ]
    },
    {
     "name": "stderr",
     "output_type": "stream",
     "text": [
      "                                                                      \r"
     ]
    },
    {
     "name": "stdout",
     "output_type": "stream",
     "text": [
      "MoviePy - Done.\n",
      "Converting: y2mate.com - 초등 수학 개념잡기  08강 분수의 덧셈과 뺄셈 원리    002_360P.mp4 -> ./ebs_audio/y2mate.com - 초등 수학 개념잡기  08강 분수의 덧셈과 뺄셈 원리    002_360P.mp3\n",
      "MoviePy - Writing audio in ./ebs_audio/y2mate.com - 초등 수학 개념잡기  08강 분수의 덧셈과 뺄셈 원리    002_360P.mp3\n"
     ]
    },
    {
     "name": "stderr",
     "output_type": "stream",
     "text": [
      "                                                                      \r"
     ]
    },
    {
     "name": "stdout",
     "output_type": "stream",
     "text": [
      "MoviePy - Done.\n",
      "Converting: y2mate.com - 초등 수학 개념잡기  08강 분수의 덧셈과 뺄셈 원리    003_360P.mp4 -> ./ebs_audio/y2mate.com - 초등 수학 개념잡기  08강 분수의 덧셈과 뺄셈 원리    003_360P.mp3\n",
      "MoviePy - Writing audio in ./ebs_audio/y2mate.com - 초등 수학 개념잡기  08강 분수의 덧셈과 뺄셈 원리    003_360P.mp3\n"
     ]
    },
    {
     "name": "stderr",
     "output_type": "stream",
     "text": [
      "                                                                      \r"
     ]
    },
    {
     "name": "stdout",
     "output_type": "stream",
     "text": [
      "MoviePy - Done.\n",
      "Converting: y2mate.com - 초등 수학 개념잡기  08강 분수의 덧셈과 뺄셈 원리    004_360p.mp4 -> ./ebs_audio/y2mate.com - 초등 수학 개념잡기  08강 분수의 덧셈과 뺄셈 원리    004_360p.mp3\n",
      "MoviePy - Writing audio in ./ebs_audio/y2mate.com - 초등 수학 개념잡기  08강 분수의 덧셈과 뺄셈 원리    004_360p.mp3\n"
     ]
    },
    {
     "name": "stderr",
     "output_type": "stream",
     "text": [
      "                                                                      \r"
     ]
    },
    {
     "name": "stdout",
     "output_type": "stream",
     "text": [
      "MoviePy - Done.\n",
      "Converting: y2mate.com - 초등 수학 개념잡기  09강 소수의 덧셈과 뺄셈의 원리    001_360P.mp4 -> ./ebs_audio/y2mate.com - 초등 수학 개념잡기  09강 소수의 덧셈과 뺄셈의 원리    001_360P.mp3\n",
      "MoviePy - Writing audio in ./ebs_audio/y2mate.com - 초등 수학 개념잡기  09강 소수의 덧셈과 뺄셈의 원리    001_360P.mp3\n"
     ]
    },
    {
     "name": "stderr",
     "output_type": "stream",
     "text": [
      "                                                                      \r"
     ]
    },
    {
     "name": "stdout",
     "output_type": "stream",
     "text": [
      "MoviePy - Done.\n",
      "Converting: y2mate.com - 초등 수학 개념잡기  09강 소수의 덧셈과 뺄셈의 원리    002_360P.mp4 -> ./ebs_audio/y2mate.com - 초등 수학 개념잡기  09강 소수의 덧셈과 뺄셈의 원리    002_360P.mp3\n",
      "MoviePy - Writing audio in ./ebs_audio/y2mate.com - 초등 수학 개념잡기  09강 소수의 덧셈과 뺄셈의 원리    002_360P.mp3\n"
     ]
    },
    {
     "name": "stderr",
     "output_type": "stream",
     "text": [
      "                                                                      \r"
     ]
    },
    {
     "name": "stdout",
     "output_type": "stream",
     "text": [
      "MoviePy - Done.\n",
      "Converting: y2mate.com - 초등 수학 개념잡기  09강 소수의 덧셈과 뺄셈의 원리    003_360P.mp4 -> ./ebs_audio/y2mate.com - 초등 수학 개념잡기  09강 소수의 덧셈과 뺄셈의 원리    003_360P.mp3\n",
      "MoviePy - Writing audio in ./ebs_audio/y2mate.com - 초등 수학 개념잡기  09강 소수의 덧셈과 뺄셈의 원리    003_360P.mp3\n"
     ]
    },
    {
     "name": "stderr",
     "output_type": "stream",
     "text": [
      "                                                                      \r"
     ]
    },
    {
     "name": "stdout",
     "output_type": "stream",
     "text": [
      "MoviePy - Done.\n",
      "Converting: y2mate.com - 초등 수학 개념잡기  09강 소수의 덧셈과 뺄셈의 원리    004_360P.mp4 -> ./ebs_audio/y2mate.com - 초등 수학 개념잡기  09강 소수의 덧셈과 뺄셈의 원리    004_360P.mp3\n",
      "MoviePy - Writing audio in ./ebs_audio/y2mate.com - 초등 수학 개념잡기  09강 소수의 덧셈과 뺄셈의 원리    004_360P.mp3\n"
     ]
    },
    {
     "name": "stderr",
     "output_type": "stream",
     "text": [
      "                                                                      \r"
     ]
    },
    {
     "name": "stdout",
     "output_type": "stream",
     "text": [
      "MoviePy - Done.\n",
      "Converting: y2mate.com - 초등 수학 개념잡기  10강 평면도형 알아보기   001_360P.mp4 -> ./ebs_audio/y2mate.com - 초등 수학 개념잡기  10강 평면도형 알아보기   001_360P.mp3\n",
      "MoviePy - Writing audio in ./ebs_audio/y2mate.com - 초등 수학 개념잡기  10강 평면도형 알아보기   001_360P.mp3\n"
     ]
    },
    {
     "name": "stderr",
     "output_type": "stream",
     "text": [
      "                                                                      \r"
     ]
    },
    {
     "name": "stdout",
     "output_type": "stream",
     "text": [
      "MoviePy - Done.\n",
      "Converting: y2mate.com - 초등 수학 개념잡기  10강 평면도형 알아보기   002_360P.mp4 -> ./ebs_audio/y2mate.com - 초등 수학 개념잡기  10강 평면도형 알아보기   002_360P.mp3\n",
      "MoviePy - Writing audio in ./ebs_audio/y2mate.com - 초등 수학 개념잡기  10강 평면도형 알아보기   002_360P.mp3\n"
     ]
    },
    {
     "name": "stderr",
     "output_type": "stream",
     "text": [
      "                                                                      \r"
     ]
    },
    {
     "name": "stdout",
     "output_type": "stream",
     "text": [
      "MoviePy - Done.\n",
      "Converting: y2mate.com - 초등 수학 개념잡기  10강 평면도형 알아보기   004_360P.mp4 -> ./ebs_audio/y2mate.com - 초등 수학 개념잡기  10강 평면도형 알아보기   004_360P.mp3\n",
      "MoviePy - Writing audio in ./ebs_audio/y2mate.com - 초등 수학 개념잡기  10강 평면도형 알아보기   004_360P.mp3\n"
     ]
    },
    {
     "name": "stderr",
     "output_type": "stream",
     "text": [
      "                                                                      \r"
     ]
    },
    {
     "name": "stdout",
     "output_type": "stream",
     "text": [
      "MoviePy - Done.\n",
      "Converting: y2mate.com - 초등 수학 개념잡기  11강 평면도형의 이동과 무늬 만들기    001_360P.mp4 -> ./ebs_audio/y2mate.com - 초등 수학 개념잡기  11강 평면도형의 이동과 무늬 만들기    001_360P.mp3\n",
      "MoviePy - Writing audio in ./ebs_audio/y2mate.com - 초등 수학 개념잡기  11강 평면도형의 이동과 무늬 만들기    001_360P.mp3\n"
     ]
    },
    {
     "name": "stderr",
     "output_type": "stream",
     "text": [
      "                                                                      \r"
     ]
    },
    {
     "name": "stdout",
     "output_type": "stream",
     "text": [
      "MoviePy - Done.\n",
      "Converting: y2mate.com - 초등 수학 개념잡기  11강 평면도형의 이동과 무늬 만들기    003_360P.mp4 -> ./ebs_audio/y2mate.com - 초등 수학 개념잡기  11강 평면도형의 이동과 무늬 만들기    003_360P.mp3\n",
      "MoviePy - Writing audio in ./ebs_audio/y2mate.com - 초등 수학 개념잡기  11강 평면도형의 이동과 무늬 만들기    003_360P.mp3\n"
     ]
    },
    {
     "name": "stderr",
     "output_type": "stream",
     "text": [
      "                                                                      \r"
     ]
    },
    {
     "name": "stdout",
     "output_type": "stream",
     "text": [
      "MoviePy - Done.\n",
      "Converting: y2mate.com - 초등 수학 개념잡기  11강 평면도형의 이동과 무늬 만들기    004_360P.mp4 -> ./ebs_audio/y2mate.com - 초등 수학 개념잡기  11강 평면도형의 이동과 무늬 만들기    004_360P.mp3\n",
      "MoviePy - Writing audio in ./ebs_audio/y2mate.com - 초등 수학 개념잡기  11강 평면도형의 이동과 무늬 만들기    004_360P.mp3\n"
     ]
    },
    {
     "name": "stderr",
     "output_type": "stream",
     "text": [
      "                                                                      \r"
     ]
    },
    {
     "name": "stdout",
     "output_type": "stream",
     "text": [
      "MoviePy - Done.\n",
      "Converting: y2mate.com - 초등 수학 개념잡기  12강 원 알아보기   001_360P.mp4 -> ./ebs_audio/y2mate.com - 초등 수학 개념잡기  12강 원 알아보기   001_360P.mp3\n",
      "MoviePy - Writing audio in ./ebs_audio/y2mate.com - 초등 수학 개념잡기  12강 원 알아보기   001_360P.mp3\n"
     ]
    },
    {
     "name": "stderr",
     "output_type": "stream",
     "text": [
      "                                                                      \r"
     ]
    },
    {
     "name": "stdout",
     "output_type": "stream",
     "text": [
      "MoviePy - Done.\n",
      "Converting: y2mate.com - 초등 수학 개념잡기  12강 원 알아보기   003_360P.mp4 -> ./ebs_audio/y2mate.com - 초등 수학 개념잡기  12강 원 알아보기   003_360P.mp3\n",
      "MoviePy - Writing audio in ./ebs_audio/y2mate.com - 초등 수학 개념잡기  12강 원 알아보기   003_360P.mp3\n"
     ]
    },
    {
     "name": "stderr",
     "output_type": "stream",
     "text": [
      "                                                                      \r"
     ]
    },
    {
     "name": "stdout",
     "output_type": "stream",
     "text": [
      "MoviePy - Done.\n",
      "Converting: y2mate.com - 초등 수학 개념잡기  12강 원 알아보기   004_360P.mp4 -> ./ebs_audio/y2mate.com - 초등 수학 개념잡기  12강 원 알아보기   004_360P.mp3\n",
      "MoviePy - Writing audio in ./ebs_audio/y2mate.com - 초등 수학 개념잡기  12강 원 알아보기   004_360P.mp3\n"
     ]
    },
    {
     "name": "stderr",
     "output_type": "stream",
     "text": [
      "                                                                      \r"
     ]
    },
    {
     "name": "stdout",
     "output_type": "stream",
     "text": [
      "MoviePy - Done.\n",
      "Converting: y2mate.com - 초등 수학 개념잡기  13강 삼각형 알아보기   002_360P.mp4 -> ./ebs_audio/y2mate.com - 초등 수학 개념잡기  13강 삼각형 알아보기   002_360P.mp3\n",
      "MoviePy - Writing audio in ./ebs_audio/y2mate.com - 초등 수학 개념잡기  13강 삼각형 알아보기   002_360P.mp3\n"
     ]
    },
    {
     "name": "stderr",
     "output_type": "stream",
     "text": [
      "                                                                      \r"
     ]
    },
    {
     "name": "stdout",
     "output_type": "stream",
     "text": [
      "MoviePy - Done.\n",
      "Converting: y2mate.com - 초등 수학 개념잡기  13강 삼각형 알아보기   004_360P.mp4 -> ./ebs_audio/y2mate.com - 초등 수학 개념잡기  13강 삼각형 알아보기   004_360P.mp3\n",
      "MoviePy - Writing audio in ./ebs_audio/y2mate.com - 초등 수학 개념잡기  13강 삼각형 알아보기   004_360P.mp3\n"
     ]
    },
    {
     "name": "stderr",
     "output_type": "stream",
     "text": [
      "                                                                      \r"
     ]
    },
    {
     "name": "stdout",
     "output_type": "stream",
     "text": [
      "MoviePy - Done.\n",
      "Converting: y2mate.com - 초등 수학 개념잡기  14강 수직과 평행   002_360P.mp4 -> ./ebs_audio/y2mate.com - 초등 수학 개념잡기  14강 수직과 평행   002_360P.mp3\n",
      "MoviePy - Writing audio in ./ebs_audio/y2mate.com - 초등 수학 개념잡기  14강 수직과 평행   002_360P.mp3\n"
     ]
    },
    {
     "name": "stderr",
     "output_type": "stream",
     "text": [
      "                                                                      \r"
     ]
    },
    {
     "name": "stdout",
     "output_type": "stream",
     "text": [
      "MoviePy - Done.\n",
      "Converting: y2mate.com - 초등 수학 개념잡기  14강 수직과 평행   004_360P.mp4 -> ./ebs_audio/y2mate.com - 초등 수학 개념잡기  14강 수직과 평행   004_360P.mp3\n",
      "MoviePy - Writing audio in ./ebs_audio/y2mate.com - 초등 수학 개념잡기  14강 수직과 평행   004_360P.mp3\n"
     ]
    },
    {
     "name": "stderr",
     "output_type": "stream",
     "text": [
      "                                                                      \r"
     ]
    },
    {
     "name": "stdout",
     "output_type": "stream",
     "text": [
      "MoviePy - Done.\n",
      "Converting: y2mate.com - 초등 수학 개념잡기  15강 사각형과 다각형 알아보기   001_360P.mp4 -> ./ebs_audio/y2mate.com - 초등 수학 개념잡기  15강 사각형과 다각형 알아보기   001_360P.mp3\n",
      "MoviePy - Writing audio in ./ebs_audio/y2mate.com - 초등 수학 개념잡기  15강 사각형과 다각형 알아보기   001_360P.mp3\n"
     ]
    },
    {
     "name": "stderr",
     "output_type": "stream",
     "text": [
      "                                                                      \r"
     ]
    },
    {
     "name": "stdout",
     "output_type": "stream",
     "text": [
      "MoviePy - Done.\n",
      "Converting: y2mate.com - 초등 수학 개념잡기  15강 사각형과 다각형 알아보기   002_360P.mp4 -> ./ebs_audio/y2mate.com - 초등 수학 개념잡기  15강 사각형과 다각형 알아보기   002_360P.mp3\n",
      "MoviePy - Writing audio in ./ebs_audio/y2mate.com - 초등 수학 개념잡기  15강 사각형과 다각형 알아보기   002_360P.mp3\n"
     ]
    },
    {
     "name": "stderr",
     "output_type": "stream",
     "text": [
      "                                                                      \r"
     ]
    },
    {
     "name": "stdout",
     "output_type": "stream",
     "text": [
      "MoviePy - Done.\n",
      "Converting: y2mate.com - 초등 수학 개념잡기  15강 사각형과 다각형 알아보기   004_360P.mp4 -> ./ebs_audio/y2mate.com - 초등 수학 개념잡기  15강 사각형과 다각형 알아보기   004_360P.mp3\n",
      "MoviePy - Writing audio in ./ebs_audio/y2mate.com - 초등 수학 개념잡기  15강 사각형과 다각형 알아보기   004_360P.mp3\n"
     ]
    },
    {
     "name": "stderr",
     "output_type": "stream",
     "text": [
      "                                                                      \r"
     ]
    },
    {
     "name": "stdout",
     "output_type": "stream",
     "text": [
      "MoviePy - Done.\n",
      "Converting: y2mate.com - 초등 수학 개념잡기  16강 길이와 시간 알고 합과 차 구하기  001_360P.mp4 -> ./ebs_audio/y2mate.com - 초등 수학 개념잡기  16강 길이와 시간 알고 합과 차 구하기  001_360P.mp3\n",
      "MoviePy - Writing audio in ./ebs_audio/y2mate.com - 초등 수학 개념잡기  16강 길이와 시간 알고 합과 차 구하기  001_360P.mp3\n"
     ]
    },
    {
     "name": "stderr",
     "output_type": "stream",
     "text": [
      "                                                                      \r"
     ]
    },
    {
     "name": "stdout",
     "output_type": "stream",
     "text": [
      "MoviePy - Done.\n",
      "Converting: y2mate.com - 초등 수학 개념잡기  16강 길이와 시간 알고 합과 차 구하기  002_360P.mp4 -> ./ebs_audio/y2mate.com - 초등 수학 개념잡기  16강 길이와 시간 알고 합과 차 구하기  002_360P.mp3\n",
      "MoviePy - Writing audio in ./ebs_audio/y2mate.com - 초등 수학 개념잡기  16강 길이와 시간 알고 합과 차 구하기  002_360P.mp3\n"
     ]
    },
    {
     "name": "stderr",
     "output_type": "stream",
     "text": [
      "                                                                      \r"
     ]
    },
    {
     "name": "stdout",
     "output_type": "stream",
     "text": [
      "MoviePy - Done.\n",
      "Converting: y2mate.com - 초등 수학 개념잡기  16강 길이와 시간 알고 합과 차 구하기  003_360p.mp4 -> ./ebs_audio/y2mate.com - 초등 수학 개념잡기  16강 길이와 시간 알고 합과 차 구하기  003_360p.mp3\n",
      "MoviePy - Writing audio in ./ebs_audio/y2mate.com - 초등 수학 개념잡기  16강 길이와 시간 알고 합과 차 구하기  003_360p.mp3\n"
     ]
    },
    {
     "name": "stderr",
     "output_type": "stream",
     "text": [
      "                                                                      \r"
     ]
    },
    {
     "name": "stdout",
     "output_type": "stream",
     "text": [
      "MoviePy - Done.\n",
      "Converting: y2mate.com - 초등 수학 개념잡기  16강 길이와 시간 알고 합과 차 구하기  004_360P.mp4 -> ./ebs_audio/y2mate.com - 초등 수학 개념잡기  16강 길이와 시간 알고 합과 차 구하기  004_360P.mp3\n",
      "MoviePy - Writing audio in ./ebs_audio/y2mate.com - 초등 수학 개념잡기  16강 길이와 시간 알고 합과 차 구하기  004_360P.mp3\n"
     ]
    },
    {
     "name": "stderr",
     "output_type": "stream",
     "text": [
      "                                                                      \r"
     ]
    },
    {
     "name": "stdout",
     "output_type": "stream",
     "text": [
      "MoviePy - Done.\n",
      "Converting: y2mate.com - 초등 수학 개념잡기  17강 들이와 무게 알고 합과 차 구하기   003_360P.mp4 -> ./ebs_audio/y2mate.com - 초등 수학 개념잡기  17강 들이와 무게 알고 합과 차 구하기   003_360P.mp3\n",
      "MoviePy - Writing audio in ./ebs_audio/y2mate.com - 초등 수학 개념잡기  17강 들이와 무게 알고 합과 차 구하기   003_360P.mp3\n"
     ]
    },
    {
     "name": "stderr",
     "output_type": "stream",
     "text": [
      "                                                                      \r"
     ]
    },
    {
     "name": "stdout",
     "output_type": "stream",
     "text": [
      "MoviePy - Done.\n",
      "Converting: y2mate.com - 초등 수학 개념잡기  17강 들이와 무게 알고 합과 차 구하기   004_360P.mp4 -> ./ebs_audio/y2mate.com - 초등 수학 개념잡기  17강 들이와 무게 알고 합과 차 구하기   004_360P.mp3\n",
      "MoviePy - Writing audio in ./ebs_audio/y2mate.com - 초등 수학 개념잡기  17강 들이와 무게 알고 합과 차 구하기   004_360P.mp3\n"
     ]
    },
    {
     "name": "stderr",
     "output_type": "stream",
     "text": [
      "                                                                      \r"
     ]
    },
    {
     "name": "stdout",
     "output_type": "stream",
     "text": [
      "MoviePy - Done.\n",
      "Converting: y2mate.com - 초등 수학 개념잡기  18강 각도 알아보기   001_360P.mp4 -> ./ebs_audio/y2mate.com - 초등 수학 개념잡기  18강 각도 알아보기   001_360P.mp3\n",
      "MoviePy - Writing audio in ./ebs_audio/y2mate.com - 초등 수학 개념잡기  18강 각도 알아보기   001_360P.mp3\n"
     ]
    },
    {
     "name": "stderr",
     "output_type": "stream",
     "text": [
      "                                                                      \r"
     ]
    },
    {
     "name": "stdout",
     "output_type": "stream",
     "text": [
      "MoviePy - Done.\n",
      "Converting: y2mate.com - 초등 수학 개념잡기  18강 각도 알아보기   002_360P.mp4 -> ./ebs_audio/y2mate.com - 초등 수학 개념잡기  18강 각도 알아보기   002_360P.mp3\n",
      "MoviePy - Writing audio in ./ebs_audio/y2mate.com - 초등 수학 개념잡기  18강 각도 알아보기   002_360P.mp3\n"
     ]
    },
    {
     "name": "stderr",
     "output_type": "stream",
     "text": [
      "                                                                      \r"
     ]
    },
    {
     "name": "stdout",
     "output_type": "stream",
     "text": [
      "MoviePy - Done.\n",
      "Converting: y2mate.com - 초등 수학 개념잡기  18강 각도 알아보기   003_360P.mp4 -> ./ebs_audio/y2mate.com - 초등 수학 개념잡기  18강 각도 알아보기   003_360P.mp3\n",
      "MoviePy - Writing audio in ./ebs_audio/y2mate.com - 초등 수학 개념잡기  18강 각도 알아보기   003_360P.mp3\n"
     ]
    },
    {
     "name": "stderr",
     "output_type": "stream",
     "text": [
      "                                                                      \r"
     ]
    },
    {
     "name": "stdout",
     "output_type": "stream",
     "text": [
      "MoviePy - Done.\n",
      "Converting: y2mate.com - 초등 수학 개념잡기  19강 평면도형의 둘레와 넓이 구하기  002_360P.mp4 -> ./ebs_audio/y2mate.com - 초등 수학 개념잡기  19강 평면도형의 둘레와 넓이 구하기  002_360P.mp3\n",
      "MoviePy - Writing audio in ./ebs_audio/y2mate.com - 초등 수학 개념잡기  19강 평면도형의 둘레와 넓이 구하기  002_360P.mp3\n"
     ]
    },
    {
     "name": "stderr",
     "output_type": "stream",
     "text": [
      "                                                                      \r"
     ]
    },
    {
     "name": "stdout",
     "output_type": "stream",
     "text": [
      "MoviePy - Done.\n",
      "Converting: y2mate.com - 초등 수학 개념잡기  19강 평면도형의 둘레와 넓이 구하기  004_360p.mp4 -> ./ebs_audio/y2mate.com - 초등 수학 개념잡기  19강 평면도형의 둘레와 넓이 구하기  004_360p.mp3\n",
      "MoviePy - Writing audio in ./ebs_audio/y2mate.com - 초등 수학 개념잡기  19강 평면도형의 둘레와 넓이 구하기  004_360p.mp3\n"
     ]
    },
    {
     "name": "stderr",
     "output_type": "stream",
     "text": [
      "                                                                      \r"
     ]
    },
    {
     "name": "stdout",
     "output_type": "stream",
     "text": [
      "MoviePy - Done.\n",
      "Converting: y2mate.com - 초등 수학 개념잡기  20강 수의 범위와 어림하기1   001_360P.mp4 -> ./ebs_audio/y2mate.com - 초등 수학 개념잡기  20강 수의 범위와 어림하기1   001_360P.mp3\n",
      "MoviePy - Writing audio in ./ebs_audio/y2mate.com - 초등 수학 개념잡기  20강 수의 범위와 어림하기1   001_360P.mp3\n"
     ]
    },
    {
     "name": "stderr",
     "output_type": "stream",
     "text": [
      "                                                                      \r"
     ]
    },
    {
     "name": "stdout",
     "output_type": "stream",
     "text": [
      "MoviePy - Done.\n",
      "Converting: y2mate.com - 초등 수학 개념잡기  20강 수의 범위와 어림하기1   004_360P.mp4 -> ./ebs_audio/y2mate.com - 초등 수학 개념잡기  20강 수의 범위와 어림하기1   004_360P.mp3\n",
      "MoviePy - Writing audio in ./ebs_audio/y2mate.com - 초등 수학 개념잡기  20강 수의 범위와 어림하기1   004_360P.mp3\n"
     ]
    },
    {
     "name": "stderr",
     "output_type": "stream",
     "text": [
      "                                                                      \r"
     ]
    },
    {
     "name": "stdout",
     "output_type": "stream",
     "text": [
      "MoviePy - Done.\n",
      "Converting: y2mate.com - 초등 수학 개념잡기  21강 수의 범위와 어림하기2   001_360P.mp4 -> ./ebs_audio/y2mate.com - 초등 수학 개념잡기  21강 수의 범위와 어림하기2   001_360P.mp3\n",
      "MoviePy - Writing audio in ./ebs_audio/y2mate.com - 초등 수학 개념잡기  21강 수의 범위와 어림하기2   001_360P.mp3\n"
     ]
    },
    {
     "name": "stderr",
     "output_type": "stream",
     "text": [
      "                                                                      \r"
     ]
    },
    {
     "name": "stdout",
     "output_type": "stream",
     "text": [
      "MoviePy - Done.\n",
      "Converting: y2mate.com - 초등 수학 개념잡기  22강 자료정리의 방법    002_360P.mp4 -> ./ebs_audio/y2mate.com - 초등 수학 개념잡기  22강 자료정리의 방법    002_360P.mp3\n",
      "MoviePy - Writing audio in ./ebs_audio/y2mate.com - 초등 수학 개념잡기  22강 자료정리의 방법    002_360P.mp3\n"
     ]
    },
    {
     "name": "stderr",
     "output_type": "stream",
     "text": [
      "                                                                      \r"
     ]
    },
    {
     "name": "stdout",
     "output_type": "stream",
     "text": [
      "MoviePy - Done.\n",
      "Converting: y2mate.com - 초등 수학 개념잡기  22강 자료정리의 방법    004_360P.mp4 -> ./ebs_audio/y2mate.com - 초등 수학 개념잡기  22강 자료정리의 방법    004_360P.mp3\n",
      "MoviePy - Writing audio in ./ebs_audio/y2mate.com - 초등 수학 개념잡기  22강 자료정리의 방법    004_360P.mp3\n"
     ]
    },
    {
     "name": "stderr",
     "output_type": "stream",
     "text": [
      "                                                                      \r"
     ]
    },
    {
     "name": "stdout",
     "output_type": "stream",
     "text": [
      "MoviePy - Done.\n",
      "Converting: y2mate.com - 초등 수학 개념잡기  23강 문제 해결의 여러가지 방법 찾기1   001_360P.mp4 -> ./ebs_audio/y2mate.com - 초등 수학 개념잡기  23강 문제 해결의 여러가지 방법 찾기1   001_360P.mp3\n",
      "MoviePy - Writing audio in ./ebs_audio/y2mate.com - 초등 수학 개념잡기  23강 문제 해결의 여러가지 방법 찾기1   001_360P.mp3\n"
     ]
    },
    {
     "name": "stderr",
     "output_type": "stream",
     "text": [
      "                                                                      \r"
     ]
    },
    {
     "name": "stdout",
     "output_type": "stream",
     "text": [
      "MoviePy - Done.\n",
      "Converting: y2mate.com - 초등 수학 개념잡기  23강 문제 해결의 여러가지 방법 찾기1   002_360P.mp4 -> ./ebs_audio/y2mate.com - 초등 수학 개념잡기  23강 문제 해결의 여러가지 방법 찾기1   002_360P.mp3\n",
      "MoviePy - Writing audio in ./ebs_audio/y2mate.com - 초등 수학 개념잡기  23강 문제 해결의 여러가지 방법 찾기1   002_360P.mp3\n"
     ]
    },
    {
     "name": "stderr",
     "output_type": "stream",
     "text": [
      "                                                                      \r"
     ]
    },
    {
     "name": "stdout",
     "output_type": "stream",
     "text": [
      "MoviePy - Done.\n",
      "Converting: y2mate.com - 초등 수학 개념잡기  23강 문제 해결의 여러가지 방법 찾기1   003_360P.mp4 -> ./ebs_audio/y2mate.com - 초등 수학 개념잡기  23강 문제 해결의 여러가지 방법 찾기1   003_360P.mp3\n",
      "MoviePy - Writing audio in ./ebs_audio/y2mate.com - 초등 수학 개념잡기  23강 문제 해결의 여러가지 방법 찾기1   003_360P.mp3\n"
     ]
    },
    {
     "name": "stderr",
     "output_type": "stream",
     "text": [
      "                                                                      \r"
     ]
    },
    {
     "name": "stdout",
     "output_type": "stream",
     "text": [
      "MoviePy - Done.\n",
      "Converting: y2mate.com - 초등 수학 개념잡기  23강 문제 해결의 여러가지 방법 찾기1   004_360P.mp4 -> ./ebs_audio/y2mate.com - 초등 수학 개념잡기  23강 문제 해결의 여러가지 방법 찾기1   004_360P.mp3\n",
      "MoviePy - Writing audio in ./ebs_audio/y2mate.com - 초등 수학 개념잡기  23강 문제 해결의 여러가지 방법 찾기1   004_360P.mp3\n"
     ]
    },
    {
     "name": "stderr",
     "output_type": "stream",
     "text": [
      "                                                                      \r"
     ]
    },
    {
     "name": "stdout",
     "output_type": "stream",
     "text": [
      "MoviePy - Done.\n",
      "Converting: y2mate.com - 초등 수학 개념잡기  24강 문제 해결의 여러가지 방법 찾기2  002_360P.mp4 -> ./ebs_audio/y2mate.com - 초등 수학 개념잡기  24강 문제 해결의 여러가지 방법 찾기2  002_360P.mp3\n",
      "MoviePy - Writing audio in ./ebs_audio/y2mate.com - 초등 수학 개념잡기  24강 문제 해결의 여러가지 방법 찾기2  002_360P.mp3\n"
     ]
    },
    {
     "name": "stderr",
     "output_type": "stream",
     "text": [
      "                                                                      \r"
     ]
    },
    {
     "name": "stdout",
     "output_type": "stream",
     "text": [
      "MoviePy - Done.\n",
      "Converting: y2mate.com - 초등 수학 개념잡기  24강 문제 해결의 여러가지 방법 찾기2  003_360P.mp4 -> ./ebs_audio/y2mate.com - 초등 수학 개념잡기  24강 문제 해결의 여러가지 방법 찾기2  003_360P.mp3\n",
      "MoviePy - Writing audio in ./ebs_audio/y2mate.com - 초등 수학 개념잡기  24강 문제 해결의 여러가지 방법 찾기2  003_360P.mp3\n"
     ]
    },
    {
     "name": "stderr",
     "output_type": "stream",
     "text": [
      "                                                                      \r"
     ]
    },
    {
     "name": "stdout",
     "output_type": "stream",
     "text": [
      "MoviePy - Done.\n",
      "Converting: y2mate.com - 초등 수학 개념잡기  24강 문제 해결의 여러가지 방법 찾기2  004_360P.mp4 -> ./ebs_audio/y2mate.com - 초등 수학 개념잡기  24강 문제 해결의 여러가지 방법 찾기2  004_360P.mp3\n",
      "MoviePy - Writing audio in ./ebs_audio/y2mate.com - 초등 수학 개념잡기  24강 문제 해결의 여러가지 방법 찾기2  004_360P.mp3\n"
     ]
    },
    {
     "name": "stderr",
     "output_type": "stream",
     "text": [
      "                                                                      \r"
     ]
    },
    {
     "name": "stdout",
     "output_type": "stream",
     "text": [
      "MoviePy - Done.\n",
      "Converting: y2mate.com - 초등 수학 개념잡기  25강 약수와 배수   001_360P.mp4 -> ./ebs_audio/y2mate.com - 초등 수학 개념잡기  25강 약수와 배수   001_360P.mp3\n",
      "MoviePy - Writing audio in ./ebs_audio/y2mate.com - 초등 수학 개념잡기  25강 약수와 배수   001_360P.mp3\n"
     ]
    },
    {
     "name": "stderr",
     "output_type": "stream",
     "text": [
      "                                                                      \r"
     ]
    },
    {
     "name": "stdout",
     "output_type": "stream",
     "text": [
      "MoviePy - Done.\n",
      "Converting: y2mate.com - 초등 수학 개념잡기  25강 약수와 배수   003_360P.mp4 -> ./ebs_audio/y2mate.com - 초등 수학 개념잡기  25강 약수와 배수   003_360P.mp3\n",
      "MoviePy - Writing audio in ./ebs_audio/y2mate.com - 초등 수학 개념잡기  25강 약수와 배수   003_360P.mp3\n"
     ]
    },
    {
     "name": "stderr",
     "output_type": "stream",
     "text": [
      "                                                                      \r"
     ]
    },
    {
     "name": "stdout",
     "output_type": "stream",
     "text": [
      "MoviePy - Done.\n",
      "Converting: y2mate.com - 초등 수학 개념잡기  25강 약수와 배수   004_360P.mp4 -> ./ebs_audio/y2mate.com - 초등 수학 개념잡기  25강 약수와 배수   004_360P.mp3\n",
      "MoviePy - Writing audio in ./ebs_audio/y2mate.com - 초등 수학 개념잡기  25강 약수와 배수   004_360P.mp3\n"
     ]
    },
    {
     "name": "stderr",
     "output_type": "stream",
     "text": [
      "                                                                      \r"
     ]
    },
    {
     "name": "stdout",
     "output_type": "stream",
     "text": [
      "MoviePy - Done.\n",
      "Converting: y2mate.com - 초등 수학 개념잡기  26강 약분과 통분   002_360P.mp4 -> ./ebs_audio/y2mate.com - 초등 수학 개념잡기  26강 약분과 통분   002_360P.mp3\n",
      "MoviePy - Writing audio in ./ebs_audio/y2mate.com - 초등 수학 개념잡기  26강 약분과 통분   002_360P.mp3\n"
     ]
    },
    {
     "name": "stderr",
     "output_type": "stream",
     "text": [
      "                                                                      \r"
     ]
    },
    {
     "name": "stdout",
     "output_type": "stream",
     "text": [
      "MoviePy - Done.\n",
      "Converting: y2mate.com - 초등 수학 개념잡기  26강 약분과 통분   003_360P.mp4 -> ./ebs_audio/y2mate.com - 초등 수학 개념잡기  26강 약분과 통분   003_360P.mp3\n",
      "MoviePy - Writing audio in ./ebs_audio/y2mate.com - 초등 수학 개념잡기  26강 약분과 통분   003_360P.mp3\n"
     ]
    },
    {
     "name": "stderr",
     "output_type": "stream",
     "text": [
      "                                                                      \r"
     ]
    },
    {
     "name": "stdout",
     "output_type": "stream",
     "text": [
      "MoviePy - Done.\n",
      "Converting: y2mate.com - 초등 수학 개념잡기  26강 약분과 통분   004_360P.mp4 -> ./ebs_audio/y2mate.com - 초등 수학 개념잡기  26강 약분과 통분   004_360P.mp3\n",
      "MoviePy - Writing audio in ./ebs_audio/y2mate.com - 초등 수학 개념잡기  26강 약분과 통분   004_360P.mp3\n"
     ]
    },
    {
     "name": "stderr",
     "output_type": "stream",
     "text": [
      "                                                                      \r"
     ]
    },
    {
     "name": "stdout",
     "output_type": "stream",
     "text": [
      "MoviePy - Done.\n",
      "Converting: y2mate.com - 초등 수학 개념잡기  27강 분수의 덧셈과 뺄셈   001_360P.mp4 -> ./ebs_audio/y2mate.com - 초등 수학 개념잡기  27강 분수의 덧셈과 뺄셈   001_360P.mp3\n",
      "MoviePy - Writing audio in ./ebs_audio/y2mate.com - 초등 수학 개념잡기  27강 분수의 덧셈과 뺄셈   001_360P.mp3\n"
     ]
    },
    {
     "name": "stderr",
     "output_type": "stream",
     "text": [
      "                                                                      \r"
     ]
    },
    {
     "name": "stdout",
     "output_type": "stream",
     "text": [
      "MoviePy - Done.\n",
      "Converting: y2mate.com - 초등 수학 개념잡기  27강 분수의 덧셈과 뺄셈   002_360P.mp4 -> ./ebs_audio/y2mate.com - 초등 수학 개념잡기  27강 분수의 덧셈과 뺄셈   002_360P.mp3\n",
      "MoviePy - Writing audio in ./ebs_audio/y2mate.com - 초등 수학 개념잡기  27강 분수의 덧셈과 뺄셈   002_360P.mp3\n"
     ]
    },
    {
     "name": "stderr",
     "output_type": "stream",
     "text": [
      "                                                                      \r"
     ]
    },
    {
     "name": "stdout",
     "output_type": "stream",
     "text": [
      "MoviePy - Done.\n",
      "Converting: y2mate.com - 초등 수학 개념잡기  28강 분수의 곱셈   001_360P.mp4 -> ./ebs_audio/y2mate.com - 초등 수학 개념잡기  28강 분수의 곱셈   001_360P.mp3\n",
      "MoviePy - Writing audio in ./ebs_audio/y2mate.com - 초등 수학 개념잡기  28강 분수의 곱셈   001_360P.mp3\n"
     ]
    },
    {
     "name": "stderr",
     "output_type": "stream",
     "text": [
      "                                                                      \r"
     ]
    },
    {
     "name": "stdout",
     "output_type": "stream",
     "text": [
      "MoviePy - Done.\n",
      "Converting: y2mate.com - 초등 수학 개념잡기  28강 분수의 곱셈   002_360P.mp4 -> ./ebs_audio/y2mate.com - 초등 수학 개념잡기  28강 분수의 곱셈   002_360P.mp3\n",
      "MoviePy - Writing audio in ./ebs_audio/y2mate.com - 초등 수학 개념잡기  28강 분수의 곱셈   002_360P.mp3\n"
     ]
    },
    {
     "name": "stderr",
     "output_type": "stream",
     "text": [
      "                                                                      \r"
     ]
    },
    {
     "name": "stdout",
     "output_type": "stream",
     "text": [
      "MoviePy - Done.\n",
      "Converting: y2mate.com - 초등 수학 개념잡기  28강 분수의 곱셈   003_360P.mp4 -> ./ebs_audio/y2mate.com - 초등 수학 개념잡기  28강 분수의 곱셈   003_360P.mp3\n",
      "MoviePy - Writing audio in ./ebs_audio/y2mate.com - 초등 수학 개념잡기  28강 분수의 곱셈   003_360P.mp3\n"
     ]
    },
    {
     "name": "stderr",
     "output_type": "stream",
     "text": [
      "                                                                      \r"
     ]
    },
    {
     "name": "stdout",
     "output_type": "stream",
     "text": [
      "MoviePy - Done.\n",
      "Converting: y2mate.com - 초등 수학 개념잡기  28강 분수의 곱셈   004_360P.mp4 -> ./ebs_audio/y2mate.com - 초등 수학 개념잡기  28강 분수의 곱셈   004_360P.mp3\n",
      "MoviePy - Writing audio in ./ebs_audio/y2mate.com - 초등 수학 개념잡기  28강 분수의 곱셈   004_360P.mp3\n"
     ]
    },
    {
     "name": "stderr",
     "output_type": "stream",
     "text": [
      "                                                                      \r"
     ]
    },
    {
     "name": "stdout",
     "output_type": "stream",
     "text": [
      "MoviePy - Done.\n",
      "Converting: y2mate.com - 초등 수학 개념잡기  29강 분수의 나눗셈   001_360P.mp4 -> ./ebs_audio/y2mate.com - 초등 수학 개념잡기  29강 분수의 나눗셈   001_360P.mp3\n",
      "MoviePy - Writing audio in ./ebs_audio/y2mate.com - 초등 수학 개념잡기  29강 분수의 나눗셈   001_360P.mp3\n"
     ]
    },
    {
     "name": "stderr",
     "output_type": "stream",
     "text": [
      "                                                                      \r"
     ]
    },
    {
     "name": "stdout",
     "output_type": "stream",
     "text": [
      "MoviePy - Done.\n",
      "Converting: y2mate.com - 초등 수학 개념잡기  29강 분수의 나눗셈   002_360P.mp4 -> ./ebs_audio/y2mate.com - 초등 수학 개념잡기  29강 분수의 나눗셈   002_360P.mp3\n",
      "MoviePy - Writing audio in ./ebs_audio/y2mate.com - 초등 수학 개념잡기  29강 분수의 나눗셈   002_360P.mp3\n"
     ]
    },
    {
     "name": "stderr",
     "output_type": "stream",
     "text": [
      "                                                                      \r"
     ]
    },
    {
     "name": "stdout",
     "output_type": "stream",
     "text": [
      "MoviePy - Done.\n",
      "Converting: y2mate.com - 초등 수학 개념잡기  30강 소수의 곱셈   001_360P.mp4 -> ./ebs_audio/y2mate.com - 초등 수학 개념잡기  30강 소수의 곱셈   001_360P.mp3\n",
      "MoviePy - Writing audio in ./ebs_audio/y2mate.com - 초등 수학 개념잡기  30강 소수의 곱셈   001_360P.mp3\n"
     ]
    },
    {
     "name": "stderr",
     "output_type": "stream",
     "text": [
      "                                                                      \r"
     ]
    },
    {
     "name": "stdout",
     "output_type": "stream",
     "text": [
      "MoviePy - Done.\n",
      "Converting: y2mate.com - 초등 수학 개념잡기  30강 소수의 곱셈   002_360P.mp4 -> ./ebs_audio/y2mate.com - 초등 수학 개념잡기  30강 소수의 곱셈   002_360P.mp3\n",
      "MoviePy - Writing audio in ./ebs_audio/y2mate.com - 초등 수학 개념잡기  30강 소수의 곱셈   002_360P.mp3\n"
     ]
    },
    {
     "name": "stderr",
     "output_type": "stream",
     "text": [
      "                                                                      \r"
     ]
    },
    {
     "name": "stdout",
     "output_type": "stream",
     "text": [
      "MoviePy - Done.\n",
      "Converting: y2mate.com - 초등 수학 개념잡기  30강 소수의 곱셈   003_360P.mp4 -> ./ebs_audio/y2mate.com - 초등 수학 개념잡기  30강 소수의 곱셈   003_360P.mp3\n",
      "MoviePy - Writing audio in ./ebs_audio/y2mate.com - 초등 수학 개념잡기  30강 소수의 곱셈   003_360P.mp3\n"
     ]
    },
    {
     "name": "stderr",
     "output_type": "stream",
     "text": [
      "                                                                      \r"
     ]
    },
    {
     "name": "stdout",
     "output_type": "stream",
     "text": [
      "MoviePy - Done.\n",
      "Converting: y2mate.com - 초등 수학 개념잡기  30강 소수의 곱셈   004_360P.mp4 -> ./ebs_audio/y2mate.com - 초등 수학 개념잡기  30강 소수의 곱셈   004_360P.mp3\n",
      "MoviePy - Writing audio in ./ebs_audio/y2mate.com - 초등 수학 개념잡기  30강 소수의 곱셈   004_360P.mp3\n"
     ]
    },
    {
     "name": "stderr",
     "output_type": "stream",
     "text": [
      "                                                                      \r"
     ]
    },
    {
     "name": "stdout",
     "output_type": "stream",
     "text": [
      "MoviePy - Done.\n",
      "Converting: y2mate.com - 초등 수학 개념잡기  31강 소수의 나눗셈1   001_360P.mp4 -> ./ebs_audio/y2mate.com - 초등 수학 개념잡기  31강 소수의 나눗셈1   001_360P.mp3\n",
      "MoviePy - Writing audio in ./ebs_audio/y2mate.com - 초등 수학 개념잡기  31강 소수의 나눗셈1   001_360P.mp3\n"
     ]
    },
    {
     "name": "stderr",
     "output_type": "stream",
     "text": [
      "                                                                      \r"
     ]
    },
    {
     "name": "stdout",
     "output_type": "stream",
     "text": [
      "MoviePy - Done.\n",
      "Converting: y2mate.com - 초등 수학 개념잡기  31강 소수의 나눗셈1   003_360P.mp4 -> ./ebs_audio/y2mate.com - 초등 수학 개념잡기  31강 소수의 나눗셈1   003_360P.mp3\n",
      "MoviePy - Writing audio in ./ebs_audio/y2mate.com - 초등 수학 개념잡기  31강 소수의 나눗셈1   003_360P.mp3\n"
     ]
    },
    {
     "name": "stderr",
     "output_type": "stream",
     "text": [
      "                                                                      \r"
     ]
    },
    {
     "name": "stdout",
     "output_type": "stream",
     "text": [
      "MoviePy - Done.\n",
      "Converting: y2mate.com - 초등 수학 개념잡기  31강 소수의 나눗셈1   004_360P.mp4 -> ./ebs_audio/y2mate.com - 초등 수학 개념잡기  31강 소수의 나눗셈1   004_360P.mp3\n",
      "MoviePy - Writing audio in ./ebs_audio/y2mate.com - 초등 수학 개념잡기  31강 소수의 나눗셈1   004_360P.mp3\n"
     ]
    },
    {
     "name": "stderr",
     "output_type": "stream",
     "text": [
      "                                                                      \r"
     ]
    },
    {
     "name": "stdout",
     "output_type": "stream",
     "text": [
      "MoviePy - Done.\n",
      "Converting: y2mate.com - 초등 수학 개념잡기  32강 소수의 나눗셈2   001_360P.mp4 -> ./ebs_audio/y2mate.com - 초등 수학 개념잡기  32강 소수의 나눗셈2   001_360P.mp3\n",
      "MoviePy - Writing audio in ./ebs_audio/y2mate.com - 초등 수학 개념잡기  32강 소수의 나눗셈2   001_360P.mp3\n"
     ]
    },
    {
     "name": "stderr",
     "output_type": "stream",
     "text": [
      "                                                                      \r"
     ]
    },
    {
     "name": "stdout",
     "output_type": "stream",
     "text": [
      "MoviePy - Done.\n",
      "Converting: y2mate.com - 초등 수학 개념잡기  32강 소수의 나눗셈2   002_360p.mp4 -> ./ebs_audio/y2mate.com - 초등 수학 개념잡기  32강 소수의 나눗셈2   002_360p.mp3\n",
      "MoviePy - Writing audio in ./ebs_audio/y2mate.com - 초등 수학 개념잡기  32강 소수의 나눗셈2   002_360p.mp3\n"
     ]
    },
    {
     "name": "stderr",
     "output_type": "stream",
     "text": [
      "                                                                      \r"
     ]
    },
    {
     "name": "stdout",
     "output_type": "stream",
     "text": [
      "MoviePy - Done.\n",
      "Converting: y2mate.com - 초등 수학 개념잡기  32강 소수의 나눗셈2   003_360P.mp4 -> ./ebs_audio/y2mate.com - 초등 수학 개념잡기  32강 소수의 나눗셈2   003_360P.mp3\n",
      "MoviePy - Writing audio in ./ebs_audio/y2mate.com - 초등 수학 개념잡기  32강 소수의 나눗셈2   003_360P.mp3\n"
     ]
    },
    {
     "name": "stderr",
     "output_type": "stream",
     "text": [
      "                                                                      \r"
     ]
    },
    {
     "name": "stdout",
     "output_type": "stream",
     "text": [
      "MoviePy - Done.\n",
      "Converting: y2mate.com - 초등 수학 개념잡기  33강 분수와 소수의 혼합 계산    001_360P.mp4 -> ./ebs_audio/y2mate.com - 초등 수학 개념잡기  33강 분수와 소수의 혼합 계산    001_360P.mp3\n",
      "MoviePy - Writing audio in ./ebs_audio/y2mate.com - 초등 수학 개념잡기  33강 분수와 소수의 혼합 계산    001_360P.mp3\n"
     ]
    },
    {
     "name": "stderr",
     "output_type": "stream",
     "text": [
      "                                                                      \r"
     ]
    },
    {
     "name": "stdout",
     "output_type": "stream",
     "text": [
      "MoviePy - Done.\n",
      "Converting: y2mate.com - 초등 수학 개념잡기  33강 분수와 소수의 혼합 계산    003_360P.mp4 -> ./ebs_audio/y2mate.com - 초등 수학 개념잡기  33강 분수와 소수의 혼합 계산    003_360P.mp3\n",
      "MoviePy - Writing audio in ./ebs_audio/y2mate.com - 초등 수학 개념잡기  33강 분수와 소수의 혼합 계산    003_360P.mp3\n"
     ]
    },
    {
     "name": "stderr",
     "output_type": "stream",
     "text": [
      "                                                                      \r"
     ]
    },
    {
     "name": "stdout",
     "output_type": "stream",
     "text": [
      "MoviePy - Done.\n",
      "Converting: y2mate.com - 초등 수학 개념잡기  33강 분수와 소수의 혼합 계산    004_360P.mp4 -> ./ebs_audio/y2mate.com - 초등 수학 개념잡기  33강 분수와 소수의 혼합 계산    004_360P.mp3\n",
      "MoviePy - Writing audio in ./ebs_audio/y2mate.com - 초등 수학 개념잡기  33강 분수와 소수의 혼합 계산    004_360P.mp3\n"
     ]
    },
    {
     "name": "stderr",
     "output_type": "stream",
     "text": [
      "                                                                      \r"
     ]
    },
    {
     "name": "stdout",
     "output_type": "stream",
     "text": [
      "MoviePy - Done.\n",
      "Converting: y2mate.com - 초등 수학 개념잡기  34강 평면도형의 넓이   001_360P.mp4 -> ./ebs_audio/y2mate.com - 초등 수학 개념잡기  34강 평면도형의 넓이   001_360P.mp3\n",
      "MoviePy - Writing audio in ./ebs_audio/y2mate.com - 초등 수학 개념잡기  34강 평면도형의 넓이   001_360P.mp3\n"
     ]
    },
    {
     "name": "stderr",
     "output_type": "stream",
     "text": [
      "                                                                      \r"
     ]
    },
    {
     "name": "stdout",
     "output_type": "stream",
     "text": [
      "MoviePy - Done.\n",
      "Converting: y2mate.com - 초등 수학 개념잡기  34강 평면도형의 넓이   002_360P.mp4 -> ./ebs_audio/y2mate.com - 초등 수학 개념잡기  34강 평면도형의 넓이   002_360P.mp3\n",
      "MoviePy - Writing audio in ./ebs_audio/y2mate.com - 초등 수학 개념잡기  34강 평면도형의 넓이   002_360P.mp3\n"
     ]
    },
    {
     "name": "stderr",
     "output_type": "stream",
     "text": [
      "                                                                      \r"
     ]
    },
    {
     "name": "stdout",
     "output_type": "stream",
     "text": [
      "MoviePy - Done.\n",
      "Converting: y2mate.com - 초등 수학 개념잡기  34강 평면도형의 넓이   003_360P.mp4 -> ./ebs_audio/y2mate.com - 초등 수학 개념잡기  34강 평면도형의 넓이   003_360P.mp3\n",
      "MoviePy - Writing audio in ./ebs_audio/y2mate.com - 초등 수학 개념잡기  34강 평면도형의 넓이   003_360P.mp3\n"
     ]
    },
    {
     "name": "stderr",
     "output_type": "stream",
     "text": [
      "                                                                      \r"
     ]
    },
    {
     "name": "stdout",
     "output_type": "stream",
     "text": [
      "MoviePy - Done.\n",
      "Converting: y2mate.com - 초등 수학 개념잡기  35강 원주율과 원의 넓이   001_360p.mp4 -> ./ebs_audio/y2mate.com - 초등 수학 개념잡기  35강 원주율과 원의 넓이   001_360p.mp3\n",
      "MoviePy - Writing audio in ./ebs_audio/y2mate.com - 초등 수학 개념잡기  35강 원주율과 원의 넓이   001_360p.mp3\n"
     ]
    },
    {
     "name": "stderr",
     "output_type": "stream",
     "text": [
      "                                                                      \r"
     ]
    },
    {
     "name": "stdout",
     "output_type": "stream",
     "text": [
      "MoviePy - Done.\n",
      "Converting: y2mate.com - 초등 수학 개념잡기  35강 원주율과 원의 넓이   002_360P.mp4 -> ./ebs_audio/y2mate.com - 초등 수학 개념잡기  35강 원주율과 원의 넓이   002_360P.mp3\n",
      "MoviePy - Writing audio in ./ebs_audio/y2mate.com - 초등 수학 개념잡기  35강 원주율과 원의 넓이   002_360P.mp3\n"
     ]
    },
    {
     "name": "stderr",
     "output_type": "stream",
     "text": [
      "                                                                      \r"
     ]
    },
    {
     "name": "stdout",
     "output_type": "stream",
     "text": [
      "MoviePy - Done.\n",
      "Converting: y2mate.com - 초등 수학 개념잡기  35강 원주율과 원의 넓이   003_360P.mp4 -> ./ebs_audio/y2mate.com - 초등 수학 개념잡기  35강 원주율과 원의 넓이   003_360P.mp3\n",
      "MoviePy - Writing audio in ./ebs_audio/y2mate.com - 초등 수학 개념잡기  35강 원주율과 원의 넓이   003_360P.mp3\n"
     ]
    },
    {
     "name": "stderr",
     "output_type": "stream",
     "text": [
      "                                                                      \r"
     ]
    },
    {
     "name": "stdout",
     "output_type": "stream",
     "text": [
      "MoviePy - Done.\n",
      "Converting: y2mate.com - 초등 수학 개념잡기  35강 원주율과 원의 넓이   004_360P.mp4 -> ./ebs_audio/y2mate.com - 초등 수학 개념잡기  35강 원주율과 원의 넓이   004_360P.mp3\n",
      "MoviePy - Writing audio in ./ebs_audio/y2mate.com - 초등 수학 개념잡기  35강 원주율과 원의 넓이   004_360P.mp3\n"
     ]
    },
    {
     "name": "stderr",
     "output_type": "stream",
     "text": [
      "                                                                      \r"
     ]
    },
    {
     "name": "stdout",
     "output_type": "stream",
     "text": [
      "MoviePy - Done.\n",
      "Converting: y2mate.com - 초등 수학 개념잡기  36강 겉넓이와 부피   001_360P.mp4 -> ./ebs_audio/y2mate.com - 초등 수학 개념잡기  36강 겉넓이와 부피   001_360P.mp3\n",
      "MoviePy - Writing audio in ./ebs_audio/y2mate.com - 초등 수학 개념잡기  36강 겉넓이와 부피   001_360P.mp3\n"
     ]
    },
    {
     "name": "stderr",
     "output_type": "stream",
     "text": [
      "                                                                      \r"
     ]
    },
    {
     "name": "stdout",
     "output_type": "stream",
     "text": [
      "MoviePy - Done.\n",
      "Converting: y2mate.com - 초등 수학 개념잡기  36강 겉넓이와 부피   002_360P.mp4 -> ./ebs_audio/y2mate.com - 초등 수학 개념잡기  36강 겉넓이와 부피   002_360P.mp3\n",
      "MoviePy - Writing audio in ./ebs_audio/y2mate.com - 초등 수학 개념잡기  36강 겉넓이와 부피   002_360P.mp3\n"
     ]
    },
    {
     "name": "stderr",
     "output_type": "stream",
     "text": [
      "                                                                      \r"
     ]
    },
    {
     "name": "stdout",
     "output_type": "stream",
     "text": [
      "MoviePy - Done.\n",
      "Converting: y2mate.com - 초등 수학 개념잡기  36강 겉넓이와 부피   003_360p.mp4 -> ./ebs_audio/y2mate.com - 초등 수학 개념잡기  36강 겉넓이와 부피   003_360p.mp3\n",
      "MoviePy - Writing audio in ./ebs_audio/y2mate.com - 초등 수학 개념잡기  36강 겉넓이와 부피   003_360p.mp3\n"
     ]
    },
    {
     "name": "stderr",
     "output_type": "stream",
     "text": [
      "                                                                      \r"
     ]
    },
    {
     "name": "stdout",
     "output_type": "stream",
     "text": [
      "MoviePy - Done.\n",
      "Converting: y2mate.com - 초등 수학 개념잡기  36강 겉넓이와 부피   004_360P.mp4 -> ./ebs_audio/y2mate.com - 초등 수학 개념잡기  36강 겉넓이와 부피   004_360P.mp3\n",
      "MoviePy - Writing audio in ./ebs_audio/y2mate.com - 초등 수학 개념잡기  36강 겉넓이와 부피   004_360P.mp3\n"
     ]
    },
    {
     "name": "stderr",
     "output_type": "stream",
     "text": [
      "                                                                      \r"
     ]
    },
    {
     "name": "stdout",
     "output_type": "stream",
     "text": [
      "MoviePy - Done.\n",
      "Converting: y2mate.com - 초등 수학 개념잡기  37강 원기둥의 겉넓이와 부피   001_360P.mp4 -> ./ebs_audio/y2mate.com - 초등 수학 개념잡기  37강 원기둥의 겉넓이와 부피   001_360P.mp3\n",
      "MoviePy - Writing audio in ./ebs_audio/y2mate.com - 초등 수학 개념잡기  37강 원기둥의 겉넓이와 부피   001_360P.mp3\n"
     ]
    },
    {
     "name": "stderr",
     "output_type": "stream",
     "text": [
      "                                                                      \r"
     ]
    },
    {
     "name": "stdout",
     "output_type": "stream",
     "text": [
      "MoviePy - Done.\n",
      "Converting: y2mate.com - 초등 수학 개념잡기  37강 원기둥의 겉넓이와 부피   002_360P.mp4 -> ./ebs_audio/y2mate.com - 초등 수학 개념잡기  37강 원기둥의 겉넓이와 부피   002_360P.mp3\n",
      "MoviePy - Writing audio in ./ebs_audio/y2mate.com - 초등 수학 개념잡기  37강 원기둥의 겉넓이와 부피   002_360P.mp3\n"
     ]
    },
    {
     "name": "stderr",
     "output_type": "stream",
     "text": [
      "                                                                      \r"
     ]
    },
    {
     "name": "stdout",
     "output_type": "stream",
     "text": [
      "MoviePy - Done.\n",
      "Converting: y2mate.com - 초등 수학 개념잡기  37강 원기둥의 겉넓이와 부피   003_360P.mp4 -> ./ebs_audio/y2mate.com - 초등 수학 개념잡기  37강 원기둥의 겉넓이와 부피   003_360P.mp3\n",
      "MoviePy - Writing audio in ./ebs_audio/y2mate.com - 초등 수학 개념잡기  37강 원기둥의 겉넓이와 부피   003_360P.mp3\n"
     ]
    },
    {
     "name": "stderr",
     "output_type": "stream",
     "text": [
      "                                                                      \r"
     ]
    },
    {
     "name": "stdout",
     "output_type": "stream",
     "text": [
      "MoviePy - Done.\n",
      "Converting: y2mate.com - 초등 수학 개념잡기  37강 원기둥의 겉넓이와 부피   004_360P.mp4 -> ./ebs_audio/y2mate.com - 초등 수학 개념잡기  37강 원기둥의 겉넓이와 부피   004_360P.mp3\n",
      "MoviePy - Writing audio in ./ebs_audio/y2mate.com - 초등 수학 개념잡기  37강 원기둥의 겉넓이와 부피   004_360P.mp3\n"
     ]
    },
    {
     "name": "stderr",
     "output_type": "stream",
     "text": [
      "                                                                      \r"
     ]
    },
    {
     "name": "stdout",
     "output_type": "stream",
     "text": [
      "MoviePy - Done.\n",
      "Converting: y2mate.com - 초등 수학 개념잡기  38강 도형의 대칭   001_360P.mp4 -> ./ebs_audio/y2mate.com - 초등 수학 개념잡기  38강 도형의 대칭   001_360P.mp3\n",
      "MoviePy - Writing audio in ./ebs_audio/y2mate.com - 초등 수학 개념잡기  38강 도형의 대칭   001_360P.mp3\n"
     ]
    },
    {
     "name": "stderr",
     "output_type": "stream",
     "text": [
      "                                                                      \r"
     ]
    },
    {
     "name": "stdout",
     "output_type": "stream",
     "text": [
      "MoviePy - Done.\n",
      "Converting: y2mate.com - 초등 수학 개념잡기  38강 도형의 대칭   003_360P.mp4 -> ./ebs_audio/y2mate.com - 초등 수학 개념잡기  38강 도형의 대칭   003_360P.mp3\n",
      "MoviePy - Writing audio in ./ebs_audio/y2mate.com - 초등 수학 개념잡기  38강 도형의 대칭   003_360P.mp3\n"
     ]
    },
    {
     "name": "stderr",
     "output_type": "stream",
     "text": [
      "                                                                      \r"
     ]
    },
    {
     "name": "stdout",
     "output_type": "stream",
     "text": [
      "MoviePy - Done.\n",
      "Converting: y2mate.com - 초등 수학 개념잡기  38강 도형의 대칭   004_360P.mp4 -> ./ebs_audio/y2mate.com - 초등 수학 개념잡기  38강 도형의 대칭   004_360P.mp3\n",
      "MoviePy - Writing audio in ./ebs_audio/y2mate.com - 초등 수학 개념잡기  38강 도형의 대칭   004_360P.mp3\n"
     ]
    },
    {
     "name": "stderr",
     "output_type": "stream",
     "text": [
      "                                                                      \r"
     ]
    },
    {
     "name": "stdout",
     "output_type": "stream",
     "text": [
      "MoviePy - Done.\n",
      "Converting: y2mate.com - 초등 수학 개념잡기  39강 자료의 표현과 해석   001_360P.mp4 -> ./ebs_audio/y2mate.com - 초등 수학 개념잡기  39강 자료의 표현과 해석   001_360P.mp3\n",
      "MoviePy - Writing audio in ./ebs_audio/y2mate.com - 초등 수학 개념잡기  39강 자료의 표현과 해석   001_360P.mp3\n"
     ]
    },
    {
     "name": "stderr",
     "output_type": "stream",
     "text": [
      "                                                                      \r"
     ]
    },
    {
     "name": "stdout",
     "output_type": "stream",
     "text": [
      "MoviePy - Done.\n",
      "Converting: y2mate.com - 초등 수학 개념잡기  40강 비와 비율   001_360P.mp4 -> ./ebs_audio/y2mate.com - 초등 수학 개념잡기  40강 비와 비율   001_360P.mp3\n",
      "MoviePy - Writing audio in ./ebs_audio/y2mate.com - 초등 수학 개념잡기  40강 비와 비율   001_360P.mp3\n"
     ]
    },
    {
     "name": "stderr",
     "output_type": "stream",
     "text": [
      "                                                                      \r"
     ]
    },
    {
     "name": "stdout",
     "output_type": "stream",
     "text": [
      "MoviePy - Done.\n",
      "Converting: y2mate.com - 초등 수학 개념잡기  40강 비와 비율   004_360P.mp4 -> ./ebs_audio/y2mate.com - 초등 수학 개념잡기  40강 비와 비율   004_360P.mp3\n",
      "MoviePy - Writing audio in ./ebs_audio/y2mate.com - 초등 수학 개념잡기  40강 비와 비율   004_360P.mp3\n"
     ]
    },
    {
     "name": "stderr",
     "output_type": "stream",
     "text": [
      "                                                                      \r"
     ]
    },
    {
     "name": "stdout",
     "output_type": "stream",
     "text": [
      "MoviePy - Done.\n",
      "Converting: y2mate.com - 초등 수학 개념잡기  41강 비율 그래프  002_360P.mp4 -> ./ebs_audio/y2mate.com - 초등 수학 개념잡기  41강 비율 그래프  002_360P.mp3\n",
      "MoviePy - Writing audio in ./ebs_audio/y2mate.com - 초등 수학 개념잡기  41강 비율 그래프  002_360P.mp3\n"
     ]
    },
    {
     "name": "stderr",
     "output_type": "stream",
     "text": [
      "                                                                      \r"
     ]
    },
    {
     "name": "stdout",
     "output_type": "stream",
     "text": [
      "MoviePy - Done.\n",
      "Converting: y2mate.com - 초등 수학 개념잡기  41강 비율 그래프  004_360P.mp4 -> ./ebs_audio/y2mate.com - 초등 수학 개념잡기  41강 비율 그래프  004_360P.mp3\n",
      "MoviePy - Writing audio in ./ebs_audio/y2mate.com - 초등 수학 개념잡기  41강 비율 그래프  004_360P.mp3\n"
     ]
    },
    {
     "name": "stderr",
     "output_type": "stream",
     "text": [
      "                                                                      \r"
     ]
    },
    {
     "name": "stdout",
     "output_type": "stream",
     "text": [
      "MoviePy - Done.\n",
      "Converting: y2mate.com - 초등 수학 개념잡기  42강 비례식   001_360P.mp4 -> ./ebs_audio/y2mate.com - 초등 수학 개념잡기  42강 비례식   001_360P.mp3\n",
      "MoviePy - Writing audio in ./ebs_audio/y2mate.com - 초등 수학 개념잡기  42강 비례식   001_360P.mp3\n"
     ]
    },
    {
     "name": "stderr",
     "output_type": "stream",
     "text": [
      "                                                                      \r"
     ]
    },
    {
     "name": "stdout",
     "output_type": "stream",
     "text": [
      "MoviePy - Done.\n",
      "Converting: y2mate.com - 초등 수학 개념잡기  42강 비례식   002_360P.mp4 -> ./ebs_audio/y2mate.com - 초등 수학 개념잡기  42강 비례식   002_360P.mp3\n",
      "MoviePy - Writing audio in ./ebs_audio/y2mate.com - 초등 수학 개념잡기  42강 비례식   002_360P.mp3\n"
     ]
    },
    {
     "name": "stderr",
     "output_type": "stream",
     "text": [
      "                                                                      \r"
     ]
    },
    {
     "name": "stdout",
     "output_type": "stream",
     "text": [
      "MoviePy - Done.\n",
      "Converting: y2mate.com - 초등 수학 개념잡기  42강 비례식   004_360P.mp4 -> ./ebs_audio/y2mate.com - 초등 수학 개념잡기  42강 비례식   004_360P.mp3\n",
      "MoviePy - Writing audio in ./ebs_audio/y2mate.com - 초등 수학 개념잡기  42강 비례식   004_360P.mp3\n"
     ]
    },
    {
     "name": "stderr",
     "output_type": "stream",
     "text": [
      "                                                                      \r"
     ]
    },
    {
     "name": "stdout",
     "output_type": "stream",
     "text": [
      "MoviePy - Done.\n",
      "Converting: y2mate.com - 초등 수학 개념잡기  43강 연비와 비례배분   002_360P.mp4 -> ./ebs_audio/y2mate.com - 초등 수학 개념잡기  43강 연비와 비례배분   002_360P.mp3\n",
      "MoviePy - Writing audio in ./ebs_audio/y2mate.com - 초등 수학 개념잡기  43강 연비와 비례배분   002_360P.mp3\n"
     ]
    },
    {
     "name": "stderr",
     "output_type": "stream",
     "text": [
      "                                                                      \r"
     ]
    },
    {
     "name": "stdout",
     "output_type": "stream",
     "text": [
      "MoviePy - Done.\n",
      "Converting: y2mate.com - 초등 수학 개념잡기  43강 연비와 비례배분   004_360P.mp4 -> ./ebs_audio/y2mate.com - 초등 수학 개념잡기  43강 연비와 비례배분   004_360P.mp3\n",
      "MoviePy - Writing audio in ./ebs_audio/y2mate.com - 초등 수학 개념잡기  43강 연비와 비례배분   004_360P.mp3\n"
     ]
    },
    {
     "name": "stderr",
     "output_type": "stream",
     "text": [
      "                                                                      \r"
     ]
    },
    {
     "name": "stdout",
     "output_type": "stream",
     "text": [
      "MoviePy - Done.\n",
      "Converting: y2mate.com - 초등 수학 개념잡기  44강 경우의 수와 확률   001_360P.mp4 -> ./ebs_audio/y2mate.com - 초등 수학 개념잡기  44강 경우의 수와 확률   001_360P.mp3\n",
      "MoviePy - Writing audio in ./ebs_audio/y2mate.com - 초등 수학 개념잡기  44강 경우의 수와 확률   001_360P.mp3\n"
     ]
    },
    {
     "name": "stderr",
     "output_type": "stream",
     "text": [
      "                                                                      \r"
     ]
    },
    {
     "name": "stdout",
     "output_type": "stream",
     "text": [
      "MoviePy - Done.\n",
      "Converting: y2mate.com - 초등 수학 개념잡기  44강 경우의 수와 확률   002_360P.mp4 -> ./ebs_audio/y2mate.com - 초등 수학 개념잡기  44강 경우의 수와 확률   002_360P.mp3\n",
      "MoviePy - Writing audio in ./ebs_audio/y2mate.com - 초등 수학 개념잡기  44강 경우의 수와 확률   002_360P.mp3\n"
     ]
    },
    {
     "name": "stderr",
     "output_type": "stream",
     "text": [
      "                                                                      \r"
     ]
    },
    {
     "name": "stdout",
     "output_type": "stream",
     "text": [
      "MoviePy - Done.\n",
      "Converting: y2mate.com - 초등 수학 개념잡기  44강 경우의 수와 확률   003_360P.mp4 -> ./ebs_audio/y2mate.com - 초등 수학 개념잡기  44강 경우의 수와 확률   003_360P.mp3\n",
      "MoviePy - Writing audio in ./ebs_audio/y2mate.com - 초등 수학 개념잡기  44강 경우의 수와 확률   003_360P.mp3\n"
     ]
    },
    {
     "name": "stderr",
     "output_type": "stream",
     "text": [
      "                                                                      \r"
     ]
    },
    {
     "name": "stdout",
     "output_type": "stream",
     "text": [
      "MoviePy - Done.\n",
      "Converting: y2mate.com - 초등 수학 개념잡기  44강 경우의 수와 확률   004_360P.mp4 -> ./ebs_audio/y2mate.com - 초등 수학 개념잡기  44강 경우의 수와 확률   004_360P.mp3\n",
      "MoviePy - Writing audio in ./ebs_audio/y2mate.com - 초등 수학 개념잡기  44강 경우의 수와 확률   004_360P.mp3\n"
     ]
    },
    {
     "name": "stderr",
     "output_type": "stream",
     "text": [
      "                                                                      \r"
     ]
    },
    {
     "name": "stdout",
     "output_type": "stream",
     "text": [
      "MoviePy - Done.\n",
      "Converting: y2mate.com - 초등 수학 개념잡기  45강 방정식   001_360P.mp4 -> ./ebs_audio/y2mate.com - 초등 수학 개념잡기  45강 방정식   001_360P.mp3\n",
      "MoviePy - Writing audio in ./ebs_audio/y2mate.com - 초등 수학 개념잡기  45강 방정식   001_360P.mp3\n"
     ]
    },
    {
     "name": "stderr",
     "output_type": "stream",
     "text": [
      "                                                                      \r"
     ]
    },
    {
     "name": "stdout",
     "output_type": "stream",
     "text": [
      "MoviePy - Done.\n",
      "Converting: y2mate.com - 초등 수학 개념잡기  45강 방정식   003_360P.mp4 -> ./ebs_audio/y2mate.com - 초등 수학 개념잡기  45강 방정식   003_360P.mp3\n",
      "MoviePy - Writing audio in ./ebs_audio/y2mate.com - 초등 수학 개념잡기  45강 방정식   003_360P.mp3\n"
     ]
    },
    {
     "name": "stderr",
     "output_type": "stream",
     "text": [
      "                                                                      "
     ]
    },
    {
     "name": "stdout",
     "output_type": "stream",
     "text": [
      "MoviePy - Done.\n"
     ]
    },
    {
     "name": "stderr",
     "output_type": "stream",
     "text": [
      "\r"
     ]
    }
   ],
   "source": [
    "from moviepy.editor import VideoFileClip\n",
    "\n",
    "# 비디오 파일이 있는 폴더 경로\n",
    "video_folder_path = \"./ebs/\"\n",
    "# 오디오 파일을 저장할 폴더 경로\n",
    "audio_output_folder_path = \"./ebs_audio/\"\n",
    "# 오디오 파일을 저장할 폴더가 없으면 생성\n",
    "if not os.path.exists(audio_output_folder_path):\n",
    "    os.makedirs(audio_output_folder_path)\n",
    "# 비디오 폴더 내 모든 파일을 가져오기\n",
    "for filename in os.listdir(video_folder_path):\n",
    "    # 확장자가 비디오 파일인지 확인 (여기서는 .mp4 기준)\n",
    "    if filename.endswith(\".mp4\"):\n",
    "        video_path = os.path.join(video_folder_path, filename)\n",
    "        audio_output_path = os.path.join(\n",
    "            audio_output_folder_path, f\"{os.path.splitext(filename)[0]}.mp3\"\n",
    "        )\n",
    "        # 비디오 파일 불러오기\n",
    "        video_clip = VideoFileClip(video_path)\n",
    "        # 비디오에서 오디오 추출\n",
    "        audio_clip = video_clip.audio\n",
    "        # 오디오 파일로 저장\n",
    "        print(f\"Converting: {filename} -> {audio_output_path}\")\n",
    "        audio_clip.write_audiofile(audio_output_path)\n",
    "        # 리소스 해제\n",
    "        audio_clip.close()\n",
    "        video_clip.close()"
   ]
  },
  {
   "cell_type": "code",
   "execution_count": 40,
   "metadata": {},
   "outputs": [],
   "source": [
    "from transformers import pipeline\n",
    "\n",
    "whisper_medium = pipeline(\"automatic-speech-recognition\", \"openai/whisper-medium\")\n",
    "whisper_small = pipeline(\"automatic-speech-recognition\", \"openai/whisper-small\")"
   ]
  },
  {
   "cell_type": "code",
   "execution_count": 43,
   "metadata": {},
   "outputs": [
    {
     "name": "stdout",
     "output_type": "stream",
     "text": [
      "MoviePy - Writing audio in chunk_0_30.mp3\n"
     ]
    },
    {
     "name": "stderr",
     "output_type": "stream",
     "text": [
      "                                                                    \r"
     ]
    },
    {
     "name": "stdout",
     "output_type": "stream",
     "text": [
      "MoviePy - Done.\n",
      "MoviePy - Writing audio in chunk_30_60.mp3\n"
     ]
    },
    {
     "name": "stderr",
     "output_type": "stream",
     "text": [
      "                                                                    \r"
     ]
    },
    {
     "name": "stdout",
     "output_type": "stream",
     "text": [
      "MoviePy - Done.\n",
      "MoviePy - Writing audio in chunk_60_90.mp3\n"
     ]
    },
    {
     "name": "stderr",
     "output_type": "stream",
     "text": [
      "                                                                    \r"
     ]
    },
    {
     "name": "stdout",
     "output_type": "stream",
     "text": [
      "MoviePy - Done.\n",
      "MoviePy - Writing audio in chunk_90_120.mp3\n"
     ]
    },
    {
     "name": "stderr",
     "output_type": "stream",
     "text": [
      "                                                                    \r"
     ]
    },
    {
     "name": "stdout",
     "output_type": "stream",
     "text": [
      "MoviePy - Done.\n",
      "MoviePy - Writing audio in chunk_120_150.mp3\n"
     ]
    },
    {
     "name": "stderr",
     "output_type": "stream",
     "text": [
      "                                                                    \r"
     ]
    },
    {
     "name": "stdout",
     "output_type": "stream",
     "text": [
      "MoviePy - Done.\n",
      "MoviePy - Writing audio in chunk_150_180.mp3\n"
     ]
    },
    {
     "name": "stderr",
     "output_type": "stream",
     "text": [
      "                                                                    \r"
     ]
    },
    {
     "name": "stdout",
     "output_type": "stream",
     "text": [
      "MoviePy - Done.\n",
      "MoviePy - Writing audio in chunk_180_210.mp3\n"
     ]
    },
    {
     "name": "stderr",
     "output_type": "stream",
     "text": [
      "                                                                    \r"
     ]
    },
    {
     "name": "stdout",
     "output_type": "stream",
     "text": [
      "MoviePy - Done.\n",
      "MoviePy - Writing audio in chunk_210_240.mp3\n"
     ]
    },
    {
     "name": "stderr",
     "output_type": "stream",
     "text": [
      "                                                                    \r"
     ]
    },
    {
     "name": "stdout",
     "output_type": "stream",
     "text": [
      "MoviePy - Done.\n",
      "MoviePy - Writing audio in chunk_240_270.mp3\n"
     ]
    },
    {
     "name": "stderr",
     "output_type": "stream",
     "text": [
      "                                                                    \r"
     ]
    },
    {
     "name": "stdout",
     "output_type": "stream",
     "text": [
      "MoviePy - Done.\n",
      "MoviePy - Writing audio in chunk_270_300.mp3\n"
     ]
    },
    {
     "name": "stderr",
     "output_type": "stream",
     "text": [
      "                                                                    \r"
     ]
    },
    {
     "name": "stdout",
     "output_type": "stream",
     "text": [
      "MoviePy - Done.\n",
      "MoviePy - Writing audio in chunk_300_330.mp3\n"
     ]
    },
    {
     "name": "stderr",
     "output_type": "stream",
     "text": [
      "                                                                    \r"
     ]
    },
    {
     "name": "stdout",
     "output_type": "stream",
     "text": [
      "MoviePy - Done.\n",
      "MoviePy - Writing audio in chunk_330_360.mp3\n"
     ]
    },
    {
     "name": "stderr",
     "output_type": "stream",
     "text": [
      "                                                                    \r"
     ]
    },
    {
     "name": "stdout",
     "output_type": "stream",
     "text": [
      "MoviePy - Done.\n",
      "MoviePy - Writing audio in chunk_360_390.mp3\n"
     ]
    },
    {
     "name": "stderr",
     "output_type": "stream",
     "text": [
      "                                                                    \r"
     ]
    },
    {
     "name": "stdout",
     "output_type": "stream",
     "text": [
      "MoviePy - Done.\n",
      "MoviePy - Writing audio in chunk_390_420.mp3\n"
     ]
    },
    {
     "name": "stderr",
     "output_type": "stream",
     "text": [
      "                                                                    \r"
     ]
    },
    {
     "name": "stdout",
     "output_type": "stream",
     "text": [
      "MoviePy - Done.\n",
      "MoviePy - Writing audio in chunk_420_450.mp3\n"
     ]
    },
    {
     "name": "stderr",
     "output_type": "stream",
     "text": [
      "                                                                    \r"
     ]
    },
    {
     "name": "stdout",
     "output_type": "stream",
     "text": [
      "MoviePy - Done.\n"
     ]
    },
    {
     "data": {
      "text/plain": [
       "' 안녕하세요 우리 친구들 반갑습니다 안녕하세요 우리 친구들 반갑습니다  여러분들과 함께 소수에 대해서 그 핵심의 개념을 짚어볼 나소은 선생님이에요. 자, 소수라고 하는 거 우리 초등학교 3학년 교과부터 쭉 학습이 이루어지는데요. 여러분들 어때요? 소수라고 하면 굉장히 낯선 친구들도 있을 거고 어, 나 소수를 배웠지만 뭔가 좀 잘 정리되지 않았던 느낌 받았던 친구들 분명히 있을 거예요. 걱정하지 마세요. 선생님과 함께 하시면 소수에 대한 기본 개념들이 정확하게 다소집니다. 이번 시간에 학습의 목표 알아볼까요? 그리고 보낙섭을 통해서 바로  만나보도록 할게요. 개념 쏙쏙 그 첫 번째 내용. 우리 제목을 보니까 소설이...  소수 한 자리 수, 소수 두 자리 수, 소수 세 자리 수 알아보기 라고 되어져 있죠. 그런데 이거 선생님이 알아보기 쉽게 한꺼번에 정리를 해드릴게요. 우리는 소수를 접하면서 제일 먼저 뭘 배웠었냐면 소수 한 자리 수 중에서 0.1이라고 하는 것을 배웠어요. 이게 소수 한 자리 수죠. 그런데 0.1이라고 하는 걸 설명하면서 무엇을 얘기를 하게 됐냐면 이렇게 하나가 있었다. 그런데 그 1을 똑같이 10개의 칸으로  나눠주었습니다. 그 중에 하나만큼을 표현할 때 분수로 10분의 1이라고 얘기를 했죠. 이거는 10개로 나눈 것 중에 하나만큼의 값입니다 라는 뜻인데 이것을 소수로 표현하여서 0.1과 같더라 라고 약속을 했었던 거예요. 그래서 이렇게 0.1이 무엇인지에 대해서 얘기를 했다는 거죠. 그러면 0.1은 소수 한 자리 수이고 그림 속에서 이와 같이 설명되어지는 걸 알 수 있을 겁니다. 그러면 얘들아 이렇게  3.8이라고 하는 것도 역시 소수 한 자리 수인데, 이건 어떻게 설명을 할 수 있을까요? 0.1이 이런 수는 38개만큼 모여진 것입니다라고 얘기를 해요. 0.1이 38개 모이면 이것이 바로 3.8로 나타나지는구나. 역시 자연수가 있는 소수 한 자리 수입니다라고 표현해 줄 수 있는 것이죠. 이 3.8이다 라고 하는 건 3보다도 0.8만큼  더 큰 수입니다 라고 얘기를 할 수도 있어요. 그래서 앞으로 이제 쭉 학년이 진행되면서 여러분들은 3.8이라고 하는 이 수를 3.8은 3에다가 0.8만큼을 더해준 것과 같습니다 라고 표현해 줄 수도 있게 됩니다. 소수 한 자리 수에 대해서 이와 같이 살펴보았죠. 그렇다면 이제 여러분과는 소수 두 자리 수라고 하는 것도 살펴보도록 할 거예요. 소수 두 자리 수를 얘기를 하려면 0.2%  0.01이라는 표현에 대해서 얘기를 해야 할 것 같네요. 0.01을 설명할 때 역시 그림에 대한 설명 빼놓을 수 없겠죠. 이거는 이런 식으로 바둑판 모양을 만들어주도록 할 거예요. 바둑판 모양이니까 여러분들이 이렇게 10개로 나눠주시고 또 이 방향으로도 10줄이 될 수 있도록 이와 같이 나눠줍니다. 그러면 여기서 이 작은 거 하나만큼에 해당이 되어지는 것은 전체를 100개의 칸으로 나눈 것 중에 하나가...  이 100분의 1을 0.01과 같다라고 약속을 하게 되는 거예요. 따라서 여러분들이 예를 들어 0.25라고 하는 소수 두 자리 수를 만났을 때에는 0.1이 25칸 만큼 색칠 되어진 것과 같습니다. 1, 2, 3, 4, 5 이렇게 해서 0.25입니다 라는 걸 말해줄 수 있고요. 0.25는 따라서 0.01이 25개인 수이더라. 이와 같이  말해줄 수 있는 것이죠. 이렇게 소수 두 자리수라고 하는 것도 살펴볼 수 있어요. 여러분들은요. 소수 한 자리수 또는 소수 두 자리수에 대한 학습을 이렇게 그림을 통해서 이해해 볼 수 있게 되는 거예요. 그렇다면 제목에서 보시면 소수 세 자리수라는 표현도 주어져 있죠. 그래서 소수 세 자리수에 대해서 얘기를 해 볼까요. 그럼 이거는요. 방금 전에 100개 칸으로 나눈 것 중에 하나만 딱 떼어서 얘기를 해 볼게요. 그러면 그 하나만큼을 그림으로  이거는 어떻게 얘기를 할 거냐면요. 0.01입니다라고 얘기를 할 수 있겠죠. 즉 100개의 칸 중에 하나예요 라는 뜻이고요. 이걸 다시 10개로 나눠 볼게요. 그러면 이 작은 칸 하나는요. 아, 이거는 전체 하나가 있을 때 1000개로 나눈 것 중에 하나만큼의 해당이 되어지는 값이구나. 따라서 이때 요것만큼을 1000분의 1과 같더라라고 얘기를 하게 되고요. 1000분의 1이라고 하는 걸 소수 세 자릿수로 0.0%  0.001입니다 라고 약속하여 나타를 줄 수 있습니다. 그러면 이번엔 이런 표현을 한번 예를 들어볼까요? 1000분의 234라는 것이 주어지게 된 거예요. 그러면 이거는 사실 1000분의 1이 234개예요 이런 뜻이고 1000분의 1은 0.001과 같다라고 했으니까 0.001이 234개인 수입니다라는 뜻에서부터 소수로 바꾸어 0.234라고 하는 소수 세 자리  수가 되었습니다 라고 표현해 줄 수 있게 되는 것이죠. 소수 세 자리 수까지에 대한 학습을 이와 같이 정리해 볼 수 있다면 이제 선생님이 옆에다가 이 세 가지 내용을 한꺼번에 정리해서 나타내 드리도록 할게요. 소수 한 자리 수 0.1을 대표적으로 들면 분수로 바꾸어 10분의 1이 되더라 또 0.01이라고 하는 것은 100분의 1과 같더라 그리고 0.001이라고 하는 이것은 굉장히 큰 일입니다.  중요한 소수에 대한 학습임으로 여러분들이 반드시 기억해두어야 하는 부분입니다. 소수 세 자리 수까지 이렇게 기본 개념에 대해서 함께 짚어보았어요. 기본 개념은 그렇게 어렵지 않은 부분들이죠? 그러면 이 내용들이 문제 속에서는 어떻게 활용이 되고 있는지 여러분이 만나보셔야겠습니다. 개념 다지기 문제 볼까요? 다음 중 잘못된 설명은 어느 것입니까? 잘못된 것을 찾는 거예요. 그런데 보니 1번의 예를...  0.1이 12개라고 얘기를 했죠. 0.1이 10개가 모이면 그걸 우리는 1과 같다고 얘기를 해요. 그랬을 때 그러면 이거 0.12가 되면 안 되겠죠. 0.12라고 하는 건 0.01이 12개라는 뜻이거든요. 따라서 지금 이거는 잘못된 설명이에요. 이렇게 답이 1번인데 그럼 나머지 것들은 맞았을까요? 2번을 보니까 0.1에 0과 1 사이의 점이 하나가 주어졌죠. 이 점을 뭐라고'"
      ]
     },
     "execution_count": 43,
     "metadata": {},
     "output_type": "execute_result"
    }
   ],
   "source": [
    "# # 오디오 파일을 30초 단위로 나누는 함수\n",
    "# def split_audio(file_path, chunk_length=30):\n",
    "#     audio = AudioFileClip(file_path)\n",
    "#     total_duration = int(audio.duration)\n",
    "#     audio_chunks = []\n",
    "\n",
    "#     for start in range(0, total_duration, chunk_length):\n",
    "#         end = min(start + chunk_length, total_duration)\n",
    "#         chunk = audio.subclip(start, end)\n",
    "#         chunk_path = f\"chunk_{start}_{end}.mp3\"\n",
    "#         chunk.write_audiofile(chunk_path)\n",
    "#         audio_chunks.append(chunk_path)\n",
    "\n",
    "#     return audio_chunks\n",
    "\n",
    "\n",
    "# # 각 청크에서 텍스트 추출\n",
    "# def transcribe_audio_chunks(chunk_files):\n",
    "#     transcriptions = []\n",
    "#     for chunk_file in chunk_files:\n",
    "#         result = whisper_medium(chunk_file, generate_kwargs={\"language\": \"korean\"})\n",
    "#         transcriptions.append(result[\"text\"])\n",
    "#         os.remove(chunk_file)  # 임시 파일 삭제\n",
    "#     return transcriptions\n",
    "\n",
    "\n",
    "# # 전체 텍스트를 하나로 합침\n",
    "# def merge_transcriptions(transcriptions):\n",
    "#     return \" \".join(transcriptions)\n",
    "\n",
    "# final_transcription = ''\n",
    "\n",
    "# audio_file = f\"./ebs_audio/y2mate.com - 초등 수학 개념잡기  07강 소수 이해하기   001_360P.mp3\"\n",
    "\n",
    "#     # 파일이 존재하는지 확인\n",
    "# if os.path.exists(audio_file):\n",
    "#     chunks = split_audio(audio_file)\n",
    "#     transcriptions = transcribe_audio_chunks(chunks)\n",
    "#     transcription = merge_transcriptions(transcriptions)\n",
    "\n",
    "#     final_transcription += transcription\n",
    "\n",
    "# final_transcription"
   ]
  },
  {
   "cell_type": "code",
   "execution_count": 47,
   "metadata": {},
   "outputs": [
    {
     "name": "stdout",
     "output_type": "stream",
     "text": [
      "MoviePy - Writing audio in chunk_0_30.mp3\n"
     ]
    },
    {
     "name": "stderr",
     "output_type": "stream",
     "text": [
      "                                                                    \r"
     ]
    },
    {
     "name": "stdout",
     "output_type": "stream",
     "text": [
      "MoviePy - Done.\n",
      "MoviePy - Writing audio in chunk_30_60.mp3\n"
     ]
    },
    {
     "name": "stderr",
     "output_type": "stream",
     "text": [
      "                                                                    \r"
     ]
    },
    {
     "name": "stdout",
     "output_type": "stream",
     "text": [
      "MoviePy - Done.\n",
      "MoviePy - Writing audio in chunk_60_90.mp3\n"
     ]
    },
    {
     "name": "stderr",
     "output_type": "stream",
     "text": [
      "                                                                    \r"
     ]
    },
    {
     "name": "stdout",
     "output_type": "stream",
     "text": [
      "MoviePy - Done.\n",
      "MoviePy - Writing audio in chunk_90_120.mp3\n"
     ]
    },
    {
     "name": "stderr",
     "output_type": "stream",
     "text": [
      "                                                                    \r"
     ]
    },
    {
     "name": "stdout",
     "output_type": "stream",
     "text": [
      "MoviePy - Done.\n",
      "MoviePy - Writing audio in chunk_120_150.mp3\n"
     ]
    },
    {
     "name": "stderr",
     "output_type": "stream",
     "text": [
      "                                                                    \r"
     ]
    },
    {
     "name": "stdout",
     "output_type": "stream",
     "text": [
      "MoviePy - Done.\n",
      "MoviePy - Writing audio in chunk_150_180.mp3\n"
     ]
    },
    {
     "name": "stderr",
     "output_type": "stream",
     "text": [
      "                                                                    \r"
     ]
    },
    {
     "name": "stdout",
     "output_type": "stream",
     "text": [
      "MoviePy - Done.\n",
      "MoviePy - Writing audio in chunk_180_210.mp3\n"
     ]
    },
    {
     "name": "stderr",
     "output_type": "stream",
     "text": [
      "                                                                    \r"
     ]
    },
    {
     "name": "stdout",
     "output_type": "stream",
     "text": [
      "MoviePy - Done.\n",
      "MoviePy - Writing audio in chunk_210_240.mp3\n"
     ]
    },
    {
     "name": "stderr",
     "output_type": "stream",
     "text": [
      "                                                                    \r"
     ]
    },
    {
     "name": "stdout",
     "output_type": "stream",
     "text": [
      "MoviePy - Done.\n",
      "MoviePy - Writing audio in chunk_240_270.mp3\n"
     ]
    },
    {
     "name": "stderr",
     "output_type": "stream",
     "text": [
      "                                                                    \r"
     ]
    },
    {
     "name": "stdout",
     "output_type": "stream",
     "text": [
      "MoviePy - Done.\n",
      "MoviePy - Writing audio in chunk_270_300.mp3\n"
     ]
    },
    {
     "name": "stderr",
     "output_type": "stream",
     "text": [
      "                                                                    \r"
     ]
    },
    {
     "name": "stdout",
     "output_type": "stream",
     "text": [
      "MoviePy - Done.\n",
      "MoviePy - Writing audio in chunk_300_330.mp3\n"
     ]
    },
    {
     "name": "stderr",
     "output_type": "stream",
     "text": [
      "                                                                    \r"
     ]
    },
    {
     "name": "stdout",
     "output_type": "stream",
     "text": [
      "MoviePy - Done.\n",
      "MoviePy - Writing audio in chunk_330_360.mp3\n"
     ]
    },
    {
     "name": "stderr",
     "output_type": "stream",
     "text": [
      "                                                                    \r"
     ]
    },
    {
     "name": "stdout",
     "output_type": "stream",
     "text": [
      "MoviePy - Done.\n",
      "MoviePy - Writing audio in chunk_360_390.mp3\n"
     ]
    },
    {
     "name": "stderr",
     "output_type": "stream",
     "text": [
      "                                                                    \r"
     ]
    },
    {
     "name": "stdout",
     "output_type": "stream",
     "text": [
      "MoviePy - Done.\n",
      "MoviePy - Writing audio in chunk_390_420.mp3\n"
     ]
    },
    {
     "name": "stderr",
     "output_type": "stream",
     "text": [
      "                                                                    \r"
     ]
    },
    {
     "name": "stdout",
     "output_type": "stream",
     "text": [
      "MoviePy - Done.\n",
      "MoviePy - Writing audio in chunk_420_450.mp3\n"
     ]
    },
    {
     "name": "stderr",
     "output_type": "stream",
     "text": [
      "                                                                    \r"
     ]
    },
    {
     "name": "stdout",
     "output_type": "stream",
     "text": [
      "MoviePy - Done.\n",
      "MoviePy - Writing audio in chunk_0_30.mp3\n"
     ]
    },
    {
     "name": "stderr",
     "output_type": "stream",
     "text": [
      "                                                                    \r"
     ]
    },
    {
     "name": "stdout",
     "output_type": "stream",
     "text": [
      "MoviePy - Done.\n",
      "MoviePy - Writing audio in chunk_30_60.mp3\n"
     ]
    },
    {
     "name": "stderr",
     "output_type": "stream",
     "text": [
      "                                                                    \r"
     ]
    },
    {
     "name": "stdout",
     "output_type": "stream",
     "text": [
      "MoviePy - Done.\n",
      "MoviePy - Writing audio in chunk_60_90.mp3\n"
     ]
    },
    {
     "name": "stderr",
     "output_type": "stream",
     "text": [
      "                                                                    \r"
     ]
    },
    {
     "name": "stdout",
     "output_type": "stream",
     "text": [
      "MoviePy - Done.\n",
      "MoviePy - Writing audio in chunk_90_120.mp3\n"
     ]
    },
    {
     "name": "stderr",
     "output_type": "stream",
     "text": [
      "                                                                    \r"
     ]
    },
    {
     "name": "stdout",
     "output_type": "stream",
     "text": [
      "MoviePy - Done.\n",
      "MoviePy - Writing audio in chunk_120_150.mp3\n"
     ]
    },
    {
     "name": "stderr",
     "output_type": "stream",
     "text": [
      "                                                                    \r"
     ]
    },
    {
     "name": "stdout",
     "output_type": "stream",
     "text": [
      "MoviePy - Done.\n",
      "MoviePy - Writing audio in chunk_150_180.mp3\n"
     ]
    },
    {
     "name": "stderr",
     "output_type": "stream",
     "text": [
      "                                                                    \r"
     ]
    },
    {
     "name": "stdout",
     "output_type": "stream",
     "text": [
      "MoviePy - Done.\n",
      "MoviePy - Writing audio in chunk_180_210.mp3\n"
     ]
    },
    {
     "name": "stderr",
     "output_type": "stream",
     "text": [
      "                                                                    \r"
     ]
    },
    {
     "name": "stdout",
     "output_type": "stream",
     "text": [
      "MoviePy - Done.\n",
      "MoviePy - Writing audio in chunk_210_240.mp3\n"
     ]
    },
    {
     "name": "stderr",
     "output_type": "stream",
     "text": [
      "                                                                    \r"
     ]
    },
    {
     "name": "stdout",
     "output_type": "stream",
     "text": [
      "MoviePy - Done.\n",
      "MoviePy - Writing audio in chunk_240_270.mp3\n"
     ]
    },
    {
     "name": "stderr",
     "output_type": "stream",
     "text": [
      "                                                                    \r"
     ]
    },
    {
     "name": "stdout",
     "output_type": "stream",
     "text": [
      "MoviePy - Done.\n",
      "MoviePy - Writing audio in chunk_270_300.mp3\n"
     ]
    },
    {
     "name": "stderr",
     "output_type": "stream",
     "text": [
      "                                                                    \r"
     ]
    },
    {
     "name": "stdout",
     "output_type": "stream",
     "text": [
      "MoviePy - Done.\n",
      "MoviePy - Writing audio in chunk_300_330.mp3\n"
     ]
    },
    {
     "name": "stderr",
     "output_type": "stream",
     "text": [
      "                                                                    \r"
     ]
    },
    {
     "name": "stdout",
     "output_type": "stream",
     "text": [
      "MoviePy - Done.\n",
      "MoviePy - Writing audio in chunk_330_360.mp3\n"
     ]
    },
    {
     "name": "stderr",
     "output_type": "stream",
     "text": [
      "                                                                    \r"
     ]
    },
    {
     "name": "stdout",
     "output_type": "stream",
     "text": [
      "MoviePy - Done.\n",
      "MoviePy - Writing audio in chunk_360_390.mp3\n"
     ]
    },
    {
     "name": "stderr",
     "output_type": "stream",
     "text": [
      "                                                                    \r"
     ]
    },
    {
     "name": "stdout",
     "output_type": "stream",
     "text": [
      "MoviePy - Done.\n",
      "MoviePy - Writing audio in chunk_390_420.mp3\n"
     ]
    },
    {
     "name": "stderr",
     "output_type": "stream",
     "text": [
      "                                                                    \r"
     ]
    },
    {
     "name": "stdout",
     "output_type": "stream",
     "text": [
      "MoviePy - Done.\n",
      "MoviePy - Writing audio in chunk_420_450.mp3\n"
     ]
    },
    {
     "name": "stderr",
     "output_type": "stream",
     "text": [
      "                                                                    \r"
     ]
    },
    {
     "name": "stdout",
     "output_type": "stream",
     "text": [
      "MoviePy - Done.\n",
      "MoviePy - Writing audio in chunk_450_452.mp3\n"
     ]
    },
    {
     "name": "stderr",
     "output_type": "stream",
     "text": [
      "                                                       \r"
     ]
    },
    {
     "name": "stdout",
     "output_type": "stream",
     "text": [
      "MoviePy - Done.\n",
      "MoviePy - Writing audio in chunk_0_30.mp3\n"
     ]
    },
    {
     "name": "stderr",
     "output_type": "stream",
     "text": [
      "                                                                    \r"
     ]
    },
    {
     "name": "stdout",
     "output_type": "stream",
     "text": [
      "MoviePy - Done.\n",
      "MoviePy - Writing audio in chunk_30_60.mp3\n"
     ]
    },
    {
     "name": "stderr",
     "output_type": "stream",
     "text": [
      "                                                                    \r"
     ]
    },
    {
     "name": "stdout",
     "output_type": "stream",
     "text": [
      "MoviePy - Done.\n",
      "MoviePy - Writing audio in chunk_60_90.mp3\n"
     ]
    },
    {
     "name": "stderr",
     "output_type": "stream",
     "text": [
      "                                                                    \r"
     ]
    },
    {
     "name": "stdout",
     "output_type": "stream",
     "text": [
      "MoviePy - Done.\n",
      "MoviePy - Writing audio in chunk_90_120.mp3\n"
     ]
    },
    {
     "name": "stderr",
     "output_type": "stream",
     "text": [
      "                                                                    \r"
     ]
    },
    {
     "name": "stdout",
     "output_type": "stream",
     "text": [
      "MoviePy - Done.\n",
      "MoviePy - Writing audio in chunk_120_150.mp3\n"
     ]
    },
    {
     "name": "stderr",
     "output_type": "stream",
     "text": [
      "                                                                    \r"
     ]
    },
    {
     "name": "stdout",
     "output_type": "stream",
     "text": [
      "MoviePy - Done.\n",
      "MoviePy - Writing audio in chunk_150_180.mp3\n"
     ]
    },
    {
     "name": "stderr",
     "output_type": "stream",
     "text": [
      "                                                                    \r"
     ]
    },
    {
     "name": "stdout",
     "output_type": "stream",
     "text": [
      "MoviePy - Done.\n",
      "MoviePy - Writing audio in chunk_180_210.mp3\n"
     ]
    },
    {
     "name": "stderr",
     "output_type": "stream",
     "text": [
      "                                                                    \r"
     ]
    },
    {
     "name": "stdout",
     "output_type": "stream",
     "text": [
      "MoviePy - Done.\n",
      "MoviePy - Writing audio in chunk_210_240.mp3\n"
     ]
    },
    {
     "name": "stderr",
     "output_type": "stream",
     "text": [
      "                                                                    \r"
     ]
    },
    {
     "name": "stdout",
     "output_type": "stream",
     "text": [
      "MoviePy - Done.\n",
      "MoviePy - Writing audio in chunk_240_270.mp3\n"
     ]
    },
    {
     "name": "stderr",
     "output_type": "stream",
     "text": [
      "                                                                    \r"
     ]
    },
    {
     "name": "stdout",
     "output_type": "stream",
     "text": [
      "MoviePy - Done.\n",
      "MoviePy - Writing audio in chunk_270_300.mp3\n"
     ]
    },
    {
     "name": "stderr",
     "output_type": "stream",
     "text": [
      "                                                                    \r"
     ]
    },
    {
     "name": "stdout",
     "output_type": "stream",
     "text": [
      "MoviePy - Done.\n",
      "MoviePy - Writing audio in chunk_300_330.mp3\n"
     ]
    },
    {
     "name": "stderr",
     "output_type": "stream",
     "text": [
      "                                                                    \r"
     ]
    },
    {
     "name": "stdout",
     "output_type": "stream",
     "text": [
      "MoviePy - Done.\n",
      "MoviePy - Writing audio in chunk_330_360.mp3\n"
     ]
    },
    {
     "name": "stderr",
     "output_type": "stream",
     "text": [
      "                                                                    \r"
     ]
    },
    {
     "name": "stdout",
     "output_type": "stream",
     "text": [
      "MoviePy - Done.\n",
      "MoviePy - Writing audio in chunk_360_390.mp3\n"
     ]
    },
    {
     "name": "stderr",
     "output_type": "stream",
     "text": [
      "                                                                    \r"
     ]
    },
    {
     "name": "stdout",
     "output_type": "stream",
     "text": [
      "MoviePy - Done.\n",
      "MoviePy - Writing audio in chunk_390_420.mp3\n"
     ]
    },
    {
     "name": "stderr",
     "output_type": "stream",
     "text": [
      "                                                                    \r"
     ]
    },
    {
     "name": "stdout",
     "output_type": "stream",
     "text": [
      "MoviePy - Done.\n",
      "MoviePy - Writing audio in chunk_420_450.mp3\n"
     ]
    },
    {
     "name": "stderr",
     "output_type": "stream",
     "text": [
      "                                                                    \r"
     ]
    },
    {
     "name": "stdout",
     "output_type": "stream",
     "text": [
      "MoviePy - Done.\n",
      "MoviePy - Writing audio in chunk_450_452.mp3\n"
     ]
    },
    {
     "name": "stderr",
     "output_type": "stream",
     "text": [
      "                                                       \r"
     ]
    },
    {
     "name": "stdout",
     "output_type": "stream",
     "text": [
      "MoviePy - Done.\n",
      "MoviePy - Writing audio in chunk_0_30.mp3\n"
     ]
    },
    {
     "name": "stderr",
     "output_type": "stream",
     "text": [
      "                                                                    \r"
     ]
    },
    {
     "name": "stdout",
     "output_type": "stream",
     "text": [
      "MoviePy - Done.\n",
      "MoviePy - Writing audio in chunk_30_60.mp3\n"
     ]
    },
    {
     "name": "stderr",
     "output_type": "stream",
     "text": [
      "                                                                    \r"
     ]
    },
    {
     "name": "stdout",
     "output_type": "stream",
     "text": [
      "MoviePy - Done.\n",
      "MoviePy - Writing audio in chunk_60_90.mp3\n"
     ]
    },
    {
     "name": "stderr",
     "output_type": "stream",
     "text": [
      "                                                                    \r"
     ]
    },
    {
     "name": "stdout",
     "output_type": "stream",
     "text": [
      "MoviePy - Done.\n",
      "MoviePy - Writing audio in chunk_90_120.mp3\n"
     ]
    },
    {
     "name": "stderr",
     "output_type": "stream",
     "text": [
      "                                                                    \r"
     ]
    },
    {
     "name": "stdout",
     "output_type": "stream",
     "text": [
      "MoviePy - Done.\n",
      "MoviePy - Writing audio in chunk_120_150.mp3\n"
     ]
    },
    {
     "name": "stderr",
     "output_type": "stream",
     "text": [
      "                                                                    \r"
     ]
    },
    {
     "name": "stdout",
     "output_type": "stream",
     "text": [
      "MoviePy - Done.\n",
      "MoviePy - Writing audio in chunk_150_180.mp3\n"
     ]
    },
    {
     "name": "stderr",
     "output_type": "stream",
     "text": [
      "                                                                    \r"
     ]
    },
    {
     "name": "stdout",
     "output_type": "stream",
     "text": [
      "MoviePy - Done.\n",
      "MoviePy - Writing audio in chunk_180_210.mp3\n"
     ]
    },
    {
     "name": "stderr",
     "output_type": "stream",
     "text": [
      "                                                                    \r"
     ]
    },
    {
     "name": "stdout",
     "output_type": "stream",
     "text": [
      "MoviePy - Done.\n",
      "MoviePy - Writing audio in chunk_210_240.mp3\n"
     ]
    },
    {
     "name": "stderr",
     "output_type": "stream",
     "text": [
      "                                                                    \r"
     ]
    },
    {
     "name": "stdout",
     "output_type": "stream",
     "text": [
      "MoviePy - Done.\n",
      "MoviePy - Writing audio in chunk_240_270.mp3\n"
     ]
    },
    {
     "name": "stderr",
     "output_type": "stream",
     "text": [
      "                                                                    \r"
     ]
    },
    {
     "name": "stdout",
     "output_type": "stream",
     "text": [
      "MoviePy - Done.\n",
      "MoviePy - Writing audio in chunk_270_300.mp3\n"
     ]
    },
    {
     "name": "stderr",
     "output_type": "stream",
     "text": [
      "                                                                    \r"
     ]
    },
    {
     "name": "stdout",
     "output_type": "stream",
     "text": [
      "MoviePy - Done.\n",
      "MoviePy - Writing audio in chunk_300_330.mp3\n"
     ]
    },
    {
     "name": "stderr",
     "output_type": "stream",
     "text": [
      "                                                                    \r"
     ]
    },
    {
     "name": "stdout",
     "output_type": "stream",
     "text": [
      "MoviePy - Done.\n",
      "MoviePy - Writing audio in chunk_330_360.mp3\n"
     ]
    },
    {
     "name": "stderr",
     "output_type": "stream",
     "text": [
      "                                                                    \r"
     ]
    },
    {
     "name": "stdout",
     "output_type": "stream",
     "text": [
      "MoviePy - Done.\n",
      "MoviePy - Writing audio in chunk_360_390.mp3\n"
     ]
    },
    {
     "name": "stderr",
     "output_type": "stream",
     "text": [
      "                                                                    \r"
     ]
    },
    {
     "name": "stdout",
     "output_type": "stream",
     "text": [
      "MoviePy - Done.\n",
      "MoviePy - Writing audio in chunk_390_415.mp3\n"
     ]
    },
    {
     "name": "stderr",
     "output_type": "stream",
     "text": [
      "                                                                    \r"
     ]
    },
    {
     "name": "stdout",
     "output_type": "stream",
     "text": [
      "MoviePy - Done.\n",
      "텍스트 파일로 저장되었습니다.\n"
     ]
    }
   ],
   "source": [
    "# # 오디오 파일을 30초 단위로 나누는 함수\n",
    "# def split_audio(file_path, chunk_length=30):\n",
    "#     audio = AudioFileClip(file_path)\n",
    "#     total_duration = int(audio.duration)\n",
    "#     audio_chunks = []\n",
    "\n",
    "#     for start in range(0, total_duration, chunk_length):\n",
    "#         end = min(start + chunk_length, total_duration)\n",
    "#         chunk = audio.subclip(start, end)\n",
    "#         chunk_path = f\"chunk_{start}_{end}.mp3\"\n",
    "#         chunk.write_audiofile(chunk_path)\n",
    "#         audio_chunks.append(chunk_path)\n",
    "\n",
    "#     return audio_chunks\n",
    "\n",
    "\n",
    "# # 각 청크에서 텍스트 추출\n",
    "# def transcribe_audio_chunks(chunk_files):\n",
    "#     transcriptions = []\n",
    "#     for chunk_file in chunk_files:\n",
    "#         result = whisper_medium(chunk_file, generate_kwargs={\"language\": \"korean\"})\n",
    "#         transcriptions.append(result[\"text\"])\n",
    "#         os.remove(chunk_file)  # 임시 파일 삭제\n",
    "#     return transcriptions\n",
    "\n",
    "\n",
    "# # 전체 텍스트를 하나로 합침\n",
    "# def merge_transcriptions(transcriptions):\n",
    "#     return \" \".join(transcriptions)\n",
    "\n",
    "\n",
    "# # 오디오 파일 경로\n",
    "\n",
    "# final_transcription1 = ''\n",
    "# final_transcription2 = ''\n",
    "# final_transcription3 = ''\n",
    "# final_transcription4 = ''\n",
    "\n",
    "# # 오디오 파일을 30초 단위로 나누고 텍스트 추출\n",
    "\n",
    "# for i in range(0, 4):  # 4개 파일 처리\n",
    "#     audio_file = f\"./ebs_audio/y2mate.com - 초등 수학 개념잡기  08강 분수의 덧셈과 뺄셈 원리    00{i+1}_360P.mp3\"\n",
    "\n",
    "#     # 파일이 존재하는지 확인\n",
    "#     if os.path.exists(audio_file):\n",
    "#         chunks = split_audio(audio_file)\n",
    "#         transcriptions = transcribe_audio_chunks(chunks)\n",
    "#         transcription = merge_transcriptions(transcriptions)\n",
    "\n",
    "#         if i == 0:\n",
    "#             final_transcription1 += transcription\n",
    "#         elif i == 1:\n",
    "#             final_transcription2 += transcription\n",
    "#         elif i == 2:\n",
    "#             final_transcription3 += transcription\n",
    "#         elif i == 3:\n",
    "#             final_transcription4 += transcription\n",
    "#     else:\n",
    "#         print(f\"파일 {audio_file}이 존재하지 않습니다. 다음 파일로 넘어갑니다.\")\n",
    "\n",
    "\n",
    "# with open(\"final_transcription_group_8.txt\", \"w\", encoding=\"utf-8\") as f:\n",
    "#     f.write(\"Final Transcription 1:\\n\")\n",
    "#     f.write(f\"\\n{final_transcription1}\" + \"\\n\\n\")\n",
    "#     f.write(\"Final Transcription 2:\\n\")\n",
    "#     f.write(f\"\\n{final_transcription2}\" + \"\\n\")\n",
    "#     f.write(\"Final Transcription 3:\\n\")\n",
    "#     f.write(f\"\\n{final_transcription3}\" + \"\\n\")\n",
    "#     f.write(\"Final Transcription 4:\\n\")\n",
    "#     f.write(f\"\\n{final_transcription4}\" + \"\\n\")\n",
    "\n",
    "# print(\"텍스트 파일로 저장되었습니다.\")"
   ]
  },
  {
   "cell_type": "code",
   "execution_count": 76,
   "metadata": {},
   "outputs": [
    {
     "name": "stdout",
     "output_type": "stream",
     "text": [
      "나라를 선택한 학생수는 20명에다가 4명씩 3칸 12만큼을 더하여서 32명이라고 답할 수 있게 됩니다. 캐나다 32명 이와 같이 표현해 주세요. 또 막대 그래프에서 하나 짚어둘 게 있는데요. 우리 친구들이 막대를 이렇게 그리는 친구들이 있는데요. 이거는 우리가 중학교 1학년 교과에 올라가서 배우게 되는 히스토그램이라고 하여서 그 명칭이 다른 거예요. 따라서 막대 그래프를 그릴 때에는 이와 같이 칸 안에 막대의 형태가 될 수 있도록 표현해 주어야 합니다. 이와 같이 막대 그래프에 관련된 내용 하나 만나보았고요. 자 그러면 또 하나의 문제 준비를 했어요. 이번에 만나볼 문제는요. 반, 멸, 상을 탄 학생수를 조사하여서 이것을 막대 그래프로 표현을 해주고 있는데요. 독서 퀴즈 대회에서 상을 탄 학생수를 나타낸 것입니다. 상을 가장 많이 탄 반은 몇 반입니까? 이거는 막대의 높이만 비교해서는 안 되죠. 왜냐면 한 반 안에 서로 다른 색의 막대가 들어가 있기 때문이에요. 남학생과 여학생이다라고 했으니까 각 반마다 남녀 학생수의 합을 구해줘야 해요. 세로는 꿈 하나가 한 명을 나타내기 때문에 1반에 남학생 6명, 여학생 3명 합쳐서 9명입니다라고 얘기를 하고 그 다음에 2반도 확인을 해야겠네요. 2반에는요. 남학생 8명에 여학생 4명이에요. 그래서 12명이라고 말할 수 있는 거죠. 그 다음에 3반은 어떠한가요? 남학생 6명에 여학생 7명, 따라서 13명이 되어지는 거고 4반과 같은 경우에는 남학생 2명에 여학생은 8명이 되겠죠. 따라서 이것이 10명입니다라고 말할 수 있으므로 상을 가장 많이 탄 반은 3반입니다. 이와 같이 답할 수 있게 됩니다. 세로는 꿈 하나가 바뀔 수도 있어요. 이 문제가 어렵게 출제가 될 때는요. 따라서 세로는 꿈 한 칸이 몇 명을 나타내는지를 확인하고 난 다음에 이와 같이 남녀 학생수의 합을 구하고 난 다음 상을 가장 많이 탄 반을 골라주는 것으로 문제 해결해주세요. 이렇게 첫 번째 개념의 내용 막대그래프에 대해서 확인을 해보았으니까 다시 보기를 통해서 정리해볼게요. 두 번째 개념입니다. 우리 이 자료를 조사해서 그 자료를 나타내주는 방법 중 하나로 이번에는 그림 그래프를 만나보려고 해요. 이 명칭에서 보는 것처럼 그래프인데 그 앞에 그림이라는 말이 붙었단 말이죠. 그림을 그려서 조사한 수량을 나타내고 있구나라는 걸 감잡을 수 있을 거예요. 그래서 우리는 그림을 그려서 조사한 수량을 나타내고 있습니다. 그림을 그려서 조사한 수량을 나타내고 있구나라는 걸 감잡을 수 있을 거예요. 그래서 우리는 그림 그래프라고 한다면 그림을 통해서 나타낸 그래프다라고 얘기를 해요. 그림을 그려서 나타낸 그래프 그런데요. 아무 그림이나 그리는 것은 아니고요. 무엇을 조사했는가에 따라서 그 의미가 아주 정확하게 드러날 수 있도록 그림을 선택해주는 것이 중요해요. 예를 들어서 지금 보면 반별 폐품의 무게라고 되어있죠. 이건 지금 그림 그래프예요. 그런데 보니까 그림의 가짓수, 그림이 몇 가지죠? 이렇게 큰 것, 작은 것 해서 그림의 가짓수가 두 가지죠. 아마 여러분은 이 그림만 보아도 어? 이거 무슨 무게추 같은데? 아마 무게를 나타낸 거겠구나라는 감을 잡을 수 있을 거란 말이에요. 그래서 우리는요. 이와 같이 그림을 보고서도 어떤 무게를 나타냈겠구나라는 걸 그 의미 파악을 쉽게 할 수 있도록 그림 그래프를 그리고 있다라는 것 그럼 이것이 바로 그림 그래프의 장점이 되어지는 거겠죠. 무엇을 조사한 것이 무엇인지 조사한 것의 의미를 쉽게 파악할 수 있다. 쉽게 알아볼 수 있다라고 하는 것이 그림 그래프의 장점이다라고 말할 수 있어요. 그렇다면 여기서 읽어 나타낼 수 있는 사실들도 매우 많아요. 그러니까 2반과 같은 경우에 2반에서 폐품의 무게, 폐품의 무게 모은 폐품의 무게가 몇 킬로그램이니까라고 물어본다면 이 그림을 놓고 그림의 가짓수 두 가지였고 큰 그림이 10킬로그램을 나타내주므로 2반과 같은 경우는 34킬로그램 만큼을 모은 것입니다. 라는 것을 그 자료를 조사한 것을 표현했기 때문에 쉽게 답해 볼 수 있게 되는 거죠. 자, 그리고요. 그림만 딱 놓고 봐도요. 어느 반의 폐품 모은 양이 가장 많습니까라고 물어본다면 큰 그림이 제일 많은 3반입니다라고 얘기해 볼 수 있을 겁니다. 이와 같이 그림만 놓고 보아도 내가 읽어 나타낼 수 있는 사실들이 매우 많게 되고요. 조사한 것의 의미를 쉽게 파악하고 나타낼 수 있다라는 장점을 갖는다라는 것 그림 그래프의 장점에 대해서도 확인해 볼 수 있어요. 그림 그래프의 또 하나 장점이 있는데요. 그럼 이런 문제가 나온단 말이에요. 1반과 3반에서 모은 폐품의 무게가 1반과 4반에서 모은 폐품의 무게보다 많습니까? 더 무겁습니까? 또는 더 가볍습니까? 라고 물어보았을 때 이렇게 어떤 위치나 방향을 가지고 나눠서 그것을 물어보고 있을 때에도 역시 그림 그래프라면 쉽게 그 답을 표현해 줄 수 있다라는 것이죠. 1반과 3반은 큰 그림을 보시면 모두 7개 2반과 4반은 큰 그림을 보니까 4개만큼이죠. 작은 그림을 합해 준 것도 살펴보았을 때 3반과 1반을 합쳐준 작은 그림의 수가 1, 2, 3, 4, 5, 6, 7, 8, 9, 10, 11개이고 또 2반과 4반은 1, 2, 3, 4, 5, 6, 7, 8, 9개만큼이므로 1반과 3반이 2반과 4반보다 폐품을 모은 무게가 더 무겁습니다. 라는 것을 알 수 있게 돼요. 바로 이러한 것들을 알아보기 쉬운 그래프가 그림 그래프 된다. 그림 그래프가 어떤 장점을 갖고 있는지 이와 같은 것들을 기억해 두는 것이 중요합니다. 그러면 우리 그림 그래프는 어떠한 방법으로 그릴 수 있는 걸까요? 그 그리는 방법에 대해서 함께 알아볼게요. 이것도 순서를 막 섞어놓고 난 다음에 무엇을 먼저 할까, 골라라 이런 것들이 굉장히 많이 나와요. 그런데 우리 친구들이 가장 많이 틀리는 게 뭐냐면요 제일 먼저 해야 할 것이 그림의 가짓수를 정하는 것이 가장 중요해요. 그렇기 때문에 내가 그림의 가짓수를 두 가지로 할 건지 또는 세 가지로 할 건지 이렇게 가짓수를 먼저 생각해 보고 그리고 난 다음에 해야 할 것은 어떤 그림으로 나타낼 것인지를 정해주는 겁니다. 예를 들어 사과 생산량이다라고 얘기를 했을 때 사과 생산량인데 조사된 수를 보니까 4자릿수로 조사가 되어져 있습니다. 그런데 그 값이 예를 들어 2800이고요 3500이고요 그리고 2450입니다. 이와 같이 표현이 되어졌다면 아마 여러분들은 그림을 세 가지로 하겠습니다. 라고 대답을 하셨을 거예요. 그러면 이럴 때 세 가지로 할 건데 그림을 선택하여서 사과니까 이렇게 사과 모양으로 그 그림을 선택해 보시고요. 각각의 수량을 나타내 주는 거예요. 1000개, 100개, 그리고 10개 이와 같은 형태로요. 그리고 난 다음에 이제 해야 할 것은 조사한 수에 맞도록 그림을 그려주는 것이죠. 그림 그래프의 제목은 가장 마지막에 붙여서 표현을 해주세요. 이것이 바로 그림 그래프를 그리는 순서라고 볼 수 있는 것이죠.\n",
      "해주고 제목을 제일 마지막에 표현한다라는 것까지 그 순서를 놓치지 않아야 해요. 그런데 꺾은선 그래프를 그리다 보면은요 자료의 값을 나타내는데 불필요한 부분이 생긴단 말이에요. 그래서 우리가 만나볼 것은 바로 물결선을 사용한다라는 내용을 만나 볼 텐데요. 물결선이라고 하는 건 불필요한 부분을 줄여서 나타내 주는 역할을 하게 되구요. 이렇게 줄여서 나타내므로 인해서 세로 눈꿈 한 칸의 크기를 작게 잡을 수 있어요. 그러니까 지금 여기서는 세로 눈꿈 한 칸의 크기를 0.1로 잡을 수 있었다라는 것이죠. 이렇게 0.1이 되도록 잡을 수 있다면 변화하는 것들이 더 뚜렷하게 나타나지는 장점이 생기게 돼요. 물결선이라는 것이 어떤 장점을 갖고 있는 것인지를 여러분이 꼭 생각을 해보셔야겠죠. 불필요한 부분 0에서 17.0까지를 줄여주었고 세로 눈꿈 한 칸의 크기를 작게 잡으면서 변화하는 양을 뚜렷하게 나타내 주는 효과가 있습니다. 그러면 물결선을 사용한 꺾은선 그래프는 어떤 방법으로 그리는 걸까요? 똑같은데 하나만 미리 생각하세요. 바로 이거요. 물결선으로 나타낼 부분을 먼저 정하고 물결선부터 그려주시는 거예요. 이거를 제일 먼저 해야 된다라는 것 생각해 보시고요. 그리고 난 다음에 세로 눈꿈 한 칸의 크기를 정하고 가로와 세로 만나는 자리에 점 찍고 선분으로 연결해서 제목을 적는 것까지는 나머지 모든 과정이 동일합니다. 이와 같은 형태로 물결선을 사용한 꺾은선 그래프 그리는 방법들을 살펴보았어요. 자 그러면 이제 여러분들과 이에 관련된 문제 함께 해결해 보도록 할게요. 문제 보시면 8월에는 은경이의 키가 어떻게 변할 것이라고 예상하는지 쓰시오. 자 어떻게 예상합니까? 지금 꺾은선 그래프를 보시면 어때요? 각각의 구간별로 그렇죠. 그 선분이 오른쪽 위로 올라가지고 있는 것을 확인해 볼 수 있죠. 따라서 어떻게 변할 거라고 예상합니까? 점점 8월에는 더 클 것이라 예상합니다. 왜냐하면 쭉 이렇게 키가 자라나고 있었기 때문에 8월에는 7월보다 더 클 것이라 예상합니다. 이와 같이 그 꺾은선 그래프를 보고 변화가 어떻게 이루어질까 라는 것들을 밝혀 보는 것이 중요하겠죠. 자 이렇게 문제 해결했고요. 그러면 또 다른 문제도 준비를 해봤어요. 꺾은선 그래프에 대해서 확인을 하면서 표를 보고 그래프로 나타낼 때 세로 눈금 한 칸의 크기는 얼마로 하는 것이 좋습니까? 라고 이렇게 얘기를 했는데요. 그러면 세로 눈금 한 칸이니까 그 횟수를 보세요. 나리의 훌라후프 횟수를 조사하여서 나타내 주었는데 지금 월요일에서 금요일까지 자료가 조사가 되어져 있죠. 횟수를 0.1회라고 한다면 우리가 70회라는 걸 표현하기 위해서는 너무나 많은 칸들이 필요하고요. 횟수는 0.1회라고 얘기를 하지 않죠. 그러면 1회, 2회, 5회 여기서는 지금 보시면 10의 자리 숫자가 표현이 되어져 있고 3자리 수인 것도 있는데 1의 자리에는 숫자가 모두 0으로 나타나져 있으므로 세로 눈금 한 칸의 크기는 10회로 표현해 주시는 것이 좋습니다. 따라서 세로 눈금 한 칸의 크기는 10회에 당되는 5번으로 표현하도록 합니다. 그러면 이렇게 문제 확인해 보았으니까 또 다른 문제도 도전해 볼게요. 이번에는 조금 어려운 문제 준비를 해봤는데요. 3일의 기온과 전기 사용량은 약 얼마라고 예상할 수 있습니까? 이때 약 얼마입니까? 라고 얘기를 하였으므로 답을 할 때에도요. 약 얼마, 약 얼마입니다. 이와 같은 형태로 답한다라는 거 잊지 마시고요. 이건 정확한 값이 아니라 예상한 값이기 때문에 약이라는 표현을 붙이게 된 거예요. 그렇다면 우리 기온부터 확인할까요? 3일은 조사하지 않았지만 중간의 값으로 예상하기로 하였으므로 27도와 29도의 사이의 값인 28도입니다. 라고 예상을 하게 되는 거죠. 그리고 난 다음에 지금 이 빨간색은 기온을 나타내 준 거였고요. 파란색이 전기 사용량이니까요. 전기 사용량을 볼게요. 1일에는요. 이 옆쪽으로 싹 와서 1960만 키로와트를 사용하였고 5일을 보니까 2000만 키로와트를 사용하였다 라고 표현이 되어져 있죠. 따라서 이 중간의 값으로 예상하여 1980만 이것도 만이라는 글자 빼먹으시면 안 되죠. 키로와트까지 단위를 붙이는 것으로 그 사용한 양을 예상하여 나타내 볼 수 있습니다. 이처럼 예상해서 나타내 줄 때에는요. 여러분들이 약이라는 표현을 통해서 문제를 해결해 주시면 되겠어요. 자 그러면 이제 또 다른 문제 하나 가볍게 만나보도록 할게요. 전기 사용량의 변화가 가장 큰 때는 며칠과 며칠의 사이입니까? 라고 물어보았어요. 어디와 어디죠? 우리가 보면 전기 사용량 파란색 선이고요. 변화가 가장 큰 때다 라고 얘기를 하였으므로 이때에는요. 그 선분 기울기가 가장 가파른 구간을 찾아서 551과 그리고 9142 이와 같이 변화가 가장 큰 때를 살펴볼 수 있게 됩니다. 자 이렇게 문제 모두 해결을 했으니까요. 우리 세번째 개념의 내용 다시 한번 정리할게요. 이번 시간 여러가지 자료 정리 그 표현의 방법에 대해서 살펴보았는데요. 우리 함께 두 번 강중한 문제 만나보도록 하겠습니다. 어떤 문제인지 소개할게요. 이번 시간 정답도 여러분 많이 많이 남겨주셔야 해요. 그리고 우리 지난 시간 정답 2800 이었죠? 많은 친구들 너무 수고 많으셨습니다. 다시 보기 필요하시면 우리 홈페이지 방문하는 거 잊지 마시고요. 우리 다음 시간에는요. 문제를 해결할 수 있는 여러가지 방법을 찾아보는 그 첫번째 시간으로 함께 할게요. 다음 시간 만나요. 안녕히 계세요. 다음 시간에 만나요. 안녕히 계세요.\n",
      "텍스트 파일 저장 완료.\n"
     ]
    }
   ],
   "source": [
    "import openai\n",
    "\n",
    "openai.api_key = \"\"\n",
    "\n",
    "transcriptions = \"\"\n",
    "\n",
    "for i in range(0, 4):\n",
    "    file = f\"./ebs_audio/y2mate.com - 초등 수학 개념잡기  22강 자료정리의 방법    00{i+1}_360P.mp3\"\n",
    "\n",
    "    if os.path.exists(file):\n",
    "        audio_file = open(file, \"rb\")\n",
    "\n",
    "        # Whisper 모델로 오디오 파일을 텍스트로 변환\n",
    "        transcription = openai.Audio.transcribe(model=\"whisper-1\", file=audio_file)\n",
    "\n",
    "        # 텍스트 저장\n",
    "        print(transcription[\"text\"])\n",
    "        transcriptions += transcription[\"text\"]\n",
    "\n",
    "    with open(\"final_transcription_group_22.txt\", \"w\", encoding=\"utf-8\") as f:\n",
    "        f.write(f\"{transcriptions}\" + \"\\n\\n\")\n",
    "\n",
    "\n",
    "print(\"텍스트 파일 저장 완료.\")"
   ]
  },
  {
   "cell_type": "code",
   "execution_count": 107,
   "metadata": {},
   "outputs": [
    {
     "name": "stdout",
     "output_type": "stream",
     "text": [
      "['미지수', '함수', '덧셈', '뺄셈', '나눗셈', '곱셈']\n"
     ]
    }
   ],
   "source": [
    "import openai\n",
    "\n",
    "# OpenAI API 키 설정\n",
    "openai.api_key = \"\"\n",
    "category = [\n",
    "    \"수\",\n",
    "    \"덧셈\",\n",
    "    \"뺄셈\",\n",
    "    \"곱셈\",\n",
    "    \"나눗셈\",\n",
    "    \"분수\",\n",
    "    \"소수\",\n",
    "    \"소수점\",\n",
    "    \"길이\",\n",
    "    \"시간\",\n",
    "    \"화폐\",\n",
    "    \"측정\",\n",
    "    \"각도\",\n",
    "    \"평면도형\",\n",
    "    \"입체도형\",\n",
    "    \"도형\",\n",
    "    \"대칭\",\n",
    "    \"원\",\n",
    "    \"직각\",\n",
    "    \"비율\",\n",
    "    \"비례식\",\n",
    "    \"비\",\n",
    "    \"그래프\",\n",
    "    \"통계\",\n",
    "    \"확률\",\n",
    "    \"약수\",\n",
    "    \"배수\",\n",
    "    \"함수\",\n",
    "    \"미지수\",\n",
    "    \"규칙\",\n",
    "]\n",
    "\n",
    "\n",
    "# 번역 및 요약할 긴 영어 텍스트\n",
    "text_to_summarize = (\n",
    "    f\"\"\n",
    "    \"7종류의 퀴즈 힌트를 찾아가보시죠 可以 하apter 요 sign 여 여 여 여 만남 힌트 힌트 벼리 힌트 퀴즈 PASS 풀로 거 쓰 김연경 선생님입니다 자 우리 친구들 오늘 배울 단어는요 그 유명한 6학년 2학기의 방정식 단어입니다 왜 그리 유명하느냐 하면요 우리 교과서가 바뀌면서요 중학교에 있던 부분이 6학년으로 내려왔어요 그래서 내용이 어렵냐고요 그건 아닙니다 여태까지 우리가 배웠던 내용인데요 그거를 단언으로 만든 거예요 그런데 그게 6학년에 있던 것이 중학교에서 있던 것이 6학년으로 내려온 것 뿐입니다 자 그러니까 긴장은 하지 마시고요 재미있는 단언이고 유명한 단언이다라는 것만 알아주시고 오늘 배울 내용부터 무엇인지 살펴보도록 할게요 네 첫 번째 개념은 등식인데요 우리가 등식을 배우기 전에요 먼저 기본적으로 알아둬야 할 것이 있습니다 그것이 무엇이냐 하면 바로 미지수를 X로 나타내는 거예요 자 여러분 우리가 여태까지요 항상 미지수를 어떻게 표현했나요 그렇죠 바로 네모라고 이렇게 표현을 했어요 그런데 지금 바뀐 것이 있습니다 바로 이 네모가요 다른 기호로 바뀌었어요 모양만 조금 바뀌었습니다 무엇으로? X로 바뀐 거예요 이것도 마찬가지로요 교과서가 바뀌기 전에는 중학교에서만 X라는 문자를 사용했습니다 그런데 교과서가 새로 짠 나오면서요 중학교에 있던 문자가 6학년으로 넘어왔는데 내려왔는데 하지만 내용이 어려운 것이 아니라요 네모가 그냥 X로 표현이 된다라고 여러분 알고 계시면 됩니다 자 미지수를 X로 나타내기인데요 수직선을 보고 식을 고르라고 했어요 식을 자 그런데 여러분 그림에서 보일지 모르겠지만 화살표에 방향이 있습니다 자 이렇게 방향이 되어 있는데 지금 화살표가 작아서 안 보일 수 있겠어요 그리고 화살표가 이렇게 방향이 있어요 이 말은 무엇이냐 먼저 25만큼을 가고요 그 다음에 X만큼을 더 갔더니 그랬더니 무엇이 되었느냐 67이 되었다는 겁니다 그럼 이거 어떻게 식으로 표현할 수 있어요 먼저 25만큼이 있었고요 거기에 X만큼을 더 갔더니 그것이 67이 되었다 이렇게 표현하면 되는 거죠 자 1번부터 5번 중에 어디에 있나 한번 보세요 자 여기에 있군요 그러므로 정답은 2번이 되겠습니다 자 지금 한 것은요 우리가 등식을 배우기 위한 기초 과정이라고 할 수가 있습니다 자 등식은 무엇이냐 두 번째로 나와요 자 X를 이용해서 뭔가 하는 것 같긴 한데 간단히 더 쉽게 얘기하자면요 이것만 들어가면 돼요 무엇이냐면 바로 우리가 는 이라고 하는 거예요 등호라고 합니다 무엇은 뭐 2 더하기 3은 5 할 때 은 는 이라고 하는 거 이 간단한 부호요 등호예요 등호 등호를 써서 나타낸 식을 우리가 무엇이라고 하느냐 등식이라고 합니다 등호가 들어간 식이라고 생각하면 조금 쉬울지 모르겠어요 자 등식을 모두 찾아서 기호를 쓰시오 자 일단 식은 식인데요 이것이 들어가야 돼요 등호가 들어가야 돼요 등호가 들어가 있는 거 한번 찾아보겠습니다 어 여기는 등호가 없어요 등호가 있군요 자 등호가 있군요 등호가 없어요 그러므로 정답이 될 수 있는 후보자는 니은과 기긋이 되는데요 모두 다 정답인지 확인해 볼게요 등호를 써서 나타낸 식이라고 했어요 자 식 맞지요 등호를 써서 나타낸 식 맞습니다 그러니까 니은은 정답이 되고요 자 식이 맞아요 그런데 등호를 써서 나타낸 식 맞습니다 그러니까 니은과 기긋 이렇게 니은과 기긋을 정답을 적어 주시면 되겠네요 자 이렇게 해서요 여러분 등식이 무엇이냐라는 것을 알아보았습니다 그러면 이제 연습문제를 풀면서 개념을 조금 더 튼튼하게 쌓아볼게요 자 어떤 문제가 나오느냐 아 X를 사용해서 식을 만드는 거 그 연습문제부터 하네요 등식을 알기 위해서 우리가 기초과정으로 하는 거라고 했습니다 X를 사용해서 식으로 쓰시오 1번 문제 장미꽃이 56송이가 있어요 그런데 그것을 꽃병 몇 개에 똑같이 나누어서 꽂았대요 아 나누쌤이 들어가네요 그랬더니 꽃병 한 개에 네 송이씩 꽂혔습니다 라고 했어요 자 여기서 여러분 우리가 모르는 미지수를 X라고 표현을 하면 돼요 여태까지는 항상 네모를 이용했는데요 자 여기 앞으로는 X 이렇게 씁니다 X를 이용한 식으로 표현을 하는데 지금 미지수 우리가 모르는 수는 무엇인가요 몇 개인지 모르는 겁니다 꽃병의 개수를 우리가 X라고 표현해요 그럼 이제 식으로 할 수 있겠죠 56송이가 있었는데요 꽃병 몇 개에 똑같이 나누었는지 몰라요 꽃병이 몇 개인지 모릅니다 하지만 이렇게 나누었더니 자 그 결과 꽃병 한 개에 네 송이씩 꽂혔습니다 자 위에 있는 문장을 그대로 식으로 표현했어요 X를 사용한 식 우리가 모르는 것을 X 미지수로 주고 이렇게 표현한 식 맞게 했습니다 자 2번 문제도 있어요 그 다음도 한번 연습해봐요 색종이가 몇 장이 있었대요 우리가 모르는 거 무엇으로 해요 미지수로 둡니다 미지수 X라고 해서 X장이라고 생각을 할게요 자 처음에 몇 장이 있었는데 17장을 썼대요 그랬더니 32장이 됐다고 합니다 이만큼이 남았다고 합니다 그럼 한번 식을 써볼까요 처음에 몇 장 있는지 모릅니다 그런데 17장을 썼어요 여기서 빼기 쉽지를 해야겠네요 그랬더니 32장이 남았다 이렇게 했더니 32가 되었다는 거죠 X 미지수 X로 두고요 X를 이용한 식 이렇게 적으시면 정답이 되는 겁니다 자 우리가요 등식을 알아보기 위해서 X라는 문자 미지수를 X라는 문자를 이용해서 나타낸 식 연습을 해봤고요 이제 등식도 한번 연습을 해보도록 하죠 자 아래 문장을 등식으로 나타내시오 이게 아주 기본적인 문제 가장 많이 나오는 문제의 유형입니다 자 어떤 수 X의 4배보다 자 4배라고 했으니까 X에다 어떻게 해줄까요 곱하기 4라고 하면 되겠죠 그것보다 8이 작은 수는 자 이것보다 8이 작대요 작다고 했으니까 곱하기 2가 됩니다. 그러면 4분의 3이 6이 됩니다. 벌써 어때요? 1이 되려면 4분의 4가 돼야 되죠. 정답이 아니라는 거 확인할 수 있어요. x는 3이 아닙니다. 아 그렇군요. x의 미지수에 2를 넣었을 때 참이 되는군요. 그러므로 방정식을 풀면 x는 2가 된다라는 걸 알 수 있죠. 이 아래는 왠지 3이 될 것 같긴 한데 직접 넣어 보셔야 됩니다. x 대신에 여기다가 3을 한번 넣어 볼게요. 4에서 3을 빼면 얼마가 나와요? 1이 나옵니다. 1에다가 3을 곱해 볼게요. 그랬더니 3이 나오나요? 1 곱하기 3은 3. 맞네요. 그러니까 정답이 되는 거죠. 그런데 혹시 모르니까 2도 한번 넣어 볼까요? 선생님 이게 정답이 돼서 이렇게 될 수도 있잖아요. 그럼 2를 한번 넣어 보죠. 2를 여기다 넣으면 이것이 뭐가 돼요? 바로 2가 되죠. 이게 2가 되죠. 2 곱하기 3을 하면 얼마 돼요? 2 3은 6인데 여기 3이라고 됐으니까 거짓이죠. 아 정답은 이렇게 되는구나 라는 것을 알 수 있습니다. 자 여러분 이렇게 해서요 방정식을 푸는 거 알아봤어요. 그런데 질문이 있는 친구 당연히 있습니다. 선생님 이거를요 그대로 한번 넣어 보지 말고요. 이거 없이요. 이거를 풀 수도 있어요 하는 친구들. 풀 수 있습니다. 방정식을 푸는 방법을 이용하는 건데요. 그건 다음 개념에서 나오고요. 일단 지금 배운 거 정리한 다음에 그 다음에 배울게요. 방금 배운 거 정리해 봐요. 네 드디어 방정식 단원의 하이라이트가 되겠습니다. 자 여러분 미지수요. x 말고 항상 무엇으로 계산했나요? 네모로 계산했죠. 그 네모를 이용해서 계산하는 거 여러분 여태까지 다 배웠던 거죠. 그거를요 지금 똑같은 걸 하는데 단지 문자가 x 로만 바뀐 겁니다. 그러니까 절대 어렵지 않아요. 중학교에서 넘어온 단원 맞는데요. 어렵지 않아요. 같이 연습해 보도록 해요. 등식의 성질을 이용해서 방정식을 풀어보시오라고 했습니다. 자 여기 x 라는 문자가 나오고요. x 나누기 3 빼기 3 8 이러니까 뭔가 복잡해 보이죠. 그런데 이것을 여러분 네모라고 바꾸면 어떨까요? 네모라고 한번 바꿔볼까요? 네모 나누기 3 빼기 3은 8. 여기서 네모 구할 수 있어요? 구할 수 있죠. 그거랑 같은 방법으로 그대로 계산하면 돼요. 자 그럼 선생님이 x 를 구하기 위해서 뭔가 여러가지 사실을 알려드리겠습니다. 양쪽 여기 등호가 있죠. 왼쪽 면이 있고요. 여기 왼쪽 면이 있고 오른쪽 면이 있습니다. 왼쪽과 오른쪽에 똑같은 수를 더해준다. 그래도 등호가 성립이 되나요? 같다가 되나요? 같죠. 만약에 왼쪽과 오른쪽에 똑같은 수를 빼준다. 그래도 성립이 되나요? 맞습니다. 곱해도 나누어도 그 등식은 성립합니다. 이것이 바로 등식의 성질이 되고요. 또한 방정식을 풀 수 있는 수단이 되는 거예요. 자 그러면 같이 풀어보도록 할게요. 자 x 를 구하려면요. 여러분 왼쪽 편에서요. x 를 빼고 나머지를 다 없애주고 싶습니다. 이 나머지를 없애줘야 되는데 나누기 3을 먼저 없애줄까? 또는 빼기 3을 먼저 없애줄까? 이것이 고민이 됩니다. 여러분 가장 먼저 더샘 뺄샘을 먼저 빼셔야 돼요. 먼저 없애주셔야 돼요. 이 빼기 3을 먼저 없애주겠습니다. 자 왼쪽에 빼기 3을 없애주려면 똑같이 여기도 3을 내주고 여기도 3을 내주면 되나요? 그렇죠. 이거와 이거가 같으면요. 그것에 3을 더한 것과 이것에 3을 더한 것. 그것도 서로 같게 됩니다. 그랬을 때 어떻게 정리가 되느냐? x 나누기 3. 왼쪽은 이것만 남게 되죠. 그리고 오른쪽은 어떻게 돼요? 8 더하기 3을 해서요. 그래서 8 더하기 3을 해서 11이 되는 거죠. 그러면 x 나누기 3은 11이 된다고 하는데요. 우리가 구하고 싶은 것은 바로 x에요. x는 무엇이냐 알고 싶어요. 그러면 x 나누기 3에서 나누기 3을 없애주고 싶은 거죠. 나누기 3을 없애주려면 여기다 곱하기 3을 하면 되는데요. 여기에 곱하기 3을 해주고 이것도 똑같이 곱하기 3을 해주면 되겠네요. 그래서 11 곱하기 3을 하면 되는 거죠. 계산하면 바로 33이 나오는 것을 확인할 수 있습니다. 우리 지금 뭐 해준 거예요? 양쪽 변의 똑같은 수를 더해주거나 빼주거나 곱해주거나 나누어 준 겁니다. 그래서 x가 33이 나왔고요. 정답을 쓸 때 x는 33. 이런 걸로 적으시면 되는 거예요. 이 아래 문제도 여러분 어렵지 않아요. x 곱하기 12 더하기 7은 43이라고 나와 있죠. 이 중에 곱하기 12 더하기 7 이것을 없애주고 싶은 겁니다. 없애주기 위해서 여기 곱셈 나누셈보다 이걸 먼저 하라고 했어요. 멀리 있는 것부터 더하기 7을 한번 없애줘봅시다. 없애주려면요. 여기다 빼기 7도 해주고요. 여기도 빼기 7을 해주는 거죠. 70 빼줍니다. 그러면 왼쪽은요. x 곱하기 12 이것만 남아요. 우리의 목적 x만 남기는 건데 점점 간단해지고 있어요. 그 다음에 43에는 어떻게 해줘야 될까요? 빼기 7을 해줘야죠. 7을 빼주는 겁니다. 이거를 조금 다르게 생각하는 친구들 더하기 7이요. 이쪽으로 넘어와서 빼기 7이 된다. 이렇게 생각하는 친구들이 있는데 그렇게 생각해도 됩니다. 하지만 원리를 이해한 다음에 이렇게 됐다 라고 생각해야 되는 거예요. 이것을 계산하면요. 36이 됐죠. x 곱하기 12가 36이 됐다는 겁니다. 그러면 우리는요. x 곱하기 12가 궁금한 게 아니라 x가 궁금한 거예요. x만 남겨주고 싶은 겁니다. x만 남겨주고 싶으면 곱하기 12를 없애줘야겠네요. 곱하기 12를 없애주려면 나누기 12를 해줘야겠네요. 나누기 12를 여기다 해주는 거예요. 그리고 여기도 36 나누기 12를 해주는 거죠. 여기와 여기에 똑같이 나누기 12 나누기 12 해서 x는 이렇게 되는 거죠. 그랬더니 정답이 바로 3이 나왔죠. 그래서 x는 3이라고 나온 겁니다. 아 그렇군요. 이런 식이 있을 때 여기다 1도 나보고 2도 나보고 3도 나보고 이렇게 하는 것이 아니라 바로 식을 정리해서 정답이 이렇게 나올 수도 있다는 거 방금 문제를 통해서 알게 됐습니다. 우리 친구들 지금 선생님이 설명해 드린 거요. 기본적인 내용 다 배운 겁니다. 앞으로 선생님과 여러 가지 문제를 연습해 볼 텐데요. 이것을 이해한 친구는요. 모든 문제를 다 해결할 수가 있어요. 다음 문제 한번 알아볼게요. 다음 화면에 나옵니다. 등식의 성질을 이용하래요. 등식의 성질 뭔데요? 양변에 똑같은 수를 더해주거나 빼주거나 곱해주거나 나누어주거나 그렇게 해도 등식이 성립이 된다라는 것이죠. 자 방정식 이것을 풀어보시오. 방정식을 풀라는 것은요.\"\n",
    "    \"\"\n",
    ")\n",
    "\n",
    "\n",
    "# GPT-4를 사용하여 텍스트를 주제별로 나누고 번역 및 요약\n",
    "response = openai.ChatCompletion.create(\n",
    "    model=\"gpt-4o\",\n",
    "    messages=[\n",
    "        {\"role\": \"system\", \"content\": \"You are analist. \"},\n",
    "        {\n",
    "            \"role\": \"user\",\n",
    "            \"content\": f\"이 텍스트는 한국의 초등학교 수학 강의 스크립트입니다. 스크립트에 맞는 태그를 {category}에 있는 거만 선정해 주세요. 우선순위대로 정렬해서 줘. 스크립트: {text_to_summarize}\",\n",
    "        },\n",
    "        # {\"role\": \"user\", \"content\": \"Now, based on the translated text, analyze the teaching methods and explanation styles used in the lecture. Specifically, look at how concepts are introduced, whether problem-solving steps are explained clearly, and if there are any patterns in how the teacher interacts with students or presents mathematical ideas. in Korean.\"}\n",
    "    ],\n",
    ")\n",
    "\n",
    "# 번역 및 요약된 결과 출력\n",
    "print(response[\"choices\"][0][\"message\"][\"content\"])"
   ]
  },
  {
   "cell_type": "code",
   "execution_count": 50,
   "metadata": {},
   "outputs": [
    {
     "data": {
      "text/html": [
       "<div>\n",
       "<style scoped>\n",
       "    .dataframe tbody tr th:only-of-type {\n",
       "        vertical-align: middle;\n",
       "    }\n",
       "\n",
       "    .dataframe tbody tr th {\n",
       "        vertical-align: top;\n",
       "    }\n",
       "\n",
       "    .dataframe thead th {\n",
       "        text-align: right;\n",
       "    }\n",
       "</style>\n",
       "<table border=\"1\" class=\"dataframe\">\n",
       "  <thead>\n",
       "    <tr style=\"text-align: right;\">\n",
       "      <th></th>\n",
       "      <th>강의</th>\n",
       "      <th>태그</th>\n",
       "      <th>text</th>\n",
       "      <th>태그1</th>\n",
       "      <th>태그2</th>\n",
       "      <th>태그3</th>\n",
       "    </tr>\n",
       "  </thead>\n",
       "  <tbody>\n",
       "    <tr>\n",
       "      <th>0</th>\n",
       "      <td>1강</td>\n",
       "      <td>[0, 11, 7]</td>\n",
       "      <td>안녕하세요 우리 친구들 만나서 반갑습니다. 여러분들과 함께 초등수학 개념 찾기로  ...</td>\n",
       "      <td>0</td>\n",
       "      <td>11</td>\n",
       "      <td>7</td>\n",
       "    </tr>\n",
       "    <tr>\n",
       "      <th>1</th>\n",
       "      <td>2강</td>\n",
       "      <td>[0, 1, 2]</td>\n",
       "      <td>안녕하세요. 우리 EBS 친구들 반갑습니다. 여러분 어떻게 잘 지내셨어요? 선생님 ...</td>\n",
       "      <td>0</td>\n",
       "      <td>1</td>\n",
       "      <td>2</td>\n",
       "    </tr>\n",
       "    <tr>\n",
       "      <th>2</th>\n",
       "      <td>3강</td>\n",
       "      <td>[3, 0]</td>\n",
       "      <td>안녕하세요 우리 친구들 초등수학 개념 찾기 나소은 선생님입니다. 여러분!  이번 시...</td>\n",
       "      <td>3</td>\n",
       "      <td>0</td>\n",
       "      <td>&lt;NA&gt;</td>\n",
       "    </tr>\n",
       "    <tr>\n",
       "      <th>3</th>\n",
       "      <td>4강</td>\n",
       "      <td>[4, 3, 9, 10, 11]</td>\n",
       "      <td>여러분 안녕하세요. 자 우리 친구들과 함께 개념의 내용을 확실하게  잡아줄 아주 좋...</td>\n",
       "      <td>4</td>\n",
       "      <td>3</td>\n",
       "      <td>9</td>\n",
       "    </tr>\n",
       "    <tr>\n",
       "      <th>4</th>\n",
       "      <td>5강</td>\n",
       "      <td>[0, 1, 2, 3, 4, 5, 6]</td>\n",
       "      <td>초등학교 학교 초등학교 학교 초등학교 학교 초등학교 학교 초등학교 학교 초등학교 학...</td>\n",
       "      <td>0</td>\n",
       "      <td>1</td>\n",
       "      <td>2</td>\n",
       "    </tr>\n",
       "    <tr>\n",
       "      <th>5</th>\n",
       "      <td>6강</td>\n",
       "      <td>[0, 5, 1, 2]</td>\n",
       "      <td>1. 2. 3. 4. 5. 6. 7. 8. 9. 10. 11. 12. 13. 14....</td>\n",
       "      <td>0</td>\n",
       "      <td>5</td>\n",
       "      <td>1</td>\n",
       "    </tr>\n",
       "    <tr>\n",
       "      <th>6</th>\n",
       "      <td>7강</td>\n",
       "      <td>[0, 6, 7, 9, 22]</td>\n",
       "      <td>안녕하세요 우리 친구들 반갑습니다 안녕하세요 우리 친구들 반갑습니다  여러분들과 함...</td>\n",
       "      <td>0</td>\n",
       "      <td>6</td>\n",
       "      <td>7</td>\n",
       "    </tr>\n",
       "    <tr>\n",
       "      <th>7</th>\n",
       "      <td>8강</td>\n",
       "      <td>[0, 1, 2, 5, 6, 7]</td>\n",
       "      <td>초등수학의 개념 잡기 여러분들과 함께하는 초등수학의 개념 잡기 여러분들과 함께하는 ...</td>\n",
       "      <td>0</td>\n",
       "      <td>1</td>\n",
       "      <td>2</td>\n",
       "    </tr>\n",
       "    <tr>\n",
       "      <th>8</th>\n",
       "      <td>9강</td>\n",
       "      <td>[0, 6, 7, 1, 2]</td>\n",
       "      <td>안녕하세요 우리 친구들 즐거운 수업시간입니다 선생님과 함께 할 준비 되셨죠? 우리 ...</td>\n",
       "      <td>0</td>\n",
       "      <td>6</td>\n",
       "      <td>7</td>\n",
       "    </tr>\n",
       "    <tr>\n",
       "      <th>9</th>\n",
       "      <td>10강</td>\n",
       "      <td>[0, 12, 13, 18]</td>\n",
       "      <td>안녕하세요 초등수학 개념 찾기 나소은 선생님입니다. 여러분 어때요? 오늘 하루도 즐...</td>\n",
       "      <td>0</td>\n",
       "      <td>12</td>\n",
       "      <td>13</td>\n",
       "    </tr>\n",
       "    <tr>\n",
       "      <th>10</th>\n",
       "      <td>11강</td>\n",
       "      <td>[13, 15, 16, 18]</td>\n",
       "      <td>그의 조립은 끝났다. 초등학과 여러분, 난 이미ing knife algorithm ...</td>\n",
       "      <td>13</td>\n",
       "      <td>15</td>\n",
       "      <td>16</td>\n",
       "    </tr>\n",
       "    <tr>\n",
       "      <th>11</th>\n",
       "      <td>12강</td>\n",
       "      <td>[0, 13, 17, 8]</td>\n",
       "      <td>안녕하세요. 우리 친구들 하루 어떻게 잘 보내고 계신가요? 우리 즐거운 수학시간이죠...</td>\n",
       "      <td>0</td>\n",
       "      <td>13</td>\n",
       "      <td>17</td>\n",
       "    </tr>\n",
       "    <tr>\n",
       "      <th>12</th>\n",
       "      <td>13강</td>\n",
       "      <td>[8, 13, 15, 12, 18]</td>\n",
       "      <td>42cm다라고 얘기를 하고 있어요 작은 정삼각형 1개의 둘레의 길이를 묻고 있습니다...</td>\n",
       "      <td>8</td>\n",
       "      <td>13</td>\n",
       "      <td>15</td>\n",
       "    </tr>\n",
       "    <tr>\n",
       "      <th>13</th>\n",
       "      <td>14강</td>\n",
       "      <td>[15, 18, 13, 12, 11]</td>\n",
       "      <td>두 개의 직선이 만나서 이루는 각이 직각입니다. 그래서 직각입니다. 두 직선이 만나...</td>\n",
       "      <td>15</td>\n",
       "      <td>18</td>\n",
       "      <td>13</td>\n",
       "    </tr>\n",
       "    <tr>\n",
       "      <th>14</th>\n",
       "      <td>15강</td>\n",
       "      <td>[12, 13, 15, 18]</td>\n",
       "      <td>안녕하세요 우리 친구들 즐거운 수학시간입니다 초등학생 개념 찾기 우리 이번 시간은요...</td>\n",
       "      <td>12</td>\n",
       "      <td>13</td>\n",
       "      <td>15</td>\n",
       "    </tr>\n",
       "    <tr>\n",
       "      <th>15</th>\n",
       "      <td>16강</td>\n",
       "      <td>[8, 11, 9]</td>\n",
       "      <td>친한 친구 맞춰봐 왔어? 잠깐만 신난다 아파 어 뒤엣개 갖고 운동한 것 보세요 Ну...</td>\n",
       "      <td>8</td>\n",
       "      <td>11</td>\n",
       "      <td>9</td>\n",
       "    </tr>\n",
       "    <tr>\n",
       "      <th>16</th>\n",
       "      <td>17강</td>\n",
       "      <td>[8, 11, 1, 2]</td>\n",
       "      <td>할머니께서는 은정이 보다 감자를 몇 킬로그램 몇 그램 더 많이 캐셨는지 프리과정을 ...</td>\n",
       "      <td>8</td>\n",
       "      <td>11</td>\n",
       "      <td>1</td>\n",
       "    </tr>\n",
       "    <tr>\n",
       "      <th>17</th>\n",
       "      <td>18강</td>\n",
       "      <td>[12, 18, 11, 13, 15]</td>\n",
       "      <td>안녕하세요 우리 친구들. 반가워요. 이번 시간은요 각도에 대해서 함께 알아보는 시간...</td>\n",
       "      <td>12</td>\n",
       "      <td>18</td>\n",
       "      <td>11</td>\n",
       "    </tr>\n",
       "    <tr>\n",
       "      <th>18</th>\n",
       "      <td>19강</td>\n",
       "      <td>[8, 3, 4, 11, 18, 13, 15]</td>\n",
       "      <td>1킬로미터를 우리는 1000미터라고 얘기를 한단 말이에요. 그럼 이 1000미터 안...</td>\n",
       "      <td>8</td>\n",
       "      <td>3</td>\n",
       "      <td>4</td>\n",
       "    </tr>\n",
       "    <tr>\n",
       "      <th>19</th>\n",
       "      <td>20강</td>\n",
       "      <td>[0, 1, 6, 5, 19, 11]</td>\n",
       "      <td>안녕하세요. 우리 친구들 만나서 반갑습니다. 초등사학 기념잡기 여러분과 함께 할 시...</td>\n",
       "      <td>0</td>\n",
       "      <td>1</td>\n",
       "      <td>6</td>\n",
       "    </tr>\n",
       "    <tr>\n",
       "      <th>20</th>\n",
       "      <td>21강</td>\n",
       "      <td>[0, 1, 2, 7, 11]</td>\n",
       "      <td>안녕하세요. 우리 친구들 초등수학 개념찾기 나소은 선생님입니다. 우리 친구들과 이번...</td>\n",
       "      <td>0</td>\n",
       "      <td>1</td>\n",
       "      <td>2</td>\n",
       "    </tr>\n",
       "    <tr>\n",
       "      <th>21</th>\n",
       "      <td>22강</td>\n",
       "      <td>[1, 22, 23, 11]</td>\n",
       "      <td>나라를 선택한 학생수는 20명에다가 4명씩 3칸 12만큼을 더하여서 32명이라고 답...</td>\n",
       "      <td>1</td>\n",
       "      <td>22</td>\n",
       "      <td>23</td>\n",
       "    </tr>\n",
       "  </tbody>\n",
       "</table>\n",
       "</div>"
      ],
      "text/plain": [
       "     강의                         태그  \\\n",
       "0    1강                 [0, 11, 7]   \n",
       "1    2강                  [0, 1, 2]   \n",
       "2    3강                     [3, 0]   \n",
       "3    4강          [4, 3, 9, 10, 11]   \n",
       "4    5강      [0, 1, 2, 3, 4, 5, 6]   \n",
       "5    6강               [0, 5, 1, 2]   \n",
       "6    7강           [0, 6, 7, 9, 22]   \n",
       "7    8강         [0, 1, 2, 5, 6, 7]   \n",
       "8    9강            [0, 6, 7, 1, 2]   \n",
       "9   10강            [0, 12, 13, 18]   \n",
       "10  11강           [13, 15, 16, 18]   \n",
       "11  12강             [0, 13, 17, 8]   \n",
       "12  13강        [8, 13, 15, 12, 18]   \n",
       "13  14강       [15, 18, 13, 12, 11]   \n",
       "14  15강           [12, 13, 15, 18]   \n",
       "15  16강                 [8, 11, 9]   \n",
       "16  17강              [8, 11, 1, 2]   \n",
       "17  18강       [12, 18, 11, 13, 15]   \n",
       "18  19강  [8, 3, 4, 11, 18, 13, 15]   \n",
       "19  20강       [0, 1, 6, 5, 19, 11]   \n",
       "20  21강           [0, 1, 2, 7, 11]   \n",
       "21  22강            [1, 22, 23, 11]   \n",
       "\n",
       "                                                 text  태그1  태그2   태그3  \n",
       "0   안녕하세요 우리 친구들 만나서 반갑습니다. 여러분들과 함께 초등수학 개념 찾기로  ...    0   11     7  \n",
       "1   안녕하세요. 우리 EBS 친구들 반갑습니다. 여러분 어떻게 잘 지내셨어요? 선생님 ...    0    1     2  \n",
       "2   안녕하세요 우리 친구들 초등수학 개념 찾기 나소은 선생님입니다. 여러분!  이번 시...    3    0  <NA>  \n",
       "3   여러분 안녕하세요. 자 우리 친구들과 함께 개념의 내용을 확실하게  잡아줄 아주 좋...    4    3     9  \n",
       "4   초등학교 학교 초등학교 학교 초등학교 학교 초등학교 학교 초등학교 학교 초등학교 학...    0    1     2  \n",
       "5   1. 2. 3. 4. 5. 6. 7. 8. 9. 10. 11. 12. 13. 14....    0    5     1  \n",
       "6   안녕하세요 우리 친구들 반갑습니다 안녕하세요 우리 친구들 반갑습니다  여러분들과 함...    0    6     7  \n",
       "7   초등수학의 개념 잡기 여러분들과 함께하는 초등수학의 개념 잡기 여러분들과 함께하는 ...    0    1     2  \n",
       "8   안녕하세요 우리 친구들 즐거운 수업시간입니다 선생님과 함께 할 준비 되셨죠? 우리 ...    0    6     7  \n",
       "9   안녕하세요 초등수학 개념 찾기 나소은 선생님입니다. 여러분 어때요? 오늘 하루도 즐...    0   12    13  \n",
       "10  그의 조립은 끝났다. 초등학과 여러분, 난 이미ing knife algorithm ...   13   15    16  \n",
       "11  안녕하세요. 우리 친구들 하루 어떻게 잘 보내고 계신가요? 우리 즐거운 수학시간이죠...    0   13    17  \n",
       "12  42cm다라고 얘기를 하고 있어요 작은 정삼각형 1개의 둘레의 길이를 묻고 있습니다...    8   13    15  \n",
       "13  두 개의 직선이 만나서 이루는 각이 직각입니다. 그래서 직각입니다. 두 직선이 만나...   15   18    13  \n",
       "14  안녕하세요 우리 친구들 즐거운 수학시간입니다 초등학생 개념 찾기 우리 이번 시간은요...   12   13    15  \n",
       "15  친한 친구 맞춰봐 왔어? 잠깐만 신난다 아파 어 뒤엣개 갖고 운동한 것 보세요 Ну...    8   11     9  \n",
       "16  할머니께서는 은정이 보다 감자를 몇 킬로그램 몇 그램 더 많이 캐셨는지 프리과정을 ...    8   11     1  \n",
       "17  안녕하세요 우리 친구들. 반가워요. 이번 시간은요 각도에 대해서 함께 알아보는 시간...   12   18    11  \n",
       "18  1킬로미터를 우리는 1000미터라고 얘기를 한단 말이에요. 그럼 이 1000미터 안...    8    3     4  \n",
       "19  안녕하세요. 우리 친구들 만나서 반갑습니다. 초등사학 기념잡기 여러분과 함께 할 시...    0    1     6  \n",
       "20  안녕하세요. 우리 친구들 초등수학 개념찾기 나소은 선생님입니다. 우리 친구들과 이번...    0    1     2  \n",
       "21  나라를 선택한 학생수는 20명에다가 4명씩 3칸 12만큼을 더하여서 32명이라고 답...    1   22    23  "
      ]
     },
     "execution_count": 50,
     "metadata": {},
     "output_type": "execute_result"
    }
   ],
   "source": [
    "import pandas as pd\n",
    "\n",
    "lessons_dict = [\n",
    "    {\"강의\": \"1강\", \"태그\": [\"수\", \"측정\", \"소수점\"]},\n",
    "    {\"강의\": \"2강\", \"태그\": [\"수\", \"덧셈\", \"뺄셈\"]},\n",
    "    {\"강의\": \"3강\", \"태그\": [\"곱셈\", \"수\"]},\n",
    "    {\"강의\": \"4강\", \"태그\": [\"나눗셈\", \"곱셈\", \"시간\", \"화폐\", \"측정\"]},\n",
    "    {\"강의\": \"5강\", \"태그\": [\"수\", \"덧셈\", \"뺄셈\", \"곱셈\", \"나눗셈\", \"분수\", \"소수\"]},\n",
    "    {\"강의\": \"6강\", \"태그\": [\"수\", \"분수\", \"덧셈\", \"뺄셈\"]},\n",
    "    {\"강의\": \"7강\", \"태그\": [\"수\", \"소수\", \"소수점\", \"시간\", \"그래프\"]},\n",
    "    {\"강의\": \"8강\", \"태그\": [\"수\", \"덧셈\", \"뺄셈\", \"분수\", \"소수\", \"소수점\"]},\n",
    "    {\"강의\": \"9강\", \"태그\": [\"수\", \"소수\", \"소수점\", \"덧셈\", \"뺄셈\"]},\n",
    "    {\"강의\": \"10강\", \"태그\": [\"수\", \"각도\", \"평면도형\", \"직각\"]},\n",
    "    {\"강의\": \"11강\", \"태그\": [\"평면도형\", \"도형\", \"대칭\", \"직각\"]},\n",
    "    {\"강의\": \"12강\", \"태그\": [\"수\", \"평면도형\", \"원\", \"길이\"]},\n",
    "    {\"강의\": \"13강\", \"태그\": [\"길이\", \"평면도형\", \"도형\", \"각도\", \"직각\"]},\n",
    "    {\"강의\": \"14강\", \"태그\": [\"도형\", \"직각\", \"평면도형\", \"각도\", \"측정\"]},\n",
    "    {\"강의\": \"15강\", \"태그\": [\"각도\", \"평면도형\", \"도형\", \"직각\"]},\n",
    "    {\"강의\": \"16강\", \"태그\": [\"길이\", \"측정\", \"시간\"]},\n",
    "    {\"강의\": \"17강\", \"태그\": [\"길이\", \"측정\", \"무게\", \"덧셈\", \"뺄셈\"]},\n",
    "    {\"강의\": \"18강\", \"태그\": [\"각도\", \"직각\", \"측정\", \"평면도형\", \"도형\"]},\n",
    "    {\n",
    "        \"강의\": \"19강\",\n",
    "        \"태그\": [\"길이\", \"곱셈\", \"나눗셈\", \"측정\", \"직각\", \"평면도형\", \"도형\"],\n",
    "    },\n",
    "    {\"강의\": \"20강\", \"태그\": [\"수\", \"덧셈\", \"소수\", \"분수\", \"비율\", \"측정\"]},\n",
    "    {\"강의\": \"21강\", \"태그\": [\"수\", \"덧셈\", \"뺄셈\", \"소수점\", \"측정\"]},\n",
    "    {\"강의\": \"22강\", \"태그\": [\"덧셈\", \"그래프\", \"통계\", \"측정\"]},\n",
    "]\n",
    "\n",
    "\n",
    "import os\n",
    "\n",
    "df = pd.read_csv(\"./df1.csv\")\n",
    "\n",
    "# # 스크립트 파일이 저장된 폴더 경로 설정\n",
    "# script_folder_path = './ebs_script/'\n",
    "\n",
    "# # 'text' 열을 생성하고 스크립트 파일의 내용을 넣는 함수\n",
    "# def add_script_to_df(df, folder_path):\n",
    "#     texts = []\n",
    "\n",
    "#     for lecture in df['강의']:\n",
    "#         # 각 강의 번호에 맞는 스크립트 파일명 설정 (예: 강의_1.txt)\n",
    "#         script_file_name = f\"{folder_path}강의_{lecture[:-1]}.txt\"\n",
    "\n",
    "#         # 스크립트 파일이 존재하는지 확인하고, 존재하면 내용을 읽어들임\n",
    "#         if os.path.exists(script_file_name):\n",
    "#             with open(script_file_name, 'r', encoding='utf-8') as file:\n",
    "#                 text = file.read()\n",
    "#         else:\n",
    "#             text = ''  # 파일이 없으면 빈 문자열\n",
    "\n",
    "#         texts.append(text)\n",
    "\n",
    "#     # 데이터프레임에 'text' 열 추가\n",
    "#     df['text'] = texts\n",
    "#     return df\n",
    "\n",
    "# # 스크립트 파일을 추가하는 함수 실행\n",
    "# df = add_script_to_df(df, script_folder_path)\n",
    "\n",
    "# # 변환된 데이터프레임을 사용자에게 보여줌\n",
    "df[\"태그3\"] = df[\"태그3\"].astype(pd.Int64Dtype())\n",
    "\n",
    "df"
   ]
  },
  {
   "cell_type": "code",
   "execution_count": 112,
   "metadata": {},
   "outputs": [],
   "source": [
    "# 레이블 목록\n",
    "labels_dict = {\n",
    "    \"수\": 0,\n",
    "    \"덧셈\": 1,\n",
    "    \"뺄셈\": 2,\n",
    "    \"곱셈\": 3,\n",
    "    \"나눗셈\": 4,\n",
    "    \"분수\": 5,\n",
    "    \"소수\": 6,\n",
    "    \"소수점\": 7,\n",
    "    \"길이\": 8,\n",
    "    \"시간\": 9,\n",
    "    \"화폐\": 10,\n",
    "    \"측정\": 11,\n",
    "    \"각도\": 12,\n",
    "    \"평면도형\": 13,\n",
    "    \"입체도형\": 14,\n",
    "    \"도형\": 15,\n",
    "    \"대칭\": 16,\n",
    "    \"원\": 17,\n",
    "    \"직각\": 18,\n",
    "    \"비율\": 19,\n",
    "    \"비례식\": 20,\n",
    "    \"비\": 21,\n",
    "    \"그래프\": 22,\n",
    "    \"통계\": 23,\n",
    "    \"확률\": 24,\n",
    "    \"약수\": 25,\n",
    "    \"배수\": 26,\n",
    "    \"함수\": 27,\n",
    "    \"미지수\": 28,\n",
    "    \"규칙\": 29,\n",
    "}"
   ]
  },
  {
   "cell_type": "code",
   "execution_count": 108,
   "metadata": {},
   "outputs": [],
   "source": [
    "import os\n",
    "import pandas as pd\n",
    "\n",
    "# 파일이 위치한 디렉토리 경로\n",
    "directory_path = \"./ebs_script\"\n",
    "\n",
    "# 데이터프레임 로드\n",
    "df = pd.read_csv(\"./df.csv\")\n",
    "\n",
    "\n",
    "# 텍스트 파일을 읽고 데이터프레임에 추가하는 함수\n",
    "def add_lectures_from_files(directory_path, df):\n",
    "    rows = []  # 새로운 행을 저장할 리스트\n",
    "    for filename in os.listdir(directory_path):\n",
    "        if filename.endswith(\".txt\"):  # 텍스트 파일 확인\n",
    "            file_path = os.path.join(directory_path, filename)\n",
    "\n",
    "            # 파일 이름에서 강의 번호와 태그 추출\n",
    "            parts = filename.split(\"_\")\n",
    "            lecture_number = parts[0]\n",
    "            # 작은따옴표를 제거하고 공백을 제거한 뒤, 태그 분리\n",
    "            tags = [\n",
    "                tag.strip().replace(\"'\", \"\")\n",
    "                for tag in parts[1].rstrip(\".txt\").split(\",\")\n",
    "            ]\n",
    "\n",
    "            # 파일 내용 읽기\n",
    "            with open(file_path, \"r\", encoding=\"utf-8\") as file:\n",
    "                text_content = file.read()\n",
    "\n",
    "            # 새로운 행 생성\n",
    "            new_row = {\"강의\": lecture_number, \"태그\": tags, \"text\": text_content}\n",
    "            rows.append(new_row)\n",
    "\n",
    "    # 새로운 데이터프레임 생성하고 기존 데이터프레임과 병합\n",
    "    new_df = pd.DataFrame(rows)\n",
    "    df = pd.concat([df, new_df], ignore_index=True)\n",
    "\n",
    "    return df\n",
    "\n",
    "\n",
    "# 함수 호출\n",
    "df_updated = add_lectures_from_files(directory_path, df)\n",
    "\n",
    "# 데이터프레임 저장\n",
    "df_updated.to_csv(\"./updated_df.csv\", index=False)"
   ]
  },
  {
   "cell_type": "code",
   "execution_count": 109,
   "metadata": {},
   "outputs": [
    {
     "data": {
      "text/html": [
       "<div>\n",
       "<style scoped>\n",
       "    .dataframe tbody tr th:only-of-type {\n",
       "        vertical-align: middle;\n",
       "    }\n",
       "\n",
       "    .dataframe tbody tr th {\n",
       "        vertical-align: top;\n",
       "    }\n",
       "\n",
       "    .dataframe thead th {\n",
       "        text-align: right;\n",
       "    }\n",
       "</style>\n",
       "<table border=\"1\" class=\"dataframe\">\n",
       "  <thead>\n",
       "    <tr style=\"text-align: right;\">\n",
       "      <th></th>\n",
       "      <th>강의</th>\n",
       "      <th>태그</th>\n",
       "      <th>text</th>\n",
       "    </tr>\n",
       "  </thead>\n",
       "  <tbody>\n",
       "    <tr>\n",
       "      <th>0</th>\n",
       "      <td>1강</td>\n",
       "      <td>[0, 11, 7]</td>\n",
       "      <td>안녕하세요 우리 친구들 만나서 반갑습니다. 여러분들과 함께 초등수학 개념 찾기로  ...</td>\n",
       "    </tr>\n",
       "    <tr>\n",
       "      <th>1</th>\n",
       "      <td>2강</td>\n",
       "      <td>[0, 1, 2]</td>\n",
       "      <td>안녕하세요. 우리 EBS 친구들 반갑습니다. 여러분 어떻게 잘 지내셨어요? 선생님 ...</td>\n",
       "    </tr>\n",
       "    <tr>\n",
       "      <th>2</th>\n",
       "      <td>3강</td>\n",
       "      <td>[3, 0]</td>\n",
       "      <td>안녕하세요 우리 친구들 초등수학 개념 찾기 나소은 선생님입니다. 여러분!  이번 시...</td>\n",
       "    </tr>\n",
       "    <tr>\n",
       "      <th>3</th>\n",
       "      <td>4강</td>\n",
       "      <td>[4, 3, 9, 10, 11]</td>\n",
       "      <td>여러분 안녕하세요. 자 우리 친구들과 함께 개념의 내용을 확실하게  잡아줄 아주 좋...</td>\n",
       "    </tr>\n",
       "    <tr>\n",
       "      <th>4</th>\n",
       "      <td>5강</td>\n",
       "      <td>[0, 1, 2, 3, 4, 5, 6]</td>\n",
       "      <td>초등학교 학교 초등학교 학교 초등학교 학교 초등학교 학교 초등학교 학교 초등학교 학...</td>\n",
       "    </tr>\n",
       "    <tr>\n",
       "      <th>5</th>\n",
       "      <td>6강</td>\n",
       "      <td>[0, 5, 1, 2]</td>\n",
       "      <td>1. 2. 3. 4. 5. 6. 7. 8. 9. 10. 11. 12. 13. 14....</td>\n",
       "    </tr>\n",
       "    <tr>\n",
       "      <th>6</th>\n",
       "      <td>7강</td>\n",
       "      <td>[0, 6, 7, 9, 22]</td>\n",
       "      <td>안녕하세요 우리 친구들 반갑습니다 안녕하세요 우리 친구들 반갑습니다  여러분들과 함...</td>\n",
       "    </tr>\n",
       "    <tr>\n",
       "      <th>7</th>\n",
       "      <td>8강</td>\n",
       "      <td>[0, 1, 2, 5, 6, 7]</td>\n",
       "      <td>초등수학의 개념 잡기 여러분들과 함께하는 초등수학의 개념 잡기 여러분들과 함께하는 ...</td>\n",
       "    </tr>\n",
       "    <tr>\n",
       "      <th>8</th>\n",
       "      <td>9강</td>\n",
       "      <td>[0, 6, 7, 1, 2]</td>\n",
       "      <td>안녕하세요 우리 친구들 즐거운 수업시간입니다 선생님과 함께 할 준비 되셨죠? 우리 ...</td>\n",
       "    </tr>\n",
       "    <tr>\n",
       "      <th>9</th>\n",
       "      <td>10강</td>\n",
       "      <td>[0, 12, 13, 18]</td>\n",
       "      <td>안녕하세요 초등수학 개념 찾기 나소은 선생님입니다. 여러분 어때요? 오늘 하루도 즐...</td>\n",
       "    </tr>\n",
       "    <tr>\n",
       "      <th>10</th>\n",
       "      <td>11강</td>\n",
       "      <td>[13, 15, 16, 18]</td>\n",
       "      <td>그의 조립은 끝났다. 초등학과 여러분, 난 이미ing knife algorithm ...</td>\n",
       "    </tr>\n",
       "    <tr>\n",
       "      <th>11</th>\n",
       "      <td>12강</td>\n",
       "      <td>[0, 13, 17, 8]</td>\n",
       "      <td>안녕하세요. 우리 친구들 하루 어떻게 잘 보내고 계신가요? 우리 즐거운 수학시간이죠...</td>\n",
       "    </tr>\n",
       "    <tr>\n",
       "      <th>12</th>\n",
       "      <td>13강</td>\n",
       "      <td>[8, 13, 15, 12, 18]</td>\n",
       "      <td>42cm다라고 얘기를 하고 있어요 작은 정삼각형 1개의 둘레의 길이를 묻고 있습니다...</td>\n",
       "    </tr>\n",
       "    <tr>\n",
       "      <th>13</th>\n",
       "      <td>14강</td>\n",
       "      <td>[15, 18, 13, 12, 11]</td>\n",
       "      <td>두 개의 직선이 만나서 이루는 각이 직각입니다. 그래서 직각입니다. 두 직선이 만나...</td>\n",
       "    </tr>\n",
       "    <tr>\n",
       "      <th>14</th>\n",
       "      <td>15강</td>\n",
       "      <td>[12, 13, 15, 18]</td>\n",
       "      <td>안녕하세요 우리 친구들 즐거운 수학시간입니다 초등학생 개념 찾기 우리 이번 시간은요...</td>\n",
       "    </tr>\n",
       "    <tr>\n",
       "      <th>15</th>\n",
       "      <td>16강</td>\n",
       "      <td>[8, 11, 9]</td>\n",
       "      <td>친한 친구 맞춰봐 왔어? 잠깐만 신난다 아파 어 뒤엣개 갖고 운동한 것 보세요 Ну...</td>\n",
       "    </tr>\n",
       "    <tr>\n",
       "      <th>16</th>\n",
       "      <td>17강</td>\n",
       "      <td>[8, 11, 1, 2]</td>\n",
       "      <td>할머니께서는 은정이 보다 감자를 몇 킬로그램 몇 그램 더 많이 캐셨는지 프리과정을 ...</td>\n",
       "    </tr>\n",
       "    <tr>\n",
       "      <th>17</th>\n",
       "      <td>18강</td>\n",
       "      <td>[12, 18, 11, 13, 15]</td>\n",
       "      <td>안녕하세요 우리 친구들. 반가워요. 이번 시간은요 각도에 대해서 함께 알아보는 시간...</td>\n",
       "    </tr>\n",
       "    <tr>\n",
       "      <th>18</th>\n",
       "      <td>19강</td>\n",
       "      <td>[8, 3, 4, 11, 18, 13, 15]</td>\n",
       "      <td>1킬로미터를 우리는 1000미터라고 얘기를 한단 말이에요. 그럼 이 1000미터 안...</td>\n",
       "    </tr>\n",
       "    <tr>\n",
       "      <th>19</th>\n",
       "      <td>20강</td>\n",
       "      <td>[0, 1, 6, 5, 19, 11]</td>\n",
       "      <td>안녕하세요. 우리 친구들 만나서 반갑습니다. 초등사학 기념잡기 여러분과 함께 할 시...</td>\n",
       "    </tr>\n",
       "    <tr>\n",
       "      <th>20</th>\n",
       "      <td>21강</td>\n",
       "      <td>[0, 1, 2, 7, 11]</td>\n",
       "      <td>안녕하세요. 우리 친구들 초등수학 개념찾기 나소은 선생님입니다. 우리 친구들과 이번...</td>\n",
       "    </tr>\n",
       "    <tr>\n",
       "      <th>21</th>\n",
       "      <td>22강</td>\n",
       "      <td>[1, 22, 23, 11]</td>\n",
       "      <td>나라를 선택한 학생수는 20명에다가 4명씩 3칸 12만큼을 더하여서 32명이라고 답...</td>\n",
       "    </tr>\n",
       "    <tr>\n",
       "      <th>22</th>\n",
       "      <td>23</td>\n",
       "      <td>[수, 규칙]</td>\n",
       "      <td>여러분 안녕하세요. 수학의 개념을 확실하게 잡아보는 시간이죠. 여러분과 함께 준비한...</td>\n",
       "    </tr>\n",
       "    <tr>\n",
       "      <th>23</th>\n",
       "      <td>24</td>\n",
       "      <td>[수, 비율, 비례식, 함수]</td>\n",
       "      <td>해결해 준 것이다 라고도 표현해 줄 수 있게 되는 거고요. 표만 들어 문제를 해결하...</td>\n",
       "    </tr>\n",
       "    <tr>\n",
       "      <th>24</th>\n",
       "      <td>25</td>\n",
       "      <td>[약수, 배수, 곱셈, 나눗셈]</td>\n",
       "      <td>안녕하세요. 정말 반갑습니다. 김연경입니다. 오늘의 게스트는 김연경입니다. 안녕하세...</td>\n",
       "    </tr>\n",
       "    <tr>\n",
       "      <th>25</th>\n",
       "      <td>26</td>\n",
       "      <td>[나눗셈, 분수, 약수, 배수]</td>\n",
       "      <td>14 가 되어야 되는데요 나누기 4 를 해보세요 그러면 14 가 되나요 아 그렇군요...</td>\n",
       "    </tr>\n",
       "    <tr>\n",
       "      <th>26</th>\n",
       "      <td>27</td>\n",
       "      <td>[수, 덧셈, 뺄셈, 분수]</td>\n",
       "      <td>여러분 안녕하세요. 정말 반갑습니다. 김연경 선생님입니다. 우리 친구들 기본 강의와...</td>\n",
       "    </tr>\n",
       "    <tr>\n",
       "      <th>27</th>\n",
       "      <td>28</td>\n",
       "      <td>[분수, 곱셈, 측정, 평면도형]</td>\n",
       "      <td>색소프라노 여러분 안녕하세요 정말 반갑습니다 김연경 선생님이에요 자 우리 친구들 저...</td>\n",
       "    </tr>\n",
       "    <tr>\n",
       "      <th>28</th>\n",
       "      <td>29</td>\n",
       "      <td>[분수, 나눗셈, 곱셈]</td>\n",
       "      <td>여러분 안녕하세요 김연경 선생님입니다. 자, 우리 친구들 정말 축하합니다. 오늘은요...</td>\n",
       "    </tr>\n",
       "    <tr>\n",
       "      <th>29</th>\n",
       "      <td>30</td>\n",
       "      <td>[분수, 소수, 곱셈, 길이]</td>\n",
       "      <td>여러분 안녕하세요. 반갑습니다. 김연경 선생님입니다. 우리 친구들 저번 시간까지는요...</td>\n",
       "    </tr>\n",
       "    <tr>\n",
       "      <th>30</th>\n",
       "      <td>31</td>\n",
       "      <td>[나눗셈, 소수]</td>\n",
       "      <td>여러분 안녕하세요. 반갑습니다. 김연경 선생님입니다. 자 우리 친구들 선생님이요 언...</td>\n",
       "    </tr>\n",
       "    <tr>\n",
       "      <th>31</th>\n",
       "      <td>32</td>\n",
       "      <td>[수, 소수, 나눗셈]</td>\n",
       "      <td>오빠 енной이 비슷해보이지 않아요? 금일,  בכ사 wrote the stars...</td>\n",
       "    </tr>\n",
       "    <tr>\n",
       "      <th>32</th>\n",
       "      <td>33</td>\n",
       "      <td>[수, 소수, 분수, 나눗셈]</td>\n",
       "      <td>여러분 안녕하세요 정말 반갑습니다 김연경 선생님이에요 자 우리 친구들 오늘 수업 시...</td>\n",
       "    </tr>\n",
       "    <tr>\n",
       "      <th>33</th>\n",
       "      <td>34</td>\n",
       "      <td>[수, 측정, 평면도형]</td>\n",
       "      <td>여러분 안녕하세요. 반갑습니다. 김연경 선생님이에요. 자 우리 친구들 오늘이요 뭔가...</td>\n",
       "    </tr>\n",
       "    <tr>\n",
       "      <th>34</th>\n",
       "      <td>35</td>\n",
       "      <td>[원, 직각, 비율, 평면도형]</td>\n",
       "      <td>네 여러분 안녕하세요 정말 반갑습니다 김연경 선생님이에요 자 우리 친구들 오늘은요 ...</td>\n",
       "    </tr>\n",
       "    <tr>\n",
       "      <th>35</th>\n",
       "      <td>36</td>\n",
       "      <td>[입체도형, 측정, 길이, 평면도형]</td>\n",
       "      <td>여러분 안녕하세요 반갑습니다 김양경선생님 이에요 자 우리 친구들 우리요 처음에는 계...</td>\n",
       "    </tr>\n",
       "    <tr>\n",
       "      <th>36</th>\n",
       "      <td>37</td>\n",
       "      <td>[입체도형, 도형, 원, 직각]</td>\n",
       "      <td>여러분 안녕하세요 정말 반갑습니다 김연경선생님 이에요 자 우리 친구들 오늘 배우는 ...</td>\n",
       "    </tr>\n",
       "    <tr>\n",
       "      <th>37</th>\n",
       "      <td>38</td>\n",
       "      <td>[도형, 대칭]</td>\n",
       "      <td>여러분 안녕하세요. 반갑습니다. 김연경 선생님이에요. 우리 친구들 오늘 도형의 대칭...</td>\n",
       "    </tr>\n",
       "    <tr>\n",
       "      <th>38</th>\n",
       "      <td>39</td>\n",
       "      <td>[수, 통계, 그래프]</td>\n",
       "      <td>여러분 안녕하세요 반갑습니다 김연경 선생님 이에요 자 우리 친구들 선생님과 함께 5...</td>\n",
       "    </tr>\n",
       "    <tr>\n",
       "      <th>39</th>\n",
       "      <td>40</td>\n",
       "      <td>[비율, 비례식, 비, 그래프]</td>\n",
       "      <td>여러분 안녕하세요. 반갑습니다. 김연경 선생님이에요. 우리 친구들 선생님과 함께 5...</td>\n",
       "    </tr>\n",
       "    <tr>\n",
       "      <th>40</th>\n",
       "      <td>41</td>\n",
       "      <td>[그래프, 비율, 통계]</td>\n",
       "      <td>그런데 우리 친구들 방금 전에 봤던 띠 그래프랑 조금 모양이 달라요 음식물, 플라스...</td>\n",
       "    </tr>\n",
       "    <tr>\n",
       "      <th>41</th>\n",
       "      <td>42</td>\n",
       "      <td>[비율, 비례식, 비]</td>\n",
       "      <td>여러분, 안녕하세요. 반갑습니다. 김연경 선생님이에요. 자, 우리 친구들 5학년부터...</td>\n",
       "    </tr>\n",
       "    <tr>\n",
       "      <th>42</th>\n",
       "      <td>43</td>\n",
       "      <td>[곱셈, 비율, 비례식]</td>\n",
       "      <td>2를 곱했잖아요. 4 2 8 한거죠. 4 곱하기 2를 한 것입니다. 그래서 이것이 ...</td>\n",
       "    </tr>\n",
       "    <tr>\n",
       "      <th>43</th>\n",
       "      <td>44</td>\n",
       "      <td>[확률]</td>\n",
       "      <td>여러분 안녕하세요 반갑습니다. 김연경 선생님이에요.  자 우리 친구들 오늘이요 굉장...</td>\n",
       "    </tr>\n",
       "    <tr>\n",
       "      <th>44</th>\n",
       "      <td>45</td>\n",
       "      <td>[미지수, 함수, 덧셈, 뺄셈, 나눗셈, 곱셈]</td>\n",
       "      <td>7종류의 퀴즈 힌트를 찾아가보시죠 可以 하apter 요 sign 여 여 여 여 만남...</td>\n",
       "    </tr>\n",
       "  </tbody>\n",
       "</table>\n",
       "</div>"
      ],
      "text/plain": [
       "     강의                          태그  \\\n",
       "0    1강                  [0, 11, 7]   \n",
       "1    2강                   [0, 1, 2]   \n",
       "2    3강                      [3, 0]   \n",
       "3    4강           [4, 3, 9, 10, 11]   \n",
       "4    5강       [0, 1, 2, 3, 4, 5, 6]   \n",
       "5    6강                [0, 5, 1, 2]   \n",
       "6    7강            [0, 6, 7, 9, 22]   \n",
       "7    8강          [0, 1, 2, 5, 6, 7]   \n",
       "8    9강             [0, 6, 7, 1, 2]   \n",
       "9   10강             [0, 12, 13, 18]   \n",
       "10  11강            [13, 15, 16, 18]   \n",
       "11  12강              [0, 13, 17, 8]   \n",
       "12  13강         [8, 13, 15, 12, 18]   \n",
       "13  14강        [15, 18, 13, 12, 11]   \n",
       "14  15강            [12, 13, 15, 18]   \n",
       "15  16강                  [8, 11, 9]   \n",
       "16  17강               [8, 11, 1, 2]   \n",
       "17  18강        [12, 18, 11, 13, 15]   \n",
       "18  19강   [8, 3, 4, 11, 18, 13, 15]   \n",
       "19  20강        [0, 1, 6, 5, 19, 11]   \n",
       "20  21강            [0, 1, 2, 7, 11]   \n",
       "21  22강             [1, 22, 23, 11]   \n",
       "22   23                     [수, 규칙]   \n",
       "23   24            [수, 비율, 비례식, 함수]   \n",
       "24   25           [약수, 배수, 곱셈, 나눗셈]   \n",
       "25   26           [나눗셈, 분수, 약수, 배수]   \n",
       "26   27             [수, 덧셈, 뺄셈, 분수]   \n",
       "27   28          [분수, 곱셈, 측정, 평면도형]   \n",
       "28   29               [분수, 나눗셈, 곱셈]   \n",
       "29   30            [분수, 소수, 곱셈, 길이]   \n",
       "30   31                   [나눗셈, 소수]   \n",
       "31   32                [수, 소수, 나눗셈]   \n",
       "32   33            [수, 소수, 분수, 나눗셈]   \n",
       "33   34               [수, 측정, 평면도형]   \n",
       "34   35           [원, 직각, 비율, 평면도형]   \n",
       "35   36        [입체도형, 측정, 길이, 평면도형]   \n",
       "36   37           [입체도형, 도형, 원, 직각]   \n",
       "37   38                    [도형, 대칭]   \n",
       "38   39                [수, 통계, 그래프]   \n",
       "39   40           [비율, 비례식, 비, 그래프]   \n",
       "40   41               [그래프, 비율, 통계]   \n",
       "41   42                [비율, 비례식, 비]   \n",
       "42   43               [곱셈, 비율, 비례식]   \n",
       "43   44                        [확률]   \n",
       "44   45  [미지수, 함수, 덧셈, 뺄셈, 나눗셈, 곱셈]   \n",
       "\n",
       "                                                 text  \n",
       "0   안녕하세요 우리 친구들 만나서 반갑습니다. 여러분들과 함께 초등수학 개념 찾기로  ...  \n",
       "1   안녕하세요. 우리 EBS 친구들 반갑습니다. 여러분 어떻게 잘 지내셨어요? 선생님 ...  \n",
       "2   안녕하세요 우리 친구들 초등수학 개념 찾기 나소은 선생님입니다. 여러분!  이번 시...  \n",
       "3   여러분 안녕하세요. 자 우리 친구들과 함께 개념의 내용을 확실하게  잡아줄 아주 좋...  \n",
       "4   초등학교 학교 초등학교 학교 초등학교 학교 초등학교 학교 초등학교 학교 초등학교 학...  \n",
       "5   1. 2. 3. 4. 5. 6. 7. 8. 9. 10. 11. 12. 13. 14....  \n",
       "6   안녕하세요 우리 친구들 반갑습니다 안녕하세요 우리 친구들 반갑습니다  여러분들과 함...  \n",
       "7   초등수학의 개념 잡기 여러분들과 함께하는 초등수학의 개념 잡기 여러분들과 함께하는 ...  \n",
       "8   안녕하세요 우리 친구들 즐거운 수업시간입니다 선생님과 함께 할 준비 되셨죠? 우리 ...  \n",
       "9   안녕하세요 초등수학 개념 찾기 나소은 선생님입니다. 여러분 어때요? 오늘 하루도 즐...  \n",
       "10  그의 조립은 끝났다. 초등학과 여러분, 난 이미ing knife algorithm ...  \n",
       "11  안녕하세요. 우리 친구들 하루 어떻게 잘 보내고 계신가요? 우리 즐거운 수학시간이죠...  \n",
       "12  42cm다라고 얘기를 하고 있어요 작은 정삼각형 1개의 둘레의 길이를 묻고 있습니다...  \n",
       "13  두 개의 직선이 만나서 이루는 각이 직각입니다. 그래서 직각입니다. 두 직선이 만나...  \n",
       "14  안녕하세요 우리 친구들 즐거운 수학시간입니다 초등학생 개념 찾기 우리 이번 시간은요...  \n",
       "15  친한 친구 맞춰봐 왔어? 잠깐만 신난다 아파 어 뒤엣개 갖고 운동한 것 보세요 Ну...  \n",
       "16  할머니께서는 은정이 보다 감자를 몇 킬로그램 몇 그램 더 많이 캐셨는지 프리과정을 ...  \n",
       "17  안녕하세요 우리 친구들. 반가워요. 이번 시간은요 각도에 대해서 함께 알아보는 시간...  \n",
       "18  1킬로미터를 우리는 1000미터라고 얘기를 한단 말이에요. 그럼 이 1000미터 안...  \n",
       "19  안녕하세요. 우리 친구들 만나서 반갑습니다. 초등사학 기념잡기 여러분과 함께 할 시...  \n",
       "20  안녕하세요. 우리 친구들 초등수학 개념찾기 나소은 선생님입니다. 우리 친구들과 이번...  \n",
       "21  나라를 선택한 학생수는 20명에다가 4명씩 3칸 12만큼을 더하여서 32명이라고 답...  \n",
       "22  여러분 안녕하세요. 수학의 개념을 확실하게 잡아보는 시간이죠. 여러분과 함께 준비한...  \n",
       "23  해결해 준 것이다 라고도 표현해 줄 수 있게 되는 거고요. 표만 들어 문제를 해결하...  \n",
       "24  안녕하세요. 정말 반갑습니다. 김연경입니다. 오늘의 게스트는 김연경입니다. 안녕하세...  \n",
       "25  14 가 되어야 되는데요 나누기 4 를 해보세요 그러면 14 가 되나요 아 그렇군요...  \n",
       "26  여러분 안녕하세요. 정말 반갑습니다. 김연경 선생님입니다. 우리 친구들 기본 강의와...  \n",
       "27  색소프라노 여러분 안녕하세요 정말 반갑습니다 김연경 선생님이에요 자 우리 친구들 저...  \n",
       "28  여러분 안녕하세요 김연경 선생님입니다. 자, 우리 친구들 정말 축하합니다. 오늘은요...  \n",
       "29  여러분 안녕하세요. 반갑습니다. 김연경 선생님입니다. 우리 친구들 저번 시간까지는요...  \n",
       "30  여러분 안녕하세요. 반갑습니다. 김연경 선생님입니다. 자 우리 친구들 선생님이요 언...  \n",
       "31  오빠 енной이 비슷해보이지 않아요? 금일,  בכ사 wrote the stars...  \n",
       "32  여러분 안녕하세요 정말 반갑습니다 김연경 선생님이에요 자 우리 친구들 오늘 수업 시...  \n",
       "33  여러분 안녕하세요. 반갑습니다. 김연경 선생님이에요. 자 우리 친구들 오늘이요 뭔가...  \n",
       "34  네 여러분 안녕하세요 정말 반갑습니다 김연경 선생님이에요 자 우리 친구들 오늘은요 ...  \n",
       "35  여러분 안녕하세요 반갑습니다 김양경선생님 이에요 자 우리 친구들 우리요 처음에는 계...  \n",
       "36  여러분 안녕하세요 정말 반갑습니다 김연경선생님 이에요 자 우리 친구들 오늘 배우는 ...  \n",
       "37  여러분 안녕하세요. 반갑습니다. 김연경 선생님이에요. 우리 친구들 오늘 도형의 대칭...  \n",
       "38  여러분 안녕하세요 반갑습니다 김연경 선생님 이에요 자 우리 친구들 선생님과 함께 5...  \n",
       "39  여러분 안녕하세요. 반갑습니다. 김연경 선생님이에요. 우리 친구들 선생님과 함께 5...  \n",
       "40  그런데 우리 친구들 방금 전에 봤던 띠 그래프랑 조금 모양이 달라요 음식물, 플라스...  \n",
       "41  여러분, 안녕하세요. 반갑습니다. 김연경 선생님이에요. 자, 우리 친구들 5학년부터...  \n",
       "42  2를 곱했잖아요. 4 2 8 한거죠. 4 곱하기 2를 한 것입니다. 그래서 이것이 ...  \n",
       "43  여러분 안녕하세요 반갑습니다. 김연경 선생님이에요.  자 우리 친구들 오늘이요 굉장...  \n",
       "44  7종류의 퀴즈 힌트를 찾아가보시죠 可以 하apter 요 sign 여 여 여 여 만남...  "
      ]
     },
     "execution_count": 109,
     "metadata": {},
     "output_type": "execute_result"
    }
   ],
   "source": [
    "df_updated"
   ]
  },
  {
   "cell_type": "code",
   "execution_count": 113,
   "metadata": {},
   "outputs": [
    {
     "data": {
      "text/html": [
       "<div>\n",
       "<style scoped>\n",
       "    .dataframe tbody tr th:only-of-type {\n",
       "        vertical-align: middle;\n",
       "    }\n",
       "\n",
       "    .dataframe tbody tr th {\n",
       "        vertical-align: top;\n",
       "    }\n",
       "\n",
       "    .dataframe thead th {\n",
       "        text-align: right;\n",
       "    }\n",
       "</style>\n",
       "<table border=\"1\" class=\"dataframe\">\n",
       "  <thead>\n",
       "    <tr style=\"text-align: right;\">\n",
       "      <th></th>\n",
       "      <th>강의</th>\n",
       "      <th>태그</th>\n",
       "      <th>text</th>\n",
       "    </tr>\n",
       "  </thead>\n",
       "  <tbody>\n",
       "    <tr>\n",
       "      <th>22</th>\n",
       "      <td>23강</td>\n",
       "      <td>[0, 29]</td>\n",
       "      <td>여러분 안녕하세요. 수학의 개념을 확실하게 잡아보는 시간이죠. 여러분과 함께 준비한...</td>\n",
       "    </tr>\n",
       "    <tr>\n",
       "      <th>23</th>\n",
       "      <td>24강</td>\n",
       "      <td>[0, 19, 20, 27]</td>\n",
       "      <td>해결해 준 것이다 라고도 표현해 줄 수 있게 되는 거고요. 표만 들어 문제를 해결하...</td>\n",
       "    </tr>\n",
       "    <tr>\n",
       "      <th>24</th>\n",
       "      <td>25강</td>\n",
       "      <td>[25, 26, 3, 4]</td>\n",
       "      <td>안녕하세요. 정말 반갑습니다. 김연경입니다. 오늘의 게스트는 김연경입니다. 안녕하세...</td>\n",
       "    </tr>\n",
       "    <tr>\n",
       "      <th>25</th>\n",
       "      <td>26강</td>\n",
       "      <td>[4, 5, 25, 26]</td>\n",
       "      <td>14 가 되어야 되는데요 나누기 4 를 해보세요 그러면 14 가 되나요 아 그렇군요...</td>\n",
       "    </tr>\n",
       "    <tr>\n",
       "      <th>26</th>\n",
       "      <td>27강</td>\n",
       "      <td>[0, 1, 2, 5]</td>\n",
       "      <td>여러분 안녕하세요. 정말 반갑습니다. 김연경 선생님입니다. 우리 친구들 기본 강의와...</td>\n",
       "    </tr>\n",
       "    <tr>\n",
       "      <th>27</th>\n",
       "      <td>28강</td>\n",
       "      <td>[5, 3, 11, 13]</td>\n",
       "      <td>색소프라노 여러분 안녕하세요 정말 반갑습니다 김연경 선생님이에요 자 우리 친구들 저...</td>\n",
       "    </tr>\n",
       "    <tr>\n",
       "      <th>28</th>\n",
       "      <td>29강</td>\n",
       "      <td>[5, 4, 3]</td>\n",
       "      <td>여러분 안녕하세요 김연경 선생님입니다. 자, 우리 친구들 정말 축하합니다. 오늘은요...</td>\n",
       "    </tr>\n",
       "    <tr>\n",
       "      <th>29</th>\n",
       "      <td>30강</td>\n",
       "      <td>[5, 6, 3, 8]</td>\n",
       "      <td>여러분 안녕하세요. 반갑습니다. 김연경 선생님입니다. 우리 친구들 저번 시간까지는요...</td>\n",
       "    </tr>\n",
       "    <tr>\n",
       "      <th>30</th>\n",
       "      <td>31강</td>\n",
       "      <td>[4, 6]</td>\n",
       "      <td>여러분 안녕하세요. 반갑습니다. 김연경 선생님입니다. 자 우리 친구들 선생님이요 언...</td>\n",
       "    </tr>\n",
       "    <tr>\n",
       "      <th>31</th>\n",
       "      <td>32강</td>\n",
       "      <td>[0, 6, 4]</td>\n",
       "      <td>오빠 енной이 비슷해보이지 않아요? 금일,  בכ사 wrote the stars...</td>\n",
       "    </tr>\n",
       "    <tr>\n",
       "      <th>32</th>\n",
       "      <td>33강</td>\n",
       "      <td>[0, 6, 5, 4]</td>\n",
       "      <td>여러분 안녕하세요 정말 반갑습니다 김연경 선생님이에요 자 우리 친구들 오늘 수업 시...</td>\n",
       "    </tr>\n",
       "    <tr>\n",
       "      <th>33</th>\n",
       "      <td>34강</td>\n",
       "      <td>[0, 11, 13]</td>\n",
       "      <td>여러분 안녕하세요. 반갑습니다. 김연경 선생님이에요. 자 우리 친구들 오늘이요 뭔가...</td>\n",
       "    </tr>\n",
       "    <tr>\n",
       "      <th>34</th>\n",
       "      <td>35강</td>\n",
       "      <td>[17, 18, 19, 13]</td>\n",
       "      <td>네 여러분 안녕하세요 정말 반갑습니다 김연경 선생님이에요 자 우리 친구들 오늘은요 ...</td>\n",
       "    </tr>\n",
       "    <tr>\n",
       "      <th>35</th>\n",
       "      <td>36강</td>\n",
       "      <td>[14, 11, 8, 13]</td>\n",
       "      <td>여러분 안녕하세요 반갑습니다 김양경선생님 이에요 자 우리 친구들 우리요 처음에는 계...</td>\n",
       "    </tr>\n",
       "    <tr>\n",
       "      <th>36</th>\n",
       "      <td>37강</td>\n",
       "      <td>[14, 15, 17, 18]</td>\n",
       "      <td>여러분 안녕하세요 정말 반갑습니다 김연경선생님 이에요 자 우리 친구들 오늘 배우는 ...</td>\n",
       "    </tr>\n",
       "    <tr>\n",
       "      <th>37</th>\n",
       "      <td>38강</td>\n",
       "      <td>[15, 16]</td>\n",
       "      <td>여러분 안녕하세요. 반갑습니다. 김연경 선생님이에요. 우리 친구들 오늘 도형의 대칭...</td>\n",
       "    </tr>\n",
       "    <tr>\n",
       "      <th>38</th>\n",
       "      <td>39강</td>\n",
       "      <td>[0, 23, 22]</td>\n",
       "      <td>여러분 안녕하세요 반갑습니다 김연경 선생님 이에요 자 우리 친구들 선생님과 함께 5...</td>\n",
       "    </tr>\n",
       "    <tr>\n",
       "      <th>39</th>\n",
       "      <td>40강</td>\n",
       "      <td>[19, 20, 21, 22]</td>\n",
       "      <td>여러분 안녕하세요. 반갑습니다. 김연경 선생님이에요. 우리 친구들 선생님과 함께 5...</td>\n",
       "    </tr>\n",
       "    <tr>\n",
       "      <th>40</th>\n",
       "      <td>41강</td>\n",
       "      <td>[22, 19, 23]</td>\n",
       "      <td>그런데 우리 친구들 방금 전에 봤던 띠 그래프랑 조금 모양이 달라요 음식물, 플라스...</td>\n",
       "    </tr>\n",
       "    <tr>\n",
       "      <th>41</th>\n",
       "      <td>42강</td>\n",
       "      <td>[19, 20, 21]</td>\n",
       "      <td>여러분, 안녕하세요. 반갑습니다. 김연경 선생님이에요. 자, 우리 친구들 5학년부터...</td>\n",
       "    </tr>\n",
       "    <tr>\n",
       "      <th>42</th>\n",
       "      <td>43강</td>\n",
       "      <td>[3, 19, 20]</td>\n",
       "      <td>2를 곱했잖아요. 4 2 8 한거죠. 4 곱하기 2를 한 것입니다. 그래서 이것이 ...</td>\n",
       "    </tr>\n",
       "    <tr>\n",
       "      <th>43</th>\n",
       "      <td>44강</td>\n",
       "      <td>[24]</td>\n",
       "      <td>여러분 안녕하세요 반갑습니다. 김연경 선생님이에요.  자 우리 친구들 오늘이요 굉장...</td>\n",
       "    </tr>\n",
       "    <tr>\n",
       "      <th>44</th>\n",
       "      <td>45강</td>\n",
       "      <td>[28, 27, 1, 2, 4, 3]</td>\n",
       "      <td>7종류의 퀴즈 힌트를 찾아가보시죠 可以 하apter 요 sign 여 여 여 여 만남...</td>\n",
       "    </tr>\n",
       "  </tbody>\n",
       "</table>\n",
       "</div>"
      ],
      "text/plain": [
       "     강의                    태그  \\\n",
       "22  23강               [0, 29]   \n",
       "23  24강       [0, 19, 20, 27]   \n",
       "24  25강        [25, 26, 3, 4]   \n",
       "25  26강        [4, 5, 25, 26]   \n",
       "26  27강          [0, 1, 2, 5]   \n",
       "27  28강        [5, 3, 11, 13]   \n",
       "28  29강             [5, 4, 3]   \n",
       "29  30강          [5, 6, 3, 8]   \n",
       "30  31강                [4, 6]   \n",
       "31  32강             [0, 6, 4]   \n",
       "32  33강          [0, 6, 5, 4]   \n",
       "33  34강           [0, 11, 13]   \n",
       "34  35강      [17, 18, 19, 13]   \n",
       "35  36강       [14, 11, 8, 13]   \n",
       "36  37강      [14, 15, 17, 18]   \n",
       "37  38강              [15, 16]   \n",
       "38  39강           [0, 23, 22]   \n",
       "39  40강      [19, 20, 21, 22]   \n",
       "40  41강          [22, 19, 23]   \n",
       "41  42강          [19, 20, 21]   \n",
       "42  43강           [3, 19, 20]   \n",
       "43  44강                  [24]   \n",
       "44  45강  [28, 27, 1, 2, 4, 3]   \n",
       "\n",
       "                                                 text  \n",
       "22  여러분 안녕하세요. 수학의 개념을 확실하게 잡아보는 시간이죠. 여러분과 함께 준비한...  \n",
       "23  해결해 준 것이다 라고도 표현해 줄 수 있게 되는 거고요. 표만 들어 문제를 해결하...  \n",
       "24  안녕하세요. 정말 반갑습니다. 김연경입니다. 오늘의 게스트는 김연경입니다. 안녕하세...  \n",
       "25  14 가 되어야 되는데요 나누기 4 를 해보세요 그러면 14 가 되나요 아 그렇군요...  \n",
       "26  여러분 안녕하세요. 정말 반갑습니다. 김연경 선생님입니다. 우리 친구들 기본 강의와...  \n",
       "27  색소프라노 여러분 안녕하세요 정말 반갑습니다 김연경 선생님이에요 자 우리 친구들 저...  \n",
       "28  여러분 안녕하세요 김연경 선생님입니다. 자, 우리 친구들 정말 축하합니다. 오늘은요...  \n",
       "29  여러분 안녕하세요. 반갑습니다. 김연경 선생님입니다. 우리 친구들 저번 시간까지는요...  \n",
       "30  여러분 안녕하세요. 반갑습니다. 김연경 선생님입니다. 자 우리 친구들 선생님이요 언...  \n",
       "31  오빠 енной이 비슷해보이지 않아요? 금일,  בכ사 wrote the stars...  \n",
       "32  여러분 안녕하세요 정말 반갑습니다 김연경 선생님이에요 자 우리 친구들 오늘 수업 시...  \n",
       "33  여러분 안녕하세요. 반갑습니다. 김연경 선생님이에요. 자 우리 친구들 오늘이요 뭔가...  \n",
       "34  네 여러분 안녕하세요 정말 반갑습니다 김연경 선생님이에요 자 우리 친구들 오늘은요 ...  \n",
       "35  여러분 안녕하세요 반갑습니다 김양경선생님 이에요 자 우리 친구들 우리요 처음에는 계...  \n",
       "36  여러분 안녕하세요 정말 반갑습니다 김연경선생님 이에요 자 우리 친구들 오늘 배우는 ...  \n",
       "37  여러분 안녕하세요. 반갑습니다. 김연경 선생님이에요. 우리 친구들 오늘 도형의 대칭...  \n",
       "38  여러분 안녕하세요 반갑습니다 김연경 선생님 이에요 자 우리 친구들 선생님과 함께 5...  \n",
       "39  여러분 안녕하세요. 반갑습니다. 김연경 선생님이에요. 우리 친구들 선생님과 함께 5...  \n",
       "40  그런데 우리 친구들 방금 전에 봤던 띠 그래프랑 조금 모양이 달라요 음식물, 플라스...  \n",
       "41  여러분, 안녕하세요. 반갑습니다. 김연경 선생님이에요. 자, 우리 친구들 5학년부터...  \n",
       "42  2를 곱했잖아요. 4 2 8 한거죠. 4 곱하기 2를 한 것입니다. 그래서 이것이 ...  \n",
       "43  여러분 안녕하세요 반갑습니다. 김연경 선생님이에요.  자 우리 친구들 오늘이요 굉장...  \n",
       "44  7종류의 퀴즈 힌트를 찾아가보시죠 可以 하apter 요 sign 여 여 여 여 만남...  "
      ]
     },
     "execution_count": 113,
     "metadata": {},
     "output_type": "execute_result"
    }
   ],
   "source": [
    "import ast\n",
    "\n",
    "\n",
    "# 태그 데이터 타입 확인 및 변환 함수\n",
    "def validate_tags(tags):\n",
    "    # 문자열로 예상되는 태그 리스트를 평가\n",
    "    tag_list = ast.literal_eval(tags)\n",
    "    # 각 태그를 해당하는 숫자로 변환\n",
    "    return [labels_dict[tag] for tag in tag_list]\n",
    "\n",
    "\n",
    "# 데이터프레임 로드\n",
    "df = pd.read_csv(\"./updated_df.csv\")\n",
    "\n",
    "# 태그 라벨 인코딩 및 '강의' 열 수정\n",
    "df.loc[22:45, \"태그\"] = df.loc[22:45, \"태그\"].apply(validate_tags)\n",
    "df.loc[22:45, \"강의\"] += \"강\"\n",
    "\n",
    "# 변환된 데이터프레임 저장\n",
    "df.to_csv(\"./df_ebs.csv\", index=False)\n",
    "\n",
    "# 결과 확인\n",
    "df.loc[22:45]"
   ]
  },
  {
   "cell_type": "code",
   "execution_count": 114,
   "metadata": {},
   "outputs": [
    {
     "data": {
      "text/html": [
       "<div>\n",
       "<style scoped>\n",
       "    .dataframe tbody tr th:only-of-type {\n",
       "        vertical-align: middle;\n",
       "    }\n",
       "\n",
       "    .dataframe tbody tr th {\n",
       "        vertical-align: top;\n",
       "    }\n",
       "\n",
       "    .dataframe thead th {\n",
       "        text-align: right;\n",
       "    }\n",
       "</style>\n",
       "<table border=\"1\" class=\"dataframe\">\n",
       "  <thead>\n",
       "    <tr style=\"text-align: right;\">\n",
       "      <th></th>\n",
       "      <th>강의</th>\n",
       "      <th>태그</th>\n",
       "      <th>text</th>\n",
       "    </tr>\n",
       "  </thead>\n",
       "  <tbody>\n",
       "    <tr>\n",
       "      <th>0</th>\n",
       "      <td>1강</td>\n",
       "      <td>[0, 11, 7]</td>\n",
       "      <td>안녕하세요 우리 친구들 만나서 반갑습니다. 여러분들과 함께 초등수학 개념 찾기로  ...</td>\n",
       "    </tr>\n",
       "    <tr>\n",
       "      <th>1</th>\n",
       "      <td>2강</td>\n",
       "      <td>[0, 1, 2]</td>\n",
       "      <td>안녕하세요. 우리 EBS 친구들 반갑습니다. 여러분 어떻게 잘 지내셨어요? 선생님 ...</td>\n",
       "    </tr>\n",
       "    <tr>\n",
       "      <th>2</th>\n",
       "      <td>3강</td>\n",
       "      <td>[3, 0]</td>\n",
       "      <td>안녕하세요 우리 친구들 초등수학 개념 찾기 나소은 선생님입니다. 여러분!  이번 시...</td>\n",
       "    </tr>\n",
       "    <tr>\n",
       "      <th>3</th>\n",
       "      <td>4강</td>\n",
       "      <td>[4, 3, 9, 10, 11]</td>\n",
       "      <td>여러분 안녕하세요. 자 우리 친구들과 함께 개념의 내용을 확실하게  잡아줄 아주 좋...</td>\n",
       "    </tr>\n",
       "    <tr>\n",
       "      <th>4</th>\n",
       "      <td>5강</td>\n",
       "      <td>[0, 1, 2, 3, 4, 5, 6]</td>\n",
       "      <td>초등학교 학교 초등학교 학교 초등학교 학교 초등학교 학교 초등학교 학교 초등학교 학...</td>\n",
       "    </tr>\n",
       "    <tr>\n",
       "      <th>5</th>\n",
       "      <td>6강</td>\n",
       "      <td>[0, 5, 1, 2]</td>\n",
       "      <td>1. 2. 3. 4. 5. 6. 7. 8. 9. 10. 11. 12. 13. 14....</td>\n",
       "    </tr>\n",
       "    <tr>\n",
       "      <th>6</th>\n",
       "      <td>7강</td>\n",
       "      <td>[0, 6, 7, 9, 22]</td>\n",
       "      <td>안녕하세요 우리 친구들 반갑습니다 안녕하세요 우리 친구들 반갑습니다  여러분들과 함...</td>\n",
       "    </tr>\n",
       "    <tr>\n",
       "      <th>7</th>\n",
       "      <td>8강</td>\n",
       "      <td>[0, 1, 2, 5, 6, 7]</td>\n",
       "      <td>초등수학의 개념 잡기 여러분들과 함께하는 초등수학의 개념 잡기 여러분들과 함께하는 ...</td>\n",
       "    </tr>\n",
       "    <tr>\n",
       "      <th>8</th>\n",
       "      <td>9강</td>\n",
       "      <td>[0, 6, 7, 1, 2]</td>\n",
       "      <td>안녕하세요 우리 친구들 즐거운 수업시간입니다 선생님과 함께 할 준비 되셨죠? 우리 ...</td>\n",
       "    </tr>\n",
       "    <tr>\n",
       "      <th>9</th>\n",
       "      <td>10강</td>\n",
       "      <td>[0, 12, 13, 18]</td>\n",
       "      <td>안녕하세요 초등수학 개념 찾기 나소은 선생님입니다. 여러분 어때요? 오늘 하루도 즐...</td>\n",
       "    </tr>\n",
       "    <tr>\n",
       "      <th>10</th>\n",
       "      <td>11강</td>\n",
       "      <td>[13, 15, 16, 18]</td>\n",
       "      <td>그의 조립은 끝났다. 초등학과 여러분, 난 이미ing knife algorithm ...</td>\n",
       "    </tr>\n",
       "    <tr>\n",
       "      <th>11</th>\n",
       "      <td>12강</td>\n",
       "      <td>[0, 13, 17, 8]</td>\n",
       "      <td>안녕하세요. 우리 친구들 하루 어떻게 잘 보내고 계신가요? 우리 즐거운 수학시간이죠...</td>\n",
       "    </tr>\n",
       "    <tr>\n",
       "      <th>12</th>\n",
       "      <td>13강</td>\n",
       "      <td>[8, 13, 15, 12, 18]</td>\n",
       "      <td>42cm다라고 얘기를 하고 있어요 작은 정삼각형 1개의 둘레의 길이를 묻고 있습니다...</td>\n",
       "    </tr>\n",
       "    <tr>\n",
       "      <th>13</th>\n",
       "      <td>14강</td>\n",
       "      <td>[15, 18, 13, 12, 11]</td>\n",
       "      <td>두 개의 직선이 만나서 이루는 각이 직각입니다. 그래서 직각입니다. 두 직선이 만나...</td>\n",
       "    </tr>\n",
       "    <tr>\n",
       "      <th>14</th>\n",
       "      <td>15강</td>\n",
       "      <td>[12, 13, 15, 18]</td>\n",
       "      <td>안녕하세요 우리 친구들 즐거운 수학시간입니다 초등학생 개념 찾기 우리 이번 시간은요...</td>\n",
       "    </tr>\n",
       "    <tr>\n",
       "      <th>15</th>\n",
       "      <td>16강</td>\n",
       "      <td>[8, 11, 9]</td>\n",
       "      <td>친한 친구 맞춰봐 왔어? 잠깐만 신난다 아파 어 뒤엣개 갖고 운동한 것 보세요 Ну...</td>\n",
       "    </tr>\n",
       "    <tr>\n",
       "      <th>16</th>\n",
       "      <td>17강</td>\n",
       "      <td>[8, 11, 1, 2]</td>\n",
       "      <td>할머니께서는 은정이 보다 감자를 몇 킬로그램 몇 그램 더 많이 캐셨는지 프리과정을 ...</td>\n",
       "    </tr>\n",
       "    <tr>\n",
       "      <th>17</th>\n",
       "      <td>18강</td>\n",
       "      <td>[12, 18, 11, 13, 15]</td>\n",
       "      <td>안녕하세요 우리 친구들. 반가워요. 이번 시간은요 각도에 대해서 함께 알아보는 시간...</td>\n",
       "    </tr>\n",
       "    <tr>\n",
       "      <th>18</th>\n",
       "      <td>19강</td>\n",
       "      <td>[8, 3, 4, 11, 18, 13, 15]</td>\n",
       "      <td>1킬로미터를 우리는 1000미터라고 얘기를 한단 말이에요. 그럼 이 1000미터 안...</td>\n",
       "    </tr>\n",
       "    <tr>\n",
       "      <th>19</th>\n",
       "      <td>20강</td>\n",
       "      <td>[0, 1, 6, 5, 19, 11]</td>\n",
       "      <td>안녕하세요. 우리 친구들 만나서 반갑습니다. 초등사학 기념잡기 여러분과 함께 할 시...</td>\n",
       "    </tr>\n",
       "    <tr>\n",
       "      <th>20</th>\n",
       "      <td>21강</td>\n",
       "      <td>[0, 1, 2, 7, 11]</td>\n",
       "      <td>안녕하세요. 우리 친구들 초등수학 개념찾기 나소은 선생님입니다. 우리 친구들과 이번...</td>\n",
       "    </tr>\n",
       "    <tr>\n",
       "      <th>21</th>\n",
       "      <td>22강</td>\n",
       "      <td>[1, 22, 23, 11]</td>\n",
       "      <td>나라를 선택한 학생수는 20명에다가 4명씩 3칸 12만큼을 더하여서 32명이라고 답...</td>\n",
       "    </tr>\n",
       "    <tr>\n",
       "      <th>22</th>\n",
       "      <td>23강</td>\n",
       "      <td>[0, 29]</td>\n",
       "      <td>여러분 안녕하세요. 수학의 개념을 확실하게 잡아보는 시간이죠. 여러분과 함께 준비한...</td>\n",
       "    </tr>\n",
       "    <tr>\n",
       "      <th>23</th>\n",
       "      <td>24강</td>\n",
       "      <td>[0, 19, 20, 27]</td>\n",
       "      <td>해결해 준 것이다 라고도 표현해 줄 수 있게 되는 거고요. 표만 들어 문제를 해결하...</td>\n",
       "    </tr>\n",
       "    <tr>\n",
       "      <th>24</th>\n",
       "      <td>25강</td>\n",
       "      <td>[25, 26, 3, 4]</td>\n",
       "      <td>안녕하세요. 정말 반갑습니다. 김연경입니다. 오늘의 게스트는 김연경입니다. 안녕하세...</td>\n",
       "    </tr>\n",
       "    <tr>\n",
       "      <th>25</th>\n",
       "      <td>26강</td>\n",
       "      <td>[4, 5, 25, 26]</td>\n",
       "      <td>14 가 되어야 되는데요 나누기 4 를 해보세요 그러면 14 가 되나요 아 그렇군요...</td>\n",
       "    </tr>\n",
       "    <tr>\n",
       "      <th>26</th>\n",
       "      <td>27강</td>\n",
       "      <td>[0, 1, 2, 5]</td>\n",
       "      <td>여러분 안녕하세요. 정말 반갑습니다. 김연경 선생님입니다. 우리 친구들 기본 강의와...</td>\n",
       "    </tr>\n",
       "    <tr>\n",
       "      <th>27</th>\n",
       "      <td>28강</td>\n",
       "      <td>[5, 3, 11, 13]</td>\n",
       "      <td>색소프라노 여러분 안녕하세요 정말 반갑습니다 김연경 선생님이에요 자 우리 친구들 저...</td>\n",
       "    </tr>\n",
       "    <tr>\n",
       "      <th>28</th>\n",
       "      <td>29강</td>\n",
       "      <td>[5, 4, 3]</td>\n",
       "      <td>여러분 안녕하세요 김연경 선생님입니다. 자, 우리 친구들 정말 축하합니다. 오늘은요...</td>\n",
       "    </tr>\n",
       "    <tr>\n",
       "      <th>29</th>\n",
       "      <td>30강</td>\n",
       "      <td>[5, 6, 3, 8]</td>\n",
       "      <td>여러분 안녕하세요. 반갑습니다. 김연경 선생님입니다. 우리 친구들 저번 시간까지는요...</td>\n",
       "    </tr>\n",
       "    <tr>\n",
       "      <th>30</th>\n",
       "      <td>31강</td>\n",
       "      <td>[4, 6]</td>\n",
       "      <td>여러분 안녕하세요. 반갑습니다. 김연경 선생님입니다. 자 우리 친구들 선생님이요 언...</td>\n",
       "    </tr>\n",
       "    <tr>\n",
       "      <th>31</th>\n",
       "      <td>32강</td>\n",
       "      <td>[0, 6, 4]</td>\n",
       "      <td>오빠 енной이 비슷해보이지 않아요? 금일,  בכ사 wrote the stars...</td>\n",
       "    </tr>\n",
       "    <tr>\n",
       "      <th>32</th>\n",
       "      <td>33강</td>\n",
       "      <td>[0, 6, 5, 4]</td>\n",
       "      <td>여러분 안녕하세요 정말 반갑습니다 김연경 선생님이에요 자 우리 친구들 오늘 수업 시...</td>\n",
       "    </tr>\n",
       "    <tr>\n",
       "      <th>33</th>\n",
       "      <td>34강</td>\n",
       "      <td>[0, 11, 13]</td>\n",
       "      <td>여러분 안녕하세요. 반갑습니다. 김연경 선생님이에요. 자 우리 친구들 오늘이요 뭔가...</td>\n",
       "    </tr>\n",
       "    <tr>\n",
       "      <th>34</th>\n",
       "      <td>35강</td>\n",
       "      <td>[17, 18, 19, 13]</td>\n",
       "      <td>네 여러분 안녕하세요 정말 반갑습니다 김연경 선생님이에요 자 우리 친구들 오늘은요 ...</td>\n",
       "    </tr>\n",
       "    <tr>\n",
       "      <th>35</th>\n",
       "      <td>36강</td>\n",
       "      <td>[14, 11, 8, 13]</td>\n",
       "      <td>여러분 안녕하세요 반갑습니다 김양경선생님 이에요 자 우리 친구들 우리요 처음에는 계...</td>\n",
       "    </tr>\n",
       "    <tr>\n",
       "      <th>36</th>\n",
       "      <td>37강</td>\n",
       "      <td>[14, 15, 17, 18]</td>\n",
       "      <td>여러분 안녕하세요 정말 반갑습니다 김연경선생님 이에요 자 우리 친구들 오늘 배우는 ...</td>\n",
       "    </tr>\n",
       "    <tr>\n",
       "      <th>37</th>\n",
       "      <td>38강</td>\n",
       "      <td>[15, 16]</td>\n",
       "      <td>여러분 안녕하세요. 반갑습니다. 김연경 선생님이에요. 우리 친구들 오늘 도형의 대칭...</td>\n",
       "    </tr>\n",
       "    <tr>\n",
       "      <th>38</th>\n",
       "      <td>39강</td>\n",
       "      <td>[0, 23, 22]</td>\n",
       "      <td>여러분 안녕하세요 반갑습니다 김연경 선생님 이에요 자 우리 친구들 선생님과 함께 5...</td>\n",
       "    </tr>\n",
       "    <tr>\n",
       "      <th>39</th>\n",
       "      <td>40강</td>\n",
       "      <td>[19, 20, 21, 22]</td>\n",
       "      <td>여러분 안녕하세요. 반갑습니다. 김연경 선생님이에요. 우리 친구들 선생님과 함께 5...</td>\n",
       "    </tr>\n",
       "    <tr>\n",
       "      <th>40</th>\n",
       "      <td>41강</td>\n",
       "      <td>[22, 19, 23]</td>\n",
       "      <td>그런데 우리 친구들 방금 전에 봤던 띠 그래프랑 조금 모양이 달라요 음식물, 플라스...</td>\n",
       "    </tr>\n",
       "    <tr>\n",
       "      <th>41</th>\n",
       "      <td>42강</td>\n",
       "      <td>[19, 20, 21]</td>\n",
       "      <td>여러분, 안녕하세요. 반갑습니다. 김연경 선생님이에요. 자, 우리 친구들 5학년부터...</td>\n",
       "    </tr>\n",
       "    <tr>\n",
       "      <th>42</th>\n",
       "      <td>43강</td>\n",
       "      <td>[3, 19, 20]</td>\n",
       "      <td>2를 곱했잖아요. 4 2 8 한거죠. 4 곱하기 2를 한 것입니다. 그래서 이것이 ...</td>\n",
       "    </tr>\n",
       "    <tr>\n",
       "      <th>43</th>\n",
       "      <td>44강</td>\n",
       "      <td>[24]</td>\n",
       "      <td>여러분 안녕하세요 반갑습니다. 김연경 선생님이에요.  자 우리 친구들 오늘이요 굉장...</td>\n",
       "    </tr>\n",
       "    <tr>\n",
       "      <th>44</th>\n",
       "      <td>45강</td>\n",
       "      <td>[28, 27, 1, 2, 4, 3]</td>\n",
       "      <td>7종류의 퀴즈 힌트를 찾아가보시죠 可以 하apter 요 sign 여 여 여 여 만남...</td>\n",
       "    </tr>\n",
       "  </tbody>\n",
       "</table>\n",
       "</div>"
      ],
      "text/plain": [
       "     강의                         태그  \\\n",
       "0    1강                 [0, 11, 7]   \n",
       "1    2강                  [0, 1, 2]   \n",
       "2    3강                     [3, 0]   \n",
       "3    4강          [4, 3, 9, 10, 11]   \n",
       "4    5강      [0, 1, 2, 3, 4, 5, 6]   \n",
       "5    6강               [0, 5, 1, 2]   \n",
       "6    7강           [0, 6, 7, 9, 22]   \n",
       "7    8강         [0, 1, 2, 5, 6, 7]   \n",
       "8    9강            [0, 6, 7, 1, 2]   \n",
       "9   10강            [0, 12, 13, 18]   \n",
       "10  11강           [13, 15, 16, 18]   \n",
       "11  12강             [0, 13, 17, 8]   \n",
       "12  13강        [8, 13, 15, 12, 18]   \n",
       "13  14강       [15, 18, 13, 12, 11]   \n",
       "14  15강           [12, 13, 15, 18]   \n",
       "15  16강                 [8, 11, 9]   \n",
       "16  17강              [8, 11, 1, 2]   \n",
       "17  18강       [12, 18, 11, 13, 15]   \n",
       "18  19강  [8, 3, 4, 11, 18, 13, 15]   \n",
       "19  20강       [0, 1, 6, 5, 19, 11]   \n",
       "20  21강           [0, 1, 2, 7, 11]   \n",
       "21  22강            [1, 22, 23, 11]   \n",
       "22  23강                    [0, 29]   \n",
       "23  24강            [0, 19, 20, 27]   \n",
       "24  25강             [25, 26, 3, 4]   \n",
       "25  26강             [4, 5, 25, 26]   \n",
       "26  27강               [0, 1, 2, 5]   \n",
       "27  28강             [5, 3, 11, 13]   \n",
       "28  29강                  [5, 4, 3]   \n",
       "29  30강               [5, 6, 3, 8]   \n",
       "30  31강                     [4, 6]   \n",
       "31  32강                  [0, 6, 4]   \n",
       "32  33강               [0, 6, 5, 4]   \n",
       "33  34강                [0, 11, 13]   \n",
       "34  35강           [17, 18, 19, 13]   \n",
       "35  36강            [14, 11, 8, 13]   \n",
       "36  37강           [14, 15, 17, 18]   \n",
       "37  38강                   [15, 16]   \n",
       "38  39강                [0, 23, 22]   \n",
       "39  40강           [19, 20, 21, 22]   \n",
       "40  41강               [22, 19, 23]   \n",
       "41  42강               [19, 20, 21]   \n",
       "42  43강                [3, 19, 20]   \n",
       "43  44강                       [24]   \n",
       "44  45강       [28, 27, 1, 2, 4, 3]   \n",
       "\n",
       "                                                 text  \n",
       "0   안녕하세요 우리 친구들 만나서 반갑습니다. 여러분들과 함께 초등수학 개념 찾기로  ...  \n",
       "1   안녕하세요. 우리 EBS 친구들 반갑습니다. 여러분 어떻게 잘 지내셨어요? 선생님 ...  \n",
       "2   안녕하세요 우리 친구들 초등수학 개념 찾기 나소은 선생님입니다. 여러분!  이번 시...  \n",
       "3   여러분 안녕하세요. 자 우리 친구들과 함께 개념의 내용을 확실하게  잡아줄 아주 좋...  \n",
       "4   초등학교 학교 초등학교 학교 초등학교 학교 초등학교 학교 초등학교 학교 초등학교 학...  \n",
       "5   1. 2. 3. 4. 5. 6. 7. 8. 9. 10. 11. 12. 13. 14....  \n",
       "6   안녕하세요 우리 친구들 반갑습니다 안녕하세요 우리 친구들 반갑습니다  여러분들과 함...  \n",
       "7   초등수학의 개념 잡기 여러분들과 함께하는 초등수학의 개념 잡기 여러분들과 함께하는 ...  \n",
       "8   안녕하세요 우리 친구들 즐거운 수업시간입니다 선생님과 함께 할 준비 되셨죠? 우리 ...  \n",
       "9   안녕하세요 초등수학 개념 찾기 나소은 선생님입니다. 여러분 어때요? 오늘 하루도 즐...  \n",
       "10  그의 조립은 끝났다. 초등학과 여러분, 난 이미ing knife algorithm ...  \n",
       "11  안녕하세요. 우리 친구들 하루 어떻게 잘 보내고 계신가요? 우리 즐거운 수학시간이죠...  \n",
       "12  42cm다라고 얘기를 하고 있어요 작은 정삼각형 1개의 둘레의 길이를 묻고 있습니다...  \n",
       "13  두 개의 직선이 만나서 이루는 각이 직각입니다. 그래서 직각입니다. 두 직선이 만나...  \n",
       "14  안녕하세요 우리 친구들 즐거운 수학시간입니다 초등학생 개념 찾기 우리 이번 시간은요...  \n",
       "15  친한 친구 맞춰봐 왔어? 잠깐만 신난다 아파 어 뒤엣개 갖고 운동한 것 보세요 Ну...  \n",
       "16  할머니께서는 은정이 보다 감자를 몇 킬로그램 몇 그램 더 많이 캐셨는지 프리과정을 ...  \n",
       "17  안녕하세요 우리 친구들. 반가워요. 이번 시간은요 각도에 대해서 함께 알아보는 시간...  \n",
       "18  1킬로미터를 우리는 1000미터라고 얘기를 한단 말이에요. 그럼 이 1000미터 안...  \n",
       "19  안녕하세요. 우리 친구들 만나서 반갑습니다. 초등사학 기념잡기 여러분과 함께 할 시...  \n",
       "20  안녕하세요. 우리 친구들 초등수학 개념찾기 나소은 선생님입니다. 우리 친구들과 이번...  \n",
       "21  나라를 선택한 학생수는 20명에다가 4명씩 3칸 12만큼을 더하여서 32명이라고 답...  \n",
       "22  여러분 안녕하세요. 수학의 개념을 확실하게 잡아보는 시간이죠. 여러분과 함께 준비한...  \n",
       "23  해결해 준 것이다 라고도 표현해 줄 수 있게 되는 거고요. 표만 들어 문제를 해결하...  \n",
       "24  안녕하세요. 정말 반갑습니다. 김연경입니다. 오늘의 게스트는 김연경입니다. 안녕하세...  \n",
       "25  14 가 되어야 되는데요 나누기 4 를 해보세요 그러면 14 가 되나요 아 그렇군요...  \n",
       "26  여러분 안녕하세요. 정말 반갑습니다. 김연경 선생님입니다. 우리 친구들 기본 강의와...  \n",
       "27  색소프라노 여러분 안녕하세요 정말 반갑습니다 김연경 선생님이에요 자 우리 친구들 저...  \n",
       "28  여러분 안녕하세요 김연경 선생님입니다. 자, 우리 친구들 정말 축하합니다. 오늘은요...  \n",
       "29  여러분 안녕하세요. 반갑습니다. 김연경 선생님입니다. 우리 친구들 저번 시간까지는요...  \n",
       "30  여러분 안녕하세요. 반갑습니다. 김연경 선생님입니다. 자 우리 친구들 선생님이요 언...  \n",
       "31  오빠 енной이 비슷해보이지 않아요? 금일,  בכ사 wrote the stars...  \n",
       "32  여러분 안녕하세요 정말 반갑습니다 김연경 선생님이에요 자 우리 친구들 오늘 수업 시...  \n",
       "33  여러분 안녕하세요. 반갑습니다. 김연경 선생님이에요. 자 우리 친구들 오늘이요 뭔가...  \n",
       "34  네 여러분 안녕하세요 정말 반갑습니다 김연경 선생님이에요 자 우리 친구들 오늘은요 ...  \n",
       "35  여러분 안녕하세요 반갑습니다 김양경선생님 이에요 자 우리 친구들 우리요 처음에는 계...  \n",
       "36  여러분 안녕하세요 정말 반갑습니다 김연경선생님 이에요 자 우리 친구들 오늘 배우는 ...  \n",
       "37  여러분 안녕하세요. 반갑습니다. 김연경 선생님이에요. 우리 친구들 오늘 도형의 대칭...  \n",
       "38  여러분 안녕하세요 반갑습니다 김연경 선생님 이에요 자 우리 친구들 선생님과 함께 5...  \n",
       "39  여러분 안녕하세요. 반갑습니다. 김연경 선생님이에요. 우리 친구들 선생님과 함께 5...  \n",
       "40  그런데 우리 친구들 방금 전에 봤던 띠 그래프랑 조금 모양이 달라요 음식물, 플라스...  \n",
       "41  여러분, 안녕하세요. 반갑습니다. 김연경 선생님이에요. 자, 우리 친구들 5학년부터...  \n",
       "42  2를 곱했잖아요. 4 2 8 한거죠. 4 곱하기 2를 한 것입니다. 그래서 이것이 ...  \n",
       "43  여러분 안녕하세요 반갑습니다. 김연경 선생님이에요.  자 우리 친구들 오늘이요 굉장...  \n",
       "44  7종류의 퀴즈 힌트를 찾아가보시죠 可以 하apter 요 sign 여 여 여 여 만남...  "
      ]
     },
     "execution_count": 114,
     "metadata": {},
     "output_type": "execute_result"
    }
   ],
   "source": [
    "df"
   ]
  },
  {
   "cell_type": "code",
   "execution_count": 120,
   "metadata": {},
   "outputs": [
    {
     "data": {
      "text/html": [
       "<div>\n",
       "<style scoped>\n",
       "    .dataframe tbody tr th:only-of-type {\n",
       "        vertical-align: middle;\n",
       "    }\n",
       "\n",
       "    .dataframe tbody tr th {\n",
       "        vertical-align: top;\n",
       "    }\n",
       "\n",
       "    .dataframe thead th {\n",
       "        text-align: right;\n",
       "    }\n",
       "</style>\n",
       "<table border=\"1\" class=\"dataframe\">\n",
       "  <thead>\n",
       "    <tr style=\"text-align: right;\">\n",
       "      <th></th>\n",
       "      <th>강의</th>\n",
       "      <th>태그</th>\n",
       "      <th>text</th>\n",
       "      <th>태그1</th>\n",
       "      <th>태그2</th>\n",
       "      <th>태그3</th>\n",
       "    </tr>\n",
       "  </thead>\n",
       "  <tbody>\n",
       "    <tr>\n",
       "      <th>0</th>\n",
       "      <td>1강</td>\n",
       "      <td>[0, 11, 7]</td>\n",
       "      <td>안녕하세요 우리 친구들 만나서 반갑습니다. 여러분들과 함께 초등수학 개념 찾기로  ...</td>\n",
       "      <td>0</td>\n",
       "      <td>11</td>\n",
       "      <td>7</td>\n",
       "    </tr>\n",
       "    <tr>\n",
       "      <th>1</th>\n",
       "      <td>2강</td>\n",
       "      <td>[0, 1, 2]</td>\n",
       "      <td>안녕하세요. 우리 EBS 친구들 반갑습니다. 여러분 어떻게 잘 지내셨어요? 선생님 ...</td>\n",
       "      <td>0</td>\n",
       "      <td>1</td>\n",
       "      <td>2</td>\n",
       "    </tr>\n",
       "    <tr>\n",
       "      <th>2</th>\n",
       "      <td>3강</td>\n",
       "      <td>[3, 0]</td>\n",
       "      <td>안녕하세요 우리 친구들 초등수학 개념 찾기 나소은 선생님입니다. 여러분!  이번 시...</td>\n",
       "      <td>3</td>\n",
       "      <td>0</td>\n",
       "      <td>&lt;NA&gt;</td>\n",
       "    </tr>\n",
       "    <tr>\n",
       "      <th>3</th>\n",
       "      <td>4강</td>\n",
       "      <td>[4, 3, 9, 10, 11]</td>\n",
       "      <td>여러분 안녕하세요. 자 우리 친구들과 함께 개념의 내용을 확실하게  잡아줄 아주 좋...</td>\n",
       "      <td>4</td>\n",
       "      <td>3</td>\n",
       "      <td>9</td>\n",
       "    </tr>\n",
       "    <tr>\n",
       "      <th>4</th>\n",
       "      <td>5강</td>\n",
       "      <td>[0, 1, 2, 3, 4, 5, 6]</td>\n",
       "      <td>초등학교 학교 초등학교 학교 초등학교 학교 초등학교 학교 초등학교 학교 초등학교 학...</td>\n",
       "      <td>0</td>\n",
       "      <td>1</td>\n",
       "      <td>2</td>\n",
       "    </tr>\n",
       "    <tr>\n",
       "      <th>5</th>\n",
       "      <td>6강</td>\n",
       "      <td>[0, 5, 1, 2]</td>\n",
       "      <td>1. 2. 3. 4. 5. 6. 7. 8. 9. 10. 11. 12. 13. 14....</td>\n",
       "      <td>0</td>\n",
       "      <td>5</td>\n",
       "      <td>1</td>\n",
       "    </tr>\n",
       "    <tr>\n",
       "      <th>6</th>\n",
       "      <td>7강</td>\n",
       "      <td>[0, 6, 7, 9, 22]</td>\n",
       "      <td>안녕하세요 우리 친구들 반갑습니다 안녕하세요 우리 친구들 반갑습니다  여러분들과 함...</td>\n",
       "      <td>0</td>\n",
       "      <td>6</td>\n",
       "      <td>7</td>\n",
       "    </tr>\n",
       "    <tr>\n",
       "      <th>7</th>\n",
       "      <td>8강</td>\n",
       "      <td>[0, 1, 2, 5, 6, 7]</td>\n",
       "      <td>초등수학의 개념 잡기 여러분들과 함께하는 초등수학의 개념 잡기 여러분들과 함께하는 ...</td>\n",
       "      <td>0</td>\n",
       "      <td>1</td>\n",
       "      <td>2</td>\n",
       "    </tr>\n",
       "    <tr>\n",
       "      <th>8</th>\n",
       "      <td>9강</td>\n",
       "      <td>[0, 6, 7, 1, 2]</td>\n",
       "      <td>안녕하세요 우리 친구들 즐거운 수업시간입니다 선생님과 함께 할 준비 되셨죠? 우리 ...</td>\n",
       "      <td>0</td>\n",
       "      <td>6</td>\n",
       "      <td>7</td>\n",
       "    </tr>\n",
       "    <tr>\n",
       "      <th>9</th>\n",
       "      <td>10강</td>\n",
       "      <td>[0, 12, 13, 18]</td>\n",
       "      <td>안녕하세요 초등수학 개념 찾기 나소은 선생님입니다. 여러분 어때요? 오늘 하루도 즐...</td>\n",
       "      <td>0</td>\n",
       "      <td>12</td>\n",
       "      <td>13</td>\n",
       "    </tr>\n",
       "    <tr>\n",
       "      <th>10</th>\n",
       "      <td>11강</td>\n",
       "      <td>[13, 15, 16, 18]</td>\n",
       "      <td>그의 조립은 끝났다. 초등학과 여러분, 난 이미ing knife algorithm ...</td>\n",
       "      <td>13</td>\n",
       "      <td>15</td>\n",
       "      <td>16</td>\n",
       "    </tr>\n",
       "    <tr>\n",
       "      <th>11</th>\n",
       "      <td>12강</td>\n",
       "      <td>[0, 13, 17, 8]</td>\n",
       "      <td>안녕하세요. 우리 친구들 하루 어떻게 잘 보내고 계신가요? 우리 즐거운 수학시간이죠...</td>\n",
       "      <td>0</td>\n",
       "      <td>13</td>\n",
       "      <td>17</td>\n",
       "    </tr>\n",
       "    <tr>\n",
       "      <th>12</th>\n",
       "      <td>13강</td>\n",
       "      <td>[8, 13, 15, 12, 18]</td>\n",
       "      <td>42cm다라고 얘기를 하고 있어요 작은 정삼각형 1개의 둘레의 길이를 묻고 있습니다...</td>\n",
       "      <td>8</td>\n",
       "      <td>13</td>\n",
       "      <td>15</td>\n",
       "    </tr>\n",
       "    <tr>\n",
       "      <th>13</th>\n",
       "      <td>14강</td>\n",
       "      <td>[15, 18, 13, 12, 11]</td>\n",
       "      <td>두 개의 직선이 만나서 이루는 각이 직각입니다. 그래서 직각입니다. 두 직선이 만나...</td>\n",
       "      <td>15</td>\n",
       "      <td>18</td>\n",
       "      <td>13</td>\n",
       "    </tr>\n",
       "    <tr>\n",
       "      <th>14</th>\n",
       "      <td>15강</td>\n",
       "      <td>[12, 13, 15, 18]</td>\n",
       "      <td>안녕하세요 우리 친구들 즐거운 수학시간입니다 초등학생 개념 찾기 우리 이번 시간은요...</td>\n",
       "      <td>12</td>\n",
       "      <td>13</td>\n",
       "      <td>15</td>\n",
       "    </tr>\n",
       "    <tr>\n",
       "      <th>15</th>\n",
       "      <td>16강</td>\n",
       "      <td>[8, 11, 9]</td>\n",
       "      <td>친한 친구 맞춰봐 왔어? 잠깐만 신난다 아파 어 뒤엣개 갖고 운동한 것 보세요 Ну...</td>\n",
       "      <td>8</td>\n",
       "      <td>11</td>\n",
       "      <td>9</td>\n",
       "    </tr>\n",
       "    <tr>\n",
       "      <th>16</th>\n",
       "      <td>17강</td>\n",
       "      <td>[8, 11, 1, 2]</td>\n",
       "      <td>할머니께서는 은정이 보다 감자를 몇 킬로그램 몇 그램 더 많이 캐셨는지 프리과정을 ...</td>\n",
       "      <td>8</td>\n",
       "      <td>11</td>\n",
       "      <td>1</td>\n",
       "    </tr>\n",
       "    <tr>\n",
       "      <th>17</th>\n",
       "      <td>18강</td>\n",
       "      <td>[12, 18, 11, 13, 15]</td>\n",
       "      <td>안녕하세요 우리 친구들. 반가워요. 이번 시간은요 각도에 대해서 함께 알아보는 시간...</td>\n",
       "      <td>12</td>\n",
       "      <td>18</td>\n",
       "      <td>11</td>\n",
       "    </tr>\n",
       "    <tr>\n",
       "      <th>18</th>\n",
       "      <td>19강</td>\n",
       "      <td>[8, 3, 4, 11, 18, 13, 15]</td>\n",
       "      <td>1킬로미터를 우리는 1000미터라고 얘기를 한단 말이에요. 그럼 이 1000미터 안...</td>\n",
       "      <td>8</td>\n",
       "      <td>3</td>\n",
       "      <td>4</td>\n",
       "    </tr>\n",
       "    <tr>\n",
       "      <th>19</th>\n",
       "      <td>20강</td>\n",
       "      <td>[0, 1, 6, 5, 19, 11]</td>\n",
       "      <td>안녕하세요. 우리 친구들 만나서 반갑습니다. 초등사학 기념잡기 여러분과 함께 할 시...</td>\n",
       "      <td>0</td>\n",
       "      <td>1</td>\n",
       "      <td>6</td>\n",
       "    </tr>\n",
       "    <tr>\n",
       "      <th>20</th>\n",
       "      <td>21강</td>\n",
       "      <td>[0, 1, 2, 7, 11]</td>\n",
       "      <td>안녕하세요. 우리 친구들 초등수학 개념찾기 나소은 선생님입니다. 우리 친구들과 이번...</td>\n",
       "      <td>0</td>\n",
       "      <td>1</td>\n",
       "      <td>2</td>\n",
       "    </tr>\n",
       "    <tr>\n",
       "      <th>21</th>\n",
       "      <td>22강</td>\n",
       "      <td>[1, 22, 23, 11]</td>\n",
       "      <td>나라를 선택한 학생수는 20명에다가 4명씩 3칸 12만큼을 더하여서 32명이라고 답...</td>\n",
       "      <td>1</td>\n",
       "      <td>22</td>\n",
       "      <td>23</td>\n",
       "    </tr>\n",
       "    <tr>\n",
       "      <th>22</th>\n",
       "      <td>23강</td>\n",
       "      <td>[0, 29]</td>\n",
       "      <td>여러분 안녕하세요. 수학의 개념을 확실하게 잡아보는 시간이죠. 여러분과 함께 준비한...</td>\n",
       "      <td>0</td>\n",
       "      <td>29</td>\n",
       "      <td>&lt;NA&gt;</td>\n",
       "    </tr>\n",
       "    <tr>\n",
       "      <th>23</th>\n",
       "      <td>24강</td>\n",
       "      <td>[0, 19, 20, 27]</td>\n",
       "      <td>해결해 준 것이다 라고도 표현해 줄 수 있게 되는 거고요. 표만 들어 문제를 해결하...</td>\n",
       "      <td>0</td>\n",
       "      <td>19</td>\n",
       "      <td>20</td>\n",
       "    </tr>\n",
       "    <tr>\n",
       "      <th>24</th>\n",
       "      <td>25강</td>\n",
       "      <td>[25, 26, 3, 4]</td>\n",
       "      <td>안녕하세요. 정말 반갑습니다. 김연경입니다. 오늘의 게스트는 김연경입니다. 안녕하세...</td>\n",
       "      <td>25</td>\n",
       "      <td>26</td>\n",
       "      <td>3</td>\n",
       "    </tr>\n",
       "    <tr>\n",
       "      <th>25</th>\n",
       "      <td>26강</td>\n",
       "      <td>[4, 5, 25, 26]</td>\n",
       "      <td>14 가 되어야 되는데요 나누기 4 를 해보세요 그러면 14 가 되나요 아 그렇군요...</td>\n",
       "      <td>4</td>\n",
       "      <td>5</td>\n",
       "      <td>25</td>\n",
       "    </tr>\n",
       "    <tr>\n",
       "      <th>26</th>\n",
       "      <td>27강</td>\n",
       "      <td>[0, 1, 2, 5]</td>\n",
       "      <td>여러분 안녕하세요. 정말 반갑습니다. 김연경 선생님입니다. 우리 친구들 기본 강의와...</td>\n",
       "      <td>0</td>\n",
       "      <td>1</td>\n",
       "      <td>2</td>\n",
       "    </tr>\n",
       "    <tr>\n",
       "      <th>27</th>\n",
       "      <td>28강</td>\n",
       "      <td>[5, 3, 11, 13]</td>\n",
       "      <td>색소프라노 여러분 안녕하세요 정말 반갑습니다 김연경 선생님이에요 자 우리 친구들 저...</td>\n",
       "      <td>5</td>\n",
       "      <td>3</td>\n",
       "      <td>11</td>\n",
       "    </tr>\n",
       "    <tr>\n",
       "      <th>28</th>\n",
       "      <td>29강</td>\n",
       "      <td>[5, 4, 3]</td>\n",
       "      <td>여러분 안녕하세요 김연경 선생님입니다. 자, 우리 친구들 정말 축하합니다. 오늘은요...</td>\n",
       "      <td>5</td>\n",
       "      <td>4</td>\n",
       "      <td>3</td>\n",
       "    </tr>\n",
       "    <tr>\n",
       "      <th>29</th>\n",
       "      <td>30강</td>\n",
       "      <td>[5, 6, 3, 8]</td>\n",
       "      <td>여러분 안녕하세요. 반갑습니다. 김연경 선생님입니다. 우리 친구들 저번 시간까지는요...</td>\n",
       "      <td>5</td>\n",
       "      <td>6</td>\n",
       "      <td>3</td>\n",
       "    </tr>\n",
       "    <tr>\n",
       "      <th>30</th>\n",
       "      <td>31강</td>\n",
       "      <td>[4, 6]</td>\n",
       "      <td>여러분 안녕하세요. 반갑습니다. 김연경 선생님입니다. 자 우리 친구들 선생님이요 언...</td>\n",
       "      <td>4</td>\n",
       "      <td>6</td>\n",
       "      <td>&lt;NA&gt;</td>\n",
       "    </tr>\n",
       "    <tr>\n",
       "      <th>31</th>\n",
       "      <td>32강</td>\n",
       "      <td>[0, 6, 4]</td>\n",
       "      <td>오빠 енной이 비슷해보이지 않아요? 금일,  בכ사 wrote the stars...</td>\n",
       "      <td>0</td>\n",
       "      <td>6</td>\n",
       "      <td>4</td>\n",
       "    </tr>\n",
       "    <tr>\n",
       "      <th>32</th>\n",
       "      <td>33강</td>\n",
       "      <td>[0, 6, 5, 4]</td>\n",
       "      <td>여러분 안녕하세요 정말 반갑습니다 김연경 선생님이에요 자 우리 친구들 오늘 수업 시...</td>\n",
       "      <td>0</td>\n",
       "      <td>6</td>\n",
       "      <td>5</td>\n",
       "    </tr>\n",
       "    <tr>\n",
       "      <th>33</th>\n",
       "      <td>34강</td>\n",
       "      <td>[0, 11, 13]</td>\n",
       "      <td>여러분 안녕하세요. 반갑습니다. 김연경 선생님이에요. 자 우리 친구들 오늘이요 뭔가...</td>\n",
       "      <td>0</td>\n",
       "      <td>11</td>\n",
       "      <td>13</td>\n",
       "    </tr>\n",
       "    <tr>\n",
       "      <th>34</th>\n",
       "      <td>35강</td>\n",
       "      <td>[17, 18, 19, 13]</td>\n",
       "      <td>네 여러분 안녕하세요 정말 반갑습니다 김연경 선생님이에요 자 우리 친구들 오늘은요 ...</td>\n",
       "      <td>17</td>\n",
       "      <td>18</td>\n",
       "      <td>19</td>\n",
       "    </tr>\n",
       "    <tr>\n",
       "      <th>35</th>\n",
       "      <td>36강</td>\n",
       "      <td>[14, 11, 8, 13]</td>\n",
       "      <td>여러분 안녕하세요 반갑습니다 김양경선생님 이에요 자 우리 친구들 우리요 처음에는 계...</td>\n",
       "      <td>14</td>\n",
       "      <td>11</td>\n",
       "      <td>8</td>\n",
       "    </tr>\n",
       "    <tr>\n",
       "      <th>36</th>\n",
       "      <td>37강</td>\n",
       "      <td>[14, 15, 17, 18]</td>\n",
       "      <td>여러분 안녕하세요 정말 반갑습니다 김연경선생님 이에요 자 우리 친구들 오늘 배우는 ...</td>\n",
       "      <td>14</td>\n",
       "      <td>15</td>\n",
       "      <td>17</td>\n",
       "    </tr>\n",
       "    <tr>\n",
       "      <th>37</th>\n",
       "      <td>38강</td>\n",
       "      <td>[15, 16]</td>\n",
       "      <td>여러분 안녕하세요. 반갑습니다. 김연경 선생님이에요. 우리 친구들 오늘 도형의 대칭...</td>\n",
       "      <td>15</td>\n",
       "      <td>16</td>\n",
       "      <td>&lt;NA&gt;</td>\n",
       "    </tr>\n",
       "    <tr>\n",
       "      <th>38</th>\n",
       "      <td>39강</td>\n",
       "      <td>[0, 23, 22]</td>\n",
       "      <td>여러분 안녕하세요 반갑습니다 김연경 선생님 이에요 자 우리 친구들 선생님과 함께 5...</td>\n",
       "      <td>0</td>\n",
       "      <td>23</td>\n",
       "      <td>22</td>\n",
       "    </tr>\n",
       "    <tr>\n",
       "      <th>39</th>\n",
       "      <td>40강</td>\n",
       "      <td>[19, 20, 21, 22]</td>\n",
       "      <td>여러분 안녕하세요. 반갑습니다. 김연경 선생님이에요. 우리 친구들 선생님과 함께 5...</td>\n",
       "      <td>19</td>\n",
       "      <td>20</td>\n",
       "      <td>21</td>\n",
       "    </tr>\n",
       "    <tr>\n",
       "      <th>40</th>\n",
       "      <td>41강</td>\n",
       "      <td>[22, 19, 23]</td>\n",
       "      <td>그런데 우리 친구들 방금 전에 봤던 띠 그래프랑 조금 모양이 달라요 음식물, 플라스...</td>\n",
       "      <td>22</td>\n",
       "      <td>19</td>\n",
       "      <td>23</td>\n",
       "    </tr>\n",
       "    <tr>\n",
       "      <th>41</th>\n",
       "      <td>42강</td>\n",
       "      <td>[19, 20, 21]</td>\n",
       "      <td>여러분, 안녕하세요. 반갑습니다. 김연경 선생님이에요. 자, 우리 친구들 5학년부터...</td>\n",
       "      <td>19</td>\n",
       "      <td>20</td>\n",
       "      <td>21</td>\n",
       "    </tr>\n",
       "    <tr>\n",
       "      <th>42</th>\n",
       "      <td>43강</td>\n",
       "      <td>[3, 19, 20]</td>\n",
       "      <td>2를 곱했잖아요. 4 2 8 한거죠. 4 곱하기 2를 한 것입니다. 그래서 이것이 ...</td>\n",
       "      <td>3</td>\n",
       "      <td>19</td>\n",
       "      <td>20</td>\n",
       "    </tr>\n",
       "    <tr>\n",
       "      <th>43</th>\n",
       "      <td>44강</td>\n",
       "      <td>[24]</td>\n",
       "      <td>여러분 안녕하세요 반갑습니다. 김연경 선생님이에요.  자 우리 친구들 오늘이요 굉장...</td>\n",
       "      <td>24</td>\n",
       "      <td>&lt;NA&gt;</td>\n",
       "      <td>&lt;NA&gt;</td>\n",
       "    </tr>\n",
       "    <tr>\n",
       "      <th>44</th>\n",
       "      <td>45강</td>\n",
       "      <td>[28, 27, 1, 2, 4, 3]</td>\n",
       "      <td>7종류의 퀴즈 힌트를 찾아가보시죠 可以 하apter 요 sign 여 여 여 여 만남...</td>\n",
       "      <td>28</td>\n",
       "      <td>27</td>\n",
       "      <td>1</td>\n",
       "    </tr>\n",
       "  </tbody>\n",
       "</table>\n",
       "</div>"
      ],
      "text/plain": [
       "     강의                         태그  \\\n",
       "0    1강                 [0, 11, 7]   \n",
       "1    2강                  [0, 1, 2]   \n",
       "2    3강                     [3, 0]   \n",
       "3    4강          [4, 3, 9, 10, 11]   \n",
       "4    5강      [0, 1, 2, 3, 4, 5, 6]   \n",
       "5    6강               [0, 5, 1, 2]   \n",
       "6    7강           [0, 6, 7, 9, 22]   \n",
       "7    8강         [0, 1, 2, 5, 6, 7]   \n",
       "8    9강            [0, 6, 7, 1, 2]   \n",
       "9   10강            [0, 12, 13, 18]   \n",
       "10  11강           [13, 15, 16, 18]   \n",
       "11  12강             [0, 13, 17, 8]   \n",
       "12  13강        [8, 13, 15, 12, 18]   \n",
       "13  14강       [15, 18, 13, 12, 11]   \n",
       "14  15강           [12, 13, 15, 18]   \n",
       "15  16강                 [8, 11, 9]   \n",
       "16  17강              [8, 11, 1, 2]   \n",
       "17  18강       [12, 18, 11, 13, 15]   \n",
       "18  19강  [8, 3, 4, 11, 18, 13, 15]   \n",
       "19  20강       [0, 1, 6, 5, 19, 11]   \n",
       "20  21강           [0, 1, 2, 7, 11]   \n",
       "21  22강            [1, 22, 23, 11]   \n",
       "22  23강                    [0, 29]   \n",
       "23  24강            [0, 19, 20, 27]   \n",
       "24  25강             [25, 26, 3, 4]   \n",
       "25  26강             [4, 5, 25, 26]   \n",
       "26  27강               [0, 1, 2, 5]   \n",
       "27  28강             [5, 3, 11, 13]   \n",
       "28  29강                  [5, 4, 3]   \n",
       "29  30강               [5, 6, 3, 8]   \n",
       "30  31강                     [4, 6]   \n",
       "31  32강                  [0, 6, 4]   \n",
       "32  33강               [0, 6, 5, 4]   \n",
       "33  34강                [0, 11, 13]   \n",
       "34  35강           [17, 18, 19, 13]   \n",
       "35  36강            [14, 11, 8, 13]   \n",
       "36  37강           [14, 15, 17, 18]   \n",
       "37  38강                   [15, 16]   \n",
       "38  39강                [0, 23, 22]   \n",
       "39  40강           [19, 20, 21, 22]   \n",
       "40  41강               [22, 19, 23]   \n",
       "41  42강               [19, 20, 21]   \n",
       "42  43강                [3, 19, 20]   \n",
       "43  44강                       [24]   \n",
       "44  45강       [28, 27, 1, 2, 4, 3]   \n",
       "\n",
       "                                                 text  태그1   태그2   태그3  \n",
       "0   안녕하세요 우리 친구들 만나서 반갑습니다. 여러분들과 함께 초등수학 개념 찾기로  ...    0    11     7  \n",
       "1   안녕하세요. 우리 EBS 친구들 반갑습니다. 여러분 어떻게 잘 지내셨어요? 선생님 ...    0     1     2  \n",
       "2   안녕하세요 우리 친구들 초등수학 개념 찾기 나소은 선생님입니다. 여러분!  이번 시...    3     0  <NA>  \n",
       "3   여러분 안녕하세요. 자 우리 친구들과 함께 개념의 내용을 확실하게  잡아줄 아주 좋...    4     3     9  \n",
       "4   초등학교 학교 초등학교 학교 초등학교 학교 초등학교 학교 초등학교 학교 초등학교 학...    0     1     2  \n",
       "5   1. 2. 3. 4. 5. 6. 7. 8. 9. 10. 11. 12. 13. 14....    0     5     1  \n",
       "6   안녕하세요 우리 친구들 반갑습니다 안녕하세요 우리 친구들 반갑습니다  여러분들과 함...    0     6     7  \n",
       "7   초등수학의 개념 잡기 여러분들과 함께하는 초등수학의 개념 잡기 여러분들과 함께하는 ...    0     1     2  \n",
       "8   안녕하세요 우리 친구들 즐거운 수업시간입니다 선생님과 함께 할 준비 되셨죠? 우리 ...    0     6     7  \n",
       "9   안녕하세요 초등수학 개념 찾기 나소은 선생님입니다. 여러분 어때요? 오늘 하루도 즐...    0    12    13  \n",
       "10  그의 조립은 끝났다. 초등학과 여러분, 난 이미ing knife algorithm ...   13    15    16  \n",
       "11  안녕하세요. 우리 친구들 하루 어떻게 잘 보내고 계신가요? 우리 즐거운 수학시간이죠...    0    13    17  \n",
       "12  42cm다라고 얘기를 하고 있어요 작은 정삼각형 1개의 둘레의 길이를 묻고 있습니다...    8    13    15  \n",
       "13  두 개의 직선이 만나서 이루는 각이 직각입니다. 그래서 직각입니다. 두 직선이 만나...   15    18    13  \n",
       "14  안녕하세요 우리 친구들 즐거운 수학시간입니다 초등학생 개념 찾기 우리 이번 시간은요...   12    13    15  \n",
       "15  친한 친구 맞춰봐 왔어? 잠깐만 신난다 아파 어 뒤엣개 갖고 운동한 것 보세요 Ну...    8    11     9  \n",
       "16  할머니께서는 은정이 보다 감자를 몇 킬로그램 몇 그램 더 많이 캐셨는지 프리과정을 ...    8    11     1  \n",
       "17  안녕하세요 우리 친구들. 반가워요. 이번 시간은요 각도에 대해서 함께 알아보는 시간...   12    18    11  \n",
       "18  1킬로미터를 우리는 1000미터라고 얘기를 한단 말이에요. 그럼 이 1000미터 안...    8     3     4  \n",
       "19  안녕하세요. 우리 친구들 만나서 반갑습니다. 초등사학 기념잡기 여러분과 함께 할 시...    0     1     6  \n",
       "20  안녕하세요. 우리 친구들 초등수학 개념찾기 나소은 선생님입니다. 우리 친구들과 이번...    0     1     2  \n",
       "21  나라를 선택한 학생수는 20명에다가 4명씩 3칸 12만큼을 더하여서 32명이라고 답...    1    22    23  \n",
       "22  여러분 안녕하세요. 수학의 개념을 확실하게 잡아보는 시간이죠. 여러분과 함께 준비한...    0    29  <NA>  \n",
       "23  해결해 준 것이다 라고도 표현해 줄 수 있게 되는 거고요. 표만 들어 문제를 해결하...    0    19    20  \n",
       "24  안녕하세요. 정말 반갑습니다. 김연경입니다. 오늘의 게스트는 김연경입니다. 안녕하세...   25    26     3  \n",
       "25  14 가 되어야 되는데요 나누기 4 를 해보세요 그러면 14 가 되나요 아 그렇군요...    4     5    25  \n",
       "26  여러분 안녕하세요. 정말 반갑습니다. 김연경 선생님입니다. 우리 친구들 기본 강의와...    0     1     2  \n",
       "27  색소프라노 여러분 안녕하세요 정말 반갑습니다 김연경 선생님이에요 자 우리 친구들 저...    5     3    11  \n",
       "28  여러분 안녕하세요 김연경 선생님입니다. 자, 우리 친구들 정말 축하합니다. 오늘은요...    5     4     3  \n",
       "29  여러분 안녕하세요. 반갑습니다. 김연경 선생님입니다. 우리 친구들 저번 시간까지는요...    5     6     3  \n",
       "30  여러분 안녕하세요. 반갑습니다. 김연경 선생님입니다. 자 우리 친구들 선생님이요 언...    4     6  <NA>  \n",
       "31  오빠 енной이 비슷해보이지 않아요? 금일,  בכ사 wrote the stars...    0     6     4  \n",
       "32  여러분 안녕하세요 정말 반갑습니다 김연경 선생님이에요 자 우리 친구들 오늘 수업 시...    0     6     5  \n",
       "33  여러분 안녕하세요. 반갑습니다. 김연경 선생님이에요. 자 우리 친구들 오늘이요 뭔가...    0    11    13  \n",
       "34  네 여러분 안녕하세요 정말 반갑습니다 김연경 선생님이에요 자 우리 친구들 오늘은요 ...   17    18    19  \n",
       "35  여러분 안녕하세요 반갑습니다 김양경선생님 이에요 자 우리 친구들 우리요 처음에는 계...   14    11     8  \n",
       "36  여러분 안녕하세요 정말 반갑습니다 김연경선생님 이에요 자 우리 친구들 오늘 배우는 ...   14    15    17  \n",
       "37  여러분 안녕하세요. 반갑습니다. 김연경 선생님이에요. 우리 친구들 오늘 도형의 대칭...   15    16  <NA>  \n",
       "38  여러분 안녕하세요 반갑습니다 김연경 선생님 이에요 자 우리 친구들 선생님과 함께 5...    0    23    22  \n",
       "39  여러분 안녕하세요. 반갑습니다. 김연경 선생님이에요. 우리 친구들 선생님과 함께 5...   19    20    21  \n",
       "40  그런데 우리 친구들 방금 전에 봤던 띠 그래프랑 조금 모양이 달라요 음식물, 플라스...   22    19    23  \n",
       "41  여러분, 안녕하세요. 반갑습니다. 김연경 선생님이에요. 자, 우리 친구들 5학년부터...   19    20    21  \n",
       "42  2를 곱했잖아요. 4 2 8 한거죠. 4 곱하기 2를 한 것입니다. 그래서 이것이 ...    3    19    20  \n",
       "43  여러분 안녕하세요 반갑습니다. 김연경 선생님이에요.  자 우리 친구들 오늘이요 굉장...   24  <NA>  <NA>  \n",
       "44  7종류의 퀴즈 힌트를 찾아가보시죠 可以 하apter 요 sign 여 여 여 여 만남...   28    27     1  "
      ]
     },
     "execution_count": 120,
     "metadata": {},
     "output_type": "execute_result"
    }
   ],
   "source": [
    "# '태그' 열이 리스트 형태인지 확인하고 필요하다면 리스트로 변환\n",
    "def ensure_list(tags_str):\n",
    "    if isinstance(tags_str, str):\n",
    "        tags_str = eval(tags_str)\n",
    "    return tags_str\n",
    "\n",
    "\n",
    "df[\"태그\"] = df[\"태그\"].apply(ensure_list)\n",
    "\n",
    "# 각각의 태그를 새로운 열에 할당\n",
    "df[\"태그1\"] = df[\"태그\"].apply(lambda x: x[0] if len(x) > 0 else None)\n",
    "df[\"태그2\"] = df[\"태그\"].apply(lambda x: x[1] if len(x) > 1 else None)\n",
    "df[\"태그3\"] = df[\"태그\"].apply(lambda x: x[2] if len(x) > 2 else None)\n",
    "\n",
    "# 태그 열을 정수형으로 변환\n",
    "df[\"태그1\"] = df[\"태그1\"].astype(pd.Int64Dtype())\n",
    "df[\"태그2\"] = df[\"태그2\"].astype(pd.Int64Dtype())\n",
    "df[\"태그3\"] = df[\"태그3\"].astype(pd.Int64Dtype())\n",
    "\n",
    "df.to_csv(\"./df_ebs.csv\", index=False)\n",
    "df"
   ]
  },
  {
   "cell_type": "code",
   "execution_count": 122,
   "metadata": {},
   "outputs": [],
   "source": [
    "df2 = pd.read_csv(\"./khan_df.csv\")"
   ]
  },
  {
   "cell_type": "code",
   "execution_count": 123,
   "metadata": {},
   "outputs": [
    {
     "data": {
      "text/html": [
       "<div>\n",
       "<style scoped>\n",
       "    .dataframe tbody tr th:only-of-type {\n",
       "        vertical-align: middle;\n",
       "    }\n",
       "\n",
       "    .dataframe tbody tr th {\n",
       "        vertical-align: top;\n",
       "    }\n",
       "\n",
       "    .dataframe thead th {\n",
       "        text-align: right;\n",
       "    }\n",
       "</style>\n",
       "<table border=\"1\" class=\"dataframe\">\n",
       "  <thead>\n",
       "    <tr style=\"text-align: right;\">\n",
       "      <th></th>\n",
       "      <th>name</th>\n",
       "      <th>태그</th>\n",
       "      <th>text</th>\n",
       "    </tr>\n",
       "  </thead>\n",
       "  <tbody>\n",
       "    <tr>\n",
       "      <th>0</th>\n",
       "      <td>Video_ Comparing numbers of objects.txt</td>\n",
       "      <td>[0, 23]</td>\n",
       "      <td>이 텍스트를 한국어로 번역: \\n\\nGavin은 이런 말들이 있습니다. 아래의 각 ...</td>\n",
       "    </tr>\n",
       "    <tr>\n",
       "      <th>1</th>\n",
       "      <td>Video_ Comparing numbers on the number line.txt</td>\n",
       "      <td>[0, 22]</td>\n",
       "      <td>어떤 숫자들이 6보다 큰가요? 모두 선택해 보세요. 그래서 여기 수직선에서 6을 볼...</td>\n",
       "    </tr>\n",
       "    <tr>\n",
       "      <th>2</th>\n",
       "      <td>Video_ Counting by category.txt</td>\n",
       "      <td>[0, 23, 22]</td>\n",
       "      <td>우리는 별, 숫자, 또는 글자를 가장 많이 세어 봅시다. 이것을 한 번 보겠습니다....</td>\n",
       "    </tr>\n",
       "    <tr>\n",
       "      <th>3</th>\n",
       "      <td>Video_ Counting in pictures.txt</td>\n",
       "      <td>[0, 23]</td>\n",
       "      <td>이 사진에 얼마나 많은 사람들이 보이나요? 보세요, 저는 하나, 둘, 셋, 넷, 다...</td>\n",
       "    </tr>\n",
       "    <tr>\n",
       "      <th>4</th>\n",
       "      <td>Video_ Counting objects 1.txt</td>\n",
       "      <td>[0, 11]</td>\n",
       "      <td>어떤 상자에 12마리의 고래가 있는지요? 그래, 이런 이 녹색 상자를 보세요, 한번...</td>\n",
       "    </tr>\n",
       "    <tr>\n",
       "      <th>...</th>\n",
       "      <td>...</td>\n",
       "      <td>...</td>\n",
       "      <td>...</td>\n",
       "    </tr>\n",
       "    <tr>\n",
       "      <th>79</th>\n",
       "      <td>y2mate.com - Transformations dilation_720pFH.txt</td>\n",
       "      <td>[15, 13, 14, 16]</td>\n",
       "      <td>이전 비디오에서 우리는 변형에 대한 아이디어를 이야기하기 시작했습니다. 특히 우리는...</td>\n",
       "    </tr>\n",
       "    <tr>\n",
       "      <th>80</th>\n",
       "      <td>y2mate.com - Understanding place value when ad...</td>\n",
       "      <td>[0, 1, 7]</td>\n",
       "      <td>그래서 이 것이 바로 소수 37을 표현하는 한 가지 방법입니다. 숫자 37에는 십의...</td>\n",
       "    </tr>\n",
       "    <tr>\n",
       "      <th>81</th>\n",
       "      <td>y2mate.com - Understanding place value when su...</td>\n",
       "      <td>[0, 2]</td>\n",
       "      <td>여기에는 65개의 블록이 있습니다. 직접 세어보실 수도 있지만, 우리는 이를 숫자 ...</td>\n",
       "    </tr>\n",
       "    <tr>\n",
       "      <th>82</th>\n",
       "      <td>y2mate.com - Understanding place value while s...</td>\n",
       "      <td>[0, 2]</td>\n",
       "      <td>그래서 바로 여기에 우리는 숫자 46을 가지고 있습니다. 십의 자리에는 4가 있습니...</td>\n",
       "    </tr>\n",
       "    <tr>\n",
       "      <th>83</th>\n",
       "      <td>y2mate.com - Why a negative times a negative i...</td>\n",
       "      <td>[3, 0]</td>\n",
       "      <td>당신이 고대 철학자이며, 수학을 처음부터 쌓아가고 있다고 가정합시다. 부정수가 무엇...</td>\n",
       "    </tr>\n",
       "  </tbody>\n",
       "</table>\n",
       "<p>84 rows × 3 columns</p>\n",
       "</div>"
      ],
      "text/plain": [
       "                                                 name                태그  \\\n",
       "0             Video_ Comparing numbers of objects.txt           [0, 23]   \n",
       "1     Video_ Comparing numbers on the number line.txt           [0, 22]   \n",
       "2                     Video_ Counting by category.txt       [0, 23, 22]   \n",
       "3                     Video_ Counting in pictures.txt           [0, 23]   \n",
       "4                       Video_ Counting objects 1.txt           [0, 11]   \n",
       "..                                                ...               ...   \n",
       "79   y2mate.com - Transformations dilation_720pFH.txt  [15, 13, 14, 16]   \n",
       "80  y2mate.com - Understanding place value when ad...         [0, 1, 7]   \n",
       "81  y2mate.com - Understanding place value when su...            [0, 2]   \n",
       "82  y2mate.com - Understanding place value while s...            [0, 2]   \n",
       "83  y2mate.com - Why a negative times a negative i...            [3, 0]   \n",
       "\n",
       "                                                 text  \n",
       "0   이 텍스트를 한국어로 번역: \\n\\nGavin은 이런 말들이 있습니다. 아래의 각 ...  \n",
       "1   어떤 숫자들이 6보다 큰가요? 모두 선택해 보세요. 그래서 여기 수직선에서 6을 볼...  \n",
       "2   우리는 별, 숫자, 또는 글자를 가장 많이 세어 봅시다. 이것을 한 번 보겠습니다....  \n",
       "3   이 사진에 얼마나 많은 사람들이 보이나요? 보세요, 저는 하나, 둘, 셋, 넷, 다...  \n",
       "4   어떤 상자에 12마리의 고래가 있는지요? 그래, 이런 이 녹색 상자를 보세요, 한번...  \n",
       "..                                                ...  \n",
       "79  이전 비디오에서 우리는 변형에 대한 아이디어를 이야기하기 시작했습니다. 특히 우리는...  \n",
       "80  그래서 이 것이 바로 소수 37을 표현하는 한 가지 방법입니다. 숫자 37에는 십의...  \n",
       "81  여기에는 65개의 블록이 있습니다. 직접 세어보실 수도 있지만, 우리는 이를 숫자 ...  \n",
       "82  그래서 바로 여기에 우리는 숫자 46을 가지고 있습니다. 십의 자리에는 4가 있습니...  \n",
       "83  당신이 고대 철학자이며, 수학을 처음부터 쌓아가고 있다고 가정합시다. 부정수가 무엇...  \n",
       "\n",
       "[84 rows x 3 columns]"
      ]
     },
     "execution_count": 123,
     "metadata": {},
     "output_type": "execute_result"
    }
   ],
   "source": [
    "df2"
   ]
  },
  {
   "cell_type": "code",
   "execution_count": 135,
   "metadata": {},
   "outputs": [
    {
     "data": {
      "text/html": [
       "<div>\n",
       "<style scoped>\n",
       "    .dataframe tbody tr th:only-of-type {\n",
       "        vertical-align: middle;\n",
       "    }\n",
       "\n",
       "    .dataframe tbody tr th {\n",
       "        vertical-align: top;\n",
       "    }\n",
       "\n",
       "    .dataframe thead th {\n",
       "        text-align: right;\n",
       "    }\n",
       "</style>\n",
       "<table border=\"1\" class=\"dataframe\">\n",
       "  <thead>\n",
       "    <tr style=\"text-align: right;\">\n",
       "      <th></th>\n",
       "      <th>name</th>\n",
       "      <th>태그</th>\n",
       "      <th>text</th>\n",
       "      <th>강의</th>\n",
       "    </tr>\n",
       "  </thead>\n",
       "  <tbody>\n",
       "    <tr>\n",
       "      <th>0</th>\n",
       "      <td>Video_ Comparing numbers of objects.txt</td>\n",
       "      <td>[0, 23]</td>\n",
       "      <td>이 텍스트를 한국어로 번역: \\n\\nGavin은 이런 말들이 있습니다. 아래의 각 ...</td>\n",
       "      <td>1강</td>\n",
       "    </tr>\n",
       "    <tr>\n",
       "      <th>1</th>\n",
       "      <td>Video_ Comparing numbers on the number line.txt</td>\n",
       "      <td>[0, 22]</td>\n",
       "      <td>어떤 숫자들이 6보다 큰가요? 모두 선택해 보세요. 그래서 여기 수직선에서 6을 볼...</td>\n",
       "      <td>2강</td>\n",
       "    </tr>\n",
       "    <tr>\n",
       "      <th>2</th>\n",
       "      <td>Video_ Counting by category.txt</td>\n",
       "      <td>[0, 23, 22]</td>\n",
       "      <td>우리는 별, 숫자, 또는 글자를 가장 많이 세어 봅시다. 이것을 한 번 보겠습니다....</td>\n",
       "      <td>3강</td>\n",
       "    </tr>\n",
       "    <tr>\n",
       "      <th>3</th>\n",
       "      <td>Video_ Counting in pictures.txt</td>\n",
       "      <td>[0, 23]</td>\n",
       "      <td>이 사진에 얼마나 많은 사람들이 보이나요? 보세요, 저는 하나, 둘, 셋, 넷, 다...</td>\n",
       "      <td>4강</td>\n",
       "    </tr>\n",
       "    <tr>\n",
       "      <th>4</th>\n",
       "      <td>Video_ Counting objects 1.txt</td>\n",
       "      <td>[0, 11]</td>\n",
       "      <td>어떤 상자에 12마리의 고래가 있는지요? 그래, 이런 이 녹색 상자를 보세요, 한번...</td>\n",
       "      <td>5강</td>\n",
       "    </tr>\n",
       "  </tbody>\n",
       "</table>\n",
       "</div>"
      ],
      "text/plain": [
       "                                              name           태그  \\\n",
       "0          Video_ Comparing numbers of objects.txt      [0, 23]   \n",
       "1  Video_ Comparing numbers on the number line.txt      [0, 22]   \n",
       "2                  Video_ Counting by category.txt  [0, 23, 22]   \n",
       "3                  Video_ Counting in pictures.txt      [0, 23]   \n",
       "4                    Video_ Counting objects 1.txt      [0, 11]   \n",
       "\n",
       "                                                text  강의  \n",
       "0  이 텍스트를 한국어로 번역: \\n\\nGavin은 이런 말들이 있습니다. 아래의 각 ...  1강  \n",
       "1  어떤 숫자들이 6보다 큰가요? 모두 선택해 보세요. 그래서 여기 수직선에서 6을 볼...  2강  \n",
       "2  우리는 별, 숫자, 또는 글자를 가장 많이 세어 봅시다. 이것을 한 번 보겠습니다....  3강  \n",
       "3  이 사진에 얼마나 많은 사람들이 보이나요? 보세요, 저는 하나, 둘, 셋, 넷, 다...  4강  \n",
       "4  어떤 상자에 12마리의 고래가 있는지요? 그래, 이런 이 녹색 상자를 보세요, 한번...  5강  "
      ]
     },
     "execution_count": 135,
     "metadata": {},
     "output_type": "execute_result"
    }
   ],
   "source": [
    "# Add '강' suffix to the '강의' column\n",
    "df2[\"강의\"] = df2[\"강의\"].astype(str) + \"강\"\n",
    "\n",
    "# Check the dataframe to confirm the modification\n",
    "df2.head()"
   ]
  },
  {
   "cell_type": "code",
   "execution_count": 138,
   "metadata": {},
   "outputs": [
    {
     "data": {
      "text/html": [
       "<div>\n",
       "<style scoped>\n",
       "    .dataframe tbody tr th:only-of-type {\n",
       "        vertical-align: middle;\n",
       "    }\n",
       "\n",
       "    .dataframe tbody tr th {\n",
       "        vertical-align: top;\n",
       "    }\n",
       "\n",
       "    .dataframe thead th {\n",
       "        text-align: right;\n",
       "    }\n",
       "</style>\n",
       "<table border=\"1\" class=\"dataframe\">\n",
       "  <thead>\n",
       "    <tr style=\"text-align: right;\">\n",
       "      <th></th>\n",
       "      <th>name</th>\n",
       "      <th>태그</th>\n",
       "      <th>text</th>\n",
       "      <th>강의</th>\n",
       "      <th>태그1</th>\n",
       "      <th>태그2</th>\n",
       "      <th>태그3</th>\n",
       "    </tr>\n",
       "  </thead>\n",
       "  <tbody>\n",
       "    <tr>\n",
       "      <th>0</th>\n",
       "      <td>Video_ Comparing numbers of objects.txt</td>\n",
       "      <td>[0, 23]</td>\n",
       "      <td>이 텍스트를 한국어로 번역: \\n\\nGavin은 이런 말들이 있습니다. 아래의 각 ...</td>\n",
       "      <td>1강</td>\n",
       "      <td>0</td>\n",
       "      <td>23</td>\n",
       "      <td>&lt;NA&gt;</td>\n",
       "    </tr>\n",
       "    <tr>\n",
       "      <th>1</th>\n",
       "      <td>Video_ Comparing numbers on the number line.txt</td>\n",
       "      <td>[0, 22]</td>\n",
       "      <td>어떤 숫자들이 6보다 큰가요? 모두 선택해 보세요. 그래서 여기 수직선에서 6을 볼...</td>\n",
       "      <td>2강</td>\n",
       "      <td>0</td>\n",
       "      <td>22</td>\n",
       "      <td>&lt;NA&gt;</td>\n",
       "    </tr>\n",
       "    <tr>\n",
       "      <th>2</th>\n",
       "      <td>Video_ Counting by category.txt</td>\n",
       "      <td>[0, 23, 22]</td>\n",
       "      <td>우리는 별, 숫자, 또는 글자를 가장 많이 세어 봅시다. 이것을 한 번 보겠습니다....</td>\n",
       "      <td>3강</td>\n",
       "      <td>0</td>\n",
       "      <td>23</td>\n",
       "      <td>22</td>\n",
       "    </tr>\n",
       "    <tr>\n",
       "      <th>3</th>\n",
       "      <td>Video_ Counting in pictures.txt</td>\n",
       "      <td>[0, 23]</td>\n",
       "      <td>이 사진에 얼마나 많은 사람들이 보이나요? 보세요, 저는 하나, 둘, 셋, 넷, 다...</td>\n",
       "      <td>4강</td>\n",
       "      <td>0</td>\n",
       "      <td>23</td>\n",
       "      <td>&lt;NA&gt;</td>\n",
       "    </tr>\n",
       "    <tr>\n",
       "      <th>4</th>\n",
       "      <td>Video_ Counting objects 1.txt</td>\n",
       "      <td>[0, 11]</td>\n",
       "      <td>어떤 상자에 12마리의 고래가 있는지요? 그래, 이런 이 녹색 상자를 보세요, 한번...</td>\n",
       "      <td>5강</td>\n",
       "      <td>0</td>\n",
       "      <td>11</td>\n",
       "      <td>&lt;NA&gt;</td>\n",
       "    </tr>\n",
       "    <tr>\n",
       "      <th>...</th>\n",
       "      <td>...</td>\n",
       "      <td>...</td>\n",
       "      <td>...</td>\n",
       "      <td>...</td>\n",
       "      <td>...</td>\n",
       "      <td>...</td>\n",
       "      <td>...</td>\n",
       "    </tr>\n",
       "    <tr>\n",
       "      <th>79</th>\n",
       "      <td>y2mate.com - Transformations dilation_720pFH.txt</td>\n",
       "      <td>[15, 13, 14, 16]</td>\n",
       "      <td>이전 비디오에서 우리는 변형에 대한 아이디어를 이야기하기 시작했습니다. 특히 우리는...</td>\n",
       "      <td>80강</td>\n",
       "      <td>15</td>\n",
       "      <td>13</td>\n",
       "      <td>14</td>\n",
       "    </tr>\n",
       "    <tr>\n",
       "      <th>80</th>\n",
       "      <td>y2mate.com - Understanding place value when ad...</td>\n",
       "      <td>[0, 1, 7]</td>\n",
       "      <td>그래서 이 것이 바로 소수 37을 표현하는 한 가지 방법입니다. 숫자 37에는 십의...</td>\n",
       "      <td>81강</td>\n",
       "      <td>0</td>\n",
       "      <td>1</td>\n",
       "      <td>7</td>\n",
       "    </tr>\n",
       "    <tr>\n",
       "      <th>81</th>\n",
       "      <td>y2mate.com - Understanding place value when su...</td>\n",
       "      <td>[0, 2]</td>\n",
       "      <td>여기에는 65개의 블록이 있습니다. 직접 세어보실 수도 있지만, 우리는 이를 숫자 ...</td>\n",
       "      <td>82강</td>\n",
       "      <td>0</td>\n",
       "      <td>2</td>\n",
       "      <td>&lt;NA&gt;</td>\n",
       "    </tr>\n",
       "    <tr>\n",
       "      <th>82</th>\n",
       "      <td>y2mate.com - Understanding place value while s...</td>\n",
       "      <td>[0, 2]</td>\n",
       "      <td>그래서 바로 여기에 우리는 숫자 46을 가지고 있습니다. 십의 자리에는 4가 있습니...</td>\n",
       "      <td>83강</td>\n",
       "      <td>0</td>\n",
       "      <td>2</td>\n",
       "      <td>&lt;NA&gt;</td>\n",
       "    </tr>\n",
       "    <tr>\n",
       "      <th>83</th>\n",
       "      <td>y2mate.com - Why a negative times a negative i...</td>\n",
       "      <td>[3, 0]</td>\n",
       "      <td>당신이 고대 철학자이며, 수학을 처음부터 쌓아가고 있다고 가정합시다. 부정수가 무엇...</td>\n",
       "      <td>84강</td>\n",
       "      <td>3</td>\n",
       "      <td>0</td>\n",
       "      <td>&lt;NA&gt;</td>\n",
       "    </tr>\n",
       "  </tbody>\n",
       "</table>\n",
       "<p>84 rows × 7 columns</p>\n",
       "</div>"
      ],
      "text/plain": [
       "                                                 name                태그  \\\n",
       "0             Video_ Comparing numbers of objects.txt           [0, 23]   \n",
       "1     Video_ Comparing numbers on the number line.txt           [0, 22]   \n",
       "2                     Video_ Counting by category.txt       [0, 23, 22]   \n",
       "3                     Video_ Counting in pictures.txt           [0, 23]   \n",
       "4                       Video_ Counting objects 1.txt           [0, 11]   \n",
       "..                                                ...               ...   \n",
       "79   y2mate.com - Transformations dilation_720pFH.txt  [15, 13, 14, 16]   \n",
       "80  y2mate.com - Understanding place value when ad...         [0, 1, 7]   \n",
       "81  y2mate.com - Understanding place value when su...            [0, 2]   \n",
       "82  y2mate.com - Understanding place value while s...            [0, 2]   \n",
       "83  y2mate.com - Why a negative times a negative i...            [3, 0]   \n",
       "\n",
       "                                                 text   강의  태그1  태그2   태그3  \n",
       "0   이 텍스트를 한국어로 번역: \\n\\nGavin은 이런 말들이 있습니다. 아래의 각 ...   1강    0   23  <NA>  \n",
       "1   어떤 숫자들이 6보다 큰가요? 모두 선택해 보세요. 그래서 여기 수직선에서 6을 볼...   2강    0   22  <NA>  \n",
       "2   우리는 별, 숫자, 또는 글자를 가장 많이 세어 봅시다. 이것을 한 번 보겠습니다....   3강    0   23    22  \n",
       "3   이 사진에 얼마나 많은 사람들이 보이나요? 보세요, 저는 하나, 둘, 셋, 넷, 다...   4강    0   23  <NA>  \n",
       "4   어떤 상자에 12마리의 고래가 있는지요? 그래, 이런 이 녹색 상자를 보세요, 한번...   5강    0   11  <NA>  \n",
       "..                                                ...  ...  ...  ...   ...  \n",
       "79  이전 비디오에서 우리는 변형에 대한 아이디어를 이야기하기 시작했습니다. 특히 우리는...  80강   15   13    14  \n",
       "80  그래서 이 것이 바로 소수 37을 표현하는 한 가지 방법입니다. 숫자 37에는 십의...  81강    0    1     7  \n",
       "81  여기에는 65개의 블록이 있습니다. 직접 세어보실 수도 있지만, 우리는 이를 숫자 ...  82강    0    2  <NA>  \n",
       "82  그래서 바로 여기에 우리는 숫자 46을 가지고 있습니다. 십의 자리에는 4가 있습니...  83강    0    2  <NA>  \n",
       "83  당신이 고대 철학자이며, 수학을 처음부터 쌓아가고 있다고 가정합시다. 부정수가 무엇...  84강    3    0  <NA>  \n",
       "\n",
       "[84 rows x 7 columns]"
      ]
     },
     "execution_count": 138,
     "metadata": {},
     "output_type": "execute_result"
    }
   ],
   "source": [
    "# '태그' 열이 리스트 형태인지 확인하고 필요하다면 리스트로 변환\n",
    "def ensure_list(tags_str):\n",
    "    if isinstance(tags_str, str):\n",
    "        tags_str = eval(tags_str)\n",
    "    return tags_str\n",
    "\n",
    "\n",
    "df2[\"태그\"] = df2[\"태그\"].apply(ensure_list)\n",
    "\n",
    "# 각각의 태그를 새로운 열에 할당\n",
    "df2[\"태그1\"] = df2[\"태그\"].apply(lambda x: x[0] if len(x) > 0 else None)\n",
    "df2[\"태그2\"] = df2[\"태그\"].apply(lambda x: x[1] if len(x) > 1 else None)\n",
    "df2[\"태그3\"] = df2[\"태그\"].apply(lambda x: x[2] if len(x) > 2 else None)\n",
    "\n",
    "# 태그 열을 정수형으로 변환\n",
    "df2[\"태그1\"] = df2[\"태그1\"].astype(pd.Int64Dtype())\n",
    "df2[\"태그2\"] = df2[\"태그2\"].astype(pd.Int64Dtype())\n",
    "df2[\"태그3\"] = df2[\"태그3\"].astype(pd.Int64Dtype())\n",
    "\n",
    "df2\n",
    "\n",
    "df2.to_csv(\"./df_khan.csv\", index=False)\n",
    "\n",
    "df2"
   ]
  }
 ],
 "metadata": {
  "kernelspec": {
   "display_name": "Python 3",
   "language": "python",
   "name": "python3"
  },
  "language_info": {
   "codemirror_mode": {
    "name": "ipython",
    "version": 3
   },
   "file_extension": ".py",
   "mimetype": "text/x-python",
   "name": "python",
   "nbconvert_exporter": "python",
   "pygments_lexer": "ipython3",
   "version": "3.8.19"
  }
 },
 "nbformat": 4,
 "nbformat_minor": 2
}
