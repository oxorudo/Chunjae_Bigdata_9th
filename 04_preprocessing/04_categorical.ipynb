{
 "cells": [
  {
   "cell_type": "code",
   "execution_count": 2,
   "metadata": {},
   "outputs": [
    {
     "name": "stdout",
     "output_type": "stream",
     "text": [
      "     Brand     Model  Release\n",
      "0    Apple  iphone15     True\n",
      "1  Samsung  Galaxy24     True\n",
      "2    Apple  iphone16    False\n",
      "3   Xiaomi   Redme15     True\n",
      "4  Samsung  Galaxy23     True\n",
      "5   Xiaomi   Redme14     True\n",
      "6  Samsung  Galaxy25    False\n"
     ]
    }
   ],
   "source": [
    "import pandas as pd\n",
    "\n",
    "import pandas as pd\n",
    "\n",
    "data = {\n",
    "    \"Brand\": [\n",
    "        \"Apple\",\n",
    "        \"Samsung\",\n",
    "        \"Apple\",\n",
    "        \"Xiaomi\",\n",
    "        \"Samsung\",\n",
    "        \"Xiaomi\",\n",
    "        \"Samsung\",\n",
    "    ],\n",
    "    \"Model\": [\n",
    "        \"iphone15\",\n",
    "        \"Galaxy24\",\n",
    "        \"iphone16\",\n",
    "        \"Redme15\",\n",
    "        \"Galaxy23\",\n",
    "        \"Redme14\",\n",
    "        \"Galaxy25\",\n",
    "    ],\n",
    "    \"Release\": [\n",
    "        True,\n",
    "        True,\n",
    "        False,\n",
    "        True,\n",
    "        True,\n",
    "        True,\n",
    "        False,\n",
    "    ],\n",
    "}\n",
    "df = pd.DataFrame(data)\n",
    "\n",
    "print(df)"
   ]
  },
  {
   "cell_type": "code",
   "execution_count": 6,
   "metadata": {},
   "outputs": [
    {
     "name": "stdout",
     "output_type": "stream",
     "text": [
      "['Apple' 'Samsung' 'Xiaomi']\n",
      "Brand      3\n",
      "Model      7\n",
      "Release    2\n",
      "dtype: int64\n"
     ]
    }
   ],
   "source": [
    "# 고유값(unique) 데이터 확인\n",
    "# Series.unique()\n",
    "\n",
    "# 열 Brand의 고유값 출력\n",
    "print(df[\"Brand\"].unique())\n",
    "\n",
    "# 데이터프레임 객체에는 unique() 사용 x\n",
    "# print(df.unique()) (x)\n",
    "\n",
    "# 모든 열에 대한 고유한 값의 개수\n",
    "# DataFrame.nunique()\n",
    "\n",
    "# Brand ,Model, Release 열의 고유값 개수\n",
    "print(df.nunique())"
   ]
  },
  {
   "cell_type": "code",
   "execution_count": 4,
   "metadata": {},
   "outputs": [
    {
     "name": "stdout",
     "output_type": "stream",
     "text": [
      "Brand\n",
      "Samsung    3\n",
      "Apple      2\n",
      "Xiaomi     2\n",
      "Name: count, dtype: int64\n",
      "Brand\n",
      "Samsung    0.428571\n",
      "Apple      0.285714\n",
      "Xiaomi     0.285714\n",
      "Name: proportion, dtype: float64\n"
     ]
    }
   ],
   "source": [
    "# 열의 고유값의 개수\n",
    "# Series.value_counts()\n",
    "\n",
    "# 열 Brand의 고유값들이 각각 몇 개인지 출력\n",
    "print(df[\"Brand\"].value_counts())\n",
    "\n",
    "# nomalize = True 인자 : 고유값들의 비중 출력\n",
    "print(df[\"Brand\"].value_counts(normalize=True))"
   ]
  },
  {
   "cell_type": "code",
   "execution_count": 5,
   "metadata": {},
   "outputs": [],
   "source": [
    "#"
   ]
  }
 ],
 "metadata": {
  "kernelspec": {
   "display_name": "base",
   "language": "python",
   "name": "python3"
  },
  "language_info": {
   "codemirror_mode": {
    "name": "ipython",
    "version": 3
   },
   "file_extension": ".py",
   "mimetype": "text/x-python",
   "name": "python",
   "nbconvert_exporter": "python",
   "pygments_lexer": "ipython3",
   "version": "3.12.4"
  }
 },
 "nbformat": 4,
 "nbformat_minor": 2
}
