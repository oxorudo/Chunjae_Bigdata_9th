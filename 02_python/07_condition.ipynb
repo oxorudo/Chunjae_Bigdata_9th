{
 "cells": [
  {
   "cell_type": "code",
   "execution_count": 2,
   "metadata": {},
   "outputs": [
    {
     "name": "stdout",
     "output_type": "stream",
     "text": [
      "변수 number는 값 1과 동일합니다.\n"
     ]
    }
   ],
   "source": [
    "# 조건문\n",
    "# if\n",
    "\"\"\" 조건문의 기본 구조\n",
    "if 조건:\n",
    "    조건의 평가 결과가 참이면 코드가 실행\n",
    "    코드 블럭 내부의 코드가 실행(tab으로 구분이 된 내부의 코드)\n",
    "\n",
    "\"\"\"\n",
    "\n",
    "number = 1\n",
    "if number == 1:  # 변수 number의 값이 1과 동일하면\n",
    "    print(\"변수 number는 값 1과 동일합니다.\")"
   ]
  },
  {
   "cell_type": "code",
   "execution_count": 4,
   "metadata": {},
   "outputs": [
    {
     "name": "stdout",
     "output_type": "stream",
     "text": [
      "변수 number는 1이다.\n",
      "변수 number는 1이 아니다.\n"
     ]
    }
   ],
   "source": [
    "# 코드 블럭 : 여러 줄이 모인 코드 뭉치\n",
    "# 코드 블럭을 구분하는 방법 : 들여쓰기(indentation) 4 space / 1 tab으로 구분\n",
    "# 코드 블럭을 구분하는 이유 : 조건 결과에 따라 실행할 코드를 구분하기 위해서\n",
    "\n",
    "number = 1\n",
    "if number == 1:  # 조건 결과가 참일 때\n",
    "    print(\"변수 number는 1이다.\")\n",
    "\n",
    "print(\"변수 number는 1이 아니다.\")"
   ]
  },
  {
   "cell_type": "code",
   "execution_count": 7,
   "metadata": {},
   "outputs": [
    {
     "name": "stdout",
     "output_type": "stream",
     "text": [
      "변수 number는 1이 아니다.\n"
     ]
    }
   ],
   "source": [
    "# 조건 결과가 거짓일 때의 처리\n",
    "number = 2\n",
    "\n",
    "if number == 1:  # 조건 number == 1이 참으로 평가될 때\n",
    "    print(\"변수 number는 1이다.\")\n",
    "else:  # 조건 number == 1이 거짓으로 평가될 때\n",
    "    print(\"변수 number는 1이 아니다.\")"
   ]
  },
  {
   "cell_type": "code",
   "execution_count": 12,
   "metadata": {},
   "outputs": [
    {
     "name": "stdout",
     "output_type": "stream",
     "text": [
      "number는 1도 아니고, 2도 아니고, 3도 아니고 4도 아니다.\n"
     ]
    }
   ],
   "source": [
    "# 또 다른 조건 elif\n",
    "\n",
    "number = 5\n",
    "\n",
    "if (\n",
    "    number == 1\n",
    "):  # 이들은 한 세트이므로 어디선가 조건문이 참이 되면 그 다음 조건들은 보지 않는다.\n",
    "    print(\"number는 1\")\n",
    "elif number == 2:\n",
    "    print(\"number는 2\")\n",
    "elif number == 3:\n",
    "    print(\"number는 3\")\n",
    "elif number == 4:\n",
    "    print(\"number는 4\")\n",
    "else:\n",
    "    print(\"number는 1도 아니고, 2도 아니고, 3도 아니고 4도 아니다.\")"
   ]
  },
  {
   "cell_type": "code",
   "execution_count": 23,
   "metadata": {},
   "outputs": [
    {
     "name": "stdout",
     "output_type": "stream",
     "text": [
      "나이가 20세 이상입니다.\n"
     ]
    }
   ],
   "source": [
    "# 조건문 안의 조건문(중첩 조건문)\n",
    "\n",
    "age = 20\n",
    "if age >= 30:\n",
    "    print(\"나이가 30세 이상입니다.\")\n",
    "else:\n",
    "    if age >= 20:\n",
    "        print(\"나이가 20세 이상입니다.\")\n",
    "    else:\n",
    "        print(\"나이가 20세 미만입니다.\")"
   ]
  },
  {
   "cell_type": "code",
   "execution_count": 25,
   "metadata": {},
   "outputs": [
    {
     "name": "stdout",
     "output_type": "stream",
     "text": [
      "값이 짝수고, 10보다 작거나 같다.\n"
     ]
    }
   ],
   "source": [
    "# 논리 연산자(and, or, not)를 활용한 조건문\n",
    "# 값1 and 값2 : 값1과 값2 모두 참일 때 참을 반환\n",
    "# 값1 or 값2 : 값1과 값2 중에 하나라도 참일 때 참을 반환\n",
    "# not 값1 : 값1의 평가 결과를 반대로 한다. (참 <-> 거짓)\n",
    "\n",
    "number = 20\n",
    "# 값이 10보다 크고, 짝수인지 평가\n",
    "\n",
    "if number % 2 == 1 and number > 10:  # 2개의 비교 연산자와 1개의 논리연산자를 활용한 조건문\n",
    "    print(\"값이 홀수고, 10보다 크다\")\n",
    "else:\n",
    "    print(\"값이 짝수고, 10보다 작거나 같다.\")"
   ]
  },
  {
   "cell_type": "code",
   "execution_count": 28,
   "metadata": {},
   "outputs": [
    {
     "name": "stdout",
     "output_type": "stream",
     "text": [
      "값이 짝수고 10보다 작거나 같다\n"
     ]
    }
   ],
   "source": [
    "# 값이 10보다 크거나 홀수인지 평가\n",
    "number = 2\n",
    "if number % 2 == 1 or number > 10:\n",
    "    print(\"값이 홀수거나 10보다 크다\")\n",
    "else:\n",
    "    print(\"값이 짝수고 10보다 작거나 같다\")"
   ]
  },
  {
   "cell_type": "code",
   "execution_count": null,
   "metadata": {},
   "outputs": [],
   "source": []
  }
 ],
 "metadata": {
  "kernelspec": {
   "display_name": "base",
   "language": "python",
   "name": "python3"
  },
  "language_info": {
   "codemirror_mode": {
    "name": "ipython",
    "version": 3
   },
   "file_extension": ".py",
   "mimetype": "text/x-python",
   "name": "python",
   "nbconvert_exporter": "python",
   "pygments_lexer": "ipython3",
   "version": "3.12.4"
  }
 },
 "nbformat": 4,
 "nbformat_minor": 2
}
