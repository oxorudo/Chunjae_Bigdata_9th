{
 "cells": [
  {
   "cell_type": "code",
   "execution_count": 13,
   "metadata": {},
   "outputs": [
    {
     "name": "stdout",
     "output_type": "stream",
     "text": [
      "저의 이름은 곽태경이고, 나이는 25입니다.\n"
     ]
    }
   ],
   "source": [
    "# 객체에 대한 설계\n",
    "# 객체 : 정보와 행동을 가진 존재\n",
    "# 정보와 행동을 설계(코드)\n",
    "\n",
    "# 설계도(코드 뭉치) == 클래스(Class)\n",
    "# class? 객체에 대한 정보(속성)와 행동(메서드)을 설계한 집합체\n",
    "\n",
    "\n",
    "# Person 객체의 설계도(class)\n",
    "class Person:\n",
    "\n",
    "    # 생성자 메서드 __init__\n",
    "    # 객체를 생성할 때 실행되는 메서드\n",
    "\n",
    "    def __init__(\n",
    "        self, name, init_age\n",
    "    ):  # self: 클래스 자기 자신을 뜻함, name, init_age : 객체 만들때 받는 인자 종류\n",
    "        # 객체의 속성 == 인스턴스 변수\n",
    "        self.name = name\n",
    "        self.age = init_age\n",
    "        self.planet = \"earth\"\n",
    "\n",
    "    # 인스턴스 메서드\n",
    "    # 인스턴스 고유의 함수(메서드), ex) append(), pop(), items(), ...\n",
    "    def introduce(self):  # 매개변수가 없어도 self는 첫 번째에 무조건 들어가야 함\n",
    "        # introduce를 호출하면 나이와 이름을 소개하는 문자열을 출력\n",
    "        print(f\"저의 이름은 {self.name}이고, 나이는 {self.age}입니다.\")\n",
    "\n",
    "    def birthday(self, add_age):\n",
    "        # 나이를 add_age만큼 추가하는 메서드\n",
    "        self.age += add_age\n",
    "        return self.age\n",
    "\n",
    "\n",
    "# 객체 생성 방법\n",
    "person = Person(\"곽태경\", 23)  # person 객체를 생성하는데 name = \"beemo\", init_age = 20\n",
    "person.birthday(2)\n",
    "person.introduce()  # .으로 객체 속성에 접근하고, 인스턴스 메서드 이용 가능"
   ]
  },
  {
   "cell_type": "code",
   "execution_count": 19,
   "metadata": {},
   "outputs": [
    {
     "name": "stdout",
     "output_type": "stream",
     "text": [
      "꽃의 이름은 해바라기입니다.\n",
      "파랑색 13\n"
     ]
    }
   ],
   "source": [
    "\"\"\"\n",
    "\n",
    "flower\n",
    "인스턴스 변수(속성)\n",
    "-이름\n",
    "-색\n",
    "-꽃잎의 수\n",
    "인스턴스 메서드(행동)\n",
    "- 꽃잎이 피다(bloom) : 꽃잎의 수 +1\n",
    "- 꽃 색이 변하다(change) : 꽃 색이 입력받은 색으로 변경됨\n",
    "\"\"\"\n",
    "\n",
    "\n",
    "class Flower:\n",
    "\n",
    "    def __init__(self, name, color, petal_count):\n",
    "        self.name = name\n",
    "        self.color = color\n",
    "        self.petal_count = petal_count\n",
    "\n",
    "    def bloom(self):\n",
    "        self.petal_count += 1\n",
    "\n",
    "    def change(self, changed_color):\n",
    "        self.color = changed_color\n",
    " \n",
    "\n",
    "sunflower = Flower(\"해바라기\", \"노란색\", 12)\n",
    "\n",
    "print(f\"꽃의 이름은 {sunflower.name}입니다.\")\n",
    "sunflower.bloom()\n",
    "sunflower.change(\"파랑색\")\n",
    "\n",
    "print(sunflower.color, sunflower.petal_count)"
   ]
  },
  {
   "cell_type": "code",
   "execution_count": null,
   "metadata": {},
   "outputs": [],
   "source": []
  }
 ],
 "metadata": {
  "kernelspec": {
   "display_name": "base",
   "language": "python",
   "name": "python3"
  },
  "language_info": {
   "codemirror_mode": {
    "name": "ipython",
    "version": 3
   },
   "file_extension": ".py",
   "mimetype": "text/x-python",
   "name": "python",
   "nbconvert_exporter": "python",
   "pygments_lexer": "ipython3",
   "version": "3.12.4"
  }
 },
 "nbformat": 4,
 "nbformat_minor": 2
}
