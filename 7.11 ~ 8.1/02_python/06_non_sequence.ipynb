{
 "cells": [
  {
   "cell_type": "code",
   "execution_count": 4,
   "metadata": {},
   "outputs": [
    {
     "name": "stdout",
     "output_type": "stream",
     "text": [
      "{'여름': '덥다', '키(key)': '밸류(value)', '일': 1, '일점오': 1.5, (0, 1): '튜플 키의 밸류', 1: '정수형 키의 밸류', 1.1: '실수형 키의 밸류'}\n"
     ]
    }
   ],
   "source": [
    "# 딕셔너리(사전형)\n",
    "# key - value 쌍으로 이루어진 컨테이너 자료형\n",
    "# 단어 - 뜻 쌍 -> 사전(백과사전, 영어사전)\n",
    "\n",
    "# 딕셔너리의 생성 : 중괄호 {}\n",
    "# key와 value는 콜론(:)으로 구분\n",
    "\n",
    "# 빈 딕셔너리 생성\n",
    "my_dict = {}\n",
    "\n",
    "# key-value 쌍이 있는 딕셔너리 생성\n",
    "my_dict = {\n",
    "    \"여름\": \"덥다\",\n",
    "    \"키(key)\": \"밸류(value)\",\n",
    "    \"일\": 1,\n",
    "    \"일점오\": 1.5,\n",
    "    (0, 1): \"튜플 키의 밸류\",\n",
    "    # [1,2] : \"리스트 키의 밸류\" => 수정이 가능한 리스트 자료형은 키로 사용할 수 없다.\n",
    "    1: \"정수형 키의 밸류\",\n",
    "    1.1: \"실수형 키의 밸류\",\n",
    "}\n",
    "\n",
    "# key 작성 규칙\n",
    "# 수정이 불가능한 값이어야 함 (튜플 같은 것도 가능)\n",
    "\n",
    "print(my_dict)"
   ]
  },
  {
   "cell_type": "code",
   "execution_count": 6,
   "metadata": {},
   "outputs": [
    {
     "name": "stdout",
     "output_type": "stream",
     "text": [
      "곽태경\n",
      "25\n"
     ]
    }
   ],
   "source": [
    "# 딕셔너리 value 접근\n",
    "my_dict = {\"이름\": \"곽태경\", \"나이\": 25}\n",
    "\n",
    "# 딕셔너리[키]\n",
    "# 이름 key의 value 접근\n",
    "print(my_dict[\"이름\"])\n",
    "\n",
    "# 나이 key의 value 접근\n",
    "print(my_dict[\"나이\"])"
   ]
  },
  {
   "cell_type": "code",
   "execution_count": 8,
   "metadata": {},
   "outputs": [
    {
     "name": "stdout",
     "output_type": "stream",
     "text": [
      "{'이름': 'oxorudo', '나이': 20}\n",
      "{'이름': 'oxorudo', '나이': 20, '사는 곳': '수원'}\n"
     ]
    }
   ],
   "source": [
    "# 딕셔너리 key-value 쌍 추가 또는 수정\n",
    "my_dict = {\"이름\": \"곽태경\", \"나이\": 20}\n",
    "\n",
    "# 이름 key의 value를 수정\n",
    "my_dict[\"이름\"] = \"oxorudo\"\n",
    "print(my_dict)\n",
    "\n",
    "# 사는 곳(없는 key)에 접근해서 값을 저장 => 새로운 key-value 쌍을 추가하게 됨\n",
    "my_dict[\"사는 곳\"] = \"수원\"\n",
    "print(my_dict)"
   ]
  },
  {
   "cell_type": "code",
   "execution_count": 11,
   "metadata": {},
   "outputs": [
    {
     "name": "stdout",
     "output_type": "stream",
     "text": [
      "{'이름': '곽태경', '나이': 25}\n",
      "{'이름': '곽태경', '나이': 25, '전화번호': ''}\n"
     ]
    }
   ],
   "source": [
    "# 딕셔너리 key-value쌍 삭제\n",
    "my_dict = {\"이름\": \"곽태경\", \"나이\": 25, \"전화번호\": \"01012345678\"}\n",
    "\n",
    "del my_dict[\"전화번호\"]  # key-value쌍 삭제\n",
    "print(my_dict)\n",
    "\n",
    "# 주의\n",
    "my_dict[\"전화번호\"] = \"\"  # 삭제 x, 수정 o\n",
    "print(my_dict)"
   ]
  },
  {
   "cell_type": "code",
   "execution_count": 26,
   "metadata": {},
   "outputs": [
    {
     "name": "stdout",
     "output_type": "stream",
     "text": [
      "dict_keys(['이름', '나이', '전화번호'])\n",
      "dict_values(['곽태경', 25, '01012345678'])\n",
      "dict_items([('이름', '곽태경'), ('나이', 25), ('전화번호', '01012345678')])\n",
      "None\n",
      "서울\n"
     ]
    }
   ],
   "source": [
    "# 딕셔너리 고유의 기능(메서드)\n",
    "my_dict = {\"이름\": \"곽태경\", \"나이\": 25, \"전화번호\": \"01012345678\"}\n",
    "\n",
    "# 모든 키를 반환(기능의 결과값으로 반환) (결과는 리스트)\n",
    "print(my_dict.keys())\n",
    "\n",
    "# 모든 밸류를 반환\n",
    "print(my_dict.values())\n",
    "\n",
    "# 모든 key,value를 반환 =>  키-밸류 쌍이 튜플로 묶여서 나옴\n",
    "print(my_dict.items())\n",
    "\n",
    "# key에 해당하는 value를 반환\n",
    "# print(my_dict[\"사는 곳\"]) => 오류 발생\n",
    "print(my_dict.get(\"사는 곳\"))  # 오류 발생하지 않고 없으면 None 변환\n",
    "print(\n",
    "    my_dict.get(\"사는 곳\", \"서울\")\n",
    ")  # \"사는 곳\"이라는 key를 찾고, 없으면 \"서울\"을 반환\n",
    "\n",
    "# .get(키)로 수정은 불가능\n",
    "# my_dict.get(\"이름\") = \"oxorudo\""
   ]
  },
  {
   "cell_type": "code",
   "execution_count": 32,
   "metadata": {},
   "outputs": [
    {
     "name": "stdout",
     "output_type": "stream",
     "text": [
      "{1, 2, 3, 4, 5}\n",
      "set()\n"
     ]
    }
   ],
   "source": [
    "# 집합(set) 자료형\n",
    "# 수학의 집합 개념을 프로그램적 개념으로 만든 것.\n",
    "# 순서가 없고, 중복된 값을 저장할 수 없음.\n",
    "\n",
    "# 집합 자료형 생성 : 중괄호 {값1, 값2, 값3, ...} => 중괄호로는 빈 집합 만들수 없음(딕셔너리로 인식됨)\n",
    "# 생성 2. set() (빈 집합 가능)\n",
    "\n",
    "set_1 = {1, 2, 3, 4, 5, 5, 5, 5, 5, 5, 5}  # 중복불가\n",
    "set_2 = set()  # 집합 자료형 변수 만들어주는 기능\n",
    "print(set_1)\n",
    "print(set_2)"
   ]
  },
  {
   "cell_type": "code",
   "execution_count": 34,
   "metadata": {},
   "outputs": [
    {
     "name": "stdout",
     "output_type": "stream",
     "text": [
      "{1, 2}\n",
      "{1, 2}\n"
     ]
    }
   ],
   "source": [
    "# 집합의 자료형의 값 추가\n",
    "# add()\n",
    "set_1 = set()\n",
    "set_1.add(1)\n",
    "set_1.add(2)\n",
    "print(set_1)\n",
    "\n",
    "# 중복값은 허용하지 않음(오류는 없음)\n",
    "set_1.add(1)\n",
    "set_1.add(1)\n",
    "print(set_1)"
   ]
  },
  {
   "cell_type": "code",
   "execution_count": 43,
   "metadata": {},
   "outputs": [
    {
     "name": "stdout",
     "output_type": "stream",
     "text": [
      "{2, 3, 4, 5}\n",
      "{3, 4, 5}\n",
      "{3, 4, 5}\n"
     ]
    }
   ],
   "source": [
    "# 집합 자료형의 값 삭제\n",
    "\n",
    "set_1 = {1, 2, 3, 4, 5}\n",
    "# remove()\n",
    "set_1.remove(1)\n",
    "print(set_1)\n",
    "\n",
    "# discard()\n",
    "set_1.discard(2)\n",
    "print(set_1)\n",
    "\n",
    "# 값이 없는 remove() : 오류 발생\n",
    "# set_1.remove(99)\n",
    "# print(set_1)\n",
    "\n",
    "# 값이 없는 discard() : 오류 x\n",
    "set_1.discard(99)\n",
    "print(set_1)"
   ]
  },
  {
   "cell_type": "code",
   "execution_count": 46,
   "metadata": {},
   "outputs": [
    {
     "name": "stdout",
     "output_type": "stream",
     "text": [
      "True\n",
      "False\n"
     ]
    }
   ],
   "source": [
    "# 집합(set) 자료형의 멤버십 연산자(in / not in)\n",
    "set_1 = {1, 2, 3, 4}\n",
    "\n",
    "# set_1 집합 변수가 정수형 값 1을 가지고 있는지 평가\n",
    "print(1 in set_1)\n",
    "\n",
    "print(1 not in set_1)"
   ]
  },
  {
   "cell_type": "code",
   "execution_count": 53,
   "metadata": {},
   "outputs": [
    {
     "name": "stdout",
     "output_type": "stream",
     "text": [
      "True\n",
      "False\n",
      "False\n",
      "False\n",
      "True\n"
     ]
    }
   ],
   "source": [
    "# 딕셔너리 멤버쉽 연산자\n",
    "# 딕셔너리 key-value, 무엇을 기준으로 값이 있는지 평가하지?\n",
    "\n",
    "# 딕셔너리는 기본적으로 key를 기준으로 평가\n",
    "my_dict = {\"이름\": \"곽태경\", \"나이\": 25}\n",
    "print(\"이름\" in my_dict)\n",
    "print(\"사는 곳\" in my_dict)\n",
    "print(\"곽태경\" in my_dict)\n",
    "\n",
    "# 딕셔너리 value를 기준으로 평가하려면\n",
    "# 딕셔너리.values() : 딕셔너리의 모든 value 변환(결과값으로 반환) => 이를 이용\n",
    "my_dict = {\"이름\": \"곽태경\", \"나이\": 25}\n",
    "print(\"25\" in my_dict.values())\n",
    "print(25 in my_dict.values())"
   ]
  }
 ],
 "metadata": {
  "kernelspec": {
   "display_name": "base",
   "language": "python",
   "name": "python3"
  },
  "language_info": {
   "codemirror_mode": {
    "name": "ipython",
    "version": 3
   },
   "file_extension": ".py",
   "mimetype": "text/x-python",
   "name": "python",
   "nbconvert_exporter": "python",
   "pygments_lexer": "ipython3",
   "version": "3.12.4"
  }
 },
 "nbformat": 4,
 "nbformat_minor": 2
}
