{
 "cells": [
  {
   "cell_type": "code",
   "execution_count": 25,
   "metadata": {},
   "outputs": [],
   "source": [
    "import numpy as np\n",
    "import os\n",
    "import pandas as pd\n",
    "import cv2\n",
    "import matplotlib.pyplot as plt\n",
    "import matplotlib.image as mpimg\n",
    "import seaborn as sns"
   ]
  },
  {
   "cell_type": "code",
   "execution_count": 26,
   "metadata": {},
   "outputs": [
    {
     "name": "stdout",
     "output_type": "stream",
     "text": [
      "Found 2890 images belonging to 2 classes.\n",
      "Found 256 images belonging to 2 classes.\n",
      "{0: 1, 1: 1.2}\n",
      "Epoch 1/20\n"
     ]
    },
    {
     "name": "stderr",
     "output_type": "stream",
     "text": [
      "c:\\Users\\xorud\\AppData\\Local\\Programs\\Python\\Python312\\Lib\\site-packages\\keras\\src\\trainers\\data_adapters\\py_dataset_adapter.py:122: UserWarning: Your `PyDataset` class should call `super().__init__(**kwargs)` in its constructor. `**kwargs` can include `workers`, `use_multiprocessing`, `max_queue_size`. Do not pass these arguments to `fit()`, as they will be ignored.\n",
      "  self._warn_if_super_not_called()\n"
     ]
    },
    {
     "name": "stdout",
     "output_type": "stream",
     "text": [
      "\u001b[1m45/45\u001b[0m \u001b[32m━━━━━━━━━━━━━━━━━━━━\u001b[0m\u001b[37m\u001b[0m \u001b[1m0s\u001b[0m 5s/step - accuracy: 0.7638 - loss: 0.7156\n",
      "Epoch 1: val_loss improved from inf to 0.75704, saving model to ./best_model3.keras\n",
      "\u001b[1m45/45\u001b[0m \u001b[32m━━━━━━━━━━━━━━━━━━━━\u001b[0m\u001b[37m\u001b[0m \u001b[1m224s\u001b[0m 5s/step - accuracy: 0.7657 - loss: 0.7123 - val_accuracy: 0.9688 - val_loss: 0.7570 - learning_rate: 1.0000e-05\n",
      "Epoch 2/20\n",
      "\u001b[1m45/45\u001b[0m \u001b[32m━━━━━━━━━━━━━━━━━━━━\u001b[0m\u001b[37m\u001b[0m \u001b[1m4s\u001b[0m 887us/step - accuracy: 0.9688 - loss: 0.3813 - learning_rate: 1.0000e-05\n",
      "Epoch 3/20\n"
     ]
    },
    {
     "name": "stderr",
     "output_type": "stream",
     "text": [
      "c:\\Users\\xorud\\AppData\\Local\\Programs\\Python\\Python312\\Lib\\contextlib.py:158: UserWarning: Your input ran out of data; interrupting training. Make sure that your dataset or generator can generate at least `steps_per_epoch * epochs` batches. You may need to use the `.repeat()` function when building your dataset.\n",
      "  self.gen.throw(value)\n",
      "c:\\Users\\xorud\\AppData\\Local\\Programs\\Python\\Python312\\Lib\\site-packages\\keras\\src\\callbacks\\model_checkpoint.py:206: UserWarning: Can save best model only with val_loss available, skipping.\n",
      "  self._save_model(epoch=epoch, batch=None, logs=logs)\n",
      "c:\\Users\\xorud\\AppData\\Local\\Programs\\Python\\Python312\\Lib\\site-packages\\keras\\src\\callbacks\\early_stopping.py:155: UserWarning: Early stopping conditioned on metric `val_loss` which is not available. Available metrics are: accuracy,loss\n",
      "  current = self.get_monitor_value(logs)\n",
      "c:\\Users\\xorud\\AppData\\Local\\Programs\\Python\\Python312\\Lib\\site-packages\\keras\\src\\callbacks\\callback_list.py:96: UserWarning: Learning rate reduction is conditioned on metric `val_loss` which is not available. Available metrics are: accuracy,loss,learning_rate.\n",
      "  callback.on_epoch_end(epoch, logs)\n"
     ]
    },
    {
     "name": "stdout",
     "output_type": "stream",
     "text": [
      "\u001b[1m45/45\u001b[0m \u001b[32m━━━━━━━━━━━━━━━━━━━━\u001b[0m\u001b[37m\u001b[0m \u001b[1m0s\u001b[0m 5s/step - accuracy: 0.9793 - loss: 0.3270\n",
      "Epoch 3: val_loss improved from 0.75704 to 0.67635, saving model to ./best_model3.keras\n",
      "\u001b[1m45/45\u001b[0m \u001b[32m━━━━━━━━━━━━━━━━━━━━\u001b[0m\u001b[37m\u001b[0m \u001b[1m235s\u001b[0m 5s/step - accuracy: 0.9793 - loss: 0.3266 - val_accuracy: 0.9805 - val_loss: 0.6763 - learning_rate: 1.0000e-05\n",
      "Epoch 4/20\n",
      "\u001b[1m45/45\u001b[0m \u001b[32m━━━━━━━━━━━━━━━━━━━━\u001b[0m\u001b[37m\u001b[0m \u001b[1m6s\u001b[0m 614us/step - accuracy: 1.0000 - loss: 0.2709 - learning_rate: 1.0000e-05\n",
      "Epoch 5/20\n",
      "\u001b[1m45/45\u001b[0m \u001b[32m━━━━━━━━━━━━━━━━━━━━\u001b[0m\u001b[37m\u001b[0m \u001b[1m0s\u001b[0m 4s/step - accuracy: 0.9949 - loss: 0.2546\n",
      "Epoch 5: val_loss improved from 0.67635 to 0.58990, saving model to ./best_model3.keras\n",
      "\u001b[1m45/45\u001b[0m \u001b[32m━━━━━━━━━━━━━━━━━━━━\u001b[0m\u001b[37m\u001b[0m \u001b[1m218s\u001b[0m 5s/step - accuracy: 0.9949 - loss: 0.2545 - val_accuracy: 0.9844 - val_loss: 0.5899 - learning_rate: 1.0000e-05\n",
      "Epoch 6/20\n",
      "\u001b[1m45/45\u001b[0m \u001b[32m━━━━━━━━━━━━━━━━━━━━\u001b[0m\u001b[37m\u001b[0m \u001b[1m4s\u001b[0m 364us/step - accuracy: 0.9844 - loss: 0.2462 - learning_rate: 1.0000e-05\n",
      "Epoch 7/20\n",
      "\u001b[1m45/45\u001b[0m \u001b[32m━━━━━━━━━━━━━━━━━━━━\u001b[0m\u001b[37m\u001b[0m \u001b[1m0s\u001b[0m 4s/step - accuracy: 0.9983 - loss: 0.2315\n",
      "Epoch 7: val_loss improved from 0.58990 to 0.50520, saving model to ./best_model3.keras\n",
      "\u001b[1m45/45\u001b[0m \u001b[32m━━━━━━━━━━━━━━━━━━━━\u001b[0m\u001b[37m\u001b[0m \u001b[1m206s\u001b[0m 5s/step - accuracy: 0.9983 - loss: 0.2315 - val_accuracy: 0.9922 - val_loss: 0.5052 - learning_rate: 1.0000e-05\n",
      "Epoch 8/20\n",
      "\u001b[1m45/45\u001b[0m \u001b[32m━━━━━━━━━━━━━━━━━━━━\u001b[0m\u001b[37m\u001b[0m \u001b[1m4s\u001b[0m 364us/step - accuracy: 0.9844 - loss: 0.2489 - learning_rate: 1.0000e-05\n",
      "Epoch 9/20\n",
      "\u001b[1m45/45\u001b[0m \u001b[32m━━━━━━━━━━━━━━━━━━━━\u001b[0m\u001b[37m\u001b[0m \u001b[1m0s\u001b[0m 4s/step - accuracy: 0.9987 - loss: 0.2204\n",
      "Epoch 9: val_loss improved from 0.50520 to 0.43623, saving model to ./best_model3.keras\n",
      "\u001b[1m45/45\u001b[0m \u001b[32m━━━━━━━━━━━━━━━━━━━━\u001b[0m\u001b[37m\u001b[0m \u001b[1m206s\u001b[0m 5s/step - accuracy: 0.9987 - loss: 0.2204 - val_accuracy: 1.0000 - val_loss: 0.4362 - learning_rate: 1.0000e-05\n",
      "Epoch 10/20\n",
      "\u001b[1m45/45\u001b[0m \u001b[32m━━━━━━━━━━━━━━━━━━━━\u001b[0m\u001b[37m\u001b[0m \u001b[1m4s\u001b[0m 364us/step - accuracy: 1.0000 - loss: 0.2127 - learning_rate: 1.0000e-05\n",
      "Epoch 11/20\n",
      "\u001b[1m45/45\u001b[0m \u001b[32m━━━━━━━━━━━━━━━━━━━━\u001b[0m\u001b[37m\u001b[0m \u001b[1m0s\u001b[0m 4s/step - accuracy: 0.9997 - loss: 0.2161\n",
      "Epoch 11: val_loss improved from 0.43623 to 0.36940, saving model to ./best_model3.keras\n",
      "\u001b[1m45/45\u001b[0m \u001b[32m━━━━━━━━━━━━━━━━━━━━\u001b[0m\u001b[37m\u001b[0m \u001b[1m206s\u001b[0m 5s/step - accuracy: 0.9997 - loss: 0.2160 - val_accuracy: 0.9922 - val_loss: 0.3694 - learning_rate: 1.0000e-05\n",
      "Epoch 12/20\n",
      "\u001b[1m45/45\u001b[0m \u001b[32m━━━━━━━━━━━━━━━━━━━━\u001b[0m\u001b[37m\u001b[0m \u001b[1m4s\u001b[0m 341us/step - accuracy: 1.0000 - loss: 0.2117 - learning_rate: 1.0000e-05\n",
      "Epoch 13/20\n",
      "\u001b[1m45/45\u001b[0m \u001b[32m━━━━━━━━━━━━━━━━━━━━\u001b[0m\u001b[37m\u001b[0m \u001b[1m0s\u001b[0m 4s/step - accuracy: 1.0000 - loss: 0.2082\n",
      "Epoch 13: val_loss improved from 0.36940 to 0.33938, saving model to ./best_model3.keras\n",
      "\u001b[1m45/45\u001b[0m \u001b[32m━━━━━━━━━━━━━━━━━━━━\u001b[0m\u001b[37m\u001b[0m \u001b[1m206s\u001b[0m 5s/step - accuracy: 1.0000 - loss: 0.2082 - val_accuracy: 0.9922 - val_loss: 0.3394 - learning_rate: 1.0000e-05\n",
      "Epoch 14/20\n",
      "\u001b[1m45/45\u001b[0m \u001b[32m━━━━━━━━━━━━━━━━━━━━\u001b[0m\u001b[37m\u001b[0m \u001b[1m4s\u001b[0m 341us/step - accuracy: 1.0000 - loss: 0.2077 - learning_rate: 1.0000e-05\n",
      "Epoch 15/20\n",
      "\u001b[1m45/45\u001b[0m \u001b[32m━━━━━━━━━━━━━━━━━━━━\u001b[0m\u001b[37m\u001b[0m \u001b[1m0s\u001b[0m 4s/step - accuracy: 1.0000 - loss: 0.2038\n",
      "Epoch 15: val_loss did not improve from 0.33938\n",
      "\u001b[1m45/45\u001b[0m \u001b[32m━━━━━━━━━━━━━━━━━━━━\u001b[0m\u001b[37m\u001b[0m \u001b[1m205s\u001b[0m 5s/step - accuracy: 1.0000 - loss: 0.2038 - val_accuracy: 0.9688 - val_loss: 0.3503 - learning_rate: 1.0000e-05\n",
      "Epoch 16/20\n",
      "\u001b[1m45/45\u001b[0m \u001b[32m━━━━━━━━━━━━━━━━━━━━\u001b[0m\u001b[37m\u001b[0m \u001b[1m4s\u001b[0m 500us/step - accuracy: 1.0000 - loss: 0.2015 - learning_rate: 1.0000e-05\n",
      "Epoch 17/20\n",
      "\u001b[1m45/45\u001b[0m \u001b[32m━━━━━━━━━━━━━━━━━━━━\u001b[0m\u001b[37m\u001b[0m \u001b[1m0s\u001b[0m 4s/step - accuracy: 1.0000 - loss: 0.2012\n",
      "Epoch 17: val_loss improved from 0.33938 to 0.28632, saving model to ./best_model3.keras\n",
      "\u001b[1m45/45\u001b[0m \u001b[32m━━━━━━━━━━━━━━━━━━━━\u001b[0m\u001b[37m\u001b[0m \u001b[1m206s\u001b[0m 5s/step - accuracy: 1.0000 - loss: 0.2012 - val_accuracy: 0.9883 - val_loss: 0.2863 - learning_rate: 1.0000e-05\n",
      "Epoch 18/20\n",
      "\u001b[1m45/45\u001b[0m \u001b[32m━━━━━━━━━━━━━━━━━━━━\u001b[0m\u001b[37m\u001b[0m \u001b[1m4s\u001b[0m 341us/step - accuracy: 1.0000 - loss: 0.1971 - learning_rate: 1.0000e-05\n",
      "Epoch 19/20\n",
      "\u001b[1m45/45\u001b[0m \u001b[32m━━━━━━━━━━━━━━━━━━━━\u001b[0m\u001b[37m\u001b[0m \u001b[1m0s\u001b[0m 4s/step - accuracy: 1.0000 - loss: 0.2002\n",
      "Epoch 19: val_loss did not improve from 0.28632\n",
      "\u001b[1m45/45\u001b[0m \u001b[32m━━━━━━━━━━━━━━━━━━━━\u001b[0m\u001b[37m\u001b[0m \u001b[1m205s\u001b[0m 5s/step - accuracy: 1.0000 - loss: 0.2002 - val_accuracy: 0.9648 - val_loss: 0.3125 - learning_rate: 1.0000e-05\n",
      "Epoch 20/20\n",
      "\u001b[1m45/45\u001b[0m \u001b[32m━━━━━━━━━━━━━━━━━━━━\u001b[0m\u001b[37m\u001b[0m \u001b[1m4s\u001b[0m 341us/step - accuracy: 1.0000 - loss: 0.1999 - learning_rate: 1.0000e-05\n"
     ]
    }
   ],
   "source": [
    "from tensorflow.keras.models import Sequential\n",
    "from tensorflow.keras.layers import Dense, Dropout, BatchNormalization, Flatten, GlobalAveragePooling2D\n",
    "from tensorflow.keras.optimizers import Adam\n",
    "from tensorflow.keras.callbacks import EarlyStopping, ModelCheckpoint, ReduceLROnPlateau\n",
    "from tensorflow.keras.preprocessing.image import ImageDataGenerator\n",
    "from tensorflow.keras.applications import VGG16\n",
    "from tensorflow.keras.regularizers import l2\n",
    "\n",
    "\n",
    "# VGG16 모델 로드 (include_top=False로 특징 추출용으로 사용)\n",
    "base_model = VGG16(weights='imagenet', include_top=False, input_shape=(224, 224, 3))\n",
    "\n",
    "# 모델 구성\n",
    "model = Sequential()\n",
    "model.add(base_model)\n",
    "\n",
    "# 3차원 출력 -> 1차원 벡터로 변환 (Flatten 또는 GlobalAveragePooling2D 중 하나 사용)\n",
    "model.add(GlobalAveragePooling2D())  # Flatten 대신 GlobalAveragePooling2D 사용 가능\n",
    "# model.add(Flatten())  # 또는 Flatten 사용 가능\n",
    "\n",
    "model.add(Dense(128, activation='relu', kernel_regularizer=l2(0.001)))  # L2 정규화 추가, Dense 레이어 크기 조정\n",
    "model.add(BatchNormalization())  # Batch Normalization 추가\n",
    "model.add(Dropout(0.5))  # Dropout 비율을 0.5로 유지\n",
    "model.add(Dense(1, activation='sigmoid'))  # 이진 분류를 위한 출력층\n",
    "\n",
    "# 기존 VGG16의 가중치를 고정 (마지막 6개 레이어만 학습 가능)\n",
    "base_model.trainable = True\n",
    "for layer in base_model.layers[:-6]:\n",
    "    layer.trainable = False\n",
    "\n",
    "# 모델 컴파일 (학습률 낮춤)\n",
    "model.compile(loss='binary_crossentropy',\n",
    "              optimizer=Adam(learning_rate=1e-5),  # 학습률 1e-5로 조정\n",
    "              metrics=['accuracy'])\n",
    "\n",
    "# 이미지 데이터를 0~1 사이 값으로 스케일링\n",
    "train_datagen = ImageDataGenerator(rescale=1/255)\n",
    "\n",
    "# train set\n",
    "train_generator = train_datagen.flow_from_directory(\n",
    "    './data/train_added/',\n",
    "    target_size=(224, 224),\n",
    "    batch_size=64,\n",
    "    class_mode='binary'\n",
    ")\n",
    "\n",
    "# valid set\n",
    "valid_generator = train_datagen.flow_from_directory(\n",
    "    './data/validation-horse-or-human/',\n",
    "    target_size=(224, 224),\n",
    "    batch_size=64,\n",
    "    class_mode='binary'\n",
    ")\n",
    "\n",
    "# 콜백 설정\n",
    "es = EarlyStopping(\n",
    "    monitor='val_loss',\n",
    "    patience=10,  # patience 값을 10으로 증가\n",
    "    verbose=1\n",
    ")\n",
    "\n",
    "checkpoint = ModelCheckpoint(\n",
    "    filepath='./best_model3.keras',\n",
    "    monitor='val_loss',\n",
    "    verbose=2,\n",
    "    save_best_only=True,\n",
    "    mode='auto'\n",
    ")\n",
    "\n",
    "# 학습률 조정 콜백 (ReduceLROnPlateau)\n",
    "reduce_lr = ReduceLROnPlateau(\n",
    "    monitor='val_loss',\n",
    "    factor=0.2,\n",
    "    patience=3,\n",
    "    min_lr=1e-6,\n",
    "    verbose=1\n",
    ")\n",
    "\n",
    "# 가중치를 수동으로 조정\n",
    "class_weights = {i : weight for i, weight in enumerate(initial_weights)}\n",
    "\n",
    "# 예를 들어, 클래스 인덱스 0이 말, 1이 사람일 경우, 사람의 가중치를 높입니다.\n",
    "# '말' 클래스 인덱스는 0, '사람' 클래스 인덱스는 1이라고 가정합니다.\n",
    "class_weights[0] = 1  # 말 클래스의 가중치를 기본값으로 설정\n",
    "class_weights[1] = 1.5  # 사람 클래스의 가중치를 20% 증가\n",
    "\n",
    "print(class_weights)\n",
    "\n",
    "# steps_per_epoch 설정\n",
    "steps_per_epoch = train_generator.samples // train_generator.batch_size\n",
    "validation_steps = valid_generator.samples // valid_generator.batch_size\n",
    "\n",
    "# 모델 학습\n",
    "history = model.fit(\n",
    "    train_generator,\n",
    "    steps_per_epoch=steps_per_epoch,\n",
    "    validation_data=valid_generator,\n",
    "    validation_steps=validation_steps,\n",
    "    epochs=20,  # 더 많은 에포크\n",
    "    verbose=1,\n",
    "    callbacks=[checkpoint, es, reduce_lr],\n",
    "    class_weight=class_weights\n",
    ")"
   ]
  },
  {
   "cell_type": "code",
   "execution_count": 27,
   "metadata": {},
   "outputs": [
    {
     "name": "stdout",
     "output_type": "stream",
     "text": [
      "\u001b[1m4/4\u001b[0m \u001b[32m━━━━━━━━━━━━━━━━━━━━\u001b[0m\u001b[37m\u001b[0m \u001b[1m13s\u001b[0m 3s/step - accuracy: 0.9698 - loss: 0.3057\n",
      "test loss, test acc: [0.31115850806236267, 0.96875]\n"
     ]
    }
   ],
   "source": [
    "# 모델 검증\n",
    "results = model.evaluate(valid_generator)\n",
    "print(\"test loss, test acc:\", results)"
   ]
  },
  {
   "cell_type": "code",
   "execution_count": 28,
   "metadata": {},
   "outputs": [
    {
     "data": {
      "image/png": "[encoded data removed]",
      "text/plain": [
       "<Figure size 640x480 with 1 Axes>"
      ]
     },
     "metadata": {},
     "output_type": "display_data"
    }
   ],
   "source": [
    "plt.plot(history.history['accuracy'])\n",
    "plt.plot(history.history['loss'])\n",
    "plt.title('Model accuracy & loss')\n",
    "plt.xlabel('Epoch')\n",
    "plt.ylabel('value')\n",
    "plt.legend(['accuracy', 'loss'], loc='center right')\n",
    "plt.show()"
   ]
  }
 ],
 "metadata": {
  "kernelspec": {
   "display_name": "Python 3",
   "language": "python",
   "name": "python3"
  },
  "language_info": {
   "codemirror_mode": {
    "name": "ipython",
    "version": 3
   },
   "file_extension": ".py",
   "mimetype": "text/x-python",
   "name": "python",
   "nbconvert_exporter": "python",
   "pygments_lexer": "ipython3",
   "version": "3.12.3"
  }
 },
 "nbformat": 4,
 "nbformat_minor": 2
}
