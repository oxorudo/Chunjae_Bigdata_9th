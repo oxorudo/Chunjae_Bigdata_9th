{
 "cells": [
  {
   "cell_type": "code",
   "execution_count": 30,
   "metadata": {},
   "outputs": [
    {
     "name": "stdout",
     "output_type": "stream",
     "text": [
      "MoviePy - Writing audio in extracted_audio1.mp3\n"
     ]
    },
    {
     "name": "stderr",
     "output_type": "stream",
     "text": [
      "                                                                      \r"
     ]
    },
    {
     "name": "stdout",
     "output_type": "stream",
     "text": [
      "MoviePy - Done.\n",
      "음성 파일이 extracted_audio1.mp3에 저장되었습니다.\n",
      "MoviePy - Writing audio in extracted_audio2.mp3\n"
     ]
    },
    {
     "name": "stderr",
     "output_type": "stream",
     "text": [
      "                                                                      \r"
     ]
    },
    {
     "name": "stdout",
     "output_type": "stream",
     "text": [
      "MoviePy - Done.\n",
      "음성 파일이 extracted_audio2.mp3에 저장되었습니다.\n",
      "MoviePy - Writing audio in extracted_audio3.mp3\n"
     ]
    },
    {
     "name": "stderr",
     "output_type": "stream",
     "text": [
      "                                                                      \r"
     ]
    },
    {
     "name": "stdout",
     "output_type": "stream",
     "text": [
      "MoviePy - Done.\n",
      "음성 파일이 extracted_audio3.mp3에 저장되었습니다.\n",
      "MoviePy - Writing audio in extracted_audio4.mp3\n"
     ]
    },
    {
     "name": "stderr",
     "output_type": "stream",
     "text": [
      "                                                                      "
     ]
    },
    {
     "name": "stdout",
     "output_type": "stream",
     "text": [
      "MoviePy - Done.\n",
      "음성 파일이 extracted_audio4.mp3에 저장되었습니다.\n"
     ]
    },
    {
     "name": "stderr",
     "output_type": "stream",
     "text": [
      "\r"
     ]
    }
   ],
   "source": [
    "from moviepy.editor import VideoFileClip\n",
    "\n",
    "# 동영상 파일 경로\n",
    "\n",
    "audio_path = []\n",
    "\n",
    "for i in range(0, 4):\n",
    "    video_path = (\n",
    "        f\"./ebs/y2mate.com - 초등 수학 개념잡기  23강 문제 해결의 여러가지 방법 찾기1   00{i+1}_360P.mp4\"\n",
    "    )\n",
    "\n",
    "    # 동영상 로드\n",
    "    video = VideoFileClip(video_path)\n",
    "\n",
    "    # 음성 파일로 저장\n",
    "\n",
    "    audio_path.append(f\"extracted_audio{i+1}.mp3\")\n",
    "    video.audio.write_audiofile(audio_path[i])\n",
    "\n",
    "    print(f\"음성 파일이 {audio_path[i]}에 저장되었습니다.\")"
   ]
  },
  {
   "cell_type": "code",
   "execution_count": 31,
   "metadata": {},
   "outputs": [],
   "source": [
    "from moviepy.editor import AudioFileClip\n",
    "import os"
   ]
  },
  {
   "cell_type": "code",
   "execution_count": 34,
   "metadata": {},
   "outputs": [
    {
     "name": "stdout",
     "output_type": "stream",
     "text": [
      "Converting: y2mate.com - 초등 수학 개념잡기  01강 네자리수와 큰 수001_360P.mp4 -> ./ebs_audio/y2mate.com - 초등 수학 개념잡기  01강 네자리수와 큰 수001_360P.mp3\n",
      "MoviePy - Writing audio in ./ebs_audio/y2mate.com - 초등 수학 개념잡기  01강 네자리수와 큰 수001_360P.mp3\n"
     ]
    },
    {
     "name": "stderr",
     "output_type": "stream",
     "text": [
      "                                                                      \r"
     ]
    },
    {
     "name": "stdout",
     "output_type": "stream",
     "text": [
      "MoviePy - Done.\n",
      "Converting: y2mate.com - 초등 수학 개념잡기  01강 네자리수와 큰 수002_360P.mp4 -> ./ebs_audio/y2mate.com - 초등 수학 개념잡기  01강 네자리수와 큰 수002_360P.mp3\n",
      "MoviePy - Writing audio in ./ebs_audio/y2mate.com - 초등 수학 개념잡기  01강 네자리수와 큰 수002_360P.mp3\n"
     ]
    },
    {
     "name": "stderr",
     "output_type": "stream",
     "text": [
      "                                                                      \r"
     ]
    },
    {
     "name": "stdout",
     "output_type": "stream",
     "text": [
      "MoviePy - Done.\n",
      "Converting: y2mate.com - 초등 수학 개념잡기  01강 네자리수와 큰 수003_360P.mp4 -> ./ebs_audio/y2mate.com - 초등 수학 개념잡기  01강 네자리수와 큰 수003_360P.mp3\n",
      "MoviePy - Writing audio in ./ebs_audio/y2mate.com - 초등 수학 개념잡기  01강 네자리수와 큰 수003_360P.mp3\n"
     ]
    },
    {
     "name": "stderr",
     "output_type": "stream",
     "text": [
      "                                                                      \r"
     ]
    },
    {
     "name": "stdout",
     "output_type": "stream",
     "text": [
      "MoviePy - Done.\n",
      "Converting: y2mate.com - 초등 수학 개념잡기  01강 네자리수와 큰 수004_360P.mp4 -> ./ebs_audio/y2mate.com - 초등 수학 개념잡기  01강 네자리수와 큰 수004_360P.mp3\n",
      "MoviePy - Writing audio in ./ebs_audio/y2mate.com - 초등 수학 개념잡기  01강 네자리수와 큰 수004_360P.mp3\n"
     ]
    },
    {
     "name": "stderr",
     "output_type": "stream",
     "text": [
      "                                                                      \r"
     ]
    },
    {
     "name": "stdout",
     "output_type": "stream",
     "text": [
      "MoviePy - Done.\n",
      "Converting: y2mate.com - 초등 수학 개념잡기  02강 덧셈과 뺄셈의 여러가지 방법001_360P.mp4 -> ./ebs_audio/y2mate.com - 초등 수학 개념잡기  02강 덧셈과 뺄셈의 여러가지 방법001_360P.mp3\n",
      "MoviePy - Writing audio in ./ebs_audio/y2mate.com - 초등 수학 개념잡기  02강 덧셈과 뺄셈의 여러가지 방법001_360P.mp3\n"
     ]
    },
    {
     "name": "stderr",
     "output_type": "stream",
     "text": [
      "                                                                      \r"
     ]
    },
    {
     "name": "stdout",
     "output_type": "stream",
     "text": [
      "MoviePy - Done.\n",
      "Converting: y2mate.com - 초등 수학 개념잡기  02강 덧셈과 뺄셈의 여러가지 방법002_360P.mp4 -> ./ebs_audio/y2mate.com - 초등 수학 개념잡기  02강 덧셈과 뺄셈의 여러가지 방법002_360P.mp3\n",
      "MoviePy - Writing audio in ./ebs_audio/y2mate.com - 초등 수학 개념잡기  02강 덧셈과 뺄셈의 여러가지 방법002_360P.mp3\n"
     ]
    },
    {
     "name": "stderr",
     "output_type": "stream",
     "text": [
      "                                                                      \r"
     ]
    },
    {
     "name": "stdout",
     "output_type": "stream",
     "text": [
      "MoviePy - Done.\n",
      "Converting: y2mate.com - 초등 수학 개념잡기  02강 덧셈과 뺄셈의 여러가지 방법003_360P.mp4 -> ./ebs_audio/y2mate.com - 초등 수학 개념잡기  02강 덧셈과 뺄셈의 여러가지 방법003_360P.mp3\n",
      "MoviePy - Writing audio in ./ebs_audio/y2mate.com - 초등 수학 개념잡기  02강 덧셈과 뺄셈의 여러가지 방법003_360P.mp3\n"
     ]
    },
    {
     "name": "stderr",
     "output_type": "stream",
     "text": [
      "                                                                      \r"
     ]
    },
    {
     "name": "stdout",
     "output_type": "stream",
     "text": [
      "MoviePy - Done.\n",
      "Converting: y2mate.com - 초등 수학 개념잡기  02강 덧셈과 뺄셈의 여러가지 방법004_360P.mp4 -> ./ebs_audio/y2mate.com - 초등 수학 개념잡기  02강 덧셈과 뺄셈의 여러가지 방법004_360P.mp3\n",
      "MoviePy - Writing audio in ./ebs_audio/y2mate.com - 초등 수학 개념잡기  02강 덧셈과 뺄셈의 여러가지 방법004_360P.mp3\n"
     ]
    },
    {
     "name": "stderr",
     "output_type": "stream",
     "text": [
      "                                                                      \r"
     ]
    },
    {
     "name": "stdout",
     "output_type": "stream",
     "text": [
      "MoviePy - Done.\n",
      "Converting: y2mate.com - 초등 수학 개념잡기  03강 곱셈의 계산 원리001_360P.mp4 -> ./ebs_audio/y2mate.com - 초등 수학 개념잡기  03강 곱셈의 계산 원리001_360P.mp3\n",
      "MoviePy - Writing audio in ./ebs_audio/y2mate.com - 초등 수학 개념잡기  03강 곱셈의 계산 원리001_360P.mp3\n"
     ]
    },
    {
     "name": "stderr",
     "output_type": "stream",
     "text": [
      "                                                                      \r"
     ]
    },
    {
     "name": "stdout",
     "output_type": "stream",
     "text": [
      "MoviePy - Done.\n",
      "Converting: y2mate.com - 초등 수학 개념잡기  03강 곱셈의 계산 원리002_360p.mp4 -> ./ebs_audio/y2mate.com - 초등 수학 개념잡기  03강 곱셈의 계산 원리002_360p.mp3\n",
      "MoviePy - Writing audio in ./ebs_audio/y2mate.com - 초등 수학 개념잡기  03강 곱셈의 계산 원리002_360p.mp3\n"
     ]
    },
    {
     "name": "stderr",
     "output_type": "stream",
     "text": [
      "                                                                      \r"
     ]
    },
    {
     "name": "stdout",
     "output_type": "stream",
     "text": [
      "MoviePy - Done.\n",
      "Converting: y2mate.com - 초등 수학 개념잡기  03강 곱셈의 계산 원리003_360p.mp4 -> ./ebs_audio/y2mate.com - 초등 수학 개념잡기  03강 곱셈의 계산 원리003_360p.mp3\n",
      "MoviePy - Writing audio in ./ebs_audio/y2mate.com - 초등 수학 개념잡기  03강 곱셈의 계산 원리003_360p.mp3\n"
     ]
    },
    {
     "name": "stderr",
     "output_type": "stream",
     "text": [
      "                                                                      \r"
     ]
    },
    {
     "name": "stdout",
     "output_type": "stream",
     "text": [
      "MoviePy - Done.\n",
      "Converting: y2mate.com - 초등 수학 개념잡기  03강 곱셈의 계산 원리004_360P.mp4 -> ./ebs_audio/y2mate.com - 초등 수학 개념잡기  03강 곱셈의 계산 원리004_360P.mp3\n",
      "MoviePy - Writing audio in ./ebs_audio/y2mate.com - 초등 수학 개념잡기  03강 곱셈의 계산 원리004_360P.mp3\n"
     ]
    },
    {
     "name": "stderr",
     "output_type": "stream",
     "text": [
      "                                                                      \r"
     ]
    },
    {
     "name": "stdout",
     "output_type": "stream",
     "text": [
      "MoviePy - Done.\n",
      "Converting: y2mate.com - 초등 수학 개념잡기  04강 나눗셈의 원리    001_360P.mp4 -> ./ebs_audio/y2mate.com - 초등 수학 개념잡기  04강 나눗셈의 원리    001_360P.mp3\n",
      "MoviePy - Writing audio in ./ebs_audio/y2mate.com - 초등 수학 개념잡기  04강 나눗셈의 원리    001_360P.mp3\n"
     ]
    },
    {
     "name": "stderr",
     "output_type": "stream",
     "text": [
      "                                                                      \r"
     ]
    },
    {
     "name": "stdout",
     "output_type": "stream",
     "text": [
      "MoviePy - Done.\n",
      "Converting: y2mate.com - 초등 수학 개념잡기  04강 나눗셈의 원리    002_360P.mp4 -> ./ebs_audio/y2mate.com - 초등 수학 개념잡기  04강 나눗셈의 원리    002_360P.mp3\n",
      "MoviePy - Writing audio in ./ebs_audio/y2mate.com - 초등 수학 개념잡기  04강 나눗셈의 원리    002_360P.mp3\n"
     ]
    },
    {
     "name": "stderr",
     "output_type": "stream",
     "text": [
      "                                                                      \r"
     ]
    },
    {
     "name": "stdout",
     "output_type": "stream",
     "text": [
      "MoviePy - Done.\n",
      "Converting: y2mate.com - 초등 수학 개념잡기  04강 나눗셈의 원리    003_360P.mp4 -> ./ebs_audio/y2mate.com - 초등 수학 개념잡기  04강 나눗셈의 원리    003_360P.mp3\n",
      "MoviePy - Writing audio in ./ebs_audio/y2mate.com - 초등 수학 개념잡기  04강 나눗셈의 원리    003_360P.mp3\n"
     ]
    },
    {
     "name": "stderr",
     "output_type": "stream",
     "text": [
      "                                                                      \r"
     ]
    },
    {
     "name": "stdout",
     "output_type": "stream",
     "text": [
      "MoviePy - Done.\n",
      "Converting: y2mate.com - 초등 수학 개념잡기  04강 나눗셈의 원리    004_360P.mp4 -> ./ebs_audio/y2mate.com - 초등 수학 개념잡기  04강 나눗셈의 원리    004_360P.mp3\n",
      "MoviePy - Writing audio in ./ebs_audio/y2mate.com - 초등 수학 개념잡기  04강 나눗셈의 원리    004_360P.mp3\n"
     ]
    },
    {
     "name": "stderr",
     "output_type": "stream",
     "text": [
      "                                                                      \r"
     ]
    },
    {
     "name": "stdout",
     "output_type": "stream",
     "text": [
      "MoviePy - Done.\n",
      "Converting: y2mate.com - 초등 수학 개념잡기  05강 혼합계산의 원리   001_360P.mp4 -> ./ebs_audio/y2mate.com - 초등 수학 개념잡기  05강 혼합계산의 원리   001_360P.mp3\n",
      "MoviePy - Writing audio in ./ebs_audio/y2mate.com - 초등 수학 개념잡기  05강 혼합계산의 원리   001_360P.mp3\n"
     ]
    },
    {
     "name": "stderr",
     "output_type": "stream",
     "text": [
      "                                                                      \r"
     ]
    },
    {
     "name": "stdout",
     "output_type": "stream",
     "text": [
      "MoviePy - Done.\n",
      "Converting: y2mate.com - 초등 수학 개념잡기  05강 혼합계산의 원리   002_360P.mp4 -> ./ebs_audio/y2mate.com - 초등 수학 개념잡기  05강 혼합계산의 원리   002_360P.mp3\n",
      "MoviePy - Writing audio in ./ebs_audio/y2mate.com - 초등 수학 개념잡기  05강 혼합계산의 원리   002_360P.mp3\n"
     ]
    },
    {
     "name": "stderr",
     "output_type": "stream",
     "text": [
      "                                                                      \r"
     ]
    },
    {
     "name": "stdout",
     "output_type": "stream",
     "text": [
      "MoviePy - Done.\n",
      "Converting: y2mate.com - 초등 수학 개념잡기  05강 혼합계산의 원리   003_360P.mp4 -> ./ebs_audio/y2mate.com - 초등 수학 개념잡기  05강 혼합계산의 원리   003_360P.mp3\n",
      "MoviePy - Writing audio in ./ebs_audio/y2mate.com - 초등 수학 개념잡기  05강 혼합계산의 원리   003_360P.mp3\n"
     ]
    },
    {
     "name": "stderr",
     "output_type": "stream",
     "text": [
      "                                                                      \r"
     ]
    },
    {
     "name": "stdout",
     "output_type": "stream",
     "text": [
      "MoviePy - Done.\n",
      "Converting: y2mate.com - 초등 수학 개념잡기  05강 혼합계산의 원리   004_360P.mp4 -> ./ebs_audio/y2mate.com - 초등 수학 개념잡기  05강 혼합계산의 원리   004_360P.mp3\n",
      "MoviePy - Writing audio in ./ebs_audio/y2mate.com - 초등 수학 개념잡기  05강 혼합계산의 원리   004_360P.mp3\n"
     ]
    },
    {
     "name": "stderr",
     "output_type": "stream",
     "text": [
      "                                                                      \r"
     ]
    },
    {
     "name": "stdout",
     "output_type": "stream",
     "text": [
      "MoviePy - Done.\n",
      "Converting: y2mate.com - 초등 수학 개념잡기  06강 분수 이해하기   001_360P.mp4 -> ./ebs_audio/y2mate.com - 초등 수학 개념잡기  06강 분수 이해하기   001_360P.mp3\n",
      "MoviePy - Writing audio in ./ebs_audio/y2mate.com - 초등 수학 개념잡기  06강 분수 이해하기   001_360P.mp3\n"
     ]
    },
    {
     "name": "stderr",
     "output_type": "stream",
     "text": [
      "                                                                      \r"
     ]
    },
    {
     "name": "stdout",
     "output_type": "stream",
     "text": [
      "MoviePy - Done.\n",
      "Converting: y2mate.com - 초등 수학 개념잡기  06강 분수 이해하기   003_360P.mp4 -> ./ebs_audio/y2mate.com - 초등 수학 개념잡기  06강 분수 이해하기   003_360P.mp3\n",
      "MoviePy - Writing audio in ./ebs_audio/y2mate.com - 초등 수학 개념잡기  06강 분수 이해하기   003_360P.mp3\n"
     ]
    },
    {
     "name": "stderr",
     "output_type": "stream",
     "text": [
      "                                                                      \r"
     ]
    },
    {
     "name": "stdout",
     "output_type": "stream",
     "text": [
      "MoviePy - Done.\n",
      "Converting: y2mate.com - 초등 수학 개념잡기  06강 분수 이해하기   004_360P.mp4 -> ./ebs_audio/y2mate.com - 초등 수학 개념잡기  06강 분수 이해하기   004_360P.mp3\n",
      "MoviePy - Writing audio in ./ebs_audio/y2mate.com - 초등 수학 개념잡기  06강 분수 이해하기   004_360P.mp3\n"
     ]
    },
    {
     "name": "stderr",
     "output_type": "stream",
     "text": [
      "                                                                      \r"
     ]
    },
    {
     "name": "stdout",
     "output_type": "stream",
     "text": [
      "MoviePy - Done.\n",
      "Converting: y2mate.com - 초등 수학 개념잡기  07강 소수 이해하기   001_360P.mp4 -> ./ebs_audio/y2mate.com - 초등 수학 개념잡기  07강 소수 이해하기   001_360P.mp3\n",
      "MoviePy - Writing audio in ./ebs_audio/y2mate.com - 초등 수학 개념잡기  07강 소수 이해하기   001_360P.mp3\n"
     ]
    },
    {
     "name": "stderr",
     "output_type": "stream",
     "text": [
      "                                                                      \r"
     ]
    },
    {
     "name": "stdout",
     "output_type": "stream",
     "text": [
      "MoviePy - Done.\n",
      "Converting: y2mate.com - 초등 수학 개념잡기  07강 소수 이해하기   002_360P.mp4 -> ./ebs_audio/y2mate.com - 초등 수학 개념잡기  07강 소수 이해하기   002_360P.mp3\n",
      "MoviePy - Writing audio in ./ebs_audio/y2mate.com - 초등 수학 개념잡기  07강 소수 이해하기   002_360P.mp3\n"
     ]
    },
    {
     "name": "stderr",
     "output_type": "stream",
     "text": [
      "                                                                      \r"
     ]
    },
    {
     "name": "stdout",
     "output_type": "stream",
     "text": [
      "MoviePy - Done.\n",
      "Converting: y2mate.com - 초등 수학 개념잡기  07강 소수 이해하기   003_360p.mp4 -> ./ebs_audio/y2mate.com - 초등 수학 개념잡기  07강 소수 이해하기   003_360p.mp3\n",
      "MoviePy - Writing audio in ./ebs_audio/y2mate.com - 초등 수학 개념잡기  07강 소수 이해하기   003_360p.mp3\n"
     ]
    },
    {
     "name": "stderr",
     "output_type": "stream",
     "text": [
      "                                                                      \r"
     ]
    },
    {
     "name": "stdout",
     "output_type": "stream",
     "text": [
      "MoviePy - Done.\n",
      "Converting: y2mate.com - 초등 수학 개념잡기  07강 소수 이해하기   004_360P.mp4 -> ./ebs_audio/y2mate.com - 초등 수학 개념잡기  07강 소수 이해하기   004_360P.mp3\n",
      "MoviePy - Writing audio in ./ebs_audio/y2mate.com - 초등 수학 개념잡기  07강 소수 이해하기   004_360P.mp3\n"
     ]
    },
    {
     "name": "stderr",
     "output_type": "stream",
     "text": [
      "                                                                      \r"
     ]
    },
    {
     "name": "stdout",
     "output_type": "stream",
     "text": [
      "MoviePy - Done.\n",
      "Converting: y2mate.com - 초등 수학 개념잡기  08강 분수의 덧셈과 뺄셈 원리    001_360P.mp4 -> ./ebs_audio/y2mate.com - 초등 수학 개념잡기  08강 분수의 덧셈과 뺄셈 원리    001_360P.mp3\n",
      "MoviePy - Writing audio in ./ebs_audio/y2mate.com - 초등 수학 개념잡기  08강 분수의 덧셈과 뺄셈 원리    001_360P.mp3\n"
     ]
    },
    {
     "name": "stderr",
     "output_type": "stream",
     "text": [
      "                                                                      \r"
     ]
    },
    {
     "name": "stdout",
     "output_type": "stream",
     "text": [
      "MoviePy - Done.\n",
      "Converting: y2mate.com - 초등 수학 개념잡기  08강 분수의 덧셈과 뺄셈 원리    002_360P.mp4 -> ./ebs_audio/y2mate.com - 초등 수학 개념잡기  08강 분수의 덧셈과 뺄셈 원리    002_360P.mp3\n",
      "MoviePy - Writing audio in ./ebs_audio/y2mate.com - 초등 수학 개념잡기  08강 분수의 덧셈과 뺄셈 원리    002_360P.mp3\n"
     ]
    },
    {
     "name": "stderr",
     "output_type": "stream",
     "text": [
      "                                                                      \r"
     ]
    },
    {
     "name": "stdout",
     "output_type": "stream",
     "text": [
      "MoviePy - Done.\n",
      "Converting: y2mate.com - 초등 수학 개념잡기  08강 분수의 덧셈과 뺄셈 원리    003_360P.mp4 -> ./ebs_audio/y2mate.com - 초등 수학 개념잡기  08강 분수의 덧셈과 뺄셈 원리    003_360P.mp3\n",
      "MoviePy - Writing audio in ./ebs_audio/y2mate.com - 초등 수학 개념잡기  08강 분수의 덧셈과 뺄셈 원리    003_360P.mp3\n"
     ]
    },
    {
     "name": "stderr",
     "output_type": "stream",
     "text": [
      "                                                                      \r"
     ]
    },
    {
     "name": "stdout",
     "output_type": "stream",
     "text": [
      "MoviePy - Done.\n",
      "Converting: y2mate.com - 초등 수학 개념잡기  08강 분수의 덧셈과 뺄셈 원리    004_360p.mp4 -> ./ebs_audio/y2mate.com - 초등 수학 개념잡기  08강 분수의 덧셈과 뺄셈 원리    004_360p.mp3\n",
      "MoviePy - Writing audio in ./ebs_audio/y2mate.com - 초등 수학 개념잡기  08강 분수의 덧셈과 뺄셈 원리    004_360p.mp3\n"
     ]
    },
    {
     "name": "stderr",
     "output_type": "stream",
     "text": [
      "                                                                      \r"
     ]
    },
    {
     "name": "stdout",
     "output_type": "stream",
     "text": [
      "MoviePy - Done.\n",
      "Converting: y2mate.com - 초등 수학 개념잡기  09강 소수의 덧셈과 뺄셈의 원리    001_360P.mp4 -> ./ebs_audio/y2mate.com - 초등 수학 개념잡기  09강 소수의 덧셈과 뺄셈의 원리    001_360P.mp3\n",
      "MoviePy - Writing audio in ./ebs_audio/y2mate.com - 초등 수학 개념잡기  09강 소수의 덧셈과 뺄셈의 원리    001_360P.mp3\n"
     ]
    },
    {
     "name": "stderr",
     "output_type": "stream",
     "text": [
      "                                                                      \r"
     ]
    },
    {
     "name": "stdout",
     "output_type": "stream",
     "text": [
      "MoviePy - Done.\n",
      "Converting: y2mate.com - 초등 수학 개념잡기  09강 소수의 덧셈과 뺄셈의 원리    002_360P.mp4 -> ./ebs_audio/y2mate.com - 초등 수학 개념잡기  09강 소수의 덧셈과 뺄셈의 원리    002_360P.mp3\n",
      "MoviePy - Writing audio in ./ebs_audio/y2mate.com - 초등 수학 개념잡기  09강 소수의 덧셈과 뺄셈의 원리    002_360P.mp3\n"
     ]
    },
    {
     "name": "stderr",
     "output_type": "stream",
     "text": [
      "                                                                      \r"
     ]
    },
    {
     "name": "stdout",
     "output_type": "stream",
     "text": [
      "MoviePy - Done.\n",
      "Converting: y2mate.com - 초등 수학 개념잡기  09강 소수의 덧셈과 뺄셈의 원리    003_360P.mp4 -> ./ebs_audio/y2mate.com - 초등 수학 개념잡기  09강 소수의 덧셈과 뺄셈의 원리    003_360P.mp3\n",
      "MoviePy - Writing audio in ./ebs_audio/y2mate.com - 초등 수학 개념잡기  09강 소수의 덧셈과 뺄셈의 원리    003_360P.mp3\n"
     ]
    },
    {
     "name": "stderr",
     "output_type": "stream",
     "text": [
      "                                                                      \r"
     ]
    },
    {
     "name": "stdout",
     "output_type": "stream",
     "text": [
      "MoviePy - Done.\n",
      "Converting: y2mate.com - 초등 수학 개념잡기  09강 소수의 덧셈과 뺄셈의 원리    004_360P.mp4 -> ./ebs_audio/y2mate.com - 초등 수학 개념잡기  09강 소수의 덧셈과 뺄셈의 원리    004_360P.mp3\n",
      "MoviePy - Writing audio in ./ebs_audio/y2mate.com - 초등 수학 개념잡기  09강 소수의 덧셈과 뺄셈의 원리    004_360P.mp3\n"
     ]
    },
    {
     "name": "stderr",
     "output_type": "stream",
     "text": [
      "                                                                      \r"
     ]
    },
    {
     "name": "stdout",
     "output_type": "stream",
     "text": [
      "MoviePy - Done.\n",
      "Converting: y2mate.com - 초등 수학 개념잡기  10강 평면도형 알아보기   001_360P.mp4 -> ./ebs_audio/y2mate.com - 초등 수학 개념잡기  10강 평면도형 알아보기   001_360P.mp3\n",
      "MoviePy - Writing audio in ./ebs_audio/y2mate.com - 초등 수학 개념잡기  10강 평면도형 알아보기   001_360P.mp3\n"
     ]
    },
    {
     "name": "stderr",
     "output_type": "stream",
     "text": [
      "                                                                      \r"
     ]
    },
    {
     "name": "stdout",
     "output_type": "stream",
     "text": [
      "MoviePy - Done.\n",
      "Converting: y2mate.com - 초등 수학 개념잡기  10강 평면도형 알아보기   002_360P.mp4 -> ./ebs_audio/y2mate.com - 초등 수학 개념잡기  10강 평면도형 알아보기   002_360P.mp3\n",
      "MoviePy - Writing audio in ./ebs_audio/y2mate.com - 초등 수학 개념잡기  10강 평면도형 알아보기   002_360P.mp3\n"
     ]
    },
    {
     "name": "stderr",
     "output_type": "stream",
     "text": [
      "                                                                      \r"
     ]
    },
    {
     "name": "stdout",
     "output_type": "stream",
     "text": [
      "MoviePy - Done.\n",
      "Converting: y2mate.com - 초등 수학 개념잡기  10강 평면도형 알아보기   004_360P.mp4 -> ./ebs_audio/y2mate.com - 초등 수학 개념잡기  10강 평면도형 알아보기   004_360P.mp3\n",
      "MoviePy - Writing audio in ./ebs_audio/y2mate.com - 초등 수학 개념잡기  10강 평면도형 알아보기   004_360P.mp3\n"
     ]
    },
    {
     "name": "stderr",
     "output_type": "stream",
     "text": [
      "                                                                      \r"
     ]
    },
    {
     "name": "stdout",
     "output_type": "stream",
     "text": [
      "MoviePy - Done.\n",
      "Converting: y2mate.com - 초등 수학 개념잡기  11강 평면도형의 이동과 무늬 만들기    001_360P.mp4 -> ./ebs_audio/y2mate.com - 초등 수학 개념잡기  11강 평면도형의 이동과 무늬 만들기    001_360P.mp3\n",
      "MoviePy - Writing audio in ./ebs_audio/y2mate.com - 초등 수학 개념잡기  11강 평면도형의 이동과 무늬 만들기    001_360P.mp3\n"
     ]
    },
    {
     "name": "stderr",
     "output_type": "stream",
     "text": [
      "                                                                      \r"
     ]
    },
    {
     "name": "stdout",
     "output_type": "stream",
     "text": [
      "MoviePy - Done.\n",
      "Converting: y2mate.com - 초등 수학 개념잡기  11강 평면도형의 이동과 무늬 만들기    003_360P.mp4 -> ./ebs_audio/y2mate.com - 초등 수학 개념잡기  11강 평면도형의 이동과 무늬 만들기    003_360P.mp3\n",
      "MoviePy - Writing audio in ./ebs_audio/y2mate.com - 초등 수학 개념잡기  11강 평면도형의 이동과 무늬 만들기    003_360P.mp3\n"
     ]
    },
    {
     "name": "stderr",
     "output_type": "stream",
     "text": [
      "                                                                      \r"
     ]
    },
    {
     "name": "stdout",
     "output_type": "stream",
     "text": [
      "MoviePy - Done.\n",
      "Converting: y2mate.com - 초등 수학 개념잡기  11강 평면도형의 이동과 무늬 만들기    004_360P.mp4 -> ./ebs_audio/y2mate.com - 초등 수학 개념잡기  11강 평면도형의 이동과 무늬 만들기    004_360P.mp3\n",
      "MoviePy - Writing audio in ./ebs_audio/y2mate.com - 초등 수학 개념잡기  11강 평면도형의 이동과 무늬 만들기    004_360P.mp3\n"
     ]
    },
    {
     "name": "stderr",
     "output_type": "stream",
     "text": [
      "                                                                      \r"
     ]
    },
    {
     "name": "stdout",
     "output_type": "stream",
     "text": [
      "MoviePy - Done.\n",
      "Converting: y2mate.com - 초등 수학 개념잡기  12강 원 알아보기   001_360P.mp4 -> ./ebs_audio/y2mate.com - 초등 수학 개념잡기  12강 원 알아보기   001_360P.mp3\n",
      "MoviePy - Writing audio in ./ebs_audio/y2mate.com - 초등 수학 개념잡기  12강 원 알아보기   001_360P.mp3\n"
     ]
    },
    {
     "name": "stderr",
     "output_type": "stream",
     "text": [
      "                                                                      \r"
     ]
    },
    {
     "name": "stdout",
     "output_type": "stream",
     "text": [
      "MoviePy - Done.\n",
      "Converting: y2mate.com - 초등 수학 개념잡기  12강 원 알아보기   003_360P.mp4 -> ./ebs_audio/y2mate.com - 초등 수학 개념잡기  12강 원 알아보기   003_360P.mp3\n",
      "MoviePy - Writing audio in ./ebs_audio/y2mate.com - 초등 수학 개념잡기  12강 원 알아보기   003_360P.mp3\n"
     ]
    },
    {
     "name": "stderr",
     "output_type": "stream",
     "text": [
      "                                                                      \r"
     ]
    },
    {
     "name": "stdout",
     "output_type": "stream",
     "text": [
      "MoviePy - Done.\n",
      "Converting: y2mate.com - 초등 수학 개념잡기  12강 원 알아보기   004_360P.mp4 -> ./ebs_audio/y2mate.com - 초등 수학 개념잡기  12강 원 알아보기   004_360P.mp3\n",
      "MoviePy - Writing audio in ./ebs_audio/y2mate.com - 초등 수학 개념잡기  12강 원 알아보기   004_360P.mp3\n"
     ]
    },
    {
     "name": "stderr",
     "output_type": "stream",
     "text": [
      "                                                                      \r"
     ]
    },
    {
     "name": "stdout",
     "output_type": "stream",
     "text": [
      "MoviePy - Done.\n",
      "Converting: y2mate.com - 초등 수학 개념잡기  13강 삼각형 알아보기   002_360P.mp4 -> ./ebs_audio/y2mate.com - 초등 수학 개념잡기  13강 삼각형 알아보기   002_360P.mp3\n",
      "MoviePy - Writing audio in ./ebs_audio/y2mate.com - 초등 수학 개념잡기  13강 삼각형 알아보기   002_360P.mp3\n"
     ]
    },
    {
     "name": "stderr",
     "output_type": "stream",
     "text": [
      "                                                                      \r"
     ]
    },
    {
     "name": "stdout",
     "output_type": "stream",
     "text": [
      "MoviePy - Done.\n",
      "Converting: y2mate.com - 초등 수학 개념잡기  13강 삼각형 알아보기   004_360P.mp4 -> ./ebs_audio/y2mate.com - 초등 수학 개념잡기  13강 삼각형 알아보기   004_360P.mp3\n",
      "MoviePy - Writing audio in ./ebs_audio/y2mate.com - 초등 수학 개념잡기  13강 삼각형 알아보기   004_360P.mp3\n"
     ]
    },
    {
     "name": "stderr",
     "output_type": "stream",
     "text": [
      "                                                                      \r"
     ]
    },
    {
     "name": "stdout",
     "output_type": "stream",
     "text": [
      "MoviePy - Done.\n",
      "Converting: y2mate.com - 초등 수학 개념잡기  14강 수직과 평행   002_360P.mp4 -> ./ebs_audio/y2mate.com - 초등 수학 개념잡기  14강 수직과 평행   002_360P.mp3\n",
      "MoviePy - Writing audio in ./ebs_audio/y2mate.com - 초등 수학 개념잡기  14강 수직과 평행   002_360P.mp3\n"
     ]
    },
    {
     "name": "stderr",
     "output_type": "stream",
     "text": [
      "                                                                      \r"
     ]
    },
    {
     "name": "stdout",
     "output_type": "stream",
     "text": [
      "MoviePy - Done.\n",
      "Converting: y2mate.com - 초등 수학 개념잡기  14강 수직과 평행   004_360P.mp4 -> ./ebs_audio/y2mate.com - 초등 수학 개념잡기  14강 수직과 평행   004_360P.mp3\n",
      "MoviePy - Writing audio in ./ebs_audio/y2mate.com - 초등 수학 개념잡기  14강 수직과 평행   004_360P.mp3\n"
     ]
    },
    {
     "name": "stderr",
     "output_type": "stream",
     "text": [
      "                                                                      \r"
     ]
    },
    {
     "name": "stdout",
     "output_type": "stream",
     "text": [
      "MoviePy - Done.\n",
      "Converting: y2mate.com - 초등 수학 개념잡기  15강 사각형과 다각형 알아보기   001_360P.mp4 -> ./ebs_audio/y2mate.com - 초등 수학 개념잡기  15강 사각형과 다각형 알아보기   001_360P.mp3\n",
      "MoviePy - Writing audio in ./ebs_audio/y2mate.com - 초등 수학 개념잡기  15강 사각형과 다각형 알아보기   001_360P.mp3\n"
     ]
    },
    {
     "name": "stderr",
     "output_type": "stream",
     "text": [
      "                                                                      \r"
     ]
    },
    {
     "name": "stdout",
     "output_type": "stream",
     "text": [
      "MoviePy - Done.\n",
      "Converting: y2mate.com - 초등 수학 개념잡기  15강 사각형과 다각형 알아보기   002_360P.mp4 -> ./ebs_audio/y2mate.com - 초등 수학 개념잡기  15강 사각형과 다각형 알아보기   002_360P.mp3\n",
      "MoviePy - Writing audio in ./ebs_audio/y2mate.com - 초등 수학 개념잡기  15강 사각형과 다각형 알아보기   002_360P.mp3\n"
     ]
    },
    {
     "name": "stderr",
     "output_type": "stream",
     "text": [
      "                                                                      \r"
     ]
    },
    {
     "name": "stdout",
     "output_type": "stream",
     "text": [
      "MoviePy - Done.\n",
      "Converting: y2mate.com - 초등 수학 개념잡기  15강 사각형과 다각형 알아보기   004_360P.mp4 -> ./ebs_audio/y2mate.com - 초등 수학 개념잡기  15강 사각형과 다각형 알아보기   004_360P.mp3\n",
      "MoviePy - Writing audio in ./ebs_audio/y2mate.com - 초등 수학 개념잡기  15강 사각형과 다각형 알아보기   004_360P.mp3\n"
     ]
    },
    {
     "name": "stderr",
     "output_type": "stream",
     "text": [
      "                                                                      \r"
     ]
    },
    {
     "name": "stdout",
     "output_type": "stream",
     "text": [
      "MoviePy - Done.\n",
      "Converting: y2mate.com - 초등 수학 개념잡기  16강 길이와 시간 알고 합과 차 구하기  001_360P.mp4 -> ./ebs_audio/y2mate.com - 초등 수학 개념잡기  16강 길이와 시간 알고 합과 차 구하기  001_360P.mp3\n",
      "MoviePy - Writing audio in ./ebs_audio/y2mate.com - 초등 수학 개념잡기  16강 길이와 시간 알고 합과 차 구하기  001_360P.mp3\n"
     ]
    },
    {
     "name": "stderr",
     "output_type": "stream",
     "text": [
      "                                                                      \r"
     ]
    },
    {
     "name": "stdout",
     "output_type": "stream",
     "text": [
      "MoviePy - Done.\n",
      "Converting: y2mate.com - 초등 수학 개념잡기  16강 길이와 시간 알고 합과 차 구하기  002_360P.mp4 -> ./ebs_audio/y2mate.com - 초등 수학 개념잡기  16강 길이와 시간 알고 합과 차 구하기  002_360P.mp3\n",
      "MoviePy - Writing audio in ./ebs_audio/y2mate.com - 초등 수학 개념잡기  16강 길이와 시간 알고 합과 차 구하기  002_360P.mp3\n"
     ]
    },
    {
     "name": "stderr",
     "output_type": "stream",
     "text": [
      "                                                                      \r"
     ]
    },
    {
     "name": "stdout",
     "output_type": "stream",
     "text": [
      "MoviePy - Done.\n",
      "Converting: y2mate.com - 초등 수학 개념잡기  16강 길이와 시간 알고 합과 차 구하기  003_360p.mp4 -> ./ebs_audio/y2mate.com - 초등 수학 개념잡기  16강 길이와 시간 알고 합과 차 구하기  003_360p.mp3\n",
      "MoviePy - Writing audio in ./ebs_audio/y2mate.com - 초등 수학 개념잡기  16강 길이와 시간 알고 합과 차 구하기  003_360p.mp3\n"
     ]
    },
    {
     "name": "stderr",
     "output_type": "stream",
     "text": [
      "                                                                      \r"
     ]
    },
    {
     "name": "stdout",
     "output_type": "stream",
     "text": [
      "MoviePy - Done.\n",
      "Converting: y2mate.com - 초등 수학 개념잡기  16강 길이와 시간 알고 합과 차 구하기  004_360P.mp4 -> ./ebs_audio/y2mate.com - 초등 수학 개념잡기  16강 길이와 시간 알고 합과 차 구하기  004_360P.mp3\n",
      "MoviePy - Writing audio in ./ebs_audio/y2mate.com - 초등 수학 개념잡기  16강 길이와 시간 알고 합과 차 구하기  004_360P.mp3\n"
     ]
    },
    {
     "name": "stderr",
     "output_type": "stream",
     "text": [
      "                                                                      \r"
     ]
    },
    {
     "name": "stdout",
     "output_type": "stream",
     "text": [
      "MoviePy - Done.\n",
      "Converting: y2mate.com - 초등 수학 개념잡기  17강 들이와 무게 알고 합과 차 구하기   003_360P.mp4 -> ./ebs_audio/y2mate.com - 초등 수학 개념잡기  17강 들이와 무게 알고 합과 차 구하기   003_360P.mp3\n",
      "MoviePy - Writing audio in ./ebs_audio/y2mate.com - 초등 수학 개념잡기  17강 들이와 무게 알고 합과 차 구하기   003_360P.mp3\n"
     ]
    },
    {
     "name": "stderr",
     "output_type": "stream",
     "text": [
      "                                                                      \r"
     ]
    },
    {
     "name": "stdout",
     "output_type": "stream",
     "text": [
      "MoviePy - Done.\n",
      "Converting: y2mate.com - 초등 수학 개념잡기  17강 들이와 무게 알고 합과 차 구하기   004_360P.mp4 -> ./ebs_audio/y2mate.com - 초등 수학 개념잡기  17강 들이와 무게 알고 합과 차 구하기   004_360P.mp3\n",
      "MoviePy - Writing audio in ./ebs_audio/y2mate.com - 초등 수학 개념잡기  17강 들이와 무게 알고 합과 차 구하기   004_360P.mp3\n"
     ]
    },
    {
     "name": "stderr",
     "output_type": "stream",
     "text": [
      "                                                                      \r"
     ]
    },
    {
     "name": "stdout",
     "output_type": "stream",
     "text": [
      "MoviePy - Done.\n",
      "Converting: y2mate.com - 초등 수학 개념잡기  18강 각도 알아보기   001_360P.mp4 -> ./ebs_audio/y2mate.com - 초등 수학 개념잡기  18강 각도 알아보기   001_360P.mp3\n",
      "MoviePy - Writing audio in ./ebs_audio/y2mate.com - 초등 수학 개념잡기  18강 각도 알아보기   001_360P.mp3\n"
     ]
    },
    {
     "name": "stderr",
     "output_type": "stream",
     "text": [
      "                                                                      \r"
     ]
    },
    {
     "name": "stdout",
     "output_type": "stream",
     "text": [
      "MoviePy - Done.\n",
      "Converting: y2mate.com - 초등 수학 개념잡기  18강 각도 알아보기   002_360P.mp4 -> ./ebs_audio/y2mate.com - 초등 수학 개념잡기  18강 각도 알아보기   002_360P.mp3\n",
      "MoviePy - Writing audio in ./ebs_audio/y2mate.com - 초등 수학 개념잡기  18강 각도 알아보기   002_360P.mp3\n"
     ]
    },
    {
     "name": "stderr",
     "output_type": "stream",
     "text": [
      "                                                                      \r"
     ]
    },
    {
     "name": "stdout",
     "output_type": "stream",
     "text": [
      "MoviePy - Done.\n",
      "Converting: y2mate.com - 초등 수학 개념잡기  18강 각도 알아보기   003_360P.mp4 -> ./ebs_audio/y2mate.com - 초등 수학 개념잡기  18강 각도 알아보기   003_360P.mp3\n",
      "MoviePy - Writing audio in ./ebs_audio/y2mate.com - 초등 수학 개념잡기  18강 각도 알아보기   003_360P.mp3\n"
     ]
    },
    {
     "name": "stderr",
     "output_type": "stream",
     "text": [
      "                                                                      \r"
     ]
    },
    {
     "name": "stdout",
     "output_type": "stream",
     "text": [
      "MoviePy - Done.\n",
      "Converting: y2mate.com - 초등 수학 개념잡기  19강 평면도형의 둘레와 넓이 구하기  002_360P.mp4 -> ./ebs_audio/y2mate.com - 초등 수학 개념잡기  19강 평면도형의 둘레와 넓이 구하기  002_360P.mp3\n",
      "MoviePy - Writing audio in ./ebs_audio/y2mate.com - 초등 수학 개념잡기  19강 평면도형의 둘레와 넓이 구하기  002_360P.mp3\n"
     ]
    },
    {
     "name": "stderr",
     "output_type": "stream",
     "text": [
      "                                                                      \r"
     ]
    },
    {
     "name": "stdout",
     "output_type": "stream",
     "text": [
      "MoviePy - Done.\n",
      "Converting: y2mate.com - 초등 수학 개념잡기  19강 평면도형의 둘레와 넓이 구하기  004_360p.mp4 -> ./ebs_audio/y2mate.com - 초등 수학 개념잡기  19강 평면도형의 둘레와 넓이 구하기  004_360p.mp3\n",
      "MoviePy - Writing audio in ./ebs_audio/y2mate.com - 초등 수학 개념잡기  19강 평면도형의 둘레와 넓이 구하기  004_360p.mp3\n"
     ]
    },
    {
     "name": "stderr",
     "output_type": "stream",
     "text": [
      "                                                                      \r"
     ]
    },
    {
     "name": "stdout",
     "output_type": "stream",
     "text": [
      "MoviePy - Done.\n",
      "Converting: y2mate.com - 초등 수학 개념잡기  20강 수의 범위와 어림하기1   001_360P.mp4 -> ./ebs_audio/y2mate.com - 초등 수학 개념잡기  20강 수의 범위와 어림하기1   001_360P.mp3\n",
      "MoviePy - Writing audio in ./ebs_audio/y2mate.com - 초등 수학 개념잡기  20강 수의 범위와 어림하기1   001_360P.mp3\n"
     ]
    },
    {
     "name": "stderr",
     "output_type": "stream",
     "text": [
      "                                                                      \r"
     ]
    },
    {
     "name": "stdout",
     "output_type": "stream",
     "text": [
      "MoviePy - Done.\n",
      "Converting: y2mate.com - 초등 수학 개념잡기  20강 수의 범위와 어림하기1   004_360P.mp4 -> ./ebs_audio/y2mate.com - 초등 수학 개념잡기  20강 수의 범위와 어림하기1   004_360P.mp3\n",
      "MoviePy - Writing audio in ./ebs_audio/y2mate.com - 초등 수학 개념잡기  20강 수의 범위와 어림하기1   004_360P.mp3\n"
     ]
    },
    {
     "name": "stderr",
     "output_type": "stream",
     "text": [
      "                                                                      \r"
     ]
    },
    {
     "name": "stdout",
     "output_type": "stream",
     "text": [
      "MoviePy - Done.\n",
      "Converting: y2mate.com - 초등 수학 개념잡기  21강 수의 범위와 어림하기2   001_360P.mp4 -> ./ebs_audio/y2mate.com - 초등 수학 개념잡기  21강 수의 범위와 어림하기2   001_360P.mp3\n",
      "MoviePy - Writing audio in ./ebs_audio/y2mate.com - 초등 수학 개념잡기  21강 수의 범위와 어림하기2   001_360P.mp3\n"
     ]
    },
    {
     "name": "stderr",
     "output_type": "stream",
     "text": [
      "                                                                      \r"
     ]
    },
    {
     "name": "stdout",
     "output_type": "stream",
     "text": [
      "MoviePy - Done.\n",
      "Converting: y2mate.com - 초등 수학 개념잡기  22강 자료정리의 방법    002_360P.mp4 -> ./ebs_audio/y2mate.com - 초등 수학 개념잡기  22강 자료정리의 방법    002_360P.mp3\n",
      "MoviePy - Writing audio in ./ebs_audio/y2mate.com - 초등 수학 개념잡기  22강 자료정리의 방법    002_360P.mp3\n"
     ]
    },
    {
     "name": "stderr",
     "output_type": "stream",
     "text": [
      "                                                                      \r"
     ]
    },
    {
     "name": "stdout",
     "output_type": "stream",
     "text": [
      "MoviePy - Done.\n",
      "Converting: y2mate.com - 초등 수학 개념잡기  22강 자료정리의 방법    004_360P.mp4 -> ./ebs_audio/y2mate.com - 초등 수학 개념잡기  22강 자료정리의 방법    004_360P.mp3\n",
      "MoviePy - Writing audio in ./ebs_audio/y2mate.com - 초등 수학 개념잡기  22강 자료정리의 방법    004_360P.mp3\n"
     ]
    },
    {
     "name": "stderr",
     "output_type": "stream",
     "text": [
      "                                                                      \r"
     ]
    },
    {
     "name": "stdout",
     "output_type": "stream",
     "text": [
      "MoviePy - Done.\n",
      "Converting: y2mate.com - 초등 수학 개념잡기  23강 문제 해결의 여러가지 방법 찾기1   001_360P.mp4 -> ./ebs_audio/y2mate.com - 초등 수학 개념잡기  23강 문제 해결의 여러가지 방법 찾기1   001_360P.mp3\n",
      "MoviePy - Writing audio in ./ebs_audio/y2mate.com - 초등 수학 개념잡기  23강 문제 해결의 여러가지 방법 찾기1   001_360P.mp3\n"
     ]
    },
    {
     "name": "stderr",
     "output_type": "stream",
     "text": [
      "                                                                      \r"
     ]
    },
    {
     "name": "stdout",
     "output_type": "stream",
     "text": [
      "MoviePy - Done.\n",
      "Converting: y2mate.com - 초등 수학 개념잡기  23강 문제 해결의 여러가지 방법 찾기1   002_360P.mp4 -> ./ebs_audio/y2mate.com - 초등 수학 개념잡기  23강 문제 해결의 여러가지 방법 찾기1   002_360P.mp3\n",
      "MoviePy - Writing audio in ./ebs_audio/y2mate.com - 초등 수학 개념잡기  23강 문제 해결의 여러가지 방법 찾기1   002_360P.mp3\n"
     ]
    },
    {
     "name": "stderr",
     "output_type": "stream",
     "text": [
      "                                                                      \r"
     ]
    },
    {
     "name": "stdout",
     "output_type": "stream",
     "text": [
      "MoviePy - Done.\n",
      "Converting: y2mate.com - 초등 수학 개념잡기  23강 문제 해결의 여러가지 방법 찾기1   003_360P.mp4 -> ./ebs_audio/y2mate.com - 초등 수학 개념잡기  23강 문제 해결의 여러가지 방법 찾기1   003_360P.mp3\n",
      "MoviePy - Writing audio in ./ebs_audio/y2mate.com - 초등 수학 개념잡기  23강 문제 해결의 여러가지 방법 찾기1   003_360P.mp3\n"
     ]
    },
    {
     "name": "stderr",
     "output_type": "stream",
     "text": [
      "                                                                      \r"
     ]
    },
    {
     "name": "stdout",
     "output_type": "stream",
     "text": [
      "MoviePy - Done.\n",
      "Converting: y2mate.com - 초등 수학 개념잡기  23강 문제 해결의 여러가지 방법 찾기1   004_360P.mp4 -> ./ebs_audio/y2mate.com - 초등 수학 개념잡기  23강 문제 해결의 여러가지 방법 찾기1   004_360P.mp3\n",
      "MoviePy - Writing audio in ./ebs_audio/y2mate.com - 초등 수학 개념잡기  23강 문제 해결의 여러가지 방법 찾기1   004_360P.mp3\n"
     ]
    },
    {
     "name": "stderr",
     "output_type": "stream",
     "text": [
      "                                                                      \r"
     ]
    },
    {
     "name": "stdout",
     "output_type": "stream",
     "text": [
      "MoviePy - Done.\n",
      "Converting: y2mate.com - 초등 수학 개념잡기  24강 문제 해결의 여러가지 방법 찾기2  002_360P.mp4 -> ./ebs_audio/y2mate.com - 초등 수학 개념잡기  24강 문제 해결의 여러가지 방법 찾기2  002_360P.mp3\n",
      "MoviePy - Writing audio in ./ebs_audio/y2mate.com - 초등 수학 개념잡기  24강 문제 해결의 여러가지 방법 찾기2  002_360P.mp3\n"
     ]
    },
    {
     "name": "stderr",
     "output_type": "stream",
     "text": [
      "                                                                      \r"
     ]
    },
    {
     "name": "stdout",
     "output_type": "stream",
     "text": [
      "MoviePy - Done.\n",
      "Converting: y2mate.com - 초등 수학 개념잡기  24강 문제 해결의 여러가지 방법 찾기2  003_360P.mp4 -> ./ebs_audio/y2mate.com - 초등 수학 개념잡기  24강 문제 해결의 여러가지 방법 찾기2  003_360P.mp3\n",
      "MoviePy - Writing audio in ./ebs_audio/y2mate.com - 초등 수학 개념잡기  24강 문제 해결의 여러가지 방법 찾기2  003_360P.mp3\n"
     ]
    },
    {
     "name": "stderr",
     "output_type": "stream",
     "text": [
      "                                                                      \r"
     ]
    },
    {
     "name": "stdout",
     "output_type": "stream",
     "text": [
      "MoviePy - Done.\n",
      "Converting: y2mate.com - 초등 수학 개념잡기  24강 문제 해결의 여러가지 방법 찾기2  004_360P.mp4 -> ./ebs_audio/y2mate.com - 초등 수학 개념잡기  24강 문제 해결의 여러가지 방법 찾기2  004_360P.mp3\n",
      "MoviePy - Writing audio in ./ebs_audio/y2mate.com - 초등 수학 개념잡기  24강 문제 해결의 여러가지 방법 찾기2  004_360P.mp3\n"
     ]
    },
    {
     "name": "stderr",
     "output_type": "stream",
     "text": [
      "                                                                      \r"
     ]
    },
    {
     "name": "stdout",
     "output_type": "stream",
     "text": [
      "MoviePy - Done.\n",
      "Converting: y2mate.com - 초등 수학 개념잡기  25강 약수와 배수   001_360P.mp4 -> ./ebs_audio/y2mate.com - 초등 수학 개념잡기  25강 약수와 배수   001_360P.mp3\n",
      "MoviePy - Writing audio in ./ebs_audio/y2mate.com - 초등 수학 개념잡기  25강 약수와 배수   001_360P.mp3\n"
     ]
    },
    {
     "name": "stderr",
     "output_type": "stream",
     "text": [
      "                                                                      \r"
     ]
    },
    {
     "name": "stdout",
     "output_type": "stream",
     "text": [
      "MoviePy - Done.\n",
      "Converting: y2mate.com - 초등 수학 개념잡기  25강 약수와 배수   003_360P.mp4 -> ./ebs_audio/y2mate.com - 초등 수학 개념잡기  25강 약수와 배수   003_360P.mp3\n",
      "MoviePy - Writing audio in ./ebs_audio/y2mate.com - 초등 수학 개념잡기  25강 약수와 배수   003_360P.mp3\n"
     ]
    },
    {
     "name": "stderr",
     "output_type": "stream",
     "text": [
      "                                                                      \r"
     ]
    },
    {
     "name": "stdout",
     "output_type": "stream",
     "text": [
      "MoviePy - Done.\n",
      "Converting: y2mate.com - 초등 수학 개념잡기  25강 약수와 배수   004_360P.mp4 -> ./ebs_audio/y2mate.com - 초등 수학 개념잡기  25강 약수와 배수   004_360P.mp3\n",
      "MoviePy - Writing audio in ./ebs_audio/y2mate.com - 초등 수학 개념잡기  25강 약수와 배수   004_360P.mp3\n"
     ]
    },
    {
     "name": "stderr",
     "output_type": "stream",
     "text": [
      "                                                                      \r"
     ]
    },
    {
     "name": "stdout",
     "output_type": "stream",
     "text": [
      "MoviePy - Done.\n",
      "Converting: y2mate.com - 초등 수학 개념잡기  26강 약분과 통분   002_360P.mp4 -> ./ebs_audio/y2mate.com - 초등 수학 개념잡기  26강 약분과 통분   002_360P.mp3\n",
      "MoviePy - Writing audio in ./ebs_audio/y2mate.com - 초등 수학 개념잡기  26강 약분과 통분   002_360P.mp3\n"
     ]
    },
    {
     "name": "stderr",
     "output_type": "stream",
     "text": [
      "                                                                      \r"
     ]
    },
    {
     "name": "stdout",
     "output_type": "stream",
     "text": [
      "MoviePy - Done.\n",
      "Converting: y2mate.com - 초등 수학 개념잡기  26강 약분과 통분   003_360P.mp4 -> ./ebs_audio/y2mate.com - 초등 수학 개념잡기  26강 약분과 통분   003_360P.mp3\n",
      "MoviePy - Writing audio in ./ebs_audio/y2mate.com - 초등 수학 개념잡기  26강 약분과 통분   003_360P.mp3\n"
     ]
    },
    {
     "name": "stderr",
     "output_type": "stream",
     "text": [
      "                                                                      \r"
     ]
    },
    {
     "name": "stdout",
     "output_type": "stream",
     "text": [
      "MoviePy - Done.\n",
      "Converting: y2mate.com - 초등 수학 개념잡기  26강 약분과 통분   004_360P.mp4 -> ./ebs_audio/y2mate.com - 초등 수학 개념잡기  26강 약분과 통분   004_360P.mp3\n",
      "MoviePy - Writing audio in ./ebs_audio/y2mate.com - 초등 수학 개념잡기  26강 약분과 통분   004_360P.mp3\n"
     ]
    },
    {
     "name": "stderr",
     "output_type": "stream",
     "text": [
      "                                                                      \r"
     ]
    },
    {
     "name": "stdout",
     "output_type": "stream",
     "text": [
      "MoviePy - Done.\n",
      "Converting: y2mate.com - 초등 수학 개념잡기  27강 분수의 덧셈과 뺄셈   001_360P.mp4 -> ./ebs_audio/y2mate.com - 초등 수학 개념잡기  27강 분수의 덧셈과 뺄셈   001_360P.mp3\n",
      "MoviePy - Writing audio in ./ebs_audio/y2mate.com - 초등 수학 개념잡기  27강 분수의 덧셈과 뺄셈   001_360P.mp3\n"
     ]
    },
    {
     "name": "stderr",
     "output_type": "stream",
     "text": [
      "                                                                      \r"
     ]
    },
    {
     "name": "stdout",
     "output_type": "stream",
     "text": [
      "MoviePy - Done.\n",
      "Converting: y2mate.com - 초등 수학 개념잡기  27강 분수의 덧셈과 뺄셈   002_360P.mp4 -> ./ebs_audio/y2mate.com - 초등 수학 개념잡기  27강 분수의 덧셈과 뺄셈   002_360P.mp3\n",
      "MoviePy - Writing audio in ./ebs_audio/y2mate.com - 초등 수학 개념잡기  27강 분수의 덧셈과 뺄셈   002_360P.mp3\n"
     ]
    },
    {
     "name": "stderr",
     "output_type": "stream",
     "text": [
      "                                                                      \r"
     ]
    },
    {
     "name": "stdout",
     "output_type": "stream",
     "text": [
      "MoviePy - Done.\n",
      "Converting: y2mate.com - 초등 수학 개념잡기  28강 분수의 곱셈   001_360P.mp4 -> ./ebs_audio/y2mate.com - 초등 수학 개념잡기  28강 분수의 곱셈   001_360P.mp3\n",
      "MoviePy - Writing audio in ./ebs_audio/y2mate.com - 초등 수학 개념잡기  28강 분수의 곱셈   001_360P.mp3\n"
     ]
    },
    {
     "name": "stderr",
     "output_type": "stream",
     "text": [
      "                                                                      \r"
     ]
    },
    {
     "name": "stdout",
     "output_type": "stream",
     "text": [
      "MoviePy - Done.\n",
      "Converting: y2mate.com - 초등 수학 개념잡기  28강 분수의 곱셈   002_360P.mp4 -> ./ebs_audio/y2mate.com - 초등 수학 개념잡기  28강 분수의 곱셈   002_360P.mp3\n",
      "MoviePy - Writing audio in ./ebs_audio/y2mate.com - 초등 수학 개념잡기  28강 분수의 곱셈   002_360P.mp3\n"
     ]
    },
    {
     "name": "stderr",
     "output_type": "stream",
     "text": [
      "                                                                      \r"
     ]
    },
    {
     "name": "stdout",
     "output_type": "stream",
     "text": [
      "MoviePy - Done.\n",
      "Converting: y2mate.com - 초등 수학 개념잡기  28강 분수의 곱셈   003_360P.mp4 -> ./ebs_audio/y2mate.com - 초등 수학 개념잡기  28강 분수의 곱셈   003_360P.mp3\n",
      "MoviePy - Writing audio in ./ebs_audio/y2mate.com - 초등 수학 개념잡기  28강 분수의 곱셈   003_360P.mp3\n"
     ]
    },
    {
     "name": "stderr",
     "output_type": "stream",
     "text": [
      "                                                                      \r"
     ]
    },
    {
     "name": "stdout",
     "output_type": "stream",
     "text": [
      "MoviePy - Done.\n",
      "Converting: y2mate.com - 초등 수학 개념잡기  28강 분수의 곱셈   004_360P.mp4 -> ./ebs_audio/y2mate.com - 초등 수학 개념잡기  28강 분수의 곱셈   004_360P.mp3\n",
      "MoviePy - Writing audio in ./ebs_audio/y2mate.com - 초등 수학 개념잡기  28강 분수의 곱셈   004_360P.mp3\n"
     ]
    },
    {
     "name": "stderr",
     "output_type": "stream",
     "text": [
      "                                                                      \r"
     ]
    },
    {
     "name": "stdout",
     "output_type": "stream",
     "text": [
      "MoviePy - Done.\n",
      "Converting: y2mate.com - 초등 수학 개념잡기  29강 분수의 나눗셈   001_360P.mp4 -> ./ebs_audio/y2mate.com - 초등 수학 개념잡기  29강 분수의 나눗셈   001_360P.mp3\n",
      "MoviePy - Writing audio in ./ebs_audio/y2mate.com - 초등 수학 개념잡기  29강 분수의 나눗셈   001_360P.mp3\n"
     ]
    },
    {
     "name": "stderr",
     "output_type": "stream",
     "text": [
      "                                                                      \r"
     ]
    },
    {
     "name": "stdout",
     "output_type": "stream",
     "text": [
      "MoviePy - Done.\n",
      "Converting: y2mate.com - 초등 수학 개념잡기  29강 분수의 나눗셈   002_360P.mp4 -> ./ebs_audio/y2mate.com - 초등 수학 개념잡기  29강 분수의 나눗셈   002_360P.mp3\n",
      "MoviePy - Writing audio in ./ebs_audio/y2mate.com - 초등 수학 개념잡기  29강 분수의 나눗셈   002_360P.mp3\n"
     ]
    },
    {
     "name": "stderr",
     "output_type": "stream",
     "text": [
      "                                                                      \r"
     ]
    },
    {
     "name": "stdout",
     "output_type": "stream",
     "text": [
      "MoviePy - Done.\n",
      "Converting: y2mate.com - 초등 수학 개념잡기  30강 소수의 곱셈   001_360P.mp4 -> ./ebs_audio/y2mate.com - 초등 수학 개념잡기  30강 소수의 곱셈   001_360P.mp3\n",
      "MoviePy - Writing audio in ./ebs_audio/y2mate.com - 초등 수학 개념잡기  30강 소수의 곱셈   001_360P.mp3\n"
     ]
    },
    {
     "name": "stderr",
     "output_type": "stream",
     "text": [
      "                                                                      \r"
     ]
    },
    {
     "name": "stdout",
     "output_type": "stream",
     "text": [
      "MoviePy - Done.\n",
      "Converting: y2mate.com - 초등 수학 개념잡기  30강 소수의 곱셈   002_360P.mp4 -> ./ebs_audio/y2mate.com - 초등 수학 개념잡기  30강 소수의 곱셈   002_360P.mp3\n",
      "MoviePy - Writing audio in ./ebs_audio/y2mate.com - 초등 수학 개념잡기  30강 소수의 곱셈   002_360P.mp3\n"
     ]
    },
    {
     "name": "stderr",
     "output_type": "stream",
     "text": [
      "                                                                      \r"
     ]
    },
    {
     "name": "stdout",
     "output_type": "stream",
     "text": [
      "MoviePy - Done.\n",
      "Converting: y2mate.com - 초등 수학 개념잡기  30강 소수의 곱셈   003_360P.mp4 -> ./ebs_audio/y2mate.com - 초등 수학 개념잡기  30강 소수의 곱셈   003_360P.mp3\n",
      "MoviePy - Writing audio in ./ebs_audio/y2mate.com - 초등 수학 개념잡기  30강 소수의 곱셈   003_360P.mp3\n"
     ]
    },
    {
     "name": "stderr",
     "output_type": "stream",
     "text": [
      "                                                                      \r"
     ]
    },
    {
     "name": "stdout",
     "output_type": "stream",
     "text": [
      "MoviePy - Done.\n",
      "Converting: y2mate.com - 초등 수학 개념잡기  30강 소수의 곱셈   004_360P.mp4 -> ./ebs_audio/y2mate.com - 초등 수학 개념잡기  30강 소수의 곱셈   004_360P.mp3\n",
      "MoviePy - Writing audio in ./ebs_audio/y2mate.com - 초등 수학 개념잡기  30강 소수의 곱셈   004_360P.mp3\n"
     ]
    },
    {
     "name": "stderr",
     "output_type": "stream",
     "text": [
      "                                                                      \r"
     ]
    },
    {
     "name": "stdout",
     "output_type": "stream",
     "text": [
      "MoviePy - Done.\n",
      "Converting: y2mate.com - 초등 수학 개념잡기  31강 소수의 나눗셈1   001_360P.mp4 -> ./ebs_audio/y2mate.com - 초등 수학 개념잡기  31강 소수의 나눗셈1   001_360P.mp3\n",
      "MoviePy - Writing audio in ./ebs_audio/y2mate.com - 초등 수학 개념잡기  31강 소수의 나눗셈1   001_360P.mp3\n"
     ]
    },
    {
     "name": "stderr",
     "output_type": "stream",
     "text": [
      "                                                                      \r"
     ]
    },
    {
     "name": "stdout",
     "output_type": "stream",
     "text": [
      "MoviePy - Done.\n",
      "Converting: y2mate.com - 초등 수학 개념잡기  31강 소수의 나눗셈1   003_360P.mp4 -> ./ebs_audio/y2mate.com - 초등 수학 개념잡기  31강 소수의 나눗셈1   003_360P.mp3\n",
      "MoviePy - Writing audio in ./ebs_audio/y2mate.com - 초등 수학 개념잡기  31강 소수의 나눗셈1   003_360P.mp3\n"
     ]
    },
    {
     "name": "stderr",
     "output_type": "stream",
     "text": [
      "                                                                      \r"
     ]
    },
    {
     "name": "stdout",
     "output_type": "stream",
     "text": [
      "MoviePy - Done.\n",
      "Converting: y2mate.com - 초등 수학 개념잡기  31강 소수의 나눗셈1   004_360P.mp4 -> ./ebs_audio/y2mate.com - 초등 수학 개념잡기  31강 소수의 나눗셈1   004_360P.mp3\n",
      "MoviePy - Writing audio in ./ebs_audio/y2mate.com - 초등 수학 개념잡기  31강 소수의 나눗셈1   004_360P.mp3\n"
     ]
    },
    {
     "name": "stderr",
     "output_type": "stream",
     "text": [
      "                                                                      \r"
     ]
    },
    {
     "name": "stdout",
     "output_type": "stream",
     "text": [
      "MoviePy - Done.\n",
      "Converting: y2mate.com - 초등 수학 개념잡기  32강 소수의 나눗셈2   001_360P.mp4 -> ./ebs_audio/y2mate.com - 초등 수학 개념잡기  32강 소수의 나눗셈2   001_360P.mp3\n",
      "MoviePy - Writing audio in ./ebs_audio/y2mate.com - 초등 수학 개념잡기  32강 소수의 나눗셈2   001_360P.mp3\n"
     ]
    },
    {
     "name": "stderr",
     "output_type": "stream",
     "text": [
      "                                                                      \r"
     ]
    },
    {
     "name": "stdout",
     "output_type": "stream",
     "text": [
      "MoviePy - Done.\n",
      "Converting: y2mate.com - 초등 수학 개념잡기  32강 소수의 나눗셈2   002_360p.mp4 -> ./ebs_audio/y2mate.com - 초등 수학 개념잡기  32강 소수의 나눗셈2   002_360p.mp3\n",
      "MoviePy - Writing audio in ./ebs_audio/y2mate.com - 초등 수학 개념잡기  32강 소수의 나눗셈2   002_360p.mp3\n"
     ]
    },
    {
     "name": "stderr",
     "output_type": "stream",
     "text": [
      "                                                                      \r"
     ]
    },
    {
     "name": "stdout",
     "output_type": "stream",
     "text": [
      "MoviePy - Done.\n",
      "Converting: y2mate.com - 초등 수학 개념잡기  32강 소수의 나눗셈2   003_360P.mp4 -> ./ebs_audio/y2mate.com - 초등 수학 개념잡기  32강 소수의 나눗셈2   003_360P.mp3\n",
      "MoviePy - Writing audio in ./ebs_audio/y2mate.com - 초등 수학 개념잡기  32강 소수의 나눗셈2   003_360P.mp3\n"
     ]
    },
    {
     "name": "stderr",
     "output_type": "stream",
     "text": [
      "                                                                      \r"
     ]
    },
    {
     "name": "stdout",
     "output_type": "stream",
     "text": [
      "MoviePy - Done.\n",
      "Converting: y2mate.com - 초등 수학 개념잡기  33강 분수와 소수의 혼합 계산    001_360P.mp4 -> ./ebs_audio/y2mate.com - 초등 수학 개념잡기  33강 분수와 소수의 혼합 계산    001_360P.mp3\n",
      "MoviePy - Writing audio in ./ebs_audio/y2mate.com - 초등 수학 개념잡기  33강 분수와 소수의 혼합 계산    001_360P.mp3\n"
     ]
    },
    {
     "name": "stderr",
     "output_type": "stream",
     "text": [
      "                                                                      \r"
     ]
    },
    {
     "name": "stdout",
     "output_type": "stream",
     "text": [
      "MoviePy - Done.\n",
      "Converting: y2mate.com - 초등 수학 개념잡기  33강 분수와 소수의 혼합 계산    003_360P.mp4 -> ./ebs_audio/y2mate.com - 초등 수학 개념잡기  33강 분수와 소수의 혼합 계산    003_360P.mp3\n",
      "MoviePy - Writing audio in ./ebs_audio/y2mate.com - 초등 수학 개념잡기  33강 분수와 소수의 혼합 계산    003_360P.mp3\n"
     ]
    },
    {
     "name": "stderr",
     "output_type": "stream",
     "text": [
      "                                                                      \r"
     ]
    },
    {
     "name": "stdout",
     "output_type": "stream",
     "text": [
      "MoviePy - Done.\n",
      "Converting: y2mate.com - 초등 수학 개념잡기  33강 분수와 소수의 혼합 계산    004_360P.mp4 -> ./ebs_audio/y2mate.com - 초등 수학 개념잡기  33강 분수와 소수의 혼합 계산    004_360P.mp3\n",
      "MoviePy - Writing audio in ./ebs_audio/y2mate.com - 초등 수학 개념잡기  33강 분수와 소수의 혼합 계산    004_360P.mp3\n"
     ]
    },
    {
     "name": "stderr",
     "output_type": "stream",
     "text": [
      "                                                                      \r"
     ]
    },
    {
     "name": "stdout",
     "output_type": "stream",
     "text": [
      "MoviePy - Done.\n",
      "Converting: y2mate.com - 초등 수학 개념잡기  34강 평면도형의 넓이   001_360P.mp4 -> ./ebs_audio/y2mate.com - 초등 수학 개념잡기  34강 평면도형의 넓이   001_360P.mp3\n",
      "MoviePy - Writing audio in ./ebs_audio/y2mate.com - 초등 수학 개념잡기  34강 평면도형의 넓이   001_360P.mp3\n"
     ]
    },
    {
     "name": "stderr",
     "output_type": "stream",
     "text": [
      "                                                                      \r"
     ]
    },
    {
     "name": "stdout",
     "output_type": "stream",
     "text": [
      "MoviePy - Done.\n",
      "Converting: y2mate.com - 초등 수학 개념잡기  34강 평면도형의 넓이   002_360P.mp4 -> ./ebs_audio/y2mate.com - 초등 수학 개념잡기  34강 평면도형의 넓이   002_360P.mp3\n",
      "MoviePy - Writing audio in ./ebs_audio/y2mate.com - 초등 수학 개념잡기  34강 평면도형의 넓이   002_360P.mp3\n"
     ]
    },
    {
     "name": "stderr",
     "output_type": "stream",
     "text": [
      "                                                                      \r"
     ]
    },
    {
     "name": "stdout",
     "output_type": "stream",
     "text": [
      "MoviePy - Done.\n",
      "Converting: y2mate.com - 초등 수학 개념잡기  34강 평면도형의 넓이   003_360P.mp4 -> ./ebs_audio/y2mate.com - 초등 수학 개념잡기  34강 평면도형의 넓이   003_360P.mp3\n",
      "MoviePy - Writing audio in ./ebs_audio/y2mate.com - 초등 수학 개념잡기  34강 평면도형의 넓이   003_360P.mp3\n"
     ]
    },
    {
     "name": "stderr",
     "output_type": "stream",
     "text": [
      "                                                                      \r"
     ]
    },
    {
     "name": "stdout",
     "output_type": "stream",
     "text": [
      "MoviePy - Done.\n",
      "Converting: y2mate.com - 초등 수학 개념잡기  35강 원주율과 원의 넓이   001_360p.mp4 -> ./ebs_audio/y2mate.com - 초등 수학 개념잡기  35강 원주율과 원의 넓이   001_360p.mp3\n",
      "MoviePy - Writing audio in ./ebs_audio/y2mate.com - 초등 수학 개념잡기  35강 원주율과 원의 넓이   001_360p.mp3\n"
     ]
    },
    {
     "name": "stderr",
     "output_type": "stream",
     "text": [
      "                                                                      \r"
     ]
    },
    {
     "name": "stdout",
     "output_type": "stream",
     "text": [
      "MoviePy - Done.\n",
      "Converting: y2mate.com - 초등 수학 개념잡기  35강 원주율과 원의 넓이   002_360P.mp4 -> ./ebs_audio/y2mate.com - 초등 수학 개념잡기  35강 원주율과 원의 넓이   002_360P.mp3\n",
      "MoviePy - Writing audio in ./ebs_audio/y2mate.com - 초등 수학 개념잡기  35강 원주율과 원의 넓이   002_360P.mp3\n"
     ]
    },
    {
     "name": "stderr",
     "output_type": "stream",
     "text": [
      "                                                                      \r"
     ]
    },
    {
     "name": "stdout",
     "output_type": "stream",
     "text": [
      "MoviePy - Done.\n",
      "Converting: y2mate.com - 초등 수학 개념잡기  35강 원주율과 원의 넓이   003_360P.mp4 -> ./ebs_audio/y2mate.com - 초등 수학 개념잡기  35강 원주율과 원의 넓이   003_360P.mp3\n",
      "MoviePy - Writing audio in ./ebs_audio/y2mate.com - 초등 수학 개념잡기  35강 원주율과 원의 넓이   003_360P.mp3\n"
     ]
    },
    {
     "name": "stderr",
     "output_type": "stream",
     "text": [
      "                                                                      \r"
     ]
    },
    {
     "name": "stdout",
     "output_type": "stream",
     "text": [
      "MoviePy - Done.\n",
      "Converting: y2mate.com - 초등 수학 개념잡기  35강 원주율과 원의 넓이   004_360P.mp4 -> ./ebs_audio/y2mate.com - 초등 수학 개념잡기  35강 원주율과 원의 넓이   004_360P.mp3\n",
      "MoviePy - Writing audio in ./ebs_audio/y2mate.com - 초등 수학 개념잡기  35강 원주율과 원의 넓이   004_360P.mp3\n"
     ]
    },
    {
     "name": "stderr",
     "output_type": "stream",
     "text": [
      "                                                                      \r"
     ]
    },
    {
     "name": "stdout",
     "output_type": "stream",
     "text": [
      "MoviePy - Done.\n",
      "Converting: y2mate.com - 초등 수학 개념잡기  36강 겉넓이와 부피   001_360P.mp4 -> ./ebs_audio/y2mate.com - 초등 수학 개념잡기  36강 겉넓이와 부피   001_360P.mp3\n",
      "MoviePy - Writing audio in ./ebs_audio/y2mate.com - 초등 수학 개념잡기  36강 겉넓이와 부피   001_360P.mp3\n"
     ]
    },
    {
     "name": "stderr",
     "output_type": "stream",
     "text": [
      "                                                                      \r"
     ]
    },
    {
     "name": "stdout",
     "output_type": "stream",
     "text": [
      "MoviePy - Done.\n",
      "Converting: y2mate.com - 초등 수학 개념잡기  36강 겉넓이와 부피   002_360P.mp4 -> ./ebs_audio/y2mate.com - 초등 수학 개념잡기  36강 겉넓이와 부피   002_360P.mp3\n",
      "MoviePy - Writing audio in ./ebs_audio/y2mate.com - 초등 수학 개념잡기  36강 겉넓이와 부피   002_360P.mp3\n"
     ]
    },
    {
     "name": "stderr",
     "output_type": "stream",
     "text": [
      "                                                                      \r"
     ]
    },
    {
     "name": "stdout",
     "output_type": "stream",
     "text": [
      "MoviePy - Done.\n",
      "Converting: y2mate.com - 초등 수학 개념잡기  36강 겉넓이와 부피   003_360p.mp4 -> ./ebs_audio/y2mate.com - 초등 수학 개념잡기  36강 겉넓이와 부피   003_360p.mp3\n",
      "MoviePy - Writing audio in ./ebs_audio/y2mate.com - 초등 수학 개념잡기  36강 겉넓이와 부피   003_360p.mp3\n"
     ]
    },
    {
     "name": "stderr",
     "output_type": "stream",
     "text": [
      "                                                                      \r"
     ]
    },
    {
     "name": "stdout",
     "output_type": "stream",
     "text": [
      "MoviePy - Done.\n",
      "Converting: y2mate.com - 초등 수학 개념잡기  36강 겉넓이와 부피   004_360P.mp4 -> ./ebs_audio/y2mate.com - 초등 수학 개념잡기  36강 겉넓이와 부피   004_360P.mp3\n",
      "MoviePy - Writing audio in ./ebs_audio/y2mate.com - 초등 수학 개념잡기  36강 겉넓이와 부피   004_360P.mp3\n"
     ]
    },
    {
     "name": "stderr",
     "output_type": "stream",
     "text": [
      "                                                                      \r"
     ]
    },
    {
     "name": "stdout",
     "output_type": "stream",
     "text": [
      "MoviePy - Done.\n",
      "Converting: y2mate.com - 초등 수학 개념잡기  37강 원기둥의 겉넓이와 부피   001_360P.mp4 -> ./ebs_audio/y2mate.com - 초등 수학 개념잡기  37강 원기둥의 겉넓이와 부피   001_360P.mp3\n",
      "MoviePy - Writing audio in ./ebs_audio/y2mate.com - 초등 수학 개념잡기  37강 원기둥의 겉넓이와 부피   001_360P.mp3\n"
     ]
    },
    {
     "name": "stderr",
     "output_type": "stream",
     "text": [
      "                                                                      \r"
     ]
    },
    {
     "name": "stdout",
     "output_type": "stream",
     "text": [
      "MoviePy - Done.\n",
      "Converting: y2mate.com - 초등 수학 개념잡기  37강 원기둥의 겉넓이와 부피   002_360P.mp4 -> ./ebs_audio/y2mate.com - 초등 수학 개념잡기  37강 원기둥의 겉넓이와 부피   002_360P.mp3\n",
      "MoviePy - Writing audio in ./ebs_audio/y2mate.com - 초등 수학 개념잡기  37강 원기둥의 겉넓이와 부피   002_360P.mp3\n"
     ]
    },
    {
     "name": "stderr",
     "output_type": "stream",
     "text": [
      "                                                                      \r"
     ]
    },
    {
     "name": "stdout",
     "output_type": "stream",
     "text": [
      "MoviePy - Done.\n",
      "Converting: y2mate.com - 초등 수학 개념잡기  37강 원기둥의 겉넓이와 부피   003_360P.mp4 -> ./ebs_audio/y2mate.com - 초등 수학 개념잡기  37강 원기둥의 겉넓이와 부피   003_360P.mp3\n",
      "MoviePy - Writing audio in ./ebs_audio/y2mate.com - 초등 수학 개념잡기  37강 원기둥의 겉넓이와 부피   003_360P.mp3\n"
     ]
    },
    {
     "name": "stderr",
     "output_type": "stream",
     "text": [
      "                                                                      \r"
     ]
    },
    {
     "name": "stdout",
     "output_type": "stream",
     "text": [
      "MoviePy - Done.\n",
      "Converting: y2mate.com - 초등 수학 개념잡기  37강 원기둥의 겉넓이와 부피   004_360P.mp4 -> ./ebs_audio/y2mate.com - 초등 수학 개념잡기  37강 원기둥의 겉넓이와 부피   004_360P.mp3\n",
      "MoviePy - Writing audio in ./ebs_audio/y2mate.com - 초등 수학 개념잡기  37강 원기둥의 겉넓이와 부피   004_360P.mp3\n"
     ]
    },
    {
     "name": "stderr",
     "output_type": "stream",
     "text": [
      "                                                                      \r"
     ]
    },
    {
     "name": "stdout",
     "output_type": "stream",
     "text": [
      "MoviePy - Done.\n",
      "Converting: y2mate.com - 초등 수학 개념잡기  38강 도형의 대칭   001_360P.mp4 -> ./ebs_audio/y2mate.com - 초등 수학 개념잡기  38강 도형의 대칭   001_360P.mp3\n",
      "MoviePy - Writing audio in ./ebs_audio/y2mate.com - 초등 수학 개념잡기  38강 도형의 대칭   001_360P.mp3\n"
     ]
    },
    {
     "name": "stderr",
     "output_type": "stream",
     "text": [
      "                                                                      \r"
     ]
    },
    {
     "name": "stdout",
     "output_type": "stream",
     "text": [
      "MoviePy - Done.\n",
      "Converting: y2mate.com - 초등 수학 개념잡기  38강 도형의 대칭   003_360P.mp4 -> ./ebs_audio/y2mate.com - 초등 수학 개념잡기  38강 도형의 대칭   003_360P.mp3\n",
      "MoviePy - Writing audio in ./ebs_audio/y2mate.com - 초등 수학 개념잡기  38강 도형의 대칭   003_360P.mp3\n"
     ]
    },
    {
     "name": "stderr",
     "output_type": "stream",
     "text": [
      "                                                                      \r"
     ]
    },
    {
     "name": "stdout",
     "output_type": "stream",
     "text": [
      "MoviePy - Done.\n",
      "Converting: y2mate.com - 초등 수학 개념잡기  38강 도형의 대칭   004_360P.mp4 -> ./ebs_audio/y2mate.com - 초등 수학 개념잡기  38강 도형의 대칭   004_360P.mp3\n",
      "MoviePy - Writing audio in ./ebs_audio/y2mate.com - 초등 수학 개념잡기  38강 도형의 대칭   004_360P.mp3\n"
     ]
    },
    {
     "name": "stderr",
     "output_type": "stream",
     "text": [
      "                                                                      \r"
     ]
    },
    {
     "name": "stdout",
     "output_type": "stream",
     "text": [
      "MoviePy - Done.\n",
      "Converting: y2mate.com - 초등 수학 개념잡기  39강 자료의 표현과 해석   001_360P.mp4 -> ./ebs_audio/y2mate.com - 초등 수학 개념잡기  39강 자료의 표현과 해석   001_360P.mp3\n",
      "MoviePy - Writing audio in ./ebs_audio/y2mate.com - 초등 수학 개념잡기  39강 자료의 표현과 해석   001_360P.mp3\n"
     ]
    },
    {
     "name": "stderr",
     "output_type": "stream",
     "text": [
      "                                                                      \r"
     ]
    },
    {
     "name": "stdout",
     "output_type": "stream",
     "text": [
      "MoviePy - Done.\n",
      "Converting: y2mate.com - 초등 수학 개념잡기  40강 비와 비율   001_360P.mp4 -> ./ebs_audio/y2mate.com - 초등 수학 개념잡기  40강 비와 비율   001_360P.mp3\n",
      "MoviePy - Writing audio in ./ebs_audio/y2mate.com - 초등 수학 개념잡기  40강 비와 비율   001_360P.mp3\n"
     ]
    },
    {
     "name": "stderr",
     "output_type": "stream",
     "text": [
      "                                                                      \r"
     ]
    },
    {
     "name": "stdout",
     "output_type": "stream",
     "text": [
      "MoviePy - Done.\n",
      "Converting: y2mate.com - 초등 수학 개념잡기  40강 비와 비율   004_360P.mp4 -> ./ebs_audio/y2mate.com - 초등 수학 개념잡기  40강 비와 비율   004_360P.mp3\n",
      "MoviePy - Writing audio in ./ebs_audio/y2mate.com - 초등 수학 개념잡기  40강 비와 비율   004_360P.mp3\n"
     ]
    },
    {
     "name": "stderr",
     "output_type": "stream",
     "text": [
      "                                                                      \r"
     ]
    },
    {
     "name": "stdout",
     "output_type": "stream",
     "text": [
      "MoviePy - Done.\n",
      "Converting: y2mate.com - 초등 수학 개념잡기  41강 비율 그래프  002_360P.mp4 -> ./ebs_audio/y2mate.com - 초등 수학 개념잡기  41강 비율 그래프  002_360P.mp3\n",
      "MoviePy - Writing audio in ./ebs_audio/y2mate.com - 초등 수학 개념잡기  41강 비율 그래프  002_360P.mp3\n"
     ]
    },
    {
     "name": "stderr",
     "output_type": "stream",
     "text": [
      "                                                                      \r"
     ]
    },
    {
     "name": "stdout",
     "output_type": "stream",
     "text": [
      "MoviePy - Done.\n",
      "Converting: y2mate.com - 초등 수학 개념잡기  41강 비율 그래프  004_360P.mp4 -> ./ebs_audio/y2mate.com - 초등 수학 개념잡기  41강 비율 그래프  004_360P.mp3\n",
      "MoviePy - Writing audio in ./ebs_audio/y2mate.com - 초등 수학 개념잡기  41강 비율 그래프  004_360P.mp3\n"
     ]
    },
    {
     "name": "stderr",
     "output_type": "stream",
     "text": [
      "                                                                      \r"
     ]
    },
    {
     "name": "stdout",
     "output_type": "stream",
     "text": [
      "MoviePy - Done.\n",
      "Converting: y2mate.com - 초등 수학 개념잡기  42강 비례식   001_360P.mp4 -> ./ebs_audio/y2mate.com - 초등 수학 개념잡기  42강 비례식   001_360P.mp3\n",
      "MoviePy - Writing audio in ./ebs_audio/y2mate.com - 초등 수학 개념잡기  42강 비례식   001_360P.mp3\n"
     ]
    },
    {
     "name": "stderr",
     "output_type": "stream",
     "text": [
      "                                                                      \r"
     ]
    },
    {
     "name": "stdout",
     "output_type": "stream",
     "text": [
      "MoviePy - Done.\n",
      "Converting: y2mate.com - 초등 수학 개념잡기  42강 비례식   002_360P.mp4 -> ./ebs_audio/y2mate.com - 초등 수학 개념잡기  42강 비례식   002_360P.mp3\n",
      "MoviePy - Writing audio in ./ebs_audio/y2mate.com - 초등 수학 개념잡기  42강 비례식   002_360P.mp3\n"
     ]
    },
    {
     "name": "stderr",
     "output_type": "stream",
     "text": [
      "                                                                      \r"
     ]
    },
    {
     "name": "stdout",
     "output_type": "stream",
     "text": [
      "MoviePy - Done.\n",
      "Converting: y2mate.com - 초등 수학 개념잡기  42강 비례식   004_360P.mp4 -> ./ebs_audio/y2mate.com - 초등 수학 개념잡기  42강 비례식   004_360P.mp3\n",
      "MoviePy - Writing audio in ./ebs_audio/y2mate.com - 초등 수학 개념잡기  42강 비례식   004_360P.mp3\n"
     ]
    },
    {
     "name": "stderr",
     "output_type": "stream",
     "text": [
      "                                                                      \r"
     ]
    },
    {
     "name": "stdout",
     "output_type": "stream",
     "text": [
      "MoviePy - Done.\n",
      "Converting: y2mate.com - 초등 수학 개념잡기  43강 연비와 비례배분   002_360P.mp4 -> ./ebs_audio/y2mate.com - 초등 수학 개념잡기  43강 연비와 비례배분   002_360P.mp3\n",
      "MoviePy - Writing audio in ./ebs_audio/y2mate.com - 초등 수학 개념잡기  43강 연비와 비례배분   002_360P.mp3\n"
     ]
    },
    {
     "name": "stderr",
     "output_type": "stream",
     "text": [
      "                                                                      \r"
     ]
    },
    {
     "name": "stdout",
     "output_type": "stream",
     "text": [
      "MoviePy - Done.\n",
      "Converting: y2mate.com - 초등 수학 개념잡기  43강 연비와 비례배분   004_360P.mp4 -> ./ebs_audio/y2mate.com - 초등 수학 개념잡기  43강 연비와 비례배분   004_360P.mp3\n",
      "MoviePy - Writing audio in ./ebs_audio/y2mate.com - 초등 수학 개념잡기  43강 연비와 비례배분   004_360P.mp3\n"
     ]
    },
    {
     "name": "stderr",
     "output_type": "stream",
     "text": [
      "                                                                      \r"
     ]
    },
    {
     "name": "stdout",
     "output_type": "stream",
     "text": [
      "MoviePy - Done.\n",
      "Converting: y2mate.com - 초등 수학 개념잡기  44강 경우의 수와 확률   001_360P.mp4 -> ./ebs_audio/y2mate.com - 초등 수학 개념잡기  44강 경우의 수와 확률   001_360P.mp3\n",
      "MoviePy - Writing audio in ./ebs_audio/y2mate.com - 초등 수학 개념잡기  44강 경우의 수와 확률   001_360P.mp3\n"
     ]
    },
    {
     "name": "stderr",
     "output_type": "stream",
     "text": [
      "                                                                      \r"
     ]
    },
    {
     "name": "stdout",
     "output_type": "stream",
     "text": [
      "MoviePy - Done.\n",
      "Converting: y2mate.com - 초등 수학 개념잡기  44강 경우의 수와 확률   002_360P.mp4 -> ./ebs_audio/y2mate.com - 초등 수학 개념잡기  44강 경우의 수와 확률   002_360P.mp3\n",
      "MoviePy - Writing audio in ./ebs_audio/y2mate.com - 초등 수학 개념잡기  44강 경우의 수와 확률   002_360P.mp3\n"
     ]
    },
    {
     "name": "stderr",
     "output_type": "stream",
     "text": [
      "                                                                      \r"
     ]
    },
    {
     "name": "stdout",
     "output_type": "stream",
     "text": [
      "MoviePy - Done.\n",
      "Converting: y2mate.com - 초등 수학 개념잡기  44강 경우의 수와 확률   003_360P.mp4 -> ./ebs_audio/y2mate.com - 초등 수학 개념잡기  44강 경우의 수와 확률   003_360P.mp3\n",
      "MoviePy - Writing audio in ./ebs_audio/y2mate.com - 초등 수학 개념잡기  44강 경우의 수와 확률   003_360P.mp3\n"
     ]
    },
    {
     "name": "stderr",
     "output_type": "stream",
     "text": [
      "                                                                      \r"
     ]
    },
    {
     "name": "stdout",
     "output_type": "stream",
     "text": [
      "MoviePy - Done.\n",
      "Converting: y2mate.com - 초등 수학 개념잡기  44강 경우의 수와 확률   004_360P.mp4 -> ./ebs_audio/y2mate.com - 초등 수학 개념잡기  44강 경우의 수와 확률   004_360P.mp3\n",
      "MoviePy - Writing audio in ./ebs_audio/y2mate.com - 초등 수학 개념잡기  44강 경우의 수와 확률   004_360P.mp3\n"
     ]
    },
    {
     "name": "stderr",
     "output_type": "stream",
     "text": [
      "                                                                      \r"
     ]
    },
    {
     "name": "stdout",
     "output_type": "stream",
     "text": [
      "MoviePy - Done.\n",
      "Converting: y2mate.com - 초등 수학 개념잡기  45강 방정식   001_360P.mp4 -> ./ebs_audio/y2mate.com - 초등 수학 개념잡기  45강 방정식   001_360P.mp3\n",
      "MoviePy - Writing audio in ./ebs_audio/y2mate.com - 초등 수학 개념잡기  45강 방정식   001_360P.mp3\n"
     ]
    },
    {
     "name": "stderr",
     "output_type": "stream",
     "text": [
      "                                                                      \r"
     ]
    },
    {
     "name": "stdout",
     "output_type": "stream",
     "text": [
      "MoviePy - Done.\n",
      "Converting: y2mate.com - 초등 수학 개념잡기  45강 방정식   003_360P.mp4 -> ./ebs_audio/y2mate.com - 초등 수학 개념잡기  45강 방정식   003_360P.mp3\n",
      "MoviePy - Writing audio in ./ebs_audio/y2mate.com - 초등 수학 개념잡기  45강 방정식   003_360P.mp3\n"
     ]
    },
    {
     "name": "stderr",
     "output_type": "stream",
     "text": [
      "                                                                      "
     ]
    },
    {
     "name": "stdout",
     "output_type": "stream",
     "text": [
      "MoviePy - Done.\n"
     ]
    },
    {
     "name": "stderr",
     "output_type": "stream",
     "text": [
      "\r"
     ]
    }
   ],
   "source": [
    "from moviepy.editor import VideoFileClip\n",
    "# 비디오 파일이 있는 폴더 경로\n",
    "video_folder_path = './ebs/'\n",
    "# 오디오 파일을 저장할 폴더 경로\n",
    "audio_output_folder_path = './ebs_audio/'\n",
    "# 오디오 파일을 저장할 폴더가 없으면 생성\n",
    "if not os.path.exists(audio_output_folder_path):\n",
    "    os.makedirs(audio_output_folder_path)\n",
    "# 비디오 폴더 내 모든 파일을 가져오기\n",
    "for filename in os.listdir(video_folder_path):\n",
    "    # 확장자가 비디오 파일인지 확인 (여기서는 .mp4 기준)\n",
    "    if filename.endswith(\".mp4\"):\n",
    "        video_path = os.path.join(video_folder_path, filename)\n",
    "        audio_output_path = os.path.join(audio_output_folder_path, f\"{os.path.splitext(filename)[0]}.mp3\")\n",
    "        # 비디오 파일 불러오기\n",
    "        video_clip = VideoFileClip(video_path)\n",
    "        # 비디오에서 오디오 추출\n",
    "        audio_clip = video_clip.audio\n",
    "        # 오디오 파일로 저장\n",
    "        print(f\"Converting: {filename} -> {audio_output_path}\")\n",
    "        audio_clip.write_audiofile(audio_output_path)\n",
    "        # 리소스 해제\n",
    "        audio_clip.close()\n",
    "        video_clip.close()"
   ]
  },
  {
   "cell_type": "code",
   "execution_count": 40,
   "metadata": {},
   "outputs": [],
   "source": [
    "from transformers import pipeline\n",
    "\n",
    "whisper_medium = pipeline(\"automatic-speech-recognition\", \"openai/whisper-medium\")\n",
    "whisper_small = pipeline(\"automatic-speech-recognition\", \"openai/whisper-small\")"
   ]
  },
  {
   "cell_type": "code",
   "execution_count": 43,
   "metadata": {},
   "outputs": [
    {
     "name": "stdout",
     "output_type": "stream",
     "text": [
      "MoviePy - Writing audio in chunk_0_30.mp3\n"
     ]
    },
    {
     "name": "stderr",
     "output_type": "stream",
     "text": [
      "                                                                    \r"
     ]
    },
    {
     "name": "stdout",
     "output_type": "stream",
     "text": [
      "MoviePy - Done.\n",
      "MoviePy - Writing audio in chunk_30_60.mp3\n"
     ]
    },
    {
     "name": "stderr",
     "output_type": "stream",
     "text": [
      "                                                                    \r"
     ]
    },
    {
     "name": "stdout",
     "output_type": "stream",
     "text": [
      "MoviePy - Done.\n",
      "MoviePy - Writing audio in chunk_60_90.mp3\n"
     ]
    },
    {
     "name": "stderr",
     "output_type": "stream",
     "text": [
      "                                                                    \r"
     ]
    },
    {
     "name": "stdout",
     "output_type": "stream",
     "text": [
      "MoviePy - Done.\n",
      "MoviePy - Writing audio in chunk_90_120.mp3\n"
     ]
    },
    {
     "name": "stderr",
     "output_type": "stream",
     "text": [
      "                                                                    \r"
     ]
    },
    {
     "name": "stdout",
     "output_type": "stream",
     "text": [
      "MoviePy - Done.\n",
      "MoviePy - Writing audio in chunk_120_150.mp3\n"
     ]
    },
    {
     "name": "stderr",
     "output_type": "stream",
     "text": [
      "                                                                    \r"
     ]
    },
    {
     "name": "stdout",
     "output_type": "stream",
     "text": [
      "MoviePy - Done.\n",
      "MoviePy - Writing audio in chunk_150_180.mp3\n"
     ]
    },
    {
     "name": "stderr",
     "output_type": "stream",
     "text": [
      "                                                                    \r"
     ]
    },
    {
     "name": "stdout",
     "output_type": "stream",
     "text": [
      "MoviePy - Done.\n",
      "MoviePy - Writing audio in chunk_180_210.mp3\n"
     ]
    },
    {
     "name": "stderr",
     "output_type": "stream",
     "text": [
      "                                                                    \r"
     ]
    },
    {
     "name": "stdout",
     "output_type": "stream",
     "text": [
      "MoviePy - Done.\n",
      "MoviePy - Writing audio in chunk_210_240.mp3\n"
     ]
    },
    {
     "name": "stderr",
     "output_type": "stream",
     "text": [
      "                                                                    \r"
     ]
    },
    {
     "name": "stdout",
     "output_type": "stream",
     "text": [
      "MoviePy - Done.\n",
      "MoviePy - Writing audio in chunk_240_270.mp3\n"
     ]
    },
    {
     "name": "stderr",
     "output_type": "stream",
     "text": [
      "                                                                    \r"
     ]
    },
    {
     "name": "stdout",
     "output_type": "stream",
     "text": [
      "MoviePy - Done.\n",
      "MoviePy - Writing audio in chunk_270_300.mp3\n"
     ]
    },
    {
     "name": "stderr",
     "output_type": "stream",
     "text": [
      "                                                                    \r"
     ]
    },
    {
     "name": "stdout",
     "output_type": "stream",
     "text": [
      "MoviePy - Done.\n",
      "MoviePy - Writing audio in chunk_300_330.mp3\n"
     ]
    },
    {
     "name": "stderr",
     "output_type": "stream",
     "text": [
      "                                                                    \r"
     ]
    },
    {
     "name": "stdout",
     "output_type": "stream",
     "text": [
      "MoviePy - Done.\n",
      "MoviePy - Writing audio in chunk_330_360.mp3\n"
     ]
    },
    {
     "name": "stderr",
     "output_type": "stream",
     "text": [
      "                                                                    \r"
     ]
    },
    {
     "name": "stdout",
     "output_type": "stream",
     "text": [
      "MoviePy - Done.\n",
      "MoviePy - Writing audio in chunk_360_390.mp3\n"
     ]
    },
    {
     "name": "stderr",
     "output_type": "stream",
     "text": [
      "                                                                    \r"
     ]
    },
    {
     "name": "stdout",
     "output_type": "stream",
     "text": [
      "MoviePy - Done.\n",
      "MoviePy - Writing audio in chunk_390_420.mp3\n"
     ]
    },
    {
     "name": "stderr",
     "output_type": "stream",
     "text": [
      "                                                                    \r"
     ]
    },
    {
     "name": "stdout",
     "output_type": "stream",
     "text": [
      "MoviePy - Done.\n",
      "MoviePy - Writing audio in chunk_420_450.mp3\n"
     ]
    },
    {
     "name": "stderr",
     "output_type": "stream",
     "text": [
      "                                                                    \r"
     ]
    },
    {
     "name": "stdout",
     "output_type": "stream",
     "text": [
      "MoviePy - Done.\n"
     ]
    },
    {
     "data": {
      "text/plain": [
       "' 안녕하세요 우리 친구들 반갑습니다 안녕하세요 우리 친구들 반갑습니다  여러분들과 함께 소수에 대해서 그 핵심의 개념을 짚어볼 나소은 선생님이에요. 자, 소수라고 하는 거 우리 초등학교 3학년 교과부터 쭉 학습이 이루어지는데요. 여러분들 어때요? 소수라고 하면 굉장히 낯선 친구들도 있을 거고 어, 나 소수를 배웠지만 뭔가 좀 잘 정리되지 않았던 느낌 받았던 친구들 분명히 있을 거예요. 걱정하지 마세요. 선생님과 함께 하시면 소수에 대한 기본 개념들이 정확하게 다소집니다. 이번 시간에 학습의 목표 알아볼까요? 그리고 보낙섭을 통해서 바로  만나보도록 할게요. 개념 쏙쏙 그 첫 번째 내용. 우리 제목을 보니까 소설이...  소수 한 자리 수, 소수 두 자리 수, 소수 세 자리 수 알아보기 라고 되어져 있죠. 그런데 이거 선생님이 알아보기 쉽게 한꺼번에 정리를 해드릴게요. 우리는 소수를 접하면서 제일 먼저 뭘 배웠었냐면 소수 한 자리 수 중에서 0.1이라고 하는 것을 배웠어요. 이게 소수 한 자리 수죠. 그런데 0.1이라고 하는 걸 설명하면서 무엇을 얘기를 하게 됐냐면 이렇게 하나가 있었다. 그런데 그 1을 똑같이 10개의 칸으로  나눠주었습니다. 그 중에 하나만큼을 표현할 때 분수로 10분의 1이라고 얘기를 했죠. 이거는 10개로 나눈 것 중에 하나만큼의 값입니다 라는 뜻인데 이것을 소수로 표현하여서 0.1과 같더라 라고 약속을 했었던 거예요. 그래서 이렇게 0.1이 무엇인지에 대해서 얘기를 했다는 거죠. 그러면 0.1은 소수 한 자리 수이고 그림 속에서 이와 같이 설명되어지는 걸 알 수 있을 겁니다. 그러면 얘들아 이렇게  3.8이라고 하는 것도 역시 소수 한 자리 수인데, 이건 어떻게 설명을 할 수 있을까요? 0.1이 이런 수는 38개만큼 모여진 것입니다라고 얘기를 해요. 0.1이 38개 모이면 이것이 바로 3.8로 나타나지는구나. 역시 자연수가 있는 소수 한 자리 수입니다라고 표현해 줄 수 있는 것이죠. 이 3.8이다 라고 하는 건 3보다도 0.8만큼  더 큰 수입니다 라고 얘기를 할 수도 있어요. 그래서 앞으로 이제 쭉 학년이 진행되면서 여러분들은 3.8이라고 하는 이 수를 3.8은 3에다가 0.8만큼을 더해준 것과 같습니다 라고 표현해 줄 수도 있게 됩니다. 소수 한 자리 수에 대해서 이와 같이 살펴보았죠. 그렇다면 이제 여러분과는 소수 두 자리 수라고 하는 것도 살펴보도록 할 거예요. 소수 두 자리 수를 얘기를 하려면 0.2%  0.01이라는 표현에 대해서 얘기를 해야 할 것 같네요. 0.01을 설명할 때 역시 그림에 대한 설명 빼놓을 수 없겠죠. 이거는 이런 식으로 바둑판 모양을 만들어주도록 할 거예요. 바둑판 모양이니까 여러분들이 이렇게 10개로 나눠주시고 또 이 방향으로도 10줄이 될 수 있도록 이와 같이 나눠줍니다. 그러면 여기서 이 작은 거 하나만큼에 해당이 되어지는 것은 전체를 100개의 칸으로 나눈 것 중에 하나가...  이 100분의 1을 0.01과 같다라고 약속을 하게 되는 거예요. 따라서 여러분들이 예를 들어 0.25라고 하는 소수 두 자리 수를 만났을 때에는 0.1이 25칸 만큼 색칠 되어진 것과 같습니다. 1, 2, 3, 4, 5 이렇게 해서 0.25입니다 라는 걸 말해줄 수 있고요. 0.25는 따라서 0.01이 25개인 수이더라. 이와 같이  말해줄 수 있는 것이죠. 이렇게 소수 두 자리수라고 하는 것도 살펴볼 수 있어요. 여러분들은요. 소수 한 자리수 또는 소수 두 자리수에 대한 학습을 이렇게 그림을 통해서 이해해 볼 수 있게 되는 거예요. 그렇다면 제목에서 보시면 소수 세 자리수라는 표현도 주어져 있죠. 그래서 소수 세 자리수에 대해서 얘기를 해 볼까요. 그럼 이거는요. 방금 전에 100개 칸으로 나눈 것 중에 하나만 딱 떼어서 얘기를 해 볼게요. 그러면 그 하나만큼을 그림으로  이거는 어떻게 얘기를 할 거냐면요. 0.01입니다라고 얘기를 할 수 있겠죠. 즉 100개의 칸 중에 하나예요 라는 뜻이고요. 이걸 다시 10개로 나눠 볼게요. 그러면 이 작은 칸 하나는요. 아, 이거는 전체 하나가 있을 때 1000개로 나눈 것 중에 하나만큼의 해당이 되어지는 값이구나. 따라서 이때 요것만큼을 1000분의 1과 같더라라고 얘기를 하게 되고요. 1000분의 1이라고 하는 걸 소수 세 자릿수로 0.0%  0.001입니다 라고 약속하여 나타를 줄 수 있습니다. 그러면 이번엔 이런 표현을 한번 예를 들어볼까요? 1000분의 234라는 것이 주어지게 된 거예요. 그러면 이거는 사실 1000분의 1이 234개예요 이런 뜻이고 1000분의 1은 0.001과 같다라고 했으니까 0.001이 234개인 수입니다라는 뜻에서부터 소수로 바꾸어 0.234라고 하는 소수 세 자리  수가 되었습니다 라고 표현해 줄 수 있게 되는 것이죠. 소수 세 자리 수까지에 대한 학습을 이와 같이 정리해 볼 수 있다면 이제 선생님이 옆에다가 이 세 가지 내용을 한꺼번에 정리해서 나타내 드리도록 할게요. 소수 한 자리 수 0.1을 대표적으로 들면 분수로 바꾸어 10분의 1이 되더라 또 0.01이라고 하는 것은 100분의 1과 같더라 그리고 0.001이라고 하는 이것은 굉장히 큰 일입니다.  중요한 소수에 대한 학습임으로 여러분들이 반드시 기억해두어야 하는 부분입니다. 소수 세 자리 수까지 이렇게 기본 개념에 대해서 함께 짚어보았어요. 기본 개념은 그렇게 어렵지 않은 부분들이죠? 그러면 이 내용들이 문제 속에서는 어떻게 활용이 되고 있는지 여러분이 만나보셔야겠습니다. 개념 다지기 문제 볼까요? 다음 중 잘못된 설명은 어느 것입니까? 잘못된 것을 찾는 거예요. 그런데 보니 1번의 예를...  0.1이 12개라고 얘기를 했죠. 0.1이 10개가 모이면 그걸 우리는 1과 같다고 얘기를 해요. 그랬을 때 그러면 이거 0.12가 되면 안 되겠죠. 0.12라고 하는 건 0.01이 12개라는 뜻이거든요. 따라서 지금 이거는 잘못된 설명이에요. 이렇게 답이 1번인데 그럼 나머지 것들은 맞았을까요? 2번을 보니까 0.1에 0과 1 사이의 점이 하나가 주어졌죠. 이 점을 뭐라고'"
      ]
     },
     "execution_count": 43,
     "metadata": {},
     "output_type": "execute_result"
    }
   ],
   "source": [
    "# 오디오 파일을 30초 단위로 나누는 함수\n",
    "def split_audio(file_path, chunk_length=30):\n",
    "    audio = AudioFileClip(file_path)\n",
    "    total_duration = int(audio.duration)\n",
    "    audio_chunks = []\n",
    "\n",
    "    for start in range(0, total_duration, chunk_length):\n",
    "        end = min(start + chunk_length, total_duration)\n",
    "        chunk = audio.subclip(start, end)\n",
    "        chunk_path = f\"chunk_{start}_{end}.mp3\"\n",
    "        chunk.write_audiofile(chunk_path)\n",
    "        audio_chunks.append(chunk_path)\n",
    "\n",
    "    return audio_chunks\n",
    "\n",
    "\n",
    "# 각 청크에서 텍스트 추출\n",
    "def transcribe_audio_chunks(chunk_files):\n",
    "    transcriptions = []\n",
    "    for chunk_file in chunk_files:\n",
    "        result = whisper_medium(chunk_file, generate_kwargs={\"language\": \"korean\"})\n",
    "        transcriptions.append(result[\"text\"])\n",
    "        os.remove(chunk_file)  # 임시 파일 삭제\n",
    "    return transcriptions\n",
    "\n",
    "\n",
    "# 전체 텍스트를 하나로 합침\n",
    "def merge_transcriptions(transcriptions):\n",
    "    return \" \".join(transcriptions)\n",
    "\n",
    "final_transcription = ''\n",
    "\n",
    "audio_file = f\"./ebs_audio/y2mate.com - 초등 수학 개념잡기  07강 소수 이해하기   001_360P.mp3\"\n",
    "    \n",
    "    # 파일이 존재하는지 확인\n",
    "if os.path.exists(audio_file):\n",
    "    chunks = split_audio(audio_file)\n",
    "    transcriptions = transcribe_audio_chunks(chunks)\n",
    "    transcription = merge_transcriptions(transcriptions)\n",
    "\n",
    "    final_transcription += transcription\n",
    "\n",
    "final_transcription"
   ]
  },
  {
   "cell_type": "code",
   "execution_count": 47,
   "metadata": {},
   "outputs": [
    {
     "name": "stdout",
     "output_type": "stream",
     "text": [
      "MoviePy - Writing audio in chunk_0_30.mp3\n"
     ]
    },
    {
     "name": "stderr",
     "output_type": "stream",
     "text": [
      "                                                                    \r"
     ]
    },
    {
     "name": "stdout",
     "output_type": "stream",
     "text": [
      "MoviePy - Done.\n",
      "MoviePy - Writing audio in chunk_30_60.mp3\n"
     ]
    },
    {
     "name": "stderr",
     "output_type": "stream",
     "text": [
      "                                                                    \r"
     ]
    },
    {
     "name": "stdout",
     "output_type": "stream",
     "text": [
      "MoviePy - Done.\n",
      "MoviePy - Writing audio in chunk_60_90.mp3\n"
     ]
    },
    {
     "name": "stderr",
     "output_type": "stream",
     "text": [
      "                                                                    \r"
     ]
    },
    {
     "name": "stdout",
     "output_type": "stream",
     "text": [
      "MoviePy - Done.\n",
      "MoviePy - Writing audio in chunk_90_120.mp3\n"
     ]
    },
    {
     "name": "stderr",
     "output_type": "stream",
     "text": [
      "                                                                    \r"
     ]
    },
    {
     "name": "stdout",
     "output_type": "stream",
     "text": [
      "MoviePy - Done.\n",
      "MoviePy - Writing audio in chunk_120_150.mp3\n"
     ]
    },
    {
     "name": "stderr",
     "output_type": "stream",
     "text": [
      "                                                                    \r"
     ]
    },
    {
     "name": "stdout",
     "output_type": "stream",
     "text": [
      "MoviePy - Done.\n",
      "MoviePy - Writing audio in chunk_150_180.mp3\n"
     ]
    },
    {
     "name": "stderr",
     "output_type": "stream",
     "text": [
      "                                                                    \r"
     ]
    },
    {
     "name": "stdout",
     "output_type": "stream",
     "text": [
      "MoviePy - Done.\n",
      "MoviePy - Writing audio in chunk_180_210.mp3\n"
     ]
    },
    {
     "name": "stderr",
     "output_type": "stream",
     "text": [
      "                                                                    \r"
     ]
    },
    {
     "name": "stdout",
     "output_type": "stream",
     "text": [
      "MoviePy - Done.\n",
      "MoviePy - Writing audio in chunk_210_240.mp3\n"
     ]
    },
    {
     "name": "stderr",
     "output_type": "stream",
     "text": [
      "                                                                    \r"
     ]
    },
    {
     "name": "stdout",
     "output_type": "stream",
     "text": [
      "MoviePy - Done.\n",
      "MoviePy - Writing audio in chunk_240_270.mp3\n"
     ]
    },
    {
     "name": "stderr",
     "output_type": "stream",
     "text": [
      "                                                                    \r"
     ]
    },
    {
     "name": "stdout",
     "output_type": "stream",
     "text": [
      "MoviePy - Done.\n",
      "MoviePy - Writing audio in chunk_270_300.mp3\n"
     ]
    },
    {
     "name": "stderr",
     "output_type": "stream",
     "text": [
      "                                                                    \r"
     ]
    },
    {
     "name": "stdout",
     "output_type": "stream",
     "text": [
      "MoviePy - Done.\n",
      "MoviePy - Writing audio in chunk_300_330.mp3\n"
     ]
    },
    {
     "name": "stderr",
     "output_type": "stream",
     "text": [
      "                                                                    \r"
     ]
    },
    {
     "name": "stdout",
     "output_type": "stream",
     "text": [
      "MoviePy - Done.\n",
      "MoviePy - Writing audio in chunk_330_360.mp3\n"
     ]
    },
    {
     "name": "stderr",
     "output_type": "stream",
     "text": [
      "                                                                    \r"
     ]
    },
    {
     "name": "stdout",
     "output_type": "stream",
     "text": [
      "MoviePy - Done.\n",
      "MoviePy - Writing audio in chunk_360_390.mp3\n"
     ]
    },
    {
     "name": "stderr",
     "output_type": "stream",
     "text": [
      "                                                                    \r"
     ]
    },
    {
     "name": "stdout",
     "output_type": "stream",
     "text": [
      "MoviePy - Done.\n",
      "MoviePy - Writing audio in chunk_390_420.mp3\n"
     ]
    },
    {
     "name": "stderr",
     "output_type": "stream",
     "text": [
      "                                                                    \r"
     ]
    },
    {
     "name": "stdout",
     "output_type": "stream",
     "text": [
      "MoviePy - Done.\n",
      "MoviePy - Writing audio in chunk_420_450.mp3\n"
     ]
    },
    {
     "name": "stderr",
     "output_type": "stream",
     "text": [
      "                                                                    \r"
     ]
    },
    {
     "name": "stdout",
     "output_type": "stream",
     "text": [
      "MoviePy - Done.\n",
      "MoviePy - Writing audio in chunk_0_30.mp3\n"
     ]
    },
    {
     "name": "stderr",
     "output_type": "stream",
     "text": [
      "                                                                    \r"
     ]
    },
    {
     "name": "stdout",
     "output_type": "stream",
     "text": [
      "MoviePy - Done.\n",
      "MoviePy - Writing audio in chunk_30_60.mp3\n"
     ]
    },
    {
     "name": "stderr",
     "output_type": "stream",
     "text": [
      "                                                                    \r"
     ]
    },
    {
     "name": "stdout",
     "output_type": "stream",
     "text": [
      "MoviePy - Done.\n",
      "MoviePy - Writing audio in chunk_60_90.mp3\n"
     ]
    },
    {
     "name": "stderr",
     "output_type": "stream",
     "text": [
      "                                                                    \r"
     ]
    },
    {
     "name": "stdout",
     "output_type": "stream",
     "text": [
      "MoviePy - Done.\n",
      "MoviePy - Writing audio in chunk_90_120.mp3\n"
     ]
    },
    {
     "name": "stderr",
     "output_type": "stream",
     "text": [
      "                                                                    \r"
     ]
    },
    {
     "name": "stdout",
     "output_type": "stream",
     "text": [
      "MoviePy - Done.\n",
      "MoviePy - Writing audio in chunk_120_150.mp3\n"
     ]
    },
    {
     "name": "stderr",
     "output_type": "stream",
     "text": [
      "                                                                    \r"
     ]
    },
    {
     "name": "stdout",
     "output_type": "stream",
     "text": [
      "MoviePy - Done.\n",
      "MoviePy - Writing audio in chunk_150_180.mp3\n"
     ]
    },
    {
     "name": "stderr",
     "output_type": "stream",
     "text": [
      "                                                                    \r"
     ]
    },
    {
     "name": "stdout",
     "output_type": "stream",
     "text": [
      "MoviePy - Done.\n",
      "MoviePy - Writing audio in chunk_180_210.mp3\n"
     ]
    },
    {
     "name": "stderr",
     "output_type": "stream",
     "text": [
      "                                                                    \r"
     ]
    },
    {
     "name": "stdout",
     "output_type": "stream",
     "text": [
      "MoviePy - Done.\n",
      "MoviePy - Writing audio in chunk_210_240.mp3\n"
     ]
    },
    {
     "name": "stderr",
     "output_type": "stream",
     "text": [
      "                                                                    \r"
     ]
    },
    {
     "name": "stdout",
     "output_type": "stream",
     "text": [
      "MoviePy - Done.\n",
      "MoviePy - Writing audio in chunk_240_270.mp3\n"
     ]
    },
    {
     "name": "stderr",
     "output_type": "stream",
     "text": [
      "                                                                    \r"
     ]
    },
    {
     "name": "stdout",
     "output_type": "stream",
     "text": [
      "MoviePy - Done.\n",
      "MoviePy - Writing audio in chunk_270_300.mp3\n"
     ]
    },
    {
     "name": "stderr",
     "output_type": "stream",
     "text": [
      "                                                                    \r"
     ]
    },
    {
     "name": "stdout",
     "output_type": "stream",
     "text": [
      "MoviePy - Done.\n",
      "MoviePy - Writing audio in chunk_300_330.mp3\n"
     ]
    },
    {
     "name": "stderr",
     "output_type": "stream",
     "text": [
      "                                                                    \r"
     ]
    },
    {
     "name": "stdout",
     "output_type": "stream",
     "text": [
      "MoviePy - Done.\n",
      "MoviePy - Writing audio in chunk_330_360.mp3\n"
     ]
    },
    {
     "name": "stderr",
     "output_type": "stream",
     "text": [
      "                                                                    \r"
     ]
    },
    {
     "name": "stdout",
     "output_type": "stream",
     "text": [
      "MoviePy - Done.\n",
      "MoviePy - Writing audio in chunk_360_390.mp3\n"
     ]
    },
    {
     "name": "stderr",
     "output_type": "stream",
     "text": [
      "                                                                    \r"
     ]
    },
    {
     "name": "stdout",
     "output_type": "stream",
     "text": [
      "MoviePy - Done.\n",
      "MoviePy - Writing audio in chunk_390_420.mp3\n"
     ]
    },
    {
     "name": "stderr",
     "output_type": "stream",
     "text": [
      "                                                                    \r"
     ]
    },
    {
     "name": "stdout",
     "output_type": "stream",
     "text": [
      "MoviePy - Done.\n",
      "MoviePy - Writing audio in chunk_420_450.mp3\n"
     ]
    },
    {
     "name": "stderr",
     "output_type": "stream",
     "text": [
      "                                                                    \r"
     ]
    },
    {
     "name": "stdout",
     "output_type": "stream",
     "text": [
      "MoviePy - Done.\n",
      "MoviePy - Writing audio in chunk_450_452.mp3\n"
     ]
    },
    {
     "name": "stderr",
     "output_type": "stream",
     "text": [
      "                                                       \r"
     ]
    },
    {
     "name": "stdout",
     "output_type": "stream",
     "text": [
      "MoviePy - Done.\n",
      "MoviePy - Writing audio in chunk_0_30.mp3\n"
     ]
    },
    {
     "name": "stderr",
     "output_type": "stream",
     "text": [
      "                                                                    \r"
     ]
    },
    {
     "name": "stdout",
     "output_type": "stream",
     "text": [
      "MoviePy - Done.\n",
      "MoviePy - Writing audio in chunk_30_60.mp3\n"
     ]
    },
    {
     "name": "stderr",
     "output_type": "stream",
     "text": [
      "                                                                    \r"
     ]
    },
    {
     "name": "stdout",
     "output_type": "stream",
     "text": [
      "MoviePy - Done.\n",
      "MoviePy - Writing audio in chunk_60_90.mp3\n"
     ]
    },
    {
     "name": "stderr",
     "output_type": "stream",
     "text": [
      "                                                                    \r"
     ]
    },
    {
     "name": "stdout",
     "output_type": "stream",
     "text": [
      "MoviePy - Done.\n",
      "MoviePy - Writing audio in chunk_90_120.mp3\n"
     ]
    },
    {
     "name": "stderr",
     "output_type": "stream",
     "text": [
      "                                                                    \r"
     ]
    },
    {
     "name": "stdout",
     "output_type": "stream",
     "text": [
      "MoviePy - Done.\n",
      "MoviePy - Writing audio in chunk_120_150.mp3\n"
     ]
    },
    {
     "name": "stderr",
     "output_type": "stream",
     "text": [
      "                                                                    \r"
     ]
    },
    {
     "name": "stdout",
     "output_type": "stream",
     "text": [
      "MoviePy - Done.\n",
      "MoviePy - Writing audio in chunk_150_180.mp3\n"
     ]
    },
    {
     "name": "stderr",
     "output_type": "stream",
     "text": [
      "                                                                    \r"
     ]
    },
    {
     "name": "stdout",
     "output_type": "stream",
     "text": [
      "MoviePy - Done.\n",
      "MoviePy - Writing audio in chunk_180_210.mp3\n"
     ]
    },
    {
     "name": "stderr",
     "output_type": "stream",
     "text": [
      "                                                                    \r"
     ]
    },
    {
     "name": "stdout",
     "output_type": "stream",
     "text": [
      "MoviePy - Done.\n",
      "MoviePy - Writing audio in chunk_210_240.mp3\n"
     ]
    },
    {
     "name": "stderr",
     "output_type": "stream",
     "text": [
      "                                                                    \r"
     ]
    },
    {
     "name": "stdout",
     "output_type": "stream",
     "text": [
      "MoviePy - Done.\n",
      "MoviePy - Writing audio in chunk_240_270.mp3\n"
     ]
    },
    {
     "name": "stderr",
     "output_type": "stream",
     "text": [
      "                                                                    \r"
     ]
    },
    {
     "name": "stdout",
     "output_type": "stream",
     "text": [
      "MoviePy - Done.\n",
      "MoviePy - Writing audio in chunk_270_300.mp3\n"
     ]
    },
    {
     "name": "stderr",
     "output_type": "stream",
     "text": [
      "                                                                    \r"
     ]
    },
    {
     "name": "stdout",
     "output_type": "stream",
     "text": [
      "MoviePy - Done.\n",
      "MoviePy - Writing audio in chunk_300_330.mp3\n"
     ]
    },
    {
     "name": "stderr",
     "output_type": "stream",
     "text": [
      "                                                                    \r"
     ]
    },
    {
     "name": "stdout",
     "output_type": "stream",
     "text": [
      "MoviePy - Done.\n",
      "MoviePy - Writing audio in chunk_330_360.mp3\n"
     ]
    },
    {
     "name": "stderr",
     "output_type": "stream",
     "text": [
      "                                                                    \r"
     ]
    },
    {
     "name": "stdout",
     "output_type": "stream",
     "text": [
      "MoviePy - Done.\n",
      "MoviePy - Writing audio in chunk_360_390.mp3\n"
     ]
    },
    {
     "name": "stderr",
     "output_type": "stream",
     "text": [
      "                                                                    \r"
     ]
    },
    {
     "name": "stdout",
     "output_type": "stream",
     "text": [
      "MoviePy - Done.\n",
      "MoviePy - Writing audio in chunk_390_420.mp3\n"
     ]
    },
    {
     "name": "stderr",
     "output_type": "stream",
     "text": [
      "                                                                    \r"
     ]
    },
    {
     "name": "stdout",
     "output_type": "stream",
     "text": [
      "MoviePy - Done.\n",
      "MoviePy - Writing audio in chunk_420_450.mp3\n"
     ]
    },
    {
     "name": "stderr",
     "output_type": "stream",
     "text": [
      "                                                                    \r"
     ]
    },
    {
     "name": "stdout",
     "output_type": "stream",
     "text": [
      "MoviePy - Done.\n",
      "MoviePy - Writing audio in chunk_450_452.mp3\n"
     ]
    },
    {
     "name": "stderr",
     "output_type": "stream",
     "text": [
      "                                                       \r"
     ]
    },
    {
     "name": "stdout",
     "output_type": "stream",
     "text": [
      "MoviePy - Done.\n",
      "MoviePy - Writing audio in chunk_0_30.mp3\n"
     ]
    },
    {
     "name": "stderr",
     "output_type": "stream",
     "text": [
      "                                                                    \r"
     ]
    },
    {
     "name": "stdout",
     "output_type": "stream",
     "text": [
      "MoviePy - Done.\n",
      "MoviePy - Writing audio in chunk_30_60.mp3\n"
     ]
    },
    {
     "name": "stderr",
     "output_type": "stream",
     "text": [
      "                                                                    \r"
     ]
    },
    {
     "name": "stdout",
     "output_type": "stream",
     "text": [
      "MoviePy - Done.\n",
      "MoviePy - Writing audio in chunk_60_90.mp3\n"
     ]
    },
    {
     "name": "stderr",
     "output_type": "stream",
     "text": [
      "                                                                    \r"
     ]
    },
    {
     "name": "stdout",
     "output_type": "stream",
     "text": [
      "MoviePy - Done.\n",
      "MoviePy - Writing audio in chunk_90_120.mp3\n"
     ]
    },
    {
     "name": "stderr",
     "output_type": "stream",
     "text": [
      "                                                                    \r"
     ]
    },
    {
     "name": "stdout",
     "output_type": "stream",
     "text": [
      "MoviePy - Done.\n",
      "MoviePy - Writing audio in chunk_120_150.mp3\n"
     ]
    },
    {
     "name": "stderr",
     "output_type": "stream",
     "text": [
      "                                                                    \r"
     ]
    },
    {
     "name": "stdout",
     "output_type": "stream",
     "text": [
      "MoviePy - Done.\n",
      "MoviePy - Writing audio in chunk_150_180.mp3\n"
     ]
    },
    {
     "name": "stderr",
     "output_type": "stream",
     "text": [
      "                                                                    \r"
     ]
    },
    {
     "name": "stdout",
     "output_type": "stream",
     "text": [
      "MoviePy - Done.\n",
      "MoviePy - Writing audio in chunk_180_210.mp3\n"
     ]
    },
    {
     "name": "stderr",
     "output_type": "stream",
     "text": [
      "                                                                    \r"
     ]
    },
    {
     "name": "stdout",
     "output_type": "stream",
     "text": [
      "MoviePy - Done.\n",
      "MoviePy - Writing audio in chunk_210_240.mp3\n"
     ]
    },
    {
     "name": "stderr",
     "output_type": "stream",
     "text": [
      "                                                                    \r"
     ]
    },
    {
     "name": "stdout",
     "output_type": "stream",
     "text": [
      "MoviePy - Done.\n",
      "MoviePy - Writing audio in chunk_240_270.mp3\n"
     ]
    },
    {
     "name": "stderr",
     "output_type": "stream",
     "text": [
      "                                                                    \r"
     ]
    },
    {
     "name": "stdout",
     "output_type": "stream",
     "text": [
      "MoviePy - Done.\n",
      "MoviePy - Writing audio in chunk_270_300.mp3\n"
     ]
    },
    {
     "name": "stderr",
     "output_type": "stream",
     "text": [
      "                                                                    \r"
     ]
    },
    {
     "name": "stdout",
     "output_type": "stream",
     "text": [
      "MoviePy - Done.\n",
      "MoviePy - Writing audio in chunk_300_330.mp3\n"
     ]
    },
    {
     "name": "stderr",
     "output_type": "stream",
     "text": [
      "                                                                    \r"
     ]
    },
    {
     "name": "stdout",
     "output_type": "stream",
     "text": [
      "MoviePy - Done.\n",
      "MoviePy - Writing audio in chunk_330_360.mp3\n"
     ]
    },
    {
     "name": "stderr",
     "output_type": "stream",
     "text": [
      "                                                                    \r"
     ]
    },
    {
     "name": "stdout",
     "output_type": "stream",
     "text": [
      "MoviePy - Done.\n",
      "MoviePy - Writing audio in chunk_360_390.mp3\n"
     ]
    },
    {
     "name": "stderr",
     "output_type": "stream",
     "text": [
      "                                                                    \r"
     ]
    },
    {
     "name": "stdout",
     "output_type": "stream",
     "text": [
      "MoviePy - Done.\n",
      "MoviePy - Writing audio in chunk_390_415.mp3\n"
     ]
    },
    {
     "name": "stderr",
     "output_type": "stream",
     "text": [
      "                                                                    \r"
     ]
    },
    {
     "name": "stdout",
     "output_type": "stream",
     "text": [
      "MoviePy - Done.\n",
      "텍스트 파일로 저장되었습니다.\n"
     ]
    }
   ],
   "source": [
    "# 오디오 파일을 30초 단위로 나누는 함수\n",
    "def split_audio(file_path, chunk_length=30):\n",
    "    audio = AudioFileClip(file_path)\n",
    "    total_duration = int(audio.duration)\n",
    "    audio_chunks = []\n",
    "\n",
    "    for start in range(0, total_duration, chunk_length):\n",
    "        end = min(start + chunk_length, total_duration)\n",
    "        chunk = audio.subclip(start, end)\n",
    "        chunk_path = f\"chunk_{start}_{end}.mp3\"\n",
    "        chunk.write_audiofile(chunk_path)\n",
    "        audio_chunks.append(chunk_path)\n",
    "\n",
    "    return audio_chunks\n",
    "\n",
    "\n",
    "# 각 청크에서 텍스트 추출\n",
    "def transcribe_audio_chunks(chunk_files):\n",
    "    transcriptions = []\n",
    "    for chunk_file in chunk_files:\n",
    "        result = whisper_medium(chunk_file, generate_kwargs={\"language\": \"korean\"})\n",
    "        transcriptions.append(result[\"text\"])\n",
    "        os.remove(chunk_file)  # 임시 파일 삭제\n",
    "    return transcriptions\n",
    "\n",
    "\n",
    "# 전체 텍스트를 하나로 합침\n",
    "def merge_transcriptions(transcriptions):\n",
    "    return \" \".join(transcriptions)\n",
    "\n",
    "\n",
    "# 오디오 파일 경로\n",
    "\n",
    "final_transcription1 = ''\n",
    "final_transcription2 = ''\n",
    "final_transcription3 = ''\n",
    "final_transcription4 = ''\n",
    "\n",
    "# 오디오 파일을 30초 단위로 나누고 텍스트 추출\n",
    "\n",
    "for i in range(0, 4):  # 4개 파일 처리\n",
    "    audio_file = f\"./ebs_audio/y2mate.com - 초등 수학 개념잡기  08강 분수의 덧셈과 뺄셈 원리    00{i+1}_360P.mp3\"\n",
    "    \n",
    "    # 파일이 존재하는지 확인\n",
    "    if os.path.exists(audio_file):\n",
    "        chunks = split_audio(audio_file)\n",
    "        transcriptions = transcribe_audio_chunks(chunks)\n",
    "        transcription = merge_transcriptions(transcriptions)\n",
    "\n",
    "        if i == 0:\n",
    "            final_transcription1 += transcription\n",
    "        elif i == 1:\n",
    "            final_transcription2 += transcription\n",
    "        elif i == 2:\n",
    "            final_transcription3 += transcription\n",
    "        elif i == 3:\n",
    "            final_transcription4 += transcription\n",
    "    else:\n",
    "        print(f\"파일 {audio_file}이 존재하지 않습니다. 다음 파일로 넘어갑니다.\")\n",
    "\n",
    "\n",
    "with open(\"final_transcription_group_8.txt\", \"w\", encoding=\"utf-8\") as f:\n",
    "    f.write(\"Final Transcription 1:\\n\")\n",
    "    f.write(f\"\\n{final_transcription1}\" + \"\\n\\n\")\n",
    "    f.write(\"Final Transcription 2:\\n\")\n",
    "    f.write(f\"\\n{final_transcription2}\" + \"\\n\")\n",
    "    f.write(\"Final Transcription 3:\\n\")\n",
    "    f.write(f\"\\n{final_transcription3}\" + \"\\n\")\n",
    "    f.write(\"Final Transcription 4:\\n\")\n",
    "    f.write(f\"\\n{final_transcription4}\" + \"\\n\")\n",
    "\n",
    "print(\"텍스트 파일로 저장되었습니다.\")\n",
    "\n",
    "\n"
   ]
  },
  {
   "cell_type": "code",
   "execution_count": 76,
   "metadata": {},
   "outputs": [
    {
     "name": "stdout",
     "output_type": "stream",
     "text": [
      "나라를 선택한 학생수는 20명에다가 4명씩 3칸 12만큼을 더하여서 32명이라고 답할 수 있게 됩니다. 캐나다 32명 이와 같이 표현해 주세요. 또 막대 그래프에서 하나 짚어둘 게 있는데요. 우리 친구들이 막대를 이렇게 그리는 친구들이 있는데요. 이거는 우리가 중학교 1학년 교과에 올라가서 배우게 되는 히스토그램이라고 하여서 그 명칭이 다른 거예요. 따라서 막대 그래프를 그릴 때에는 이와 같이 칸 안에 막대의 형태가 될 수 있도록 표현해 주어야 합니다. 이와 같이 막대 그래프에 관련된 내용 하나 만나보았고요. 자 그러면 또 하나의 문제 준비를 했어요. 이번에 만나볼 문제는요. 반, 멸, 상을 탄 학생수를 조사하여서 이것을 막대 그래프로 표현을 해주고 있는데요. 독서 퀴즈 대회에서 상을 탄 학생수를 나타낸 것입니다. 상을 가장 많이 탄 반은 몇 반입니까? 이거는 막대의 높이만 비교해서는 안 되죠. 왜냐면 한 반 안에 서로 다른 색의 막대가 들어가 있기 때문이에요. 남학생과 여학생이다라고 했으니까 각 반마다 남녀 학생수의 합을 구해줘야 해요. 세로는 꿈 하나가 한 명을 나타내기 때문에 1반에 남학생 6명, 여학생 3명 합쳐서 9명입니다라고 얘기를 하고 그 다음에 2반도 확인을 해야겠네요. 2반에는요. 남학생 8명에 여학생 4명이에요. 그래서 12명이라고 말할 수 있는 거죠. 그 다음에 3반은 어떠한가요? 남학생 6명에 여학생 7명, 따라서 13명이 되어지는 거고 4반과 같은 경우에는 남학생 2명에 여학생은 8명이 되겠죠. 따라서 이것이 10명입니다라고 말할 수 있으므로 상을 가장 많이 탄 반은 3반입니다. 이와 같이 답할 수 있게 됩니다. 세로는 꿈 하나가 바뀔 수도 있어요. 이 문제가 어렵게 출제가 될 때는요. 따라서 세로는 꿈 한 칸이 몇 명을 나타내는지를 확인하고 난 다음에 이와 같이 남녀 학생수의 합을 구하고 난 다음 상을 가장 많이 탄 반을 골라주는 것으로 문제 해결해주세요. 이렇게 첫 번째 개념의 내용 막대그래프에 대해서 확인을 해보았으니까 다시 보기를 통해서 정리해볼게요. 두 번째 개념입니다. 우리 이 자료를 조사해서 그 자료를 나타내주는 방법 중 하나로 이번에는 그림 그래프를 만나보려고 해요. 이 명칭에서 보는 것처럼 그래프인데 그 앞에 그림이라는 말이 붙었단 말이죠. 그림을 그려서 조사한 수량을 나타내고 있구나라는 걸 감잡을 수 있을 거예요. 그래서 우리는 그림을 그려서 조사한 수량을 나타내고 있습니다. 그림을 그려서 조사한 수량을 나타내고 있구나라는 걸 감잡을 수 있을 거예요. 그래서 우리는 그림 그래프라고 한다면 그림을 통해서 나타낸 그래프다라고 얘기를 해요. 그림을 그려서 나타낸 그래프 그런데요. 아무 그림이나 그리는 것은 아니고요. 무엇을 조사했는가에 따라서 그 의미가 아주 정확하게 드러날 수 있도록 그림을 선택해주는 것이 중요해요. 예를 들어서 지금 보면 반별 폐품의 무게라고 되어있죠. 이건 지금 그림 그래프예요. 그런데 보니까 그림의 가짓수, 그림이 몇 가지죠? 이렇게 큰 것, 작은 것 해서 그림의 가짓수가 두 가지죠. 아마 여러분은 이 그림만 보아도 어? 이거 무슨 무게추 같은데? 아마 무게를 나타낸 거겠구나라는 감을 잡을 수 있을 거란 말이에요. 그래서 우리는요. 이와 같이 그림을 보고서도 어떤 무게를 나타냈겠구나라는 걸 그 의미 파악을 쉽게 할 수 있도록 그림 그래프를 그리고 있다라는 것 그럼 이것이 바로 그림 그래프의 장점이 되어지는 거겠죠. 무엇을 조사한 것이 무엇인지 조사한 것의 의미를 쉽게 파악할 수 있다. 쉽게 알아볼 수 있다라고 하는 것이 그림 그래프의 장점이다라고 말할 수 있어요. 그렇다면 여기서 읽어 나타낼 수 있는 사실들도 매우 많아요. 그러니까 2반과 같은 경우에 2반에서 폐품의 무게, 폐품의 무게 모은 폐품의 무게가 몇 킬로그램이니까라고 물어본다면 이 그림을 놓고 그림의 가짓수 두 가지였고 큰 그림이 10킬로그램을 나타내주므로 2반과 같은 경우는 34킬로그램 만큼을 모은 것입니다. 라는 것을 그 자료를 조사한 것을 표현했기 때문에 쉽게 답해 볼 수 있게 되는 거죠. 자, 그리고요. 그림만 딱 놓고 봐도요. 어느 반의 폐품 모은 양이 가장 많습니까라고 물어본다면 큰 그림이 제일 많은 3반입니다라고 얘기해 볼 수 있을 겁니다. 이와 같이 그림만 놓고 보아도 내가 읽어 나타낼 수 있는 사실들이 매우 많게 되고요. 조사한 것의 의미를 쉽게 파악하고 나타낼 수 있다라는 장점을 갖는다라는 것 그림 그래프의 장점에 대해서도 확인해 볼 수 있어요. 그림 그래프의 또 하나 장점이 있는데요. 그럼 이런 문제가 나온단 말이에요. 1반과 3반에서 모은 폐품의 무게가 1반과 4반에서 모은 폐품의 무게보다 많습니까? 더 무겁습니까? 또는 더 가볍습니까? 라고 물어보았을 때 이렇게 어떤 위치나 방향을 가지고 나눠서 그것을 물어보고 있을 때에도 역시 그림 그래프라면 쉽게 그 답을 표현해 줄 수 있다라는 것이죠. 1반과 3반은 큰 그림을 보시면 모두 7개 2반과 4반은 큰 그림을 보니까 4개만큼이죠. 작은 그림을 합해 준 것도 살펴보았을 때 3반과 1반을 합쳐준 작은 그림의 수가 1, 2, 3, 4, 5, 6, 7, 8, 9, 10, 11개이고 또 2반과 4반은 1, 2, 3, 4, 5, 6, 7, 8, 9개만큼이므로 1반과 3반이 2반과 4반보다 폐품을 모은 무게가 더 무겁습니다. 라는 것을 알 수 있게 돼요. 바로 이러한 것들을 알아보기 쉬운 그래프가 그림 그래프 된다. 그림 그래프가 어떤 장점을 갖고 있는지 이와 같은 것들을 기억해 두는 것이 중요합니다. 그러면 우리 그림 그래프는 어떠한 방법으로 그릴 수 있는 걸까요? 그 그리는 방법에 대해서 함께 알아볼게요. 이것도 순서를 막 섞어놓고 난 다음에 무엇을 먼저 할까, 골라라 이런 것들이 굉장히 많이 나와요. 그런데 우리 친구들이 가장 많이 틀리는 게 뭐냐면요 제일 먼저 해야 할 것이 그림의 가짓수를 정하는 것이 가장 중요해요. 그렇기 때문에 내가 그림의 가짓수를 두 가지로 할 건지 또는 세 가지로 할 건지 이렇게 가짓수를 먼저 생각해 보고 그리고 난 다음에 해야 할 것은 어떤 그림으로 나타낼 것인지를 정해주는 겁니다. 예를 들어 사과 생산량이다라고 얘기를 했을 때 사과 생산량인데 조사된 수를 보니까 4자릿수로 조사가 되어져 있습니다. 그런데 그 값이 예를 들어 2800이고요 3500이고요 그리고 2450입니다. 이와 같이 표현이 되어졌다면 아마 여러분들은 그림을 세 가지로 하겠습니다. 라고 대답을 하셨을 거예요. 그러면 이럴 때 세 가지로 할 건데 그림을 선택하여서 사과니까 이렇게 사과 모양으로 그 그림을 선택해 보시고요. 각각의 수량을 나타내 주는 거예요. 1000개, 100개, 그리고 10개 이와 같은 형태로요. 그리고 난 다음에 이제 해야 할 것은 조사한 수에 맞도록 그림을 그려주는 것이죠. 그림 그래프의 제목은 가장 마지막에 붙여서 표현을 해주세요. 이것이 바로 그림 그래프를 그리는 순서라고 볼 수 있는 것이죠.\n",
      "해주고 제목을 제일 마지막에 표현한다라는 것까지 그 순서를 놓치지 않아야 해요. 그런데 꺾은선 그래프를 그리다 보면은요 자료의 값을 나타내는데 불필요한 부분이 생긴단 말이에요. 그래서 우리가 만나볼 것은 바로 물결선을 사용한다라는 내용을 만나 볼 텐데요. 물결선이라고 하는 건 불필요한 부분을 줄여서 나타내 주는 역할을 하게 되구요. 이렇게 줄여서 나타내므로 인해서 세로 눈꿈 한 칸의 크기를 작게 잡을 수 있어요. 그러니까 지금 여기서는 세로 눈꿈 한 칸의 크기를 0.1로 잡을 수 있었다라는 것이죠. 이렇게 0.1이 되도록 잡을 수 있다면 변화하는 것들이 더 뚜렷하게 나타나지는 장점이 생기게 돼요. 물결선이라는 것이 어떤 장점을 갖고 있는 것인지를 여러분이 꼭 생각을 해보셔야겠죠. 불필요한 부분 0에서 17.0까지를 줄여주었고 세로 눈꿈 한 칸의 크기를 작게 잡으면서 변화하는 양을 뚜렷하게 나타내 주는 효과가 있습니다. 그러면 물결선을 사용한 꺾은선 그래프는 어떤 방법으로 그리는 걸까요? 똑같은데 하나만 미리 생각하세요. 바로 이거요. 물결선으로 나타낼 부분을 먼저 정하고 물결선부터 그려주시는 거예요. 이거를 제일 먼저 해야 된다라는 것 생각해 보시고요. 그리고 난 다음에 세로 눈꿈 한 칸의 크기를 정하고 가로와 세로 만나는 자리에 점 찍고 선분으로 연결해서 제목을 적는 것까지는 나머지 모든 과정이 동일합니다. 이와 같은 형태로 물결선을 사용한 꺾은선 그래프 그리는 방법들을 살펴보았어요. 자 그러면 이제 여러분들과 이에 관련된 문제 함께 해결해 보도록 할게요. 문제 보시면 8월에는 은경이의 키가 어떻게 변할 것이라고 예상하는지 쓰시오. 자 어떻게 예상합니까? 지금 꺾은선 그래프를 보시면 어때요? 각각의 구간별로 그렇죠. 그 선분이 오른쪽 위로 올라가지고 있는 것을 확인해 볼 수 있죠. 따라서 어떻게 변할 거라고 예상합니까? 점점 8월에는 더 클 것이라 예상합니다. 왜냐하면 쭉 이렇게 키가 자라나고 있었기 때문에 8월에는 7월보다 더 클 것이라 예상합니다. 이와 같이 그 꺾은선 그래프를 보고 변화가 어떻게 이루어질까 라는 것들을 밝혀 보는 것이 중요하겠죠. 자 이렇게 문제 해결했고요. 그러면 또 다른 문제도 준비를 해봤어요. 꺾은선 그래프에 대해서 확인을 하면서 표를 보고 그래프로 나타낼 때 세로 눈금 한 칸의 크기는 얼마로 하는 것이 좋습니까? 라고 이렇게 얘기를 했는데요. 그러면 세로 눈금 한 칸이니까 그 횟수를 보세요. 나리의 훌라후프 횟수를 조사하여서 나타내 주었는데 지금 월요일에서 금요일까지 자료가 조사가 되어져 있죠. 횟수를 0.1회라고 한다면 우리가 70회라는 걸 표현하기 위해서는 너무나 많은 칸들이 필요하고요. 횟수는 0.1회라고 얘기를 하지 않죠. 그러면 1회, 2회, 5회 여기서는 지금 보시면 10의 자리 숫자가 표현이 되어져 있고 3자리 수인 것도 있는데 1의 자리에는 숫자가 모두 0으로 나타나져 있으므로 세로 눈금 한 칸의 크기는 10회로 표현해 주시는 것이 좋습니다. 따라서 세로 눈금 한 칸의 크기는 10회에 당되는 5번으로 표현하도록 합니다. 그러면 이렇게 문제 확인해 보았으니까 또 다른 문제도 도전해 볼게요. 이번에는 조금 어려운 문제 준비를 해봤는데요. 3일의 기온과 전기 사용량은 약 얼마라고 예상할 수 있습니까? 이때 약 얼마입니까? 라고 얘기를 하였으므로 답을 할 때에도요. 약 얼마, 약 얼마입니다. 이와 같은 형태로 답한다라는 거 잊지 마시고요. 이건 정확한 값이 아니라 예상한 값이기 때문에 약이라는 표현을 붙이게 된 거예요. 그렇다면 우리 기온부터 확인할까요? 3일은 조사하지 않았지만 중간의 값으로 예상하기로 하였으므로 27도와 29도의 사이의 값인 28도입니다. 라고 예상을 하게 되는 거죠. 그리고 난 다음에 지금 이 빨간색은 기온을 나타내 준 거였고요. 파란색이 전기 사용량이니까요. 전기 사용량을 볼게요. 1일에는요. 이 옆쪽으로 싹 와서 1960만 키로와트를 사용하였고 5일을 보니까 2000만 키로와트를 사용하였다 라고 표현이 되어져 있죠. 따라서 이 중간의 값으로 예상하여 1980만 이것도 만이라는 글자 빼먹으시면 안 되죠. 키로와트까지 단위를 붙이는 것으로 그 사용한 양을 예상하여 나타내 볼 수 있습니다. 이처럼 예상해서 나타내 줄 때에는요. 여러분들이 약이라는 표현을 통해서 문제를 해결해 주시면 되겠어요. 자 그러면 이제 또 다른 문제 하나 가볍게 만나보도록 할게요. 전기 사용량의 변화가 가장 큰 때는 며칠과 며칠의 사이입니까? 라고 물어보았어요. 어디와 어디죠? 우리가 보면 전기 사용량 파란색 선이고요. 변화가 가장 큰 때다 라고 얘기를 하였으므로 이때에는요. 그 선분 기울기가 가장 가파른 구간을 찾아서 551과 그리고 9142 이와 같이 변화가 가장 큰 때를 살펴볼 수 있게 됩니다. 자 이렇게 문제 모두 해결을 했으니까요. 우리 세번째 개념의 내용 다시 한번 정리할게요. 이번 시간 여러가지 자료 정리 그 표현의 방법에 대해서 살펴보았는데요. 우리 함께 두 번 강중한 문제 만나보도록 하겠습니다. 어떤 문제인지 소개할게요. 이번 시간 정답도 여러분 많이 많이 남겨주셔야 해요. 그리고 우리 지난 시간 정답 2800 이었죠? 많은 친구들 너무 수고 많으셨습니다. 다시 보기 필요하시면 우리 홈페이지 방문하는 거 잊지 마시고요. 우리 다음 시간에는요. 문제를 해결할 수 있는 여러가지 방법을 찾아보는 그 첫번째 시간으로 함께 할게요. 다음 시간 만나요. 안녕히 계세요. 다음 시간에 만나요. 안녕히 계세요.\n",
      "텍스트 파일 저장 완료.\n"
     ]
    }
   ],
   "source": [
    "import openai\n",
    "\n",
    "openai.api_key = \"\"\n",
    "\n",
    "transcriptions = ''\n",
    "\n",
    "for i in range(0, 4):\n",
    "    file = f\"./ebs_audio/y2mate.com - 초등 수학 개념잡기  22강 자료정리의 방법    00{i+1}_360P.mp3\"\n",
    "    \n",
    "    \n",
    "\n",
    "    if os.path.exists(file):\n",
    "        audio_file = open(file, \"rb\")\n",
    "\n",
    "        # Whisper 모델로 오디오 파일을 텍스트로 변환\n",
    "        transcription = openai.Audio.transcribe(\n",
    "            model=\"whisper-1\", \n",
    "            file=audio_file\n",
    "        )\n",
    "        \n",
    "        # 텍스트 저장\n",
    "        print(transcription['text'])\n",
    "        transcriptions += transcription['text']\n",
    "\n",
    "    with open(\"final_transcription_group_22.txt\", \"w\", encoding=\"utf-8\") as f:\n",
    "        f.write(f\"{transcriptions}\" + \"\\n\\n\")\n",
    "\n",
    "\n",
    "print(\"텍스트 파일 저장 완료.\")"
   ]
  },
  {
   "cell_type": "code",
   "execution_count": 80,
   "metadata": {},
   "outputs": [
    {
     "name": "stdout",
     "output_type": "stream",
     "text": [
      "텍스트에서 가장 많이 나온 단어들을 언급 순위로 정리하면 다음과 같습니다:\n",
      "\n",
      "1. \"단위\" – 56회\n",
      "2. \"길이\" – 31회\n",
      "3. \"시간\" – 28회\n",
      "4. \"표현\" – 23회\n",
      "5. \"계산\" – 18회\n",
      "6. \"초\" – 16회\n",
      "7. \"학습\" – 14회\n",
      "8. \"문제\" – 13회\n",
      "9. \"미터\" – 12회\n",
      "10. \"활용\" – 11회 \n",
      "11. \"얘기\" – 11회\n",
      "12. \"수업\" – 8회\n",
      "13. \"확인\" – 8회\n",
      "14. \"더해\" – 8회\n",
      "15. \"배웠\" – 8회\n",
      "16. \"정리\" – 8회\n",
      "17. \"식\" – 7회\n",
      "18. \"구하\" – 7회\n",
      "19. \"답\" – 7회\n",
      "20. \"관계\" – 7회\n",
      "\n",
      "이를 바탕으로 태그를 만드세요:\n",
      "\n",
      "#단위 #길이 #시간 #표현 #계산 #초 #학습 #문제 #미터 #활용 #얘기 #수업 #확인 #더해 #배웠 #정리 #식 #구하 #답 #관계\n"
     ]
    }
   ],
   "source": [
    "import openai\n",
    "\n",
    "# OpenAI API 키 설정\n",
    "openai.api_key = \"\"\n",
    "\n",
    "# 번역 및 요약할 긴 영어 텍스트\n",
    "text_to_summarize = f\"\"'친한 친구 맞춰봐 왔어? 잠깐만 신난다 아파 어 뒤엣개 갖고 운동한 것 보세요 Ну 그렇지 영화 좋죠 장난이 아니라고 안올리는 거 어떤 시간 보내고 있나요? 선생님과 이번 시간은요 길이와 시간 이라는 것에 대해서 알아볼 거에요 그런데 길이라고 하는 건 사실 우리가 수학의 여러가지 영역 중에서 측정에 관련된 영역이다 라고 얘기를 해요 측정이라는 것은 무엇인가를 재어 나타내는 활동이기 때문에 길이도 가능하고 또 시간이라든지 무게, 들이 이렇게 너무나 다양한 것들이 측정의 영역에 속한다라고 할 수 있어요 사실 길이에 대한 것은 또는 시간에 대한 학습은요 초등학교 3학년 교과까지 학습을 통해서 모두 마무리 지어집니다 그러면 4학년, 5학년, 6학년 때는요 이미 마무리 지어졌던 내용들을 바탕해서 다양한 활용의 문제들을 만나게 되는 것이죠 기초가 탄탄해야겠죠 어떤 내용들이 있는지 확인해 볼 거에요 학습 목표부터 소개해 드립니다 첫 번째 개념의 내용, 제목에서 길이의 단위와 합과 차 라는 것이 보이고 있죠 길이의 단위라고 한다면 재어내는 활동에는 모두 단위가 나오게 돼요 측정의 영역에서 사용되는 단위다 라고 볼 수 있는데요 그런데 우리 배운 내용부터 간략하게 살펴볼 거에요 어떤 내용을 배웠었냐면 같은 단위를 사용하는데 그 말에 여러가지 표현들이 있는 경우 우리 이런 얘기를 하죠 길이라고 하는 건 그 길이를 재어 나타내 줄 때 길다, 짧다 라는 말을 쓸 수가 있었어요 그런데요 이 길이를 재어 나타내는 단위를 똑같이 사용하는데 단어의 뜻은 단어는 좀 다르게 표현하는 경우가 있단 말이에요 그래서 이때 거리라는 것에 대해서 얘기를 할 때에도 거리가 멀다 또는 우리는 거리가 가깝다 라는 이와 같은 표현을 쓰게 되죠 단위는 역시 같게 사용을 하는데 이거 말고도 있어요 우리가 깊이를 표현해 줄 때에는요 깊이가 깊다 그리고 얕다 라는 표현을 사용해 줄 수 있었죠 이렇게요 또 말고 또 있어요 높이도 있어요 건물의 높이를 얘기할 때에도 역시 같은 단위를 쓰는 것 같지만 그 단어를 쓸 때에는 높이가 높다 그리고 낮다 이런 표현을 쓸 수 있게 되는 거죠 또 어떤 것이 있을까요 우리 사람이 키요 키를 얘기할 때도요 키가 크다 작다 이와 같은 표현들을 사용해 줄 수 있었던 거죠 이렇게 우리가 길이라는 단위에 대해서 학습을 하기에 앞서서 배운 내용 중에는 어떠한 표현의 방법들이 있었는지를 확인해 보는 것이 필요할 거예요 그래서 이와 같이 배운 내용을 간략하게 살펴보았죠 수학 시간인데 마치 국어 시간처럼 이렇게 단어의 여러 가지 표현의 방법에 대해서 얘기를 해보는 시간이었고요 그러면 이제 여러분들께 길이의 단위라고 하는 것을 본격적으로 소개해 드리도록 할게요 그러면 길이의 단위에는요 이런 것들이 있어요 cm 그리고요 또 우리 미터라고 하는 단위도 있죠 그리고 킬로미터라는 단위도 있고 그 다음에 밀리미터 이와 같은 단위들이 있단 말이에요 이 각각을 읽어서 나타내 줄 때에도 cm, m, km, mm 라고 읽어서 나타내 주면 됩니다 이와 같이 길이의 단위들에 대해서 얘기를 해볼 수 있는데요 그러면 이 단위들 사이에는 어떠한 약속이 나타나지게 되는지 그와 같은 것을 이해해 볼 필요가 있겠네요 제일 먼저 1cm 라고 하는 것은 우리 10mm와 같습니다 라고 얘기를 하게 되고 그 다음에 기억해야 할 거 있죠 1m는 100cm와 같습니다 라고 얘기를 해 줄 거예요 그 다음에 세 번째 1km는 1000m와 같습니다 라고 단위 사이에 그 관계, 약속을 기억하여서 다양한 문제를 푸는 데 있어 활용을 해 주어야 해요 요 3가지만 기억을 한다면 길이의 웬만한 문제들은 모두 쉽게 해결되는 것이죠 이와 같이 길이의 단위들 이라는 것에 대해서 얘기를 해 보았어요 단위 4가지 꼭 기억을 해 두시고요 그런데 이때 km 라고 하는 건요 보통 길이에서도 표현을 하기는 하지만 비교적 먼 거리를 나타내 줄 때 주로 쓸 수 있는 단위가 되어집니다 이와 같이 단위들에 대해서 함께 살펴 보았고요 그 다음에 우리 제목에서 보였던 것처럼 길이의 합과 차라는 것에 대해서 확인해 보아야겠죠 길이의 합과 차는 굉장히 간단해요 같은 단위끼리 더해서 표현합시다 이렇게 기억을 해 주시면 되는데 선생님이 복잡한 유형 두 가지만 여기서 소개를 해 드릴게요 하나는 2km 예를 들어서 200m 에다가 더하기 3km 900m 입니다 라는 표현이 주어져 있다면 보통 이와 같은 경우는 우리가 길이의 합 또는 거리의 합 이라고 표현을 하게 되는데요 같은 단위끼리 더하여라 미터 끼리 더해 주었더니 이때 나오는 값이 1100이고 킬로미터 끼리 더해 주었더니 이때 나오는 값이 5가 되더라 그런데 이런 상태로는 답을 쓰지 않을 거란 말이에요 따라서 여기서 1000m 만큼을 빼어내어서 그것을 1km 로 올려주고 더해 줍시다 이와 같이 표현을 해 줍니다 따라서 1100에서 1000을 빼어서 100m 가 되어줬죠 그 다음에 1km 올라갔으니까 더해서 6km 가 되었다 이와 같이 더해서 나온 값이 1000m 이거나 1000보다 더 큰 값이 나왔을 때 이렇게 1100m 나왔을 때 1000m 만큼을 1km 라고 해서 이렇게 올려주고 난 다음에 계산을 해 주세요 그러면 반대로 이번에는 차를 한번 확인해 볼 텐데요 이번에 확인할 것은 3m 90cm 에서 1m 예를 들어 95cm 만큼을 빼려고 한다 그러면 이때는 같은 단위끼리 빼야 하는데 90에서 95를 뺄 수 없단 말이죠 따라서 이런 경우라면 1m 를 100cm 로 만들어 주고 190에서 95만큼을 빼어 주는 것으로 이때 나오는 값을 이와 같이 얼마로 표현해 주면 되는 걸까요 100에서 95 빼면 5 남죠 90을 더하니까 95cm 2에서 1을 빼어 1m 이와 같이 표현해 주면 되는 것이고요 따라서 역시나 1m 를 100cm 로 받아 내림하여 계산이 이루어졌다 라는 것만 기억해 두면 되는 거예요 길이의 합과 차 그다지 어려운 내용은 아니죠 길이의 합과 차를 구할 때는요 이처럼 같은 단위끼리 계산을 해 주시면 된다라는 거 받아 올린 것이 있는지 또는 받아 내려서 계산을 해 주었는지 이와 같은 것들만해주었는지 이와 같은 것들만 정확하게 구분해 주세요 그러면 이 개념을 확실하게 다잡아 줄 문제들 만나 볼까요 문제에서는 아래의 그림은 연우가 산 입구에서 약수터를 지나 꼭대기까지 올라간 거리입니다 연우가 산 입구에서 꼭대기까지 올라간 거리는 몇 킬로미터 몇 미터인지 프리과정을 쓰고 답을 구하시오라고 얘기를 했죠 그러면 보통 이런 문제는요 프리과정 중에 식이 포함이 되어질 거예요 우리가 구하고 싶은 건 산 입구에서 꼭대기까지의 거리를 구하려고 하는 것인데 그러다 보니까 산 입구에서 약수터까지의 거리에다가 약수터에서 꼭대기까지의 거리의 합을 구하는 것으로 문제를 해결해 볼 수 있고 그럼 이와 같이 프리과정 우리가 그 해결의 전략을 밝혔으니까 750에다가 800만큼을 더하게 되는 거죠 그런데 750은 단위가 미터고요 800도 단위가 미터란 말이에요 더하면 1550미터라는 값이 나오게 될 텐데 이것을 우리가 1km 550미터 입니다 라고 표현할 수 있게 되는 것이죠 따라서 프리과정은 이와 같이 적어주는 거고요 그 답을 구하여 답하여 1km 550미터 입니다 라고 표현해 둘 수 있어요 문제에서 묻고 있는 단위로 표현하여서 문제를 해결해 주어야죠 잘 풀었지만 그 답을 1550미터라고 한다면 문제에서 요구하는 그 단위가 잘못되었기 때문에 오답으로 처리된다는 것 꼭 기억해 두세요 이와 같이 여러분과 문제 해결해 보았습니다 문장 형태의 문제이지만 요렇게 식을 정확히 세워 주시면 되는 거예요 이번에 만나볼 거는요 창문에 가로의 길이가 주어졌고 세로의 길이도 주어져 있어요 가로 854mm 세로 67cm 5mm 물음에 답하슈 창문의 가로와 세로의 길이 합은 몇 cm 몇 mm 입니까 몇 mm 입니까 라고 묻지 않았죠 몇 cm 몇 mm 입니까 라고 물어보았기 때문에 문제 해결을 위한 물론 방법은 다양하게 있을 수 있겠지만 가로 854mm 라고 하는 걸 단위를 바꿔서 표현해 주세요 10mm 가 1cm 이기 때문에 85cm 4mm 입니다 라고 표현해 둘 수 있고 따라서 가로 85cm 4mm에 세로 67cm 5mm 만큼을 더해 주는 것으로 그런데 이때도 역시 같은 단위끼리 더하여서 4와 5를 더해 9cm 끼리 더합니다 2가 되고 5가 되고 1이 되었죠 따라서 이때 가로와 세로의 길이의 합은 152cm 9mm 이와 같이 표현해 둘 수 있게 돼요 같은 단위끼리 계산하는데 우리가 원하는 답에서 원하는 단위의 형태로 바꿔서 더해 주는 것으로 문제를 해결해 보세요 이와 같이 역시 문장형으로 주어진 것 함께 해결해 보았어요 그러면 이런 문제 말고요 또 하나 문제 만나볼까요 기억리온에 들어갈 알맞은 수를 구하는 문제라고 볼 수 있겠죠 그런데 이 문제는 그렇게 어려운 문제는 아니에요 같은 단위끼리라고 얘기를 했으니까 몇 km 650m 에다 16km 니은미터 요거를 이제 더해 주는 거란 말이죠 미터길이 더하였는데 650에 무엇을 더했더니 650보다 작은 수 500이 나왔어요 이 얘기는 그렇죠 바로 1000m 가 되어서 1km 로 올라갔다 라는 걸 말해주고 있는 거예요 그렇기 때문에 여러분이 확인해 주어야 할 것은 650 에다가 무엇을 더하면 이 값이 500이 아니라 1500이 되었겠느냐라는 것이구요 반대로 1500에서 650만큼을 빼어서 나온 값을 확인해 보시면 니은에 들어갈 알맞은 수는 바로 850으로 표현이 되어진다 라는 걸 알 수 있어요 850을 더함으로 인해서 1000m 가 1km 가 되어졌던 것이죠 그러면 1과 16을 더해서 17 그러면 이 기억 안에 들어갈 것은 7 이라고 얘기할 수 있겠지요 이와 같이 표현하였더니 기억에 들어갈 것은 7이 되어지고 니은에 들어갈 것은 850 이다라고 표현해 둘 수 있습니다 이와 같이 같은 단위끼리 계산해야 한다라는 그 계산의 원리를 익혀두면 되는 거예요 첫번째 개념 마무리 짓겠습니다 다시 보기를 통해서 정리할게요 두번째 개념 제목에서 시간의 단위와 학과 차아라고 얘기를 하고 있죠 시간의 단위다 그러면 우리 1학년 때부터 사실 쭉 거쳐오면서 시계보는 거 많이 배웠잖아요 정시라는 것도 배웠구요 몇시 30분 이라는 것에 대해서도 학습을 했었어요 또 분단위에 대한 학습들도 쭉 해결을 했었단 말이죠 그러면 우리는 시간이라는 것을 재어 나타내기 위해서 어떤 단위들을 썼었느냐 시라는 단위도 쓸 수 있었구요 또 분이라고 하는 것도 사용해 볼 수 있구요 또 초라고 하는 것도 사용해 볼 수 있었다라는 것이죠 바로 이것이 우리가 원하는 시간의 단위에요 그래서 예를 들어서 3시입니다 라고 얘기를 한다면 긴 바늘과 짧은 바늘의 위치를 통하여서 그 시각을 읽는다라는 것을 얘기해 볼 수 있구요 그 다음에 분입니다 라고 얘기를 했을 때 예를 들어서 그러면 3시 10분입니다 라고 표현을 하게 된다면 이때 우리는 긴 바늘과 짧은 바늘의 위치에서 긴 바늘은 숫자 2를 가리키고 10분을 나타낼 거니까 짧은 바늘이 숫자 3과 4 사이를 가리키되 10분이기 때문에 짧은 바늘은 사실 3에 더 가까운 위치를 가리킨다 라고 말할 수 있어요 그 다음에 이제 초에 대해서까지 학습이 이루어지면 시간의 단위라는 것은 모두 해결이 되죠 그래서 이때 이런 일을 한번 들어볼게요 1시 10분 예를 들어서 30초 입니다 그러면 30초를 나타낸다 그러면 초바늘이 가리키는 숫자는 큰 숫자 6을 가리키게 되더라 이와 같이 시간의 단위라는 것에 대해서 얘기를 해 볼 수 있게 돼요 이 단위들이 어느 시계에서 시곗바늘이 어디를 가리키는가에 따라서 각각의 표현들이 달라질 수 있다는 것 기억해 두시면 되겠죠 더불어서 너무나 중요한 것이 있어요 그게 뭐냐 얘네들 사이의 관계라는 것이 대단히 중요해요 그렇다면 한 시간 이라고 하는거 이것은 60분과 같다 라고 말할 수 있구요 1분 이라고 하는 것은 60초와 같습니다 라고 얘기를 합니다 요것을 알고 있어야 여러분은 시간에 관련된 다양한 활용 문제를 해결할 수 있게 되는 거에요 그런데요 역시 조금 더 앞서서 이것도역시 조금 더 앞서서 이것도 기억해 두세요 한 시간은 그래서 초로 바꾸면 3600초가 되는 것이다 조금 더 어려운 심화형 문제에서는요 시간을 분으로 분을 초로 바꾸는 이런 단계를 넘어서서 시간을 바로 초로 고치는 형태의 문제들도 많이 만날 수 있기 때문에 한 시간은 3600초와 같다라는 것 기억해 둬야 해요 시간의 단위에 어떤 표현의 방법들이 있는지 확인해 보았구요 그들 사이의 관계에 대해서도 얘기를 해보았어요 더불어서 우리 시각, 시라고 하는 건 언어한 시점을 말하는 거구요 시간이라고 하는 건 시각과 시각의 사이를 말해주는 것이다라는 것 구분해 두셔야겠죠 시간의 단위를 확인해 보았어요 그럼 이번에는 시간의 학과 차라는 거 살펴볼게요 앞서서 길이의 학과 차에 대해서 얘기를 한 것처럼 시간의 학과 차도 역시 마찬가지 같은 단위끼리 계산을 해주는 건데요 이것도요 예를 한번 들어볼게요 예를 들어서 2시 그 다음에 20분 10초에다가 더해 줍시다 3시간 15분 55초만큼을 이런 문제가 주어져 있다면 같은 단위끼리 더하기로 했죠 초하고 초를 더해서 이 값을 65초라고 적어 주었는데 분 끼리 더하니까 35분이고 2시에다가 3시간을 더했을 때 나오는 단위는 5시라고 표현이 되어져야죠 따라서 5시 35분 65초입니다 라고 이렇게 쓸 수가 있는데 다만 답은 이렇게 표현하지 않아요 왜냐하면 60초 만큼을 빼어서 1분으로 더해 줄 거기 때문이죠 따라서 이때 우리는 시간의 합을 구하여서 5초 그 다음 분 끼리 더해서 36분 5시 36분 5초를 나타내 줍니다 라고 말할 수 있게 돼요 같은 단위끼리 더했는데 60이거나 60보다 크면 바로 윗자리로 받아 올리마여 표현해 주시면 되는 거예요 시간의 합에 대해서 얘기를 해보았구요 그럼 이번엔 시간의 차에 대해서 확인을 해보아야겠죠 예를 들어서 50분 12초에서 15분 50초만큼을 빼어라 라고 얘기를 한다면 초 끼리 빼고 싶으나 뺄 수 없는 상황이 벌어지니까 1분을 가져와 60초라고 표현을 해주고 72에서 50을 빼어서 나타내 주니까 22초 49에서 15를 빼내어 34분 이와 같이 같은 단위끼리 계산할 수 없을 땐 바로 윗자리에서 받아 내리마여 계산해 준다라는 원리 이것만 기억해 두시면 되겠어요 시간의 합과 차 그 내용까지 모두 정리를 해보았어요 그렇다면 이제 여러분들과 문제를 통해서 그 개념 다져보는 시간 갖도록 할까요 계산을 하시오 아주 기본적인 형태죠 초 끼리 더하겠습니다 8이 되고 8이에요 그런데 8이라고 안 적을게요 이라고 적구요 60초가 1분이 되었습니다 라고 바로 표현하도록 하겠습니다 보통 문제 풀 때는 이렇게 하니까요 14에 1을 더해 15, 15에다가 31을 더해서 47만큼이 되었어요 시간에 시간을 더하면 그 단위는 시간이 되어지므로 12시간 47분 28초라고 대답해 주게 되죠 그렇다면 또 다른 문제 이번에는 시간의 차예요 그러면 초 끼리 계산할 것이다 35에서 25를 빼어서 10이 되었고 분 끼리 빼어 줄 텐데 뺄 수가 없어서 1시간이 60분이 되었으니 65에서 45를 빼내어 20이 되었고 9에서 5를 빼는데 그 단위가 지금 시간으로 표현이 되어져 있단 말이죠 따라서 9에서 5를 빼어 4시간 이와 같이 표현하는 것으로 계산을 마무리해 줄 수 있어요 자 시간의 학과차 가장 기본적인 형태죠 실수 없도록 주의하시구요 다음 문제는 어느 날 밤의 길이가 10시간 53분 이었대요 이날 낮의 길이는 몇 시간 몇 분 이었습니까 묻고 있군요 그렇다면 하루가 24시간 이잖아요 밤의 시간을 빼버리면 낮의 시간이 나오게 되는 것이죠 따라서 낮의 길이 밤의 길이라고 질문에 따라서 하루가 24시간 인데 여기에서 밤의 길이 10시간 53분 만큼을 빼내고 남은 것이 바로 낮의 길이입니다 라고 얘기를 해 주시구요 오답이 굉장히 많습니다 53분 이라고 쓰지 않는다는 거 왜냐하면 1시간을 가지고 와서 60분으로 이렇게 표현을 해 주시고 빼내어서 7분 요거 53분 아니고 7분 이에요 23에서 10을 빼내어서 13시간 이라고 나타내 주어야죠 따라서 이날 낮의 길이는 13시간 7분 이라고 표현해 둘 수 있어요 이 문제는 요 보통은 문제가 좀 어렵게 나오는 경우가 많아요 밤의 길이 그런데 낮의 길이를 구하여라 라고 얘기를 하고 이날 낮과 밤의 길이의 차를 구해라 라는 문제까지 조금 더 어려운 형태가 진행될 수 있다라는 것 말씀드릴게요 또 다른 문제 이번에 만나볼 것은 역시 문장형으로 주어져 있는데요 1교시 시작 시각은 9시 5분 이에요 수업시간 40분 수업시간은 40분이고 쉬는 시간이 10분 이라면 4교시 수업이 끝나는 시각은 몇시 몇분입니까 라고 물어보고 있습니다 여기에서 9시 5분에 1교시가 시작했어요 수업 40분 할 거죠 그 다음에 10분을 쉰단 말이에요 그래서 우리가 총 4교시를 해야 하는 거니까 4교시 라면 40분이 1번 2번 3번 4번만큼 있을 거고 쉬는 시간은 1교시가 끝나고 10분 2교시가 끝나고 10분 그 다음에 3교시가 끝나고 10분 4교시 수업이 끝나는 시각을 물어보았기 때문에 나머지 것은 더 이상 적을 것이 없어요 40이 4개니까 160 10이 3개니까 30 그러면 190 이라는 값이 나오게 되죠 190분이다 라고 얘기를 할 수 있는 건 60분이 1시간 이기 때문에 3시간 10분을 말해주는 거에요 그만큼이 지나가야 하는 것이기 때문에 12시 15분 이것이 바로 4교시 수업이 끝나는 시각이다라는 것을 알 수 있게 됩니다 그 답을 구하여서 답표 여기 있죠 12시 15분으로 나타내어서 문제 해결했어요 두 번째 개념까지 모두 마무리 지어졌습니다 다시 보기 통해서 정리합니다 칭찬에 푹 빠져 보니 저주한 물건의 당근까지 시작된 시각은 오전 6시 12분 45초이고 해가 진 시각은 오후 5시 11분 20초입니다 이날 낮의 길이를 구하시오 밤의 길이 낮의 길이는요 문장이 굉장히 많이 나온단 말이에요 화룡문제의 가장 대표적인 건데 이런 문제를 해결하시오대표적인 건데 이런 문제를 해결할 때에는요 구하려는 게 뭘까 여기서는 낮의 길이를 구하려고 한다 구하려는 것을 먼저 표현해 두었어요 그러면 두번째 이제 무엇을 알아봐야 하는지 확인해 볼게요 두번째에서는요 여러분들과 함께 주어진 조건이라는 것에 대해서 확인을 해 줄 거에요 주어진 조건은 해가 뜬 시각이 주어져 있고 해가 진 시각이 주어진 것이다 라고 표현할 수 있습니다 문제서 찾으세요 그 다음에 세번째 주어진 조건 다음으로 식세우기가 필요해요 낮의 길이를 구하는 거기 때문에 해가 진 시각에서 뜬 시각만큼을 빼내 주어야 하는 거에요 그런데 이때 확인을 해보니까 오후 5시라고 하는 건 계산을 위해서 17시라고 바꿀 수 있다라는 거 그리고 난 다음에 여기에서 6시 12분 45초만큼을 빼면 되겠다 이와 같이 식을 세워 주세요 그 다음에 네번째 식세우기 다음으로 답구하고 확인하는 과정이 필요해요 답을 구하면 촛끼리 빼어서 나오는 값심으로 받아내림 하고 이때 35초 그 다음에 다시 받아내림이 필요하죠 그러니까 얘가 70이 되어버렸네요 빼어주니까 나오는 값은 58분 16에서 6을 빼어 10인데 이때 시에서 시를 뺐기 때문에 그 단위를 시간이라고 표현해 둘 수 있는 거에요 이와 같이 답을 구하여서 또 이 답이 맞았는지 거꾸로 더 해보시면 되겠죠 해서 처음에 값이 나온다면 이 답도 맞았다라고 표현해 줄 수 있습니다 이와 같이 응용의 문제를 해결해 줄 때에는요 구하려는 것 주어진 조건 식을 세워서 그 답을 구하는 과정까지 단계별로 해결해 주시면 되겠어요 그러면 이제 이 활용의 문제들 어떤 형태가 주어져 있는지 문제 바로 만나볼게요 길이가 8cm 6mm 인 색테이프 3장을 겹치지 않게 이어 붙였습니다 이어붙인 색테이프는 30cm 보다 얼마나 더 짧은지 구하시오라고 얘기를 했죠 이어붙인 길이를 알아야죠 길이가 8cm 6mm 라고 얘기를 했는데 겹치지도 않아요 그러니까 요거를 3개만큼 더해주면 되겠죠 해서 더해 주었더니 밀리미터 길이 더해준 값은 666을 더해서 18 18mm 니까 1cm 8mm 로 8이 3개니까 24인데 1을 더하여서 25cm 로 여기까지 잘 풀었는데 이걸 답이라 적어서 틀리는 친구 너무나 많죠 이게 답이 아니에요 왜 30cm 보다 얼마나 짧냐 라고 물어보았으니까 30cm 에서 25cm 8mm 만큼을 빼내 주어야 하기 때문이죠 다시 오답이 많습니다 여기에 8이라고 적어서는 안 된다 왜냐하면 1cm 가 10mm 되어서 10에서 8을 빼어 2mm 라고 해야 하고 29에서 25를 빼어 4cm 라고 해야 하는 거니까 따라서 이때 나오는 답은 얼마나 짧습니까 4cm 2mm 만큼 더 짧습니다 라고 답해 주도록 할게요 이렇게 문장령 주어졌죠 여러분이 구하려는 것 잘 살펴보시고 문제 해결해 주시면 되겠어요 또 다른 문제는요 경과 같이 주어집니다 아 이 문제도 너무나 많이 나오는데요 그림에서 니은에서 디그까지의 거리는 몇 킬로미터 몇 미터 입니까라고 물어보았어요 겹치는 부분의 길이죠 이 겹치는 부분의 길이는 요 문제 해결을 위해서 8km 500m 에다가 7km 850m 만큼을 일단은 더해 주는 거에요 그러면 더해서 나오는 값이 이와 같이 16km 350m 가 되어야 하는데 그런데 기억에서 리얼까지 겹쳐진 바람에 길이가 줄어들었죠 따라서 이 겹친 부분의 길이는 16km 350m 에서 12km 450m 만큼을 빼내어 나오는 값이다 라고 표현해 주어야 해요 다시 받아내림이 이루어지면서 이때 값은 900m 로 나타나지고 15에서 11을 빼어서 3km 입니다 라고 표현해 둘 수 있습니다 따라서 이 문제 니은에서 디그까지의 거리를 구할 때에는 3km 900m 라고 할 수가 있는 것이죠 다양한 단언에서 활용되는 문제이기 때문에 풀이 방법 기억해 두어야 해요 이렇게 문제 해결되었구요 그러면 또 하나 선생님이 또 준비를 한 게 있죠 어떤 문제냐면 지민이는 월요일에 45분 동안 운동을 하였습니다 다음날부터 전날보다 시간을 10분씩 더 늘려서 금요일까지 운동을 했어요 지민이가 월요일부터 금요일까지 운동한 시간은 몇시간 몇분입니까 라고 묻고 있죠 45분 동안 운동을 했단 말이에요 그런데 그 다음날은 10분이 늘어났으니까 55 또 65 75 85 이렇게 된다는 얘기죠 월화수목금 이와 같이 표현이 되었었구요 이 값들을 모두 더해서 우리가 나타내 주는 거예요 그런데 확인을 해 보았더니 요 값 시간으로 바꾸어서 5시간 25분이 된다라는 걸 알 수 있었거든요 이렇게 10분씩 늘어났다라는 조건에 따라서 그러면 요거는 325분 이었겠죠 그것을 5시간 25분으로 바꾸어서 그 답에 대한 표현까지 마무리 지어 주시면 되겠어요 자 이렇게 준비된 내용 모두 해결을 해 보았구요 개념 다시 한 번 정리해 볼게요 으 이번 시간 학습이 잘 이뤄졌는지 궁금해요 우리 왕중왕 문제를 통해서 다시 한번 확인해 볼게요 으 지난 시간 정답은 동그라미 표였습니다 많이 맞춰 주셨구요 이번 시간에 내용 다시 보기 원하시나요 그렇다면 홈페이지 방문해서 꼭 살펴봐 주세요 이번 시간 답도 많이 남겨 주시구요 다음 시간은 드리와 무게 알아보고 그 합과 차까지 구해보는 시간으로 만나도록 할게요 여러분 안녕히 계세요 아아아 으 으 아 자 아 으'\"\"\n",
    "\n",
    "# GPT-4를 사용하여 텍스트를 주제별로 나누고 번역 및 요약\n",
    "response = openai.ChatCompletion.create(\n",
    "    model=\"gpt-4o\",\n",
    "    messages=[\n",
    "        {\"role\": \"system\", \"content\": \"You are analist. \"},\n",
    "        {\n",
    "            \"role\": \"user\",\n",
    "            \"content\": f\"이 텍스트는 한국의 초등학교 수학 강의 스크립트입니다. 가장 많이 나온 단어들을 태그로 만들려고 하는데, 단어 빈도수를 모두 체크해서 언급 순위를 내림차순으로 정리해 주세요. 스크립트: {text_to_summarize}\",\n",
    "        },\n",
    "        # {\"role\": \"user\", \"content\": \"Now, based on the translated text, analyze the teaching methods and explanation styles used in the lecture. Specifically, look at how concepts are introduced, whether problem-solving steps are explained clearly, and if there are any patterns in how the teacher interacts with students or presents mathematical ideas. in Korean.\"}\n",
    "    ],\n",
    ")\n",
    "\n",
    "# 번역 및 요약된 결과 출력\n",
    "print(response[\"choices\"][0][\"message\"][\"content\"])"
   ]
  },
  {
   "cell_type": "code",
   "execution_count": 27,
   "metadata": {},
   "outputs": [
    {
     "name": "stdout",
     "output_type": "stream",
     "text": [
      "1. 주제: 화살점수 계산과 표 작성\n",
      "   - 내용 요약: 5점짜리와 3점짜리 화살을 각각 몇 번씩 맞췄는지 구할 때, 총 점수에 대한 조건에 따라 그 횟수를 조금씩 조정하며 집계표를 작성하는 방법을 설명하였습니다. 이 과정에서 점수 합계가 조건에 맞게 되도록 5점짜리와 3점짜리를 조정하는 방법을 설명했습니다.\n",
      "\n",
      "2. 주제: 바둑돌 문제 해결 방법\n",
      "   - 내용 요약: 바둑돌 문제를 해결할 때 규칙을 찾는 방법과 표를 만드는 방법을 소개하였습니다. 문제를 해결하는데 필요한 다양한 방법들을 섞어서 사용할 수 있음을 강조하였습니다. \n",
      "\n",
      "3. 주제: 예상과 확인을 통한 문제 해결\n",
      "   - 내용 요약: 문제 해결을 위해 예상과 확인을 반복적으로 이용하는 방법을 설명하였습니다. 이 때 각 단계에서 요령을 사용하여 예상하고 이를 확인하여 답이 맞는지 판별하는 과정을 반복하는 방법을 설명하였습니다. \n",
      "\n",
      "4. 주제: 서술형 문제 해결 방법\n",
      "   - 내용 요약: 서술형 문제를 해결하는 방법으로 '프리 과정'을 사용하는 방법을 설명하였습니다. 문제 해결과정에서 예상과 확인을 이용하여 문제의 해를 찾는 방법을 예시를 통해 설명하였습니다. \n",
      "\n",
      "5. 주제: 도전 왕중 학 문제 풀이\n",
      "   - 내용 요약: 학생들이 문제를 풀며 학습을 복습하고 이해도를 확인하는 시간을 가졌습니다. 이를 통해 학생들이 이전에 배운 내용을 적용하며 이해도를 확인하는 방법을 소개하였습니다.\n",
      "\n"
     ]
    }
   ],
   "source": [
    "import openai\n",
    "\n",
    "# OpenAI API 키 설정\n",
    "openai.api_key = \"\"\n",
    "\n",
    "# 번역 및 요약할 긴 영어 텍스트\n",
    "text_to_summarize = f\"\"\"{final_transcription2}\"\"\"\n",
    "\n",
    "# GPT-4를 사용하여 텍스트를 주제별로 나누고 번역 및 요약\n",
    "response = openai.ChatCompletion.create(\n",
    "    model=\"gpt-4\",\n",
    "    messages=[\n",
    "        {\"role\": \"system\", \"content\": \"You are a helpful assistant.\"},\n",
    "        {\n",
    "            \"role\": \"user\",\n",
    "            \"content\": f\"This text is elementary school math lecture's content. Divide it by topic, and summarize each topic in korean: {text_to_summarize}\",\n",
    "        },\n",
    "        # {\"role\": \"user\", \"content\": \"Now, based on the translated text, analyze the teaching methods and explanation styles used in the lecture. Specifically, look at how concepts are introduced, whether problem-solving steps are explained clearly, and if there are any patterns in how the teacher interacts with students or presents mathematical ideas. in Korean.\"}\n",
    "    ],\n",
    ")\n",
    "\n",
    "# 번역 및 요약된 결과 출력\n",
    "print(response[\"choices\"][0][\"message\"][\"content\"])"
   ]
  },
  {
   "cell_type": "code",
   "execution_count": 29,
   "metadata": {},
   "outputs": [
    {
     "name": "stdout",
     "output_type": "stream",
     "text": [
      " 여러분 안녕하세요. 자, 초등서기 기념을 보도록 하겠습니다. 여러분 안녕하세요. 초등서기 기념을 보도록 하겠습니다. 여러분 안녕하세요. 초등서기 기념을 보도록 하겠습니다. 여러분 안녕하세요. 초등서기 기념을 보도록 하겠습니다. 여러분 안녕하세요. 초등서기 기념을 보도록 하겠습니다. 여러분 안녕하세요. 초등서기 기념을 보도록 하겠습니다. 여러분 안녕하세요. 초등서기 기념을 보도록 하겠습니다. 여러분 안녕하세요. 초등서기 기념을 보도록 하겠습니다. 여러분 안녕하세요. 초등서기 기념을 보도록 하겠습니다. 여러분 안녕하세요. 초등서기 기념을 보도록 하겠습니다. 여러분 안녕하세요. 초등서기 기념을 보도록 하겠습니다. 여러분 안녕하세요. 초등서기 기념을 보도록 하겠습니다. 여러분 안녕하세요. 초등서기 기념을 보도록 하겠습니다. 초등세계 개념을  확실하게 잡아보는 시간이죠. 여러분과 함께 준비한 내용은 여러분이 수학을 풀다가 가장 어렵게 느끼는 부분 중에 하나로 문장이 주어졌을 때 내가 이 문제를 풀기 위해 어떤 방법을 선택하면 좋은 것인지 그 문제 해결의 방법을 찾는 것 상당히 어려우셨죠. 그래서 이번 시간 준비를 해봤어요. 커다란게 세 가지 학습의 목표를 만나 보면서 어떤 내용을 배우게 되는지 한번 살펴볼게요. MBC 뉴스 김지경입니다.  자 우리 친구들 첫 번째 개념이에요. 제목부터 교칙을 찾아 문제 해결하기라고 주어져 있죠. 우리가 문제를 만났을 때 실제로 교칙을 찾아야 되는 것들은 굉장히 많아요. 대풀이 되는 구간을 찾아서 확인을 한다든지 또는 어떤 수들에 있어서 우리가 규칙을 발견하게 된다.  든지 이렇게 교칙을 찾아야 하는 문제들 중에 가장 대표적인 것으로 달력 문제를 예를 들어 볼 수 있는데요. 달력에서 나타나는 가장 큰 교칙 은요. 일주일은 7일과 같습니다. 라는 것 그리고 또 하나 7일마다 요일이 다를 수 있나요 아니죠 그래서 우리는 7일 마다 같은 요일이 되풀이 된다 라는 것 이와 같은 것들을 달력 문제가 나왔을 때 여러분이 제일 먼저 얘기를 해주셔야 되는 교치  이라고 볼 수가 있는 거예요 그렇다면 이 달력을 보세요 1 1 2 지금 수요일이죠 그럼 그 다음 수요일은 어떻게 되죠 아 7만큼 큰 수가 되겠구나 해서 8 1 입니다 라고 표현을 줄 수 있단 말이죠 그러면 질문이 나와요 어느 11월의 달력 일부가 찢어졌습니다 이때 11월에 수요일은 모두 며칠이 있겠습니까 그 날짜를 적으세요 그렇다면 1일 8일 15일 21일 29일까지 적어볼 수 있겠죠  11월에서 수요일인 것은 1, 2, 3, 4, 5번 나온다는 것을 알 수 있어요. 그러면 11월의 마지막 날을 물어보았을 때에는 11월이 30일까지 있으므로 마지막 날은 바로 목요일입니다라고 대답할 수 있게 되는 거죠. 이와 같이 달력 문제가 아주 대표적인 형태로 규칙을 찾아서 문제를 해결하는 경우입니다. 라고 볼 수가 있는 거예요. 그렇지만 규칙을 찾아라고 했을 때에는 달력 뿐만이 아니라 수 둘 사이에  관계 그것을 이용하여서 규칙을 발견할 수 있고요. 또는 대풀이 되는 구간 대풀이 되는 구간을 이용한 것으로 역시 규칙을 찾아서 문제를 해결해줄 수 있게 되어 이 외에도 너무나 많은 규칙 찾기의 문제들이 있다라는 것 말씀드리도록 할게요. 이렇게 문제를 규칙을 찾는다라고 말씀을 드렸으니까 실제 문제 예들을 보면서 우리 규칙을 찾아주는 것이 중요하겠죠. 그래서 예를 들어 문제 만나보도록 할게요  역시 우리가 규칙을 찾아야 하는 가장 대표적인 문제 중에 하나 라고 볼 수 있어요. 그림과 같은 규칙으로 문장의 제일 처음에 나와 있죠. 규칙으로 라고 얘기를 했단 말이에요. 그러니까 우리가 문제를 풀 때 어떤 규칙이지 수둘 사이에 규칙일까 아니면 노여져 있는 개수 사이에 규칙일까 이와 같은 것들을 빨리 판단하는 것이 중요한 거죠. 이와 같은 규칙으로 딸기를 놓을 겁니다. 11째번에 놓이는 딸기는 6째번에 놓이는 딸기보다 몇 개 더 많습니다. 그러면  11제번에 놓이는 딸기가 6제번에 놓이는 딸기보다 몇 개가 더 맞느냐 라고 물어보았으니 지금 보면 첫째 둘째 셋째밖에 나와 있지 않잖아요. 교칙을 발견해 주어야겠죠. 그래서 우리는 첫째 딸기수를 세워보는 거예요. 그럼 요거는 순서가 되는 거고요. 이제 그 개수 딸기수를 세워서 표현을 해주시는데 첫째 순서를 살펴보니까 딸기수가 6개 그 다음에 둘째 번을 볼까요  딸기 수는 3개, 5, 6, 7, 8, 9, 11, 12, 12개 만큼으로 표현이 되어 있죠? 그리고 난 다음에 이제 순서로 셋째를 살펴볼게요. 셋째를 보았더니 4개, 4개, 그렇죠? 그래서 8개, 거기에다 3개, 또 3개, 6개를 더해서 14개, 거기에다가 16, 2개가 더 있어서 18만큼으로 그 수를 세워서 표현해 보았어요. 그러면 여기  어떤 규칙을 발견할 수 있나요. 순서가 진행됨에 따라서 그 딸기의 수는 6개씩 많아지는 규칙이 있더라 라는 것을 알 수 있게 되서 또 여기서 만약에 우리가 식을 써서 식을 써서 표현을 한다면 딸기의 개수는 어떻게 표현할 수 있다 그 각각의 순서를 나타내는 수에다가 육을 곱한 것으로 표현해 줄 수 있습니다. 이게 바로 규칙을 찾아서 쓴 공식이다 라고 말할 수 있는 것이죠. 그러면 11집번의 노인은 딸기라고  했으니까 11에다가 6을 곱하여 66으로 나타내 주시고 6짚번이라고 했으니까 6에다 6을 곱하여 36이라고 표현을 해주시는 거예요. 몇 개 가 더 많으냐 개수의 차를 구하는 것으로 30개 더 많습니다 라고 답할 수 있게 되는 거죠. 이처럼 그림 속에 주어진 개수들을 써보고 그 수들 사이에 나타나는 누구? 교칙을 발견하는 것으로 문제를 해 또 다른 문제 확인해 볼게요. 이번에는 살짝 위험한..  바껴서요. 바듭돌에 관련된 문제가 나와있나봐요. 바듭돌 문제는 대부분의 경우가 규칙을 찾아야 하는 것들이 굉장히 많아요. 그림과 같은 규칙으로 바듭돌을 놓았습니다. 아홉째 뻔해 놓을 흰 바듭돌과 검은 바듭돌의 수의차를 구하시오. 이때 수의차라는 건 개수의 차를 구하시오 라는 뜻이 되는 거죠. 그렇다면 이때 검은색, 흰색 그 순서에 맞춰서 우리가 한번 표현을 해볼게요. 자 이것도 역시나 순!  첫째, 둘째, 셋째 그림이 이제 셋째까지 주어져 있으니까 순서를 나타내 보고 그리고 난 다음에 사용된 수를 생각해 볼 건데 흰색이 있었고 그리고 또 누가 있었어요? 검은색이 있었죠? 따라서 우리 순서에 따라서 1, 2, 3이라고 해주고 흰색과 검은색 그 각각의 수를 세워서 나타내보도록 할게요 흰색이 첫 번째 세 개가 있어요 검은색은 하나만큼이 있고요 어 선생님 이렇게 쓰니까 너무  헷갈려야 하시는 친구들은 검은색을 먼저 쓰고 흰색을 써주세요. 그랬더니 1 그리고 3 2와 같이 표현이 되어졌죠. 그런데 둘째로 넘어갑니다. 그랬더니 이 둘째에서는요. 검은색은 1 흰색이 3 다시 검은색 5 2와 같이 표현된 것을 알 수 있죠. 그다음에 셋째를 보세요. 1 3 5 7 2와 같이 표현이 되어졌단 말이에요. 그렇다면 이와 같은 순서에 따라서 9 같은 순서에 따라서 9제 뻔이라고 얘기를 했을 때에는요 지금 보면 1부터 시작해서 2씩 큰 수가 쓰여져 있죠 1에서 2큰 수 3에서 2큰 수가 5가 되었다라고 얘기를 할 수 있는데요 순서가 첫째 1대 쓰여진 수가 2개였어요 둘째 1대는 쓰여진 수가 3개이구요. 그러면 9제 1대는 쓰여진 수가 모두 10개가 되어야겠죠. 순서에 맞춰서 교칙대로 1 3 5 7 9 11 13  5 17 19 2와 같이 10개의 수를 적어 주는 거예요. 1부터 시작하여 2씩 커지는 수의 규칙으로 규칙에 맞추어서 그 개수를 적어 보았어요. 그런데 9제번에 놓을 흰 바듭돌과 검은 바듭돌 수의 개수의 차를 구하시오 라고 얘기를 했기 때문에 검은색 보다 흰색이 2개 많죠. 역시 2개만 2개 많고 2개 많고 2개가 많아서 흰색이 더 많은 거예요. 얼마큼 많으냐 10개만큼 더 많습니다.  문제에서는 어느 색이 더 많습니까 라고 물어보지 않았어요. 그렇기 때문에 바둑돌 개수의 차 만을 구하는 것으로 10개라고 표현해 볼 수 있게 되네요. 이와 같은 형태로 규칙을 발견하여 바둑돌에 관련된 문제 결해 볼 수 있습니다. 말씀드린 것처럼 바둑돌 문제는요. 그 사용된 개수를 적어주는 것으로 규칙을 발견해서 문제를 푸는 경우가 굉장히 많아요. 또 다른 규칙 찾기 문제 어떤 형태가 주어주냐 하면 이번에는 우리가 이런 문제  말하는 것 사이에 대한 규칙이다라고 얘기를 해요. 그러면 어떤 말을 하는지를 보도록 할게요. 준우와 민건이는 규칙 알아마치기 놀이를 하고 있습니다. 규칙을 찾는 거지. 그런데 보니까 준우가 이라고 하면 그럼 이런 문제는 메모를 하는 거예요. 준우가 이라고 하면 민건이는 준우가 이라고 했을 때 여기다 쓸까? 민건이는 오라고 답하고 준우가 사라고 하면 민건이는 구라고 답합니다. 또 추누가?  6이라고 하면 민건이는 13이라고 답한대요. 이때 준우가 7 이라고 하면 민건이는 어떤 수를 말해야 하는 걸까 교칙을 찾아봤더니 민건이는 준우가 말한 수의 2개에다가 거기다 1만큼 큰 수를 얘기하고 있는 거예요. 즉 4, 2, 8, 1 더해서 6, 2, 10, 1 더해서 7, 2, 14, 1 더해서 15 따라서 민건이가 말한 것은 15입니다 라고 말할 수 있는 것이죠. 그러면 또 하나의 문제 볼까요? MBC 뉴스 김지경입니다.  이번에 이어지는 문제는요 다음과 같이 주어져 있어요 자 이번엔 반대로 바꿔서 얘기를 할게요 민건이가 21이라고 답했다면 했죠 여기 민건이한테 21을 적는 거예요 근데 이 순서를 바꿔 적어서 틀리는 경우가 너무나 많아요 민건이가 21이라고 했으니까 준우가 말한 건 그러면 10이 됐어야죠 그래야 일을 곱하고 일을 더한 값이 되는 거니까요 어떤 수를 말했겠습니까 따라서 10을 말한 것입니다 이와 같이 말한 것들 사이에 규칙을 발견하여 문제 해결해 보았습니다.  자 첫 번째 개념의 내용 그러면 함께 정리 들어가 봅니다. MBC 뉴스 김지경입니다.  자 그럼 우리 두 번째 개념의 내용 볼까요. 표를 만들어 문제 해결하기 이것도요. 문제를 해결하는 하나의 방법이에요. 그런데 여러분들이 문제를 해결할 때 표를 만들면 보다 쉽게 해결이 되는 경우에 문제들이 있어요. 예를 들어서 이런거요. 100원짜리와 10원짜리 동전을 동시에 던져 나올 수 있는 면은 몇가지인지 표를 완성하고 답을 구하시오. 물론 여러분들은 이제 학년이 올라가면서 6학년 교과에서 경후의수라는 것도 만나볼 거고요. 도춘학교의  2학년이 되면서 황율이라는 것도 더 자세히 배우게 될 텐데요. 바로 그와 같은 학습에 가장 기초가 되어 지는 학습이라고 볼 수 있어요. 말하자면 그 가지수가 몇 가지입니까 라는 것에 생각해 주는 문제인데요. 이런 경우에 문제는 해결의 방법은 여러 가지가 있습니다만 표를 만들어주게 되면 그 가지수를 쉽게 파악할 수 있습니다. 예를 들어서 표가 100원 10원 이와 같이 분류가 되어 있구요. 100원에 앞면이 나왔을 때 10번짜리에 역시나 앞면이 나왔...  오는 경우 그런데 100원의 앞면이 나오면 10원짜리에는 뒷면이 나오는 경우가 있겠죠. 반대로 100원짜리의 뒷면이 나왔을 때 그런데 이때 보니까 10원짜리에는 누가 나올 수 있고 앞면이 나올 수 있고 또는 뒷면이 나올 수가 있더라 따라서 표를 만들어 주었더니 그 가질 수가 몇 가지 이렇게 4가지가 되는 것이 금방 눈에 띄더라 라는 것이죠. 물론 이것은 표뿐만이 아니라 앞으로 나무까지 그립니다. 라고 하는 문제의결의 전략을 선택하여  역시 문제를 해결해 볼 수 있게 되어 표를 완성하고 답을 구하는 형태의 문제 바로 이런 유형의 문제라면 표를 만들어 문제를 해결해 보시는 것이 좋습니다 음 우리 앞서서 규칙 찾기라는 것도 얘기를 해 봤는데요 규칙 찾기뿐만 아니라 표를 만들어 문제를 해결할 수 있는 경우들도 여러분이 학년이 올라가면서 많이 만나볼 수 있게 될 거고요 그러면 우리 이 내용을 여러가지 문제를 통해서 함께 다져보도록 할게요 일단 주어진 문제를 보시면 혜연이는 100원짜리와 5  50원짜리 동전을 각각 몇 개? 5개씩 가지고 있습니다. 라고 얘기를 했죠. 그런데 500원짜리 아이스크림을 사고 돈을 낼 수 있는 방법이래요. 당연히 물건의 값으로 500원 만큼을 지불해야 된다는 걸 알 수 있잖아요. 그러면 이런 문제는 표를 만들어 보아라는 거예요. 500원짜리와 우리 50원짜리를 어떻게 낼 수 있느냐 하고 표를 만들어요. 각각이 몇 개가 있다 라고 얘기를 했냐면 5개씩 가지고 있다라고 얘기를 했죠. 그러면!  우리 이때 어? 요거 500원이 아니라 주어진 동전이 100원 이였군요. 자 요렇게 100으로 바꿔줄게요. 그러면 각각을 5개씩 가지고 있다라고 얘기를 했으니까요. 100원짜리 5개로만 지불을 하는 방법이 있어요. 그럼 이때 50원짜리는 사용하지 않으면 돼요. 그리고 100원짜리 4개를 사용하면 50원짜리 2개. 100원짜리 3개면 50원짜리 4개. 그다음에 100원짜리가 2개면 50원짜리를 몇 개? 6개. 4곤짜리가 하나면  50원짜리 8개 100원짜리를 사용하지 않을 때는 50원짜리 10개로 내야 되겠죠 이런 다양한 방법들이 있는데 여기서 지금 쓰기는 했지만 조건에 맞지 않는 게 있어요 그게 뭐냐 하고 봤더니 50원짜리 동전도 5개란 말이죠 그렇기 때문에 50원짜리 동전을 6, 8, 10 이렇게 사용할 수는 없는 거예요 따라서 500원짜리 아이스크림을 사고 돈을 낼 수 있는 방법의 가지수를 선택해 보면 새 가지입니다. 이와 같이 표현될 수 있습니다.  이 와 같은 형태로요 100원짜리 50원짜리 뭐 이런 형태의 동점 문제가 나왔을 때에는 표를 만들어 문제를 해결해 주시면 문제의 결의 전략 적당하다고 볼 수 있을 거예요. 또 다른 문제 이제 만나볼 것은 이렇게 관영 문제가 나와 있죠. 관영 문제 역시 여러분이 앞으로 문제를 푸실 때에는 표를 만들어 문제를 해결한다라는 전략을 세우시는 것이 좋아요. 문제 보시면 재훈이는 다운과 같은 관역을 향해 화살을 15번 쏘었으니  그런데 여기 보세요. 그런데 여기 보세요 5번은 0점에 마친 거예요 그리고 난 다음에 얻은 점수가 36점이었다 라고 얘기를 했어요 그러면 5점짜리와 3점짜리를 각각 몇 번씩 맞췄는지 구하시오 중요한 건 15번을 5번을 쏘았다 라고 했는데 5번은 0점에 맞췄다고 했죠 그렇기 때문에 15번 중에 5번을 제외한 몇 번 열 번을 어디와 어디 5점짜리와  3점짜리에 맞췄다는 것을 알 수 있게 되는 거예요. 그런데 그때 점수가 36점이었다는 걸 뜻하고 있는 것이죠. 그래서 제일 처음에 표에다가 화살의 수를 각각 5개와 5개 그 합계가 10개가 되었다고 표현을 해줬던 것이죠. 그러면 이 경우뿐만이 아니라 그 다음에 경우도 화살의 수는 모두 10개가 될 수 있도록 표를 작성해 주어야 해요. 그런데 5점짜리 5점수는 25점 3점짜리 5점수는 15점  따라서 이것을 더해서 40점 조건에 맞지 않아요. 왜냐하면 우리는 36점이 되어지는 때를 원하는 거니까요. 그러면 점수의 합이 줄어들어야겠죠. 따라서 5점짜리를 맞춘 횟수를 줄이고 3점짜리를 늘려주는 거예요. 4, 5, 20, 6, 3, 18 더해서 38점이 되었단 말이죠. 아직 우리가 원하는 조건이 아니다 라는 것을 알 수 있어요. 따라서 5점짜리를 줄이고 3점짜리를 다시 하나 늘려줍니다. 그랬더니 3호 15호 7삼 21.  1 더에서 36점이 되어지는 것을 알 수 있네요. 따라서 5점짜리와 3점짜리를 각각 몇 번씩 맞췄습니까 라고 물어보았습니다. 5점짜리 마친 횟수를 보시면 지금 3번이라고 답할 수 있고요. 그다음에 3점짜리라고 얘기를 했을 때 3점짜리는 7번입니다. 이와 같이 말할 수 있게 됩니다. 자 이렇게 관역에 관련된 문제는요. 그 점수압이나 가지수나 이렇게 다양한 문제들을 해결할 때  표를 만드는 전략을 세워주는 것이 가장 쉬워요. 당황하지 마시고요. 관영 문제는 표 만들기를 통해서 문제 해결합시다. 또 다른 문제도 준비를 해봤어요. 표 만들기도 아주 많이 나오는 것 중에 하나니까요. 그런데 분명히 이 그림을 딱 보면 질문이 생길 거예요. 선생님 이거요. 우리 아까 바둑돌 문제니까 규칙 찾는 거잖아요. 맞습니다. 규칙을 찾는 것인데 이 규칙을 찾는다는 것과 표를 만든다라고 하는 것이 한 문제 안에서 별개의 것으로 이렇게 취급되는 것이 아니고요. MBC 뉴스 김지경입니다.  문제 안에 아주 여러가지 방법들을 모두 다 사용할 수 있게 되는 거거든요. 그래서 교칙에 따라 바듭도를 늘어놓았을 때 흰 바듭도리 24개 놓였을 때 가운데 놓이는 검은 바듭도 를 몇 개입니까 라고 질문을 한다면 이것을 표로 나타내 줄 한 얘기에요. 일단 순서를 생각해 봅시다. 첫째, 둘째, 셋째 이와 같이 표현을 해줄 거고 그리고 난 다음에 확인해 보았더니 자 검은색이 있을거고 그 다음에  흰색이 주어지게 될 겁니다. 하시고 여기다가 이와 같은 형태로 표를 적어서 나타내 주는 거예요. 그러면 규칙을 찾고 표만들기라고 하는 것이 한 문제 안에 모두 녹아있다라고 볼 수 있는 것이죠. 검은색은 하나 그다음에 흰색을 보니까 흰색이 몇 개가 있나요. 8개가 있죠. 그래서 우리는 그것을 사 곱하기 이라고 이렇게 적어볼게요. 그리고 난 다음에 두 번째를 살펴보니까 검은색이 4개가 있어요. 이걸 뭐라고 적을 거냐면  이 곱하기 1하고 적을 거예요. 그리고 바깥쪽에 흰색을 보니까 넷 넷 넷 해서 모두 4 곱하기 3만큼 주어진다는 것을 알 수 있게 돼요. 그러면 세 번째 순서를 보니까 검은색이 3 곱하기 3만큼 주어지고 그 바깥쪽으로 흰색은요. 5세 5 10개 3개 3개에서 16 따라서 4 곱하기 4 2와 같이 표현이 되어 지는 걸 알 수 있죠. 그런데 우리가 원하는 게 무엇입니까 이와 같은 교칙으로 보았더니 흰 바둑돌이 24개래요  그러면 이거 4고파기 6이 되어야겠네요. 그러면 여기 있는 순서는 어떻게 돼요? 여기 4보다 1작은 수, 3보다 1작은 수, 2보다 1작은 수였으니까 6보다 1작은 수로 그 순서는 5집번이 된다는 것을 알 수 있게 되는 것이죠. 그리고 난 다음에 검은색 3과 3의 곱, 2와 2의 곱이라 하였으니 여기는 5와 5의 곱으로 표현이 된다고 말할 수 있을 거예요. 이렇게 하니까요 교칙도 찾았고 표도 만들었고 두 가지 내용이 모두 들어간 것 확인되..  되셨죠 그럼으로 검은 바듭돌이 몇 개입니까 25개입니다 이와 같이 문제 해결했어요 자 표 만드는 것들에 대해서 함께 보았는데요 그러면 이 두 번째 내용도 여러분과 함께 정리해 둘도록 하겠습니다 MBC 뉴스 김지경입니다.  3. 예상과 확인을 해결합니다. 보통 예상과 확인은 단 한 번에 답이 맞지 않는 경우가 많죠. 그래서 우리가 처음에 예상을 하고 확인을 하는 거예요. 답이 틀렸다 그럼 다시 예상하고 확인하는 과정을 거쳐서 문제를 해결해 주도록 하자고요. 예를 들어서 가장 대표적인 형태에요. 이렇게 곱쌤이 주어졌습니다. 내모 안에 들어갈 수가 무엇일까요? 그럼 예상을 하는 거예요. 근데 무성대  예상을 하는 것이 아니고요. 예상을 할 때도 요령이 있어요. 사에다가 무엇을 곱해서 고백 끝자리 숫자가 사가 되는지를 예상하는 거예요. 그러면 곱생구구 사에당 곱생구구를 통해서 사와 누구의 곧 1의 곱을 생각해 볼 수 있을 거고 또 사와 6의 곱을 생각할 수 있겠죠. 이렇게 하는 것이 바로 예상이다 라는 거예요. 그래서 여기다 넣어주는 거죠. 이렇게 해서 넣어서 확인했더니 264가 아니라 44라는 값이 나온단 말이죠. 자 예상을 확인을 해서 답이 되었습니다.  안 왔다 따라서 다시 한번 예상을 합시다 해서 6을 넣어줬더니 46의 24 또 46의 24 428 428 조건에 맞는다는 것을 알 수 있죠. 이와 같이 빈 곳에 들어갈 것이 1이거나 6이 될 수 있을 것이다 라고 하는 것이 예상 각각을 집어넣어서 답이 되는지 아닌지를 확인을 해주고 다시 예상하고 확인하고 바로 이런 과정들을 예상과 확인으로 문제 해결하기라고 할 수 있어요. 있어요.  뭐 내가 모르는 수, 이 내 모 안에 들어가일수를 구하는 대부분의 문제들이 또 예상하고 확인하는 것들이다라고도 볼 수 있거든요. 문제마다 여러분들이 해결의 방법을 선택해주는 것이 중요해요. 그래서 준비를 해봤습니다. 자 이런 문제 한번 만나볼게요. 1부터 9까지의 수를 한 번씩만 사용하여 한 줄에 있는 내 수의 합이 20이 되게하시오 라고 얘기를 했죠. 한 줄에 있는 내 수의 합이다 라고 했어요. 제일 먼저 구하기 쉬운 것이 있는데요. 바로 이 자리에 들어갈수를 제  1, 2, 3, 4, 5, 6, 7, 8, 9를 일단 한번 적어보세요. 그리고 난 다음에 사용이 되어 진 수들을 지우세요. 4 썼고 2도 썼고 5도 썼고 8과 7도 사용을 하였습니다. 그러면 남는 건 1, 3, 6, 9가 남게 되죠. 4와 1을 더해서 6, 5를 더하면 11 따라서 20이 되려면 9가 들어가 줄 거고 9는 사용을 하였습니다. MBC 뉴스 김성현입니다.  이야기를 하는 거예요. 그 다음에 이제 방법이 있어요. 4, 9, 7을 더하면 11이에요. 또 5, 9, 8을 더하면 13만큼이 되어지는 거죠. 따라서 우리는 이때에 이 안에 들어갈수를 뭐라고 하면 좋은 걸까. 이제 이렇게 두수를 더해서 얼마가 되어야죠. 13인 것을 5와 8을 더해서 13인 걸 알았으니까 이렇게 두수를 더한 값이 7이 되어야 한다는 것을 알 수 있고 또 빈 곳 두 곳에 들어갈 수의 합이 9가 되어야 한다는 것을 알 수  있어요 그렇기 때문에 이 자리에는 공통인수 1을 적어주시고 또 여기는 누구를 써주면 되는 걸까요 이제 남아있는 것들을 생각해 보시면 되는 거죠 1 3 6 있는데 표현을 해 보시는 거예요 여러분이 1을 쓰면 여기에 3이거나 6이 들어가야 되는데 조건에 맞지 않는 경우가 나오게 되잖아요 따라서 아 그렇다면 3인가 아니지 그래서 내가 6을 한번 넣어 볼게 3이 들어가고 1이 들어가면 조건에 맞는 수가 나오게 된다고 말할 수 있겠습니다.  예상하고 확인하는 과정들을 통하여서 이와 같이 문제를 해결해 볼 수 있습니다. 내세압이 20이 된다라는 조건에 따라서 가장 먼저 어디에 뭐가 들어가는지를 판단해 보시고 그 다음에 예상과 확인을 통해서 문제를 해결해주는 가장 대표적인 문제죠. 자 또 준비를 해봤어요. 예상과 확인의 경우 이런 문제 너무 많이 만나봤을 거예요. 그러면 동그라미 안에 곱하기 나누기를 알맞게 써놓으시오 라고 했는데요. 이때도 요령이 있어요. 여러분이 곱하기 나누기라고 하는 건  어떻게 섞여있더라도 앞에서 부터 계산을 하게 되죠. 그런데 제일 마지막에 계산의 결과가 96보다 작은 수로 표현이 되어 있는 것 보이시나요? 그렇다면 앞에 두수를 곱하는 것은 아마 하지 않을 거예요. 그렇기 때문에 제일 먼저 나누기라는 것을 표현해 볼 수 있는 것이죠. 그러면 나누기와 곱하기가 섞였기 때문에 앞에서 부터 계산을 할 것이다. 라는 것에 따라서 요거를 미리 세매두세요. 96을 8로 나누어 나오는 값이 12일하고 표현이 되어 질 거잖아.  그러면 얘를 12라고 적어주는 거예요. 그리고 난 다음에 생각할 수 있는 건 곱하기냐 나누기냐 또는 뭐 물론 곱하기 곱하기도 생각할 수 있겠고요. 곱하기 나누기도 나누기 곱하기 나누기 나누기 이와 같은 것들을 생각해 볼 수 있겠죠. 그런데 이 중에 답이 되는 것을 찾아주세요. 그러면 이때 12를 누구로 2로 나누어 주고 6이 되었는데 6에다가 3을 곱해 주었더니 그 값이 18이 되더라 라고 표현해줄 수 있습니다. 이런 것들도  한번에 담 나오는 것은 아니고요. 여러 번 예상하고 확인하는 과정을 거쳐야지 답이 나오게 된다는 것 요곳을 기억해 주세요. 자 문제의결 되었고요. 예상과 확인의 가장 대표적인 형태의 문제 중 하나였습니다. 이번에는 또 다른 형태에 하나 더 만나볼까요. 문제를 보시면 이번에는 문장이 좀 길어요. 거기에다가 프리 과정을 쓰고 답을 구하시오 라고 했으니까 우리가 만나볼 수 있는 문제 중에서는 서술력 문제 라고 얘기를 하죠. 원담이가 수학 공부를 하...  이 책을 펼쳤을 때 펼친 두 면에 쭉스의 고비 506이라고 합니다. 원담이가 펼친 면에 쭉스는 각각 얼마인지 프리 과정을 쓰고 다불고 하시 오 라고 얘기를 했어요. 프리 과정은 너무나 많은 경우들이 있을 텐데요. 예상과 확인의 과정으로 문제를 해결하기 위해서 프리 과정을 이렇게 한 번 얘기를 해볼게요. 그런데 이때 펼치면에 쭉스라고 하는 건 연속된 두 자연수라는 걸 의미 하는 거죠. 책이 이렇게 주어져 있을 때 한쪽이 10쪽인데  그 다음 쪽이 12쪽이 되지 않는다라는 거예요. 따라서 우리는 연속된 2, 자연수의 고불 생각하는 거죠. 자연수의 고분 20과 21을 곱하면 420 또 30과 31을 곱하면 930임으로 두수의 곱이 506이 나오기 위해서 두수는 20과  30 4 2 의 수입니다. 그래서 연속된 두 자연수를 생각해 볼 건데 이때도 요령이 있어요. 20 21 22 22 23 이 모든 것들을 다 따져보는 것은 아니고요. 곱했을 때 고백 끝자리 숫자가 6이 되어지는 경우들을 생각해 볼 거니까 여러분이 생각할 수 있는 건 22와 23의 고부에 생각해 볼 수 있게 되겠죠. 그래야 고백 끝자리 숫자가 6이니까요. 바로 이게 예상을 하는 과정이다 라는 것이에요.  그럼 이걸 확인을 한번 해볼게요. 22에다가 23을 굽했더니 이거 506 나오죠. 그러니까 우리가 예상한 것이 맞았다는 것을 알 수 있게 돼요. 따라서 두세 굽이 506임으로 펼친 면의 두 쪽 수는 22쪽과 23쪽입니다.  그리고 난 다음에 답을 적어라 라고 했으니까요. 답을 적으실 때에는 22쪽 그리고 23쪽 이와 같이 표현을 주는 것으로 문제 해결했어요. 자 그러면 이제 세 번째 개념의 내용 이와 같이 확인했으니 정리하여 나타내 볼게요. MBC 뉴스 김지경입니다.  이번 시간 학습이 잘 이루어졌는지 궁금합니다. 그렇다면 여러분들과 함께 도전 왕중학 문제 함께 해볼게요. MBC 뉴스 김지경입니다.  지난 시간 정답은 꺾은 선 그래프였죠? 많은 친구들 잘 맞춰주었어요 이번 시간에 정답도 기대하고 있을게요 다시 보기 필요하신 우리 친구들 홈페이지에 방문하는 거 잊지 마시고요 우리 다음 시간에는 문서의결의 방법 찾기 여러가지 방법을 살펴보는 두 번째 시간으로 함께할게요 여러분 다음 시간 만나요 MBC 뉴스 김지경입니다.  구독과 좋아요 부탁드려요!\n"
     ]
    }
   ],
   "source": [
    "print(final_transcription1 + final_transcription2)"
   ]
  },
  {
   "cell_type": "markdown",
   "metadata": {},
   "source": []
  }
 ],
 "metadata": {
  "kernelspec": {
   "display_name": "Python 3",
   "language": "python",
   "name": "python3"
  },
  "language_info": {
   "codemirror_mode": {
    "name": "ipython",
    "version": 3
   },
   "file_extension": ".py",
   "mimetype": "text/x-python",
   "name": "python",
   "nbconvert_exporter": "python",
   "pygments_lexer": "ipython3",
   "version": "3.8.19"
  }
 },
 "nbformat": 4,
 "nbformat_minor": 2
}
