{
 "cells": [
  {
   "cell_type": "code",
   "execution_count": 19,
   "metadata": {},
   "outputs": [],
   "source": [
    "import pandas as pd\n",
    "\n",
    "# 학생 정보 데이터프레임 생성\n",
    "student_df = pd.DataFrame(\n",
    "    {\n",
    "        \"학생ID\": [1, 2, 3, 4, 5, 6, 7, 8, 9, 10],\n",
    "        \"이름\": [\n",
    "            \"민수\",\n",
    "            \"지연\",\n",
    "            \"현우\",\n",
    "            \"수진\",\n",
    "            \"영호\",\n",
    "            \"민지\",\n",
    "            \"지훈\",\n",
    "            \"혜진\",\n",
    "            \"정우\",\n",
    "            \"서연\",\n",
    "        ],\n",
    "        \"나이\": [20, 21, 22, 23, 24, 25, 26, 27, 28, 29],\n",
    "        \"전공\": [\n",
    "            \"물리학\",\n",
    "            \"수학\",\n",
    "            \"물리학\",\n",
    "            \"컴퓨터공학\",\n",
    "            \"수학\",\n",
    "            \"화학\",\n",
    "            \"생물학\",\n",
    "            \"물리학\",\n",
    "            \"화학\",\n",
    "            \"수학\",\n",
    "        ],\n",
    "    }\n",
    ")\n",
    "\n",
    "# 성적 정보 데이터프레임 생성\n",
    "grade_df = pd.DataFrame(\n",
    "    {\n",
    "        \"학생ID\": [2, 3, 4, 5, 6, 7, 10, 11, 12, 13],\n",
    "        \"과목\": [\n",
    "            \"미적분학\",\n",
    "            \"물리학\",\n",
    "            \"컴퓨터공학\",\n",
    "            \"수학\",\n",
    "            \"화학\",\n",
    "            \"생물학\",\n",
    "            \"수학\",\n",
    "            \"영어\",\n",
    "            \"역사\",\n",
    "            \"철학\",\n",
    "        ],\n",
    "        \"성적\": [\"A\", \"B\", \"A\", \"F\", \"A\", \"C+\", \"D\", \"A+\", \"B+\", \"C\"],\n",
    "    }\n",
    ")"
   ]
  },
  {
   "cell_type": "markdown",
   "metadata": {},
   "source": [
    "### (2) 데이터 병합하기\n",
    "\n",
    "1. 내부 조인(inner join)\n",
    "    - 두 데이터프레임을 `학생ID`를 기준으로 Inner Join 한 결과를 출력하세요.\n",
    "    \n",
    "    ```bash\n",
    "       학생ID  이름  나이     전공     과목  성적\n",
    "    0     2  지연  21     수학   미적분학   A\n",
    "    1     3  현우  22    물리학    물리학   B\n",
    "    2     4  수진  23  컴퓨터공학  컴퓨터공학   A\n",
    "    3     5  영호  24     수학     수학   F\n",
    "    4     6  민지  25     화학     화학   A\n",
    "    5     7  지훈  26    생물학    생물학  C+\n",
    "    6    10  서연  29     수학     수학   D\n",
    "    ```\n",
    "    \n",
    "\n",
    "1. 필터링\n",
    "    - 두 데이터프레임을 `학생ID`를 기준으로 Inner Join 하세요.\n",
    "    - 병합 결과에 대해서 과목이 수학인 결과만 출력하세요.\n",
    "    \n",
    "    ```bash\n",
    "       학생ID  이름  나이  전공  과목 성적\n",
    "    3     5  영호  24  수학  수학  F\n",
    "    6    10  서연  29  수학  수학  D\n",
    "    ```\n",
    "    \n",
    "2. 범주형 자료형 변환과 정렬\n",
    "    - 두 데이터프레임을 `학생ID`를 기준으로 Inner Join 하세요.\n",
    "    - `성적` 데이터를 범주형 자료형으로 변환하세요.\n",
    "    - 이 때, 순서형 자료형으로 변환하고 순서는 아래와 같습니다.\n",
    "        - F, D, C, C+, B, B+, A, A+\n",
    "    - 성적순으로 정렬한 결과를 출력하세요.\n",
    "    \n",
    "    ```bash\n",
    "       학생ID  이름  나이     전공     과목  성적\n",
    "    0     2  지연  21     수학   미적분학   A\n",
    "    2     4  수진  23  컴퓨터공학  컴퓨터공학   A\n",
    "    4     6  민지  25     화학     화학   A\n",
    "    1     3  현우  22    물리학    물리학   B\n",
    "    5     7  지훈  26    생물학    생물학  C+\n",
    "    6    10  서연  29     수학     수학   D\n",
    "    3     5  영호  24     수학     수학   F\n",
    "    ```\n",
    "    \n",
    "3. 왼쪽 조인(left join)\n",
    "    - 두 데이터프레임을 `학생ID`를 기준으로 Left Join 한 결과를 출력하세요.\n",
    "    \n",
    "    ```bash\n",
    "       학생ID  이름  나이     전공     과목   성적\n",
    "    0     1  민수  20    물리학    NaN  NaN\n",
    "    1     2  지연  21     수학   미적분학    A\n",
    "    2     3  현우  22    물리학    물리학    B\n",
    "    3     4  수진  23  컴퓨터공학  컴퓨터공학    A\n",
    "    4     5  영호  24     수학     수학    F\n",
    "    5     6  민지  25     화학     화학    A\n",
    "    6     7  지훈  26    생물학    생물학   C+\n",
    "    7     8  혜진  27    물리학    NaN  NaN\n",
    "    8     9  정우  28     화학    NaN  NaN\n",
    "    9    10  서연  29     수학     수학    D\n",
    "    ```\n",
    "    \n",
    "4. 오른쪽 조인(right join)\n",
    "    - 두 데이터프레임을 `학생ID`를 기준으로 Right Join 한 결과를 출력하세요.\n",
    "    \n",
    "    ```bash\n",
    "       학생ID   이름    나이     전공     과목  성적\n",
    "    0     2   지연  21.0     수학   미적분학   A\n",
    "    1     3   현우  22.0    물리학    물리학   B\n",
    "    2     4   수진  23.0  컴퓨터공학  컴퓨터공학   A\n",
    "    3     5   영호  24.0     수학     수학   F\n",
    "    4     6   민지  25.0     화학     화학   A\n",
    "    5     7   지훈  26.0    생물학    생물학  C+\n",
    "    6    10   서연  29.0     수학     수학   D\n",
    "    7    11  NaN   NaN    NaN     영어  A+\n",
    "    8    12  NaN   NaN    NaN     역사  B+\n",
    "    9    13  NaN   NaN    NaN     철학   C\n",
    "    ```"
   ]
  },
  {
   "cell_type": "code",
   "execution_count": 20,
   "metadata": {},
   "outputs": [
    {
     "name": "stdout",
     "output_type": "stream",
     "text": [
      "   학생ID  이름  나이     전공     과목  성적\n",
      "0     2  지연  21     수학   미적분학   A\n",
      "1     3  현우  22    물리학    물리학   B\n",
      "2     4  수진  23  컴퓨터공학  컴퓨터공학   A\n",
      "3     5  영호  24     수학     수학   F\n",
      "4     6  민지  25     화학     화학   A\n",
      "5     7  지훈  26    생물학    생물학  C+\n",
      "6    10  서연  29     수학     수학   D\n"
     ]
    }
   ],
   "source": [
    "inner_df = pd.merge(student_df, grade_df, how=\"inner\", on=\"학생ID\")\n",
    "print(inner_df)"
   ]
  },
  {
   "cell_type": "code",
   "execution_count": 21,
   "metadata": {},
   "outputs": [
    {
     "name": "stdout",
     "output_type": "stream",
     "text": [
      "   학생ID  이름  나이  전공  과목 성적\n",
      "3     5  영호  24  수학  수학  F\n",
      "6    10  서연  29  수학  수학  D\n"
     ]
    }
   ],
   "source": [
    "inner_df = pd.merge(student_df, grade_df, how=\"inner\", on=\"학생ID\")\n",
    "\n",
    "print(inner_df[inner_df[\"과목\"] == \"수학\"])"
   ]
  },
  {
   "cell_type": "code",
   "execution_count": 22,
   "metadata": {},
   "outputs": [
    {
     "name": "stdout",
     "output_type": "stream",
     "text": [
      "   학생ID  이름  나이     전공     과목  성적\n",
      "0     2  지연  21     수학   미적분학   A\n",
      "2     4  수진  23  컴퓨터공학  컴퓨터공학   A\n",
      "4     6  민지  25     화학     화학   A\n",
      "1     3  현우  22    물리학    물리학   B\n",
      "5     7  지훈  26    생물학    생물학  C+\n",
      "6    10  서연  29     수학     수학   D\n",
      "3     5  영호  24     수학     수학   F\n"
     ]
    }
   ],
   "source": [
    "inner_df = pd.merge(student_df, grade_df, how=\"inner\", on=\"학생ID\")\n",
    "\n",
    "grade_list = [\"F\", \"D\", \"C\", \"C+\", \"B\", \"B+\", \"A\", \"A+\"]\n",
    "\n",
    "inner_df[\"성적\"] = pd.Categorical(\n",
    "    values=inner_df[\"성적\"],\n",
    "    categories=grade_list,\n",
    "    ordered=True,  # 순서 부여\n",
    ")\n",
    "\n",
    "print(inner_df.sort_values(by=\"성적\", ascending=False))"
   ]
  },
  {
   "cell_type": "code",
   "execution_count": 23,
   "metadata": {},
   "outputs": [
    {
     "name": "stdout",
     "output_type": "stream",
     "text": [
      "   학생ID  이름  나이     전공     과목   성적\n",
      "0     1  민수  20    물리학    NaN  NaN\n",
      "1     2  지연  21     수학   미적분학    A\n",
      "2     3  현우  22    물리학    물리학    B\n",
      "3     4  수진  23  컴퓨터공학  컴퓨터공학    A\n",
      "4     5  영호  24     수학     수학    F\n",
      "5     6  민지  25     화학     화학    A\n",
      "6     7  지훈  26    생물학    생물학   C+\n",
      "7     8  혜진  27    물리학    NaN  NaN\n",
      "8     9  정우  28     화학    NaN  NaN\n",
      "9    10  서연  29     수학     수학    D\n"
     ]
    }
   ],
   "source": [
    "left_df = pd.merge(student_df, grade_df, how=\"left\", on=\"학생ID\")\n",
    "\n",
    "print(left_df)"
   ]
  },
  {
   "cell_type": "code",
   "execution_count": 24,
   "metadata": {},
   "outputs": [
    {
     "name": "stdout",
     "output_type": "stream",
     "text": [
      "   학생ID   이름    나이     전공     과목  성적\n",
      "0     2   지연  21.0     수학   미적분학   A\n",
      "1     3   현우  22.0    물리학    물리학   B\n",
      "2     4   수진  23.0  컴퓨터공학  컴퓨터공학   A\n",
      "3     5   영호  24.0     수학     수학   F\n",
      "4     6   민지  25.0     화학     화학   A\n",
      "5     7   지훈  26.0    생물학    생물학  C+\n",
      "6    10   서연  29.0     수학     수학   D\n",
      "7    11  NaN   NaN    NaN     영어  A+\n",
      "8    12  NaN   NaN    NaN     역사  B+\n",
      "9    13  NaN   NaN    NaN     철학   C\n"
     ]
    }
   ],
   "source": [
    "right_df = pd.merge(student_df, grade_df, how=\"right\", on=\"학생ID\")\n",
    "\n",
    "print(right_df)"
   ]
  }
 ],
 "metadata": {
  "kernelspec": {
   "display_name": "base",
   "language": "python",
   "name": "python3"
  },
  "language_info": {
   "codemirror_mode": {
    "name": "ipython",
    "version": 3
   },
   "file_extension": ".py",
   "mimetype": "text/x-python",
   "name": "python",
   "nbconvert_exporter": "python",
   "pygments_lexer": "ipython3",
   "version": "3.12.4"
  }
 },
 "nbformat": 4,
 "nbformat_minor": 2
}
