{
 "cells": [
  {
   "cell_type": "code",
   "execution_count": 7,
   "metadata": {},
   "outputs": [
    {
     "name": "stdout",
     "output_type": "stream",
     "text": [
      "<Response [200]>\n",
      "<class 'requests.models.Response'>\n",
      "200\n",
      "<class 'int'>\n",
      "정상적인 요청과 응답입니다.\n"
     ]
    }
   ],
   "source": [
    "# requests : 외부 모듈(라이브러리), 파이썬에 내장된 기능이 아님\n",
    "\n",
    "# requests 모듈 불러오기(import)\n",
    "import requests\n",
    "\n",
    "# 요청 : get(주소 = url) 메서드\n",
    "response = requests.get(\"https://example.com\")\n",
    "\n",
    "print(response)\n",
    "print(type(response))\n",
    "\n",
    "# 상태 코드 속성 추출\n",
    "status_code = response.status_code\n",
    "\n",
    "print(status_code)\n",
    "print(type(status_code))\n",
    "\n",
    "if status_code == 200:  # 200 -> 정상적인 요청과 응답\n",
    "    print(\"정상적인 요청과 응답입니다.\")\n",
    "elif status_code == 404:\n",
    "    print(\"주소를 찾을 수 없습니다.\")\n",
    "else:  # 비정상 요청과 응답\n",
    "    print(\"비정상적인 요청과 응답입니다.\")"
   ]
  },
  {
   "cell_type": "code",
   "execution_count": 8,
   "metadata": {},
   "outputs": [
    {
     "name": "stdout",
     "output_type": "stream",
     "text": [
      "<!doctype html>\n",
      "<html>\n",
      "<head>\n",
      "    <title>Example Domain</title>\n",
      "\n",
      "    <meta charset=\"utf-8\" />\n",
      "    <meta http-equiv=\"Content-type\" content=\"text/html; charset=utf-8\" />\n",
      "    <meta name=\"viewport\" content=\"width=device-width, initial-scale=1\" />\n",
      "    <style type=\"text/css\">\n",
      "    body {\n",
      "        background-color: #f0f0f2;\n",
      "        margin: 0;\n",
      "        padding: 0;\n",
      "        font-family: -apple-system, system-ui, BlinkMacSystemFont, \"Segoe UI\", \"Open Sans\", \"Helvetica Neue\", Helvetica, Arial, sans-serif;\n",
      "        \n",
      "    }\n",
      "    div {\n",
      "        width: 600px;\n",
      "        margin: 5em auto;\n",
      "        padding: 2em;\n",
      "        background-color: #fdfdff;\n",
      "        border-radius: 0.5em;\n",
      "        box-shadow: 2px 3px 7px 2px rgba(0,0,0,0.02);\n",
      "    }\n",
      "    a:link, a:visited {\n",
      "        color: #38488f;\n",
      "        text-decoration: none;\n",
      "    }\n",
      "    @media (max-width: 700px) {\n",
      "        div {\n",
      "            margin: 0 auto;\n",
      "            width: auto;\n",
      "        }\n",
      "    }\n",
      "    </style>    \n",
      "</head>\n",
      "\n",
      "<body>\n",
      "<div>\n",
      "    <h1>Example Domain</h1>\n",
      "    <p>This domain is for use in illustrative examples in documents. You may use this\n",
      "    domain in literature without prior coordination or asking for permission.</p>\n",
      "    <p><a href=\"https://www.iana.org/domains/example\">More information...</a></p>\n",
      "</div>\n",
      "</body>\n",
      "</html>\n",
      "\n"
     ]
    }
   ],
   "source": [
    "import requests\n",
    "\n",
    "# 요청을 보낼 주소 변수\n",
    "url = \"https://example.com\"\n",
    "\n",
    "# 요청\n",
    "response = requests.get(url)\n",
    "\n",
    "# 상태코드 변수\n",
    "status_code = response.status_code\n",
    "\n",
    "if status_code == 200:\n",
    "    # 응답의 HTML문서(text 속성)를 출력\n",
    "    print(response.text)"
   ]
  }
 ],
 "metadata": {
  "kernelspec": {
   "display_name": "base",
   "language": "python",
   "name": "python3"
  },
  "language_info": {
   "codemirror_mode": {
    "name": "ipython",
    "version": 3
   },
   "file_extension": ".py",
   "mimetype": "text/x-python",
   "name": "python",
   "nbconvert_exporter": "python",
   "pygments_lexer": "ipython3",
   "version": "3.12.4"
  }
 },
 "nbformat": 4,
 "nbformat_minor": 2
}
