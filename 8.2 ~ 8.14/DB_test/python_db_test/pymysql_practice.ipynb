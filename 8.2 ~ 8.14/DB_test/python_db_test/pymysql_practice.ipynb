{
 "cells": [
  {
   "cell_type": "code",
   "execution_count": null,
   "metadata": {},
   "outputs": [],
   "source": [
    "import pymysql\n",
    "\n",
    "def db_connect():\n",
    "    conn = pymysql.connect(\n",
    "        host='localhost',\n",
    "        user=\"testuser\",\n",
    "        password=\"Tkkkwak0419?!\"\n",
    "    )"
   ]
  }
 ],
 "metadata": {
  "language_info": {
   "name": "python"
  }
 },
 "nbformat": 4,
 "nbformat_minor": 2
}
