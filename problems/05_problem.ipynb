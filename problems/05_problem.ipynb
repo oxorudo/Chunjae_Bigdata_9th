{
 "cells": [
  {
   "cell_type": "markdown",
   "metadata": {},
   "source": [
    "1. 1부터 10까지 숫자 출력\n",
    "    - `for` 과 `range()` 함수를 활용하여 1부터 10까지의 숫자를 출력하는 프로그램을 작성합니다.\n",
    "    - 예시\n",
    "    \n",
    "    ```bash\n",
    "    1\n",
    "    2\n",
    "    3\n",
    "    4\n",
    "    5\n",
    "    6\n",
    "    7\n",
    "    8\n",
    "    9\n",
    "    10\n",
    "    ```"
   ]
  },
  {
   "cell_type": "code",
   "execution_count": 14,
   "metadata": {},
   "outputs": [
    {
     "name": "stdout",
     "output_type": "stream",
     "text": [
      "1\n",
      "2\n",
      "3\n",
      "4\n",
      "5\n",
      "6\n",
      "7\n",
      "8\n",
      "9\n",
      "10\n"
     ]
    }
   ],
   "source": [
    "for i in range(1, 11):\n",
    "    print(i)"
   ]
  },
  {
   "cell_type": "markdown",
   "metadata": {},
   "source": [
    "2. 1부터 n까지 숫자 출력\n",
    "    - 사용자에게 숫자을 입력받습니다. 이 때, 정수형으로 형변환합니다.\n",
    "    - 입력받은 숫자를 변수 `n` 에 할당합니다.\n",
    "    - `for` 반복문과 `range()` 함수를 활용하여 1부터 n까지의 숫자를 출력하는 프로그램을 작성합니다.\n",
    "    - 예시\n",
    "    \n",
    "    ```bash\n",
    "    숫자를 입력하세요 : 5\n",
    "    1\n",
    "    2\n",
    "    3\n",
    "    4\n",
    "    5\n",
    "    ```"
   ]
  },
  {
   "cell_type": "code",
   "execution_count": 15,
   "metadata": {},
   "outputs": [
    {
     "name": "stdout",
     "output_type": "stream",
     "text": [
      "1\n",
      "2\n",
      "3\n",
      "4\n",
      "5\n",
      "6\n"
     ]
    }
   ],
   "source": [
    "n = int(input(\"숫자를 입력하세요.\"))\n",
    "\n",
    "for i in range(1, n + 1):\n",
    "    print(i)"
   ]
  },
  {
   "cell_type": "markdown",
   "metadata": {},
   "source": [
    "3. 1부터 10까지 n 만큼 증가하는 숫자 목록 출력\n",
    "    - 사용자에게 숫자를 입력받습니다. 이 때, 정수형으로 형변환합니다.\n",
    "    - 입력받은 숫자를 변수 `n`에 할당합니다.\n",
    "    - `for` 반복문과 `range()` 함수를 활용하여 1부터 10까지 `n` 씩 증가하는 숫자 목록을 출력하는 프로그램을 작성합니다.\n",
    "    - 예시\n",
    "    \n",
    "    ```bash\n",
    "    숫자를 입력하세요 : 2\n",
    "    1\n",
    "    3\n",
    "    5\n",
    "    7\n",
    "    9\n",
    "    ```"
   ]
  },
  {
   "cell_type": "code",
   "execution_count": 16,
   "metadata": {},
   "outputs": [
    {
     "name": "stdout",
     "output_type": "stream",
     "text": [
      "1\n",
      "3\n",
      "5\n",
      "7\n",
      "9\n"
     ]
    }
   ],
   "source": [
    "n = int(input(\"숫자를 입력하세요.\"))\n",
    "\n",
    "for i in range(1, 11, n):\n",
    "    print(i)"
   ]
  },
  {
   "cell_type": "markdown",
   "metadata": {},
   "source": [
    "4. 리스트 원소 출력\n",
    "    - 주어진 리스트의 원소를 순회 출력하는 프로그램을 작성합니다.\n",
    "    - 주어진 리스트\n",
    "    \n",
    "    ```python\n",
    "    colors = [\"검정\", \"흰색\", \"빨강\", \"노랑\"]\n",
    "    ```\n",
    "    \n",
    "    - 예시\n",
    "    \n",
    "    ```bash\n",
    "    검정\n",
    "    흰색\n",
    "    빨강\n",
    "    노랑\n",
    "    ```"
   ]
  },
  {
   "cell_type": "code",
   "execution_count": 17,
   "metadata": {},
   "outputs": [
    {
     "name": "stdout",
     "output_type": "stream",
     "text": [
      "검정\n",
      "흰색\n",
      "빨강\n",
      "노랑\n"
     ]
    }
   ],
   "source": [
    "colors = [\"검정\", \"흰색\", \"빨강\", \"노랑\"]\n",
    "\n",
    "for color in colors:\n",
    "    print(color)"
   ]
  },
  {
   "cell_type": "markdown",
   "metadata": {},
   "source": [
    "5. 딕셔너리 key - value 출력\n",
    "    - 주어진 딕셔너리의 key - value를 순회 출력하는 프로그램을 작성합니다.\n",
    "    - 주어진 딕셔너리\n",
    "    \n",
    "    ```python\n",
    "    colors = {\n",
    "        \"Red\": \"빨강\",\n",
    "        \"Green\": \"초록\",\n",
    "        \"Blue\": \"파랑\",\n",
    "        \"Yellow\": \"노랑\",\n",
    "        \"Black\": \"검정\",\n",
    "    }\n",
    "    ```\n",
    "    \n",
    "    - 예시\n",
    "    \n",
    "    ```bash\n",
    "    Red - 빨강\n",
    "    Green - 초록\n",
    "    Blue - 파랑\n",
    "    Yellow - 노랑\n",
    "    Black - 검정\n",
    "    ```"
   ]
  },
  {
   "cell_type": "code",
   "execution_count": 18,
   "metadata": {},
   "outputs": [
    {
     "name": "stdout",
     "output_type": "stream",
     "text": [
      "Red - 빨강\n",
      "Green - 초록\n",
      "Blue - 파랑\n",
      "Yellow - 노랑\n",
      "Black - 검정\n"
     ]
    }
   ],
   "source": [
    "colors = {\n",
    "    \"Red\": \"빨강\",\n",
    "    \"Green\": \"초록\",\n",
    "    \"Blue\": \"파랑\",\n",
    "    \"Yellow\": \"노랑\",\n",
    "    \"Black\": \"검정\",\n",
    "}\n",
    "\n",
    "for key, value in colors.items():\n",
    "    print(f\"{key} - {value}\")"
   ]
  },
  {
   "cell_type": "markdown",
   "metadata": {},
   "source": [
    "6. 구구단 2단 출력\n",
    "    - 사용자에게 숫자를 입력받습니다. 이 때, 정수형으로 형변환합니다.\n",
    "    - 입력받은 숫자를 변수 `n` 에 할당합니다.\n",
    "    - 1부터 n까지의 숫자와 2를 곱한 값을 순서대로 출력하는 프로그램을 작성합니다.\n",
    "    - 예시\n",
    "    \n",
    "    ```bash\n",
    "    숫자를 입력하세요 : 9\n",
    "    2\n",
    "    4\n",
    "    6\n",
    "    8\n",
    "    10\n",
    "    12\n",
    "    14\n",
    "    16\n",
    "    18\n",
    "    ```\n",
    "    \n",
    "    ```bash\n",
    "    숫자를 입력하세요 : 2\n",
    "    2\n",
    "    4\n",
    "    ```"
   ]
  },
  {
   "cell_type": "code",
   "execution_count": 19,
   "metadata": {},
   "outputs": [
    {
     "name": "stdout",
     "output_type": "stream",
     "text": [
      "2\n",
      "4\n",
      "6\n",
      "8\n",
      "10\n",
      "12\n",
      "14\n",
      "16\n",
      "18\n",
      "20\n"
     ]
    }
   ],
   "source": [
    "n = int(input(\"숫자를 입력하세요.\"))\n",
    "\n",
    "for i in range(1, n + 1):\n",
    "    print(2 * i)"
   ]
  },
  {
   "cell_type": "markdown",
   "metadata": {},
   "source": [
    "7. 홀수만 더한 값\n",
    "    - 반복문과 조건문을 사용해서 1부터 100까지의 숫자 중 홀수인 숫자를 더한 값을 출력하는 프로그램을 작성합니다.\n",
    "    \n",
    "    ```python\n",
    "    2500\n",
    "    ```"
   ]
  },
  {
   "cell_type": "code",
   "execution_count": 20,
   "metadata": {},
   "outputs": [
    {
     "name": "stdout",
     "output_type": "stream",
     "text": [
      "2500\n"
     ]
    }
   ],
   "source": [
    "sum = 0\n",
    "\n",
    "for i in range(1, 101, 2):\n",
    "    sum += i\n",
    "\n",
    "print(sum)"
   ]
  }
 ],
 "metadata": {
  "kernelspec": {
   "display_name": "base",
   "language": "python",
   "name": "python3"
  },
  "language_info": {
   "codemirror_mode": {
    "name": "ipython",
    "version": 3
   },
   "file_extension": ".py",
   "mimetype": "text/x-python",
   "name": "python",
   "nbconvert_exporter": "python",
   "pygments_lexer": "ipython3",
   "version": "3.12.4"
  }
 },
 "nbformat": 4,
 "nbformat_minor": 2
}
