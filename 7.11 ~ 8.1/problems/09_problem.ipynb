{
 "cells": [
  {
   "cell_type": "markdown",
   "metadata": {},
   "source": [
    "### (1) 데이터 프레임 생성\n",
    "\n",
    "1. 아래와 동일한 데이터를 저장한 데이터프레임을 만들고 출력하는 코드를 작성하세요.\n",
    "\n",
    "![스크린샷 2024-02-15 오후 2.33.01.png](https://prod-files-secure.s3.us-west-2.amazonaws.com/f2678325-6f7b-4a25-b188-86c42030d6d5/23279315-1e29-4f90-bd05-1571b127f995/%E1%84%89%E1%85%B3%E1%84%8F%E1%85%B3%E1%84%85%E1%85%B5%E1%86%AB%E1%84%89%E1%85%A3%E1%86%BA_2024-02-15_%E1%84%8B%E1%85%A9%E1%84%92%E1%85%AE_2.33.01.png)"
   ]
  },
  {
   "cell_type": "code",
   "execution_count": 3,
   "metadata": {},
   "outputs": [
    {
     "name": "stdout",
     "output_type": "stream",
     "text": [
      "    Name  Age  Salary\n",
      "0    Jay   28   50000\n",
      "1   Anna   34   62000\n",
      "2  Peter   29   58000\n",
      "3  Linda   32   75000\n"
     ]
    }
   ],
   "source": [
    "import pandas as pd\n",
    "\n",
    "data = [\n",
    "    [\"Jay\", 28, 50000],\n",
    "    [\"Anna\", 34, 62000],\n",
    "    [\"Peter\", 29, 58000],\n",
    "    [\"Linda\", 32, 75000],\n",
    "]\n",
    "\n",
    "columns = [\"Name\", \"Age\", \"Salary\"]\n",
    "\n",
    "df = pd.DataFrame(data, columns=columns)\n",
    "\n",
    "print(df)"
   ]
  },
  {
   "cell_type": "markdown",
   "metadata": {},
   "source": [
    "### (2) 네이버 상품 정보 데이터 프레임 생성\n",
    "\n",
    "1. 데이터가 저장된 json 파일을 읽어서 파이썬 객체로 변환하세요.\n",
    "2. 파이썬 객체를 활용하여 데이터프레임을 생성하세요."
   ]
  },
  {
   "cell_type": "code",
   "execution_count": 7,
   "metadata": {},
   "outputs": [
    {
     "name": "stdout",
     "output_type": "stream",
     "text": [
      "                                            상품명       가격  \\\n",
      "0       (25-43)남자 냉장고 바지 시원한 여름 밴딩 아이스 슬랙스 빅사이즈  11,800원   \n",
      "1                  남자 냉장고바지 와이드 팬츠 여름 쿨 아이스 슬랙스  16,900원   \n",
      "2          INTERMEZZO 24 Summer 쿨맥스 라이크라 슬랙스 3종  29,570원   \n",
      "3             여름 봄 가을 면 9부 스판 정장 바지 빅사이즈 남자 슬랙스  19,500원   \n",
      "4      남자 냉장고 여름 바지 슬랙스 시원한 쿨 아이스 밴딩 스판 빅사이즈 조거  13,900원   \n",
      "..                                          ...      ...   \n",
      "155                    남자 여름슬랙스 9부 정장바지 초박초경량스판   8,360원   \n",
      "156         프로젝트엠 남성 에어로쿨 슬림핏 슬랙스 팬츠 EPC2PP1331   8,720원   \n",
      "157                    컨셉원 MW TR 슬림핏 슬랙스 114501  23,200원   \n",
      "158  프랭키뉴욕 여름 남자슬랙스 COOL 슬림 스판 9부 정장바지 RI7UPA03  16,530원   \n",
      "159               지오다노 쿨맥스 테이퍼드 히든밴딩 슬랙스 113515  27,000원   \n",
      "\n",
      "                                                    주소     배송료  \n",
      "0    https://cr.shopping.naver.com/adcr.nhn?x=k5zQR...  3,000원  \n",
      "1    https://cr.shopping.naver.com/adcr.nhn?x=28W%2...  3,000원  \n",
      "2    https://cr.shopping.naver.com/adcr.nhn?x=cEeXZ...      무료  \n",
      "3    https://cr.shopping.naver.com/adcr.nhn?x=ncVLZ...      무료  \n",
      "4    https://cr.shopping.naver.com/adcr.nhn?x=k1WoA...  3,000원  \n",
      "..                                                 ...     ...  \n",
      "155  https://cr.shopping.naver.com/adcr.nhn?x=73bF2...  3,000원  \n",
      "156  https://cr.shopping.naver.com/adcr.nhn?x=R4sx5...      무료  \n",
      "157  https://cr.shopping.naver.com/adcr.nhn?x=zGVX1...      무료  \n",
      "158  https://cr.shopping.naver.com/adcr.nhn?x=YoFMD...  2,500원  \n",
      "159  https://cr.shopping.naver.com/adcr.nhn?x=Qgvc1...  3,000원  \n",
      "\n",
      "[160 rows x 4 columns]\n"
     ]
    }
   ],
   "source": [
    "import pandas as pd\n",
    "import json\n",
    "\n",
    "with open(\"shopping_list.json\", \"r\") as file:\n",
    "    data_list = json.load(file)\n",
    "\n",
    "\n",
    "df = pd.DataFrame(data_list)\n",
    "\n",
    "print(df)"
   ]
  }
 ],
 "metadata": {
  "kernelspec": {
   "display_name": "base",
   "language": "python",
   "name": "python3"
  },
  "language_info": {
   "codemirror_mode": {
    "name": "ipython",
    "version": 3
   },
   "file_extension": ".py",
   "mimetype": "text/x-python",
   "name": "python",
   "nbconvert_exporter": "python",
   "pygments_lexer": "ipython3",
   "version": "3.12.4"
  }
 },
 "nbformat": 4,
 "nbformat_minor": 2
}
