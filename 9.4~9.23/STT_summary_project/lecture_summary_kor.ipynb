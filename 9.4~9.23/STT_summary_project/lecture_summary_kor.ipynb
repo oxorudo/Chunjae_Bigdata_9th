{
 "cells": [
  {
   "cell_type": "code",
   "execution_count": 30,
   "metadata": {},
   "outputs": [
    {
     "name": "stdout",
     "output_type": "stream",
     "text": [
      "MoviePy - Writing audio in extracted_audio1.mp3\n"
     ]
    },
    {
     "name": "stderr",
     "output_type": "stream",
     "text": [
      "                                                                      \r"
     ]
    },
    {
     "name": "stdout",
     "output_type": "stream",
     "text": [
      "MoviePy - Done.\n",
      "음성 파일이 extracted_audio1.mp3에 저장되었습니다.\n",
      "MoviePy - Writing audio in extracted_audio2.mp3\n"
     ]
    },
    {
     "name": "stderr",
     "output_type": "stream",
     "text": [
      "                                                                      \r"
     ]
    },
    {
     "name": "stdout",
     "output_type": "stream",
     "text": [
      "MoviePy - Done.\n",
      "음성 파일이 extracted_audio2.mp3에 저장되었습니다.\n",
      "MoviePy - Writing audio in extracted_audio3.mp3\n"
     ]
    },
    {
     "name": "stderr",
     "output_type": "stream",
     "text": [
      "                                                                      \r"
     ]
    },
    {
     "name": "stdout",
     "output_type": "stream",
     "text": [
      "MoviePy - Done.\n",
      "음성 파일이 extracted_audio3.mp3에 저장되었습니다.\n",
      "MoviePy - Writing audio in extracted_audio4.mp3\n"
     ]
    },
    {
     "name": "stderr",
     "output_type": "stream",
     "text": [
      "                                                                      "
     ]
    },
    {
     "name": "stdout",
     "output_type": "stream",
     "text": [
      "MoviePy - Done.\n",
      "음성 파일이 extracted_audio4.mp3에 저장되었습니다.\n"
     ]
    },
    {
     "name": "stderr",
     "output_type": "stream",
     "text": [
      "\r"
     ]
    }
   ],
   "source": [
    "from moviepy.editor import VideoFileClip\n",
    "\n",
    "# 동영상 파일 경로\n",
    "\n",
    "audio_path = []\n",
    "\n",
    "for i in range(0, 4):\n",
    "    video_path = f\"./ebs/y2mate.com - 초등 수학 개념잡기  23강 문제 해결의 여러가지 방법 찾기1   00{i+1}_360P.mp4\"\n",
    "\n",
    "    # 동영상 로드\n",
    "    video = VideoFileClip(video_path)\n",
    "\n",
    "    # 음성 파일로 저장\n",
    "\n",
    "    audio_path.append(f\"extracted_audio{i+1}.mp3\")\n",
    "    video.audio.write_audiofile(audio_path[i])\n",
    "\n",
    "    print(f\"음성 파일이 {audio_path[i]}에 저장되었습니다.\")"
   ]
  },
  {
   "cell_type": "code",
   "execution_count": 2,
   "metadata": {},
   "outputs": [],
   "source": [
    "from moviepy.editor import AudioFileClip\n",
    "import os"
   ]
  },
  {
   "cell_type": "code",
   "execution_count": 4,
   "metadata": {},
   "outputs": [
    {
     "name": "stdout",
     "output_type": "stream",
     "text": [
      "Converting: y2mate.com - Acute right and obtuse angles  Angles and intersecting lines  Geometry  Khan Academy 1_v720P.mp4 -> ./khan/new/audio/y2mate.com - Acute right and obtuse angles  Angles and intersecting lines  Geometry  Khan Academy 1_v720P.mp3\n",
      "MoviePy - Writing audio in ./khan/new/audio/y2mate.com - Acute right and obtuse angles  Angles and intersecting lines  Geometry  Khan Academy 1_v720P.mp3\n"
     ]
    },
    {
     "name": "stderr",
     "output_type": "stream",
     "text": [
      "                                                                      \r"
     ]
    },
    {
     "name": "stdout",
     "output_type": "stream",
     "text": [
      "MoviePy - Done.\n",
      "Converting: y2mate.com - Angle basics  Angles and intersecting lines  Geometry  Khan Academy_720p.mp4 -> ./khan/new/audio/y2mate.com - Angle basics  Angles and intersecting lines  Geometry  Khan Academy_720p.mp3\n",
      "MoviePy - Writing audio in ./khan/new/audio/y2mate.com - Angle basics  Angles and intersecting lines  Geometry  Khan Academy_720p.mp3\n"
     ]
    },
    {
     "name": "stderr",
     "output_type": "stream",
     "text": [
      "                                                                      \r"
     ]
    },
    {
     "name": "stdout",
     "output_type": "stream",
     "text": [
      "MoviePy - Done.\n",
      "Converting: y2mate.com - Axis of symmetry  Transformations  Geometry  Khan Academy_720pFH.mp4 -> ./khan/new/audio/y2mate.com - Axis of symmetry  Transformations  Geometry  Khan Academy_720pFH.mp3\n",
      "MoviePy - Writing audio in ./khan/new/audio/y2mate.com - Axis of symmetry  Transformations  Geometry  Khan Academy_720pFH.mp3\n"
     ]
    },
    {
     "name": "stderr",
     "output_type": "stream",
     "text": [
      "                                                                      \r"
     ]
    },
    {
     "name": "stdout",
     "output_type": "stream",
     "text": [
      "MoviePy - Done.\n",
      "Converting: y2mate.com - Basic geometry language and labels  Introduction to Euclidean geometry  Geometry  Khan Academy_720pFH.mp4 -> ./khan/new/audio/y2mate.com - Basic geometry language and labels  Introduction to Euclidean geometry  Geometry  Khan Academy_720pFH.mp3\n",
      "MoviePy - Writing audio in ./khan/new/audio/y2mate.com - Basic geometry language and labels  Introduction to Euclidean geometry  Geometry  Khan Academy_720pFH.mp3\n"
     ]
    },
    {
     "name": "stderr",
     "output_type": "stream",
     "text": [
      "                                                                        \r"
     ]
    },
    {
     "name": "stdout",
     "output_type": "stream",
     "text": [
      "MoviePy - Done.\n",
      "Converting: y2mate.com - Categorizing geometric shapes practice examples  4th grade  Khan Academy_v720P.mp4 -> ./khan/new/audio/y2mate.com - Categorizing geometric shapes practice examples  4th grade  Khan Academy_v720P.mp3\n",
      "MoviePy - Writing audio in ./khan/new/audio/y2mate.com - Categorizing geometric shapes practice examples  4th grade  Khan Academy_v720P.mp3\n"
     ]
    },
    {
     "name": "stderr",
     "output_type": "stream",
     "text": [
      "                                                                      \r"
     ]
    },
    {
     "name": "stdout",
     "output_type": "stream",
     "text": [
      "MoviePy - Done.\n",
      "Converting: y2mate.com - Categorizing triangles  Geometry  4th grade  Khan Academy_v720P.mp4 -> ./khan/new/audio/y2mate.com - Categorizing triangles  Geometry  4th grade  Khan Academy_v720P.mp3\n",
      "MoviePy - Writing audio in ./khan/new/audio/y2mate.com - Categorizing triangles  Geometry  4th grade  Khan Academy_v720P.mp3\n"
     ]
    },
    {
     "name": "stderr",
     "output_type": "stream",
     "text": [
      "                                                                      \r"
     ]
    },
    {
     "name": "stdout",
     "output_type": "stream",
     "text": [
      "MoviePy - Done.\n",
      "Converting: y2mate.com - Classifying shapes by lines and angles    Math  4th grade  Khan Academy_v720P.mp4 -> ./khan/new/audio/y2mate.com - Classifying shapes by lines and angles    Math  4th grade  Khan Academy_v720P.mp3\n",
      "MoviePy - Writing audio in ./khan/new/audio/y2mate.com - Classifying shapes by lines and angles    Math  4th grade  Khan Academy_v720P.mp3\n"
     ]
    },
    {
     "name": "stderr",
     "output_type": "stream",
     "text": [
      "                                                                      \r"
     ]
    },
    {
     "name": "stdout",
     "output_type": "stream",
     "text": [
      "MoviePy - Done.\n",
      "Converting: y2mate.com - Constructing numerical expressions  Applying mathematical reasoning  PreAlgebra  Khan Academy_720pFH.mp4 -> ./khan/new/audio/y2mate.com - Constructing numerical expressions  Applying mathematical reasoning  PreAlgebra  Khan Academy_720pFH.mp3\n",
      "MoviePy - Writing audio in ./khan/new/audio/y2mate.com - Constructing numerical expressions  Applying mathematical reasoning  PreAlgebra  Khan Academy_720pFH.mp3\n"
     ]
    },
    {
     "name": "stderr",
     "output_type": "stream",
     "text": [
      "                                                                      \r"
     ]
    },
    {
     "name": "stdout",
     "output_type": "stream",
     "text": [
      "MoviePy - Done.\n",
      "Converting: y2mate.com - Constructing numerical expressions  Applying mathematical reasoning  PreAlgebra  Khan Academy_720pHF.mp4 -> ./khan/new/audio/y2mate.com - Constructing numerical expressions  Applying mathematical reasoning  PreAlgebra  Khan Academy_720pHF.mp3\n",
      "MoviePy - Writing audio in ./khan/new/audio/y2mate.com - Constructing numerical expressions  Applying mathematical reasoning  PreAlgebra  Khan Academy_720pHF.mp3\n"
     ]
    },
    {
     "name": "stderr",
     "output_type": "stream",
     "text": [
      "                                                                      \r"
     ]
    },
    {
     "name": "stdout",
     "output_type": "stream",
     "text": [
      "MoviePy - Done.\n",
      "Converting: y2mate.com - Converting decimals to percents  Decimals  PreAlgebra  Khan Academy_720pFH.mp4 -> ./khan/new/audio/y2mate.com - Converting decimals to percents  Decimals  PreAlgebra  Khan Academy_720pFH.mp3\n",
      "MoviePy - Writing audio in ./khan/new/audio/y2mate.com - Converting decimals to percents  Decimals  PreAlgebra  Khan Academy_720pFH.mp3\n"
     ]
    },
    {
     "name": "stderr",
     "output_type": "stream",
     "text": [
      "                                                                      \r"
     ]
    },
    {
     "name": "stdout",
     "output_type": "stream",
     "text": [
      "MoviePy - Done.\n",
      "Converting: y2mate.com - Converting percent to decimal and fraction  Decimals  PreAlgebra  Khan Academy_720pFH.mp4 -> ./khan/new/audio/y2mate.com - Converting percent to decimal and fraction  Decimals  PreAlgebra  Khan Academy_720pFH.mp3\n",
      "MoviePy - Writing audio in ./khan/new/audio/y2mate.com - Converting percent to decimal and fraction  Decimals  PreAlgebra  Khan Academy_720pFH.mp3\n"
     ]
    },
    {
     "name": "stderr",
     "output_type": "stream",
     "text": [
      "                                                                      \r"
     ]
    },
    {
     "name": "stdout",
     "output_type": "stream",
     "text": [
      "MoviePy - Done.\n",
      "Converting: y2mate.com - Converting percents to decimals example 2  Decimals  PreAlgebra  Khan Academy_720pFH.mp4 -> ./khan/new/audio/y2mate.com - Converting percents to decimals example 2  Decimals  PreAlgebra  Khan Academy_720pFH.mp3\n",
      "MoviePy - Writing audio in ./khan/new/audio/y2mate.com - Converting percents to decimals example 2  Decimals  PreAlgebra  Khan Academy_720pFH.mp3\n"
     ]
    },
    {
     "name": "stderr",
     "output_type": "stream",
     "text": [
      "                                                                      \r"
     ]
    },
    {
     "name": "stdout",
     "output_type": "stream",
     "text": [
      "MoviePy - Done.\n",
      "Converting: y2mate.com - Coordinate plane graphing points  Geometry  5th grade  Khan Academy_720pFH.mp4 -> ./khan/new/audio/y2mate.com - Coordinate plane graphing points  Geometry  5th grade  Khan Academy_720pFH.mp3\n",
      "MoviePy - Writing audio in ./khan/new/audio/y2mate.com - Coordinate plane graphing points  Geometry  5th grade  Khan Academy_720pFH.mp3\n"
     ]
    },
    {
     "name": "stderr",
     "output_type": "stream",
     "text": [
      "                                                                      \r"
     ]
    },
    {
     "name": "stdout",
     "output_type": "stream",
     "text": [
      "MoviePy - Done.\n",
      "Converting: y2mate.com - Coordinate plane graphing points word problem  Geometry  5th grade  Khan Academy_720pFH.mp4 -> ./khan/new/audio/y2mate.com - Coordinate plane graphing points word problem  Geometry  5th grade  Khan Academy_720pFH.mp3\n",
      "MoviePy - Writing audio in ./khan/new/audio/y2mate.com - Coordinate plane graphing points word problem  Geometry  5th grade  Khan Academy_720pFH.mp3\n"
     ]
    },
    {
     "name": "stderr",
     "output_type": "stream",
     "text": [
      "                                                                      \r"
     ]
    },
    {
     "name": "stdout",
     "output_type": "stream",
     "text": [
      "MoviePy - Done.\n",
      "Converting: y2mate.com - Coordinate plane graphing points word problem  Geometry  5th grade  Khan Academy_720pHF.mp4 -> ./khan/new/audio/y2mate.com - Coordinate plane graphing points word problem  Geometry  5th grade  Khan Academy_720pHF.mp3\n",
      "MoviePy - Writing audio in ./khan/new/audio/y2mate.com - Coordinate plane graphing points word problem  Geometry  5th grade  Khan Academy_720pHF.mp3\n"
     ]
    },
    {
     "name": "stderr",
     "output_type": "stream",
     "text": [
      "                                                                      \r"
     ]
    },
    {
     "name": "stdout",
     "output_type": "stream",
     "text": [
      "MoviePy - Done.\n",
      "Converting: y2mate.com - Drawing acute right and obtuse angles  4th grade  Khan Academy_v720P.mp4 -> ./khan/new/audio/y2mate.com - Drawing acute right and obtuse angles  4th grade  Khan Academy_v720P.mp3\n",
      "MoviePy - Writing audio in ./khan/new/audio/y2mate.com - Drawing acute right and obtuse angles  4th grade  Khan Academy_v720P.mp3\n"
     ]
    },
    {
     "name": "stderr",
     "output_type": "stream",
     "text": [
      "                                                                      \r"
     ]
    },
    {
     "name": "stdout",
     "output_type": "stream",
     "text": [
      "MoviePy - Done.\n",
      "Converting: y2mate.com - Drawing line segments example  Introduction to Euclidean geometry  Geometry  Khan Academy_v720P.mp4 -> ./khan/new/audio/y2mate.com - Drawing line segments example  Introduction to Euclidean geometry  Geometry  Khan Academy_v720P.mp3\n",
      "MoviePy - Writing audio in ./khan/new/audio/y2mate.com - Drawing line segments example  Introduction to Euclidean geometry  Geometry  Khan Academy_v720P.mp3\n"
     ]
    },
    {
     "name": "stderr",
     "output_type": "stream",
     "text": [
      "                                                                      \r"
     ]
    },
    {
     "name": "stdout",
     "output_type": "stream",
     "text": [
      "MoviePy - Done.\n",
      "Converting: y2mate.com - Evaluating expressions with and without parentheses  PreAlgebra  Khan Academy_720pFH.mp4 -> ./khan/new/audio/y2mate.com - Evaluating expressions with and without parentheses  PreAlgebra  Khan Academy_720pFH.mp3\n",
      "MoviePy - Writing audio in ./khan/new/audio/y2mate.com - Evaluating expressions with and without parentheses  PreAlgebra  Khan Academy_720pFH.mp3\n"
     ]
    },
    {
     "name": "stderr",
     "output_type": "stream",
     "text": [
      "                                                                      \r"
     ]
    },
    {
     "name": "stdout",
     "output_type": "stream",
     "text": [
      "MoviePy - Done.\n",
      "Converting: y2mate.com - Evaluating expressions with and without parentheses  PreAlgebra  Khan Academy_720pHF.mp4 -> ./khan/new/audio/y2mate.com - Evaluating expressions with and without parentheses  PreAlgebra  Khan Academy_720pHF.mp3\n",
      "MoviePy - Writing audio in ./khan/new/audio/y2mate.com - Evaluating expressions with and without parentheses  PreAlgebra  Khan Academy_720pHF.mp3\n"
     ]
    },
    {
     "name": "stderr",
     "output_type": "stream",
     "text": [
      "                                                                      \r"
     ]
    },
    {
     "name": "stdout",
     "output_type": "stream",
     "text": [
      "MoviePy - Done.\n",
      "Converting: y2mate.com - Finding a percentage  Decimals  PreAlgebra  Khan Academy_720pFH.mp4 -> ./khan/new/audio/y2mate.com - Finding a percentage  Decimals  PreAlgebra  Khan Academy_720pFH.mp3\n",
      "MoviePy - Writing audio in ./khan/new/audio/y2mate.com - Finding a percentage  Decimals  PreAlgebra  Khan Academy_720pFH.mp3\n"
     ]
    },
    {
     "name": "stderr",
     "output_type": "stream",
     "text": [
      "                                                                      \r"
     ]
    },
    {
     "name": "stdout",
     "output_type": "stream",
     "text": [
      "MoviePy - Done.\n",
      "Converting: y2mate.com - Fraction decimal and percent from visual model_v720P.mp4 -> ./khan/new/audio/y2mate.com - Fraction decimal and percent from visual model_v720P.mp3\n",
      "MoviePy - Writing audio in ./khan/new/audio/y2mate.com - Fraction decimal and percent from visual model_v720P.mp3\n"
     ]
    },
    {
     "name": "stderr",
     "output_type": "stream",
     "text": [
      "                                                                      \r"
     ]
    },
    {
     "name": "stdout",
     "output_type": "stream",
     "text": [
      "MoviePy - Done.\n",
      "Converting: y2mate.com - How to read a line plot that uses fractions  4th grade  Khan Academy_720p.mp4 -> ./khan/new/audio/y2mate.com - How to read a line plot that uses fractions  4th grade  Khan Academy_720p.mp3\n",
      "MoviePy - Writing audio in ./khan/new/audio/y2mate.com - How to read a line plot that uses fractions  4th grade  Khan Academy_720p.mp3\n"
     ]
    },
    {
     "name": "stderr",
     "output_type": "stream",
     "text": [
      "                                                                      \r"
     ]
    },
    {
     "name": "stdout",
     "output_type": "stream",
     "text": [
      "MoviePy - Done.\n",
      "Converting: y2mate.com - How to read a line plot that uses fractions  4th grade  Khan Academy_v720P.mp4 -> ./khan/new/audio/y2mate.com - How to read a line plot that uses fractions  4th grade  Khan Academy_v720P.mp3\n",
      "MoviePy - Writing audio in ./khan/new/audio/y2mate.com - How to read a line plot that uses fractions  4th grade  Khan Academy_v720P.mp3\n"
     ]
    },
    {
     "name": "stderr",
     "output_type": "stream",
     "text": [
      "                                                                      \r"
     ]
    },
    {
     "name": "stdout",
     "output_type": "stream",
     "text": [
      "MoviePy - Done.\n",
      "Converting: y2mate.com - Identify the angle example  Geometry  4th grade  Khan Academy_v720P.mp4 -> ./khan/new/audio/y2mate.com - Identify the angle example  Geometry  4th grade  Khan Academy_v720P.mp3\n",
      "MoviePy - Writing audio in ./khan/new/audio/y2mate.com - Identify the angle example  Geometry  4th grade  Khan Academy_v720P.mp3\n"
     ]
    },
    {
     "name": "stderr",
     "output_type": "stream",
     "text": [
      "                                                                      \r"
     ]
    },
    {
     "name": "stdout",
     "output_type": "stream",
     "text": [
      "MoviePy - Done.\n",
      "Converting: y2mate.com - Identifying symmetrical figures   Math  4th grade  Khan Academy_720pFH.mp4 -> ./khan/new/audio/y2mate.com - Identifying symmetrical figures   Math  4th grade  Khan Academy_720pFH.mp3\n",
      "MoviePy - Writing audio in ./khan/new/audio/y2mate.com - Identifying symmetrical figures   Math  4th grade  Khan Academy_720pFH.mp3\n"
     ]
    },
    {
     "name": "stderr",
     "output_type": "stream",
     "text": [
      "                                                                      \r"
     ]
    },
    {
     "name": "stdout",
     "output_type": "stream",
     "text": [
      "MoviePy - Done.\n",
      "Converting: y2mate.com - Interpreting plotted points_720p.mp4 -> ./khan/new/audio/y2mate.com - Interpreting plotted points_720p.mp3\n",
      "MoviePy - Writing audio in ./khan/new/audio/y2mate.com - Interpreting plotted points_720p.mp3\n"
     ]
    },
    {
     "name": "stderr",
     "output_type": "stream",
     "text": [
      "                                                                      \r"
     ]
    },
    {
     "name": "stdout",
     "output_type": "stream",
     "text": [
      "MoviePy - Done.\n",
      "Converting: y2mate.com - Interpreting plotted points_v720P.mp4 -> ./khan/new/audio/y2mate.com - Interpreting plotted points_v720P.mp3\n",
      "MoviePy - Writing audio in ./khan/new/audio/y2mate.com - Interpreting plotted points_v720P.mp3\n"
     ]
    },
    {
     "name": "stderr",
     "output_type": "stream",
     "text": [
      "                                                                      \r"
     ]
    },
    {
     "name": "stdout",
     "output_type": "stream",
     "text": [
      "MoviePy - Done.\n",
      "Converting: y2mate.com - Intro to lines line segments and rays  Geometry  Khan Academy_720pFH.mp4 -> ./khan/new/audio/y2mate.com - Intro to lines line segments and rays  Geometry  Khan Academy_720pFH.mp3\n",
      "MoviePy - Writing audio in ./khan/new/audio/y2mate.com - Intro to lines line segments and rays  Geometry  Khan Academy_720pFH.mp3\n"
     ]
    },
    {
     "name": "stderr",
     "output_type": "stream",
     "text": [
      "                                                                      \r"
     ]
    },
    {
     "name": "stdout",
     "output_type": "stream",
     "text": [
      "MoviePy - Done.\n",
      "Converting: y2mate.com - Introduction to rates  Ratios rates and percentages  6th grade  Khan Academy_720pFH.mp4 -> ./khan/new/audio/y2mate.com - Introduction to rates  Ratios rates and percentages  6th grade  Khan Academy_720pFH.mp3\n",
      "MoviePy - Writing audio in ./khan/new/audio/y2mate.com - Introduction to rates  Ratios rates and percentages  6th grade  Khan Academy_720pFH.mp3\n"
     ]
    },
    {
     "name": "stderr",
     "output_type": "stream",
     "text": [
      "                                                                      \r"
     ]
    },
    {
     "name": "stdout",
     "output_type": "stream",
     "text": [
      "MoviePy - Done.\n",
      "Converting: y2mate.com - Introduction to ratios  Ratios rates and percentages  6th grade  Khan Academy_720pHF.mp4 -> ./khan/new/audio/y2mate.com - Introduction to ratios  Ratios rates and percentages  6th grade  Khan Academy_720pHF.mp3\n",
      "MoviePy - Writing audio in ./khan/new/audio/y2mate.com - Introduction to ratios  Ratios rates and percentages  6th grade  Khan Academy_720pHF.mp3\n"
     ]
    },
    {
     "name": "stderr",
     "output_type": "stream",
     "text": [
      "                                                                      \r"
     ]
    },
    {
     "name": "stdout",
     "output_type": "stream",
     "text": [
      "MoviePy - Done.\n",
      "Converting: y2mate.com - Introduction to the coordinate plane_v720P.mp4 -> ./khan/new/audio/y2mate.com - Introduction to the coordinate plane_v720P.mp3\n",
      "MoviePy - Writing audio in ./khan/new/audio/y2mate.com - Introduction to the coordinate plane_v720P.mp3\n"
     ]
    },
    {
     "name": "stderr",
     "output_type": "stream",
     "text": [
      "                                                                      \r"
     ]
    },
    {
     "name": "stdout",
     "output_type": "stream",
     "text": [
      "MoviePy - Done.\n",
      "Converting: y2mate.com - Naming angles exercise example  Geometry  4th grade  Khan Academy_v720P.mp4 -> ./khan/new/audio/y2mate.com - Naming angles exercise example  Geometry  4th grade  Khan Academy_v720P.mp3\n",
      "MoviePy - Writing audio in ./khan/new/audio/y2mate.com - Naming angles exercise example  Geometry  4th grade  Khan Academy_v720P.mp3\n"
     ]
    },
    {
     "name": "stderr",
     "output_type": "stream",
     "text": [
      "                                                                      \r"
     ]
    },
    {
     "name": "stdout",
     "output_type": "stream",
     "text": [
      "MoviePy - Done.\n",
      "Converting: y2mate.com - Number patterns interpreting and graphing relationships  PreAlgebra  Khan Academy_720pFH.mp4 -> ./khan/new/audio/y2mate.com - Number patterns interpreting and graphing relationships  PreAlgebra  Khan Academy_720pFH.mp3\n",
      "MoviePy - Writing audio in ./khan/new/audio/y2mate.com - Number patterns interpreting and graphing relationships  PreAlgebra  Khan Academy_720pFH.mp3\n"
     ]
    },
    {
     "name": "stderr",
     "output_type": "stream",
     "text": [
      "                                                                      \r"
     ]
    },
    {
     "name": "stdout",
     "output_type": "stream",
     "text": [
      "MoviePy - Done.\n",
      "Converting: y2mate.com - Number patterns interpreting and graphing relationships  PreAlgebra  Khan Academy_720pHF.mp4 -> ./khan/new/audio/y2mate.com - Number patterns interpreting and graphing relationships  PreAlgebra  Khan Academy_720pHF.mp3\n",
      "MoviePy - Writing audio in ./khan/new/audio/y2mate.com - Number patterns interpreting and graphing relationships  PreAlgebra  Khan Academy_720pHF.mp3\n"
     ]
    },
    {
     "name": "stderr",
     "output_type": "stream",
     "text": [
      "                                                                      \r"
     ]
    },
    {
     "name": "stdout",
     "output_type": "stream",
     "text": [
      "MoviePy - Done.\n",
      "Converting: y2mate.com - Number patterns interpreting relationships  PreAlgebra  Khan Academy_720pHF.mp4 -> ./khan/new/audio/y2mate.com - Number patterns interpreting relationships  PreAlgebra  Khan Academy_720pHF.mp3\n",
      "MoviePy - Writing audio in ./khan/new/audio/y2mate.com - Number patterns interpreting relationships  PreAlgebra  Khan Academy_720pHF.mp3\n"
     ]
    },
    {
     "name": "stderr",
     "output_type": "stream",
     "text": [
      "                                                                      \r"
     ]
    },
    {
     "name": "stdout",
     "output_type": "stream",
     "text": [
      "MoviePy - Done.\n",
      "Converting: y2mate.com - Number patterns Seeing relationships  Applying mathematical reasoning  PreAlgebra  Khan Academy_720pFH.mp4 -> ./khan/new/audio/y2mate.com - Number patterns Seeing relationships  Applying mathematical reasoning  PreAlgebra  Khan Academy_720pFH.mp3\n",
      "MoviePy - Writing audio in ./khan/new/audio/y2mate.com - Number patterns Seeing relationships  Applying mathematical reasoning  PreAlgebra  Khan Academy_720pFH.mp3\n"
     ]
    },
    {
     "name": "stderr",
     "output_type": "stream",
     "text": [
      "                                                                      \r"
     ]
    },
    {
     "name": "stdout",
     "output_type": "stream",
     "text": [
      "MoviePy - Done.\n",
      "Converting: y2mate.com - Number patterns Seeing relationships  Applying mathematical reasoning  PreAlgebra  Khan Academy_720pHF.mp4 -> ./khan/new/audio/y2mate.com - Number patterns Seeing relationships  Applying mathematical reasoning  PreAlgebra  Khan Academy_720pHF.mp3\n",
      "MoviePy - Writing audio in ./khan/new/audio/y2mate.com - Number patterns Seeing relationships  Applying mathematical reasoning  PreAlgebra  Khan Academy_720pHF.mp3\n"
     ]
    },
    {
     "name": "stderr",
     "output_type": "stream",
     "text": [
      "                                                                      \r"
     ]
    },
    {
     "name": "stdout",
     "output_type": "stream",
     "text": [
      "MoviePy - Done.\n",
      "Converting: y2mate.com - Number patterns visualizing sequence relationships  Algebric thinking  5th grade  Khan Academy_720p.mp4 -> ./khan/new/audio/y2mate.com - Number patterns visualizing sequence relationships  Algebric thinking  5th grade  Khan Academy_720p.mp3\n",
      "MoviePy - Writing audio in ./khan/new/audio/y2mate.com - Number patterns visualizing sequence relationships  Algebric thinking  5th grade  Khan Academy_720p.mp3\n"
     ]
    },
    {
     "name": "stderr",
     "output_type": "stream",
     "text": [
      "                                                                      \r"
     ]
    },
    {
     "name": "stdout",
     "output_type": "stream",
     "text": [
      "MoviePy - Done.\n",
      "Converting: y2mate.com - Number patterns visualizing sequence relationships  Algebric thinking  5th grade  Khan Academy_v720P.mp4 -> ./khan/new/audio/y2mate.com - Number patterns visualizing sequence relationships  Algebric thinking  5th grade  Khan Academy_v720P.mp3\n",
      "MoviePy - Writing audio in ./khan/new/audio/y2mate.com - Number patterns visualizing sequence relationships  Algebric thinking  5th grade  Khan Academy_v720P.mp3\n"
     ]
    },
    {
     "name": "stderr",
     "output_type": "stream",
     "text": [
      "                                                                      \r"
     ]
    },
    {
     "name": "stdout",
     "output_type": "stream",
     "text": [
      "MoviePy - Done.\n",
      "Converting: y2mate.com - Parallel and perpendicular lines intro  Analytic geometry  Geometry  Khan Academy_720pFH.mp4 -> ./khan/new/audio/y2mate.com - Parallel and perpendicular lines intro  Analytic geometry  Geometry  Khan Academy_720pFH.mp3\n",
      "MoviePy - Writing audio in ./khan/new/audio/y2mate.com - Parallel and perpendicular lines intro  Analytic geometry  Geometry  Khan Academy_720pFH.mp3\n"
     ]
    },
    {
     "name": "stderr",
     "output_type": "stream",
     "text": [
      "                                                                      \r"
     ]
    },
    {
     "name": "stdout",
     "output_type": "stream",
     "text": [
      "MoviePy - Done.\n",
      "Converting: y2mate.com - Percent from fraction models_720pFH.mp4 -> ./khan/new/audio/y2mate.com - Percent from fraction models_720pFH.mp3\n",
      "MoviePy - Writing audio in ./khan/new/audio/y2mate.com - Percent from fraction models_720pFH.mp3\n"
     ]
    },
    {
     "name": "stderr",
     "output_type": "stream",
     "text": [
      "                                                                      \r"
     ]
    },
    {
     "name": "stdout",
     "output_type": "stream",
     "text": [
      "MoviePy - Done.\n",
      "Converting: y2mate.com - Practice computing and comparing rates  Ratios rates and percentages  6th grade  Khan Academy_720pFH.mp4 -> ./khan/new/audio/y2mate.com - Practice computing and comparing rates  Ratios rates and percentages  6th grade  Khan Academy_720pFH.mp3\n",
      "MoviePy - Writing audio in ./khan/new/audio/y2mate.com - Practice computing and comparing rates  Ratios rates and percentages  6th grade  Khan Academy_720pFH.mp3\n"
     ]
    },
    {
     "name": "stderr",
     "output_type": "stream",
     "text": [
      "                                                                      \r"
     ]
    },
    {
     "name": "stdout",
     "output_type": "stream",
     "text": [
      "MoviePy - Done.\n",
      "Converting: y2mate.com - Quadrilateral overview  Perimeter area and volume  Geometry  Khan Academy_720pFH.mp4 -> ./khan/new/audio/y2mate.com - Quadrilateral overview  Perimeter area and volume  Geometry  Khan Academy_720pFH.mp3\n",
      "MoviePy - Writing audio in ./khan/new/audio/y2mate.com - Quadrilateral overview  Perimeter area and volume  Geometry  Khan Academy_720pFH.mp3\n"
     ]
    },
    {
     "name": "stderr",
     "output_type": "stream",
     "text": [
      "                                                                        \r"
     ]
    },
    {
     "name": "stdout",
     "output_type": "stream",
     "text": [
      "MoviePy - Done.\n",
      "Converting: y2mate.com - Quadrilateral overview  Perimeter area and volume  Geometry  Khan Academy_720pHF.mp4 -> ./khan/new/audio/y2mate.com - Quadrilateral overview  Perimeter area and volume  Geometry  Khan Academy_720pHF.mp3\n",
      "MoviePy - Writing audio in ./khan/new/audio/y2mate.com - Quadrilateral overview  Perimeter area and volume  Geometry  Khan Academy_720pHF.mp3\n"
     ]
    },
    {
     "name": "stderr",
     "output_type": "stream",
     "text": [
      "                                                                        \r"
     ]
    },
    {
     "name": "stdout",
     "output_type": "stream",
     "text": [
      "MoviePy - Done.\n",
      "Converting: y2mate.com - Quadrilateral properties  Perimeter area and volume  Geometry  Khan Academy_720pFH.mp4 -> ./khan/new/audio/y2mate.com - Quadrilateral properties  Perimeter area and volume  Geometry  Khan Academy_720pFH.mp3\n",
      "MoviePy - Writing audio in ./khan/new/audio/y2mate.com - Quadrilateral properties  Perimeter area and volume  Geometry  Khan Academy_720pFH.mp3\n"
     ]
    },
    {
     "name": "stderr",
     "output_type": "stream",
     "text": [
      "                                                                      \r"
     ]
    },
    {
     "name": "stdout",
     "output_type": "stream",
     "text": [
      "MoviePy - Done.\n",
      "Converting: y2mate.com - Quadrilaterals classifying shapes  Geometry  5th grade  Khan Academy_720p.mp4 -> ./khan/new/audio/y2mate.com - Quadrilaterals classifying shapes  Geometry  5th grade  Khan Academy_720p.mp3\n",
      "MoviePy - Writing audio in ./khan/new/audio/y2mate.com - Quadrilaterals classifying shapes  Geometry  5th grade  Khan Academy_720p.mp3\n"
     ]
    },
    {
     "name": "stderr",
     "output_type": "stream",
     "text": [
      "                                                                      \r"
     ]
    },
    {
     "name": "stdout",
     "output_type": "stream",
     "text": [
      "MoviePy - Done.\n",
      "Converting: y2mate.com - Quadrilaterals find the type exercise  Quadrilaterals  Geometry  Khan Academy_720pHF.mp4 -> ./khan/new/audio/y2mate.com - Quadrilaterals find the type exercise  Quadrilaterals  Geometry  Khan Academy_720pHF.mp3\n",
      "MoviePy - Writing audio in ./khan/new/audio/y2mate.com - Quadrilaterals find the type exercise  Quadrilaterals  Geometry  Khan Academy_720pHF.mp3\n"
     ]
    },
    {
     "name": "stderr",
     "output_type": "stream",
     "text": [
      "                                                                      \r"
     ]
    },
    {
     "name": "stdout",
     "output_type": "stream",
     "text": [
      "MoviePy - Done.\n",
      "Converting: y2mate.com - Quadrilaterals kites as a geometric shape  Quadrilaterals  Geometry  Khan Academy_720pHF.mp4 -> ./khan/new/audio/y2mate.com - Quadrilaterals kites as a geometric shape  Quadrilaterals  Geometry  Khan Academy_720pHF.mp3\n",
      "MoviePy - Writing audio in ./khan/new/audio/y2mate.com - Quadrilaterals kites as a geometric shape  Quadrilaterals  Geometry  Khan Academy_720pHF.mp3\n"
     ]
    },
    {
     "name": "stderr",
     "output_type": "stream",
     "text": [
      "                                                                      \r"
     ]
    },
    {
     "name": "stdout",
     "output_type": "stream",
     "text": [
      "MoviePy - Done.\n",
      "Converting: y2mate.com - Rate problems_720pFH.mp4 -> ./khan/new/audio/y2mate.com - Rate problems_720pFH.mp3\n",
      "MoviePy - Writing audio in ./khan/new/audio/y2mate.com - Rate problems_720pFH.mp3\n"
     ]
    },
    {
     "name": "stderr",
     "output_type": "stream",
     "text": [
      "                                                                      \r"
     ]
    },
    {
     "name": "stdout",
     "output_type": "stream",
     "text": [
      "MoviePy - Done.\n",
      "Converting: y2mate.com - Ratio example problems_720pFH.mp4 -> ./khan/new/audio/y2mate.com - Ratio example problems_720pFH.mp3\n",
      "MoviePy - Writing audio in ./khan/new/audio/y2mate.com - Ratio example problems_720pFH.mp3\n"
     ]
    },
    {
     "name": "stderr",
     "output_type": "stream",
     "text": [
      "                                                                      \r"
     ]
    },
    {
     "name": "stdout",
     "output_type": "stream",
     "text": [
      "MoviePy - Done.\n",
      "Converting: y2mate.com - Ratio example problems_720pHF.mp4 -> ./khan/new/audio/y2mate.com - Ratio example problems_720pHF.mp3\n",
      "MoviePy - Writing audio in ./khan/new/audio/y2mate.com - Ratio example problems_720pHF.mp3\n"
     ]
    },
    {
     "name": "stderr",
     "output_type": "stream",
     "text": [
      "                                                                      \r"
     ]
    },
    {
     "name": "stdout",
     "output_type": "stream",
     "text": [
      "MoviePy - Done.\n",
      "Converting: y2mate.com - Ratio word problem examples_720pFH.mp4 -> ./khan/new/audio/y2mate.com - Ratio word problem examples_720pFH.mp3\n",
      "MoviePy - Writing audio in ./khan/new/audio/y2mate.com - Ratio word problem examples_720pFH.mp3\n"
     ]
    },
    {
     "name": "stderr",
     "output_type": "stream",
     "text": [
      "                                                                      \r"
     ]
    },
    {
     "name": "stdout",
     "output_type": "stream",
     "text": [
      "MoviePy - Done.\n",
      "Converting: y2mate.com - Ratios and double number lines_v720P.mp4 -> ./khan/new/audio/y2mate.com - Ratios and double number lines_v720P.mp3\n",
      "MoviePy - Writing audio in ./khan/new/audio/y2mate.com - Ratios and double number lines_v720P.mp3\n"
     ]
    },
    {
     "name": "stderr",
     "output_type": "stream",
     "text": [
      "                                                                      \r"
     ]
    },
    {
     "name": "stdout",
     "output_type": "stream",
     "text": [
      "MoviePy - Done.\n",
      "Converting: y2mate.com - Ratios and measurement_720pFH.mp4 -> ./khan/new/audio/y2mate.com - Ratios and measurement_720pFH.mp3\n",
      "MoviePy - Writing audio in ./khan/new/audio/y2mate.com - Ratios and measurement_720pFH.mp3\n"
     ]
    },
    {
     "name": "stderr",
     "output_type": "stream",
     "text": [
      "                                                                      \r"
     ]
    },
    {
     "name": "stdout",
     "output_type": "stream",
     "text": [
      "MoviePy - Done.\n",
      "Converting: y2mate.com - Ratios as fractions  Ratios rates and percentages  6th grade  Khan Academy_720pFH.mp4 -> ./khan/new/audio/y2mate.com - Ratios as fractions  Ratios rates and percentages  6th grade  Khan Academy_720pFH.mp3\n",
      "MoviePy - Writing audio in ./khan/new/audio/y2mate.com - Ratios as fractions  Ratios rates and percentages  6th grade  Khan Academy_720pFH.mp3\n"
     ]
    },
    {
     "name": "stderr",
     "output_type": "stream",
     "text": [
      "                                                                      \r"
     ]
    },
    {
     "name": "stdout",
     "output_type": "stream",
     "text": [
      "MoviePy - Done.\n",
      "Converting: y2mate.com - Ratios for recipes_720pFH.mp4 -> ./khan/new/audio/y2mate.com - Ratios for recipes_720pFH.mp3\n",
      "MoviePy - Writing audio in ./khan/new/audio/y2mate.com - Ratios for recipes_720pFH.mp3\n"
     ]
    },
    {
     "name": "stderr",
     "output_type": "stream",
     "text": [
      "                                                                      \r"
     ]
    },
    {
     "name": "stdout",
     "output_type": "stream",
     "text": [
      "MoviePy - Done.\n",
      "Converting: y2mate.com - Ratios with tape diagrams_720pFH.mp4 -> ./khan/new/audio/y2mate.com - Ratios with tape diagrams_720pFH.mp3\n",
      "MoviePy - Writing audio in ./khan/new/audio/y2mate.com - Ratios with tape diagrams_720pFH.mp3\n"
     ]
    },
    {
     "name": "stderr",
     "output_type": "stream",
     "text": [
      "                                                                      \r"
     ]
    },
    {
     "name": "stdout",
     "output_type": "stream",
     "text": [
      "MoviePy - Done.\n",
      "Converting: y2mate.com - Redistributing trail mix  Measurement and data  5th grade  Khan Academy_720pHF.mp4 -> ./khan/new/audio/y2mate.com - Redistributing trail mix  Measurement and data  5th grade  Khan Academy_720pHF.mp3\n",
      "MoviePy - Writing audio in ./khan/new/audio/y2mate.com - Redistributing trail mix  Measurement and data  5th grade  Khan Academy_720pHF.mp3\n"
     ]
    },
    {
     "name": "stderr",
     "output_type": "stream",
     "text": [
      "                                                                      \r"
     ]
    },
    {
     "name": "stdout",
     "output_type": "stream",
     "text": [
      "MoviePy - Done.\n",
      "Converting: y2mate.com - Solving ratio problems with tables example 1  PreAlgebra  Khan Academy_720pFH.mp4 -> ./khan/new/audio/y2mate.com - Solving ratio problems with tables example 1  PreAlgebra  Khan Academy_720pFH.mp3\n",
      "MoviePy - Writing audio in ./khan/new/audio/y2mate.com - Solving ratio problems with tables example 1  PreAlgebra  Khan Academy_720pFH.mp3\n"
     ]
    },
    {
     "name": "stderr",
     "output_type": "stream",
     "text": [
      "                                                                      \r"
     ]
    },
    {
     "name": "stdout",
     "output_type": "stream",
     "text": [
      "MoviePy - Done.\n",
      "Converting: y2mate.com - The meaning of percent over 100  Decimals  PreAlgebra  Khan Academy_720pFH.mp4 -> ./khan/new/audio/y2mate.com - The meaning of percent over 100  Decimals  PreAlgebra  Khan Academy_720pFH.mp3\n",
      "MoviePy - Writing audio in ./khan/new/audio/y2mate.com - The meaning of percent over 100  Decimals  PreAlgebra  Khan Academy_720pFH.mp3\n"
     ]
    },
    {
     "name": "stderr",
     "output_type": "stream",
     "text": [
      "                                                                      \r"
     ]
    },
    {
     "name": "stdout",
     "output_type": "stream",
     "text": [
      "MoviePy - Done.\n",
      "Converting: y2mate.com - Time word problem How long is Susans break  4th grade  Khan Academy_720p.mp4 -> ./khan/new/audio/y2mate.com - Time word problem How long is Susans break  4th grade  Khan Academy_720p.mp3\n",
      "MoviePy - Writing audio in ./khan/new/audio/y2mate.com - Time word problem How long is Susans break  4th grade  Khan Academy_720p.mp3\n"
     ]
    },
    {
     "name": "stderr",
     "output_type": "stream",
     "text": [
      "                                                                      \r"
     ]
    },
    {
     "name": "stdout",
     "output_type": "stream",
     "text": [
      "MoviePy - Done.\n",
      "Converting: y2mate.com - Time word problem How long is Susans break  4th grade  Khan Academy_v720P.mp4 -> ./khan/new/audio/y2mate.com - Time word problem How long is Susans break  4th grade  Khan Academy_v720P.mp3\n",
      "MoviePy - Writing audio in ./khan/new/audio/y2mate.com - Time word problem How long is Susans break  4th grade  Khan Academy_v720P.mp3\n"
     ]
    },
    {
     "name": "stderr",
     "output_type": "stream",
     "text": [
      "                                                                      \r"
     ]
    },
    {
     "name": "stdout",
     "output_type": "stream",
     "text": [
      "MoviePy - Done.\n",
      "Converting: y2mate.com - Translating expressions with parentheses  Algebric thinking  5th grade  Khan Academy_720pFH.mp4 -> ./khan/new/audio/y2mate.com - Translating expressions with parentheses  Algebric thinking  5th grade  Khan Academy_720pFH.mp3\n",
      "MoviePy - Writing audio in ./khan/new/audio/y2mate.com - Translating expressions with parentheses  Algebric thinking  5th grade  Khan Academy_720pFH.mp3\n"
     ]
    },
    {
     "name": "stderr",
     "output_type": "stream",
     "text": [
      "                                                                        \r"
     ]
    },
    {
     "name": "stdout",
     "output_type": "stream",
     "text": [
      "MoviePy - Done.\n",
      "Converting: y2mate.com - Translating expressions with parentheses  Algebric thinking  5th grade  Khan Academy_720pHF.mp4 -> ./khan/new/audio/y2mate.com - Translating expressions with parentheses  Algebric thinking  5th grade  Khan Academy_720pHF.mp3\n",
      "MoviePy - Writing audio in ./khan/new/audio/y2mate.com - Translating expressions with parentheses  Algebric thinking  5th grade  Khan Academy_720pHF.mp3\n"
     ]
    },
    {
     "name": "stderr",
     "output_type": "stream",
     "text": [
      "                                                                        \r"
     ]
    },
    {
     "name": "stdout",
     "output_type": "stream",
     "text": [
      "MoviePy - Done.\n",
      "Converting: y2mate.com - Triangles categorization by angle or equal sides  4th grade  Khan Academy_720pFH.mp4 -> ./khan/new/audio/y2mate.com - Triangles categorization by angle or equal sides  4th grade  Khan Academy_720pFH.mp3\n",
      "MoviePy - Writing audio in ./khan/new/audio/y2mate.com - Triangles categorization by angle or equal sides  4th grade  Khan Academy_720pFH.mp3\n"
     ]
    },
    {
     "name": "stderr",
     "output_type": "stream",
     "text": [
      "                                                                      \r"
     ]
    },
    {
     "name": "stdout",
     "output_type": "stream",
     "text": [
      "MoviePy - Done.\n",
      "Converting: y2mate.com - Triangles using angles to categorize  4th grade  Khan Academy_720pFH.mp4 -> ./khan/new/audio/y2mate.com - Triangles using angles to categorize  4th grade  Khan Academy_720pFH.mp3\n",
      "MoviePy - Writing audio in ./khan/new/audio/y2mate.com - Triangles using angles to categorize  4th grade  Khan Academy_720pFH.mp3\n"
     ]
    },
    {
     "name": "stderr",
     "output_type": "stream",
     "text": [
      "                                                                      \r"
     ]
    },
    {
     "name": "stdout",
     "output_type": "stream",
     "text": [
      "MoviePy - Done.\n",
      "Converting: y2mate.com - Understanding equivalent ratios_720pFH.mp4 -> ./khan/new/audio/y2mate.com - Understanding equivalent ratios_720pFH.mp3\n",
      "MoviePy - Writing audio in ./khan/new/audio/y2mate.com - Understanding equivalent ratios_720pFH.mp3\n"
     ]
    },
    {
     "name": "stderr",
     "output_type": "stream",
     "text": [
      "                                                                      \r"
     ]
    },
    {
     "name": "stdout",
     "output_type": "stream",
     "text": [
      "MoviePy - Done.\n",
      "Converting: y2mate.com - Unit conversion centimeters to meters  Measurement and data  5th grade  Khan Academy_720pHF.mp4 -> ./khan/new/audio/y2mate.com - Unit conversion centimeters to meters  Measurement and data  5th grade  Khan Academy_720pHF.mp3\n",
      "MoviePy - Writing audio in ./khan/new/audio/y2mate.com - Unit conversion centimeters to meters  Measurement and data  5th grade  Khan Academy_720pHF.mp3\n"
     ]
    },
    {
     "name": "stderr",
     "output_type": "stream",
     "text": [
      "                                                                      \r"
     ]
    },
    {
     "name": "stdout",
     "output_type": "stream",
     "text": [
      "MoviePy - Done.\n",
      "Converting: y2mate.com - Unit conversion gallons to quarts pints and cups  PreAlgebra  Khan Academy_720pFH.mp4 -> ./khan/new/audio/y2mate.com - Unit conversion gallons to quarts pints and cups  PreAlgebra  Khan Academy_720pFH.mp3\n",
      "MoviePy - Writing audio in ./khan/new/audio/y2mate.com - Unit conversion gallons to quarts pints and cups  PreAlgebra  Khan Academy_720pFH.mp3\n"
     ]
    },
    {
     "name": "stderr",
     "output_type": "stream",
     "text": [
      "                                                                      \r"
     ]
    },
    {
     "name": "stdout",
     "output_type": "stream",
     "text": [
      "MoviePy - Done.\n",
      "Converting: y2mate.com - Unit conversion gallons to quarts pints and cups  PreAlgebra  Khan Academy_720pHF.mp4 -> ./khan/new/audio/y2mate.com - Unit conversion gallons to quarts pints and cups  PreAlgebra  Khan Academy_720pHF.mp3\n",
      "MoviePy - Writing audio in ./khan/new/audio/y2mate.com - Unit conversion gallons to quarts pints and cups  PreAlgebra  Khan Academy_720pHF.mp3\n"
     ]
    },
    {
     "name": "stderr",
     "output_type": "stream",
     "text": [
      "                                                                      \r"
     ]
    },
    {
     "name": "stdout",
     "output_type": "stream",
     "text": [
      "MoviePy - Done.\n",
      "Converting: y2mate.com - Unit conversion minutes to hours  Measurement and data  5th grade  Khan Academy_720pFH.mp4 -> ./khan/new/audio/y2mate.com - Unit conversion minutes to hours  Measurement and data  5th grade  Khan Academy_720pFH.mp3\n",
      "MoviePy - Writing audio in ./khan/new/audio/y2mate.com - Unit conversion minutes to hours  Measurement and data  5th grade  Khan Academy_720pFH.mp3\n"
     ]
    },
    {
     "name": "stderr",
     "output_type": "stream",
     "text": [
      "                                                                      \r"
     ]
    },
    {
     "name": "stdout",
     "output_type": "stream",
     "text": [
      "MoviePy - Done.\n",
      "Converting: y2mate.com - Unit conversion minutes to hours  Measurement and data  5th grade  Khan Academy_720pHF.mp4 -> ./khan/new/audio/y2mate.com - Unit conversion minutes to hours  Measurement and data  5th grade  Khan Academy_720pHF.mp3\n",
      "MoviePy - Writing audio in ./khan/new/audio/y2mate.com - Unit conversion minutes to hours  Measurement and data  5th grade  Khan Academy_720pHF.mp3\n"
     ]
    },
    {
     "name": "stderr",
     "output_type": "stream",
     "text": [
      "                                                                      \r"
     ]
    },
    {
     "name": "stdout",
     "output_type": "stream",
     "text": [
      "MoviePy - Done.\n",
      "Converting: y2mate.com - Unit conversion ordering metric distances  Measurement and data  5th grade  Khan Academy_720pFH.mp4 -> ./khan/new/audio/y2mate.com - Unit conversion ordering metric distances  Measurement and data  5th grade  Khan Academy_720pFH.mp3\n",
      "MoviePy - Writing audio in ./khan/new/audio/y2mate.com - Unit conversion ordering metric distances  Measurement and data  5th grade  Khan Academy_720pFH.mp3\n"
     ]
    },
    {
     "name": "stderr",
     "output_type": "stream",
     "text": [
      "                                                                      \r"
     ]
    },
    {
     "name": "stdout",
     "output_type": "stream",
     "text": [
      "MoviePy - Done.\n",
      "Converting: y2mate.com - Unit conversion ordering metric distances  Measurement and data  5th grade  Khan Academy_720pHF.mp4 -> ./khan/new/audio/y2mate.com - Unit conversion ordering metric distances  Measurement and data  5th grade  Khan Academy_720pHF.mp3\n",
      "MoviePy - Writing audio in ./khan/new/audio/y2mate.com - Unit conversion ordering metric distances  Measurement and data  5th grade  Khan Academy_720pHF.mp3\n"
     ]
    },
    {
     "name": "stderr",
     "output_type": "stream",
     "text": [
      "                                                                      \r"
     ]
    },
    {
     "name": "stdout",
     "output_type": "stream",
     "text": [
      "MoviePy - Done.\n",
      "Converting: y2mate.com - Unit conversion word problem yards to inches  Introduction to algebra  Algebra I  Khan Academy_720pFH.mp4 -> ./khan/new/audio/y2mate.com - Unit conversion word problem yards to inches  Introduction to algebra  Algebra I  Khan Academy_720pFH.mp3\n",
      "MoviePy - Writing audio in ./khan/new/audio/y2mate.com - Unit conversion word problem yards to inches  Introduction to algebra  Algebra I  Khan Academy_720pFH.mp3\n"
     ]
    },
    {
     "name": "stderr",
     "output_type": "stream",
     "text": [
      "                                                                      \r"
     ]
    },
    {
     "name": "stdout",
     "output_type": "stream",
     "text": [
      "MoviePy - Done.\n",
      "Converting: y2mate.com - Unit conversion word problem yards to inches  Introduction to algebra  Algebra I  Khan Academy_720pHF.mp4 -> ./khan/new/audio/y2mate.com - Unit conversion word problem yards to inches  Introduction to algebra  Algebra I  Khan Academy_720pHF.mp3\n",
      "MoviePy - Writing audio in ./khan/new/audio/y2mate.com - Unit conversion word problem yards to inches  Introduction to algebra  Algebra I  Khan Academy_720pHF.mp3\n"
     ]
    },
    {
     "name": "stderr",
     "output_type": "stream",
     "text": [
      "                                                                      \r"
     ]
    },
    {
     "name": "stdout",
     "output_type": "stream",
     "text": [
      "MoviePy - Done.\n",
      "Converting: y2mate.com - Unit measurement word problem distance US customary  5th grade  Khan Academy_720p.mp4 -> ./khan/new/audio/y2mate.com - Unit measurement word problem distance US customary  5th grade  Khan Academy_720p.mp3\n",
      "MoviePy - Writing audio in ./khan/new/audio/y2mate.com - Unit measurement word problem distance US customary  5th grade  Khan Academy_720p.mp3\n"
     ]
    },
    {
     "name": "stderr",
     "output_type": "stream",
     "text": [
      "                                                                      \r"
     ]
    },
    {
     "name": "stdout",
     "output_type": "stream",
     "text": [
      "MoviePy - Done.\n",
      "Converting: y2mate.com - Unit measurement word problem distance US customary  5th grade  Khan Academy_v720P.mp4 -> ./khan/new/audio/y2mate.com - Unit measurement word problem distance US customary  5th grade  Khan Academy_v720P.mp3\n",
      "MoviePy - Writing audio in ./khan/new/audio/y2mate.com - Unit measurement word problem distance US customary  5th grade  Khan Academy_v720P.mp3\n"
     ]
    },
    {
     "name": "stderr",
     "output_type": "stream",
     "text": [
      "                                                                      \r"
     ]
    },
    {
     "name": "stdout",
     "output_type": "stream",
     "text": [
      "MoviePy - Done.\n",
      "Converting: y2mate.com - Unit measurement word problem running laps US customary  Algebra I  Khan Academy_720pFH.mp4 -> ./khan/new/audio/y2mate.com - Unit measurement word problem running laps US customary  Algebra I  Khan Academy_720pFH.mp3\n",
      "MoviePy - Writing audio in ./khan/new/audio/y2mate.com - Unit measurement word problem running laps US customary  Algebra I  Khan Academy_720pFH.mp3\n"
     ]
    },
    {
     "name": "stderr",
     "output_type": "stream",
     "text": [
      "                                                                        \r"
     ]
    },
    {
     "name": "stdout",
     "output_type": "stream",
     "text": [
      "MoviePy - Done.\n",
      "Converting: y2mate.com - Unit measurement word problem running laps US customary  Algebra I  Khan Academy_720pHF.mp4 -> ./khan/new/audio/y2mate.com - Unit measurement word problem running laps US customary  Algebra I  Khan Academy_720pHF.mp3\n",
      "MoviePy - Writing audio in ./khan/new/audio/y2mate.com - Unit measurement word problem running laps US customary  Algebra I  Khan Academy_720pHF.mp3\n"
     ]
    },
    {
     "name": "stderr",
     "output_type": "stream",
     "text": [
      "                                                                        \r"
     ]
    },
    {
     "name": "stdout",
     "output_type": "stream",
     "text": [
      "MoviePy - Done.\n",
      "Converting: y2mate.com - Unit measurement word problem volume US customary  PreAlgebra  Khan Academy_720p.mp4 -> ./khan/new/audio/y2mate.com - Unit measurement word problem volume US customary  PreAlgebra  Khan Academy_720p.mp3\n",
      "MoviePy - Writing audio in ./khan/new/audio/y2mate.com - Unit measurement word problem volume US customary  PreAlgebra  Khan Academy_720p.mp3\n"
     ]
    },
    {
     "name": "stderr",
     "output_type": "stream",
     "text": [
      "                                                                      \r"
     ]
    },
    {
     "name": "stdout",
     "output_type": "stream",
     "text": [
      "MoviePy - Done.\n",
      "Converting: y2mate.com - Unit measurement word problem volume US customary  PreAlgebra  Khan Academy_v720P.mp4 -> ./khan/new/audio/y2mate.com - Unit measurement word problem volume US customary  PreAlgebra  Khan Academy_v720P.mp3\n",
      "MoviePy - Writing audio in ./khan/new/audio/y2mate.com - Unit measurement word problem volume US customary  PreAlgebra  Khan Academy_v720P.mp3\n"
     ]
    },
    {
     "name": "stderr",
     "output_type": "stream",
     "text": [
      "                                                                      \r"
     ]
    },
    {
     "name": "stdout",
     "output_type": "stream",
     "text": [
      "MoviePy - Done.\n",
      "Converting: y2mate.com - Unit measurement word problem weight US customary  PreAlgebra  Khan Academy_720p.mp4 -> ./khan/new/audio/y2mate.com - Unit measurement word problem weight US customary  PreAlgebra  Khan Academy_720p.mp3\n",
      "MoviePy - Writing audio in ./khan/new/audio/y2mate.com - Unit measurement word problem weight US customary  PreAlgebra  Khan Academy_720p.mp3\n"
     ]
    },
    {
     "name": "stderr",
     "output_type": "stream",
     "text": [
      "                                                                      \r"
     ]
    },
    {
     "name": "stdout",
     "output_type": "stream",
     "text": [
      "MoviePy - Done.\n",
      "Converting: y2mate.com - Unit measurement word problem weight US customary  PreAlgebra  Khan Academy_v720P.mp4 -> ./khan/new/audio/y2mate.com - Unit measurement word problem weight US customary  PreAlgebra  Khan Academy_v720P.mp3\n",
      "MoviePy - Writing audio in ./khan/new/audio/y2mate.com - Unit measurement word problem weight US customary  PreAlgebra  Khan Academy_v720P.mp3\n"
     ]
    },
    {
     "name": "stderr",
     "output_type": "stream",
     "text": [
      "                                                                      \r"
     ]
    },
    {
     "name": "stdout",
     "output_type": "stream",
     "text": [
      "MoviePy - Done.\n",
      "Converting: y2mate.com - Units of measurement word problem volume metric  5th grade  Khan Academy_720pFH.mp4 -> ./khan/new/audio/y2mate.com - Units of measurement word problem volume metric  5th grade  Khan Academy_720pFH.mp3\n",
      "MoviePy - Writing audio in ./khan/new/audio/y2mate.com - Units of measurement word problem volume metric  5th grade  Khan Academy_720pFH.mp3\n"
     ]
    },
    {
     "name": "stderr",
     "output_type": "stream",
     "text": [
      "                                                                      \r"
     ]
    },
    {
     "name": "stdout",
     "output_type": "stream",
     "text": [
      "MoviePy - Done.\n",
      "Converting: y2mate.com - Units of measurement word problem volume metric  5th grade  Khan Academy_720pHF.mp4 -> ./khan/new/audio/y2mate.com - Units of measurement word problem volume metric  5th grade  Khan Academy_720pHF.mp3\n",
      "MoviePy - Writing audio in ./khan/new/audio/y2mate.com - Units of measurement word problem volume metric  5th grade  Khan Academy_720pHF.mp3\n"
     ]
    },
    {
     "name": "stderr",
     "output_type": "stream",
     "text": [
      "                                                                      \r"
     ]
    },
    {
     "name": "stdout",
     "output_type": "stream",
     "text": [
      "MoviePy - Done.\n",
      "Converting: y2mate.com - US customary and metric units  Ratios proportions units and rates  PreAlgebra  Khan Academy_720pFH.mp4 -> ./khan/new/audio/y2mate.com - US customary and metric units  Ratios proportions units and rates  PreAlgebra  Khan Academy_720pFH.mp3\n",
      "MoviePy - Writing audio in ./khan/new/audio/y2mate.com - US customary and metric units  Ratios proportions units and rates  PreAlgebra  Khan Academy_720pFH.mp3\n"
     ]
    },
    {
     "name": "stderr",
     "output_type": "stream",
     "text": [
      "                                                                      \r"
     ]
    },
    {
     "name": "stdout",
     "output_type": "stream",
     "text": [
      "MoviePy - Done.\n",
      "Converting: y2mate.com - US customary and metric units  Ratios proportions units and rates  PreAlgebra  Khan Academy_720pHF.mp4 -> ./khan/new/audio/y2mate.com - US customary and metric units  Ratios proportions units and rates  PreAlgebra  Khan Academy_720pHF.mp3\n",
      "MoviePy - Writing audio in ./khan/new/audio/y2mate.com - US customary and metric units  Ratios proportions units and rates  PreAlgebra  Khan Academy_720pHF.mp3\n"
     ]
    },
    {
     "name": "stderr",
     "output_type": "stream",
     "text": [
      "                                                                      \r"
     ]
    },
    {
     "name": "stdout",
     "output_type": "stream",
     "text": [
      "MoviePy - Done.\n",
      "Converting: y2mate.com - Volume how to measure it  Measurement  PreAlgebra  Khan Academy_720pFH.mp4 -> ./khan/new/audio/y2mate.com - Volume how to measure it  Measurement  PreAlgebra  Khan Academy_720pFH.mp3\n",
      "MoviePy - Writing audio in ./khan/new/audio/y2mate.com - Volume how to measure it  Measurement  PreAlgebra  Khan Academy_720pFH.mp3\n"
     ]
    },
    {
     "name": "stderr",
     "output_type": "stream",
     "text": [
      "                                                                        \r"
     ]
    },
    {
     "name": "stdout",
     "output_type": "stream",
     "text": [
      "MoviePy - Done.\n",
      "Converting: y2mate.com - Volume in unit cubes by decomposing shape  Measurement and data  5th grade  Khan Academy_720pFH.mp4 -> ./khan/new/audio/y2mate.com - Volume in unit cubes by decomposing shape  Measurement and data  5th grade  Khan Academy_720pFH.mp3\n",
      "MoviePy - Writing audio in ./khan/new/audio/y2mate.com - Volume in unit cubes by decomposing shape  Measurement and data  5th grade  Khan Academy_720pFH.mp3\n"
     ]
    },
    {
     "name": "stderr",
     "output_type": "stream",
     "text": [
      "                                                                      \r"
     ]
    },
    {
     "name": "stdout",
     "output_type": "stream",
     "text": [
      "MoviePy - Done.\n",
      "Converting: y2mate.com - Volume measuring as area times length  Measurement  PreAlgebra  Khan Academy_720pFH.mp4 -> ./khan/new/audio/y2mate.com - Volume measuring as area times length  Measurement  PreAlgebra  Khan Academy_720pFH.mp3\n",
      "MoviePy - Writing audio in ./khan/new/audio/y2mate.com - Volume measuring as area times length  Measurement  PreAlgebra  Khan Academy_720pFH.mp3\n"
     ]
    },
    {
     "name": "stderr",
     "output_type": "stream",
     "text": [
      "                                                                      \r"
     ]
    },
    {
     "name": "stdout",
     "output_type": "stream",
     "text": [
      "MoviePy - Done.\n",
      "Converting: y2mate.com - Volume measuring with unit cubes  Measurement  PreAlgebra  Khan Academy_720pFH.mp4 -> ./khan/new/audio/y2mate.com - Volume measuring with unit cubes  Measurement  PreAlgebra  Khan Academy_720pFH.mp3\n",
      "MoviePy - Writing audio in ./khan/new/audio/y2mate.com - Volume measuring with unit cubes  Measurement  PreAlgebra  Khan Academy_720pFH.mp3\n"
     ]
    },
    {
     "name": "stderr",
     "output_type": "stream",
     "text": [
      "                                                                      \r"
     ]
    },
    {
     "name": "stdout",
     "output_type": "stream",
     "text": [
      "MoviePy - Done.\n",
      "Converting: y2mate.com - Volume of a rectangular prism or box examples  Measurement  PreAlgebra  Khan Academy_720pFH.mp4 -> ./khan/new/audio/y2mate.com - Volume of a rectangular prism or box examples  Measurement  PreAlgebra  Khan Academy_720pFH.mp3\n",
      "MoviePy - Writing audio in ./khan/new/audio/y2mate.com - Volume of a rectangular prism or box examples  Measurement  PreAlgebra  Khan Academy_720pFH.mp3\n"
     ]
    },
    {
     "name": "stderr",
     "output_type": "stream",
     "text": [
      "                                                                      \r"
     ]
    },
    {
     "name": "stdout",
     "output_type": "stream",
     "text": [
      "MoviePy - Done.\n",
      "Converting: y2mate.com - Volume through decomposition  Measurement and data  5th grade  Khan Academy_720pFH.mp4 -> ./khan/new/audio/y2mate.com - Volume through decomposition  Measurement and data  5th grade  Khan Academy_720pFH.mp3\n",
      "MoviePy - Writing audio in ./khan/new/audio/y2mate.com - Volume through decomposition  Measurement and data  5th grade  Khan Academy_720pFH.mp3\n"
     ]
    },
    {
     "name": "stderr",
     "output_type": "stream",
     "text": [
      "                                                                      \r"
     ]
    },
    {
     "name": "stdout",
     "output_type": "stream",
     "text": [
      "MoviePy - Done.\n",
      "Converting: y2mate.com - Volume word problem  Measurement  PreAlgebra  Khan Academy_720pFH.mp4 -> ./khan/new/audio/y2mate.com - Volume word problem  Measurement  PreAlgebra  Khan Academy_720pFH.mp3\n",
      "MoviePy - Writing audio in ./khan/new/audio/y2mate.com - Volume word problem  Measurement  PreAlgebra  Khan Academy_720pFH.mp3\n"
     ]
    },
    {
     "name": "stderr",
     "output_type": "stream",
     "text": [
      "                                                                      \r"
     ]
    },
    {
     "name": "stdout",
     "output_type": "stream",
     "text": [
      "MoviePy - Done.\n",
      "Converting: 동영상_ 단위 가격 문제 풀기.mp4 -> ./khan/new/audio/동영상_ 단위 가격 문제 풀기.mp3\n",
      "MoviePy - Writing audio in ./khan/new/audio/동영상_ 단위 가격 문제 풀기.mp3\n"
     ]
    },
    {
     "name": "stderr",
     "output_type": "stream",
     "text": [
      "                                                                      \r"
     ]
    },
    {
     "name": "stdout",
     "output_type": "stream",
     "text": [
      "MoviePy - Done.\n",
      "Converting: 동영상_ 부분_전체의 비 문제 해결하기.mp4 -> ./khan/new/audio/동영상_ 부분_전체의 비 문제 해결하기.mp3\n",
      "MoviePy - Writing audio in ./khan/new/audio/동영상_ 부분_전체의 비 문제 해결하기.mp3\n"
     ]
    },
    {
     "name": "stderr",
     "output_type": "stream",
     "text": [
      "                                                                      "
     ]
    },
    {
     "name": "stdout",
     "output_type": "stream",
     "text": [
      "MoviePy - Done.\n"
     ]
    },
    {
     "name": "stderr",
     "output_type": "stream",
     "text": [
      "\r"
     ]
    }
   ],
   "source": [
    "from moviepy.editor import VideoFileClip\n",
    "\n",
    "# 비디오 파일이 있는 폴더 경로\n",
    "video_folder_path = \"./khan/new/\"\n",
    "# 오디오 파일을 저장할 폴더 경로\n",
    "audio_output_folder_path = \"./khan/new/audio/\"\n",
    "# 오디오 파일을 저장할 폴더가 없으면 생성\n",
    "if not os.path.exists(audio_output_folder_path):\n",
    "    os.makedirs(audio_output_folder_path)\n",
    "# 비디오 폴더 내 모든 파일을 가져오기\n",
    "for filename in os.listdir(video_folder_path):\n",
    "    # 확장자가 비디오 파일인지 확인 (여기서는 .mp4 기준)\n",
    "    if filename.endswith(\".mp4\"):\n",
    "        video_path = os.path.join(video_folder_path, filename)\n",
    "        audio_output_path = os.path.join(\n",
    "            audio_output_folder_path, f\"{os.path.splitext(filename)[0]}.mp3\"\n",
    "        )\n",
    "        # 비디오 파일 불러오기\n",
    "        video_clip = VideoFileClip(video_path)\n",
    "        # 비디오에서 오디오 추출\n",
    "        audio_clip = video_clip.audio\n",
    "        # 오디오 파일로 저장\n",
    "        print(f\"Converting: {filename} -> {audio_output_path}\")\n",
    "        audio_clip.write_audiofile(audio_output_path, bitrate = '64k')\n",
    "        # 리소스 해제\n",
    "        audio_clip.close()\n",
    "        video_clip.close()"
   ]
  },
  {
   "cell_type": "code",
   "execution_count": 40,
   "metadata": {},
   "outputs": [],
   "source": [
    "from transformers import pipeline\n",
    "\n",
    "whisper_medium = pipeline(\"automatic-speech-recognition\", \"openai/whisper-medium\")\n",
    "whisper_small = pipeline(\"automatic-speech-recognition\", \"openai/whisper-small\")"
   ]
  },
  {
   "cell_type": "code",
   "execution_count": 43,
   "metadata": {},
   "outputs": [
    {
     "name": "stdout",
     "output_type": "stream",
     "text": [
      "MoviePy - Writing audio in chunk_0_30.mp3\n"
     ]
    },
    {
     "name": "stderr",
     "output_type": "stream",
     "text": [
      "                                                                    \r"
     ]
    },
    {
     "name": "stdout",
     "output_type": "stream",
     "text": [
      "MoviePy - Done.\n",
      "MoviePy - Writing audio in chunk_30_60.mp3\n"
     ]
    },
    {
     "name": "stderr",
     "output_type": "stream",
     "text": [
      "                                                                    \r"
     ]
    },
    {
     "name": "stdout",
     "output_type": "stream",
     "text": [
      "MoviePy - Done.\n",
      "MoviePy - Writing audio in chunk_60_90.mp3\n"
     ]
    },
    {
     "name": "stderr",
     "output_type": "stream",
     "text": [
      "                                                                    \r"
     ]
    },
    {
     "name": "stdout",
     "output_type": "stream",
     "text": [
      "MoviePy - Done.\n",
      "MoviePy - Writing audio in chunk_90_120.mp3\n"
     ]
    },
    {
     "name": "stderr",
     "output_type": "stream",
     "text": [
      "                                                                    \r"
     ]
    },
    {
     "name": "stdout",
     "output_type": "stream",
     "text": [
      "MoviePy - Done.\n",
      "MoviePy - Writing audio in chunk_120_150.mp3\n"
     ]
    },
    {
     "name": "stderr",
     "output_type": "stream",
     "text": [
      "                                                                    \r"
     ]
    },
    {
     "name": "stdout",
     "output_type": "stream",
     "text": [
      "MoviePy - Done.\n",
      "MoviePy - Writing audio in chunk_150_180.mp3\n"
     ]
    },
    {
     "name": "stderr",
     "output_type": "stream",
     "text": [
      "                                                                    \r"
     ]
    },
    {
     "name": "stdout",
     "output_type": "stream",
     "text": [
      "MoviePy - Done.\n",
      "MoviePy - Writing audio in chunk_180_210.mp3\n"
     ]
    },
    {
     "name": "stderr",
     "output_type": "stream",
     "text": [
      "                                                                    \r"
     ]
    },
    {
     "name": "stdout",
     "output_type": "stream",
     "text": [
      "MoviePy - Done.\n",
      "MoviePy - Writing audio in chunk_210_240.mp3\n"
     ]
    },
    {
     "name": "stderr",
     "output_type": "stream",
     "text": [
      "                                                                    \r"
     ]
    },
    {
     "name": "stdout",
     "output_type": "stream",
     "text": [
      "MoviePy - Done.\n",
      "MoviePy - Writing audio in chunk_240_270.mp3\n"
     ]
    },
    {
     "name": "stderr",
     "output_type": "stream",
     "text": [
      "                                                                    \r"
     ]
    },
    {
     "name": "stdout",
     "output_type": "stream",
     "text": [
      "MoviePy - Done.\n",
      "MoviePy - Writing audio in chunk_270_300.mp3\n"
     ]
    },
    {
     "name": "stderr",
     "output_type": "stream",
     "text": [
      "                                                                    \r"
     ]
    },
    {
     "name": "stdout",
     "output_type": "stream",
     "text": [
      "MoviePy - Done.\n",
      "MoviePy - Writing audio in chunk_300_330.mp3\n"
     ]
    },
    {
     "name": "stderr",
     "output_type": "stream",
     "text": [
      "                                                                    \r"
     ]
    },
    {
     "name": "stdout",
     "output_type": "stream",
     "text": [
      "MoviePy - Done.\n",
      "MoviePy - Writing audio in chunk_330_360.mp3\n"
     ]
    },
    {
     "name": "stderr",
     "output_type": "stream",
     "text": [
      "                                                                    \r"
     ]
    },
    {
     "name": "stdout",
     "output_type": "stream",
     "text": [
      "MoviePy - Done.\n",
      "MoviePy - Writing audio in chunk_360_390.mp3\n"
     ]
    },
    {
     "name": "stderr",
     "output_type": "stream",
     "text": [
      "                                                                    \r"
     ]
    },
    {
     "name": "stdout",
     "output_type": "stream",
     "text": [
      "MoviePy - Done.\n",
      "MoviePy - Writing audio in chunk_390_420.mp3\n"
     ]
    },
    {
     "name": "stderr",
     "output_type": "stream",
     "text": [
      "                                                                    \r"
     ]
    },
    {
     "name": "stdout",
     "output_type": "stream",
     "text": [
      "MoviePy - Done.\n",
      "MoviePy - Writing audio in chunk_420_450.mp3\n"
     ]
    },
    {
     "name": "stderr",
     "output_type": "stream",
     "text": [
      "                                                                    \r"
     ]
    },
    {
     "name": "stdout",
     "output_type": "stream",
     "text": [
      "MoviePy - Done.\n"
     ]
    },
    {
     "data": {
      "text/plain": [
       "' 안녕하세요 우리 친구들 반갑습니다 안녕하세요 우리 친구들 반갑습니다  여러분들과 함께 소수에 대해서 그 핵심의 개념을 짚어볼 나소은 선생님이에요. 자, 소수라고 하는 거 우리 초등학교 3학년 교과부터 쭉 학습이 이루어지는데요. 여러분들 어때요? 소수라고 하면 굉장히 낯선 친구들도 있을 거고 어, 나 소수를 배웠지만 뭔가 좀 잘 정리되지 않았던 느낌 받았던 친구들 분명히 있을 거예요. 걱정하지 마세요. 선생님과 함께 하시면 소수에 대한 기본 개념들이 정확하게 다소집니다. 이번 시간에 학습의 목표 알아볼까요? 그리고 보낙섭을 통해서 바로  만나보도록 할게요. 개념 쏙쏙 그 첫 번째 내용. 우리 제목을 보니까 소설이...  소수 한 자리 수, 소수 두 자리 수, 소수 세 자리 수 알아보기 라고 되어져 있죠. 그런데 이거 선생님이 알아보기 쉽게 한꺼번에 정리를 해드릴게요. 우리는 소수를 접하면서 제일 먼저 뭘 배웠었냐면 소수 한 자리 수 중에서 0.1이라고 하는 것을 배웠어요. 이게 소수 한 자리 수죠. 그런데 0.1이라고 하는 걸 설명하면서 무엇을 얘기를 하게 됐냐면 이렇게 하나가 있었다. 그런데 그 1을 똑같이 10개의 칸으로  나눠주었습니다. 그 중에 하나만큼을 표현할 때 분수로 10분의 1이라고 얘기를 했죠. 이거는 10개로 나눈 것 중에 하나만큼의 값입니다 라는 뜻인데 이것을 소수로 표현하여서 0.1과 같더라 라고 약속을 했었던 거예요. 그래서 이렇게 0.1이 무엇인지에 대해서 얘기를 했다는 거죠. 그러면 0.1은 소수 한 자리 수이고 그림 속에서 이와 같이 설명되어지는 걸 알 수 있을 겁니다. 그러면 얘들아 이렇게  3.8이라고 하는 것도 역시 소수 한 자리 수인데, 이건 어떻게 설명을 할 수 있을까요? 0.1이 이런 수는 38개만큼 모여진 것입니다라고 얘기를 해요. 0.1이 38개 모이면 이것이 바로 3.8로 나타나지는구나. 역시 자연수가 있는 소수 한 자리 수입니다라고 표현해 줄 수 있는 것이죠. 이 3.8이다 라고 하는 건 3보다도 0.8만큼  더 큰 수입니다 라고 얘기를 할 수도 있어요. 그래서 앞으로 이제 쭉 학년이 진행되면서 여러분들은 3.8이라고 하는 이 수를 3.8은 3에다가 0.8만큼을 더해준 것과 같습니다 라고 표현해 줄 수도 있게 됩니다. 소수 한 자리 수에 대해서 이와 같이 살펴보았죠. 그렇다면 이제 여러분과는 소수 두 자리 수라고 하는 것도 살펴보도록 할 거예요. 소수 두 자리 수를 얘기를 하려면 0.2%  0.01이라는 표현에 대해서 얘기를 해야 할 것 같네요. 0.01을 설명할 때 역시 그림에 대한 설명 빼놓을 수 없겠죠. 이거는 이런 식으로 바둑판 모양을 만들어주도록 할 거예요. 바둑판 모양이니까 여러분들이 이렇게 10개로 나눠주시고 또 이 방향으로도 10줄이 될 수 있도록 이와 같이 나눠줍니다. 그러면 여기서 이 작은 거 하나만큼에 해당이 되어지는 것은 전체를 100개의 칸으로 나눈 것 중에 하나가...  이 100분의 1을 0.01과 같다라고 약속을 하게 되는 거예요. 따라서 여러분들이 예를 들어 0.25라고 하는 소수 두 자리 수를 만났을 때에는 0.1이 25칸 만큼 색칠 되어진 것과 같습니다. 1, 2, 3, 4, 5 이렇게 해서 0.25입니다 라는 걸 말해줄 수 있고요. 0.25는 따라서 0.01이 25개인 수이더라. 이와 같이  말해줄 수 있는 것이죠. 이렇게 소수 두 자리수라고 하는 것도 살펴볼 수 있어요. 여러분들은요. 소수 한 자리수 또는 소수 두 자리수에 대한 학습을 이렇게 그림을 통해서 이해해 볼 수 있게 되는 거예요. 그렇다면 제목에서 보시면 소수 세 자리수라는 표현도 주어져 있죠. 그래서 소수 세 자리수에 대해서 얘기를 해 볼까요. 그럼 이거는요. 방금 전에 100개 칸으로 나눈 것 중에 하나만 딱 떼어서 얘기를 해 볼게요. 그러면 그 하나만큼을 그림으로  이거는 어떻게 얘기를 할 거냐면요. 0.01입니다라고 얘기를 할 수 있겠죠. 즉 100개의 칸 중에 하나예요 라는 뜻이고요. 이걸 다시 10개로 나눠 볼게요. 그러면 이 작은 칸 하나는요. 아, 이거는 전체 하나가 있을 때 1000개로 나눈 것 중에 하나만큼의 해당이 되어지는 값이구나. 따라서 이때 요것만큼을 1000분의 1과 같더라라고 얘기를 하게 되고요. 1000분의 1이라고 하는 걸 소수 세 자릿수로 0.0%  0.001입니다 라고 약속하여 나타를 줄 수 있습니다. 그러면 이번엔 이런 표현을 한번 예를 들어볼까요? 1000분의 234라는 것이 주어지게 된 거예요. 그러면 이거는 사실 1000분의 1이 234개예요 이런 뜻이고 1000분의 1은 0.001과 같다라고 했으니까 0.001이 234개인 수입니다라는 뜻에서부터 소수로 바꾸어 0.234라고 하는 소수 세 자리  수가 되었습니다 라고 표현해 줄 수 있게 되는 것이죠. 소수 세 자리 수까지에 대한 학습을 이와 같이 정리해 볼 수 있다면 이제 선생님이 옆에다가 이 세 가지 내용을 한꺼번에 정리해서 나타내 드리도록 할게요. 소수 한 자리 수 0.1을 대표적으로 들면 분수로 바꾸어 10분의 1이 되더라 또 0.01이라고 하는 것은 100분의 1과 같더라 그리고 0.001이라고 하는 이것은 굉장히 큰 일입니다.  중요한 소수에 대한 학습임으로 여러분들이 반드시 기억해두어야 하는 부분입니다. 소수 세 자리 수까지 이렇게 기본 개념에 대해서 함께 짚어보았어요. 기본 개념은 그렇게 어렵지 않은 부분들이죠? 그러면 이 내용들이 문제 속에서는 어떻게 활용이 되고 있는지 여러분이 만나보셔야겠습니다. 개념 다지기 문제 볼까요? 다음 중 잘못된 설명은 어느 것입니까? 잘못된 것을 찾는 거예요. 그런데 보니 1번의 예를...  0.1이 12개라고 얘기를 했죠. 0.1이 10개가 모이면 그걸 우리는 1과 같다고 얘기를 해요. 그랬을 때 그러면 이거 0.12가 되면 안 되겠죠. 0.12라고 하는 건 0.01이 12개라는 뜻이거든요. 따라서 지금 이거는 잘못된 설명이에요. 이렇게 답이 1번인데 그럼 나머지 것들은 맞았을까요? 2번을 보니까 0.1에 0과 1 사이의 점이 하나가 주어졌죠. 이 점을 뭐라고'"
      ]
     },
     "execution_count": 43,
     "metadata": {},
     "output_type": "execute_result"
    }
   ],
   "source": [
    "# # 오디오 파일을 30초 단위로 나누는 함수\n",
    "# def split_audio(file_path, chunk_length=30):\n",
    "#     audio = AudioFileClip(file_path)\n",
    "#     total_duration = int(audio.duration)\n",
    "#     audio_chunks = []\n",
    "\n",
    "#     for start in range(0, total_duration, chunk_length):\n",
    "#         end = min(start + chunk_length, total_duration)\n",
    "#         chunk = audio.subclip(start, end)\n",
    "#         chunk_path = f\"chunk_{start}_{end}.mp3\"\n",
    "#         chunk.write_audiofile(chunk_path)\n",
    "#         audio_chunks.append(chunk_path)\n",
    "\n",
    "#     return audio_chunks\n",
    "\n",
    "\n",
    "# # 각 청크에서 텍스트 추출\n",
    "# def transcribe_audio_chunks(chunk_files):\n",
    "#     transcriptions = []\n",
    "#     for chunk_file in chunk_files:\n",
    "#         result = whisper_medium(chunk_file, generate_kwargs={\"language\": \"korean\"})\n",
    "#         transcriptions.append(result[\"text\"])\n",
    "#         os.remove(chunk_file)  # 임시 파일 삭제\n",
    "#     return transcriptions\n",
    "\n",
    "\n",
    "# # 전체 텍스트를 하나로 합침\n",
    "# def merge_transcriptions(transcriptions):\n",
    "#     return \" \".join(transcriptions)\n",
    "\n",
    "# final_transcription = ''\n",
    "\n",
    "# audio_file = f\"./ebs_audio/y2mate.com - 초등 수학 개념잡기  07강 소수 이해하기   001_360P.mp3\"\n",
    "\n",
    "#     # 파일이 존재하는지 확인\n",
    "# if os.path.exists(audio_file):\n",
    "#     chunks = split_audio(audio_file)\n",
    "#     transcriptions = transcribe_audio_chunks(chunks)\n",
    "#     transcription = merge_transcriptions(transcriptions)\n",
    "\n",
    "#     final_transcription += transcription\n",
    "\n",
    "# final_transcription"
   ]
  },
  {
   "cell_type": "code",
   "execution_count": 47,
   "metadata": {},
   "outputs": [
    {
     "name": "stdout",
     "output_type": "stream",
     "text": [
      "MoviePy - Writing audio in chunk_0_30.mp3\n"
     ]
    },
    {
     "name": "stderr",
     "output_type": "stream",
     "text": [
      "                                                                    \r"
     ]
    },
    {
     "name": "stdout",
     "output_type": "stream",
     "text": [
      "MoviePy - Done.\n",
      "MoviePy - Writing audio in chunk_30_60.mp3\n"
     ]
    },
    {
     "name": "stderr",
     "output_type": "stream",
     "text": [
      "                                                                    \r"
     ]
    },
    {
     "name": "stdout",
     "output_type": "stream",
     "text": [
      "MoviePy - Done.\n",
      "MoviePy - Writing audio in chunk_60_90.mp3\n"
     ]
    },
    {
     "name": "stderr",
     "output_type": "stream",
     "text": [
      "                                                                    \r"
     ]
    },
    {
     "name": "stdout",
     "output_type": "stream",
     "text": [
      "MoviePy - Done.\n",
      "MoviePy - Writing audio in chunk_90_120.mp3\n"
     ]
    },
    {
     "name": "stderr",
     "output_type": "stream",
     "text": [
      "                                                                    \r"
     ]
    },
    {
     "name": "stdout",
     "output_type": "stream",
     "text": [
      "MoviePy - Done.\n",
      "MoviePy - Writing audio in chunk_120_150.mp3\n"
     ]
    },
    {
     "name": "stderr",
     "output_type": "stream",
     "text": [
      "                                                                    \r"
     ]
    },
    {
     "name": "stdout",
     "output_type": "stream",
     "text": [
      "MoviePy - Done.\n",
      "MoviePy - Writing audio in chunk_150_180.mp3\n"
     ]
    },
    {
     "name": "stderr",
     "output_type": "stream",
     "text": [
      "                                                                    \r"
     ]
    },
    {
     "name": "stdout",
     "output_type": "stream",
     "text": [
      "MoviePy - Done.\n",
      "MoviePy - Writing audio in chunk_180_210.mp3\n"
     ]
    },
    {
     "name": "stderr",
     "output_type": "stream",
     "text": [
      "                                                                    \r"
     ]
    },
    {
     "name": "stdout",
     "output_type": "stream",
     "text": [
      "MoviePy - Done.\n",
      "MoviePy - Writing audio in chunk_210_240.mp3\n"
     ]
    },
    {
     "name": "stderr",
     "output_type": "stream",
     "text": [
      "                                                                    \r"
     ]
    },
    {
     "name": "stdout",
     "output_type": "stream",
     "text": [
      "MoviePy - Done.\n",
      "MoviePy - Writing audio in chunk_240_270.mp3\n"
     ]
    },
    {
     "name": "stderr",
     "output_type": "stream",
     "text": [
      "                                                                    \r"
     ]
    },
    {
     "name": "stdout",
     "output_type": "stream",
     "text": [
      "MoviePy - Done.\n",
      "MoviePy - Writing audio in chunk_270_300.mp3\n"
     ]
    },
    {
     "name": "stderr",
     "output_type": "stream",
     "text": [
      "                                                                    \r"
     ]
    },
    {
     "name": "stdout",
     "output_type": "stream",
     "text": [
      "MoviePy - Done.\n",
      "MoviePy - Writing audio in chunk_300_330.mp3\n"
     ]
    },
    {
     "name": "stderr",
     "output_type": "stream",
     "text": [
      "                                                                    \r"
     ]
    },
    {
     "name": "stdout",
     "output_type": "stream",
     "text": [
      "MoviePy - Done.\n",
      "MoviePy - Writing audio in chunk_330_360.mp3\n"
     ]
    },
    {
     "name": "stderr",
     "output_type": "stream",
     "text": [
      "                                                                    \r"
     ]
    },
    {
     "name": "stdout",
     "output_type": "stream",
     "text": [
      "MoviePy - Done.\n",
      "MoviePy - Writing audio in chunk_360_390.mp3\n"
     ]
    },
    {
     "name": "stderr",
     "output_type": "stream",
     "text": [
      "                                                                    \r"
     ]
    },
    {
     "name": "stdout",
     "output_type": "stream",
     "text": [
      "MoviePy - Done.\n",
      "MoviePy - Writing audio in chunk_390_420.mp3\n"
     ]
    },
    {
     "name": "stderr",
     "output_type": "stream",
     "text": [
      "                                                                    \r"
     ]
    },
    {
     "name": "stdout",
     "output_type": "stream",
     "text": [
      "MoviePy - Done.\n",
      "MoviePy - Writing audio in chunk_420_450.mp3\n"
     ]
    },
    {
     "name": "stderr",
     "output_type": "stream",
     "text": [
      "                                                                    \r"
     ]
    },
    {
     "name": "stdout",
     "output_type": "stream",
     "text": [
      "MoviePy - Done.\n",
      "MoviePy - Writing audio in chunk_0_30.mp3\n"
     ]
    },
    {
     "name": "stderr",
     "output_type": "stream",
     "text": [
      "                                                                    \r"
     ]
    },
    {
     "name": "stdout",
     "output_type": "stream",
     "text": [
      "MoviePy - Done.\n",
      "MoviePy - Writing audio in chunk_30_60.mp3\n"
     ]
    },
    {
     "name": "stderr",
     "output_type": "stream",
     "text": [
      "                                                                    \r"
     ]
    },
    {
     "name": "stdout",
     "output_type": "stream",
     "text": [
      "MoviePy - Done.\n",
      "MoviePy - Writing audio in chunk_60_90.mp3\n"
     ]
    },
    {
     "name": "stderr",
     "output_type": "stream",
     "text": [
      "                                                                    \r"
     ]
    },
    {
     "name": "stdout",
     "output_type": "stream",
     "text": [
      "MoviePy - Done.\n",
      "MoviePy - Writing audio in chunk_90_120.mp3\n"
     ]
    },
    {
     "name": "stderr",
     "output_type": "stream",
     "text": [
      "                                                                    \r"
     ]
    },
    {
     "name": "stdout",
     "output_type": "stream",
     "text": [
      "MoviePy - Done.\n",
      "MoviePy - Writing audio in chunk_120_150.mp3\n"
     ]
    },
    {
     "name": "stderr",
     "output_type": "stream",
     "text": [
      "                                                                    \r"
     ]
    },
    {
     "name": "stdout",
     "output_type": "stream",
     "text": [
      "MoviePy - Done.\n",
      "MoviePy - Writing audio in chunk_150_180.mp3\n"
     ]
    },
    {
     "name": "stderr",
     "output_type": "stream",
     "text": [
      "                                                                    \r"
     ]
    },
    {
     "name": "stdout",
     "output_type": "stream",
     "text": [
      "MoviePy - Done.\n",
      "MoviePy - Writing audio in chunk_180_210.mp3\n"
     ]
    },
    {
     "name": "stderr",
     "output_type": "stream",
     "text": [
      "                                                                    \r"
     ]
    },
    {
     "name": "stdout",
     "output_type": "stream",
     "text": [
      "MoviePy - Done.\n",
      "MoviePy - Writing audio in chunk_210_240.mp3\n"
     ]
    },
    {
     "name": "stderr",
     "output_type": "stream",
     "text": [
      "                                                                    \r"
     ]
    },
    {
     "name": "stdout",
     "output_type": "stream",
     "text": [
      "MoviePy - Done.\n",
      "MoviePy - Writing audio in chunk_240_270.mp3\n"
     ]
    },
    {
     "name": "stderr",
     "output_type": "stream",
     "text": [
      "                                                                    \r"
     ]
    },
    {
     "name": "stdout",
     "output_type": "stream",
     "text": [
      "MoviePy - Done.\n",
      "MoviePy - Writing audio in chunk_270_300.mp3\n"
     ]
    },
    {
     "name": "stderr",
     "output_type": "stream",
     "text": [
      "                                                                    \r"
     ]
    },
    {
     "name": "stdout",
     "output_type": "stream",
     "text": [
      "MoviePy - Done.\n",
      "MoviePy - Writing audio in chunk_300_330.mp3\n"
     ]
    },
    {
     "name": "stderr",
     "output_type": "stream",
     "text": [
      "                                                                    \r"
     ]
    },
    {
     "name": "stdout",
     "output_type": "stream",
     "text": [
      "MoviePy - Done.\n",
      "MoviePy - Writing audio in chunk_330_360.mp3\n"
     ]
    },
    {
     "name": "stderr",
     "output_type": "stream",
     "text": [
      "                                                                    \r"
     ]
    },
    {
     "name": "stdout",
     "output_type": "stream",
     "text": [
      "MoviePy - Done.\n",
      "MoviePy - Writing audio in chunk_360_390.mp3\n"
     ]
    },
    {
     "name": "stderr",
     "output_type": "stream",
     "text": [
      "                                                                    \r"
     ]
    },
    {
     "name": "stdout",
     "output_type": "stream",
     "text": [
      "MoviePy - Done.\n",
      "MoviePy - Writing audio in chunk_390_420.mp3\n"
     ]
    },
    {
     "name": "stderr",
     "output_type": "stream",
     "text": [
      "                                                                    \r"
     ]
    },
    {
     "name": "stdout",
     "output_type": "stream",
     "text": [
      "MoviePy - Done.\n",
      "MoviePy - Writing audio in chunk_420_450.mp3\n"
     ]
    },
    {
     "name": "stderr",
     "output_type": "stream",
     "text": [
      "                                                                    \r"
     ]
    },
    {
     "name": "stdout",
     "output_type": "stream",
     "text": [
      "MoviePy - Done.\n",
      "MoviePy - Writing audio in chunk_450_452.mp3\n"
     ]
    },
    {
     "name": "stderr",
     "output_type": "stream",
     "text": [
      "                                                       \r"
     ]
    },
    {
     "name": "stdout",
     "output_type": "stream",
     "text": [
      "MoviePy - Done.\n",
      "MoviePy - Writing audio in chunk_0_30.mp3\n"
     ]
    },
    {
     "name": "stderr",
     "output_type": "stream",
     "text": [
      "                                                                    \r"
     ]
    },
    {
     "name": "stdout",
     "output_type": "stream",
     "text": [
      "MoviePy - Done.\n",
      "MoviePy - Writing audio in chunk_30_60.mp3\n"
     ]
    },
    {
     "name": "stderr",
     "output_type": "stream",
     "text": [
      "                                                                    \r"
     ]
    },
    {
     "name": "stdout",
     "output_type": "stream",
     "text": [
      "MoviePy - Done.\n",
      "MoviePy - Writing audio in chunk_60_90.mp3\n"
     ]
    },
    {
     "name": "stderr",
     "output_type": "stream",
     "text": [
      "                                                                    \r"
     ]
    },
    {
     "name": "stdout",
     "output_type": "stream",
     "text": [
      "MoviePy - Done.\n",
      "MoviePy - Writing audio in chunk_90_120.mp3\n"
     ]
    },
    {
     "name": "stderr",
     "output_type": "stream",
     "text": [
      "                                                                    \r"
     ]
    },
    {
     "name": "stdout",
     "output_type": "stream",
     "text": [
      "MoviePy - Done.\n",
      "MoviePy - Writing audio in chunk_120_150.mp3\n"
     ]
    },
    {
     "name": "stderr",
     "output_type": "stream",
     "text": [
      "                                                                    \r"
     ]
    },
    {
     "name": "stdout",
     "output_type": "stream",
     "text": [
      "MoviePy - Done.\n",
      "MoviePy - Writing audio in chunk_150_180.mp3\n"
     ]
    },
    {
     "name": "stderr",
     "output_type": "stream",
     "text": [
      "                                                                    \r"
     ]
    },
    {
     "name": "stdout",
     "output_type": "stream",
     "text": [
      "MoviePy - Done.\n",
      "MoviePy - Writing audio in chunk_180_210.mp3\n"
     ]
    },
    {
     "name": "stderr",
     "output_type": "stream",
     "text": [
      "                                                                    \r"
     ]
    },
    {
     "name": "stdout",
     "output_type": "stream",
     "text": [
      "MoviePy - Done.\n",
      "MoviePy - Writing audio in chunk_210_240.mp3\n"
     ]
    },
    {
     "name": "stderr",
     "output_type": "stream",
     "text": [
      "                                                                    \r"
     ]
    },
    {
     "name": "stdout",
     "output_type": "stream",
     "text": [
      "MoviePy - Done.\n",
      "MoviePy - Writing audio in chunk_240_270.mp3\n"
     ]
    },
    {
     "name": "stderr",
     "output_type": "stream",
     "text": [
      "                                                                    \r"
     ]
    },
    {
     "name": "stdout",
     "output_type": "stream",
     "text": [
      "MoviePy - Done.\n",
      "MoviePy - Writing audio in chunk_270_300.mp3\n"
     ]
    },
    {
     "name": "stderr",
     "output_type": "stream",
     "text": [
      "                                                                    \r"
     ]
    },
    {
     "name": "stdout",
     "output_type": "stream",
     "text": [
      "MoviePy - Done.\n",
      "MoviePy - Writing audio in chunk_300_330.mp3\n"
     ]
    },
    {
     "name": "stderr",
     "output_type": "stream",
     "text": [
      "                                                                    \r"
     ]
    },
    {
     "name": "stdout",
     "output_type": "stream",
     "text": [
      "MoviePy - Done.\n",
      "MoviePy - Writing audio in chunk_330_360.mp3\n"
     ]
    },
    {
     "name": "stderr",
     "output_type": "stream",
     "text": [
      "                                                                    \r"
     ]
    },
    {
     "name": "stdout",
     "output_type": "stream",
     "text": [
      "MoviePy - Done.\n",
      "MoviePy - Writing audio in chunk_360_390.mp3\n"
     ]
    },
    {
     "name": "stderr",
     "output_type": "stream",
     "text": [
      "                                                                    \r"
     ]
    },
    {
     "name": "stdout",
     "output_type": "stream",
     "text": [
      "MoviePy - Done.\n",
      "MoviePy - Writing audio in chunk_390_420.mp3\n"
     ]
    },
    {
     "name": "stderr",
     "output_type": "stream",
     "text": [
      "                                                                    \r"
     ]
    },
    {
     "name": "stdout",
     "output_type": "stream",
     "text": [
      "MoviePy - Done.\n",
      "MoviePy - Writing audio in chunk_420_450.mp3\n"
     ]
    },
    {
     "name": "stderr",
     "output_type": "stream",
     "text": [
      "                                                                    \r"
     ]
    },
    {
     "name": "stdout",
     "output_type": "stream",
     "text": [
      "MoviePy - Done.\n",
      "MoviePy - Writing audio in chunk_450_452.mp3\n"
     ]
    },
    {
     "name": "stderr",
     "output_type": "stream",
     "text": [
      "                                                       \r"
     ]
    },
    {
     "name": "stdout",
     "output_type": "stream",
     "text": [
      "MoviePy - Done.\n",
      "MoviePy - Writing audio in chunk_0_30.mp3\n"
     ]
    },
    {
     "name": "stderr",
     "output_type": "stream",
     "text": [
      "                                                                    \r"
     ]
    },
    {
     "name": "stdout",
     "output_type": "stream",
     "text": [
      "MoviePy - Done.\n",
      "MoviePy - Writing audio in chunk_30_60.mp3\n"
     ]
    },
    {
     "name": "stderr",
     "output_type": "stream",
     "text": [
      "                                                                    \r"
     ]
    },
    {
     "name": "stdout",
     "output_type": "stream",
     "text": [
      "MoviePy - Done.\n",
      "MoviePy - Writing audio in chunk_60_90.mp3\n"
     ]
    },
    {
     "name": "stderr",
     "output_type": "stream",
     "text": [
      "                                                                    \r"
     ]
    },
    {
     "name": "stdout",
     "output_type": "stream",
     "text": [
      "MoviePy - Done.\n",
      "MoviePy - Writing audio in chunk_90_120.mp3\n"
     ]
    },
    {
     "name": "stderr",
     "output_type": "stream",
     "text": [
      "                                                                    \r"
     ]
    },
    {
     "name": "stdout",
     "output_type": "stream",
     "text": [
      "MoviePy - Done.\n",
      "MoviePy - Writing audio in chunk_120_150.mp3\n"
     ]
    },
    {
     "name": "stderr",
     "output_type": "stream",
     "text": [
      "                                                                    \r"
     ]
    },
    {
     "name": "stdout",
     "output_type": "stream",
     "text": [
      "MoviePy - Done.\n",
      "MoviePy - Writing audio in chunk_150_180.mp3\n"
     ]
    },
    {
     "name": "stderr",
     "output_type": "stream",
     "text": [
      "                                                                    \r"
     ]
    },
    {
     "name": "stdout",
     "output_type": "stream",
     "text": [
      "MoviePy - Done.\n",
      "MoviePy - Writing audio in chunk_180_210.mp3\n"
     ]
    },
    {
     "name": "stderr",
     "output_type": "stream",
     "text": [
      "                                                                    \r"
     ]
    },
    {
     "name": "stdout",
     "output_type": "stream",
     "text": [
      "MoviePy - Done.\n",
      "MoviePy - Writing audio in chunk_210_240.mp3\n"
     ]
    },
    {
     "name": "stderr",
     "output_type": "stream",
     "text": [
      "                                                                    \r"
     ]
    },
    {
     "name": "stdout",
     "output_type": "stream",
     "text": [
      "MoviePy - Done.\n",
      "MoviePy - Writing audio in chunk_240_270.mp3\n"
     ]
    },
    {
     "name": "stderr",
     "output_type": "stream",
     "text": [
      "                                                                    \r"
     ]
    },
    {
     "name": "stdout",
     "output_type": "stream",
     "text": [
      "MoviePy - Done.\n",
      "MoviePy - Writing audio in chunk_270_300.mp3\n"
     ]
    },
    {
     "name": "stderr",
     "output_type": "stream",
     "text": [
      "                                                                    \r"
     ]
    },
    {
     "name": "stdout",
     "output_type": "stream",
     "text": [
      "MoviePy - Done.\n",
      "MoviePy - Writing audio in chunk_300_330.mp3\n"
     ]
    },
    {
     "name": "stderr",
     "output_type": "stream",
     "text": [
      "                                                                    \r"
     ]
    },
    {
     "name": "stdout",
     "output_type": "stream",
     "text": [
      "MoviePy - Done.\n",
      "MoviePy - Writing audio in chunk_330_360.mp3\n"
     ]
    },
    {
     "name": "stderr",
     "output_type": "stream",
     "text": [
      "                                                                    \r"
     ]
    },
    {
     "name": "stdout",
     "output_type": "stream",
     "text": [
      "MoviePy - Done.\n",
      "MoviePy - Writing audio in chunk_360_390.mp3\n"
     ]
    },
    {
     "name": "stderr",
     "output_type": "stream",
     "text": [
      "                                                                    \r"
     ]
    },
    {
     "name": "stdout",
     "output_type": "stream",
     "text": [
      "MoviePy - Done.\n",
      "MoviePy - Writing audio in chunk_390_415.mp3\n"
     ]
    },
    {
     "name": "stderr",
     "output_type": "stream",
     "text": [
      "                                                                    \r"
     ]
    },
    {
     "name": "stdout",
     "output_type": "stream",
     "text": [
      "MoviePy - Done.\n",
      "텍스트 파일로 저장되었습니다.\n"
     ]
    }
   ],
   "source": [
    "# # 오디오 파일을 30초 단위로 나누는 함수\n",
    "# def split_audio(file_path, chunk_length=30):\n",
    "#     audio = AudioFileClip(file_path)\n",
    "#     total_duration = int(audio.duration)\n",
    "#     audio_chunks = []\n",
    "\n",
    "#     for start in range(0, total_duration, chunk_length):\n",
    "#         end = min(start + chunk_length, total_duration)\n",
    "#         chunk = audio.subclip(start, end)\n",
    "#         chunk_path = f\"chunk_{start}_{end}.mp3\"\n",
    "#         chunk.write_audiofile(chunk_path)\n",
    "#         audio_chunks.append(chunk_path)\n",
    "\n",
    "#     return audio_chunks\n",
    "\n",
    "\n",
    "# # 각 청크에서 텍스트 추출\n",
    "# def transcribe_audio_chunks(chunk_files):\n",
    "#     transcriptions = []\n",
    "#     for chunk_file in chunk_files:\n",
    "#         result = whisper_medium(chunk_file, generate_kwargs={\"language\": \"korean\"})\n",
    "#         transcriptions.append(result[\"text\"])\n",
    "#         os.remove(chunk_file)  # 임시 파일 삭제\n",
    "#     return transcriptions\n",
    "\n",
    "\n",
    "# # 전체 텍스트를 하나로 합침\n",
    "# def merge_transcriptions(transcriptions):\n",
    "#     return \" \".join(transcriptions)\n",
    "\n",
    "\n",
    "# # 오디오 파일 경로\n",
    "\n",
    "# final_transcription1 = ''\n",
    "# final_transcription2 = ''\n",
    "# final_transcription3 = ''\n",
    "# final_transcription4 = ''\n",
    "\n",
    "# # 오디오 파일을 30초 단위로 나누고 텍스트 추출\n",
    "\n",
    "# for i in range(0, 4):  # 4개 파일 처리\n",
    "#     audio_file = f\"./ebs_audio/y2mate.com - 초등 수학 개념잡기  08강 분수의 덧셈과 뺄셈 원리    00{i+1}_360P.mp3\"\n",
    "\n",
    "#     # 파일이 존재하는지 확인\n",
    "#     if os.path.exists(audio_file):\n",
    "#         chunks = split_audio(audio_file)\n",
    "#         transcriptions = transcribe_audio_chunks(chunks)\n",
    "#         transcription = merge_transcriptions(transcriptions)\n",
    "\n",
    "#         if i == 0:\n",
    "#             final_transcription1 += transcription\n",
    "#         elif i == 1:\n",
    "#             final_transcription2 += transcription\n",
    "#         elif i == 2:\n",
    "#             final_transcription3 += transcription\n",
    "#         elif i == 3:\n",
    "#             final_transcription4 += transcription\n",
    "#     else:\n",
    "#         print(f\"파일 {audio_file}이 존재하지 않습니다. 다음 파일로 넘어갑니다.\")\n",
    "\n",
    "\n",
    "# with open(\"final_transcription_group_8.txt\", \"w\", encoding=\"utf-8\") as f:\n",
    "#     f.write(\"Final Transcription 1:\\n\")\n",
    "#     f.write(f\"\\n{final_transcription1}\" + \"\\n\\n\")\n",
    "#     f.write(\"Final Transcription 2:\\n\")\n",
    "#     f.write(f\"\\n{final_transcription2}\" + \"\\n\")\n",
    "#     f.write(\"Final Transcription 3:\\n\")\n",
    "#     f.write(f\"\\n{final_transcription3}\" + \"\\n\")\n",
    "#     f.write(\"Final Transcription 4:\\n\")\n",
    "#     f.write(f\"\\n{final_transcription4}\" + \"\\n\")\n",
    "\n",
    "# print(\"텍스트 파일로 저장되었습니다.\")"
   ]
  },
  {
   "cell_type": "code",
   "execution_count": 76,
   "metadata": {},
   "outputs": [
    {
     "name": "stdout",
     "output_type": "stream",
     "text": [
      "나라를 선택한 학생수는 20명에다가 4명씩 3칸 12만큼을 더하여서 32명이라고 답할 수 있게 됩니다. 캐나다 32명 이와 같이 표현해 주세요. 또 막대 그래프에서 하나 짚어둘 게 있는데요. 우리 친구들이 막대를 이렇게 그리는 친구들이 있는데요. 이거는 우리가 중학교 1학년 교과에 올라가서 배우게 되는 히스토그램이라고 하여서 그 명칭이 다른 거예요. 따라서 막대 그래프를 그릴 때에는 이와 같이 칸 안에 막대의 형태가 될 수 있도록 표현해 주어야 합니다. 이와 같이 막대 그래프에 관련된 내용 하나 만나보았고요. 자 그러면 또 하나의 문제 준비를 했어요. 이번에 만나볼 문제는요. 반, 멸, 상을 탄 학생수를 조사하여서 이것을 막대 그래프로 표현을 해주고 있는데요. 독서 퀴즈 대회에서 상을 탄 학생수를 나타낸 것입니다. 상을 가장 많이 탄 반은 몇 반입니까? 이거는 막대의 높이만 비교해서는 안 되죠. 왜냐면 한 반 안에 서로 다른 색의 막대가 들어가 있기 때문이에요. 남학생과 여학생이다라고 했으니까 각 반마다 남녀 학생수의 합을 구해줘야 해요. 세로는 꿈 하나가 한 명을 나타내기 때문에 1반에 남학생 6명, 여학생 3명 합쳐서 9명입니다라고 얘기를 하고 그 다음에 2반도 확인을 해야겠네요. 2반에는요. 남학생 8명에 여학생 4명이에요. 그래서 12명이라고 말할 수 있는 거죠. 그 다음에 3반은 어떠한가요? 남학생 6명에 여학생 7명, 따라서 13명이 되어지는 거고 4반과 같은 경우에는 남학생 2명에 여학생은 8명이 되겠죠. 따라서 이것이 10명입니다라고 말할 수 있으므로 상을 가장 많이 탄 반은 3반입니다. 이와 같이 답할 수 있게 됩니다. 세로는 꿈 하나가 바뀔 수도 있어요. 이 문제가 어렵게 출제가 될 때는요. 따라서 세로는 꿈 한 칸이 몇 명을 나타내는지를 확인하고 난 다음에 이와 같이 남녀 학생수의 합을 구하고 난 다음 상을 가장 많이 탄 반을 골라주는 것으로 문제 해결해주세요. 이렇게 첫 번째 개념의 내용 막대그래프에 대해서 확인을 해보았으니까 다시 보기를 통해서 정리해볼게요. 두 번째 개념입니다. 우리 이 자료를 조사해서 그 자료를 나타내주는 방법 중 하나로 이번에는 그림 그래프를 만나보려고 해요. 이 명칭에서 보는 것처럼 그래프인데 그 앞에 그림이라는 말이 붙었단 말이죠. 그림을 그려서 조사한 수량을 나타내고 있구나라는 걸 감잡을 수 있을 거예요. 그래서 우리는 그림을 그려서 조사한 수량을 나타내고 있습니다. 그림을 그려서 조사한 수량을 나타내고 있구나라는 걸 감잡을 수 있을 거예요. 그래서 우리는 그림 그래프라고 한다면 그림을 통해서 나타낸 그래프다라고 얘기를 해요. 그림을 그려서 나타낸 그래프 그런데요. 아무 그림이나 그리는 것은 아니고요. 무엇을 조사했는가에 따라서 그 의미가 아주 정확하게 드러날 수 있도록 그림을 선택해주는 것이 중요해요. 예를 들어서 지금 보면 반별 폐품의 무게라고 되어있죠. 이건 지금 그림 그래프예요. 그런데 보니까 그림의 가짓수, 그림이 몇 가지죠? 이렇게 큰 것, 작은 것 해서 그림의 가짓수가 두 가지죠. 아마 여러분은 이 그림만 보아도 어? 이거 무슨 무게추 같은데? 아마 무게를 나타낸 거겠구나라는 감을 잡을 수 있을 거란 말이에요. 그래서 우리는요. 이와 같이 그림을 보고서도 어떤 무게를 나타냈겠구나라는 걸 그 의미 파악을 쉽게 할 수 있도록 그림 그래프를 그리고 있다라는 것 그럼 이것이 바로 그림 그래프의 장점이 되어지는 거겠죠. 무엇을 조사한 것이 무엇인지 조사한 것의 의미를 쉽게 파악할 수 있다. 쉽게 알아볼 수 있다라고 하는 것이 그림 그래프의 장점이다라고 말할 수 있어요. 그렇다면 여기서 읽어 나타낼 수 있는 사실들도 매우 많아요. 그러니까 2반과 같은 경우에 2반에서 폐품의 무게, 폐품의 무게 모은 폐품의 무게가 몇 킬로그램이니까라고 물어본다면 이 그림을 놓고 그림의 가짓수 두 가지였고 큰 그림이 10킬로그램을 나타내주므로 2반과 같은 경우는 34킬로그램 만큼을 모은 것입니다. 라는 것을 그 자료를 조사한 것을 표현했기 때문에 쉽게 답해 볼 수 있게 되는 거죠. 자, 그리고요. 그림만 딱 놓고 봐도요. 어느 반의 폐품 모은 양이 가장 많습니까라고 물어본다면 큰 그림이 제일 많은 3반입니다라고 얘기해 볼 수 있을 겁니다. 이와 같이 그림만 놓고 보아도 내가 읽어 나타낼 수 있는 사실들이 매우 많게 되고요. 조사한 것의 의미를 쉽게 파악하고 나타낼 수 있다라는 장점을 갖는다라는 것 그림 그래프의 장점에 대해서도 확인해 볼 수 있어요. 그림 그래프의 또 하나 장점이 있는데요. 그럼 이런 문제가 나온단 말이에요. 1반과 3반에서 모은 폐품의 무게가 1반과 4반에서 모은 폐품의 무게보다 많습니까? 더 무겁습니까? 또는 더 가볍습니까? 라고 물어보았을 때 이렇게 어떤 위치나 방향을 가지고 나눠서 그것을 물어보고 있을 때에도 역시 그림 그래프라면 쉽게 그 답을 표현해 줄 수 있다라는 것이죠. 1반과 3반은 큰 그림을 보시면 모두 7개 2반과 4반은 큰 그림을 보니까 4개만큼이죠. 작은 그림을 합해 준 것도 살펴보았을 때 3반과 1반을 합쳐준 작은 그림의 수가 1, 2, 3, 4, 5, 6, 7, 8, 9, 10, 11개이고 또 2반과 4반은 1, 2, 3, 4, 5, 6, 7, 8, 9개만큼이므로 1반과 3반이 2반과 4반보다 폐품을 모은 무게가 더 무겁습니다. 라는 것을 알 수 있게 돼요. 바로 이러한 것들을 알아보기 쉬운 그래프가 그림 그래프 된다. 그림 그래프가 어떤 장점을 갖고 있는지 이와 같은 것들을 기억해 두는 것이 중요합니다. 그러면 우리 그림 그래프는 어떠한 방법으로 그릴 수 있는 걸까요? 그 그리는 방법에 대해서 함께 알아볼게요. 이것도 순서를 막 섞어놓고 난 다음에 무엇을 먼저 할까, 골라라 이런 것들이 굉장히 많이 나와요. 그런데 우리 친구들이 가장 많이 틀리는 게 뭐냐면요 제일 먼저 해야 할 것이 그림의 가짓수를 정하는 것이 가장 중요해요. 그렇기 때문에 내가 그림의 가짓수를 두 가지로 할 건지 또는 세 가지로 할 건지 이렇게 가짓수를 먼저 생각해 보고 그리고 난 다음에 해야 할 것은 어떤 그림으로 나타낼 것인지를 정해주는 겁니다. 예를 들어 사과 생산량이다라고 얘기를 했을 때 사과 생산량인데 조사된 수를 보니까 4자릿수로 조사가 되어져 있습니다. 그런데 그 값이 예를 들어 2800이고요 3500이고요 그리고 2450입니다. 이와 같이 표현이 되어졌다면 아마 여러분들은 그림을 세 가지로 하겠습니다. 라고 대답을 하셨을 거예요. 그러면 이럴 때 세 가지로 할 건데 그림을 선택하여서 사과니까 이렇게 사과 모양으로 그 그림을 선택해 보시고요. 각각의 수량을 나타내 주는 거예요. 1000개, 100개, 그리고 10개 이와 같은 형태로요. 그리고 난 다음에 이제 해야 할 것은 조사한 수에 맞도록 그림을 그려주는 것이죠. 그림 그래프의 제목은 가장 마지막에 붙여서 표현을 해주세요. 이것이 바로 그림 그래프를 그리는 순서라고 볼 수 있는 것이죠.\n",
      "해주고 제목을 제일 마지막에 표현한다라는 것까지 그 순서를 놓치지 않아야 해요. 그런데 꺾은선 그래프를 그리다 보면은요 자료의 값을 나타내는데 불필요한 부분이 생긴단 말이에요. 그래서 우리가 만나볼 것은 바로 물결선을 사용한다라는 내용을 만나 볼 텐데요. 물결선이라고 하는 건 불필요한 부분을 줄여서 나타내 주는 역할을 하게 되구요. 이렇게 줄여서 나타내므로 인해서 세로 눈꿈 한 칸의 크기를 작게 잡을 수 있어요. 그러니까 지금 여기서는 세로 눈꿈 한 칸의 크기를 0.1로 잡을 수 있었다라는 것이죠. 이렇게 0.1이 되도록 잡을 수 있다면 변화하는 것들이 더 뚜렷하게 나타나지는 장점이 생기게 돼요. 물결선이라는 것이 어떤 장점을 갖고 있는 것인지를 여러분이 꼭 생각을 해보셔야겠죠. 불필요한 부분 0에서 17.0까지를 줄여주었고 세로 눈꿈 한 칸의 크기를 작게 잡으면서 변화하는 양을 뚜렷하게 나타내 주는 효과가 있습니다. 그러면 물결선을 사용한 꺾은선 그래프는 어떤 방법으로 그리는 걸까요? 똑같은데 하나만 미리 생각하세요. 바로 이거요. 물결선으로 나타낼 부분을 먼저 정하고 물결선부터 그려주시는 거예요. 이거를 제일 먼저 해야 된다라는 것 생각해 보시고요. 그리고 난 다음에 세로 눈꿈 한 칸의 크기를 정하고 가로와 세로 만나는 자리에 점 찍고 선분으로 연결해서 제목을 적는 것까지는 나머지 모든 과정이 동일합니다. 이와 같은 형태로 물결선을 사용한 꺾은선 그래프 그리는 방법들을 살펴보았어요. 자 그러면 이제 여러분들과 이에 관련된 문제 함께 해결해 보도록 할게요. 문제 보시면 8월에는 은경이의 키가 어떻게 변할 것이라고 예상하는지 쓰시오. 자 어떻게 예상합니까? 지금 꺾은선 그래프를 보시면 어때요? 각각의 구간별로 그렇죠. 그 선분이 오른쪽 위로 올라가지고 있는 것을 확인해 볼 수 있죠. 따라서 어떻게 변할 거라고 예상합니까? 점점 8월에는 더 클 것이라 예상합니다. 왜냐하면 쭉 이렇게 키가 자라나고 있었기 때문에 8월에는 7월보다 더 클 것이라 예상합니다. 이와 같이 그 꺾은선 그래프를 보고 변화가 어떻게 이루어질까 라는 것들을 밝혀 보는 것이 중요하겠죠. 자 이렇게 문제 해결했고요. 그러면 또 다른 문제도 준비를 해봤어요. 꺾은선 그래프에 대해서 확인을 하면서 표를 보고 그래프로 나타낼 때 세로 눈금 한 칸의 크기는 얼마로 하는 것이 좋습니까? 라고 이렇게 얘기를 했는데요. 그러면 세로 눈금 한 칸이니까 그 횟수를 보세요. 나리의 훌라후프 횟수를 조사하여서 나타내 주었는데 지금 월요일에서 금요일까지 자료가 조사가 되어져 있죠. 횟수를 0.1회라고 한다면 우리가 70회라는 걸 표현하기 위해서는 너무나 많은 칸들이 필요하고요. 횟수는 0.1회라고 얘기를 하지 않죠. 그러면 1회, 2회, 5회 여기서는 지금 보시면 10의 자리 숫자가 표현이 되어져 있고 3자리 수인 것도 있는데 1의 자리에는 숫자가 모두 0으로 나타나져 있으므로 세로 눈금 한 칸의 크기는 10회로 표현해 주시는 것이 좋습니다. 따라서 세로 눈금 한 칸의 크기는 10회에 당되는 5번으로 표현하도록 합니다. 그러면 이렇게 문제 확인해 보았으니까 또 다른 문제도 도전해 볼게요. 이번에는 조금 어려운 문제 준비를 해봤는데요. 3일의 기온과 전기 사용량은 약 얼마라고 예상할 수 있습니까? 이때 약 얼마입니까? 라고 얘기를 하였으므로 답을 할 때에도요. 약 얼마, 약 얼마입니다. 이와 같은 형태로 답한다라는 거 잊지 마시고요. 이건 정확한 값이 아니라 예상한 값이기 때문에 약이라는 표현을 붙이게 된 거예요. 그렇다면 우리 기온부터 확인할까요? 3일은 조사하지 않았지만 중간의 값으로 예상하기로 하였으므로 27도와 29도의 사이의 값인 28도입니다. 라고 예상을 하게 되는 거죠. 그리고 난 다음에 지금 이 빨간색은 기온을 나타내 준 거였고요. 파란색이 전기 사용량이니까요. 전기 사용량을 볼게요. 1일에는요. 이 옆쪽으로 싹 와서 1960만 키로와트를 사용하였고 5일을 보니까 2000만 키로와트를 사용하였다 라고 표현이 되어져 있죠. 따라서 이 중간의 값으로 예상하여 1980만 이것도 만이라는 글자 빼먹으시면 안 되죠. 키로와트까지 단위를 붙이는 것으로 그 사용한 양을 예상하여 나타내 볼 수 있습니다. 이처럼 예상해서 나타내 줄 때에는요. 여러분들이 약이라는 표현을 통해서 문제를 해결해 주시면 되겠어요. 자 그러면 이제 또 다른 문제 하나 가볍게 만나보도록 할게요. 전기 사용량의 변화가 가장 큰 때는 며칠과 며칠의 사이입니까? 라고 물어보았어요. 어디와 어디죠? 우리가 보면 전기 사용량 파란색 선이고요. 변화가 가장 큰 때다 라고 얘기를 하였으므로 이때에는요. 그 선분 기울기가 가장 가파른 구간을 찾아서 551과 그리고 9142 이와 같이 변화가 가장 큰 때를 살펴볼 수 있게 됩니다. 자 이렇게 문제 모두 해결을 했으니까요. 우리 세번째 개념의 내용 다시 한번 정리할게요. 이번 시간 여러가지 자료 정리 그 표현의 방법에 대해서 살펴보았는데요. 우리 함께 두 번 강중한 문제 만나보도록 하겠습니다. 어떤 문제인지 소개할게요. 이번 시간 정답도 여러분 많이 많이 남겨주셔야 해요. 그리고 우리 지난 시간 정답 2800 이었죠? 많은 친구들 너무 수고 많으셨습니다. 다시 보기 필요하시면 우리 홈페이지 방문하는 거 잊지 마시고요. 우리 다음 시간에는요. 문제를 해결할 수 있는 여러가지 방법을 찾아보는 그 첫번째 시간으로 함께 할게요. 다음 시간 만나요. 안녕히 계세요. 다음 시간에 만나요. 안녕히 계세요.\n",
      "텍스트 파일 저장 완료.\n"
     ]
    }
   ],
   "source": [
    "import openai\n",
    "\n",
    "openai.api_key = \"\"\n",
    "\n",
    "transcriptions = \"\"\n",
    "\n",
    "for i in range(0, 4):\n",
    "    file = f\"./ebs_audio/y2mate.com - 초등 수학 개념잡기  22강 자료정리의 방법    00{i+1}_360P.mp3\"\n",
    "\n",
    "    if os.path.exists(file):\n",
    "        audio_file = open(file, \"rb\")\n",
    "\n",
    "        # Whisper 모델로 오디오 파일을 텍스트로 변환\n",
    "        transcription = openai.Audio.transcribe(model=\"whisper-1\", file=audio_file)\n",
    "\n",
    "        # 텍스트 저장\n",
    "        print(transcription[\"text\"])\n",
    "        transcriptions += transcription[\"text\"]\n",
    "\n",
    "    with open(\"final_transcription_group_22.txt\", \"w\", encoding=\"utf-8\") as f:\n",
    "        f.write(f\"{transcriptions}\" + \"\\n\\n\")\n",
    "\n",
    "\n",
    "print(\"텍스트 파일 저장 완료.\")"
   ]
  },
  {
   "cell_type": "code",
   "execution_count": 1,
   "metadata": {},
   "outputs": [
    {
     "name": "stdout",
     "output_type": "stream",
     "text": [
      "Transcription for 01강1-1_다양한입체모양알아보기_초등수해력-도형·측정1단계.mp3:\n",
      "친구들 안녕하세요 초등수외력 도형측정편 1단계를 담당한 정수연 선생님입니다. 모두 만나서 반가워요 자 우리 초등수외력 교제는요 우리 친구들의 수학실력을 쑥 끌어올리기 위해서 마련된 교제에요 그리고 도형측정 이라고 하는 건요 일단 도형 먼저 우리 주변에서 볼 수 있는 여러가지 모양에 대한 공부를 한다는 뜻이에요 그리고 측정 이란 말은 무언가를 재거나 비교해 본다라는 뜻이거든요 그래서 선생님과 도형 그리고 측정에 관한 여러가지 이야기도 해보고 관련된 문제도 풀어보면서 수학실력을 쑥 끌어올려 보자구요 자 그중에서 오늘 공부할 내용은요 이렇게 여러가지 입체 모양 알아보기라고 되어 있어요 선생님이 앞으로 강의에서 한 강의당 하나 또는 두 개의 단어를 다룰 거에요 우리 강의가 총 30분 정도니까 하나의 강의를 다룰 때는 한 30분 그리고 두 개의 단어를 다룰 때는 각각 15분 정도씩 나누어서 진행할 예정입니다 그래서 우리 친구들이 오늘 나는 몇 개의 단어를 공부할 거야라는 계획을 세우면 선생님이랑 어디까지 공부하고 스스로 살펴봐야 되는지 알겠죠 계획 세울 때 참고해 주세요 잘 모르겠으면 어른들께 여쭤봐요 그럼 오늘 공부 바로 시작해 볼게요 모두 준비됐죠? 출발해 봅시다 아빠 공은 모두 모양이 똑같아요 그렇구나 방금 고른 수박도 모양이 똑같아 여기에는 여러가지 탈 것들이 있구나 마음에 드는 것을 하나 골라 보렴 아빠 그런데 장난감의 바퀴 모양이 모두 똑같아요 바퀴를 다른 모양으로 만들면 안 돼요? 왜 그럴까 한번 생각해 보자꾸나 이번 1단원에서는 여러가지 모양을 알아볼 거에요 배운 모양들로 여러가지 모양도 만들어 본답니다 이전에 배운 모양들에 대해 무엇을 더 배우고 어떻게 확장할지 생각해 보아요 네 선생님과 배울 첫 번째 내용이에요 이렇게 생긴 모양에 대해 생각해 보자구요 우리 친구들이 이미 알고 있는 것부터 한번 떠올려 볼까요 음 혹시 이 바구니 안에 여러가지 물건들이 있는데 이 물건들의 같은 점, 공통점이 뭔지 알겠어요? 맞아요 모양이 비슷하다는 거에요 그리고 여기 아래쪽에 사과 상자들이 막 쌓여 있는데요 이것도 어때요? 어 사과 상자의 모양도 이 바구니 안에 들어있는 물건들의 모양과 비슷한 특징을 가지고 있어요 그게 뭔지 알겠어요? 뭐라고요? 맞아요 상자처럼 생겼거나 또는 주사위처럼 생겼다 이런 특징을 가지고 있죠 자 그럼 방금 전에 본 모양과 비슷한 모양들을 한번 쭉 살펴보도록 할게요 이렇게 생긴 모양 첫 번째 라면 상자구요 그 다음 세제가 담겨 있는 통이에요 어 이건 생일 선물이 담겨 있을 것 같은 선물 상자네요 이건 우리 친구들이 좋아하는 블록이구요 책도 있고 그리고 구급 상자도 있어요 음 이런 것 모두 주위에서 쉽게 볼 수 있는 여러가지 물건들이죠 그러면 이 모양의 특징이 혹시 뭔지 알겠어요? 모두 가지고 있는 특징 어떤 게 있을까요? 아 맞아요 뾰족뾰족한 부분이 있구요 그리고 또 평평한 부분도 있어요 아 그리고 또 서로서로 차곡차곡 쌓일 수도 있다는 점도 있죠 이 모양을 자세히 관찰해 보면 어떤 공통점을 찾을 수 있는지 친구들이 이야기했어요 하나씩 읽어 볼게요 이 모양은 평평한 부분과 뾰족한 부분이 있어요 맞나요? 그 다음 두 번째 친구 이 모양은 잘 굴러가지 않아요 그리고 세 번째 친구 이 모양은 잘 쌓일 수 있어요 맞아요 그럼 우리 친구들은 이 모양의 특징 혹시 어떤 걸 찾았나요? 잘 생각해 보고 스스로 답해 보세요 그랬다면 음 이번에는 우리 친구들이 이 모양의 이름을 지어 보는 거예요 이 모양 뭐라고 부르면 좋을까요? 자 선생님이 셋 셀 동안 시간 줄게요 하나, 둘, 셋! 이름 붙여 봤어요? 음 선생님은 이 모양을 상자모양이라고 이름 붙였어요 그래서 앞으로는 상자모양이라고 부를 거예요 그리고 우리 친구들은 친구들만의 이름으로 불러주면 돼요 알겠죠? 자 그럼 이번에는 또 다른 모양을 한번 살펴볼게요 여기 이 바구니 안에 무엇이 들어있는지 한번 잘 봐요 어 참치 통조림 캔도 있고요 그 다음 테이프 같은 것도 보이고 어 이건 풀인 것 같은데요? 그 다음 아래쪽에 보니까 우와 참치 통조림 캔이 하나, 둘, 셋 쌓여 있어요 그러고 보니까 선생님 집에도요 이렇게 참치가 막 쌓여 있어요 우리 친구들 집도 그래요? 자 그 다음 세 번째 어 이건 우리 친구들이 자주 보는 물병이에요 그런데 물병이 이렇게 가만히 잘 서 있다가 갑자기 툭 넘어지더니 어떻게 된 거예요? 떼구르르 굴러갔어요 그래서 아이고 물병 굴러가네 이러면서 딱 잡아서 다시 세우고는 하죠 음 그런데 이 그림들 몸과 같은 점, 공통점이 있는 것 같지 않아요? 맞아요 같은 모양을 지닌 물건들이에요 자 그럼 다시 한번 이 모양을 여러 가지 물건들을 통해서 알아보도록 할게요 첫 번째 이건 뭐예요? 오 옥수수 통조림 캔이에요 그 다음 이건 북이고요 이건 물병 같이 생겼네 어 두루마리 휴지도 보여요 이건 뭐게요? 이건 우리 친구들이 악기 연주할 때 쓰는 탬버린이에요 이렇게 흔들 수도 있고 통통 칠 수도 있어요 그 다음 이건 어 감자칩이 들어있는 것 같은 과자통이네요 자 그럼 이 물건들 어떤 공통점이 있나요? 음 맞아요 이렇게 세울 수도 있고요 눕힐 수도 있어요 여기 이 감자통처럼 말이에요 이렇게 눕히면 또 어떻게 된다고요? 떼굴떼굴 굴러가기도 해요 맞죠? 그리고 옆에 있는 모양은 둥그스름한 모양이죠 아 그러면 이렇게 한번 정리해 볼게요 친구들이 이 모양의 특징을 이렇게 이야기했어요 첫 번째 친구 이 모양은 평평한 부분도 있고 둥근 부분도 있어요 라고 했어요 아 평평한 부분은 어딜까? 이 모양이 이렇게 서 있다고 생각하면 위 아래가 납작하잖아요 그래서 세울 수 있죠 짠 세울 수 있도록 평평한 부분이 두 군데 있어요 그 다음 두 번째 이 모양은 세우면 쌓을 수 있어요 라고 이야기했어요 어? 세우면 쌓을 수 있다는 게 무슨 말일까요? 맞아요 아까 봤듯이 참치 통조림 캔 같은 경우에 세우고 그 다음 그 위에 쌓고 쌓고 쌓고 이래서 다섯 개도 쌓을 수 있고 열 개도 쌓을 수 있어요 그 다음 이 모양은요 눕히면 잘 굴러가요 아까 물병 본 거 기억나죠? 이 물병을 똥 넘어뜨려서 떼구르르 굴리면 굴러가잖아요 그래서 이런 특징이 있구나라는 걸 알 수 있어요 자 이번에는 또 다른 모양을 한번 살펴볼게요 여기 바구니 안을 잘 봐요 바구니 안에 무엇이 담겨 있나요? 동글동글 오렌지처럼 생긴 과일이 있고요 그 다음 공이 있고 구슬 같이 생긴 것도 있어요 뭔가 이 안에서도 비슷한 점을 잘 찾았나요? 그 다음 두 번째 우리 친구들이 진짜 좋아하는 축구공이에요 그런데 이 축구공을 앞으로 굴렸더니 짜잔! 굴러가는 걸 볼 수 있어요 그러고 보니까 축구공은요 아까 봤던 그 물병이랑 굴러가는 게 좀 다르다 혹시 어떻게 다른지 알겠어요? 물병은 이렇게 앞으로 또는 뒤로 두 가지 방향으로만 움직이는데 축구공은요 이렇게도 갈 수 있고 이렇게도 갈 수 있고 막 여러 가지 방향으로 굴러갈 수 있잖아요 음 그런 특징이 있구나 자 그러면 이렇게 비슷하게 생긴 모양 어떤 게 있을지 한번 생각해 볼까요? 음 농구공 그 다음 지구? 혹시 이거 지구인지 알겠어요? 그 다음 수박도 있고요 야구공도 있고 어! 이렇게 구멍이 뽕뽕뽕 3개 뚫려있는 이건 볼링공인 것 같아요 그 다음 이건 뭐지? 뭔지 모르겠지만 엄청 작은 공 모양인 것 같아요 아 그러면 우리 이 모양에도 이름을 한번 붙여 볼게요 이 모양은 선생님이 공 모양이라고 이름 붙였어요 우리 친구들도 붙였어요? 그럼 혹시 이 앞에 봤던 모양은 이름 붙였어요? 이미 다 붙였다고요? 뭐라고 붙였어요? 선생님은 앞에 있던 모양은 둥그스름한 기둥 모양이라서 둥근 기둥 모양이라고 붙였어요 자 그럼 이제 정리해 보면 제일 첫 번째 모양은 선생님이 이름 붙였던 건 상자 모양 그 다음은 둥근 기둥 모양 그리고 이건 공 모양 세 가지 이름을 붙였어요 우리 친구들도 세 가지 잘 붙였죠? 자 그럼 이 공 모양의 특징을 자세히 한번 이야기해 볼게요 공 모양은 첫 번째 전체가 둥글고 뾰족한 부분이 없어요 그렇죠? 그래서 이리저리 막 굴러다닐 수 있잖아요 그 다음 두 번째 이 모양, 공 모양은 잘 굴러가고요 세 번째, 공 모양은 쌓기 어려워요 그렇지, 쌓을 수가 없죠 우리 친구들 축구공 위에 또 축구공 쌓을 수 있어요? 음, 쌓을 수 없어요 아이, 뭐 풀로 붙인다 이런 얘기 하지 말고요 진짜 차곡차곡 쌓는 거 이야기하는 거예요 쌓기 어렵다라는 게 공 모양의 특징이에요 자 그럼 우리가 방금 살펴본 세 가지 모양을 한번 정리해 볼게요 제일 먼저 이렇게 생긴 상자 모양은요 평평한 부분도 있고 뾰족한 부분도 있었어요 그 다음 이런 둥근 기둥 모양은 평평한 부분과 둥근 모양을 가지고 있었죠 그리고 공 모양은 전체가 둥글고 뾰족한 부분은 하나도 없었어요 우리 친구들 모두 잘 기억했나요? 그러면 이 내용을 잘 기억하면서 짜잔, 어떤 모양인지 맞히는 놀이를 한번 해 볼 거예요 음, 어떤 모양인지 알아보아요 구멍이 뚫린 상자 안에 물건을 살펴보고 어떤 부분의 모양만 보고는 무슨 모양인지 알 수 있는지 묻는 거예요 자, 첫 번째 그림을 보세요 이 상자 안에 구멍을 자세히 보는 거예요 어? 이 안을 보니까 이렇게 뾰족한 부분, 그리고 평평한 부분이 보이죠? 그러니까 이건 무슨 모양이다? 맞아요, 상자 모양입니다 라고 이야기하는 거예요 그 다음 두 번째, 여기 구멍을 자세히 보니까 어? 둥근 부분이 보여요 그런데 제일 윗부분은 평평하죠 그래서 평평한 부분과 둥근 부분이 보이므로 이것은 둥근 기둥 모양일 거예요 라고 말할 수 있는 거예요 그 다음 제일 아래쪽을 보니까요 어? 뭔가 둥그스름한 부분이 보여요 맞나요? 그러니까 아, 이건 곡 모양이겠구나 라는 걸 알 수 있어요 이렇게 우리가 어떤 모양의 특징을 잘 알고 있으면 전체 모양을 다 보지 않더라도 이게 무슨 모양이다라는 걸 알 수 있답니다 자, 여기까지의 내용 다 알겠나요? 그러면 이제 선생님과 함께 문제풀이에 도전해 볼 거예요 자, 선생님이 우리 친구들이랑 모든 문제를 다 같이 풀고 싶은데요 시간이 많지 않아서 그렇게는 어려워요 대신 몇 가지 문제들을 함께 짚어서 풀어 볼 테니까 우리 친구들이 어, 이렇게 푸는 거구나 라는 거 알고 나서 스스로 꼭 공부해 보는 거예요 할 수 있겠죠? 자, 그럼 오늘 선생님과 다를 첫 번째 문제는 수외력을 확인해요의 첫 번째 1번입니다 자, 두 그림 중에서 이런 상자 모양을 찾아 동그라미 표시하세요 라는 문제예요 그럼 상자 모양은 어떤 특징이 있었죠? 맞아요, 평평하고 그리고 뾰족한 부분이 있었잖아요 음, 상자처럼 생긴 모양 둘 중에 뭐예요? 딩동댕! 맞아요, 오른쪽 그림에 동그라미 해주면 되는 거예요 어렵지 않죠? 자, 그럼 다음 문제 이번엔 둥근 기둥 모양을 찾아 동그라미 표시하라는 거예요 왼쪽과 오른쪽 중 둥근 기둥 모양은 뭘까요? 둥근 기둥 모양은 둥글둥글한 옆면이 보이고 그리고 위, 아래는 평평한 모양이라고 했어요 아, 물론 이 둥근 기둥 모양이 눕혀져 있을 수도 있지만요 자, 그럼 둘 중에 정답은 맞아요, 오른쪽에 동그라미 해주면 되겠죠? 자, 그럼 그 다음 문제 이번엔 곡 모양을 찾아 동그라미 하는 거예요 곡 모양의 특징은 뭐예요? 온통 둥글둥글, 평평하거나 뾰족한 부분이 전혀 없다 그랬잖아요 그럼 정답은 맞아요, 왼쪽에 동그라미 해주면 됩니다 자, 그 다음 문제 짜잔! 13번 같이 볼게요 이런 모양에 대한 설명은 네모 이런 모양에 대한 설명은 세모 이런 모양에 대한 설명은 동그라미 표시하세요 이게 질문입니다 음, 한번 읽어 볼게요 어떤 방향으로도 잘 굴러갑니다 어? 굴러간다? 굴러간다는 건 어떤 모양이었어요? 맞아요, 둥근 기둥 모양 또는 곡 모양이었죠 그런데 굴러가는데 차이가 있었잖아요 어떤 점이 달랐나요? 맞아요, 둥근 기둥 모양은 한쪽 방향으로만 앞뒤로 굴러갈 수 있었는데 곡 모양은 어떤 방향으로든 잘 굴러간다 그랬죠? 그러니까 이것에 해당하는 설명은 짜잔, 동그라미, 곡 모양이 정답이 되는 거예요 그 다음, 굴릴 수도 있고 세울 수도 있습니다 자, 이건 정답이 뭘까요? 굴릴 수도 있고 세울 수도 있다 음, 일단 굴릴 수 있다고 했으니까 둥근 기둥 모양이나 곡 모양 중에 하나겠네 그런데 세울 수도 있다고 했으니까 세울 수 있는 건 둥근 기둥 모양밖에 안 돼요 곡 모양은 세울 수는 없다 그랬잖아요 그러니까, 짠, 세모 표시를 이렇게 해주면 된답니다 우리 친구들 여기까지 다 알겠죠? 그럼 다음 문제 한번 볼게요 어, 수혜력을 높여요? 1번 문제예요 상자 모양을 찾아 기호를 써보세요 라고 되어 있습니다 상자 모양 어디에 있나요? 상자 모양이라고 하면 주사위처럼 생기거나 상자처럼 생기거나 책처럼 생긴 모양을 이야기하죠 자, 일단 간은? 아니지 간은 옆이 이렇게 둥그렇게 생겼잖아요 그 다음, 나는 어때요? 나, 어, 이거 휴지 꽉이네요 어, 이것은 상자 모양이라고 할 수 있어요 그래서 나, 라고 일단 적어볼게요 나, 그 다음, 다는 어때요? 어, 이건 통조림인 것 같은데 통조림 캔이 누워있어요 그래서 앞뒤로 굴러가겠네 이건 상자 모양이 아니라 둥근 기둥 모양이구나 라는요? 라는 맞아요, 공 모양의 농구공이죠 마는 무슨 모양? 둥근 기둥 모양의 케이크고요 반은 공 모양의 오렌지인 것 같아요 자, 모두 잘 찾았네요 그래서 1번 문제의 정답은 나입니다, 라고 적어주면 되겠습니다 자, 이번에는 공 모양을 모두 찾아 기호를 써보세요 라고 했어요 우리 아까 다 살펴봤으니까 공 모양 뭐라고 쓰면 될까요? 일단, 가, 나, 다, 아니고 라, 라는 맞죠, 라 그 다음, 마, 아니고, 반은 맞아요 그래서 라와 바에 이렇게 적어주시면 되겠습니다 자, 그럼 이번에는 3번 볼게요, 3번 둥근 기둥 모양은 모두 몇 개인가요? 라고 질문하고 있어요, 친구들 몇 개인지 물어보는데 여기다 가, 나, 다 쓰고 있으면 안 돼요 몇 개인지 세어봅시다 일단, 가, 둥근 기둥 모양 맞죠, 하나 그 다음, 나는 아니에요, 다는 맞죠 그래서 둘, 그 다음, 라도 아니고, 마는 둥근 기둥 모양 맞아요 그래서 셋, 바도 아니네 그러니까 둥근 기둥 모양은 모두 몇 개예요? 맞아요, 세 개라고 적어주시면 됩니다, 알겠죠? 자, 그 다음 6번 볼게요 다음 중, 모양이 다른 하나를 찾아 기호를 써보세요 라고 했어요 모양이 다르다고? 우리가 알고 있는 이 세 가지 모양 중에 뭔가가 있나 봐요 하나씩 볼게요 일단, 가는 무슨 모양이죠? 맞아요, 상자 모양 나는요? 둥근 기둥 모양 다는요? 상자 모양 아, 그러니까 다른 하나는 뭐예요? 나만 둥근 기둥 모양이고 가와 다는 상자 모양이잖아요 그래서 다른 하나는 나라고 적어주시면 됩니다 자, 이제 7번 문제 같이 풀어 볼 거예요 설명하는 모양이 다른 하나는 어느 것인가요? 아, 이건 어떻게 푸는 거냐면 친구들 여기 하나, 둘, 셋, 네 개의 설명이 있어요 그리고 그 설명은 각각 어떤 모양을 표현하고 있는 문장인데 그 중에서 하나만, 하나만 설명하고 있는 게 다르다는 거예요 한번 생각해 볼게요 1번, 둥글고 기둥처럼 생겼다 어? 둥글고 기둥? 그렇다면 이것은 둥근 기둥 모양이겠네 자, 이렇게 짠 그림을 그려놓자 그 다음 2번, 둥근 부분도 있고 평평한 부분도 있대요 어? 둥근 부분도 있고 평평한 부분도 있다고? 그럼 뭐예요? 맞아요, 이것도 둥근 기둥 모양이구나 짠, 짠, 짠 그 다음 3번, 모든 방향으로 잘 굴러간대요 어? 모든 방향으로 잘 굴러가는 거 뭐였어요? 맞아요, 공 모양이었어요, 공 모양 그 다음 4번, 세워서 평평한 부분으로 쌓으면 잘 쌓을 수 있습니다 뭘까요? 음, 세워서 평평한 부분으로 쌓으면 잘 쌓을 수 있는 거? 잘 쌓을 수 있는 거라면 상자 모양도 되고 또 둥근 기둥 모양도 되는데 어? 세워서 평평한 부분으로 쌓으면 아, 그러니까 세워야 되는 것 둥근 기둥 모양에 대한 설명이겠구나 라는 걸 알 수 있어요 그러니까 설명하는 모양이 다른 하나는 몇 번일까요? 그렇지, 3번 3번만 다른 설명을 하고 있죠 그래서 이렇게 괄호 안에 동그라미 3이라고 적어주면 되는 거예요 어떻게 하는지 알겠죠? 자, 그럼 이제 8번 문제 같이 볼게요 다음 설명을 모두 만족하는 모양의 물건에 동그라미 표시하세요 라고 했어요 어, 설명을 모두 만족한다는 건 무슨 말이냐면 이런 거예요 여기 설명하는 문장이 하나, 두 개 있어요 그런데 이 둘 다 설명이 말이 되는 거 어? 이 두 설명이 모두 다 어떤 모양을 가리키고 있을 거예요 그 모양이 무엇인지 찾는 거예요 자, 하나씩 살펴볼까요? 첫 번째, 평평한 부분과 뾰족한 부분이 있대요 오, 평평? 그리고 뾰족? 그렇다면 이것은 상자 모양이 아닐까? 라고 생각할 수 있어요 왜냐하면 둥근 기둥 모양에는 평평한 부분은 있지만 뾰족한 부분은 없잖아요, 그쵸? 그리고 공 모양에는 평평한 부분도 없고 뾰족한 부분도 없잖아요? 그러니까 이거 상자 모양 말하는 것 같은데 그 다음 두 번째, 잘 쌓을 수 있습니다 라고 했어요 어? 쌓을 수 있다고? 상자 모양 어때요? 잘 쌓을 수 있죠 아, 그러니까 이 두 설명이 모두 설명하고 있는 것은 상자 모양이 되겠다라는 걸 알 수 있어요 그럼 상자 모양은 하나, 둘, 셋 세 가지 물건 중에 뭘까요? 맞아요, 이 녹차가 담겨 있는 상자가 됩니다 그럼 이 모양은 뭐예요? 배구공, 그러니까 공 모양이고요 이 모양은요? 탬버린, 둥근 기둥 모양이라고 할 수 있겠죠? 음, 아주 잘했어요 자, 그럼 이번에는 9번 실생활 활용 문제 같이 볼게요 집이나 학교에서 이런 모양의 물건을 각각 하나씩 찾아 써보세요 라고 했어요 어, 이건 정답이 딱 정해져 있는 건 아니에요 우리 친구들이 오늘 배운 걸 토대로 한번 찾아서 적어보면 됩니다 선생님은 여기에 뭘 적어볼까? 아, 선생님은 여기에 일단 첫 번째, 상자 모양의 주사위를 적어볼래요 주사위, 주사위 선생님은 주사위를 적었지만 우리 친구들은 다른 거 적어도 돼요 그래서 그 말을 이렇게 표현할 거예요 예를 들어서 주사위가 있어요 라는 거지 자, 그 다음 또 둥근 기둥 모양은 어떤 게 있을까? 뭐 통조림 캔도 있을 수 있고요 음료수 캔이나 뭐 연필꽂이나 물병 여러 가지가 있을 수 있죠 선생님은 양초를 생각해 봤어요 양초, 양초 촛불 켤 때 쓰는 그 양초 그 다음 공 모양, 공 모양은 어떤 게 있을까? 어, 맞아요 여러 가지 공 중에 하나를 적어도 돼요 선생님은 선생님이 좋아하는 비구공을 적어보겠어요 비구공 우리 친구들은 다른 공 적어도 돼요 알겠죠? 이렇게 우리 생활 주변에서 여러 가지 모양의 물건들을 찾아서 적으시면 됩니다 넘어갈게요 그 다음 10번 문제 같이 볼게요 선민이는 여러 가지 물건으로 잘 굴러가는 자동차를 만들려고 한대요 자동차 바퀴를 만들기에, 자동차 바퀴를 만들기에 알맞은 물건이 무엇일까요? 어, 장난감 만드는데 바퀴 뭘로 만들면 좋을까? 일단 바퀴라면 굴러가야 되잖아요 잘 굴러가야 되는데 앞이랑 뒤로 굴러가야 되니까 우리 머릿속에 자동차 바퀴가 어떤 모양인지 떠올려 보세요 어떤 모양이죠? 맞아요 둥근 기둥 모양이죠 맞나요? 그럼 이 중에서 둥근 기둥 모양을 찾으면 되겠네요 어디 있죠? 둥근 기둥 모양, 짠! 여기 3번에 있고 그리고 5번에 있어요 그래서 모두 이렇게 적을게요 3번과 5번 두 가지를 쓰면 됩니다 모두 고르세요라는 말은 답이 하나만 있지 않다는 뜻이에요 그래서 하나일 수도 있지만 두 개일 수도 있고 세 개일 수도 있어 그건 우리 친구들이 잘 찾아서 답을 적어 주시면 됩니다 알겠죠? 그 다음 수외력 완성 대표 응용 문제예요 뭔가 어려워 보이는데 한번 보자 오른쪽은 어떤 모양의 부분입니다 어, 이거래요 이 모양과 같은 모양을 모두 찾아 기호를 써보세요 라고 했어요 자, 일단 첫 번째 우리가 이 그림을 통해서 우리가 찾으려는 모양이 무엇인지 알아봐야 돼요 무슨 모양을 찾으려는 걸까요? 맞아요 음, 지금 뾰족한 부분도 있고 평평한 부분도 있는 걸 보니까 이 모양은 상자 모양일 거라는 생각이 들죠 짠짠짠 이렇게 생긴 상자 모양일 거예요 그럼 여기 있는 가, 나, 다, 라, 마, 바 중에서 상자 모양을 찾으면 정답이 돼요 상자 모양 뭐가 있지? 어, 여기 가도 있고 그리고, 어, 마도 있어요 그래서 가와 마가 정답일 것 같은데 자, 이렇게 생각하는 건데요 여기 아래쪽에 해결하기 부분을 보세요 우리가 생각해야 되는 그 과정을 쭉 설명해 놨어요 한번 읽어 보면서 답 찾아 볼게요 1단계 이 모양은 평평한 부분과 뾰족한 부분이 다 보이기 때문에 무슨 모양의 부분이다? 맞아요 상자 부분, 상자 모양 이렇게 해서 동그라미를 쳐주면 되는 거예요 됐죠? 그 다음 2단계 그렇다면 여기에 나와 있는 물건들이 어떤 모양인지 알아 봅시다 라고 했어요 그 중에 선물 상자와 이 껌 어떤 모양이죠? 맞아요, 이 둘은 상자 모양이라고 할 수 있어요 그 다음, 어, 휴지와 그리고 캔 어떤 모양이죠? 둥근 기둥 모양이에요 그래서 여기에 동그라미 해주면 되고요 그 다음, 어, 야구공과 농구공은 어떤 모양이죠? 공 모양이죠 그래서 공에 동그라미를 해주면 됩니다 자, 이렇게 물건들을 다 나누어 보니까 그 중에서 상자 모양에 해당하는 것은 무엇이라고요? 바로 가와 마입니다 라고 찾을 수 있다는 거예요 어떻게 하는지 알겠죠? 자, 그럼 이런 식으로 나머지 문제들도 한번 풀어 보세요 선생님과는 한 문제만 더 풀어 보겠습니다 자, 대평용 두 번째 문제 이 모양, 둥근 기둥 모양에 대해 바르게 설명한 것을 모두 찾아 기호를 써보세요 라고 했어요 기억부터 볼게요 둥근 부분도 있고 평평한 부분도 있습니다 이건 어떤 모양이죠? 맞아요, 둥근 기둥 모양이죠 짠 그 다음, ㄴ, 모든 부분이 다 둥급니다 뭐예요? 이건 공 모양을 설명하는 거예요 그 다음, ㄷ, 둥글고 기둥처럼 생겼다 그러니까 둥근 기둥 모양이지 그 다음, ㄹ, 뾰족한 부분이 있다 뾰족한 부분이 있는 건 뭐였어요? 이런 상자 모양이었잖아요 그래서 이 중에서 둥근 기둥 모양을 바르게 설명하고 있는 건 기억과 ㄷ이다 라고 답을 찾을 수 있습니다 됐죠? 자, 그러면 이 생각의 과정을 여기 1단계부터 함께 살펴보도록 할게요 먼저 각 모양을 찾아보고 살펴보는 거예요 상자 모양에 해당하는 것은 어, 여기 쿠키 상자가 있고 둥근 기둥 모양에 해당하는 것은 짠, 여기 감자과자의 캔이 있네요 그 다음, 공 모양에 해당하는 것은 볼링공이죠 볼링공, 짜잔 이렇게 연결을 해놓고 자, 그 다음 2단계 어, 각각 설명을 한번 찾아볼게요 기억, 둥근 부분, 평평한 부분도 있다 이것은 이렇게 둥근 기둥 모양이라고 그랬죠 그 다음, ㄴ은 뭐라고 했죠? 아까 공 모양이라고 했고 ㄷ은 둥근 기둥 모양 ㄹ은 상자 모양 아까 같이 찾았잖아요 그러니까 이것을 마지막으로 정리해 보면 둥근 기둥 모양에 대해서 설명한 것은 기억과 ㄷ입니다 라고 이런 순서로 생각하면 된다는 거예요 우리 친구들 모두 이해했나요? 자, 그럼 오늘 배운 내용 한번 다 정리해 보겠습니다 오늘은 3가지 모양에 대해 배웠어요 첫 번째, 상자 모양은 평평한 부분과 뾰족한 부분이 있고 그 다음, 둥근 기둥 모양은 평평한 부분과 둥근 부분이 있고 공 모양은 전체가 둥글고 뾰족한 부분이 없다고 했어요 자, 이런 것들 잘 기억해 주세요 선생님과 이제 다음 시간에는요 그 다음 단언의 내용 같이 공부해 볼게요 우리 친구들 오늘 정말 고생 많았어요 우리 다음 시간에 다시 만나요 모두모두 안녕\n",
      "01강1-1_다양한입체모양알아보기_초등수해력-도형·측정1단계.mp3에 대한 텍스트가 ./ebs_script/new/01강1-1_다양한입체모양알아보기_초등수해력-도형·측정1단계.txt로 저장되었습니다.\n",
      "Transcription for 01강1-1_삼각형,사각형,원알아보기,1-2_칠교판으로모양만들기_초등수해력-도형·측정2단계.mp3:\n",
      "친구들, 안녕하세요? 초등수해력 도형측정 2단계 정소영 선생님입니다 자, 우리 친구들 모두 만나서 반가워요 앞으로 선생님과 함께 이 2단계 교제에 해당하는 여러 가지 내용들을 공부해 볼 건데요 교제는 모두 준비됐나요? 좋아요 자, 일단 이 초등수해력이라는 교제는요 우리 친구들의 수학실력을 쑥 올려주기 위해서 만든 교제입니다 그리고 여러 영역이 있는데 그 중에 도형과 측정에 대한 영역을 함께 공부해 볼 거예요 도형이라고 하면 우리가 주위에서 볼 수 있는 여러 가지 모양들에 대한 이야기고요 측정이라는 건 무언가를 제어 본다든지 비교해 본다든지 이런 내용이 포함되어 있습니다 그래서 선생님이랑 여러 가지 주변에서 볼 수 있는 이야기들을 나누어 보자고요 이 강의는요 한 강의당 두 개의 단원 또는 한 개의 단원씩 구성되어 있어요 그래서 우리 친구들이 내가 오늘은 어디까지 공부할 건데? 라는 계획이 있다면 그 계획에 맞추어서 강의를 진행해 볼 거예요 자, 친구들 잘 알겠죠? 그럼 오늘 공부할 부분은 무엇인지 한번 볼까요? 오늘은 이렇게 작은 두 개의 단원을 공부해 볼 거예요 첫 번째 단원은 삼각형, 사각형, 원 알아보기이고요 두 번째 단원은 친구들이 좋아하는 칠교판으로 모양 만들기 단원입니다 모두 준비됐나요? 그럼 첫 번째 단원부터 출발해 볼게요 민호야, 우리 1학년 때 이 모양에 대해 배웠잖아 새뾰족이? 어? 새뾰족이? 우리는 새평평이라고 부르기로 했는데 소진아, 넌 이 모양을 뭐라고 불러? 그거? 손이 세 개라서 삼손이라고 부르기로 했어 모양은 같은데 왜 부르는 이름은 다 다르지? 우리끼리 다시 이름을 정하자 그럼 다른 친구들에게도 다시 알려줘야 하잖아 이번 1단원에서는 여러 가지 모양의 이름과 구성 요소에 대해 배울 거예요 이전에 배운 모양과 비교하여 무엇을 더 배우고 어떻게 확장할지 생각해 보아요 네, 오늘의 첫 번째 개념은 삼각형입니다 방금 친구들이 여러 가지 이름을 배웠잖아요 오늘의 첫 번째 개념은 삼각형입니다 방금 친구들이 여러 가지 이름으로 어떤 모양을 부르는 거 혹시 보았나요? 지금 친구들이 불렀던 그 모양을 한번 살펴볼게요 선생님은 이 모양을 세모라는 이름으로 불렀거든요 그런데 아마 친구들마다 서로 다른 자기만의 이름이 있었을 거예요 자, 이 모양은 어떻게 생긴 모양이냐면 짠짠짠 이렇게 생겼거나 또는 이렇게 옷걸이 속에서도 찾아볼 수 있었어요 그래서 모두 다 비슷한 이런 세모모양입니다 라고 설명할 수 있는 거지 그럼 이 세모모양은 어떤 특징을 가지고 있었냐면요 일단 반듯한 선이 세 군데 있었고요 자, 보세요. 선이 하나, 둘, 세 군데 있잖아. 그쵸? 그 다음 뾰족한 곳도 세 군데 있었어요 뾰족한 곳 하나, 둘, 셋. 맞나요? 그리고 잘 굴러가지 않았어요 굴러간다는 건 무슨 말이에요? 마치 공이나 바퀴처럼 떼굴떼굴 굴러간다는 거잖아요 그런데 이 세모모양은 반듯하고 뾰족한 부분밖에 없으니까 잘 굴러가지 않겠죠? 우리는 이미 이런 내용들은 다 알고 있어요 자, 그럼 오늘 배울 부분은 무엇인지 한번 볼게요 이런 모양의 진짜 이름, 정말 수학에서 쓰는 이름이 무엇인지 알아보겠습니다 이렇게 생긴 모양의 도형을 우리는 삼각형이라고 불러요 우리 친구들도 동그라미 한번 해볼게요 삼각형! 그리고 그 삼각형이 무엇으로 구성되어 있는지, 무엇으로 이루어져 있는지도 한번 살펴볼게요 삼각형에서 이 고든 선 부분이 있어요 예를 들면, 짠! 하나, 둘, 셋 이런 부분들, 이런 선을 우리는 변이라고 부를 거예요 뭐라고요? 변. 좋아요 그러면 삼각형의 변은 총 몇 개가 있을까요? 하나, 둘, 셋. 세 개가 있겠죠. 맞나요? 그 다음, 이번에는 삼각형의 두 고든 선이 만나는 점을 꼭지점이라고 부를 거예요 우리가 이전에 배웠을 때는 뾰족뾰족한 부분이라고 설명했잖아요 그런데 여기에서는 만나는 점, 예를 들면 여기, 여기, 여기 이 뾰족한 부분을 꼭지점이라고 합니다 꼭지점의 개수도 한번 세어볼게요. 어디 있죠? 하나, 둘, 셋. 세 개네. 그래서 꼭지점도 세 개라고 적어주면 되겠네요 그래서 이것을 종합해보니까 삼각형은 변이 세 개, 꼭지점이 세 개입니다라고 말할 수 있는 거예요 그리고 삼각형은 고든 선들로 둘러싸여 있다 라고도 설명할 수 있는 거죠 모두 잘 기억했죠? 그럼 이번에는 짠짠짠! 그 다음 내용으로 볼게요 이 모양을 우리는 삼각형이라고 부른다고 했고 그동안 우리가 고든 선이라고 불렀던 부분은 변, 뾰족한 곳이라고 불렀던 부분은 꼭지점이라고 부를 수 있다고 했어요 그리고 여기가 굉장히 중요해요 우리가 보는 다양한 삼각형의 종류가 있죠 그리고 이 삼각형들은 모두 다 변과 꼭지점이 세 개 있다라는 것을 기억을 할 거예요 그렇다면 여기 보세요. 별표하고 삼각형이 아닌 경우도 있어요 뭔가 삼각형이랑 비슷해 보이지만 아닌 경우 어떤 게 있을까요? 여기 보니까 어? 삼각형처럼 생겼는데 이쪽 부분을 보니까 반듯한 선이 아니라 굽은 선이 있잖아요 이건 삼각형이 아니에요 그 다음 두 번째 어? 삼각형 모양처럼 생겼는데 여기 끊어진 부분이 있잖아요 이것도 삼각형이 아니에요 마지막 여기 보니까 어? 삼각형이랑 비슷하게 생겼는데 그런데 보니까요 이렇게 꼭지점이 하나, 둘, 셋, 네 개나 있어요 그리고 변도 하나, 둘, 셋, 네 개나 있어요 그러니까 변과 꼭지점이 세 개보다 많은 경우 이것도 삼각형이라고 할 수 없어요 그래서 우리가 어? 삼각형이랑 비슷한데 이거 삼각형 아니에요? 맞는지 아닌지 우리 친구들이 스스로 판단할 수 있어야 돼요 자 그럼 이번에는 다음 내용을 볼게요 우리 이렇게 생긴 모양 이야기 해봤다, 그쵸? 선생님은 이 모양을 네모 모양이라고 이름 붙였어요 네모 모양의 종류에는 이런 수학책에 있는 네모 그 다음 이건 거울인 것 같아요 거울의 네모 그 다음 집에 있는 네모 모두 다 네모 모양이었어요 이 네모 모양에는 반듯한 선이 네 군데 있었고요 그 다음 뾰족한 곳이 네 군데 있었어요 그리고 이 네모도 세모 모양, 즉 삼각형 모양과 똑같이 잘 굴러가지 않는다는 특징도 있었죠 모두 기억나나요? 그러면 이 네모 모양의 수학적인 이름을 확인해 보겠습니다 이렇게 생긴 모양의 도형들을 우리는 사각형이라고 불러요 뭐라고요? 사각형 잘했어요 그러면 이 사각형에서도 고든 선은 똑같이 변이라고 부르고요 고든 선이 만나는 점은 또 똑같이 꼭지점이라고 부르고요 사각형은요, 변이 하나, 둘, 셋, 넷 그리고 꼭지점이 하나, 둘, 셋, 넷 그래서 각각 네 개씩 있는 도형을 이야기하는 거예요 선생님, 지금 우리가 알고 있던 그 네모랑 이건 좀 모양이 다른 것 같은데 이것도요, 이게 모두 사각형이 맞나요? 라고 질문할 수 있어요 그런데 사각형이 맞아요 라고 이야기할 수 있는 이유는 변이 네 개, 꼭지점이 네 개 있는 도형이기 때문이에요 알겠죠? 그래서 앞으로 여러분들이 어떤 도형을 보았을 때 변 네 개, 꼭지점 네 개 그렇다면 우린 이 도형을 사각형이라고 부를 수 있구나라고 정리해 주시면 됩니다 자, 그럼 아까와 마찬가지로 한번 정리해 볼게요 이런 모양을 우리는 사각형이라고 불렀는데 세상에는 다양한 종류의 사각형이 있어요 예를 들면 이 도형, 되게 신기하게 생겼죠? 그런데 이것도 사각형이에요 왜냐하면, 보세요, 꼭지점이 하나, 둘, 셋, 네 개 있고 변이 하나, 둘, 셋, 네 개 있잖아요 그러니까 이것도 사각형이라고 부를 수 있는 거죠 그런데 오른쪽을 보니까 이건 사각형이 아니에요 왜 아니냐면, 첫 번째 보세요 어? 뾰족한 부분이 전혀 없어요 꼭지점이 없죠 그리고 이곳이 이렇게 굽어있어요 굽은 선이 있네 그러니까 이건 사각형이 아니야 땡! 맞죠? 그 다음 두 번째, 이건 왜 사각형이 아닐까요? 맞아요, 이쪽에 끊어져 있는 부분이 있습니다 그래서 사각형이 아니야 땡! 그 다음 이 도형은요 보니까 변도 하나, 둘, 셋, 네, 다섯 개 있고 그리고 꼭지점도 하나, 둘, 셋, 네, 다섯 개는 있어 원래 사각형은 변과 꼭지점이 네 개씩 있어야 되는데 이건 네 개보다 더 많으니까 아니에요 라고 말할 수 있는 겁니다 자, 그럼 이번에는 다음 모양을 볼게요 선생님은 이 모양에 동그라미라는 이름을 붙여줬어요 우리 친구들은 뭐라고 붙여줬어요? 자, 동그라미 모양은 어디에서 찾을 수 있냐면 블라우프에도 있고요 피자에도 있고 100원짜리 동전에도 있어요 모두 다 동글동글 동그란 모양이죠 이 모양은요, 뾰족한 부분이 전혀 없어요 그리고 온통 구분선으로 이루어져 있어요 그리고 바퀴나 공처럼 아주 잘 굴러가는 모양을 가지고 있죠 그럼 이 모양은 수학적으로 무엇이라고 부르면 좋을까요? 이렇게 생긴 모양의 도형을 우리는 원이라고 합니다 우리 친구들도 원에 동그라미를 한번 해볼게요 그럼 이 원은 크기는 다양하지만 생긴 모양은 같아요 자, 이 원도, 이 원도, 이 원도 크기는 다 다르지만 다 동글동글 동그랗게 생겼죠 그리고 어느 쪽에서 보아도 항상 똑같은 동그란 모양이다 라는 것도 기억을 해줄게요 자, 그럼 이번에는요 무늬에서 규칙을 찾아보는 활동을 해볼 거예요 우리 지금 삼각형, 사각형, 원을 배웠잖아요 그럼 여기 한번 이 모양을 볼게요 삼각형, 원, 삼각형, 원, 삼각형, 원 자, 여기에서 어떤 규칙을 찾을 수 있죠? 어떤 규칙이 있어요? 맞아요, 삼각형과 원이 계속해서 반복되고 있다는 규칙을 찾을 수 있습니다 됐나요? 그 다음 이 규칙을 우리가 직접 만들 수도 있어요 여기 한번 볼게요 이 친구가 직접 만든 무늬인데요 어떤 규칙이 있죠? 그렇지, 이렇게 생긴 모양이 계속해서 반복되어 나타나고 있죠 우리 친구들이 앞으로 할 수 있어야 되는 건 뭐냐면 어떤 그림이나 모양이나 이런 것들을 보고 그 속에서 규칙을 찾아낼 수도 있어야 되지만 내가 직접 규칙을 만들어서 모양을 꾸며낼 수도 있어야 되는 거예요 자, 그럼 우리 친구들이 한번 직접 규칙을 찾아볼까요? 첫 번째 문제입니다 이런 무늬에서 규칙을 찾아볼게요 어떤 걸 찾을 수 있을까? 우리가 규칙을 찾을 때는요 규칙을 찾을 때는 모양을 볼 수도 있고 또는 색깔을 볼 수도 있고 또는 크기를 볼 수도 있어요 여러 가지를 볼 수가 있는데 그 중에서 이 친구는 뭘 찾았냐면 모양을 봤어요 원, 사각형, 삼각형 원, 사각형, 삼각형 이 계속 반복됩니다 라고 이야기한 거지 그랬더니 오른쪽 친구는 뭐라 그랬냐면 색깔을 가지고 규칙을 찾았어요 파란색과 노란색이 반복됩니다 파랑, 노랑, 파랑, 노랑, 파랑, 노랑 이렇게 반복되고 있구나 우리 친구들도 찾을 수 있겠죠 그 다음 아래쪽 문제를 봤어요 여기에서는 어떤 규칙을 찾을 수 있을까? 했더니 왼쪽 친구가 또 여기에서 모양에 대한 규칙을 찾았어요 원과 사각형이 반복돼요 라고 이야기했어요 그러고 보니까 원, 사각형, 원, 사각형 그런데 여기에는 사각형이 하나가 아니라 두 갠데요? 그리고 또 원, 사각형, 사각형, 사각형 이거 뭐지? 어떤 규칙일까? 이렇게 궁금해하고 있으니까 오른쪽 친구가 도와줬어요 사각형의 수가 하나씩 늘어난다는 규칙이에요 아, 그러고 보니까요 여길 보세요 원 하나, 사각형 하나 원 하나, 사각형 둘 원 하나, 사각형 셋 원 하나, 사각형 넷 아, 이렇게 원과 사각형이 반복되고 있지만 한 번 반복될 때마다 사각형의 수가 하나씩 늘어나고 있구나 라는 걸 알 수 있는 거예요 자, 그럼 이번에는 그 다음 문제도 볼게요 이 문제에서는 어떤 규칙을 찾을 수 있을까? 왼쪽부터 삼각형을 시계방향으로 돌려가면서 그린 규칙이에요 라고 했어 그러고 보니 가운데 이렇게 사각형 모양이 있고요 그 다음 그 주위에 삼각형이 있는데 그 삼각형이 시계방향으로 돌아가고 있구나 그 다음 오른쪽 보니까요 이 모양을 하나 그려놓고 반복해 놓은 모양입니다 라고 했어요 오, 그렇구나 그래서 여기 보면 방향에 대한 규칙을 찾을 수도 있다는 거 알 수 있겠죠? 방향에 대한 규칙도 찾을 수 있다 됐나요? 자, 이런 식으로 규칙 찾기 같이 연습을 해봤습니다 그럼 이제 문제를 함께 풀어볼게요 수혜력을 높여요 11번 문제입니다 중부 유럽에 위치한 체코는 오랜 역사와 전통을 가진 나라입니다 체코 국기에서 찾을 수 있는 크고 작은 삼각형과 사각형은 각각 몇 개인지 구해보세요 이것이 문제입니다 일단 삼각형부터 한번 세어볼게요 삼각형, 변이 3개인 거 어디 있어요? 여기 하나가 있죠 그래서 짠 여기 하나 찾았네 그래서 삼각형은 1개라고 적어주시면 되고요 그 다음 사각형은 어디 있어요? 사각형 변의 개수를 찾아보면 하나, 둘, 셋, 넷 해서 이렇게 하나가 있고요 그 다음 아래쪽에도 하나가 더 있죠 그 다음 전체 하나가 더 있어요 그래서 총 3개라고 적어주시면 되겠습니다 됐죠? 자, 그럼 문제 수혜력을 완성해요 대표응용 1번 문제입니다 사각형에 대한 설명으로 옳은 것을 찾아 기호를 써보세요 라고 했어요 사각형 기억부터 볼게요 변이 4개입니다 맞아요? 맞네 그 다음 니은 꼭지점이 3개입니다 맞아요? 아니지 이 꼭지점은 4개잖아요 4개 디귿 굽은 선으로 둘러싸여 있나요? 아니지 이렇게 바른 선 이렇게 쭉 뻗은 선으로 둘러싸여 있으니까 디귿도 땡입니다 됐죠? 그래서 옳은 것은 기억일 텐데 자, 이 생각의 과정을 함께 살펴볼게요 1단계 사각형이 어떤 특징을 가지고 있는지 머릿속에 정리해서 알고 있어야 돼요 일단 변이 몇 개예요? 변이 4개입니다 그 다음 꼭지점도 4개입니다 그리고 어떤 선? 똑바른 선, 곧은 선으로 둘러싸여 있습니다 이게 머릿속에 있어야 이 문제를 풀 수 있다는 거예요 자, 그럼 2단계 갈게요 각각 어떤 도형에 대한 설명인지 볼게요 기억, 변이 4개입니다 사각형 니은, 꼭지점이 3개입니다 삼각형이죠 디귿, 굽은 선으로 둘러싸여 있습니다 원이죠 그러니까 사각형에 대한 설명으로 옳은 것은 기억입니다가 정답이 되는 거예요 됐죠? 자, 하나만 더 풀어볼까요? 쇠력을 완성해요 대표용용 2번 문제입니다 두 도형의 꼭지점의 수의 합은 얼마인지 구해보세요 라고 했습니다 꼭지점이 뭔지는 아까 이야기했죠? 이렇게 뾰족한 부분 이렇게 변과 변이 만나는 점을 이야기한댔어요 가와 나를 각각 구해서 더해주면 정답이겠네 맞나요? 자, 그럼 가볼게요 1단계 가도형에서 꼭지점을 찾아 동그라미표 해봅시다 가도형에서 꼭지점 이렇게 몇 개가 있어요? 4개가 있습니다 됐나요? 그럼 이번에는 나도형도 가볼게요 나도형의 꼭지점은 하나, 둘, 셋 그래서 나에서는 3개 찾을 수 있고요 3단계 그래서 두 도형의 꼭지점 수의 합은 4 더하기 3 해서 총 얼마? 7 이 정답이 되는 겁니다 여기까지 내용 잘 알겠죠? 그럼 이번에는 다음 단어 칠교판 활동 한번 해볼게요 칠교판 우리 친구들 혹시 본 적 있나 모르겠는데요 일단 칠교판을 살펴보기 전에 방금 배웠던 내용 다시 한번 복습해볼게요 우리는 삼각형과 사각형에 대해서 배워봤어요 이렇게 생긴 도형을 삼각형이라고 하는데 삼각형에는 변이 3개, 꼭지점도 3개 있습니다 그 다음 이렇게 생긴 도형들을 사각형이라고 하는데 사각형이 되려면 변도 4개, 꼭지점도 4개 있어야 돼요 그럼 이제 진짜 칠교판 조각을 한번 볼까요? 칠교판은 이렇게 생겼는데요 이 중에서 삼각형과 사각형으로 나누어서 생각할 수 있어요 일단 삼각형부터 찾아볼게요 삼각형은 1번, 2번, 3번, 5번, 7번이에요 그 다음 사각형은 어디 있나요? 사각형은 4번과 6번 이렇게 두 가지라고 할 수 있습니다 됐죠? 그래서 칠교판에서 삼각형은 모두 5개 사각형은 모두 2개입니다 라고 정리를 하는 거예요 그리고 그 중에서 1번과 2번은 똑같은 모양이에요 크기도 똑같고 그 다음에 3번과 5번도 모양과 크기가 똑같아요 이걸 머릿속에 넣은 상태에서 그 다음 내용을 한번 볼까요? 우리 방금 이 칠교판의 삼각형과 사각형이 무엇이었는지 함께 살펴봤죠 그러면 이 칠교판의 조각으로 여러 가지 모양도 만들 수 있다는 걸 알 수 있을 거예요 아마 학교에서 수업 시간에 친구들 한 번 정도는 해봤을 것 같은데 이런 칠교판의 조각을 두 조각 또는 세 조각만 꺼내서 여러 가지 모양을 만들어 보는 거죠 예를 들면 이렇게 삼각형 모양 두 개를 가져와서 사각형을 만들 수도 있고요 또는 삼각형 모양 하나, 두 개 그리고 사각형 모양 하나를 이렇게 가져와서 커다란 이런 사각형 모양을 만들 수도 있어요 친구들이 한번 이건 직접 해보는 게 좋을 것 같아요 그리고 칠교판이 아까 총 7조각이라고 했잖아요 7조각을 이리저리 이어 붙이면 이렇게 멋진 마치 백조무늬 같은 것도 만들 수 있고요 이렇게 멋진 이건 뭐죠? 여우? 고양이? 이런 모양을 만들 수도 있습니다 그러면 문제를 낼 때 이럴 수 있겠지 이런 여우 모양을 만들었을 때 여우의 꼬리는 무슨 모양일까요? 꼬리 무슨 모양인가요? 라고 하면 여러분들이 알고 있는 답을 하면 되죠 뭐예요? 사각형 모양이에요 맞아요 그 다음에 이렇게 여우가 있을 때 여우의 귀, 두 귀는 무슨 모양인가요? 라고 질문하면 삼각형 모양이에요 라고 대답을 할 수 있겠죠 우리 친구들이 직접 이렇게 칠교판으로 어떤 모양을 만들 때에는요 각각의 도형의 특징들을 잘 알고 있어야 예쁜 모양을 다양하게 만들 수 있는 거예요 그리고 어디의 길이가 얼마나 되는지 어디의 길이가 어디와 똑같은지 다른지 이런 것들을 잘 알고 있어야 몸통에는 뭘 쓰면 좋을까? 얼굴에는 뭘 쓰면 좋을까? 팔에는 어떤 부분을 쓰면 좋을까? 이런 것을 잘 판단할 수 있게 된답니다 그러면 수혜력을 높여요 1번 문제 같이 보겠습니다 칠교판 조각이 삼각형이면 노란색, 사각형이면 파란색으로 색칠해 보세요 라고 했어요 삼각형 일단 다시 한번 정리해 볼게요 삼각형의 특징은 뭐라고 했죠? 삼각형의 특징, 뭐가 있었어요? 삼각형은 변의 개수가 3개 그리고 또 꼭지점의 수가 3개인 도형이라고 했어요 그 다음 사각형은 어떤 특징이 있다고 했죠? 여기에서 말만 바꿔서 한번 이야기해 볼까요? 사각형은 변이 4개 있고요 그 다음 꼭지점이 4개 있다고 했어요 이런 도형들을 찾아서 표시하면 되겠네 그럼 일단 삼각형부터 볼까요? 예를 들면 하나만 찾아보자 변이 3개 있죠? 그 다음 꼭지점도 3개 있잖아요 그러니까 이것은 삼각형이에요 그래서 이렇게 노란색으로 색칠을 해 봅니다 이런 식으로 찾으면 돼요 그럼 그 옆에 있는 것도 한번 볼게요 이 도형, 큰 도형, 짜잔! 자, 변이 몇 개 있어요? 3개 있네 그리고 꼭지점도 하나, 둘, 세 개 있네 그러니까 여기도 삼각형, 노란색 색칠하면 되겠네요 그 다음에 이것과 이 아래 있는 도형은 똑같이 생긴 도형이죠 맞아요? 그래서 여기도 이렇게 색칠을 할게요, 노란색 그 다음에 이 도형은 어때요? 자, 보세요 변의 모습 하나, 둘, 셋, 네 개 어? 변이 4개예요 변이 4개면 뭐예요? 변이 4개고 그럼 꼭지점은 몇 개인지 볼까요? 하나, 둘, 셋, 넷 어? 꼭지점도 넷이네 그러니까 이 도형은 사각형이겠구나라는 걸 알 수 있죠 그 다음 이 아래 도형은 한번 볼까요? 자, 변이 하나, 둘, 셋 있고 꼭지점도 하나, 둘, 셋 있으니까 어? 삼각형이네 그 다음 그 아래 도형, 변이 하나, 둘, 셋, 넷 꼭지점도 하나, 둘, 셋, 넷 있으니까 아하, 사각형이구나 그 다음 마지막 여기 왼쪽 아래 있는 도형은요 변이 하나, 둘, 셋이고 꼭지점도 하나, 둘, 셋 있으니까 아, 삼각형이구나 이렇게 색칠을 해주시면 되는 거예요 그래서 어? 하나, 둘, 셋, 넷, 다섯 개가 삼각형이고 하나, 둘, 두 개가 사각형이구나라는 걸 다시 한번 확인해 볼 수 있었네요 자, 이번엔 수혜령을 완성해요 대표용 1번 문제 같이 보겠습니다 7격반 조각을 모두 이용해서 동물 모양을 만들려고 한대요 이때 이 동물의 머리 부분을 만드는데 필요한 조각 중 삼각형 조각과 사각형 조각은 각각 몇 개인지 구해보세요 라고 했습니다 자, 지금 여기에 어떤 도형이 먼저 쓰였는지부터 살펴봐야 될 것 같아요 그래야 남은 걸 가지고 머리를 만들 거 아니에요 음, 뭐가 쓰였나 보니까 어? 지금 이 초록색 1번이 쓰였네요 1번 몸통에 쓰였고 그 다음에 이거 2번도 쓰였네요 맞아요 1번, 2번 넣었고 그 다음에 이 보라색 부분은 뭐예요? 6번이네요 6번도 쓰였고요 그 다음에 이 빨간색 삼각형 부분은 7번인 것 같아요 맞나요? 그러면 이렇게 다 쓰였네 그럼 머리 부분을 만드는데 필요한 조각은 몇 번이에요? 남아있는 3, 4, 5번이 되겠어요 자, 3번, 4번, 5번입니다 라고 적을 수 있겠죠 그럼 필요한 조각 중에 삼각형 조각의 번호를 써볼게요 삼각형 조각, 3, 4, 5 중에 삼각형은 뭐예요? 여기 3번과 여기 5번이라고 할 수 있겠네요 3번과 5번 그 다음 사각형 조각의 번호를 쓰면 사각형은 여기 4번이죠 그래서 4번입니다 라고 적어주면 되겠습니다 자, 그럼 동물의 머리 부분을 만드는데 필요한 조각 중에 삼각형 조각은 몇 개? 2개 그 다음 사각형 조각은 1개입니다 라고 정리를 해주면 이걸 가지고 머리를 만들면 됩니다 라고 설명할 수 있습니다 됐나요? 자, 그럼 이번에는 하나 더 풀어 볼게요 보기의 조각을 모두 이용해서 사각형을 만들어 보세요 라고 했습니다 자, 사각형은 어떤 특징을 가지고 있는지 일단 먼저 알고 있으면 사각형을 만들 수 있겠다겠죠 사각형은 뭐예요? 사각형은 변이 몇 개 있어야 돼요? 변이 4개, 꼭지점도 몇 개 있어야 돼요? 꼭지점도 4개 있어야 돼요 자, 이걸 머리에 넣은 상태에서 그 다음 볼게요 보기의 조각 중 두 조각을 이용해서 사각형을 만들어 보자고 했어요 그러면 두 조각을 이렇게 고르면 되겠지 가와 나를 일단 골라서 사각형을 만든다고 하면 어떤 식으로 하면 될까? 가, 나는 이런 식으로 서로 붙여서 사각형 모양을 만들 수 있을 것 같아요 그 다음에 나와 다를 합치면 어떻게 된다? 나, 다 이렇게 생겼으니까 이 둘을 이런 식으로 붙여 놓으면 이렇게 커다란 사각형 모양이 되겠다라는 걸 알 수 있겠죠 그러면 이 두 조각을 이용해서 일단 사각형을 하나 만들어 놓고 방금 전처럼 만들어 놓고 거기에 나머지 조각을 붙여주면 최종 사각형이 만들어지겠죠 그럼 예를 들어서 한번 볼게요 우리가 아까 봤던 이 모양에다가 옆에 남아있는 다를 이렇게 붙여서 큰 사각형을 하나 만들 수 있었고요 그 다음에 아까 우리가 봤던 어떤 모양이었죠? 이런 모양, 나와 다를 합친 모양에다가 오른쪽 끝에 가를 이렇게 붙여줬어 그랬더니 큰 사각형이 만들어졌어요 그 다음 또 한 번 더 이렇게 나와 다를 붙여 놓은 데다가 이번에는 가를 뒤집어서 이렇게 붙여줬어요 이렇게 했더니 또 다른 모양의 큰 사각형이 만들어졌네요 이런 식으로 정리를 해주면 되겠습니다 이 문제는요 우리 친구들이 직접 한번 만들어 보면 더 좋겠죠 자 그럼 오늘 공부한 거 마지막으로 정리하고 마치도록 하겠습니다 오늘은 삼각형, 사각형, 원이라는 도형의 이름과 구성요소에 대해서 공부해봤죠 삼각형은 변의 개수와 꼭짓점의 개수가 모두 3개씩 사각형은 모두 4개씩 있는 도형이었고요 원은 이렇게 뾰족한 부분 없이 둥근 선으로 이루어진 도형이라고 했습니다 그래서 각각의 특징들 잘 기억해 주시고 우리 생활 주변에서도 꼭 찾아보세요 자 오늘 공부 두 개의 단어 열심히 해봤나요? 그럼 우리 다음 시간에는 또 새로운 내용, 재밌는 내용과 함께 만나도록 하자고요 친구들 오늘 고생 많았어요 다음 시간에 만나요 모두 안녕\n",
      "01강1-1_삼각형,사각형,원알아보기,1-2_칠교판으로모양만들기_초등수해력-도형·측정2단계.mp3에 대한 텍스트가 ./ebs_script/new/01강1-1_삼각형,사각형,원알아보기,1-2_칠교판으로모양만들기_초등수해력-도형·측정2단계.txt로 저장되었습니다.\n",
      "Transcription for 01강평면도형(1)_초등수해력-도형·측정3단계.mp3:\n",
      "안녕하세요 EBS친구들 여러분의 챔챔쌤이에요 반가워요 우리 친구들 자 선생님하고 우리 초등도형측정수해력 3단계를 함께 공부해 볼겁니다 이 3단계에 어떤 내용이 있는지 살짝 들여다볼까요 바로 3단계에서는 벽면 도형, 길이와 시간, 원, 들이와 무게에 대해서 공부해 볼 거에요 어때요? 딱 제목만 봐도 아 어떤 기초를 배우는 단계구나 라는 느낌 들죠 자 우리 친구들 도형이나 측정 앞으로 계속해서 많은 내용들을 공부할 텐데 우리가 쌓은 기초 위에 많은 이야기들을 쌓아서 우리 깊이 있게 공부하게 될 겁니다 그런데 이 기초가 탄탄하지 않으면 그 위에 이야기를 쌓을 수가 없잖아요 그래서 선생님하고 3단계를 통해서 탄탄하게 기초를 쌓아봐요 자 우리 강의는요 먼저 이미 배운 개념 우리 친구들이 이미 배웠던 개념하고 그 다음에 새롭게 배웠던 개념이 완전 딱 끊어지는 건 아닙니다 연결이 되기 때문에 어떻게 연결되는지 함께 알아볼 거구요 그 다음에 수해력을 확인해요 를 통해서 개념을 그대로 적용하는 연습을 해볼 거에요 그런 다음 수해력을 높여요 이제 어느 정도 이제 확인까지 해봤으면 조금 실력 있는 문제에 만날 수 있구요 그리고 수해력을 완성하는 문제에서는 우리 친구들이 앞에서 배운 개념들 그리고 개념을 그대로 문제에 적용해 봤으니까 그 다음 단계로 뛰어넘는 선생님하고 여러 단계를 거쳐서 고민해 봐서 문제를 해결하면서 우리 친구들의 수해력을 완성하는 단계까지 공부해 보도록 할 겁니다 어때요 우리 친구들 기대되죠? 자 좋아요 오늘은 평면도형 첫번째 시간으로 선생님이 처음 시작할 때 우리 친구들에게 앞으로 미션을 하나씩 줄 겁니다 그러면 공부하는 동안 우리 친구들이 미션을 성공할 수 있도록 생각하면서 함께 공부해 봐요 자 오늘의 미션은 바로 바로 선 친구들아 너희의 이름은 뭐니? 우리 친구들 3단계에서는요 여러가지 새로운 도형 친구들을 만나게 될 건데요 어떻게 공부하냐? 바로 그 도형 친구들의 이름 빨리 우리 도형하고 친해져야 되겠죠? 그리고 왜 그런 이름이 붙었는지 그리고 그런 도형 친구들은 어떤 특징을 갖고 있는지 이해하면서 공부하면 훨씬 재밌게 우리가 공부할 수 있을 거예요 자 그럼 오늘의 미션 생각하면서 바로 시작해 볼게요 일단 우리는 이미 삼각형과 원을 그려봤어요 삼각형 어떻게 그렸죠? 자를 대고 반듯하게 고든 선 3변을 그려서 삼각형을 그려봤고요 그리고 원도 그려봤어요 어떻게 그려봤냐면 원 모양의 물건을 따라 고든 부분 없게 굳은 선으로 이렇게 그리면 동그라미 예쁘게 그려지면서 원을 그려봤죠 자 삼각형과 원을 그려보면서 우리가 선을 그었는데 종류가 달랐어요 삼각형은 자를 대고 반듯하게 그렸어요 그래서 고든 선으로 3변을 그렸었고 그리고 원은 동그라미 잖아요 그렇기 때문에 굽은 선으로 그렸다 라는 거 우리 친구들 체크할 수 있겠죠 자 그러면 이미 내가 이렇게 삼각형과 원을 그려보면서 선에 대해서 만났습니다 두 가지 선생님이 동그라미 쳤죠? 고든 선과 굽은 선 자 어떻게 연결되나 보세요 선을 그을 때는 굉장히 여러가지 모양으로 그을 수 있어요 그런데 종류에 따라서 우리가 고든 선과 굽은 선으로 구분할 수가 있답니다 먼저 구부러지거나 휘어지지 않고 반듯하게 쭉 뻗은 선을 고든 선이라고 해요 보통 자를 대고 그었을 때 고든 선을 그릴 수 있고요 그리고 반듯한 물건, 두꺼운 책 같은 경우도 이렇게 대고 그었을 때도 고든 선을 우리가 그릴 수 있어요 자 그러면 다음과 같이 4가지 선 중에서 고든 선을 찾았을 때는 바로 이 선과 이 선 고든 선이라는 거 구분할 수 있겠죠 자 그 다음에 구부러지거나 휘어진 선을 굽은 선이라고 해요 그럼 우리 원을 그렸을 때처럼 반듯하지 않은 거예요 다음과 같이 이렇게 구부러졌죠? 휘어졌죠? 그러니 두 번째와 네 번째 선을 굽은 선이라고 합니다 자 이제는 우리 친구들이 선을 보고 아 너는 고든 선이야, 너는 굽은 선이야 라는 거 구별할 수 있겠죠? 좋아요 그럼 여러가지 선을 보고 우리가 구분하는 방법, 뭘 따져보면 되나요? 고든가요? 라는 걸 따져보면 됩니다 네, 고다요 라고 한다면 고든 선이 되겠고요 아니에요, 휘어져 있거나 구부러져 있어요 라고 한다면 굽은 선이라고 구분할 수 있겠습니다 이제 우리 친구들 할 수 있겠죠? 좋아요 자 그러면 고든 선과 굽은 선 직접 그어 볼게요 막대자를 사용하여 곱게 그어 줄 수 있고요 그 다음에 선이 구부러지거나 휘어지도록 그릴 때는 우리 친구들이 그냥 적당하게 휘어서 그릴 수 있습니다 이런 모양으로 그려왔는데 우리 친구들은 좀 더 다양한 모양으로 구분 선을 한번 그려 보세요 자 좋아요 그러면 우리 두 번째 정말 정말 중요한 내용을 지금부터 공부할 거예요 이미 우리는 도형의 변이 무엇인지 알 수 있어요 세모 모양의 삼각형, 네모 모양의 사각형 이렇게 두 개의 도형이 있는데 삼각형 같은 경우에는 몇 개의 변으로 이루어져 있나요? 맞아요, 세 개의 변으로 이루어져 있어요 그럼 변은 모두 우리가 방금 배웠던 고든 선이에요, 굽은 선이에요? 그렇죠, 고든 선이라는 것도 알 수 있겠죠? 그럼 삼각형은 세 개의 고든 선으로 이루어져 있구나 이렇게 둘러싸여 있구나 라고도 설명할 수 있겠네요 좋아요 그럼 사각형 같은 경우는 어때요? 이처럼 하나, 둘, 셋, 넷 네 개의 변으로 이루어져 있어요 그래서 네 개의 고든 선으로 둘러싸여 있네 라는 것도 발견할 수가 있겠죠? 그러면 이것이 어떻게 이제 이어지는지 보세요 자, 새로 배울 내용은 고든 선들아 이쪽으로 좀 와봐 그래서 고든 선들을 좀 모아봤어요 그랬더니 그 안에서도 종류가 있었던 거예요 그래서 그 선들의 이름, 선분, 반직선, 직선이라고 이름을 불러줬어요 그러면 어떤 선을 선분이라고 하는지부터 출발해 볼게요 자, 지금 이 내용이 선생님이 오늘 우리 친구들에게 주어진 미션인 것 같죠? 자, 우리 친구들 새로운 선들입니다 반갑게 인사해 주세요 안녕 얘들아 자, 그러면 선분이 무엇인지 어떤 친구인지부터 알아볼게요 선분이란 두 점을 곧게 이은 선을 선분이라고 합니다 여기 그림에 점 기억이 있고요 점 니은이 있어요 이렇게 두 점을 곧게 이으려면 자나 반듯한 물건을 대고 이렇게 쭉 그어줘도 되겠죠 그래서 아 너의 이름은 선분 기억 니은 선분 니은 기억이라고 해요 선분도 이름이 있어야 우리가 불러줄 수 있으니까 이름은 바로 양 끝점으로 이름을 불러줄 수 있어요 그럼 우리 친구들 뒤바꿔 불러도 같은 선분이겠죠? 왜냐하면 점 기억에서 점 니은까지 곧게 이은 선과 점 니은에서 점 기억까지 곧게 이은 선은 같은 선분이잖아요 아 그러면 이 점의 위치를 바꿔서 불러도 같은 선분이구나 라는 걸 알 수 있습니다 자, 그럼 이제 한 점에서 시작해요 한쪽으로 끝없이 느린 곧은 선은 뭐라고 할까요? 반직선이라고 합니다 우리 친구들 선생님이 직선까지 다 설명하고 다시 반직선 설명해 줄 거예요 그럼 반직선아 너의 이름은 어떻게 지어진 거니 한번 보죠 점 기억에서 시작해 가지고요 점 니은을 지나는 반직선을 바로 반직선 기억 니은이라고 해요 그러니까 우리 친구들 선분하고 비교해 보세요 어떤 차이점이 있죠? 선분은 양 끝점이 있는 거예요 양 끝점이 이렇게 두 개가 있는데 반직선은요 바로 끝점이 하나밖에 없는 거예요 그림은 여기까지만 점 니은을 그려서 여기까지 끝이 되게끔 그렸지만 사실 우리 친구들 마음속으로는요 점 니은을 지나서 끝없이 가는 선이라고 생각해 줘야 됩니다 그래서 반직선 기억 니은 그렇다면 우리 친구들 여기서는 이름이 반드시 시작하는 점이 있기 때문에 시작하는 점부터 먼저 불러줘야 돼요 그래서 반직선 기억 니은이라고 하고 만약에 점 니은을 시작해서 점 기억을 지나는 이쪽으로 끝없이 늘린 곧은 선이거든요 이 선은 바로 반직선 자 뭐라고 한다? 시작점부터 먼저 얘기해서 니은 기억이라고 한답니다 자 그러면 이 반직선에 반자를 뚝 대면 직선이죠 그럼 우리 직선 친구는 어떤 친구인지 볼까요? 선분을 양쪽으로 끝없이 느린 곧은 선을 직선이라고 한답니다 그러면 우리가 끝까지 선생님이 1시간이고 2시간이고 계속 선을 그을 수 없잖아요 그래서 끝없이 느린 선이다라는 표시로 바로 양 끝점을 살짝 지나게끔 우리 친구들이 그려주면 되는 거예요 그래서 이런 표시를 한다라는 것은 아 너는 기억을 지나고 이쪽으로 끝없이 쭉쭉 뻗어 있구나 그리고 점 니은을 지나고 이쪽으로 쭉쭉 뻗어 있구나 이렇게 이해하면 된답니다 자 그러면 점 기억과 점 니은을 지나는 직선을 직선 기억 니은 어 근데 점 니은과 점 기억을 지나는 직선도 어차피 같은 직선이네요 그러면 너는 이름을 바꿔서 직선 니은 기억이라고 해도 되겠다 아 그렇다면 우리 친구들 선분, 반직선, 직선에 대해서 알아봤는데 우리가 구분하는 방법 선분은 양 끝점이 몇 개? 2개 그리고 반직선은 양 끝점이 1개 직선은 양 끝점이 있어요? 없어요? 없죠 양쪽으로 끝없이 느린 선이니까요 자 그러면 이렇게 한번 생각해 볼까요 선생님이 직선을 자 우리 친구들 착한 사람 눈에만 보이는 직선이 여기 있습니다 다들 보이죠 근데 선생님이 가위를 가지고 왔어요 그래서 직선을 한쪽으로 뚝 자를 거예요 그럼 뭐가 될까요? 맞아요 자른 부분에 끝점이 생기니까 바로 반직선이 될 거예요 자 우리 친구들 반직선 보이죠 그런 다음에 선생님이 이쪽에도 가위를 하나 갖고 와서 나머지 부분도 뚝 잘랐어요 그랬더니 어때요 끝에서 끝으로 이렇게 양 끝점이 있는 뭐가 생겼죠? 맞아요 선분이 생겼습니다 그래서 이렇게 선 친구들은 아 직선을 한쪽에 뚝 자르면 반직선이 되고 다른 한쪽도 뚝 자르면 선분이 되네 이렇게도 이해해 주면 우리 친구들 편하게 쉽게 이해할 수 있겠죠 자 그러면 여기서 또 우리가 주의할 점이 있습니다 선분이나 직선 같은 경우에는 점을 바꿔서 이름을 불러도 아 그 친구가 그 친구야 같은 선분 같은 직선이지만 반직선은 반드시 시작점을 먼저 얘기해야 하기 때문에 반직선ㄱㄴ과 반직선ㄴㄱ은 다른 반직선이라는 거 주의해 주세요 좋아요 자 그러면 우리 친구들 이제 고진선을 분류할 수 있겠죠 고진선들아 모여라 라고 했을 때 점과 선 사이에 어떻게 그어져 있나를 보면 됩니다 그래서 선분, 반직선, 직선으로 이제 나누어진다라는 거 알 수 있어요 자 선분은 양 끝점 2개 반직선은 끝점이 1개 직선은 끝점이 없죠? 쭉쭉쭉 뻗어나가니까 꼭 기억해 주세요 좋아요 자 그러면 우리 선생님이 아까 살짝 주의라고 했지만 다시 한번 너무너무 중요하니까 우리 친구들 지금 요 3단계에만 나오는 게 아니라 이 부분은 사실 중학교 과정에 가서도 또 한번 배운답니다 그럼 지금 기초를 탄탄히 다져두면 우리가 중학생이 되어서 다시 선 친구들을 만났을 때 굉장히 쉽게 공부할 수 있겠죠 좋아요 어떤 내용이 또 다시 나오냐면요 반직선 ㄱ, ㄴ과 반직선 ㄴ, ㄱ은 같을까요? 다를까요? 선생님 설명 지금 열심히 들은 친구들은 바로 대답했을 것 같아요 바로 정답은 달라요 왜 다를까? 반직선 ㄱ, ㄴ과 반직선 ㄴ, ㄱ은 시작점과 지나는 점이 서로 다르기 때문에 두 반직선은 서로 달라요 라고 구분해 줄 수 있답니다 자 그러면 우리 친구들 이제 수혜력 확인해 볼게요 우리는 고든선과 굽은선을 구분할 수 있었어요 그래서 고든선은 이렇게 반듯하게 굽은선은 휘어지거나 굽어지게 그럼 직접 한번 그려 볼게요 다음 삼각형에서 찾을 수 있는 고든선을 모두 그어 보세요 라고 했습니다 자 우리 친구들은 자를 대고 좀 더 반듯하게 그어 보세요 선생님 자가 있다고 생각하고 여기에 이렇게 반듯하게 대서 짠 그어 보고 여기도 자를 이렇게 대서 짠 그어 볼게요 여기도 그어 보면 이렇게 세 개를 그을 수 있네요 좋아요 자 이번에는 선분 반직선 직선을 한번 찾아보도록 하죠 점 ㄱ과 점 ㄴ을 곱게 이은 선이네요 이제 딱 봐도 너는 어떤 친구야 라는 거 우리 알 수 있죠? 바로 두 점을 곱게 이었기 때문에 선분이에요 너의 이름은 선분이구나 그런데 선분은 점 ㄴ 에서 점 ㄱ 까지 이었다고 볼 수 있기 때문에 이름이 무려 두 개나 됩니다 그래서 선분ㄱㄴ 또는 선분ㄴㄱ 이라고 합니다 자 그러면 우리 네모 안에 선분을 넣어 주면 되겠네요 좋아요 그럼 이제 5번 문제 다음 그림을 보고 네모 안에 알맞은 말을 써놓으세요 라고 했어요 우리 친구들 선생님하고 이제 5번 그리고 이제 다 풀어 보진 않을 텐데 나머지 문제는 숙제입니다 꼭 이 시간이 끝나고 우리 친구들 스스로 풀어 줘야 돼요 자 지금 점 ㅁ 하고 점 ㅂ 을 곱게 이은 선이에요 그렇기 때문에 이 선의 이름 넌 누구니? 그렇죠 선분이죠 그래서 선분은 이름이 두 개 선분 ㅁ ㅂ 또는 선분 바꿔서 ㅂ ㅁ 이라고 합니다 자 그 다음 이번에는 6번 보세요 어 넌 누구니? 점 ㅅ 에서 시작해요 점 ㅇ 을 지나는 곧은 선이에요 아 끝점이 하나로구나 그러면 반직선이죠 그래서 반직선 ㅅㅇㅣ 라고 합니다 자 반직선 ㅇㅅ은 아니에요 달라요 그 다음 8번 보세요 자 넌 누구니? 어 보니까 두 점을 양쪽으로 끝없이 느린 선이네요 그렇기 때문에 점 ㅊ과 점 ㅌ 을 곱게 이은 선을 양쪽으로 끝없이 느린 선임으로 바로 직선 ㅊㅌ 또는 직선 ㅌㅌ 이라고 합니다 좋아요 자 그 다음 우리 이제 도영이 이름을 한번 찾아보도록 할게요 우리 친구들 앞에서 우리가 연습했으니까 넌 누구니 했을 때 뭘 찾으면 돼요? 양 끝점을 찾으면 되겠죠 자 보니까 ㄴ 에서 점 ㄴ 에서 점 ㄷ 까지 그래서 선분, ㅁ, ㄷ 이 되겠습니다 그 다음 그럼 우리 직접 한번 연습해 볼까요 점 ㅁ 에서 점 ㅂ 까지 그러니까 선분, ㅂ, ㅁ 이 되겠죠 이렇게 이름도 찾을 수 있습니다 자 그러면 이 도영은 넌 누구니? 점 ㅈ을 시작으로 해서 점 ㅇ 을 지나는 선이에요 그러니까 바로 반직선이 되겠죠 어 근데 반직선 이름이 이렇게 두 개나 있는데 이 중에 누굴까요? 선생님이 어느 점부터 먼저 시작하자 맞아요 점 시작하는 점 시작점이 점 ㅈ 이니까 자 반직선 ㅈ, ㅇ 이 맞아요 그래서 여기에 이름을 찾을 수가 있겠습니다 자 그럼 12번은 양쪽으로 두 점을 이렇게 끝없이 느린 선이죠 그러니까 직선이에요 그래서 직선 ㅍ, ㅍ 그래서 마지막 이름에다 동그라미 해주면 되겠습니다 자 그러면 우리 직접 한번 그려볼 수도 있어야 되겠죠 지금 선분, ㄹ, ㅁ은 ㄹ 에서 점 ㄹ 에서 점 ㅁ 까지 곱게 이어주면 돼요 그러면 우리 반직선 ㅅ, ㅇ 을 한번 그려볼까요 시작을 어디? 점 ㅅ 에서 ㅇ 을 진하게 쭉 우리 친구들은 자를 대고 그려보세요 이렇게 그려주면 되겠고요 자 그 다음에 직선입니다 ㅍ, ㅌ 어때요? 두 점을 양쪽으로 끝없이 느린 선이니까 자 이렇게 진하게끔 우리 친구들은 자를 대고 선생님 조금 휘었는데 만약에 자를 대고 똑바로 그린다면 요렇게 그려질 수 있겠죠 자 그럼 이제 우리 수혜력도 확인해봤으니까 이번에는 수혜력을 높일 차례예요 먼저 1번 문제부터 볼게요 선생님이 모든 문제를 다 풀어줄 때도 있겠지만 못 풀어주는 경우도 있거든요 그럴 때는 나머지 문제는 뭐라고요? 맞아요 숙제입니다 우리 친구들 꼼꼼하게 이 시간 끝나고 할 거라고 선생님 굳게 믿고 있을게요 자 그러면 관계 있는 것끼리 선으로 이어보세요 라고 했어요 먼저 첫 번째는 어때요? 곧은 선과 굽은 선으로 구분해야 되는데 반듯하게 그어졌어요 그러니까 곧은 선 두 번째는 오잉 이렇게 휘어져 있네요 그러니 굽은 선 세 번째 선은 곧게 반듯하게 그어졌죠 그래서 곧은 선 그 다음에 휘휘 이렇게 휘어져 있어요 그래서 굽은 선으로 짝 지어주면 되겠습니다 자 그럼 이번엔 도영의 이름 우리 이거 수혜를 확인하기 위해서 해봤잖아요 이제 거뜬하게 할 수 있겠죠 다음 도영의 이름을 써보세요 라고 했습니다 넌 누구니? 아 점 디귿에서 점 리을까지 그어졌어요 그러니까 선분, 디귿, 리을 아니면 선분은 이름이 두 개라고 했잖아요 또는 선분, 리을, 디귿 다 맞습니다 그 다음에 두 번째 점 미음을 시작으로 해서 점 비음을 지나는 선이에요 반직선이죠 그래서 반직선 미음, 비음 바꿨으면 돼요? 안 돼요? 안 돼요 그 다음 3번 지금 보니까 점 시옷과 점 이응을 양쪽으로 끝없이 느린 선이에요 지나고 있어요 그러면 이런 선 바로 직선이 되겠네요 얼마나 긴지 우리 상상할 수도 없어요 그렇기 때문에 직선, 시옷, 이응 또는 이름 두 개라고 했잖아요 그러니까 직선, 이응, 시옷 두 개가 다 가능합니다 자 그럼 우리 이제 이름도 찾았고 이제는 우리 친구들 문제에서 직선, 디귿, 리을을 찾아 동그라미 표하세요 라고 했어요 우리 선 친구들의 이름 알았으니까 이제 바로 이 친구를 찾아야 되겠죠 직선이에요 그리고 디귿, 리을이라고 했으니까 점, 디귿과 점, 리을을 양쪽으로 이렇게 끝없이 느린 선을 말하는 거죠 어디 볼까? 첫 번째는 점, 디귿을 시작점으로 해서 점, 리을을 지나고 있으니까 반직선 이름 써볼까요? 반직선, 디귿, 리을이구요 어? 지금 두 번째 선 보세요 휘어져 있죠 그러니까 고든선이 아니에요 우리가 지금 배웠던 선분, 반직선, 직선 친구들은 모두 고든선 친구들이란 말이에요 그렇기 때문에 우리가 여기에서는 직선, 디귿, 리을도 아니고 고든선도 아니다 그 다음에 세 번째 그림을 보니까 점, 디귿과 점, 리을을 양쪽으로 끝없이 느린 선 맞죠? 맞아 너의 이름이 직선, 디귿, 리을이야 또는 직선, 리을, 디귿이야 이렇게 읽어줘도 되겠습니다 세 번째 동그라미표 할 수 있겠죠? 자, 이제 우리 직접 그어 보기도 할게요 문제 3분 비읍, 디귿을 그어 보세요 라고 했습니다 비읍이 어디 있나요? 점, 비읍은 여기 있구요 점, 디귿은 여기 있어요 선분이니까 양 끝점이 몇 개? 두 개 자, 자를 대고 우리 친구들 반듯하게 그어주세요 점, 디귿부터 비읍까지 또는 점, 비읍부터 점, 디귿까지 이렇게 이어주면 되겠습니다 좋아요, 3분도 그려봤구요 그 다음 5번 다음 도영에 대해 잘못 설명하고 있는 친구의 이름을 쓰고 그 이유를 써보세요 라고 했습니다 우리 새 친구가 열띠게 이 얘기를 하고 있는데 일단은 이 선에 대해서 말하고 있어요 먼저 우리 어떤 선인지 우리가 먼저 알아본 다음에 우리 새 친구가 하는 말을 확인해 볼게요 지금 보니까 점, 기억, 점, 니은이 있구요 그 다음 끝점이 있나요? 있어요! 바로 점, 니은입니다 그럼 점, 니은을 시작점으로 해서 점, 기억을 지나는 고등선이죠 그렇기 때문에 아, 너의 이름은 반직선이구나 그리고 반직선, 니은, 시작점부터 쓰고요 기억이구나 라는 거 우리가 파악했습니다 자, 그럼 우리 새 친구들이 뭐라고 얘기하는지 볼까요? 먼저 은율이 고등선으로, 고등선으로 이었구나 맞아요? 네, 고등선이죠. 휘어져 있지 않죠 그러니까 우리 은율이가 하는 말은 맞아요 그 다음에 하주 점, 니은에서 시작하여 점, 기억을 지나 곱게 그었으니까 반직선, 니은, 기억이라고 부를 수 있어 어? 우리가 알아봤잖아요 먼저 그대로 말하고 있네요 그럼 하주도 옳게 이야기를 했어요 그러면 우리 찬영이는 뭐라고 했는지 볼까요? 점, 기억과 점, 니은을 지나는 반직선이므로 반직선, 기억, 니은이라고도 할 수 있어 라고 했네요 자, 반직선, 기억, 니은 이 반직선은 점, 기억을 시작점으로 해서 니은을 지나는 반직선이에요 그러니까 시작점부터 이름을 반대로 얘기를 했죠 아, 그래서 우리 찬영이가 잘못 설명했구나라는 걸 알 수 있습니다 따라서 잘못 설명한 친구의 이름은 찬영이가 되겠고요 그리고 그 이유는 바로 반직선, 기억, 니은과 자, 반직선, 니은, 기억은 시작점과 지나는 점이 달라요, 같아요, 다르죠 다르기 때문에 두 반직선은 같아요, 달라요, 다릅니다 그런데 같아라고 했으니까 우리 찬영이는 잘못 설명했어요 자, 이렇게 내용 쓸 수 있겠습니다 자, 이제 수혜력도 높여 봤으니까 우리 친구들 실생활 활용해서도 우리가 배운 내용 생각할 수 있겠죠 자, 문제 볼게요 지혜가 비행기를 타고 서울에서 부산까지 가려고 합니다 가장 빠르게 가기 위해서는 어느 도시 위를 지나게 될까요? 라고 했어요 자, 지금 서울에서 부산까지 우리 지도에서 서울이 어딘지 찾아보면 여기죠 그리고 부산은 여기입니다 가장 빠르게 간다는 것은 바로 서울 요지점을 점으로 찍고 그리고 부산에서 점으로 찍어 가지고요 곱게 이은 곧은 선이 가장 빠른 길이 되겠죠 이렇게 막 돌아 돌아 돌아 이렇게 돌아가면 굉장히 멀잖아요 그래서 두 점을 이어주는 선 중에 가장 짧은 선이기도 하답니다 그렇기 때문에 짠 이어줬더니 어머 이 선분위에 대구가 떡하니 있어요 그렇다면 어느 도시 위를 지나게 될까요? 라고 했을 때 대구를 지나는구나 라는 걸 알 수 있죠 따라서 정답은 3번 대구가 답이 되겠습니다 자, 이렇게 실생활도 활용을 해봤습니다 우리 친구들 이제는 수외력을 완성하는 실력까지 왔어요 자, 선생님하고 이제 수외력 완성하면 이 시간이 끝나면 우리 친구들 수학실력이 한층 높아질 겁니다 먼저 문제가 술술 머릿속에 들어오지 않을 수도 있어요 그리고 한 번의 답이 딱 떠오르지 않는다고 포기하지 않기에요 자, 먼저 첫 번째 대표용형 1번은 점을 이어서 선분을 그어주는 그런 문제입니다 문제 읽어 볼게요 다음 그림에 있는 점들을 이어 선분을 그으려고 합니다 그을 수 있는 선분은 모두 몇 개인지 구해 보세요 라고 했어요 다음 그림에 점이 몇 개인가 세볼까요? 점기역, 점ㄴ, 점ㄷ 세 개가 있네요 그러면 우리 친구들 선분을 만들려면 점 몇 개가 필요해요? 그래요 두 개가 필요합니다 양 끝 점 두 개가 필요하거든요 그러면 어떻게 생각하면 될까? 자, 우리 해결하기 위해서 1단계부터 차근차근 생각해 봐요 먼저 점기역, 점ㄴ, 점ㄷ 중에 그냥 이 점 생각했다가 저 점 생각했다 그러면 헷갈려요 그리고 저걸 셌던가 막 이제 빼먹고 셀 수도 있기 때문에 우리 친구들은 이런 복잡한 과정들을 하나하나 셀 때는 순서를 정하는 게 되게 중요하거든요 순서는 간단해요 우리 기역, ㄴ, ㄷ, ㄹ 순서대로 점기역부터 생각해 보는 거죠 그래서 점기역에서 그을 수 있는 선분 자, 직접 그려 볼게요 자, 선분기역ㄴ과 선분기역ㄷ 두 개가 되는 거 찾았어요 그럼 이번에는 점ㄴ에서 그을 수 있는 선분 찾아 볼게요 자, 선분ㄴㄱ, 선분ㄴㄷ 있네요 그래서 선분ㄴㄱ, 선분ㄴㄷ 여기도 마찬가지로 두 개가 있다 그리고 이번에는 점ㄷ에서 그을 수 있는 선분 알아볼게요 자, ㄷ에서는 선분, 이렇게 ㄷ에서 기역까지 점ㄷ에서 점ㄴ까지 그래서 선분ㄷ기역, 선분ㄷㄴ 어? 이것도 두 개네요 아, 선생님 찾았어요 두 개, 두 개, 두 개, 여섯 개입니다 라고 하면 땡 자, 2단계에서는 우리 친구들이 뭘 생각해야 되냐면 선분, 기역, ㄴ 선분, ㄴ, 기역은 서로 달라요, 같아요? 그래요, 하나의 선분 선생님이 이름이 두 개라고 그랬잖아요 그렇기 때문에 이름을 달리 부른 거지 이 두 선분은 같은 선분입니다 같아요 그렇기 때문에 겹쳐지는 것은 바로 몇 개로 생각해야 되냐 선분, 기역, ㄴ, 하나 선분, ㄴ, 기역, 하나 이렇게 해서 총 두 개가 아니라 바로 하나로 생각해야 되는 거죠 아, 그렇기 때문에 우리가 앞에서 생각한 두 개, 두 개, 두 개에서는 서로 겹쳐지는 것들이 있었구나 그래서 모두 세 개라고 봐야 됩니다 지금 이처럼 그림에서도 하나, 둘, 셋 세 개가 그려지는 거 확인할 수 있죠? 좋아요 그러면 우리 친구들 조심해야 되는 부분은 뭘까 겹쳐지는 것을 잘 세줘야 되겠구나라는 걸 느꼈죠? 자, 그러면 우리 연습해 볼게요 다음, 그림에 있는 점들을 이어 선분을 그으려고 합니다 그을 수 있는 선분은 모두 몇 개인지 구해보세요 라고 했어요 점이 몇 개 있냐면 네 개가 있네요 그럼 선생님하고 우리 점 미음부터 선분을 그어 볼게요 자, 선분, 미음, 비음 선분, 미음, 시음 선분, 미음, 이응이 있어요 몇 개 그을 수 있죠? 세 개를 그을 수 있었어요 그러면 점, 비음에서 그을 수 있는 선분 마찬가지로 선분, 비음, 미음 선분, 비음, 시음 선분, 비음, 이음 이렇게 똑같이 얘도 세 개가 있습니다 자, 그러면 점, 시음에서 그을 수 있는 것은 선분, 시옷, 미음 선분, 시옷, 비음 선분, 시옷, 이응이니까 얘도 세 개가 되겠네요 자, 그럼 이번엔 점, 이응에서 그을 수 있는 선분도 이렇게 하나, 둘, 셋 세 개를 그을 수 있어요 세 개, 세 개, 세 개, 세 개 아, 바로 12개야! 라고 좋아하면 안 됩니다 아까 선생님하고 대표문제를 풀어 보면서 뭐 조심해야겠다라는 거 느꼈죠? 맞아요 겹쳐지는 선분을 조심해야겠다라는 거 느꼈잖아요 그렇기 때문에 지금 세 개, 세 개, 세 개, 세 개 이렇게 이제 12개 안에는 하나의 선분을 두 번이나 생겁니다 선분, 미음, 비음 선분, 비음, 미음이 다 들어가 있는 거예요 그렇기 때문에 원래의 선분은 바로 몇 개라고 할 수 있을까요? 그렇죠 바로 12개에서 바로 겹쳐지는 거를 빼면 6개가 되는 걸 알 수 있어요 따라서 정답은 우리 친구들 6개가 되겠습니다 자, 그런데 우리가 겹쳐지는 걸 생각하지 않고 이렇게도 구하는 방법이 있어요 선생님하고 조금 다르게 한번 구해 볼게요 그림으로 이제 그려가면서 한번 해보죠 어떻게 그어주냐면 처음부터 새로운 선분의 개수만 세 보는 거예요 그래서 점, 미음에서 출발해 가지고 그을 수 있는 선분을 선생님하고 그려보면 나머지 점이 3개니까 이렇게 3개를 그었어요 그 다음에 이제 점, 비음에서부터 출발하는 선분을 그어 볼 건데 이미 미음까지는 그을 필요가 없죠 앞에서 그었으니까 우리가 새로운 선분을 그으려면 나머지 뒤에 있는 점 2개하고만 이어주면 되니까 이렇게 두 개를 이어서 두 개를 새로 그렸다 그러면 점, 시옷에서는 앞에서 이미 두 개가 그려졌으니까 새롭게 그어주는 선분은 이응까지 이어주는 점, 이응까지 이어주는 한 개만 그리면 되는 거고 아니 세상에 점, 이응은 아이고 편하다 가만히 있었더니 앞에서 다른 점들에서 다 이미 그어졌어요 그러니까 그냥 가만히 있어도 이미 점, 이응을 끝점으로 하는 선분들이 다 그려졌기 때문에 새롭게 그릴 선분이 없는 거죠 따라서 다음과 같이 3개, 2개, 1개를 이렇게 더해도 마찬가지 6개가 나옵니다 이렇게 세는 방법도 있다라는 거 우리 친구들 어떤 방법이 더 편해요? 내가 편한 방법대로 세면 됩니다 그 대신 정확하게 세는 거 잊지 말고요 그 다음에 1-2번은요 다음 그림에 있는 점들을 이어 직선을 그으려고 합니다 그을 수 있는 직선은 모두 몇 개인지 구해보세요 라고 했어요 자 이번엔 직선이니까 양 끝점이 없고요 양 끝점을 양쪽으로 이제 끝없이 늘인 선을 말하는 거예요 그러면 이것도 바로 여기서부터 먼저 이 점을 지나는 직선이 몇 개 그을 수 있는지 한번 세보도록 할게요 점, 지읒과 점, 치읒을 지나는 거 그 다음에 키읒을 지나는 거 이렇게 몇 개, 3개를 그을 수 있죠 그러면 점, 치읒을 지나는 거 직선, 치읒, 지읒 이렇게 얘도 마찬가지로 3개를 그을 수 있어요 그러면 점, 키읒을 지나는 직선도 똑같이 3개를 그릴 수 있겠네요 이렇게, 이렇게, 그 다음에 또 같은 직선이니까 이렇게 그래서 3개를 그어줄 수 있고 자, 키읒을 지나는 직선도 하나, 둘, 셋 이렇게 3개를 그어줄 수 있어요 그러면 선생님하고 샌 것은 3 더하기 3 더하기 3 더하기 3이니까 12개인데 그렇다고 직선이 12개는 아니겠죠 왜냐하면 바로 직선, 지읒, 치읒과 직선 치읒, 지읒은 같은 직선이랍니다 그렇기 때문에 지금 이 12개 안에는 아니 하나의 직선을 두 번씩 샌 거와 다름이 없어요 선분처럼요 그래서 바로 겹쳐지는 직선을 빼주면 이제 6개가 되는 걸 알 수가 있습니다 아, 직선이라고 하더라도 우리가 앞에서 봤던 선분하고 겹쳐지는 걸 빼는 건 똑같구나 라는 거 알아주세요 자, 따라서 정답은 6개가 답이 되겠습니다 자, 그럼 이번에는요 조금 달라졌어요 그래도 이제 할 수 있어요 다음 그림에 있는 점들을 이어 반직선을 그으려고 합니다 그을 수 있는 반직선은 모두 몇 개인지 구해보세요 라고 했습니다 아까처럼 겹쳐지는 거 빼면 되겠지 라고 생각하기에는 우리 반직선에서는 시작점과 지나는 점이 다르니까 다른 반직선 이름을 바꿔 부를 수 없었잖아요 그 점 주의해주세요 그러면 먼저 점 이응을 시작점으로 하는 반직선을 세어 볼게요 반직선 이응 치읓 반직선 이응 키읓 반직선 이응 치읓 그래서 몇 개? 3개 그 다음에 점 치읓을 시작점으로 하는 반직선 반직선 치읓 이응 자, 반직선 치읓 키읓 반직선 치읓 지읒입니다 그래서 3개 그 다음에 그럼 여기서도 똑같이 3개가 나오겠죠 하나 둘 셋 그리고 점 치읓에서 시작하는 것도 똑같이 3개가 나오겠죠 반직선 치읓 이응 이렇게 3개 그럼 뭐예요 우리 시작점이 다 다르니까 바로 3개 3개 3개 더 했을 때 12개가 되는 것은 겹치는 반직선이 하나도 없는 거예요 따라서 정답 바로 12개의 반직선이 있어요 가 답이 되겠습니다 음 그럼 우리 친구들 선분하고 직선은 이름을 바꾸어도 같은 선분과 같은 직선이라서 우리가 겹치는 것을 생각해 줘야 되겠지만 반직선 같은 경우에는 이 두 점으로 만들 수 있는 반직선은 그럼 몇 개가 되는 거죠 자 이쪽 방에 여기 시작으로 이쪽을 지나는 거 여기를 시작으로 이쪽 점을 지나는 거 그래서 두 점으로 만들 수 있는 반직선은 두 개라는 거 잊지 마세요 그럼 이제 오늘의 마지막 문제 갑니다 다음 그림에 있는 점들을 이어 삼각형을 그리려고 해요 그릴 수 있는 삼각형은 모두 몇 개인지 구해 보세요 아 이제 선분 반직선 직선에서 이렇게 삼각형까지 우리는 확장을 할 수 있답니다 자 그럼 삼각형이 그려주려면 점이 몇 개가 필요한가요? 하나, 둘, 셋, 세 개가 필요하거든요 그럼 지금 그림에 점이 몇 개? 네 개예요 선생님이 이 점 저 점이라고 말하기 불편하니까 우리 점에다가 이름을 좀 붙여 줄게요 너는 1번 점, 너는 2번 점, 너는 3번 점, 너는 4번 점이라고 했을 때 일단 4개 중에 3개를 골라야 한다면 한 점은 선택이 안 된다라는 거죠 그래서 4번을 빼고 나머지 1번, 2번, 3번을 연결해서 이렇게 삼각형 하나를 만들 수 있고요 이번에는 3번을 빼고요 1번, 2번, 4번을 연결해서 삼각형을 만들 수도 있겠죠 자 4번 뺐고 3번 뺐죠? 그럼 2번을 빼고 바로 1번, 3번, 4번을 연결해서 이러한 삼각형도 만들 수 있고 이제 1번을 빼고 다음과 같이 2번, 3번, 4번을 연결해서 만들 수도 있어요 그럼 4개 중에 각각 하나씩 뺐으니까 몇 개의 삼각형이 만들어져요? 그렇죠 4개의 삼각형이 만들어진다 라는 것도 알 수 있습니다 좋아요 이렇게 선분해서 시작해 가지고 삼각형까지 우리가 그려보는 것까지 확장을 했습니다 자 오늘의 미션 클리어! 선친구들아 너희의 이름은 뭐니? 끝점에 따라 선분, 반직선, 직선의 이름을 갖고 있다라는 거 배웠죠? 좋아요 자 이렇게 해서 우리 오늘 내용 마쳤습니다 우리 친구들 선생님하고 공부했던 내용 중에 궁금한 거 있으면 언제든지 질문 많이 많이 해주고요 다음 시간에는 또 새로운 내용으로 다시 찾아올게요 여러분들 오늘 고생 너무 많았어요 안녕\n",
      "01강평면도형(1)_초등수해력-도형·측정3단계.mp3에 대한 텍스트가 ./ebs_script/new/01강평면도형(1)_초등수해력-도형·측정3단계.txt로 저장되었습니다.\n",
      "Transcription for 02강1-2_다양한평면모양알아보기 1-3_여러가지모양으로만들기_초등수해력-도형·측정1단계.mp3:\n",
      "친구들, 안녕하세요. 초등수외력 도형 측정 1단계 함께 공부할 정소연 선생님입니다. 오늘은 지난 시간에 이어서 1-2, 그리고 1-3 단원의 공부를 함께 해 볼 거예요. 지난 시간에는 상자 모양, 둥근 기둥 모양, 그리고 곡 모양에 대한 이야기를 했죠. 이런 것을 입체선으로 공부해 볼 거예요. 지난 시간에는 상자 모양, 둥근 기둥 모양, 그리고 곡 모양에 대한 이야기를 했죠. 이런 것을 입체도형이라고 하는데요. 오늘은 그것 말고 이렇게 생긴 모양들에 대해서 알아볼 거예요. 지난 시간과 뭐가 다른지 좀 알겠나요? 그리고 그 뒷부분에는 여러 가지 모양으로 만드는 내용에 대한 공부를 해 보겠습니다. 앞부분 절반, 뒷부분 절반이니까 오늘 여기까지 공부할래요 하는 친구들은 앞부분 절반만 듣고, 나머지는 다음 공부할 때 들어주시면 됩니다. 무슨 말인지 알겠죠? 자, 그럼 오늘의 첫 번째 내용부터 함께 출발해 볼게요. 네, 오늘도 새로운 모양이 나와요. 사실 우리 친구들 이렇게 생긴 모양 굉장히 많이 봤을 거예요. 자, 이 모양 어떻게 그릴 수 있는지 한번 보여 줄게요. 빈 종이에 이렇게 점을 하나, 둘, 셋, 네 개 찍고요. 그 점들을 이어서 선으로 연결해 주면 이런 모양이 나와요. 이것과 비슷한 모양을 우리 주변에서 찾아보면 어떤 게 있냐면요. 이런 버스 모양의 그림, 또는 창문, 또는 편지 봉투 이런 모양들이 있어요. 우리 친구들 여기에서 다 이렇게 생긴 모양, 그 다음 그 안에 창문들 모양, 그리고 뭐 이런 모양도 있고요. 여러 가지 모양들이 있습니다. 우리 친구들은 선생님보다 더 많이 찾았죠? 자, 이런 모양들을 모두 보면요. 특징이 있어요. 어떤 특징이 있냐면, 보세요. 이렇게, 이렇게 뾰족뾰족한 부분이 들어 있어요. 그리고 선 부분은요. 구부러지지 않고 이렇게 반듯 반듯 한 것을 알 수 있습니다. 이건 우리 친구들이 이미 다 알고 있는 거죠. 자, 그럼 이 모양에 이름을 한번 붙여 보자. 뭐라고 부르면 좋을까요? 우리 친구들이 스스로 이름을 붙여 주세요. 선생님은 이런 모양을 네모 모양이라고 이름 붙여 볼게요. 아, 그러면 네모 모양 어디에서 찾을 수 있는지 하나씩 봅시다. 이건 뭘까요? 맞아요. 짜잔! 액자예요. 액자 안에 이렇게 생긴 네모 모양이 있어요. 그 다음 이건 뭐게요? 맞아요. 달력. 달력에도 이렇게 네모 모양이 들어 있고, 어린이 백과사전이라고 생긴 이 책에도 네모 모양이 있고요. 어? 태극기다! 태극기에도 네모 모양이 있어요. 우와, 돈도 있네요. 만원짜리 지폐에도 네모 모양이, 그리고 칠판 속에도 네모 모양이 숨어 있다는 것을 알 수 있어요. 그리고 우리 친구들, 지금 주위를 한번 둘러보세요. 우리 친구들, 있는 곳에 어디인가 네모가 분명히 있을 거예요. 알겠죠? 그런 것들을 많이 찾으면 찾을수록 수학실력이 쑥쑥 올라가는 거예요. 자, 그럼 이 네모 모양을 자세히 관찰해 보고 뭐라고 설명할 수 있을지 공통점을 이야기해 보는 시간이에요. 여기 있는 세 명의 친구가 뭐라고 이야기했는지 하나씩 살펴볼까요? 네모 모양은 뾰족한 곳이 네 군데예요. 어우, 맞아. 네모 모양을 보니까 이렇게 뾰족한 곳이 하나, 둘, 셋, 네 군데 있잖아요. 자, 그 다음 두 번째. 네모 모양은 반듯한 선이 네 군데예요. 반듯한 선은 어디일까요? 맞아요. 이런 선 부분이 셋, 넷, 모두 반듯 반듯하게 되어 있죠. 이게 네 군데 있어요. 그 다음 세 번째. 네모 모양은 잘 굴러가지 않아요. 맞아요. 우리 친구들 이렇게 네모 모양으로 바퀴를 만들어서 굴린다고 생각해 보세요. 이 바퀴가 잘 굴러갈까요? 그렇지 않겠죠. 그래서 네모 모양은 잘 굴러가지 않아요 라고 이야기한 거예요. 자, 그럼 이번에는 또 다른 모양을 한번 살펴볼게요. 이번에 그릴 수 있는 모양, 이렇게 하는 거예요. 빈 종이에 점을 세 개 찍어요. 짠짠짠. 그리고 그 점 세 개를 이어서 짠, 짠, 짠. 이렇게 도형을 하나 만들었어요. 이 모양은 우리 친구들 주변에서 어디에서 찾을 수 있는지 한번 잘 둘러보세요. 알겠죠? 이 모양을 여기 교재에서는 이렇게 찾았대요. 어, 물고기 모양의 작품에서도 찾았고요. 나비 모양의 작품에서도 찾았고, 어, 우리 친구들 좋아하는 수박에서도 찾았어요. 모두 잘 찾았나요? 자, 그럼 이런 모양을 우리 주변에 또 어디에서 찾을 수 있는지 한번 볼게요. 이런 교통 표지판에서도 찾아볼 수 있고요. 그 다음, 선생님이 좋아하는 삼각김밥 안에도 있고, 그 다음 이렇게 생긴 자도 있어요. 혹시 본 적 있나요? 그리고 이건 뭘까? 어떤 작품인 것 같아요. 그 다음, 우리 집에 있는데 이거 옷걸이에도 있고요. 트라이앵글이라고 하는 악기에도 들어있어요. 자, 우리 이 모양 다 찾아봤나요? 그러면 우리 지금 뭐 해야 돼요? 이 모양에도 이름을 붙여볼게요. 우리 친구들은 뭐라고 붙이고 싶어요? 선생님은 세모모양이라고 이름 붙여볼게요. 친구들이랑 혹시 생각이 똑같나요? 아니면 더 재밌을 것 같은데... 자, 그럼 이 세모모양을 자세히 관찰했을 때 어떤 특징이 있는지 한번 살펴볼게요. 먼저 첫 번째 친구, 이렇게 말합니다. 세모모양은 뾰족한 곳이 세 군데예요. 자, 뾰족한 곳 어딨죠? 여기, 뾰족, 뾰족, 뾰족, 세 군데 있죠? 그 다음, 세모모양은 반듯한 선이 세 군데예요. 라고 했어요. 어, 반듯한 선이 어딨죠? 여기, 선, 선, 선이 모두 다 반듯해요. 그 다음, 세 번째, 세모모양은 잘 굴러가지 않아요. 이것도 마찬가지로 한번 생각해봐요. 자동차 바퀴를 이런 세모모양으로 만들면 이 자동차가 잘 굴러갈 수 없겠죠? 그러니까 잘 굴러가지 않아요. 라고 이야기한 거예요. 자, 이번에는 또 다른 모양을 알아볼 거예요. 이제 어떻게 하냐면, 점을 하나 찍어요. 점을 찍고, 이 점에서 동그랗게 빙글 한 바퀴 돌려볼게요. 자, 이렇게 돌리면, 어! 동글동글한 모양이 나왔어요. 그쵸? 이런 모양 어디에서 찾아볼 수 있죠? 풍선에도 있고, 이렇게 해님을 그릴 때도 나오고, 우와, 눈사람을 그릴 때도 나와요. 맞나요? 우리 친구들 다 따라 그리고 있죠? 그 다음, 이런 모양을 또 어디서 찾을 수 있냐면요. 둥근 모양의 거울에서도, 그리고 교실벽에 걸려있는 시계에도 있고요. 우와, 맛있는 피자에도 있어요. 그리고 500원짜리 동전에도 있고, 관역판에도 있고, 우와, 맛있는 사탕에도 있어요. 자, 이 모양들에 다 표시를 해보니까, 이 모양 뭐라고 부르면 좋을 것 같아요? 동글동글, 둥글둥글. 선생님은 동그라미라고 이름을 붙여 볼 거예요. 우리 친구들도 이름을 붙여 보세요. 그럼, 이 동그라미 모양에는 어떤 특징이 있는지 한번 볼까요? 짜잔! 동그라미 모양을 자세히 관찰해 보면요. 첫째, 동그라미 모양에는 뾰족한 곳이 없어요. 어? 뾰족한 곳이 없어? 그렇지, 지금 온통 동글동글동글동글하지, 뾰족하게 찔릴 것 같은 부분이 전혀 없잖아요. 그 다음 두 번째, 동그라미 모양은 잘 굴러가요. 어, 맞아요. 그러고 보니까 우리가 자동차나 오토바이나 버스나 바퀴를 그릴 때, 항상 이렇게 동글동글 동그란 모양을 그리죠. 그 다음 셋째, 동그라미 모양은 구분선으로 이루어져 있어요. 어? 구분선이 뭐예요? 자, 이렇게 생긴 선을 반듯한 선이라고 하고, 이렇게 생긴 선을 구분선이라고 해요. 동그라미 안에는 이렇게 생긴 선이 있죠? 그래서 구분선이다라고 이야기하는 거예요. 이해 되나요? 자, 그러면 이번에는 어떤 모양인지 알아맞히는 활동 한번 생각해 볼게요. 일단 우리가 방금 배웠던 내용을 다시 정리하고 가볼게요. 첫 번째, 짜잔! 네모 모양은 뾰족한 곳과 반듯한 선이 각각 네 군데씩 있어요. 기억나죠? 그 다음 세모 모양은 뾰족한 곳과 반듯한 선이 각각 세 군데 있고요. 그 다음 이런 동그라미 모양은 뾰족한 곳이 없고 둥근 부분만 있다고 했어요. 모두 잘 기억하고 있죠? 그러면 어떤 모양인지 한번 생각해 보는 거예요. 우리 생활 주변에 있는 물건 중에 하나를 딱 가지고 와서 그 물건을 빈 종이에 올려놓고 이렇게 테두리를 따라 연필로 그림을 그려보는 거예요. 둘러서. 그림을 그렸을 때 어떤 모양이 나올까를 맞춰보는 거예요. 이건 우리 친구들이 직접 어른들과 꼭 한번 해보세요. 알겠죠? 예를 들어서 이런 주사위 모양을 바닥에 놓고 짠짠짠 그림을 그리면 이렇게 짜잔 네모 모양이 나와요. 그 다음 이건 뭘까? 지우개 같은데요? 지우개를 놓고 이렇게 생긴 지우개를 놓고 짠 그림을 그리니까 어? 세모 모양이 나왔네? 그 다음 이렇게 생긴 물통을 바닥에 놓고 그림을 따라 그렸더니 우와! 동그란 모양이 나왔어요. 그러니까 우리 생활 주변에 있는 여러 가지 물건들도 바닥에 놓고 그림을 그리면 우리가 배운 모양 중에 하나가 나올 수도 있다는 거죠. 이해가 되나요? 자, 그러면 이제 여기까지 다 배운 것을 잘 기억하면서 몇 가지 문제 풀어보도록 하겠습니다. 오늘은 지난 시간보다 더 적은 문제를 풀 거예요. 그래도 나머지는 다 할 수 있겠죠? 일단 수회력을 높여요. 7번 문제 보겠습니다. 색종이를 선을 따라 잘랐을 때 이런 네모 모양과 세모 모양은 각각 몇 개 만들어지나요?가 질문이에요. 일단 네모 모양부터 찾아볼게요. 네모 모양 어딨지? 짜잔짠 여기 하나 있고 그리고 여기 또 하나 있네. 그래서 네모 모양은 모두 2개 그럼 세모 모양은요? 여기 하나 있고 그 다음 2개 있고 3개 있고 4개, 5개 있네. 그래서 정답 5개라고 적어 주시면 됩니다. 됐죠? 그럼 다음 문제 볼까요? 수회력을 완성해요. 대표 응용 1번 문제입니다. 오른쪽 물건을 본뜬 모양과 같은 모양을 모두 찾아 기호를 써보세요. 자, 지우개. 이렇게 생긴 지우개를 본뜬더니 어떤 모양이 나왔을까요? 맞아요. 이런 세모 모양이 나왔어요. 그러면 세모 모양을 찾아서 기호를 써주면 되네. 여기에서는 다, 그리고 마, 그리고 사 이렇게 찾을 수 있겠네요. 그런데 그 생각의 과정이 무엇인지 해결하기를 통해서 하나씩 살펴볼게요. 1단계. 지우개의 바닥을 본뜬 때 나오는 모양 뭐라고요? 맞아요. 세모 모양입니다. 세모에 동그라미 해주면 됩니다. 그 다음 2단계. 물건들이 어떤 모양인지 알아봅니다. 자, 여기에 있는 가나다라마바사 중에서 이 세 가지 물건은 어떤 모양이에요? 맞아요. 네모 모양의 특징을 가지고 있죠. 그래서 네모에 동그라미. 그 다음, 이 모양들은요. 어떤 모양이라고 할 수 있어요? 맞아요. 세모 모양입니다에 동그라미 해주면 되고요. 마지막, 이 두 물건은 어떤 모양이에요? 그렇죠. 이런 동그라미 모양이에요. 동그라미 해주시면 됩니다. 자, 그럼 이 중에서 세모 모양을 모두 찾아 기호를 쓰면 뭐라고 하면 된다고요? 자, 다, 그 다음 마, 그 다음 사입니다. 라고 적어주면 됩니다. 어떻게 하는지 알겠죠? 그럼 이번에는 하나만 더 풀어볼까요? 수외력을 완성해요. 대표용용 2번입니다. 이런 네모 모양에 대해 바르게 설명한 것을 찾아 기호를 써보세요. 라고 했어요. 네모 모양에 대해서 어떻게 설명하나? 기억 볼게요. 뾰족한 곳이 네 군데입니다. 맞나요? 맞네. 뾰족한 곳이 하나, 둘, 셋, 네 군데. 그 다음, ㄴ 반듯한 선이 세 군데입니다. 맞아요? 반듯한 선은 여기 하나, 둘, 셋, 넷. 어, 네 군데인데. 네 군데인데. 그러니까 ㄴ은 땡. ㄷ은요, 둥근 부분이 있다고 했어요. 어, 그런데 둥근 부분 아무데도 없죠. 그러니까 이것도 가위표. 그러니까 바르게 설명한 것은 기억이겠네. 라고 생각할 수 있어요. 그런데 어떤 생각의 과정을 거치나 한번 봅시다. 1단계에요. 네모, 세모, 동그라미 모양을 찾아보고 살펴봅니다. 일단 네모 모양 주변에서 찾을 수 있는 거. 맞아요. 달력. 세모 모양은요. 교통표지판. 동그라미 모양은요. 맞아요. 단추에요. 그럼 이렇게 모양을 딱 찾은 다음에 그 다음은 뭘 해야 될까요? 이 모양이 무엇을 설명하고 있는지 한번 볼게요. 기억. 뾰족한 곳이 네 군데. 네 군데라고요? 아, 그러니까 네모 모양. ㄴ 반듯한 선이 세 군데. 세 군데인 것은 세모 모양이죠. 그 다음 ㄷ 둥근 부분이 있는 것은 동그라미 모양을 각각 설명하고 있잖아요. 그러니까 최종적으로 우리 결론. 네모 모양에 대해 바르게 설명한 것을 찾아 기호를 쓰면 뭐라고요? 셋 중에서 기억이 정답입니다. 라고 말할 수 있다는 겁니다. 여기까지 내용 됐나요? 그러면 오늘 첫 번째 내용은 여기서 마무리하고 그다음 다음 단언으로 넘어가 보겠습니다. 자, 이번에는요. 여러 가지 모양으로 만드는 내용을 함께 살펴볼 거예요. 일단 지난 시간에 배웠던 모양의 이름들 다시 한번 떠올려 볼게요. 물론 그 이름은 선생님이 정한 거고 우리 친구들은 자신만의 이름을 가지고 있죠. 첫 번째, 이렇게 생긴 선생님은 상자 모양이라고 이름 붙인 것에는 라면 상자나 또는 선물 상자 같은 게 있다고 했어요. 그 다음 이렇게 둥근 기둥 모양의 얘는요. 옥수수 통조림 캔, 그 다음 물병 같은 것을 들 수 있다고 했고요. 공 모양의 얘로는 축구공이나 또는 지구의 모습을 들 수도 있다고 했습니다. 모두 기억나죠? 그럼 이번에는요. 이 세 가지 모양을 가지고 여러 가지 모양을 만들 수 있다는 것도 한번 생각해 볼게요. 첫 번째, 이 세 가지 모양을 가지고 이런 것도 만들고요. 이런 것도 만들 수 있어요. 우리 친구들 블록놀이 같은 거 하거나 만들기 놀이 하는 거 많이 하죠. 이때 나만의 작품을 만들 수 있잖아요. 예를 들면 이 작품을 만든 친구는 어떤 동물 모양을 표현한 것 같아요. 그리고 이 작품을 만든 친구는 뭔가 우주선이나 자동차나 아니면 잠수함 같은 걸 만든 것 같아요. 그렇죠? 그런데 이때 각각의 부분을 무엇으로, 어떤 모양으로 만들었는지 이렇게 자세히 살펴볼 수 있어요. 그 특징을 잘 알고 있으면 나만의 작품을 만들기도 훨씬 쉽거든요. 예를 들어 볼게요. 이 모양에서 이 몸통 부분 무엇으로 만들었나요? 맞아요. 둥근 기둥 모양으로 만들었죠. 그럼 이번에는 이 첫 번째 모양에서 이 노란 부분은 무엇으로 만들었어요? 맞아요. 납작한 상자 모양으로 만들었다는 것을 알 수 있어요. 그리고 아래쪽을 한번 볼게요. 여기에 우리 친구들에게 이런 모양들을 2개, 3개, 4개, 5, 6, 7, 8, 9 9개를 딱 주고는 이거 가지고 만들어 보세요. 마음껏 만들어 보세요. 이렇게 주어진 모양을 가지고 나만의 작품을 만들 수 있는 것도 이번 단언의 목표입니다. 그래서 우리 친구들이 이번 단언을 잘 공부하기 위해서는요. 이런 여러가지 모양들을 가져다가 이것을 어떻게 만들 수 있을까? 이렇게 주어진 모양을 가지고 나만의 작품을 만들 수 있는 것도 이번 단언의 목표입니다. 그래서 우리 친구들이 이번 단언을 잘 공부하기 위해서는요. 잘 공부하기 위해서는요. 이런 여러가지 모양들을 가져다가 이것저것 만들어 보는 거예요. 그러면서 이 모양의 특징들도 잘 살펴보고 나만의 작품도 만들어 보는 거죠. 예를 들면 보세요. 내가 다리를 만들고 싶어. 그런데 다리의 아랫부분에 공 모양을 놓는다고 생각해 봐요. 그럼 공 모양 위에 몸통을 얹을 수 있을까요? 없겠지. 왜냐하면 공은 떼구르르 굴러가 버리고 평평한 부분이 없으니까 그 위에 무언가를 쌓을 수도 없잖아요. 이렇게 모양의 특징을 잘 알고 있어야 멋진 작품도 만들 수 있다고요. 그럼 이번에는요. 이 모양을 이용해서 어떤 모양을 만들었는지 한번 감상해 보도록 하겠습니다. 그리고 선생님이 한번 퀴즈를 내볼 테니까 맞춰보세요. 예를 들면 여기에 이 케이크 모양에서 케이크 모양에서 상자 모양은 몇 개나 사용됐을까요? 정답! 그렇지. 전혀 사용되지 않았어요. 그럼 공 모양은요? 공 모양은 여기 하나 사용됐어요. 나머지는 모두 여러 가지 모양의 둥근 기둥 모양이라는 걸 알 수 있죠. 우리 친구들 집에서도 가족들이랑 이런 문제를 내고 맞추면서 한번 공부해 보세요. 알겠죠? 그럼 이 모양을 어떤 식으로 생각하고 설명할 수 있는지 친구들의 예를 살펴볼게요. 왼쪽 친구부터. 이 모양은요. 상자 모양 3개, 그리고 둥근 기둥 모양 4개, 공 모양 2개를 이용해서 만든 거예요. 아, 이렇게 재료를 다 이야기해서 설명할 수도 있구나. 그쵸? 그 다음 오른쪽. 가장 많이 이용한 모양은 둥근 기둥 모양이고 가장 적게 이용한 모양은 공 모양이에요. 오, 이렇게도 설명할 수 있네요. 자, 그럼 이제는요. 각각의 모양들, 입체도형 모양들 말고 또 이런 평면도형 모양을 한번 살펴볼게요. 우리 지난 시간 이 모양을 뭐라고 이름 붙였냐면 네모, 그 다음 세모, 그리고 동그라미 모양이라고 이름 붙였어요. 그리고 우리 주변에서 각각의 모양들의 예도 찾아봤다. 그쵸? 그럼 이 모양들로는 어떤 것을 꾸밀 수 있을까? 예를 들어서 이렇게 버스? 아니면 어떤 차 모양 같은 걸 꾸밀 수도 있고요. 집 모양을 꾸밀 수도 있어요. 그 다음 주어진 이런 모양들을 가지고 나만의 작품을 만들 수도 있죠. 이것도 마찬가지. 여기 이 집에 지붕 모양은 무엇으로 만들었어요? 세모 모양. 이 집에서 이렇게 연기가 나는 것 같은 부분은 뭐로 만들었나요? 동그라미 모양. 그렇죠. 그래서 선생님이 짠! 이건 뭐예요? 이건 뭐예요? 라고 했을 때 대답할 수 있으면 우리 친구들 아주 잘 하고 있는 겁니다. 그 다음 이 모양들을 이용해서 여러 가지 모양을 꾸미는 것도 마찬가지예요. 이 안에서 예를 들면 상자, 아니 아니 네모 모양이 모두 몇 개 쓰였나요? 라고 질문을 하면 네모 모양의 갭수를 셀 수 있고 또는 여기에서 가장 많이 사용된 모양은 무엇인가요? 라고 물어보면 여러분이 대답할 수 있고 이런 놀이를 많이 해보세요. 어떻게 하는지 알겠죠? 자, 그 다음 이 모양을 어떤 식으로 또 설명할 수 있는지 한번 볼게요. 여기에 있는 이 모양은요. 네모 모양 4개, 세모 모양 2개, 동그라미 모양 3개를 이용했어요. 그 다음 가장 많이 이용한 모양은 네모 모양, 가장 적게 이용한 모양은 세모 모양이에요. 라고 설명하고 있어요. 그 다음 말고도 우리 친구들 자기만의 설명 방법으로 주변에 한번 이야기도 해보세요. 자, 그럼 이번에는 수혜력을 높여요 9번 문제입니다. 4월 21일은 과학의 날이래요. 과학의 날을 맞이하여 하영이와 시현이는 재활용품을 이용하여 로봇을 만드는 행사에 참여했대요. 이때 이 상자 모양을 더 많이 이용해서 로봇을 만든 친구는 누구인가요? 라고 질문했습니다. 그러면 하영이와 시현이의 각각의 작품에서 상자 모양의 개수를 세어서 비교해 보면 답을 찾을 수 있겠다. 맞나요? 그럼 하영이가 사용한 상자 모양은 모두 몇 개인지 한번 세어볼게요. 어디 있죠? 여기 다리에 하나, 둘, 셋, 넷, 네 개 있네요. 그 다음 시현이가 사용한 상자 모양은 몇 개인지 세어볼까요? 어디 있나요? 모자에 하나, 그 다음 둘, 셋, 넷, 다섯, 다섯 개 있어요. 그렇죠? 그러면 둘을 비교해 보니까 누가 더 많이 사용했어요? 시현이가 더 많이 사용했네. 맞아요? 이렇게 해서 답은 찾을 수 있습니다. 그런데요, 이거 말고 다른 모양도 한번 찾아볼게요. 예를 들면 이런 둥근 기둥 모양을 하영이는 몇 개 사용했을까? 어디 있나요? 눈에 하나, 둘, 그 다음 몸통에 셋, 그 다음 팔에 넷, 다섯, 다섯 개. 그 다음 또 시현이도 둥근 기둥 모양 몇 개 썼는지 볼까요? 보니까 어디 있지? 여기 하나, 둘, 다리에 있네요. 그래서 두 개 썼고요. 마지막 공 모양은 몇 개 썼는지 어떻게 세나요? 하영이 어디 있나요? 여기 머리에 하나, 그 다음 입 부분에 하나. 그래서 총 두 개. 그 다음 시현이는요, 공 모양 모두 몇 개 썼나요? 눈에 하나, 둘, 두 개. 이렇게 썼구나 라고 각각 다 셀 수 있으면 됩니다. 어떻게 하는지 모두 잘 알겠죠? 자, 그럼 이번에는 다음 문제 넘어가 볼게요. 수혜력을 완성해요. 대표 응용 1번입니다. 오른쪽은 각각의 모양을 이용해서 만든 것인데요. 잘못 설명한 것을 찾아 기호를 써보세요 라고 했어요. 기억부터 볼게요. 세 가지 모양을 모두 이용했습니다. 맞나요? 지금 보니까 상자 모양 여기 있고, 둥근 기둥 모양 있고, 공 모양도 있네. 그러니까 모두 이용한 게 맞아요. 그렇죠? 그 다음 니은, 머리는 공 모양으로 만들었다. 자, 머리 공 모양 맞아요? 와, 맞네요. 동그란. 디귿, 팔은 둥근 기둥 모양으로 만들었다. 어, 맞네. 팔 맞고요. 리엘, 상자 모양을 가장 많이 이용하였다 라고 했어요. 그러면 이건 상자 모양이 각각 몇 개 쓰였는지, 그리고 나머지 모양들은 몇 개씩 쓰였는지 알아봐야 되겠죠? 됐나요? 그러면 그 부분은 뒤에 해결하기 단계에서 하나씩 세어서 답을 찾아볼게요. 일단 1단계, 각 부분을 어떤 모양으로 만들었는지 알아봅시다. 머리는 무슨 모양이라고요? 머리는 공 모양. 목과 몸통은? 목과 몸통은 둥근 기둥. 팔은? 팔은 둥근 기둥. 다리는요? 맞아요. 상자 모양으로 만들었습니다. 모두 잘 찾았죠? 그 다음 2단계, 가장 많이 이용한 모양 한번 알아볼게요. 상자 모양이 모두 몇 개인지 한번 세어보자. 상자 모양 어디 있어요? 여기 다리 하나, 둘, 두 개. 둥근 기둥 모양은요? 여기 하나, 둘, 셋, 넷, 네 개. 그 다음 공 모양은요? 하나, 둘, 셋, 맞아요? 그래서 세 개를 이용했어요. 그러니까 가장 많이 이용한 모양은 짜잔, 셋 중에서 둥근 기둥 모양입니다. 그럼 잘못 설명한 것 뭐예요? 이게 잘못됐다는 거지 둥근 기둥 모양을 가장 많이 이용했으니까 잘못 설명한 것은 리얼입니다 라고 적어주면 됩니다. 됐나요? 자 그럼 이제 오늘의 마지막 문제 한번 볼까요? 다음 모양을 만드는데 공 모양을 둥근 기둥 모양보다 몇 개 더 많이 이용했는지 구해보세요. 자 이 문제 풀려면 어떻게 하면 될까요? 둥근 기둥 모양 몇 개 썼는지 공 모양 몇 개 썼는지 각각을 구한 다음에 비교해서 답을 찾으면 되겠죠. 1단계부터 갈게요. 주어진 모양을 만드는데 이용한 공 모양이 총 몇 개일까? 공 모양 세어볼게요. 여기 위에 있네. 하나, 둘, 셋, 넷, 다섯 개. 그 다음 둥근 기둥 모양은요? 하나, 둘, 셋, 넷, 네 개. 여기까지 됐죠. 그 다음 1단계에서 구한 공 모양의 수는 둥근 기둥 모양의 수보다 얼마만큼 더 클까요? 얼마만큼 더 크다? 뭐라고 하면 돼요? 5는 4보다 얼마만큼 큰 수예요? 1만큼 더 큰 수입니다. 맞죠? 그래서 주어진 모양을 만드는데 공 모양을 둥근 기둥 모양보다 몇 개, 한 개 더 많이 이용하였습니다. 라고 정리를 해주면 된다는 겁니다. 이 문제도 어떻게 푸는지 알겠죠? 뭔가 복잡하게 적혀 있긴 하지만 생각의 과정은 1단계 각각의 모양의 개수를 세고 2단계는 그 개수를 비교한다고만 정리해 주시면 됩니다. 알겠죠? 자, 그럼 오늘 공부한 내용 한번 정리해 볼게요. 오늘은요, 지난 시간에 이어서 평면도형의 내용을 정리를 해봤습니다. 먼저 첫 번째, 네모 모양에 대해서 생각을 해봤죠? 네모 모양은 뾰족한 곳, 반듯한 선이 각각 네 군데씩 있다고 이야기했어요. 어떻게 된다고? 자, 보세요. 네모 모양은 뾰족한 곳, 하나, 둘, 셋, 네 군데. 그 다음 반듯한 곳, 하나, 둘, 셋, 네 군데에서 각각 네 군데 있습니다. 라고 이야기하는 거예요. 그 다음 이모양, 선생님은 세모모양이라고 불렀죠? 세모모양은 뾰족한 곳과 반듯한 선이 각각 세 개씩 있다고 그랬어요. 볼게요. 뾰족한 곳, 하나, 둘, 셋. 반듯한 선, 하나, 둘, 셋. 세 군데씩 있고요. 그 다음 마지막, 이런 동그라미 모양은요. 동그라미 모양은 뾰족한 곳이 전혀 없고 둥근 부분만 있다. 무슨 말인지 이제 다 이해가 되죠? 헷갈려 할 필요 전혀 없어요. 우리 친구들이 직접 그려보고, 만져보고, 만들어 보면 쉽게 이해할 수 있는 내용이에요. 알겠죠? 네, 오늘 공부는 여기까지입니다. 우리 오늘 배웠던 내용에서 가장 중요한 건 뭐냐면요. 각각의 모양의 특징을 아는 것도 있지만, 이 모양들을 이용해서 지난 시간에 그 입체도양 모양, 그 다음에 이번 시간에 평면도양 모양, 다 이용해서 무언가를 만들어내고, 그 만들어진 결과를 이렇게 한번 살펴보면서 자세히 특징들도 찾아내고, 분석해보고, 이런 연습을 하는 게 더 중요해요. 그러니까 많이 만져보고, 만들어보고, 한번 이야기도 나눠보세요. 어떻게 하는지 할 수 있겠죠? 자, 그러면 오늘 공부는 여기까지 하겠습니다. 우리 친구들 오늘 고생 정말 많았고요. 다음 시간에는 또 새로운 재미있는 내용과 함께 공부해 보자고요. 친구들 다음 시간에 만나요. 모두모두 안녕!\n",
      "02강1-2_다양한평면모양알아보기 1-3_여러가지모양으로만들기_초등수해력-도형·측정1단계.mp3에 대한 텍스트가 ./ebs_script/new/02강1-2_다양한평면모양알아보기 1-3_여러가지모양으로만들기_초등수해력-도형·측정1단계.txt로 저장되었습니다.\n",
      "Transcription for 02강1-3_똑같은모양으로쌓기_2-1_여러가지단위로길이재기_초등수해력-도형·측정2단계.mp3:\n",
      "자, 우리 이번 시간에는요. 지난 시간에 이어서 또 두 개의 단어 공부를 함께 진행해 볼 거예요. 그 중에 첫 번째 단어는 1-3, 똑같은 모양으로 쌓기입니다. 쌓기나무를 가지고 쌓는 단어들을 공부해 볼 거예요. 쌓기나무를 가지고 선생님이 내는 또는 문제 있는 이런 모양을 똑같이 쌓으려면 어떻게 할 수 있을지 함께 이야기해 보는 시간이고요. 두 번째 단어는 여러 가지 단위로 길이 재기입니다. 우리 친구들 길이 재본 적 있나요? 여러 가지 방법이 있을 수 있는데 그 방법에 대해서 함께 이야기 나눠 보도록 해요. 자, 그럼 첫 번째 내용부터 함께 출발해 볼게요. 네, 우리가 이미 알고 있는 것부터 한번 짚어보고 오늘의 공부를 시작해 볼게요. 우리가 알고 있는 거 먼저 왼쪽과 오른쪽 잘 알고 있나요? 왼쪽, 이 나무를 기준으로 했을 때 왼쪽은 어느 쪽이죠? 그래서 수아는 나무에 왼쪽에 있고요. 은우는 나무에 오른쪽에 있습니다. 라고 이야기할 수 있어요. 그래서 왼쪽, 오른쪽을 이야기할 때는 반드시 그 기준과 함께 이야기한다는 거 배웠고요. 그 다음 이번에는 위와 아래 한번 정리해 볼게요. 이 그림을 보니까 책상이 있고, 책상의 위에 컴퓨터가 있고, 책상의 아래에 고양이가 있어요. 그래서 이 위와 아래라는 개념도 친구들 잘 기억해 주시고, 책상은 컴퓨터를 기준으로 보면 아래에 있지만, 고양이를 기준으로 보면 위에 있구나라는 것도 함께 정리해 보겠습니다. 자, 그럼 이번 시간의 내용 함께 볼게요. 싹히나무로 똑같이 쌓기 위해서는 싹히나무의 위치를 제대로 설명할 수 있어야 됩니다. 한번 볼까요? 지금 이 파란색 싹히나무를 기준으로 생각해 볼게요. 이쪽에 있는 싹히나무는 뭐라고 표현할 수 있죠? 파란색 싹히나무의 오른쪽에 있다고 표현할 수 있죠? 그럼 이 싹히나무는요? 파란색 싹히나무의 왼쪽에 있다고 표현할 수 있습니다. 자, 그럼 두 번째 그림을 볼게요. 파란색 싹히나무가 기준이라고 했을 때 이 싹히나무의 위에 있다, 그리고 아래에 있다고 이야기할 수 있고요. 그 다음 또 파란색 싹히나무를 기준으로 했을 때 앞쪽에 있다, 뒤쪽에 있다라고 설명을 할 수 있습니다. 이걸 왜 이야기하냐면요, 이걸 정확하게 구분할 수 있어야 선생님이 여러분에게 자, 파란색 싹히나무를 하나 생각해 보세요. 그리고 그 싹히나무의 어느 쪽에 몇 개의 싹히나무를 어떻게 쌓아 보세요? 라고 이야기를 했을 때 정확하게 이해할 수 있는 거예요. 자, 그럼 그 다음으로 가봅니다. 똑같이 쌓아 보아요. 자, 방금 이야기한 거예요. 일단 이 모양을 만든다고 생각해 볼게요. 근데 답을 모르는 상태에서 그냥 말만 듣고 이러한 모양을 만들 수 있을까요? 뭐라고 설명할 수 있는지 한번 볼게요. 파란색 싹히나무 한 개를 놓습니다. 자, 놓았죠? 이 파란색 싹히나무에 오른쪽에 싹히나무 한 개를 놓습니다. 놓았죠? 그 다음 왼쪽에 싹히나무 한 개를 또 놓습니다. 놓았죠? 그 다음 파란색 싹히나무에 위에 싹히나무 한 개를 놓습니다. 이렇게 놓으니까 똑같은 모양이 완성되는 거예요. 자, 그래서 우리가 방금 짚었던 개념을 다시 정리해 보면 위치의 개념을 배웠고요. 그 다음 이걸 바탕으로 싹히나무의 위치를 어떻게 설명하는지 배웠고 이걸 바탕으로 똑같이 쌓을 수도 있었어요. 그리고 항상 그 위치는 무엇에 따라 달라질 수 있다고요? 기준에 따라 달라질 수 있다고요. 예를 들면 빨간색 싹히나무는 연두색 싹히나무를 기준으로 보았을 때 오른쪽에 있어요. 그런데 빨간색 싹히나무는 파란색 싹히나무를 기준으로 보았을 때는 파란색의 위에 있죠. 그 다음 노란색 싹히나무 볼까요? 노란색 싹히나무는 파란색 싹히나무를 기준으로 보았을 때 이것의 왼쪽에 있고요. 그 다음 노란색 싹히나무는 연두색 싹히나무를 기준으로 봤을 때 그 아래에 놓여 있습니다. 그래서 똑같은 색깔의 싹히나무라고 할지라도 기준을 어디에 두느냐에 따라서 설명이 달라질 수 있다. 자 그 다음 여러가지 모양으로 쌓는 연습도 한번 해볼게요. 첫 번째 싹히나무를 1층으로 쌓을 수도 있고 2층 또는 3층으로 쌓을 수도 있습니다. 이 층이라는 뜻이 뭐냐면요. 그 다음에 싹히나무를 쌓아 올리지 않고 제일 아래쪽에만 이렇게 둔 것을 1층이라고 하는 거예요. 그 다음에 싹히나무 하나가 있을 때 그 위에 이렇게 얹은 상태 이것을 2층으로 쌓아 올렸다라고 설명을 하는 거예요. 그럼 3층은 뭘까요? 3층은 여기 1층, 2층, 그 다음 1층 더 올린 이 상태를 3층이라고 하는 겁니다. 그러면 여러분 문제 내볼게요. 여기 3층으로 쌓은 싹히나무에서 1층에는 몇 개 있어요 싹히나무가? 1층에는 하나, 둘, 세 개 있죠? 세 개. 2층에는 몇 개 있어요? 하나, 둘, 두 개 있죠? 3층에는요? 하나, 하나. 이렇게 해서 각 층별로 몇 개씩 쌓았는지도 우리가 살펴볼 수 있어요. 그 다음 싹히나무의 위치 우리 이미 알고 있죠? 여기에서 파란색 싹히나무를 기준으로 했을 때 그 오른쪽, 그 다음 앞쪽, 그 다음 왼쪽 이라는 거 방금 설명을 했고요. 그 다음으로 넘어가 볼까요? 그러면 이제 싹히나무를 여러 가지 모양으로 어떻게 쌓았는지 볼게요. 싹히나무 3개로 이렇게 쌓았다. 그러면 이 내용을 우리 뭐라고 설명할 수 있는지 옆에 있는 글을 보지 말고 한번 이야기해 보는 거예요. 그 다음에 이 교재에서는 뭐라고 설명했는지 한번 볼게요. 1층에 싹히나무 두 개가 옆으로 나란히 있고, 맞나요? 1층에 싹히나무가 하나, 둘, 옆으로 나란히 있고, 오른쪽 싹히나무, 이거지. 오른쪽 싹히나무의 위에 싹히나무 한 개가 있습니다. 여기 있네요. 이렇게 해서 설명을 할 수 있다는 거예요. 이번에는요, 이 말만 보고 왼쪽에 있는 이 그림을 떠올릴 수 있는지도 한번 생각을 해보세요. 1층에 싹히나무가 두 개가 있는데 그게 옆으로 나란히 있대. 1층에 싹히나무 두 개를 옆으로 나란히 놓고, 그 다음 왼쪽에 있는 싹히나무 뒤에, 이 중에서 왼쪽에 있는 싹히나무의 뒤에 싹히나무를 두 개 2층으로 올린다는 뜻이에요. 그래서 이 뒤쪽에 한 층, 두 층으로 올렸다. 아, 그래서 싹히나무 네 개로 이런 모양을 만들 수 있구나라고 정리하면 됩니다. 자, 그럼 이번에는요, 그 규칙을 찾아보는 연습을 할 건데요. 우리 친구들이 이미 규칙 찾기 연습을 해봤어요. 어떤 거 해봤냐면, 이런 도형들을 쭉 보고, 여기에서 반복되는 부분, 순서 이런 것들을 찾아본 적이 있을 거예요. 자, 이 모양에서 규칙은 무엇일까요? 사각형 모양과 삼각형 모양 한 개가 계속해서 반복됩니다. 이런 규칙을 찾을 수 있죠. 그 다음에 이 모양은 뭐예요? 빨간색 원 모양과 파란색 원 모양이 하나씩 해서 계속해서 반복됩니다. 라는 이런 말을 정리해 볼 수 있습니다. 그러면 이제 싹히모양, 이 쌈 모양에서도 규칙을 찾아볼 거예요. 첫 번째 그림을 볼게요. 자, 이 싹히나무의 모양을 보니까 어떤 규칙이 있어요? 왼쪽에서 오른쪽으로 싹히나무가 1층씩 늘어나는 규칙이 있습니다. 이게 무슨 말인지 한번 볼게요. 왼쪽이라면 여기, 이쪽을 얘기하는 거잖아요. 왼쪽, 여기가 오른쪽이죠. 맞아요? 그러면 왼쪽에서 오른쪽으로 갈수록 한 층씩 늘어난다. 아, 그러면 제일 왼쪽에 있는 이쪽에 싹히나무가 1층이네. 그 다음 이 가운데 있는 싹히나무는 2층이네. 그 다음 제일 오른쪽에 있는 싹히나무는 3층이네. 이런 식으로 규칙을 찾을 수 있다는 거구나. 맞아요? 그 다음 아래쪽을 볼게요. 싹히나무의 수가 1개, 3개가 반복된다고 했어요. 무슨 말이에요? 싹히나무의 수가 1개, 그 다음 3개, 그 다음 1개, 3개, 1개, 3개. 그래서 1, 3, 1, 3, 1, 3. 이렇게 짝을 지어서 설명할 수 있겠구나라는 것을 아는 거지. 됐죠? 그 다음 싹히나무가 늘어나는 규칙을 또 이렇게 찾아볼 수도 있어요. 여기 보세요. 규칙 1, 2, 3입니다. 그러면 여기에서는 어떤 규칙이 있나? 보니까 싹히나무가 오른쪽에 1개, 위쪽에 1개씩 늘어나는 규칙이 있대요. 이게 무슨 말인지 한번 볼게요. 첫 번째 1번이에요. 그 다음 2번 뭐가 달라졌어요? 1번에 비해서 여기에 싹히나무가 더 붙었다는 걸 알 수 있죠. 그 다음 여기 세 번째 그림에서는 또 뭐가 달라졌어요? 두 번째 그림에 비해서 또 오른쪽, 위쪽에 하나씩 더 붙었다는 것을 알 수 있어요. 그러니까 오른쪽으로 갈수록 싹히나무가 오른쪽에 1개, 위쪽에 1개씩 점점점점 늘어나더라 라는 걸 알 수 있는 겁니다. 이런 식으로 하는 거예요. 그러면 이제 공부한 내용을 바탕으로 문제 한번 풀어볼게요. 설명하는 싹히나무를 찾아 동그라미 표시하세요 라고 했습니다. 파란색 싹히나무에 앞에 있는 싹히나무를 찾으라고 했어요. 파란색 싹히나무는 뭐예요? 여기 있네. 이것의 앞에 있다 그러면 어디예요? 이 싹히나무를 이야기하는 거지. 이해가 되나요? 그 다음 문제 한번 볼게요. 이번에는 6번 문제입니다. 설명을 읽고 싹히나무를 똑같이 쌓은 모양은 어느 것인가요? 1층에 싹히나무 2개가 옆으로 나란히 있고, 그 다음 오른쪽 싹히나무의 뒤에 싹히나무 2개가 2층으로 있습니다 라고 했어요. 그러면 일단 1층에 싹히나무 2개를 옆으로 이렇게 놔 볼게요. 1층에 싹히나무 1개, 그 다음 2개를 옆으로 나란히 이렇게 놨죠. 그 다음에 어떻게 하라고요? 오른쪽 싹히나무에 뒤에 싹히나무 2개를 놓을 거예요. 2층으로. 어떻게? 일단 1층을 먼저 이렇게 그릴게요. 그 다음에 2층, 1층 더 이렇게 올라가는 거지. 그래서 그림을 그려놓고 보니까 몇 번이랑 똑같아요? 3번이랑 똑같네. 그래서 싹히나무를 똑같이 쌓은 모양 정답은 3번입니다. 라고 찾을 수 있는 거예요. 이건 여러분들이 직접 싹히나무를 쌓아 보는 게 가장 좋은 방법인 것 같아요. 그림을 그려서 표현하기는 사실 쉽지 않죠. 그 다음 문제 볼게요. 9번입니다. 택배 회사에서 배송할 물건을 정리하기 위해 규칙에 따라 상자를 3층으로 쌓았대요. 근데 이 상자를 5층으로 쌓으려면 상자는 모두 몇 개 필요한지 구해보세요. 라고 했습니다. 3층으로 쌓았을 때 어떤 규칙이냐면 1, 2, 3의 규칙이에요. 맞아요? 제일 위층이 1개, 그 다음 층이 2개, 그 다음 층이 3개잖아요. 그러면 이걸 5층으로 쌓았다면 어떻게 될까요? 제일 위가 1개, 그 다음 2개, 그 다음 3개, 그 다음 4개, 그 다음 5개. 이런 식으로 점점점 계단 모양으로 늘어나는 규칙이 있겠죠. 맞아요? 이런 식으로 아마 쌓이게 될 거예요. 그러니까 상자가 모두 몇 개 필요해요? 1 더하기, 2 더하기, 3 더하기, 4 더하기, 5를 해주면 총 15개가 필요합니다. 라고 할 수 있습니다. 자, 그럼 그 다음 수외력 완성 대표 응용 1번 문제 함께 볼게요. 가와 나 모양으로 똑같이 쌓으려면 싹히나무가 모두 몇 개 필요한지 구해보세요. 라고 했습니다. 자, 일단 그럼 가 모양에 몇 개 필요하고 나 모양에 몇 개 필요한지 구해서 그것을 정답으로 확인해 보면 되겠죠. 더해주면 되겠죠. 그래서 해결하기 1단계부터 살펴볼게요. 가 모양으로 똑같이 쌓으려면 1층에 몇 개 필요해요? 1층에 하나, 그 다음 둘, 셋, 그 다음 여기 가려져 있는 거 하나 더 있죠. 그래서 4개 필요합니다. 그 다음 2층에는 몇 개 필요해요? 2층에는 여기 하나 있죠. 한 개 필요함으로 모두 5개가 필요합니다. 그럼 나도 한번 볼게요. 가 모양으로 똑같이 쌓으려면 1층에 하나, 둘, 셋, 세 개 필요하죠. 그 다음에 2층에는요, 한 개 필요해요. 맞나요? 그래서 모두 합해서 몇 개 필요하다? 4개 필요합니다. 됐나요? 그러면 가와 나 모양으로 똑같이 쌓으려면 어떻게 하면 된다고요? 아까 가 모양에 5개, 나 모양에 4개가 필요했으니까 더해서 9개가 필요합니다. 라고 정리를 해주시면 되겠습니다. 자, 하나만 더 풀어볼게요. 대표용룡 2번 문제입니다. 규칙에 따라 쌓기나무를 쌓았는데 다음에 이어질 모양에 쌓을 쌓기나무가 몇 개인지 구해보세요. 가 문제입니다. 일단 첫 번째, 그 다음 두 번째, 세 번째의 규칙을 찾아볼게요. 첫 번째는 이렇게 1층에다가 쌓기나무를 하나, 둘, 세 개 놓았고요. 두 번째는 1층에 이렇게 세 개 있는 데다가 위에 하나를 또 올렸죠. 그 다음에 세 번째는 여기에다가 또 위에 하나를 더 올렸어요. 그래서 쌓기나무가 하나씩 하나씩 올라가고 있네 라는 규칙을 찾을 수 있습니다. 그러면 쌓기나무의 수를 한번 적어보면 어떻게 돼요? 첫 번째 그림에서는 쌓기나무가 3개 있고, 두 번째 그림에서는 4개 있고, 세 번째 그림에서는 5개 있다는 걸 알 수 있죠. 자, 그럼 2단계입니다. 쌓기나무를 쌓은 규칙을 찾아보니까 쌓기나무가 오른쪽으로 갈수록 몇 개씩 늘어나고 있어요? 1개, 1개씩 늘어나는 규칙이 있다. 그럼 다음에 이어질 모양에 쌓을 쌓기나무는 여기 5개잖아요. 5개에서 몇 개가 될까요? 여기 또 하나 더 올라가겠지. 그러니까 1개 더 늘어나서 6개입니다 라고 정리해 주시면 되는 거예요. 자, 여기까지 선생님이 몇 문제 한번 풀어봤는데요. 나머지 문제들은 우리 친구들이 직접 풀어보고, 한번 채점도 해보고, 어려운 문제 있으면 복습해 보세요. 알겠죠? 그럼 이번에는 다음 단언으로 넘어가 볼게요. 자, 이번에 배울 내용은 길이재기입니다. 우리 친구들 길이 재본 적 있나요? 얼마나 긴지, 짧은지를 나타내는 게 길이인데요. 우리가 제일 쉽게 알 수 있는 게 길이재기인데요. 길이 재는 단어 중에 하나가 길이재기입니다. 길이 재는 단어 중에 하나가 길이재기입니다. 길이 재는 단어 중에 하나가 길이재기입니다. 길이 재본 적 있나요? 얼마나 긴지, 짧은지를 나타내는 게 길이인데요. 우리가 제일 쉽게 잴 수 있는 방법이 있어요. 바로 손을 사용하는 겁니다. 그것을 한 뼘, 두 뼘, 뼘이라고 표현하는데요. 일단 우리가 알고 있는 내용부터 먼저 확인해 볼게요. 자, 두 가지 물건의 길이를 비교해 보는 활동을 하는 거예요. 여기 그림을 보니까 한 바구니에 바게트와 단팥빵을 담아놓았어요. 그러면 이 두 빵의 길이를 비교한다고 생각하면 어떤 말을 할 수 있을까요? 일단 바게트는 단팥빵보다 더 깁니다라고 표현할 수 있고요. 반대로 단팥빵은 바게트보다 더 짧습니다라고 표현할 수 있어요. 됐나요? 그럼 이번에는 뼘으로 직접 길이를 재어서 한번 비교해 보도록 할게요. 빵의 길이가 얼마인지 알고 싶을 때 손가락을 한껏 벌린 길이, 이것을 뼘이라고 하고 우리는 뼘을 이용해서 물건의 길이를 잴 수 있습니다. 첫 번째, 단팥빵의 길이는 한 뼘쯤이에요. 자, 이렇게 한 뼘을 짠 벌려서 나타냈더니 단팥빵의 길이가 나왔어. 그 다음, 바게트의 길이를 잴려고 해보니까 어? 바게트는요, 한 뼘으로 안 돼. 한 뼘 더 필요해요. 그래서 두 뼘쯤이에요라고 이야기할 수 있어요. 그 다음, 세 번째, 이 빵들을 담을 종이 상자가 있대요. 그런데 이 종이 상자의 길이는 한 뼘, 두 뼘, 그리고 세 뼘쯤이라고 합니다. 자, 그러면 우리 친구들 이 종이 상자에 무엇이 들어갈지 대충 가늠할 수 있겠죠? 바게트가 들어갈 수 있다, 또는 뭐 단팥빵이 몇 개 들어갈 수 있겠다. 이런 생각을 해볼 수 있습니다. 됐나요? 그래서 우리가 자가 있어야만 길이를 재는 게 아니라 손을 이용해서도 길이를 잴 수 있다는 것을 여기에서 확인해 볼 수 있어요. 물론 이 손의 길이는 사람마다 다 다르잖아요? 우리의 손의 크기와 그리고 어른들의 손의 크기는 다 다르기 때문에 이 뼘을 가지고는 정확한 비교가 어렵다고 생각하는 친구들이 있을 수 있어요. 하지만 일단 지금까지는 뼘으로 길이를 재어서 그 길이를 비교해 볼 수 있다라는 것까지만 이해하면 됩니다. 알겠죠? 자, 그럼 좀 더 정리를 해 볼게요. 우리가 길이를 비교할 때 길이를 단순히 대어서 그냥 바게트와 단팥빵을 이렇게 대어서 비교를 해 볼 수도 있고 그것을 몇 뼘인지, 얘는 한 뼘이고 얘는 두 뼘이네 그러니까 두 뼘짜리가 더 길구나 라고 해서 비교를 해 볼 수도 있고요. 이를 통해서 길이를 확인해 볼 수 있다는 거예요. 이 방금 이야기했던 것을 우리 단위라고 합니다. 한 뼘, 두 뼘 이런 것을 단위라고 할 수 있는데 단위가 될 수 있는 곳에는 여러 가지가 있어요. 우리가 뼘을 이용했듯이 만약에 주변에 풀이 있다 그러면 풀의 길이를 가지고 다른 길이를 잴 수도 있잖아요. 어? 이 단팥빵의 크기는 또는 단팥빵의 길이는 풀 한 개 정도의 길이네 바게트빵의 길이는 풀 두 개 또는 세 개 정도의 길이네 라고 하면 이 풀을 이용해서 길이를 비교해 볼 수 있는 거죠. 그 다음 우리 주변에서 볼 수 있는 다른 단단한 물건들 이용하면 무엇이든 단위로 활용할 수 있어요. 여기 있는 이 크레파스를 활용할 수도 있고 연필을 활용할 수도 있어요. 그런데 단위가 될 수 없는 것도 있어. 그게 뭘까요? 단위가 될 수 없는 것. 예를 들면 고무줄. 고무줄은 이렇게 쭉 잡아 늘리면 늘어나잖아요. 내가 이걸 단위로 사용하려고 했는데 여기 잴 때는 힘을 요만큼만 써서 이 정도까지 길이였어. 그런데 다른 물건을 잴 때는 힘을 좀 더 많이 주니까 길이가 늘어났네. 그럼 이거 한 번, 두 번 어떻게 표현할 수 있지? 뭔가 기준이 애매하죠. 그렇기 때문에 이렇게 늘었다 줄었다 하는 것들 아니면 뭔가 이 단위를 쓸 수 없는 것들에는 어떤 것들이 있는지 우리 친구들이 한번 정리해 보면 좋을 것 같습니다. 그럼 이번에는 여러 가지 단위를 이용해서 물건의 길이를 재는 활동을 한번 살펴볼게요. 우리가 방금 살펴본 건 뭐였냐면 예를 들어서 어떤 상자의 길이를 잴 때 손뼘으로 물건의 길이를 잴 수 있다 그랬죠. 그래서 이 친구가 재었을 때는 하나, 둘, 셋 뼘만큼이에요. 라고 이야기를 했다고 했습니다. 그래서 옆에 있는 친구들이랑 같이 재어보고 비교도 해봤죠. 그런데 이 뼘뿐만 아니라 여러 가지 단위를 활용할 수도 있다 그랬어요. 그 예를 한번 보여드릴게요. 자, 지금 방금 전에 그 남학생이 재었을 때는 뼘으로 3뼘이 나왔다고 했어요. 그런데 이 여학생이 재어봤더니 어? 내 손으로 재었을 때는 4뼘쯤 나오는데? 왜? 이 친구가 손이 좀 더 작은가 봐요. 그래서 내가 재었을 땐 4뼘 정도가 나와. 아, 뼘으로 잰다고 해도 사람에 따라서 몇 번 나오는지가 달라질 수 있구나라는 걸 알 수 있습니다. 그리고요, 또 이렇게도 한번 생각해 볼게요. 똑같은 종이 상자가 있는데요. 클립으로 재었다 라고 하면 클립으로 하나, 둘, 셋, 넷, 다섯, 여섯, 일곱 번만큼 가야 종이 상자 하나가 나온다라는 거예요. 그 다음, 이걸 연필로 재었다 라고 하면 하나, 둘, 셋, 네번만큼 재었을 때 종이 상자 하나의 크기가 나왔다라는 겁니다. 그래서 종이 상자라는 똑같은 물건의 길이를 잰다고 해도 그 다음에 손의 크기에 따라서 서로 길이가 다르게 표현이 될 수도 있고요. 그 다음에 물건에 따라서 단위가 달라지면서 그 재는 횟수가 달라질 수 있다는 거예요. 짧은 단위로 길이를 재면 잴수록 재는 횟수가 많아지지. 예를 들면, 보세요. 여기 클립은 굉장히 짧잖아요, 연필보다. 그래서 클립으로 재었을 때는 7번만큼이 가지만 연필로 재었을 때는 4번만큼 간다. 그 차이가 생긴다라는 것도 함께 생각을 해주시면 좋겠습니다. 자, 그럼 이걸 관련 문제로 한번 풀어보도록 할게요. 수회력을 확인해요. 1번 문제입니다. 여러 가지 단위로 길이를 잰 거래요. 네모 안에 알맞은 수를 써보세요. 지금 왼쪽의 건 그냥 두 오이의 크기를 비교해 놓은 거죠. 맞아요? 그런데 오른쪽은 이것을 무엇을 이용해서 비교하고 있어요? 뺨을 이용해서 비교하고 있어요. 왼쪽 것은 그냥 이렇게 말합니다. 왼쪽에 있는 오이가 오른쪽에 있는 오이보다 더 깁니다라고 표현할 수 있어요. 그런데 오른쪽 뺨으로 쟀을 때는 어때요? 왼쪽에 오이가 한 뺨, 두 뺨, 세 뺨이잖아요. 그렇죠? 그래서 3번만큼의 길이가 나왔고 오른쪽에 있는 오이는요, 어때요? 한 번, 그리고 두 번만큼의 이만큼의 길이를 가지고 있다는 걸 알 수 있죠. 그래서 오른쪽 오이는 뺨으로 쟀을 때 두 번만큼 갑니다라고 설명할 수 있어요. 그러면 이 둘을 비교한다고 했을 때는 뭐라고 비교해서 말할 수 있을까요? 왼쪽의 오이는 오른쪽 오이보다 한 뺨만큼 더 깁니다라고 얼마나 긴지까지 설명할 수 있다는 거예요. 됐죠? 자, 그럼 다음 문제 볼까요? 이번에는 6번 한번 보겠습니다. 여러 가지 단위로 필통의 길이를 재어보는 문제예요. 지금 이 필통이 이렇게 생겼는데 두 가지 단위를 가지고 필통의 길이를 재고 있습니다. 첫 번째는 뭐예요? 지우개예요. 지우개로 재어봤더니 하나, 둘, 셋, 넷, 다섯 번만큼 갔어요. 그러니까 필통의 길이는 지우개로 다섯 번. 그럼 연필로는요? 하나, 둘, 셋. 그러니까 연필로는 세 번입니다라고 쓸 수 있는 겁니다. 지우개와 연필 중에 재는 횟수가 더 많은 것은 무엇인가요? 라고 질문을 한다면 재는 횟수는 어디가 더 많아요? 지우개로 재쓸 때가 더 많죠. 그래서 지우개. 지우개임으로 길이가 더 짧은 것은 지우개예요, 연필이에요? 여기 딱 보면 어때요? 지우개는 여기서부터 여기까지고 연필은 여기서부터 여기까지잖아요. 길이가 더 짧은 것은 지우개예요. 그런데 이 말은 뭐냐면 지금 지우개로 재쓸 땐 다섯 번, 연필로 재쓸 땐 세 번이니까 다섯 번, 더 많은 횟수로 잰 것이 길이가 짧다라는 것을 다시 한번 확인해주는 문제였습니다. 알겠죠? 그럼 다음 문제로 가볼까요? 수혜력을 높여요 5번 문제입니다. 현우는 시계와 상자의 길이를 같은 크레파스로 재어보았대요. 시계를 넣을 수 있는 상자를 찾아 기호를 써보세요. 라고 했습니다. 자, 시계가 이렇게 생겼다. 그런데 이걸 크레파스로 재떠니 위로는 하나, 둘, 셋, 넷. 네 칸만큼. 그 다음 옆으로도 하나, 둘, 셋, 넷. 네 칸만큼이 필요했어요. 그런데 가상자는 어때요? 오른쪽으로 하나, 둘, 셋, 넷, 다섯 칸. 그 다음에 뒤쪽으로 하나, 둘, 셋, 넷, 다섯 칸. 다섯 칸, 다섯 칸 만큼의 크기예요. 그런데 나는 오른쪽으로 하나, 둘, 셋 칸. 그 다음에 뒤쪽으로 하나, 둘, 셋, 넷 칸. 그러니까 여기에 시계를 담으려면 시계가 들어가지 않겠죠. 네 칸, 네 칸은 있어야 되는데 여기는 세 칸, 네 칸이잖아요. 그러니까 나에는 들어갈 수 없는 거예요. 시계를 넣을 수 있는 상자는 다섯 칸, 다섯 칸짜리인 가가 되겠죠. 됐어요. 이렇게 우리 친구들도 포장 같은 거 할 때 활용하시면 좋을 것 같아요. 자, 이제 오늘의 마지막 문제 한번 볼게요. 수외력을 완성해요 대표용용 1번입니다. 연필로 선생님 책상의 짧은 쪽의 길이를 재어보았대요. 수민이의 연필로 7번, 다나의 연필로 8번, 수민이의 연필로 5번쯤 이었습니다. 그럼 누구의 연필이 가장 길까요? 이게 물어보는 문제예요. 그러면 여기에 있는 이 횟수를 비교해 보면 될 것 같다, 그쵸? 그 횟수가, 횟수가 많으면 많을수록 더 짧은 연필이라고 했죠. 선생님이랑 아까 이야기했죠. 그럼 연필이 가장 길려면 그 재는 횟수가 가장 적어질수록 길다라고 이야기를 할 수 있겠네요. 그럼 해결하기 1단계부터 볼게요. 길을 재는 단위가 길면 길수록 재는 횟수가 어때진다고요? 재는 횟수는 적어진다고요. 그래서 연필로 재는 횟수가 적은 것부터 순서대로 나열해 보면, 적은 것부터 하면 5번, 그 다음 7번, 8번, 5, 7, 8의 순서가 되겠죠. 그럼 이 중에서 그 횟수가 가장 적은 것은 몇 번? 5번입니다. 5번 누구 연필이었어요? 미소의 연필이었네. 그러니까 미소의 연필이 가장 깁니다라고 정리해 볼 수 있는 거예요. 이건 우리가 알고 있는 개념을 문제 속에서 얼마나 풀어서 활용할 수 있는지를 묻는 질문이었습니다. 모두 잘 해결했죠? 자, 그럼 나머지 문제는 어떻게 한다? 우리 친구들이 직접 풀어보고 복습한다. 알겠죠? 그럼 오늘 배운 내용, 제일 중요한 거 이것만은 꼭 확인해 볼게요. 자, 같은 물건이라도 단위가 다르면 재는 횟수가 달라질 수 있습니다. 그래서 같은 상자의 길이를 잰다고 해도 클립으로 재는지 연필로 재는지에 따라서 그 횟수가 달라질 수 있다는 거죠. 그 중에서 방금도 나왔던 내용인데요. 짧은 단위, 짧은 단위로 길임을 재면 잴수록 그 재는 횟수가 많아진다. 그래서 짧은 클립으로 재떠니 7번이 나왔는데 긴 연필로 재니까 4번만 하면 전체 길이가 나왔다. 라는 것도 같이 기억을 해 주시면 되겠습니다. 자, 그럼 오늘 공부는 여기까지입니다. 우리 친구들 오늘 내용 어렵지는 않았나요? 혹시 어려운 부분이 있다면 복습도 꼭 해보시고 모르는 게 있으면 선생님께 질문도 해보세요. 선생님은 다음 시간에 다시 돌아올게요. 친구들 모두 안녕! 수고하셨습니다.\n",
      "02강1-3_똑같은모양으로쌓기_2-1_여러가지단위로길이재기_초등수해력-도형·측정2단계.mp3에 대한 텍스트가 ./ebs_script/new/02강1-3_똑같은모양으로쌓기_2-1_여러가지단위로길이재기_초등수해력-도형·측정2단계.txt로 저장되었습니다.\n",
      "Transcription for 02강평면도형(2)_초등수해력-도형·측정3단계.mp3:\n",
      "안녕하세요. EBS 친구들 여러분의 찐찐쌤입니다. 우리 친구들 오늘 선생님과 만난 지 두 번째 시간이에요. 바로 평면도형 두 번째 내용을 함께 공부할 건데요. 오늘의 미션을 공개합니다. 짜잔 바로 각의 정체를 밝혀라. 자 각이 무엇인지 우리가 이미 배운 내용부터 좀 연결해서 한번 살펴볼게요. 우리는 이미 도형의 꼭지점이 뭔지 압니다. 삼각형과 사각형이 있을 때 우리 두 개의 고등선이 만나는 점이 있죠. 그 점의 이름을 꼭지점이라고 불러주기로 했잖아요. 그래서 삼각형은 꼭지점이 3개, 사각형은 꼭지점이 4개가 있다라는 걸 알 수 있고요. 그리고 우리 지난 시간에 반직선에 대해서도 공부를 했어요. 자 반직선은 한 점에서 시작하여 한쪽으로 끝없이 느린 고등선이 반직선이라고요. 그리고 이름을 불러줄 때 만약에 점 기억에서 시작해서 점 니은을 지나는 고등선이라면 반직선, 기억, 니은이라고 불러줬죠. 자 그럼 이 꼭지점과 반직선 각각 따로따로 배웠는데 이들이 모아져서 새로운 도형이 생겨난답니다. 바로 각이에요. 자 각이라는 것은 정확하게 우리 친구들 어? 각도 도형이야? 라고 생각하는 친구들이 있는데 맞아요. 자 그럼 각의 정확한 뜻이 뭐냐? 한 점 해석은 두 개의 반직선으로 이루어진 도형을 바로 각이라고 한답니다. 이때 우리 친구들 여기에서 반직선, 니은, 기억, 반직선, 니은, 디귿이라고 해보세요. 두 반직선이 시작하는 점이 점, 니은이죠? 자 점, 니은을 우리는 각의 꼭지점이라고 해요. 그리고 이 각도 이름이 있어야 되잖아요. 선분, 반직선, 그리고 직선들이 다 이름이 있듯이 이 각도 이름을 불러줘야 되는데 어떻게 불러주기로 했냐면요. 바로 각, 기억, 니은, 디귿 또는 각, 디귿, 니은, 기억이라고 불러줍니다. 여기서 조심할 것은 이 각의 꼭지점이 가운데 오도록 읽어주는 거예요. 보세요. 자 각, 기억, 니은, 디귿 또는 각, 디귿, 니은, 기억 이름이 두 개죠? 근데 둘 다 공통점은 각의 꼭지점이 가운데 오도록 읽어줘야 된다라는 거 잊지 말고요. 자 그리고 반직선, 니은, 기억하고 반직선, 니은, 디귿을 각의 변이라고 합니다. 아 삼각형, 사각형 친구들만 변이 있는 줄 알았는데 각도 변이 있네? 맞아요. 바로 이 두 반직선을 변이라고 하는 것. 그리고 이 변을 변, 니은, 기억과 변, 니은, 디귿이라고 한답니다. 그러니 우리 친구들 여기에서 각이 도형이었구나 그리고 또 각도 꼭지점도 있고 변도 있구나라는 거 알아주세요. 자 좋아요. 그러면 우리 이제 한 개의 꼭지점을 표시를 하고 꼭지점에서 두 개의 반직선을 그어줬을 때 각이라는 도형을 그릴 수 있구나. 그럼 선생님하고 그려볼까요? 일단은 기준점이 되는 각의 꼭지점. 뿅 점 하나를 딱 찍고요. 그리고 반직선 두 개를 그려주는데 방향은 어디든 좋습니다. 이렇게 뻗어나가게끔 그려줄게요. 그럼 이 도형이 바로 각이 된답니다. 자 그러면 우리가 각과 각이 아닌 걸 구분해야 되는데 각이 아닌 경우도 한번 확인을 해봐야 되겠죠. 자 이처럼 한 점에서 만나지 않는 거예요. 한 점으로 출발하는 반직선이 있어야 되는데 이렇게 뚝 떨어져 있으면 얘는 각이라고 할 수 없고요. 반직선이라는 것 자체가 고든선이잖아요. 그런데 하나는 고든선인데 하나는 구분선으로 이루어져 있다면 이 또한 각이라고 할 수가 없어요. 그 다음 구분선으로만 이루어져 있다. 이것도 각이라고 할 수가 없겠죠. 그래서 우리 친구들이 도형을 봤을 때 아 너는 각이야. 너는 각이 아니야. 이렇게 구분해낼 수 있습니다. 자 그러면 이제 반듯한 각이 있는 도형. 우리 친구들 반듯한 각이라는 게 무엇일까요? 선생님이 각 이렇게 세 개를 한번 그려볼게요. 짠 셋 다 각인데 눈으로 보기에 어느 각이 제일 반듯해 보여요? 어 누가 봐도 가운데 있는 이쪽 각이 제일 반듯해 보이죠? 그렇다면 우리가 배운 도형 중에서도요 반듯한 각이 있다 없다라는 것을 구분해낼 수 있는데 지금 이 사각형 보세요. 자 반듯 반듯 네 개의 각이 모두 반듯하고요. 여기는 한 개의 각이 반듯합니다. 하지만 아래 삼각형과 사각형은 어때요? 우리 반듯한 각이 없죠. 자 그렇다면 이 반듯한 각이라는 것은 굉장히 특별한 각이겠구나. 그래서 우리 특별하게 이름을 또 불러주기로 했습니다. 자 바로 바로 직각이죠. 그래서 우리가 이제 연결해 가지고 배울 내용 직각이에요. 직각을 만드는 방법은 종이를 이처럼 두 번 접어서 그것도 그냥 접는 게 아니라 반듯하게 두 번 접으면요 직각을 찾을 수가 있습니다. 만약에 종이 한 번 두 번 반듯하게 접었습니다. 각 하나 나오죠? 이 각이 바로 직각이에요. 그러면 각, 기형, 니은, 지그 이라고 했을 때 우리 반듯하니까 특별하잖아요. 그래서 누가 봐도 이 반듯한 걸 알아보기 위해 다음과 같이 이렇게 표시해 주기로 했어요. 자 우리 이제 직각이 뭔지 알았죠? 그림과 같이 종이를 두 번 반듯하게 접었을 때 생기는 각을 직각이라고 합니다. 자 그러면 우리 직각삼각자 우리 친구들 가지고 다니나요? 이런 모양 두 가지 모양이 있는데 이 직각삼각자에도 직각이 각각 한 개가 있답니다. 이런 모양에서 반듯한 각 찾아보세요. 여기가 이렇게 반듯하죠? 그래서 여기 직각 찾을 수 있고요. 이런 모양의 직각삼각자 중에서도요 바로 반듯한 각 찾아보면 여기에 이렇게 있다라는 거 알 수 있어요. 자 선생님도 지금 직각삼각자 이런 모양을 하나 가지고 왔는데 어때요? 자 각이 하나, 둘, 세 개가 보이는데 그 중에서도 바로 이 부분이 반듯한 각, 직각이라는 거 알 수가 있는 거죠? 우리 친구들도 갖고 있는 삼각자 지금 하나씩 꺼내와서 어디가 직각인지 한번 찾아보세요. 좋아요. 그럼 이제 수외력 확인하기 우리 각이 뭔지도 알았고 그리고 각도 도영이였어 각의 이름도 불러줄 수 있었고 그리고 이름을 써줄 수도 있었어요. 아, 너는 각 누구야? 넌 각 누구야? 그죠? 그리고 특별한 각, 직각도 알았습니다. 그러면 개념화 한번 확인해 볼게요. 각의 이름을 쓰고 변과 꼭지점을 찾아줄 수 있어요. 각의 이름을 불러줄 때는 누가 우리 친구들 이름 잘못 부르면 기분 나쁠 수 있잖아요. 맞아요. 각도 이름을 제대로 불러줘야 되는데 특히 이 각의 꼭지점을 앞에 또는 뒤에 부르면 안 되고 이 각의 꼭지점이 가운데 오도록 불러줘야 돼요. 그래서 각ㄱ, ㄴ, ㄷ 또는 각ㄷ, ㄴ, ㄱ 각도 이름이 두 개구나. 그 다음에 또 각도 변 두 개 갖고 있죠. 두 반직선이 바로 각의 변이에요. 그래서 변, ㄴ, ㄱ 그리고 변, ㄴ, ㄷ 이렇게 불러줍니다. 변도 우리 각의 꼭지점 먼저 시작해서 불러줍니다. 그 다음에 꼭지점은 ㄴ이라고 말해줄 수 있는 거죠. 좋아요. 그럼 우리도 연습해 볼게요. 다음 각의 이름을 쓰고 변과 꼭지점을 써보세요 라고 했어요. 선생님하고 1번 연습해 볼 테니까 나머지 문제들은 이 시간 끝나고 이제 말 안 해도 알죠? 숙제입니다. 먼저 우리 각이 있는데 각의 꼭지점이 전 미음이고요. 두 반직선으로 이루어졌네요. 그러면 각아 각아 너의 이름은 뭐니? 각ㄴㅂ, ㄹㅁㅂ 또는 반대로도 불러줄 수 있죠. 각ㅂ, ㅁ, ㄹ 이렇게 말이에요. 각의 두 변은 우리 각의 꼭지점부터 시작해서 변, ㅁ, ㄹ 변, ㅁ, ㅂ 그리고 꼭지점은 미음이다 라는 걸 알 수 있습니다. 좋아요. 그러면 우리 특별한 각, 직각을 찾아서 다음과 같이 예쁘게 한번 표시해 봐요. 자 지금 보니까 우리 4번에서 1번하고 2번 도형에서 직각을 모두 찾아 다음과 같이 표시해 보세요 라고 했습니다. 딱 봐도 우리 친구들 직각 여기 있는 거 알 수가 있는 거죠? 그래서 짜잔 직각 반듯반듯 그리고 여기서도 반듯반듯 이렇게 표시해 주면 되겠습니다. 좋아요. 자 그러면 이제 우리 수혜력도 확인해 봤으니까 수혜력을 높여 보도록 할게요. 먼저 1번 문제입니다. 다음 중 각이 없는 도형을 모두 찾아 기호를 써보세요 라고 했어요. 우리 도형 안에서도 각들이 이렇게 숨어 있다라고 했죠? 그럼 한번 찾아 볼게요. 각 부분에다 선생님하고 동그라미를 이렇게 표시를 해 가지고 아 여기 각이 여기 있구나 라고 한번 알아봐요. 자 각 같은 경우에는 삼각형이네요. 그러면 삼각형의 꼭지점이 3개인데 이곳이 각의 꼭지점으로 이렇게 생긴 각 보이나요? 우리 친구들 아 여기에 각이 있고 여기도 각이 있고 여기도 각 3개나 되네 그 다음에 나 도형을 보니까 자 여기는 각이네 여기도 있고 여기도 있고 삐 그럼 안 되죠 왜냐하면 반듯해야 되는데 지금 얘는 굽은 선이잖아요 그러니까 나의 선을 하나만 찾을 수 있어요. 그 다음에 다는 어 동그라미 원인데 아니 여기에서 우리 반직선 찾을 수도 없죠 점도 찾을 수 없어요 우리가 딱 똑바르게 각의 꼭지점도 찾을 수 없기 때문에 각이 없구나 라는 아 우리가 배웠던 모양 그대로에요 각이 하나가 있구요 마는 얘도 각이 없어요 굽은 선이잖아요 그죠 반은 어때요 자 여기 각 보이네요 하나, 둘, 셋, 넷, 다섯, 여섯 무려 6개나 보이는걸요 자 그래서 각이 없는 도형을 모두 찾으세요 라고 했으니까 다라, 마가 있어요 그러면 이런 문제는 어떻게 살짝 바꾸어서 나올 수 있냐면 다음 중 각이 많은 순서대로 각을 많이 갖고 있는 도형 순서대로 기호를 써보세요 라고도 나올 수 있는 거예요 그럼 여기서는 바가 가장 많죠 그 다음에 또 가가 3개 그리고 나랑 라는 똑같으니까 그럴 때는 우리 이제 나랑 이렇게도 문제가 나올 수 있어요 만약에 여기가 2개가 있고 1개가 있으면 순서대로 쓸 수도 있지만 이 중에서 각의 개수가 같은 게 누구예요 라고 했을 때는 각각 1개씩 갖고 있는 나와, 라요 이렇게 답할 수도 있구요 여러가지 문제로도 받고 나올 수 있구나 라는 것도 알아주세요 자 그러면 우리 이제 넘어갈게요 4번 갑니다 다음에서 설명하는 도형은 각이 모두 몇 개인가요? 라고 했어요 어? 도형이 그림도 안 그려주고 이걸 어떻게 알지? 도형에 대해서 설명하고 있으니까 우리가 직접 도형의 정체를 한번 밝혀내 봐요 먼저 첫 번째 평면도형입니다 음 그럼 삼각형, 사각형 같은 도형들이군 두 번째, 변이 5개가 있대요 삼각형은 변이 3개, 사각형은 변이 4개인데 아니 걔보다 하나가 더 있다고? 자 변 5개 한번 그려볼까요? 하나, 둘, 셋, 넷, 다섯 이렇게 둘러싸게 그렸어요 그래야지만 세 번째, 꼭지점이 5개 있습니다 꼭지점 하나, 둘, 셋, 넷, 다섯 개 아 이런 모양이구나 물론 모양은 조금 다를 수 있어요 크기도 다를 수 있지만 대체적으로 평면도형에다가 변이 5개 하다가 꼭지점이 5개라는 걸 그렸습니다 그럼 이제 도형도 알았으니 각이 모두 몇 개인가요? 각을 한번 세보도록 하죠 자 이 꼭지점 부분에서 각을 찾을 수 있어요 이렇게 뻗어나가는 반직선이라고 한다면 하나, 그 다음 둘, 셋, 넷, 다섯 따라서 각은 모두 5개가 되겠습니다 좋아요 우리가 직접 도형도 그려봤습니다 자 그 다음에 7번 문제 다음 도형의 안쪽에서 찾을 수 있는 직각은 모두 몇 개인가요? 라고 했어요 안쪽에서 찾는 겁니다 그러니까 이 바깥쪽 말고 여기 안에만 우리가 살펴보면 되겠고 특별한 직각, 반듯한 각이죠 선생님하고 표시하면서 한번 찾아볼게요 어디부터 출발해 볼까나 바로 이 꼭지점 부분부터 한번 가보죠 자 그럼 여기 반듯하네 직각 찾았고 이렇게 표시했습니다 쭉 따라가 볼까요 여기서도 반듯한 각, 직각 찾았고요 쭉 따라가 볼게요 여기서도 있어요 안쪽에 그죠 그리고 쭉 따라가 보면 여기서도 이렇게 있습니다 그 다음에 쭉 따라가면 어? 얘는 어때요? 직각이 아니죠 선생님 여기 직각이에요 에이 얘가 직각은 맞지만 안쪽에서 찾으라고 했잖아요 그러니까 우리가 찾는 각은 아니에요 그 다음에 쭉 따라가 볼게요 어? 여기 안쪽에 직각 있는 거 확인했죠 그 다음 쭉, 얘도 바깥쪽이니까 아니고 여기도 있어요 다 찾은 것 같은데요 우리가 한 바퀴를 뺑 둘러서 찾았어요 그럼 이제 몇 개인지 세보도록 하죠 하나, 둘, 셋, 넷, 다섯, 여섯 아하 직각이 모두 여섯 개구나 라는 걸 알 수 있습니다 안쪽에서만 찾는다는 거 우리 친구들 주의해 주세요 좋아요 그럼 이제 8번 문제 다음 모양의 종이를 점선을 따라 모두 잘랐습니다 자르기 전과 비교하여 각의 개수가 몇 개가 더 늘어났는지 프리과정을 쓰고 답을 구해보세요 라고 했어요 그러면 자르기 전과 자른 후를 비교해야 되겠죠 먼저 자르기 전부터 한번 볼게요 점선이 있지만 우리가 이제 자르기 전을 생각했을 때는 각에다가 한번 표시를 해 볼게요 자 이렇게 각이 있구나 하나 그 다음에 이렇게 각 있죠? 둘, 이렇게 셋, 넷, 다섯, 여섯 아 하나, 둘, 셋, 넷, 다섯, 여섯 개 각이 있어요 그 다음 이제 잘랐습니다 자 선생님하고 잘라 볼게요 슥슥슥슥 자르면 위에는 이런 삼각형 모양이 나오겠구요 그 다음에 슥슥슥슥 이렇게 잘랐습니다 그럼 다음과 같이 이런 모양의 삼각형 나오겠죠 또 여기도 슥슥슥 이렇게 자르면 삼각형 모양 나오고 아래도 삼각형이 나오면서 삼각형 4개로 이렇게 나누어지는 걸 알 수가 있어요 그럼 자른 후에는 각이 몇 개나 있는지 함께 세보도록 해요 자 먼저 여기에서는 하나, 둘, 셋 삼각형이니까 각이 3개가 있겠죠 근데 그 다음 것도 그러면 3개가 있겠네요 자 넷, 이어서 세볼게요 다섯, 여섯, 그 다음 삼각형도 3개 일곱, 여덟, 아홉, 그 다음도 3개 함께 소리내서 세봅니다 열, 열하나, 열둘 아 6개였다가 12개가 되었어 그럼 몇 개가 늘어난 거예요 맞아요 6개가 늘어났죠 이제 우리가 프리과정 쓰기 전에 이 문제를 파악했으니까 멋지게 써보도록 할게요 우리 친구들이 특히 이런 프리과정을 쓸 때 어려워하는데 프리과정을 먼저 뭘 쓰지라고 고민하니까 그래요 그보다 일단 문제를 파악하고 이 문제는 어떻게 해결하는 거야를 먼저 생각해 주세요 선생님처럼 이렇게 전 6개, 후 12개라는 걸 구했으니까 그 내용을 그대로 써주면 되겠죠 자르기 전에는 각이 6개였고 자른 후에는 각이 12개가 되었다 라는 내용 써보도록 할게요 자 자르기 종이를 자르기 전에는 각의 갯수가 6개였고 그 다음에 자른 후에는 각이 12개입니다 아 그래서 몇 개가 늘어났다, 6개가 늘어났다 따라서 자르기 전과 비교하여 몇 개? 맞아요 6개가 늘어났습니다 중요한 부분이죠 따라서 정답은 6개가 정답이 되겠습니다 선생님하고 이렇게 프리과정 쓸 때마다 아 어떻게 쓰는 거야 라고 알려줄 테니까 선생님의 꿀팁을 다 전수 받아야 됩니다 좋아요 그럼 이제 수혜력도 높여봤고 이제 완성할 일만 남았어요 우리 친구들 완성하는 문제는 우리 친구들이 특별히 어려워하는 문제 유형만 골라서 나왔어요 그래서 이런 문제는 우리 친구들이 이제 학년이 올라갈수록 올라가도 계속 나올 수 있기 때문에 아 이런 유형은 이렇게 푸는구나 라는 것도 한번 느껴보세요 먼저 대표응용 첫 번째는 크고 작은 각 찾기 각이 뭔지 알았습니다 그럼 그림에서 각을 찾을 수 있어야 되는데 이제 하나씩 있는 거는 되게 잘 찾거든요 근데 다음과 같이 각의 변이 여러 개가 나왔을 때는 우리가 꼼꼼하게 크고 작은 각을 다 찾아 줘야 돼요 자 그럼 문제는 이래요 다음 그림에서 찾을 수 있는 크고 작은 각은 모두 몇 개인가요? 라고 했습니다 이게 무슨 말일까? 일단 지금 그림을 보면은 작은 각 한 개짜리 각이 몇 개로 나눠져 있냐면 하나 둘 셋 세 개로 나눠져 있어요 근데 우리 이렇게 이제 프리 가정으로 우리 친구들하고 이해하기 위해서 작은 각에다가 이름을 붙여줬습니다 각ㅎ, 각ㄴ, 각ㄷ 자 그럼 먼저 1단계 해결을 하려면 다른 선을 포함하지 않는 각이 몇 개인지 찾고 기호로 표시하는 거예요 그러니까 쉽게 이 말이 무슨 말이냐 한 개짜리 각에 표시를 하는 겁니다 그 다음 우리 2단계는 각을 한 개만 포함하는 경우 두 개 포함하는 경우 세 개 포함하는 경우로 나누어 각각의 개수를 구해주는 거예요 우리 친구들 쉽게 선생님이 이렇게 각 하나를 그려볼게요 근데 그 안에 자 같은 각의 꼭짓점에서 반직선을 하나 이렇게 더 그어서 둘로 나눠 볼게요 그럼 각이 몇 개라고 했을 때 아 둘로 나눠졌으니까 두 개요 라고 하면 안 돼요 왜냐하면 이 각도 각이고 이 각도 각이지만 처음 그렸던 바로 이 두 변을 가지고 있는 두 개짜리 각도 보여야 되기 때문에 여기서는 세 개다 라고 말해야 되거든요 그러면 여러 개의 반직선이 있을 때도 우리 친구들이 꼼꼼하게 찾아 주려면 자 먼저 우리 ㄱ, ㄴ, ㄷ 이라고 이름을 붙여줬죠 그럼 먼저 한 개만 포함하는 경우 각을 한 개만 포함하는 경우는 ㄱ, ㄴ, ㄷ 몇 개예요 그래야 세 개를 찾을 수 있어요 자 이제 각의 개수를 늘려 보세요 각을 두 개 포함하는 경우입니다 그러면 ㄱ하고 ㄴ이 합해진 각 ㄴ하고 ㄷ이 합해진 각 두 개죠 선생님 ㄱ하고 ㄷ도 있잖아요 하지만 얘네들은 우리가 각이라고 볼 수 없잖아요 그렇죠? 떨어져 있단 말이에요 그렇기 때문에 우리 ㄱ, ㄷ은 아니고 자 ㄱ과 ㄴ을 합한 각 그리고 ㄴ과 ㄷ을 합한 각 몇 개? 두 개입니다 그럼 이제 전체도 봐야 돼요 바로 전체는 각 세 개를 포함하는 경우라고 표현할 수가 있겠죠 그러면 ㄱ, ㄴ, ㄷ까지 합해서 아 한 개구나 라는 걸 알 수 있습니다 자 꼼꼼하게 각각 다 찾았어요 그런 다음에 이들을 어때? 어때야 돼요? 싹 다 더 해줘야 되죠 따라서 그림에서 찾을 수 있는 크고 작은 각은 한 개짜리 각 세 개였고 두 개짜리 각 두 개였고 전체 세 개짜리가 한 개였으니까 이를 더해서 6, 즉 여섯 개입니다 라는 걸 알 수가 있는 겁니다 이제 이 그림에서 좀 더 그림이 복잡해진 것도 연습을 할 거니까 시작해 볼게요 어떻게 구해야 되는지 방법 알았어요 우리 맛있는 피자빵이 그림에 나왔네요 그림과 같은 피자빵이 있습니다 피자빵에서 찾을 수 있는 크고 작은 각은 모두 몇 개인지 구해보세요 라고 했습니다 우리 친구들 주위를 한 바퀴를 쭉 둘러보면 피자빵 뿐만 아니라 여러 가지 모양에서 각을 찾을 수 있어요 특히 직각이 굉장히 많이 찾아질 겁니다 사실요 우리는 직각 나라에 살고 있다고 해도 과언이 아니거든요 지금 우리 친구들이 선생님 수업을 듣고 있는 모니터에서도 직각이 몇 개? 네 개 있죠 그리고 늘 드나드는 문에서도 직각을 찾을 수 있고 그리고 또 교실 창문 얼마나 많은 노트, 많은 책들 얼마나 많은 물건에서 직각을 찾을 수 있는지 몰라요 자 직각 뿐만 아니라 직각이 제일 많이 보이겠지만 직각 뿐만 아니라 이러한 빵에서도 우리가 각을 찾을 수가 있습니다 그럼 여기에서 이제 크고 작은 각 선생님하고 어떻게 찾기로 했죠? 맞아요 나누어진 각에다가 이름을 먼저 붙여 보도록 할게요 자 여기를 ㄱ, ㄴ, ㄷ, ㄹ 이라고 해볼게요 그럼 우리 친구들 잘 안 보이니까 이렇게 쓸까요? 선생님이 여기다가 ㄱ 만약에 이제 피자빵이 이렇게 돼 있을 때 각만 다시 그려볼게요 이렇게 돼 있는 겁니다 선생님이 이 반직선만 그렸어요 ㄱ, ㄴ, ㄷ, ㄹ 몇 개부터? 각 한 개를 포함한 것부터 찾아야 되겠죠? 그래서 각 한 개를 포함하는 각 찾아보면 ㄱ도 있고, ㄴ, ㄷ, ㄹ 모두 몇 개예요? 맞아요 4개다 라는 거 하나 찾아 놓고 그 다음에 각 두 개를 포함하는 각을 찾아 볼게요 보세요 ㄱ, ㄴ, ㄴ, ㄷ, ㄷ, ㄹ 그러니까 ㄱ과 ㄴ을 합한 각, ㄴ과 ㄷ을 합한 각, ㄷ과 ㄹ이 합해진 각 몇 개 찾았어요? 맞아요 3개 찾았어요 이제 각 3개를 포함하는 각 찾아 볼게요 ㄱ, ㄴ, ㄷ, ㄴ, ㄷ, ㄹ 이렇게 두 개밖에 없네요 그래서 ㄱ, ㄴ, ㄷ, ㄴ, ㄷ, ㄹ 이렇게 두 개구나 라는 걸 알 수 있고요 그 다음에 그러면 각 4개, 전체이기도 하죠 이곳은 전체각을 말하는 거니까 ㄱ, ㄴ, ㄷ, ㄹ이 더해진 각이라고 볼 수 있으니까 한 개구나 라는 걸 알 수 있습니다 포함하는 각의 개수를 하나씩 늘리면 찾을 수 있는 각이 하나씩 줄어든다는 규칙도 우리 친구들 발견할 수 있을 거예요 따라서 개수 세 볼게요 4개, 3개, 2개, 1개를 더해 보면 모두 10개가 되겠습니다 따라서 이 비자빵에서 찾을 수 있는 각은 모두 10개구나 우리 친구들 앞으로 이런 빵 같은 거 먹을 때 그냥 먹지 말고 여기는 각이 뭐가 있나 라는 거 찾으면서 한번 먹어보세요 재밌을 것 같아요 과자도 그렇고요 그 다음 1-2번 문제로 가보죠 다음 도형에서 점, ㄴ을 꼭지점으로 하는 각을 모두 찾아 써보세요 라고 했습니다 우리 친구들 점, ㄴ을 꼭지점으로 하는 건 크고 작은 각을 다 찾아야 되는 거니까 일단은 이것도 나눠진 각이 있죠 이렇게, ㄱ, 이렇게 한 개씩, ㄴ, ㄷ이라고 해볼게요 그럼 일단 각 하나를 포함하는 각 우리가 근데 각의 이름을 불러줘야 되기 때문에 어떻게 쓰면 될까요? 답은 여기 이제 짧으니까 선생님이 굉장히 여러 개가 있기 때문에 여기서부터 답을 써보도록 할게요 각, ㄱ, ㄴ, ㄴ 근데 이름 두 개라고 했잖아요 바로 요각은 순서를 바꿔 불러도 되죠 아 너는 각, ㄴ, ㄴ, ㄱ이야 라고 부를 수도 있는 거예요 그 다음에 이제 ㄴ ㄴ은 각, ㄴ, ㄴ, ㄹ 우리 각 이름 불러줄 때 조심하라고 그랬습니다 각의 꼭지점이 가운데 오도록 불러줘야 되니까 각, ㄴ, ㄴ, ㄹ 아니면 각, ㄴ, ㄴ, ㄴ으로 불러줄 수도 있어요 그 다음에 바로 ㄷ은 뭐라고 불러줄 수 있을까요? 각, ㄴ, ㄴ, ㄷ ㄹ, ㄴ, ㄷ 또는 각, ㄷ, ㄴ, ㄹ 이렇게 한 개가 포함된 각 세 개를 찾았습니다 그럼 이제 두 개를 포함하는 각은 자 이렇게 ㄱ하고 ㄴ을 포함하는 요각을 말하는 거죠 그러니까 각, ㄱ, ㄴ, ㄹ 바꿔 불러도 되잖아요 각, ㄹ, ㄴ, ㄱ 그 다음에 또 ㄴ하고 ㄷ을 포함하는 요렇게 각도 찾아보세요 그러면 각, ㄴ, ㄴ, ㄷ 또는 각, 바로 ㄷ, ㄴ, ㄴ도 있습니다 두 개를 포함하는 각을 찾았고요 자 여기는 지금 한 개를 포함하는 각, 두 개를 포함하는 각이니까 이제 전체 세 개는 어때요? 각, ㄱ, ㄴ, ㄷ 또는 각, ㄷ, ㄴ, ㄱ이 되는 거죠 그래서 우리 친구들 다음과 같이 여섯 개의 각을 모두 찾아 써볼 수가 있습니다 좋아요 굉장히 많은 각들을 이렇게 찾았고요 자 이제 1-3번 다음 도형을 보고 직각을 이루는 꼭짓점에서 찾을 수 있는 크고 작은 각은 모두 몇 개인지 구해보세요 라고 했어요 그러면 일단 직각을 이루는 꼭짓점? 니가 어디 있지? 부터 찾아야 되겠는데요 어디 보자 직각을 찾을 때는 우리 친구들 삼각자를 사용해도 되겠고 아니면 우리가 이제 노트 같은 끝부분이 직각이잖아요 그러니까 이렇게 대봐도 됩니다 자 여기가 바로 직각이네요 그러면 직각을 이루는 꼭짓점 찾았죠 바로 여기에서 찾을 수 있는 크고 작은 각 일단 한 개짜리 각이 네 개입니다 그래서 ㄱ, ㄴ, ㄷ, ㄹ 이라고 했을 때 찾아보도록 하죠 각 한 개를 포함하는 것은 우리 앞에서 많이 찾았죠? ㄱ, ㄴ, ㄷ, ㄹ 네 개가 되겠고요 각 두 개를 포함하는 것은 보세요 ㄱ, ㄴ, ㄴ, ㄷ, ㄷ, ㄹ 세 개를 찾을 수 있고요 각 세 개를 포함하는 각은요 자 이렇게 색깔 달리 해볼까요 ㄱ, ㄴ, ㄷ, ㄴ, ㄷ, ㄹ 이렇게 찾을 수 있죠 두 개 선생님하고 포함하는 각의 개수가 늘어나면 개수가 하나씩 줄어드는 규칙도 있다고 선생님이 말을 해줬는데 우리 친구들 규칙으로 찾지 말고 지금은 우리 연습을 해야 되니까 기초를 쌓아야 되니까 직접 한번 찾아보세요 그 다음에 각 네 개짜리 전체각을 말하는 거니까 바로 전체, 이 직각을 말하는 거죠 그래서 이제 한 개가 되는 걸 알 수 있습니다 그럼 이제 모두 더 해봐야 되겠네요 따라서 4 더하기 3 더하기 2 더하기 1은 10으로 계산이 됩니다 아 모두 10개예요 라는 걸 알 수가 있겠습니다 좋아요 자 그럼 이제 제일 어려운 1-4번 우리 연습해서 실력 좀 쌓았으니까 거뜬히 풀어볼까요 오각형의 꼭지점 길이 이어 다음과 같은 도형을 만들었어요 큰 오각형의 꼭지점에서 찾을 수 있는 크고 작은 각의 개수를 모두 합하면 몇 개인지 구하세요 라고 했습니다 자 큰 오각형이라고 했거든요 큰 오각형의 꼭지점이니까 굉장히 여러 개 뭐 작은 오각형 여기도 보이고요 삼각형도 보이고요 삼각형 되게 여러 개 보이죠 그래서 도형이 굉장히 많이 보이는데 큰 오각형이니까 전체를 말하는 거예요 그러면 그 꼭지점이니까 아 얘네들을 말하는구나 다섯 개를 말하는구나 라는 거 문제를 일단 이해해야 되는 거고 그리고 여기서 찾을 수 있는 크고 작은 각은 먼저 하나에서 한번 찾아보도록 할게요 자 작은 각 몇 개로 나눠져 있어요 이번에는 1번 각, 2번 각, 3번 각으로 한번 해볼까요 그러면 각 1개 짜리는 바로 3개 1번, 2번, 3번 각 2개 짜리는 1번, 2번, 2번, 3번 이렇게 2개가 되겠고요 각 3개 짜리는 1, 2, 3번 합한 1개가 되어서 모두 3 더하기 2 더하기 1 6개를 찾을 수 있어요 자 그럼 꼭지점마다 찾을 수 있는 각의 개수가 다를까? 아니죠 여기서 6개를 찾을 수 있다면 여기서도 6개를 찾을 수 있고 여기서도 6개, 여기서도 6개 6개, 6개 모두 5개의 꼭지점에서 6개씩 찾을 수 있겠죠 아 따라서 바로 5 곱하기 6을 하면 되겠구나 즉 찾을 수 있는 각은 모두 합하면 30개가 되는 걸 알 수가 있겠습니다 이해됐어요? 조금 어렵죠 그죠 문제를 좀 파악해서 어떤 부분을 말하는지 우리 친구들이 그 부분을 이해해야 되겠습니다 자 그 다음은 우리 대표 응용, 응용 두 번째 시계에서 직각 찾기 우리가 매일 시계 하루에도 몇 번씩 들여다보잖아요 지금 몇 시지? 그랬을 때 그 시계에도요 긴 바늘과 짧은 바늘이 직각을 가리키는 시각이 있어요 자 다음 그림과 같이 시계의 긴 바늘이 10위를 가리키고 있는데요 긴 바늘과 짧은 바늘이 이루는 작은 쪽의 각의 크기가 직각일 때 시각을 모두 구해보세요 라고 했습니다 자 먼저 1단계는 직각삼각자의 직각 부분을 이용하여 직각을 만들어 보면요 자 우리 친구들 직각삼각자 갖고 오세요 이렇게 만들 수 있고요 또 이쪽으로도 이렇게 만들 수 있는 거예요 그죠 자 그래서 바로 직각삼각자의 직각 부분이 꼭지점을 시계의 중심에 맞추고 여기에 맞추고 한 변을 긴 바늘과 겹치게 한 다음에 다음과 같이 직각이 되도록 만들면 자 요렇게 그리고 또 이쪽으로도 요렇게 그을 수 있어요 아 그렇다면 직각이 되도록 나머지 한 변을 그어 보면 시계의 큰 숫자는 3과 9를 가리킨다 라는 걸 알 수 있죠 따라서 시계의 긴 바늘이 10위를 가리키니까 정각을 말해요 긴 바늘과 짧은 바늘이 이루는 작은 쪽의 각의 크기가 직각인 시각은 바로 3시하고 9시구나 라는 걸 알 수 있는 거예요 우리 친구들이 시계를 보면서 꼭 이해해 주세요 자 그러면 2-1번 문제도 해결할 수 있어요 다음 조건에 맞는 시각은 하루에 모두 몇 번 있는지 구해보세요 라고 했습니다 시계의 긴 바늘이 10위를 가리키니까 정확하게 몇 시를 말하는 거고 긴 바늘과 짧은 바늘이 이루는 작은 쪽의 각의 크기가 직각이다 그러면 아까 우리 3시하고 9시하고 이렇게 두 개 찾았으니까 2번 띵 하루잖아요 우리 친구들 하루는 오전과 오후로 나뉘어져 있죠 오전 3시 우리가 말하는 새벽 우리 쿨쿨 자고 있을 때 그리고 오후 3시 또 열심히 밖에서 활동하고 있을 때 뭐 집에 있거나 자 그렇기 때문에 오전 3시와 오전 3시와 오전 9시 그리고 오후 3시와 오후 9시 이렇게 하루에 4번이나 있답니다 자 따라서 정답은 4번이다 라는 거 2번으로 착각하기 쉽겠죠 그 부분 조심해 줘야 돼요 자 그 다음 우리 2-2번 문제는요 연우와 상철이의 대화를 읽고 둘이 만나기로 한 시각은 언제인지 구해보세요 라고 했어요 우리 언제 만날까 지금은 오전 8시야 와 일찍도 얘기하고 있어요 그쵸 지금 이후로 시계의 긴 바늘이 10일을 가리키면서 동시에 짧은 바늘과 두 번째로 직각을 이루는 시각에 만나자 라고 했습니다 우리 직각을 이루는 시각은 3시하고 9시에요 그렇다면 지금이 오전 8시인데 그 다음에 직각을 이루는 시각은 오전 1시간 뒤에 9시가 되는 거죠 근데 두 번째로 직각을 이루니까 그 다음은 어때요 우리 오전 9시에서 또 아침도 먹고 12시가 지나서 점심도 먹고 오후 3시에 그 다음 직각을 이루겠어요 첫 번째 두 번째니까 아 우리 두 친구들이 오후 3시에 만나겠구나 라는 걸 알 수 있겠죠 좋아요 자 그럼 오늘의 마지막 문제 2-3번 생각해야 될 부분이 많습니다 일단 문제부터 보죠 견우와 직녀가 7월 7일 오후 10시에 만나기로 했대요 견우와 직녀의 대화를 읽고 오늘이 몇월 며칠인지 구해보세요 라고 했습니다 견우 우리가 만나기로 한 날이 며칠 남았죠 직녀 정각이면서 짧은 바늘과 긴 바늘이 직각을 9번 이루면 만나게 될 거예요 라고 하고 있네요 그러면 만나기로 한 날은 지금 7월 7일 오후니까 밤 늦은 시각 같아요 그쵸 그러면 9번 이루면 만난다 라고 했으니까 거꾸로 한번 7월 7일 오후 10시까지는 우리 직각을 이루는 시각이 몇 번 있었는지 한번 알아보죠 자 오후 10시 바로 전에 오후 9시 9시 하고 3시만 알아보면 되는 거잖아요 그 다음에 오후 3시도 있고 그 다음 오전 9시 오전 3시 이렇게 4번 지났습니다 그렇다면 똑같이 7월 그 전에 6일에도 똑같이 이렇게 4번이 지났겠죠 9번 지나야 된다고 했으니까 그 전날 바로 7월 5일 자 마지막이 이제 오후 9시가 정각을 이루면서 직각을 이루는 시각이잖아요 가장 늦은 시각이니까 여기까지 해가지고 한번 4번 4번 총 9번 지나서 오후 10시에 만나기로 한 거예요 그러면 우리 두 사람이 이야기를 한 거는 바로 오늘은 7월 5일이 되는 걸 알 수가 있겠죠 몇 시까지인지는 모릅니다 지금 몇월 며칠인지 구해보자 라고 했으니까요 7월 5일이구나 라는 걸 알 수가 있겠습니다 자 좋아요 이렇게 견우와 직녀가 언제 대화를 했는지까지 알아봤습니다 우리 친구들 오늘의 미션 클리어 했나요? 각의 정체를 밝혀라 라고 했는데 각도 도형이었다 그리고 각 이름 잘못 부르면 안 된다 제대로 각의 꼭지점이 가운데 오도록 각ㄱㄴㄷ 또는 각ㄷㄴㄱ이라고 불러줘야 된다라는 거 자 오늘의 미션 클리어 했습니다 함께한 내용 우리 친구들 각 너무너무 중요하고 앞으로 계속 나오기 때문에 하나라도 모르고 지나가는 게 없이 꼼꼼하게 복습해 주세요 다음 시간 새로운 내용으로 다시 찾아올게요 여러분 안녕\n",
      "02강평면도형(2)_초등수해력-도형·측정3단계.mp3에 대한 텍스트가 ./ebs_script/new/02강평면도형(2)_초등수해력-도형·측정3단계.txt로 저장되었습니다.\n",
      "Transcription for 03강1-4_모양에서규칙찾기,2-1_길이_높이비교하기_초등수해력-도형·측정1단계.mp3:\n",
      "친구들 안녕하세요 초등수력 도형측정 1단계 정소연 선생님입니다 우리 오늘은요 벌써 3번째 강의에요 친구들 잘 열심히 따라오고 있죠 오늘은 어떤 공부할지 함께 살펴볼까요 일단 오늘 첫 번째 부분에서는 1단원의 4번째 내용이에요 모양에서 규칙 찾기 우리 친구들 주변에서 볼 수 있는 여러가지 모양 또는 무늬 이런 것들 있죠 그 속에서 우리만의 규칙을 한번 찾아서 설명해보는 그런 공부를 할 거에요 그리고 두 번째 내용은요 2단원의 첫 번째 내용입니다 길이 또는 높이를 비교해보는 공부를 할 거에요 친구들 길이가 뭔지 알아요? 높이는요? 음 잘 알고 있다면 오늘 공부 잘 할 수 있을 거에요 모른다고 걱정하지 마세요 선생님이 도와줄 테니까요 자 그럼 첫 번째 내용부터 출발해 볼게요 자 첫 번째 입니다 규칙을 찾아볼까요 라고 되어 있구요 모양에서 규칙을 찾아보아요 라고 되어 있어요 여기 학교 벽에 이런 무늬가 그려져 있다고 한번 생각해 볼게요 그리고 이 무늬 속에서 어떤 규칙을 발견할 수 있는지 떠올려 볼게요 규칙이라고 하면 어떤 걸 말할 수 있을까요? 음 비슷한 또는 똑같은 무늬가 반복되는 것 이것에서 규칙을 찾을 수 있는 거에요 예를 들면 음 이건 어떤 모양이죠? 맞아요 네모 모양 그리고 그 옆에는 세모모양 그 다음은 또 네모 모양 그 다음 세모모양 어? 네모 그리고 세모 이렇게 보니까요 무엇이 반복되고 있어요? 맞아요 네모모양과 세모모양이 이렇게 한 쌍으로 묶여서 이 쌍이 쭉쭉쭉 반복되고 있다는 것을 알 수 있죠 그래서 이 규칙을 한 문장으로 표현하면 이렇게 말할 수 있어요 네모모양과 세모모양이 한 개씩 반복됩니다 라고 말이에요 이제 규칙 어떻게 찾고 어떻게 설명하는지 좀 알겠나요? 그럼 그 다음 걸 한번 볼게요 음 이번에도 규칙이 있는데요 우리 친구들이 한번 잘 찾아서 나타내 보세요 첫 번째 사과 사과 바나나 바나나 사과 사과 바나나 바나나에요 어? 어떤 규칙이 있어요? 맞아요 사과와 바나나가 각각 두 개씩 두 개씩 반복되어 나타나고 있죠 그런데 이 사과와 바나나를요 모양이나 숫자나 또는 몸으로 바꾸어서 규칙을 또 표현할 수도 있어요 예를 들어 볼게요 사과는 동그라미로 바나나는 세모모양으로 바꾸어서 나타내 보는 거예요 그러면 이 윗줄에 있는 규칙을 이렇게 바꿀 수 있지 동그라미 둘 세모 둘 동그라미 둘 세모 둘 이런 식으로요 자 그럼 그 아래 줄도 볼게요 이번에는요 사과는 숫자 1로 바나나는 숫자 2로 나타내고 있어요 그럼 뭐라고 설명하면 되죠? 맞아요 숫자 1 두 번 그 다음 숫자 2 두 번 숫자 1 두 번 숫자 2 두 번 그래서 숫자 1과 숫자 2가 두 번씩 반복되고 있어요 라고 말할 수 있는 거죠 자 이것뿐은 아니에요 몸으로도 규칙을 나타낼 수 있어요 예를 들면 사과는 두 손을 번쩍 든 몸으로 나타내고요 그 다음 바나나는 이렇게 머리 위에 동그라미를 그린 모양으로 나타내는 거예요 그럼 어떻게 할 수 있죠? 음 번쩍 번쩍 동그라미 동그라미 번쩍 번쩍 동그라미 동그라미 이렇게 하면 위에 있는 규칙을 몸으로도 표현할 수 있는 거죠 아 그래서 규칙을 나타낼 때는 한 가지 방법만 있는 게 아니라 여러 가지 방법이 있을 수 있구나라는 걸 알 수 있어요 그럼 이번에는요 또 다른 규칙도 찾아볼게요 크기와 색깔에서 규칙을 찾아보아요 라고 했어요 자 여기 그림을 볼까요? 음 액자에 그림이 그려져 있는 것 같은데 여기에 그 액자 겉부분에 빨간색으로 네모 표시가 되어 있죠 안에 있는 그림 내용은 똑같은데 액자의 크기가 서로 다르잖아요 그래서 이 빨간 네모 부분만 떼어서 아래에서 나타내 보면 큰 네모 하나 작은 네모 둘 큰 네모 하나 작은 네모 둘 이렇게 큰 네모 하나와 작은 네모 둘 이런 모양이 반복됩니다 라고 말할 수 있는 거예요 그럼 이번엔 그 아래쪽 그림도 볼까요? 여기에는 동그라미가 쭉 있는데요 색깔이 서로 달라요 빨간색 하나 파란색 하나 빨간색 하나 파란색 하나 이렇게 그럼 이걸 뭐라고 표현하면 될까요? 빨간색과 파란색 동그란 모양 동그라미 모양이 한 개씩 반복됩니다 라고 설명할 수 있는 거예요 그래서 이 두 가지 예를 통해서 규칙은 크기 또는 색깔로도 표현될 수 있다는 것을 알 수 있는 거죠 됐어요? 그럼 우리 일상생활 속에서도 규칙을 한번 찾아볼게요 우리 친구들 혹시 이렇게 생긴 비슷한 옷 본 적 있나요? 선생님은 이런 옷이 있거든요 여기에서는 어떤 규칙을 찾을 수 있나요? 맞아요 이런 다이아몬드 모양이 있는데 회색과 검정색이 반복되고 있다는 것을 알 수 있죠 색깔이 반복되는 거예요 맞아요? 그리고 여기 이런 물결 모니가 있는데요 구분선 모양은 똑같은데 여기에서도 마찬가지 무엇이 반복되고 있죠? 색깔이 반복되고 있어요 어떤 색깔? 연두색 빨간색 초록색 연두색 빨간색 초록색 연두 빨강 초록 이렇게 세 가지 색깔이 한 번씩 반복되고 있다는 것을 알 수 있어요 자 그럼 이제 규칙을 찾는 건 잘할 수 있어 이제 무엇을 할 수 있어야 되냐면요 어떤 규칙을 알려주면 그 규칙에 따라 색칠하는 것도 할 수 있어야 돼요 예를 들어 볼게요 이런 네모 바둑판 같은 무늬를 그려놓고 연두색과 보라색을 반복해서 색칠해 보세요 라고 하면 우리 친구들 어떻게 해야 될지 알겠죠 연두색 먼저 그 다음 보라색 연두색 보라색 연두색 보라색 이런 식으로 반복해서 오른쪽으로 한 칸씩 하면서 색칠을 해주면 된다는 거예요 그리고 이 오른쪽에 있는 친구는 뭐라고 얘기했냐면 어? 세모 모양인데 서로 다른 쪽에 다른 색깔이 색칠되어 있죠 오른쪽 노란색 네모 그 다음 파란색 아 오른쪽 노란색 세모 그리고 파란색 왼쪽 세모 이런 모양으로 반복해서 색칠했어요 라고 하면 어떻게 색칠해야 되는지 알겠죠 노랑 파랑 노랑 파랑 노랑 파랑 이런 규칙대로 색칠해주면 된다라는 거 우리 친구들 이제 규칙을 알려주면 어떻게 색칠하는지 그래서 어떻게 무늬를 만드는지 모양을 만드는지도 공부했어요 자 그럼 여기 있는 친구들 또 어떤 예를 들어서 무늬를 꾸몄는지 한번 볼게요 여러가지 모양을 가지고 규칙을 만들어서 무늬를 꾸미는 거예요 이번에는 친구들이 직접 규칙도 생각하고 그 규칙에 따라 색칠 또는 그림까지 그려서 완성해 보는 활동이에요 이 친구는 이런 규칙을 생각했대요 네모 모양과 세모 모양을 한 개씩 반복해서 무늬를 꾸밀 거예요 라고 계획을 하고 그리고 각각의 색깔과 모양을 반복해서 이렇게 나타내서 자신만의 무늬를 꾸민 것을 알 수 있어요 그리고 아래쪽에 있는 친구도 별 모양 2개 그리고 하트 모양 1개를 반복해서 무늬를 꾸밀 거예요 라고 계획을 세우고 이렇게 자신만의 무늬를 만들어낸 것을 볼 수 있어요 이제 우리 친구들은 어떻게 하면 되냐면요 이렇게 비슷한 바둑판 무늬를 먼저 그려놓은 다음에 여러분들만의 꾸미기 규칙을 정해서 한번 말로 표현해 보세요 그리고 그 규칙에 맞도록 무늬를 직접 그리고 색칠까지 해보는 거예요 이걸 할 수 있다면 이번 내용은 완벽하게 우리 친구들 할 수 있는 거예요 자 예를 들어서 한번 볼게요 이 친구는요 어떤 규칙으로 꾸민 걸까요? 맞아요 빙글빙글 모양 하나 물방울 모양 하나 빙글빙글 물방울 빙글빙글 물방울 이렇게 무늬가 반복되도록 꾸민 거예요 그럼 오른쪽에 있는 그림은 어때요? 단풍잎 1개 초록잎 2개 빨간 단풍잎 1개 초록잎 2개 이런 식으로 반복해서 무늬를 꾸몄다라는 걸 알 수 있죠 우리 친구들 이제 그림을 보고 규칙을 말로 표현할 수도 있고 규칙을 보고 그림으로 나타낼 수도 있고 또 내가 스스로 규칙을 만들어서 그것으로 무늬를 만들 수도 있게 됐어요 자 그럼 이제 문제 함께 풀어 볼게요 규칙에 따라 빈칸에 알맞은 모양을 그려보세요 라고 했어요 규칙을 볼까요? 동그란 모양 보라색이네요 그 다음 네모 모양 노란색 같아요 자 그 다음 보라색 동그라미 노란색 네모 보라색 동그라미 노란색 네모 그럼 보라색 동그라미 그 다음은 뭘까요? 맞아요 노란색 네모를 이렇게 짠 그려서 색칠까지 해주면 정답이 되겠다 맞나요? 그럼 하나만 더 풀어 볼게요 이번엔 큰 세모 작은 세모 큰 세모 작은 세모가 반복되어 나타나고 있어요 그러면 이 다음에는 뭐가 필요할까요? 맞아요 큰 세모를 그리고 그 다음 작은 세모를 그려서 색깔도 여기에 맞게 색칠해주면 됩니다 색칠한 우리 친구들이 색연필로 예쁘게 하는 거예요 할 수 있겠죠? 자 그럼 다음으로 넘어가 볼게요 이번에는 규칙을 바르게 말한 것에 동그라미 표시하는 문제예요 음 노란색 동그라미 하나 초록색 동그라미 둘 노란색 동그라미 하나 초록색 동그라미 둘 이런 식으로 반복되어 나타나고 있죠 그럼 이걸 한 문장으로 표현하면 무엇이 정답일까요? 맞아요 아래쪽 노란색 동그라미 모양 한 개와 초록색 동그라미 모양 두 개가 반복됩니다 이게 정답이 되겠죠? 그래서 아래쪽에다가 동그라미를 그려주면 정답입니다 자 그럼 이번에는 교과 융합 문제 함께 풀어 볼게요 우리나라 전통 문양을 규칙적으로 배열하여 교실 게시판을 꾸몄대요 이때 기역과 니은에 들어갈 모양을 보기에서 찾아 번호를 써보세요 라고 했습니다 자 일단 규칙부터 찾아야 되겠다 그렇죠? 지금 두 가지 문의가 반복되어 나타나고 있다는 것을 알 수 있어요 음 편리하게 이 첫 번째 동그라미를 보라색 꽃이라고 하고 두 번째 동그라미를 초록색 꽃이라고 한번 표현해 볼게요 그럼 보라꽃 초록꽃 보라꽃 초록꽃 보라꽃 그 다음 뭐예요? 초록꽃이 들어가야 되죠? 그러니까 기억에 들어갈 알맞은 답은 2번이 됩니다 그 다음 또 계속 가볼까요? 초록꽃 보라꽃 초록보라 초록보라가 되죠 그래서 니은에 들어갈 알맞은 정답은 1번이라고 표시할 수 있는 거예요 어떻게 하는지 알겠죠? 자 그럼 다음으로 가볼게요 이번에는 대표용용 1번 문제입니다 규칙을 찾아 보세요 라고 했어요 자 여기 이제 규칙 찾는 건 어렵지 않아요 그렇죠? 우리 친구들도 한번 해볼까요? 세모 모양 하나 그 다음 또 세모 모양 하나 그 다음 동그란 모양 하나 그 다음 세모 세모 동그라미 세모 세모 동그라미에요 그럼 첫 번째 단계부터 한번 볼게요 규칙에 이용된 모양은 무엇인가요? 세모 모양과 그리고 동그라미 모양입니다 라고 생각할 수 있어요 그런데 세모와 동그라미가 몇 개씩 반복되어 있나요? 일단 세모 세모 동그라미 세모 세모 동그라미 그러니까 이렇게 3개씩 짝이 되어서 반복되어 가고 있다고 설명할 수 있겠죠 그러니까 어떻게 묶어요? 세모 세모 동그라미 이 모양이 반복됩니다 라고 설명할 수 있는 거예요 해결 됐나요? 자 이제 하나만 더 풀어 볼게요 이번에는 대표용 2번 문제입니다 규칙에 따라 빈칸에 알맞은 모양을 그려보세요 라고 했어요 일단 첫째 줄부터 볼까요? 동그라미 2개짜리 그리고 네모 하나 동그라미 2개 네모 하나 그 다음 둘째 줄은요 네모부터 시작이에요 네모 동그라미들 네모 그 다음 여기 비어있네 이 빈칸에는 뭐가 들어갈까요? 맞아요 규칙에 따르면 네모 다음은 동그라미 둘일 거예요 맞나요? 셋째 줄은 어때요? 첫째 줄과 같은 규칙으로 이루어져 있다는 걸 알 수 있어요 그래서 동그라미 둘 네모 하나 동그라미 둘 네모 하나 이런 식으로 빈칸을 채울 수 있겠죠 자 그럼 여기 해결하기 1단계부터 어떻게 설명하고 있는지 한번 확인해 볼게요 규칙에 이용된 모양은 무엇과 무엇이다 맞아요 동그라미 둘과 그 다음 네모 모양입니다 라고 할 수 있겠죠 그럼 규칙을 한번 설명해 볼게요 첫째 줄과 셋째 줄은 같은 규칙에 의해서 나타내지고 있다고 했어요 그래서 첫째 줄과 셋째 줄은 무슨 모양이 반복된다? 동그라미 둘 그 다음 네모 하나 이런 모양이 반복된다고 했어요 맞나요? 그 다음 둘째 줄과 넷째 줄은 무엇이 반복돼요? 네모 하나 동그라미 둘 이 모양이 반복됩니다 라고 규칙을 찾았어요 그쵸? 그럼 이제 빈칸에 알맞은 모양을 그려주면 되는 거예요 정답 어떻게 하면 될까요? 네모 동그라미 네모 그 다음 동그라미 둘 그 다음 동그라미 네모 동그라미 네모 해서 이렇게 칸을 채워주면 정답이 되는 겁니다 자 어떻게 하는지 알겠죠? 우리 친구들 이제 규칙 찾고 그것에 의해서 모양 나타내는 것도 잘 할 수 있습니다 이제 다음 내용으로 넘어가 볼게요 자, 이번에는 길이 비교에 대한 내용부터 살펴보겠습니다 우선 우리 친구들이 알고 있는 것부터 확인해 볼게요 친구들, 길이 비교는 어떤 단어로 사용하는지 알아요? 길이 비교는 어떤 단어로 사용하는지 알아요? 길이비교를 할 때 말하는 단어로 사용하는 단어로는? 길이비교 길이 비교는 어떤 단어로 사용하는지 헷갈려요 길이비교는 어떤 단어로 사용하는지 헷갈려요 친구들, 길이라는 말 들어본 적 있나요? 길이는요, 어떤 물건이 있으면 물건의 한쪽 끝부터 다른 쪽 끝까지의 거리를 이야기하는 낱말이에요 그럼 여기 그림을 한번 볼까요? 어, 같은 사람이 있는데 다른 점이 있어요 뭐죠? 맞아요, 머리 길이에요 왼쪽 머리 길이는 길고 오른쪽 머리 길이는 짧다 이렇게 표현할 수 있죠 그래서 길이를 표현할 때는 길다 또는 짧다 라는 말을 쓰는데 우리 일상생활에서는 머리카락이 길다 또는 짧다 빨대가 길다 또는 짧다 줄이 길다 짧다 바지가 길다 짧다 이런 식으로 표현합니다 자, 그럼 이번에 배울 내용은 뭐냐면 두 가지 물건이 있을 때 그 길이를 비교해 보는 거예요 여기 이 크레파스가 있다고 생각해 볼게요 빨간색 크레파스 그리고 초록색 크레파스가 있을 때 어느 쪽이 더 긴가요? 어느 쪽이 더 길고 짧은지를 비교하기 위해서 우리는 어떻게 하나요? 맞아요, 한쪽 끝을 이렇게 맞추어서 다른 한쪽 끝의 거리를 비교해 보는 거예요 그러면 초록색 크레파스는 빨간색 크레파스보다 더 깁니다 라고 말할 수 있고요 빨간색 크레파스는 초록색 크레파스보다 더 짧습니다 라고 이야기할 수 있어요 이렇게 눕혀서 비교를 하기도 하지만 펜이나 연필 또는 크레파스 이런 경우에는 세워서 바닥에 이렇게 딱 놓고 세워서 길이를 비교하기도 하죠 자, 그러면 길이를 비교할 때 주의해야 할 점이 무엇인지 하나만 확인해 볼게요 여기 노란색 실과 빨간색 실이 있다고 생각해 볼게요 그런데 이렇게 끝에서 끝까지의 거리를 재어 봤더니 어? 둘의 길이는 똑같은데요? 라고 말하는 친구가 있다고 생각해 볼게요 정말 맞을까요? 아니에요, 왜? 뭐가 잘못됐어요? 맞아요, 지금 이 실을 길이를 비교할 때 노란색 실이 구불구불 구부러져 있다는 것을 알 수 있잖아요 길이를 비교할 때는 이렇게 구불구불 구부러져 있는 상태로 비교하는 것이 아니라 곧게 펴서 비교를 해야 돼요 그래서 쭉 곧게 펴서 비교를 해보면 노란색 실이 빨간색 실보다 더 길다라는 것을 알 수 있는 거죠 그래서 길이를 비교할 때는 곧게 편다 우리 키를 잴 때도 이렇게 구부정하게 해서 재지 않잖아요 바르게 서서 여기 머리끝부터 발끝까지의 거리를 재는 거죠 맞나요? 자, 그럼 이번에는 세 가지 물건의 길이를 어떻게 비교하는지 함께 볼게요 연필과 가위와 볼펜이 있다고 생각해 볼까요? 연필을 가위나 볼펜이랑 비교해 보면 연필은 가위보다 더 길고 볼펜보다도 더 길어요 이번에는 가위를 연필이나 볼펜과 비교해 볼게요 가위는 연필보다 짧아요 그리고 볼펜보다도 짧죠 이것을 다 종합해서 생각해 보면 셋 중에서 가장 긴 물체는 무엇인가요? 맞아요, 연필이에요 그래서 세 가지 또는 네 가지 여러 개의 물건이 있을 때 그 중에 길이가 가장 긴 것, 이렇게 표현하게 되죠 연필이 가장 깁니다 또는 가위가 가장 짧습니다 라고 표현하는 거예요 그래서 가장 이라는 표현, 우리 친구들 꼭 기억해 주세요 자, 그런데요 길이를 표현하는 말은 한 가지가 아니에요 선생님이 아까도 이야기 했지만 키를 이야기 할 수도 있고요 또는 거리를 이야기 할 수도 있어요 두 친구 사이에 거리가 멀다, 그리고 거리가 가깝다 무슨 말인지 알죠? 길이의 뜻이기는 하지만 우리가 보통 두 친구 사이에 얼마나 떨어져 있는지를 나타낼 때에는 거리라는 표현을 쓰는 거예요 그 다음 여기 수영장에 있는 친구의 모습을 보세요 첫 번째 그림에서는 친구가 여기 이렇게 거의 어깨까지 물속에 들어가 있다는 것을 알 수 있죠 그런데 오른쪽 그림을 보면 무릎 정도까지만 물이 이렇게 있는 것을 볼 수 있어요 이럴 때는 뭐라고 얘기하냐면 깊이가 깊다 또는 깊이가 얕다 라는 식으로 이야기를 합니다 이해가 됐나요? 그래서 길이를 표현하는 말은 거리 라고도 할 수 있고 깊이라고도 할 수 있다는 거예요 자, 그리고 또 이번에는 높이 그리고 키도 한번 비교해 볼게요 여러분 이 산과 이 산 높다 또는 낮다 라는 표현 많이 쓰죠 어느 쪽이 더 높아요? 맞아요, 왼쪽이 더 높고 오른쪽이 더 낮아요 이런 것을 우리 높이라고도 표현하는데요 높이를 어디에서 비교하는지 한번 볼게요 산이 높고 낮고 건물이 높고 낮고 층수가 높거나 낮고 의자가 높거나 낮고 이것 말고도 우리 생활 주변에서 높다 또는 낮다 라는 표현 정말 많이 사용할 거예요 자, 그럼 책상의 높이를 비교해 보는 활동을 한번 해 볼게요 민주의 책상이 있고 승기의 책상이 있어요 어느 쪽이 더 높은지 또는 낮은지 어떻게 비교할 수 있나요? 맞아요, 이렇게 바닥에 기준을 똑같이 두고요 위쪽에 있는 부분, 어디가 더 높은지 낮은지를 이야기해 주면 돼요 예를 들면, 민주의 책상은 승기의 책상보다 더 높습니다 승기의 책상은 민주의 책상보다 더 낮습니다 이런 식으로 표현하는 거죠 둘 중에 어느 쪽이 높은지 낮은지를 비교할 때에는 더 라는 표현을 씁니다 더 높아요, 더 낮아요 라는 말은 저것과 비교했을 때 이것이 더 ~~하다 라고 생각해 주면 되는 거예요 더 기억해 주세요 자, 그 다음 사람의 높이는 키라고도 이야기를 합니다 키, 우리 친구들도 많이 재죠 여기 한번 볼게요 일단 키라는 것은 똑바로 섰을 때 이렇게 구부정한 거 안 돼요 똑바로 섰을 때 발바닥부터 머리끝까지 몸의 길이를 이야기하는 게 키예요 그런데 민주와 승기가 서로 키를 비교하고 있어요 어느 쪽이 더 큰가요? 맞아요, 민주가 승기보다 더 큽니다 라고 이야기할 수 있죠 더 기억하라 그랬어요 그 다음 승기는요, 민주보다 키가 더 작습니다 라고 하는 거예요 그래서 키를 비교할 때는 더 높아요, 낮아요 라고 말하지 않고 더 커요, 작아요 라고 말한다는 것도 기억해 주세요 자, 그럼 이번에는요 세 가지 또는 네 가지, 다섯 가지 여러 가지 물건의 높이를 비교할 때는 어떻게 표현하는지 한번 볼게요 여기 승기와 민주와 지혜가 각각 어떤 작품을 만들었어요 그리고 그 작품의 높이를 비교했을 때 어느 쪽이 가장 높은가요? 지혜의 블록이 가장 높아요 그리고 어느 쪽이 가장 낮아요? 맞아요, 승기의 블록이 가장 낮아요 이렇게 여러 가지 물건의 높이를 한 번에 비교해서 그 중에서 최고 또는 제일 무언가를 비교할 때에는 가장 이라는 표현을 쓴다는 것도 기억해 주세요 자, 그 다음 이런 그림도 한번 살펴볼게요 지금 키를 비교하고 있는 상황인데요 선생님, 머리끝까지 이렇게 높이를 비교해 봤더니 다 똑같아요 그러면 이 세 친구의 키는 다 똑같은 건가요? 라고 말할 수 있겠죠 그런데 진짜 그게 맞아요? 그렇지 않아요 왜 그렇죠? 맞아요, 여기 발끝까지의 거리가 서로 다르기 때문이에요 지금 머리끝은 다 똑같은데 발끝까지의 거리를 비교해 보면 비교해 보면 이쪽 첫 번째 있는 친구의 키가 가장 크고 오른쪽 세 번째 있는 친구의 키가 가장 작다라는 것도 알 수 있어요 그래서 반드시 머리끝만 비교하는 것이 아니라는 것도 기억해 주세요 자, 그럼 문제 함께 풀어볼게요 대표용용 1번 문제입니다 필통에 넣을 수 있는 물건은 모두 몇 개인지 구해보세요 라고 했어요 필통에 어떤 물건을 넣으려면 어때야 되죠? 맞아요, 길이가 필통보다 더 짧아야 되겠죠 그러면 1단계부터 볼게요 필통에 넣을 수 있는 물건은 필통보다 길이가 더 짧습니다 여기에 동그라미를 해주면 되고요 이제 2단계 볼게요 그럼 연필, 지우개, 가위, 자를 필통의 길이와 각각 비교해 보는 거예요 그중에서 필통보다 더 짧은 것, 필통에 들어갈 수 있는 것은 무엇이에요? 연필, 지우개, 가위가 되고요 자는 필통보다 더 길이가 길기 때문에 필통 안에 들어갈 수 없어요 그래서 필통에 넣을 수 있는 물건은 모두 몇 개다? 세 개입니다 라고 정리를 해주면 됩니다 자, 하나만 더 풀어볼게요 대표용 2번 문제입니다 다음 설명을 읽고 풍선 붙임딱지를 알맞게 붙여 보세요 라고 했어요 설명 첫 번째 거 볼게요 빨간색 풍선은 가장 높이 떠 있습니다 라고 했어요 가장 높이 떠 있다는 건 뭐예요? 이렇게 여러 개의 풍선 중에서 최고로 높다라는 뜻이라고 했잖아요 그러면 1, 2, 3번 중에서 2번이 빨간색 풍선이겠구나 라는 걸 알 수 있죠 그 다음 두 번째 설명 볼게요 초록색 풍선은 노란색 풍선보다 더 높이 떠있다 라고 했어요 여기에서는 더 라는 표현을 한번 볼게요 둘 중에 더 높다라는 건 뭐예요? 1번과 3번 중에서 어떤 게 초록색 풍선이란 뜻이죠? 맞아요 1번이라는 뜻이죠 그래서 아, 각각이 무슨 색 풍선이구나 라는 걸 표현을 통해서 알 수 있는 거예요 그럼 해결하는 과정 함께 살펴볼게요 위에 그림에서 가장 높이 떠 있는 풍선은 몇 번? 2번입니다 그래서 이 2번에 빨간색 붙임딱지를 붙여야 합니다 여기에 빨간색이 붙어야 된다 라고 이렇게 적어 줄게요 그 다음 남은 풍선은 1번과 3번인데 초록색 풍선이 노란색 풍선보다 더 높이 떠 있어야 함으로 1번 더 높은 이쪽에는 무슨 풍선? 초록색 풍선 그 다음 더 낮은 3번에는 노란색 풍선 붙임딱지를 붙이면 됩니다 맞나요? 자, 그래서 알맞게 붙임딱지를 붙여 보면 짜자잔! 이렇게 그려주면 된다 라는 거예요 우리 친구들 이 문제도 다 풀 수 있겠죠? 자, 오늘 꼭 기억해야 하는 것 한번 정리해 볼게요 우선 길이를 비교할 때 무엇보다 더 길다 또는 더 짧다 그 다음 가장 길고 가장 짧고 이 표현의 차이를 잘 기억해 주세요 그 다음 높이를 비교할 때도 더 높다, 더 낮다 그 다음 가장 높다, 가장 낮다 각각 어떤 의미인지 잘 알겠죠? 그리고 선생님이 설명해 드린 여러 가지 길이나 또는 높이나 이런 것들을 비교하는 개념들을 여러분 머릿속에 꼭 잘 기억해 주시기 바랍니다 자, 여기까지 우리 오늘 공부 마무리해 볼 텐데요 친구들 좀 다양한 개념이 나오고 다양한 표현들이 나왔어요 그 표현들의 차이점 꼭 기억해 주시고요 그리고 일상생활에서도 정말 많이 사용되는 말들이니까 오늘 한 3가지 정도만 우리 주변에서 오늘 배운 내용과 관련된 것 찾아서 문장으로 표현해 보고 또 사람들에게 소개도 해 줘 보세요 어떻게 하는지 알겠죠? 자, 그럼 선생님은 이제 여기에서 인사할게요 우리 다음 시간에는 2단원의 두 번째 내용부터 함께 공부해 보겠습니다 복습하는 거 잊지 말고요 선생님과는 다음 시간에 다시 만날게요 친구들 고생 많았어요 모두모두 안녕\n",
      "03강1-4_모양에서규칙찾기,2-1_길이_높이비교하기_초등수해력-도형·측정1단계.mp3에 대한 텍스트가 ./ebs_script/new/03강1-4_모양에서규칙찾기,2-1_길이_높이비교하기_초등수해력-도형·측정1단계.txt로 저장되었습니다.\n",
      "Transcription for 03강2-2_1cm알아보기2-3_1m알아보기_초등수해력-도형·측정2단계.mp3:\n",
      "친구들 안녕하세요 초등수외력 도형측정 2단계 정소연 선생님입니다 자 오늘 내용 함께 먼저 확인해 보도록 할게요 오늘은요 먼저 1cm에 대해서 알아볼 거고 그 다음 두번째에서는 1m에 대해서 알아볼 거에요 뭔가 좀 비슷하게 생긴 거 보이나요 우리 친구들 중에서 센티미터 미터라는 말 많이 들어본 적 있는 친구들 많이 있을 것 같아요 보통 길이를 잴 때 아니면 키 질 때 이런 말 많이 듣죠 그런데 대체 이것이 무엇인지 그리고 왜 이런 말들이 나오게 되었는지도 선생님이랑 함께 살펴보자구요 그럼 준비됐죠? 첫번째 내용부터 출발해 볼게요 첫번째로는 1cm라는 개념을 알아보겠습니다 그 전에 우리 친구들이 알고 있는 것부터 먼저 확인해 볼게요 여기 두 자루의 연필이 있다고 생각해 보세요 그런데 이 중에서 어느 쪽이 더 긴지 어느 쪽이 더 짧은지는 한눈에 봐도 짠 비교할 수 있죠 우리 지난번에 길이를 비교하는 그 내용에서 더 길다 더 짧다 라는 말 배웠던 거 기억날 거에요 그런데 이렇게 딱 한눈에 무언가를 비교를 할 수 있는 경우도 있지만 그렇지 못한 경우도 있습니다 예를 들어서 내 눈앞에 지금 없는데 어떤 친구가 연필을 가지고 있는 거에요 그런데 그 연필의 길이가 어느 정도 인지를 말로 설명해야 된다고 한번 생각해 볼게요 그 친구는 이렇게 얘기했어요 어 내 연필의 길이는 클립으로 7번 정도 간 길이야 라고 이야기를 했어요 그런데 그 연필을 본 또 다른 친구가 이렇게 얘기했어요 나는 클립은 잘 모르겠는데 내 지우개로 재니까 지우개로 한 5번 정도 가던데 라고 이야기를 하는 겁니다 그러면 이 이야기를 듣는 우리로서는 뭐야 7번이야 5번이야 길다는 거야 짧다는 거야 도대체 이 연필은 얼마나 길이를 가지고 있는 거지? 라는 생각이 들겠죠 그래서 사람마다 어떤 기준이 달라져 버리면 설명하는 것도 달라지고 또 듣는 사람도 도대체 이 길이가 얼마나 되는 건지를 정확하게 파악하기 어렵다는 문제가 생겨요 그래서 사람들이 약속을 합니다 어떻게 했냐면 센티미터라는 것을 정했어요 우리 앞으로 어떤 길이를 잴 때 센티미터라는 단위를 사용하자 단위가 무엇인지 한번 볼게요 여기 이 빨간색 테이프의 길이 보이나요? 이만큼의 길이를 1센티미터라고 하자 그리고 이렇게 쓰고 익자라고 이야기를 하는 거예요 아 그러면 앞으로 이 전세계 어디를 가더라도 이만큼은 1센티미터라고 하면 다 알아듣는 거지 우리가 미국을 가도 아니면 일본을 가도 어디를 가도 저 1센티미터가 얼마인지 아세요? 라고 하면 모두가 아는 거예요 이렇게 해버리면 앞에처럼 클립으로 몇 번 지우개로 몇 번 이런 식으로 애매하게 설명하지 않아도 되는 그런 좋은 점이 있는 거죠 그래서 이 1센티미터는 우리가 어디에서 가장 정확하게 잴 수 있냐면 우리 친구들 주변에서 혹시 자를 하나 구할 수 있다면요 그 자에서 0부터 1까지 이만큼의 길이를 한번 재어보세요 그 정도가 어느 정도인지 한번 살펴보고 그 길이가 1센티미터다 라고 생각을 해주시면 됩니다 우리 보통 엄지손가락 손톱의 길이 정도라고 생각하면 1센티미터가 어느 정도인지 알 수 있을 거예요 자 그리고 이거 우리 영어잖아요 그쵸 영어라서 쓰는 방법이 좀 어려울 수도 있어요 우리 친구들 같이 한번 쓰는 연습해 볼게요 자 1은 숫자 1이에요 그 다음 센티미터는 이렇게 씁니다 이렇게 이렇게 둥글게 하나 써주시고 그 다음 미터는 이렇게 이렇게 볼록볼록한 모양으로 적어 주시면 1센티미터 라고 쓸 수 있는 거예요 이거 머릿속에 꼭 기억해 줄게요 자 그러면 이제 길이를 센티미터 단위를 가지고 한번 재어 보겠습니다 첫 번째 그림에 있는 이 연필의 길이는 뭐라고 이야기할 수 있을까요? 자 길이를 잴 때는 반드시 자를 댈 때 이렇게 0에 맞추어서 한쪽 끝을 대는 거예요 그리고 나머지 한쪽 끝 반대쪽 끝이 어디까지 갔는지를 보고 그때 그 숫자를 읽는다고 생각해 주시면 됩니다 그래서 여기에서는 0부터 시작해서 9까지 갔네 그래서 이 연필의 길이는 9센티미터에요 라고 표현을 하는 거예요 이렇게 하면 클립으로 10번 갔어요 지우개로 12번 갔어요 이렇게 설명하지 않아도 아주 간단하게 설명할 수 있는 거죠 그럼 아래쪽에 있는 거 한번 볼게요 이건 좀 헷갈릴 수 있어 왜냐하면 선생님 분명히 0에서 시작해야 된다고 했잖아요 그런데 이 연필은 지금 6에서 시작했는데요? 라고 물어볼 수 있죠 그래 6에서 시작했는데 나머지 한쪽 끝이 10까지 갔어요 이 경우에는 이 연필의 길이를 10이라고 할 수 있을까요? 10센티미터라고? 아니에요 그게 아니라 선생님이 아까 얘기했죠? 이 한 칸의 길이 이것을 1센티미터라고 했잖아요 노란색 두 칸 1센티미터 짜리가 몇 개나 들어갔는지를 세어보면 돼요 하나, 그 다음 둘, 셋, 넷만큼 들어갔네 그러니까 이 연필의 길이는 4센티미터구나 라는 것을 알 수 있습니다 어 선생님 10에서 6을 빼니까 4가 돼요 맞아요 그렇게 생각해서 계산을 하셔도 됩니다 그래서 이 연필의 길이는 4센티미터이구나 우리 친구들 어떻게 하는지 알겠죠? 자 그러면 우리 친구들이 좀 헷갈려하는 거 한번 체크를 하고 넘어갈게요 자를 사용할 때 친구들이 좀 많이 헷갈려하는 거 첫 번째 물건의 한쪽 끝을 무조건 어디에 맞춘다고요? 자의 눈금 0에 맞춘다고요 눈금 0 여기에 맞추는 거예요 친구들 중에 많이들 여기에 맞추는 경우가 있어요 자의 끝에 그게 아니라 0에 맞추는 거예요 알겠죠? 0에다가 맞추고 두 번째는 물건의 다른 쪽 끝에 있는 자의 눈금을 읽어준다 이렇게 0에서 시작해서 5까지 갔다 그러면 이 나뭇잎의 길이는 5센티미터가 된다라는 거예요 사실 방금 전에 그 연필의 길이 있잖아요 이렇게 오른쪽까지 밀려가지고 이렇게 잿던 연필의 길이 사실 그렇게 재면 안 되는 거지 잘못된 거지 그런데 그렇게 잿을 때도 우리 정확한 길이도 파악을 할 수는 있어야 되는 거예요 알겠죠? 자 그래서 여기 보시면 우리 친구들이 자주 실수하는 것도 한번 가지고 와봤어요 선생님은 아까 이야기 했죠? 올바르지 않은 자 사용법 첫 번째 물건의 끝을 여기다가 자꾸 자의 한쪽 끝에다가 맞춰서 재는 경우가 있어요 이거 친구들 제일 많이 실수하는 거예요 이러면 안 돼요 이게 아니라 0까지 여기까지 딱 올 수 있도록 물건의 끝을 맞춰줘야 된다는 거 그 다음에 이건 뭘까요? 물건의 길이를 잴 때는 이 자에 정확하게 딱 붙여서 재야 돼요 근데 이렇게 지금 색연필의 길이를 재는데 색연필이 약간 이렇게 삐뚤어져 있잖아요 이런 경우에는 이 색연필의 길이를 정확하게 잴 수 없어요 그래서 항상 자에 딱 붙여서 정확하게 붙여서 재야 한다는 것도 기억을 해주세요 알겠죠? 자 그럼 이번에는요 그 길이를 어림해 보는 연습을 해볼 거예요 어림한다라는 건 뭐냐면 정확하게 그 값은 아니더라도 우리가 대충 그 정도일 거야 라고 생각하는 것을 어림한다고 하는 거예요 우리가 사실 생활 속에서는 정확하게 딱 3cm 딱 10cm 이런 경우는 잘 없거든요 대신 한 3cm 정도 되는 것 같아 아니면 10cm 정도야 라고 하는 경우가 훨씬 훨씬 더 많아요 그래서 이럴 때 어림을 사용하는데 한번 볼게요 첫 번째입니다 자가익석 그리고 이 자를 가지고 연필의 길이를 쟀어요 쟀는데 정확하게 4cm 였으면 정말 좋았겠지만 그렇지 않은 경우가 훨씬 많다 그랬죠 4보다 살짝 더 나갔네 4보다 살짝 더 기네요 이럴 때는 뭐라고 표현하냐면 선생님 4cm 보다 살짝 더 길어요 라고 표현을 할 수도 있지만 약 이라는 말을 붙여서 약 4cm 에요 라고 이야기하면 아 그 정도의 길이구나 라고 이해할 수 있는 거예요 약 이라는 게 마법의 글이에요 알겠죠 자 그 다음 아래쪽을 볼게요 내가 자를 갖고 있으면 너무 좋은데 자가 없을 때도 있을 수 있잖아 그러면 선생님이 아까 1cm 가 어느 정도의 길이라고 했죠 맞아요 엄지손톱의 길이 정도라고 했잖아요 그래서 엄지손톱의 길이가 약 1cm 라고 했으니까 이 연필의 길이를 잴 때에도 엄지손톱이 몇 번 들어가는지 이렇게 세어 보는 거예요 이 연필은요 내 엄지손톱으로 재어 봤을 때 1번 2번 3번 4번 5번 들어가네 그러니까 5cm 정도인데 이것을 표현하는 마법의 글자 약 이라는 말을 붙여서 약 5cm 에요 라고 이야기할 수 있는 거예요 그래서 물건의 길이를 잴 때는 자를 활용할 수도 있지만 이렇게 몸의 어떤 부분을 이용하거나 내가 그 길이를 알고 있는 또 다른 물건을 기준으로 해서 길이를 재는 방법도 있다는 것도 같이 기억을 해 주시면 되겠습니다 자 그리고 이 약 얼마 인지를 잴 때 우리 친구들에게 간단한 꿀팁을 좀 소개해 드릴게요 지금 이 연필의 길이를 잰다고 했을 때 이 연필이 이쯤이었다고 한번 생각해 볼게요 자 그러면 이 길이는 뭐라고 설명하면 되냐면 4와 5 사이잖아요 그러면 약 4cm 라고 할 수도 있고 약 5cm 라고 할 수도 있어요 그런데 이 중에서 4와 5 중에서 더 가까운 쪽을 고르면 돼요 지금 딱 중간에서 살짝 오른쪽으로 더 간 걸 알 수 있죠 그러니까 이 연필의 길이는 약 5cm 입니다 라고 설명할 수 있는 거예요 그 다음 오른쪽 것도 한번 볼게요 이 연필의 길이도 4와 5 사이 어딘가인데 여기에서는 가운데 선을 딱 그었을 때 이보다 살짝 왼쪽으로 가 있다는 걸 볼 수 있죠 그래서 이 연필의 길이는 일단 약 이라고 써주고 뒤에 4cm 입니다 라고 이야기를 해 주면 된다는 거예요 여러분들이 길이를 잴 때 이런 식으로 활용을 해 주시면 되겠습니다 자 그럼 이번에는 문제 함께 풀어 볼게요 연필의 길이가 약 몇 cm 인지 구해 보세요 라고 했어요 일단 무엇부터 확인한다 0에 잘 맞췄는지 부터 확인해요 잘 맞췄네요 그리고 연필도 잘 잘 붙여서 대 주었네요 그러면 어디를 보면 돼요 이 끝이 어디까지 가 있는지를 보면 돼요 어디 숫자에 가장 가까워요? 8에 가장 가까워요 8보다 살짝 모자라죠 그러나 7보다는 8에 더 가깝기 때문에 이 연필의 길이는 약 8cm 입니다 라고 설명할 수 있는 거죠 그럼 두 번째 그림도 한번 볼게요 0 잘 맞췄구요 이 끝이 어디까지 갔어요? 여기까지 갔어요 6과 7 사이인데 7쪽에 좀 더 가깝죠 그러니까 약 7cm 입니다 라고 설명을 해 주면 되는 겁니다 자 그럼 이번에는 수혜력 높여요 8번 문제 볼게요 길이가 더 짧은 빨대를 찾아 동그라미 하세요 라고 했습니다 첫 번째 빨대의 길이는 얼마에요? 0부터 시작해서 8까지 갔잖아요 그러니까 얘는 8cm 에요 그 다음 두 번째 빨대의 길이는 10까지 갔으니까 10cm 네 맞아요? 아니죠 이 경우에는 3부터 출발했잖아요 그러니까 10에서 3을 뺀 7cm 가 두 번째 빨대의 길이가 되는 겁니다 그럼 이 중에서 더 짧은 빨대는 두 번째 것이다 라고 동그라미를 해 주면 되겠죠 자 그 다음 14번으로 넘어갑니다 물건의 실제 길이에 가장 가까운 것을 찾아 선으로 이어보세요 라고 했어요 일단 지우개의 길이 어느 정도 라고 하면 될까요? 200cm, 3cm, 20cm 가 있어요 자 1cm 는 1cm 가 얼마 정도 여러분 엄지손톱의 길이 정도 라고 했어요 그러면 여러분 지우개 한번 떠올려 보세요 엄지손톱으로 하나 둘 셋 정도 하면 지우개의 길이가 나오겠죠 엄지손톱으로 200번을 해야 지우개의 길이가 나오진 않잖아요 그러니까 아 지우개는 약 3cm 정도 되겠구나 라고 할 수 있고요 그 다음 칫솔 볼게요 칫솔의 길이도 엄지손톱으로 몇 번 정도 가면 그 길이가 나올까요? 그렇죠 20cm 정도 가면 그 길이를 표현할 수 있겠죠 칫솔도 봐요 엄지손톱을 200번 간다고 해봐요 엄청 길잖아요 칫솔하는 요정도인데 그러니까 20cm 정도 라고 이렇게 정리를 해 주시면 되겠습니다 자 그 다음 대표용 1번 문제 같이 풀어 볼게요 자를 사용하여 자석의 길이를 제었대요 자석의 한쪽 끝을 자의 눈금 2에 맞추고 어? 2에 맞췄네 2에 맞추고 다른 쪽 끝에 눈금을 읽었더니 7이었대요 여기 7이네 이 자석의 길이가 몇 cm 인지 구해보세요 라고 했습니다 어 보통 원래는요 어디에서 출발하라고? 0에서 출발하라 그랬는데 이 자가 그렇지 못했나봐요 그래서 2에서 출발해서 7까지 갔다 라고 했잖아요 그럼 그 그림을 머릿속으로 그려보는 거예요 자석을 대어 봤을 때 자 여기에 눈금에서 다른쪽 끝까지 1cm가 몇 번 들어가는지 세어 볼게요 자 세어 보면 여기에서 1cm가 하나 둘 셋 넷 다섯 번 들어가요 맞나요? 또는 이렇게도 할 수 있죠 7에서 2를 빼면 5 이렇게 할 수도 있죠 그래서 2부터 7까지는 1cm가 다섯 번 들어간다 라고 할 수 있으니 자석의 길이는 5cm 입니다 라고 이야기할 수 있는 겁니다 자 지금 여기까지 우리 1cm가 무엇인지 함께 공부를 해봤구요 그 다음에는 미터의 개념에 대해서 함께 알아보겠습니다 자 이번에는 1미터 한번 살펴볼게요 우리 방금 1cm 는 뭐라 그랬냐면 엄지손톱 하나 정도의 길이라고 했어요 그런데 이 엄지손톱 하나의 길이로 이 세상에 있는 여러가지 물건들의 길이를 재다 보니까 엄청 큰 경우에는 엄지손톱이 엄청 많이 필요한 거예요 그래서 아 안되겠다 이 cm 말고 좀 더 큰 단위를 한번 생각해 봐야겠다 라고 사람들이 떠올린 거죠 그래서 만들어진 게 1미터, 미터라는 개념이에요 한번 볼게요 100cm 가 있다고 생각해 볼게요 이건 무엇이죠? 엄지손톱이 100개만큼 이어진 만큼의 길이예요 우리 친구들 기준으로 이렇게 팔을 양쪽으로 뻗었을 때 이 정도가 100cm 라고 생각을 하면 됩니다 우리 친구들 뻗어 보세요 이 정도 100cm 인데 이것을 우리 앞으로 1미터라고 약속하자 라고 정했어요 아 얼만큼? 이만큼이 1미터다 머릿속에 넣어 두세요 그리고 이것은 쓸 때 그리고 읽을 때 어떻게 하는지도 잘 적혀 있습니다 100cm 가 1미터구나 라는 것도 같이 기억을 해 주시면 좋겠죠 자 그러면 1미터도 쓰는 법 한번 따라해 볼게요 우리 cm 을 잘 쓸 수 있다면 미터는 더 쉬워요 왜? 앞에 있는 cm 그러니까 c 부분이 빠지거든요 어떻게 하냐면 1을 먼저 써 주시고 그 다음 미터는요 이렇게 하나 아래로 내렸다가 그 다음 동글 동글 두 번 동글동글 해주면 되는 거에요 됐나요? 이것이 1미터를 쓰는 방법이에요 자 그러면 이 미터 또는 cm 를 어떻게 활용하는지 한번 보여 드릴게요 150cm 만큼의 길이가 있다고 생각해 볼게요 그런데 우리 아까 100cm 가 뭐라 그랬죠? 1미터라 그랬잖아요 어 그러면 이거는 이렇게 생각할 수 있겠네 150cm 는 100cm 에다가 50cm 를 더한 거죠 맞아요? 그런데 100cm 는 뭐라고? 1미터라 그랬어 그러니까 어 이건 1미터 하고 50cm 만큼 더 간 거네 라고 생각할 수 있나요? 맞아요 그래서 이런 말이 있는 거예요 150cm 는 1미터보다 50cm 더 길어요 라고 이야기 했어요 그래서 150cm 를 1미터 50cm 라고도 씁니다 이해돼요? 여기 보세요 150cm 를 1미터 50cm 라고도 써요 어떻게 한 거에요? 여기에 있는 100만큼을 1미터라고 바꿔 준 거죠 이해가 되죠? 자 그리고 이것을 읽을 때 쓸 때는 어떻게 한다? 이렇게 한다 1미터 50cm 라고 합니다 라고 정리를 해보시면 됩니다 이 기린의 그 키를 한번 재웠더니 기린의 키가 발끝부터 머리끝까지 이정도 였대요 그리고 그 끝부분에 150 이라고 적혀 있었대요 그러면 이것을 우리는 뭐라고 한다? 150cm 짜리 키를 가진 기린이에요 라고 할 수도 있지만 이 기린의 키가 1미터 50cm 에요 라고 말을 할 수도 있다는 겁니다 알겠죠? 자 그럼 그 다음 내용 가볼게요 길이를 잴 때 우리가 평소에 쓰는 이런 문구용 자도 있지만요 줄자라는 것도 있어요 혹시 본 적 있어요? 이렇게 쭉 꺼내 가지고 아주 긴 길이를 재거나 할 때 쓰는 건데요 줄자를 사용할 때도 원리는 똑같아요 그 줄자의 끝을 물건의 한쪽 끝에 이렇게 쫙 맞추어 주고요 이 줄자를 쭉 풀어요 쭉 풀어서 나머지 한쪽 끝에다가 갖다 대주면 여기 보시면 이렇게 길이가 적혀 있습니다 120, 130 까지 적혀 있는데 여기에 어디에 물건의 끝부분이 오는지를 보고 그 길이를 읽어 주면 되는 거예요 그래서 이 곰돌이 곰인형의 키는 얼마라고 할 수 있다? 130까지 갔으니까 130cm 에요 라고 말할 수 있고요 이것을 미터까지 포함해서 한번 바꾸어 보면 여기 있는 130은 100에다가 30을 더한 값이잖아요 그러니까 이 100을 미터로 바꾸어 주면 1m 가 되겠지 그리고 여기에다가 30cm 를 더해서 1m 30cm 입니다 라고 말로 표현할 수 있는 겁니다 자 그럼 이번에도 어림도 한번 해 볼게요 자 어림할 때 제일 간단한 건 그거야 우리 1cm 는 엄지손톱 만큼의 크기라고 했죠 1m 는 뭐라 그랬어요? 양팔을 벌렸을 때 이 길이를 1m 라고 했잖아요 그래서 우리 몸을 기준으로 했을 때 양팔을 벌렸을 때 이만큼이 1m 다 라는 걸 머릿속에 넣어 놓고 있으면 길이를 어림하기 굉장히 편합니다 또는 이럴 수도 있어요 선생님의 경우에는 이렇게 앞으로 걸어갈 때 한 걸음 두 걸음 정도 가면 그게 1m 정도 돼요 한 걸음 두 걸음 한 걸음 두 걸음 정도 갔을 때 1m 가 돼요 그래서 아 두 걸음 정도의 그 길이가 1m 구나 그걸로도 세보면 이쪽 끝부터 저쪽 끝까지 우리 내 방의 크기 아니면 우리 교실의 크기가 어느 정도 되지 라고 할 때 이쪽 끝부터 저쪽 끝까지 걸어가 보고 몇 걸음이나 나오는지 생각해서 길이를 어림할 수 있는 거죠 자 그리고 또 우리 친구들이 갖고 있는 이런 우산 있죠 우산 같은 것도 우산의 길이가 보통 1m 정도 되거든요 그래서 어 저 나무의 그 키를 재고 싶어 나무의 높이 길이를 재고 싶어 라고 하면 이 우산을 기준으로 몇 번 정도 들어갈까를 이렇게 어림을 해보는 거예요 그래서 이 우산 길이로 한 3번 정도 들어가겠네 라고 하면 이 나무의 높이가 한 3m 정도 되겠네 라고 이야기를 할 수 있는 겁니다 그래서 이 단위 우리 머릿속에 요 3가지 정도 딱 기억해 놓으면 너무 좋아요 팔의 길이를 통한 거 그 다음 걸음을 통한 거 그 다음에 긴 장우산의 길이를 통한 거 자 그러면 이 경우에는 어떻게 될까요 지금 줄넘기가 나와 있는데요 줄넘기도 여기 여기까지 우리 팔을 딱 벌렸을 때 한 번이 1m 랬죠 팔로 이렇게 두 번 간 정도의 길이니까 아 이 줄넘기는 2m 정도 되겠네 또는 이 길이를 잴려고 하는데 끈의 길이를 이렇게 어떻게 재지 하다가 바닥에다 딱 내려놓고 걸어가 보는 거예요 몇 걸음 정도 나오지 어 6걸음 정도 나오네 그러니까 한 3m 정도 되겠네 라고 어림을 할 수 있다는 거예요 자 그러면 우리 문제 함께 풀어 볼게요 기린의 키를 구해보세요 라고 했습니다 자 기린의 키 어떻게 구한다고요 바닥 끝에 이렇게 발끝을 대주고요 그 다음 윗쪽 끝에다가 기린의 키를 짠 한번 재어 봤더니 어디까지 가요 요 빨간색 점선이 110 이라고 적혀 있는 데까지 가는 걸 볼 수 있죠 그러면 이것은 110cm 입니다 라고 이야기 할 수 있지 그런데 이것을 쪼개서 무엇과 무엇으로 100과 10으로 쪼갤 수 있어요 그쵸 그리고 이 100cm 는 무엇으로 바꿀 수 있어요 1m 로 바꿀 수 있어요 그리고 10cm 는 그대로 옆에 붙여서 써주는 것이 그러면 기린의 키는 110cm 에요 또는 1m 10cm 에요 라고 표현할 수 있는 거예요 그 다음 13번 함께 볼게요 cm 와 m 중 알맞은 단위를 써보세요 라고 했어요 우리가 오늘 배웠던 cm 와 m 가 둘 다 단위 이구나 라는 걸 알 수 있죠 자 먼저 첫 번째 빌딩의 높이는 이 건물의 높이를 말하는 거지 약 50 얼마 입니다 자 뭐라고 해야 될까 cm 는 엄지손톱 그 다음 m 는 이렇게 팔을 벌린 길이라고 했습니다 그러면 50번 어떻게 해야 되지 자 엄지손톱으로 이렇게 50번 하면 어느 정도 될까요 50번 하면 요정도 될 것 같은데 그쵸 근데 이건 건물의 높이라고 보기에는 너무 짧죠 그러면 m 단위로 한번 생각해 볼까요 어 한번 팔짱 벌렸을 때 이게 1m 니까 이게 50번 쭉 가면 아 이게 빌딩의 높이를 표현하는 내용이 될 수 있겠네 그래서 빌딩의 높이는 약 50m 입니다 가 더 정확한 표현입니다 그 다음 소파 소파의 짧은 쪽의 길이라고 하면 보통 요런 길을 이야기하죠 이 길이가 약 50 하고 뒤에 단위가 들어가야 돼요 자 50 어떤 걸로 하면 될까요 아까 약 50m 는 빌딩의 높이라고 했잖아요 건물의 높이를 표현할 때 50m 엄청 높은 또는 엄청 긴 길이인데 이것을 소파의 짧은 쪽의 길이에다가 집어넣는 건 말이 안 되겠죠 그러니까 약 50cm 입니다 라고 적어주는 것이 정답이 되겠습니다 자 그 다음 11번으로 가볼게요 서빈이는 음악실 한쪽 벽의 길이를 걸음으로써 제었더니 자 이 걸음 걸음으로 제었더니 약 10걸음 이었습니다 서빈이 두 걸음이 1m 라면 음악실 한쪽 벽의 길이는 약 얼마일까요 벽의 길이는 약 몇 미터일까요 라고 했어요 자 보세요 두 걸음이 1m 래 그럼 지금 보세요 이게 한 걸음이잖아 한 걸음 두 걸음 이만큼이 1m 라는 거죠 그러면 이만큼이 몇 번 들어가는지 제어 보면 되겠네요 자 두 번씩 가봅니다 자 여기까지 또 1m죠 여기까지 또 1m죠 여기까지 또 1m 여기까지 또 1m 어 1m 가 몇 번 있어요 하나 둘 셋 넷 다섯 번 있죠 그러니까 이 벽의 길이는 약 얼마라고 할 수 있다 5m 입니다 라고 할 수 있어요 앞에 약이라는 말이 왜 붙어 있는지는 선생님이 계속 강조했다 알겠죠 자 그 다음 넘어가 볼게요 14번 입니다 줄자의 눈금을 0부터 시작하여 책꽂이의 긴 쪽의 길이를 재고 있습니다 요 길을 재고 있대요 잰 길이를 두 가지 방법으로 나타내어 보세요 라고 했어요 자 0부터 시작해서 0부터 시작해서 여기까지 왔네 자 여기가 어딘지 확대해서 짠 봤더니 어디까지 있어요 자 150이 여기고 160 여기에요 그리고 이 길이는 딱 그 중간에 해당되죠 그러면 얼마라고 할 수 있을까 150과 160의 정확한 중간은 155 라고 할 수 있겠죠 맞나요 그래서 이 길이는 155cm 입니다 라고 할 수 있고 이 155는 무엇으로 바꿔서 쓸 수 있다 100cm 에 55cm 라는 뜻이니까 이 100cm 를 m 단위로 바꾸면 1m 그리고 55cm 입니다 라고 바꿀 수 있겠죠 이해가 되나요 자 그러면 그 다음 마지막 문제 함께 풀어 볼게요 대표용형 1번 문제입니다 아빠의 한 걸음은 1m 래요 우와 아빠는 한 걸음이 굉장히 길구나 그쵸 그런데 고추밭 한 고랑의 길이는 아빠의 걸음으로 7걸음 간 길이보다 30cm 더 깁니다 라고 했어요 이때 우리가 구하려는 것은 고추밭 한 고랑의 길이가 얼마인지 를 묻는 거예요 몇 미터 몇 cm 인지 구해 보세요 라고 했습니다 자 그러면요 아랫부분 보기 전에 먼저 생각해 볼게요 이 길이가 얼마냐면 아빠 걸음으로 7걸음 간 길이보다 30cm 더 길다고 했잖아요 그러니까 아빠의 한 걸음 1m 그런 7걸음 이니까 7m 가 되겠죠 7m 만큼 갔는데 이것보다 30cm 더 길다 라고 했어요 그래서 7m 더하기 30cm 가 되는 거지 그러면 이것을 합쳐서 써보면 바로 이게 되죠 7m 30cm 입니다 라고 쓸 수 있는 거예요 이게 정답이 되는데 그 과정을 어떻게 설명하고 있는지 함께 볼게요 일단 1단계입니다 고추밭 한 고랑의 길이를 그림으로 나타낸다고 했을 때 아빠의 7걸음만큼 가고 거기에다가 얼만큼 더 간다고요 30cm 만큼 더 간다고요 이렇게 표현을 했죠 자 그럼 2단계로 가볼게요 아빠의 한 걸음이 몇 미터니까 1m 라고 했으니까 7걸음은 1m를 7번 더 간 약 7m 라고 볼 수 있겠습니다 그러면 아빠의 7걸음보다 30cm 더 긴 길이는 어떻게 된다? 약 7m 그리고 30cm 라고 표현할 수 있습니다 그래서 우리가 구하고자 하는 최종 정답 고추밭 한 고랑의 길이는 약 7m 30cm 입니다 라고 적어 주면 되는 거죠 자 지금 이 문제를 풀 때도요 1단계 2단계 3단계에서 각각 어떤 말들을 설명했는지 꼭 기억을 하시고 그걸 내가 스스로 표현할 수 있도록 연습을 하셔야 됩니다 알겠죠? 자 그럼 오늘 배운 내용 다시 한 번만 정리해 볼게요 오늘 꼭 기억해야 되는 것은 미터에요 미터 미터를 알려면 센티미터도 알아야 되겠죠 다시 정리를 해 볼게요 일단 1센티미터는 엄지손톱의 길이 정도 라고 했구요 이것이 100개 모여 있는 100센티미터가 1미터와 그 길이가 같다 라고 했습니다 그리고 이걸 쓸 때는 1미터 또는 이렇게 쓰고 있는다 라고 했구요 이거 100센티미터는 1미터라는 거 꼭 기억을 해주시고 또 쓰는 방법까지 연습을 해주세요 됐죠? 자 여기까지 우리 오늘 공부 같이 해봤는데요 여러분들과 친구들의 새로운 단위 개념이 나와서 좀 헷갈렸을 수도 있어요 그런데 우리 생활 주변에서 늘 쓰는 거니까 열심히 한번 주변에서 찾아보세요 자 그럼 오늘 공부는 여기까지 하겠습니다 선생님이랑은 다음 시간에 또 새로운 개념과 함께 만나도록 하자구요 오늘 고생 많았어요 다음 시간에 만나요 모두모두 안녕\n",
      "03강2-2_1cm알아보기2-3_1m알아보기_초등수해력-도형·측정2단계.mp3에 대한 텍스트가 ./ebs_script/new/03강2-2_1cm알아보기2-3_1m알아보기_초등수해력-도형·측정2단계.txt로 저장되었습니다.\n",
      "Transcription for 03강평면도형(3)_초등수해력-도형·측정3단계.mp3:\n",
      "안녕하세요 EBS 친구들 여러분의 찐찐쌤입니다 자 우리가 만나는 세 번째 시간이에요 우리는 오늘 바로 새로운 도형들의 이름을 만나볼 건데요 자 오늘의 미션부터 소개하죠 삼각형하고 사각형 어떤 모양으로 생겼는지 알고 있죠 그런데 그 안에 숨어 있는 직각을 찾아볼 겁니다 자 그래서 사각형 중에서도 또 특별한 사각형의 이름 삼각형 중에서도 특별한 삼각형의 이름을 만나볼 거예요 지금부터 출발해 볼게요 먼저 우리는 이미 삼각형의 각에 대해서 알아봤어요 각이라는 도형은 한 점을 중심으로 시작점으로 해서 이렇게 두 개의 반직선으로 이루어진 도형을 각이라고 하죠 그러면 삼각형에는 이렇게 세 개의 각이 있습니다 그 중에서도 직각은 다음과 같이 반듯한 각인데 원모양의 종이를 반듯하게 두 번 접었을 때 생기는 각이 직각인 거죠 그러면 어떻게 연결이 되는지 보세요 우리는 삼각형에서 각도 찾을 수 있고 또 특별한 각, 직각도 배웠단 말이죠 자 그럼 이제 삼각형의 세 각 중에 한 각이 직각인 삼각형이 있어요 이러한 삼각형을 아 너는 직각삼각형이야 라고 불러주기로 결정을 했습니다 우리가 약속을 했거든요 그래서 우리 친구들은 그 약속에 그대로 따라주면 되고 아 너의 이름을 알았어요 우리 새로 만나죠 반갑다 직각삼각형아 그냥 삼각형이 아니라 직각이라는 거 근데 우리 친구들 한 각이 직각이 아니라 세 각이 다 직각이어야 되지 않을까 라는 생각 안 드세요 자 만약에 두 각이 직각이라면 이렇게 직각이죠 이쪽도 이렇게 직각이 되면 아니 삼각형이 만들어질 수 없잖아요 그렇기 때문에 바로 직각삼각형이라는 건 한 각만 직각이 되는 거고요 나머지 각들은 직각이 아니다 라는 것도 주의해 주세요 자 우리 직각삼각형은 어떨 때 만들 수 있을까 어디 물건에서 볼 수 있을까요 뭐 다양한 물건에서 우리 직각삼각형을 찾을 수 있는데 대표적으로 선생님은 샌드위치를 참 자주 만들어 먹어요 식빵의 가장자리를 잘라 다음과 같이 이러한 사각형 반듯한 사각형 모양에 안에 빵도 넣고 또 이제 뭐 치즈도 넣고 이렇게 만든 다음에 너무 크니까 반으로 딱 자르거든요 그러면 나눠지는 이 삼각형 모양이 어때요 이 부분이 직각이 있어서 직각삼각형 두 개의 모양으로 나누어서 샌드위치를 만들어 먹곤 합니다 자 우리 친구들 생각나는 직각삼각형 있는지 한번 찾아보세요 좋아요 그래서 이제 직각삼각형이라는 정체를 밝혀냈고 색종이로도 직각삼각형 만들 수 있죠 이렇게 마주보고 있는 꼭지점을 슥슥슥 진하게 자르면요 바로 한각이 직각인 직각삼각형도 만들 수 있답니다 자 그러면 이제 사각형도 만나볼게요 이미 사각형에서 4개의 각을 찾을 수 있어요 그리고 사각형에서 직각을 찾을 때는 모양에 따라서 직각이 이 사각형처럼 아예 없을 수도 있고요 한각만 직각일 수도 있고요 이렇게 두 개의 직각이 있을 수도 있고요 이렇게 4개의 직각이 있을 수도 있겠죠 그래서 사각형은 모양에 따라서 직각이 아예 없을 수도 있고 1개, 2개, 4개가 있을 수 있구나라는 걸 알 수 있습니다 자 그러면 이 중에서도 직각이 정말 많은 바로 다음과 같은 사각형 그냥 사각형이 아니라 반듯 반듯하게 생겼잖아요 그래서 이런 사각형을 우리가 특별하게 이름을 불러줬죠 그 정체는 바로 바로 직사각형입니다 그래서 직사각형의 뜻 4각이 모두 직각인 사각형을 직사각형이라고 해요 어 선생님 한각이 직각인 삼각형을 직각삼각형이라고 했는데 얘 이름은 왜 직각사각형이 아닌가요? 다릅니다 우리 친구들 헷갈릴 수 있거든요 그냥 직사각형이라고 이렇게 불러주기로 했다는 거 이건 약속이니까 그냥 우리 친구들 따라주면 되는 거고 그리고 직각삼각형하고 좀 비교했을 때 다른 점은 직각삼각형은 이 그림처럼 한각이 직각인 삼각형이죠 그러면 직사각형도 한각이 직각인 사각형인가? B 그건 아니고 4각이 모두 직각이어야 한다 라는 거예요 자 사실 선생님이 지난 시간에 우리는 직각나라에 살고 있어 라고 얘기를 했잖아요 좀 더 자세하게 얘기하면 우리는 직사각형 나라에 살고 있어 라고 해도 틀린 말이 아닙니다 아니 곰곰이 생각해 보세요 TV 모니터, 노트북 모니터, 그리고 또 책상, 칠판, 문 내가 매일 공부하는 수학책, 침대 아니 직사각형 모양의 물건이 얼마나 많은데요 우리 친구들 지금 방을 한 바퀴 삥 둘러보고 어떤 물건이 직사각형 모양인지도 찾아보세요 그럼 아주 재밌게 공부할 수 있을 거예요 좋아요 다양한 직사각형 크기랑 모양은 다를 수 있습니다 자 그럼 색종이로도 우리 직사각형 만들 수 있는데 다음과 같이 이 4부분이 직각이니까 자 여기 자르는 부분에서도 직각이 되게끔 잘라야 되겠죠 이렇게 비스듬하게 자르면 직각이 아니잖아요 그래서 짠 이렇게 반듯하게 잘랐을 때 직사각형 2개 만들 수 있고 또 이렇게 자르면 직사각형 얼마든지 여러 개로 자를 수 있어요 뭐 이렇게도 잘라도 그렇고요 아 그래서 색종이로도 직사각형을 만들 수 있구나 라는 거 우리 친구들도 직접 한번 다양한 모양으로 잘라보세요 자 그러면 우리 친구들 이제 직사각형 말고 또 다른 사각형을 공부할 건데 이미 우리는 지금 직사각형에 대해서 배웠습니다 자 이 직사각형 모여라 라고 했어요 우리가 사각형 마을에 놀러간 거예요 그래서 얘들아 직사각형만 모여봐 라고 했습니다 그럼 어떤 사각형들이 모일까요 4각이 모두 직각인 사각형들이 모일 거예요 그래서 다음과 같이 직사각형들만 딱 모였습니다 우리가 각을 기준으로 4각이 직각이 아니야 이렇게 봤단 말이죠 4각이 직각인 친구들을 모아놓고 이번에는 편을 좀 잘 관찰해 볼 거예요 직사각형 중에서 위에 있는 두 개의 직사각형과 아래 있는 두 개의 직사각형을 한번 비교해 보세요 네 친구 모두 직사각형이거든요 그런데 위에 두 개의 직사각형은요 4변의 길이가 같지 않아요 물론 2변과 2변, 서로 마주보고 있는 변끼리의 길이는 같지만 4변이 다 같지는 않죠 그런데 아래 있는 직사각형을 좀 볼래요 4변의 길이, 얘랑 얘랑 얘랑 어머 4변의 길이가 같네 얘도 마찬가지 4변의 길이가 같죠 그럼 4변의 길이가 같은 직사각형은 직사각형 중에서도 조금 더 특별한 것 같아 그래서 이름을 불러줬죠 바로 정사각형입니다 자 정사각형의 뜻 4각이 모두 직각이고 4변의 길이가 모두 같은 사각형을 정사각형이라고 하는 거예요 둘 중에 하나만 만족하면 안 됩니다 우리 선생님들 4변의 길이가 같은 사각형? 선생님이 4각이 같지 않고 4변의 길이만 같다면 이렇게도 그릴 수 있는 거잖아요 그렇죠 그렇기 때문에 둘 다 조건이 만족을 해야지 정이라는 글자를 딱 줄 수 있는 거예요 아셨죠 자 그러면 직사각형 따로, 정사각형 따로 있는가 이 부분 되게 조심해야 되는데 우리 선생님들 선생님이 아까 우리 사각형 나라에 놀러 갔다고 했잖아요 그래서 앞으로 나와서 얘들아 직사각형 모여라 라고 했어요 그래서 직사각형들이 이렇게 모인 거예요 그럼 이 직사각형 중에서는 다음과 같이 4변의 길이가 같지 않은 직사각형도 있고 4변의 길이가 같은 직사각형도 있었으니까 이때 이 직사각형, 4변의 길이가 같은 직사각형은 4변의 길이도 같고 4각의 크기도 같아서 정이라는 글자를 너한테 주겠어 이렇게 정사각형이라고 불러주기로 했잖아요 그렇죠 그러면 생각해 보세요 다음과 같이 4변의 길이가 같지 않은 직사각형을 보고 넌 정사각형이야 라고 불러줄 수 있나요 안 되죠 하지만 정사각형을 보고 넌 직사각형이야 라고 불러주는 건 어때요 맞는 말이잖아요 4각이 직각이니까 그렇죠 그렇기 때문에 우리가 정사각형은 이름이 무려 두 개나 있답니다 물론 사각형이라는 이름도 있겠지만 지금 배운 내용을 가지고는 정사각형이라고 불러도 되고 직사각형이라고 불러도 되는 거예요 그 점 꼭 주의해 주세요 그러면 우리가 흔히 볼 수 있는 정사각형 대표적으로는 바로 색종입니다 색종의 모양에서 정사각형 찾을 수 있다라는 거 그럼 이제 직사각형 모양의 종이를 정사각형으로 만들 수 있을까 우리 친구들 여기 보세요 이 직사각형 모양에서는 서로 옆에 있는 길이가 같아요 달라요 딱 한 눈에 봐도 달라 보이죠 이 길이가 더 길어 보입니다 만약에 긴 쪽의 길이가 10cm 라고 하고요 그 다음에 짧은 쪽의 길이가 8cm 라고 해 볼게요 그렇다면 우리 정사각형 만들 때 한 변의 길이가 몇 cm 정사각형 만들 수 있을지 한번 고민해 보세요 여기 10이니까 한 변이 10cm 정사각형 만들어야지 가능할까요 짧은 쪽이 8cm 이기 때문에 우리가 짧은 쪽에 맞춰 줘야 돼요 그래서 다음과 같이 접으면 바로 이 변도 이 변이 되는 거죠 그렇기 때문에 네 변이 모두 8cm 인 정사각형을 만들 수 있답니다 그래서 우리가 어떤 도형을 잘라서 정사각형 만들 때는 짧은 변을 기준으로 생각해야 된다라는 것도 잊지 마세요 자 그럼 이제 정사각형 정체까지 밝혀냈구요 이제 수외력 확인하기 자 내가 배웠던 개념 그대로 적용해 보도록 하죠 직각삼각자를 이용하여 직각삼각형 확인하기 우리 친구들 삼각형과 사각형 안에 숨어있는 직각을 찾아야지 사각형과 삼각형의 정체를 정확하게 밝힐 수 있죠 그러면 직각삼각자에서 직각인 부분 의심되는 각이다 이렇게 대보면 될 것 같아요 자 그럼 선생님하고 한번 문제 풀어 볼까요 1번에서 4번까지인데 선생님하고 함께 푼 문제 말고 나머지는 우리 친구들 숙제라는 거 잊지 마세요 직각삼각자의 직각 부분을 대어 보고 직각삼각형이 맞으면 동그라미 표 아니면 X표하세요 라고 했습니다 어디 보자 지금 보니까 직각이 의심되는 부분이 어딘가요 여기죠 자 선생님도 가지고 왔습니다 엄청 큰 직각삼각을 갖고 왔는데 한번 대볼게요 맞는지 자 이렇게 여기 직각삼각자 뾰족한 부분에 삼각형의 꼭지점을 대봤어요 짠 대보고 이 삼각자 끝부분을 변에 맞춰 봐야 되겠죠 요렇게 맞춰 봤습니다 어 그랬더니요 선생님이 직각삼각자를 대갖고 직각 부분을 이렇게 그린다면 이렇게 그려지는데 아니 떼었을 때 꼭 맞다라고 볼 수 있어요 아니죠 그렇다면 요각은 직각이라고 볼 수 있어요 아니죠 그럼 이 삼각형은 직각삼각형이라고 할 수 있을까요 B 그래서 X 직각삼각형이 아니다 라는 거 자 그 다음에 2번 어디 보자 이 친구는 직각이 이 부분인 거 같아요 이렇게 의심이 됩니다 자 선생님 갖고 왔어요 자 뾰족한 부분에 여기 꼭지점 대고 이 변하고 이 삼각자 끝부분을 대볼게요 쭉 대봤더니 꼭 맞네요 아 그 말은 여기가 직각이라는 얘기에요 그 말은 이 삼각형의 이름은 직각삼각형이 맞다라고 판단할 수 있는 거예요 좋아요 우리 친구들도 꼭 잘 대보세요 자 그러면 우리 친구들 직각삼각형을 이제 찾아볼 수 있습니다 직각삼각형이면 동그라미 아니면은 이제 둘 중에 어떤 게 직각삼각형이냐를 찾아볼 수 있는데 자 두 개가 이렇게 나왔습니다 직각삼각형에 동그라미 표하세요 라고 했는데 지금 왼쪽은 세각이 모두 직각이 아니죠 우리 친구들이 직접 삼각자를 대보면 알 수 있어요 그리고 오른쪽은 바로 이 부분이 지금 이렇게 대봤을 때도 짠 직각이거든요 그럼 여기가 직각이기 때문에 오른쪽 삼각형이 직각삼각형이야 라는 거 알 수 있는 거죠 자 그 다음에 이번에는 직각삼각자를 이용하여 직사각형을 확인해 볼게요 직사각형이란 내각이 모두 직각인 사각형 그럼 내각이 직각인지 확인해 봐야 되겠네요 그래서 삼각자를 이렇게 끝부분에 맞추어서 직각인지 확인하면 되겠습니다 자 우리도 해봐야 되겠죠 먼저 9번 직각삼각자의 직각부분을 대어 보고 직사각형이 맞으면 동그라미 표 아니면 X 표하세요 라고 했습니다 선생님이 이거 갖고 와 가지고요 이 각부터 한번 확인해 볼게요 짠 이렇게 됐더니 딱 맞네요 여기 직각 맞구요 그리고 이쪽은 이렇게 대볼게요 어때요 딱 맞죠 그래서 직각 맞아요 그러면 이쪽도 이렇게 대봤더니 네 직각이 맞구요 그리고 여기도 이렇게 대봤어요 짠 대봤더니 직각이 맞습니다 내각이 모두 직각인 거 확인했어요 그러니까 직사각형 맞구나 라는 거 자 그 다음에 10번 10번은 눈으로 봐도 좀 아닌 거 같아요 그죠 하지만 직접 대보고 확인해 볼게요 이쪽 각부터 이렇게 대봤더니 직각이 맞아요 그러면 이쪽 각은 이렇게 대봤더니 직각이 맞네요 그러면 여기는 대봤더니 아이고 직각은 이렇게 돼야 되는데 이렇게 돼야 되는데 그죠 직각이 아니에요 당연히 여기도 이렇게 됐을 때 직각이 아니니까 두각만 직각이네 그럼 우리가 직사각형이라고 할 수 없습니다 내각 모두 직각이어야 돼요 자 그러면 두 사각형이 주어졌을 때 둘 중에 누가 직사각형이게 라는 거 알아볼 수 있겠죠 여기서는 왼쪽 사각형입니다 그럼 13번 직사각형의 동그라미 표하세요 누가 직사각형이게 한날에 봐도 오른쪽 내각이 모두 직각이라는 거 삼각자를 대보면 알 수 있어요 직각 삼각자를 자 그 다음에 이번에는 누가 정사각형이게 물어봤습니다 그러면 정사각형이 되려면 직사각형 중에서도 네 변의 길이가 다 같아야 되죠 자 지금 왼쪽 오른쪽은 우리 친구들 이변보다 이변이도 좀 짧아 보여요 그죠 자를 대보면 친구들이 확인할 수 있습니다 자 그럼 21번 누가 정사각형일까요 정사각형의 동그라미 표하세요 라고 했어요 일단 둘 다 내각이 모두 직각이에요 그래서 직사각형은 맞습니다 그러면 이제 변의 길이를 확인해 봐야 되겠죠 지금 이변하고 이변은 길이가 다릅니다 근데 왼쪽은 네 변의 길이가 모두 같다라는 거 확인할 수 있어요 우리 친구들이 자를 다 재보고 길이 한번 체크해 보세요 아 따라서 왼쪽 사각형이 정사각형이다 라는 거 알 수 있겠죠 좋아요 자 그럼 이제 수회력 확인해 봤으니까 이제 수회력을 업 한 단계 높여 볼게요 1번 다음 중 직각삼각형에 대한 설명으로 옳지 않은 것을 모두 골라 기호를 써보세요 라고 했습니다 그러면 우리의 주인공 직각삼각형 하나 그려봐야 되겠는데요 자 한각이 직각인 직각삼각형 이렇게 그려봤어요 여기가 직각입니다 자 기억 각이 3개 있습니다 어쨌든 이 삼각형도 직각삼각형이기는 하지만 삼각형이죠 그러면 각이 하나 둘 셋 3개 있는 거 맞아요 그래서 기억은 맞다 ㄹ 모든 각이 직각입니다 아니죠 모든 각이 직각일 수 없어요 한각만 직각이 되기 때문에 옳지 않습니다 ㄷ 변이 3개 있습니다 삼각형이니까 변 3개 있는 거 맞습니다 ㄹ 꼭지점이 3개 있습니다 꼭지점 하나 둘 셋 3개 있는 거 맞구요 ㄴ 세변의 길이가 모두 같습니다 세변의 길이가 같은 삼각형은 이런 모양으로 생겨서 정삼각형이 되겠죠 하지만 우리 직각삼각형 같은 경우에는 이렇게 이 두변 직각을 낀 이 두변보다 마주보고 있는 변이 더 길 수밖에 없어요 그렇기 때문에 옳지 않습니다 따라서 정답 ㄴ 하고 ㅁ 이렇게 두 개가 정답이 되겠네요 좋아요 자 그럼 8번 다음 도영이 이름이 될 수 있는 것을 보기에서 모두 골라 기호를 써보세요 라고 했어요 우리 친구들 새로운 도영 친구들을 만나면 그 도영의 이름을 배우게 될 텐데 딱 하나만 있는 건 아니에요 그래서 여러 가지 이름을 많이 갖고 있으니까 그 부분을 조심해 주세요 지금 이 도영 선생님이 진하게 한번 그려볼게요 일단 사각형이죠 변이 4개 입니다 자 그래서 삼각형? 삼각형 아니에요 사각형? 맞습니다 직사각형 직사각형이라는 이름이 불러지려면 내각이 직각이어야 되는데 어디 보자 내각이 직각? 맞네요 그래서 직사각형 맞구요 그 다음 정사각형 정사각형이 되려면 내각이 모두 직각이고 그건 맞죠 4변의 길이까지 같아야 돼요 그럼 지금 한 변이 모는 하나 둘 셋 넷 4칸 이구요 여기도 하나 둘 셋 넷 하나 둘 셋 넷 하나 둘 셋 넷 4변이 모두 4칸으로 이루어졌으니까 아 정사각형 맞아요 자 ㅁ 직각 삼각형? 오잉 삼각형이라고 딱 그것만 봐도 옳지 않죠 자 따라서 이름이 될 수 있는 거 보기에서 모두 고르면 ㄴ과 ㄷ과 ㄹ 이렇게 3개가 답이 될 수 있겠습니다 자 그 다음에 11번 갈게요 다음과 같은 모양의 종이가 있습니다 종이를 어떻게 했대요 잘라서 정사각형을 만들려고 한대요 만들 수 있는 가장 큰 정사각형의 한 변의 길이는 몇 cm인지 구해보세요 라고 했습니다 지금 종이를 보니까 여기가 직각이고 여기도 직각이에요 그리고 3cm, 4cm, 5cm가 되어 있네요 그러면 자른다 라고 했으니까 우리 친구들 가장 긴 변이 여기서는 나와 있는 3변 중에서는 5cm인데 한 변이 5cm인 정사각형 만들 수 있어요 이쪽으로는 지금 1cm가 부족하죠 이쪽도 마찬가지고요 그래서 짧은 변에 맞춰야 된답니다 지금 이 3변 중에 가장 짧은 변은 3cm니까요 바로 여기가 3이니까 여기서부터 이렇게 3이 되게끔 3cm가 되게끔 잘라주면 되겠어요 따라서 정사각형의 한 변의 길이는 3cm가 되는 걸 알 수가 있겠습니다 짧은 변에 맞춰야 된다는 거 잊지 마세요 근데 그냥 짧은 변이 아니라 왜 그래야 되는지도 꼭 이유도 알아야 되겠죠 자 그럼 우리 12번 실생활 활용문제 보도록 하죠 현진이는 그림과 같은 직사각형 모양의 벽에 타일을 붙이기로 하였습니다 한 변이 3cm인 정사각형 모양의 타일을 붙이려면 문제! 타일은 모두 몇 개가 필요한지 프리과정을 쓰고 답을 구해보세요 라고 했어요 자 우리 현진이가 붙이려고 하는 벽은 직사각형 모양입니다 그렇다면 4각이 모두 직각인 사각형이다라는 건 알 수 있겠죠 가로가 15cm, 세로가 9cm로 나와 있어요 그럼 한 변이 3cm인 정사각형이다? 어때요? 타일이 한 이쯤이라고 한다면 이렇게 붙일 수 있겠네요 이쯤 이렇게 그러면 몇 개를 이어붙여야 되는지를 고민해 봐야 됩니다 어떻게 하면 될까요? 내변의 길이가 모두 같아요 정사각형은 그렇기 때문에 몇 개를 붙였을 때 15cm가 될까 그리고 세로에는 몇 개를 붙였을 때 9cm가 될까를 알아보면 되겠죠 그러면 15를 바로 3cm로 나누고 9cm도 3cm로 나누어서 얼마로 계산되는지 알아보면 몇 개씩 몇 줄을 붙여야 되는지 계산할 수가 있겠는데요 좋아요 이렇게 계획도 세웠으니까 프리과정 한번 써보도록 할게요 자 현진이가 타일을 붙이는 벽은 무슨 모양? 직사각형 모양입니다 그럼 가로를 봤을 때 가로는 15를 3으로 나누면 5가 되는 거니까 아 여기에서 5개를 붙일 수 있다는 걸 알았어요 붙일 수 있고 그 다음에 세로는요 9cm니까 3으로 나누면 3 아 그러니 3개를 붙일 수 있어요 붙일 수 있습니다 자 그렇다면 한 변이 3cm인 3cm인 정사각형 모양의 타일은 타일을 지금 몇 개씩 그렇죠 5개씩 5개씩 3줄로 요게 제일 중요하잖아요 그렇죠, 붙일 수 있으므로 모두 몇 개가 필요하냐 바로 5 곱하기 3 15개가 필요합니다 라는 걸 알 수 있습니다 자 따라서 우리 답 여기다가 쓸게요 정답은 15개가 되겠습니다 자 그러면 우리 도형에서 봤을 때 그림으로 알아보면요 3cm니까 가로로 이렇게 하나 둘 셋 넷 다섯 그렇게 3줄이니까 이런 그림으로 붙일 수 있다라는 뜻이겠죠 그래서 15개라는 걸 그림으로도 확인해 보세요 자 그러면요 우리 그 다음 문제 교과용한 문제 볼까요 사실 우리가 공부하고 있는 이 직각삼각형하고 직각삼각형 같은 경우 또 이제 정사각형은 다음과 같이 7교판 모양 조각에서 찾을 수 있습니다 자 7교판 7교판 모양 조각을 사용하여 짚모양을 만들었습니다 처음 7교판에서 찾을 수 있는 크고 작은 직각삼각형의 개수와 새롭게 만든 짚모양에서 찾을 수 있는 크고 작은 직각삼각형의 개수에 자를 일구해 보세요 라고 했어요 자 그러면 우리 친구들 지금 처음 7교판에 도형이 굉장히 여러 개로 조각이 나눠져 있으니까 선생님하고 좀 번호를 붙여 보도록 할게요 여기를 1번 2번 3번 4번 5번 6번 7번 이라고 했을 때 직각삼각형은 일단 1개짜리는 바로 1번하고 그 다음에 2번 그 다음 5번도 4번 7번 이렇게 1개짜리가 다음과 같이 5개가 있습니다 그러면 2개짜리 직각삼각형은 바로 1번하고 2번을 합한 거 요거 보이죠 이렇게 그 다음에 또 이번에는 이쪽으로도 직각삼각형이 보이니까요 아 3 4 5 6 3 4 5 6 7까지 3 4 5 6 7까지 5개가 모아진 것도 직각삼각형이 만들어지네요 자 그러면 여기에서 더 이상은 안 보이죠 아 그래서 모두 7개를 찾을 수 있구요 그 다음에 짚모양에서는 볼게요 일단 1개짜리는 여기 1번 2번 3번 4번 5번 6번 7번이라고 했을 때 3번 그 다음 4번 5번 6번 7번 이렇게 5개가 보이구요 2개짜리는 이렇게 6번하고 7번을 더한 것도 직각삼각형이죠 자 그럼 2개짜리 또 없는 것 같고 3개짜리 4개짜리 더 이상 없네요 그러면 모두 몇 개냐 바로 6개를 찾을 수 있어요 이제 크고 작은 직각삼각형의 개수에 자를 일구해 보시오라 그랬으니까 처음에는 7개 찾았는데 그 다음은 6개 찾았다 아 그러면 7에서 6을 빼서 1개를 찾을 수 있구나라는 걸 알 수가 있겠죠 자 따라서 정답은 1개가 되겠습니다 자 이제 드디어 수혜력도 높여봤거든요 우리 친구들 수혜력 완성할 수 있습니다 방금 7겹한 조각에서 이제 우리가 직각삼각형들 찾았었는데 첫 번째 대표용은 크고 작은 도형의 개수를 구해보는 거예요 우리가 각, 지난 시간에 각에서 크고 작은 각을 찾아봤었잖아요 자 마찬가지입니다 다음 도형에서 찾을 수 있는 크고 작은 직각삼각형 모두 몇 개인지 구해보세요 라고 했습니다 그러면 해결하기 첫 번째 일단 직각삼각형이 여러 개로 나눠졌으니까 번호를 각각 매겨보는 거예요 그래서 직각삼각형 1개짜리는 몇 개냐 2개짜리는 몇 개냐 이렇게 개수를 점차 늘려가면서 세야지 빠짐없이 꼼꼼하게 셀 수 있어요 즉 직각삼각형 1개, 2개로 이루어진 경우로 나누어 찾아 봅니다 먼저 1단계는 직각삼각형 1개로 이루어진 경우를 찾아 봅니다 그럼 여기서는 직각이 이렇게 각각 4개가 보이죠 여기서도 직각이 보여요 그렇기 때문에 1번, 2번, 3번, 4번 모두 직각삼각형이니 몇 개 찾았어요 4개 찾았습니다 그 다음 두 번째 직각삼각형 2개로 이루어진 경우를 찾아 보는 거예요 그럼 우리 친구들 1번하고 2번이 합쳐진 좀 큰 삼각형 직각삼각형이죠 그리고 또 2번하고 3번이 합쳐진 2번 더하기 3번도 찾았고 또 3번하고 4번이 합쳐진 삼각형 또 1번하고 4번이 합쳐진 삼각형 몇 개, 얘도 몇 개 찾을 수 있어요 4개 찾을 수 있네요 1개짜리 4개, 2개짜리 4개 따라서 크고 작은 직각삼각형은 모두 8개다 라는 거 찾을 수 있어요 좋아요 자 그럼 우리도 이제 연습해 봐야 되겠죠 다음 도영이에서 찾을 수 있는 크고 작은 직각삼각형은 모두 몇 개인지 구해 보세요 라고 했어요 먼저 나누어진 삼각형에 이름을 1번, 2번, 3번, 4번, 5번, 6번으로 붙여 보고 이 안에 직각을 한번 찾아 보죠 일단 전체적으로 이렇게 4개의 직각을 찾을 수 있고 여기서도 직각, 또 여기서도 직각 그 다음 여기서도 직각을 찾을 수 있습니다 그럼 이제 1개짜리부터 가볼게요 1, 2, 3, 4, 5, 6 각각 1번부터 6번까지 다 해요 그래서 6개가 되는 거고 자 2개짜리 찾아 볼까요 2번, 3번, 4번, 6번 그래서 2번 이거는 써 줄게요 2번하고 3번, 5번하고 6번 그래서 몇 개? 그렇죠 이게 2개가 되는 거죠 여기 6개, 여기 2개 자 3개짜리는요 3개짜리도 있어요 바로 몇 개가 있냐면 1, 2, 3 이렇게 직각삼각형 있죠 그래서 1번, 2번, 3번 그 다음 이렇게 2, 3, 4 2번, 3번, 4번 그 다음 4, 5, 6 4번, 5번, 6번 그 다음 1, 6, 5 1번, 6번, 5번 자 더 이상은 없어요 그래서 몇 개를 찾을 수 있냐면 바로 4개를 찾을 수 있겠습니다 자 그럼 4개짜리, 5개짜리는 더 이상 없으니까 다 찾은 거 같네요 따라서 6개, 2개, 4개 합해가지고 모두 12개를 찾을 수 있다 정답은 12개가 되겠습니다 좋아요 이렇게 번호를 매겨서 찾으면 빠짐없이 셀 수 있답니다 자 그럼 1-2번 이번에는 우리 사각형도 찾아 볼게요 크기가 같은 정사각형 9개를 겹치지 않게 붙여서 만든 도형입니다 이 도형에서 찾을 수 있는 크고 작은 정사각형은 모두 몇 개인지 구해보세요 라고 했어요 그러면 나누어진 1개짜리도 모두 크기가 같은 정사각형이거든요 일단 1개짜리 어떤 모양으로 생긴 거냐면 이렇게 생긴 거는 모두 몇 개예요 그래요 9개가 되는 거죠 그 다음 정사각형은 바로 2개씩 2줄이 있을 때 이런 모양입니다 그러니까 4개짜리 정사각형이 있죠 이런 크기 말이에요 그러면 이러한 정사각형은 몇 개가 보이겠어요 하나, 둘, 그 다음에 아래쪽 셋, 넷 아 4개가 보입니다 자 이제 5개짜리는 없죠 자 한 변이 이렇게 이제 3개가 모아진 전체 그러니까 9개짜리 가장 큰 거 바로 1개가 있겠네요 그러면 다 더했을 때는 9 더하기 4 더하기 1 모두 몇 개 그렇죠 14개가 보이는구나 라는 걸 알 수 있습니다 좋아요 그럼 이번엔 조금 그림이 복잡해졌는데요 크기가 같은 정사각형 7개를 겹치지 않게 붙여서 만든 도형이에요 여기에서 이 도형에서 찾을 수 있는 크고 작은 직사각형은 모두 몇 개인지 구해보세요 라고 했습니다 그러면 정사각형도 직사각형이니까 일단 1개짜리는 하나, 둘, 셋, 넷, 다섯, 여섯, 일곱 7개가 있고 그 다음에 2개짜리는 우리 친구들 옆으로 된 거 얘부터 먼저 찾아보면 하나, 둘, 셋, 넷 4개에다가 그 다음에 이런 모양인 건 하나, 둘, 셋, 3개가 되겠죠 그럼 3개짜리는요 이렇게 위로 된 거 하나, 옆으로 된 거 둘, 셋 그래서 전체가 3개가 되는 거고 그 다음 4개짜리는요 자 4개짜리는 길쭉한 거 하나랑 우리 친구들 정사각형 모양도 하나가 있어요 그래서 2개가 되는 걸 알 수가 있겠습니다 더 이상은 없는 것 같죠 그래서 얘네들을 더해 보면 7 더하기 4 더하기 3 더하기 3 더하기 2 11에서 14, 17, 2를 더하니까 19 즉 19개를 찾을 수가 있겠습니다 좋아요 자 이번에는 다음 도형에서 찾을 수 있는 크고 작은 직각삼각형은 모두 몇 개인지 구해보세요 일단 직각을 찾아보면 이렇게 직각 가장자리에 있고 또 여기도 직각이 이렇게 있습니다 되게 많겠죠 그 다음에 또 이쪽에도 이렇게도 직각 또 어느 쪽도 이렇게도 직각이에요 되게 많습니다 그래서 이것도 일단 1개짜리를 찾아보면요 1번, 2번, 3번, 4번, 5번, 6번, 7번, 8번 그래서 8개가 되겠고요 그 다음에 2개짜리 찾아보면요 이쪽으로 1, 8 이렇게 찾을 수 있죠 이렇게 1, 2, 3, 4, 4개가 됩니다 3개짜리는 없고 4개짜리가 있어요 이쪽으로 이렇게 1, 2, 그 다음에 3, 4 그래서 4개짜리도 4개가 되는 걸 알 수가 있겠다 더 이상은 없죠 우리 친구들 그래서 이들을 더해 보면 8 더하기 4 더하기 4 16개가 되는 걸 알 수가 있습니다 좋아요 크고 잔긋 찾는 게 어렵지 우리 그 다음 대표 응용 문제는 어렵지 않을 거예요 정사각형의 성질을 이용한 길이 구하는 문제인데요 지금 한 변의 길이가 2cm인 정사각형 9개를 겹치지 않게 붙여서 만든 도형이에요 빨간선의 길이가 몇 cm냐 그러면 이 2cm짜리가 몇 개가 이어진 건지만 보면 됩니다 자 해결하기 정사각형은 4변의 길이가 같은 걸 이용을 해서 작은 정사각형이 가로로 3개, 세로로 3개가 있기 때문에 큰 정사각형이 만들어진 거죠 그러면 작은 정사각형의 한 변이 2cm니까 큰 정사각형의 한 변은 2, 2, 2 6cm가 되는 걸 알 수 있고요 그렇다면 정사각형은 4변의 길이는 바로 이 6cm를 몇 번 하나, 둘, 셋, 넷, 네 번 더하면 되기 때문에 결국 한 변의 길이의 4배 곱하기 4를 하면 돼요 그래서 6 곱하기 4, 24니까 아 빨간선의 길이는 24cm다 이렇게 구하는 거예요 자 그럼 연습 한 변이 3cm인 정사각형 6개를 겹치지 않게 붙여서 만든 도형입니다 파란선의 길이는 몇 cm인지 구해보세요 라고 했는데 이 3cm가 몇 번 이어진 건지 함께 세볼게요 하나, 둘, 셋, 넷, 다섯, 여섯, 일곱, 여덟, 아홉, 열, 열하나, 열둘 아 그렇다면 3cm를 12번 더하면 되니까 곱하기 12를 하면 되겠구나 그래서 36cm가 되겠습니다 자 그다음 문제 마찬가지죠 한 변이 10m인 정사각형 9개를 겹치지 않게 이어붙여서 만든 모양의 도로가 있는데 집에서 놀이터까지 빨간선을 따라서 간다고 할 때 이동한 거리는 몇 미터냐 그러면 여기가 한 칸이 10m니까 10m 몇 번 이어갈까요 하나, 둘, 셋, 넷, 다섯, 여섯 번 입니다 따라서 10 곱하기 6을 하면 60이 나오고 아하 60m가 답이 되겠어요 엄청 금방 풀 수 있죠 자 그러면 그 다음 문제는 한 변이 4cm인 정사각형을 겹치지 않게 붙여서 다음과 같은 도형을 만들었습니다 이 도형에서 찾을 수 있는 가장 큰 직사각형의 내변의 길이의 합은 몇 cm에요? 라고 했습니다 우리 친구들 가장 큰 직사각형은 바로 이렇게 4개씩 2줄이 있는 겁니다 그러면 한 변이 4cm가 되는 거니까 여기는 4개가 이어붙였으니까 16cm 그 다음에 여기는 2개니까 8cm가 되는 거죠 직사각형은 마주보는 변의 길이 같아서 내변을 더하면 16 더하기 8 더하기 16 더하기 8 계산하면 돼요 그래서 계산하면 48cm가 되는 걸 알 수가 있겠어요 자 좋아요 우리 마지막 한 변이 3cm인 정사각형을 겹치지 않게 붙여서 다음과 같은 도형을 만들었습니다 이 도형에서 찾을 수 있는 가장 큰 정사각형의 내변의 길이의 합 일단 가장 큰 정사각형은 바로 3개씩 3줄이 있는 바로 이러한 정사각형인데 한 변이 3cm인 정사각형 붙였어요 그러면 얘는 3개가 붙었으니까 9cm가 되겠고 내변의 길이의 합은 9를 4번 더하면 되기 때문에 36cm로 계산할 수가 있겠습니다 어때요 우리 친구들 하나의 대표 이용 문제를 보니까 술술 풀리는 거 확인할 수 있었죠 자 오늘의 미션 삼각형과 자각형이 숨어있는 직각을 찾아라 그 직각을 찾으면 바로 삼각형의 이름 사각형, 직각삼각형, 직사각형, 정사각형이라는 새로운 이름도 붙여줄 수 있었습니다 자 오늘 배운 내용 우리 친구들 복습하는 거 잊지 마시고요 다음 시간에 새로운 내용으로 선생님 다시 올게요 고생 많았어요 우리 친구들 안녕\n",
      "03강평면도형(3)_초등수해력-도형·측정3단계.mp3에 대한 텍스트가 ./ebs_script/new/03강평면도형(3)_초등수해력-도형·측정3단계.txt로 저장되었습니다.\n",
      "Transcription for 04강2-2_무게_넓이비교하기,2-3_담을수있는양비교하기_초등수해력-도형·측정1단계.mp3:\n",
      "친구들 안녕하세요. 초등수외력 도형측정 1단계 정소연 선생님입니다. 자 우리 오늘은요 4번째 강의에요. 오늘 다루게 될 내용 함께 확인해 볼게요. 첫번째 앞부분에서는 무게 그리고 넓이를 비교하는 연습을 해볼거에요. 우리 지난 시간에도 비교해보는 거 기억나죠? 길이를 비교하거나 높이를 비교하거나 이런 여러가지 이야기를 했잖아요. 오늘은 비교는 하는데 무게 또는 넓이를 비교하면 어떤 식으로 표현할 수 있을지를 배워볼겁니다. 그리고 두번째 내용은요 2단원의 세번째 내용인데요. 담을 수 있는 양을 비교하는 거에요. 예를 들면 어떤 그릇에 얼만큼의 양을 담을 수 있지? 이 그릇과 이 그릇의 양을 비교해보면 뭐라고 표현할 수 있을까? 이것에 대한 내용을 함께 공부해 볼겁니다. 친구들 모두 준비됐죠? 그러면 첫번째 내용부터 함께 출발해 볼게요. 자 우선 무게에 대한 이야기부터 함께 해볼게요. 무게라는 것은 예를 들어서 어떤 물건이 있으면 그것이 얼마나 무거운지 그 정도를 표현하는 겁니다. 여기 그림을 한번 볼게요. 큰 봉지가 있고 작은 봉지가 있어요. 이 두가지 봉지의 무게를 비교하면 어디가 더 무겁다고 할 수 있을까요? 큰 봉지요? 아니 작은 봉지요? 맞아요. 알 수 없다가 정답입니다. 왜냐하면 무게라는 건 무작정 크다고 해서 무조건 무거운 것은 아니기 때문이에요. 또 반대로 작다고 해서 무겁거나 가볍다 라고 표현할 수는 없죠. 그래서 무게를 비교하는 가장 좋은 방법은 직접 들어보거나 또는 저울을 활용하는 방법 등이 있어요. 자 여기 이 양팔저울이 있는데 우리 친구들 혹시 본 적이 있나요? 양팔저울은 마치 시소와 같아서 양팔저울의 양쪽 끝에 물건을 하나씩 올려 놓으면 더 무거운 쪽으로 이렇게 기울어지거든요. 그래서 아래쪽으로 내려간 이쪽의 물건이 더 무겁다라고 표현하는 거예요. 그럼 여기 볼게요. 풍선과 야구공 두 물건의 무게를 비교했을 때 어느 쪽이 더 무겁다? 맞아요. 야구공이 풍선보다 더 무겁다라고 표현할 수 있는 겁니다. 그러면 풍선은요? 뭐라고 이야기하면 될까요? 풍선은 야구공보다 더 가볍다라고 이야기할 수 있겠죠. 자 여기에서도 우리 지난 시간에 이야기했던 더 라는 말이 들어가요. 두 가지 물체의 무게를 비교할 때 더 무겁다, 더 가볍다 무슨 뜻인지 알겠죠? 그럼 이번에는 무게를 도대체 어떻게 비교하는지 여러 가지 방법에 대한 그림이 나와 있는데 선생님이 아까 이야기해줬어요. 함께 볼게요. 일단 무게를 비교하는 첫 번째 방법은 눈으로 비교하는 거예요. 우리 친구들이 코끼리와 생쥐를 직접 다 들어본 적은 없지만 코끼리는 당연히 생쥐보다 무겁겠지라는 걸 알 수 있죠. 눈으로 딱 보기만 해도 알 수 있는 내용이잖아요. 그래서 무게를 비교하는 첫 번째 방법은 일단 눈으로 본다는 거. 그 다음 두 번째 방법은 뭐예요? 직접 드는 거죠. 직접 들 수 있다면 들어서 비교하는 거예요. 우리 어디 과일 가게 같은데 가면 어? 어느 과일이 더 무겁지? 어떤 사과가 더 맛있을까? 이런 걸 비교하면서 양손에 들고 저울질 하는 거 본 적 있을 거예요. 그래서 직접 들어서 비교해 보면 무게를 확실히 비교할 수 있다는 거. 그 다음 세 번째 아까 이야기했던 양팔 저울 있죠? 양팔 저울을 이용할 수도 있고 시소와 비슷한 기구를 이용하면 무게를 비교할 수 있습니다. 여기도 보면 어느 쪽이 더 무겁다는 걸 알 수 있어요. 맞아요. 우유 오른쪽이 더 무겁다는 걸 쉽게 알 수 있겠죠. 그럼 이번에는 여러 가지 물건의 무게를 비교하는 활동을 한번 살펴볼게요. 여기 멜론과 참외와 귤이 있어요. 세 가지 물건의 무게를 비교한다고 하면 이 세 가지를 한 번에 비교하기는 사실 어렵잖아요. 그래서 어떻게 하냐면 둘둘씩 비교를 해보는 거예요. 멜론과 참외를 먼저 비교했더니 어느 쪽이 더 무거워요? 멜론 쪽이 더 무거워요. 그 다음 참외와 귤을 비교했더니 어느 쪽이 더 무거워요? 참외가 더 무거워요. 그렇다면 이 세 가지 물건의 무게는 어떤 순으로 나열할 수 있을까요? 가장 무거운 것이 멜론, 그 다음은 참외, 그 다음은 귤이라는 것을 알 수 있는 거죠. 그래서 이 중에서, 셋 중에서 가장 무거운 것은 멜론, 가장 가벼운 것은 귤입니다. 라고 이야기할 수 있는 거예요. 아까 선생님이 이야기해줬던 더 라는 말과 가장 이라는 말은 조금 의미가 다르다는 거 이제 좀 알겠죠? 그리고 이 멜론, 참외, 귤, 우리 양팔 저울을 이용하기는 했는데 눈으로 비교해 볼 수도 있고 직접 들어볼 수도 있다는 것도 같이 기억해 주세요. 그럼 생활 속에서 또 무게를 비교해 보는 경우 함께 살펴볼게요. 선생님이 아까 이야기했죠? 과일 고를 때 둥글고 무거운 오렌지가 더 맛있는 오렌지야. 그러니까 더 무거운 거 어느 쪽이지? 막 들어보다가 이게 가장 무겁군 하면서 사오잖아요? 그 다음 두 번째, 옷을 고를 때에도 무게를 비교합니다. 어떤 경우냐면요, 이렇게 등산을 하거나 운동을 하려고 하는데 너무 무거운 옷을 입으면 운동을 잘 할 수 있을까요? 너무 힘들어서 제대로 할 수 없을 거예요. 그렇죠? 그래서 등산을 하거나 운동을 할 때는 둘 중에서 더 가벼운 옷을 골라야지 라고 생각하는 거예요. 그 다음 세 번째, 짐을 들려고 하는데요. 나랑 아빠가 짐을 나누어 들 거예요. 그러면 아빠가 더 무거운 짐을 들게, 너는 더 가벼운 짐을 들어주렴. 이라고 이야기할 수 있겠죠. 그래서 짐을 들 때에도 무게를 비교한다는 것까지 같이 정리해 보겠습니다. 자, 이번에는 넓이의 이야기를 한번 해 볼게요. 넓이라는 것은 얼마나 넓은지 또는 좁은지를 이야기하는 거예요. 이렇게 짐의 공간을 차지하나요? 라는 것에 대한 답이라고 할 수 있죠. 여기 지금 선생님 책상과 학생 책상이 있어요. 그러면 이 둘 중에 어느 쪽이 더 넓을까요? 맞아요. 선생님 책상이 더 넓을 것 같아요. 그러면 여러분 도대체 넓이는 어떻게 비교할까요? 무게는 직접 들어보면 된다 또는 양팔절을 사용하면 된다 이런 이야기를 했는데 넓이를 비교하는 방법 한번 보여 드릴게요. 자, 선생님 책상과 학생 책상을 이렇게 위에서 내려다 보았을 때의 모습을 그림으로 표현한 거예요. 위에서 아래를 내려다 보니까 선생님 책상은 이만하고요. 학생 책상은 이렇게 생겼어요. 그러면 이때 어떻게 비교하면 된다? 한쪽 끝을 이렇게 갖다 대어서 비교를 해 봐도 되고 이 중에 어디가 더 공간을 많이 차지하고 있는지를 비교해서 정답을 찾아도 됩니다. 그러면 어느 쪽이 어느 쪽보다? 맞아요. 선생님 책상이 학생 책상보다 더 넓습니다. 라고 이야기할 수 있고요. 학생 책상은 선생님 책상보다 더 좁습니다. 라고 할 수 있어요. 여기에서도 마찬가지, 더 라는 말 어떻게 쓰는지 알겠죠? 그 다음, 넓다의 반대말은 좁다. 좁다의 반대말은 넓다 라는 거 같이 기억해 주세요. 자, 그러면 이렇게 선생님 책상과 학생 책상처럼 한눈에 짠! 넓이를 비교하기 쉬운 건 그냥 하면 돼. 어? 한눈에 봐도 선생님 책상이 훨씬 더 넓은데요? 이런 경우는 넓이를 쉽게 비교할 수 있는데 여기에 나와 있는 것처럼 넓이가 비슷한 경우에는 어떤 식으로 비교할까요? 보통 우리 학교에서 여러 종이의 넓이를 비교할 때, 크기를 비교할 때 이런 방법을 많이 쓰죠. 어떻게 하냐면 한쪽 끝을 이렇게 모서리 부분을 짠! 맞춰서 겹치는 거예요. 이렇게 했을 때 이 나, 파란색 종이 부분이 가정통신문에 쑥 들어가는 것을 알 수 있죠. 그래서 두 물건을 이렇게 겹치거나 또는 맞대어 보면 어느 쪽이 더 넓은지 쉽게 비교할 수 있습니다. 그럼 이 경우에는 무엇이 무엇보다? 가정통신문이 파란색 종이보다 더 넓습니다. 또는 파란색 종이는 가정통신문보다 더 좁습니다. 이렇게 이야기할 수 있는 거죠. 자, 그럼 이번에는요 또 마찬가지예요. 세 가지 물건의 넓이 어떻게 비교하면 될까요? 여기 보니까 지금 동화책도 있고요. 그 다음에 신문지도 있고 그리고 도화지도 있어요. 이런 경우에는 가장 좋은 방법은 뭐냐? 한 번에 세 개를 다 비교할 수도 있지만 우리 앞에 그 여러 가지 과일의 무게를 비교한 것처럼 둘둘 묶어서 비교를 하고 그래서 최종적으로 하나의 결론을 이끌어 내는 방법도 있어요. 예를 들면 동화책과 신문지를 비교했을 때 어디가 더 넓어요? 신문지가 더 넓지. 그 다음 신문지와 도화지를 비교했을 때도 신문지가 더 넓지. 그래서 신문지가 셋 중에서 가장 넓어요 라고 이야기를 할 수 있는 거예요. 됐나요? 이런 식으로 둘둘씩 비교하는 방법도 있고 아니면 이 셋을 하나로 짠! 겹쳐보는 거예요. 이때 끝을 맞추어서 겹쳐보는 겁니다. 한 번 볼게요. 이런 식으로 세 물건의 한쪽 끝을 이렇게 짠! 이쪽에서 맞춘 것을 볼 수 있죠. 이렇게 보면 뭐가 가장 넓다? 신문지가 가장 넓다는 것을 알 수 있고요. 무엇이 가장 좁다? 동화책이 가장 좁다는 것을 알 수 있어요. 그리고 또 이렇게 셋을 한꺼번에 비교해 보면 셋 중에서 둘둘씩 묶었을 때 어느 쪽이 더 넓고 어느 쪽이 더 좁은지도 한눈에 비교를 할 수 있죠. 예를 들어 볼게요. 신문지는 도화지보다 더 넓어요. 맞나요? 신문지는 도화지보다 더 넓고 신문지는 또 동화책보다 더 넓어요. 이렇게 둘둘씩도 비교해서 문장으로 표현할 수 있게 되는 거죠. 그럼 우리 생활 속에서는 도대체 언제 이렇게 넓이를 비교하는지 몇 가지 예를 들어서 설명해 줄게요. 첫 번째, 내가 침대를 하나 샀는데 그 침대에 이불 또는 침대포를 덮으려고 해요. 그런데 이 침대포 어떤 게 적당할까? 어떤 게 적당해요? 침대보다 조금 더 넓은 침대포가 필요하겠죠. 침대보다 더 좁은 것은 그 위에 올려놨을 때 나중에 이렇게 몸을 움직이다가 구겨지거나 불편하게 될 수 있잖아요. 그래서 살짝 더 넓은 걸로 해서 이렇게 끼워넣어서 사용을 하게 되죠. 그다음 두 번째도 한번 볼게요. 음식을 올릴 접시를 고른다. 내가 피자를 만들었어. 그런데 이 피자를 접시에 담아가야 돼요. 그러면 피자의 넓이보다 접시의 넓이가 더 어때야 돼요? 더 넓어야 되는 거죠. 그다음 세 번째, 상자를 포장할 포장지를 고르는 상황을 한번 떠올려 볼게요. 포장지라면 상자보다 어떻게 돼야 돼요? 상자보다 더 넓어야 이 상자를 이렇게 싸서 감싸서 포장을 예쁘게 할 수 있겠죠. 그래서 포장지를 좀 더 크고 넓은 것을 활용해야 된다. 이럴 때 넓이를 비교할 수 있다는 것을 알 수 있어요. 그럼 이제 문제 함께 풀어 볼게요. 보기의 접시를 넓은 것부터 순서대로 포기해서 올리려고 한대요. 우리 집에서도 여러 개의 접시를 하나씩 보관하지 않잖아요. 이렇게 찬장 같은데 넣을 때 제일 큰 걸 아래에, 그다음 점점점 작은 걸 위로 올려서 보관을 하죠. 그걸 하려는 것 같아요. 그런데 하얀색 접시 위에 접시 붙임딱지를 알맞게 붙여 보세요라고 했어요. 그러면 우리 어떤 순서로? 맞아요. 넓이가 넓은 것부터 순서대로 위로 올려서 쌓는다고 생각하면 됩니다. 그럼 이 셋 중에서 가장 넓은 건 뭐예요? 초록색, 빨간색, 노란색 이렇게 되겠죠. 그래서 그 순서대로 붙임딱지를 붙여 보면 이렇게 됩니다. 초록, 빨강, 노랑의 순으로 올려주면 되는 거죠. 자, 그 다음 이번에는 대표용용 1번 문제 함께 볼게요. 도영이와 도준이의 대화를 읽고, 가, 나, 다 종이 중에 어느 것이 가장 넓은지, 가장 넓은지를 물어보는 거예요. 한번 보자. 도영이의 말 볼게요. 가 종이는 나 종이보다 더 넓어 라고 했어요. 그러면 가가 나보다 더 넓구나라는 걸 먼저 생각해 볼 수 있습니다. 그래서 1단계에서 볼게요. 도영이의 말에서 가와 나 중에 더 넓은 것이 무엇이다? 가라는 것을 알 수 있어요. 그래서 동그라미 했고요. 그 다음 이번에는 도준이의 말 한번 읽어 볼게요. 가 종이는 다 종이보다 더 좁은데 라고 했어요. 그러면 가와 다 중에서 더 넓은 것은 무엇이라는 것을 알 수 있어요? 다 종이입니다 라는 것을 알 수 있죠. 가가 다보다 더 좁다고 했으니까 다가 더 넓은 게 되는 거지. 그래서 이 셋 중에서 가장 넓은 종이는 무엇이다? 이 두 말을 함께 종합해 봤을 때 바로 다 종이입니다 라는 것을 알 수 있는 거예요. 이건 둘둘씩 비교를 했다고 정리할 수 있겠죠. 이제 문제 하나만 더 풀어 볼게요. 그림을 보고 가벼운 것부터 순서대로 동물 붙임딱지를 안 맞게 붙여 보세요 라고 했습니다. 지금 고양이, 쥐, 강아지 세 동물의 무게를 비교하고 있는 시소 그림인데요. 하나씩 볼게요. 기억부터 봅니다. 기억에서 고양이 쪽이 아래로 내려갔기 때문에 무엇이 더 무거워요? 고양이가, 빨간색으로 적어 볼까? 고양이가 무엇보다 쥐보다 더 무겁습니다 라고 할 수 있어요. 그럼 2단계 갑니다. 이번에는 니은 비교해 볼게요. 고양이와 강아지의 무게를 비교했더니 강아지 쪽이 아래로 내려갔잖아요. 그러니까 강아지 쪽이 무엇보다 고양이보다 더 무겁다는 것을 알 수 있습니다. 그러면 이제 최종적으로 정리하는 거지. 이 중에서 가장 가벼운 것은 무엇이다? 가장 무거운 것은 무엇이다? 그렇죠. 가장 가벼운 것은 쥐이고 가장 무거운 것은 강아지. 그 중간에 있는 것은 고양이가 되겠죠. 그래서 순서대로 붙여 보면 쥐, 고양이, 강아지 이런 순으로 붙일 수 있는 거예요. 여기까지 문제 다 풀어 봤죠? 나머지도 우리 친구들이 스스로 풀어 보시고 선생님은 다음 내용으로 넘어가 볼게요. 이번에는 담을 수 있는 양을 함께 비교해 볼 거예요. 여기 두 가지 그릇이 있다고 생각해 볼게요. 이 그릇이 더 많이 담길까? 아니면 이 그릇이 더 많이 담길까요? 맞아요. 이 빨간색 그릇이 은색 그릇보다 훨씬 더 많이 담기겠죠. 그건 우리 친구들이 눈으로 착 보면 알 수 있겠죠. 그럼 뭐라고 설명하면 돼요? 빨간색 그릇은 은색 그릇보다 담을 수 있는 양이 더 많습니다라고 이야기하는 거예요. 여기서도 마찬가지, 뭐의 동그라미? 더의 동그라미 해놓으면 좋겠죠. 둘을 비교하는 거니까. 그 다음 이번에는 은색 그릇은 빨간색 그릇보다 담을 수 있는 양이 더 적습니다라고 했어요. 그래서 담을 수 있는 양을 비교할 때, 둘을 비교할 때는 더 라는 말을 쓴다. 그러면 담을 수 있는 양이 이렇게 확실히 차이가 나는 경우도 있는데 그렇지 않은 경우도 있잖아요. 그럴 때는 어떻게 비교하는지 함께 볼게요. 여기 가와 나가 있어요. 가에 더 많이 들어가는지 나에 더 많이 들어가는지 그걸 정확히 모르겠어. 이럴 때는 어떻게 하냐면 둘 중에 한 쪽에 물을 가득 담아 보는 거예요. 그리고 그것을 나머지 컵에 한번 부어 보는 거죠. 일단 가에다가 물을 가득 담아서 이걸 나에다가 부었어. 그랬더니 나가 이렇게 가득 찬 거 보여요? 나가 가득 찼는데 가에는 아직 물이 남아 있어요. 가에 담겨 있던 물이 모두 나로 옮겨지지 못했다는 뜻이에요. 그러니까 어디에 더 많이 들어가는 거예요? 가에 더 많이 들어가는 거예요. 그래서 이것을 문장으로 표현해 보면 가는 나보다 담을 수 있는 양이 더 많습니다. 라고 설명할 수 있는 거죠. 자 그럼 이번에는 이 그림은 무엇을 의미하는 걸까요? 맞아요. 세 그릇의 양, 담을 수 있는 양을 비교해 보는 겁니다. 이 경우도 마찬가지, 둘둘씩 비교를 할 수도 있고 또는 셋을 한 번에 한 눈으로 비교를 할 수도 있어요. 자 갑니다. 양동이는 종이컵보다 라고 하면 뭐라고 얘기할 수 있을까? 양동이는 종이컵보다 담을 수 있는 양이 더 많습니다. 자 그럼 이번에는 여기 문장 보지 말고 우리 친구들이 대답해 보세요. 종이컵은 물통보다 담을 수 있는 양이 더 적습니다. 라고 해요. 그래서 이 문장들이 각각 무슨 의미인지 우리 친구들이 직접 이해를 하시고 그리고 말로도 표현할 수 있어야 됩니다. 알겠죠? 그래서 양은 더 많다 또는 더 적다라는 표현을 쓴다는 거 기억을 해 주세요. 특히 특히 우리 친구들 많다의 반대말이 작다라고 생각하는 친구들 많거든요. 작다가 아니라 적다라는 거 꼭 기억해 주세요. 그리고 이렇게 모두 비교해 보고 나니까 결과적으로 이 셋 중에서 가장 담을 수 있는 양이 많은 것은 무엇이다? 양동이다. 그래서 문장으로 표현해 보면 양동이는 담을 수 있는 양이 가장 많습니다. 라고 할 수 있고 반대로 종이컵은 담을 수 있는 양이 가장 적습니다. 작습니다. 아닙니다. 자 그래서 가장 적습니다. 여기에서도 우리 친구들 꼭 기억해야 될 표현 가장 가장 알겠죠? 그럼 우리 생활 속에서는 도대체 언제 이렇게 담을 수 있는 양을 비교하는지 그 예를 들어서 설명해 줄게요. 음료수를 어디 다른 데 옮겨서 가는 경우가 있어요. 뭐 예를 들면 큰데 담겨 있는 음료수를 작은 병에 나누어서 담아서 친구들이 나누어 먹기도 하고 또는 우리 집에 있는 그 음료수를 일정 부분을 따라서 어디 소풍 가거나 할 때 가져가는 경우도 있잖아요. 그래서 음료수를 물병에 옮겨 담을 때 이 만큼이 다 들어갈까? 내가 원하는 만큼이 다 담길까? 이걸 비교하는 경우가 있죠. 그리고 오른쪽 장난감을 정리할 통을 고를 때 여기 있는 이 블록들을 다 장난감 통에 넣고 싶어요. 그런데 이 두 통 중에서 어디에 장난감이 다 들어가지? 어느 쪽이 더 많이 들어가지를 비교하게 되는 거죠. 그래서 이런 경우에 담을 수 있는 양을 비교하는구나. 그리고 선생님이 제일 많이 쓰는 거는 보통 반찬 같은 거 있잖아요. 아니면 국 같은 걸 끓여서 어디에 옮겨 담으려고 하는데 이 통이 좋은가? 이 통이 좋은가? 비교할 때에도 담을 수 있는 양을 이렇게 서로 절질해 보곤 합니다. 그럼 이번에는 담겨 있는 양을 한번 비교해 볼 거예요. 그냥 크기만 비교하는 게 아니라 여기 보시면 똑같은 두 개의 컵이 있는데 이 안에 담겨 있는 물의 양만 비교해 보는 거예요. 어? 컵은 똑같은데요? 아니 아니, 컵을 비교하는 게 아니라 그 안에 담겨 있는 양을 한번 자세히 살펴보세요. 가에 더 많이 담겨 있어요? 나에 더 많이 담겨 있어요? 그쵸? 나에 훨씬 더 많이 담겨 있죠. 그래서 이 경우에는 컵의 크기는 똑같지만 담겨 있는 물의 양은 서로 다르다. 그래서 나에 담긴 물의 양은 가에 담긴 물의 양보다 더 많습니다. 라고 설명할 수 있고 반대로 가에 담긴 물의 양은 나에 담긴 물의 양보다 더 적습니다. 라고 설명할 수 있는 겁니다. 이해가 되나요? 담겨 있는 양을 비교하고 있습니다. 자 그러면 이번에는요, 세 병에 담긴 물의 양도 비교해 볼게요. 가, 나, 다. 세 병의 모양과 크기는 다 똑같아요. 그런데 가, 나, 다 중에서 어느 쪽이 가장 그 물의 양이 많을까요? 맞아요. 그 높이를 비교해 보면 되죠. 가는 여기까지 차 있고, 나는 여기까지, 다는 여기까지 차 있잖아요. 높이를 비교해 보면 다에 가장 많이 들어 있구나라는 걸 알 수 있습니다. 그래서 다에 담긴 물의 양이 가장 많습니다. 라고 이야기할 수 있는 거죠. 그러니까 가에 담긴 물의 양은 이렇게 높이를 비교해 보면 가장 적습니다. 라고 설명할 수 있는 거예요. 그래서 결론 다시 정리해 보면 가장 중요한 건 뭐다? 모양과 크기가 똑같은 컵이나 병이라면 그 안에 담긴 물의 양을 비교할 때는 무엇을 비교한다? 물의 높이를 비교한다라는 것을 기억해 주시면 됩니다. 그럼 이번에는요. 이런 경우도 있어요. 선생님, 이번에는 물의 높이는 다 똑같아요. 가와 나 보니까 물의 높이는 다 이렇게 똑같이 담겨 있어요. 그러면 가와 나에 담긴 물의 양이 같다고 표현할 수 있나요? 어때요? 아니에요. 왜 아닐까요? 보시면 물의 높이는 같다고 하더라도 무엇이 서로 다른 거예요. 컵의 크기가 서로 다르잖아요. 가 컵은 훨씬 더 이렇게 홀쭉하고 나 컵은 훨씬 더 이렇게 크잖아요. 그러니까 높이가 같다고 하더라도 이런 경우에는 컵의 크기를 비교해서 담긴 물의 양을 비교할 수 있다는 거예요. 한번 볼게요. 왜? 컵의 크기가 가가 훨씬 작기 때문이에요. 그다음 나의 담긴 물의 양은 가의 담긴 물의 양보다 더 많다. 왜? 컵의 크기가 서로 다르기 때문이다. 그래서 마냥 높이만 봐도 안 되고 그냥 크기만 봐도 안 되고 모든 것을 종합적으로 보고 우리 친구들이 판단할 수 있어야 됩니다. 자, 그럼 이번에는요. 컵이 몇 개예요? 세 개예요. 물의 높이가 같은 세 컵에 담긴 물의 양을 비교한다. 그런데 지금 물의 높이는 같지만 무엇이 서로 다르다? 맞아요. 가, 나, 다 컵의 크기가 서로 달라요. 이 중에서 컵의 크기가 가장 큰 것은 다입니다. 그래서 다의 담긴 물의 양이 가장 많습니다. 그래서 다의 담긴 물의 양이 가장 많습니다. 크기가 가장 작은 컵은 가죠. 그래서 가의 담긴 물의 양이 가장 적습니다. 라고 표현을 할 수 있는 거예요. 이렇게 세 컵의 크기를 비교해서 안에 담긴 물의 양을 비교해보는 연습도 같이 해봤습니다. 이제 문제 함께 풀어 볼게요. 실생활활용 9번 문제입니다. 유리병에 가득 담긴 물을 뺀다. 이제 문제 함께 풀어 볼게요. 실생활활용 9번 문제입니다. 유리병에 가득 담긴 물을 물통에 옮겨 담았대요. 이때 물통을 가득 채우고도 남았다고 합니다. 그렇다면 담을 수 있는 양이 더 많은 것이 무엇인가요? 더 많은 것. 이거 어떻게 알면 돼요? 유리병에 있던 물을 이렇게 담았더니 물통을 가득 채우고도 이만큼이 더 남았다는 거잖아요. 그러면 유리병 안에 있던 물 중에서 물통에 들어가지 못한 물이 남아 있다는 거죠. 그러니까 어디에 더 많이 들어간다? 유리병에 더 많이 들어간다라는 걸 알 수 있어요. 그래서 정답은 무엇이다? 유리병에 더 많이 들어갑니다. 동그라미를 해주시면 됩니다. 이제 교과용합 10번 문제 같이 볼게요. 유리컵에 물을 채워서 악기를 만들었대요. 악기를 만드는데 이거 우리 친구들 혹시 해봤어요? 집에서도 한번 해보세요. 똑같이 생긴 유리컵에 이렇게 물의 양을 서로 다르게 해놓고 여기에다가 젓가락이나 어떤 물체를 가지고 통통통 때리면 서로 다른 음이 나오거든요. 굉장히 재밌으니까 한번 해보세요. 그런데 이 원리가 뭐냐면 담긴 물의 양이 많을수록 음이 낮아진대요. 이해가 돼요? 그런데 우리가 구하려는 건 뭐예요? 음이 가장 낮은 컵이 무엇인지를 찾으라는 겁니다. 음이 가장 낮기 위해서는 물이 어때야 돼요? 물이 가장 많아야 되겠죠. 왜? 물이 많을수록 음이 낮아진다고 했잖아요. 맞나요? 그러면 이 중에서 가장 낮은 음은 가장 많은 물이 들어있는 오른쪽 다섯 번째 것이 된다고 정리를 해주면 되겠죠. 그다음 대표용형 1번 문제 같이 볼게요. 항아리에 가득 찬 물을 가마솥으로 옮기려고 한대요. 이 물을 이쪽으로 옮긴대요. 그런데 가장 적은 횟수로 물을 옮길 수 있는 도구를 찾아보세요 라고 했어요. 이쪽에 물을 옮길 건데 숟가락을 사용할 수도 있고 그다음에 이런 여러 가지 도구를 활용할 수 있다는 거예요. 그런데 가장 적은 횟수로 물을 옮긴다는 건 뭐예요? 많이 옮기지 않아도 된다는 거죠. 그런데 이렇게 생긴 조그만 숟가락을 가지고 옮기면 진짜 100번, 200번 엄청 많이 옮겨야 되겠죠. 그런데 오른쪽으로 갈수록 어때요? 이 옮기는 도구가 점점점점 이렇게 담을 수 있는 물의 양이 많아지면서 횟수가 줄어들겠죠. 그러면 정답이 이쪽 세 번째 것일 것 같은데 해결하기 1번부터 볼게요. 1단계 가장 적은 횟수로 물을 옮기려면 한 번에 가장 어떤 많은 양의 물을 담을 수 있는 도구를 찾아야 됩니다. 그래서 담을 수 있는 양이 가장 많은 건 뭐예요? 제일 오른쪽에 있는 이 바가지 모양이라고 할 수 있겠죠. 그래서 가장 적은 횟수로 물을 옮길 수 있는 도구는 세 번째 바가지 모양입니다. 라고 정리를 해주시면 되겠습니다. 오늘의 마지막 문제 함께 볼게요. 대표용용 2번 문제입니다. 준호와 영호, 나리가 같은 우유를 사서 마시고 남은 양이 다음과 같았대요. 이때 우유를 가장 많이 마신 친구의 이름을 써보세요 라고 했어요. 지금 여기에 있는 것은 먹고 남은 우유잖아요. 그러면 얼마나 먹었는지를 알려면 어떻게 하면 돼요? 비어있는 공간만큼을 색칠해주면 되지. 예를 들어서 준호는 이만큼 남았으니까 나머지 이만큼을 먹었다고 생각하면 되겠죠. 그럼 영호는 어때요? 영호는 여기까지 남아 있으니까 그 나머지. 그 다음 나리는 여기까지 남아 있으니까 이 나머지 이렇게 색칠을 해주면 됩니다. 그러면 색칠되어 있는 부분이 가장 많은 것이 뭐예요? 가장 넓은 곳은 준호라고 이야기할 수 있겠죠. 그래서 병에 남은 우유의 양이 적을수록 마신 우유의 양이 더 많다고 할 수 있기 때문에 우유를 가장 많이 마신 친구는 남은 우유의 양이 가장 적은 누구다? 준호라고 적어주시면 됩니다. 그래서 준호입니다 라고 정답을 찾아보았습니다. 됐죠? 이건 좀 헷갈릴 수 있는 문제였으니까 잘 모르겠으면 다시 한번 생각해보세요. 자, 이제 오늘 정리 한번 해볼게요. 오늘은 무게, 무겁다 또는 가볍다에서 더 무겁고 가볍고, 가장 무겁고 가볍고에 대한 개념으로 함께 공부를 해봤고요. 그 다음 넓이, 넓다 좁다에서 더 그리고 가장 넓다 좁다라는 개념까지. 그 다음 양이 많다 적다에서 더 그리고 가장 많다 적다까지 함께 공부를 해봤습니다. 여러 가지 개념들이 있으니까 헷갈리지 않게 조심하세요. 자, 오늘 공부는 여기까지입니다. 우리 친구들 재미있었나요? 나머지 문제 스스로 푸는 거 잊지 마시고 복습 꼭 해주세요. 선생님은 다음 시간에 다시 돌아올게요. 친구들 고생 많았어요. 안녕!\n",
      "04강2-2_무게_넓이비교하기,2-3_담을수있는양비교하기_초등수해력-도형·측정1단계.mp3에 대한 텍스트가 ./ebs_script/new/04강2-2_무게_넓이비교하기,2-3_담을수있는양비교하기_초등수해력-도형·측정1단계.txt로 저장되었습니다.\n",
      "Transcription for 04강2-4_길이의합과차구하기3-1_분류기준정하기_초등수해력-도형·측정2단계.mp3:\n",
      "친구들, 안녕하세요? 초등수외력 도형측정 2단계 정소연 선생님입니다. 자, 오늘은 무려 네 번째 강의 시간이에요. 우리 친구들, 오늘의 개념부터 먼저 확인해 보도록 하겠습니다. 오늘은 2단원의 마지막 개념, 길이의 합과 차 구하기부터 함께 공부해 볼 겁니다. 길이의 단위에 대해서 많이 배웠던 거 기억하죠? 센티미터 그리고 미터 이런 것들이 있었는데, 그 길이길이 더할 수도 있고 뺄 수도 있거든요. 그래서 그걸 어떻게 계산하는지 함께 알아볼 거예요. 그리고 두 번째 내용은요, 3단원에 해당합니다. 그래서 새로운 단원의 내용인데요. 분류라는 걸 할 때 어떻게 기준을 정하는지, 분류가 뭐고 기준이 무엇인지에 대해서 함께 공부해 보도록 하겠습니다. 친구들, 뭘 공부할지 다 알겠죠? 그러면 이제 첫 번째 내용부터 출발해 볼게요. 자, 우리 첫 번째 내용은요, 길이의 합을 구하는 내용입니다. 길이의 합이라는 것은 예를 들어서 두 가지 길이가 있을 때, 그 두 길이를 더하라는 의미예요. 자, 여기 그림을 한번 볼게요. 지금 왼쪽에 초록색 띠가 1m 30cm를 의미한다고 합니다. 이게 무슨 말일까요? 일단 여기 긴 이 부분이 1m라는 뜻이겠죠? 그 다음 짧은 거 하나, 둘, 세 개가 있는데, 이게 30cm라는 뜻이니까 한 칸은 10cm라고 생각해 주시면 될 거예요. 그래서 어쨌든 이 전체 길이가 1m 30cm라는 거죠. 자, 그 다음 오른쪽을 보니까 40cm짜리가 이렇게 주황색 띠가 있다고 했을 때, 이 두 길이를 더하면 이런 모양이 되겠죠? 이것을 식으로는 어떻게 쓰는지 한번 볼게요. 일단 옆에 한번 쓰는 연습을 해 볼게요. 우리는 1m 30cm에 더하고 싶어요. 얼만큼을? 40cm를 더하고 싶어요라고 하는데, 이때 어떻게 쓰냐면요, 미터는 미터끼리, 센티미터는 센티미터끼리, 즉 같은 단위끼리 적어준다. 이것이 원칙입니다. 그래서요, 40cm를 적기 위해서는 이 센티미터, 30cm의 아래에 적어주는 거예요. 그래서 40cm라고 적었습니다. 이렇게 짠, 줄을 그어주면 이제 왼쪽이랑 모양이 비슷해졌죠? 이제 계산해 주면 돼요. 센티미터는 센티미터끼리, 미터는 미터끼리, 같은 단위끼리 계산해 준다고 하면, 30 더하기 40은 70이죠. 그 다음 센티미터 단위 그대로 적어주시고, 미터는 여기 하나밖에 없잖아요. 1m밖에 없으니까 그냥 1m라고 해 주면, 정답은 1m70cm입니다라고 정리를 해 줄 수 있는 거예요. 그래서 여기 정답이 같다는 걸 알 수 있죠. 그러면 하나 더 살펴볼게요. 1m20cm짜리 길이의 띠가 있고, 1m35cm짜리의 길이의 띠가 있다고 하면, 이 둘은 어떻게 더해진다? 1m20cm 더하기 1m35cm를 적어줬습니다. 적을 때는 같은 단위끼리 반드시 적어야 된다고 했죠? 그러면 이렇게 계산해 보면, 20과 35를 더해서 55를 아래에 적어주고, 1과 1을 더해서 2를 적어주면, 최종 정답은 2m55cm입니다라고 적어줄 수 있다는 거예요. 자, 여기에서 가장 중요한 건 뭐라고요? 같은 단위끼리. 센티미터는 센티미터끼리, 미터는 미터끼리. 자, 이번에는 길이의 차를 구해볼 거예요. 여러분, 차라는 말은요. 뺄셈, 뺀다 이렇게 생각해주면 됩니다. 여기 보니까요. 두 길이의 차를 구해보세요라고 하면, 두 길이를 빼라는 뜻이에요. 1m70cm에서 30cm를 뺀다. 어떻게 하면 될까요? 맞아요. 같은 단위끼리 계산을 해주면 된다고 했죠? 그래서 세로셈으로 이렇게 1m70cm 빼기, 30cm를 적어줬어요. 이때 센티미터는 센티미터끼리 이렇게 같이 맞춰서 적어줄게요. 그리고 70에서 30을 먼저 빼서 40cm. 그 다음 1m는 그대로 내려서 1m. 그래서 정답은 1m40cm가 되는 거예요. 아래에 있는 문제도 볼게요. 2m60cm에서 1m35cm를 뺀다. 어떻게 한다고요? 맞아요. 같은 단위끼리 빼준다고요. 그래서 이렇게 잘 줄을 맞춰서 적어준 다음에, 센티미터는 센티미터끼리 60매기 35에서 25cm가 됐고요. 미터는 미터끼리 2m에서 1m 뺐더니, 맞아요. 1m가 되었습니다. 그래서 이걸 합해서 읽어보면, 1m25cm라고 할 수 있는 거예요. 합과 차 둘 다 같은 원리라는 것만 기억해 주면 돼요. 그 상태에서 한번 풀어볼게요. 15번입니다. 길이의 합을 구해보세요라고 했어요. 합은 뭐라고 했죠? 합은 더하는 거라고 했어요. 그러면 334cm에 3m10cm를 더한다. 어떻게 더하면 좋을까요? 일단 여기 334cm를 무엇으로 바꿀 수 있을까? 미터와 센티미터 단위로 바꿀 수 있겠죠. 어떻게 바꿔요? 3m34cm로 바꿀 수 있을 거예요. 맞아요? 그리고 옆에 있는 3m10cm는 그대로 쓸게요. 합을 구하라고 했으니까 더하기를 적어주시고, 아래 같은 단위끼리 맞춰서 적어주시면, 3m10cm라고 이렇게 적을 수 있어요. 그래서 더한 값을 이렇게 적어주시면, 센티미터 길이 더하면 34 더하기 10이 되니까 44cm가 되죠. 그 다음 미터는 미터 길이 3 더하기 3이니까 6m가 되죠. 그래서 최종 정답은 6m44cm가 되는 거예요. 그 다음 문제 한번 풀어볼게요. 이번에는 두 길이의 차를 구해보세요라고 했어요. 차라는 건 뭐라고요? 빼라는 뜻이라 그랬어요. 6m28cm 그리고 838cm 두 가지가 있다. 차는 어떻게 구하면 돼요? 일단 차를 구하기 위해서는요. 친구들 더 긴 길이에서 더 짧은 길이를 빼줘야 되잖아요. 맞아요? 그럼 둘 중에 더 긴 길이가 어디예요? 838cm가 되겠지. 왜냐하면 838cm는 미터 단위로 이렇게 바꿔주면 8m38cm가 되고 6m28cm가 되니까 이쪽이 더 긴 길이가 되는 거예요. 그럼 빼볼게요. 빼기 6m 미터 단위끼리 적어주고 28cm 단위끼리 이렇게 적어주시면 됩니다. 그러면 이렇게 빼보면 어떻게 되나? 센티미터는 센티미터 길이 38에서 28 빼면 10cm 적어주시고 10m에서 6m 빼면 2m 적어주시고 그래서 정답은요. 2m10cm입니다. 라고 적어주시면 됩니다. 어떻게 하는지 이제 알겠죠? 합과 차 구하는 방법 같은 단위끼리 계산한다. 이제 응용 문제 한번 해볼게요. 집에서 공원을 거쳐 체육관까지 가는 거리가 몇 미터 몇 센티미터인지 구해보세요. 집에서 공원을 거쳐 체육관까지 가려고 하잖아요. 그러면 우리 어떻게 돼요? 여기까지 먼저 갔다가 그 다음 이쪽으로 가는 거니까 두 거리를 더해주면 되는 거지. 맞아요? 그러면 어떻게 적어볼까요? 12m 30cm가 있고 여기에 더합니다. 무엇을? 20m 46cm 이렇게 더해줄 거예요. 짜잔! 됐나요? 그러면 우리 같은 단위끼리 더해볼게요. cm 단위 30 더하기 46은 얼마예요? 76cm가 되고요. 그 다음 m 단위는 어떻게 되나? 12 더하기 20이니까 32m가 되죠. 그래서 둘을 더한 결과는 32m 76cm입니다. 라고 적어주시면 되는 겁니다. 거리 합구하는 거 어렵지 않죠? 그 다음 12번으로 가볼게요. 수업 시간에 집 꾸미기 활동을 했대요. 색테이프를 이어붙여서 울타리를 만들었는데 민선의 모둠과 우진인의 모둠이 만든 울타리의 길이가 각각 몇 미터 몇 센티미터인지 구해보세요. 이것이 문제입니다. 일단 민선의 모둠부터 한번 볼게요. 민선의 모둠에서는 두 개의 색테이프를 겹치지 않게 이어붙였어 라고 했어요. 그러니까 이렇게 이 끝부분에 다음 색테이프를 갖다 붙였다고 생각할 수 있겠죠. 그러면 전체의 길이는 어떻게 구하면 돼요? 2m 15cm에다가 2m 15cm에다가 무엇을 더해주면 돼요? 1m 30cm를 더해주면 됩니다. 됐죠? 이렇게 쭉 더해주면 cm는 cm 단위끼리 더해볼게요. 15에다가 30 더해주면 45cm 그 다음 2에다 1 더해주면 3m 그래서 민선의 모둠은 총 길이가 3m 45cm예요. 맞아요. 그 다음 우진인의 모둠 한번 볼게요. 우리는 두 개의 색테이프를 겹쳐서 이어붙였어 라고 했어요. 겹쳐서 이어붙인다는 건 무슨 뜻이냐면요. 우리 테이프 붙일 때 이렇게 붙일 수도 있지만 이렇게 살짝 겹치게 붙일 수도 있잖아요. 여기가 그렇게 됐다는 거예요. 겹쳐졌다. 겹쳐졌다는 건 뭐예요? 전체 길이 중에서 겹쳐진 부분만큼의 길이를 빼야 된다라는 뜻이 되겠죠. 그러니까 어떻게 된다? 일단 두 길이를 먼저 더해요. 2m 15cm에 1m 30cm를 먼저 더합니다. 우리 이 결과는 아까 미리 구했죠? 3m 45cm 이게 원래 전체 길이여야 하는데 겹쳐서 이어붙였으니까 겹친 길이 15cm만큼을 빼줘야 되는 거예요. 그러면 다시 어떻게 된다? 3m 45cm에서 15cm만큼을 빼줄 거예요. 됐어요. 빼주면 어떻게 된다? cm는 cm 길이, 45에서 15를 빼면 30cm가 되고 미터 단위에서는 더 이상 뺄 게 없으니까 3m를 그대로 적어줄게요. 그러니까 우진이네 모듬의 색테이프의 최종 길이는 3m 30cm가 되는 거예요. 그래서 정답은 민선의 모듬은 3m 45cm고 우진이네 모듬은 3m 30cm 이렇게 정리를 해주시면 되겠습니다. 겹쳐서 이어붙였다는 말의 뜻을 정확히 이해하시면 되겠습니다. 이번에는 하나만 더 풀고 넘어갈게요. 학교에서 도서관을 거쳐서 병원에 가는 거리는 학교에서 곧바로 병원에 가는 거리보다 몇 미터, 몇 cm 더 먼지 구해보세요 라고 했어요. 일단 학교에서 도서관을 거쳐서 병원에 가는 거리를 먼저 구해야 되겠지. 그게 얼만큼이에요? 이만큼을 더하는 거잖아요. 그런데 학교에서 곧바로 병원에 가는 거리는 뭐예요? 그냥 이 하나의 길이가 되는 거지. 그러니까 먼저 첫 번째 이 빨간색 길의 길이를 구한 다음에 노란색 길의 길이와 비교해서 그 차이를 구해주면 되겠다고 생각하면 되겠습니다. 1단계부터 볼게요. 학교에서 도서관을 거쳐 병원에 가는 거리를 구합니다. 이 빨간색 길이를 구한다는 거예요. 학교에서 도서관을 거쳐 병원에 가는 거리는 학교에서 도서관까지의 거리와 여기까지의 거리와 도서관에서 병원까지의 거리 이만큼의 거리를 더해서 구하는 거지. 그래서 55m 30cm에다가 40m 35cm만큼을 더한다는 거예요. 그럼 이미 이렇게 잘 적어 줬으니까 우리는 더하기만 하면 되겠네요. 그럼 30에 35를 더하면 65. 55에 40을 더하면 95. 그래서 95m 65cm가 이 빨간색 거리가 되는 거예요. 그럼 2단계로 가볼게요. 그런데 학교에서 곧장 병원으로 가는 이 거리는 선생님이 노란색으로 적어 볼게요. 얼마죠? 75m 50cm입니다. 라고 쓸 수 있죠. 그럼 이제 둘을 비교만 하면 돼요. 이 거리에 차를 구할 거예요. 차는 어떻게 된다고요? 우리 아까 뭐라 그랬어요? 아까 이 전체 거리가 얼마라고요? 95m 65cm 라고 했죠. 여기에서 이 노란색 거리 75m 50cm만큼을 빼주면 두 거리의 차가 되는 거죠. 그러면 계산해 볼게요. 같은 단위끼리 cm는 cm끼리 하면 65에서 50을 빼면 15가 되고요. 맞아요. 그 다음 95에서 75를 빼면 20이 됩니다. 그래서 최종 정답은 20m 15cm입니다. 라고 할 수 있습니다. 이건 말고도 계산하는 문제 굉장히 많으니까요. 친구들, 기본적인 개념 잘 생각하면서 풀어 보시기 바래요. 그럼 선생님은 새로운 단언으로 넘어가 볼게요. 새로 샌 책을 정리해 보자. 이 책은 어디에 꽂아야 할까요? 책장에 책이 종류별로 꽂혀 있는데... 여기 5권 책이 모여 있어요. 여기 꽂을게요. 그럼 이 책은 어디에 정리해 둘까? 개미책은 내가 좋아하는 책이니까... 이번 3단원에서는 분명한 분류 기준을 세워 분류하는 방법을 배울 거예요. 비슷한 것끼리 묶어본 경험을 떠올려 보세요. 이번에는 분류라는 개념을 함께 살펴볼 거예요. 여러분, 분류 어렵게 생각하지 말고요. 비슷한 것끼리 묶는다고 생각해 보세요. 그러면 무엇을 기준으로 비슷한 것을 묶을 수 있을까요? 여기 어떤 질문이 있습니다. 한번 확인해 볼게요. 여러분이 좋아하는 가방은 무엇인가요? 좋아하는 가방을 골라 보세요 라고 이야기했다고 생각해 볼게요. 그러면 이 중에서 선생님은 이 가방이 제일 좋거든요. 그런데 또 어떤 친구는 이 가방이 제일 좋을 수도 있죠. 또 다른 친구는 이 가방, 이 가방 두 개가 좋을 수도 있어요. 그래서 좋아하는 가방을 골라 보세요 좋아하는 것은 사람마다 다를 수밖에 없다는 거죠. 그럼 이번에는 오른쪽 질문을 한번 볼게요. 빨간색 가방은 무엇일까요? 빨간색 가방을 골라 보세요 라고 하면 여기 있는 다섯 개의 가방 중에 무엇을 고를 수 있을까요? 맞아요. 이 세 번째 가방과 다섯 번째 가방을 고를 수 있을 거예요. 이 기준에 대해서는 우리 모두가 다 똑같은 답을 하겠죠. 이 가방과 이 가방이에요 라고 할 거예요. 그렇다면 물건을 비슷한 것끼리 묻는다 라고 했을 때 이렇게 설명하는 게 더 정확할까? 아니면 이렇게 설명하는 게 더 정확할까? 한번 떠올려 볼까요? 맞아요. 사람마다 그 기준이나 아니면 결과가 다 달라지게 되면 이건 제대로 분류했다 라고 볼 수가 없습니다. 그런데 누가 하더라도 같은 결과가 나온다. 누구나 같은 답을 한다 라고 하면 이것은 정확한 분류 기준에 따라서 분류했다. 비슷한 것끼리 잘 묶었다 라고 표현할 수 있는 거예요. 그럼 이것 말고도 또 다른 질문을 함께 살펴볼게요. 원 모양의 가방은? 또는 끈이 두 개인 가방은 무엇일까? 이런 것들은 우리가 눈으로 딱 보고 정확하게 골라낼 수 있는 질문들이죠. 즉 누구나 같은 답을 하는 질문이에요. 그런데 오른쪽을 볼게요. 멋진 가방을 골라볼까? 크기가 큰 가방을 골라볼까? 이건 사람마다 다 다른 답을 할 수 있는 질문이에요. 왜냐하면 사람마다 자기 눈에 멋진 가방이 다를 수밖에 없고 그리고 크기가 큰 가방? 이렇게 이만한 가방을 크기가 크다고 해야 될까? 작다고 해야 될까요? 아니면 이만한 가방을 크기가 크다고 해야 될까? 작다고 해야 될까요? 그건 사람마다 생각이 다를 수 있기 때문이에요. 그래서 크기가 무엇보다 큰 가방 아니면 크기가 얼마보다 작은 가방 이렇게 정확하게 설명하지 않는 이상 이런 식으로 단순하게 질문을 하는 게 된다면 사람마다 다른 답을 할 수밖에 없겠죠. 자 그러면 우리가 지금부터 생각해야 될 건 바로 이거예요. 누구에게 물어도 똑같은 답을 할 수 있는 질문을 떠올리는 것 이게 이번 시간의 핵심입니다. 한번 볼게요. 사과, 귤, 포도, 살구, 망고, 배, 자두, 감이 있어요. 그런데 이것을 누구나 같은 답을 할 수 있는 질문으로 한번 만들어 보는 거예요. 예를 들면 이런 거지. 글자 수가 한 글자인 과일은 무엇인가요? 라고 하면 누구에게 물어봐도 귤, 배, 감 세 개예요 라고 이야기를 하겠죠. 어? 얘한테 물어봤더니 살구도 글자 수가 한 개인데요? 라고 이야기하지는 않을 거 아니에요. 그렇죠? 그래서 이런 글자 수는 분명한 분류 기준이 될 수 있어요 라고 표현을 하는 겁니다. 핵심은 뭐라고요? 누구에게 물어도 똑같은 답이 나올 수 있는 질문을 만드는 거라고요. 자 그럼 분류 기준이 될 수 있는 것과 없는 것 좀 더 한번 예를 살펴볼게요. 여기 여러 가지 연필이 나와 있습니다. 자 그런데 색이 진한 연필과 색이 연한 연필로 나누어 보세요. 라고 하면 어떻게 나눌 수 있을까? 색이 진하다는 게 그럼 검정색은 색이 진한 건가? 노란색은 색이 연한 건가? 그럼 파란색은 뭐지? 이렇게 사람마다 생각이 다를 수 있죠. 그래서 이것은 분류 기준이 될 수 없어요. 그런데 검은색인 연필과 검은색이 아닌 연필로 나누어 보세요 라고 하면 어떻게 될까요? 검은색인 연필은 여기 하나, 둘, 두 자루고요. 검은색이 아닌 연필은 하나, 둘, 셋, 네 자루예요 라고 이야기를 할 수 있겠죠. 이것은 누구에게 질문해도 똑같은 답이 나올 수밖에 없어요. 그래서 분류 기준이 될 수 있다고 생각하는 거죠. 하나 더 볼게요. 쓰기 편한 연필과 쓰기 불편한 연필이 있다고 해볼게요. 자 그러면 이대로 나누어 봐 라고 하면 모든 사람이 같은 답을 할까요? 아니겠죠. 어떤 친구는 길이가 긴 연필이 편할 수도 있고 어떤 친구는 길이가 짧은 연필이 편할 수도 있고 또 어떤 친구는 지우개가 달린 연필이 편할 수도 있잖아요. 그래서 이건 적절한 분류 기준이라고 할 수 없습니다. 하나 더. 지우개가 있는 연필과 지우개가 없는 연필은 어때요? 지우개가 있는 연필은 어딨죠? 여기 하나, 둘, 셋, 넷, 네 자루가 되고요. 지우개가 없는 연필은 하나, 둘, 두 자루가 된다. 그래서 이건 누구에게 질문해도 똑같은 답이 나올 수 있는 분류 기준입니다. 라고 설명할 수 있는 거예요. 그래서 분류 기준이 될 수 있는 것과 없는 것 어떻게 구분하는지 잘 알겠죠? 자 그럼 이제 또 다른 예를 통해서 좀 더 연습해 보도록 하겠습니다. 이렇게 여러 종류의 옷이 있는데요. 이 옷을 분류해서 정리하려고 한대요. 분류 기준으로는 지퍼가 있는 옷과 단추가 있는 옷 이렇게 제시를 했습니다. 어? 분류 기준이 될 것 같아요. 한번 해볼까요? 일단 지퍼가 있는 옷 어떤 것들이 있나요? 이 검은색 옷과 이 빨간색 바지가 있어요. 됐죠? 그리고 단추가 있는 옷에는 무엇이 있나 찾아봤더니 이렇게 하나, 둘, 셋을 가지고 올 수 있었습니다. 그런데 문제가 생겼어요. 어떤 문제가 생겼냐면요. 전체 옷은 하나, 둘, 셋, 넷, 다섯, 여섯, 일곱, 여덟. 여덟 벌이었는데 여기에 분류되어 있는 옷은 하나, 둘, 셋, 넷, 다섯 벌 밖에 되지 않잖아요. 그러니까 여기 분류되지 않은 옷이 있는 거예요. 자, 분류라는 것은 모든 것을 딱 나눌 수 있어야 되는 거거든요. 그런데 이 두 가지 기준에 의해서 모든 것이 나뉘지 않기 때문에 어? 이 분류 기준 뭔가 이상한데? 라고 생각할 수 있는 거죠. 그래서 어떻게 했냐면요. 이 분류 기준을 조금 수정했어요. 바로 이렇게 지퍼가 있는 옷 그리고 단추가 있는 옷 그리고 하나 더. 지퍼도 없고 단추도 없는 아무것도 없는 옷 이렇게 한 가지 더 기준을 세웠더니 전체 옷이 모두 잘 분류가 되었다 라고 할 수 있습니다. 그래서 이렇게 표를 만들어 보면 더 분류를 잘 할 수 있고요. 분류를 할 때 꼭 확인해 봐야 될 것이 무엇인지 이제 알겠죠? 모든 옷들 또는 모든 것들이 이 분류 기준에 따라서 잘 분류가 될 수 있는지도 확인해 봐야 된다. 자, 그럼 문제 함께 풀어 보겠습니다. 정해진 기준에 따라 분류하기에 알맞은 것에 동그라미 표해 보세요. 자, 색깔에 따라서 분류하고 싶어요. 그러면 색깔이 서로 다른 것이 있어야 되겠지. 어느 쪽이 있겠죠? 맞아요. 여기 왼쪽이 됩니다. 어? 지금 파란색 부분과 이 옅은 노란색 부분으로 나누어서 분류할 수 있겠죠? 그런데 색깔대로 분류하세요 라고 했는데 이렇게 다 파란색 도형만 있다면 분류를 할 수 없기 때문에 적절한 답이 될 수 없는 거예요. 자, 그럼 다음 문제. 초콜릿이 있대요. 그런데 이 초콜릿을 모양, 크기, 색깔 중에서 어떤 것을 기준으로 분류하면 분류가 잘 될까요? 라고 질문한 거예요. 일단 모양 생각해 볼게요. 모양 모두 다 하트 모양이에요. 모양대로 분류해 보세요 라고 하면 이걸 적절히 나눌 수 없겠죠? 크기도 마찬가지. 모두 크기가 똑같기 때문에 크기대로 분류할 수 없어요. 색깔은 어때요? 어? 색깔 여기 하나, 둘 묶이고 또 빨간색 하나, 둘 묶이고 그 다음 이 옅은 노란색 하나 이렇게 세 가지로 묶일 수 있겠다. 그래서 색깔대로 분류해주면 되겠습니다. 라고 답을 적어 주시면 되겠죠? 자, 이제 9번으로 가볼게요. 컵을 다음과 같이 분류했대요. 무엇을 기준으로 분류했는지 써놓아 보세요. 오른쪽에 있는 표에다가 왼쪽에는 이 컵들이 있고 오른쪽에는 이런 컵들이 있어요. 그러면 왼쪽에 있는 이 컵들의 공통점과 오른쪽에 있는 이 컵들의 공통점을 생각해 주시면 되겠죠? 자, 어떻게 분류한 거예요? 맞아요. 보면 왼쪽에 있는 컵들은 모두 손잡이가 있고 오른쪽에 있는 컵들에는 손잡이가 없습니다. 그래서 손잡이가 있는 컵과 손잡이가 없는 컵으로 분류할 수 있다. 이렇게 정리를 해주시면 되겠습니다. 알겠죠? 자, 그 다음 10번으로 가볼게요. 윤주는 다음과 같은 재활용 쓰레기를 정리해 버리려고 합니다. 우리 재활용 쓰레기 잘 분류해 본 적이 있죠? 보기에서 알맞은 분류 기준을 찾아쓰고 재활용 쓰레기를 분류해 붙임딱지를 붙여 보세요. 라고 했어요. 자, 우유값, 페트병, 주스팩, 요구르트병, 식물지가 있습니다. 이거 각각이 무엇에 해당되는지 한번 볼게요. 우유값은 뭐예요? 우유값은 종이류, 페트병은요? 페트병은 플라스틱류. 맞아요? 그 다음 주스팩은 종이류, 요구르트병은 플라스틱류, 식물지는 종이류. 그러면 이것을 둘로 나눈다면 종이류와 플라스틱류로 나눌 수 있겠다. 맞나요? 그러면 정답은 어떻게 하면 될까요? 짜잔! 이렇게 하면 되겠죠? 종이류는 종이류끼리 이렇게 모아놓고 플라스틱류는 플라스틱류끼리 모아두는 거예요. 그래서 이 5가지 재활용 쓰레기를 분류할 때에는 이렇게 종이류끼리 모으세요, 플라스틱류끼리 모으세요 라는 분류 기준을 정해주면 된다는 겁니다. 자, 이제 수해력완성 대표용 1번 문제 같이 살펴보겠습니다. 오늘의 마지막 문제예요. 세계 여러 나라의 국기에는 다양한 색깔이 들어있대요. 국기에 들어있는 색깔의 수에 따른 분류 기준을 찾고 국기를 분류해서 부침닥지를 붙여보세요 라고 되어 있습니다. 자, 지금 여러가지 색깔들을 잘 찾아야 돼요. 그러면 예를 들어서 대한민국 국기부터 먼저 살펴볼게요. 대한민국 국기에는 하얀색도 있고 또 무슨 색이 있어요? 맞아요. 검은색도 있고요. 검은색 적어볼게요. 또 무슨 색이 있죠? 맞아요. 빨간색과 파란색이 있어요. 그래서 빨간색, 빨간색, 그 다음 파란색, 파란색이 들어있어요. 그래서 대한민국 국기에 들어있는 색깔의 수는 하나, 둘, 셋, 넷, 네 개입니다 라고 할 수 있어요. 그러면 다른 나라 국기는 어떨지 하나씩 살펴볼게요. 일단 대한민국 국기는 4라고 적어주고, 그 다음 중국 국기에는요? 맞아요. 빨간색과 노란색이 있으니까 2라고 적어볼게요. 체코는 어때요? 하나, 둘, 셋, 세 가지 색깔이 들어있고요. 일본에는요? 일본에는 흰색과 빨간색이니까 두 가지 색깔, 그 다음 동티모르는 하나, 둘, 셋, 넷, 네 가지 색깔이 있고요. 칠레는 하나, 둘, 셋, 세 가지 색깔, 세네갈은 하나, 둘, 세 가지 색깔 있죠. 이탈리아는 세 가지, 이렇게 분류를 할 수 있습니다. 그래서 모두 보니까 몇 가지 색깔들이 있다? 둘, 또는 셋, 또는 네 개의 색깔이 들어있습니다. 이렇게 정리를 해보면 되겠네요. 자, 그러면 우리 어떻게 하면 돼요? 이제 색깔의 수가 두 개인 국기, 그 다음 세 개인 국기, 네 개인 국기를 각각 찾아서 집어 넣어주면 됩니다. 일단 색깔의 수가 두 개인 국기 어디예요? 중국과 일본 여기에 붙여주면 되고, 색깔의 수가 세 개인 국기는 어디예요? 지금 보니까 체코, 칠레, 세네갈, 이탈리아 네 개의 국기를 여기 붙여주면 되고요. 색깔의 수가 네 개인 국기는 어디예요? 맞아요. 대한민국과 동티모로 이 두 가지를 붙여주면 됩니다. 제일 뒤쪽에 있는 붙임딱지를 붙였을 때 결과는 이렇게 되는 거예요. 그래서 우리 친구들 뒤에 있는 걸 짠짠짠 하나씩 잘 찾아서 붙여주시면 정답이라고 할 수 있겠네요. 됐나요? 자, 그러면 우리 마지막 문제까지 잘 풀어봤고요. 오늘 이것만은 꼭 확인해 볼게요. 오늘 길이의 합과 차를 구한다라는 게 무슨 뜻이라고 그랬죠? 길이를 더하거나 뺀다라는 뜻이라고 그랬어요. 이때 가장 중요한 것은 같은 단위끼리, cm는 cm끼리, m는 m끼리 더하거나 뺀다는 거 꼭 기억해 주시고요. 그다음 분류 기준을 정한다. 분류는 기준에 따라 비슷한 것끼리 묶는 거라고 했어요. 그래서 분류 기준을 정할 때에는 누구에게 이 기준을 주더라도 똑같은 결과가 나올 수 있도록, 똑같은 답이 나올 수 있도록 해야 되고요. 또 중요한 거, 다 분류한 다음에 빠진 게 있어서도 안 되고 두 번 들어간 게 있어서도 안 된다라는 것도 기억을 해주세요. 알겠죠? 자, 오늘 공부는 여기까지입니다. 우리 친구들 공부 재밌었나요? 다음 시간에는 또 이번 시간에 이어서 더 재미있는 내용과 함께 공부해 볼게요. 친구들 오늘 고생 많았어요. 다음 시간에 만나요. 모두모두 안녕! 자막 제공 및 자막 제공 및 광고를 포함하고 있습니다.\n",
      "04강2-4_길이의합과차구하기3-1_분류기준정하기_초등수해력-도형·측정2단계.mp3에 대한 텍스트가 ./ebs_script/new/04강2-4_길이의합과차구하기3-1_분류기준정하기_초등수해력-도형·측정2단계.txt로 저장되었습니다.\n",
      "Transcription for 04강길이와시간(1)_초등수해력-도형·측정3단계.mp3:\n",
      "안녕하세요 EBS친구들 여러분의 찜찜쌤입니다 우리 지난 시간까지 평면도형 열심히 공부를 해봤고 이번 시간부터는 길이하고 시간에 대해서 알아볼 거예요 이미 자로 어떤 물건의 길이 재본 적 있죠? 하지만 내가 알고 있는 단위가 끝이 아니랍니다 자 오늘의 미션은 1cm 보다 작은 단위 그리고 1m 보다 큰 단위를 알아보는 것이 오늘의 미션이에요 어떤 단위들이 있고 어떻게 쓰고 그리고 어떻게 읽는지 그리고 실생활에서는 어떻게 활용할지 잘 생각하면서 공부해 보자고요 특히 길이 같은 경우에는 일상생활하고 굉장히 관련이 깊습니다 우리 항상 키 얼마나 컸는지 재잖아요 그것도 바로 어떻게 표현하냐면 몇 센티미터 그리고 우리가 오늘 배울 단위도 표현을 하기 때문에 자 한번 우리 실생활하고 깊은 관련이 있다라는 생각으로 알아보도록 하자고요 자 먼저 이미 배운 길이의 단위는 1cm 자를 끊어 보세요 자에서 작은 눈꿈 한 칸이 있을 거예요 작은 눈꿈이 이렇게 이제 10개가 모이면 바로 1cm 였습니다 지금 콩의 길이를 댔는데 콩 한쪽 끝을 0에 맞추고 다른 한쪽 끝에 눈꿈을 읽어보니까 1이에요 아 그래서 눈꿈이 1을 정확하게 가리키는구나 그럼 콩의 길이는 1cm가 되겠네 자 그러면 콩보다 훨씬 작은 물건 쌀 한 톨이라든지 아니면 내가 개미의 길이를 구하고 싶다 그랬을 때는 1cm가 채 안되죠 그보다 짧으니까 그러면 어떻게 표현할 수 있을까? 자 바로 단위가 있답니다 새로 배울 길이의 단위는 1mm에요 m이 두 번 오죠? m이라고 읽으면 안 됩니다 자 다음과 같이 우리 친구들 1cm 여기서부터 여기까지가 1cm인데 1cm를 10칸으로 똑같이 나누었을 때 그때 작은 눈꿈 한 칸이니까 바로 요만큼을 말하겠죠 이만큼의 길이를 1mm라고 쓰고 1mm라고 읽어준답니다 그래서 다음과 같이 써주고요 그렇다면 우리 친구들 지금 이렇게 1mm가 10칸이 되면 어때요? 1cm가 되는 거죠 굉장히 중요한 거 따라서 이 단위들의 관계가 굉장히 중요합니다 1cm랑 10mm는 같은 길인 거예요 이해됐죠 우리 친구들? 그러면 cm를 mm로 바꿀 수 있고 mm를 cm로도 바꿀 수 있어요 그러면 지금 여기에 쌀 한 톨의 길이를 이렇게 쟀는데 한쪽 끝을 0에 맞추고 작은 눈꿈이 하나 둘 셋 넷 아 딱 4칸을 가리키고 있구나 그렇다면 쌀 한 톨의 길이는 바로 4mm가 되겠다라는 걸 알 수가 있겠죠 이처럼 굉장히 작은 물건의 길이를 잴 때 1cm보다도 짧은 길이는 바로 mm로 표현할 수가 있겠습니다 그럼 개미의 길이도 한 5, 7, 요정도쯤 될 것 같아요 물론 개미 종류마다 길이가 다르겠지만 그러면 꼭 1cm보다 짧은 어떤 물건 개미 쌀 한 톨의 길이도 몇 mm로 표현할 수 있겠지만요 이 경우 보세요 연필의 길이를 잿더니 한쪽 끝을 0에 맞췄습니다 다른 한쪽 끝을 가리키는 것을 눈꿈을 봤더니 하고 봤더니 5하고 6 사이에 있어요 그 말은 이 연필은 5cm 보다는 더 길다라는 얘기겠죠 자 그런데 6cm 보다는 짧습니다 이럴 때 cm와 mm를 함께 표현하면 정확하게 연필의 길이를 말할 수가 있어요 자 보세요 5cm를 기준으로 봤을 때 얼만큼 더 긴지를 본다면 작은 누큼 하나, 둘, 셋, 넷, 다섯, 여섯, 일곱 즉 7mm 더 기네 그럼 5cm보다 7mm 더 길어요 이렇게 표현하면 너무 복잡하겠죠 어떻게 쓰기로 했냐 5cm, 7mm 라고 쓰고 읽어줄 때는 5cm, 7mm 라고 읽어줍니다 그럼 cm하고 mm를 함께 이렇게 쓸 수 있지만 우리 친구들 5cm는 몇 mm에요? 50mm 가 되는 거잖아요 그러면 50mm 보다 7mm 더 길다고 볼 수 있으니 57mm 라고도 표현할 수가 있는 거죠 아 그래서 몇 cm, 몇 mm는 바로 몇 mm 로도 나타낼 수 있구나 또는 10이거나 10보다 더 긴 10mm 보다 더 긴 길이는 몇 cm, 몇 mm 로 표현할 수도 있겠구나 라는 거 기억해 주세요 자 그러면 이제 우리 아주 작은 단위를 알아봤으니까 이번에는 1m 보다 큰 단위를 알아볼게요 1m 이미 배웠습니다 펭수의 키는 몇 미터, 몇 cm 일까요? 끝에서부터 끝까지 쟀더니 210cm였어요 와 엄청 키가 크네요 그쵸 그러면 1m 는 100cm 랑 같아요 그렇기 때문에 210cm 는 2m 10cm 가 된답니다 우리 친구들 키 잴 때 항상 몇 cm 라고 얘기하기도 하지만 몇 미터, 몇 cm 라고도 얘기할 수가 있겠죠 그러면 운동장의 긴 쪽의 길이 자 우리가 키를 쟀을 때 키를 얘기할 때 몇 미터 뭐 이렇게 얘기를 하겠지만요 좀 더 넓게 보자고요 운동장은 엄청 넓습니다 그쵸 긴 쪽의 길이를 cm 로 쟀더니 5,000cm 가 되는 거예요 와 수가 너무 크니까 복잡해요 그러면 1m 가 100cm 니까 이 점을 이용해 가지고 5,000cm 를 m 로 바꿔보면 50m 가 됩니다 어때요? 훨씬 좀 간단하지 않나요? 그쵸 그리고 내가 표현하기도 편하고 말하기도 편하고요 어느 정도 길이가 되는지 예상하기도 편합니다 자 이렇게 단위는 우리가 필요하기 때문에 약속하고 만든 거예요 그렇다면 1m 보다도 더 큰 단위가 있을까? 있죠 바로 1km 지금 보세요 병원하고 학교까지의 거리를 재봤더니 2,000m 였어요 수가 크죠 자 그래서 1,000m 를 1km 라고 쓰고 1km 라고 읽기로 했습니다 이거 뭐 km 이라고 읽으면 안 되고 1km 라고 이제 쓰고 읽어 줘야 되겠고 그렇다면 1,000m 의 거리는 1km 하고 같겠다 보통 km 라는 거는 사실 어디에서 어디까지 거리를 나타낼 때 많이 사용하지 1km 가 되는 그런 물건은 없을 거 아니에요 길이를 잴 때는 이 km가 좀 적절하지 않겠죠 그래서 이제 거리를 많이 사용을 하겠다라는 것도 알아두고요 자 그러면 병원에서 학교까지는 2,000m 입니다 2,000m 를 km 로 바꿔 나타내볼 수가 있겠구나 아 그 말은 약 2km 가 되겠다 라는 걸 알 수가 있는 겁니다 어때요 2,000m 보다 2km 가 훨씬 더 표현하기가 간단하다 라는 거 느낄 수 있겠죠 좋아요 자 그러면 km 를 사용하여 길이를 나타낼 수가 있어요 지금 여기 집에서 학교까지는 2km 고요 학교에서 병원까지는 500m 가 됩니다 그럼 선생님이 이렇게 물어봤어요 집에서 학교를 지나 병원까지의 거리가 얼마일까 라는 것을 생각한다고 했을 때 여기서부터 여기까지 거리니까 2km 보다 500m 더 먼 거리에요 그렇기 때문에 2km 그 다음에 500m 이렇게 cm mm 붙여 쓰듯이 2km 500m 이렇게 쓸 수 있습니다 그러면 이 거리를 m 로만 표현할 수 없을까 있죠 있죠 보세요 2km 는 몇 미터 1,000m 에요 그래서 1km 가 1,000m 니까 2km 는 2,000m 잖아 이는 2,000m 보다 500m 더 먼 거리라고 볼 수 있어요 그렇기 때문에 이를 더해 보면 2,500m 다 라고 m 로만도 표현할 수가 있겠다 라는 거 단위를 바꿔서 나타낼 수 있다라는 거는 굉장히 중요한 내용입니다 자 그러면 수혜력 한번 확인해 보도록 하죠 길이재기 0부터 재기 시작할 때 우리 친구들 보통 이렇게 많이 길이를 잴 거예요 자에서 눈금 0에 물건의 한쪽 끝을 맞춰 주고 다른 한쪽 끝이 가리키는 눈금을 읽어 주면 됩니다 지금 여기에서는 한쪽 끝에 0을 맞춰 줬으니까 그대로 다른 한쪽 끝을 보면 7cm 보다 지금 작은 눈금 7칸만큼 더 오른쪽으로 나가 있어요 그 말은 7cm 보다 7mm 더 길다 라고 볼 수가 있겠죠 그래서 7cm, 7mm 라고 표현할 수 있습니다 자 우리도 한번 재볼까요? 클립 그림을 보고 물건의 길이를 써보세요 라고 했습니다 클립의 길이를 잿네요 그러면 한쪽 끝을 0에 맞췄어요 다른 한쪽 끝에 가리키는 눈금을 봤더니 2cm 보다도 작은 눈금 2칸 오른쪽으로 더 나갔으니까 아 2mm 더 길구나 라는 걸 알 수 있습니다 자 따라서 클립의 길이는 2cm 보다 2mm 더 길기 때문에 2cm, 2mm로 나타낼 수가 있겠죠 우리 친구들 클립 보면은 지금 이렇게 긴 쪽의 길이를 잿는데 짧은 쪽의 길이를 잿을 때는 1cm 보다도 짧을 것 같아요 그러니까 이 경우는 몇 밀리미터 라고도 표현할 수 있을 겁니다 좋아요 자 그 다음 길이를 잿는데 한쪽 끝을 0에 맞추지 않고 자의 중간에 맞출 수도 있어요 그래도 어쨌든 길이를 잿을 수 있습니다 여기 열쇠의 길이를 잿는데요 한쪽 끝을 6에 맞췄네 그럼 다른 한쪽 끝의 눈금을 읽으니까 지금 9cm 보다 6칸 더 갔으니까 9cm, 6mm야 라고 하면 안 되겠죠 아 어떻게 생각해야 돼요 바로 이 한 칸의 길이가 1cm가 되기 때문에 큰 눈금이 몇 칸이냐 하나, 둘, 셋 그럼 여기까지는 3cm가 되는 거고 작은 눈금이 하나, 둘, 셋, 넷, 다섯, 여섯 그래서 3cm, 6mm 입니다 라고 해야 돼요 한쪽 끝이 눈금 0에 맞춰지지 않는다면 우리 친구들 다른 한쪽 끝의 눈금을 그대로 읽으면 된다, 안 된다, 삐, 안 된다는 거 기억해 주세요 자 그럼 4번 그림을 보고 물건의 길이를 써보세요 라고 했습니다 지금 보니까 지우개의 길이를 쟀는데 한쪽 끝을 보니 0에 맞춰지지 않았어요 2에 맞춰져 있고요 그럼 다른 한쪽을 봤을 때 6에서 작은 눈금 5칸만큼 오른쪽으로 가 있네요 자 그럼 큰 눈금 한 칸의 길이가 1cm가 되니까 하나, 둘, 셋, 넷 큰 눈금은 4개 그 말은 4cm가 되는 거고 4cm 보다 얼만큼 더 기냐 작은 눈금 하나, 둘, 셋, 넷, 다섯 5mm 더 길다 라고 봐야 되는 거죠 그래서 지우개의 길이는 4cm, 5mm다 라는 걸 알 수가 있답니다 그대로 읽으면 안 되는 거 그 이유 알았죠 우리 친구들? 좋아요 자 그럼 선생님이 아까 설명했을 때 강조했었던 이 단위 바꾸기 정확하게 잘 바꿔낼 수 있어야 되고 이 단위를 바꾸는 문제들이 굉장히 많이 나옵니다 자 그러면 몇 밀리미터로 바꾸기부터 한번 연습해 볼게요 만약에 5cm, 9mm라는 것은 5cm 보다 9mm 더 긴 길이를 말해요 그럼 여기에서 cm, 밀리미터의 관계를 알아야 되겠죠 우리 친구들 머릿속에 꼭 저장해 놔야 될 거 1cm는 10mm하고 길이가 같다 요거 꼭 저장해 놓으세요 그래서 필요할 때마다 꺼내서 써야 됩니다 그럼 50mm, 5cm가 50mm죠 거기에다가 9mm 만큼 더해야 되기 때문에 59mm다라는 거 그 다음에 몇 cm, 몇 밀리미터로 거꾸로 이제 바꿔 볼게요 예를 들어 59mm라면 여기에서는 10mm가 1cm와 같으니까 몇이 밀리미터로 분리를 해줘야 되거든요 59에서는 50과 9로 나누어 보면 50mm와 9mm의 합과 같으니 이제는 몇십을 몇 cm로 바꿔주면 됩니다 그래서 5cm, 9mm라는 거죠 사실 연습을 많이 한 친구들은 딱 보면 알 수도 있어요 아 1회자리가 9고 10회자리가 5인데 우리 10회자리까지는 이렇게 cm로 표현할 수가 있는 거구나 5cm, 9mm 이렇게요 그러면 만약에 123mm가 있다면 선생님이 알려준 반복대로 한다면 자 이렇게 10회자리까지 12cm, 3mm 이렇게도 구분할 수가 있겠죠 하지만 이 방법보다는 우리가 이제 처음 기초를 다지는 그런 단계이기 때문에 선생님하고 이런 자세한 과정을 하나하나 밟아가면서 문제 해결해 볼 거예요 연습해 봐야 되겠죠 네모 안에 알맞은 수를 써놓으세요 라고 했습니다 7cm, 2mm는 몇 밀리미터가 될까 먼저 우리 머릿속에 쭉 저장했던 거 끊어와야 되는 거 1cm는 10mm야 그렇다면 7cm는 70mm야 여기에 2mm 더 긴 길이를 말해 그럼 이를 더하면 72mm가 되겠네 따라서 네모 안에는 72가 오면 되겠습니다 2번, 19mm를 몇 cm, 몇 밀리미터로 표현해 볼 거예요 자 먼저 여기에서 몇십을 덜어내야 되겠죠 19mm는 10mm와 9mm 길이를 합한 것과 같아 그러면 10mm는 1cm니까 1cm에다가 9mm 만큼 더 긴 길이야 따라서 1cm 9mm다 라는 거 알 수 있습니다 좋아요 자 이번에는요 우리 친구들 킬로미터 몇 킬로미터, 몇 미터를 바로 몇 미터로 바꿔 보도록 할게요 보통 이제 킬로미터는 거리를 나타낼 때 많이 사용한다고 합니다 그래서 막 우리 키를 나타내는데 몇 킬로미터 말이 안 되겠죠 우리 친구들이 어떤 문장을 보고 적당한 단위, 알맞은 단위를 잘 골라낼 수 있어야 되거든요 자 그러면 우리 9km 230m를 몇 미터로 바꿀 때는 머릿속에서 저장했던 거 꼭 꺼내야 되는 게 뭐가 될까 그렇죠 1km는 1000m와 같다 라는 겁니다 자 우리 친구들 달리기 할 때 보통 50m 달리기도 하고 100m 달리기를 한다고 했을 때 그때 그 거리를 한번 생각을 해보세요 1000m라는 것은 100m를 기준으로 보면 그것이 10번이 이렇게 이어진 거리에요 아 그래 내가 이제 뛸 때도 조금 힘들겠죠 그렇죠 자 그러면 1km도 꽤 먼 거리가 되겠다 버스 종류장으로 한 몇 정거장 정도 됩니다 그럼 여기에서는 9km는 9000m로 바꿔주고 이보다 230m 더해진 거리니까 이를 9,230m로 나타낼 수가 있겠어요 자 이번에는 몇 킬로미터 몇 미터로 바꾸기 한번 해볼게요 거꾸로 9,230m를 간다면 자 보세요 지금 1000m가 1km 잖아요 몇천으로 이렇게 나눠주면 되겠죠 9,230m는 9,000m와 230m의 합이다 그럼 9,000m는 9km고 나머지 230m 붙여서 써주면 되겠습니다 우리도 이제 연습해 볼까요 메모하나 알맞은 수를 써놓으세요 라고 했어요 2km 360m를 몇 미터로 바꿔보도록 할게요 자 그러면 2km 360m는 우리 2km는 1km가 1000m니까 2km는 좋아요 2,000m가 되는 거죠 그럼 2,000m하고 360m 더해보면 2,360m가 되겠네요 따라서 메모안에는 2,360이 오면 되겠습니다 자 3,468m 에요 그럼 여기서 몇천을 덜어내보면 3,468m는 바로 3,000m하고 468m의 합과 같으니 3,000m는 3km겠죠 그래서 3km 468m로 나타낼 수 있어요 즉 3km 468m로 이렇게 단위 바꾸는 거 연습해 봤습니다 좋아요 이제 수혜력을 높여보도록 하죠 단위를 바꿔내는 걸 연습했으니까 이제 이 단위 바꾸는 힘을 통해서 여러 가지 문제를 해결해 줄 수 있어요 대표적으로 5번 두 길이를 비교하여 동그라미 안에 단과 같은 기호를 알맞게 써놓으세요 라고 했습니다 1cm 9mm하고 108mm하고 어느 쪽이 더 길까요 딱 봤을 때는 모르겠는데 왜 단위가 다르니까 같은 방법으로 맞춰줘야 되겠죠 뭘로 맞출까요 108m를 몇미터 몇밀리미터 몇센티미터 몇밀리미터로 바꿔도 되고 그 다음에 1cm 9mm를 몇밀리미터로 바꿔도 돼요 우리 친구들 편한 방법으로 나타내주면 됩니다 선생님은요 1cm 9mm를 몇밀리미터로 바꿔볼게요 우리 이거 연습해 봤잖아요 1cm는 10밀리미터 입니다 그럼 10밀리미터보다 9밀리미터 더 긴 길이니까 19밀리미터가 되는 걸 알 수 있어요 아니 단위를 같게 만들어 줬더니 19밀리미터 108밀리미터 당연히 108이 더 큰 수니까 108밀리미터가 더 긴 길이라고 볼 수가 있는 거죠 따라서 오른쪽으로 바라진 기호를 써주면 되겠습니다 좋아요 자 이번엔 6번 한번 알아볼게요 예쁜 색테이프 2개가 있는데 색테이프 2개를 겹치지 않게 옆으로 길게 이어붙였습니다 이어붙인 전체 길이는 몇센티미터 몇밀리미터 인가요 라고 했어요 자 아래에 있는 색테이프를 이렇게 오른쪽에 겹치지 않게 옆으로 쭉 이어붙였다 라는 얘기죠 이렇게 그러면 아래 색테이프의 길이는 지금 29밀리미터가 되는 거니까 우리 친구들 여기서 이어붙이면 어때요 42밀리미터보다 29밀리미터 더 긴 길이를 계산하면 돼요 그럼 우리 더 센 계산해주면 되겠죠 자 42밀리미터 더하기 29밀리미터 계산하면 42 더하기 29 계산해볼까요 2 더하기 9는 11 받아올림 하고요 1 더하기 4 더하기 2는 7 그래서 71밀리미터가 됩니다 자 여기서 잠깐 아 찾았네 답 71밀리미터 라고 쓰면 어때요 땡 왜요 합판 길이가 맞긴 맞지만 문제에서 전체 길이가 몇센티미터 몇밀리미터야 라고 물어봤어요 그렇다면 거기에 맞게 몇센티미터 몇밀리미터야 라고 답해줘야 돼요 아셨죠 반드시 구하고자 하는 것이 무엇인지 확인을 해줘야 되겠습니다 그럼 71밀리미터라는 것은 여기서 10밀리미터는 1센티미터니까 몇십을 덜어내면 70밀리미터와 1밀리미터의 합인 거죠 즉 70밀리미터는 7센티미터 그래서 1밀리미터가 되는 걸 알 수 있어요 따라서 정답은 7센티미터 1밀리미터가 답이 되겠습니다 좋아요 자 그 다음에 9번 문제 갈게요 시청, 은행, 도서관 중 학교에서 가장 먼 곳은 어디인가요? 라고 했습니다 지도를 보니까 학교는 여기 있구요 시청까지는 3km 5m 은행까지는 3100m 도서관까지는 3040m 에요 그럼 거리를 비교하기 위해서 단위가 다르기 때문에 단위를 맞춰 줄게요 지금 시청까지의 거리만 몇킬로미터 몇미터로 나와 있고 나머지는 미터로 나와 있으니까 아무래도 시청을 몇미터로 바꿔주는 게 편할 것 같아요 자 3000 우리 이제 3km 여기다가 해보죠 3km 5m 는 1km 는 1000m 니까 3km 는 3000m 여기에 5m 를 더하면 3500m 가 되겠습니다 아하 시청까지의 거리까지 구했고 이제 비교할까요 3500m 하고 3100m, 3040m 중에서 가장 큰 수는 뭐예요? 맞아요 3100m 이 가장 큰 수입니다 그리고 3040m, 3050m 이런 순서로 비교를 하면 되기 때문에 가장 먼 곳은 바로 3100m 가 나오는 은행이라는 걸 알 수 있겠죠 자 따라서 정답 어디예요? 라고 물어봤기 때문에 은행이에요 라고 답해야지 3100m 에요 라고 답하면 안 돼요 아셨죠? 따라서 정답은 은행이 되겠습니다 자 그 다음 우리 실생활 활용 문제 볼게요 신문기사를 읽고 제주 삼각봉에 내린 비의 양은 약 몇 cm 몇 mm 인지 구해보세요 라고 했습니다 우리 신문기사 한번 읽어 볼까요 날씨 예보에 대한 이야기예요 한결같지 않은 포근한 날씨가 이어지더니 전국 곳곳에 많은 비가 내리고 있습니다 오늘 하루 만에 제주 삼각봉에 약 312mm의 비가 내렸습니다 이번 주말 효율까지도 강약을 반복하면서 지속적으로 비나 눈이 길게 이어지겠습니다 라고 했네요 자 우리 중요한 거 선생님이 이렇게 동그라미 쳐놨는데 약 312mm 가 되는 거죠 자 이것을 몇 cm 몇 mm 로 바꿔 나타내기만 하면 되겠어요 따라서 312mm 에서 우리 10mm 는 1cm 니까 자 바로 310mm 와 2mm 로 이렇게 나누어 볼게요 그럼 310mm 는 31cm 와 같잖아요 즉 31cm 2mm 이렇게 표현해 보면 되겠죠 따라서 정답 31cm 2mm가 답이 되겠습니다 자 이번에는 교과용한 문제 한번 해결해 볼게요 지구를 둘러싸고 있는 공기는 여러 층으로 나뉘어져 있습니다 그 중 5존층이 존재해 자외선을 차단해주고 비행기들이 다니는 주된 항로로 사용되는 구간을 성층권 이라고 합니다 그림에 표시된 성층권의 범위는 몇 km 인가요 라고 했어요 우리 성층권은 여기 있네요 여기서부터 여기까지 지금은 조금 우리 친구들 말이 좀 어렵겠지만 조금 이따가 과학 시간에 우리 친구들 배우게 될 겁니다 조금만 참아주세요 자 성층권 이라는 건 그러면 여기 이제 땅에서부터 11 단위는 어때요 킬로미터죠 11km 에서부터 50km 까집니다 범위 확인했어요 좋아요 그럼 11km 에서부터 50km 까지니까 범위는 50에서 11을 빼주면 되겠죠 아하 50km 에서 11km 를 빼주면 39km 가 되는 걸 알 수가 있겠네요 따라서 정답은 39km 가 답이 되겠습니다 자 이렇게 수위력 높여봤어요 이제 완성할 일만 남았습니다 우리 친구들 대표 유형 1번부터 출발해 볼게요 부분의 길이로 전체의 길이를 구할 수 있어요 이게 무슨 유형이냐면 풀 전체의 길이는 풀 뚜껑의 길이의 4배 입니다 풀 전체의 길이는 몇 cm 몇 mm 인가요 라고 했어요 지금 뚜껑의 길이가 2cm 3mm 로 나왔는데 풀 전체의 길이는 바로 이제 두 길이의 관계가 4배요 라고 나왔죠 아하 그렇다면 4배를 해서 우리 전체 길이를 구할 수가 있겠구나 자 해결하기 1단계입니다 풀 뚜껑의 길이는 2cm 3mm 이고 풀 전체의 길이는 풀 뚜껑 길이의 4배 임으로 풀 전체의 길이는 2cm 3mm 의 4배 곱하기 4를 하면 되니까 2cm 도 4배 하고 3mm 도 4배를 하기에는 조금 힘들겠죠 그래서 단위를 바꿔 보기로 했어요 즉 2cm 3mm 라는 건 2cm 는 20mm 자 그래서 23mm 의 4배 이기도 하다 그러면 우리 친구들 23 곱하기 4만 하면 되잖아요 3 4 12 2 4 8 아 그래서 92mm 가 되는 걸 알 수가 있겠다 자 이렇게 찾았습니다 근데 문제에서는 뭐라고 물어봤냐면 몇 cm 몇 mm 에요 라고 물어봤어요 그렇기 때문에 우리 92mm 를 90mm 와 2mm 의 합이기도 하니 90mm 는 9cm 즉 9cm 2mm 로 나타낼 수가 있겠죠 이렇게 나타내려면 10mm 는 1cm 다 라는 관계를 알아야 돼요 임으로 풀 전체의 길이는 9cm 2mm 입니다 라고 답해낼 수가 있겠네요 좋아요 우리 대환습 해 볼게요 자 1-1번 입니다 연필 전체의 길이는 지우개 길이의 몇 배 7배 입니다 연필 전체의 길이는 몇 cm 몇 mm 인가요 라고 했어요 지금 지우개의 길이가 17mm 로 나와 있고 이거의 7배라면 곱하기 7을 해 보도록 하죠 그럼 7 7에 49 7에다가 4를 더하면 11 119mm 에요 이렇게 답하면 돼요? 안 돼요 뭐라고 물어봤어요 몇 cm 몇 mm 에요 라고 물어봤으니까 답도 몇 cm 몇 mm 에요 라고 답해야죠 그럼 우리는 아 머릿속에 꾹 저장했던 10mm 가 1cm 야 이 점을 생각을 해 가지고 110mm 와 그 다음에 다시 쓸게요 밀리 미터하고 9 우리 많이 연습했던 거 있죠 요거의 합이니까 11cm 9mm 로 이렇게 나타낼 수가 있어요 자 따라서 정답은 11cm 9mm 이것이 답이 되겠습니다 자 그 다음 비슷해요 어떤 점이 다른지 한번 비교하면서 조금씩 조금씩 우리 친구들 어려워지는 것도 한번 느껴보세요 막대사탕 전체의 길이는 사탕알의 길이의 2배보다 3cm 더 길대요 막대사탕 전체의 길이는 몇 cm 몇 mm 인가요 아니 그냥 몇 배다 라는 것만 배웠지 아 우리가 구해 봤지 이 2배보다 3mm 더 길다 라고 했으니까 일단 2배를 구해서 그보다 3mm 더 긴 길이까지 찾아줘야 되겠죠 자 어떻게 출발할까요 사탕알의 길이는 1cm 8mm 에요 이거의 2배를 계산하기 위해서 1cm 는 10mm 와 같으니까 18mm 와 같은 길이가 되는 거죠 그러면 18mm의 2배의 2 곱하기 2 를 하면 36mm 가 되는 걸 알 수 있어요 자 그럼 2보다 3mm 더 길다 라고 했으니까 36mm 에서 3mm 를 더해주면 39mm 가 되는 걸 알 수 있겠죠 답은 몇 cm 몇 mm 야 라고 답하래요 그러니 30mm 는 3cm 9mm 이렇게 답해 주면 되겠습니다 따라서 정답은 3cm 9mm 가 답이 되겠습니다 좋아요 조금 더 어려워진 거 우리 친구들 느꼈어요 자 이제는 1-3번 면봉이 나왔는데 면봉 전체의 길이는 양쪽 면봉 솜 길이의 합보다 4cm 7mm 더 깁니다 면봉 전체의 길이는 몇 mm 인가요 라고 했어요 면봉 양쪽 끝의 길이가 각각 19mm 니까 여기에서 면봉 양쪽 면봉 솜 길이의 합을 먼저 구해야 되겠네요 그러면 첫번째 19mm 더하기 19mm 를 해보면 38mm 에요 그럼 2보다 4cm 7mm 더 길어요 라고 했어요 그러면 우리 친구들 여기에서는 바로 38mm 에서 이만큼을 더해주면 되겠죠 그러면 4cm 7mm 라는 것을 모두 몇 mm 로 바꿔 볼게요 4cm 는 40mm 거기에다 7mm 더 길다면 47mm 가 될 거예요 따라서 38mm 보다 47mm 더 길다 그러면 더했을 때는 38 더하기 47 계산해 보세요 바로 85mm 가 되겠죠 자 따라서 우리 몇 mm 인가요 라고 했으니까 몇 cm 몇 mm 로 바꾸지 않고 바로 이렇게 85mm 입니다 라고 답해 줘도 되겠습니다 자 우리 이제 1-3번 문제까지 해결해 봤구요 자 1-4번은 빨대 전체의 길이는 컵 길이의 2배보다 2mm 더 길어요 빨대 전체의 길이는 몇 cm 인가요 라고 했어요 그러면 우리 이제 컵 길이가 9cm 4mm 로 나왔는데 계산하기 편하게 mm 로 바꿔 볼게요 90mm, 4mm, 94mm 가 되겠죠 그럼 2배는 94mm의 2배 곱하기 2를 하면 바로 428, 928, 188mm 가 되겠습니다 근데 2보다 2mm 더 길대요 그럼 188mm 에서 우리 2mm 만큼 더하면 되기 때문에 190mm 가 되는 거죠 어 근데 몇백 몇십 이니까 바로 19cm 로 나타낼 수가 있겠네요 따라서 정답은 몇 cm 에요 라고 물어봤으니까요 19cm 에요 라고 답할 수 있겠습니다 자 이렇게 첫 번째 유형 마쳤구요 이제 두 번째 유형은 대표 유명 2, 두 지점 사이의 거리를 구하는 겁니다 수직선에서 기역에서 니은까지 결이 몇 미터 인가요 라고 물어봤어요 그럼 1단계 수직선의 작은 눈꽃 한 칸의 크기를 계산합니다 수직선의 작은 눈꽃 한 칸은 바로 큰 눈꽃 한 칸이 1km 인데 이곳을 똑같이 1, 2, 3, 4, 5, 6, 7, 8, 9, 10 10칸으로 즉 10으로 나눈 것 중에 한 칸이에요 그렇기 때문에 1km 는 1000m, 1000m 를 10칸으로 나눈 것 중 한 칸은 바로 100m 를 의미하겠죠 따라서 두 지점 사이에는 작은 눈꽃이 몇 칸일까요 자 기역에서부터 니은까지 한번 세볼게요 1, 2, 3, 4, 5, 6, 7, 8, 9, 10, 11, 12 아 12칸입니다 그렇다면 한 칸이 100m, 12칸은 1200m 가 되는 걸 알 수가 있습니다 그래서 작은 눈꽃 한 칸의 크기가 얼마인지 구하는 게 핵심이 되겠어요 자 우리도 구해 볼게요 기역에서 니은까지의 거리는 몇 미터 인가요 라고 했어요 지금 2에서 3까지 바로 1km 가 1, 2, 3, 4, 5, 6, 7, 8, 9, 10, 10칸으로 나누었으니까 바로 작은 눈꽃 한 칸의 길이는 100m 가 됩니다 똑같이 그러면 기역에서 니은까지 1, 2, 3, 4, 5, 6, 7, 7칸이네요 한 칸의 거리가 100m 니까 7칸의 거리는요 700m 가 되는 걸 알 수가 있어요 따라서 정답은 700m 가 답이 되겠습니다 어렵지 않죠? 좋아요 자 같은 문제의 유형이에요 기역에서 니은까지의 거리는 몇 km 몇 m 인가요 라고 했습니다 그러면 여기서도 4에서 5, 4km 에서 5km 까지 1km 가 눈꽃 1, 2, 3, 4, 5, 6, 7, 8, 9, 10칸으로 나누어져 있기 때문에 한 칸의 거리는 100m 가 되는 거 먼저 파악하고요 그럼 기역에서 니은까지는 몇 칸인지 세보죠 1, 2, 3, 4, 5, 6, 7, 8, 9, 10, 11 아하 11칸 이니까 바로 한 칸의 100m 라면 11칸에는 1100m 가 되는 걸 알 수 있어요 근데 몇 km 몇 m 냐고 물어봤기 때문에 1000m 는 1km 즉 1km 100m 가 되겠죠 따라서 1km 100m 로 나타낼 수 있겠습니다 자 그러면 이번에는 10칸으로 나누어져 있지 않는 경우에요 기역에서 니은까지 거리는 몇 km 인가요 라고 했습니다 보니까 5km 에서 6km 까지 지금 1km 가 5칸으로 나누어져 있어요 그래서 5칸의 1km 를 나타냅니다 그럼 기역에서 니은까지는 1, 2, 3, 4, 5, 6, 7, 8, 9, 10 10칸이죠? 그러면 10칸 이라면 5칸씩 2번 바로 2km 를 나타내는 걸 알 수 있어요 따라서 정답은 2km 가 되겠네요 자 마지막 문제 여기서도 1km 가 5칸입니다 기역에서 니은까지 별이 몇 km 인가요 라고 했어요 그러면 5칸, 5칸, 5칸 자 15칸 이니까 3km 가 답이 되겠습니다 우리 친구들이 작은 눈꿈 한 칸의 크기를 곧바로 알 수 없으면 몇 칸이 1km 인가 바로 기준인 거리를 체크해 주면 되겠죠 자 오늘의 미션 1cm 보다 작은 단위는 1mm 그리고 1cm 랑 10mm 는 같은 길이다 1m 보다 큰 단위 1km 1000m 와 1km 는 같은 거리다 라는 거 기억해 주세요 자 오늘은 여기까지 입니다 우리 친구들 만약에 이해 안 가고 궁금한 거 있으면 게시판에서 얼마든지 질문 많이 많이 해주고요 다음 시간에 새로운 내용으로 다시 만나요 여러분 안녕\n",
      "04강길이와시간(1)_초등수해력-도형·측정3단계.mp3에 대한 텍스트가 ./ebs_script/new/04강길이와시간(1)_초등수해력-도형·측정3단계.txt로 저장되었습니다.\n",
      "Transcription for 05강3-1_몇시알기,3-2_몇시30분알기_초등수해력-도형·측정1단계.mp3:\n",
      "친구들, 안녕하세요. 초대형 수혜력 조형측정 1단계 정소연 선생님입니다. 자, 우리 오늘은요. 선생님과 함께 시계, 그리고 시간, 여러가지 이야기를 함께 나누어 볼 예정입니다. 모두 준비됐죠? 자, 오늘 배울 두가지 내용 함께 살펴볼게요. 첫번째는요. 몇시, 몇시간, 몇시간, 몇시간, 몇시간. 함께 살펴볼게요. 첫번째는요. 몇시, 여러분, 지금 몇시야? 라고 했을 때, 어, 몇시예요? 라는 이야기 많이 하죠. 거기에 대한 이야기 할 거고요. 그 다음 두번째는요. 이 몇시뿐만 아니라 몇시삼십분, 이건 어떻게 보고 어떻게 읽는건지 선생님과 함께 공부해 보도록 하겠습니다. 자, 그러면 준비 다 됐죠? 바로 첫번째 내용부터 출발해 볼게요. 선생님, 도시락은 언제 먹어요? 음, 조금 이따가 한시가 되면 먹자. 시계가 어떻게 되면 한시예요? 저기 있는 시계를 봐. 시계에 있는 숫자들이 지금이 몇시인지 알려줘. 시계에 있는 숫자들은 다 읽을 줄 알아요. 그럼 몇시인지 금방 배울 수 있겠네요. 이번 3단원에서는 시계를 보고 시각을 읽는 방법에 대해 배울 거예요. 숫자를 읽을 수 있다면 시각도 읽을 수 있어요. 자, 우리 선생님과 함께 오늘 배울 첫번째 내용, 바로 몇시! 이것을 읽어볼 거예요. 그동안 아마, 아, 도대체 지금 몇시예요? 저 얼른 어디 놀러 가야 된단 말이에요. 몇시까지 가야 된다고 했단 말이에요. 라고 하지만 시계를 읽을 수가 없어서 지금 몇시인지 몰랐던 친구들이 되게 많을 것 같아요. 선생님이 이번 시간에 하나씩 아주 쉽게 알려줄게요. 일단 여러분, 이렇게 생긴 시계 본 적 있죠? 음, 시계를 보면요. 긴 바늘과 짧은 바늘이 있어요. 여기에도 이렇게 길게 생긴 바늘, 그리고 짧게 생긴 바늘이 있는데요. 음, 여기에서 퀴즈입니다. 긴 바늘이 어떤 숫자를 가리키고 있나요? 맞아요. 12를 가리키고 있어요. 그럼 짧은 바늘은요? 맞아요. 3을 바라보고 있죠? 음, 그러니까 짧은 바늘, 긴 바늘의 이 숫자를 보고 우리는 시각을 읽을 수 있습니다. 한번 오른쪽의 내용 볼게요. 짧은 바늘은 3을 가리키고 있고, 긴 바늘은 12를 가리키고 있어요. 이렇게 생긴 모양을 보고 우리는 3시라고 읽는 거예요. 몇시라고요? 3시라고요. 그러니까 긴 바늘이 이렇게 위쪽을 바라보고, 12를 바라보고 있을 때 짧은 바늘이 어떤 숫자를 가리키느냐에 따라서 몇시가 결정되는 거예요. 자, 다시 정리! 긴 바늘이 12를 가리키고 있을 때 짧은 바늘이 3을 가리키고 있으니까 몇시? 3시라고요. 그래서 3시라고 읽습니다. 라고 표현한 거예요. 그러면 여기에서 퀴즈! 긴 바늘이 12를 가리키고 짧은 바늘이 2를 가리키면 몇시일까요? 맞아요. 2시라고 읽는 거예요. 2시는 안되나요? 안돼요. 2시라고 읽을게요. 하나만 더 해볼까요? 긴 바늘이 12를 가리키고 짧은 바늘이 4를 가리킨다고 생각해 볼게요. 그러면 몇시? 4시라고 읽는 거예요. 4시 아니에요. 4시! 그럼 이번에는 이렇게 생긴 시계도 한번 볼게요. 이렇게 숫자가 적혀있고 가운데 점이 2개 있고 이렇게 생긴 시계를 우리는 디지털 시계라고 하거든요. 이렇게 생긴 시계는 더 읽기 편해요. 여기 4라고 되어 있고 옆에 점이 2개 있고 옆에는 0이 2개 있죠. 이럴 때는 옆에 제일 왼쪽에 있는 이 숫자를 보고 시각을 읽을 수 있어요. 앞에 4는 4시를 나타내는데 그리고 뒤에 있는 00은 생각하지 않아도 돼요. 그래서 이것을 4시라고 읽는 거예요. 그러면 여기 있는 점 2개 있는 왼쪽에 있는 숫자만 보면 되겠네요. 맞아요? 그럼 오른쪽에 있는 이 시계의 시각도 읽어봅시다. 몇시일까요? 점 2개 왼쪽에 있는 숫자만 읽어보면 12라고 되어 있죠. 그러니까 이건 12시겠구나라는 걸 알 수 있습니다. 선생님 그러면 뒤에 있는 이 00은 뭘 의미하는 거예요? 이건 우리 나중에 배울 건데 몇 분을 이야기할 때 쓰는 거예요. 그러니까 일단 지금 우리는 몇 시까지만 읽을 거죠? 왼쪽만 신경 써서 볼게요. 알겠죠? 그래서 앞에 12는 12시를 나타내고 뒤에 있는 00은 읽지 않아요. 그래서 12시입니다. 라고 정리 되었습니다. 자 그럼 이번에는요. 긴바늘을 따라 짧은 바늘이 어떻게 움직이는지 함께 살펴볼 거예요. 긴바늘이 12에 가있을 때 몇 시라고 했잖아요. 그런데 여러분 시계를 본 적이 있다면 이 바늘이 계속 빙글빙글 돌아가고 있다는 걸 알게 됐을 거예요. 이 긴바늘은요. 오른쪽으로 이렇게 계속 빙글빙글 돌아요. 그래서 12에서 12로 한 바퀴를 움직일 수가 있습니다. 이렇게 도는 거지. 이렇게 있다가 이렇게 쭉 한 바퀴를 돌아요. 움직일 때 짧은 바늘은 그럼 어떻게 될까요? 짧은 바늘도 돌아가요. 짧은 바늘은 그런데 긴바늘보다 아주 천천히 돌아가요. 긴바늘이 이렇게 한 바퀴 도는 동안 짧은 바늘은요. 예를 들어서 여기 8에서 출발했다면 긴바늘이 한 바퀴 돌고 난 뒤에는 9까지 와요. 어? 한 바퀴 도는 동안 여기 있는 8이 9가 됐네. 숫자 한 칸만 움직였네. 라는 걸 알 수 있습니다. 어? 그러면 선생님 긴바늘이 한 바퀴 도니까요. 8시였는데 9시가 되었어요. 한 시간이 지났네요. 라는 걸 알 수 있죠. 이해가 되나요? 자 그러면 이번에는 우리 친구들이 실제로 몇 시라고 하면 그 시각을 어떻게 시계에 그릴 수 있는지 알려줄게요. 5시를 그린다고 생각해 보자. 그러면 일단 제일 쉬운 거 긴바늘부터 생각해 볼까요? 긴바늘은 어디에 가야 된대요? 항상 12에 가야 된다고 했어요. 그러면 긴바늘은 12에 이렇게 딱 그려주고 그 다음에 짧은 바늘은 어디를 가리킨다고요? 5시니까 5, 5를 가리키도록 그려주면 되는 거예요. 자 그 과정이 여기에 나와 있습니다. 짧은 바늘은 5를 가리키도록 그리고 그 다음 긴바늘은 12를 가리키도록 그려요. 그러면 완성된 시각이 이렇게 표현이 되는 거예요. 자 그러면 여러분 퀴즈! 7시는 어떻게 그리면 될까요? 짧은 바늘부터 볼까요? 짧은 바늘. 7시가 되려면 짧은 바늘은 7을 가리키도록 그리고 긴바늘은 12를 가리키도록 그리면 되는 거예요. 할 수 있겠죠? 자 그럼 우리 문제 같이 한번 풀어 볼게요. 수회력을 높여요 5번 문제입니다. 시계에 대해 바르게 말한 사람의 이름을 써보세요 라고 했어요. 일단 재영이부터 같이 읽어 봅시다. 같이 큰 소리로 읽어 봐요. 짧은 바늘은 긴바늘보다 더 빨리 움직여라고 했어요. 자 여러분 짧은 바늘이 긴바늘보다 더 빨리 움직이나요? 아까 선생님이 뭐라 그랬어요? 긴바늘이 12에서 12까지 한 바퀴 빙그르르 도는 동안 짧은 바늘은 예를 들면 7에서 출발했다면 8까지 숫자 하나만큼 움직인다고 했잖아요. 그러니까 짧은 바늘이 긴바늘보다 더 느리게 움직여가 되겠죠. 그래서 재영이가 한 말은 잘못됐어요. 짜잔! 그 다음 지아의 말 같이 읽어 볼게요. 긴바늘과 짧은 바늘은 같은 방향으로 움직여라고 했어요. 선생님이 아까 뭐라 그랬죠? 긴바늘이 12에서 이렇게 오른쪽으로 쭈루루룩 한 바퀴 돈다 그랬죠. 그러는 동안에 짧은 바늘도 8에서 9로 이렇게 돈다 그랬잖아요. 그러니까 두 바늘은 같은 방향으로 움직이는 게 맞아요. 다만 긴바늘이 더 빨리 움직이고 짧은 바늘은 좀 더 천천히 움직이는 거죠. 그래서 이것은 맞는 말이에요. 그 다음 우주 볼게요. 긴바늘이 가리키는 숫자를 보면 몇 시인지 알 수 있어. 자 우리 몇 시를 읽을 때 어떻게 하면 된다 그랬어요? 몇 시가 되기 위해서는 일단 긴바늘은 항상 12를 가리켜야 된다고 했죠. 그러면 3시도 12, 4시도 12 항상 긴바늘은 12만 가리키는데 이것만 보면 몇 시인지 알 수 있어요? 아니 알 수 없어요. 그게 아니라 짧은 바늘을 봐야 돼요. 긴바늘이 12를 가리키는 동안 짧은 바늘이 어떤 숫자를 가리키는지에 따라서 거기에 따라서 몇 시인지 알 수 있어요. 긴바늘이 12를 가리키고 짧은 바늘이 3을 가리키면 3시. 긴바늘이 12를 가리키고 짧은 바늘이 4를 가리키면 4시라고 했죠. 그래서 긴바늘이 가리키는 숫자가 아니라 짧은 바늘이 가리키는 숫자를 보면 몇 시인지 알 수 있어. 그래서 짠! 세 번째 내용도 잘못됐네요. 그럼 바르게 말한 사람은 누구다? 지하다 라고 정리를 해주면 되겠습니다. 그럼 다음 문제로 한번 가볼게요. 11번 문제예요. 수영이는 5시에 도서관에 들어가서 7시에 나왔대요. 수영이가 도서관에 있을 때 찍은 사진으로 알맞은 것을 찾아 동그라미 표시하세요라고 했습니다. 자, 도서관에 5시에 가서 7시에 나왔대요. 그럼 그 중간에 있는 시각을 골라주면 되겠네. 일단 첫 번째, 이건 몇 시예요? 이건요? 긴바늘이 12, 짧은 바늘이 3에 가 있으니까 3시예요. 그 다음, 여기 오른쪽 그림은 어때요? 긴바늘이 12, 짧은 바늘이 6에 가 있으니까 몇 시? 6시예요. 그럼 5시에서 7시 사이에 해당하는 시각은 3시인가요? 6시인가요? 그렇죠. 6시가 되는 거죠. 5와 7 사이에 6이 있잖아요. 그렇게 생각하면 돼요. 그래서 알맞은 것은 오른쪽에 동그라미를 해주시면 되겠습니다. 자, 다음 문제도 볼게요. 12번 풀어볼까요? 진서와 엄마는 식빵을 만들기 위해 긴바늘이 한 바퀴 움직이는 동안 반죽을 발효시키려고 합니다라고 했어요. 긴바늘이 한 바퀴 움직이는 동안이라는 건 뭐예요? 짧은 바늘의 시각이 이렇게 한 칸 움직이는 거라고 생각하면 된다 그랬죠? 이때 오른쪽 시계가 나타내는 시각부터 발효시킨다면 몇 시까지 발효시켜야 하나요? 라고 했어요. 자, 지금 몇 시예요? 11시예요. 11시부터 시작한다는 거지. 11시부터 시작해서 긴바늘이 한 바퀴 움직였대. 그러면 그동안 짧은 바늘은 몇 칸 움직여요? 그렇지. 11에서 12로 가겠죠. 그러니까 12시가 되는 거예요. 몇 시까지? 12시까지입니다. 라고 적어주면 되는 거죠. 자, 다음으로 가볼까요? 이번에는 대평용 1번 문제 같이 볼게요. 아영이와 민석이가 일어난 시각입니다. 더 일찍 일어난 사람은 누구일까요? 아영이는 몇 시에 일어났나? 보니까 짧은 바늘이 어딜 가리켜요? 9를 가리키고 있고, 긴바늘은 어딜 가리켜요? 12를 가리키고 있어요. 그러니까 아영이가 일어난 시각은 9시가 되겠네요. 그다음 민석이는 짧은 바늘이 어딜 가리켜요? 8을 가리키고, 긴바늘은요? 12를 가리키고 있어요. 그러니까 몇 시에 일어났다? 8시에 일어났다. 그렇죠? 그래서 3단계 정리해 볼게요. 아영이는 9시에 일어나고, 민석이는 8시에 일어났기 때문에 더 일찍 일어난 사람은 누구다? 맞아요. 민석이입니다. 라고 적어 주시면 되겠습니다. 시각 읽는 거 어렵지 않죠? 자, 그러면 우리 한 문제만 더 풀어 볼게요. 대평용 2번 문제예요. 왼쪽 시계의 긴바늘이 몇 바퀴 움직이면 오른쪽 시계가 된대요. 네모 안에 알맞은 수를 구해 보세요. 라고 했습니다. 그러면 이 문제를 풀기 위해서는요. 왼쪽에 있는 시계가 가리키는 시간, 그리고 오른쪽에 있는 시계가 가리키는 시간. 그 둘을 먼저 확인한 다음에, 둘을 비교해 주면 되겠죠. 긴바늘이 한 바퀴 움직였을 때 짧은 바늘은 1만큼, 그 숫자 1만큼 움직인다. 라는 걸 알고 있으면 쉽게 풀 수 있는 문제예요. 같이 볼게요. 일단 1단계, 왼쪽 시계의 짧은 바늘이 어디를 가리키고 있어요? 맞아요. 4를 가리키고 있습니다. 그 다음 오른쪽 시계에 있는 짧은 바늘은 어디를 가리키고 있어요? 6을 가리키고 있어요. 그러면 짧은 바늘이 4에서 6으로 몇 칸만큼 움직였다? 두 칸만큼 움직였기 때문에 네모 안에 알맞은 수는 뭐예요? 긴바늘이 두 바퀴 움직였어요. 2입니다. 라고 적어주면 정답이 되는 거예요. 어떻게 하는지 잘 알겠죠? 그러면 첫 번째 내용은 여기서 마무리하고 두 번째 내용으로 넘어가 볼게요. 자, 이번에는 몇 시 30분을 읽어 볼 거예요. 우리 친구들 이제 몇 시, 몇 시, 셋 시, 넷 시 이런 건 잘 읽을 수 있겠죠? 이제 분까지 읽어 보도록 할게요. 시계가 몇 시 30분을 나타내는지 알아보아요. 라고 했습니다. 자, 일단 여기에 있는 시계를 잘 볼게요. 왼쪽에 있는 시계 몇 시예요? 맞아요. 이건 8시예요. 8시 왜? 긴바늘은 12 그리고 짧은 바늘은 8을 가리키고 있잖아요. 그래서 8시인데 오른쪽을 한번 보세요. 어? 이번에는요. 긴바늘이 12를 가리키고 있지 않아요. 어디를 가리키고 있어요? 맞아요. 6을 가리키고 있어요. 이거 엄청난 큰 변화예요. 아마 이 긴바늘이 이렇게 반 바퀴 돌아서 6까지 아래로 쭉 내려갔나 봐요. 그렇죠? 그러면 짧은 바늘은 어디를 가리키고 있어요? 짧은 바늘은요. 8도 아니고 9도 아니고 그 중간쯤을 가리키고 있다는 것을 확인할 수 있죠. 이런 것을 우리는 뭐라고 읽는지 함께 볼게요. 이렇게 짧은 바늘은 8과 9의 중간 그리고 긴바늘은 6을 가리키고 있는 이 시각을 우리는 8시 30분이라고 읽어요. 이해되나요? 8시 30분. 선생님, 9시 30분 하면 안 돼요? 8시 30분 말고 9시 30분이라고 해도 되잖아요. 왜? 짧은 바늘이 8과 9 사이에 있으니까 이쪽도 아니고 저쪽도 아니니까 이걸 왜 8시 30분이라고 읽어야 되는지 모르겠어요. 라고 생각하는데 우리 친구들 이렇게 생각해 보세요. 짧은 바늘, 긴바늘은 항상 이렇게 한 방향으로 돈다 그랬죠. 그러면 이 짧은 바늘은 아마 처음 8에서 시작해서 오른쪽으로 이렇게 돌고 있었을 거예요. 그러면 얘가 만약에 9를 가리키면 몇 시가 되는 거예요? 9시가 되는 거지. 그리고 9보다 더 넘어가 버리면 9시 몇 분이 되는 거예요. 똑같은 원리로 여기 8을 가리키고 있다가 8을 조금 넘어갔기 때문에 8시 몇 분이라고 읽는 겁니다. 그래서 9가 되기 전까지는 8시 몇 분이라고 생각해 주시면 돼요. 8과 9의 사이에 있다고 어? 9시인가? 9에 더 가까운데? 이렇게 생각하는 게 아니라 9가 되기 전까지는 항상 8시 몇 분이다. 이것만 기억해 주세요. 그 다음 긴바늘이 6에 가 있기 때문에 6에 가 있는 경우에는 항상 30분이다. 이것만 기억해 주시면 돼요. 알겠죠? 자 그럼 다음으로 넘어가 볼까요? 자 그럼 이번에는 디지털식의 시각도 읽어 볼게요. 여러분 여기 왼쪽에 있는 건 시각. 그러니까 몇 시를 나타내는 거라고 했죠. 그래서 앞에 있는 2는 2시를 나타낸다고 했고 뒤에 있는 30은 30분을 나타내는 거예요. 우리 아까 앞 시간에서는요. 여기에 00이라고 적혀 있었죠. 그래서 이건 따로 읽지 않아요라고 했는데 이번에는 여기 오른쪽에 30이라고 적혀 있다. 그렇다면 이것은 30분을 나타낸다라고 생각을 해 주시면 됩니다. 그래서 둘을 합쳐서 읽어 보면 2시 30분이 되는 거예요. 자 그럼 오른쪽도 너무 쉽죠. 그래서 이제 왼쪽에 앞에 있는 9는 9시를 나타내고요. 오른쪽에 있는 30은 30분을 나타내는 거예요. 그래서 합쳐서 읽어 보면 9시 30분이라고 읽어 주시면 됩니다. 자 그럼 이번에는요. 긴바늘이 6에서 6으로 한 바퀴 움직였을 때 짧은 바늘은 어떻게 움직이는지 봅시다. 우리 앞 시간의 내용과 비슷하게 생각을 해 주시면 돼요. 볼게요. 일단 이건 몇시 몇분이라 그랬죠. 8시 30분이라 그랬어요. 짧은 바늘이 8과 9 중간에 가 있고 긴바늘이 6을 가리키고 있다. 그래서 8시 30분이었는데요. 여기에 있는 긴바늘이 또 이렇게 한 바퀴 뿌르르르 돌아서 움직일 거예요. 그래서 다시 6을 가리키고 있다. 그런데 긴바늘이 한 바퀴 뿅 돌고 나니까 짧은 바늘이 좀 위치가 바뀌었어요. 어디를 가리키고 있어요? 긴바늘은 9와 10 사이를 가리키고 있어요. 그러면 선생님이 아까 뭐라 그랬어요? 9를 지나서 10까지는 가지 못했다. 그러면 몇시라고요? 9시라고 읽고 뒤에 있는 분을 읽는다고 했죠. 그래서 이 경우에는 9시 30분입니다라고 읽는다는 거예요. 10시 30분 아니에요. 그럼 아래에 있는 문장 읽어볼게요. 긴바늘이 한 바퀴 움직일 때 짧은 바늘은 8과 9 사이에서 9와 10 사이로 움직였어요. 그래서 1시간이 지나서 9시 30분이 되었습니다. 이렇게 읽어주시면 됩니다. 그럼 이번에는 여러분들이 시곗바늘을 직접 그리는 연습이에요. 4시 30분을 그리고 싶다. 그러면 어떻게 한다고요? 일단 좀 쉬운 것부터 해볼까요? 긴바늘부터 생각해보세요. 긴바늘은 몇시 30분이라고 하면 항상 6을 가리켜야 된다 그랬죠. 그래서 6을 짠 머릿속에 넣어놓고 이제 짧은 바늘만 그리면 되는데 몇시 30분이라고 할 때는 짧은 바늘이 두 숫자 사이, 그 중간에 위치한다 그랬어요. 그런데 4시 30분이기 때문에 4, 4시는 지나서 4를 지나서 5가 되기 전에 상황인 거죠. 그래서 4와 5의 한 중간에 그 가운데 부분을 이렇게 가리키도록 그리면 된다는 거예요. 그래서 합쳐서 짠 완성된 걸 보면 짧은 바늘은 4와 5 사이 중간에 가 있고 긴바늘은 6을 가리키고 있다. 이게 4시 30분이다라는 겁니다. 됐죠? 자 그럼 이번에는 문제 풀어볼게요. 수회력을 높여요 6번입니다. 시계의 부분을 나타낸 그림이래요. 바늘이 가리키는 곳을 보고 시각을 써보세요 라고 했어요. 짧은 바늘 어디와 어디? 3과 4 사이를 가리키고 긴바늘은 6을 가리키고 있어요. 이건 일단 몇 분? 30분이라는 거네. 몇 시 30분인데 몇 시 30분이죠? 3을 지나고 4는 아직 안 지났으니까 3시 30분이에요 라고 적어주시면 되는 거예요. 그 다음 11번도 볼게요. 민인의 학교는 12시부터 12시 30분까지 점심시간이래요. 점심시간이 시작하는 시각과 끝나는 시각을 나타내는 시계를 각각 찾아서 기호를 써놓으세요. 시작하는 시각은 몇 시라고요? 12시라고요. 끝나는 시각은 12시 30분이라고요. 그럼 각각을 찾아주면 되겠네. 12시 어디 있어요? 12시. 어? 여기 있다. 이 디지털 시계가 가리키고 있는 시각이 12시입니다. 그래서 시작하는 시각을 real이라고 이렇게 표시를 해주고요. 그 다음 두 번째 12시 30분은 어디 있어요? 끝나는 시각. 12시 30분 어디 있지? 일단 디지털 시계는 없고요. 이렇게 동그랗게 생긴 시계에서는 여기 있다. 보여요? 자 30분이니까 일단 6을 가리키는 거 맞죠? 그 다음 12시 30분이니까 12를 지난 그렇지만 1이 되기는 전 상황을 보면 돼요. 어디예요? 12와 1 사이 12시를 지난 이 부분을 가리키고 있는 디귿이 정답이 됩니다. 그럼 여기에서 문제, 기억은 몇 시 몇 분을 가리키고 있는 거예요? 일단 6을 가리키고 있으니까 30분인 건 맞는데 짧은 바늘이 1과 2 사이를 가리키고 있잖아요. 그러니까 이건 1시 30분이 되는 거예요. 그 다음 문제로 넘어가 볼게요. 12번입니다. 하루 동안 태양의 위치가 달라지면 그림자의 길이도 달라진대요. 8시 30분과 12시 30분에 막대 그림자를 나타낸 그림을 보고 그림자를 관찰한 시각을 각각 시계에 나타내 보세요. 8시 30분과 12시 30분에 각각 그림자를 관찰해서 표현했대요. 먼저 8시 30분에 관찰했다. 내용을 여기 한번 적어봅시다. 그럼 8시 30분은 어떻게 해야 돼요? 일단 쉬운 것부터 할게요. 긴 바늘 30분, 표시해주고 8시 30분이면 8시를 지나야 되죠. 8을 지나갔지만 9까지는 가지 않은 상황. 그래서 8과 9의 이 중간 부분에 그림을 그려주시면 됩니다. 보이나요? 그 다음 오른쪽 것도 볼게요. 12시 30분은 어떻게 하면 돼요? 일단 30분이니까 긴 바늘을 이렇게 6을 나타내도록 그려주고요. 12시 30분이면 12시를 지나서 오른쪽으로 돌면서 그러나 1까지는 가지 못한 이 12와 1의 중간을 가리키도록 그림을 그려주시면 되는 겁니다. 어떻게 그리는지 잘 할 수 있겠죠? 잘 알겠죠? 그 다음 넘어가 볼게요. 이번에는 대표용용 1번 문제입니다. 규칙에 따라 시각을 나타내 보세요 라고 했어요. 일단 1, 2, 3, 4가 있는데 1, 2를 보니까 1번은 1시 30분을 가리키고 있어요. 맞아요. 각각의 시각을 일단 읽어 볼게요. 1번 시계는 1시 30분을 가리키고 있고 2번 시계는 몇 시 몇 분을 가리키고 있어요. 맞아요. 2시 30분을 가리키고 있어요. 그 다음 3번 시계는요? 3시 30분을 가리키고 있네요. 맞아요. 지금 어떤 규칙이 있어요? 30분, 30분, 30분 분은 계속 똑같은데 여기 시를 가리키는 숫자가 1, 2, 3으로 계속 1씩 늘어나고 있죠. 그러니까 이 규칙이 뭐다? 작은 바늘이 숫자 한 칸씩 움직이는 규칙이기 때문에 4번 시계에 들어가는 시각은 몇 시 몇 분이어야 돼요? 1, 2, 3, 그 다음은 4 그 다음 30분은 그대로 해서 4시 30분을 나타내야 합니다. 됐어요. 그럼 4시 30분을 그려보면 되겠네. 4시 30분은 어떻게 그려요? 4시 30분은요. 일단 30분이니까 긴 바늘이 6을 가리키도록 이렇게 먼저 그려놓고 그 다음 4시 30분이면 4에서 5 사이에 있는 그 방향을 가리키면 되겠죠. 그래서 4와 5 여기 있네. 그럼 그 중간을 짧은 바늘이 가리키도록 이렇게 그림을 그려주시면 되는 거예요. 어떻게 하는지 알겠죠? 이렇게 규칙을 찾아서 그 규칙에 맞도록 나머지 시계에 시각을 그리는 거 이런 문제도 있고요. 그러면 우리 하나만 더 풀어볼게요. 대표용용 2번 문제입니다. 왼쪽 시계에 긴 바늘이 몇 바퀴 움직이면 오른쪽 시계가 됩니다. 네모 안에 알맞은 수를 구해보세요. 긴 바늘이 몇 바퀴 움직였어요? 라고 되어 있네. 일단 왼쪽에 있는 시각과 오른쪽에 있는 시각을 각각 읽어주어야 되겠어요. 그렇죠? 왼쪽 시계부터 읽어봅시다. 어떻게 읽냐? 왼쪽 시계에 짧은 바늘은 무엇과 무엇 사이를 가리키고 있다. 짧은 바늘 볼게요. 여기죠. 여기. 짧은 바늘은 12와 1 사이를 가리키고 있어요. 12와 1 사이를 가리키고 그 다음 긴 바늘은 어디를 가리키고 있어요? 6을 가리키고 있어요. 그러면 이건 몇 시 몇 분인 거예요? 12시 30분이겠네. 이렇게 읽을 수 있습니다. 그 다음 오른쪽 시계 볼게요. 오른쪽 시계에 짧은 바늘은 어디를 가리켜요? 1과 2 사이를 가리켜요. 1과 2 사이. 긴 바늘은 어디를 가리켜요? 마찬가지로 6을 가리키고 있어요. 그러면 이걸 통해서 이 오른쪽 시계가 가리키고 있는 시각은 몇 시 몇 분이다? 1시 30분이다라는 것을 알 수 있습니다. 자 그럼 이제 다음 단계로 가볼게요. 지금 긴 바늘이 한 바퀴 움직일 때마다 짧은 바늘 숫자가 한 칸만큼 움직인다라는 규칙은 이미 알고 있잖아요. 그런데 보세요. 여기 12시 12에서 1시 1로 몇 칸 움직인 거예요? 한 칸만큼 움직였잖아요. 그래서 긴 바늘이 몇 바퀴 움직였다? 한 바퀴 움직였을 것이다. 1입니다라는 것을 알 수 있는 거예요. 12에서 1로 가는 이 한 칸만큼 움직였어요. 라고 정리를 해줄게요. 어떻게 하는지 알겠죠? 자 그러면 우리 오늘 문제 선생님과 함께 풀 거 다 풀어 봤고요. 나머지 문제는 어떻게 하라고 그랬어요? 우리 친구들이 스스로 공부해보고, 측정해보고, 부족한 부분은 어른들이랑 같이 공부 좀 해보라고 했죠? 그러면 오늘 우리 중요한 부분 몇 가지만 정리하고 마칠게요. 첫 번째, 긴 바늘이 12를 가리킬 때 짧은 바늘이 가리키는 숫자에 따라서 몇 시가 정해진다 그랬어요. 그래서 이것은 몇 시다? 3시다. 그 다음 디지털 시계 읽어 볼게요. 디지털 시계에서 이 두 개의 점의 왼쪽 부분, 앞부분을 통해서 몇 시를 알 수 있다 그랬죠. 그래서 이것은 4시다. 옆에 있는 영영은 읽지 않는다 라고 했습니다. 그 다음 아래쪽 그림 볼게요. 지금 짧은 바늘이 8과 9 사이에 가 있고, 긴 바늘이 6을 가리키고 있다 라는 건 무슨 의미라고요? 8시 30분이라는 의미라고 했어요. 그 다음 오른쪽 이 경우는 9시 뒤에 있는 30을 읽어서 30분입니다 라고 읽어 주시면 됩니다. 그래서 우리 오늘 몇 시 그리고 몇 시 30분까지 읽고 그림 그리는 것까지 연습을 했어요. 자, 친구들 오늘 공부 어땠어요? 재밌었나요? 기본적인 규칙만 알고 있으면 전혀 어렵지 않은 내용이에요. 우리 친구들 앞으로 생활에서도 많이 사용하면 좋을 것 같습니다. 자, 그러면 선생님은 여기서 인사할게요. 우리 친구들 오늘도 고생 정말 많았습니다. 우리 다음 언젠가 또 다시 만나도록 해요. 정말 고생 많았어요. 그럼 다음에 또 만나요. 안녕! 자막 제공 및 영상 제공 및 광고를 포함하고 있습니다.\n",
      "05강3-1_몇시알기,3-2_몇시30분알기_초등수해력-도형·측정1단계.mp3에 대한 텍스트가 ./ebs_script/new/05강3-1_몇시알기,3-2_몇시30분알기_초등수해력-도형·측정1단계.txt로 저장되었습니다.\n",
      "Transcription for 05강3-2_기준에따라분류하기3-3_분류한결과말하기_초등수해력-도형·측정2단계.mp3:\n",
      "친구들 안녕하세요. 초등수외력 교육측정 2단계 정소연 선생님입니다. 자 오늘은요 지난 시간에 이어서 분류에 대한 이야기를 좀 나누어 볼 거예요. 오늘 배울 내용 두 가지 일단 확인을 해보면요. 첫 번째 내용은 기준에 따라 분류하는 거예요. 우리 지난 시간에 기준이 무엇인지에 대한 이야기를 충분히 나눠봤어요. 기준은 누구든지 누가 이 기준을 보든지 항상 결과가 같아야 된다라는 이야기가 가장 중요하다 그랬죠. 그래서 이 기준을 세우는 것도 생각을 해봤는데 이번 시간에는 그 기준에 따라서 분류를 직접 해보는 연습을 할 거예요. 그 다음 두 번째 내용은요. 분류한 결과 말하기 입니다. 어? 분류한 결과를 어떤 식으로 표현하면 좋은지 어떻게 우리가 정리할 수 있을지 이런 것에 대한 이야기를 함께 나누어 볼게요. 친구들 그럼 준비됐죠? 오늘도 재밌는 이야기 함께 시작해 볼게요. 출발! 자 우리 친구들 분류하기 기준에 따라 어떻게 분류하는지 예를 좀 들어볼까요? 여기 이 친구가 블록을 모양에 따라 분류해 본다라고 했어요. 지금 여기 여러 가지 모양의 도형들이 나와 있는데요. 보니까 세모 모양도 있고 네모 모양도 있고 동그라미 모양도 있어요. 어? 뭐라고요? 맞아요. 그리고 또 색깔도 여러 가지에요. 색깔도 빨간색, 파란색, 노란색. 그리고 어? 또 뭐라고요? 맞아요. 크기도 여러 가지에요. 큰 네모도 있고 작은 네모도 있고 큰 동그라미도 있고 작은 동그라미도 있어요. 아 그러니까 여기에는 정말 다양한 색깔, 크기, 모양의 도형들이 모여있네요. 그런데 우리 이 친구가 무엇에 따라 분류하고 싶다 그랬다구요? 모양에 따라 분류하고 싶다 그랬다구요. 모양이라고 하면 세모, 네모, 동그라미 이런 걸 이야기한다 그랬죠. 그래서 모양에 따라서만 다른 건 보지 말고요. 모양에 따라서만 한번 나누어 볼게요. 자 어떻게 한다고요? 세모, 즉 삼각형 모양의 블록을 이렇게 모았어요. 크기나 색깔 상관없이 이렇게 삼각형은 다 모아놓은 거예요. 그 다음 가운데 사각형 모양의 블록들끼리 또 다 모아놨고요. 마지막 동그라미, 원 모양의 블록들끼리 이렇게 또 다 모아놓았습니다. 그래서 분류 기준이 모양이라면 이런 식으로 분류할 수 있겠다라는 걸 확인할 수 있죠. 선생님 선생님 그러면 분류 기준이 모양이 아니라 다른 거라면 분류의 결과도 달라지나요? 그럼요. 이것도 한번 볼까요? 분류의 기준이 만약 색깔이라면 어떻게 분류할 수 있을까? 색깔에 따라서 표를 만들 수 있어요. 빨간색, 노란색, 파란색 이런 식으로 여기에 나와있는 색깔들을 하나씩 적어주고요. 그 색깔끼리 모으는 거예요. 여길 보면 모양이나 크기 상관없이 빨간색 블록들이 다 모여 있잖아요. 그 다음 가운데도 보면 모양, 크기 상관없이 노란색들이 다 모여있고 오른쪽에도 보면 모양, 크기 상관없이 파란색 블록이 다 모여있습니다. 그래서 분류 기준이 달라지니까 분류한 결과도 달라지는구나 라는 것을 확인할 수 있죠. 자 그러면 여기에서 선생님이라면 한 가지 더 기준을 마련해서 또 분류해보는 연습을 할 수 있을 것 같아요. 그게 뭔지는 앞에서 힌트를 드렸으니까 우리 친구들 한번 곰곰이 생각해 보세요. 알겠죠? 자 이번에는 정해진 기준에 따라 분류하는 또 다른 예를 한번 살펴볼게요. 여기에 낱말 카드가 여러 개 있어요. 그렇죠? 그런데 이것을 몇 가지 기준으로 한번 분류해 보도록 하겠습니다. 일단 여기 표를 보니까요. 두 글자 카드, 세 글자 카드, 네 글자 카드라고 적혀 있어요. 그러니까 한마디로 글자 수를 기준으로 분류했구나 라는 걸 알 수 있죠. 아 글자 수를 기준으로 했을 때 두 글자인 카드만 모으니까 장미 그리고 튤립이 나왔네요. 그 다음 세 글자 카드만 모았더니 코끼리, 호랑이, 나팔꽃, 개나리, 캥거루, 소나무 이렇게 여섯 개가 나왔어요. 그 다음 네 글자 카드, 네 글자인 것만 모아봤더니 무당벌레 그리고 단풍나무가 나왔습니다. 이렇게 세 가지로 분류를 했는데요. 여러분 항상 이렇게 분류한 뒤에는 반드시 우리가 분류를 잘 했는지 확인해 보는 절차가 필요해요. 자 어떻게 확인하냐면요. 우리가 원래 가지고 있던 카드가 총 몇 장이었어요? 10장이었잖아요. 이 10장이 모두 골고루 잘 들어갔는지 각각의 표에 있는 수를 세어보는 거예요. 두 글자 카드는 2개, 그 다음 세 글자 카드는 6, 그 다음 네 글자 카드는 2. 이렇게 해보면 모두 모았을 때 2 더하기 6 더하기 2가 되죠. 아 더하니까 10이 되네요. 우리가 원래 10장을 가지고 분류했는데 분류한 결과도 모두 10장이니까 분류를 잘 했구나라고 확인할 수 있는 겁니다. 자 그러면 이번에는 똑같은 걸 다른 기준으로도 한번 분류해 볼 거예요. 여기 보니까 무엇을 기준으로 분류했나요? 맞아요. 색깔을 기준으로 분류했다는 것을 알 수 있어요. 먼저 빨간색 카드 가져온 거 보니까요. 캥거루, 튤립, 단풍나무가 있어요. 그 다음 노란색 카드는 뭐예요? 개나리와 소나무. 파란색 카드는요. 코끼리, 나팔꽃, 장미가 해당되고요. 초록색 카드에는 호랑이와 무당벌레가 해당돼요. 자 그러면 여기에서 끝인가요? 아니죠. 올바로 잘 분류했는지 확인해 봐야 되겠죠? 어떻게 한다고요? 맞아요. 수를 세어서 더해 보는 거예요. 예를 들어서 빨간색 카드 모두 몇 장? 그렇지. 3장이에요. 노란색 카드는요. 2장, 파란색 카드는 3장, 초록색 카드는 2장. 그래서 이 수를 모두 더해 볼 거예요. 3 더하기 2 더하기 3 더하기 2를 하면 얼마인가요? 맞아요. 10이에요. 그래서 우리가 처음 가지고 있던 10장의 카드를 10장 이렇게 잘 분류했구나라는 것을 확인할 수 있는 거죠. 이렇게 두 번째 방법, 색깔을 기준으로 분류를 했다라는 것도 확인을 해보았습니다. 그러면 우리가 카드의 수를 세면서 분류를 잘 했는지 확인해 본다라는 이야기 선생님이 반복적으로 해주고 있잖아요. 이번엔 또 다른 예가 있어요. 이번에는 동물인지 식물인지에 따라서 또 분류를 해볼 수도 있겠죠. 그렇게 했을 때 카드의 수만 한번 세어 볼게요. 동물 카드 어떤 게 있죠? 동물 카드 예를 들면 코끼리, 호랑이, 무당벌레, 그리고 캥거루 여기까지네요. 그래서 동물 카드가 1, 2, 3, 4장이에요. 그래서 1, 2, 3, 4개의 막대로 표시했어요. 그 다음 카드 수는 4구나라는 걸 알 수 있죠. 그 다음 식물 카드도 한번 세어봤더니 식물 카드 어디 있어요? 식물 카드는 여기 나팔꽃, 개나리, 장미, 소나무, 튤립, 단풍나무가 있네. 그래서 이렇게 세어보니까 1, 2, 3, 4, 5, 6. 그래서 여기에 6을 표시해야 되는데 보세요. 1, 2, 3, 4, 5 밖에 표시되어 있지 않아요. 이건 뭐 한 거예요? 실수한 거죠? 우리 바르게 고쳐볼까요? 어떻게? 여기에다가 하나 더 이렇게 표시해서 5가 아니라 6으로 만들어주면 돼요. 이렇게 우리가 실수한 것을 찾아낼 수 있다. 그리고 고칠 수 있다는 거 기억해 주시고요. 이때도 분류하기 전 카드가 총 10장이었으므로 더해서 10이 되는지 꼭 확인하는 거 잊지 마세요. 알겠죠? 자, 이번에는 개수를 세는 방법, 표시하는 방법 알려줄게요. 방금 전에 선생님이 1, 2, 3, 4, 5 이런 식으로 5씩 묶어서 표시하는 거 보여줬고요. 또는 이렇게 바를 정이라는 한자를 쓰면서 표시하는 방법도 있어요. 어떻게 하냐면요. 1, 2, 3, 4, 5, 6, 7, 8, 9, 10 이런 식으로 5개씩 묶어서 표현하는 거예요. 그래서 이렇게 생긴 바를 정자가 하나 있으면 하나 있을 때마다 5씩, 5씩, 5씩 커진다라고 생각하면 돼요. 그럼 여기에다가 예를 들면 선생님 13이면 어떻게 표현해요? 이렇게 5, 10하고 1, 2, 3 하면 13, 13을 표현할 수 있는 거죠. 이해가 되죠? 자, 그다음 문제 우리 함께 문제 풀어볼게요. 1번입니다. 사탕을 기준에 따라 분류해서 기호를 써놓으세요라고 했어요. 지금 사탕이 이렇게 몇 개 있어요? 총 8개 있어요, 8개. 8개를 다 분류해야 돼요. 자, 그런데 막대가 있는 사탕과 막대가 없는 사탕으로 분류하래요. 어떻게 하면 될까요? 일단 기억부터 볼게요. 기억, 막대 있네. 그러니까 막대가 있는 사탕에다가 표시. 니에는요, 막대가 없네. 막대가 없는 사탕에 표시. 그 다음, 디귿은 막대가 있고요. 리을은요, 막대가 있네. 그 다음, 미음은 막대가 없고. 비읍은요, 막대가 있고요. 시옷은 막대가 없고. 이응도 막대가 없어요. 그래서 막대가 있는 사탕에 4, 없는 사탕에 4. 4, 4 더하니까 8. 잘 분류했다라는 걸 알 수 있죠. 자, 그 다음 수혜력을 높여요. 3번 문제 볼게요. 지수는 엄마와 시장에 다녀와서 과일, 빵, 음료수로 다음과 같이 정리했대요. 잘못 정리한 것을 찾아서 동그라미 표시하고 그 이유도 써볼게요라고 했어요. 자, 일단 과일과 빵, 음료수로 이렇게 정리했다. 왼쪽을 보니까 다 뭐예요? 과일이죠? 사과, 바나나, 배. 모두 다 과일이에요. 그 다음, 가운데 바구니는 어때요? 다 뭐예요? 빵이에요. 그러면 여기는 과일이고, 여기는 과일이고. 아, 아니, 빵이고. 그 다음, 여기에는 뭘까요? 여기에는, 그렇다면 나머지. 음료수가 들어가야 되잖아. 자, 볼게요. 다 음료수가 맞죠? 어, 뭐 빼고. 여기 귤이 하나 들어있네. 귤은 음료수가 아니라 과일이죠. 그래서 이게 이쪽으로 가야 되겠죠. 그래서 잘못 정리한 것을 이렇게 우리 친구들 동그라미 해주시면 되고요. 그 이유는 뭐라고 쓰면 될까요? 맞아요. 귤은 과일 바구니에 정리해야죠. 라고 써주시면 됩니다. 어렵지 않죠? 자, 그 다음 9번 볼게요. 수 카드를 기준에 따라 분류하고 그 수를 세어보세요. 라고 했습니다. 여기 이 수 카드 8장이 있다는 걸 일단 확인을 해주시고. 이것을 어떻게 분류하면 될까? 200보다 큰 수. 그 다음에 200보다 작은 수예요. 그러면 하나씩 하나씩 한번 생각해보죠. 200보다 큰 수 어딨어요? 200보다 큰 수 여기 하나 있네. 하나 어떻게 셀까? 이렇게 세어볼까요? 그 다음 235도 200보다 큰 수네요. 183은 어때요? 200보다 작은 수 여기에 또 표시. 214는 200보다 큰 수니까 여기 표시. 217은 200보다 큰 수니까 이렇게 표시. 178은 200보다 작은 수니까 오른쪽에. 139도 200보다 작으니까 오른쪽. 225는요? 200보다 크니까 왼쪽에 표시를 해주면. 200보다 큰 수는 총 몇 개? 총 몇 개? 5개. 5장. 200보다 작은 수는 몇 개? 3. 3장. 이렇게 적어주시면 됩니다. 그러면 5 더하기 3을 했을 때 뭐가 나온다? 8이 나온다라는 것을 정리할 수 있죠. 그래서 아 잘 분류했구나라는 것을 확인해줄 수 있습니다. 자 그럼 이번에는 대표용 1번 문제 같이 볼게요. 악기를 기준에 따라 분류해서 부침탁지를 붙여보세요. 라고 했어요. 지금 악기가 총 몇 개 있어요? 총 8개 있어요. 8개. 그 중에서 1단계 볼게요. 입으로 불어 소리를 내는 악기는 ~~이 있다. 일단 오카리나. 입으로 불어서 소리를 낸다. 그 다음에 또 뭐가 있나? 실로폰 아니고요. 리코더 입으로 불죠. 리코더 적을게요. 리코더. 그 다음에 또 입으로 불어서 소리내는. 오 드럼펫. 여기 있네요. 드럼펫. 드럼펫. 이렇게 입으로 불어 소리내는 악기를 분류해줬고요. 그 다음 손이나 채로 쳐서 소리내는 악기도 분류를 해볼게요. 뭐가 있다? 실로폰. 장구. 그 다음에 꽹과리. 꽹과리. 그 다음 탬버린. 탬버린. 우리 친구들 연주해봤어요? 손으로 쳐서 또는 흔들어서 소리를 내는 악기죠. 탬버린. 그 다음 또 마지막 소고. 입니다. 이렇게 하니까 어떻게 돼요? 하나, 둘, 셋. 세 개고. 여기는 하나, 둘, 셋, 넷, 다섯. 다섯 개지. 이렇게 보면 3 더하기 5 해서 8이 되네. 잘 됐다라고 생각할 수 있겠습니다. 그래서 분류 기준에 따라서 붙임딱지를 붙여보면 아까 했던 것처럼 입으로 불어 소리를 내는 악기 세 개. 왼쪽에. 그 다음 손이나 채로 쳐서 소리내는 악기 다섯 개. 오른쪽에 붙여주시면 되는 거예요. 이렇게 분류하는 연습 같이 해봤습니다. 이 붙임딱지 붙이는 거 우리 친구들 할 수 있죠. 직접. 그 다음 하나만 더 풀어볼게요. 대표용용 2번 문제입니다. 세 자릿수를 기준에 따라 분류할 때 나에 들어갈 수는 몇 개인지 구해보세요 라고 했습니다. 나가 여기를 이야기하는 거네요. 세 자릿수가 총 몇 개 있어요? 하나, 둘, 셋, 넷, 다섯, 여섯, 일곱, 여덟, 아홉, 열. 열 개 있어요, 열 개. 자 그런데 열 개 중에서 10의 자리 숫자가 50을 나타내는 수라는 건 뭐예요? 세 자릿수가 이렇게 있을 때 그 중에서 여기 가운데 있는 자리가 5라는 뜻이죠. 맞아요. 그 다음 10의 자리 숫자가 50을 나타내지 않는 수라는 건 뭐예요? 여기 가운데 있는 숫자가 5가 되면 안 된다는 뜻이에요. 이렇게 분류를 해보자 라고 생각해 봅니다. 자 그럼 1단계부터 볼게요. 분류하려는 세 자릿수는 모두 몇 개다? 열 개다. 그런데 그 중에 10의 자리 숫자가 50을 나타내는 수 뭐라고요? 여기 가운데 5가 들어가는 수를 이 중에 찾으면 되잖아요. 첫 번째 253, 5 들어가고요. 그 다음 또 어디 있어요? 750 가운데 5가 들어가죠. 자 하나씩 적어봅시다. 그 다음 893 안 되고 459 가운데 5가 들어가요. 459 여기 있네. 그 다음 818 안 되고 안 되고 안 되고 152 가운데 5가 들어가요. 그래서 152 또 207, 464는 다 안 됩니다. 그래서 가의 들어갈 수가 몇 개예요? 하나, 둘, 셋, 넷. 네 개임으로 나의 들어갈 수는 몇 개일 것이다? 나의 들어갈 수는 전체 열 개 중에서 네 개를 빼니까 여섯 개입니다 라고 정리를 해줄 수 있는 거예요. 자 어떻게 푸는지 우리 친구들 잘 알겠죠? 그러면 이번에는 다음 내용으로 한번 넘어가 볼게요. 네 이번에는 분류한 결과를 어떻게 말하면 좋은지에 대한 이야기를 나누어 보도록 하겠습니다. 자 여기 이 친구가요. 자신이 좋아하는 운동 경기를 하나씩 적어주세요 라고 친구들에게 질문을 했어요. 아마도 이 운동회 때 어떤 운동 경기를 하면 좋을지 그렇게 학급회의를 통해서 정하는 그런 단계인 것 같아요. 그래서 친구들에게 이렇게 이야기를 했어. 그랬더니 우리 반 친구들 15명이 각각 좋아하는 것을 하나씩 적었습니다. 15명이 하나씩 적어서 15개가 적혀 있죠. 그 다음 할 일은 뭐예요? 이 중에서 어떤 운동 경기가 1등으로 우리 친구들이 가장 많이 좋아하는 운동 경기지라는 걸 찾아내려면 이걸 또 분류를 해봐야 되겠죠. 여기에 나와 있는 종류들을 하나씩 이렇게 적고 표로 정리를 해보니까 축구 6명, 야구 3명, 피고 2명, 달리기 4명이 나왔어요. 그러면 이거 제대로 분류한 게 맞는지 확인해 봐야 되겠죠. 어떻게 한다고요? 6 더하기 3 더하기 2 더하기 4를 했을 때 무엇이 나와야 돼요? 15가 나오면 분류가 잘 된 거예요. 한번 해볼게요. 6 더하기 3은 9, 더하기 2 하면 11, 더하기 4 하면 15. 그래서 아, 여기 우리 분류가 잘 됐네. 그러면 이제 뭐 해야 되는 거예요? 축구, 야구, 피고, 달리기 중에서 가장 많은 학생이 좋아하는 운동 경기는 무엇이다? 축구가 6, 6표로 가장 많이 받았죠. 그러니까 우리 이번 운동회 때 축구하면 재밌겠다, 축구합시다. 라고 이야기를 할 수 있는 거예요. 어떻게 하는지 알겠죠? 자, 그 다음 또 다른 예도 한번 볼게요. 이번에는 우리 반 대표 학생 한 명을 뽑는 상황이에요. 한번 볼까요? 여기 지금 4명의 친구가 후보로 나왔어. 대표가 되고 싶어하는 이 4명의 친구 중에 한 명의 이름을 종이에 적어주세요. 라고 선생님께서 말씀하셨어요. 그리고 나서 친구들이 자기가 대표가 됐으면 하는 친구의 이름을 각각 이렇게 적어서 쪽지를 이렇게 적어가지고 딱 냈겠죠? 그리고는 그 쪽지를 한 장 한 장씩 펴면서 어떤 친구에게 투표했는지를 하나씩 확인을 하고 있어요. 제일 먼저 어, 김지수 나왔네 한 표. 그 다음 어, 고에서 나왔네 여기 한 표. 그 다음 어, 박수민 나왔네 한 표. 그 다음 어, 김지수 또 나왔네 한 표. 이런 식으로 하나씩 하나씩 쪽지를 펴나가면서 각각이 몇 표 나왔는지 확인하고 있는 단계입니다. 이렇게 다 표시하고 나서 그 다음에는 어떻게 해야 돼요? 어, 몇 표씩 나왔는지 이제 숫자로 적어볼 수 있겠죠? 그래서 지수는 6표, 예선은 7표, 수민이는 4표, 현우는 3표 이렇게 나왔어요. 그러면 총 더했을 때 총 더했을 때 우리 반 인원수랑 맞는지도 확인해 봐야 되겠죠? 다 더하니까 얼마가 됐대요? 22였어요. 자, 그러면 우리 반이 만약에 20명이었다. 그런데 표 수를 다 더했더니 20표가 나왔어요. 그러면 빠진 사람 또는 뭐 잘못된 사람 없이 모두 잘 투표했다라고 볼 수 있겠죠? 그러면 아, 확인 다 됐으니까 이 중에 가장 많은 표를 얻은 예서가 우리 반 대표가 되었습니다. 라고 이야기를 할 수 있는 거예요. 우리 친구들 아마 학급에서 회장이나 반장이나 이런 거 뽑아봤다면 어떤 상황인지 이해가 될 것 같아요. 자, 그럼 이번에는 또 다른 거 한번 볼게요. 방금 이렇게 투표를 했는데 이런 경우가 있어요. 어떤 경우냐면요. 지수도 7표, 예서도 7표인 경우가 나와요. 가끔 하다 보면. 어, 그러면 선생님 이런 경우에는 둘 다 대표가 되나요? 둘 다 회장을 하나요? 이건 아니고요. 그럴 때는 이 두 사람만 후보로 해서 다시 재투표라는 것을 합니다. 자, 그러면 이제 후보가 두 명이 된 거죠. 자, 여러분 지수와 예서가 지금 표 수가 똑같았기 때문에 다시 투표를 해서 정해보도록 하겠습니다. 둘 중에 한 명에게 투표해 주세요. 라고 해서 다시 이제 투표한 결과를 쫙쫙쫙 적어본 거예요. 세면서 표시를 했더니 지수에게 8표, 예서에게 12표가 갔어요. 그러면 또 뭐 해야 돼요? 일단 확인해야지. 8표와 12표를 더하니까 20표가 됐네. 어, 우리 반 20명이 다 잘 투표한 게 맞네. 확인하고 나서 그럼 둘 중에 누구에게 더 표가 많이 갔나요? 예서에게 12표 더 많이 갔다. 그래서 우리 반 대표는 최종적으로 이렇게 두 번의 투표를 통해서 예서가 당선되었습니다. 이렇게 예서가 뽑혔습니다. 라고 이야기할 수 있는 거예요. 자, 그럼 이제 문제를 한번 풀어볼게요. 어떤 상황인지 한번 봅시다. 우산을 기준에 따라 분류해서 그 수를 세어보고 결과를 써보세요. 라고 했어요. 지금 여러 가지 색깔의 우산들이 있는데요. 1번 보니까요. 색깔에 따라 분류했다. 그렇죠? 빨간색, 파란색, 초록색 이라고 되어 있어요. 그러면 이 각각에 해당하는 우산의 수를 적어주면 되겠지. 어떻게 하면 돼요? 어떻게 하면 돼요? 이렇게 해도 돼요. 빨간색 하나니까 여기 하나. 그 다음 파란색 하나. 초록색 하나. 또 빨간색 하나. 파란색 하나. 빨간색 하나. 빨간색 하나. 파란색 하나. 초록색 하나. 빨간색 하나. 그 다음 파란색 하나. 초록색 하나. 이렇게 하니까 빨간색이 몇 개? 5개. 파란색은 4개. 초록색은 3개. 이런 식으로 정리를 하셔도 되고요. 또는 그냥 빨간색 먼저 세는 거예요. 빨간색 하나, 둘, 셋, 넷. 5개 해서 5. 그 다음 파란색 하나, 둘, 셋, 넷 해서 4. 초록색 하나, 둘, 셋 해서 3. 이건 우리 친구들이 편한 방법으로 해보세요. 다만, 다만 확인할 게 뭐라고요? 각각의 수를 다 더했을 때 전체 수가 되는지는 꼭 확인해 주셔야 돼요. 알겠죠? 자, 그럼 두 번째 문제 볼게요. 이 중에서 가장 많은 우산의 색깔은 뭐예요? 가장 많은 거. 방금 뭐라고 했어요? 5, 4, 3, 2였잖아요. 그러니까 가장 많은 것은 빨간색이에요. 빨간색. 빨간색. 그 다음 가장 적은 우산은 뭐예요? 5, 4, 3, 2니까 초록색이에요. 초록색. 이렇게 우리가 정리를 해볼 수 있다. 문제 어렵지 않죠? 자, 그 다음 문제 한번 볼게요. 다미는 8월에 간 학원을 달력에 정리했습니다. 물음에 답해보세요라고 했어요. 다미가 간 학원을 종류에 따라 분류하고 그 수를 세어보세요라고 했죠. 일단 피아노, 미술, 태권도, 영어가 있는데 하나씩 볼게요. 지금 세로로 보면 좀 편할 것 같죠? 일단 피아노부터 볼까요? 월요일 피아노, 피아노 두 개 있고요. 그 다음 두 번째 화요일 볼게요. 미술이 하나, 둘, 셋, 넷, 다섯. 다섯 있어서 하나, 둘, 셋, 넷, 다섯. 적어줬고요. 그 다음 세 번째 줄 없고, 없고. 그 다음 태권도 가봅니다. 태권도 하나, 둘, 셋, 넷, 네 개 해서 하나, 둘, 셋, 넷 표시해줬고요. 그 다음 마지막 줄 영어 있네요. 영어는 하나, 둘, 셋, 넷 해서 네 개 이렇게 표시해줄게요. 그러면 더 이상은 없죠. 그러면 간 횟수는 피아노는 둘, 미술은 다섯. 그 다음 태권도는 넷, 영어도 넷 이렇게 표시를 할 수 있겠습니다. 2, 5, 4, 4 됐죠? 그럼 그 다음 문제 볼게요. 다미가 8월에 가장 적게 간 학원이 어느 학원이에요? 2, 5, 4, 4였잖아요. 그러니까 피아노 학원이 되겠습니다. 피아노 학원. 그 다음 6번. 다미는 8월에 모두 몇 번 학원에 갔어요? 아까 몇 번이었죠? 2 더하기 5 더하기 4 더하기 4잖아요. 그러면 다 더해보면 이건 7이고 이거는 8이니까 총 15번. 그래서 15번입니다라고 적어주시면 되는 겁니다. 됐죠? 이렇게 결과를 가지고 우리가 내용을 좀 분석도 해보고 여러 가지 정리도 해볼 수 있다는 걸 같이 배워봤습니다. 자 이제 수외력을 완성해요. 대표용 1번 문제 같이 볼게요. 문구점에서 판매하는 필통의 길이를 재어보았대요. 기준에 따라 분류하고 어느 범위의 필통이 가장 많은지 구해보세요 라고 했어요. 일단 기준이 무엇인지 한번 보자. 필통의 길이를 범위를 나누어서 분류할 수 있습니다 라고 했어요. 첫 번째 범위는 16부터 18까지. 그 다음 두 번째 범위는 19부터 21까지. 세 번째 범위는 그럼 어떻게 해야 될까요? 21보다 하나 더 큰 22부터 24까지로 나눌 수 있겠죠. 이렇게 범위를 나눠 놓으면 예를 들면 여기 있는 17cm는 어디에 들어가요? 1번 여기에 들어가겠지. 16에서 18 사이. 그 다음에 20cm는 어디 들어가요? 여기 2번에 들어가겠죠. 19부터 21 사이. 그러면 세 번째 23은 어디 들어가요? 22부터 24 사이. 그러니까 3번에 들어가게 됩니다. 이런 식으로 분류 기준을 세울 수 있다는 거죠. 자 그러면 분류해서 직접 수를 세어 볼게요. 하나씩 볼게 17은 어디? 여기 16과 18 사이 1번에 넣고요. 그 다음 20은 어디 들어가요? 20은 여기 2번에 들어간다고 했고. 그 다음 23은 어디 들어가요? 3번에 들어가지. 24는 어디 들어가요? 여기 24도 3번에 들어가고요. 그 다음 19는 어디 들어가요? 19에서 21 사이 여기죠. 그 다음 18은 어디 들어간다? 18은 1번에 들어가요. 그 다음 19는 어디요? 19는 여기. 21은 어디 들어가요? 21은 여기. 22는요? 22는 3번에 들어가고. 16은 어디 들어가요? 1번에 들어가겠네. 이렇게 다 세어보니까 어떻게 돼요? 1번에 들어가는 필통수는 3. 그 다음 2번에 들어가는 수는 4. 3번에 들어가는 수는 3. 이렇게 해서 3, 4, 3이 됩니다. 그러면 이 셋 중에서 어디에 들어간 필통수가 가장 많아요? 그렇지 2번에 들어가는 필통수가 가장 많습니다. 라고 정리할 수 있는 거예요. 그 다음 하나만 더 확인해 보겠습니다. 젤리 20개를 맛과 모양을 기준으로 분류했대요. 딸기맛 젤리가 8개. 딸기맛 젤리가 8개. 곰돌이 모양 젤리가 13개 있는데 그 중 5개가 딸기맛이래요. 이때 애벌레 모양의 포도맛 젤리는 몇 개인지 구해보세요. 라고 했어요. 되게 어렵다. 그렇죠? 그러면 하나씩 한번 적어볼게요. 딸기맛 젤리가 8개래요. 그러면 여기에다가 8이라고 적어보자. 그 다음 곰돌이 모양 젤리가 13이래요. 곰돌이 모양은 여기 아래에 있는데 여기도 있고 여기도 있어요. 이 둘을 합쳤을 때 그게 13이라는 거잖아. 근데 그 중에 5개가 딸기맛이래요. 어? 딸기맛 곰돌이 젤리 여기. 그럼 여기에 5를 집어넣으면 되겠네. 그러면 13중에서 5를 뺀 나머지 8을 여기에 적어주면 되겠다. 맞아요? 곰돌이 모양 젤리는 모두 13이라고 했으니까. 그러면 이제 힌트가 다 나왔어. 어떻게 하면 될까요? 위에서부터 볼까? 젤리 20개 중에서 딸기맛이 8개라고 했으니까 포도맛은 나머지 12개가 될 거고 딸기맛 젤리 8개 중에 곰돌이 모양이 5개라고 했으니까 애벌레 모양은 나머지 3개가 될 거고 포도맛 젤리 12개 중에서 곰돌이 모양이 8개라고 했으니까 애벌레 모양은 4개가 되겠다. 그럼 이제 다 완성됐죠. 자 1단계부터 볼게요. 젤리는 모두 몇 개인데? 모두 20개인데 딸기맛 젤리가 8개이므로 포도맛 젤리는 12개입니다. 맞아요? 12개. 자 그다음 곰돌이 모양 젤리 13개 중에서 5개가 딸기맛이기 때문에 포도맛 젤리 중 곰돌이 모양은 몇 개이다? 8개입니다. 라고 정리를 해봤고요. 포도맛 젤리는 총 몇 개인데? 포도맛 젤리는 총 12개인데 그 중 몇 개가 곰돌이 모양이므로 8개가 곰돌이 모양이므로 애벌레 모양 포도맛 젤리는 4개입니다. 라고 이렇게 정리를 해주면 되겠습니다. 됐죠? 자 그러면 우리 오늘 꼭 기억할 거 다시 볼게요. 분류라는 건요. 기준에 따라 나누는 것이라고 했어요. 그래서 분류 기준이 달라지면 결과도 달라진다는 거 확인을 했고요. 분류하기 전과 후 낱말카드의 수 또는 어떤 카드의 수가 항상 같아야 된다는 거 확인해야 된다는 거 꼭 기억해 주세요. 알겠죠? 자 오늘 공부도 여기까지입니다. 친구들 분류에 대한 내용 굉장히 일상생활에서 많이 쓰이는 거니까 꼭 기억해 주시고요. 선생님은 다음 시간에 다시 돌아올게요. 오늘도 고생 많았어요. 다음 시간에 만나요. 안녕.\n",
      "05강3-2_기준에따라분류하기3-3_분류한결과말하기_초등수해력-도형·측정2단계.mp3에 대한 텍스트가 ./ebs_script/new/05강3-2_기준에따라분류하기3-3_분류한결과말하기_초등수해력-도형·측정2단계.txt로 저장되었습니다.\n",
      "Transcription for 05강길이와시간(2)_초등수해력-도형·측정3단계.mp3:\n",
      "안녕하세요. 이벤트 친구들 여러분의 찐찐쌤입니다. 자 이번 시간에는 우리가 함께하는 길이와 시간 두 번째 시간이에요. 우리 지난 시간에 cm 보다도 작은 단위를 공부했고 또 1m 보다도 큰 단위를 공부했습니다. 그래서 1cm 보다 더 짧은 길이를 나타낼 때는 밀리미터라는 단위를 사용했다는 것도 공부를 했었죠? 좋아요. 그러면 이번 시간의 미션은 바로바로 짜잔! 길이와 거리를 어림해 보는 거예요. 실제되고 어떤 물건의 길이를 잴 때 이제는 자로 정확하게 몇 cm, 몇 밀리미터야? 라고 이제 말할 수 있겠지만 항상 자로 잴 수는 없는 거잖아요. 그래서 한 몇 cm쯤 될까라는 거를 예상해 보는 거예요. 그리고 직접 길이를 재서 내가 어림한 길이와 정확한 길이를 비교해 보기도 할 겁니다. 좋아요. 자 출발해 보죠. 이미 배운 길이 어림하기 우리는 이미 약 몇 cm야? 라고 길이를 어림에서 나타낼 수 있었어요. 길이가 숫자가 적힌 눈금 사이에 있을 때는요 가까이 있는 쪽의 숫자를 읽으며 숫자 앞에 약을 붙여서 말합니다. 여기 나뭇잎의 길이를 잴려고 해요. 한쪽 끝을 눈금 0에 맞추고 다른 한쪽 끝을 봤더니 3, 4 사이에 있는데 어느 쪽에 더 가까워요? 4에도 가깝죠? 아 그렇다면 나뭇잎의 길이는 정확하진 않지만 4cm에 더 가까우니까 약 4cm라고 해요. 라고 어림할 수 있어요. 자 그리고 또 어림할 때는요 우리 친구들 이렇게 신체에 이런 손이나 손가락 마디 이런 것들이 이용할 수 있습니다. 선생님의 엄지손톱의 폭이 약 1cm쯤 되거든요. 그래서 나뭇잎을 가지고 폭이 이제 몇 번 지나면 나뭇잎의 길이가 되는지 해봤더니 하나, 둘, 셋, 네번이면 됐었어요. 그러면 이것도 약 4cm다라고 이렇게 어림할 수가 있는 거죠? 좋아요. 이렇게 어림하는 방법은 가까운 쪽으로 눈금을 읽어 주던지 아니면 내가 기준이 되는 단위를 생각해 가지고요 그것이 몇 번 이어진 길인지를 알아보면 되는 거예요. 자 그렇다면 이제는 우리가 cm 보다도 좀 더 작은 단위를 배웠으니까 새로 배울 길이를 어림하고 재워보기 몇 cm, 몇 mm로 한번 어림해 볼게요. 여기 예쁜 나뭇잎이 있습니다. 이 나뭇잎의 길이가 몇 mm일까요? 라고 어림해 보려고 합니다. 그러면 먼저 선생님 새끼손가락, 여기 새끼손가락 있죠? 이 새끼손가락의 길이를 댄 거예요. 그랬더니 한 약 정확하진 않겠지만 4cm쯤 됐었어요. 그래서 이 나뭇잎의 옆에다 이렇게 대봤더니 딱 새끼손가락 길이하고 비슷한 거예요. 그러면 나뭇잎의 길이는 약 4cm, 약 40mm로 어림할 수가 있겠구나. 자 이렇게 몸을 이용해서 어림해 봤습니다. 그리고 또 실제로 길이를 재봤어요. 한쪽 끝을 0에 맞추고 다른 한쪽 끝에 눈금을 읽었더니요 4cm 보다 지금 작은 눈금 2칸도 오른쪽으로 갔거든요. 그 말은 4cm 2mm가 된다. 아 정확한 길이는 바로 42mm구나. 나는 약 40mm다 라고 어림했거든요. 그런데 선생님 친구는요. 이 나뭇잎의 길이를 약 41mm로 어림한 거예요. 그랬을 때 선생님과 선생님 친구 중에 누가 더 정확하게 어림했을까요? 실제 길이는 42mm니까 좀 더 정확하게 어림한다는 것은 무슨 의미일까? 바로 실제 길이에 더 가깝게 어림한 사람을 말하는 거죠. 그래서 선생님보다 선생님 친구가 41mm이 42mm에 더 가깝잖아요. 그렇기 때문에 선생님 친구가 더 가깝게 어림했다 이렇게 비교할 수도 있답니다. 좋아요 그러면 우리 친구들 중요한 것은 이거예요. 알맞은 길이 단위를 잘 선택해서 표현하고 쓸 수 있어야 됩니다. 여기 버스가 있는데요. 우리 버스의 길이는 약 12mm. 그러면 단위 12mm일까요? 약 12cm일까요? 약 12m일까요? 버스는 여러 사람이 타고 이동하는 거잖아요. 자 그러면 우리가 12라는 수하고 함께 짝지어 보면 12mm라는 건 1cm보다 이만큼 2mm 더 긴 길인데요? 말도 안 되죠. 12cm도 한 이쯤 될 것 같아요. 아 그래서 12m가 되겠다 이것이 가장 알맞은 단위다 라는 걸 알 수 있습니다. 하지만 항상 m가 되는 건 아니에요. 만약에 1200으로 나왔다고 한다면은 바로 그때는 cm하고 짝지어 줘야 되는 것도 잊지 마세요. 자 그러면은 이번에는 usb 같은 경우는요. 긴 쪽의 길이를 한번 생각을 해볼게요. 긴 쪽의 길이를 약 42라고 표현을 했어요. 수를 잘 보세요. 자 42mm라는 것은 우리 한 4cm 보다 조금 더 긴 것 같은데 어 맞죠? 그리고 거의 usb 같은 경우에는 작은 물건이잖아요. 그러니까 바로 이 손가락 길이 정도 되니 네 42mm라고 나타내는 건 맞아요. 42cm, 42m 어때요? 너무 길죠? 자 그 다음 세탁기가 있어요. 세탁기의 높이를 나타내는데 약 90 보세요. 자 약 90mm 90mm는 9cm 입니다. 아니 새끼손가락이 4cm, 9cm 말이 안 되죠. 우리 인형놀이 할 때 그 세탁기만 몰라도 그죠? 자 그래서 아니고 90cm 우리 친구들 90cm 정도 되는 거는 내 키를 생각해 보세요. 자 우리 친구들 키가 보통 이제 1m 그러니까 백 몇십 몇 센티미터쯤 됐을 텐데 뭐 130cm쯤 된다고 했을 때 세탁기가 내 키보다는 작잖아요. 그렇죠? 자 그렇기 때문에 아 센티미터가 가장 적당하겠다. 90m는 아니 1m 뭐 이미 키가 2m인 사람만 생각해봐도 농구 선수들이 막 키가 2m 정도 되죠. 되게 키가 큰데 90m가 세탁기다? 말이 안 되죠. 자 그래서 알맞은 단위를 잘 짝 지어줄 수도 있어야 되겠습니다. 좋아요. 자 그럼 이번에는 거리를 어림해 보도록 할게요. 우리 친구 보세요. 양팔로 책상 사이의 거림을 어림해 봤어요. 한 책상에서 다른 책상까지 쭉 양팔을 벌려서 그 양팔 거리는 거리는 양팔 간격이니까 한 2m쯤 되겠다라고 어림을 했습니다. 물론 사람마다 양팔을 벌린 이 길이는 저마다 다르겠죠. 자 이 친구가 2m로 어림을 했는데 실제로 정확하게 줄자로 거리를 쟀더니 두 책상 사이의 거리가 1m90cm 였어요. 약 2m라는 거는 바로 몇 cm? 200cm가 되는 거죠. 그러니까 비슷하게 한 10cm 정도 차이로 어림을 했구나라는 것도 알 수가 있겠습니다. 이처럼 우리가 거리도 어림을 할 수가 있는데요. 자 지금 보세요. 새로 배우는 내용은 이렇게 연결이 되는 겁니다. 지도에서 거림을 어림해 보는 거예요. 실제로 집에서 학교까지 약 500m 라고 한다면 우리 집에서 지하철까지 또는 학교에서 지하철까지는 거리가 얼마나 될까를 생각할 수가 있겠죠. 지금 이렇게 점을 콩콩 같은 간격으로 찍어놨습니다. 그러면 한 칸 점과 점 사이의 거리가 약 500m 라면 예를 들어 집에서 지하철까지는 바로 몇 번 있어요? 500m가 하나, 둘, 셋, 네 번 이어진 길이라고 볼 수 있어요. 따라서 우리 집에서 부터 지하철역까지의 거리는 약 500m가 네 번 더해진 거죠? 그러면 일단은 거리를 계산을 했을 때 500m, 500m, 500m, 500m 그러면 2,000m가 되겠어요. 따라서 바로 약 2,000m가 되는 거고 이는 약 2km쯤 되겠다라는 것도 알 수가 있습니다. 그 뿐만 아니라 우리가 학교에서 지하철역까지도 여기서 약 2km쯤 되겠다라는 걸 어림해 봤으니까 학교에서 지하철역까지의 거리도 어림해 볼 수가 있겠죠. 지금 점과 점 사이의 거리가 약 500m 라면 하나, 둘, 셋, 세 번 이어진 길이랑 같아요. 여기서 봤을 때 그럼 거리는 바로 500m가 세 번 있으니까 1,500m 즉 약 1,500m는 약 1km, 500m쯤 되겠다라고 이렇게 거리도 어림해 볼 수가 있겠습니다. 좋아요 그러면 마찬가지 우리가 알맞은 거리 단위 선택하기 아까는 세탁기 이런 것들을 알아봤는데 이제는 거리로 볼게요. 기차역에서 마트까지의 거리는 약 500m가 됩니다. 그러니까 우리 친구들 기차역에서 마트까지의 거리 약 500m가 알맞겠고요. 그러면 기차역에서 도서관까지의 거리 기차역에서 도서관까지는 지금 약 500m가 몇 번, 세 번 이어졌죠? 그렇기 때문에 약 1,500m가 되거든요. 근데 약 1,500이라고 했으니까 알맞은 단위는 m가 알맞을 거예요. 그러면 기차역에서 체육관까지 여기서부터 여기까지입니다. 그럼 500m 하나, 둘, 셋, 넷, 네 번이니까 약 2,000m가 되겠네요. 그래서 약 2,000m가 되면서 m를 km로 바꾸면 2,000m는 2km니까 아, 약 2km이기도 해요. 그러면 2,000이냐 2냐에 따라서 우리가 m냐 km냐를 결정할 수 있겠죠? 약 2라고 나왔으니까 바로 km하고 짝지어주면 알맞겠다라는 것도 알 수 있습니다. 자, 그러면 우리 수혜력을 확인해 보도록 할게요. 길이를 어림하고 자로 재워보기 우리 친구들이 지금 이 교재에 나와 있는 걸로는 1cm가 어느 정도 될까? 내 몸에서 우리 1cm를 찾아갖고 한번 이렇게 어림을 해보세요. 보통 엄지, 손톱 정도 폭이 1cm 정도 선생님은 되더라고요. 그럼 우리 친구들도 정확하게 내 손톱 폭을 한번 재가지고 이 중에서 5개 중에서 어디가 1cm쯤 될까? 찾아보는 것도 좋을 것 같아요. 아니면 손가락 마디도 좋고요. 그래서 어림할 때는 어느 정도 될까라는 거를 찾아보면 여기서는 5cm로 어림했는데 내가 직접 자로 재떠니 5cm 4mm였다라는 거를 알 수가 있었어요. 그래서 어림한 길이와 자로 잰 지리를 비교했을 때 내가 실제 길이보다 좀 짧게 어림했구나 라는 것도 비교할 수 있겠죠? 그러면 우리 친구들은 직접 한번 자를 통해서 실제로 길이를 재보세요. 우리 친구들 교재에 나와 있는 길이로 봤을 때 선생님 보니까 1cm쯤 되는 것 같아요. 그래서 1, 2, 3, 4, 5, 6 한 6번쯤 되니까 한 6cm쯤 될까? 이렇게 어림을 했어요. 실제로 길이를 재떠니 한쪽 끝을 눈금 0에 맞춰야 되겠죠? 그리고 다른 한쪽이 가리키는 눈금을 읽어봤습니다. 그랬더니 6cm 2mm가 되는 걸 알 수 있었어요. 그러면 선생님도 음 살짝 자로 잰 길이보다 짧게 어림했구나라는 걸 알 수가 있겠죠? 우리 친구들 정확하게 자로 재는 방법 어떻게 해요? 한쪽 끝을 0에 맞추고 다른 한쪽 끝을 눈금에 맞춰주면 됩니다. 교재에 있는 길이 정확하게 한번 재보세요. 좋아요. 그러면 이번에는 알맞은 길이 단위 고르기 의자가 있는데 의자 높이는 약 68이라는 수로 표현됐네요. 68무엇일까? 밀리미터입니다. 68mm는 우리 친구들 6cm쯤 되는데 선생님 지금 계속 새끼손가락을 기준으로 생각하고 있죠? 새끼손가락이 4cm라면 6cm, 68mm라는 거는 6cm, 8mm가 되는데 말이 안 되죠. 의자 길이가 요정도 된다라는 건 그러면 cm는 어떨까요? 68cm가 되는 거는 10cm 정도를 우리 친구들 요정도라고 한번 해볼게요. 선생님이 딱 잿더니 요정도가 됐을 때 68이면 7번쯤 되니까 내가 의자에 앉았을 때 딱 높이가 맞을 것 같습니다. 그래서 cm 68m는 우리 친구들 선생님이 1m, 50cm라고 한다면 한 이 정도가 1m쯤 되는데 그게 68만큼 의자가 거인 나라 의자는 아니니까요. km는 당연히 더 아닙니다. 거리이기 때문에 따라서 cm가 가장 적당하다라는 거 골라 줄 수 있고요. 네모 안에 알맞은 단위를 찾아 동그라미 표하세요 라고 했어요. 털실이 있는데 털실의 두께를 재려고 합니다. 우리 친구들 털실 두께 어때요? 굉장히 얇잖아요. 그래서 약 4로 표현하려면 밀리미터가, 센티미터가, 미터가, 킬로미터가 이 중에서 뭐가 들어가야 돼요? 센티미터만 하더라도 이만큼? 털실의 두께가? 아니죠. 바로 이렇게 찝을 수 있는 두께이기 때문에 4mm가 가장 적당하다라는 걸 알 수가 있겠습니다. 그러니까 내가 이제 어떤 길이 정도 되는지 예상을 할 때는 딱 기준이 되는 거를 생각을 하는 거예요. 선생님 새끼손가락처럼 뭐 한 뺨의 길이를 생각해도 좋고요. 그래서 직접 단위를 넣어가지고 어느 정도 길이가 되는지를 한번 생각을 해보세요. 그럼 알맞은 단위를 쉽게 고를 수 있을 겁니다. 자 그러면 이제 수혜력을 높여볼까요? 2번 문제예요. 놀이기구 탑승 키 제한에 대한 안내문입니다. 네모 안에 들어갈 알맞은 단위를 써보세요 라고 했습니다. 넣었다 비행선. 지금 보니까 80에 여기 단위가 들어가야 되는데 80 무엇보다 커야 함 이라고 했어요. 우리 친구들 놀이기구 가면 뭐 몸무게 제한도 있고 키 제한도 있죠. 어떤 놀이기구는 자 키가 이만큼은 넘어야 탈 수 있다 라는 제한이 있는 경우도 있고 어떤 놀이기구는 키가 너무 작으면 이제 너무 크면 안 되니까 이만큼 아래로 키를 갖고 있는 사람들만 탈 수 있어요 라는 제안들이 있습니다. 여기서는 키가 80 무엇보다 작으면 성인 보호자가 함께 타야 이용할 수 있습니다. 라고 했는데 우리 친구들 그러면 이제 아이의 키 라고 생각하면 좋을 것 같은데 80 밀리미터? 아니 8cm인데 안 되겠죠? 밀리미터는 아닌 것 같고 자 그러면 cm는 어때요? 80cm는 아이들의 키를 나타내기에 적당하잖아요. 그래서 cm가 좋겠다. m는 80m. 너무 길어요 그죠? km 당연히 아니고요. 아 따라서 cm가 적당하겠구나. 네모 안에 알맞은 단위는 cm가 되겠습니다. 자 그러면 3번 문제 갈게요. 마찬가지로 여기서도 알맞은 길이를 골라서 문장을 완성해 보는 문제예요. 보기에는 약 5,000m 약 140km 약 200cm가 있습니다. 자 첫 번째 문장 줄넘기의 길이는 무엇입니다? 라고 했어요. 줄넘기의 길이가 약 5,000m 부터 생각해 볼까? 자 1,000m는 1km니까 약 5,000m는 약 5km가 되는 거죠. 아니 줄넘기의 길이가 이렇게 될 리가 있어요. 약 140km는 더 멉니다. 보통 서울에서 대전까지의 거리가 약 200km쯤 된다고 해요. 서울에서 부산까지의 거리가 약 400km쯤 된다고 생각을 하면 됩니다. 그러면 당연히 줄넘기의 길이는 약 200cm가 가장 적당하겠죠. 자 그 다음에 두 번째 여기 나왔네요. 서울에서 대전 사이의 거리는 이게 가장 적당한 게 어디겠어요? 약 5km라고 하기에는 너무 짧은 거리예요. 서울에서 대전은 차를 타더라도 교통상황에 따라 다르겠지만 기본적으로 2시간 정도 걸리니까요. 그렇기 때문에 약 140km이다 라는 게 가장 적당하다는 걸 알 수 있습니다. 자 그러면 우리 6번 문제 해결해 보자. 집에서 약 1km 떨어진 곳에 있는 장소는 어느 곳인가요? 라고 했어요. 지금 보니까 점을 이렇게 찍어가지고 거리를 나타내기 위해서 여기 점에서 여기 점까지 약 500m라고 나왔습니다. 그렇다면 약 1km? 우리 친구들 1km는 몇 미터예요? 1000m입니다. 그럼 1000m라는 거는 500m가 이제 두 번 있는 거리를 말하는 거죠. 그렇기 때문에 집에서 지금 점과 점을 한 칸이라고 본다면 몇 칸 떨어져 있는 곳을 찾으면 될까요? 그래요. 두 칸이 되겠죠? 이쪽으로는 여기 아무것도 없으니까 이렇게 이렇게 두 칸 떨어진 곳에 바로 문구점이 있습니다. 따라서 집에서 바로 문구점까지 약 500m, 약 500m 즉 약 1000m니까 약 1km쯤 떨어져 있다고 볼 수가 있겠죠. 따라서 정답은 문구점이 정답이 되겠습니다. 자 좋아요. 그럼 우리 7번 문제 해결해 볼게요. 다음은 우리나라의 대표적인 민요인 경기도 아리랑의 가사 중 일부 분의 일부입니다. 아리랑 아리랑 아라리오 아리랑 고개로 넘어간다 나를 버리고 가시는 님은 심리도 못 가서 발병난다 이런 노래도 있죠. 자 우리 친구들 노래 가사에 등장하는 리는 아주 오랜 옛날부터 쓰인 거리의 단위입니다. 조선시대에 1리는 약 400m 였습니다. 이때를 기준으로 3리는 약 몇 킬로미터 몇 미터 인가요? 라고 했어요. 자 보세요. 1리가 약 400m 였대요. 그러면 3리라는 것은 1리가 이렇게 3번 이어진 거리라고 보면 되는 거죠. 그래서 약 400m, 우리 약자 빼고 일단은 400m만 3번 더 해 볼게요. 400m 더하기 400m 더하기 400m 자 계산해 보면 400 더하기 400은 800 800에서 400을 더하면 1200m 입니다. 문제에서는요. 약 몇 킬로미터 몇 미터예요? 라고 물어봤어요. 그러니까 우리도 거기에 맞춰서 몇 킬로미터 몇 미터예요? 라고 답해 줘야 되겠죠. 그러면 우리 머릿속에 꾹 저장된 거 꺼내 볼게요. 1000m가 1km가 되는 거잖아요. 그래서 1000m와 200m의 합이기도 하니까 1km, 그 다음에 200m가 되겠습니다. 따라서 이때를 기준으로 3리는 약 1km, 200m로 나타낼 수 있구나라는 걸 알 수가 있습니다. 좋아요. 이렇게 해서 우리가 교과, 융합 문제까지 수혜력을 높여봤습니다. 자 그러면 이제는 수혜력을 완성해 보도록 할게요. 우리 친구들 이제 수혜력을 완성하는 첫 번째 유형에서는 실제로 내가 길이를 어림하고 그리고 정확하게 재볼 건데 아무래도 여기 칠판에 나와 있다 보니까 우리 친구들 교재에 있는 이 길이를 정확하게 자를 이용해서 재보세요. 선생님은 미리 우리 친구들하고 같이 공부할 거를 다 길이를 재 왔습니다. 자 그럼 수혜력을 완성해요. 대표 응용 첫 번째 길이를 어림하고 재워보기 연수하고 형규가 색연필의 길이를 어림했습니다. 자로 색연필의 실제 길이를 재어 보고 누가 더 잘 어림했는지 써보세요 라고 했어요. 지금 이렇게 색연필의 길이를 연수는 약 3cm로 어림했구요. 그 다음 현수가 어림한 길이는 약 6cm가 되는 걸 알 수 있답니다. 자 근데 실제로 색연필의 길이를 자로 재봤어요. 그랬더니 바로 여기 보세요. 한쪽 끝을 0에 맞춰져 있죠. 그 다음에 다른 한쪽 끝을 봤더니 바로 4를 가리키고 있네요. 아 그렇다면 정확하게 4cm가 된다라는 걸 알 수가 있습니다. 그러면 우리 연수하고 형규 중에 누가 더 잘 어림했다라고 볼 수 있을까요? 우리 친구들 잘 어림했다라는 것은 더 가깝게 어림했다 라는 뜻과도 같아요. 그러면 실제로 3, 6, 4 이렇게 세 수를 수직선 위에 선생님이 나타내 볼게요. 보세요 여기 이렇게 있을 때 1, 2, 3, 4, 5 그 다음에 여기가 6 이라고 해보죠. 자 그럼 연수가 어림한 길이는 바로 약 3cm 니까 이만큼 길이로 어림했구요. 연수가 어림한 길이, 그 다음에 형규는 6cm 니까 바로 6, 여기에서 형규가 어림한 길이에요. 실제로 색연필의 길이를 자로 재떠니 4cm 그러니까 4가 정확한 색연필의 길이가 되는 거죠. 그러면 각각 어림한 길이와 실제 길이를 수직선에 나타내 봤어요. 우리 친구들 4에 3이 가까워요 6이 가까워요? 당연히 3이 더 가깝죠? 그 말은 더 가까운 쪽이 더 어때요? 정확하게 어림했다라고 볼 수 있어요. 비교를 했을 때. 그러면 이렇게도 생각해 볼 수 있겠다. 차를 생각했을 때 4하고의 차는 4, 2, 3, 1이고 그 다음에 6하고의 차는 6, 2, 4, 2니까 아 가깝게 어림했다라는 것은 차가 작을수록 더 가깝게 어림했다라는구나 라는 걸로도 이해하면 되겠습니다. 우리 친구들 물론 길이지만 선생님이 수직선에서 어떤 것이 다 어림했는지 그 의미를 좀 다르게 한번 설명을 해줬구요. 자, 그러면 다시 돌아와서 색연필의 실제 길이는 3cm와 6cm 중 3cm에 더 가까움으로 누가 연수가 더 잘 어림했습니다 라는 걸 알 수 있어요. 자, 좋아요. 그럼 우리도 연습해 봐야 되겠죠? 지성이와 우빈이가 색연필의 길이를 어림했대요. 자로 색연필의 실제 길이를 재어 보고 누가 더 잘 어림했는지 써보세요 라고 했습니다. 우리 지성이가 어림한 길이는 약 3cm, 우빈이가 어림한 길이는 약 5cm 입니다. 자, 실제 색연필의 실제 길이를 재봤더니 한쪽 끝에 0으로 맞추고 다른 한쪽 끝이 가리키는 눈금을 읽어 봤더니요 6을 가리키고 있었어요. 아, 그래서 6cm가 되는구나 라는 걸 알 수 있었습니다. 그렇다면 누가 더 잘 어림했을까요? 자, 실제 길이 6cm하고 약 3cm, 약 5cm 바로 수만 봤을 때 우리가 6에 더 가까운 수는 3과 5 중에 어때요? 5가 되는 걸 알 수가 있겠죠. 5가 6에 더 가깝잖아요. 따라서 아, 바로 우빈이가 더 잘 어림했습니다. 라는 걸 알 수 있겠습니다. 자, 어떻게 누가 더 잘 어림했는지 이제 알겠죠? 좋아요. 그 다음 1-2번 볼게요. 지연이와 태연이가 사탕의 길이를 어림했습니다. 자로 사탕의 실제 길이를 재어 보고 누가 더 잘 어림했는지 써보세요 라고 했어요. 자, 사탕 한쪽 끝에서 다른 한쪽 끝까지 지연이가 어림한 길이는 한 6cm쯤 되겠는데? 라고 어림했고요. 태연이가 어림한 길이는 음, 나는 좀 더 정확하게 어림할 거야. 약 4cm보다 9mm쯤 더 긴 것 같아. 그래서 4cm, 9mm 라고 어림했어요. 자, 우리가 실제로 사탕의 길이를 직접 재봤습니다. 한쪽 끝에 이렇게 0을 맞추고요. 다른 한쪽 끝을 가리키는 눈금을 봤더니 5cm보다 작은 눈금, 바로 5칸이 더 간 쪽에 가리키고 있었어요. 아, 따라서 5cm보다 5mm 더 긴 길이구나. 그러니 5mm 라는 걸 알 수 있습니다. 그러면 지연이와 태연이가 태연이 중에서 누가 더 잘 어림했을까를 생각을 해 볼게요. 우리 친구들 이렇게 생각해 봐도 돼요. 자에서요, 자가 있다고 했을 때 눈금 0에서부터 1, 2, 3, 4, 5, 6 이렇게 있다고 한다면 지연이가 어림한 길이는 약 6cm쯤 되니까 한 이쯤으로 어림을 했어요. 여기가 지연이가 어림한 길이고, 태연이가 어림한 길이는 약 4cm, 9mm니까 얘를 10칸으로 나눈 것 중에 여기서부터 9칸을 간 거리니 5mm에 가깝게 이렇게 어림했다고 볼 수가 있겠죠. 그래서 태연이가 어림한 길이를 이렇게 나타내 볼게요. 자, 여기가 이제 자라고 생각해 보세요. 그런데 사탕의 실제 길이는 5cm, 5mm니까 딱 이 한가운데, 여기가 실제 사탕의 길이가 된답니다. 그렇다면 실제 길이하고 어느 쪽이 더 가까워요? 그렇죠. 지연이하고는 5mm 차이가 나는 거고, 태연이가 어림한 길이하고는 바로 5mm에다 한 칸 더, 6mm 차이가 나는 거거든요. 그렇기 때문에 지연이가 어림한 길이가 더 가깝구나. 즉, 누가 더 잘 어림했냐? 지연이가 더 잘 어림했다 라는 거 알 수가 있겠습니다. 자, 그러면 우리 1-3번 볼게요. 민호와 수호가 머리핀의 길이를 어림했습니다. 자로 머리핀의 실제 길이를 재어 보고 누가 더 잘 어림했는지 써보세요 라고 했어요. 머리핀에 보고 민호는 약 2cm쯤 되겠네 라고 어림했고요. 수호가 어림한 길이는 약 3cm쯤 되는 것 같아 라고 어림을 했습니다. 머리핀의 실제 길이를 재보니까 한쪽 끝을 0에 맞추고요. 다른 한쪽에 가리키는 눈금을 읽어 보니까 선생님이 미리 다 길이 재 왔거든요. 2cm, 8mm가 되는 걸 알았어요. 그렇다면 우리 민호와 수호 중에 누가 더 잘 어림했다고 볼 수 있을까요? 자, 여기서도 여기가 2, 여기가 3 이라고 한다면 약 2cm, 민호는 이 길이라고 어림을 했고요. 그 다음에 수호는 이 길이라고 어림을 했습니다. 그런데 실제 길이는 2cm, 8mm가 되기 때문에 여기를 이제 10칸으로 나눴다고 한다면 자, 하나, 둘, 셋, 넷, 다섯, 하나, 둘, 셋, 넷, 다섯 그러면 8칸이니까 여기가 이제 실제 길이가 되는 거죠. 그렇기 때문에 아, 바로 실제 길이에 더 가깝게 어림한 사람은 수호구나 라는 걸 알 수 있어요. 자, 수호하고는 여기 작은 눈금 2칸이니까 2mm 차이가 나게 수호는 어림을 했고요. 그 다음에 민호는요 8칸, 즉 약 8mm 차이가 나게 어림을 했다라고 볼 수가 있겠죠. 자, 따라서 정답 누가 더 어림을 잘했냐? 수호가 더 잘 어림했다 라는 걸 알 수 있겠습니다. 좋아요. 자, 이렇게 우리 수혜력 첫 번째 응용 문제 해결해봤고요. 두 번째 응용 문제는요, 거리 구하기 입니다. 우리 친구들 지하철 타본 적 있나요? 지하철을 타면 다음과 같이 노선도가 굉장히 여러 호선의 노선도가 나와 있는데요. 다음은 지하철 노선도 입니다. 기역역에서 디근역까지의 거리가 1km일 때, 지하철을 타고 미흡역에서 지은역까지 이동하는 거리는 몇 km 인가요? 단, 이웃하는 두 역 사이의 거리는 모두 같습니다 라고 했어요. 자, 조건에서 기역역에서 디근역까지의 거리가 1km다. 찾아볼까요? 노선도에서? 기역역 여기 있구요, 디근역 여기 있어요. 이렇게 1km구요. 그 다음에 우리는 미흡역에서 지은역까지. 미흡역이 여기 있네요. 지은역은 여기 있습니다. 자, 몇 km 이동해야 되는지 한번 알아볼게요. 단, 이웃하는 두 역 사이의 거리는 모두 같다라고 했으니까 어떻게 해결하면 좋을까? 1단계, 기역역에서 디근역까지의 거리는 1km 라고 나와 있고, 그리고 몇 개의 역을 가야 합니까? 보세요. 기역에서 ㄴ, 하나, ㄴ에서 ㄷ, 둘, 즉 두 개의 역을 가야 합니다. 그렇다면 두 개의 역을 갈 때 1km? 이곳을 기준으로 몇 개의 역을 가야 되는지 개수를 세보면 될 것 같아요. 자, 따라서 미흡역에서 지은역까지 세볼게요. 같이 소리 내서 세봅니다, 우리 친구들. 하나, 둘, 셋, 넷. 아, 네 개의 역을 가야 하는구나. 그러므로 두 역 사이의 거리는 몇 km? 자, 우리 친구들 두 개의 역을 가는데 1km 라면, 네 개의 역을 간다면 1km 두 번 가는 거랑 다름없죠. 그래서 2km 가 되겠습니다. 따라서 거리는 2km 입니다. 라는 걸 알아볼 수가 있어요. 자, 기본이 되는 우리 거리를 찾아서 비교해 주면서 답을 구해낼 수 있겠죠? 좋아요. 자, 그러면 우리 2-1번 문제. 다음은 지하철 노선도입니다. 기흥역에서 디근역까지의 거리가 1km일 때, 지하철을 타고 니은역에서 이응역까지 이동하는 거리는 몇 km인가요? 단, 이웃하는 두 역 사이의 거리는 모두 같습니다. 니은역에서 이응역까지. 한번 노선도에서 찾아볼게요. 이응이 어딘가, 니은이 어딘가 여기고요. 자, 이응역이 어딘가 맞더니 여기입니다. 맞아요? 자, 그러면 우리 기어응역에서 디근역까지는 몇 개의 역을 지나야 되는 거예요? 두 개의 역을 지나야 돼요. 우리 두 개의 역을 지날 때 1km를 이동하게 되는 거죠. 그렇다면 니은역에서 이응역까지 몇 개의 역을 지나는지 선생님하고 우리 노선도를 보면서 함께 큰 소리로 세어보는 거예요. 자, 시작! 하나, 둘, 셋, 넷, 다섯, 여섯. 아, 도착! 이렇게 여섯 개의 역을 지나야 하네요. 그러면 두 개의 역을 지날 때 1km, 여섯 개는 1km를 3번 이동한 거리와 같겠죠. 따라서 3km가 되는 걸 알 수 있습니다. 정답은 3km가 되겠습니다. 좋아요. 그 다음 문제! 자, 비슷한 유형이에요. 다음은 지하철 노선도입니다. 기어응역에서 디근역까지의 거리가 2km일 때 지하철을 타고 A역에서 시온역까지 이동하는 거리는 몇 km인가요? 단, 이웃하는 두 역 사이의 거리는 모두 같습니다. 라고 했는데요. 기억역에서 디근역까지의 거리를 찾아볼게요. 기억은 여기 있고요. 디근역은 여기 있습니다. 그러면 역 두 개를 지나는 거리가 2km라고 나와 있는 거죠. 자, 이제 지하철을 타고 A역 여기 있고요. 시옷은 어디 있어요? 시옷은 여기 있습니다. 그럼 몇 개의 역을 지나야 되는지 함께 세볼게요. 선생님하고 큰 소리로 세봅니다. 하나, 둘, 셋, 넷, 다섯. 다섯 개의 역을 지났네요. 그럼 우리가 두 개의 역을 지날 때 2km를 간다는 것은 바로 다섯 개의 역을 지나면 몇 km를 간다는 얘기일까? 우리 친구들 그러면 역과 역 사이의 거리가 1km라는 거 아니겠어요? 두 개를 지나면 2km니까 한 개를 지나면 바로 1km의 거리라는 걸 알 수 있어요. 그러니 다섯 개를 지나는 것은 1, 1, 1, 1, 1 이렇게 5km로 계산할 수가 있는 거죠. 따라서 정답은 5km가 정답이 되겠습니다. 좋아요. 이제 조금씩 어려워질 거예요. 하지만 우리가 기본적인 문제에서 조금 조금씩 확장을 하는 거기 때문에 우리 친구들이 팍 그렇게 어렵게 느껴지지는 않을 것 같습니다. 다음은 지하철 노선도입니다. C역에서 E역까지의 거리가 1km일 때 지하철을 타고 기역역에서 비역역까지 이동하는 거리는 몇 km 몇 m 인가요? 단, 이웃하는 두 역 사이의 거리는 모두 같습니다 라고 했어요. 일단 문제에서 주어진 C역 찾아볼까요? 어디 C역이 있지? 여기 있네요. 그리고 E역은요? 여기 있습니다. 그렇다면 C역에서부터 E역까지 가려면 역을 하나, 둘, 두 개를 지나야 해요. 아, 두 개를 지나는 거리가 1km구나 라는 거 딱 생각을 하고 자, 이제 기역역 찾아볼까요? 기역이 여기입니다. 비읍역까지, 비읍이 어디예요? 여기죠. 이동하려면 역을 몇 개 지나야 되는지 세 볼게요. 자, 큰 소리로 함께 시작합니다. 시작! 하나, 둘, 셋, 넷, 다섯 아하, 다섯 개를 지나야 하는구나. 그러면 두 개를 지날 때 1km라는 것은 우리 친구들, 여기서 딱 1km가 몇 번 지난 거리다가 안 나오죠? 그럼 어떻게 생각해야 될까? 1km는 1000m와 같아요. 그러면 한 개를 지날 때 바로 자, 500m 거리다 라는 걸 알 수 있어요. 왜 2km가 1000m니까요? 그럼 다섯 개라면 500m가 다섯 번 지난 거리라고 볼 수도 있어요. 그래서 2500m가 됩니다. 즉, 2000m, 500m, 2km, 500m로 계산할 수가 있겠죠? 따라서 정답은 2km, 500m가 답이 되겠습니다. 좋아요, 오늘의 마지막 문제. 이번에는, 다음은 지하철 노선도입니다. 기역역에서 디귿역까지의 거리가 1km일 때 지하철을 타고 디귿역에서 치읒역까지 이동하는 거리가 몇 km, 몇 m인가요? 단, 이웃하는 두 역사의 거리는 모두 같습니다. 그럼 기역역에서 디귿역까지 2개 역이니까 아, 2개의 1km라면 1개, 우리 앞에서 했던 거랑 똑같죠? 500m에요. 그러면 디귿에서 치읒까지는 같이 세볼게요. 하나, 둘, 셋, 넷, 다섯, 여섯, 일곱, 일곱 개네? 그럼 500을 7번 더해, 3500m네? 아, 그래서 3km, 500m라고 찾을 수가 있습니다. 기준이 되는 거리를 알면 쉽게 구할 수가 있었어요. 자, 오늘의 미션 클리어했나요? 한뼘, 양팔 간격, 키 등의 신체 길이와 비교해서 어림할 수 있고 기준이 되는 거리를 정하면 거리를 쉽게 어림할 수 있었습니다. 좋아요, 이렇게 해서 오늘도 선생님하고 열심히 공부한 우리 친구들 대견합니다. 모르는 거 있으면 게시판에 와주시고요. 다음 시간에 새로운 내용으로 다시 찾아올게요, 여러분. 안녕!\n",
      "05강길이와시간(2)_초등수해력-도형·측정3단계.mp3에 대한 텍스트가 ./ebs_script/new/05강길이와시간(2)_초등수해력-도형·측정3단계.txt로 저장되었습니다.\n",
      "Transcription for 06강4-1_시각알기4-2_시간알기_초등수해력-도형·측정2단계.mp3:\n",
      "친구들, 안녕하세요? 초중수애력 도형측정 2단계 정소연 선생님입니다. 자, 우리 오늘은요, 새로운 단언 내용 공부를 해 볼 거예요. 바로 4단언입니다. 오늘 배울 내용을 확인해 보면요, 시각, 그리고 시간이라는 말이 나와 있어요. 뭔가 비슷한 것 같은데 살짝 다른 표현이죠? 일단, 시각이라는 건요, 우리 전에 배운 적이 있을 거예요. 몇 시, 또는 몇 시 30분, 이런 것을 시각이라고 해요. 어, 지금 몇 시지? 지금 몇 시 몇 분이지? 할 때 시각이라는 표현을 쓰고요. 두 번째, 시간이라는 건요, 몇 시부터 몇 시까지, 몇 시간이나 걸려요? 얼마나 걸려요? 그래서 시각과 시간이라는 표현을 쓰고요. 몇 시부터 몇 시까지, 몇 시간이나 걸려요? 얼마나 걸려요? 그래서 시각과 시각의 그 사이, 얼마나를 뜻하는 개념이라고 생각해 주시면 좀 이해가 쉬울 것 같아요. 그러면요, 우리 일단 첫 번째, 시각에 대해서 이전에서 좀 더 발전된 내용으로 함께 알아보도록 하겠습니다. 출발해 볼게요. 엄마, 며칠 지나면 제 생일이에요? 음, 오늘이 4월 23일이니까 6일이 지나면 서아 생일이네. 우리 그날 생일 케이크 먹는 거죠? 그럼, 오후 6시쯤 모여서 케이크 먹으면 되겠다. 근데, 29일은 무슨 요일이에요? 달력을 한 번 보자. 이번 사단원에서는 생일 케이크를 먹으며 달력을 한 번 보자. 이번 사단원에서는 시각과 시간, 달력에 대해 배울 거예요. 1학년 때 배운 몇 시, 몇 시 30분을 먼저 떠올려 보세요. 자, 우리 일단 이미 알고 있는 것부터 확인해 볼게요. 자, 이렇게 생긴 시계 모양, 기억나죠? 이거 어떻게 읽는다고 했는지도 기억나나요? 일단 복습. 자, 이렇게 시계를 보면요. 긴 바늘이 있고 짧은 바늘이 있어요. 그리고 지금 보니까 긴 바늘이 무엇을 가리키고 있어요? 12를 가리키고 있고 짧은 바늘이 3을 가리키고 있어요. 이럴 때를 우리 뭐라고 읽는다고요? 셋이라고 읽는다고 했습니다. 기억나죠? 자, 그다음 하나 더 배웠어요. 뭐냐면 긴 바늘이 이번에는 6에 가 있는 거예요. 어? 긴 바늘이 6에 가 있다고? 그러면 몇 분이란 뜻이라고요? 30분이라는 뜻이라고요. 이때 몇 시 30분인지는 어떻게 한다고요? 짧은 바늘을 보면 알 수 있는데 이번에는 짧은 바늘이 정확하게 3 또는 4 이렇게 어떤 숫자를 탁 가리키고 있지 않고 3과 4 사이에 그 중간 어디쯤을 가리키고 있죠. 이럴 때를 우리 셋이 30분이라고 부른다고 했습니다. 그래서 1학년 때 몇 시 읽는 방법 그 다음 몇 시 30분 읽는 방법도 다 공부를 했어요. 그러면 이번에는 무엇을 배울지 한번 볼게요. 지금 이건 몇 시예요? 3시예요. 그렇죠? 3시인데 오른쪽으로 갔어. 어? 긴 바늘이 살짝 움직였어요. 긴 바늘이 살짝 오른쪽으로 돌아서 12가 아니라 이제 1을 가리키고 있습니다. 그리고 짧은 바늘도 아주 조금 움직여서 3에서 살짝 아래로 내려간 거 혹시 보이나요? 이때 이 시각을 우리는 뭐라고 읽으면 좋을까요? 한번 생각해 보세요. 일단 여기 12를 가리키고 있을 때는 그냥 몇 시라고만 읽었죠. 선생님이 힌트를 하나 줄게요. 그 다음에 이 긴 바늘이 6까지 이렇게 절반, 반 바퀴만큼 돌아갔을 때는 몇 분이라고 읽었어요. 30분이라고 읽었죠. 그러면 6을 가리켰을 때 30분이었다면 1을 가리켰을 때는 몇 분일까요? 한번 생각해 보세요. 3초! 하나, 둘, 셋! 생각해 봤어요. 선생님이 정답을 알려 줄게요. 일단 긴 바늘이 어떤 숫자를 가리키는지에 따라서 우리는 몇 분을 읽어낼 수 있는데요. 가장 쉽게 먼저 12를 가리킬 때는 그냥 0분이라고 했죠. 그래서 이 분을 읽지 않는다고 했어요. 그 다음 6을 가리킬 때는 30분이라고 읽는다고 했죠. 그러면 이런 규칙이 나와요. 긴 바늘이 가리키고 있는 숫자에다가 5를 곱해주면, 5를 곱해주면 해당하는 분이 나온다는 거예요. 6, 5, 30이잖아요. 그러면 이제 알겠다. 1을 가리키고 있다. 그러면 1에다가 뭘 곱한다고요? 5를 곱한다고 생각해 보세요. 1 곱하기 5는 얼마예요? 5잖아요. 그러니까 긴 바늘이 5를 가리키고 있을 때는 5분이겠네. 그럼 2를 가리키고 있으면 2에다가 또 5를 곱해요. 그러면 10분이겠네. 3을 가리키고 있으면 3에다가 5를 곱해요. 15분이겠네. 이런 식으로 긴 바늘이 가리키는 숫자가 1씩 늘어날 때마다 5를 곱해서 5분씩 지나간다고 생각해 주시면 됩니다. 그래서 한번 확인해 볼게요. 12를 가리킬 때는 0분이었는데, 그 다음 5분, 10분, 15분, 20분, 25분, 30분, 35분, 40분, 45분, 50분, 55분, 그 다음 12가 되면 다시 0분이 되는 겁니다. 그래서 이렇게 긴 바늘이 가리키는 숫자에 5를 곱하면 분을 확인할 수 있다. 이게 아주 중요한 핵심입니다. 그럼 오른쪽 한번 볼게요. 일단 짧은 바늘이 3과 4 사이에 있다. 그러니까 3시는 지나갔고 4시는 아직 되지 않은 상황이라 그랬죠? 그래서 3시 몇 분이라고 읽을 거예요. 그런데 몇 분은 어떻게 한다고요? 긴 바늘을 보면 된다고요. 긴 바늘이 1을 가리키고 있으니까 5분, 1 곱하기 5를 해서 5분이라고 읽어요. 그러면 2를 합쳐주면 3시 5분이에요 라고 읽어주면 되는 겁니다. 알겠죠? 그러면 깜짝 퀴즈! 긴 바늘이 8을 가리킨다. 몇 분이에요? 8에다가 5를 곱해서 바로 40분이에요 라고 읽으면 되는 거예요. 알겠죠? 5를 곱한다는 것만 기억해 주세요. 그러면 이거 한번 볼게요. 지금 이건 몇 시 몇 분인지 한번 확인해 봅시다. 지금 이건 몇 시 몇 분이에요? 7과 8 사이에 짧은 바늘이 있다. 그러니까 7시겠네. 맞아요? 7시. 그 다음 오른쪽은 뭐예요? 긴 바늘이 4를 가리키고 있는 걸 확인할 수 있죠. 그러면 긴 바늘이 가리키고 있는 4가 의미하는 것은 4에다가 5를 곱하면 4X5, 2X20. 그래서 7시 20분이 됩니다. 맞아요? 이건 7시 20분인데 오른쪽에 있는 시계를 볼게요. 이번에는 이 긴 바늘이 4를 가리키고 있는 게 아니라 조금 더 확대해서 보니까 4에서 작은 눈금으로 1칸, 2칸, 3칸만큼 더 간 것을 확인할 수 있어요. 여기에 있는 이 작은 눈금 1칸, 1칸은 1분이라고 생각하시면 돼요. 그래서 여기가 20분이라고 했죠? 20분에서 1분, 21분, 22분, 23분. 그래서 지금의 시각은 몇 시 몇 분이다? 7시는 그대로 두고요. 7과 8 사이에 짧은 바늘이 있으니까 7시는 그대로 두고 긴 바늘이 가리키고 있는 시각은 23분. 그래서 오른쪽의 시계는 7시 23분을 가리키고 있습니다. 라고 생각해 주시면 됩니다. 그래서 이렇게 보다 자세히 살펴볼 때는 어떻게 한다고요? 일단 긴 바늘이 가리키던 숫자 4를 먼저 읽고 그럼 20분이네? 그 다음에 여기에 있는 작은 눈금을 몇 칸 갔는지를 확인해서 각각을 1분씩으로 계산을 해주면 20, 21, 22, 23 이렇게 정리할 수 있다라는 거 기억을 해주세요. 그 다음 디지털식의 시각 읽는 건 이제 너무 쉬우니까 간단히만 확인하고 넘어갈게요. 이미 이건 알고 있죠? 10시라는 거. 그럼 오른쪽은 어떻게 읽을까요? 10시하고 오른쪽에 있는 두 개의 숫자는 36분을 의미한다는 거 알고 있을 거예요. 그래서 이것은 10시 36분입니다. 됐나요? 그 다음 이번에는요. 몇 분이 지났을 때 5시가 될까요? 라는 질문이에요. 지금 볼게요. 지금 이건 몇 시 몇 분이에요? 4시, 그 다음 10에 있으니까 10에다가 5를 곱해 주면 4시 50분이에요. 그럼 여기에서 몇 분이 지나야 5시가 될까? 5시가 되려면 어떻게 돼야 돼요? 보시면 긴 바늘이 지금 10에 있는데 12까지 올라가야 되죠. 12까지 가야 되고 여기 짧은 바늘은 5를 가리켜야 되잖아요. 자 여기 보세요. 여기에서 10에서 12까지 옮겨야 돼요. 그러면 큰 이 숫자로 11, 12 두 칸만큼 가면 되죠. 이 한 칸이 각각이 무엇을 의미한다고요? 5분을 의미한다고요. 그래서 5분, 5분 해서 어? 4시 50분 해서 10분 지나가면 무엇이 된다? 5시가 된다라고 정리를 할 수 있습니다. 그래서 이것을 거꾸로 표현하면 지금의 이 시각은 5시 되기 10분 전이에요. 라고도 표현할 수 있어요. 그래서 5시 10분 전이라고도 말합니다. 4시 50분과 같은 말은 5시 10분 전이에요. 자 그럼 이번에는 짧은 바늘의 위치 살펴보기 함께 볼게요. 지금 이건 몇 시 몇 분이에요? 4시, 4시, 4를 살짝 지나가 있죠. 그래서 4시, 그 다음 1을 살짝 지나가 있죠. 4시 5분에서 1분 더 가서 4시 6분입니다. 이렇게 읽으면 되고요. 4시 6분 그 다음 이 경우에는 몇 시 몇 분이에요? 4시 30분 이제 이거 읽을 수 있죠. 그 다음 이건 뭐예요? 4시 50분이 되기 1분 전이네. 그러니까 49분입니다. 자 모두 어떤 공통점이 있냐면 모두 4시 몇 분을 뜻해요. 4시, 4시, 4시인데 분에 따라서 6분, 30분, 49분에 따라서 짧은 바늘의 위치가 4에 좀 더 가까울 수도 있고 5에 좀 더 가까울 수도 있어요. 5시에 가까우면 가까울수록 점점점점점 5쪽으로 가까워지고 있다는 거 여러분 그걸 확인하는 내용입니다. 됐죠? 자 그 다음 이번에는 아까 배웠던 내용이에요. 다시 복습 긴바늘이 가리키는 숫자에다가 5를 곱해주면 현재의 몇 분인지 확인할 수 있다고 했죠. 예를 들면 이거 한번 보세요. 7시가 되기 5분 전이다. 무슨 말인지 알겠어요? 이게 긴바늘이 12를 딱 가리키면 7시가 되는데 그 전에 11까지밖에 안 갔네. 그러니까 이 숫자로는 한 칸만큼 떨어져 있네. 그러니까 5분 전이구나. 7시가 되기 5분 전이구나. 라고 확인을 해볼 수 있다는 거예요. 그러면 12에서 한 칸, 두 칸만큼 앞으로 오면 5분, 5분이니까 7시 되기 10분 전이라고 할 수 있고 그 다음 12에서 한 칸, 두 칸, 세 칸 오면 5분, 5분, 5분이니까 7시가 되기 15분 전. 그 다음 하나, 둘, 셋, 넷 칸 앞으로 오면 7시가 되기 20분 전이라고 이야기를 할 수 있다는 겁니다. 긴바늘이 가리키는 숫자를 이용해서 5분씩 뛰어세는 걸 앞으로도 할 수 있지만 이렇게 뒤로도 할 수 있다는 걸 같이 확인해봤습니다. 됐죠? 그럼 문제 함께 풀어볼게요. 유주는 8시에 집에서 출발해야 학교에 늦지 않게 갈 수 있대요. 8시 10분 전과 8시 5분 전에 휴대폰 알람을 맞추려고 한대요. 유주가 눌러야 하는 버튼을 모두 찾아주세요. 그러니까 8시 10분 전이라는 건 뭐예요? 8시 10분 전은 7시, 7시 몇 분이라는 거지? 7시 50분이라는 뜻이죠. 맞아요? 8시 10분 전이니까 그려보면 8시가 여기가 8이고 여기가 12라고 하면 8시 10분 전, 8시를 먼저 그려놓고 여기에서 10분 전이 되려면 어떻게 한다고요? 5분, 5분씩 앞으로 가면 된다고 그랬죠? 그래서 여기 11, 여기 10 했을 때 5분, 5분씩 뒤로 두 칸을 가주면 긴바늘이 여기를 가리켜야 된다. 긴바늘이 10을 가리킨다는 건 무슨 의미예요? 10 곱하기 5를 했을 때 50분이 된다는 거죠. 그래서 8시 10분 전은 7시 50분이라는 뜻입니다. 그렇죠? 그래서 여기에다가 동그라미. 그럼 8시 5분 전은 어떻게 해요? 12에서 여기 한 칸 앞으로 가면 되잖아요. 그러니까 11을 가리켰을 때 몇 분이에요? 11에다가 5를 곱하면 55분이죠. 그래서 7시 55분입니다라고 이렇게 두 가지의 표시를 해주시면 되겠습니다. 그다음 대표용용 1번 문제 볼게요. 왼쪽 시계의 시각에서 몇 분이 지나면 오른쪽 시계의 시각이 됩니다. 네모에 알맞은 수를 구해보세요라고 했어요. 일단 왼쪽 시계부터 볼게요. 이거 몇 시 몇 분이에요? 짧은 바늘은 9와 10 사이에 있고 긴바늘은 1을 가리키고 있기 때문에 9시 5분입니다. 맞아요. 그다음 오른쪽 시계는 어때요? 짧은 바늘이 9와 10 사이에 있고 긴바늘은 3을 가리키고 있죠. 그래서 9시 15분이에요. 맞나요? 그러면 네모 안에 알맞은 수는 뭐예요? 9시 5분에서 15분으로 가야 되잖아. 그러니까 5분에서 15분으로 가려면 몇 분을 더 가야 된다? 10분을 더 가야 된다. 그래서 네모 안에 알맞은 수는 10입니다. 라고 적어주시면 되겠습니다. 그다음 하나만 더 풀어볼게요. 민호와 친구들은 문구점에서 8시 10분에 만나기로 했대요. 8시 10분에 만나기로 했는데 민호와 친구들이 문구점에 온 시각이 다음과 같대요. 이때 늦게 온 친구가 누구일까요? 누가 늦었어? 자, 한번 볼게요. 일단 민호! 민호가 온 시각을 읽어볼까요? 지금 짧은 바늘은 8에 아직 가지 못했어요. 그렇죠? 8에 가기 직전이죠. 긴바늘은 10을 가리키고 있어요. 그러면 이거 몇 시 몇 분이에요? 7시 50분이죠. 맞아요. 12에서 한 칸, 두 칸 앞으로 갔으니까 10분 앞으로 당긴다고 생각하면 7시 50분이므로 만나기로 한 시각보다 먼저 왔어요. 그다음 2단계. 한비가 온 시각은 어때요? 지금 8시를 좀 지났고요. 8시를 좀 지났는데 긴바늘이 3을 가리키고 있다. 그러면 3 곱하기 5를 해서 3호 15가 되죠. 그래서 8시 15분에 도착했으므로 만나기로 한 시각보다 늦게 왔다는 걸 알 수 있고요. 그다음 3단계. 지아가 온 시각은 몇 시 몇 분이에요? 지금 8시 하고 긴바늘이 1을 가리키고 있으니까 2호 10에서 10분임으로 만나기로 한 시각에 딱 맞춰 왔어요. 그래서 늦게 온 친구 누구예요? 늦게 온 친구, 짜잔! 한비! 늦게 온 친구는 한비입니다. 라고 정리를 해주시면 되겠습니다. 이제 시각이 뭔지 알겠죠? 이번에는 시간에 대해서 함께 살펴볼게요. 이번에는 한 시간부터 함께 살펴보도록 하겠습니다. 한 시간, 우리 사실 예전에 배울 때 비슷한 개념을 이야기해 준 적이 있어요. 어떻게 했냐면 긴바늘이 여기 12에 있다가 또 한 바퀴 쭉 돌아서 다시 12로 간다. 그동안 짧은 바늘은 예를 들면 7에서 8로 이렇게 숫자 하나만큼 움직인다라는 이야기를 했어요. 자, 숫자 하나만큼 움직인다는 건 무슨 뜻이에요? 한 시간이라는 뜻입니다. 그래서 긴바늘이 이렇게 한 바퀴를 쭉 움직였을 때 우리는 한 시간 지났다라고 이야기를 해요. 그리고 그 한 시간이라는 것은 60분이라고도 합니다. 왜 60분인지 보세요. 선생님이 아까 이야기했죠. 12에서 1, 2, 3, 4 쭉 돌아가는 동안에 각각의 분을 읽는 방법은 여기 있는 이 숫자에다가 5를 곱하면 된다고 했어요. 그래서 5, 10, 15, 20 이렇게 쭉 가다 보면 한 바퀴를 다 돌았을 때 여기 55에서 다시 5간 더 가면 56, 57, 58, 59, 60이죠. 그래서 사실 한 바퀴를 쭉 다 돌면 긴바늘이 한 바퀴를 쭉 돌면 60분만큼 지났어요라고 이야기를 할 수 있는 거예요. 이해가 돼요? 그래서 60분, 긴바늘이 한 바퀴 돌았을 때 지난 시간은 60분이고 이것을 우리는 한 시간이라고 읽어주는 겁니다. 알겠죠? 이걸 꼭 기억을 해주세요. 자, 그다음 이번에는요. 긴바늘이 움직인 만큼 시간띠를 색칠해보는 연습을 할 거예요. 이렇게 생긴 걸 시간띠라고 하거든요. 이 시간띠는요. 표현하는 방법이 여러 가지가 있을 수 있는데 여기에서는 10분마다 한 칸으로 생각을 했어요. 자, 한번 볼게요. 여기 파란색 부분을 한번 표시해보자라고 하면요. 긴바늘이 12에 있다가 짠, 2까지 간 만큼 이만큼을 표현하고 싶어요. 이건 몇 분이라고요? 5, 5분, 10분. 그래서 10분만큼이죠. 그래서 10분만큼을 짜자잔 이렇게 색칠을 해준 겁니다. 알겠죠? 그러면 여기도 한번 볼게요. 여기 긴바늘이 6에 있을 때부터 10에 있을 때까지 이만큼의 시간을 표시해보세요라고 했어요. 그러면 어떻게 하면 돼요? 자, 이 한 칸이 몇 분? 5분이라 그랬잖아요. 그러니까 5분, 10분, 15분, 20분. 그래서 20분만큼을 색칠을 해주는 거예요. 그런데 색칠을 할 때 어디서부터? 30분에 해당하는 이 부분부터 50분에 해당하는 이 부분까지 짠, 이렇게 색칠을 하니까 두 칸 20분만큼 색칠이 되었네라고 정리를 해줄 수 있는 겁니다. 시간대에 색칠하는 거 어렵지 않죠? 그러면 이번에는 2시 20분부터 3시 40분까지 지난 시간을 구해볼게요. 2시 20분이 여기 있죠? 2시 20분이 왼쪽에 그려져 있고 그다음 3시 40분이 제일 오른쪽에 그려져 있어요. 그러면 지난 시간은 어떻게 구하냐? 일단 긴바늘이 한 바퀴를 돌았다고 생각해볼게요. 긴바늘이 한 바퀴를 먼저 짠, 돌았어. 그러면 어떻게 돼요? 긴바늘은 그대로 사이에 가있고 짧은 바늘만 1시간 지났으니까 3과 4 사이로 이동을 했겠죠? 맞아요. 이게 지금 3시 20분이 돼요. 그럼 여기까지는 어떻게 된 거예요? 1시간이 지난 거예요. 그런데 우린 3시 40분까지 가야 되잖아요. 그러니까 3시 20분에서 얼만큼 더 가요? 40분까지니까 한 칸, 두 칸, 세 칸, 네 칸만큼 더 가서 3시 40분을 만들어줬죠. 그 네 칸이란 건 뭐예요? 5 곱하기 4니까 20분만큼을 뜻하는 거예요. 그래서 이것을 표현을 해보면 2시 20분부터 출발해서 일단 1시간만큼 먼저 칠했어요. 그래서 3시 20분까지 색칠을 했고 그다음에 20분을 더 했어요. 두 칸 더 해서 40분까지 갔습니다. 이렇게 해보니까 몇 시간 몇 분이 지났다? 1, 2, 3, 4, 5, 6, 60분. 60분은 1시간이라고 그랬죠? 여기까지가 1시간. 그다음 하나, 둘 이니까 두 칸 20분만큼 지났다. 그래서 1시간 20분이 지났어요라고 말할 수 있는 겁니다. 그럼 이번에는 하루는 총 몇 시간인지 한번 볼게요. 우리 오전이나 오후라는 표현 들어본 적 있어요? 오전은요. 전날 밤 12시부터 전날밤 12시부터 낮 12시까지를 이야기해요. 그래서 지금 보면 똑같이 생겼죠? 똑같이 생겼네? 이걸 여러분 나중에 혹시 모형시계 같은 거 있으면 쭉 계속 돌려보세요. 돌리다 보면 긴바늘이 12바퀴 돌면 다시 밤 12시가 낮 12시가 되는 거예요. 이렇게 똑같은 모양이 돼요. 그리고 나서 또 12바퀴를 돌면 또다시 이렇게 12에 긴바늘과 짧은바늘이 가게 되는데 그래서 여기서부터 여기까지 오전이라고 합니다. 그다음 여기서부터 여기까지는 오후라고 해요. 그래서 오전 12시간 오전이 12시간 오후가 12시간 있어요. 그러면 합하면 하루는 12 더하기 12니까 24시간이 되는 겁니다. 하루는 24시간 그래서 1일은 24시간입니다. 라고 표현을 하는 거예요. 이것도 기억을 해주시면 되겠습니다. 그러면 문제를 함께 풀어볼게요. 11번부터 보겠습니다. 수회력을 높여요. 11번이에요. 서울에서 출발한 기차는 1시간 30분 후에 대구에 도착한대요. 서울에서 기차가 출발한 시각이 8시 20분 이때 출발했대요. 이때 기차가 가는 데 걸린 시간을 시간띠에 나타내서 대구에 도착하는 시각이 몇시 몇분인지 구해보세요. 라고 했습니다. 일단 출발했을 때 어디였다고요? 출발할 때 8시 20분 여기에서 출발했죠. 맞아요. 그런데 이것으로부터 얼만큼 간 거예요? 1시간 30분 같아요. 자, 그러면요. 1시간은 몇 분이랬죠? 1시간은 60분이죠. 1시간은 60분 30분은 30분 그럼 60분에다가 30분 더하면 총 몇 분이에요? 90분이 돼요. 90분 90분 그런데 아까 시간띠 한 칸은 몇 분이랬어요? 10분이랬죠. 그러니까 90분이 되려면 9칸 치려면 되겠네요. 하나, 둘, 셋, 넷, 다섯, 여섯, 일곱, 여덟, 아홉 칸 아홉 칸을 땅 칠하고 나니까 어디까지 갔어요? 여기까지 갔다. 몇시 몇분이에요? 9시 50분이 되는 거예요. 그렇죠? 9시 50분입니다. 라고 적어줄 수 있다는 겁니다. 시간띠를 가지고 계산하니까 훨씬 편리한 부분이 있죠. 자, 그다음 이번에는 12번 문제 같이 볼게요. 축구 경기는 전반전 45분, 후반전 45분이고 중간에 15분 동안 휴식 시간을 갖는데요. 4시에 전반전을 시작했을 때 경기 시간과 휴식 시간을 시간띠에 나타내서 우리가 구하려고 하는 게 뭐예요? 후반전이 끝난 시각이 몇시 몇분인지 구해보세요. 라고 했어요. 자, 그러면 일단 시작한 시각이 언제라고요? 4시에 시작했어. 자, 여기 스타트! 시작했어요. 자, 4시에 시작해서 다 끝났을 때가 언제까지인지 보면 전반전 45분, 후반전 45분, 중간 15분 쉬는 시간 다 더하면 몇분이에요? 이거 둘 더하면 90분에다가 105분이 됩니다. 맞아요. 그래서 총 105분 총 105분이면요. 이걸 10분 단위로 끊으면 10칸 하고 반 칸 더 색칠해야 되겠죠. 10칸, 10분짜리 10칸 하면 100분이잖아요. 거기에다가 5분이 남으니까 반 칸만큼만 더 색칠하면 돼요. 자, 그러면 10칸 색칠해볼까요? 하나, 둘, 셋, 넷, 다섯, 여섯, 일곱, 여덟, 아홉 10칸 하고 그다음에 반만큼 더 색칠 이만큼 색칠을 하면 여기 몇시 몇분이에요? 5시 40분과 50분 사이의 그 중간이죠. 그러니까 45분이 되는 거예요. 그래서 5시 45분입니다. 이렇게 적어주시면 된다는 거예요. 자, 그다음 문제도 한번 풀어볼게요. 대표용 1번 문제 같이 보겠습니다. 공연이 시작한 시각과 끝난 시각을 보고 공연 시간이 몇 시간 몇 분인지 구해보세요 라고 했어요. 자, 일단 시작한 시각부터 볼까요? 시작한 시각, 짧은 바늘 6과 7 사이에 가운데 있고 긴 바늘은 6에가 있다. 그러니까 몇 시 몇 분이에요? 6시 30분 그다음 끝난 시각은 어떻게 구해요? 짧은 바늘 7과 8 사이에 있고 긴 바늘은 8에 있다. 그러면 일단 7시 몇 분이다? 8에다가 5를 곱하니까 바로 40분입니다. 7시 40분입니다. 그러면 그 사이의 시간을 시간띠에 나타내주면 되겠다. 그렇죠? 6시 30분에 줄을 그어줄게요. 그다음 끝난 시각 7시 40분 줄 그어줄게요. 그러면 그 사이에 몇 칸 색칠할 수 있는지 세어보면 되겠다. 그렇죠? 하나, 둘, 셋, 넷, 다섯, 여섯, 일곱. 일곱 칸 색칠되었어요. 그러면 이거 몇 분이란 뜻이에요? 한 칸에 10분씩이니까 총 70분이 된다. 그렇죠? 그러면 이 70분을 가지고 몇 시간 몇 분인지로 바꿔서 표현해주면 되겠다. 자, 시간띠에 한 칸은 10분씩이기 때문에 공연 시간은 총 70분이 됩니다. 70분은 몇 시간 몇 분이에요? 자, 한 시간은 몇 분이라고? 60분이라고 그랬죠? 그러면 한 시간만큼 표현하고 나면 70분 중에 60분이 빠집니다. 그러면 몇 분 남아요? 10분이 남아요. 그래서 한 시간 10분과 같습니다라고 정리해주시면 되는 거예요. 됐죠? 자, 이제 하나만 더 풀고 오늘 수업 마칠게요. 대평령 2번입니다. 우리 학교에서는 40분 동안 수업을 하고 10분 동안 쉽니다. 3교시 수업이 끝나는 시간이 몇 시 몇 분인지 구해보세요라고 했어요. 1교시가 9시 10분에 시작해서 9시 50분까지 40분이네요. 그렇죠? 그 다음 2교시 10분 쉬었으니까 10시부터 시작해서 몇 시까지 갈까요? 10시 40분까지 가겠죠. 왜? 2교시도 40분 수업이니까요. 10시에서 시작해서 10시 40분에 끝나요. 그래서 1단계 2교시 수업이 끝나는 시각은 10시 40분입니다. 됐죠? 자, 그럼 3교시는 언제 시작해요? 10시 40분에서 10분 더 해요. 왜? 쉬는 시간이 10분이니까. 그래서 10시 50분에 시작하죠. 10시 50분에서 언제까지 가면 돼요? 10시 50분에서 40분만큼 더 가야 되죠. 일단 10시 50분에서 10분만큼 더 가면 11시가 되고요. 11시에서 나머지 30분만큼을 더 가면 11시 30분이 돼요. 이렇게 또 40분이 흘러가는 거죠. 자, 그러면 갑니다. 3교시 수업이 시작하는 시각은 2교시 수업이 끝나는 시각의 10분 뒤임으로 3교시 수업은 몇 시 몇 분? 10시 50분에 시작합니다. 그리고 여기에서부터 40분 더 가면 몇 시 몇 분? 11시 30분입니다. 그래서 우리가 구하려고 하는 3교시 수업이 끝나는 시각은 어디예요? 11시 30분입니다라고 계산을 해주시면 되는 겁니다. 이거 학교에서도 우리 친구들 되게 많이 사용하는 방법이니까 1교시 언제 하고 2교시 언제 하고 만약에 중간 놀이 시간이 이만큼 있으면 우리 3교시 4교시 끝났을 때는 도대체 몇 시 몇 분일까? 이런 것들 한번 직접 계산해 보시면 좋을 것 같아요. 알겠죠? 자, 여기까지 우리 오늘의 문제 풀이도 다 해봤고 나머지 문제는 스스로 풀어본다. 알겠죠? 자, 우리 친구들 오늘 꼭 기억해야 하는 거 정리하고 마치겠습니다. 오늘은 시각과 시간에 대해서 배웠어요. 시각은요, 지금 몇 시지? 지금 몇 시 몇 분이지? 를 의미하는 거라 그랬어요. 그리고 몇 시 몇 분도 읽을 수 있어야 되지만 몇 시 몇 분 전도 표현할 수 있어야 돼요. 알겠죠? 그 다음 시간. 한 시간은 60분이라는 거. 그 다음에 몇 시 몇 분부터 몇 시 몇 분까지 얼마나의 시간이 지났는지도 구할 수 있어야 되고요. 하루는 24시간이라는 것도 꼭 기억해 주세요. 알겠죠? 자, 우리 오늘 공부 여기까지 마무리하겠습니다. 시각과 시간, 일상생활에서 늘 함께하는 그런 습관 가져주셨으면 좋겠네요. 자, 그럼 선생님은 이제 오늘 여기서 인사하고 다음 시간에 뵐게요. 우리 친구들 고생 많았어요. 안녕!\n",
      "06강4-1_시각알기4-2_시간알기_초등수해력-도형·측정2단계.mp3에 대한 텍스트가 ./ebs_script/new/06강4-1_시각알기4-2_시간알기_초등수해력-도형·측정2단계.txt로 저장되었습니다.\n",
      "Transcription for 06강길이와시간(3)_초등수해력-도형·측정3단계.mp3:\n",
      "안녕하세요 EBS친구들 여러분의 친첸쌤입니다 우리 지난 시간까지 길이에 대한 공부를 했으니까요 이번 시간에는 바로 시간에 대해서 알아볼게요 시간은 일상생활에서 우리의 생활과 뗄래야 뗄 수가 없죠 우리 친구들 학교 몇 시까지 가나요 보통 9시 이렇게 우리가 이제 시간을 정해서 친구하고도 우리 3시에 만나자 어때요? 딱 정한 시간에 그대로 우리가 만나고 헤어지고 하기 때문에 굉장히 중요하답니다 자 그러면 이미 우리 친구들이 시간에 대해서 공부를 했겠지만요 오늘은 좀 더 자세한 이야기 한번 해보려고 해요 바로 오늘의 미션은 시간을 더하고 빼볼 겁니다 자 먼저 1초하고 60초에 대해서 알아볼 건데요 이미 우리는 시간의 단위를 몇 시 몇 분까지 배웠어요 자 시계를 보세요 바늘이 두 개가 있죠? 짧은 바늘과 긴 바늘이 있는데 긴 바늘이 가리키는 작은 눈꿈 한 칸은 바로 1분을 나타내죠 그래서 시계가 나타내는 시각을 읽어보면 바로 9시 12분이다 라는 걸 알 수가 있어요 이렇게 짧은 바늘은 시를 나타내고 긴 바늘은 분을 나타내죠 그래서 우리 친구들이 짧은 바늘은 그대로 가리키는 숫자를 읽어주면 되는데 긴 바늘은 분을 나타내기 때문에 작은 눈꿈 한 칸이 1분이었어요 그래서 1을 가리킨다고 해서 1분이 아니라 작은 눈꿈 5칸이 1이니까 바로 5분 이렇게 읽었었죠? 그럼 좋아요 이렇게 몇 시 몇 분까지 배웠으니까 어떻게 연결할 거냐면 이제 초 단위까지 알아볼 거예요 자 좀 더 자세한 시계가 여기 있습니다 바늘이 세 개나 되네요 짧은 바늘 긴 바늘 말고 바로 이렇게 어때요? 얇은 바늘이 하나 더 생겼어요 이 바늘을 바로 초 바늘이라고 합니다 그래서 몇 시 몇 분 이제는 몇 초까지 이렇게 나타낼 건데 시계에서 초 바늘이 12에서 어디로 움직이냐면 바로 1 방향으로 이렇게 움직여요 그래서 바늘이 움직이는 방향은 이쪽 방향이죠 우리가 바라봤을 때 오른쪽 방향입니다 그러면 우리 친구들 12에서 1까지 자세히 들여다보면 작은 눈꿈 5칸으로 나누어져 있다는 걸 알 수가 있어요 그러면 이때 이렇게 한 칸을 움직인 것을 바로 1초라고 합니다 그럼 1초는 굉장히 좀 짧은 시간이에요 우리가 똑딱 이렇게 얘기할 때 보통 약 1초 정도 된다고 합니다 그리고요 보통 운동 경기 같은 거 봤을 때는 정말 몇 초 사이로 1, 2등이 다 터지잖아요 그러니까 초도 굉장히 중요하거든요 우리가 일상에서는 뭐 신호등 길을 건널 때 보통 30초 정도 된다고 하고 또 삼각김밥 전자레인지에 따끈하게 데워 먹잖아요 그럴 때 보통 15초에서 20초 정도 데우면 따뜻해지잖아요 그래서 우리가 일상에서도 이제 초 단위로 많이 사용을 한답니다 자 그럼 좋아요 작은 눈꿈 한 칸이 1초에요 그렇다면 우리 한 바퀴를 다 도는 거는 작은 눈꿈 몇 칸으로 이루어졌어요 한 바퀴가? 60칸으로 이루어졌어요 그래서 60초 한 바퀴를 돌면요 바로 그것은 1분과 같은 시간이다 라는 걸 알 수가 있어요 아 그래서 초바늘이 작은 눈꿈 한 칸을 가는 동안 걸리는 시간은 1초 보통 똑딱 그리고 우리 친구들 시계를 잘 관찰을 해보면 초바늘이 쨔깍 쨔깍 쨔깍 이렇게 움직이는 거 확인할 수가 있어요 자 그리고 한 바퀴를 도는데 걸리는 시간은 60초 60초는 1분이다 라는 것도 우리 시계 보면서 관찰해서 우리 친구들이 이해해 주세요 좋아요 그러면 우리가 이제 초 단위까지 시각을 읽어줄 수 있어야 되는데 우리는 이미 짧은 바늘과 긴 바늘이 있을 때 몇 시 몇 분까지는 읽을 수 있죠 자 짧은 바늘은 시를 나타내니까 5하고 6 사이에 있으므로 5시가 되는 거고요 그리고 긴 바늘이 7을 가르키니까 35분 그래서 시계가 나타내는 시각은 5시 35분이 되겠죠 그럼 이제 우리는 초 단위까지 시각을 읽어줄 수 있어요 자 짧은 바늘 긴 바늘 초바늘을 확인합니다 그리고 몇 시 몇 분 그 뒤에 이제 몇 초까지 나타낼 수 있는데요 이렇게 시각을 읽을 때에는 10은 초의 순서로 읽어주면 됩니다 자 먼저 우리가 짧은 바늘 확인했더니 4하고 5 사이에 있어요 5를 향해 가고 있으니까 5시가 되겠고 4시죠 4시 4시 그 다음에 긴 바늘은 10을 가르키고 있습니다 그러니까 어때요 50분이 되겠고요 자 초바늘은요 2를 가르키고 있어요 우리 친구들 초바늘은 바로 이제 작은 녹음 한 칸이 1초니까 1은 그래요 5초로 나타낼 수 있습니다 자 4시 50분 1초라고 하면 돼요 안돼요? 안돼요 우리 친구들 긴 바늘 분을 읽을 때랑 마찬가지로 우리가 이제 1은 5분 5초 그 다음에 2는 10초 3은 15초 이렇게 읽어주면 됩니다 자 오이다운 곱생구구를 이용하면 되겠죠 좋아요 우리는 이제 몇 초까지 읽어줄 수 있으니까 자 이제 시간을 분과 초로 나타낼 수도 있어야 돼요 우리 친구들 90초는요 60초가 1분이라는 거 알고 있으니 60초와 30초의 합이기도 하죠 그래서 1분 30초로 나타낼 수 있고요 아니면 몇 분을 몇 초로 나타낼 수도 있어야 돼요 바로 2분은 1분은 60초니까요 2분은 1분이 두 번 지난 시간이죠 그래서 60초 60초 120초로 나타낼 수 있답니다 자 좋아요 이제는 우리가 받아 올림이 없는 시간에 더 쎈 계산을 할 수가 있는데요 자 이미 우리는 11시 10분에서 1시간 40분 후의 시각을 구해줄 수 있답니다 자 지금 현재 시각이 만약에 11시 10분이라고 해보세요 1시간 40분 후라면 몇 시 몇 분이 될까라는 건 더 해주면 되죠 그만큼 자 따라서 1시 10분에서 이렇게 지금 그림 한 칸이 10분이라고 했을 때 몇 칸 6칸이 1시간이고 4칸 더 가면 되기 때문에 아 12시 50분이다 라는 걸 알 수가 있습니다 자 이처럼 지금 시각으로부터 얼마큼 시간이 지났을 때 시각을 구할 때는 더 해주면 되는 거죠 그럼 우리가 초단위까지 공부를 했기 때문에 이제 초단위까지 계산이 가능해야 돼요 예를 들어서 8분 25초 더하기 1시간 10분을 계산할 때는 마찬가지 우리가 시간끼리 더하고 분 끼리 더했듯이 바로 이제 촛끼리 계산하면 됩니다 그래서 같은 단위끼리 계산을 해요 그래서 세로로 계산할 때 우리가 8분 25초 더하기 1시간 10분을 이렇게 쓰면 돼요 안돼요 아니 초하고 분을 이렇게 같이 한 줄로 쓰면 안 되겠죠 삐- 틀렸습니다 그래서 이렇게 8분 25초 더하기 1시간 10분 그래서 초와 분과 시간을 같은 줄로 식을 세우고 그리고 또 시는 식끼리 분은 분 끼리 초는 촛끼리 더해서 구합니다 그런데 시부터 계산하지 말고 우리 이제 초부터 받아 올림이 있을 수도 있기 때문에 초부터 계산을 해요 25초는 그냥 쭉 내려오죠 8분 10분 더하면 18분 그 다음에 1시간 아 그래서 1시간 18분 25초다 라는 걸 알 수 있습니다 자 이거는 이렇게 생각하면 되겠어요 8분 25초라는 건 시간이죠 그리고 1시간 10분이라는 것도 시간입니다 그러면 시간과 시간을 더하면 바로 시간이 되는 거죠 선생님이 여기다 어떤 이야기를 좀 꾸며본다면 선생님이 수영장을 가 가지고요 바로 수영하면 안 되잖아요 8분 25초 동안 열심히 준비 운동을 했어요 그리고 또 1시간 10분 동안 열심히 수영을 했습니다 그러면 선생님이 준비 운동 1시간부터 수영한 시간까지 얼마나 운동을 했느냐라는 걸 알아볼 때는 2시간을 더해서 선생님은 1시간 18분 25초 동안 운동했어요 이렇게 설명할 수 있는 거죠? 좋아요 자 그러면 우리 친구들 이렇게도 한번 시계에도 시각을 나타내면서도 알아볼 수 있어야 돼요 지금 왼쪽 시계가 가리키는 시각은 2와 3 사이에 짧은 바늘 있으니까 2시 그 다음에 25분 52초를 나타냅니다 근데 1시간 23분 2초 후에는 몇 시 몇 분 몇 초가 될까 지금 현재 시각으로부터 이만큼 시간이 흘렀어요 그러면 이 또한 마찬가지 이럴 때도 더 해줘야 되겠죠 그래서 같은 단위끼리 줄을 맞춰서 세로로 쓰고 그리고 초부터 52 더하기 2 54초 25분 23분 더하면 48분 2 더하기 1은 3 아 지금 여기 시각에서부터 시간을 더할 때는요 시각이 되는구나 라는 걸 알 수가 있습니다 그래서 3시 48분 54초에 이렇게 나타낼 수 있어야 돼요 왜 그러냐면 지금 시간이 지금 딱 선생님 3시인데요 3시부터 1시간 후는 그래요 4시 잖아요 4시간이 아니라 4시가 되는 거죠 마찬가지 그래서 시각에서 시간을 더하면 시각이 된다라는 것도 함께 참고해 주세요 자 그러면 이제 바다 울림이 있는 경우는 어떻게 하느냐 이미 우리는 시간을 더 쐬면서 7시 50분에서 10분 후의 시각을 구해봤습니다 아 계산할 때 7시 50분 더하기 10분 계산하면 7시 60분이다 이렇게 계산했나요? 아니죠 우리 60분은 1시간이기 때문에 바로 8시다 이렇게 표현을 했어요 즉 시계를 보세요 7시 50분에서 10분이니까 큰 이렇게 눈금 두 번 지나면 딱 8시가 되는 거죠 아 그래서 이렇게 60분이 1시간이라는 것을 이용해 가지고 바다 울림을 해줬습니다 그럼 이제 초까지 계산할 때도 우리 바다 울림 계산할 수 있는데요 예를 들어서 3시 40분 더하기 1시간 30분 시각이죠 지금이 딱 3시 40분인데 지금으로부터 1시간 30분 후에는 자 여기도 이야기를 이렇게 꾸며볼게요 지금 3시 40분인데 내가 딱 1시간 30분만 수학 공부 열심히 할 거야 그러면 수학 공부를 딱 끝내는 시각은 몇시 몇분일까 라는 것을 좀 알아보죠 자 그러면 우리 친구들 어떻게 계산해야 되냐 바로 분 단위끼리의 합이 만약에 60이 넘는 시간에 더 쐬면요 바다 울림을 해서 3시 40분 더하기 1시간 30분 하는데 40하고 30 더하면 70이죠 그리고 3 더하기 1은 4니까 4시 70분 이렇게 나타내는 거 아니고 60분을 1시간으로 바다 울림 해가지고 바로 70분에서 60분 시간으로 1 줘야 되죠 그리고 1 더하기 3 더하기 1이니까 5 즉 5시 10분으로 나타내는 것이 맞습니다 그럼 초 단위까지 있을 때도 마찬가지에요 60초가 1분이니까 초에서도 바다 울림 할 수 있어야 돼요 자 그럼 뺄쌤은 어떻게 할까 이미 우리는 시간의 뺄쌤 배웠습니다 예를 들어 4시에서 1시간 20분 전에 시각 구하기 자 내가 딱 수학 공부를 끝낸 시각이 4신 거예요 아 정말 공부 잘했다 라고 시계를 보니까 4시였어요 근데 1시간 20분 동안 공부를 했거든요 알람을 딱 맞춰놓고 그러면 몇 시에 수학 공부를 시작했을까 라는 이런 계산을 할 때 바로 지금 시각에서 1시간 20분 전이라면 1시간 20분을 빼주면 됩니다 그러면 시간을 봤을 때는 자 일단 1시간 20분 전이라는 건 1시간 전 거기에서 20분 더 전 이렇게 봐야 되는 거니까 우리가 1시간 전은 3시 3시에서 20분 전은 2시 40분 이렇게 알아볼 수가 있는 거죠 물론 이렇게 10분을 그림으로 알아봐도 상관없어요 자 그러면 우리 이제 뺄 때는 어떻게 하느냐 3시간 35분 40초에서 1시간 10초를 빼려고 합니다 이때도 같은 단위끼리 빼는 게 맞아요 그러니까 더쌤하고 방법은 똑같거든요 그럼 일단은 세로로 우리 선생님들이 잘 식을 세워야 되는데 3시간 35분 40초 빼기 1시간 10초 뭔가 이상해 뭔가 이상해 뭐가 이상하죠 초는 가장 오른쪽에 와야죠 그래서 삐 주를 잘못 맞췄어요 그러니 같은 단위끼리 계산을 못했습니다 중요한 거 신의 식끼리 분은 분 끼리 초는 촛끼리 빼서 구해야 된다는 거예요 그래서 이렇게 붙여서 쓰지 말고 초는 가장 오른쪽에 분이 없다면 비워두고요 그래서 1시간 10초 이렇게 씁니다 자 40 빼기 10은 30초 35분은 뺄 게 없으니까 그대로 내리고 3 빼기 1은 2 아 2시간 35분 30초구나 라고 계산하는 게 맞습니다 자 그러면 우리 받아내림이 있을 때는 어떻게 해야 되느냐 예를 들어서 3시 10분에서 25분 전에 시각을 구하려면 일단은 25분이니까 우리가 계산하기 편하게 10분 전 10분 전에 세시죠 그 다음에 25분이라는 건 10분 15분 합해야 25분이니까 10분 전에서 또 한 번 15분 전을 생각하면 되겠죠 그래서 3시 15분 전엔 바로 2시 45분 이다라는 거 알 수 있어요 자 이제 우리 계산으로 뺄셈 가능합니다 2시간 15분에서 1시간 10초를 빼려고 합니다 그러면 이 또한 마찬가지로 같은 단위끼리 빼야 되는데요 어 우리 단위를 맞춰서 쓰려면 어떻게 써야 되냐면 2시간 15분 일단 요게 이제 파악이 돼야 됩니다 빼기 1시간 10초를 여기다 쓰면 돼요 안 돼요 안 되죠 초니까 여기다 써야 돼요 어머 선생님 그 위에 아무것도 없는데요 그래도 초분식 오른쪽부터 이런 순서로 써야 됩니다 일단 이렇게 맞춰줘야 돼요 자 근데 우리 친구들 여기서 잠깐 우리가 자윤수의 뺄셈을 할 때는 예를 들어서 91 빼기 73 할 때요 이때 1에서 3 못 빼니까 받아내림 했죠 그래서 앞에 있는 9한테 9야 9야 나 1만 줘 그래 1 줄게 그럼 8이 되고 받을 때는 몇으로 받나요 10으로 받죠 그쵸 10으로 받습니다 그러면 여기도 받아내림 할 때 10으로 받아야 되나 아니에요 그게 차이점이에요 자윤수하고 달라요 자 이렇게 쓸 때는 세로로 잘 쓴 다음에 우리가 15분에서 받아내림 해가지고 100초로 받으면 된다 안 된다 삐 안 된다 1분을 100초로 받아내림 해서 계산하면 안 되고 1분은 60초니까 60초로 받아내림 해야 돼요 자 무슨 소리냐 우리가 10초는 어디서 뺄 데가 없잖아요 그러니 15분한테 야 나 1분만 줘 알았어 1분 줄게 그럼 14분이 되는 거고 그리고 받을 때는 초에서 받아야 되니까 1분은 60초 60초로 받아야 되는 거죠 그래서 60초에서 10초를 빼서 50초 그리고 14에서 그대로 뺄 게 없으니까 내려오고 2 빼기 1은 1 이렇게 1시간 14분 50초로 계산하는 겁니다 자 받아내림 할 때 주의해 주세요 바다올림도 마찬가지고요 자 그러면 우리 이제 수혜력 확인하는 시간이에요 일단 시계의 시각을 이제는 몇 시 몇 분이 아니라 몇 초까지 우리 멋지게 읽어줄 수 있습니다 먼저 짧은 바늘이 5와 6 사이에 있으니까 5시 그리고 긴 바늘은 바로 어때요 10을 가리키고 있으니까 50분 자 초바늘이 8을 가리키고 있으니까 40초가 되는 걸 알 수 있죠 자 그럼 3번 문제 우리도 도전해 볼까요 일단 짧은 바늘부터 볼게요 7과 8 사이에 있으니까 7시 그리고 긴 바늘은 6을 가리키고 있어요 살짝 지나가긴 했지만 바로 30분 그리고 초바늘 보세요 4를 가리키고 있습니다 이거 4초에요? 아니죠 작은 눈꼬물을 읽어줘야 되기 때문에 5에 대한 곱셈구구를 확인하면 돼요 4 곱하기 5 그럼 20이잖아요 그래서 우리 친구들 20초로 읽어줘야 된다는 거 꼭 주의해 주세요 좋아요 자 이제 시각도 읽어 봤고 그러면 거꾸로 시계에 맞게 시곗바늘을 그려 넣을 수도 있어야 되겠네요 예를 들어서 2시 45분 30초 같은 경우에는 우리가 짧은 바늘은 2와 3 사이에 그려지겠죠 그리고 30분이 넘었으니까 3에 조금 가깝게 그려주면 더 정확할 거예요 그리고 45분이니까 바로 어때요 여기에 9 그리고 30초이기 때문에 살짝 한 칸 더 가는 방향으로 진하게 그려주고 30초는 초바늘을 정확하게 6을 가리키게 그려주면 됩니다 자 우리도 그럼 도전 3시 10분 45초를 나타내 볼 겁니다 먼저 짧은 바늘은 3을 가리키고 있어요 3에서 살짝 지나갔죠 그러면 10분 45초니까 10분은 어때요 긴 바늘을 2를 향해서 45초니까 바로 이제 11분에 가깝게 살짝 이렇게 가운데 쯤으로 그려 볼게요 그리고 45초니까요 우리 초반을 어디에 그려야 돼요 맞아요 바로 9를 가리키게 그려주면 되겠습니다 길게 초반을 이렇게 자 우리 친구들 자를 대고 조금 반듯하게 그려 보세요 자 그러면 이제 시간을 더해 보도록 하죠 3시간 36분 55초 더하기 1시간 30분 30초는 시간과 시간을 더하면 시간입니다 그래서 초 분 시 순서로 더해주되 만약에 더한 합이 60이거나 60이 보다 크면 받아 올림을 해줍니다 55 더하기 30은 어때요 85초죠 85초에서 60초는 1분으로 그 다음에 나머지 25초를 써 주고요 1 36 30 더하면 얼마가 되는 거예요 37분이죠 67분입니다 그러면 60분은 시간으로 주고 나머지 7분만 써줍니다 그리고 1 더하기 3 더하기 1 그래서 5시간 7분 25초로 계산하는 게 맞아요 자 그럼 우리도 도전 네모하는 알맞은 수를 써놓으세요 라고 했습니다 3시간 14분 52초 더하기 5시간 41분 47초 자 일단 초 계산부터 해 볼게요 먼저 52 더하기 47 계산하면요 2 더하기 7은 9 5 더하기 4는 9에요 99초 입니다 근데 99초라고 쓰면 돼요 안 되죠 우리 99초는 바로 60초 하고 그 다음에 39초 합이기도 해요 그래서 이제 60초는 1분으로 이렇게 받아 올림 하고요 그 다음에 39초만 써줍니다 자 그럼 1 더하기 14 더하기 41 계산하면 1 더하기 14는 15 여기다가 41을 더하면 6 5 그래서 이제 56분이 되겠죠 받아 올림 안 해도 되겠네요 그 다음 3 더하기 5는 8 그래서 8시간 56분 39초로 계산할 수 있어요 좋아요 자 그럼 뺄 셈은요 마찬가지 같은 단위끼리 빼죠 이때 뺄 수 없으면 받아 내림을 하는데 60 1분은 60초 1시간은 60분으로 받아 내림 합니다 자 26에서 17 빼면 9초 25에서 40을 뺄 수 없으니까 받아 내림해서 1시간을 60분으로 받아 85에서 40을 빼서 45분 4 빼기 2는 2 2시간 45분 9초로 계산할 수 있어요 자 우리도 도전 11번 2시간 36분 45초 빼기 1시간 11분 27초 계산할게요 먼저 촛끼를 빼면 45에서 27 뺄 수 있죠 자 받아 내림해서 이렇게 뺄 때는 우리 친구들 여기서는 자연소에 뺄 셈하고 똑같아요 그래서 10으로 받아 내림해서 15에서 7 빼면 8 3 빼기 2는 1 자 18초 계산했고 36 빼기 11 계산하면 5 3 빼기 1은 2 25분 2 빼기 1은 1 1시간 25분 18초가 되는 걸 알 수 있습니다 좋아요 자 이제 우리 수혜력도 확인했겠다 시간에 관련돼서는 우리가 일상에서는 시간을 빼고 생활할 수가 없기 때문에 굉장히 여러가지 이야기도 이야기로 문제가 나온답니다 자 그중에 4번 볼게요 다음은 호영이와 친구들의 100미터 수영 기록입니다 기록이 가장 빠른 친구의 이름을 써보세요 라고 했어요 운동 경기마다 이렇게 시간이 많이 걸린 사람이 기록이 좋다 라고 할 수도 있고 적게 걸린 사람이 기록이 좋다 라고 할 수도 있어요 그럼 지금 수영 기록이기 때문에 시작에서부터 어때요 빨리 오는 친구 그러니까 시간이 덜 걸린 친구가 기록이 좋다라고 할 수가 있겠죠 근데 105초 1분 10초 115초 지금 초로 나와 있고 몇 분 몇 초로 나왔으니까 비교하기 불편해요 그래서 우리 시간을 비교하려면요 단위를 맞춰주는 게 좋답니다 자 모두 초초되어 있으니까 우리 민수의 기록만 초로 바꿔볼게요 앞에서 연습했죠 1분이라는 건 60초 그럼 60초보다 10초가 더 지난 시간이니 70초로 말이에요 따라서 70 가장 짧은 시간이고 그 다음에 105초 그 다음 115초 이렇게 이제 비교를 했습니다 기록이 가장 빠른 친구 누구예요 70초로 민수가 되겠네요 그래서 우리 친구 이름 민수가 답이 되겠습니다 좋아요 자 이제 7번 수빈이는 영화관에서 2시 30분부터 1시간 45분 동안 상영하는 영화를 보았습니다 영화가 끝난 시각을 시계에 나타내 보세요 라고 했어요 우리 친구들 그러면 딱 영화가 시작하는 시각이 2시 30분이죠 여기서 영화가 상영하는 시간은 1시간 45분이니까 그만큼 어때요 더해야 됩니다 그래서 세로로 분과 시 단위를 맞춰 써주고 더해 볼게요 30 더하기 45는 얼마예요 75예요 75분은 우리 친구들 여기서 60분을 덜어내서 받아 올림하고 나머지는 15분이니까 15분 그리고 1 더하기 2 더하기 1은 4 그래서 4시 15분이 되겠습니다 자 그러면 영화 끝난 시각 나타내 볼게요 우리 4시니까 15분 4와 5 사이에서 살짝 진하게 짧은 바늘 그려주고 긴 바늘은 15분이기 때문에 3을 향하게 긴 바늘을 그려주면 되겠습니다 좋아요 시간의 더스의 힘을 이용해서 문제 해결할 수 있고요 자 9번 마나톤 대회에 참가한 수정이가 결승점에 도착하여 시계를 보니 다음과 같았어요 마나톤을 시작하여 결승점까지 뛰는데 1시간 20분 55초가 걸렸대요 자 문제 마나톤을 시작한 시각은 몇시 몇분 몇초인가요 그럼 지금 이 시각은 끝난 시각이죠 자 일단 마나톤이 끝난 시각을 볼게요 짧은 바늘부터 볼까 4와 5 사이에 있으니까 4시 긴 바늘은 9를 가리키고 있어요 그래서 45분 그리고 초바늘은 6을 가리키고 있으니까 30초가 됩니다 그러면 지금 마나톤 뛰는데 1시간 20분 55초가 걸렸으니까 시작한 시각은 바로 끝난 시각으로부터 1시간 20분 55초 전이잖아요 그렇기 때문에 시작한 시각을 구하려면 끝난 시각 4시 45분 30초에서 마나톤 하는데 걸린 시간 1시간 20분 55초는 어떻게 줘요 빼줘야 되겠죠 왜 전이니까 자 계산해 볼게요 일단 초에서 계산 가능한가 안되네 그러면 받아내림 분아 분아 분아 나 1분만 줘 그래 난 44분 되고 받을 때는 60초로 받습니다 그럼 90에서 55를 빼주면 되는 거죠 그래서 5 그 다음에 3 35초 자 44 빼기 20 가능해요 24분 그리고 4 빼기 1은 3 이렇게 되네요 아 시각에서 시간을 빼면 시각이죠 따라서 3시 24분 35초에 정확하게 마라톤이 시작했구나 라는 거 알 수 있습니다 좋아요 자 그러면 11번 우리 실생활 활용 문제 볼게요 이렇게 버스나 기차도 다음과 같이 이런 출발하는 시각이 나와 있는 경우가 굉장히 많죠 천안터미널에서 서울 남부터미널로 가는 CF버스 시간표래요 천안터미널에서 오전 11시 50분에 출발하는 버스를 탄다면 서울 남부터미널에는 오후 몇 시에 도착하는지 구해보세요 라고 했어요 지금 출발은 천안 도착지는 서울 남부 그리고 출발시각이 나왔는데 우리 지금 문제에 등장하는 친구가 오전 11시 50분에 출발하는 버스를 탄다 여기 있죠 11 땡땡 50 이게 11시 50분이니까 자 그리고 소요시간을 봤더니 1시간 10분이 걸린대요 그러면 도착하는 시각은 11시 50분으로부터 1시간 10분이 지난 시각이 되는 거죠 자 더 해볼게요 11시 50분 더하기 오전입니다 오전 1시간 10분 50분하고 10분 더하면 60분입니다 근데 60분은 우리 바다 울림 해주고요 1 더하기 11 더하기 1 그럼 13시가 되는데 우리 친구들 13시는 오후 1시이기도 하죠 그래서 바로 12를 빼면 이제 오후 1시가 되는 걸 알 수 있네요 자 따라서 정답은 오후 1시로 계산할 수 있습니다 좋아요 이제 교과용어 문제 볼까요 조선시대에는 하루를 12시즌으로 나누어 시간을 표현했다고 해요 1시즌은 지금의 2시간과 같습니다 또한 분을 읽을 때는 각을 사용했습니다 1각은 지금의 15분쯤 됩니다 양부일부는 조선세종대왕이 시즌과 각을 고려하여 선을 그어 만든 해시계입니다 우리 친구들 해시계 굉장히 많이 봤죠 자 그럴 때 2시즌 2각은 약 몇 시간 몇 분인가요? 라고 했어요 일단은 1시즌이 지금의 2시간과 같다고 그랬으니까 2시즌은 2시간 2시간 4시간이 되겠고 그리고 1각은 보세요 지금의 15분쯤 된다 라고 했으니까 우리 2각은 바로 15분 15분 30분쯤 될 거예요 그러니 약 몇 시간 몇 분이냐 라고 했으니까 아 약 4시간 30분쯤 되겠다 이것이 정답이 되겠죠 좋아요 자 그럼 이제 수혜력 높여봤으니까 와우 우리 친구들 수혜력 완성하는 지금 이 실력까지 왔습니다 자 선생님하고 첫 번째 대표용용 문제 볼게요 걸린 시간 구하기 버스 승차권을 보고 새샘마을에서 한뜰마을로 가는 데 걸리는 시간은 몇 분인지 구해보세요 라고 했어요 지금 보니까 새샘마을에 7시 20분에 출발을 해서 한뜰마을에 9시 40분에 도착을 한대요 그럼 걸리는 시간은 바로 도착 시각에서 출발 시각을 빼주면 되겠죠 즉 9시 40분에서 7시 20분을 빼주면 됩니다 그럼 40분에서 20분 빼면 20분 9 빼기 7은 2 아 2시간 20분이 걸린 거구나 라는 걸 알 수 있어요 자 따라서 1시간은 60분이기 때문에 우리 친구들 2시간 지금 20분을 몇 분이야 라고 물어봤으니까 몇 분이에요 라고 답해야 되겠죠 그래서 몇 시간 몇 분으로 답이 계산이 됐지만 당연히 분으로 바꿔줘야 돼요 그러면 2시간 20분은 몇 분하고 똑같아요 우리 친구들 2시간은 60분 두 번 있으니까 120분과 같아요 그럼 120분에다가 20분 더하면 140분이 되는 거죠 따라서 새샘마을에서 한뜰마을로 가는 데 걸리는 시간은 140분이다 라는 걸 알 수 있답니다 좋아요 그럼 우리도 도전 버스 승차권을 보고 한변마을에서 해들마을로 가는 데 걸리는 시간은 몇 분인지 구해보세요 라고 했어요 자 지금 출발시각 도착시각 나왔으니까 도착시각이 12시 20분이죠 여기에서 출발시각 9시 10분을 빼볼게요 20 빼기 10은 10 12에서 9를 빼면 3 시간입니다 3시간 10분이에요 그러면 1시간은 60분이니까 3시간은 그렇죠 180분이고요 여기에다가 10분을 더하면 190분으로 계산이 되겠어요 아하 따라서 몇 분이야 라고 물어봤으니까 우리가 몇 분 190분이에요 라고 답해줘야 되겠습니다 만약에 몇 시간 몇 분이에요 라고 한다면 그냥 3시간 10분이에요 라고 답하면 돼요 좋아요 자 이제 비슷한 문제 버스 승차권을 보고 소담마을에서 누리마을로 가는 데 걸리는 시간은 몇 분인지 구해보세요 그럼 이번에 소담마을 8시 50분 출발 누리마을은 15시 10분이에요 5라는 얘기죠 11을 빼면 바로 3시 10분이란 얘기입니다 그럼 우리 계산할 때 그대로 그냥 15시 10분으로 계산해줘도 돼요 어차피 뺄 거니까요 그러면 분 뺄 수 없네 받아내림 1시간만 주세요 그래 줄게 60분으로 받아요 70에서 50을 빼면 20 14에서 8을 빼면 6 그래서 6시간 20분이 되는 거죠 그러면 6시간은 60분 6번 있으면 되니까 360분이고 여기에다 20분을 더해보면 바로 380분으로 계산이 되겠습니다 아하 따라서 380분이 걸려요 라는 걸 알 수가 있겠어요 좋아요 자 그럼 이번에는 버스 승차권을 보고 어우 다른 나라에요 파리에서 브레셀로 가는 데 걸리는 시간은 몇 시간 몇 분인지 구해보세요 라고 했습니다 와 제일 어려운 문제 파리에서 20시 45분이라는 거는 오후 8시 45분이라는 거죠 그리고 브레셀은 지금 00시 40분이라는 건 뭐겠어요 자정이에요 자정 밤 12시 40분이란 얘기입니다 아니 그러면 얼마나 걸렸는지 어떻게 알지 우리 친구들 이럴 때 계산할 때는 이렇게 생각해 주세요 우리가 하루는 24시간이잖아요 그래서 밤 12시부터 그 다음 밤 12시까지가 24시간이니까 도착 시각에서 이 출발 시각을 빼줘야 되는데 아니 00에서 20을 어떻게 빼요 그죠 그래서 계산하기 편하게 24시라고 계산을 해주는 거예요 자 일단 12시 밤 12시까지는 얼마나 걸렸냐를 계산하려면 지금 보세요 일단 밤 12시까지는 얼마나 걸렸냐 그 다음에 12시 40분이니까 40분을 여기다가 더 해주면 총 걸리는 시간을 구할 수 있는 거잖아요 그럼 밤 12시를 24시로 하고 여기서 20시 45분을 빼주면 됩니다 아니면 우리 친구들이 12시에서 지금 오후 8시 45분이니까 8시 45분을 빼도 괜찮아요 상관없어요 자 그럼 여기서도 분 뺄 수 없으니 받아내림 60에서 45 빼면 15분이 되겠고 23에서 20 빼면 3시간이죠 아 그러면 밤 12시까지 3시간 15분이 걸린 거고 거기에서 또 40분을 더 해주면 되겠네요 그러면 3시간 15 더하기 40 55분이 걸린 것이다 라는 걸 알 수 있습니다 도착 시간에서 출발 시각을 빼기 애매할 때는 우리 친구들이 계산하기 편하게 낮 12시 밤 12시를 기준으로 계산하면 되겠어요 자 그러면 이번에는 베를린에서 메넨으로 가는데 걸리는 시간 구해 볼게요 지금 보니까 오후 9시에 출발해 갔고요 새벽 4시 40분이 되는 거죠 그럼 이때도 밤 12시를 기준으로 생각을 해 볼게요 그러면 지금 이 오후 9시가 되는 거죠 11을 빼면 그러면 밤 12시까지는 일단 3시간이 걸린 거고 그리고 밤 12시에서 4시 40분까지는 4시간 40분이 걸린 거니까 이렇게 끊어서 계산하면 됩니다 그럼 3시간에다가 4시간 40분 더하면 7시간 40분이다 라고 계산할 수가 있는 거죠 자 그럼 이제 밤의 길이 구하는 두 번째 유형으로 가보죠 어느 날 해가 진 시각은 오후 6시 23분이고 다음 날 해가 뜬 시각은 오전 5시 52분입니다 이날 밤의 길이는 몇 시간 몇 분인지 구해 보세요 라고 했어요 우리 하루 24시간 중에 낮과 밤으로 나누어져 있는데 밤의 길이는 해가 진 시각부터 밤 12시까지의 시간 그리고 밤 12시부터 해가 뜬 시각까지 나누어서 계산하면 훨씬 편해요 그래서 여기서도 밤 12시를 기준으로 나누어 봅시다 자 그러면 일단은 우리 12시에서 6시 23분을 빼고 그 다음에 또 오전 5시 52분은 5시간 52분을 더 해주면 되는 거잖아요 그렇죠 그래서 일단 12에서 6시 23분을 뺍니다 6시간이 아니라 6시 23분 그럼 이제 받아내림 해야 되겠죠 나 1시간만 주세요 그래 60분으로 줄게 그럼 60에서 23 빼면은 37분 그리고 11에서 6 빼면 5 그래서 오후 6시 23분에서 밤 12시까지는 5시간 37분이에요 그러면 여기서 이제 오전 5시 52분까지 더 해주면 되는 거죠 5시간 52분을 더 해줍니다 즉 5시간 37분에서 5시간 52분을 더 해볼게요 37 더하기 50이 계산하면 9, 8 89분이니까 60분 받아올림하고 그럼 29분이 되겠죠 그리고 1 더하기 5 더하기 5는 11 11시간이 되는 걸 알 수 있어요 따라서 11시간 그리고 29분으로 계산이 되겠습니다 즉 이날 밤의 길이는 11시간 29분이다 라는 거 이렇게 밤 12시를 기준으로 계산해 봤어요 자 우리도 그럼 연습 어느 날 해가 진 시각은 오후 7시 5분이에요 그럼 여기 오후 7시 5분으로부터 다음날 해가 뜬 시각이 바로 오전 6시 12분이라고 합니다 그럼 밤의 길이는 몇 시간 몇 분이냐 일단 밤 12시를 기준으로 생각해 볼게요 자 여기서부터 여기까지는 우리 이제 12시에서 7시 5분을 빼주면 되겠죠 받아 내림합니다 60에서 5 빼면 55분 11에서 7 빼면 얼마? 4 아 그래서 밤 12시까지는 4시간 55분이에요 그리고 밤 12시에서 오전 6시 12분까지는 6시간 12분입니다 그럼 더해 볼까요 4시간 55분에서 6시간 12분을 더합니다 그럼 55에서 11을 더하면 67 그런데 우리 60분 올라가고 7분만 써주면 되는 거죠 그리고 1 더하기 4 더하기 6은 11 따라서 11시간 7분이 밤의 시간이다 라는 걸 알 수가 있겠습니다 자 우리 마지막 문제는 어느 날 해가 뜬 시각이 바로 오전 7시 10분 12초였어요 그리고 전날 밤의 길이는 11시간 32분 17초였습니다 그렇다면 이것도 전날 해가 진 시각이 오후 몇시 몇분인지 어떻게 아냐면 밤 12시를 기준으로 자 지금 여기서부터 여기까지는 7시간 10분 12초죠 그러면 해가 지고 밤 12시까지는 바로 11시간 32분 17초에서 7시간 10분 12초를 빼면 됩니다 17 빼기 12 5초 그리고 32 빼기 10 22분 그리고 11 빼기 7 4시간이 되는 걸 알 수 있어요 그래서 밤 12시에서부터 4시간 22분 5초 전은 빼주면 되는 거죠 그래서 요거 계산하면 선생님 미리 계산해 왔습니다 오후 7시 37분 55초가 되는 거 우리 친구들 직접 한번 계산해 보세요 좋아요 오늘의 미션 성공 같은 단위끼리 더하고 뺄 수 있고요 1시간은 60분 1분은 60초라는 걸 이용해서 바다올림 바다내림을 할 수 있습니다 자 우리 다음 시간에 새로운 내용으로 다시 찾아올게요 오늘 너무 고생 많았어요 여러분 안녕\n",
      "06강길이와시간(3)_초등수해력-도형·측정3단계.mp3에 대한 텍스트가 ./ebs_script/new/06강길이와시간(3)_초등수해력-도형·측정3단계.txt로 저장되었습니다.\n",
      "Transcription for 07강4-3_달력알기_초등수해력-도형·측정2단계.mp3:\n",
      "친구들, 안녕하세요? 초등수외력 도형측정 2단계 정소연 선생님입니다. 자, 우리 오늘은요, 이번 교제, 이번 강의의 마지막 시간이에요. 지금까지 열심히 따라와 준 친구들 정말 정말 고생 많았고, 오늘 마지막 시간도 힘내서 한번 마무리 잘 해보도록 하겠습니다. 이번 시간에 배울 내용은요, 달력에 대한 거예요. 우리 친구들이 이걸 좀 어려워하는 경우가 많아서 선생님이 이번 시간에는 특별히 이 30분 강의 시간 동안 달력에 대한 얘기를 좀 천천히 여러 가지 문제도 풀어보면서 좀 나누어 보려고 합니다. 그러니까 너무 부담스럽게 생각하지 말고 선생님이랑 하나하나 해결해 나가는 그런 마음으로 시작했으면 좋겠어요. 여러분 달력 본 적 있죠? 그거 본 적 있다면 다 해낼 수 있습니다. 알겠죠? 자, 그러면 우리 함께 공부 시작해 볼게요. 자, 일단 여러분 달력이 뭔지는 알고 있죠? 달력, 이렇게 생겼잖아요. 지금 이건 혹시 몇월 달력인지 알겠어요? 맞아요. 9월 달력이에요. 9월 달력이고요. 보통 달력에 보면 이렇게 요일이 적혀 있습니다. 일, 월, 화, 수, 목, 금, 토, 각각이 무슨 요일을 뜻하는지 알겠죠? 토요일, 금요일, 목요일 이렇게 생각해 주시면 되고요. 달력에 따라서 월요일부터 시작하는 달력도 있고 일요일부터 시작하는 달력도 있어요. 여러 가지 그 경우가 있으니까 주변에 있는 달력을 한번 잘 살펴보시면 좋을 것 같아요. 그리고 그 아래에는요, 며칠에 대한 이 숫자들이 쭉 적혀 있습니다. 보통 1부터 30 또는 31까지 적혀 있고요. 그리고 줄별로 읽어서 오늘 몇월 며칠이네, 그래서 무슨 요일이네 라는 걸 알 수 있도록 되어 있죠. 자, 그러면 선생님이 퀴즈 한번 내볼게요. 오늘 9월 6일이다. 그러면 9월 6일 어디에 있나요? 찾아볼게요. 9월 6일, 6일은 여기 있네. 그래서 9월 6일에 동그라미를 할 수 있어. 그리고 9월 6일은 무슨 요일이죠? 라고 물어보면 아, 수요일이에요 라고 말할 수 있어. 여기 6에서 위로 쭉 올라가면 수 라고 적혀 있죠. 그래서 9월 6일은 수요일이다. 자, 그 다음 하나만 더 해볼게요. 그러면 9월 22일은요, 무슨 요일이에요? 한번 찾아볼까요? 9월 22일, 9월 22일 여기 있죠. 9월 22일은 위로 쭉 올라가 보니까 어, 금요일이구나 라는 것을 알 수 있어요. 자, 가장 기본적으로 달력 읽는 방법 한번 확인해 봤습니다. 그런데요, 이번 시간에는 이것만 하는 게 아니에요. 달력 속에서도 굉장히 재미있는 규칙을 많이 찾을 수 있거든요. 어떤 것들이 있는지 하나씩 볼게요. 일단 이 친구들이 질문을 하고 있어요. 음, 아래쪽으로 얼마씩 커질까요? 라는 질문을 하고 있어. 아, 그러고 보니까 이거 수배열표라고 생각할 수도 있겠다. 그렇죠? 그러면 아래쪽으로 갈수록 어떻게 규칙을 갖고 있는지 우리 친구들이 일단 먼저 생각해 보세요. 6, 13, 20, 27 또는 1, 8, 15, 22, 29 어떤 규칙이 있나요? 찾았나요? 자, 그 다음 또 오른쪽 친구, 이렇게 질문해요. 오른쪽 아래로 가는 이런 방향이나 왼쪽 아래로 가는 방향으로 놓인 수에도 규칙이 있을까요? 우리 친구들도 한번 생각해 보는 거예요. 예를 들어서 여기에서 출발한다. 그러면 오른쪽 아래면 어떻게 되는 거예요? 4 다음은 12, 다음은 20, 다음은 28 자, 이 수 사이에도 규칙을 찾을 수 있나요? 또는 여기 2에서 출발해 볼게요. 2에서 출발해서 왼쪽 아래로 가볼까요? 자, 2 다음에 8 다음에 14 다음에 20 다음에 26 자, 여기에서도 혹시 규칙을 찾을 수 있나요? 찾을 수 있다면 어떤 규칙인지 우리 친구들이 한번 이야기를 해보면 되는 겁니다. 자, 다 생각해 봤어요? 그럼 한번 확인을 해볼까요? 일단 첫 번째 규칙부터 확인해 볼게요. 달력은요, 아까 봤듯이 가로에 한 줄이 7칸이에요. 왜? 1, 월, 화, 수, 목, 금, 토 다 세어보면 7칸이 나오죠. 그리고 여기 하나, 한 줄만 이렇게 가지고 와봤어요. 4부터 시작해서 그 다음 아래칸은 11, 그 다음은 18, 그 다음 25 이렇게 됐죠. 얼마씩 커지고 있어요? 맞아요. 아래쪽으로 7씩 커지고 있어요. 이런 규칙을 찾을 수 있다. 아, 아래쪽으로는 7씩 커지는구나. 이거 머릿속에 기억해 놓으면 되겠다. 그렇죠? 왜 그런지, 왜 그럴까요? 달력은 가로 한 줄이 7칸이니까 아래로 내려가기 위해서는 7칸만큼 더 가야 되니까 그렇죠. 라고 생각하면 되는 거죠. 자, 그 다음에 오른쪽 아래로 갈 때는 어떤 규칙이 있었나 찾았나요? 4, 12, 20, 28 어떤 규칙이 있어요? 4에서 12로 가려면 8 더해야 되고요. 12에서 20으로 가려면 또 8 더해야 되고요. 20에서 28 가려면 또 8 더해야 돼요. 그러니까 오른쪽 아래 방향으로 갈 때는 8씩 커져요 라는 규칙을 찾을 수 있었어요. 그럼 왼쪽 아래로 갈 때는 어떤 규칙이 있어요? 왼쪽 아래로 갈 때는 예를 들어서 9에서 출발했다 그러면 15, 그 다음 21, 27 어떤 규칙이 있어요? 왼쪽 아래 방향으로는 6씩 커진다라는 규칙이 있어요. 자, 이거 다 찾았으면 아주 잘 했습니다. 알겠죠? 자, 그 다음에 이번에는 뭘 해볼까? 달력 속에서 곱셈을 찾을 수도 있다. 한번 볼게요. 여기 7이 있죠. 그 아래는 뭐라 그랬어요? 여기서 7을 더하면 14, 또 7을 더하면 21, 또 7을 더하면 28이 된다 그랬잖아요. 이것뿐만 아니라 이것을 곱셈식으로 표현할 수도 있어요. 7일은 7, 7일이 14, 7, 3, 21, 7, 4, 28 이렇게 해서 곱셈도 찾아볼 수 있어요 라는 거. 오, 이런 새로운 규칙도 있구나. 자, 그럼 이번에는 질문입니다. 선생님이 아까 이야기해 준 거예요. 5월 11일은 무슨 요일일까요? 우리 친구들 맞춰보세요. 무슨 요일이에요? 5월 11일은 무슨 요일이죠? 제일 먼저 뭐 해야 돼요? 5월 11일부터 찾아야 되죠. 5월은 여기 있으니까 놔두고 11일만 찾으면 숫자 11을 찾아서 동그라미 합니다. 그 다음 어떻게 한다고요? 이게 무슨 요일 줄에 있는지 확인하라고요. 금요일 줄에 있네. 아, 그러면 5월 11일은 금요일이구나 라는 걸 확인할 수 있어요. 그러면 이거 말고 또 5월에 있는 금요일, 다른 금요일들도 찾아보세요 라고 하면 뭐가 있어요? 5월 4일도 금요일이고요. 5월 18일도 금요일이고 5월 25일도 금요일이에요 라고 말할 수 있는 거예요. 그럼 5월에 있는 화요일을 모두 찾아보세요. 어떻게 해요? 5월 1일, 8일, 15일, 22일, 29일이 모두 5월에 있는 화요일이에요 라고 말할 수 있는 거예요. 자, 그 다음 질문이에요. 일주일은 도대체 며칠일까요? 라고 질문하고 있습니다. 이것도 아까 선생님이 이야기했죠. 일주일 뭐라 그랬어요? 1월, 화, 수, 목, 금, 토 라고 했잖아요. 토요일 다음 또 뭐예요? 1월, 화, 수, 목, 금, 토 그러니까 1월, 화, 수, 목, 금, 토가 계속 반복되고 있죠. 그리고 우리는 이것을 일주일 또는 한 주라고 표현합니다. 그래서 일주일은 며칠이다? 1, 2, 3, 4, 5, 6, 7, 7일입니다 라고 표현할 수 있는 거예요. 됐죠? 그리고 일주일이라고 하는 것은 다른 말로 표현하면 같은 요일이 돌아오는데 걸리는 그 일수, 시간 이렇게 생각을 해줘도 돼요. 만약에 만약에 내가 금요일에 출발했는데 또다시 금요일이 되려면 얼만큼의 시간이 걸리나, 얼만큼의 기간이 걸리나 하나, 둘, 셋, 넷, 다섯, 여섯, 일곱, 칠일이 지나면 또 금요일이 된다는 거예요. 그래서 아까 어떤 규칙이 있었어요? 10일에서 7일 더 했을 때 그 아래로 가고 또 7일 더 했을 때 또 아래로 가고 이런 규칙이 있다고 했잖아요. 모든 것은 일주일이 7일이기 때문에 생기는 규칙이에요. 알겠죠? 자, 그다음 이번엔 이런 내용도 있어요. 우리 나라에서는요. 한 주의 시작을 보통 월요일로 약속을 합니다. 이건 기억을 해주세요. 한 주의 시작을 월요일로 약속을 하고 있어서 보통은 월요일부터 몇 주, 몇째 주까지, 언제까지 이런 표현을 많이 씁니다. 그래서 첫 번째 줄 보면요. 여기 1일부터 6일까지, 여기까지 끊어요. 1일부터 6일까지를 5월 첫째 주 또는 1주라고 표현을 하고요. 그 다음 또 월요일부터 시작해서 7일부터 13일까지를 5월 둘째 주 또는 2주라고 이야기하고 또 월요일부터 시작 14일부터 20일까지를 5월 셋째 주라고 하고요. 그 다음 21일부터 27일까지를 5월 넷째 주라고 표현을 하는 거예요. 이런 식으로 항상 무슨 요일부터 시작한다? 월요일부터 시작한다 라는 것만 기억을 해주시면 되겠습니다. 이런 표현은 좀 헷갈려하는 경우가 많이 있어서 같이 기억해 놓으면 좋을 것 같아요. 자 그 다음에 이건 뭐죠? 지금 여기에는요. 1년의 달력을 쫙 한번 표현을 해 놓아 본 거예요. 1년이라고 하면 1월부터 시작해서 몇월까지? 12월까지를 이야기하는 겁니다. 그래서 1년은 총 몇 개월이다? 12개월이다 라는 걸 알 수 있습니다. 그러면 12개월이 지나고 나면 그 다음엔 또다시 몇월이 되는 거예요? 12월 다음에는 1월이 되는 거죠. 그리고 1년은 12개월이고. 자 그러면 각 달은 며칠씩 있는지 한번 세워볼까요? 1월은 며칠까지 있어요? 31일까지. 2월은 어? 28일까지 있네. 3월은요? 31일. 4월은 30일. 우리 친구들도 동그라미 해보세요. 5월은 31일. 6월은 30일. 7월은 31일. 8월은 31일. 9월은 30일. 10월은 31일. 11월은 30일. 12월은 31일. 이렇게 할 수 있습니다. 그러니까 각 달이 며칠까지 있어요? 라고 하면 보통 30일 또는 31일까지 있는데요. 그런데 2월은 좀 특별했죠? 2월은 28일까지 있어요? 라고 표현할 수 있습니다. 그런데 이게 해에 따라서 좀 다르거든요. 28일까지 있는 경우도 있지만 29일까지 있는 경우도 있어요. 그래서 정리를 해보면 2월은 28일까지 이거나 또는 29일까지 있는 경우도 있습니다. 그래서 한 달, 그러니까 각 월별로 며칠이냐? 라고 표현하면 보통 30일이나 31일인데 2월은 28일까지 있는 경우도 있고 29일까지 있는 경우도 있어요. 이렇게 다양합니다. 라고 해보면 됩니다. 여러분 올해에는 2월이 며칠까지 있는지 한번 찾아보세요. 알겠죠? 자, 그 다음 이제 넘어가 볼게요. 이 정도로 확인을 해보시면 되고요. 선생님이 방금 한 달 그러니까 1월, 2월, 3월 각각이 30일까지 있는 경우도 있고 31일까지 있는 경우도 있다고 했잖아요. 2월만 좀 특별한 경우니까 빼고 그러면 도대체 언제 30일까지 있고 언제 31일까지 있어요? 그걸 좀 쉽게 기억할 수 있는 방법을 알려드릴게요. 어떻게 하냐면 주먹을 이렇게 쥐고요. 주먹을 쥐고 여기 두 번째 손가락부터 시작해서 1이라고 세는 거예요. 자, 두 번째 손가락 이렇게 했을 때 두 번째 손가락 위쪽을 1. 그 다음에 아래로 내려가서 이렇게 움푹 파여있는 이곳을 2. 그 다음 또 산으로 올라가죠? 3. 그 다음 또 내려가죠? 4. 5, 6, 7 이렇게 하면 위, 아래, 위, 아래, 위, 아래, 위 이렇게 되잖아요. 위로 올라간 순간에는 31일이라고 생각하시면 돼요. 여기 1월은 31일까지. 그 다음에 내려간 2월은 작은 달. 그 다음 3월은 31일, 4월은 30일. 5월은 31일, 6월은 30일. 7월은 31일 이런 식으로 규칙을 찾을 수 있다는 거예요. 물론 2월은 특별한 경우니까 2월은 28일 또는 29일 이것만 기억을 해주시면 돼요, 별도로. 그 다음에 이제 8월부터는 어떻게 하냐면요. 8월부터는 한 번 더 여기를 짚어요. 이렇게 7월 하고 나서 1, 2, 3, 4, 5, 6, 7. 그 다음 한 번 더 8하고 그 다음 내려갑니다, 9. 올라가요 10, 내려가요 11, 올라가요 12. 이렇게 해서 위에 올라간 것은 31일, 밑으로 내려간 것은 31일. 이런 기준으로 생각을 해주시면 된다는 거예요. 어떻게 하는지 알겠죠? 자, 해볼게요. 1, 2, 3, 4, 5, 6, 7, 8, 9, 10, 11, 12까지 기억을 해주세요. 자, 그럼 이제 문제 한 번 풀어보겠습니다. 달력의 1부분을 보고 빈칸에 알맞은 수를 써놓으세요라고 했어요. 자, 1번. 지금 1, 그 다음 15, 22, 29라고 되어 있어요. 이게 어떤 달력 중에서 수요일에 해당하는 그 한 줄만 가지고 온 것 같아요. 그러면, 어? 아래로 내려가는 부분이네요. 아래로 내려갈 때 어떤 규칙이 있다고 그랬어요? 그렇지, 7씩 커진다고 그랬죠. 그러면 1 다음은 7 더해서 8, 그 다음 7 더하면 15, 7 더하면 22, 7 더하면 29. 이런 규칙이 있다라는 거. 자, 그럼 이번에는 목요일 부분 한 번 떼왔다고 합니다. 볼게요. 2, 그 다음은 7 더해서 9, 그 다음 7 더해서 16, 그 다음 7 더해서 얼마예요? 23. 그 다음 7 더하면 32 되는 거예요. 어떻게 하는지 알겠죠? 자, 그 다음에 이번에는요. 어? 8번이에요. 8번이에요. 오른쪽 아래로 내려갈 때 어떤 규칙이 있었어요? 오른쪽 아래로 내려갈 때. 자, 여기서 밑으로 갈 때는 더하기 7을 하면 된다고 그랬죠. 그래서 여기가 8이 됐는데, 자, 여기에서 하루 더 간 게 오른쪽이잖아요. 그러니까 여기는 9가 되겠죠. 맞아요, 달력에서. 그래서 아까 어떤 규칙이 있었어요? 여기에서 오른쪽 아래로 갈 때는 더하기 8만큼씩 한다라는 규칙이 있었죠. 그러면 또 오른쪽 아래로 간다 그러면 또 더하기 8을 해주면 얼마예요? 9에서 더하기 8을 해주면 17이 됩니다. 됐어요. 자, 그럼 2번도 마찬가지의 규칙이에요. 여기가 22라면, 여기에서 오른쪽 아래로 갈 때는 더하기 8을 해주겠죠. 그럼 얼마예요? 22, 다음은 30이 되고요. 그럼 여기에서 이번에는 왼쪽 위로 갈 거잖아요. 자, 오른쪽 아래로 갈 때 더하기 8이면 왼쪽 위로 갈 때는 빼기 8을 해주면 되겠네. 그러면 얼마예요? 빼기 8을 해주면 14가 되는 거예요. 그래서 이런 규칙으로 풀어주시면 되겠습니다. 알겠죠? 왼쪽 아래로 가는 것도 우리 친구들 할 수 있겠죠? 자, 그 다음 16번 같이 볼게요. 네모 안에 알맞은 수를 써놓으세요. 1년 10개월이 몇 개월인지를 찾아내라는 문제예요. 일단 1년은 몇 개월이라고 했죠, 아까? 1월부터 12월까지니까 총 12개월이에요라고 표현할 수 있어요. 그 다음 10개월은요, 그대로 10개월이라고 써주면 됩니다. 그러면 12개월과 10개월을 더해주면 총 몇 개월이에요? 12 더하기 10이니까 22개월입니다라고 적어주시면 된다는 겁니다. 그 다음 7번으로 가볼게요. 5월 13일이 월요일이래요. 5월 13일이 월요일일 때 요일이 다른 날을 찾아 기호를 써보세요라고 했습니다. 자, 그러면 우리 규칙이 있었어요. 그렇죠? 일단 월요일을 다 찾아보는 거예요. 일단 월요일을 다 찾아보자. 월요일이라고 쓰고 달력 중에서 일부를 가져온다고 생각해 볼게요. 13일이 월요일이면 일단 13을 이렇게 써놓고요. 13에서 더하기 7을 하거나 빼기 7을 해서 각각의 월요일들을 다 구할 수 있었죠. 자, 13에서 일단 빼기 7을 해볼까요? 13에서 7을 빼면 얼마가 돼요? 6이 돼요. 그래서 5월 6일도 월요일입니다. 맞나요? 그럼 이번에는요, 13에서 더하기 7도 한 번 해볼게요. 더하기 7을 해주면 더하기 7을 해주면 13 더하기 7은 20이니까 5월 20일도 월요일이래요. 그 다음 또 한 번 더 할 수 있겠네. 여기에서 또 더하기 7을 해줄게요. 그럼 어떻게 돼요? 20에서 더하기 7을 해주면 27일이 됩니다. 그러니까 5월에 있는 월요일은 5월 6일, 5월 13일, 5월 20일, 5월 27일이 되는 거예요. 그러면 이게 다 월요일이면 한 번 위에 기억부터 볼게요. 5월 6일 월요일 맞나요? 월요일 맞네요. 그 다음 5월 7일 월요일 맞나요? 5월 6일이 월요일이면 5월 7일은 화요일이 되겠죠. 그래서 이것은 요일이 달라요. 그 다음 5월 20일은 월요일 맞고요. 그 다음 5월 27일도 월요일이 맞네요. 그래서 요일이 다른 날 하나 고르라고 하면 니은이라고 이렇게 골라주시면 되는 문제입니다. 어떻게 푸는지 알겠죠? 다음으로 넘어가 볼게요. 8번입니다. 보기에 다를 날수가 31인 달과 31일인 달로 분류해보세요라고 했습니다. 1, 4, 7, 10, 11, 12월을 30일과 31일짜리로 나누라는 거예요. 그럼 어떻게 하라고 그랬어요? 선생님이 여러분 왼손을 딱 들고 준비됐죠? 주먹을 딱 들고 때리라는 게 아니고 여기서부터 1, 2, 3, 4, 5, 6, 7, 8, 9, 10, 11, 12라고 했잖아요. 이렇게 하나씩 구해볼게요. 1월은 여기 첫 번째 높이 있는 3부분이니까 1월은 31일까지 있는 달이에요. 그래서 여기에 1월 적었고요. 그 다음 4월은 어떻게 돼요? 1, 2, 3, 4죠? 내려갔지? 내려갔으니까 30일, 작은 달이라고도 표현합니다. 그래서 여기에 4월이라고 적을게요. 그 다음 7월은 어때요? 자, 갑니다. 1, 2, 3, 4, 5, 6, 7, 8 7월은 31일까지 있는 달이에요. 그 다음 11월은 어떻게 돼요? 7, 8까지 올라갔지? 그 다음 내려갈게요. 9, 10, 11 내려가요. 그러니까 11월은 30일까지 있는 달이래요. 그 다음 마지막 내려갔다 올라가는 게 12월이죠. 그래서 31일까지 있는 곳에 12월을 적어줄게요. 이렇게 하면 마무리가 되는 겁니다. 자, 우리 친구들 잘 기억했죠? 그러면 이번에는 9번 문제도 함께 풀어볼게요. 바르게 말한 사람을 찾아 이름을 써보세요라고 했습니다. 지아가 먼저 이야기해요. 1년은 모두 12개월이야. 맞아요, 들려요. 맞죠? 1월부터 12월까지 모두 합해서 12개월입니다. 지아 잘했어요. 자, 그 다음 승연이 볼게요. 1년 중 날수가 가장 적은 달은 3월이야라고 했습니다. 날수가 가장 적다라는 건 뭐냐면 우리 보통 한 달 1월이면 1일부터 31일까지 있어요. 그러니까 1월은 31일만큼이 날수다. 이렇게 표현을 하죠. 그러면 2월은요, 어떻게 돼요? 2월은 만약에 28일까지 있는 달이다라고 하면 28일만큼이 날수가 돼요. 또는 29일이다라고 하면 29일만큼이 날수가 돼요. 이런 식으로 생각을 하면 가장 날수가 적은 달은 당연히 2월이 되겠죠. 2월은 특별하다 그랬잖아요. 그래서 다른 달이랑 다르게 28일 또는 29일로 되어 있다고 했으니까 가장 적은 달이 3월이 아니라 2월이야 라고 표현해야 바른 표현이 됩니다. 그래서 승연 언니의 표현이 조금 잘못되었습니다. 됐죠? 그래서 바르게 말한 사람은 지아예요. 라고 이렇게 적어줄게요. 자, 이번에는 11번 같이 볼게요. 채연의 반은 3주에 한 번씩 자리를 바꾼대요. 3월 3일에 자리를 바꿨다면 다시 자리를 바꾸는 날은 몇 월 며칠일까요? 라고 물어봤습니다. 3주가 지났을 때 언제인지를 찾으면 되잖아요. 맞아요. 그러면 여러분 이건 어떻게 풀면 될까? 일주일이 며칠이라고 그랬죠? 일주일. 일주일. 여기 다시 적어볼게요. 자, 일주일. 일주일이 7일이라고 했어요. 그러면 3주라는 건 뭐예요? 3주는 7, 3, 21. 그러니까 21일만큼 지난 후라는 뜻이죠. 그럼 보세요. 지금 3월 3일에 자리를 바꿨다면 3월 3일부터 21일이 지난 뒤 3 더하기 21을 하면 얼마가 돼요? 24가 되잖아요. 그러니까 다시 자리를 바꾸는 날은 3월 24일이 되는 거예요. 어떻게? 3에다가 3주만큼, 7, 3, 21만큼을 더 더해주면 3월 24일이 됩니다. 라고 정리를 할 수 있다는 겁니다. 그다음 12번 문제 한번 볼게요. 어느 해 우리나라 산에 단풍이 처음으로 드는 날을 예상해서 만든 지도래요. 이때 네모 안에 알맞은 수를 써놓으세요. 라고 했어요. 지금 보니까 단풍이 설악산에서는 10월 2일날 들기 시작한다고 했고요. 그다음에 북한산은 10월 13일, 계룡산도 10월 13일 이렇게 각 산마다 단풍이 처음으로 드는 날이 서로 다르다는 걸 알 수 있죠. 그런데 우리가 구하려고 하는 게 뭔지 볼게요. 설악산에 첫 단풍이 들고 얼마 후에 한라산에 첫 단풍이 들 것으로 예상할 수 있습니다. 라고 했어요. 설악산이 10월 2일이래요. 그다음 한라산은 어디 있어요? 10월 15일이래요. 그러면 이 두 날짜 사이에 얼마큼의 기간이 필요한지만 구해내면 되겠네요. 맞아요. 그러면 보세요. 10월 2일과 10월 15일 사이에는 며칠의 차이가 있어요. 15에서 1을 빼면 며칠? 13일이에요. 맞아요. 그러니까 두 날짜 사이에는 13일만큼의 차이가 있어요. 그러면 이 13일을 몇 주일, 며칠이라고 바꿔주면 되잖아요. 맞아요. 그러면 일주일은 며칠이라는 걸 알고 있어요. 7일이라는 걸 알고 있죠. 그러면 13일을 7과 다른 수의 합으로 표현할 수 있습니다. 7과 6의 합으로 표현할 수 있죠. 그러면 13일은 7일 더하기 6일인데 이 7일을 무엇으로 바꿀 수 있다? 일주일이라고 바꿀 수 있다. 일주일이라고 바꿀 수 있고 그 다음에 6일이라고 표현할 수 있다. 이렇게 정리를 해보면 되겠네요. 그러면 정답은 뭐예요? 설악산에 첫 단풍이 들고 일주일, 그 다음 6일 후에 한라산에 첫 단풍이 들 것으로 예상할 수 있습니다. 라고 정리를 해주시면 되겠습니다. 됐죠? 자, 그 다음 대표형용 1번 문제 볼게요. 어느 해 8월 달력의 일부분입니다. 이 달의 마지막 날은 무슨 요일인지 구해보세요. 라고 했어요. 자, 지금 일단 8월이라고 했으니까 8월이 며칠까지 있는 달인지부터 확인을 해봐야겠죠. 자, 손 들고 1, 2, 3, 4, 5, 6, 7, 8 7, 8 둘 다 위로 올라간 상태예요. 그러니까 8월은 며칠까지 있다? 31일까지 있다는 것을 알 수 있습니다. 그리고 달력의 수는 아래쪽으로 7씩 커진다는 걸 알고 있잖아요. 그러면 31일이 어디까지 가는지를 한번 구해보면 되겠죠. 어떻게 하면 돼요? 자, 8월의 토요일을 기준으로 한번 생각해볼까요? 토요일이 3일, 그 다음은 7 더해서 10일 그 다음은 7 더해서 여기 얼마예요? 17일이 되겠고 여기 17일 그 다음 또 7 더하면 얼마가 돼요? 얼마가 돼요? 7 더하면 24일이 되겠죠. 24일, 여기 24일 그 다음 또 7 더하면 얼마가 돼요? 31, 그래서 31일이 됩니다. 8월이 31일까지 있다고 했으니까 어, 31 여기가 마지막이겠네요. 그래서 8월의 마지막 날은 토요일입니다. 라고 찾을 수 있어요. 어, 선생님 저는 금요일로 계산했는데요. 그래요, 금요일로 계산해도 돼요. 그러면 2, 9, 그 다음 16, 23, 30이잖아요. 그럼 어, 금요일로 계산했더니 31이 금요일이었네. 그럼 우리가 구하고자 하는 31일은 토요일이겠구나. 라고 찾아내면 되는 거예요. 어려운 거 아니에요. 알겠죠? 자, 여기까지 됐고 이제 마지막 문제 함께 풀어볼게요. 3월 둘째 화요일에서 며칠이 지나면 3월 넷째 토요일이 되는지 구해보세요. 라고 했습니다. 일단 3월의 둘째 화요일은 어디 있어요? 3월의 첫째 화요일 여기 있고 둘째 화요일 여기 있네요. 9일이죠. 맞아요. 그래서 둘째 화요일은 3월 9일이에요. 그 다음 3월의 넷째 토요일은 언제예요? 3월의 첫째 토요일 6일, 둘째 토요일 13일 셋째 토요일 20일, 넷째 토요일은 27일입니다. 그래서 3월 넷째 토요일은 3월 27일입니다. 그러면 이 둘 사이에 며칠이 지났는지만 구하면 되잖아요. 그래서 27에서 9를 빼면 얼마예요? 18입니다. 그러면 3월 둘째 화요일에서 18일이 지나면 3월 넷째 토요일이 된다는 것을 확인할 수 있습니다. 라고 답을 쓰시면 됩니다. 만약에 문제에서요. 이게 몇 주, 며칠이 지나면 되나요? 라고 질문을 할 수도 있죠. 그럼 어떻게 하면 된다고요? 이 18일을 몇 주, 며칠로 바꾸면 돼요. 일주일은 7일이라고 했잖아요. 그러니까 7일씩 한 번, 그 다음에 두 번 들어가고 나머지 4일 이렇게 되면 18일이 되죠. 맞아요. 그러니까 7일이 두 번 들어가네. 그러니까 이것은 2주라고 표현하고 뒤에 있는 4일을 이렇게 적어주면 2주 4일이 지나면 3월 넷째 토요일이 됩니다. 라고 이렇게도 표현할 수 있어야 된다는 거예요. 이 문제와는 상관없지만 심화 문제. 이해 되죠? 여기까지 우리 같이 한 번 정리를 해봤습니다. 우리 오늘 꼭 기억할 거. 정말 많은 내용을 배워 봤는데 이 중에서 우리 친구들이 이것만은 꼭 기억해야 되는 게 바로 이 주먹이에요. 주먹 딱 줬나요? 주먹 쥐고 다시 한 번 복습해 보도록 하겠습니다. 여기 이렇게 두 번째 손가락을 접었을 때 올라간 부분 여기가 큰 달이라고 했어요. 여기 올라가고 올라가고 올라가고 올라간 부분이 큰 달. 그 다음에 내려간 부분이 뭐라고요? 내려가고 내려가고 내려간 이 부분이 작은 달이라고 했어요. 그래서 확인을 해보면 1월 올라갔고 2월 내려갔고 3월 올라갔고 4월 내려갔고 5월 올라가고 6월 내려가고 7월 올라갔지. 그 다음에 헷갈리면 안 돼요. 8월이 한 번 더 여기 7, 8이 같은 곳에서 한 번 더 가고 그 다음 9월 내려가고 10월 올라가고 11월, 12월까지 이렇게 해서 큰 달과 작은 달을 구분하는 거 우리 친구들 꼭 기억해 주시고요. 이 중에서 가장 특별한 달이 언제라 그랬죠? 맞아요. 2월이라 그랬어요. 2월은 이렇게 작은 달로 표시되어 있기는 하지만 30일까지가 아니라 28일까지 또는 29일까지라고 했어요. 이거 꼭 잊지 마세요. 알겠죠? 이거 선생님이 지금도 굉장히 유용하게 쓰는 방법입니다. 꼭 기억을 해 주시기 바랍니다. 자 여기까지 선생님과 함께 초대형 수혜력 도형 측정 2단계에 나와 있는 모든 내용을 다뤄봤습니다. 선생님이 항상 이야기했죠. 선생님이 모든 것들을 다 풀어주지 못하기 때문에 나머지 부분은 스스로 공부하고 부족한 부분은 채워나가야 된다고 했어요. 그러니까 좀 힘들더라도 스스로 꼭 공부하는 그런 자기주도적인 학습 습관을 지니는 우리 친구들이 되기를 바라요. 자 그럼 선생님은 이제 여기서 인사하겠습니다. 친구들 그동안 정말 고생 많았고요. 더욱더 쑥쑥 수학실력 올려서 다음에 또 언젠가 다시 만났으면 좋겠습니다. 선생님 인사할게요. 친구들 다음에 또 만나요. 모두 안녕.\n",
      "07강4-3_달력알기_초등수해력-도형·측정2단계.mp3에 대한 텍스트가 ./ebs_script/new/07강4-3_달력알기_초등수해력-도형·측정2단계.txt로 저장되었습니다.\n",
      "Transcription for 07강원(1)_초등수해력-도형·측정3단계.mp3:\n",
      "안녕하세요 EBS 친구들 여러분의 챔챔쌤입니다 자 우리 이번 시간부터요 아주 동글동글한 친구들을 만날 거예요 바로 원입니다 자 그래서 오늘의 짜잔 미션 자 원에도요 우리 이제 이름들이 있거든요 원의 중심, 반지름, 지름이 무엇인지 알아보는 게 오늘의 미션이에요 좋아요 자 그러면요 우리는 이미 원을 그리는 방법을 알고 있습니다 어떻게 이 컵과 같은 원 모양의 물건을 따라 본을 뜨며 원을 그릴 수 있고요 그리고 여러 모양이 있는 이 자에서 바로 모양자에 있는 원 모양을 따라 본을 뜨면 원을 그릴 수 있어요 우리 주변에 흔히 볼 수 있는 원 모양은 바로 이런 컵이라든지 아니면 접시라든지 그릇 등을 이렇게 딱 엎어 가지고 이렇게 본을 뜨면 예쁜 원 모양을 볼 수가 있겠죠 그뿐만 아니라 우리가 지난 시간에 열심히 공부했던 시계도 원 모양의 시계가 굉장히 많답니다 자 그러면 우리 친구들 어떻게 이어질 것이냐 자 원을 그리는 방법과 원의 중심은 무엇일까 우리가 여러 가지 방법으로 원을 만들어 보고 원을 그릴 수가 있어요 이렇게 컵을 본을 이렇게 뜨는 방법도 있지만 이런 방법도 있습니다 자 보세요 우리 친구처럼 실에 단추를 매달고요 빙빙 돌려 보세요 그러면 바로 이렇게 단추가 지나간 자리가 원 모양이다라는 걸 알 수가 있겠죠 자 그리고요 두 사람 중 한 명은 줄의 한쪽 끝을 잡고 서 있고 다른 한 명은 반대쪽 줄을 잡고 움직이면 원을 만들 수 있어요 그니까 가운데 있는 친구들은 이렇게 줄을 잡고 이렇게 한 바퀴를 돌리면 이 바깥쪽에 있는 친구가 어 어때요 어지럽겠지만 뺑뺑뺑 돌아가면서 이 친구가 지나간 자리가 원 모양이 되는 걸 알 수가 있습니다 자 우리 친구랑 오늘 한번 해보세요 좋아요 그러면 그 방법뿐만 아니라 이런 방법도 있어요 보세요 자를 이용해 가지고요 어떤 한 점을 기준 삼아서 점 이응이라고 해볼게요 여기에서 3cm 만큼 떨어진 곳에 여러 개의 점을 찍는 겁니다 여기 찍고 여기 찍고 여기 찍고 그러니까 점 이응 부분은 딱 고정을 시켜야 되겠죠 뺑뺑뺑 돌려가면서 점을 찍는데 자 계속 이제 돌려가면서 점을 좀 촘촘히 찍어 보는 거예요 그러면 이 점들이 바로 촘촘하게 메꿔지면서 이렇게 원을 정확하게 그릴 수 있습니다 자 이걸 보니까 우리 친구들 원이라는 건 도형인데 지금까지는 예쁜 동그라미 인줄만 알았지만 조금 더 자세하게 관찰을 했더니 이 한 가운데 있는 한 점을 중심으로 해서 지금 3cm 라는 같은 거리만큼 떨어진 이 점들이 모여있는 도형이구나 라는 것도 알 수가 있는 거죠 맞아요 그래서 우리 친구들 원은 계속해서 앞으로 이제 뭐 4학년 5학년 6학년 그 다음에 중학생이 될 때도 계속 원을 만날 겁니다 자 지금은 우리가 간단한 이런 도구로 이제 활동을 하겠지만 원이라는 거는 한 가운데 점에서 같은 거리에 있는 이제 여러 점들이 모여있는 도형이구나 라고 기억하면 참 좋을 거예요 자 좋아요 그러면 우리 이제 원의 중심에 대해서 배웠어요 원을 그릴 때 원의 한 가운데 있는 점 이응을 원의 중심이라고 합니다 아 중심이니까 뭔가 굉장히 중요한 역할을 하겠죠 맞아요 이 원의 다 기둥이라고 생각해도 좋아요 그래서 한 가운데 있는 점을 말하고요 우리 친구들 그럼 이렇게 물어볼게요 얘들아 원의 중심은 몇 개야 라고 물어보면 뭐라고 대답할래요 음 여기도 있고 여기도 있고 아니죠 한 가운데 딱 한 개의 점이랍니다 중요하니까 딱 한 개구나 라는 것도 생각해 주세요 자 그러면 우리 이미 이제 원의 중심이 뭔지 알았습니다 이렇게 한 점으로 자를 대고 같은 거리 3cm 만큼 떨어진 점들을 이렇게 연결해 가지고 원을 그릴 수 있고 그리고 이 종이 한 가운데에 있는 빨간색 점 이응이 바로 원의 중심이라는 거죠 원의 한 가운데죠 좋아요 그럼 이제 어떻게 연결할 거냐면 자 우리 종이로 누름못을 준비를 해서 이런 모양의 띠종이를 한번 만들어 보세요 선생님하고는 이렇게 설명을 듣지만 이 시간이 끝나면 우리 친구들이 직접 활동해 보면 제일 좋은 공부 방법입니다 자 이런 모양의 띠종이 준비하고요 누름못 하나 준비해 주세요 그런 다음에 이를 이용해서 우리 원을 그릴 수가 있답니다 보세요 자 이렇게 꾹 한쪽으로 누름못을 눌러 고정을 하는 거예요 그런 다음에 이 띠종이에 몇 개의 구멍을 뚫어 놓습니다 그런 다음 보세요 안쪽 구멍에 연필을 넣고 돌리면요 작은 원을 그릴 수 있어요 여기에는 지금 이렇게 3개의 구멍을 뚫어서 가장 바깥쪽 안쪽에 이렇게 누름못으로 꾹 찍었고요 그리고 두 번째 원의 바깥쪽 구멍에 연필을 넣고 돌리면 큰 원을 그릴 수가 있어요 아 그러면 우리 친구들 보세요 누름못이 이렇게 있을 때 누름못에서부터 멀리 떨어진 구멍에다가 연필을 두고 돌리면 점점 크기가 큰 원이 그려지겠구나라는 것도 알 수가 있겠죠 좋아요 원의 중심과 원 위에 한 점 사이의 거리가 멀어질수록 더 큰 원이 만들어진다 라는 걸 알 수 있겠습니다 그러면 우리 친구들 선생님이 질문 자 이렇게 여기에 누름못을 꾹 누르고요 그 다음에 하나, 둘, 셋, 넷 1번, 2번, 3번, 4번 구멍을 무려 5개 중에 누름못을 제외하고 4개를 이렇게 뽕뽕뽕 뚫었어요 그러면 어느 구멍에다가 연필을 넣고 돌렸을 때 가장 작은 원이 만들어질까요? 바로 그림처럼 누름못과 가장 가까운 1번 구멍에 연필을 넣고 돌렸을 때 이런 원 선생님 이제 못생기게 그렸지만 우리 친구들 그냥 느낌만 잡아주세요 그러면 2번 구멍에 딱 놓고 자 돌립니다 돌려요 그러면 이런 크기가 나오겠죠 그죠? 그 다음에 3번 구멍에 놓고 얘는 고정합니다 누름못 돌리면 이런 크기가 나올 거예요 어때요? 누름못과 멀어지면 멀어질수록 우리가 바로 이 원의 한가운데 점하고 원 위에 있는 한 점하고의 거리가 멀어지니까 크기가 커진다 라는 것도 알 수가 있습니다 그러면 4번 구멍에다 놓으면 엄청 가장 큰 원을 그릴 수가 있겠죠? 좋아요 자 그러면 우리가 이미 지금 반지름에 대해서 배웠어요 바로 무엇이냐 원의 중심 이응과 원 위에 한 점을 이은 선분을 원의 반지름이라고 합니다 그럼 누름못으로 원을 그렸을 때 여기 누름못이 이렇게 있고 바로 여기 구멍을 뚫어서 연필을 놓고 돌립니다 그랬을 때 잘 보세요 누름못을 이렇게 꽂은 부분이 바로 뭐가 되는 거예요? 그렇죠 원의 중심이 되는 거죠 그래서 여기에다가 한번 해볼까요? 원 좀 예쁘게 그리기 위해서 누름못 이렇게 띠종이를 이렇게 그려 볼게요 누름못을 여기다 꾹 누를 거예요 그런 다음에 우리 구멍을 여기에 뚫어 가지고 연필을 놓고 한 바퀴를 뺑 돌릴 겁니다 그러면 우리 친구들 이 점이 바로 한가운데 있는 점이 되니까 누름못을 누른 부분 원의 중심이 되는 거예요 그러면 여기에서 누름못을 누른 부분에서 바로 이 구멍까지 이 거리가 반지름이 되는 겁니다 이해 됐죠? 아 그래서요 우리 원의 반지름이란 원의 중심과 원 위에 한 점을 이은 선분을 원의 반지름이라고 해요 선생님 근데 원 위에 한 점 되게 많잖아요 아까 자로 이렇게 3cm 떨어진 곳에 점 되게 많이 찍어 가지고 연결했는데 그러면 그 중에 뭘 골라야 되나요? 아무거나 골라도 상관없어요 볼래요? 나는 이렇게 골랐다 라고 하면 원의 중심과 이 점을 연결했을 때도 이것도 원의 반지름 나는 이 점을 골라야지 즉 연결해도 원의 반지름 이 점으로 연결해도 원의 반지름 어때요? 굉장히 많은 원의 반지름을 이렇게 선분으로 나타낼 수가 있겠죠 자자 그럼 여기서 질문 하나 더 선생님이 요 점하고 연결하고 요 점하고 연결해서 반지름을 두 개를 나타냈을 때 두 반지름의 길이는 다를까요? 같을까요? 맞아요 당연히 같습니다 누름못을 찍은 부분과 구멍까지의 거리니까 이것을 종이를 막 구겨 갖고 그리는 게 아니라 우리가 팽팽하게 한 바퀴를 돌리기 때문에 어느 점하고 연결을 해도요 원의 반지름의 길이는 모두 같다라는 것도 알 수 있어요 그럼 이제 원의 구성요소 자 우리 이제 어디까지 배웠냐면 원의 한가운데 있는 점 이응이 원의 중심이라는 거 알았고 원의 중심 이응과 원 위에 한 점을 이은 선분을 원의 반지름이라는 거 알았어요 자 그 다음에 우리 연결할게요 이제 원의 지름을 배울 수 있답니다 어? 반지름에 반자가 뿅 빠졌네요? 그쵸? 자 그럼 이제 원의 지름이 뭘까? 우리 친구들 원 모양의 종이를 이렇게 준비해 주세요 그래서 여러 방향으로 딱 정확하게 반으로 접어 보세요 그러면 접었다 펼쳤을 때 이 접은 선이 보일 거예요 딱 두 번만 방향을 바꿔서 접으면 두 접은 선이 만나는 점이 바로 원의 중심이랍니다 그렇다면 여기서 원의 지름이 무엇이냐? 반으로 접은 선 이것이 바로 원의 지름이에요 그렇기 때문에 원의 지름도 이쪽 방향, 이쪽 방향, 어느 방향으로 접었을 때 모두 원의 지름을 다 찾을 수가 있는 거죠 좋아요 원을 완전히 포개어지도록 반으로 접어서 생기는 선분을 원의 지름이라고 합니다 자 그러면 원의 중심, 원의 반지름, 원의 지름까지 이어졌습니다 자 이제 우리 반지름도 알았고 지름도 알았으니까 어떻게 연결할 거냐면요 지름과 반지름, 바로 어떤 관계가 있는지 알아볼 겁니다 여기 이미 배운 원의 중심과 원의의 한 점을 이은 선분을 원의 반지름이라고 하고 원의의 두 점을 이은 선분 중 원의 중심을 지나는 선분은 원의 지름이에요 우리 아까 반으로 접은 선 있죠? 그러면 이렇게도 설명할 수 있어요 아 원의 지름은 그냥 원을 반으로 접은 선이야 보다 좀 더 자세한 설명 방법은 원의의 두 점을 이은 선분 중에서 원의 중심을 지나는 선분을 말합니다 선생님 원의의 두 점을 이은 선분이 되게 많나요? 되게 많아요 볼래요? 자 이렇게 원의의 무수히 많은 점들이 있는데 선생님이 아무렇게나 요점과 요점을 이어볼게요 이거 지름이에요? 아니죠? 왜? 원의 중심을 지나지 않잖아요 요점과 요점을 이어볼게요 한가운데 원의 중심을 찾아보면 여기 있는데 이 또한 마찬가지로 원의 중심 지나지 않으니까 지름 아니에요 그러면 요점 이렇게 이어보면 어때요? 얘도 원의 지름이 아니죠? 그런데 우리 친구들 선생님이 그은 이 선분의 길이가 다 조금씩 다르지 않나요? 자 그러면 이번에는 진짜 원의 중심을 지나게끔 이렇게 그어볼게요 얘가 바로 비로소 원의 지름이죠 자 그럼 이제 이 선분들의 길이를 비교해 보세요 누가 가장 길어요? 맞아요 원의 중심을 지나는 지름의 길이가 가장 길답니다 아하 그렇다면 원의의 두 점을 이은 선분은 되게 되게 많아 무수히 많은데 그중에서 이 원의 중심을 지나는 선분 즉 지름의 길이가 가장 길다 라는 것도 함께 기억해 주면 좋겠습니다 자 그럼 이제 관계를 본격적으로 알아볼까요? 우리 친구들 지금 여기에 원의 중심과 원의의 한 점을 이은 선분 바로 반지름이 있어요 길이가 얼마예요? 2cm죠? 그런데 자를 대고요 반대편으로 반지름을 쭉쭉쭉 이어서 그려볼게요 어디까지? 원의의 한 점이 만나는 데까지 그랬더니 어? 원의 지름이 되었다라는 걸 알 수가 있었어요 아니 그런데 원의 지름을 보니까 원의 중심에서 원의의 한 점, 반지름 원의 중심에서 반대쪽으로 원의의 한 점, 반지름 그러니 결국 원의 지름은 원의 반지름이 두 개인 선분이 되는 걸 알 수가 있겠죠 아하 이름만 비슷한 것뿐만 아니라 어떤 관계가 있냐 바로 원의 지름은 원의 반지름의 두 배다 라는 관계가 있어요 그럼 우리 친구들 여기에서 원의 반지름이 만약에 2cm다 그림처럼 그렇다면 원의 지름이 얼마예요? 원의 지름은 2cm의 두 배니까 4cm예요 라는 거 자로 직접 대보지 않아도 알아볼 수 있겠죠 아니면 이렇게 선생님이 어떤 원에 있어 얘들아 근데 어떤 원은 지름의 길이를 재봤더니 얘가 10cm였대 그러면 반지름은 몇 cm야? 라고 했을 때는 우리 친구들 두 배의 반대는 뭐가 되겠어요? 반이잖아요 10cm의 반이니까 5cm예요 라는 거 알 수가 있는 거죠 아하 그렇다면 반지름의 길이를 알면 두 배를 해서 지름의 길이를 알 수 있고 지름의 길이를 알면 그곳의 반인 반지름의 길이를 알 수가 있겠구나 굉장히 둘이 친한 관계구나 라는 거 알 수 있죠 자 좋아요 자 그러면 우리 이렇게 정리해 볼게요 여기 보세요 지름은 반지름 두 개가 이어진 길이라는 거 그래서 중요합니다 우리 친구들 교재에다가 이 부분 별표 쳐주세요 지름은 반지름의 두 배니까 계산할 때는 반지름 곱하기 2 그리고 내가 지름을 알아요 반지름을 구하고 싶어요 그럼 지름 나누기 2를 해서 반지름을 구할 수가 있는 겁니다 어느 한쪽이 주어지면 다른 한쪽 계산이지 우리 친구들 거뜬히 할 수가 있겠죠 아 그래서 지금 보니까 우리 지름의 반이야 그래서 반지름으로 이름도 지어졌나 봐요 좋아요 자 그러면 이제 수혜력 확인해 볼게요 먼저 우리는 원의 중심을 찾는 연습해 볼 거예요 원의 중심이라는 건 한가운데 있는 점을 말하죠 우리 도로를 걷다 보면 이렇게 매놀 뚜껑을 볼 수가 있는데 원 모양이에요 그러면 한가운데에 점을 찍어서 원의 중심을 나타낼 수 있어요 자 그러면 다음과 같이 이런 판이 있어요 여기서도 우리 원의 중심 한가운데 점이니까 어때요 뿅 이렇게 표시해 볼 수가 있겠죠 좋아요 자 그러면 이번에는 원의 반지름과 지름을 찾아볼게요 우리 친구들 원의 반지름, 원의 중심에서 원위에 한 점 아무거나 찍으면 됩니다 그래서 쭉 연결하면 되고 원의 지름은 원을 반으로 나누는 선분이니까 원의 중심을 지나고 원위에 두 점을 이은 선분을 말하는 거예요 그럼 우리도 한번 연습해 보죠 다음 원이 있는데 원의 반지름은 빨간색 선으로 지름은 파란색 선으로 그어 보세요 라고 했어요 먼저 우리 원의 반지름 그어 볼까요 원의 중심하고 원위에 한 점이니까 어디 점을 잡을까 선생님은 뿅 요 점 잡아 볼게요 그래서 연결을 이렇게 합니다 자 그 다음에 지름은요 바로 원위에 두 점을 이은 선분 중에 가장 길어 아 이 원을 반으로 나누는 선이야 바로 원의 중심을 지나는 선이야 라는 거죠 그래서 원의 중심을 지나게끔 이렇게 두 점을 이어주면 되겠습니다 좋아요 그러면 이것이 이 선분이 반지름이구요 그리고 이 선분이 지름이다 라는 거 확인할 수가 있겠죠 좋아요 자 이제 반지름을 알면 지름을 구할 수 있어요 여기 반지름이 1cm 라면 지름은 반지름의 2배니까 우리 계산하는 식 1 곱하기 2 2cm 가 지름이야 라는 거 알 수 있죠 자 우리도 계산해 봐요 반지름이 지금 3cm 로 나왔어요 그러면 지름은요 반지름의 2배 그래서 6cm 가 되겠어요 자 따라서 정답은 6cm 가 지름이야 라는 거 알 수 있죠 자 그럼 반대로 지름을 알 때 반지름 구할 수 있어요 그럼요 지름의 반이 반지름이죠 그럼 지금 여기 지름이 6cm 니까 반지름을 계산하는 방법은 지름 나누기 2, 6 나누기 2 그래서 3cm구나 라는 걸 알 수 있답니다 자 우리도 한번 연습해 봐요 우리 10번이에요 지금 보니 지름이 4cm 로 나왔네요 그럼 반지름은 지름 나누기 2 그래서 2cm 가 되겠어요 따라서 정답은 2cm 가 답이 되겠습니다 자 우리 이렇게 수외력도 확인해 봤으니까 이제 수외력을 높여볼 차례예요 6번이에요 원의 중심과 반지름에 대해 옳게 설명한 친구의 이름을 써보세요 라고 했습니다 우리 새 친구가 뭐라고 이야기하는지 한번 볼까요 선미 한 원의 반지름은 3개만 그을 수 있어 아니 정말요? 원이 이렇게 있는데 반지름은 원의 중심과 원유의 한 점을 이은 성분이잖아요 자 선생님이 정말 3개만 그릴 수 있는지 볼까요 이 점하고 연결해 보세요 하나 이 점하고 연결할게요 둘 이 점하고 연결할게요 셋 이 점하고도 될 수 있고 이 점하고도 될 수 있고 얼마나 많은데요 정말 무수히 많아요 그럼 선생님 100개 인가요 아니에요 딱 몇 개 다라고 말할 수도 없어요 그렇기 때문에 3개만 그릴 수 있어 땡 무수히 많다라고 하는 게 맞죠 자 유나 한 원에서 반지름의 길이가 모두 같아 지금 선생님이 하나 둘 셋 넷 다섯 개를 그렸는데 모두 어때요 같습니다 자 누름못으로 그렸을 때 누름못을 꾹 누른 부분하고 이 구멍에 연필을 넣은 부분까지 거리잖아요 좋아요 그래서 아 유나가 맞는 얘기를 했구나 자 승민이 한 원에는 중심이 두 개요 선생님이 뭐라고 그랬죠 이거 강조했는데 중심이 딱 하나죠 한 가운데 있는 점이에요 그러면 여기서는 중심이 딱 한 개뿐이라서 이것도 틀렸습니다 자 그럼 옳게 설명한 친구는 누구밖에 없어요 우리 유나 친구밖에 없네요 이름을 써보세요 라고 했으니까 정답은 우리 이제 윤아가 정답이 되겠습니다 좋아요 자 그럼 이번엔 9번 만나보죠 지름에 대한 설명으로 옳지 않은 것을 찾아 기호를 써보세요 라고 했습니다 지름이 뭘까 일단 우리가 먼저 원 그리고 원에서 지름을 그려볼게요 원의 한가운데 점을 원의 중심 그리고 원의 두 점을 이인선분 중에 원의 중심을 지나는 선분이라면 이것이 지름이 되는 거죠 지름도 한 개만 그리는 게 아니라 무수히 많이 그릴 수 있고 어떻게 그려도 모두 길이가 같아요 자 그럼 기억 지름은 원을 둘로 똑같이 나눕니다 맞아요 지름은 이렇게 원을 정확하게 둘로 나눠요 우리가 원 모양의 종이 이렇게 접어 봤잖아요 그래서 맞는 말 자 ㄴ 지름은 반지름의 두 배입니다 반지름을 두 번 이은 길이가 지름이죠 그래서 이것도 맞는 말 자 ㄷ 지름은 원의 두 점을 이은 선분 중에서 가장 짧습니다 아니 무슨 소리예요 가장 짧다니요 지금 더 짧은 이렇게 선분이 있는데요 반대로 얘기했죠 가장 길어요 깁니다 김 가장 깁니다 이렇게 얘기하는 게 맞아요 그래서 짧다 라는 거 옳지 않아요 자 그럼 옳지 않은 것은 누구 그래요 바로 이제 ㄷ 이니까 기호를 써보세요 라고 했을 때 ㄷ 이라고 답해 주면 되겠습니다 자 그 다음에 우리 11번 문제 갈게요 실생활 활용 문제네요 다음 그림을 보고 민지가 설명하는 장소를 찾아 써보세요 라고 했어요 우리 민지가 뭐라고 얘기했냐면 그곳은 우리 집에서 200미터보다 멀고 300미터보다 가까워 라고 했어요 우리 친구들 민지네 집을 찾아보면 여기 있습니다 그럼 지금 원이 크기가 다르게 3개가 그려져 있는데 가장 작은 원 보세요 자 민지네 집에서 100미터 떨어진 곳에 이렇게 원이 그려져 있으니 이 원의 반지름은 100미터라고 볼 수 있겠죠 그 다음에 두 번째는 100미터 100미터 그러면 200미터가 되겠네요 그렇다면 이 두 번째 원이 바로 반지름이 200미터인 원이에요 그럼 이제 마지막으로 100 100 100 여기서부터 여기까지가 300미터가 되는 거죠 그럼 반지름이 300미터인 원이 가장 크다라는 거 알 수 있어요 그 말은 무슨 말이냐면 우리 친구들 지금 200미터보다 멀고 라고 했으니까 이 두 번째 원을 중심으로 그보다 더 밖에 있어야 되는 거죠 그리고 300미터보다 가까워 라고 했으니까 가장 큰 원보다는 안쪽에 있어야 되는 거예요 아 그렇기 때문에 두 번째 원보다는 크고 그 다음에 바깥쪽에 있고 가장 큰 원 안쪽에 있는 부분은 여기가 되겠습니다 그럼 이 부분에 있는 장소는 어디예요 그렇죠 약국이 되는 걸 알 수가 있겠죠 따라서 정답 약국이 정답이 되겠습니다 자 좋아요 우리가 이런 원은 또 어디에서 볼 수 있냐면은 양궁 있잖아요 그래서 가장 크기가 작은 원 안에 맞춰야지 점수가 가장 높다라고 할 수 있죠 예를 들어서 이 안에 맞추면 10점이다 그 다음에 여기에 9점이다 여기에 8점이다 라고 했을 때 꼭 이 부분만 아니라 이쪽 어디에 맞춰도 다 8점이 되는 거잖아요 그렇죠 그래서 우리가 이 모양에서도 200미터보다 멀다 라는 거는 반지름이 200미터인 원 밖에 있다 그리고 300미터보다 가까워 그럼 반지름이 300미터인 원 안에 있다 이렇게 두 가지 조건으로 찾아보는 겁니다 좋아요 자 그러면 우리 교과용 한 문제 만날게요 정월 대보름은 우리나라의 전통 명절로 음력 1월 15일입니다 정월 대보름에는 보름달을 보고 소원을 빌고 쥐불놀이를 합니다 쥐불놀이는 들판에다가 작은 구멍을 여러 개 뚫어 놓은 깡통에 집단을 넣고 불을 붙여 빙빙 돌리는 놀이인데요 깡통에 매당 끈의 길이가 60cm라면 이 깡통을 돌려서 만들어지는 원의 지름은 몇 미터 몇 센티미터 인가요 라고 했어요 자 우리 친구들 쥐불놀이 한 적 있어요 선생님도 한 번도 해본 적은 없지만 TV에서 본 적은 있습니다 이렇게 신나게 돌려서 우리가 원 모양을 만들 수 있는 거잖아요 그런데 보세요 깡통에 매당 끈의 길이가 60cm래요 그러면 지금 이렇게 내가 딱 쥐고 있는 여기에서 쥐고 있는 부분 그 다음에 지금 깡통이 돌아가면서 원이 만들어지니까 여기서부터 여기까지가 60cm가 되는 거죠 그러면 이렇게 실이 60cm 라고 했을 때 자 돌려봅니다 화려하게 불 모양이 이렇게 나올 거예요 그랬을 때 반지름이 60cm인 원이 그려질 거고 지름이 몇 미터 몇 센티미터 인가요 라고 했으니까 우리 일단 지름을 구할 수가 있겠죠 지름은 60cm가 두 번 더해진 즉 60의 두 배예요 그러니 120cm가 되겠습니다 자 그런데 문제에서 몇 미터 몇 센티미터야 라고 물어봤죠 우리 100cm 하고 그보다 20cm 더 긴 길이가 되겠고 100cm는 1미터가 되는 거예요 그래서 1미터 20센티미터가 됩니다 따라서 정답 1미터 20센티미터가 정답이 되겠습니다 자자 이제 기대해 주세요 우리 수혜력도 높여봤구요 수혜력 완성해 보도록 할게요 우리 친구들이 가장 이제 어려워하는 부분입니다 아 동그라미 하면 예쁘고 내가 뭐 이제 뭘로 누름못으로 그리고 띠종이로 예쁘게 그릴 수 있는데 문제가 이렇게 나오면 대체 무슨 말인가 싶죠 하지만 지금까지 우리 차곡차곡 쌓아온 실력을 그대로 한번 뽐내 보도록 할게요 첫 번째 대표용형 문제의 유형은요 반지름을 이용하여 선분의 길이를 구하는 거예요 그럼 우리는 반지름 아 한 원에서 원의 중심과 원의 한 점을 이해한 선분이고 무수히 많은 반지름을 한 원에서 그릴 수 있고 그리고 또 반지름은 어떻게 그려도 모든 길이가 같다 라는 거 알 수 있고 지름의 길이의 반이다 라는 거 벌써 이렇게 많은 내용 공부했어요 자 그럼 이런 문제 점기역과 점니은은 각각 두 원의 중심입니다 선분 기역니은의 길이를 구해 보세요 라고 했습니다 기역에서부터 니은까지는 보세요 왼쪽 오른쪽 두 개의 원이 이렇게 점 디귿에서 붙어 있죠 그러면 여기서부터 여기까지는 왼쪽 원의 반지름 여기서부터 여기까지는 오른쪽 원의 반지름 같아요 따라서 왼쪽 원의 반지름은 다른 쪽에서 말을 주고 있습니다 5cm 여기서는 3cm가 되는 거죠 좋아요 1단계 선분 기역 디귿은 왼쪽 원의 반지름이므로 5cm이고 선분 디귿니은은 오른쪽 원의 반지름이므로 3cm 입니다 따라서 선분 기역니은은 선분 기역 디귿과 선분 디귿니은의 합임으로 선분 기역니은은 바로 5와 3을 더한 8cm 가 되는 걸 알 수가 있겠습니다 어때요 반지름을 알면 금세 풀 수 있는 문제였죠 좋아요 자 그럼 우리도 연습해 볼까요 선분 기역니은의 길이를 구해 보세요 라고 했어요 지금 보니까 기역에서 니은까지는 자 둘이 만나는 점을 중심으로 해서 여기서부터는 위에 있는 작은 원의 반지름이에요 4cm가 되겠고요 이 점에서 니은까지는 아래쪽에 있는 원의 반지름이니까 9cm가 됩니다 따라서 선분 기역니은의 길이는 4와 9를 더해서 13cm가 되겠죠 따라서 정답은 13cm가 답이 되겠습니다 좋아요 자 그러면 조금 더 어려워 지면 이렇게도 나올 수 있어요 선분 기역니은의 길이를 구해 보세요 라고 했어요 아니 기역에서부터 니은까지는 크기가 다른 두 원이 이렇게 붙어 있는데 여기서부터 여기까지는 바로 왼쪽 원의 반지름이에요 아니죠 반지름 두 번 있는 지름입니다 그러면 여기서부터 여기까지는 큰 원의 지름이니까 반지름의 2배 즉 10cm가 되겠고요 여기서부터 여기까지는 오른쪽 작은 원의 반지름의 2배 2 곱하기 2 4cm가 되겠죠 따라서 두 선분을 이어 보면 10과 4를 더해서 14cm 아하 14cm라는 것을 자 없이도 이렇게 계산으로 구할 수 있답니다 좋아요 자 이번에 두 번째 대표 응용 문제는요 다양한 원의 지름과 반지름을 구하는 거예요 한원에서 반지름과 지름을 찾을 수 있다면 이렇게 여러 원이 겹쳐서 그려도 문제없어요 보세요 큰 원의 지름이 8cm일 때 작은 원의 반지름을 구해 보세요 라고 했는데 아니 그냥 막 겹쳐져 있는 게 아니에요 잘 보세요 작은 원이요 큰 원의 원의 중심을 지나고 있어요 그 말은 무엇이냐 자 점 이응해서 이렇게 그어 볼게요 그럼 선생님이 그은 선분은 작은 원 입장에선 지름이죠 근데 큰 원 입장에선 어때요 반지름 입니다 아하 작은 원의 지름은 큰 원의 반지름과 같구나 라는 걸 1단계로 알아야 됩니다 따라서 작은 원의 지름은 큰 원의 반지름과 같습니다 자 그럼 큰 원의 지름이 나와 있죠 큰 원의 반지름이 8 지름 나누기 2 그래서 4cm 이기 때문에 작은 원의 지름은 4cm가 되는 거죠 여기가 4cm 그럼 이제 끝났어요 우리는 작은 원의 반지름을 구하는 게 목표에요 그래서 반지름은 지름 나누기 2 계산하면 되기 때문에 작은 원의 반지름은 4 나누기 2 2cm 에요 라는 걸 알 수가 있겠습니다 좋아요 일단 그림을 잘 관찰해야 되겠죠 우리 친구들 자 그럼 우리도 도전해 봅시다 작은 원의 반지름을 구해 보세요 라고 했어요 지금 큰 원 안에 작은 원이 쏙 들어갔는데 자세히 들여다보니까 어머머 중심을 지나게 드러났네 들어가 있죠 그러면 바로 큰 원의 중심에서 작은 원의 중심을 지나는 이렇게 큰 원 입장에선 반지름을 그려볼게요 그랬더니 작은 원 입장에선 지름과 다름없죠 그렇다면 이 작은 원의 지름은 큰 원의 반지름 즉 16 나누기 2 8cm 가 되는 걸 알 수 있어요 이 길이가 8cm 가 됩니다 자 우리의 목표는 반지름을 구하는 거니까 이 길이를 구하는 거죠 그러면 이제 작은 원의 반지름은 바로 8 나누기 2 4cm 가 된답니다 따라서 정답은 4cm 이 길이가 4cm 가 된다 자업서도 구할 수 있어요 좋아요 자 이번에는 거꾸로 가장 큰 원의 지름을 구해 볼게요 아니 원이 세 개나 그려져 있어요 바로 이 점을 모두 세 원 모두 지나는데요 가장 작은 원의 반지름이 3cm 래요 그럼 잘 보세요 가장 작은 원의 지름은 3의 2배 그래서 6cm 가 될 겁니다 요 길이가 6cm 아니 그런데 6cm 는 중간 원의 반지름인 것 같아요 그럼 중간원의 지름 바로 반지름의 2배인 11cm 가 되는 걸 알 수가 있겠죠 여기가 11cm 입니다 자 그럼 중간원의 지름은 가장 큰 원의 반지름과 같잖아요 그래서 가장 큰 원의 지름은요 12의 2배 24cm 가 되는 걸 알았어요 아 여기서부터 여기까지가 24cm 구나 따라서 정답은 24cm 가 답이 되겠습니다 좋아요 자 그럼 우리 세 번째 응용 문제 만나볼게요 자 이번에는 원이 아니라 직사각형 까지 등장했어요 원을 이용하여 도형의 변의 길이를 구할 수 있답니다 문제 보세요 직사각형 안에 크기가 같은 원 두 개를 그림과 같이 맞닿게 꽉 차게 그렸어요 그럴 때 기역과 니은의 길이를 가깝게 구해보세요 라고 했는데요 우리 기역은요 지금 반지름이 5cm 인 원이 자 어때요 쭉 이렇게 이어주면 얘가 기역과 같겠죠 따라서 지름이 두 번 있는 길이에요 자 1단계 한원의 반지름이 5cm 니까 지름은 5의 2배인 10cm 입니다 그렇다면 기역은 지름 지름 두 원의 지름의 합과 같으므로 기역의 길이는 10과 10을 더해줘야 되겠죠 여기가 10cm 여기가 10cm 니까요 그래서 20cm 가 되는 거고 그리고 니은 보세요 니은은 원 입장에서는 바로 이렇게 지름과 같아요 그래서 한원의 지름과 같기 때문에 니은의 길이는 10cm 가 된답니다 아 따라서 기역은 20cm 니은은 10cm 가 되는 걸 알 수가 있겠죠 좋아요 자 그럼 우리도 연습 도전해 볼게요 직사각형 안에 크기가 같은 한 몇 개 세 개를 그림과 같이 맞닿게 그렸어요 네모 안에 알맞은 수를 써놓으세요 라고 했습니다 자 지금 긴 쪽을 보니까 원의 지름이 하나 둘 셋 세 번 이어진 길이와 같아요 그럼 일단 원의 지름은 반지름의 2배 그래서 4cm 가 되는 걸 알 수가 있겠죠 그러니 여기서부터 여기까지 4cm 또 4cm 4cm 그래서 가장 긴 쪽은 바로 4를 3번 더하면 돼요 즉 4 더하기 4는 8 8 더하기 4는 12cm 가 되겠죠 좋아요 이제 짧은 쪽 길이 볼게요 이 길이는 원 입장에서는 지름하고 똑같네요 우리 지름 4cm 로 구해놨으니까 아하 4cm 가 되겠습니다 따라서 12와 4를 차례로 넣어주면 되겠죠 좋아요 직사각형의 변의 길이지만 원하고는 어떤 관계인지 잘 그림을 보고 관찰하면 돼요 자 그러면 우리 3-2번 도전해 볼게요 정사각형 안에 이번에는 크기가 같은 원 몇 개 4개를 그림과 같이 맞닿게 그렸습니다 자 문제 정사각형의 4변의 길이의 합을 구해보세요 라고 했네요 정사각형은 4변의 길이가 모두 같은 사각형이에요 그러니 1변의 길이만 알면 되겠네요 좋아요 자 그러면 1변의 길이 어떻게 할 수 있을까 지금 원에서 잘 관찰해 볼게요 여기서부터 여기까지 길이는 바로 여기서부터 여기까지 길이와 같아 지름이 두 번 이어진 길이에요 그럼 일단 반지름이 나왔으니까 원의 지름부터 구해 볼까요 바로 6의 두배 그래서 12cm 가 됩니다 따라서 여기서부터 여기까지 12cm 여기서부터 여기까지 12cm 아 그렇다면 이 1변의 길이는 12를 두 번 더 하면 되겠구나 그래서 24cm 가 되겠네 좋았어 정사각형의 1변의 길이가 24cm니 우리 4변의 길이의 합은 바로 24를 4번 더하면 되겠다 자 더해 볼게요 두 번 더하면 48이에요 이렇게 두 번 더해도 48이니까 48 더하기 48은 96으로 계산이 되겠어요 따라서 정답은 96cm 가 되겠습니다 자 이렇게 해결했으니까 우리 오늘의 마지막 문제도 거뜬히 할 수 있습니다 크기가 같은 원세계를 그림과 같이 맞닿게 그렸어요 세원의 중심을 이어 만든 삼각형 ㄱ,ㄴ,ㄷ의 3변의 길이의 합을 구해보세요 라고 했으니까 일단 1변의 길이를 구해 볼게요 어디 보자 점ㄱ에서 점ㄷ까지 어 반지름 두 번 이어진 거니 여기도 3cm 그러면 여기서부터 여기까지가 1변이 6cm 입니다 아니 그럼 이쪽도 여기도 3, 여기도 3, 여기도 6cm죠 여기도 3, 여기도 3 어머 뭐야 그러면 이 삼각형의 정체는 정삼각형이겠네 왜냐하면 3변의 길이가 모두 같으니까요 그리고 1변이 6이라고 했으니까 6을 3번 더하면 되겠어요 그래서 18cm가 되는 걸 알 수 있습니다 따라서 정답은 18cm로 계산이 가능하겠죠 좋아요 이렇게 우리 오늘의 미션도 완성 원의 중심은 한 가운데 있는 점 반지름은 원의 중심과 원위의 한 점을 이은 것이고 지름은 바로 원위의 두 점을 이은 선분 중에 원의 중심을 지나는 선분을 말해요 중요한 건 지름과 반지름의 관계였죠 지름은 반지름의 2배 또는 반지름은 지름의 반 그래서 계산할 때는 반지름은 지름 나누기 2로 계산할 수 있습니다 자 이렇게 해서 우리 오늘의 미션도 완성했습니다 우리 친구들은 선생님과 함께 한 문제 꼭 풀어봐야 되겠고 함께 하지 않은 문제도 우리 친구들 숙제입니다 다음 시간에 원에 대해서 또 다른 이야기가 기다리고 있으니까요 다음 시간에 다시 만나요 여러분 안녕\n",
      "07강원(1)_초등수해력-도형·측정3단계.mp3에 대한 텍스트가 ./ebs_script/new/07강원(1)_초등수해력-도형·측정3단계.txt로 저장되었습니다.\n",
      "Transcription for 08강원(2)_초등수해력-도형·측정3단계.mp3:\n",
      "안녕하세요 EBS친구들 여러분의 챔챔쌤입니다 우리 지난 시간에 동글동글 예쁜 원친구를 공부를 했어요 자 그래서 원의 중심이 뭔지 원의 반지름, 원의 지름도 구해봤습니다 그러면 그 예쁜 이 원친구를 우리가 직접 그려볼 수도 있어야 되겠죠 그래서 이번 시간 바로 미션, 원을 그려볼 겁니다 우리 친구들 컴퍼스가 집에 있다면 컴퍼스를 준비해 주세요 좋아요, 출발해 볼게요 이미 우리는 원을 누름못과 띠종이를 이용하여 그려봤어요 그래서 누름못을 꾹 누른 부분, 이것이 바로 원의 중심이 되는 것이고 그리고 이 누름못을 누른 부분과 구멍까지의 길이 이것이 결국 반지름이 되었습니다 그리고 누름못에서 멀면 멀수록, 구멍이 멀면 멀수록 크기가 큰 원이 그려진다 라는 걸 알 수 있어요 그러면 이 누름못과 띠종이가 아니라 원을 예쁘게 그릴 수 있는 도구가 있답니다 자 바로 컴퍼스인데요 다음과 같이 짜잔 컴퍼스를 이용해서 예쁘게 원을 그릴 수 있어요 우리 친구들 선생님도 이렇게 칠판으로 그릴 수 있는 컴퍼스를 준비해 왔습니다 자 관찰을 해보면 딱 고정하는 부분 이것이 누름못을 누르는 부분과 같은 역할을 하는 거고요 그리고 연필을 이렇게 달 수 있는 연필을 고정할 수 있는 부분이 바로 어때요 띠종이에서 우리가 구멍에다 연필을 넣었잖아요 그 부분입니다 그렇다면 누름못을 누른 부분하고 구멍까지의 길이는 바로 이렇게 컴퍼스를 벌려서 조정하면 되겠죠 그럼 생각해 보세요 우리 친구들 바로 컴퍼스를 많이 벌리면 많이 벌릴수록 어때요 반지름이 길어집니다 이 벌린 길이가 반지름이 되기 때문에 우리 친구들 이렇게 원을 그렸다고 생각했을 때 선생님이 일부만 이렇게 그려볼게요 그럴 때랑 이렇게 그릴 때랑 훨씬 원이 커진답니다 그 이유는 우리 친구들 컴퍼스를 이용하여 원 그리는 방법을 차근차근 알아보면 알 수 있어요 첫째 원에서는 가장 중요한 게 누구냐 바로바로 한가운데 있는 원의 중심이었어요 딱 한 개밖에 없잖아요 그러면 내가 원의 중심을 어디에다 그릴지 정해야 되니까 일단 콩 중심이 되는 원을 찍어주는 게 가장 첫 번째 그쵸 자 그래서 원의 중심이 되는 점 이응을 정한 다음에요 그 다음에 나는 반지름이 얼마 정도 되는 원을 그려야지 라고 했을 때 컴퍼스를 원의 반지름만큼 벌려줍니다 자 지금 이 그림에서는요 0에서 2까지 2cm 만큼 벌렸어요 그럼 벌린 곳을 그대로 여기가 2cm니까 컴퍼스에 침을 점 이응에 꽂고요 원을 그려줍니다 이거 이제 고정이 되는 거니까 한 바퀴를 삥 둘러보면은 원을 그릴 수가 있어요 선생님도 그려볼게요 자 이 고정이 되는 게 여기에 우리 친구들 칠판용이라서 조금 모양이 다르기는 한데요 여기에다가 만약에 나는 점을 여기에다 꽂아야지 자 여기에다 정해야지라고 했을 때 원의 중심을 정한다고 딱 점 하나 정해놓고 그리고 이 부분 고정하는 거 여기에다가 꼭 찍습니다 이렇게 찍고 자 어느 정도 되는 거 벌릴 거냐 내가 이 정도 돼서 원을 그린다고 하면 요정도 선생님 다 그리지 않고 일부만 그릴게요 요렇게 그려질 거고 아니면 내가 더 벌렸어 더 벌리면 이런 원이 그려질 거니까 어때요 원이 훨씬 커지겠죠 그쵸 그래서 아 많이 벌리면 많이 벌릴수록 크기가 큰 원이 그려지겠다라는 거 알 수 있습니다 우리 친구들은 조금 더 정확하게 한번 원을 직접 그려보세요 자 그러면 우리는 이미 원에서 원의 중심 한가운데 점이구요 그리고 원의 중심과 원의 한 점을 이은 성분이 반지름이다 라는 거 알았어요 그럼 딱 이런 그림이 있을 때 아 이 원의 반지름은 몇 센티미터 5 센티미터구나 라는 거 알 수 있겠죠 좋아요 그럼 이제 어떻게 연결을 할 거냐 원으로 이루어진 모양에서 규칙을 찾아볼 겁니다 이렇게 예쁜 원이 아니 무려 3개나 있네요 그럼 우리 친구들이 원으로 그려진 그림에서 규칙을 찾을 때는 자 딱 두 가지 선생님 꿀팁 줄게요 이 두 가지만 알아보면 돼요 어떤 걸 알아보면 되냐 원에서 가장 중요하게 했으면 뭐라 그랬죠 원의 중심이라고 그랬죠 그래서 세 원의 중심이 같은가 다른가 다르다면 어느 쪽으로 몇 칸 정도 이동을 했는가 이렇게 원의 중심이 어떤지 알아보고요 그 다음에 두 번째는요 원의 반지름을 알아보면 됩니다 그러면 규칙 끝 다 찾을 수 있어요 지금 보세요 일단 원이 몇 개? 3개예요 자 원의 중심 어때요 세 원의 중심이 모두 한가운데 점 같아요 그럼 이제 원의 반지름은 가장 작은 원은 지금 이렇게 눈꿈 한 칸이니까 1cm 그 다음에 두 번째 원은 이렇게 반지름이 눈꿈 두 칸이죠 2cm 그리고 가장 큰 원은 반지름이 눈꿈 세 칸입니다 3cm다라는 걸 알 수 있어요 아니 그러면 반지름은 1cm였다가 그 다음에 2cm 가장 큰 원이 3cm니까 3cm니까 어때요 길어지죠 근데 정확하게 몇 cm씩 길어져요 1cm씩 길어집니다 아하 원의 반지름은 1cm씩 길어지고 그렇다면 원의 지름은요 2cm씩 일정하게 늘어나겠죠 보세요 반지름이 1cm, 2cm, 3cm라면 지름은 반지름의 두 배니까 선생님 그냥 반지름이라고 정확하게 써 줄게요 반지름 그럼 지름은 2cm 두 번째 원은 반지름이 2cm니까 그거의 두 배의 4cm 가장 큰 원은 반지름이 3cm니까 그곳의 두 배의 6cm가 되는 걸 알 수 있잖아요 그럼 반지름은 1cm씩 늘어나고 지름은 1cm씩 늘어나고 반지름은 지름은 2cm씩 늘어난다 라는 규칙을 알 수 있는 거죠 좋아요 자 그래서 이제 규칙을 이야기할 때는 원의 개수, 제일 중요한 건 원의 중심, 반지름 또는 지름을 알아보는 겁니다 자 그러면 우리 수혜력 확인하기 우리 친구들 컴퍼스로 원 여러 개를 그리면요 굉장히 예쁜 모양들을 많이 만들어낼 수가 있어요 지금 여기 컴퍼스에 침을 꽂아야 할 곳을 찾기 자 선생님이 원으로 이렇게 컴퍼스로 원 그려봤을 때 우리 친구들 컴퍼스에 침 우리 친구들이 가지고 있는 컴퍼스는 여기가 뾰족할 겁니다 대신 칠판용이라서 이렇게 돼 있는데 바로 짠 이렇게 꽂는 거죠 그러면 이 꽂는 부분이 뭐가 되는 거예요 자 이렇게 보여줄게요 꽂는 부분이 바로 여기가 원의 중심이 되는 겁니다 그래서 컴퍼스에 침을 꽂아야 할 곳을 찾아보세요 라는 거는 원의 중심을 찾아보세요 라는 거랑 똑같아요 원이 동그라미 완전 하나가 그려질 수도 있겠지만 이 그림처럼 일부분만 그려질 수 있고요 지금 여기는 세상에 사각형하고 같이 그려졌어요 사각형 안에 원이 반쪽씩 이렇게 그려진 모양 찾을 수 있겠죠 뭐 사각형은 상관없지만 일단은 원이 몇 개 그려졌냐면 두 개가 그려졌습니다 물론 완전하지 않고 반쪽씩 그러면 아무리 원의 일부분이 나왔다고 하더라도 우리 친구들은 원의 중심을 찾을 수 있어야 돼요 왼쪽 원의 중심 바로 여기겠죠 오른쪽 원의 중심 바로 여기겠죠 그래서 두 곳에 우리가 원의 중심 표시하면 되겠습니다 자 그럼 우리도 한번 해볼까요 와 주어진 모양을 그리기 위하여 컴퍼스에 침을 꽂아야 할 곳을 모두 표시해보세요 라고 했습니다 멋진 태극 무늬 모양 같아요 자 그러면 여기에서는 완전하게 동그라미 모양의 원이 크게 바깥쪽으로 하나만 보이니까 아 원 하나만 그리면 돼 안 되죠 자 지금 이 안을 들여다보면요 얘도 원의 일부분이고요 얘도 원의 일부분이에요 그죠 그럼 우리 친구들 이런 그림을 봤을 때 원이 몇 개 보여야 돼요 맞아요 세 개 보여야 됩니다 물론 완전하게 그려진 원 하나 그리고 반쪽만 그리는 원 두 개 그러면 당연히 원의 중심도 어때요 그렇죠 세 군데를 찍어야 되는데 물론 그 원들이 원의 중심이 다 같을 수도 있어요 자 그러면 지금 큰 원부터 볼까요 우리 큰 원을 그리려면 지금 보세요 한가운데 점이 여기겠어요 그래서 컴퍼스에 침을 이곳에 찍고 그 다음에 반지름이 이렇게 네 칸이 되게끔 벌려서 한 바퀴를 쭉 빙 돌아서 그리면 어때요 선생님 분필 따라오면은 가장 큰 원이 이렇게 그려지겠죠 아 그렇기 때문에 가장 큰 원에서는 컴퍼스에 침을 이곳에 꽂아야 된다 라는 걸 알 수 있어요 자 그 다음에 이제 왼쪽 작은 원 그려볼게요 반만 그렸지만 일단 한가운데 어디에요 완전하게 만약에 이 원이 이렇게 그려졌다고 했을 때는 한가운데 좀 찾기 되게 쉽겠죠 그런데 일부만 그려졌을 때는 우리 친구들이 완전하게 그려졌을 때를 상상하면서 생각하면서 한번 찾아보자구요 여기가 되겠네요 그럼 맞나 자 직접 한번 해볼까 여기에 컴퍼스에 침을 꽂고 반지름이 이렇게 모는 두 칸만큼 벌려야 되겠어요 그래서 반만 아래쪽으로만 그립니다 잘 보세요 요렇게 그려주면 그려지겠죠 아하 찾았다 그래서 이 부분 자 그 다음에 얘는 위쪽만 그려져 있으니까 만약에 아래쪽까지 이렇게 원이 다 있다고 했을 때 한가운데 점을 여길 거예요 그래서 컴퍼스에 침을 여기에 꽂고 마찬가지로 아까 그렸던 원처럼 두 칸을 벌려서 윗부분만 원의 반만 쭉 이렇게 따라 그려줍니다 그럼 완성할 수 있겠죠 아 원이 3개인데 그런데 원의 중심이 다 달라 그래서 뿅뿅뿅 이렇게 점 3개를 찍어야 돼 라는 겁니다 좋아요 자 그러면 우리 4번 짜잔 지금 그림 보세요 자세히 보니까 사각형 보여요 사각형 짠 이 사각형에 아니 원이 완전하게 하나가 다 그려진 게 안 보여요 그죠 하지만 이쪽 보세요 이쪽 요걸 보니까 원의 일부입니다 우리 친구 원을요 선생님은 원하면 뭐가 가장 떠오르냐면 시계도 있고 컵도 있고 그렇지만 선생님이 좋아하는 피자가 떠오릅니다 보통 피자는 원 모양으로 한 판이 오잖아요 그런데 몇 조각으로 잘라오죠 그랬을 때 딱 반으로 자르고 딱 반으로 잘라서 4등분이 되었다라고 해 보세요 그랬을 때 이 부분 자 물론 이름이 있지만요 우리 친구들 똑같이 4로 나눈 것 중에 하나라고 보자고요 그러면 여기에서 이렇게 그려졌다라는 거는 얘도 원의 일부입니다 아 우리 피자를 똑같이 4등분으로 나눈 것 중에 하나에서 볼 수 있는 원의 일부구나 그렇다면 여기에서 이 원 완전하게 그려졌을 때 이렇게 그려졌겠죠 그죠 그리고 이 부분도 원 일부 보여요 얘도 이렇게 생긴 원의 일부예요 그 다음에 여기도 어때요 이렇게 생긴 원의 일부고요 좀 못생기게 그려지긴 했지만 여기도 어때요 이렇게 생긴 원의 일부예요 맞아요 그러면 이런 원의 일부라는 거 우리 친구들이 알아야 되고 이런 그림이 주어졌을 때도 원이 몇 개 보여요 4개 보여요 라고 해야 돼요 그렇다면 원의 중심이 다 같을까 우리가 아까 이렇게 다 그려봤지만 원의 중심이 다 다르겠죠 그러면 얘부터 그려볼게요 원의 중심이 어디 있겠어요 여기 있습니다 이 사각형의 꼭지점이네요 자 그럼 선생님도 그려보죠 지금 이렇게 컴퍼스의 침을 여기에다가 딱 꽂고 두 칸 벌어지게끔 반지름을 벌린 다음에 어떻게 아래쪽으로 일부만 요렇게 그려줍니다 어때요 그럼 그릴 수가 있겠죠 잘 따라왔어요 분필 아 그러면은 여기에 침 꽂아야 되고 이 부분을 그리려면 이 부분을 그리려면 여기에 침을 꽂아야 되겠죠 그죠 그리고 이 부분을 그리려면 이 원의 일부를 그리려면 요렇게 그리고 여기를 그리려면 여기를 콕 찍어서 나타내주면 되겠습니다 그러면 결국 원의 중심 몇 군데 네 군데 라는 것도 알 수가 있습니다 좋아요 자 그러면 우리 친구들 이제 수혜력을 높이는 시간이 왔습니다 우리가 컴퍼스를 이용해서 원을 그려봤어요 그러면 1번 문제는 컴퍼스를 이용하여 원을 그리는 순서에 알맞게 번호를 써보세요 라고 했습니다 자 가장 먼저 생각나요 우리 친구들 컴퍼스로 원 그리려면 어떻게 했었죠 일단 원의 중심이 제일 중요하다라고 그랬어요 이거 이거 벌리는 거 아우 이게 우선이 아니에요 내가 어디에다 원을 그릴 거냐 원에서 가장 중요한 건 원의 중심이기 때문에 일단 원의 중심이 되는 점을 콕 찍어주는 거죠 그래서 점 이응을 찍습니다 자 세 가지 그림 중에서 원의 중심을 찍어주는 건 바로 여기 있네요 점 이응 아 너가 1번이다 가장 먼저 해야 되고요 자 그런 다음에 내가 여기에 컴퍼스에 침을 꽂을 건데 대체 원의 크기를 어떻게 할 거냐 바로 원의 반지름의 길이를 생각을 해줘야 되겠죠 그래서 반지름만큼 이렇게 컴퍼스를 벌립니다 그래서 길이를 재는 거 자 이 그림 보면은 지금 자에서 침을 0에 놓고 연필이 3에 오도록 그 말은 3cm만큼 벌렸다라는 얘기잖아요 자 그래서 두 번째는 반지름만큼 벌린다 두 번째 순서 이제 마지막 다 왔어요 이렇게 벌렸으니까 그대로 이것을 원의 중심을 딱 컴퍼스에 침을 꽂고 한 바퀴를 삥 둘러 갖고 원을 완성하는 거죠 그것이 바로 가운데 그림이네요 아 그래서 3번 자 번호를 쓸 때는 가장 먼저 1번, 2번, 3번 이렇게 순서로 써주면 되겠습니다 직접 컴퍼스를 이용해 가지고 원을 그려본 친구들은 굉장히 쉽게 이 문제를 해결할 수 있겠죠 좋아요 자 2번 문제는요 컴퍼스를 이용하여 원을 그릴 때 문제 컴퍼스에 침을 꽂아야 하는 점을 찾아 써보세요 라고 했습니다 지금 원이 어떻게 그려졌는지 보니까 이렇게 그려진 거 원이 몇 개 보여요? 원이 한 개 보여요 딱 그렇죠? 그러면 컴퍼스에 침을 꽂아야 하는 점은 바로 원의 중심입니다 그럼 원의 중심은 한 가운데 있는 점을 말하죠 그래서 원의 한 가운데 있는 점 찾아줬어요 여기에요 그럼 어떻게 꽂아야 되느냐 자 이렇게 컴퍼스에 침을 여기에 꽂고 그 다음에 이 원은 지금 모는 종이에서 이렇게 3칸만큼 벌려 그리면 되는 거죠 그래서 반지름의 길이가 이렇게 3칸이 되는 거예요 그래서 한 바퀴 돌려 볼게요 이 원이 직접 그려지나 보세요 쭉 이렇게 돌리면은 분필을 따라 돌렸을 때는 지금 문제에 나오는 원이 그려져요? 네 그려지는 거 이렇게 확인할 수가 있겠죠 따라서 컴퍼스에 침을 꽂아야 하는 점은 바로 점 디귿이다! 라는 걸 알 수가 있겠습니다 좋아요 자 2번 해결해봤고요 그 다음에 3번 반지름이 2cm의 원을 그리려고 합니다 컴퍼스를 바르게 벌린 것에 동그라미 표하세요 라고 했어요 자 우리 친구들 반지름이 몇 cm? 2cm에요 그러면 우리 컴퍼스에 침에서 연필까지의 길이를 2cm로 맞춰주면 돼요 그러니까 우리 친구들 컴퍼스에 침을 눈꿈 0에 맞추고 그 다음에 연필이 눈꿈 2에 맞도록 벌려주면 되는 거죠 자 길이를 잴 때 잘 돼야 되잖아요 0에서 2까지가 꼭 아니더라도 만약에 컴퍼스에 침을 1, 눈꿈 1에 맞춘다면 그러면 연필은? 그래요 눈꿈 3에 맞추면 벌린 길이가 2cm가 되는 거예요 그래서 꼭 눈꿈 0에 맞추지 않아도 되지만 어쨌든 벌린 길이가 2cm가 되는 건 맞춰야 되는 거죠 그럼 이제 그림 볼게요 3개가 나왔는데 어디 보자 첫 번째는 컴퍼스에 침을 눈꿈 0에 맞췄어요 그리고 연필을 가리키는 눈꿈을 보니까 아니 1이네 1 그럼 벌린 길이가 1cm이기 때문에 반지름이 1cm의 원이 그려진답니다 그 다음에 두 번째 자 컴퍼스에 침 0에 맞췄어요 그리고 얼만큼 벌렸냐 어 딱 2에 벌렸대요 그러면 여기서부터 여기까지 벌린 길이가 2cm죠 오케이 바르게 벌렸다 라고 볼 수 있어요 세 번째는 자 지금 0하고 연필이 가리키는 부분이 4에요 아니 그러면 4cm만큼 벌렸기 때문에 반지름이 4cm의 원이 그려졌겠죠 이 원은 지름이 4cm는 맞아요 그죠 하지만 반지름은 2cm니까 우리 가운데 그림에 동그라미 표해줘야 되겠습니다 좋아요 자 이제 4번 문제로 가볼게요 크기가 다른 원을 그린 친구의 이름을 써보세요 라고 했어요 우리 친구들 원의 크기를 비교하려면 반지름으로 비교해야 될까요 지름으로 비교해야 될까요 선생님 먼저 물어볼게요 반지름이요 지름이요 저마다 다 의견이 다를 수도 있을 텐데 자 정답 공개합니다 정답은 둘 다 가능해요 근데 단 그 부분만 조심해야 돼요 어떤 원이 반지름이 2cm고요 어떤 원은 지름이 2cm에요 아 그럼 둘 다 2cm니까 뭐야 당연히 똑같겠네 라고 하면 안 되겠죠 어때요 지름이 2cm라는 거는 반지름이 1cm라는 얘기에요 그럼 우리 친구들이 이렇게 수만 보고 얘가 더 큰 수니까 더 큰 원이야 라고 착각하지 않으려면 지름 끼리 비교하거나 반지름 끼리 비교하거나 기준이 같아야 되는 거예요 물론 우리 친구들이 편한 기준을 선택하면 되겠습니다 그래서 반지름으로 비교해도 되고 지름으로 비교해도 되고 그래서 반지름이 길면 길수록 바로 큰 원 지름이 길면 길수록 큰 원이 되는 거죠 좋아요 그러면 우리 새 친구의 이야기를 한번 들어보죠 수현 반지름이 6cm의 원을 그렸어 지호 컴퍼스를 12cm만큼 벌려서 원을 그렸어 도진 지름이 12cm의 원을 그렸어 자 지금 수현이는 반지름으로 나왔죠 지호는요 컴퍼스 이만큼 벌렸어 자 우리 컴퍼스 벌린 길이가 뭐가 돼요 반지름 되잖아요 그래서 지호는 반지름이 12cm인 원을 그린 거랑 다름없어요 그럼 도진이는 지름이 12cm니까 자 우리 친구들 기준이 같아야 된다고 했습니다 반지름, 반지름, 지름이니 우리 도진이의 원을 반지름이 얼마인지 알아맞혀 볼게요 그러면 반지름은 지름의 반 그래서 6cm가 되는 걸 알 수가 있어요 아 이렇게 반지름을 기준으로 봤더니 수현이도 반지름이 6cm 도진이도 반지름이 6cm네 그럼 지호만 우리 반지름이 12cm로 어때요 반지름이 2배죠 그래서 큰 원이 그려지겠다 따라서 크기가 다른 원을 그린 친구의 이름은요 지호가 정답이 되겠습니다 좋아요 자 그럼 이제 우리 다음 문제 볼게요 컴퍼스를 아래와 같이 벌려서 원을 그릴 때 그린 원의 지름은 몇 cm 인가요? 라고 했습니다 선생님하고 지금 계속 공부하는 게 컴퍼스를 벌린 길이가 뭐라고요 반지름이라고요 그러면 컴퍼스의 침을 딱 0에 맞추고요 그리고 연필이 가리키는 눈꿈을 읽으니까 3이네요 그러면 벌린 길이 3cm 만큼 벌렸습니다 그래서 원을 그렸다고 생각해 보세요 우리 친구들 이렇게 원이 이렇게 그려질 거예요 그죠 자 그러면 이 원의 반지름은 3cm가 되는 거잖아요 자 그럼 답은 3일까 문제에서 뭘 물어봤냐면 우리 친구들 그린 원의 지름은 몇 cm 인가요? 라고 물어봤어요 그래서 지름으로 답해줘야 됩니다 지름은 반지름의 2배 즉 6cm가 되는 걸 알 수 있어요 자 따라서 정답은 6cm가 되겠습니다 우리 친구들 지금이야 반지름 지름 그렇게 헷갈리진 않겠지만 문제로 나왔을 때 그냥 벌린 길이만 보고 3cm로 실수하는 친구들 분명 있을 거예요 정확하게 반지름이냐 지름이냐 따져서 구분해서 답해줘야 되겠고요 그리고 또 원을 선생님이 이렇게 초등학교 과정에서만 배우는 게 아니라 3단계뿐만 아니라 계속해서 원이 나옵니다 이제 중학생이 되어서도 굉장히 멋지게 원을 공부를 할 건데 그때도 지름하고 반지름 정말 헷갈리면 안 돼요 나중에는 우리 친구들이 이 원의 둘레 길이도 구해볼 거고요 원의 넓이도 구해볼 거거든요 그럴 때 원의 넓이는 반지름으로 구하는 방법이 있어요 그리고 원의 둘레는 지름으로 구할 수 있습니다 그렇기 때문에 반지름과 지름을 분명하게 구분하는 연습은 지금부터 꽉 잡혀 놔야 되는 거거든요 아셨죠? 실수하지 말고 구하고자 하는 게 뭔지 꼼꼼히 확인하기 약속이에요 자 그럼 좋아요 우리 다음 문제로 넘어갈게요 7번 문제입니다 컴퍼스를 이용하여 각자 원을 그렸습니다 가장 큰 원을 그린 친구의 이름을 써보세요 라고 했어요 우리 친구들 원의 크기 비교할 때 지름으로 비교해도 되고 반지름으로 비교해도 된다 그랬어요 다만 같은 기준으로 비교하면 된다 그랬죠? 그럼 우리 소율이 컴퍼스를 7cm 만큼 벌려서 원을 그렸대요 벌린 길이는 반지름이기 때문에 우리 소율이는 반지름이 7cm의 원을 그린 거라고 생각하면 되겠죠 태수 지름이 11cm의 원을 그렸대요 그럼 우리 태수는 지름이 11cm의 원을 그렸고요 진호 반지름이 6cm의 원을 그렸대요 반지름이 6cm 자 그러면 둘 다 반지름이고 얘만 지름이니까 우리 태수의 반지름을 생각해 볼까? 라고 했는데 11의 반 생각하기가 좀 쉽지 않죠? 그래서 이번에는 지름으로 싹 다 비교해 보려고 해요 자 우리 셋 친구가 그린 원의 지름은 뭘까? 소율이는 반지름이 7cm니까 지름은 7의 2배인 14cm가 되겠고요 그 다음에 태수는 지름이 11cm니까 그대로 11cm 비교하면 되겠고요 진호는 반지름이 6cm니까 지름은 6 곱하기 2, 11cm가 되는 걸 알 수 있어요 그러면 지름이 길면 길수록 원의 크기가 크잖아요 그러니까 가장 짧은 11cm가 가장 짧고 그 다음 12cm 그 다음 14cm로 이렇게 비교해 보면 가장 큰 원, 가장 작은 원, 중간 원 이렇게 비교할 수 있습니다 가장 큰 원은 14cm를 지름으로 그린 우리 소율이네요 우리 친구의 이름을 써보세요 라고 했으니까 답은 14cm로 쓰면 안 됩니다 누구야? 이름이 뭐야? 라고 물어봤으니까요 우리 친구의 이름 소율이가 답이 되겠습니다 자 그러면 8번 문제로 넘어갈게요 다음 모양을 그리기 위해 컴퍼스에 침을 꽂아야 할 곳은 모두 몇 군데인가요? 라고 했어요 우리 친구들 앞에서 컴퍼스로 어디에 꽂아야 되는지 선생님하고 연습했죠? 자 그럼 보세요 여기에 원이 몇 개 보여요? 라고 물어봤을 때 이렇게 완전하게 하나가 다 그려진 한 개만 보여요? 라고 하면 절대 안 되죠 원이 통째로 다 그려지진 않았지만 일부분만 그려져 있는 원도 찾아줘야 돼요 그래서 가운데 전체가 다 그려진 원의 중심 여기에 컴퍼스에 침을 꽂아야 되겠고 바로 이 원의 일부를 그리려면 중심이 어떻게 되겠어요? 이렇게 됐을 테니까 여기 그 다음에 이쪽 원의 일부 그리려면 여기 이쪽 원의 일부 여기 여기는요? 여기에 침을 꽂으면 되겠습니다 자 그러면 원이 다섯 개가 보이죠? 아 그래서 모두 몇 군데인가요? 물어봤으니까요 다섯 군데예요 라고 답해 주면 되겠습니다 자 그럼 우리 이제 8번까지 마쳤고 교과용 한 문제로 넘어갈게요 승재는 나무의 나이태에 대해 배웠습니다 나이태는 1년에 1개씩 늘어납니다 승재는 나이태 모양을 컴퍼스로 그려보았습니다 그림을 보고 알맞은 말과 수의 동그라미 표해보세요 라고 했어요 우리 친구들 나이태를 본 적 있나요? 선생님도 되게 신기했는데 나이태가 많으면 많을수록 그 나무의 나이도 많은 거라고 해요 그러면 이렇게 물론 완전한 원 모양으로 나이태가 그려지지 않을 수 있지만 대략 이렇게 비슷하게 원을 그렸다고 했을 때 자 보세요 작은 원, 중간, 가장 큰 원, 점점 원이 커져요 그러면 이 3개의 원을 그렸는데 자 원의 중심이 같다, 다르다 당연히 여기 한가운데 같죠 그리고 원의 반지름이 몇 칸씩 늘어날까 볼게요 가장 작은 원은 이렇게 한 칸 그 다음에 두 번째는 몇 칸이에요? 여기다 할까요? 세 칸이고요 그 다음에 가장 큰 원은 이렇게 나타내 볼게요 보세요 하나, 둘, 셋, 넷, 다섯 그래서 가장 작은 원은 한 칸이고 그 다음에 세 칸, 그 다음에 다섯 칸으로 늘어났으니까 몇 칸씩 늘어난 거예요? 1에서 3, 두 칸씩 늘어났다 3에서 5, 두 칸이 늘어났다 라는 거 알 수 있죠? 그래서 두 칸씩 늘어납니다 라고 답해 줄 수 있습니다 좋아요 자 그러면 우리 친구들 이제 10번 문제 규칙에 따라 원 몇 개, 두 개 더 그리려고 합니다 컴퍼스에 침을 꽂아야 하는 두 곳을 찾아 X표하세요 라고 했어요 규칙이 뭔가 일단 선생님이 딱 두 가지만 챙겨봐 라고 했죠 원의 중심이 같냐 다르냐 그러면 지금 원이 몇 개 그려져 있어요? 3개 그려져 있는데요 가장 위에 있는 원의 중심 여기고요 두 번째 원 보니까 여기에요 세 번째 원, 여기입니다 아 원의 중심이 바로 아래로 몇 칸씩 내려가냐면 하나, 둘, 셋 세 칸씩 내려가게 그린 규칙이 있고요 그리고 원 세 개의 크기는 다 달라요? 아니면 같아요? 다 같죠 똑같은 크기의 원이에요 자 반지름이 여기서부터 여기까지 바로 세 칸으로 그려지는 원입니다 그럼 이제 그 다음 원, 네 번째 원 그려볼게요 원의 중심은 이렇게 세 칸 내려가서 여기에 그래서 원을 그려보면 살짝 선생님은 이렇게 그려볼게요 우리 친구들은 컴퍼스로 되게 정확하게 그려보세요 그 다음에 원 두 개 그리라고 했으니까 하나 더 그려야 되죠 하나, 둘, 셋 여기에 이렇게 X표시 했어요 그래서 이렇게 원을 그려줘야 되겠습니다 맞아요 따라서 우리 잘 안 보이니까 두 군데, 여기 세 번째 원의 중심에서 세 칸 내려서 또 세 칸 내려서 이런 규칙으로 이렇게 X표시 해주면 되겠습니다 좋아요 그럼 우리 수혜력도 높여봤겠다 이제 완성해 볼게요 규칙에 따라 그려야 할 원을 찾아줍니다 다음과 같이 원 세 개가 그려져 있는데 규칙에 따라 네 번째 원을 그리려고 해요 네 번째 원의 중심을 찾고 네 번째 원의 반지름을 구해보세요 라고 했어요 우리 친구들 규칙은 두 가지 원의 중심과 원의 반지름 자 그럼 1단계는 두 번째 원의 중심은 첫 번째 원의 중심으로부터 오른쪽으로 모는 몇 칸이 같냐 하나, 둘, 셋, 세 칸 세 번째 원의 중심은 두 번째 원의 중심으로부터 오른쪽으로 하나, 둘, 셋, 넷, 다섯 다섯 칸 이동했어요 아니 이동한 칸 수가 세 칸에서 다섯 칸 그러면 네 번째 원의 중심은 세 번째 원의 중심으로부터 모는 몇 칸 그렇죠 지금 세 칸 이동했는데 그 다음은 다섯 칸 이동했으니까 두 칸씩 늘어나서 또 일곱 칸 이동해줘야 되는 거죠 아 모는 일곱 칸 이동한 곳입니다 라는 걸 알 수 있습니다 자 찾아볼까요 하나, 둘, 셋, 넷, 다섯, 여섯, 일곱 여기에요 여기 좋아요 자 그러면 첫 번째 원의 반지름 첫 번째 원의 반지름은 이렇게 모는 한 칸 두 번째 원의 반지름은 모는 두 칸 세 번째 원의 반지름은 모는 어때요 한 칸, 두 칸, 세 칸이죠 그러니까 네 번째 원의 반지름은 모는 네 칸이 되겠다 아 그래서 우리 친구들 그림을 이렇게 그리면 이러한 원이 그려지면 계층에 맞다 라는 것도 알 수가 있습니다 좋아요 이렇게 이제 그림은 원은 다 안 그려도 돼요 우리 친구들 그냥 원의 중심하고 그 다음에 반지름이 어떤 규칙인지 그것만 찾아줘도 되겠습니다 자 그럼 우리도 연습할까요 규칙에 따라 네 번째 원을 그리려고 합니다 네모 안에 알맞은 수를 써놓으세요 라고 했어요 자 지금 원 몇 개 그려져 있어요 세 개 그려져 있는데 그런데 딱 봐도 크기가 다 똑같아요 그죠 자 그럼 원의 중심은 첫 번째 원에서 바로 두 번째 원까지 하나, 둘, 셋, 넷, 네 칸 이동 그 다음에 세 번째 원은 두 번째 원의 중심에서 하나, 둘, 셋, 넷, 네 칸이죠 네 칸 이동했어요 아하 그러면 우리가 그 다음 원을 그릴 때도 세 번째 원의 중심에서 하나, 둘, 셋, 넷, 네 칸 이동해야 되겠죠 좋아요 네 번째 원의 중심은 세 번째 원의 중심으로부터 오른쪽으로 모는 네 칸 이동한 곳이고 원의 반지름은 모는 몇 칸일까 지금 모두 원의 반지름이 같으니까 첫 번째 원 모는 두 칸 두 번째 원도 두 칸 세 번째 원도 두 칸 그럼 네 번째 원도 여기가 원의 중심이고 두 칸이 되게끔 그래서 모는 두 칸입니다 그래서 우리 친구들이 이것만 채워줘도 되지만 만약에 원을 이렇게 그린다면 모는 두 칸이 반지름으로 갖게 되는 이런 원을 그려주면 되겠습니다 좋아요 자 그러면 이번에는 우리 친구들 조금 다른 규칙이에요 규칙에 따라 네 번째 원을 그리려고 합니다 네모 안에 알맞은 수를 써놓으세요 라고 했어요 마치 우리 양궁 할 때 이렇게 판 같아요 그쵸 화살이 딱 맞추는 판 같은데 자 지금 원이 몇 개 그려져 있어요 세 개 그려져 있습니다 첫 번째 원의 중심을 찾아봐라 가장 작은 원의 중심 여기 두 번째 원의 중심 여기 세 번째 원의 중심 여기 그러면 원의 중심이 모두 같다는 걸 알 수 있죠 자 원의 중심은 같으니까 네 번째 원의 중심도 여기가 될 거예요 그쵸? 자 그럼 반지름만 볼까요? 가장 작은 원의 반지름은 한 칸 그 다음에 두 번째 원의 반지름은 여기서부터 여기까지로 표시해 볼게요 두 칸이네요 두 칸 그러면 세 번째 원의 반지름은 하나 둘 셋 세 칸이에요 그러면 반지름이 지금 한 칸씩 늘어나기 때문에 네 번째 원은요 네 칸이 되는 걸 알 수 있네요 그래서 네 번째 원의 중심은 같고 반지름은 모두 네 칸이에요 라는 걸 알 수 있습니다 만약에 우리 원까지 컴퍼스를 이용해서 그려본다면 컴퍼스의 침을 이곳에 찍고 그리고 네 칸만큼 벌려서 다음과 같이 요런 원을 그릴 수도 있겠죠 그럼 이런 규칙이라면 다섯 번째 여섯 번째 일곱 번째도 우리 친구들이 원의 중심 갖고 반지름 한 칸씩 늘려서 그릴 수 있습니다 좋아요 자 그럼 1-3번 규칙에 따라 네 번째 원을 그리려고 합니다 네모 안에 알맞은 수를 써놓으세요 라고 했어요 아니 지금 이게 원이 3개가 그려졌는데 자 지금 3개가 지금까지 봤던 거랑 조금 다른 모양이네 일단 원의 중심 찾을게요 가장 작은 원의 중심 여기 그리고 두 번째 원의 중심 여기 세 번째 원의 중심 여기 어머 원의 중심이 이동해요 아니면 그대로예요 그렇죠 변하고 있습니다 어떻게 변해요? 오른쪽으로 한 칸씩 이동했어요 그죠 그러면 네 번째 원도 여기서 한 칸 더 이동해 가지고 여기가 되겠다 아하 네 번째 원의 중심은 세 번째 원의 중심으로부터 오른쪽으로 모는 한 칸 이동한 곳이다 라는 거 알 수 있죠 자 이제 반지름 볼까요 가장 작은 원의 반지름 한 칸 두 번째 원의 반지름 원의 중심에서 원 위에 한 점까지 두 칸 세 번째 원의 반지름 여기 원의 중심 있죠 여기까지 세 칸 그럼 네 번째 원의 반지름은 지금 반지름이 한 칸에서 두 칸 세 칸 이렇게 한 칸씩 늘어났어요 그럼 그다음은 바로 네 칸이 될 차례가 되겠네요 따라서 네 번째 원의 반지름은 모는 네 칸이에요 라는 걸 알 수 있습니다 우리가 직접 그려보면요 만약에 여기가 이제 컴퍼스로 침을 딱 찍고 그 다음 네 칸만큼 벌려 가지고 이렇게 여기서 여기도 지나겠죠 짠 요러한 원이 그려질 거예요 그러면 네 번째니까 네 칸 다섯 번째 원은요 그 다음 이렇게 다섯 칸 반지름이 다섯 칸인 원 그릴 수 있고 여섯 번째 원은요 반지름이 여섯 칸인 원을 그리면 된다 라는 것도 알 수 있겠죠 순서하고 반지름이 칸 수가 같아요 좋아요 그러면 오늘의 마지막 문제 규칙에 따라 다섯 번째 원을 그리려고 합니다 네모 안에 알맞은 수를 써놓으세요 라고 했어요 지금 보니까 원이 몇 개가 그려졌냐면 하나 둘 셋 넷 아 네 개가 그려졌어요 근데 크기가 조금 다르죠 우리 친구들 자 큰 원 작은 원 큰 원 작은 원 번갈아 가면서 나오고 있네요 그럼 일단 그 다음은 큰 원이 올 차례 같은데 일단 원의 중심을 찾아야 되잖아요 그래서 다섯 번째 원의 중심은 네 번째 원의 중심으로부터 오른쪽으로 모는 몇 칸이 이동한 것인지 규칙을 찾아볼게요 첫 번째 원의 중심에서 하나 둘 셋 세 칸 이동 그 다음에 두 번째에서 우리 이제 세 번째까지 하나 둘 셋 어 또 세 칸이네 그러면 세 번째에서 네 번째까지 하나 둘 셋 아 그럼 이제 세 칸씩 똑같이 이동했으니까 바로 네 번째 원의 중심에서 하나 둘 셋 똑같이 세 칸 이동한 곳이겠구나 오른쪽으로 모는 세 칸 이동한 곳이다 라는 거 그리고 원의 반지름은 모는 몇 칸이에요 지금 두 칸 한 칸 두 칸 한 칸이 번갈아 오니까 이제 두 칸인 원이 올 때가 되겠죠 그래서 원의 반지름은 모는 두 칸입니다 실제로 두 칸으로 원을 이렇게 그려보면 이런 원이 올 차례고 그 다음까지 그려보면 이제 한 칸이 이런 원이 올 차례가 되겠다 그래서 꼭 다섯 번째가 아니더라도 이어서 쭉 그려볼 수도 있겠습니다 좋아요 우리 친구는 오늘의 미션 완료했어요? 네 원을 그려봤어요 컴퍼스를 이용하여 원을 그려봤습니다 가장 먼저 원의 중심이 되는 점을 찍고 원의 반지름만큼 컴퍼스를 벌려서 컴퍼스의 침을 원의 중심이 되는 점에 꽂고 원을 그려봤어요 미션 클리어 좋아요 우리 친구들 오늘 내용은요 꼭 컴퍼스를 통해서 우리 친구들이 많은 원을 직접 그려보면서 꼭 활동을 해보세요 아셨죠? 자 오늘 함께 한 문제들 꼼꼼하게 다시 복습하는 거 잊지 말고 모르는 게 있으면 아주 작은 부분이라도 게시판에서 질문도 많이 많이 해주세요 다음 시간에 새로운 내용으로 선생님 다시 찾아올게요 너무 고생 많았습니다 여러분 안녕\n",
      "08강원(2)_초등수해력-도형·측정3단계.mp3에 대한 텍스트가 ./ebs_script/new/08강원(2)_초등수해력-도형·측정3단계.txt로 저장되었습니다.\n",
      "Transcription for 09강들이와무게(1)_초등수해력-도형·측정3단계.mp3:\n",
      "안녕하세요 EBS친구들 여러분의 챈챈쌤입니다 자 이번 시간부터 우리가 새로운 내용을 공부를 하죠 바로 드리와 무게를 공부할 건데 그 중에서도 드리로 출발해 볼 거예요 우리 친구들 드리와 무게는 시간과 마찬가지로 일상생활에서 정말 필요한 내용이랍니다 그래서 재미없는 수학공부에 이렇게 생각하지 말고요 내가 일상생활에서 진짜 필요한 거니까 꼭 알아야 되겠구나라는 생각으로 함께 공부해 주세요 자 오늘의 미션 짜잔 드리를 비교하고요 드리의 단위를 알아볼 겁니다 먼저 우리는 이미 크기기와 크기가 확실히 차이가 날 때 드리를 비교할 수 있었어요 한눈에 봐도 가 물통이 나 물통보다 크기가 확 크잖아요 그러니 물을 더 많이 담을 수 있으니까 드리가 더 많다라는 걸 알 수 있는 거죠 자 우리 친구들 드리가 뭐예요? 주전자나 물병처럼 이런 그릇의 안쪽에 있는 공간의 크기를 말합니다 그러니까 물을 더 많이 담을 수 있는 쪽이 드리가 더 많다라고 비교하면 되겠어요 좋아요 그러면 우리 크기가 확실히 차이가 안 나는 건 어떨까 자 이렇게 연결해 볼게요 가하고 나 보세요 물병 두 개가 있는데 비슷해 보이네 대체 어느 쪽에 물을 넣었을 때 더 많이 들어갈까 라는 걸 비교하기 위해서 대충 눈대중으로 비슷해 보이니까 드리가 같을 거예요 이렇게 생각하면 돼요 삐- 안 되죠 비슷해 보여도요 어느 쪽에 드리가 많은지 비교하는 방법이 있답니다 바로 가 물병에 물을 가득 채운 후 나 물병에 모두 옮겨 담아 양을 비교해 볼 수 있어요 아니면 나 물병에 물을 가득 채워서 나 물병에 부어 봐도 됩니다 한쪽을 싹 비우고 한쪽은 물을 가득 채워서 가득 채운 것을 비운 쪽에 부어 보면 되는 거예요 자 부어 봤어요 그랬더니 짜잔 이렇게 됐어요 나 물병이 모두 채워지지 않고 남는 부분이 이렇게 있었습니다 아하 그러면 두 물병 중에 물이 더 많이 들어갈 수 있는 것은 바로 나 물병이구나 나 물병에 드리가 더 많구나 라는 걸 알 수 있는 거죠 만약에 가 물병에 드리가 더 많다라고 한다면 물을 다 붓고 나를 찰랑찰랑 채웠는데 가에 아직 남아서 더 못 붓는 상황 그럴 때는 가의 물병에 드리가 더 많다 이렇게 비교할 수 있는 겁니다 이해 됐나요? 좋아요 자 그러면 이뿐만 아니라 또 다른 방법도 있습니다 그래서 여러 가지 방법 한번 소개할게요 첫 번째 방법은 가 물병과 나 물병의 물을 가득 똑같이 채우는 거예요 어느 한쪽만 채우는 게 아니라 둘 다 공평하게 가득 채운 다음에 자 중요한 거 모양과 크기가 같은 큰 그릇에 모두 옮겨 담아 비교합니다 이때 모양과 크기가 다르면 비교할 수 없겠죠 그래서 모양과 크기가 같아야 된다는 거 그랬더니 지금 그림 보세요 가 물병에 물을 부어서 그릇에 담았더니 이만큼 채워졌고요 나 물병에 물을 가득 담아 채운 거는 이만큼 채워졌습니다 그러면 이제 큰 그릇에 담긴 물을 비교하면 되겠죠 어때요? 높이 채워지면 높이 채워질수록 물의 양이 많은 거니까 그 그릇에 드리가 더 많다라고 볼 수가 있어요 그래서 가 물병의 물의 높이가 더 높음으로 가 물병에 드리가 더 많다라고 비교할 수 있겠습니다 좋아요 자 그럼 이번에는 이런 방법이 있어요 큰 그릇에 담는 게 아니라 가 물병과 나 물병에 물을 가득 채운 후 모양과 크기가 같은 작은 컵에 모두 옮겨 담아 비교할 수도 있어요 이때도 중요한 건 어떤 컵은 크고 어떤 컵은 작고 그러면은 제대로 비교할 수 없겠죠 모양, 크기 같아야 된다 그래서 가는 이렇게 다섯 컵에 담을 수 있었고요 나는요 네 컵에 담을 수 있었어요 그럼 당연히 다섯 컵에 담긴 물의 양이 네 컵에 담긴 물의 양보다 더 많잖아요 그 말은 가 물병이 나 물병보다 드리가 더 많다라는 걸 알 수 있습니다 근데 얼마만큼 더 많은지도 이제는 비교할 수 있죠 한 컵 차이가 나니까 바로 한 컵만큼 컵 한 개만큼의 물의 차이가 있다라는 것도 비교할 수 있습니다 좋아요 자 그러면요 우리는 이미 같은 컵에 옮겨 담아 드리를 비교할 수 있다라고 했어요 그때 같은 컵은 크기와 모양이 같아야 된다 그럼 지금 가하고 나 부었더니 뭘 비교해요 높이가 높을수록 드리가 더 많은 거잖아요 그래서 나 물병의 물의 높이가 더 높으니까 가 물병보다 나 물병의 드리가 더 많아 자 이제는 어떻게 연결할 수 있느냐 이런 거 말고 직접 단위를 통해서 비교할 수 있다라는 거예요 바로 드리의 단위는 리터와 밀리리터가 있습니다 우리 친구들 1리터, 500밀리리터, 200밀리리터 이미 우리 친구들이 접해봤습니다 자 보통 우리 이제 우유값 한 손으로 꿀꺽꿀꺽 마시는 그것이 드리가 200밀리리터 되거든요 우유값을 잘 살펴보세요 200밀리리터 드리가 항상 써 있어요 그리고 편의점에서 더울 때 그냥 흔히 파는 물병 한 500밀리리터는 좀 큰 거고 300밀리리터쯤 됩니다 한 손으로 들고 다니면서 마시는 게 그리고 큰 물병 있죠 자 2리터 정도 됩니다 그럼 리터하고 밀리리터 중에서 뭐가 더 큰 단위겠어요 리터가 더 큰 단위에요 그래서 우리 흔히 먹는 큰 물병 있죠 2리터 우유는 한 값에 200밀리리터가 되는 거죠 자 따라서 우리 친구들 이만큼의 드리를 보고 2리터하고 200밀리리터의 드리를 한번 비교를 해볼게요 200밀리리터가 이보다 크니까 200밀리리터가 2리터보다 더 많아요 삐- 안 되죠 수가 크다고 그러면 안 되잖아요 그쵸 생수병이 우유팩보다 더 크니까 리터가 밀리리터보다 더 큰 단위다 라는 거는 우리 친구들 눈으로 보고 비교할 수 있어요 우리 친구들 엄마 심부름 해봤죠 콜라 한 병만 사오세요 물 한 병만 사오세요 그랬을 때 얼마나 큰 것이냐 큰 콜라냐 아니면 작은 콜라냐 그것도 다 리터 밀리리터 써 있거든요 자 지금부터는 유심히 한번 봐보세요 그래서 2리터가 200밀리리터보다 더 드리가 많다라고 볼 수가 있습니다 좋아요 자 그러면 우리 드리에단이 리터와 밀리리터 등이 있어요 1리터는 1리터 대문자로 L을 써주면 되고 1밀리리터는 1밀리리터 M은 소문자 L은 대문자로 이렇게 써줍니다 자 그리고요 중요한 게 이거죠 우리 친구들 1리터는 1000밀리리터와 같은 드리에요 그래서 우유값이 좀 큰 거 한 요정도 되는 게 1리터라고 써 있는 경우도 있고요 1000밀리리터라고 써 있는 경우도 있어요 우리가 흔히 마시는 그 200밀리리터 짜리 우유가 5번 이렇게 부어지면 그만큼 큰 우유값을 채울 수가 있거든요 아 그것이 1000밀리리터구나 200밀리리터가 5번 채워진 거니까 그것이 1리터구나 라는 거 우리 친구들 우유값의 드리로 딱 어느 정도인지 예상할 수가 있겠죠 그래서 나만의 드리를 기준을 딱 하나 잡아보세요 선생님 저는 콜라 좋아하니까 콜라로 잡을래요 그래도 상관없습니다 좋아요 자 그럼 이제 세로배율 드리에단이 리터하고 밀리리터를 이용해서 드리를 나타내 볼게요 지금 여기 1리터 짜리 물병에 물을 가득 채워 담고 500밀리리터 짜리 물병에 물을 가득 채워 담았습니다 그러면 이 큰 그릇에 담긴 물의 양은 1리터보다 500밀리리터 더 많은 양이거든요 그래서 1리터보다 500밀리리터 더 많은 드리를 우리는 1리터보다 500밀리리터 더 많아 어우 복잡해 간단하게 쓰기로 했어요 리터를 먼저 앞에 쓰고 그 뒤에 얼마나 더 많은지 밀리리터를 쓰기로 했습니다 즉 1리터 500밀리리터라고 쓰고 읽어줄 때는 1리터 500밀리리터라고 읽어줍니다 그러면 1리터는 얼마라고 그랬어요? 1000밀리리터랑 같다라고 그랬죠? 자 곰곰이 생각해 보니 그럼 1리터 500밀리리터라는 거는 1리터가 1000밀리리터니까 단위를 바꿔서 1000밀리리터보다 500밀리리터 더 많아 즉 1500밀리리터라고도 나타낼 수가 있겠네 맞아요 그래서 1리터 500밀리리터는 1500밀리리터라고 단위를 바꿔서 나타낼 수도 있어요 그렇다면 몇 리터 몇 밀리리터를 몇 밀리리터로 나타낼 수 있다면 1000이거나 1000보다 더 많은 양은 몇 리터 몇 밀리리터로 나타낼 수가 있겠네 단위를 바꿔서 표현하는 거 너무너무 중요하겠죠? 자 그러면 우리 친구들 이제 수외력 확인할 단계가 왔습니다 지금 가하고 나 그릇에서 가 그릇에 물을 가득 채운 다음에 나 그릇에 옮겨 담았어요 그랬더니 들이가 어느 쪽이 더 많냐라는 걸 찾아보려고 합니다 지금 보세요 나의 이만큼까지밖에 못 채웠어요 그러면 이만큼이 남는 공간이 생기는 거죠 그러면 똑같이 두 물병에다 물을 부었을 때 어느 쪽이 물이 더 많이 담을 수 있다는 뜻이에요 나 물병에 나 그릇에 물을 더 많이 채울 수 있다는 뜻이잖아요 아 그렇기 때문에 여기 그릇이네요 가그릇 나그릇 자 그래서 물병 아니라 그릇으로 바꿀게요 자 그래서 나 그릇이 더 들이가 많다는 거 알 수 있습니다 자 나의 동그라미 치면 되겠고 우리도 도전 자 그림과 같이 물이 채워졌을 때 들이가 더 많은 것의 동그라미 표하세요 라고 했어요 지금 보니까 가 그릇에다가 물을 가득 채운 다음에 나 그릇에 부었더니 어머나 세상에 흘러 넘치네 가득 채우고서도 가에 물이 남았어요 그 말은 똑같이 물을 부었을 때 가에 더 많은 양의 물을 부을 수 있다라는 뜻이니 아 가에 들이가 더 많다라고 생각할 수가 있겠죠 좋아요 가에 동그라미 표하면 되겠습니다 자 그럼 이번에는 이렇게 비교해 볼게요 들이 비교하는 방법이 딱 하나만 있는 건 아니었잖아요 한쪽에 물을 가득 부어 다른 한쪽에 채우는 방법도 있었지만 똑같은 모양과 크기를 갖고 있는 컵에 옮겨 담는 방법도 있었어요 지금 가 물병과 나 물병의 물을 가득 채운 다음에 모양과 크기가 같은 컵에 옮겨 담았습니다 그랬더니 가는요 하나, 둘, 셋, 넷, 다섯 개의 컵에 담을 수 있었고 나는 하나, 둘, 셋, 세 개의 컵에 담을 수 있었어요 그러면 컵의 개수가 많으면 많을수록 부을 수 있는 여기에 들어가는 물의 양이 더 많다는 뜻 아니겠어요 그래서 다섯 개의 컵이 세 개의 컵보다 더 양이 많으니 가에 들이가 더 많다라고 비교할 수 있답니다 자 우리도 도전 그림과 같이 물이 채워졌을 때 들이가 더 많은 것의 동그라미 표하세요 라고 했어요 가 그릇은 하나, 둘, 셋, 넷, 네 개의 컵 나 그릇은 하나, 둘, 두 개의 컵 그럼 당연히 가에 들이가 더 많겠죠 그리고 얼마나 더 많은지도 비교할 수 있어요 바로 컵 두 개만큼 더 들이가 많다라고 말이죠 좋아요 자 그럼 이제 우리 친구들 여기에다가 실린더에 물을 담아서 눈꿈이 있다면 이 눈꿈을 보고 정확하게 들이를 나타낼 수가 있습니다 우리가 자를 통해서 바로 길이를 잴 수 있고요 그죠 아니면 저울을 통해서 몸무게를 재듯이 이렇게 들이도 잴 수 있는데요 지금 눈꿈을 보면 자 단위 보세요 뭐라고 써 있어요 밀리 리터라고 쓰여져 있죠 그리고 400과 500 큰 눈꿈은 한 칸에 100 밀리 리터를 나타냅니다 그렇다면 작은 눈꿈이 하나, 둘, 셋, 넷, 다섯, 여섯, 일곱, 여덟, 아홉, 열 열 칸으로 이루어져 있어요 아 작은 눈꿈 열 칸이 큰 눈꿈 한 칸이니까 400에서 500 100 밀리 리터구나 그 말은 작은 눈꿈 한 칸은 10 밀리 리터겠다라는 걸 알 수 있는 거죠 그렇다면 400 밀리 리터보다 자 몇 칸 올라갔냐 하나, 둘, 셋, 넷, 다섯 다섯 칸 올라갔으니까 작은 눈꿈 다섯 칸은 50 밀리 리터죠 그래서 400 밀리 리터보다 50 밀리 리터 더 많은 들입니다 아이고 지워볼게요 더 많은 들이 그럼 450 밀리 리터로 이렇게 나타낼 수가 있는 거잖아요 좋아요 눈꿈을 잘 읽어서 우리 들이를 한번 나타내 볼게요 자 네모는 알맞은 수를 쓰고 들이를 나타내 보세요 라고 했어요 지금 이렇게 눈꿈이 있는 비커 안에 물을 부었습니다 그래서 자세하게 확대를 해서 봤더니요 지금 큰 눈꿈은 300 400 큰 눈꿈 한 칸에는 100 밀리 리터구나 그렇다면 큰 눈꿈 안에 작은 눈꿈이 하나, 둘, 셋, 넷, 다섯, 여섯, 일곱, 여덟, 아홉, 열 열 칸으로 나눠졌으니까 이때도 작은 눈꿈 한 칸은 바로 10 밀리 리터구나 라는 걸 알 수가 있는 거죠 그럼 이제 물의 높이를 봤더니 물의 높이가 가리키는 눈꿈이 300에서요 하나, 둘, 셋, 넷, 다섯 다섯 칸 올라갔어요 그러면 300 밀리 리터보다 50 밀리 리터 더 많은 양이죠 따라서 350 밀리 리터가 답이 되겠습니다 좋아요 자 그러면 이제 단위를 바꾸어서 들이를 나타낼 수도 있어야 돼요 우리 승구들 이렇게 큰 생수통은 5리터가 된대요 그러면 밀리 리터로 들이를 나타낼 때는 어떻게 하죠? 우리 승구들 앞으로 머릿속에는 1리터는요 1000 밀리 리터와 같은 들이에요 라는 거 딱 저장해 놓고 필요할 때마다 꺼내서 사용해 보세요 아 5리터라는 거는 1리터가 다섯 번 있는 양이네 그 말은 1000 밀리 리터가 다섯 번 있는 양이니까 바로 5000 밀리 리터가 될 거야 라는 거죠 좋아요 우리도 도전 네모하는 알맞은 수를 쓰고 들이를 나타내 보세요 라고 했습니다 지금 세면대에 물을 가득 받으면요 7리터 100밀리 리터 만큼 물을 받을 수 있대요 그 말은 밀리 리터로 어떻게 나타낼 수 있을까? 자 우리 친구들 7리터라는 건 7천 밀리 리터죠 그러면 이보다 100밀리 리터 더 많은 양을 말해요 그렇기 때문에 7100밀리 리터로 나타낼 수가 있어요 따라서 7100밀리 리터로 나타낼 수 있습니다 이렇게 단위를 바꿔서 표현할 수도 있어야 돼요 자 이제 우리 수혜력도 확인해 봤고 본격적으로 수혜력을 높여보도록 하죠 수혜력을 높여요에서는 여러가지 이용의 문제를 만나볼 거고요 그리고 또 들이는 정말 실생활하고 관련이 깊기 때문에 우리 친구들 일상에서 이제 생각할 수 있는 그런 문제들도 많아요 선생님이 2번부터 이제 문제 가지고 왔습니다 출발해 보죠 가그릇과 나그릇에 물을 가득 담아 모양과 크기가 같은 컵에 각각 옮겨 담았습니다 네모 안에 알맞은 수를 써놓으세요 라고 했어요 자 가그릇에 가득 담아 가지고요 컵에 옮겨 담았더니 몇 개의 컵에 담을 수 있었느냐 함께 세어 볼게요 바로 하나, 둘, 셋, 넷, 다섯, 여섯, 일곱 아 일곱 개의 컵에 담을 수 있었구나 그럼 나그릇은요? 가득 채워서 컵에 담았더니 하나, 둘, 두 개의 컵에 담을 수 있었습니다 너무 차이가 나는데요 그러면 이 그릇에서는 어느 쪽이 더 물을 많이 담을 수 있어요? 가죠 따라서 가그릇이 나그릇보다 자 비교도 가능합니다 컵 몇 개만큼 물을 더 담을 수 있느냐 일곱 개, 두 개 차이를 비교하기 위해서 뺄생계산 해주면 되겠죠 7백이 2를 하면 5니까 아 다섯 개만큼 더 물을 담을 수 있어요 라고 비교할 수가 있겠습니다 자 이렇게 크기가 같은 컵에 놓아서 비교해 봤고요 두번째 4번 문제예요 주어진 그릇에 물을 가득 채우려면 가, 컵, 나, 컵, 다 컵으로 각각 담과 같이 부어야 합니다 드리가 많은 컵부터 순서대로 기호를 써보세요 라고 했어요 방금 2번 문제에서는 크기가 같은 컵에 그릇에 물을 가득 채워 부었단 말이에요 그런데 이번 4번 문제는 보세요 컵이 가나다가 저마다 부은 횟수가 달라요 그 말은 뭐냐 컵의 크기가 즉 컵의 드리가 다르기 때문이죠 보세요 이 그릇에 물을 가득 채우려면 가, 컵으로는 6번 부어야 된대요 나, 컵으로는 5번 부어야 된대요 다, 컵으로는 9번 부어야 된대요 자 그럼 우리 친구들 이 6, 5, 9를 생각하지 말고 내가 만약에 2번만에 부었다 라고 한다면 이 높이의 반, 한 번 부었을 때 이 높이의 반이 딱 채워진다는 얘기 아니겠어요 그죠? 만약 10번을 부었다 라고 한다면 한 번 부었을 때 이만큼 채워졌다는 얘기일 거예요 그럼 우리 친구들 이렇게 생각해 볼까 2번 부은 컵과 10번 부은 컵은 아, 2가 10보다 작아 그러니까 10번 부은 컵에 드리가 더 많아 이렇게 2하고 10 부은 횟수의 크기를 그대로 그냥 비교해서 10번 부은 컵이 더 드리가 많겠지 라고 하면 돼요 안 돼요 삐- 절대 안 됩니다 지금 선생님이 2번 부었을 때, 10번 부었을 때 했잖아요 한 번의 양이 이만큼이에요 2번 부었다면, 그죠? 그리고 10번 부어서 가득 채웠다라는 거는 한 번의 양이 이만큼 정도 될 겁니다 그러니 여러 번 부어야 된다라는 거는 우리 친구들 어때요? 컵에 드리가 적기 때문이에요 생각해 보세요 자, 우리 친구들이 욕조에 물을 담아야 돼요 근데 내가 이제 찻잔 같은 걸로 욕조에 물을 가득 채우려면 몇 번이나 들어 부어야 되는 거잖아요 근데 내가 큰 대화 있죠? 거기에 가득 채워서 물을 욕조를 한다면 어때요? 몇 번 부으면 가득 채울 수가 있겠죠 크면 큰 대화일수록 적게 부으면 돼요 그렇게 생각하면 아, 부은 횟수가 많을수록 그 드리가 적기 때문이구나 라는 것을 이해를 해야 됩니다 원리를 생각해야 되겠죠 그 말은 뭘까? 자, 지금 드리가 많은 컵부터 순서대로 기호를 써 보세요 라고 했으니까 드리가 많다라는 거는 부은 횟수가 적은 순서가 되는 거예요 그럼 6, 5, 9를 비교했을 때 5가 가장 작은 수죠? 6, 9 순서입니다 그 말은 적게 부었으니까 아, 나 컵에 드리가 가장 많은 거예요 그 다음 6, 6번 부은 가 컵 9번 부은 다 컵 순서가 되는 겁니다 자, 따라서 우리 나 컵 그 다음에 가 컵, 다 컵 이렇게 나타내야지 우리 친구들이 숫자만 보고 9, 6, 5 순서니까 다, 가, 나 라고 하면 돼요 안 돼요 빅, 절대 안 됩니다 그런 실수 하기 없기예요 자, 이렇게 이제 부은 횟수로 우리가 드리를 비교해 보았고요 그 다음에 샴푸통에 드리는 몇 밀리 리터 인가요? 흔히 마시는 생수, 음료수 등도 이렇게 리터 밀리 리터가 앞에 쓰여져 있지만 이러한 샴푸 있죠 샴푸, 린스에도 이렇게 드리가 쓰여져 있답니다 지금 보니까 1리터 600밀리 리터래요 그 말은 1리터보다 600밀리 리터 더 많은 양이라는 얘기죠 따라서 문제에서는 몇 밀리 리터예요? 라고 했으니 우리 단위를 바꿔서 표현해 줘야 돼요 1리터는 1000밀리 리터와 같아요 그럼 1리터 600밀리 리터는 1000밀리 리터보다 600밀리 리터 많은 드리예요 그러니 1000보다 600이 많아 1600밀리 리터가 되는 걸 알 수가 있겠죠 따라서 정답은 1600밀리 리터가 답이 되겠습니다 그럼 1600밀리 리터를 몇 리터 몇 밀리 리터로 나타낼 때는 우리 여기서 1000을 떼어내서 1리터로 바꾸고 나머지 600을 밀리 리터로 나타내면 되겠습니다 자 그럼 이번엔 드리 많은 것부터 순서대로 비교해서 써볼게요 주전자가 2080밀리 리터 대야가 2리터 8밀리 리터 식용유병은 2리터 800밀리 리터 입니다 단위가 이렇게는 몇 리터 몇 밀리 리터로 나왔는데 얘만 몇 밀리 리터로 나왔죠 단위가 같아야지 드리 비교하기가 쉽거든요 자 어디 보자 그럼 어떻게 비교할까요? 우리 친구들 마음이에요 주전자의 드리를 몇 리터 몇 밀리 리터로 바꿔도 되고 아니면 대야와 식용유병을 몇 밀리 리터로 바꿔도 됩니다 뭘로 할까요 우리 친구들? 선생님은 밀리 리터로 모두 바꿔 볼게요 자 대야의 드리는 2리터 8밀리 리터니까 2리터는 2000밀리 리터죠 2000밀리 리터보다 얼마큼 8밀리 리터 많은 드리를 말해요 아 그렇다면 2008밀리 리터로 나타낼 수 있겠네요 자 식용유는 어때요? 2000밀리 리터보다 800밀리 리터 많은 드리를 말해요 그러니 아하! 2800밀리 리터 자 이렇게 단위를 맞추고 났더니 이제 비교하기가 쉬워졌어요 2080, 2008, 2800 이 중에 가장 큰 수는? 2800이 가장 크죠 그 다음 2080, 그 다음 2008 순서가 됩니다 그럼 가장 드리가 많은 것은 바로 누가 될까? 식용유병이 되겠네요 식용유병 그 다음에 2080인 주던자 그 다음 2008밀리 리터인 대약 순서가 되겠습니다 이렇게 드리가 많은 것부터 드리가 적은 것부터 순서대로 쓸 때는요 우리 친구들이 많은데 적은 것부터 쓰던지 반대로 쓰는 경우가 있어요 그런 실수하면 너무너무 억울하잖아요 그래서 답 쓰기 직전에 어 이거 맞나? 하고 꼭 문제 한번 확인해 보세요 자 이렇게 수해력 높여 9번까지 했어요 이제는 실생활 활용 문제입니다 사실 앞에 있는 그런 문제들도 거의 실생활하고 관련이 깊었죠 자 그러면 우리 11번 문제 볼게요 민지는 마트에서 세탁세제를 사려고 합니다 세제 100밀리 리터당 가격이 400원이래요 그럴 때 500밀리 리터 세제의 가격은 얼마인가요? 라고 했어요 100밀리 리터당 400원이다 근데 500밀리 리터라는 것은 100밀리 리터가 몇 번? 그렇죠 다섯 번 부었을 때 그때 500밀리 리터가 되니까 400원을 다섯 번 더해 보면 되는 거죠 그래서 400 더하기 100밀리 리터 100밀리 리터, 100밀리 리터, 100밀리 리터, 100밀리 리터 그럼 100, 100, 100, 100, 100, 500밀리 리터 되는 거죠 각각 400원을 더해 보면 800, 1200, 1600, 2000원 가격은 2000원이 되는 걸 알 수가 있어요 그래서 이처럼 드리하고 이제 가격이 함께 나오는 문제도 우리 친구들 충분히 풀 수 있습니다 자 따라서 정답은 2000원이 정답이 되겠습니다 좋아요 자 이제 교과용합 문제 도전해 볼까요 헌혈은 수혈이 필요한 환자의 생명을 구하기 위해 피를 뽑아주는 것입니다 혈액의 모든 성분을 뽑을 경우 한 번에 400밀리 리터씩 1년에 5번까지 헌혈할 수 있습니다 민호가 올해 400밀리 리터씩 3번 헌혈했다면 몇 밀리 리터를 더 헌혈할 수 있는지 구해보세요 라고 했어요 자 400밀리 리터씩 5번 헌혈할 수 있으니까 몇 밀리 리터까지 헌혈할 수 있다는 얘기죠 그렇죠 400을 다섯 번 더해주면 됩니다 400밀리 리터, 400밀리 리터, 400밀리 리터 3번까지 했으니까 4번, 5번 그러면요 우리 친구들 여기서는 400, 800, 1200, 1600, 2000 2000밀리 리터까지 헌혈할 수 있다라는 얘기예요 그러면 민호가 올해 400밀리 리터씩 3번 헌혈했대요 3번이니까 이만큼 헌혈했다는 얘기죠 그러면 몇 밀리 리터를 더 헌혈할 수 있을까라는 거는 3번 헌혈했다면 1200밀리 리터를 헌혈했을 것이고 그리고 2000밀리 리터까지 헌혈할 수 있으니 얼마큼? 800밀리 리터 더 헌혈할 수 있는 거죠 따라서 정답은 800밀리 리터 더 헌혈할 수 있어요 가 답이 되겠습니다 자 그럼 이제 수혜력도 높여봤으니까요 이제 완성할 차례예요 먼저 대표 응용 1번 물을 부어야 하는 횟수를 구해보죠 어떤 그릇에 물을 가득 채우려면 가컵과 나컵으로 각각 다음과 같이 부어야 한대요 이때 나컵으로 가컵에 물을 가득 채우려면 물을 적어도 몇 번 부어야 하는지 구해보세요 라고 했습니다 가컵으로는 4번, 나컵으로는 12번을 부어야 한대요 그럼 우리 친구들 어느 컵에 들이가 더 많아요? 12가 4보다 크니까 나요! 이러면 안 되죠 자 어떤 그릇에 물을 붓는데 4번만에 다 끝나는 컵이 있고 12번을 계속 부어야 된다면 가컵에 들이가 나컵에 들이보다 많을 거예요 그림으로 대략 이렇게 그려볼게요 자 그럼 몇 배가 될 거냐 1단계 어떤 그릇에 물을 가득 채우려면 가컵으로는 4번, 나컵으로는 12번 부어야 하기 때문에 가컵에 들이는 나컵에 들이의 몇 배냐 4번 12번 바로 12 나누기 4를 하면요 3배가 되는구나 라는 걸 알 수가 있는 거죠 따라서 나컵으로 가컵에 물을 가득 채우려면 물을 적어도 3번씩 부어야 한다 라는 것을 알 수가 있습니다 자 이렇게 대표문제 해결해봤으니까 우리도 이제 똑같은 문제에 도전해 볼게요 어떤 그릇에 물을 가득 채우려면요 가컵과 나컵으로 각각 다음과 같이 부어야 합니다 이때 나컵으로 가컵에 물을 가득 채우려면 물을 적어도 몇 번 부어야 하는지 구해보세요 라고 했어요 가컵으로는 6번, 나컵으로는 24번 이니까 어떤 컵에 들이가 더 많아요 그렇죠 부은 횟수가 적은 쪽으로 가야 되겠죠 그래서 가컵이 훨씬 많습니다 들이가 더 많아요 그러면 들이가 몇 배냐 이거는 부은 횟수를 24 나누기 6을 해보면 되겠죠 아 그러면 4배구나 들이가 4배라는 것은 나컵으로 가컵에 물을 가득 채울 때는 4번 적어도 부어야 되겠다 라는 거죠 따라서 정답은 4번이 정답이 되겠습니다 좋아요 부은 횟수 비교하면 돼요 자 이제 1-2번 어떤 그릇에 물을 가득 채우려면 가컵, 나컵, 다컵으로 각각 다음과 같이 부어야 한대요 이때 나컵과 다컵을 모두 사용하여 가컵에 물을 가득 채우려면 물을 적어도 몇 번 부어야 하는지 구해보세요 라고 했습니다 자 어떤 그릇에 가로는 4번, 나컵으로는 8번, 다컵으로는 16번을 채웠다라는 것은 바로 부은 횟수가 적은 가컵이 들이가 가장 많다 그 다음에 나아 다 순서가 되는 걸 알 수 있어요 그럼 우리가 딱 두 컵만 나왔을 때는 몇 배인지 알아보면 몇 컵 부어야 되는지 알 수 있는데 지금 이 문제는 나하고 다를 모두 사용하여 라고 했습니다 그럼 생각해 보세요 우리 가하고 나는 지금 몇 배냐 자 우리 앞에서 외웠던 것처럼 8 나누기 4를 해서 아, 가컵은 나컵의 2배가 되는 걸 알 수가 있는 거고 또 다컵의 몇 배냐는 16 나누기 4를 해서 4배가 된다 라는 거 알 수 있겠죠 이렇게는 이제 4배가 된다 라면 자 일단은 선생님이 이렇게 컵을 한번 나타내 볼게요 얘가 가컵인데요 그러면 나컵의 2배다 라고 했으면 나컵은 이거의 한 딱 절반 요정도 됐을 거예요 그죠 그 다음에 다컵은 4배니까 얘를 딱 4등분을 했을 때 이만큼 한 요정도 얘가 다컵이다 이렇게 이제 그림으로 한번 생각해 보세요 그럼 일단은 나를 여기다 다 부으면 반이 채워지겠죠 그러면 그 다음부터 나를 또 부으면 얘가 다 채워지니까 모두 사용해야 되기 때문에 나로는 한 번 붓고 그 다음에 나머지는 다로 붓자구요 그러면 딱 4등분 한 거잖아요 그죠 그 중에서 다 채워서 이만큼 또 다 채워서 2번 채우면 가득 부을 수 있습니다 다컵으로는 2번 채우면 되겠다 자 그럼 이제 같은 유형 계속 연습할 겁니다 1-2번 똑같은 문제에요 어떤 그릇에 물을 가득 채우려면 가나다컵으로 이렇게 4번, 8번, 16번 채워야 된대요 자 이럴 때 여기서 안 넘어갔죠 지금 1-3번 갈게요 가는 3번, 나는 6번, 다는 12번 그랬을 때 나와 다컵을 모두 사용하여 각 컵에 물을 가득 채우려면 물을 적어도 몇 번씩 부어야 하는가 똑같은 문제입니다 그러면 얘도 나의 몇 배냐 6 나누기 3을 해서 2배 그 다음에 다의 몇 배냐 12 나누기 3을 해서 4배가 되는 걸 알 수가 있어요 아 그러면 이것도 똑같이 생각하면 되겠네 각 컵의 드릴을 이렇게 생각하면 나 컵은 딱 절반이 되겠죠 그리고 다는요 4배가 가의 드리가 돼야 되는 거니까 똑같이 이렇게 다 이 정도 한번 생각을 해볼게요 그러면 얘도 마찬가지로 나를 딱 부으면 절반이 채워질 거예요 그러면 다로는 어때요? 2번 부어야 되겠죠 2번 그래서 1번, 나 컵으로는 1번, 다 컵으로는 2번 이라는 거는 같은 과정으로 나옵니다 1-2번하고 똑같이 나오고요 그 다음에 우리 1-4번 과정 문제 똑같아요 각 컵은 어떤 그릇에 물을 가득 채우려면 각 컵으로는 2번, 나 컵으로는 4번, 다 컵으로는 16번 그래서 나와 다 컵을 모두 사용하여 각 컵에 물을 가득 채워야 된다 그러면 우리 나의 몇 배냐 4 나누기 1을 해서 2배 여기까지는 똑같죠 그 다음에 다의는 몇 배냐 16 나누기 1을 해서 8배가 되는 걸 알 수가 있어요 그럼 선생님이 그림으로 한번 나타내 볼게요 각 컵을 생각하기 편하게 이렇게 나타내 본다면 나의 2배니까 나는 한 이 정도로 나타냈고 그 다음에 다의 8배니까 이만큼으로 다를 한번 나타내 보도록 할게요 그럼 다를 그렸을 때는 이렇게 8등분을 선생님이 해보죠 자 그럼 이제 나는 절반이니까 이것이 이제 4등분이 된 거랑 똑같죠 그래서 나를 한번 부었습니다 그러면 어디까지? 이렇게 채워지겠죠 반이 그러면은 다로는 몇 번 채워줘야 돼요 하나, 둘, 셋, 네번 채워줘야 돼요 그래서 나 컵으로는 한 번, 다 컵으로는 4번 채워야 된다 이게 이제 답이 되는 거예요 좋아요 자 그러면 이제 우리 두 번째 두 번째는 우리 친구들 드리를 단위를 바꿔서 표현하기만 잘하면 됩니다 7리터 드리 비커하고 400ml 드리의 비커에 물을 가득 채워 빈 소조에 모두 부었더니 수조가 가득 찼대요 그럴 때 수조에 드리는 몇 밀리 리터 인가요? 라고 했어요 그러면 얘도 붓고 얘도 붓고 그럼 이 수조에는 7리터보다 400ml 더 많은 드리니까 7리터 400ml가 되는 걸 알 수 있죠 따라서 지금 7리터 400ml로 답하는 게 아니라 몇 밀리 리터야? 라고 물어봤으니 단위 맞춰줘야죠 그래서 1리터는 1000ml이기 때문에 수조에 드리는 7리터 400ml 밀리 리터로는 7리터는 7천이죠 7천4백 밀리 리터다라는 걸 알 수가 있습니다 일단은 수조에 드리를 구한 다음에 단위를 바꿔줬어요 똑같은 거 도전 5리터 드리 비커와 800ml 드리 비커에 물을 가득 채워 빈 수조에 부었더니 수조가 가득 찼습니다 수조에 드리는 몇 밀리 리터 인가요? 5리터보다 800ml 많은 양이니까 5리터 800ml 근데 몇 밀리 리터야? 라고 물었으니 5리터는 5천 밀리 리터야 그러면 5천8백 밀리 리터가 되겠죠 따라서 정답은 5천8백 밀리 리터가 답이 되겠습니다 어렵지 않죠? 좋아요 자 이번에 조금 달라졌어요 조금 어려워졌어요 어떻게 어려워졌는지 볼까요? 4리터 드리의 비커와 200ml 드리의 비커에 물을 가득 채워 빈 수조에 모두 부었더니 수조에 절반이 찼습니다 수조에 드리는 몇 밀리 리터 인가요? 그러면 수조의 절반은요 4리터 200ml예요 그러면 똑같이 4리터 200ml를 채워야지 수조가 가득 차겠죠 그럼 이제 수조에 드리는 4리터 200ml를 한 번 더 채워 넣습니다 4리터 4리터 8리터 200ml 200ml 400ml가 되겠네요 그럼 밀리 리터로 답하라고 했으니까요 8천4백 밀리 리터라고 단위를 바꿔줄 수 있어요 조금 어려워졌습니다 절반으로 나왔고 이번에 조금 문제가 또 변형이 됐어요 2리터하고 2리터 드리 비커와 1리터 드리 비커에 물을 가득 채워 빈 수조 두 개 모두 부었더니 각각 가득 찼대요 이때 수조 한 개에 드리는 몇 리터 몇 밀리 리터 인가요? 단 수조의 모양과 크기는 같습니다 그럼 두 개에 가득 채웠으니까 일단 수조 두 개에 드리는요 2리터와 1리터 3리터가 되겠죠 그러면 우리 친구들 한 개에 드리는 3리터를 절반이 얼마인가 생각하기가 불편해요 그래서 3천 밀리 리터로 바꿔 볼게요 3천 밀리 리터의 절반은 1천5백 밀리 리터가 되는 거고 답은 몇 리터 몇 밀리 리터야 라고 물어봤으니까 1천5백 밀리 리터는 1리터 5백 밀리 리터예요 라고 답해 주면 되겠습니다 자 그럼 마지막 문제는 어떨까요 2리터 드리 비커하고 600밀리 리터 드리 비커에 물을 가득 채워 빈 수조 두 개 부었더니 각각 가득 가득 찼대요 수조 한 개 드리는 몇 밀리 리터 인가요? 라고 물었어요 그러면 두 개 드리는요 2리터에다가 600밀리 리터 더 많아 2리터 600밀리 리터 입니다 그럼 이제 한 개 드리는 이만큼 드리의 절반이잖아요 2리터의 절반 1리터 600밀리 리터의 절반 300밀리 리터가 되는 걸 알 수 있죠 자 근데 문제는 몇 밀리 리터예요? 라고 물었어요 그러니까 단위 바꿔서 1000밀리 리터 300밀리 리터 즉 1300밀리 리터로 답해 줄 수 있겠습니다 자 이렇게 우리 드리를 알아봤어요 자 오늘의 미션 드리를 비교하고 드리의 단위를 알아보자 미션 클리어 했죠? 드리 단위는 여러 가지 방법으로 비교할 수 있었고요 단위에는 리터와 밀리 리터를 공부를 했습니다 우리 친구들 친숙한 우윳값이라든지 생수병 아니면은 음료수를 비교해서 그걸 기준삼아 드리를 생각하면 훨씬 쉽고 재밌게 공부할 수 있었죠? 좋아요 오늘 함께한 문제들 꼼꼼하게 복습하는 거 잊지 말고요 다음 시간도 드리에 관련된 문제 많이 많이 가지고 올게요 다음 시간에 다시 만나요 여러분들 안녕\n",
      "09강들이와무게(1)_초등수해력-도형·측정3단계.mp3에 대한 텍스트가 ./ebs_script/new/09강들이와무게(1)_초등수해력-도형·측정3단계.txt로 저장되었습니다.\n",
      "Transcription for 10강들이와무게(2)_초등수해력-도형·측정3단계.mp3:\n",
      "안녕하세요 UBS친구들 여러분의 찜찜쌤입니다 자 이번 시간에는 우리 드리와 무게의 두 번째 시간이죠 지난 시간에 새로운 드리의 단위를 공부했어요 자 그렇다면 오늘의 미션 바로 드리를 더하고 빼는 계산을 할 수 있어야 된답니다 자 그러면 우리가 이미 배운 내용부터 연결해 보도록 하죠 일단 우리는 드리를 어림할 수 있어요 대략 우리 주변에서 많이 볼 수 있는 생수병이라든지 주수병을 봤을 때 어? 지금 이 변기 크기가 좀 비슷해 보이니까 생수병의 드리랑 주수병의 드리가 비슷한 것 같다 라고 생각할 수가 있는 거죠 좋아요 자 그러면 우리 새로 배울 드리의 어림하기는 이렇게 생각해 보세요 여기 주수값의 드리는 얼마쯤 될까라는 것 그러면 내가 정확하게 알고 있는 이 우윳값이 딱 200ml니까 어? 그거보다는 조금 적어보이네? 아 그러면 조금 적어보이니까 약 190ml로 어림할 수 있겠죠 내가 알고 있는 기준인 드리하고 비교해 보는 거예요 그것보다 좀 많을까 적을까 자 그래서 직접 이렇게 대봤더니 어때요? 아 190ml라는 거 아주 정확하게 어림했구나 라는 거 알 수 있습니다 이처럼 드리를 어림할 때는요 내가 알고 있는 물병이라든지 우윳값하고 비교하면서 어림하면 훨씬 쉽겠죠 자 그러면 드리를 나타낼 때는 적당한 단위를 잘 사용을 해줘야 돼요 만약에 간장병 같은 경우에는 우리 친구들 약 1800 이 앞에 있는 수가 중요하죠 수에 따라서 milliliter가 맞을 수도 있고 liter가 맞을 수도 있답니다 그러면 우리 기준 뭐라고 할까요? 자 1L인 물병을 생각해 보세요 1L 물병 1000ml인데 200ml 우윳값 5개의 양 이렇게 기준을 삼아서 생각하면 1800이라고 했을 때는 milliliter가 날까요? liter가 날까요? 그렇죠 당연히 milliliter가 낫겠죠 1000ml는 1L니까 그렇죠 자 그러면 이번에는 욕조에 들이 약 250ml이라고 했습니다 아니 250ml면 우윳값보다 조금 많은 양인데요 말이 안 되잖아요 liter가 맞을 거예요 그 다음에 약병에 들이는 약 30ml일까요? liter일까요? 아니 30L면 1L짜리 물병이 30개인데 말이 안 되잖아요 milliliter가 맞겠죠 자 식용유병에 들이는 약 1ml 아니 1ml는 진짜 작은 양인데요 적은 양이니까 우리 1L가 적당하겠죠 우리 1L짜리 물병하고 비교하면 비슷할 거예요 자 이렇게 우리 수를 보고 알맞은 단위를 잘 선택할 수 있어야 합니다 그럼 좋아요 이제 드리더쌤은 어떻게 할 것이냐 우리는 이미 2L보다 500ml 더 많은 드리를 이렇게 표현했어요 2L 500ml 그러면 2L에서 500ml 더 많다는 거는 이렇게 2L 더하기 500ml 라고도 나타낼 수가 있는 거고 단위를 milliliter로 바꿔보면 2L는 2000ml와 같죠 그 말은 2000ml 더하기 500ml 그래서 2L 500ml 라고 나타낼 수 있었잖아요 자 이제 우리 드리를 더하고 빼볼 겁니다 선생님하고 시간을 더하고 뺄 때 몇 분하고 몇 초하고 더할 수 있어요? 뺄 수도 없죠 왜? 단위가 다르니까 마찬가지예요 우리 드리더 더하고 뺄 때는요 같은 단위끼리 더하고 빼줘야 됩니다 예를 들어 2L 450ml 더하기 1L 25L는 바로 milliliter는 milliliter끼리 liter는 liter끼리 더해야 돼요 뺄 때도 마찬가지예요 6L 700ml에서 3L 20ml를 뺄 때는요 milliliter에서 milliliter를 빼고요 그 다음에 liter에서 liter를 빼줘야 되는 겁니다 자 그럼 우리 친구들 liter와 milliliter가 함께 있는 더셈, 뺄셈은 어떻게 하면 된다? 2,450 더하기 125 그리고 또 6,700 빼기 320을 계산하면 후할 수 있다? 뭔가 이상한데요 우리 친구들 1L 25ml는 1L는 1,000ml죠 그래서 1,000보다 25ml 많은 양이에요 1,025ml라고요 그죠? 그냥 자 보세요 보이는 대로 2,450 더하기 125 이러면 된다? 안 된다? 안 된다 지난 시간에 우리 단위 바꿔서 표현하는 거 정말 자세히 공부했잖아요 쌤하고 그렇기 때문에 1L 25ml는 1,025ml야 그리고 6,700 빼기 320 그럼 돼요? 안 돼요? 안 돼요 얘는요 3,000하고 20, 3,020ml라고요 자 그래서 2,450에서 125를 더하는 게 말이 돼요? 6,700에서 320을 빼는 게 말이 돼요? 아우 말이 안 되죠 이렇게 하는 게 B 아니라 같은 단위끼리 계산해 줘야 됩니다 물론 밀리리터로 바꿔서 계산해도 상관없어요 그러면 2,450 더하기 1,025 그리고 6,700 빼기 3,020 계산을 해야 된다는 얘기입니다 좋아요 자 그럼 직접 우리 세로로 이렇게 단위끼리 맞춰서 잘 쓰고 한 번 더하고 빼볼게요 예를 들어 2L 450ml 더하기 1L 25ml는 밀리리터끼리 더합니다 475ml 리터끼리 더합니다 2 더하기 1은 3L가 되는 거죠 근데요 여기에서 만약에 밀리리터가 1,000이거나 1,000보다 더 많게 나온다면 받아 올림을 할 수 있겠죠 이때는 1,000ml는 1L니까 이렇게 리터의 1로 받아 올림해도 돼요 자 빼는 것도 마찬가지입니다 우리 같은 단위끼리 700 빼기 20은 680ml 600이 3은 3L라고 말이에요 중요한 포인트 선생님하고 노래 불러볼까요 리터는 리터끼리 밀리리터는 밀리리터끼리 끼리끼리 더하거나 뺍니다 라고 말이에요 아셨죠 자 그러면 우리 친구들 수혜력도 한 번 확인해 볼게요 우리가 지금 개념을 쫙 이렇게 되짚어 보면서 알맞은 단위를 잘 골라야 된다라는 거 자 근데 리터하고 밀리리터 내가 그냥 음료수 캔은 항상 밀리리터만 했으니까 보지 않고 밀리리터 하지 말고 선생님 뭐라고 당부했었죠 우리 친구들에게 앞에 써 있는 수를 한번 확인해 보자라고 당부했어요 그래서 내가 알고 있는 선생님은 항상 기준을 어떻게 하냐면 우유값 200ml짜리 우유값 딱 하나에 드리하고 그 다음에 항상 물을 사 먹으니까 물 1L짜리 선생님은 좀 물을 많이 먹어요 그래서 1L짜리 물을 항상 갖고 다니거든요 이거를 딱 기준 삼아 가지고 이제 비교를 해 볼 거예요 자 음료수 캔에 드리는 약 350ml 입니다 음료수 캔이나 우유값이나 좀 비슷비슷하죠 우리가 한 손에 이렇게 드릴 수 있어요 350리터 말이 안 되잖아요 그럼 200ml보다 좀 많은 양이니까 350ml가 와야 되겠다 자 그럼 우리도 도전 냄비에 드리는 약 2 무엇입니다 2ml? 아니 우유값에 드리가 200ml인데 2ml? 말이 안 되죠 그래서 2리터 물을 1L짜리를 이렇게 두 번 부으면 냄비를 가득 채울 수 있을 것 같아요 그렇기 때문에 리터가 오는 게 맞아요 자 그러면 이제 알맞은 물건을 한번 골라 볼게요 무엇에 드리가 약 400ml 입니다 무엇에 드리는 약 4리터 입니다 400과 4, 밀리리터와 리터 컵과 양동이 중 어느 쪽에 무엇을 넣어야지 알맞은 문장이 만들어질까요 자 400ml 보세요 우유값, 선생님 기본은 우유값이라고 하겠어요 그러면 400ml는 200ml를 두 번 부은 양이에요 그러니까 컵하고 양동이 중에 양동이, 아니 양동이 이렇게 두 번 채우면 바닥만 겨우 이렇게 적셔질걸요 그렇기 때문에 컵이 알맞겠고요 자 양동이는 한 이 정도 되잖아요 그죠 그러니까 4리터, 물 1리터 짜리를 한 4번 부으면 가득 찰 것 같아요 그래서 양동이하고 4리터하고 짝을 지어주면 되겠습니다 우리도 도전 보기에서 드리가 알맞은 물건을 선택하여 문장을 완성해 보세요 라고 했어요 분무기, 욕조 분무기는 어느 정도 크기가 되나요 우리 친구도 한 손으로 잡고 찍찍찍찍 뿌려야 되기 때문에 너무 크면 불편하겠죠 그리고 욕조는 어때요 물을 채워서 내가 몸을 담가야 됩니다 자 그러면 이 두 개의 물건이 어느 정도 크기가 되는지 대략 상상을 했으니까 무엇에 들이는 약 200리터 입니다 200리터에요 그러면 이 물 1리터 짜리를 가득 채워서 200번을 부어야 되는 거예요 분무기가 그래요? 아니죠, 욕조가 그렇겠죠 그래서 욕조에 들이는 이렇게 오면 되겠고요 그 다음에 무엇에 들이는 약 200미리터 입니다 200미리터는 우유값 똑같은 드리네 그럼 분무기, 분무기 한 손으로 잡아서 뿌려야 되니까 우유값하고 좀 비슷하잖아요 아하 그래서 분무기의 들이는 약 200미리터 입니다 라고 하는 게 맞겠죠 이렇게 짝을 잘 맞춰줬습니다 그러면 이제는 드리에 더셈, 뺄셈 받아올림이 없는 경우와 있는 경우 둘 다 알아볼게요 자 일단 세로로 같은 단위 맞춰서 써주고 밀리리터부터 먼저 계산을 합니다 물론 받아올림이 없다면 그냥 앞에서부터 계산해도 되지만 받아올림이 있는지 없는지는 계산해 봐야 알기 때문에 밀리리터부터 먼저 계산하는 게 편하겠죠 자 200 더하기 300, 500, 1 더하기 2는 3 따라서 3리터, 500미리터 자 그 다음 4리터, 800미리터 더하기 3리터, 400미리터 그러면요, 밀리리터 더해 볼게요 800 더하기 400은 1200 자 1000보다 많아요 그러면 1000미리터는 1리터로 받아올림 나머지 200미리터만 써줍니다 그 다음에 우리 친구들이 여기서 중요한 건 음 마음속으로 받아올림 해야지 일은 그냥 내 마음속에 있어 이러면 진짜 실수 잘하거든요 받아올림 할 때 그리고 받아내림 할 때도 선생님이 잔소리를 조금 하겠지만요 꼭 작게 위에 써줘야 되는 거예요 그리고 또 쓴다고 다 대수가 아니죠 리터끼리 계산할 때 4더하기 3, 7로 실수하는 친구들이 정말 많아요 지금 선생님 강의를 듣고 있는 우리 예쁜 제자들은 절대로 이런 실수하면 돼요, 안 돼요 안 됩니다 받아올림 한 수 꼭 써주기 받아올림 한 수까지 모두 더하기 잊지 마세요 그럼 8리터, 200미리터로 답해줘야지 7리터, 1200미리터로 답하면 돼요, 안 돼요 올바른 방법이 아니죠 그래서 꼭 받아올림 해주세요 그럼 우리도 연습해 볼까요 네모하는 알맞은 수를 써놓으세요 라고 했습니다 4리터, 200미리터 더하기 2리터, 360미리터 계산하려고 해요 밀리 리터부터 200 더하기 360, 560 4 더하기 2는 6 아, 6리터, 560미리터가 되겠다 그 다음 3리터, 800미리터 더하기 2리터, 730미리터 계산해 볼게요 먼저 800 더하기 730을 했더니 우리 옆에다가 해줄까요 아, 1000이 넘는 것 같아요, 그쵸 0, 3, 15 1350이에요 자, 1530이에요, 그쵸 그러면 여기에서 1000미리터는 짜잔, 받아올림 해주고요 우리 밀리 리터는 어때요 530 밀리 리터만 써줘야 되는 거죠 그래서 이거 꼭 써주기 그리고 받아올림한 1을 꼭 함께 더하기 잊지 마세요 자, 1 더하기 3 더하기 2는 얼마 그렇죠, 6 6리터, 530미리터가 되겠습니다 자, 그럼 이제 더해도 봤으니까 뺄 수도 있어야 되겠죠 받아내림이 없는 경우, 있는 경우 다 살펴볼 거예요 예를 들어 4리터, 600미리터 빼기 2리터, 500미리터를 계산할 때는 같은 단위끼리 빼줘요 600, 100이, 500은 100 400이, 2는 2 그래서 2리터, 100미리터로 계산할 수 있고요 5리터, 200미리터에서 1리터, 900미리터를 뺄 거예요 그 말은 이야기가 어떻게도 나오겠어요 이만큼의 물이 있었는데 내가 이만큼을 마셨어 남은 물은 얼마일까? 라는 문제로도 나올 수도 있는 거고 아니면 이만큼의 내가 주수가 있었는데 1리터, 900미리터를 다른 컵에 덜어냈어 다른 병에 덜어냈어 그럼 남아있는 컵에는 얼만큼이 남아있을까? 라는 문제로도 나올 수 있겠죠 좋아요 자, 같은 단위끼리 빼려고 봤더니 아니 문제가 생겼네 200에서 900 뺄 수 있어요? 없어요 그럼 어때? 받아내림 리터야, 리터야 나 1리터만 줘 그래 그러면 1리터 줬으니까 4리터가 되는 거고 받을 때는 1로 받아요? 아니죠 1리터는 1000미리터가 되기 때문에 1000으로 받아야 되는 것도 주의해주세요 자, 그럼 얘는 1200에서 900을 빼니까 300 4에서 1을 빼니까 3 우리 친구들 여기서도 한 번 더 잔소리를 하자면 받아올림할 때 선생님이 살짝 꼭 써주자요 라고 우리 약속했죠 받아내림도 아, 내 마음속에는 4야 이렇게 표시하지 않고 마음속으로 생각하면요 나도 모르게 500이 1을 계산해서 4라고 쓰기 쉽습니다 반드시 자, 받아내림한 건 막대로 그어주고 그리고 또 4를 작게 써주는 것도 잊지 마세요 아셨죠? 그래서 3리터 300미리터 로 계산이 될 것이다 그럼 우리도 연습 네모하는 알맞은 수를 써놓으세요 라고 했습니다 7리터 670미리터에서 6리터 360미리터를 빼볼 거예요 자, 같은 단위끼리 670 빼기 360 0 7 빼기 6은 1 6 빼기 3은 3 310미리터 7 빼기 6은 1 그래서 1리터 310미리터로 계산할 수 있고요 자, 이제 7리터 260미리터에서 1리터 890미리터를 빼볼 거예요 아니 근데 260에서 890 못 빼네? 리토야 리토야 나 1리터만 줘 그래 줄게 그러면 7은 6이 되고요 받을 때는 뭘로 받는다? 1000으로 받는다 그렇다면 우리 친구들 1260빼기 890을 계산하는 거랑 같잖아요 그죠? 자 0 여기서는 우리 자연수의 뺄생 그대로 하면 되죠 6에서 9 못 빼니까 이번에 받아내림 해줍니다 그래서 16에서 9를 빼면 7이고 11에서 8을 빼면 3 그래서 370미리터 자, 7에서 1 빼요? 안 되죠 6에서 1 빼는 거 잊지 마세요 그러면 5리터 370미리터가 답이 되겠어요 좋아요 이렇게 수혜력도 확인해 봤으니까 이제는 여러 가지 문제를 통해서 높여 볼게요 드리도 시간과 마찬가지로 일상에서 우리가 늘 접하는 내용이기 때문에 우리 친구들 일상생활하고 관련된 문제들이 많이 나올 겁니다 선생님처럼 우유값, 물병 내가 좀 생각하기 편한 걸 기준으로 상상하면서 문제 풀어보는 거예요 미영이와 진우는 드리가 11리터인 생수통을 담은 것 같이 어림했습니다 실제 드리에 더 가깝게 어림한 친구의 이름을 써보세요 드리를 더하고 뺄 수 있다면 더 가깝게 어림한 친구도 찾을 수 있어요 바로 드리의 차가 더 적은 쪽이 가깝게 어림했다고 볼 수 있잖아요 미영이는 생수통에 드리는 약 10리터 500미리터야 진우는 생수통에 드리는 약 13리터 250미리터야 라고 했네요 그럼 미영이는 얼마나 차이가 나게 어림을 했을까 실제는 12리터인데 미영이는 약 10리터 500미리터니까 그만큼 빼주면 차이를 알 수가 있겠죠 자 1리터 받아 내림 1000으로 받고 1000 빼기 500, 500 11에서 10 빼면 1 1리터 500미리터 차이나게 어림했어요 그 말은 실제는 12리터인데 1리터 500미리터 부족하게 어림을 한 거죠 그 다음 이번엔 진우 진우는 실제 드리보다 더 많이 어림을 했어요 그래서 13리터 250미리터에서 12리터를 빼보면 1리터 250미리터가 되게끔 어림한 거죠 어때요? 차이가 더 진우가 적게 어림했다라는 거 알 수 있죠? 그 말은 더 가깝게 어림했다는 뜻이에요 따라서 친구의 이름을 써보세요 라고 했으니까 우리 친구 진우가 답이 되겠습니다 자 그럼 이제 7번 오늘 호민이와 재준이가 마신 물은 모두 몇 리터 몇 밀리터 인가요? 라고 했어요 호민이는 나는 오늘 물을 1리터 10미리터 마셨어 그리고 재준이는 나는 호민이보다 300미리터 더 많이 마셨어 라고 했어요 그럼 우리 친구들 재준이가 마신 양은 지금 바로 나오지 않고 호민이가 마신 양하고 비교해서 나왔죠 일단 재준이가 마신 양은 호민이가 마신 양 1리터 10미리터 보다 300미리터 더 많다라고 했으니까 그만큼 더해 줘서 계산을 해봐야 될 것 같아요 자 같은 단위끼리 더합니다 310미리터 1리터 그래서 재준이는 이만큼 마신 거예요 자 이제 계산해 볼까요 모두 몇 리터 몇 밀리터에요 라고 했으니까 호민이는 1리터 10미리터 재준이는 우리가 구했죠 1리터 310미리터에요 그래서 더해보면 10더하기 310, 320미리터 1더하기 1, 2리터 아하 따라서 정답은 2리터 320미리터를 두 친구가 모두 마셨구나 라는 걸 알 수 있겠죠 좋아요 재준이의 양을 구해야지 그냥 언뜻 문제를 보고 1리터 10미리터 더하기 300미리터 하면 안 됩니다 자 다음으로 넘어가도 되겠죠 지호와 유나는 사과주스와 포도주스를 다음과 같이 샀습니다 누가 주스를 몇 밀리터 더 샀나요 라고 했어요 자 지금 지호는 나는 사과주스 2병과 포도주스 1병을 샀어 유나는 나는 사과주스 1병과 포도주스 3병을 샀는데 자 그럼 일단은 각각 1병의 들이가 나왔으니까 우리 지호가 산 양을 한번 계산해 볼게요 일단 사과주스 2병이니까 1리터 300미리터 더하기 1리터 300미리터 두 번 더 해야 되겠죠 같은 단위끼리 300, 300, 600미리터 2리터가 됩니다 그럼 이제 여기다 포도주스 1병을 샀으니까 2리터 600미리터에다가 포도주스 900미리터에요 600 더하기 900을 하면 1500이죠 그러니 1 받아올림 해주고 500, 자 1500 이렇게 써주는 거랑 같아요 1 더하기 2는 3 그래서 우리 이제 지호는 3리터 500미리터 만큼 샀다라는 거 알 수 있고요 자 그 다음에 이번에는 우리 유나 계산해 볼게요 사과주스 1병과 포도주스 3병을 샀대요 그럼 일단은 포도주스 3병이 얼마나 되는지 부터 구해보죠 자 900미리터를 몇 번, 3번 더하면 되겠어요 그럼 900 더하기 900 더하기 900은 2700미리터가 되겠습니다 그 말은 2리터 700미리터가 되겠죠 그러면 포도주스 3병에다가 사과주스 1병이니까 바로 사과주스는 1리터 300미리터 여기에 포도주스 2리터 700미리터를 더해 볼게요 300 더하기 700은 1000, 그러면 그대로 받아올림 1 더하기 1 더하기 2는 4, 4리터가 되는 걸 알 수 있어요 그러면 우리 친구들 누가 더 많이 샀나요? 그렇죠 3리터 500미리터 보다 지금 4리터가 더 많은 양이니까 유나가 더 많이 샀어요 그래서 유나가 답인데 이게 끝이 아니죠 몇 밀리터 더 많이 샀어? 라고 물어봤으니까 또 비교해야 돼요 바로 4리터에서 3리터 500미리터를 빼보면 얼마나 더 많이 샀는지 알 수가 있겠죠 받아올림 해줘야 되니까 우리 1리터 주세요 그러면 1000미리터로 받고 그리고 여기에서 500을 빼면 500 리터는 뺄게 없네요 아하 그렇다면 유나가 500미리터 더 많이 샀어요 라는 거 작은 계산들을 여러 번 해서 문제를 해결할 수 있었어요 좋아요 자 이제 11번 실생활 활용 문제 볼게요 민주는 토마토스프를 만들기 위해 다음과 같은 재료를 냄비에 넣었습니다 문제, 냄비의 재료는 적어도 몇 밀리터 보다 많아야 하나요? 라고 했어요 레시피를 보니 육수 480ml, 토마토소스 90ml, 올리브오일 30ml 이만큼을 다 넣었는데 넘치면 되겠어요 요리할 수 없겠죠 그래서 이 재료에 들이를 모두 더한 것보다 더 냄비에 들이는 많아야 되겠어요 자 그럼 더해 볼게요 480ml 더하기 90ml를 하면 0, 17, 5 570ml가 되겠고 그리고 570ml에다가 올리브오일 30ml까지 마저 더해보죠 그럼 600ml가 되겠습니다 따라서 적어도 600ml 보다 많아야 한다 이렇게 답 찾을 수 있겠네요 좋아요 자 그럼 이제 교과용한 문제도 도전해 볼게요 다음은 되로 주고 말로 받는다는 속담의 풀입니다 선생님도 이런 얘기 가끔 합니다 한 말은 한 대를 10번 더한 양과 같아서 되로 주고 말로 받는다는 조금 주고 더 많은 대가를 돌려받는다는 뜻을 지닙니다 주로 남에게 나쁜 짓을 했다가 자기가 오히려 더 나쁜 일을 당하게 되는 경우에 쓰이는데요 드라마 보면서 아이고 저 주인공 되로 주고 말로 받네 이런 얘기를 해본 적이 있어요 우리 친구들 들어본 적 있나요? 자 그러면 지금 보세요 여기서 중요한 거 한 말은 한 대를 10번 더한 양과 같아서 되로 주고 말로 받는다는 한 말, 한 대를 10번 더한 양 누가 더 많은 양이에요? 그렇죠 한 말이 더 많은 양이죠 그죠 자 그럼 문제 5대의 양이 약 9리터라고 합니다 그러면 한 말은 약 몇 리터인지 구해보세요 라고 했어요 우리 친구들 한 대, 한 말 이렇게 있을 때 지금 한 말은 한 대를 10번 더한 양이다 라고 했으니까 어때요? 우리 친구들 이만큼의 양이 10배가 되는 걸 알 수가 있습니다 그쵸? 그런데 5대의 양이 약 9리터래요 그러면은 10번 되는 양은 5번의 양의 2배가 되는 거잖아요 그래서 아 10번이라는 거는 5번, 5번 그러면 5대의 양과 같으니까 약 9리터 약 9리터 아 그럼 약 그렇죠 9 더하기 9 18리터쯤 되겠다라는 걸 알 수가 있겠습니다 자 알고 보면 별거 아닌데 괜히 막 이야기로 꾸며놔가지고 우리 괜히 어렵게 느껴지는 그런 문제였어요 좋아요 이제 수혜력도 높여봤으니까 이제는 수혜력을 완성할 차례 첫 번째 대표용용 문제는요 어항에 든 물의 양을 구하는 문제입니다 어항에 들이가 400ml인 그릇과 600ml인 그릇을 담가 같이 사용하여 물을 채웠대요 어항에 모두 몇 리터의 물이 들어있는지 구해보세요 라고 했어요 자 지금 400ml 그릇으로는 2번, 600ml 그릇으로는 2번 또한 마찬가지로 똑같이 2번씩 부었습니다 그럼 우리 1단계 어항에 400ml의 물을 2번, 600ml의 물을 2번 부었기 때문에 바로 402번이면 800ml, 602번이면 1200ml의 물이 들어간 거죠 그러면 어항에는 800ml와 1200ml를 더해가지고요 2000ml의 물이 들어가 있는 거잖아요 근데 문제 보세요 모두 몇 리터의 물이 들어가 있어? 라고 물어봤으니까 우리도 몇 리터의 물이 들어가 있어? 라고 답해줘야 돼요 그러면 단위 바꾸기만 하면 되겠죠 우리는 이미 1000ml가 1리터하고 같은 들이라는 거 알아요 그러면 2000ml는 2리터, 즉 어항에 모두 2리터의 물이 들어 있습니다 라고 나타낼 수가 있습니다 자 그럼 부은 횟수를 가지고 부은 양을 구한 다음에 단위를 바꿔서 문제 해결했어요 우리도 그럼 도전해 볼까요 어항에 들이가 3ml인 그릇과 800ml인 그릇을 담과 같이 사용하여 물을 채웠습니다 어항에 모두 몇 리터, 몇 밀리터의 물이 들어있는지 구해보세요 라고 했어요 300ml로 1번, 그럼 300ml만큼 물이 들었고 800ml로 2번이니까 800, 800 1600ml만큼 물이 들어가 있을 거예요 그래야지 더해야지만 모두 얼마의 물이 들어있는지 알 수 있죠 300과 1600, 1900ml만큼 물이 들어가 있습니다 자 문제에서는 모두 몇 리터, 몇 밀리터야? 라고 했으니까요 여기에서 우리 단위 바꿔줄까요 1000ml는 1리터, 나머지는 900 아하 따라서 정답은 1리터, 900ml로 답해 주면 되겠습니다 여기까지 계산 잘 해놓고 이걸로 답하면 너무 억울하겠죠 그래서 선생님이 지난 시간에도 얘기했지만 답하기 전에 반드시 문제 확인 자 그 다음 1-2번 비슷합니다 뭐가 조금씩 달라지는지 볼까요 어항에 들이가 600ml인 그릇과 900ml인 그릇을 담과 같이 사용하여 물을 채웠어요 어항에 모두 몇 리터, 몇 밀리터의 물이 들어있는지 구해보세요 라고 했어요 600ml로 3번, 그러면 들어있는 물은 1800ml 여기에다가 900ml 한 번, 그럼 900ml만큼 더해 줘야 되겠죠 그럼 1800 더하기 900 계산하면 2700ml 입니다 자 문제 이렇게 답할 거예요 아니 아니 몇 리터, 몇 밀리터야 라고 물었잖아요 그러니 2000ml와 700ml는 2리터, 700ml로 답할 수 있겠죠 좋아요 자 그럼 1-3번도 거뜬히 풀 수 있어요 어항에 들이가 400ml, 500ml, 600ml인 그릇을 담과 같이 사용하여 물을 채웠대요 어항에 모두 몇 밀리터의 물이 들어있는지 구해보세요 라고 했습니다 아까보다 그릇에 종류가 많아졌죠 400ml로 3번, 그러면 1200ml 여기에 500ml 두 번, 1000ml 600ml 한 번, 600ml 모두 더해야 되겠네요 그럼 1200하고 1000을 더하면 2200ml 여기에 600ml 더하면 2800ml가 됩니다 자 문제 이게 바로 답일까 아니면 리터 밀리터 로 바꿔야 될까 문제 보니까 몇 밀리터의 물이 들어있어 라고 했네요 아 그럼 바로 이렇게 답하면 되겠죠 그래서 2800ml가 답이 되겠습니다 좋아요 자 1-4번 어항에 들이가 1리터, 200ml, 400ml, 2리터, 700ml인 그릇을 담과 같이 사용할 물을 채웠어요 어항에 모두 몇 리터의 물이 들어있는지 구해보세요 라고 했습니다 그럼 일단 부은 횟수 생각해야 되겠죠 1리터, 200ml로 한 번, 여기에다가 더하기 400ml로 한 번 여기에다가 더하기 2리터, 700ml 두 번이에요 그러면 2리터, 700ml 더하기 2리터, 700ml 자 1400이니까 1400 받아 올림 해주고 5리터가 됩니다 즉 5리터, 400ml 자 그럼 먼저 이렇게 더해 보면 1리터, 600ml가 돼요 그러면 여기에서 5리터, 400ml를 더하면 600하고 400 더하면 1000이죠 그러니 받아 올림에서 1 더하기 5 더하기 1, 7리터가 되는 걸 알 수 있어요 딱 정확하게 7리터네요 따라서 모두 7리터의 물이 들어있어 가 답이 되겠습니다 자 이제 이렇게 첫 번째 유형을 우리가 완전히 소화를 했어요 그럼 두 번째 유형, 조금 어려워 졌습니다 두 번째 유형은 문제를 일단 잘 읽어야 돼요 자 보세요 수조에 물을 붓는 횟수를 구해보자 드리가 10리터인 수조에 물이 2리터, 200ml 채워져 있어요 현재 이 수조에 물을 절반만큼 채우려면 드리가 700ml인 그릇으로 물을 적어도 몇 번 부어야 하는지 구해보세요 뭐야 이렇게 드리가 여러 개가 문제에 나와서 정신이 하나도 없네 자자 차근차근 일단 수조가 이렇게 있는데요 드리가 얼마라고요? 10리터래요 그런데 물이 2리터, 200ml 이쯤 채워져 있다라고 해보세요 여기가 2리터, 200ml 근데 이 수조에 나는 물을 절반만큼 채우려고 해요 딱 절반이 이만큼이라고 한다면 10리터의 절반이니까 5리터를 채워야 하는 거죠 그러면 드리가 700ml인 그릇으로 물을 적어도 몇 번 부어야 하느냐 바로 여기서는 5리터를 채우기 위해서 지금 현재 있는 양에서 얼마를 더 부어야 하느냐를 먼저 구해야 돼요 자 정리 드리가 10리터인 수조의 절반은 바로 5리터예요 이미 수조에 2리터, 200ml의 물이 들어있으니까 수조에 채워야 하는 양은 내가 채워야 할 5리터에서 이미 들어있는 양을 빼주면 됩니다 그러면 얘는 받아내림에서 1100이 200, 800이 되겠고 400이 있는 2 그래서 2리터, 800ml만큼을 더 물을 부어야 되는 거죠 그럼 700ml를 몇 번? 자 2800ml 같으니까 4번 더하면 2리터, 800ml가 되기 때문에 아, 물을 적어도 4번 부어야 해요 라고 결론 내려줄 수 있는 거예요 자 우리도 도전해 볼게요 드리가 8리터인 수조의 물이 2리터, 800ml 채워져 있어요 이 수조의 물을 절반만큼 채우려면 바로 드리가 600ml 그릇으로 물을 적어도 몇 번 부어야 하느냐 8리터의 절반이니까 4리터입니다 그럼 현재 물이 2리터, 800ml 있으니까 이만큼을 빼줘야 되겠죠 자, 밀리리터 뺄 수 없으니까 받아내림에서 1100이 800, 200이 되겠고 그리고 얘는 받아내림 됐으니까 300이 1리터, 200ml를 채워야 되는 거예요 그러면 드리가 600ml인 그릇으로 몇 번? 그렇죠, 2번 왜냐하면 600ml 더하기 600ml가 1200ml가 되는 거니까 어때요? 1리터, 200ml 맞죠? 아하, 그래서 몇 번? 2번 적어도 부어야 한다 가 답이 되겠습니다 자, 똑같은 문제였어요 자, 그러면 2-2번 이번에는 드리가 7리터인 수조의 물이 1리터, 500ml 채워져 있어요 이 수조의 500ml만큼 남기고 모두 채우려면 500ml인 그릇으로 물을 적어도 몇 번 부어야 하는지 구해보세요, 라고 했어요 그러면 나는요, 7리터에서 자, 500ml 남기고 모두 채운대요 그럼 얼만큼을 채워야 될까요? 7리터 빼기 500ml를 계산하면 되겠죠 그러면 1000에서 500 빼면 500ml 받아내림 했으니까 6리터 이렇게, 이만큼 채워야 돼요 그런데 이미 이만큼 채워져 있어요 내가 더 채워야 되는 양은 내가 채울 양, 6리터 500ml에서 현재 들어있는 물의 양을 빼줘야 되겠습니다 자, 그러면 500, 500 빠지고요 600이 5리터를 채우면 되겠네요 아, 내가 채워야 될 양은 5리터인데 자, 500ml 그릇으로 몇 번 부어야 할까? 5리터는 5000ml와 같아요 그러면 500ml로 10번 부어야 되겠죠 따라서 우리 정답 적어도 10번 부어야 해요가 정답이 되겠습니다 자, 조금 어려워졌죠? 아까는 수조 가득, 수조 절반 그러다 500ml 남기고 나머지 다 이렇게 문제가 조금씩 바뀌는 거 느껴보세요 자, 2-3번은 이번에는 들이가 7리터인 수조에 물이 이만큼 채워져 있는데 여기도 마찬가지로 500ml 남기고 모두 채우려면 400ml 그릇으로 물을 적어도 몇 번 부어야 되느냐 2-2번하고 똑같은 문제입니다 숫자만 바뀌었죠? 그러면 나는 물을 얼마큼 채워야 되느냐 일단 5리터에서 500ml를 빼주면요 4리터 500ml를 채워야 돼요 그런데 현재 이만큼 물이 있으니까 내가 더 채워야 되는 물의 양은 현재 들어가 있는 물의 양을 빼줘야 되겠네요 그럼 얘는 800ml로 계산이 됩니다 자, 800ml는 400ml 몇 번? 2번 부으면 되겠죠 그래서 2번 부어야 한다가 답이 되겠습니다 좋아요 그럼 마지막 문제 이번에는 들이가 2리터인 수조에 물이 얼만큼 600ml 채워져 있대요 이 수조의 절반보다 500ml 더 많이 물을 채우려면 300ml 그릇으로 물을 적어도 몇 번 부어야 할까요? 라고 했습니다 그럼 우리 친구들 2리터의 절반이 얼마인가요? 그렇죠 1리터죠 그럼 1리터보다 500ml 더 많이 물을 채우니까 물을 얼만큼 채워야 하냐 1리터 500ml 채워야 해요 그러면 이미 물이 600ml 채워져 있어야 되니까 더 채워야 하는 물의 양은 1리터 500ml에서 600ml를 어떻게 해요? 빼줘야 되겠죠 받아내림에서 1500에서 600을 빼면 900ml입니다 아 나는 900ml만큼 더 채워야 해 그럼 300ml 몇 번 3번 부으면 900이 되니까 따라서 3번 부어야 한다 라고 계산할 수가 있겠어요 일단 내가 얼만큼을 부어야 되느냐 이런 걸 계산하기 위해서는 채워야 되는 양에서 현재 채워진 양을 빼줘야지 계산이 된다는 거 잊지 마세요 좋아요 이렇게 오늘 미션 클리어 했나요? 클리어 했어요 드릴을 더하고 빼는 방법은 리터는 리터끼리, 밀리리터는 밀리리터끼리 같은 단위끼리 더하고 빼줍니다 더한 합이 밀리리터에서 1000이거나 1000보다 크면 리터로 받아올림 밀리리터끼리 뺄 수 없으면 리터에서 나 1리터만 주세요 그래 옜다 그럼 1000ml로 받아서 받아내림 자 받아올림 받아내림 할 때 정확하게 표시하는 거 잊지 마세요 좋아요 이렇게 드릴을 더하고 뺄 때는 계산 실수만 안 하면 우리 친구들 충분히 극복할 수 있습니다 선생님하고 함께한 문제들 꼭 복습하는 거 잊지 말고요 다음 시간에 선생님 새로운 내용으로 다시 찾아올게요 공부하다 아주 작은 부분이라도 궁금증 생기면요 게시판에서 질문 많이 많이 해주세요 고생 많았어요 여러분 안녕\n",
      "10강들이와무게(2)_초등수해력-도형·측정3단계.mp3에 대한 텍스트가 ./ebs_script/new/10강들이와무게(2)_초등수해력-도형·측정3단계.txt로 저장되었습니다.\n",
      "Transcription for 11강들이와무게(3)_초등수해력-도형·측정3단계.mp3:\n",
      "안녕하세요 ABS 친구들 여러분의 찐찐쌤입니다 우리 지난 시간까지 드리에 대해서 공부했으니까요 이제 무게를 공부할 차례에요 우리 무게를 비교해 보고 그리고 새로운 무게 단위도 이번 시간에 알아봐요 자 그래서 오늘의 미션 무게 단위를 알아보자 우리 친구들 이미 알고 있는 단위가 있습니다 보통 이제 너 몸무게 얼마나 나가 라고 했을 때 몇 킬로그램이야 라고 답하죠 바로 그것이 오늘의 지인공이에요 자 좋아요 그러면 이미 우리는 무게를 비교할 수 있었어요 그런데 이처럼 코끼리, 축구공 아 딱 봐도 당연히 코끼리가 훨씬 무겁겠죠 그래서 무게가 확실히 차이가 날 때는 코끼리가 축구공 보다 더 무거워요 아니면 축구공이 코끼리보다 더 가벼워요 이렇게 무게는 무겁다 가볍다로 표현할 수 있었어요 자 그런데 이제 짜잔 풀이랑 지우개를 보세요 어 비슷해 보이는데 한 손으로 이렇게 둘 다 가볍게 들을 수 있는 물건이에요 그러면 무게가 비슷할 땐 우리는 어떻게 무게를 비교해야 될까요 아니 코끼리랑 축구공처럼 한눈에 딱 봐도 더 코끼리가 무겁다 라고 알 수 있는 이 두 물건은 아닙니다 자 그럼 어떻게 해야 될까 양손을 들어보니 무게가 비슷하니까 지우개와 풀의 무게는 같아요 비슷한 거잖아요 그죠 더 정확하게 비교할 수 있는 방법이 필요해요 그래서 어떤 차이가 있는지 저울로 무게를 직접 재어 확인할 수 있습니다 우리 친구들 저울은 굉장히 여러가지 종류가 있는데요 윗접시저울 그리고 양팔저울 뭐 디지털 저울도 있고요 자 그래서요 우리가 직접 여러가지 방법으로 무게를 좀 비교를 해 볼게요 첫 번째 방법은 윗접시저울을 사용하여 무게를 비교해 봤어요 양쪽에 똑같이 올려 놓으면 무거운 쪽으로 더 기울어지죠 무거운 쪽이 더 아래로 내려갑니다 지금 보니까 풀하고 지우개에서 아 풀 있는 쪽이 더 아래로 내려갔네요 그 말은 무슨 뜻이에요 풀이 지우개보다 더 무겁다 라는 뜻이에요 자 만약에 두 무게가 정말 같았다면 어때요 평평하게 그대로 이렇게 이제 바닥하고 평평하게 어느 쪽으로 내려가지도 않았겠죠 그러면 아래로 더 내려간 기울어진 쪽이 더 무겁고 위로 올라간 물건이 더 가볍다라고 우리는 비교할 수가 있어요 자 그런데 얼마나 더 무거운지 좀 더 자세하게 비교하고 싶은 거예요 그럴 때는요 윗접시저울과 클립, 바둑돌, 공깃돌, 동전 등의 수로 물건의 무게를 비교할 수 있습니다 그러니까요 풀을 한쪽에 올려 놓고 평평할 때까지 클립을 올려 놓으면 52개가 됐을 때 딱 평평해진다는 건 아 풀의 무게는 클립 52개의 무게와 어떻다 같다 라는 뜻이죠 그럼 이번에는 지우개를 한쪽에 올려 놓고 오른쪽에는 클립을 평평해질 때까지 올려 놨더니 바로 42개가 되었어요 그러면 지우개는 클립 42개의 무게와 같다 음 그러면 첫 번째 방법보다 좀 더 자세하게 비교할 수가 있겠죠 첫 번째 방법에서는 풀이 더 지우개보다 무거워 더 기울어졌으니까 더 아래로 내려갔으니까 이런 거 알 수 있었는데 두 번째 방법 이게 클립을 사용을 했더니 클립 52개 클립 42개 몇 개 차이에요? 10개 차이죠? 아 그러면은 풀은 지우개보다 클립 10개 무게만큼 더 무거워요 라고 좀 더 자세하게 비교할 수 있습니다 자 그럼 이미 우리는요 양팔저울로 무게를 비교할 수 있었어요 지금 보세요 한쪽엔 클립 한쪽엔 지우개를 이렇게 올려 놨더니 저울이 지우개 쪽으로 더 기울었어요 그 말은 지우개가 클립보다 더 무겁다 라고 이렇게 비교할 수가 있겠죠 윗접시저울뿐만 아니라 이렇게 양팔저울로도 무게를 비교할 수 있어요 자 그러면 우리 이제 무게 단위로 한번 연결해 봐요 정확하게 무게를 대는 방법이 없을까? 있죠 우리 친구들 흔히 볼 수 있는 시리얼, 쌀, 뭐 코끼리 같은 경우에 자 슈퍼에 가보세요 많은 물건에 보면은 이렇게 무게가 이렇게 써 있습니다 600, 그 다음에 G가 있고 1, KG 이렇게 있는데 이거는 그냥 KG 이렇게 읽어야 될까? 뭐 코끼리는 4, T 이렇게 있어요 자 읽어줄 때는 우리 무게 단위는 킬로그램, 그램, 톤 등이 있는데요 자 1킬로그램은 바로 1킬로그램 1그램은 1그램 1톤은 1톤이라고 씁니다 그래서 이제 소문자로 KG, G, T 라고 써주고요 읽어줄 때는 킬로그램, 그램, 톤이라고 읽어주면 되는 거예요 여기서 우리 친구들 가장 중요한 게 바로 이거죠 1킬로그램하고 1,000그램이 무게가 같고요 1톤과 1,000킬로그램이 무게가 같다라는 걸 알 수가 있어요 그럼 우리 친구들 1그램의 무게는 얼마나 될까요? 굉장히 가볍겠죠 우리 친구들 1킬로그램을 기준으로 생각하면 좋을 것 같아요 우리 친구들의 몸무게 20몇 킬로그램 또는 30몇 킬로그램 그렇게 좀 됐을 텐데 그러면 1킬로그램은 어느 정도 될까? 우리 주변에서 설탕 같은 경우 이렇게 한 포에 1킬로그램 짜리 설탕도 있고 3킬로그램 짜리 설탕도 있어요 그러면 그것보다 설탕보다는 이게 더 좋을 것 같아요 무게를 어느 정도 생각하면 되냐면 우리 우유 1,000ml 짜리 있죠? 긴 거 그쵸? 요거의 무게가 약 1킬로그램 쯤 됩니다 그러니까 우리가 손으로 이렇게 집었던 것 중에 설탕보다는 우유를 더 많이 들어봤을 거 아니에요 그 정도 쯤으로 한번 예상을 해보세요 그러면 그 무게가 1,000그램하고 같다고 했으니까 1그램은 어때요? 설탕 엄청 요만큼이 되는 거죠 그쵸? 이렇게 한 꼬집으로 했을 때나 아니면은 작은 스푼으로 그랬을 때 몇 그램 정도를 우리가 무게를 잴 수 있는 거예요 그러면 톤은 어떨까? 톤이라는 거 1,000kg에 1톤이래요 그러면 톤은 굉장히 무거운 비행기라든지 보통 코끼리의 무게가 4톤, 3톤 이렇게 된다고 해요 아니면 기차라든지 이렇게 크고 무거운 물건이나 큰 동물의 무게를 잴 때는 톤이 적당하다는 것도 알 수가 있겠죠 좋아요 자 그러면 우리 이제 저울 정확하게 무게를 재려면 이제 저울의 종류도 알아야 되는데 어느 쪽이 더 무거운가? 무거운 쪽이 더 아래로 내려가는 윗접시 저울 무거운 쪽으로 더 기울어지는 양팔 저울이 있고 그 다음에 가정용 저울 보통 이제 슈퍼나 시장에 가면은 어떤 물건, 야채 같은 걸 샀을 때 여기다 올려놓고 이렇게 이제 바늘이 움직이는 바늘이 가리키는 눈금을 읽어주죠 그래서 이 가정용 저울과 그리고 디지털 저울 등이 있어요 자 예전에는 가정용 저울이 더 많았는데 요새는 선생님 슈퍼마켓을 갔더니 이 디지털 저울로 뭐 야채도 재고 그러시더라고요 아 그러면 우리 친구들 가정용 저울하고 디지털 저울 같은 경우에는 바로 정확하게 몇 킬로그램 그리고 몇 그램이라고 무게를 잴 수가 있겠죠 좋아요 자 그러면 킬로그램 그램을 이용해서 무게를 한번 나타내 볼게요 우리 친구들 이제 가방을 위에다가 올려놨어요 그랬더니 자 저울에서 눈금이 가리키는 부분이 바로 이렇게 1400그램을 가리키고 있었어요 그것은 무엇이냐 바로 1킬로그램 보다 400그램 더 무거운 무게를 우리는 1킬로그램 보다 400그램 더 무거워 이렇게 길게 표현하지 않고 1킬로그램 400그램 이라고 씁니다 그리고 읽어줄 때는 1킬로그램 400그램 이라고 읽어줘요 그러면 1킬로그램은 1000그램하고 무게가 같잖아요 그러니까 1킬로그램 400그램은 1400그램 왜냐하면 1000그램 400그램 그래서 1400그램 이라고 나타내요 그러면 몇 킬로그램 몇 그램은 몇 그램으로 나타낼 수 있어야 하고 그리고 1000이거나 1000보다 더 무거운 물건의 무게는 몇 킬로그램 몇 그램 이라고도 나타낼 수 있어야 돼요 그러니 단위를 자 이렇게 여기서 그램으로 그램에서 몇 킬로그램 몇 그램으로 우리 친구들이 자유자재로 바꿔서 표현할 수 있어야 됩니다 좋아요 그러면 우리 가방의 무게는 1400그램 이니까 1킬로그램 400그램 이로 나타낼 수가 있겠죠 자 그럼 이제 우리 수혜력을 확인해 볼게요 무게도 비교해 봤고 그리고 또 저울을 이용해서 눈금이 가리키는 무게도 읽어 봤습니다 저울로 무게를 비교하여 더 가벼운 물건을 한번 찾아보도록 하죠 지금 보니까 윗접시 저울에 분필하고 지우개로 올려 놨어요 그랬더니 지우개 쪽으로 이렇게 더 내려갔습니다 그 말은 더 가벼운 건 우리 좀 더 위에 있는 물건을 찾아주면 되겠죠 그래서 분필이 더 가볍다 더 가벼운 물건을 찾는지 더 무거운 물건을 찾는지 문제를 정확하게 읽어야 됩니다 자 그 다음 우리도 한번 도전해 볼까요 저울로 무게를 비교했어요 저울을 보고 더 가벼운 물건에 동그라미 표하세요 라고 했습니다 책하고 필통을 올려 놨습니다 어느 쪽으로 내려갔어요 그죠 책 쪽으로 내려가 있어요 그 말은 책이 필통보다 더 무겁습니다 반대로 필통은 책보다 더 가볍습니다 이렇게 비교할 수 있겠죠 더 가벼운 물건은 필통이 되겠습니다 자 그럼요 이번에는 어느 것이 얼마나 더 무거운지 알기 그러니까 윗접시 저울에 두 물건을 올려 놨을 때는 더 이제 아래 있는 것이 더 무거우니까 무엇이 무엇보다 더 무겁다 또는 무엇이 무엇보다 더 가볍다 이렇게 비교를 했는데 아니 얼마나 더 무거운 거야 얼마나 더 가벼운 거야 좀 더 자세하게 알고 싶다면 다음과 같이 동전, 클립, 이런 바둑돌 등을 이용하면 되겠죠 그래서 가위하고요 자 100원짜리 동전 12개로 올려 놨더니 무게가 같다라는 걸 알 수 있었어요 지우개와 100원짜리 동전 9개로 올려 놨더니 무게가 같다라는 걸 알 수 있어요 이때 주의할 점이 있어요 동전이라고 하더라도 같은 종류의 동전을 올려 놔야 되겠죠 가위는 100원짜리 그리고 또 지우개는 500원이나 10원짜리 동전을 비교하면 제대로 정확하게 비교할 수가 없답니다 이 점 꼭 주의해주세요 자 그렇다면 우리 누가 더 무겁나요 가위, 지우개 중에 아 가위가 동전이 12개, 지우개는 동전 9개니까 동전 더 많이 필요하죠 그 말은 더 무겁단 뜻이에요 그래서 가위가 지우개보다 얼마만큼 12개와 9개의 차, 바로 3개니까 3개만큼 더 무겁습니다 라고 이제 나타낼 수 있습니다 자 그럼 우리도 도전 저를 보고 네모 안에 알맞은 말이나 수를 써놓으세요 라고 했어요 자 복숭아는 100원짜리 동전 20개와 무게가 같고요 사과는 100원짜리 동전 24개와 무게가 같아요 그러면 20개, 24개 24개가 더 많잖아요 그 말은 사과가 더 무겁다라는 얘기입니다 무엇보다, 복숭아보다 써볼게요 사과가 복숭아보다 동전 몇 개? 자 20개하고 24개의 차이는 바로 4개 차이가 나니까 4개만큼 더 무겁습니다 라고 비교할 수 있겠죠 좋아요 자 그러면 우리가 직접 이렇게 저울에다가 물건을 올려놔서 눈꿈이 가리키는 이 수를 보고 무게를 직접 말해 볼게요 지금 백과사전을 올려놨더니요 눈꿈이 짜잔 더 자세하게 지금 이 그림에서는 잘 안 보이니까 확대를 이 부분만 했어요 그랬더니 1200g 이다라는 걸 알 수 있었습니다 그러면 1000g은 1kg이니까 아하 1kg 하고도 200g 더 무거운 물건이구나 라고도 표현할 수 있어야 됩니다 좋아요 우리도 도전 파인애플을 올려놨어요 그랬더니 저울이 이곳을 가리키고 있는데 좀 더 확대를 했더니요 1700g을 가리키고 있었어요 그렇다면 파인애플의 무게는 1700g이 되겠다 1700g에서 1000g은 1kg이죠 그래서 1kg과 그 다음에 이보다 700g 더 무거운 무게야 라고 정리할 수 있습니다 좋아요 그럼 이제 우리 단위 바꿔서 표현하는 거 한번 연습해 봐요 자 몇 kg 몇 g으로 표현하는 방법은 5200g은 5000g 보다 200g 더 무거우니 5000g 더하기 200g으로 표현할 수 있어요 그러면 1000g은 1kg이니까 5000g은 5kg 그리고 200g 뒤에 이어서 붙여줘서 5kg 200g 이라고 표현할 수 있습니다 그 다음 몇 g으로 한번 표현해 볼까요 9kg 700g은 9kg은 9000g 이에요 이보다 700g 더 무거운 무게니까 9000g과 700g을 더 해주면 되겠죠 그래서 9700g으로 표현할 수 있어요 자 우리도 연습해 봐요 네모 하나 알맞은 수를 써놓으세요 라고 했습니다 7390g을 몇 kg 몇 g 으로 나타내려고 해요 그러면 여기에서 이제 몇 천을 떼어내야 되는 거죠 자 이렇게 천의 자리까지 보면 됩니다 앞에 천의 자리 수가 7이니까 7000g과 이보다 390g 더 무거운 무게에요 그러면 7000g은 7kg이 되겠죠 그리고 이보다 390g 더 무거우니 이렇게 위에 뒤에다가 붙여서 써주면 됩니다 따라서 7kg 390g이 답이 되겠어요 좋아요 자 이제는 5kg 30g 이에요 선생님하고 한번 볼까 자 이는 5kg 보다 30g 더 무거운 무게인데 5kg은 몇 g 5000g 그럼 5000g 보다 30g 더 무겁대 그러니까 5000 바로 30g 으로 나타낼 수가 있는 거죠 따라서 5030 우리 친구들 그대로 5300 이라고 쓰면 안 됩니다 반드시 5000g과 30g 이렇게 나누어서 생각해 보면 돼요 좋아요 자 그러면 우리 수혜력도 확인해 봤고 이제 수혜력을 높여보도록 하죠 무게 단위가 잘못 쓰인 것을 찾아 기호를 써보세요 라고 했습니다 우리 친구들 gram과 kilogram 그리고 tone을 적절히 사용해 줘야 되겠는데요 우리 친구들 1kg은 1000g 이라는 걸 생각을 하면 이 gram은 작은 물건 선생님이 들고 있는 이 분필 같은 경우에도 gram으로 나타내기에 적당하겠죠 자 그러면 자전거 같은 경우에는 5kg 어때요 우리 친구들 kilogram이 자전거의 무게를 사용하는데 적당하기는 해요 하지만 앞에 있는 수를 반드시 확인해야 돼요 앞에 수가 만약에 5000 이라고 써 있었다면 5000kg 5tone인데 안 맞잖아요 그래서 수하고 단위를 적절하게 확인을 해 줘야 됩니다 5kg은 맞죠 자전거가 작은 물건 아니잖아요 선생님도 낑낑거리면서 이렇게 드니까요 그 다음에 책가방 1kg 쯤 되는 거 맞습니다 볼링공도 손가락 3개 이렇게 넣어 가지고 드는데 꽤 무거워요 그렇죠 그래서 3kg 이라고 표현하는 건 알맞게 표현을 했어요 자 배드민턴공 1kg 어? 배드민턴공 굉장히 가볍지 않나요 이렇게 두 손가락으로 손가락으로도 들 수 있는 걸요 그래서 이 1kg 이라는 거는 잘못된 표현이다라는 거예요 그래서 잘못 쓰인 것은 바로 리을이 되는 걸 알 수가 있겠습니다 그러면은 클립이라든지 동전이라든지 그런 작은 물건들 이제 그램으로 사용하면 되겠고요 자전거도 5kg 그리고 선생님이 키우고 있는 같이 살고 있는 고양이들도 무게를 재보면 3kg인 고양이도 있고요 7kg 고양이도 있어요 그래서 이제 동물 작은 동물 개나 고양이 같은 경우도 1kg을 사용하면 좋습니다 자 그러면 우리 이제 6번 가보도록 할게요 민지와 우진이는 과일 가게에 갔대요 과일의 무게 단위를 알맞게 사용한 친구의 이름을 써보세요 라고 했어요 우리 친구들 과일 가게 가보면 물론 낮게로 과일을 사는 경우도 있지만 이렇게 상자에 사과가 여러 개 배가 여러 개 들어있는 거는 들으려고 해보세요 꽤 무겁습니다 그리고 특히 수박도 굉장히 무겁죠 자 수박도 선생님도 두 손으로 막 큰 거는 낑낑대고 와야 돼요 그러면 이런 과일 같은 경우에는 우리 그램이 아니라 킬로그램이 더 적절할 거예요 자 우리 민지가 얘기했습니다 키위 한 개의 무게는 약 1kg이야 수박 한 통의 무게는 약 10kg이야 자 알맞게 사용한 친구가 누굴까요 키위 아니 한 상자도 아니고 한 개래요 그럼 한 손으로 그냥 이렇게 들을 수 있으니까 몇 그램으로 표현하는 게 더 적당하겠죠 그리고 우리 친구들 아까 1kg 이 주변에서 가장 비교하기 좋은 게 우유 1000ml 있죠 그 정도예요 그럼 키위 한 개가 그 정도가 되나요 그보다 훨씬 가볍잖아요 그쵸 그리고 수박 한 통 아까 수박도 무거운 거는 엄청 무겁습니다 그래서 약 10kg이야라는 거는 제대로 사용을 했어요 따라서 과일의 무게 단위를 알맞게 사용한 친구의 이름을 써보세요 라고 했으니까 우리 우진이가 답이 되겠습니다 자 다음이 나타내는 무게는 몇 톤인지 써보세요 라고 했어요 우리 7번 볼게요 900kg보다 100kg 더 무거운 무게 라고 했네요 그럼 우리 친구들 900kg에서 100kg이 더해진다고 생각을 하면 되는 거죠 더 무거워지는 거니까 그러면 몇 kg이 되는 건가요 맞아요 1000kg이 됩니다 1000kg은 그대로 1000kg이라고 쓰면 안 되고요 몇 톤인지 써보세요 라고 했어요 1000kg은 우리 1톤하고 같은 무게죠 그러니까 답은 1톤이 되는 걸 알 수가 있겠습니다 좋아요 하지만 우리가 이제 톤이라는 몇 톤이 되는 물건은 없죠 그쵸 그래서 킬로그램하고 그램이 우리 일상에서 많이 볼 수 있는데 앞으로는 우리 친구들이 이제 무게를 좀 더 잘 또 어림하기도 하고 비교하기 위해서는요 슈퍼에 가서 이제 과자나 아이스크림 등을 살 때 그냥 사지 말고 물건들을 좀 관찰해 보세요 그랬을 때 이제 무게가 적혀 있으니까 아 들어보고 이 무게가 한 500g쯤 된다는 얘기구나 아 이 무게가 1kg쯤 된다는 얘기구나 라는 거 한번 느껴보세요 그리고 뭐 어떤 소스 같은 경우도 유리병에 들어있는 소스들은 유리의 무게 때문에 더 많이 나가잖아요 그러면 이렇게 들어보고 또 비교해 보고 그래서 우리 친구들이 직접 느껴봤으면 좋겠어요 자 그럼 9번으로 이어서 가보도록 할게요 자 무게가 같은 것끼리 선으로 이어보세요 라고 했습니다 단위가 다르게 나왔어요 그쵸 지금 오른쪽은 5040kg, 그램, 그램 이렇게 나왔고 몇 kg, 그램, 몇 kg, 그램, 몇 톤, 몇 kg 이렇게 나왔네요 그러면 먼저 5kg 40g은 5kg이 5000g 이니까 5000g 보다 40g 더 무거운 무게는 5040g이 되는 걸 알 수가 있겠죠 자 그래서 요거는 그냥 그램으로 쓸게요 찾아볼까나 5040 여기 있다 이렇게 아래쪽에 있는 점하고 그어주고요 두번째 5kg 400g 이에요 5kg 보다 400g 더 무거운 무게죠 그러면 5kg은 5000g 이 되겠고 여기에 400g 만큼 더 무겁다 라고 했으니까 5400g 이 되겠네요 5400g 찾았어요 네 여기 있습니다 가운데 그 다음에 이번에는 5톤 40kg 1톤은 1000kg 이죠 그러니 5톤은 5000kg 이고 이보다 40kg 더 무거운 무게에요 그러니 5000과 40을 더해서 5040kg 단위 주의해주세요 그럼 5040kg 맨 위에 있으니까요 이렇게 연결해주면 되겠습니다 이처럼 다르게 단위가 표현되어 있어도 우리는 단위를 바꿔서 표현할 수 있으니 얼마든지 같은 무게를 알아볼 수가 있겠죠 좋아요 자 그럼 11번 실생활 활용 문제 보도록 하죠 진수는 3명의 친구에게 택배로 선물을 보내려고 합니다 진수는 택배 요금으로 얼마를 내야 하는지 구해보세요 라고 했어요 우리 친구들 택배로 보낼 때는 무게별로 요금이 정해지잖아요 자 1100g 500g 4500g 새 친구에게 보내는 선물의 무게가 다르네요 아래 표가 있는데 1kg 까지는 2200원 2kg 까지는 3000원 5kg 까지는 4500원 10kg 까지는 8000원 이게 무슨 말이냐 1kg 까지 그러니까 1kg에 채 안되는 물건도 2200원이 되는 거죠 그러면 1kg이 조금 넘어요 하지만 2kg이 안돼요 그러면 우리가 2kg 까지 이 범위에 있는 요금 3000원으로 이제 적용이 된다 라는 뜻입니다 그럼 먼저 첫 번째 선물의 무게를 보니 1100g 이에요 그러면 여기서 1000g 이라는 거는 1kg 이잖아요 그래서 1kg 100g 이 되는 거죠 여기다 위에다 써볼게요 1kg 100g 입니다 1kg을 넘어 버렸으니까 요금이 2200원이 아니죠 바로 2kg 까지 범위의 요금으로 적용을 해줘야 돼요 그래서 3000원이 되겠다 이 택배 요금은 3000원 그 다음에 두 번째 무게는 500g 입니다 500g 은 1kg에 채 안되는 거죠 이보다 더 가벼운 물건이니까 바로 첫 번째 범위에 속하겠네요 그래서 2200원 그 다음에 4500g 같은 경우에는 우리 4000g 은 4kg 그리고 500g 이 이렇게 있으니까 어때요 자 5kg 까지 범위에 속하겠어요 그죠 그래서 4500원이 되는 걸 알 수가 있겠다 그렇다면 이 요금을 모두 더해 보면 되겠죠 3000 더하기 2200 더하기 4500 계산하면 3000하고 2200 더하면 5200이 되겠고요 여기에서 4500을 더해 볼게요 9700이 되니까 아하 모두 택배 요금의 합은 9700원이 되겠다 9700원이 답이 되겠습니다 어느 요금 구간에 속하는지 우리 친구들이 무게를 보고 잘 선택을 해줘야 되겠어요 좋아요 자 그럼 교과용한 문제 볼까요 심청자는 한국의 고전수설로 맹인 아버지 신봉사의 눈을 띄우기 위해 공향민 300석의 몸을 팔아 임당수의 몸을 던지는 효녀 심청의 이야기를 다룹니다 이때 쌀 한 석의 무게가 약 150kg 이라면 쌀 3석의 무게는 약 몇 kg 일까요 라고 했어요 우리 친구들 150kg 굉장히 무겁겠어요 그죠 그러면 한 석의 무게라고 했으니까 3석은 바로 150kg을 얼마큼 그렇죠 3개가 있다고 생각하면 됩니다 그래서 3번 더해주면 되겠네요 그럼 150 더하기 150은 300이고요 여기다 150을 더해 보세요 그럼 450이 나오니까 아 따라서 450 그럼 약 450kg쯤 되겠구나 라는 걸 알 수가 있겠습니다 이렇게 우리 고전 이야기 속에서도요 무게 관련된 이야기가 나온답니다 그래서 우리 친구들이 앞으로 책을 읽을 때 무게에 대한 단위들이 나온다면 어느 정도 되겠지라는 걸 예상하면서 책을 읽으면 더 재밌을 것 같아요 좋아요 이제 수혜력도 높여 봤겠다 이제 수혜력 완성하기 도깨비 만나볼게요 우리 친구들이 딱 이렇게 문제가 나왔다면 굉장히 어려울 수 있는데 선생님하고 반복해서 연습해보고 숫자 바꾼 문제도 만나보고 한 단계 넓혀가면서 문제를 보면 아 이거 별거 아니네 라는 생각이 들 겁니다 첫 번째 대표용 문제는요 무게를 비교하는 건데요 우리 무게 비교하는 거 얼마나 여러 가지 방법이 있어요 그죠 자 어떻게 비교했는지 한번 볼까요 저울을 보고 구슬, 공기똘, 자 한 개씩의 무게를 비교하려고 해요 무게가 가장 가벼운 것은 어느 것인가요 지금 어떻게 비교했는지 봤더니 윗접시 저울에 구슬 4개와 공기똘 8개를 놓아서 무게가 같다 라는 걸 알았어요 그리고 구슬 1개와 자 3개를 놓고 무게가 같다 라는 걸 알았어요 아니 이 그림만 보니까 한 번에 누가 가장 가장 무엇이 가장 가벼운지 잘 모르겠어요 그래서 어디 한번 곰곰이 생각해 보기로 했습니다 먼저 1단계는 구슬 4개의 무게와 공기똘 8개의 무게가 같잖아요 그렇다면 구슬 1개의 무게는 어떨까요 지금 여기 4개의 무게니까 공기똘 8개를 선생님이 네 묶음으로 묶어 보면 바로 한 묶음에 공기똘 2개씩 들어가 있죠 그 말은 구슬 1개의 무게는 공기똘 2개의 무게와 같다 라는 걸 알았어요 자 구슬 1개, 공기똘 2개 그 다음 구슬 1개의 무게는 자 3개의 무게와 같아요 그러면 우리 친구들 공기똘 2개와 왜냐하면 구슬 1개가 공기똘 2개와 같다 라고 했으니까 선생님이 구슬 1개 빼고 그 대신 공기똘 2개 올려놔도 되겠죠 그죠? 그러니 공기똘 2개와 자 3개의 무게가 같다 라는 거예요 그 말은 공기똘 2개와 자 3개의 무게가 같다 라는 얘기예요 그러면 우리 구슬 1개, 공기똘 2개, 자 3개 이렇게 무게가 다 같다 라고 이제 생각하면 되겠죠 따라서 구슬 1개의 무게는 공기똘 2개의 무게와 같고 또 자 3개의 무게와 같아요 그렇다면 우리 친구들 이 중에서 가장 어떤 물건의 무게가 가벼울까요? 바로 자 만약에 무게가 같다 라고 했을 때는 기수가 가장 많은 물건이 1개의 무게가 가장 가볍다라는 걸 알 수가 있겠죠 따라서 바로 자의 무게가 가장 가볍습니다 라는 걸 알 수 있겠습니다 좋아요 그럼 우리도 이제 연습해 볼까요 저울을 보고 구슬, 공기똘, 자 1개씩의 무게를 비교하려고 합니다 무게가 가장 가벼운 것은 어느 것입니까? 라고 했는데 우리 친구들 아까랑 조금 다르게 이제 저울에서 우리가 구슬 3개하고 공기똘 6개가 같다는 걸 알았어요 그러면 구슬 3개니까 공기똘 6개를 세무콤으로 묶었을 때는 우리 구슬 1개, 구슬 1개의 무게와 그 다음에 공기똘, 자 세무콤 묶었을 때 공기똘이 한묶음에 2개죠 그래서 공기똘 2개의 무게가 같다 라는 거 알 수가 있겠고요 그 다음에 여기서는 구슬 1개하고 자 4개의 무게가 같대요 그러면 자 4개 이렇게 비교를 했을 때 공기똘 2개와 자 이렇게 선생님이 자를 이렇게 나타내 볼게요 4개의 무게가 같다 라는 거잖아요 그렇죠 그렇다면 이 중에서 가장 가벼운 물건은 뭐겠어요 개수가 가장 많은 자가 되는 걸 알 수가 있겠죠 따라서 정답은 자가 답이 되겠습니다 2개씩 물건이 이제 2종류씩 올려 있지만 우리 친구들이 3개의 물건을 연결해서 무게를 비교할 수 있어야 됩니다 자 그러면 이번에는 저울을 보고 구슬, 공기똘, 자 1개씩의 무게를 비교하려고 합니다 무게가 가장 가벼운 것은 어느 것인가요? 라고 했어요 비슷한 문제죠 조금 살짝 이제 수만 바뀌었다고 생각하면 돼요 자 구슬 4개하고요 공기똘 2개의 무게가 같다라고 해요 그럼 우리 친구들 구슬 4개랑 공기똘 2개니까 자 이렇게 구슬을 두 묶음으로 묶어 보면 바로 구슬 2개하고 공기똘 1개하고 무게가 같다는 얘기겠죠 그죠? 그럼 이제 이쪽으로 비교해 볼게요 구슬 2개와 자 1개의 무게가 같대요 어? 구슬 2개는 공기똘 1개의 무게와 같은데 그럼 공기똘 1개, 구슬 2개를 빼고 공기똘 하나를 올렸을 때 자 1개의 무게와 같다라는 얘기잖아요 그래서 자 1개의 무게와 같다라는 뜻이죠 그러면 이 중에 가장 가벼운 게 뭘까요? 개수가 가장 많은 구슬이 되겠다 따라서 정답은 구슬이 가장 가벼워요 라는 걸 알 수 있습니다 자 그러면 이번에는 이렇게 비교해 볼게요 저울을 보고 구슬, 공기똘, 자 1개씩의 무게를 비교하려고 해요 이번에 무게가 가장 무거운 것은 어느 것인가요? 자 무거운 거 찾아보죠 구슬 6개하고 공기똘 3개가 무게가 같다라고 해요 그러면 우리 6개를 세묶음으로 묶었을 때는 이렇게 이제 한 묶음에 2개니까 아 구슬 2개의 무게와 그 다음에 우리 공기똘 1개의 무게가 같다라는 걸 알 수가 있겠죠 이렇게 얘도 세묶음 3개니까요 그대로 1개 잖아요 아 그럼 구슬 2개의 무게하고 공기똘 1개의 무게가 같았어요 그럼 이번에는 구슬 2개하고 자 4개의 무게가 같았어요 우리 구슬 2개는 공기똘 1개의 무게와 같은데 그러면 이 구슬 2개를 떼고 공기똘 하나를 올려도 자 4개하고 무게가 같다라는 얘기니까 아 공기똘 하나와 자 4개의 무게가 같구나 라는 걸 알 수가 있는 거죠 자 그러면 우리 친구들 여기에서 가장 무거운 거 개수가 많을수록 1개의 무게가 가장 가볍다 이렇게 이제 지금까지 문제 풀었는데 반대로 생각해야 되겠죠 바로 공기똘이 1개, 나머지는 2개, 4개니까요 가장 무거운 건 뭐겠어요? 바로 공기똘이 되겠습니다 따라서 정답은 공기똘이 답이 되겠습니다 자 이번에도 조금 다르게 가장 무거운 것은 어느 것인가요? 한번 찾아보도록 할게요 구슬 8개하고요 공기똘 4개예요 그럼 4개니까 우리 네묶음으로 구슬을 묶어 보면은 한묶음에 바로 2개씩 있습니다 그렇다면 구슬 2개하고 그 다음에 공기똘 1개하고 무게가 같다라는 얘기죠 근데 구슬 2개가 이번엔 자 5개하고 무게가 같대요 그러면 구슬 2개는 공기똘 1개와 같은데 공기똘 1개하고 구슬 2개는 또 무게 같으니까 바로 자 5개가 같다 이렇게 연결이 될 수 있는 거죠 따라서 이 중에서 가장 무거운 것은 개수가 적은 1개 바로 이제 공기똘이 되는 걸 알 수 있습니다 그래서 정답은 공기똘이 답이 되겠어요 좋아요 이렇게 몇 개를 올렸는지를 비교하면서 무게를 비교해 봤고요 두 번째 유형은 직접 저울을 보고 무게를 구해 볼게요 초록색 택배 상자와 노란색 택배 상자의 무게를 각각 재웠어요 두 상자를 저울에 함께 올려 놓으면 무게는 몇 킬로그램 몇 그램인가요? 라고 했습니다 함께 올려 놓으면 두 무게가 합쳐지니까 더 무거워지겠죠 어디 하나씩 볼까요? 첫 번째 단계 초록색의 택배 상자의 무게는 어디 보자 저울이 가리키는 눈꿈을 읽어 보니까 1킬로그램이구요 노란색 택배 상자의 무게는 저울이 가리키는 눈꿈은 700그램이네요 아하 따라서 두 택배 상자를 함께 저울에 올려 놓으면 1킬로그램 보다 700그램 더 무거워지잖아요 그러니 1킬로그램 700그램이 되는 걸 알 수가 있어요 좋아요 이렇게 이제 각각 무게를 재서 함께 올렸을 때 무게를 예상해 봤구요 자 이번에 조금 비슷한 문제 갑니다 초록색 상자와 노란색 상자의 무게를 각각 재웠어요 똑같아요 함께 올려 놨을 때 무게가 얼마나 될까? 바로 몇 킬로그램 몇 그램인지 나타내 보죠 자 초록색 택배 상자는 눈꿈이 가리키는 것을 봤더니 3킬로그램 그 다음에 노란색 택배 상자는요 어디 보자 봤더니 500그램을 가리키고 있어요 그렇다면 함께 올려 놨으면 3킬로그램 보다 500그램 더 무거운 무게니까 바로 3킬로그램 500그램이 되겠죠 만약에 문제에서 몇 그램 이에요 라고 했다면 우리 친구들 그램으로 바꿔서 나타내 줘야 됩니다 문제에서 어떤 단위로 물어봤는지 중요하니까 꼭 체크해 주세요 자 이번에는 초록색 택배 상자의 무게를 재구요 초록색과 노란색 택배 상자의 무게를 쟀어요 함께 이렇게 모아서 그랬을 때 노란색 택배 상자의 무게가 몇 그램인지 알아맞혀야 돼요 그럼 보세요 일단 초록색 택배 상자의 무게는 1킬로그램 이에요 근데 함께 쟀더니만 지금 1,800 그러니까 1,800그램을 가리키고 있었어요 그러면 1,800그램 이라는 것은 1킬로그램 800그램으로 이렇게 단위를 바꿔낼 수 있고 1킬로그램 보다 800그램 더 무거운 무게죠 초록색 상자가 1킬로그램 이었는데 얼마나 더 무거워 졌어요? 800그램 더 무거워 졌어요 그 말은 노란색 택배 상자의 무게가 800그램이다 라는 걸 뜻하겠죠 그래서 정답은 800그램이 되겠습니다 자 이번에는 노란색 택배 상자의 무게를 재구요 초록색과 노란색 택배 상자 함께 쟀어요 그럴 때 초록색 택배 상자의 무게를 알아볼 거에요 노란색 지금 눈꿈이 가리키고 있는 보니까 500그램 이에요 무게를 보니 500그램 그 다음에 함께 쟀을 때는요 눈꿈이 어디를 가리키고 있을까를 봤더니 3킬로그램 하고 4킬로그램이 눈꿈 10칸으로 나누어져 있는데 그 중에 딱 가운데 5칸 진한 부분을 가리키고 있어요 우리 친구들 지금 3킬로그램에서 4킬로그램까지는 바로 1킬로그램 입니다 1킬로그램은 1,000그램이죠 근데 눈꿈 10칸으로 나눴으니까 작은 눈꿈 한 칸은 100그램이 되는 걸 알 수가 있어요 따라서 3킬로그램 그리고 또 5칸을 갔으니까 500그램이 됩니다 그럼 어때요? 노란색은 500그램인데 3킬로그램 500그램 이라는 거는 바로 3킬로그램 만큼이 더 무게가 무거워진 거니까 아 초록색 택배 상자의 무게는 3킬로그램 이겠다 라는 걸 알 수 있겠죠 자 그럼 오늘의 마지막 문제 한번 알아볼게요 노란색 택배 상자 무게 쟀구요 함께 쟀어요 그럴 때 초록색 택배 상자의 무게는 몇 그램 이에요? 라고 물어봤네요 일단 노란색은 지금 500그램 그 다음에 함께 쟀을 때는 2킬로그램과 3킬로그램 한 가운데에요 그러니까 어때요? 바로 2킬로그램 자 작은 눈꿈 한 칸은 100그램이죠 왜냐하면 1,000그램이 10칸으로 나눠졌으니까 그럼 몇 칸 갔냐? 하나, 둘, 셋, 넷, 다섯 그래서 500그램 이에요 노란색은 500그램인데 함께 쟀더니 2킬로그램 500그램이 되어가지고 2킬로그램 보다 500그램 더 무거워졌어요 아 그 말은 바로 초록색 택배 상자의 무게가 2킬로그램 이라는 거예요 하지만 그냥 2킬로그램 쓰면 땡 틀립니다 왜? 그램으로 물어봤잖아요 그렇기 때문에 바로 2,000그램으로 답해야 된다는 거 너무너무 실수 많이 할 수 있겠죠 중요하니까 꼭 기억해 주세요 자 이렇게 해서 우리 오늘의 미션도 클리어 했습니다 무게를 비교하고 무게 단위를 알아봤어요 무게 단위에는 킬로그램, 그램, 톤이 있었고 관계가 중요했습니다 1킬로그램은 1,000그램과 같고 1톤은 1,000킬로그램과 같다 라는 걸 통해 단위를 바꿔서 표현할 수도 있어야 됩니다 자 우리 친구들 무게도 약간 감각이기 때문에 여러 물건의 무게를 직접 보고 들어보면서 우리 친구들이 몸으로 느껴봤으면 좋겠어요 오늘 함께한 내용 그리고 숙제도 잊지 말고요 다음 시간에 무게에 대한 또 다른 이야기에서 선생님 다시 찾아올게요 고생 많았습니다 안녕\n",
      "11강들이와무게(3)_초등수해력-도형·측정3단계.mp3에 대한 텍스트가 ./ebs_script/new/11강들이와무게(3)_초등수해력-도형·측정3단계.txt로 저장되었습니다.\n",
      "Transcription for 12강들이와무게(4)_초등수해력-도형·측정3단계.mp3:\n",
      "무게에 대한 단위를 공부하고 나면 우리는 드리의 더쌤과 뺄쌤을 할 수 있었습니다 그렇듯 우리 무게에 대한 단위도 배웠으니까 무게를 더하고 뺄 수도 있어야 돼요 그래서 오늘은 무게에 대한 단위를 공부하고 나면 드리의 더쌤과 뺄쌤을 할 수 있었습니다 무게에 대한 단위를 공부하고 나면 드리의 더쌤과 뺄쌤을 할 수 있었습니다 무게를 더하고 뺄 수도 있어야 돼요 그래서 오늘의 미션 무게의 더쌤과 뺄쌤을 알아보자 드리의 더쌤과 뺄쌤하고 우리 친구들 비교해 봐도 좋겠어요 먼저 우리 무게를 대략 어느 정도 되는지 어림해 볼 수 있습니다 무게를 대략적으로 어림할 때 사과하고 배 보세요 지금 크기가 비슷하니까 사과의 무게는 배의 무게와 비슷한 것 같아요 이렇게 이제 눈으로 보고 예상해서 어림해 봤습니다 그렇다면 새로 배울 무게를 어림하는 방법은요 사과 한 봉지가 이렇게 있어요 사과 한 봉지의 무게는 얼마쯤 될까 한번 예상을 해보는 거예요 그랬을 때 우리 쌀 500g, 500g, 우리 콩 400g 이런 것들을 생각을 하면 사과 한 봉지의 무게는 내가 쌀 500g 짜리를 들어봤는데 그 두 봉지하고 콩 400g 짜리 한 봉지의 무게하고 비슷해 보이니까 약 1400g 정도로 되지 않을까 라고 어림을 해봤어요 그러면 직접 재봤을 때는 1450g 이다라는 거 어때요? 굉장히 가깝게 어림했죠 무게를 어림하려면 우리 친구들이 일단은 이렇게 기준이 되는 무게가 어느 정도인지 기준을 삼고 그거하고 비교를 해서 조금 더 무겁다 조금 더 가볍다 이렇게 어림해주면 되겠습니다 그러면 우리 친구들 만약에 이 친구는 약 1400g으로 어림을 했는데 선생님이 어림했을 때는요 이렇게 어림했다고 해보세요 약간 1600g 정도 될 것 같은데 사과가 너무 무거워 보이는데 이렇게 어림을 했다면 누가 더 어림을 잘했다고 볼 수 있어요? 정확한 무게 1450g에 더 가깝게 어림한 친구가 어림을 더 잘했다 라고 볼 수가 있는 거죠 더 가깝게 어림한 것은 우리 친구들이 계산을 해보면 됩니다 자 1450g과 1400g 일단 나중에 이제 더샘패스 배우겠지만 만약에 빼본다면 50g 차이가 나는 거고 1600g 하고 1450g은 150g 차이가 나는 거니까요 어때요 50g이 차이가 더 적다라고 볼 수가 있겠죠 그래서 더 가깝게 어림했다 라고 알아볼 수 있어요 좋아요 자 그러면은 내가 무게를 어림해 가지고 이제 알맞은 단위를 붙여야 되는데 10원짜리 동전 무게 굉장히 가볍잖아요 그러면 약 1kg일까요? g일까요? 당연히 g으로 나타내는 게 적당하겠죠 그리고 파 한 달의 무게는 약 450kg? 450kg이면 엄청난 무게인데요 g이 맞겠죠 고양이의 무게 약 4kg 4g은 너무 가볍습니다 소방차의 무게 와 굉장히 무거울 것 같아요 한눈에 봐도 그렇죠 우리보다 훨씬 크기 때문에 약 20kg? 20kg은 우리 몸무게랑 비슷한데요 그렇죠? 톤이 맞겠다라는 겁니다 그래서 수를 보고 우리 친구들이 적당한 단위를 선택을 할 수도 있어야 됩니다 자 그러면 이미 배운 무게의 더셈 더하고 빼고 식으로 나타내지는 않았지만 1kg보다 300g 더 무거운 무게는 어떻게 표현했어요? 1kg보다 300g 더 무거우니까 바로 1kg 300g kg과 g을 함께 나란히 표현할 수 있었습니다 그렇다면 이미 우리가 배웠던 이 무게를 어떻게 연결할 거냐? 바로 어떤 무게와 어떤 무게를 더하고 빼볼 겁니다 먼저 4kg 300g 하고 1kg을 더하려고 해요 그러면 kg과 g가 함께 있는 더셈 빼셈이니까 이렇게 쓰면 되겠다 300하고 2를 더해서 4kg 301g 이상하죠? 왜냐하면 4kg 1kg kg은 kg끼리 더하고 빼고 g은 g끼리 더하고 빼야 되잖아요 그래서 이런 계산은 맞지 않아요 뺄셈 같은 경우도 7kg 450g에서 1kg 300g을 뺀다라고 했을 때 이때 이렇게 이제 계산을 한 거예요 자 450g에서 30g을 뺐는데 앞으로 자리를 맞춰 가지고 마치 450에서 300을 뺀 것처럼 그럼 150으로 계산하고 7에서 2를 뺀 6 이것도 올바른 계산이 아니죠 g끼리 뺄 때는 앞자리에 맞추는 게 아니라 우리가 450에서 30을 빼야 합니다 그렇기 때문에 같은 단위끼리 자리수에 맞춰서 계산해야 된다 그럼 4kg 300g에서 1kg을 더할 때는 g부분에는 없으니까 안 써도 돼요 그렇죠? kg 자리 맞춰 가지고요 5kg 그리고 300g은 더할 게 없으니까 그대로 내려 써주면 되는 거죠 그래서 5kg 300g 그리고 빼는 것도 마찬가지예요 kg, g 맞춰 쓰는데 자리수에 맞춰야 되니까 450에서 30을 빼는 겁니다 앞에 이렇게 3을 4 아래 쓰는 게 아니라 5 아래 써야 돼요 10의 자리이기 때문에 그리고 450-30을 하면 420 700-1을 하면 6 따라서 오른쪽 계산이 딩동댕 그럼 kg은 kg끼리 g은 g끼리 더하고 뺀다 드리에 더셈과 뺄셈을 했을 때도 ml끼리 더하고 빼고 l끼리 더하고 빼는 방법하고 같다라고 보면 되는 거죠 결국 같은 단위끼리 더하고 빼줍니다 좋아요 그러면 우리 친구들 이제 수혜력 확인하기로 넘어갈 거고 그리고 계산은 우리가 이제 문제에서 선생님하고 함께 계산해 보도록 할게요 드리에 더셈, 뺄셈과 마찬가지로 우리 친구들 무게에서도 받아 올림을 해야 될 때가 있고요 받아 내림을 해야 될 때가 있습니다 자 우리 어머 귀여운 하마가 있는데 kg, g, tm중 알맞은 단위 고르기 하마는 딱 봐도 엄청 무겁죠 그렇죠 큰 동물입니다 그래서 하마의 무게는 약 1000 무거운 동물이니까 무조건 tm이라고 생각하면 안 되는 거예요 왜냐하면 1000이라는 수가 크잖아요 그러니까 1000kg, 1000kg은 1t쯤 되니 kg으로 네모 안에 써줘야 됩니다 그래서 알맞은 단위, 큰 동물은 tm라는 것만 생각하지 말고 앞에 있는 수도 함께 생각해 주세요 어울리는지 자 그러면 우리도 한번 도전 배가 있네요 배의 무게는 약 200kg? 에이 너무 무겁죠 g이 맞겠어요 t는 더구나 제일 아니겠죠 그래서 여기에는 g이 오면 알맞겠습니다 자 그래서 배의 무게는 약 200g입니다 라고 문장을 완성해 봤고요 그 다음에 우리 두 번째 자 노트북의 무게 우리 노트북 약 2kg, g, t 뭐가 가장 알맞겠어요 2g 너무 가볍잖아요 그렇기 때문에 kg이 적당하다 보통 이제 가방에 어깨에 가방에 넣어서 매고 다니는 무게니까 2kg입니다가 가장 적당하겠죠 자 무게 알맞은 물건을 한번 골라볼게요 깃털 얼마나 가벼워요 후 불면 확 날라가는 그 정도의 무게입니다 물컵 우리가 물을 따라서 마시고 한 손으로 가볍게 들고 놓을 수 있는 무게 컴퓨터 컴퓨터는 노트북은 아니라 딱 이렇게 이제 데스크탑이라고 하죠 책상에 올려 놓는 것은 뭐 들 수는 있지만 한 손으로 가볍게는 아니란 말이에요 그 정도의 어느 정도 무게인지 이제 이상했어요 자 볼까요 무엇의 무게가 약 5g 이다라고 했을 때 5g 너무 가벼운 무게입니다 그렇기 때문에 깃털이 가장 알맞고 그 다음에 무엇의 무게는 약 200g 입니다 라는 문장을 보면은 200g 이에요 200g 은 채 1kg이 안되는 거예요 1kg에 1000g 인데 이 1000g 을 딱 이제 다섯등분 했을 때 그 하나만큼의 무게란 말이에요 그러니까 물컵이 가장 적당하겠죠 자 따라서 우리가 물건을 거꾸로 이렇게 네모 안에 넣을 수 있습니다 그럼 우리도 도전 보기에서 무게에 알맞은 물건을 골라 문장을 완성해 보세요 라고 했어요 옷장, 선풍기, 클립 생각해 보세요 옷장 우리 문 열고 옷 넣고 그래야 됩니다 만약에 옷장을 옮기려면 혼자 옮기기는 너무 힘들 거예요 선풍기는 우리 시원한 여름에 이렇게 이제 누르면서 바람이 돌아가니까 선풍기의 위치 한 손으로 이렇게 들어서 옮길 수 있겠죠 너무 가볍진 않겠지만 그래도 한 손으로 들을 수 있는 그런 무게고요 클립 아 요만하잖아요 아주 작은 물건입니다 그죠 자 그러면 무슨 물건의 무게가 약 3kg 입니다 라고 했어요 뭐가 3kg쯤 될까 옷장? 아이고 우리 친구들 우유 1000ml 를 선생님하고 딱 그 정도의 무게 새거 마시지 않은거 그거를 1kg쯤 생각하자라고 했는데 그게 3개가 있다라고 생각해 보세요 아니 옷장이 그만큼의 무게는 아닐 거 아니에요 그것보다 훨씬 무겁겠죠 선풍기가 딱 알맞겠네요 클립은 몇 그램으로 표현할 수 있을 만큼 이제 가벼운 물건이잖아요 그래서 선풍기가 오면 되겠고 그 다음에 무엇의 무게가 약 30kg이다 이게 바로 옷장이 가장 어울리겠죠 그래서 옷장의 무게는 약 30kg이 오면 되겠습니다 좋아요 자 그러면 무게의 더센 이제 해봅니다 더하고 빼는 것은 같은 단위끼리 더하고 뺀다 그램은 그램 끼리 킬로그램은 킬로그램 끼리 근데 여기서 받아올림이 있는 경우 없는 경우 있다라고 그랬죠 자 여기 문제로 볼게요 받아올림이 없는 경우부터 보죠 1kg 200g 에서 2kg 300g 을 더하려고 해요 그러면 그램 끼리 자릿수 맞춰 써줘야 됩니다 200 더하기 300이니까 500 그리고 1 더하기 2니까 3 따라서 3kg 500g 이 되겠고요 만약에 4kg 800g 더하기 3kg 400g 을 계산을 하는데 그램 끼리 더하려고 봤더니 800하고 400을 더하면 1200이에요 4 더하기 3은 7이고요 그럼 7kg 1200g 이렇게 표현하면 삐 안됩니다 왜냐하면 그램 이라는 것은 1000g 이 1kg 이니까 여기에서 1000을 덜어내요 바로 킬로그램으로 보내줘야 돼요 받아올림이 된다라고 볼 수가 있어요 따라서 그램 끼리 계산하는데 1000이거나 1000보다 큰 수가 나온다면 받아올림 해주자 1000을 덜어내요 우리 이렇게 킬로그램으로 1 자연수의 더셈하고 좀 다르죠 우리 친구들 자연수의 더셈에서는 10이거나 10보다 큰 수는 받아올림을 했는데 여기서는 그램이기 때문에 1000이거나 1000보다 큰 수가 나왔을 때 받아올림을 합니다 그러면 1200 이라는 건 우리 친구들 이렇게 생각하면 되는 거잖아요 1200은 1000g 과 200g 의 합인이 1000g 을 1kg 으로 옮긴다 그럼 이렇게 생각해 보세요 1200에서 우리 앞에 있는 1 쓰고 나머지 200을 그림자리에 써주면 됩니다 1200 이렇게요 그리고 받아올림한 1 나는 이거 안 써도 머릿속으로 생각할 수 있어 안 잊어먹을 수 있어 절대 그렇게 생각하면 안 됩니다 그러면 4 더하기 3 을 하기 쉬워요 그래서 꼭 받아올림한 것은 작게라도 꼭 써주는 거 잊지 마세요 선생님과의 약속이에요 그러면 1 더하기 4 더하기 3 을 계산해서 8kg 200g 으로 나타낼 수 있어야 되겠죠 좋아요 우리 드리 할 때도 받아올림 했는데 무게도 똑같구나 자 그럼 우리도 직접 도전 7번입니다 4kg 370g 더하기 5kg 410g 우리 그림끼리 먼저 더해야 되겠죠 370 더하기 410 계산할 거예요 1의 자리부터 0 더하기 0은 0 7 더하기 1은 8 3 더하기 4는 7 음 780g 이니까 받아올리면 안 됐네 그 다음 킬로그램 끼리 4 더하기 5는 9 아하 따라서 9kg 780g 으로 계산이 된다 자 이번에는 2kg 560g 더하기 7kg 450g 이에요 그러면 560 더하기 450 0 더하기 0은 0 6 더하기 5는 11 1 더하기 5 더하기 4는 얼마예요 그래요 10이에요 그러면 1010인데 아 이때는 우리 이렇게 1000g 은 1kg 이니까 받아올림을 해주고 그 다음에 10g 만 써주면 되겠습니다 자 그러면 이번에는 1 더하기 2 더하기 7 계산해야 되겠죠 그래서 10 따라서 10kg 10g 으로 계산할 수가 있겠어요 받아올림 할 때 조심해 주세요 실수하기 쉬울 거예요 자 뺄샘도 마찬가지예요 어느 경우에는 바다 내림이 없고 어느 경우에는 있습니다 자 없는 것부터 예를 들어 4kg 600g 에서 2kg 500g 을 뺄 거예요 그러면 그램 먼저 계산해야 되겠죠 600 100이 500 100g 400이 2는 2 그래서 2kg 100g 으로 계산이 되겠고 자 이번에는 5kg 200g 에서 1kg 900g 을 뺄 거야 아니 그런데 200에서 900을 뺄 수가 없네 그럼 어때요 1kg 만 주세요 킬로그램한테 가갖고 야 1kg 만 줘 그러면 5kg 은 그래 얘 딱 1kg 주죠 그러니까 4kg이 되죠 1 작아지니까 근데 1kg 을 줄 때 받을 때도 1로 받는 게 아니라 1000g 으로 받아야 되는 거죠 그래서 1200에서 900을 뺀 300g 그리고 이것도 아 나는 뭐 이거 안 써도 알아 그럼 절대 안 됩니다 그거는 진짜 나중에 습관이 되면 고치기 힘들기 때문에 바로 정확하게 계산하려면 반드시 어 이제 너 받아 내림 했으니까 더 이상 너는 5가 아니야 이렇게 막대 그어주고요 그리고 하나 줬으니까 너는 4야 반드시 이렇게 써주세요 표시를 꼭 해줘야 됩니다 그러면 400이 2를 할 수가 있잖아요 근데 내가 마음속으로만 생각해야지라고 하면은 그냥 500이 2를 하기 쉬워요 그래서 400이 2를 해서 300g 이렇게 계산할 수 있습니다 받아 올림 받아 내림에서 실수하지 않도록 그리고 하나 더 만약에 그냥 5kg 에서요 1kg 900g 어머 선생님 900g 은 어디서 빼나요 그냥 내려주면 되겠죠 왜냐하면 만약에 더 쌤을 계산한다고 했을 때는 5kg 더하기 1kg 900g 이라고 생각을 해보세요 그러면 그램 끼리 계산할 때 900g 더할 게 없었으니까 그대로 내려가지고 900g이 되는 거거든요 그러면 5 더하기 1은 6이니까 6kg 900g 이듯이 아 더 쌤에서 그냥 내려줬었지 그래 내려주자 라고 하면 땡땡땡 땡입니다 왜요 위에 아무것도 없다면 당연히 어때요 받아 내림 해줘야죠 그래서 1000g 에서 바로 900g 빼서 100g 이라고 돼야 되는 거예요 뺄 쌤에서 그냥 내려주는 경우는 이런 경우죠 만약 5kg 300g 에서 2kg 을 뺀다라고 해보세요 그러면 얘는 300g 에서 아무것도 뺄 게 없으니까 이때는 내려와야 되는데 우리가 이제 빼는 무게가 있을 때는 받아 내림을 해서 빼줘야 된다 라는 차이점도 꼭 친구들 구분해 주세요 자 그러면 우리도 직접 계산 11번 입니다 네모 안에 알맞은 수를 써놓으세요 라고 했어요 6kg 860g 에서 1kg 510g 을 빼보자 자 그림끼리 860-510이니까 0-0은 0 600-1은 5 800-5는 3 그리고 6에서 1을 빼면 5 5kg 350g 으로 계산이 됐구요 그 다음 7kg 370g 에서 5kg 630g 을 뺄 거예요 아니 그런데 370이 더 작아 뺄 수가 없어 자 도와줘 나 1kg만 줘 그래 줄게 그럼 난 6이 되겠지 그리고 받을 때는 1000으로 받습니다 그렇다면 우리가 1370-2 630을 계산하면 되는 거잖아요 그래서 0 700-3은 4 13에서 6을 빼니까 7 그래서 740g 받아 내림 했으니 절대 절대 중요 7에서 5 빼면 안돼요 6에서 5 빼서 1 1kg 740g 으로 계산이 됩니다 좋아요 자 그러면 우리 수혜력을 높여 3번 문제 이제 확인까지 해봤으니까요 좀 더 다양한 문제 만나볼게요 이낙원 연수는 무게가 1kg 200g인 배추를 다음과 같이 어림했습니다 실제 무게에 더 가깝게 어림한 친구의 이름을 써보세요 라고 했어요 자 가깝게 어림했다 라는 것은 우리 친구들이 뺄셈 차를 계산해서 차가 더 작은 쪽을 선택해주면 되겠죠 이나 배추의 무게는 약 1kg 50g 이요 라고 했네요 그럼 얼만큼 차이가 나는지 볼까 우리 이나는 실제 무게보다 더 가볍다고 생각을 했어요 실제 무게는 1kg 200g 인데요 이나는 약 1kg 50g 쯤으로 생각을 했으니까 빼준다면 자 이번에는 현수 갈까요 현수는 약 1kg 400g 으로 실제 무게보다 더 무겁다고 생각을 했어요 그래서 1kg 400g 에서 1kg 200g 을 빼볼게요 그럼 400에서 200 빼면 200g 어때요 200g 더 무겁게 어림을 한거고 실제 무게보다 이나는 실제 무게보다 150g 더 가볍게 어림을 했어요 그러면 누가 더 가깝게 어림했는지는 바로 어때요 150과 200을 비교했을 때 더 작은 쪽 그래서 아 누가 이나가 더 가깝게 어림을 했다 라고 비교할 수가 있겠습니다 이런 뺄셈을 통해서 우리 친구들 더 가깝게 어림한 친구를 찾을 수가 있어요 자 그러면 6번 가죠 수직선을 보고 네모 안에 알맞은 수를 써놓으세요 라고 했습니다 우리 수직선 여기가 0 이라면 자 이만큼의 무게 여기까지가 1kg 800g 이고 여기서부터 또 1kg 900g 까지 그러면 0 에서부터 여기까지는 몇 kg 몇 g 이냐 라는 거예요 그럼 당연히 이 두 무게를 더 해줘야 되겠죠 왜냐하면 여기서 이만큼 더 갔어요 그러니 더 쌤의 의미로 생각하면 됩니다 자 따라서 1kg씩 써볼게요 800g 더하기 같은 단위끼리 자리수를 맞춰서 써줍니다 그 다음 800 더하기 900은 1700 아 그러니 받아 올림이 되겠구나 그래서 1700 이렇게 쓰면 되겠죠 그리고 1 더하기 1 더하기 1 이니까 3kg 따라서 3kg 700g 으로 나타낼 수 있겠습니다 수직선에서 무게도 계산해 봤어요 자 8번 문제는 우리 친구들 선생님이 이제 문제를 보고 다 풀지 않고 고르는 기준은 풀어주지 않는 문제는 수혜력 확인하기랑 완전히 똑같거나 아주 아주 유사한 문제들은 우리 승부들이 수혜력 확인하기 통해서 충분히 스스로 풀 수 있을 거라고 생각하고 유형이 조금 다른 것만 지금 선생님이 골라온 겁니다 자 8번 같은 경우도 두 무게를 빼라가 아니라 뺀 결과가 주어졌고요 우리가 중간중간 이렇게 이제 구멍이 나 있어요 그럼 기억하고 니은에 알맞은 수를 각각 구해볼게요 우리 같은 단위끼리 빼니까 기억에서 360을 빼서 340이 됐다라는 뜻이에요 그러면 우리 친구들 뺄셈에서는 거꾸로 더해보면 되는 거죠 그래서 기억을 알기 위해서는 340에서 거꾸로 360을 더해주면 되겠습니다 따라서 340 더하기 360 계산하면 700이 됩니다 자 우리 단위 빼고 생각한 거예요 아 그래서 이제 기억에는 700 생각해보세요 생각해보세요 확인 700에서 360 빼면 340 나오는 거 맞죠? 좋아요 그러면 이제 받아내림이 있었느냐 받아내림이 없었다 그럼 6에서 니은을 빼서 2가 됐다라는 얘기구나 6에서 니은을 빼서 2가 됐으니까 얼마를 빼야 2가 되나요? 4를 빼야 2가 되죠 따라서 니은은 4 즉 기억에는 700 그리고 니은은 4가 오면 되겠습니다 거꾸로 계산 과정에 있는 수도 알아맞출 수 있겠죠 좋아요 우리 10번 갈게요 우진이는 마트에서 감자와 양파를 사서 무게를 재워보았더니 다음과 같았대요 감자 5개의 무게가 900g일 때 양파 1개의 무게는 몇 그램인가요? 라고 했어요 지금 저울 위에 올려놓은 걸 보니 감자 몇 개 감자 하나 둘 셋 넷 다섯 다섯 개와 그 다음에 양파는 몇 개를 올려놨냐면 두 개를 올려놨어요 그래서 합해서 무게를 보니 저울이 가리키는 눈꿈 1300g이네요 아 그렇다면 전체 무게가 1300g인데 그 중에 감자 5개의 무게가 900g이다 그렇다면 1300g에서 900g을 빼면 양파 두 개의 무게를 알 수가 있겠네요 좋았어 그래서 먼저 첫 번째 바로 양파 두 개의 무게를 구해보자 전체 무게 1300g에서 감자 5개의 무게 900g을 빼면 되겠다 1300g에서 900g을 빼면 400g이 되겠구나 좋아요 우리 양파 두 개의 무게를 구했으니까 이제 양파 한 개의 무게를 구해볼게요 우리 친구들 400g 400을 1로 나누면 되니까 200이 되겠죠 그래서 양파 하나의 무게는 200g이 되겠습니다 따라서 정답 200g이 답이 되겠어요 좋아요 자 이제 실생활 활용문제 보죠 소영이는 가족과 함께 비행기를 타고 제주도에 여행을 갑니다 소영이의 가방 무게는 6kg 420g이고 비행기 안으로 8kg까지 들고 갈 수 있습니다 다음 중 소영이가 가방에서 넣을 수 있는 가장 무거운 물건을 찾아 기호를 써보세요 라고 했어요 우리 친구들 기내에 이렇게 짐을 붙이는 것도 그렇고 기내 안으로 들어가는 것도 그렇고 비행기에다가 짐을 붙일 때 그때 무게 제한이 있죠 그래서 공항에 가면 이렇게 저울이 있습니다 그래서 선생님도 선물을 잔뜩 사왔다가 무게가 너무 무거워서 다 뺐던 그런 경험이 있는데요 지금 8kg까지인데 가방의 무게가 이만큼이니까 조금 여유가 있거든요 얼마나 여유가 있는지는 뺄셈으로 계산해 보면 되겠어요 따라서 8kg에서 6kg 420g을 빼줍니다 자 420 그냥 내리면 된다 안된다 안된다 받아 내림하여 1000에서 420을 빼주면요 0 그 다음에 받아 내림에서 10에서 2 빼니까 8 9에서 4 빼니까 얼마 5 580g 7 빼기 6을 하면 1 1kg 580g 여유가 있는 거잖아요 그죠 이거는 그램으로 나타내면 1000g 보다 580g 더 무거우니 1580g 이라고도 볼 수가 있어요 그럼 보음병 어디 볼까 보음병 넣을 수 있어요 없어요 있습니다 580g 이니까 이만큼보다 더 가벼운 무게죠 드라이기 1320g 1580g 보다 더 가벼우니까 당연히 넣을 수 있어요 노트북은 1kg 980g 무거워요 안돼요 안돼요 8kg 보다 넘어 버려요 게임기도 1740g 인데 1580보다 더 무겁죠 그러니까 안돼요 그럼 보음병하고 드라이기를 넣을 수 있는데 두 개를 다 넣을 수 있는 거는 또 아닐 거 같아요 그죠 자 그러면 다음 중 소영이가 가방에 더 넣을 수 있는 가장 무거운 물건은 보음병 또는 드라이기 둘 중에 하나를 넣을 수 있는데 그 중에 더 무거운 걸 찾으라고 했으니까 드라이기가 더 무겁다 정답은 니은이 되겠습니다 자 좋아요 우리 비행기 갈 때도 이렇게 무게 제한이 있다라는 것도 한번 생각해 보세요 교과용한 문제 보죠 우리나라 말 중에 천근 만근이라는 말이 있습니다 우리 친구들 들어봤나요 자 이는 무게의 단위인 근을 사용하여 무게가 천근이나 만근이 될 정도로 아주 무겁다는 것을 뜻하는데요 현재의 기준에 맞추어 고기 1근을 600g 으로 계산한다면 고기 2근은 몇 kg 몇 g 인가요 라고 했어요 자 고기 1근만 시장에 가서 뭐 슈퍼에 가서 사와 선생님 어렸을 때는 그런 심부름 많이 했거든요 한근만 사와 이렇게 그러면 딱 정육점에 가서 한근 주세요 그러면 알아서 이제 600g 을 이렇게 포장해 주셨는데 한근이 600g 이라면 두근은 어떨까 600g 600g 이제 600g 을 두 번 더 하면 되는 거죠 그러면 1200g 이 됩니다 이게 답이 아니라 몇 kg 몇 g 이야 라고 물어봤으니까 단위 바꿔서 나타내 줘야 되겠죠 1kg 1000g 하고 200g 그래서 1kg 200g 이 됩니다 따라서 정답은 1kg 200g 이 이제 답이 되겠어요 좋아요 이렇게 교과용한 문제까지 맞췄으니까 우리 이제 수혜력 완성해요 완성도깨비와 함께 마무리 문제 해볼게요 자 엘리베이터 탐승 인원수 구하기 우리 친구들 엘리베이터 탈 때 너무 무거우면 삐 소리가 나서 마지막 탄 사람이 이렇게 이제 무한하게 좀 내렸던 그런 광경을 본 적 있나요 자 엘리베이터에 탐승한 사람들의 몸무게 합이 464kg 500g 이었습니다 이때 몸무게가 담과 같은 4사람이 엘리베이터에 더 타려고 합니다 가장 많이 타려면 몇 명까지 더 탈 수 있는지 구해보세요 라고 했어요 우리 내 친구의 몸무게가 위에 나와 있죠 그러면 얼마큼 더 탈 수 있는지 1단계로는 500kg 까지 탈 수 있는 엘리베이터에 지금 현재 464kg 500g 만큼 타고 있으니까 더 탈 수 있는 몸무게를 구해봐야 됩니다 바로 빼주면 되겠죠 그래서 500kg 에서 464kg 500g 을 빼주면 자 일단은 1kg 받아내림 합니다 1000g 받아서 빼주면요 500g 되겠구요 499kg 에서 464kg 빼주면 자 그래서 35kg 500g 이 된다 라는 걸 알 수 있어요 자 그러면 우리 친구들 지금 보세요 따라서 4사람 중에 엘리베이터에 더 탈 수 있는 사람은 바로 몸무게가 이만큼 이거나 이보다 더 가벼워야 되겠죠 그러니까 36kg 경수 안되고 밀인이 가능하고요 수정이 안되요 상연이도 안됩니다 자 그렇기 때문에 누구밖에 안되요 그렇죠 밀인이 그래서 한 명이다 라는 걸 알 수가 있겠습니다 이번엔 600kg 까지 탈 수 있는 엘리베이터가 있는데 현재 합이 560kg 500g 이래요 그러면 몸무게 다음과 같은 4사람이 있고 똑같이 가장 많이 타려면 몇 명까지 더 탈 수 있는지 한번 알아볼게요 그럼 일단은 얼마나 여유가 있는지 빼봐야 되니까 600kg 빼기 500kg 500g 560이죠 자 그러면 599 1000 받구요 그래서 500g 그 다음에 900이 0은 9 900이 6은 3 아 지금 39kg 500g 까지 탈 수 있습니다 그러면 지금 승준이 못 타구요 유주 탈 수 있구요 하연이 못 타구요 시원이 못 타네요 그럼 이 무게보다 이제 덜 나가는 친구는 유주밖에 없기 때문에 한 명 유주 한 명만 더 탈 수 있다 라는 걸 알 수 있겠죠 좋아요 자 이번엔 조금씩 이제 조건이 바뀌니까 어떻게 조건이 바뀌는지도 알아봐요 그 500kg 까지 탈 수 있는 엘리베이터가 있는데 현재 탑승한 사람의 몸무게 합이 이번에는 410kg 이때 몸무게가 다음과 같은 4사람이 있고 가장 많이 타려면 몇 명까지 더 탈 수 있는지 구해보세요 라고 했어요 그럼 이번에도 얼마나 여유가 있는지 빼봐야 되겠죠 500kg 빼기 410kg 그러면 500-410이니까 90kg 아 90kg의 여유가 있습니다 그럼 만약에 태훈이가 탄다 라고 하면 51kg 이니까 가장 가벼운 지금 무게 순으로 나왔거든요 42kg 하고 더해도 90kg이 넘어 버려요 그래서 태훈이는 누구랑 타도 같이 못하고 혼자 타야 돼요 그쵸 근데 이제 가장 많이 타려면 이라고 했으니까 우리가 이제 두 사람이 탈 수 있는 경우를 따져보면은 연서 다인이 안되구요 연서 진우 안되고 그것도 안되네요 아 그러면 다인이 하고 진우 더하면은 얘는 87kg 이에요 합해도 그러면 두 사람이 탔을 때 이렇게 태훈이만 타거나 연서만 타거나 다인이 진우 타거나 많이 타는 경우는 이 두 사람이 타는 경우죠 그래서 아 두 명까지도 더 탈 수 있다 이렇게 나타낼 수가 있습니다 누가 탈 수 있어 라고 물어본다면 다인이하고 진우 두 사람이에요 라는 것도 우리 친구들의 이름으로 잡힐 수도 있겠어요 자 이번에도 조금 조건 바뀌었어요 이번에는 400kg 까지 탈 수 있고 현재 몸무게 합이 320kg 500g 이고 자 네 사람 이렇게 이제 그램까지 단위가 나왔습니다 마찬가지 가장 많이 타려면 몇 명까지 더 탈 수 있는지 볼게요 일단은 400kg 에서 320kg 500g 을 빼보면 받아내림 399kg 1000kg 1000kg 빼기 500kg 은 500kg 399kg 에서 320kg 빼는 거니까 9kg 그 다음에 902kg는 7kg 이만큼 여유 있습니다 79kg 500g 여유가 있어요 그럼 수호 수호랑 누구랑 같이 탈 수 있을까 이렇게 재원이랑 탈 수 있을까 자 우리 친구들 더 해볼까요 그러면은 70kg 그 다음에 4kg 에다가 400kg 하고 300kg 더 하니까 700g 이니까 아 수호하고 이렇게 재원이 탈 수 있네요 그러면 두 사람은 일단 탈 수 있을 것 같고 세 사람까지는 가능할까 지금 어떤 세 사람의 몸무게를 더해서 79kg 500g 이 딱 나오거나 그보다 적게 나오는 경우는 지금 없겠습니다 가장 적게 나가는 친구가 33kg 400g 이고요 나머지 이제 점점점 몸무게가 이제 많아지죠 그러면 이렇게 둘은 가능한데 이렇게 둘만 해도 어때요 36kg 41kg 이렇게 더해 볼게요 이렇게 더해 보면은 70 얼마가 되나 7kg 그 다음에 600g 이니까 이렇게 두 사람 탈 수 있겠어요 그렇죠 이렇게 두 사람은 어떨까 이렇게 되면은 38에서 41을 더하면 9하고 7 그 다음에 300이니까 이렇게 두 사람도 가능하겠구나 그럼 어쨌든 세 사람까지는 안되고 딱 두 명까지는 더 탈 수 있다 라는 걸 알 수가 있습니다 자 그 다음에 이번에는 무게가 어떻게 바뀌었느냐 400kg 까지 탈 수 있는 엘리베이터 현재 300kg 그러면은 딱 몇 kg의 여유가 있는 거죠 100kg의 여유가 있습니다 이때 몸무게가 다음과 같은 친구들 네 사람이 있고 마찬가지 가장 많이 타려면 일단은 뭐 각각 한 사람씩은 당연히 탈 수 있고 두 사람씩도 가장 많이 나가는 두 친구를 더해도 이렇게 이제 100kg이 안되니까 두 사람은 탈 수 있겠네요 그럼 세 사람 탈 수 있는지 볼게요 가장 적게 나가는 한결이 두 번째 예빈이 윤지 자 먼저 이렇게 더해 보면은 71kg 700g 입니다 그 다음에 윤지까지 더하면 71에서 37을 더하니까 아이고 100kg이 넘어버리죠 그래서 세 명까지 안된다 결국 두 명까지 더 탈 수 있다 라는 걸 알 수가 있어요 그리고 그 두 명은 네 명 중에 어떤 두 친구라도 다 괜찮다 라는 거죠 자 그럼 이렇게 이제 엘리베이터의 여유 무게를 구해서 누가 탈 수 있는가를 알아봤습니다 이번에는 트럭에 더 실을 수 있는 상자의 개수를 한번 구해 볼게요 1톤까지 실을 수 있는 트럭이 있어요 트럭에 무게가 60kg인 상자 5개를 싣고 있다면 무게가 100kg인 상자를 몇 개 더 실을 수 있는지 이것도 엘리베이터하고 똑같이 우리가 얼마의 무게가 여유가 더 있는가 그걸 알아보면 되겠죠 그게 바로 핵심이겠죠 좋아요 첫째 무게가 60kg인 상자 5개가 있으니까 트럭에 실린 상자의 무게는 일단 60 곱하기 5에서 300kg이 실렸구나 1톤까지 실을 수 있고 1톤은 1000kg이고 그럼 1000에서 이미 실린 300을 빼면 700이 되니까 아 700kg의 여유가 있네 근데 하나의 100kg짜리 상자니까 바로 7개를 더 실을 수 있다 이렇게 이야기가 펼쳐지겠죠 그래서 답은 7개가 됩니다 자 우리 비슷한 위험 똑같이 1톤까지 실을 수 있고요 무게가 50kg인 상자 4개 실었어요 그럼 50 곱하기 4를 하면 아 현재 200kg이 실렸어요 그러면 1톤은 1000kg인데 여기서 200을 빼면 나는 800kg의 여유가 있는 거죠 근데 100kg짜리 상자 몇 개까지 실을 수 있는 거예요 그렇죠 8개 그래서 답은 8개가 이렇게 나옵니다 어렵지 않죠 우리 친구들 여유가 되는 무게만 구하면 돼요 자 이번에는 2톤입니다 2톤이라는 것은 2000kg까지 실을 수 있다는 거예요 근데 이 트럭에 무게가 200kg인 상자 9개 실었대요 자 그럼 이미 실려있는 무게를 구해보면 1800kg이 되는 거죠 그렇죠 그러면 무게가 100g인 상자 몇 개 더 실을 수 있냐 2000kg까지 실을 수 있고 이미 1800kg이 실려있으니 나는 200kg의 무게의 여유가 있어 그럼 100kg짜리 2개를 실을 수 있어 이렇게 계산하면 되겠습니다 자 같은 유형이에요 계속 반복되죠 조금씩 수만 바뀌어요 1kg, 500g까지 실을 수 있는 트럭에 지금 무게가 300kg인 상자 3개니까 900kg이 실려있는 거예요 그럼 얘는 1500kg이잖아요 여기에서 900을 빼면 600kg의 여유가 남았죠 그럼 100kg짜리는 6개 실을 수 있다 이렇게 계산하면 되겠죠 어렵지 않습니다 왜냐하면 하나의 무게가 100kg이 아니라 조금 어려웠다면 나누셈하고 복잡한데 이거는 딱 100kg짜리니까 몇백kg의 여유가 있냐 이것만 알아보면 돼요 자 이번에는 1톤 550kg 그러니까 1550kg까지 실을 수 있는 트럭이 있고요 여기에 250kg인 상자 3개를 실었으니까 250 곱하기 3을 하면 750kg 그러면 1550에서 750을 빼면 800이죠 아 그렇기 때문에 100kg짜리 8개를 실을 수 있다가 답이 되겠네요 좋아요 오늘의 미션 클리어 했나요 무게의 더쌤과 뺄쌤은 같은 단위 킬로그램은 킬로그램 끼리 그램은 그램 끼리 더하거나 빼고 바다 올림이나 바다 내림할 때 우리 친구들 주의해 줘야 되겠습니다 드리하고 무게 더쌤 뺄쌤 하는 방법 포인트는 같은 단위끼리 더하고 빼자는 거 잊지 말고요 이렇게 해서 우리 친구들 3단계가 모두 끝났어요 열두강 진짜 손살같이 시간이 지나버렸네요 우리 친구들 어떻게 선생님과 함께 3단계로 우리 수혜력이 조금 높아졌나요 여기서 끝이 아니라 4단계 강의도 이어지고 있으니까요 꼭 우리 친구들 이어서 4단계로 출발하길 바라겠습니다 선생님에게 궁금한 점 모르는 점은 게시판에 와서 얼마든지 우리 또 남은 이야기 해봐요 너무 그동안 고생 많았어요 여러분들 안녕\n",
      "12강들이와무게(4)_초등수해력-도형·측정3단계.mp3에 대한 텍스트가 ./ebs_script/new/12강들이와무게(4)_초등수해력-도형·측정3단계.txt로 저장되었습니다.\n",
      "모든 음성 파일에 대한 텍스트 파일 저장이 완료되었습니다.\n"
     ]
    }
   ],
   "source": [
    "import openai\n",
    "import os\n",
    "\n",
    "openai.api_key = \"\"  # 여기에 OpenAI API 키를 입력하세요\n",
    "\n",
    "# 오디오 파일들이 있는 디렉토리\n",
    "audio_dir = \"./ebs_audio/new/\"\n",
    "output_dir = \"./ebs_script/new/\"  # 텍스트 파일을 저장할 디렉토리\n",
    "\n",
    "# 텍스트 파일 저장할 폴더가 없으면 생성\n",
    "os.makedirs(output_dir, exist_ok=True)\n",
    "\n",
    "# Step 1: mp3 파일을 모두 찾음\n",
    "mp3_files = [f for f in os.listdir(audio_dir) if f.endswith(\".mp3\")]\n",
    "\n",
    "# Step 2: mp3 파일을 하나씩 처리하여 개별 텍스트 파일로 저장\n",
    "for mp3_file in mp3_files:\n",
    "    file_path = os.path.join(audio_dir, mp3_file)\n",
    "\n",
    "    if os.path.exists(file_path):\n",
    "        with open(file_path, \"rb\") as audio_file:\n",
    "            # Whisper 모델로 오디오 파일을 텍스트로 변환\n",
    "            transcription = openai.Audio.transcribe(model=\"whisper-1\", file=audio_file)\n",
    "\n",
    "            # 변환된 텍스트 출력\n",
    "            print(f\"Transcription for {mp3_file}:\")\n",
    "            print(transcription[\"text\"])\n",
    "\n",
    "            # Step 3: 변환된 텍스트를 해당 mp3 파일 이름을 기반으로 저장\n",
    "            output_file_path = os.path.join(output_dir, f\"{os.path.splitext(mp3_file)[0]}.txt\")\n",
    "            with open(output_file_path, \"w\", encoding=\"utf-8\") as f:\n",
    "                f.write(transcription[\"text\"])\n",
    "\n",
    "            print(f\"{mp3_file}에 대한 텍스트가 {output_file_path}로 저장되었습니다.\")\n",
    "\n",
    "print(\"모든 음성 파일에 대한 텍스트 파일 저장이 완료되었습니다.\")\n"
   ]
  },
  {
   "cell_type": "code",
   "execution_count": 107,
   "metadata": {},
   "outputs": [
    {
     "name": "stdout",
     "output_type": "stream",
     "text": [
      "['미지수', '함수', '덧셈', '뺄셈', '나눗셈', '곱셈']\n"
     ]
    }
   ],
   "source": [
    "import openai\n",
    "\n",
    "# OpenAI API 키 설정\n",
    "openai.api_key = \"\"\n",
    "category = [\n",
    "    \"수\",\n",
    "    \"덧셈\",\n",
    "    \"뺄셈\",\n",
    "    \"곱셈\",\n",
    "    \"나눗셈\",\n",
    "    \"분수\",\n",
    "    \"소수\",\n",
    "    \"소수점\",\n",
    "    \"길이\",\n",
    "    \"시간\",\n",
    "    \"화폐\",\n",
    "    \"측정\",\n",
    "    \"각도\",\n",
    "    \"평면도형\",\n",
    "    \"입체도형\",\n",
    "    \"도형\",\n",
    "    \"대칭\",\n",
    "    \"원\",\n",
    "    \"직각\",\n",
    "    \"비율\",\n",
    "    \"비례식\",\n",
    "    \"비\",\n",
    "    \"그래프\",\n",
    "    \"통계\",\n",
    "    \"확률\",\n",
    "    \"약수\",\n",
    "    \"배수\",\n",
    "    \"함수\",\n",
    "    \"미지수\",\n",
    "    \"규칙\",\n",
    "]\n",
    "\n",
    "\n",
    "# 번역 및 요약할 긴 영어 텍스트\n",
    "text_to_summarize = (\n",
    "    f\"\"\n",
    "    \"7종류의 퀴즈 힌트를 찾아가보시죠 可以 하apter 요 sign 여 여 여 여 만남 힌트 힌트 벼리 힌트 퀴즈 PASS 풀로 거 쓰 김연경 선생님입니다 자 우리 친구들 오늘 배울 단어는요 그 유명한 6학년 2학기의 방정식 단어입니다 왜 그리 유명하느냐 하면요 우리 교과서가 바뀌면서요 중학교에 있던 부분이 6학년으로 내려왔어요 그래서 내용이 어렵냐고요 그건 아닙니다 여태까지 우리가 배웠던 내용인데요 그거를 단언으로 만든 거예요 그런데 그게 6학년에 있던 것이 중학교에서 있던 것이 6학년으로 내려온 것 뿐입니다 자 그러니까 긴장은 하지 마시고요 재미있는 단언이고 유명한 단언이다라는 것만 알아주시고 오늘 배울 내용부터 무엇인지 살펴보도록 할게요 네 첫 번째 개념은 등식인데요 우리가 등식을 배우기 전에요 먼저 기본적으로 알아둬야 할 것이 있습니다 그것이 무엇이냐 하면 바로 미지수를 X로 나타내는 거예요 자 여러분 우리가 여태까지요 항상 미지수를 어떻게 표현했나요 그렇죠 바로 네모라고 이렇게 표현을 했어요 그런데 지금 바뀐 것이 있습니다 바로 이 네모가요 다른 기호로 바뀌었어요 모양만 조금 바뀌었습니다 무엇으로? X로 바뀐 거예요 이것도 마찬가지로요 교과서가 바뀌기 전에는 중학교에서만 X라는 문자를 사용했습니다 그런데 교과서가 새로 짠 나오면서요 중학교에 있던 문자가 6학년으로 넘어왔는데 내려왔는데 하지만 내용이 어려운 것이 아니라요 네모가 그냥 X로 표현이 된다라고 여러분 알고 계시면 됩니다 자 미지수를 X로 나타내기인데요 수직선을 보고 식을 고르라고 했어요 식을 자 그런데 여러분 그림에서 보일지 모르겠지만 화살표에 방향이 있습니다 자 이렇게 방향이 되어 있는데 지금 화살표가 작아서 안 보일 수 있겠어요 그리고 화살표가 이렇게 방향이 있어요 이 말은 무엇이냐 먼저 25만큼을 가고요 그 다음에 X만큼을 더 갔더니 그랬더니 무엇이 되었느냐 67이 되었다는 겁니다 그럼 이거 어떻게 식으로 표현할 수 있어요 먼저 25만큼이 있었고요 거기에 X만큼을 더 갔더니 그것이 67이 되었다 이렇게 표현하면 되는 거죠 자 1번부터 5번 중에 어디에 있나 한번 보세요 자 여기에 있군요 그러므로 정답은 2번이 되겠습니다 자 지금 한 것은요 우리가 등식을 배우기 위한 기초 과정이라고 할 수가 있습니다 자 등식은 무엇이냐 두 번째로 나와요 자 X를 이용해서 뭔가 하는 것 같긴 한데 간단히 더 쉽게 얘기하자면요 이것만 들어가면 돼요 무엇이냐면 바로 우리가 는 이라고 하는 거예요 등호라고 합니다 무엇은 뭐 2 더하기 3은 5 할 때 은 는 이라고 하는 거 이 간단한 부호요 등호예요 등호 등호를 써서 나타낸 식을 우리가 무엇이라고 하느냐 등식이라고 합니다 등호가 들어간 식이라고 생각하면 조금 쉬울지 모르겠어요 자 등식을 모두 찾아서 기호를 쓰시오 자 일단 식은 식인데요 이것이 들어가야 돼요 등호가 들어가야 돼요 등호가 들어가 있는 거 한번 찾아보겠습니다 어 여기는 등호가 없어요 등호가 있군요 자 등호가 있군요 등호가 없어요 그러므로 정답이 될 수 있는 후보자는 니은과 기긋이 되는데요 모두 다 정답인지 확인해 볼게요 등호를 써서 나타낸 식이라고 했어요 자 식 맞지요 등호를 써서 나타낸 식 맞습니다 그러니까 니은은 정답이 되고요 자 식이 맞아요 그런데 등호를 써서 나타낸 식 맞습니다 그러니까 니은과 기긋 이렇게 니은과 기긋을 정답을 적어 주시면 되겠네요 자 이렇게 해서요 여러분 등식이 무엇이냐라는 것을 알아보았습니다 그러면 이제 연습문제를 풀면서 개념을 조금 더 튼튼하게 쌓아볼게요 자 어떤 문제가 나오느냐 아 X를 사용해서 식을 만드는 거 그 연습문제부터 하네요 등식을 알기 위해서 우리가 기초과정으로 하는 거라고 했습니다 X를 사용해서 식으로 쓰시오 1번 문제 장미꽃이 56송이가 있어요 그런데 그것을 꽃병 몇 개에 똑같이 나누어서 꽂았대요 아 나누쌤이 들어가네요 그랬더니 꽃병 한 개에 네 송이씩 꽂혔습니다 라고 했어요 자 여기서 여러분 우리가 모르는 미지수를 X라고 표현을 하면 돼요 여태까지는 항상 네모를 이용했는데요 자 여기 앞으로는 X 이렇게 씁니다 X를 이용한 식으로 표현을 하는데 지금 미지수 우리가 모르는 수는 무엇인가요 몇 개인지 모르는 겁니다 꽃병의 개수를 우리가 X라고 표현해요 그럼 이제 식으로 할 수 있겠죠 56송이가 있었는데요 꽃병 몇 개에 똑같이 나누었는지 몰라요 꽃병이 몇 개인지 모릅니다 하지만 이렇게 나누었더니 자 그 결과 꽃병 한 개에 네 송이씩 꽂혔습니다 자 위에 있는 문장을 그대로 식으로 표현했어요 X를 사용한 식 우리가 모르는 것을 X 미지수로 주고 이렇게 표현한 식 맞게 했습니다 자 2번 문제도 있어요 그 다음도 한번 연습해봐요 색종이가 몇 장이 있었대요 우리가 모르는 거 무엇으로 해요 미지수로 둡니다 미지수 X라고 해서 X장이라고 생각을 할게요 자 처음에 몇 장이 있었는데 17장을 썼대요 그랬더니 32장이 됐다고 합니다 이만큼이 남았다고 합니다 그럼 한번 식을 써볼까요 처음에 몇 장 있는지 모릅니다 그런데 17장을 썼어요 여기서 빼기 쉽지를 해야겠네요 그랬더니 32장이 남았다 이렇게 했더니 32가 되었다는 거죠 X 미지수 X로 두고요 X를 이용한 식 이렇게 적으시면 정답이 되는 겁니다 자 우리가요 등식을 알아보기 위해서 X라는 문자 미지수를 X라는 문자를 이용해서 나타낸 식 연습을 해봤고요 이제 등식도 한번 연습을 해보도록 하죠 자 아래 문장을 등식으로 나타내시오 이게 아주 기본적인 문제 가장 많이 나오는 문제의 유형입니다 자 어떤 수 X의 4배보다 자 4배라고 했으니까 X에다 어떻게 해줄까요 곱하기 4라고 하면 되겠죠 그것보다 8이 작은 수는 자 이것보다 8이 작대요 작다고 했으니까 곱하기 2가 됩니다. 그러면 4분의 3이 6이 됩니다. 벌써 어때요? 1이 되려면 4분의 4가 돼야 되죠. 정답이 아니라는 거 확인할 수 있어요. x는 3이 아닙니다. 아 그렇군요. x의 미지수에 2를 넣었을 때 참이 되는군요. 그러므로 방정식을 풀면 x는 2가 된다라는 걸 알 수 있죠. 이 아래는 왠지 3이 될 것 같긴 한데 직접 넣어 보셔야 됩니다. x 대신에 여기다가 3을 한번 넣어 볼게요. 4에서 3을 빼면 얼마가 나와요? 1이 나옵니다. 1에다가 3을 곱해 볼게요. 그랬더니 3이 나오나요? 1 곱하기 3은 3. 맞네요. 그러니까 정답이 되는 거죠. 그런데 혹시 모르니까 2도 한번 넣어 볼까요? 선생님 이게 정답이 돼서 이렇게 될 수도 있잖아요. 그럼 2를 한번 넣어 보죠. 2를 여기다 넣으면 이것이 뭐가 돼요? 바로 2가 되죠. 이게 2가 되죠. 2 곱하기 3을 하면 얼마 돼요? 2 3은 6인데 여기 3이라고 됐으니까 거짓이죠. 아 정답은 이렇게 되는구나 라는 것을 알 수 있습니다. 자 여러분 이렇게 해서요 방정식을 푸는 거 알아봤어요. 그런데 질문이 있는 친구 당연히 있습니다. 선생님 이거를요 그대로 한번 넣어 보지 말고요. 이거 없이요. 이거를 풀 수도 있어요 하는 친구들. 풀 수 있습니다. 방정식을 푸는 방법을 이용하는 건데요. 그건 다음 개념에서 나오고요. 일단 지금 배운 거 정리한 다음에 그 다음에 배울게요. 방금 배운 거 정리해 봐요. 네 드디어 방정식 단원의 하이라이트가 되겠습니다. 자 여러분 미지수요. x 말고 항상 무엇으로 계산했나요? 네모로 계산했죠. 그 네모를 이용해서 계산하는 거 여러분 여태까지 다 배웠던 거죠. 그거를요 지금 똑같은 걸 하는데 단지 문자가 x 로만 바뀐 겁니다. 그러니까 절대 어렵지 않아요. 중학교에서 넘어온 단원 맞는데요. 어렵지 않아요. 같이 연습해 보도록 해요. 등식의 성질을 이용해서 방정식을 풀어보시오라고 했습니다. 자 여기 x 라는 문자가 나오고요. x 나누기 3 빼기 3 8 이러니까 뭔가 복잡해 보이죠. 그런데 이것을 여러분 네모라고 바꾸면 어떨까요? 네모라고 한번 바꿔볼까요? 네모 나누기 3 빼기 3은 8. 여기서 네모 구할 수 있어요? 구할 수 있죠. 그거랑 같은 방법으로 그대로 계산하면 돼요. 자 그럼 선생님이 x 를 구하기 위해서 뭔가 여러가지 사실을 알려드리겠습니다. 양쪽 여기 등호가 있죠. 왼쪽 면이 있고요. 여기 왼쪽 면이 있고 오른쪽 면이 있습니다. 왼쪽과 오른쪽에 똑같은 수를 더해준다. 그래도 등호가 성립이 되나요? 같다가 되나요? 같죠. 만약에 왼쪽과 오른쪽에 똑같은 수를 빼준다. 그래도 성립이 되나요? 맞습니다. 곱해도 나누어도 그 등식은 성립합니다. 이것이 바로 등식의 성질이 되고요. 또한 방정식을 풀 수 있는 수단이 되는 거예요. 자 그러면 같이 풀어보도록 할게요. 자 x 를 구하려면요. 여러분 왼쪽 편에서요. x 를 빼고 나머지를 다 없애주고 싶습니다. 이 나머지를 없애줘야 되는데 나누기 3을 먼저 없애줄까? 또는 빼기 3을 먼저 없애줄까? 이것이 고민이 됩니다. 여러분 가장 먼저 더샘 뺄샘을 먼저 빼셔야 돼요. 먼저 없애주셔야 돼요. 이 빼기 3을 먼저 없애주겠습니다. 자 왼쪽에 빼기 3을 없애주려면 똑같이 여기도 3을 내주고 여기도 3을 내주면 되나요? 그렇죠. 이거와 이거가 같으면요. 그것에 3을 더한 것과 이것에 3을 더한 것. 그것도 서로 같게 됩니다. 그랬을 때 어떻게 정리가 되느냐? x 나누기 3. 왼쪽은 이것만 남게 되죠. 그리고 오른쪽은 어떻게 돼요? 8 더하기 3을 해서요. 그래서 8 더하기 3을 해서 11이 되는 거죠. 그러면 x 나누기 3은 11이 된다고 하는데요. 우리가 구하고 싶은 것은 바로 x에요. x는 무엇이냐 알고 싶어요. 그러면 x 나누기 3에서 나누기 3을 없애주고 싶은 거죠. 나누기 3을 없애주려면 여기다 곱하기 3을 하면 되는데요. 여기에 곱하기 3을 해주고 이것도 똑같이 곱하기 3을 해주면 되겠네요. 그래서 11 곱하기 3을 하면 되는 거죠. 계산하면 바로 33이 나오는 것을 확인할 수 있습니다. 우리 지금 뭐 해준 거예요? 양쪽 변의 똑같은 수를 더해주거나 빼주거나 곱해주거나 나누어 준 겁니다. 그래서 x가 33이 나왔고요. 정답을 쓸 때 x는 33. 이런 걸로 적으시면 되는 거예요. 이 아래 문제도 여러분 어렵지 않아요. x 곱하기 12 더하기 7은 43이라고 나와 있죠. 이 중에 곱하기 12 더하기 7 이것을 없애주고 싶은 겁니다. 없애주기 위해서 여기 곱셈 나누셈보다 이걸 먼저 하라고 했어요. 멀리 있는 것부터 더하기 7을 한번 없애줘봅시다. 없애주려면요. 여기다 빼기 7도 해주고요. 여기도 빼기 7을 해주는 거죠. 70 빼줍니다. 그러면 왼쪽은요. x 곱하기 12 이것만 남아요. 우리의 목적 x만 남기는 건데 점점 간단해지고 있어요. 그 다음에 43에는 어떻게 해줘야 될까요? 빼기 7을 해줘야죠. 7을 빼주는 겁니다. 이거를 조금 다르게 생각하는 친구들 더하기 7이요. 이쪽으로 넘어와서 빼기 7이 된다. 이렇게 생각하는 친구들이 있는데 그렇게 생각해도 됩니다. 하지만 원리를 이해한 다음에 이렇게 됐다 라고 생각해야 되는 거예요. 이것을 계산하면요. 36이 됐죠. x 곱하기 12가 36이 됐다는 겁니다. 그러면 우리는요. x 곱하기 12가 궁금한 게 아니라 x가 궁금한 거예요. x만 남겨주고 싶은 겁니다. x만 남겨주고 싶으면 곱하기 12를 없애줘야겠네요. 곱하기 12를 없애주려면 나누기 12를 해줘야겠네요. 나누기 12를 여기다 해주는 거예요. 그리고 여기도 36 나누기 12를 해주는 거죠. 여기와 여기에 똑같이 나누기 12 나누기 12 해서 x는 이렇게 되는 거죠. 그랬더니 정답이 바로 3이 나왔죠. 그래서 x는 3이라고 나온 겁니다. 아 그렇군요. 이런 식이 있을 때 여기다 1도 나보고 2도 나보고 3도 나보고 이렇게 하는 것이 아니라 바로 식을 정리해서 정답이 이렇게 나올 수도 있다는 거 방금 문제를 통해서 알게 됐습니다. 우리 친구들 지금 선생님이 설명해 드린 거요. 기본적인 내용 다 배운 겁니다. 앞으로 선생님과 여러 가지 문제를 연습해 볼 텐데요. 이것을 이해한 친구는요. 모든 문제를 다 해결할 수가 있어요. 다음 문제 한번 알아볼게요. 다음 화면에 나옵니다. 등식의 성질을 이용하래요. 등식의 성질 뭔데요? 양변에 똑같은 수를 더해주거나 빼주거나 곱해주거나 나누어주거나 그렇게 해도 등식이 성립이 된다라는 것이죠. 자 방정식 이것을 풀어보시오. 방정식을 풀라는 것은요.\"\n",
    "    \"\"\n",
    ")\n",
    "\n",
    "\n",
    "# GPT-4를 사용하여 텍스트를 주제별로 나누고 번역 및 요약\n",
    "response = openai.ChatCompletion.create(\n",
    "    model=\"gpt-4o\",\n",
    "    messages=[\n",
    "        {\"role\": \"system\", \"content\": \"You are analist. \"},\n",
    "        {\n",
    "            \"role\": \"user\",\n",
    "            \"content\": f\"이 텍스트는 한국의 초등학교 수학 강의 스크립트입니다. 스크립트에 맞는 태그를 {category}에 있는 거만 선정해 주세요. 우선순위대로 정렬해서 줘. 스크립트: {text_to_summarize}\",\n",
    "        },\n",
    "        # {\"role\": \"user\", \"content\": \"Now, based on the translated text, analyze the teaching methods and explanation styles used in the lecture. Specifically, look at how concepts are introduced, whether problem-solving steps are explained clearly, and if there are any patterns in how the teacher interacts with students or presents mathematical ideas. in Korean.\"}\n",
    "    ],\n",
    ")\n",
    "\n",
    "# 번역 및 요약된 결과 출력\n",
    "print(response[\"choices\"][0][\"message\"][\"content\"])"
   ]
  },
  {
   "cell_type": "code",
   "execution_count": 50,
   "metadata": {},
   "outputs": [
    {
     "data": {
      "text/html": [
       "<div>\n",
       "<style scoped>\n",
       "    .dataframe tbody tr th:only-of-type {\n",
       "        vertical-align: middle;\n",
       "    }\n",
       "\n",
       "    .dataframe tbody tr th {\n",
       "        vertical-align: top;\n",
       "    }\n",
       "\n",
       "    .dataframe thead th {\n",
       "        text-align: right;\n",
       "    }\n",
       "</style>\n",
       "<table border=\"1\" class=\"dataframe\">\n",
       "  <thead>\n",
       "    <tr style=\"text-align: right;\">\n",
       "      <th></th>\n",
       "      <th>강의</th>\n",
       "      <th>태그</th>\n",
       "      <th>text</th>\n",
       "      <th>태그1</th>\n",
       "      <th>태그2</th>\n",
       "      <th>태그3</th>\n",
       "    </tr>\n",
       "  </thead>\n",
       "  <tbody>\n",
       "    <tr>\n",
       "      <th>0</th>\n",
       "      <td>1강</td>\n",
       "      <td>[0, 11, 7]</td>\n",
       "      <td>안녕하세요 우리 친구들 만나서 반갑습니다. 여러분들과 함께 초등수학 개념 찾기로  ...</td>\n",
       "      <td>0</td>\n",
       "      <td>11</td>\n",
       "      <td>7</td>\n",
       "    </tr>\n",
       "    <tr>\n",
       "      <th>1</th>\n",
       "      <td>2강</td>\n",
       "      <td>[0, 1, 2]</td>\n",
       "      <td>안녕하세요. 우리 EBS 친구들 반갑습니다. 여러분 어떻게 잘 지내셨어요? 선생님 ...</td>\n",
       "      <td>0</td>\n",
       "      <td>1</td>\n",
       "      <td>2</td>\n",
       "    </tr>\n",
       "    <tr>\n",
       "      <th>2</th>\n",
       "      <td>3강</td>\n",
       "      <td>[3, 0]</td>\n",
       "      <td>안녕하세요 우리 친구들 초등수학 개념 찾기 나소은 선생님입니다. 여러분!  이번 시...</td>\n",
       "      <td>3</td>\n",
       "      <td>0</td>\n",
       "      <td>&lt;NA&gt;</td>\n",
       "    </tr>\n",
       "    <tr>\n",
       "      <th>3</th>\n",
       "      <td>4강</td>\n",
       "      <td>[4, 3, 9, 10, 11]</td>\n",
       "      <td>여러분 안녕하세요. 자 우리 친구들과 함께 개념의 내용을 확실하게  잡아줄 아주 좋...</td>\n",
       "      <td>4</td>\n",
       "      <td>3</td>\n",
       "      <td>9</td>\n",
       "    </tr>\n",
       "    <tr>\n",
       "      <th>4</th>\n",
       "      <td>5강</td>\n",
       "      <td>[0, 1, 2, 3, 4, 5, 6]</td>\n",
       "      <td>초등학교 학교 초등학교 학교 초등학교 학교 초등학교 학교 초등학교 학교 초등학교 학...</td>\n",
       "      <td>0</td>\n",
       "      <td>1</td>\n",
       "      <td>2</td>\n",
       "    </tr>\n",
       "    <tr>\n",
       "      <th>5</th>\n",
       "      <td>6강</td>\n",
       "      <td>[0, 5, 1, 2]</td>\n",
       "      <td>1. 2. 3. 4. 5. 6. 7. 8. 9. 10. 11. 12. 13. 14....</td>\n",
       "      <td>0</td>\n",
       "      <td>5</td>\n",
       "      <td>1</td>\n",
       "    </tr>\n",
       "    <tr>\n",
       "      <th>6</th>\n",
       "      <td>7강</td>\n",
       "      <td>[0, 6, 7, 9, 22]</td>\n",
       "      <td>안녕하세요 우리 친구들 반갑습니다 안녕하세요 우리 친구들 반갑습니다  여러분들과 함...</td>\n",
       "      <td>0</td>\n",
       "      <td>6</td>\n",
       "      <td>7</td>\n",
       "    </tr>\n",
       "    <tr>\n",
       "      <th>7</th>\n",
       "      <td>8강</td>\n",
       "      <td>[0, 1, 2, 5, 6, 7]</td>\n",
       "      <td>초등수학의 개념 잡기 여러분들과 함께하는 초등수학의 개념 잡기 여러분들과 함께하는 ...</td>\n",
       "      <td>0</td>\n",
       "      <td>1</td>\n",
       "      <td>2</td>\n",
       "    </tr>\n",
       "    <tr>\n",
       "      <th>8</th>\n",
       "      <td>9강</td>\n",
       "      <td>[0, 6, 7, 1, 2]</td>\n",
       "      <td>안녕하세요 우리 친구들 즐거운 수업시간입니다 선생님과 함께 할 준비 되셨죠? 우리 ...</td>\n",
       "      <td>0</td>\n",
       "      <td>6</td>\n",
       "      <td>7</td>\n",
       "    </tr>\n",
       "    <tr>\n",
       "      <th>9</th>\n",
       "      <td>10강</td>\n",
       "      <td>[0, 12, 13, 18]</td>\n",
       "      <td>안녕하세요 초등수학 개념 찾기 나소은 선생님입니다. 여러분 어때요? 오늘 하루도 즐...</td>\n",
       "      <td>0</td>\n",
       "      <td>12</td>\n",
       "      <td>13</td>\n",
       "    </tr>\n",
       "    <tr>\n",
       "      <th>10</th>\n",
       "      <td>11강</td>\n",
       "      <td>[13, 15, 16, 18]</td>\n",
       "      <td>그의 조립은 끝났다. 초등학과 여러분, 난 이미ing knife algorithm ...</td>\n",
       "      <td>13</td>\n",
       "      <td>15</td>\n",
       "      <td>16</td>\n",
       "    </tr>\n",
       "    <tr>\n",
       "      <th>11</th>\n",
       "      <td>12강</td>\n",
       "      <td>[0, 13, 17, 8]</td>\n",
       "      <td>안녕하세요. 우리 친구들 하루 어떻게 잘 보내고 계신가요? 우리 즐거운 수학시간이죠...</td>\n",
       "      <td>0</td>\n",
       "      <td>13</td>\n",
       "      <td>17</td>\n",
       "    </tr>\n",
       "    <tr>\n",
       "      <th>12</th>\n",
       "      <td>13강</td>\n",
       "      <td>[8, 13, 15, 12, 18]</td>\n",
       "      <td>42cm다라고 얘기를 하고 있어요 작은 정삼각형 1개의 둘레의 길이를 묻고 있습니다...</td>\n",
       "      <td>8</td>\n",
       "      <td>13</td>\n",
       "      <td>15</td>\n",
       "    </tr>\n",
       "    <tr>\n",
       "      <th>13</th>\n",
       "      <td>14강</td>\n",
       "      <td>[15, 18, 13, 12, 11]</td>\n",
       "      <td>두 개의 직선이 만나서 이루는 각이 직각입니다. 그래서 직각입니다. 두 직선이 만나...</td>\n",
       "      <td>15</td>\n",
       "      <td>18</td>\n",
       "      <td>13</td>\n",
       "    </tr>\n",
       "    <tr>\n",
       "      <th>14</th>\n",
       "      <td>15강</td>\n",
       "      <td>[12, 13, 15, 18]</td>\n",
       "      <td>안녕하세요 우리 친구들 즐거운 수학시간입니다 초등학생 개념 찾기 우리 이번 시간은요...</td>\n",
       "      <td>12</td>\n",
       "      <td>13</td>\n",
       "      <td>15</td>\n",
       "    </tr>\n",
       "    <tr>\n",
       "      <th>15</th>\n",
       "      <td>16강</td>\n",
       "      <td>[8, 11, 9]</td>\n",
       "      <td>친한 친구 맞춰봐 왔어? 잠깐만 신난다 아파 어 뒤엣개 갖고 운동한 것 보세요 Ну...</td>\n",
       "      <td>8</td>\n",
       "      <td>11</td>\n",
       "      <td>9</td>\n",
       "    </tr>\n",
       "    <tr>\n",
       "      <th>16</th>\n",
       "      <td>17강</td>\n",
       "      <td>[8, 11, 1, 2]</td>\n",
       "      <td>할머니께서는 은정이 보다 감자를 몇 킬로그램 몇 그램 더 많이 캐셨는지 프리과정을 ...</td>\n",
       "      <td>8</td>\n",
       "      <td>11</td>\n",
       "      <td>1</td>\n",
       "    </tr>\n",
       "    <tr>\n",
       "      <th>17</th>\n",
       "      <td>18강</td>\n",
       "      <td>[12, 18, 11, 13, 15]</td>\n",
       "      <td>안녕하세요 우리 친구들. 반가워요. 이번 시간은요 각도에 대해서 함께 알아보는 시간...</td>\n",
       "      <td>12</td>\n",
       "      <td>18</td>\n",
       "      <td>11</td>\n",
       "    </tr>\n",
       "    <tr>\n",
       "      <th>18</th>\n",
       "      <td>19강</td>\n",
       "      <td>[8, 3, 4, 11, 18, 13, 15]</td>\n",
       "      <td>1킬로미터를 우리는 1000미터라고 얘기를 한단 말이에요. 그럼 이 1000미터 안...</td>\n",
       "      <td>8</td>\n",
       "      <td>3</td>\n",
       "      <td>4</td>\n",
       "    </tr>\n",
       "    <tr>\n",
       "      <th>19</th>\n",
       "      <td>20강</td>\n",
       "      <td>[0, 1, 6, 5, 19, 11]</td>\n",
       "      <td>안녕하세요. 우리 친구들 만나서 반갑습니다. 초등사학 기념잡기 여러분과 함께 할 시...</td>\n",
       "      <td>0</td>\n",
       "      <td>1</td>\n",
       "      <td>6</td>\n",
       "    </tr>\n",
       "    <tr>\n",
       "      <th>20</th>\n",
       "      <td>21강</td>\n",
       "      <td>[0, 1, 2, 7, 11]</td>\n",
       "      <td>안녕하세요. 우리 친구들 초등수학 개념찾기 나소은 선생님입니다. 우리 친구들과 이번...</td>\n",
       "      <td>0</td>\n",
       "      <td>1</td>\n",
       "      <td>2</td>\n",
       "    </tr>\n",
       "    <tr>\n",
       "      <th>21</th>\n",
       "      <td>22강</td>\n",
       "      <td>[1, 22, 23, 11]</td>\n",
       "      <td>나라를 선택한 학생수는 20명에다가 4명씩 3칸 12만큼을 더하여서 32명이라고 답...</td>\n",
       "      <td>1</td>\n",
       "      <td>22</td>\n",
       "      <td>23</td>\n",
       "    </tr>\n",
       "  </tbody>\n",
       "</table>\n",
       "</div>"
      ],
      "text/plain": [
       "     강의                         태그  \\\n",
       "0    1강                 [0, 11, 7]   \n",
       "1    2강                  [0, 1, 2]   \n",
       "2    3강                     [3, 0]   \n",
       "3    4강          [4, 3, 9, 10, 11]   \n",
       "4    5강      [0, 1, 2, 3, 4, 5, 6]   \n",
       "5    6강               [0, 5, 1, 2]   \n",
       "6    7강           [0, 6, 7, 9, 22]   \n",
       "7    8강         [0, 1, 2, 5, 6, 7]   \n",
       "8    9강            [0, 6, 7, 1, 2]   \n",
       "9   10강            [0, 12, 13, 18]   \n",
       "10  11강           [13, 15, 16, 18]   \n",
       "11  12강             [0, 13, 17, 8]   \n",
       "12  13강        [8, 13, 15, 12, 18]   \n",
       "13  14강       [15, 18, 13, 12, 11]   \n",
       "14  15강           [12, 13, 15, 18]   \n",
       "15  16강                 [8, 11, 9]   \n",
       "16  17강              [8, 11, 1, 2]   \n",
       "17  18강       [12, 18, 11, 13, 15]   \n",
       "18  19강  [8, 3, 4, 11, 18, 13, 15]   \n",
       "19  20강       [0, 1, 6, 5, 19, 11]   \n",
       "20  21강           [0, 1, 2, 7, 11]   \n",
       "21  22강            [1, 22, 23, 11]   \n",
       "\n",
       "                                                 text  태그1  태그2   태그3  \n",
       "0   안녕하세요 우리 친구들 만나서 반갑습니다. 여러분들과 함께 초등수학 개념 찾기로  ...    0   11     7  \n",
       "1   안녕하세요. 우리 EBS 친구들 반갑습니다. 여러분 어떻게 잘 지내셨어요? 선생님 ...    0    1     2  \n",
       "2   안녕하세요 우리 친구들 초등수학 개념 찾기 나소은 선생님입니다. 여러분!  이번 시...    3    0  <NA>  \n",
       "3   여러분 안녕하세요. 자 우리 친구들과 함께 개념의 내용을 확실하게  잡아줄 아주 좋...    4    3     9  \n",
       "4   초등학교 학교 초등학교 학교 초등학교 학교 초등학교 학교 초등학교 학교 초등학교 학...    0    1     2  \n",
       "5   1. 2. 3. 4. 5. 6. 7. 8. 9. 10. 11. 12. 13. 14....    0    5     1  \n",
       "6   안녕하세요 우리 친구들 반갑습니다 안녕하세요 우리 친구들 반갑습니다  여러분들과 함...    0    6     7  \n",
       "7   초등수학의 개념 잡기 여러분들과 함께하는 초등수학의 개념 잡기 여러분들과 함께하는 ...    0    1     2  \n",
       "8   안녕하세요 우리 친구들 즐거운 수업시간입니다 선생님과 함께 할 준비 되셨죠? 우리 ...    0    6     7  \n",
       "9   안녕하세요 초등수학 개념 찾기 나소은 선생님입니다. 여러분 어때요? 오늘 하루도 즐...    0   12    13  \n",
       "10  그의 조립은 끝났다. 초등학과 여러분, 난 이미ing knife algorithm ...   13   15    16  \n",
       "11  안녕하세요. 우리 친구들 하루 어떻게 잘 보내고 계신가요? 우리 즐거운 수학시간이죠...    0   13    17  \n",
       "12  42cm다라고 얘기를 하고 있어요 작은 정삼각형 1개의 둘레의 길이를 묻고 있습니다...    8   13    15  \n",
       "13  두 개의 직선이 만나서 이루는 각이 직각입니다. 그래서 직각입니다. 두 직선이 만나...   15   18    13  \n",
       "14  안녕하세요 우리 친구들 즐거운 수학시간입니다 초등학생 개념 찾기 우리 이번 시간은요...   12   13    15  \n",
       "15  친한 친구 맞춰봐 왔어? 잠깐만 신난다 아파 어 뒤엣개 갖고 운동한 것 보세요 Ну...    8   11     9  \n",
       "16  할머니께서는 은정이 보다 감자를 몇 킬로그램 몇 그램 더 많이 캐셨는지 프리과정을 ...    8   11     1  \n",
       "17  안녕하세요 우리 친구들. 반가워요. 이번 시간은요 각도에 대해서 함께 알아보는 시간...   12   18    11  \n",
       "18  1킬로미터를 우리는 1000미터라고 얘기를 한단 말이에요. 그럼 이 1000미터 안...    8    3     4  \n",
       "19  안녕하세요. 우리 친구들 만나서 반갑습니다. 초등사학 기념잡기 여러분과 함께 할 시...    0    1     6  \n",
       "20  안녕하세요. 우리 친구들 초등수학 개념찾기 나소은 선생님입니다. 우리 친구들과 이번...    0    1     2  \n",
       "21  나라를 선택한 학생수는 20명에다가 4명씩 3칸 12만큼을 더하여서 32명이라고 답...    1   22    23  "
      ]
     },
     "execution_count": 50,
     "metadata": {},
     "output_type": "execute_result"
    }
   ],
   "source": [
    "import pandas as pd\n",
    "\n",
    "lessons_dict = [\n",
    "    {\"강의\": \"1강\", \"태그\": [\"수\", \"측정\", \"소수점\"]},\n",
    "    {\"강의\": \"2강\", \"태그\": [\"수\", \"덧셈\", \"뺄셈\"]},\n",
    "    {\"강의\": \"3강\", \"태그\": [\"곱셈\", \"수\"]},\n",
    "    {\"강의\": \"4강\", \"태그\": [\"나눗셈\", \"곱셈\", \"시간\", \"화폐\", \"측정\"]},\n",
    "    {\"강의\": \"5강\", \"태그\": [\"수\", \"덧셈\", \"뺄셈\", \"곱셈\", \"나눗셈\", \"분수\", \"소수\"]},\n",
    "    {\"강의\": \"6강\", \"태그\": [\"수\", \"분수\", \"덧셈\", \"뺄셈\"]},\n",
    "    {\"강의\": \"7강\", \"태그\": [\"수\", \"소수\", \"소수점\", \"시간\", \"그래프\"]},\n",
    "    {\"강의\": \"8강\", \"태그\": [\"수\", \"덧셈\", \"뺄셈\", \"분수\", \"소수\", \"소수점\"]},\n",
    "    {\"강의\": \"9강\", \"태그\": [\"수\", \"소수\", \"소수점\", \"덧셈\", \"뺄셈\"]},\n",
    "    {\"강의\": \"10강\", \"태그\": [\"수\", \"각도\", \"평면도형\", \"직각\"]},\n",
    "    {\"강의\": \"11강\", \"태그\": [\"평면도형\", \"도형\", \"대칭\", \"직각\"]},\n",
    "    {\"강의\": \"12강\", \"태그\": [\"수\", \"평면도형\", \"원\", \"길이\"]},\n",
    "    {\"강의\": \"13강\", \"태그\": [\"길이\", \"평면도형\", \"도형\", \"각도\", \"직각\"]},\n",
    "    {\"강의\": \"14강\", \"태그\": [\"도형\", \"직각\", \"평면도형\", \"각도\", \"측정\"]},\n",
    "    {\"강의\": \"15강\", \"태그\": [\"각도\", \"평면도형\", \"도형\", \"직각\"]},\n",
    "    {\"강의\": \"16강\", \"태그\": [\"길이\", \"측정\", \"시간\"]},\n",
    "    {\"강의\": \"17강\", \"태그\": [\"길이\", \"측정\", \"무게\", \"덧셈\", \"뺄셈\"]},\n",
    "    {\"강의\": \"18강\", \"태그\": [\"각도\", \"직각\", \"측정\", \"평면도형\", \"도형\"]},\n",
    "    {\n",
    "        \"강의\": \"19강\",\n",
    "        \"태그\": [\"길이\", \"곱셈\", \"나눗셈\", \"측정\", \"직각\", \"평면도형\", \"도형\"],\n",
    "    },\n",
    "    {\"강의\": \"20강\", \"태그\": [\"수\", \"덧셈\", \"소수\", \"분수\", \"비율\", \"측정\"]},\n",
    "    {\"강의\": \"21강\", \"태그\": [\"수\", \"덧셈\", \"뺄셈\", \"소수점\", \"측정\"]},\n",
    "    {\"강의\": \"22강\", \"태그\": [\"덧셈\", \"그래프\", \"통계\", \"측정\"]},\n",
    "]\n",
    "\n",
    "\n",
    "import os\n",
    "\n",
    "df = pd.read_csv(\"./df1.csv\")\n",
    "\n",
    "# # 스크립트 파일이 저장된 폴더 경로 설정\n",
    "# script_folder_path = './ebs_script/'\n",
    "\n",
    "# # 'text' 열을 생성하고 스크립트 파일의 내용을 넣는 함수\n",
    "# def add_script_to_df(df, folder_path):\n",
    "#     texts = []\n",
    "\n",
    "#     for lecture in df['강의']:\n",
    "#         # 각 강의 번호에 맞는 스크립트 파일명 설정 (예: 강의_1.txt)\n",
    "#         script_file_name = f\"{folder_path}강의_{lecture[:-1]}.txt\"\n",
    "\n",
    "#         # 스크립트 파일이 존재하는지 확인하고, 존재하면 내용을 읽어들임\n",
    "#         if os.path.exists(script_file_name):\n",
    "#             with open(script_file_name, 'r', encoding='utf-8') as file:\n",
    "#                 text = file.read()\n",
    "#         else:\n",
    "#             text = ''  # 파일이 없으면 빈 문자열\n",
    "\n",
    "#         texts.append(text)\n",
    "\n",
    "#     # 데이터프레임에 'text' 열 추가\n",
    "#     df['text'] = texts\n",
    "#     return df\n",
    "\n",
    "# # 스크립트 파일을 추가하는 함수 실행\n",
    "# df = add_script_to_df(df, script_folder_path)\n",
    "\n",
    "# # 변환된 데이터프레임을 사용자에게 보여줌\n",
    "df[\"태그3\"] = df[\"태그3\"].astype(pd.Int64Dtype())\n",
    "\n",
    "df"
   ]
  },
  {
   "cell_type": "code",
   "execution_count": 112,
   "metadata": {},
   "outputs": [],
   "source": [
    "# 레이블 목록\n",
    "labels_dict = {\n",
    "    \"수\": 0,\n",
    "    \"덧셈\": 1,\n",
    "    \"뺄셈\": 2,\n",
    "    \"곱셈\": 3,\n",
    "    \"나눗셈\": 4,\n",
    "    \"분수\": 5,\n",
    "    \"소수\": 6,\n",
    "    \"소수점\": 7,\n",
    "    \"길이\": 8,\n",
    "    \"시간\": 9,\n",
    "    \"화폐\": 10,\n",
    "    \"측정\": 11,\n",
    "    \"각도\": 12,\n",
    "    \"평면도형\": 13,\n",
    "    \"입체도형\": 14,\n",
    "    \"도형\": 15,\n",
    "    \"대칭\": 16,\n",
    "    \"원\": 17,\n",
    "    \"직각\": 18,\n",
    "    \"비율\": 19,\n",
    "    \"비례식\": 20,\n",
    "    \"비\": 21,\n",
    "    \"그래프\": 22,\n",
    "    \"통계\": 23,\n",
    "    \"확률\": 24,\n",
    "    \"약수\": 25,\n",
    "    \"배수\": 26,\n",
    "    \"함수\": 27,\n",
    "    \"미지수\": 28,\n",
    "    \"규칙\": 29,\n",
    "}"
   ]
  },
  {
   "cell_type": "code",
   "execution_count": 108,
   "metadata": {},
   "outputs": [],
   "source": [
    "import os\n",
    "import pandas as pd\n",
    "\n",
    "# 파일이 위치한 디렉토리 경로\n",
    "directory_path = \"./ebs_script\"\n",
    "\n",
    "# 데이터프레임 로드\n",
    "df = pd.read_csv(\"./df.csv\")\n",
    "\n",
    "\n",
    "# 텍스트 파일을 읽고 데이터프레임에 추가하는 함수\n",
    "def add_lectures_from_files(directory_path, df):\n",
    "    rows = []  # 새로운 행을 저장할 리스트\n",
    "    for filename in os.listdir(directory_path):\n",
    "        if filename.endswith(\".txt\"):  # 텍스트 파일 확인\n",
    "            file_path = os.path.join(directory_path, filename)\n",
    "\n",
    "            # 파일 이름에서 강의 번호와 태그 추출\n",
    "            parts = filename.split(\"_\")\n",
    "            lecture_number = parts[0]\n",
    "            # 작은따옴표를 제거하고 공백을 제거한 뒤, 태그 분리\n",
    "            tags = [\n",
    "                tag.strip().replace(\"'\", \"\")\n",
    "                for tag in parts[1].rstrip(\".txt\").split(\",\")\n",
    "            ]\n",
    "\n",
    "            # 파일 내용 읽기\n",
    "            with open(file_path, \"r\", encoding=\"utf-8\") as file:\n",
    "                text_content = file.read()\n",
    "\n",
    "            # 새로운 행 생성\n",
    "            new_row = {\"강의\": lecture_number, \"태그\": tags, \"text\": text_content}\n",
    "            rows.append(new_row)\n",
    "\n",
    "    # 새로운 데이터프레임 생성하고 기존 데이터프레임과 병합\n",
    "    new_df = pd.DataFrame(rows)\n",
    "    df = pd.concat([df, new_df], ignore_index=True)\n",
    "\n",
    "    return df\n",
    "\n",
    "\n",
    "# 함수 호출\n",
    "df_updated = add_lectures_from_files(directory_path, df)\n",
    "\n",
    "# 데이터프레임 저장\n",
    "df_updated.to_csv(\"./updated_df.csv\", index=False)"
   ]
  },
  {
   "cell_type": "code",
   "execution_count": 109,
   "metadata": {},
   "outputs": [
    {
     "data": {
      "text/html": [
       "<div>\n",
       "<style scoped>\n",
       "    .dataframe tbody tr th:only-of-type {\n",
       "        vertical-align: middle;\n",
       "    }\n",
       "\n",
       "    .dataframe tbody tr th {\n",
       "        vertical-align: top;\n",
       "    }\n",
       "\n",
       "    .dataframe thead th {\n",
       "        text-align: right;\n",
       "    }\n",
       "</style>\n",
       "<table border=\"1\" class=\"dataframe\">\n",
       "  <thead>\n",
       "    <tr style=\"text-align: right;\">\n",
       "      <th></th>\n",
       "      <th>강의</th>\n",
       "      <th>태그</th>\n",
       "      <th>text</th>\n",
       "    </tr>\n",
       "  </thead>\n",
       "  <tbody>\n",
       "    <tr>\n",
       "      <th>0</th>\n",
       "      <td>1강</td>\n",
       "      <td>[0, 11, 7]</td>\n",
       "      <td>안녕하세요 우리 친구들 만나서 반갑습니다. 여러분들과 함께 초등수학 개념 찾기로  ...</td>\n",
       "    </tr>\n",
       "    <tr>\n",
       "      <th>1</th>\n",
       "      <td>2강</td>\n",
       "      <td>[0, 1, 2]</td>\n",
       "      <td>안녕하세요. 우리 EBS 친구들 반갑습니다. 여러분 어떻게 잘 지내셨어요? 선생님 ...</td>\n",
       "    </tr>\n",
       "    <tr>\n",
       "      <th>2</th>\n",
       "      <td>3강</td>\n",
       "      <td>[3, 0]</td>\n",
       "      <td>안녕하세요 우리 친구들 초등수학 개념 찾기 나소은 선생님입니다. 여러분!  이번 시...</td>\n",
       "    </tr>\n",
       "    <tr>\n",
       "      <th>3</th>\n",
       "      <td>4강</td>\n",
       "      <td>[4, 3, 9, 10, 11]</td>\n",
       "      <td>여러분 안녕하세요. 자 우리 친구들과 함께 개념의 내용을 확실하게  잡아줄 아주 좋...</td>\n",
       "    </tr>\n",
       "    <tr>\n",
       "      <th>4</th>\n",
       "      <td>5강</td>\n",
       "      <td>[0, 1, 2, 3, 4, 5, 6]</td>\n",
       "      <td>초등학교 학교 초등학교 학교 초등학교 학교 초등학교 학교 초등학교 학교 초등학교 학...</td>\n",
       "    </tr>\n",
       "    <tr>\n",
       "      <th>5</th>\n",
       "      <td>6강</td>\n",
       "      <td>[0, 5, 1, 2]</td>\n",
       "      <td>1. 2. 3. 4. 5. 6. 7. 8. 9. 10. 11. 12. 13. 14....</td>\n",
       "    </tr>\n",
       "    <tr>\n",
       "      <th>6</th>\n",
       "      <td>7강</td>\n",
       "      <td>[0, 6, 7, 9, 22]</td>\n",
       "      <td>안녕하세요 우리 친구들 반갑습니다 안녕하세요 우리 친구들 반갑습니다  여러분들과 함...</td>\n",
       "    </tr>\n",
       "    <tr>\n",
       "      <th>7</th>\n",
       "      <td>8강</td>\n",
       "      <td>[0, 1, 2, 5, 6, 7]</td>\n",
       "      <td>초등수학의 개념 잡기 여러분들과 함께하는 초등수학의 개념 잡기 여러분들과 함께하는 ...</td>\n",
       "    </tr>\n",
       "    <tr>\n",
       "      <th>8</th>\n",
       "      <td>9강</td>\n",
       "      <td>[0, 6, 7, 1, 2]</td>\n",
       "      <td>안녕하세요 우리 친구들 즐거운 수업시간입니다 선생님과 함께 할 준비 되셨죠? 우리 ...</td>\n",
       "    </tr>\n",
       "    <tr>\n",
       "      <th>9</th>\n",
       "      <td>10강</td>\n",
       "      <td>[0, 12, 13, 18]</td>\n",
       "      <td>안녕하세요 초등수학 개념 찾기 나소은 선생님입니다. 여러분 어때요? 오늘 하루도 즐...</td>\n",
       "    </tr>\n",
       "    <tr>\n",
       "      <th>10</th>\n",
       "      <td>11강</td>\n",
       "      <td>[13, 15, 16, 18]</td>\n",
       "      <td>그의 조립은 끝났다. 초등학과 여러분, 난 이미ing knife algorithm ...</td>\n",
       "    </tr>\n",
       "    <tr>\n",
       "      <th>11</th>\n",
       "      <td>12강</td>\n",
       "      <td>[0, 13, 17, 8]</td>\n",
       "      <td>안녕하세요. 우리 친구들 하루 어떻게 잘 보내고 계신가요? 우리 즐거운 수학시간이죠...</td>\n",
       "    </tr>\n",
       "    <tr>\n",
       "      <th>12</th>\n",
       "      <td>13강</td>\n",
       "      <td>[8, 13, 15, 12, 18]</td>\n",
       "      <td>42cm다라고 얘기를 하고 있어요 작은 정삼각형 1개의 둘레의 길이를 묻고 있습니다...</td>\n",
       "    </tr>\n",
       "    <tr>\n",
       "      <th>13</th>\n",
       "      <td>14강</td>\n",
       "      <td>[15, 18, 13, 12, 11]</td>\n",
       "      <td>두 개의 직선이 만나서 이루는 각이 직각입니다. 그래서 직각입니다. 두 직선이 만나...</td>\n",
       "    </tr>\n",
       "    <tr>\n",
       "      <th>14</th>\n",
       "      <td>15강</td>\n",
       "      <td>[12, 13, 15, 18]</td>\n",
       "      <td>안녕하세요 우리 친구들 즐거운 수학시간입니다 초등학생 개념 찾기 우리 이번 시간은요...</td>\n",
       "    </tr>\n",
       "    <tr>\n",
       "      <th>15</th>\n",
       "      <td>16강</td>\n",
       "      <td>[8, 11, 9]</td>\n",
       "      <td>친한 친구 맞춰봐 왔어? 잠깐만 신난다 아파 어 뒤엣개 갖고 운동한 것 보세요 Ну...</td>\n",
       "    </tr>\n",
       "    <tr>\n",
       "      <th>16</th>\n",
       "      <td>17강</td>\n",
       "      <td>[8, 11, 1, 2]</td>\n",
       "      <td>할머니께서는 은정이 보다 감자를 몇 킬로그램 몇 그램 더 많이 캐셨는지 프리과정을 ...</td>\n",
       "    </tr>\n",
       "    <tr>\n",
       "      <th>17</th>\n",
       "      <td>18강</td>\n",
       "      <td>[12, 18, 11, 13, 15]</td>\n",
       "      <td>안녕하세요 우리 친구들. 반가워요. 이번 시간은요 각도에 대해서 함께 알아보는 시간...</td>\n",
       "    </tr>\n",
       "    <tr>\n",
       "      <th>18</th>\n",
       "      <td>19강</td>\n",
       "      <td>[8, 3, 4, 11, 18, 13, 15]</td>\n",
       "      <td>1킬로미터를 우리는 1000미터라고 얘기를 한단 말이에요. 그럼 이 1000미터 안...</td>\n",
       "    </tr>\n",
       "    <tr>\n",
       "      <th>19</th>\n",
       "      <td>20강</td>\n",
       "      <td>[0, 1, 6, 5, 19, 11]</td>\n",
       "      <td>안녕하세요. 우리 친구들 만나서 반갑습니다. 초등사학 기념잡기 여러분과 함께 할 시...</td>\n",
       "    </tr>\n",
       "    <tr>\n",
       "      <th>20</th>\n",
       "      <td>21강</td>\n",
       "      <td>[0, 1, 2, 7, 11]</td>\n",
       "      <td>안녕하세요. 우리 친구들 초등수학 개념찾기 나소은 선생님입니다. 우리 친구들과 이번...</td>\n",
       "    </tr>\n",
       "    <tr>\n",
       "      <th>21</th>\n",
       "      <td>22강</td>\n",
       "      <td>[1, 22, 23, 11]</td>\n",
       "      <td>나라를 선택한 학생수는 20명에다가 4명씩 3칸 12만큼을 더하여서 32명이라고 답...</td>\n",
       "    </tr>\n",
       "    <tr>\n",
       "      <th>22</th>\n",
       "      <td>23</td>\n",
       "      <td>[수, 규칙]</td>\n",
       "      <td>여러분 안녕하세요. 수학의 개념을 확실하게 잡아보는 시간이죠. 여러분과 함께 준비한...</td>\n",
       "    </tr>\n",
       "    <tr>\n",
       "      <th>23</th>\n",
       "      <td>24</td>\n",
       "      <td>[수, 비율, 비례식, 함수]</td>\n",
       "      <td>해결해 준 것이다 라고도 표현해 줄 수 있게 되는 거고요. 표만 들어 문제를 해결하...</td>\n",
       "    </tr>\n",
       "    <tr>\n",
       "      <th>24</th>\n",
       "      <td>25</td>\n",
       "      <td>[약수, 배수, 곱셈, 나눗셈]</td>\n",
       "      <td>안녕하세요. 정말 반갑습니다. 김연경입니다. 오늘의 게스트는 김연경입니다. 안녕하세...</td>\n",
       "    </tr>\n",
       "    <tr>\n",
       "      <th>25</th>\n",
       "      <td>26</td>\n",
       "      <td>[나눗셈, 분수, 약수, 배수]</td>\n",
       "      <td>14 가 되어야 되는데요 나누기 4 를 해보세요 그러면 14 가 되나요 아 그렇군요...</td>\n",
       "    </tr>\n",
       "    <tr>\n",
       "      <th>26</th>\n",
       "      <td>27</td>\n",
       "      <td>[수, 덧셈, 뺄셈, 분수]</td>\n",
       "      <td>여러분 안녕하세요. 정말 반갑습니다. 김연경 선생님입니다. 우리 친구들 기본 강의와...</td>\n",
       "    </tr>\n",
       "    <tr>\n",
       "      <th>27</th>\n",
       "      <td>28</td>\n",
       "      <td>[분수, 곱셈, 측정, 평면도형]</td>\n",
       "      <td>색소프라노 여러분 안녕하세요 정말 반갑습니다 김연경 선생님이에요 자 우리 친구들 저...</td>\n",
       "    </tr>\n",
       "    <tr>\n",
       "      <th>28</th>\n",
       "      <td>29</td>\n",
       "      <td>[분수, 나눗셈, 곱셈]</td>\n",
       "      <td>여러분 안녕하세요 김연경 선생님입니다. 자, 우리 친구들 정말 축하합니다. 오늘은요...</td>\n",
       "    </tr>\n",
       "    <tr>\n",
       "      <th>29</th>\n",
       "      <td>30</td>\n",
       "      <td>[분수, 소수, 곱셈, 길이]</td>\n",
       "      <td>여러분 안녕하세요. 반갑습니다. 김연경 선생님입니다. 우리 친구들 저번 시간까지는요...</td>\n",
       "    </tr>\n",
       "    <tr>\n",
       "      <th>30</th>\n",
       "      <td>31</td>\n",
       "      <td>[나눗셈, 소수]</td>\n",
       "      <td>여러분 안녕하세요. 반갑습니다. 김연경 선생님입니다. 자 우리 친구들 선생님이요 언...</td>\n",
       "    </tr>\n",
       "    <tr>\n",
       "      <th>31</th>\n",
       "      <td>32</td>\n",
       "      <td>[수, 소수, 나눗셈]</td>\n",
       "      <td>오빠 енной이 비슷해보이지 않아요? 금일,  בכ사 wrote the stars...</td>\n",
       "    </tr>\n",
       "    <tr>\n",
       "      <th>32</th>\n",
       "      <td>33</td>\n",
       "      <td>[수, 소수, 분수, 나눗셈]</td>\n",
       "      <td>여러분 안녕하세요 정말 반갑습니다 김연경 선생님이에요 자 우리 친구들 오늘 수업 시...</td>\n",
       "    </tr>\n",
       "    <tr>\n",
       "      <th>33</th>\n",
       "      <td>34</td>\n",
       "      <td>[수, 측정, 평면도형]</td>\n",
       "      <td>여러분 안녕하세요. 반갑습니다. 김연경 선생님이에요. 자 우리 친구들 오늘이요 뭔가...</td>\n",
       "    </tr>\n",
       "    <tr>\n",
       "      <th>34</th>\n",
       "      <td>35</td>\n",
       "      <td>[원, 직각, 비율, 평면도형]</td>\n",
       "      <td>네 여러분 안녕하세요 정말 반갑습니다 김연경 선생님이에요 자 우리 친구들 오늘은요 ...</td>\n",
       "    </tr>\n",
       "    <tr>\n",
       "      <th>35</th>\n",
       "      <td>36</td>\n",
       "      <td>[입체도형, 측정, 길이, 평면도형]</td>\n",
       "      <td>여러분 안녕하세요 반갑습니다 김양경선생님 이에요 자 우리 친구들 우리요 처음에는 계...</td>\n",
       "    </tr>\n",
       "    <tr>\n",
       "      <th>36</th>\n",
       "      <td>37</td>\n",
       "      <td>[입체도형, 도형, 원, 직각]</td>\n",
       "      <td>여러분 안녕하세요 정말 반갑습니다 김연경선생님 이에요 자 우리 친구들 오늘 배우는 ...</td>\n",
       "    </tr>\n",
       "    <tr>\n",
       "      <th>37</th>\n",
       "      <td>38</td>\n",
       "      <td>[도형, 대칭]</td>\n",
       "      <td>여러분 안녕하세요. 반갑습니다. 김연경 선생님이에요. 우리 친구들 오늘 도형의 대칭...</td>\n",
       "    </tr>\n",
       "    <tr>\n",
       "      <th>38</th>\n",
       "      <td>39</td>\n",
       "      <td>[수, 통계, 그래프]</td>\n",
       "      <td>여러분 안녕하세요 반갑습니다 김연경 선생님 이에요 자 우리 친구들 선생님과 함께 5...</td>\n",
       "    </tr>\n",
       "    <tr>\n",
       "      <th>39</th>\n",
       "      <td>40</td>\n",
       "      <td>[비율, 비례식, 비, 그래프]</td>\n",
       "      <td>여러분 안녕하세요. 반갑습니다. 김연경 선생님이에요. 우리 친구들 선생님과 함께 5...</td>\n",
       "    </tr>\n",
       "    <tr>\n",
       "      <th>40</th>\n",
       "      <td>41</td>\n",
       "      <td>[그래프, 비율, 통계]</td>\n",
       "      <td>그런데 우리 친구들 방금 전에 봤던 띠 그래프랑 조금 모양이 달라요 음식물, 플라스...</td>\n",
       "    </tr>\n",
       "    <tr>\n",
       "      <th>41</th>\n",
       "      <td>42</td>\n",
       "      <td>[비율, 비례식, 비]</td>\n",
       "      <td>여러분, 안녕하세요. 반갑습니다. 김연경 선생님이에요. 자, 우리 친구들 5학년부터...</td>\n",
       "    </tr>\n",
       "    <tr>\n",
       "      <th>42</th>\n",
       "      <td>43</td>\n",
       "      <td>[곱셈, 비율, 비례식]</td>\n",
       "      <td>2를 곱했잖아요. 4 2 8 한거죠. 4 곱하기 2를 한 것입니다. 그래서 이것이 ...</td>\n",
       "    </tr>\n",
       "    <tr>\n",
       "      <th>43</th>\n",
       "      <td>44</td>\n",
       "      <td>[확률]</td>\n",
       "      <td>여러분 안녕하세요 반갑습니다. 김연경 선생님이에요.  자 우리 친구들 오늘이요 굉장...</td>\n",
       "    </tr>\n",
       "    <tr>\n",
       "      <th>44</th>\n",
       "      <td>45</td>\n",
       "      <td>[미지수, 함수, 덧셈, 뺄셈, 나눗셈, 곱셈]</td>\n",
       "      <td>7종류의 퀴즈 힌트를 찾아가보시죠 可以 하apter 요 sign 여 여 여 여 만남...</td>\n",
       "    </tr>\n",
       "  </tbody>\n",
       "</table>\n",
       "</div>"
      ],
      "text/plain": [
       "     강의                          태그  \\\n",
       "0    1강                  [0, 11, 7]   \n",
       "1    2강                   [0, 1, 2]   \n",
       "2    3강                      [3, 0]   \n",
       "3    4강           [4, 3, 9, 10, 11]   \n",
       "4    5강       [0, 1, 2, 3, 4, 5, 6]   \n",
       "5    6강                [0, 5, 1, 2]   \n",
       "6    7강            [0, 6, 7, 9, 22]   \n",
       "7    8강          [0, 1, 2, 5, 6, 7]   \n",
       "8    9강             [0, 6, 7, 1, 2]   \n",
       "9   10강             [0, 12, 13, 18]   \n",
       "10  11강            [13, 15, 16, 18]   \n",
       "11  12강              [0, 13, 17, 8]   \n",
       "12  13강         [8, 13, 15, 12, 18]   \n",
       "13  14강        [15, 18, 13, 12, 11]   \n",
       "14  15강            [12, 13, 15, 18]   \n",
       "15  16강                  [8, 11, 9]   \n",
       "16  17강               [8, 11, 1, 2]   \n",
       "17  18강        [12, 18, 11, 13, 15]   \n",
       "18  19강   [8, 3, 4, 11, 18, 13, 15]   \n",
       "19  20강        [0, 1, 6, 5, 19, 11]   \n",
       "20  21강            [0, 1, 2, 7, 11]   \n",
       "21  22강             [1, 22, 23, 11]   \n",
       "22   23                     [수, 규칙]   \n",
       "23   24            [수, 비율, 비례식, 함수]   \n",
       "24   25           [약수, 배수, 곱셈, 나눗셈]   \n",
       "25   26           [나눗셈, 분수, 약수, 배수]   \n",
       "26   27             [수, 덧셈, 뺄셈, 분수]   \n",
       "27   28          [분수, 곱셈, 측정, 평면도형]   \n",
       "28   29               [분수, 나눗셈, 곱셈]   \n",
       "29   30            [분수, 소수, 곱셈, 길이]   \n",
       "30   31                   [나눗셈, 소수]   \n",
       "31   32                [수, 소수, 나눗셈]   \n",
       "32   33            [수, 소수, 분수, 나눗셈]   \n",
       "33   34               [수, 측정, 평면도형]   \n",
       "34   35           [원, 직각, 비율, 평면도형]   \n",
       "35   36        [입체도형, 측정, 길이, 평면도형]   \n",
       "36   37           [입체도형, 도형, 원, 직각]   \n",
       "37   38                    [도형, 대칭]   \n",
       "38   39                [수, 통계, 그래프]   \n",
       "39   40           [비율, 비례식, 비, 그래프]   \n",
       "40   41               [그래프, 비율, 통계]   \n",
       "41   42                [비율, 비례식, 비]   \n",
       "42   43               [곱셈, 비율, 비례식]   \n",
       "43   44                        [확률]   \n",
       "44   45  [미지수, 함수, 덧셈, 뺄셈, 나눗셈, 곱셈]   \n",
       "\n",
       "                                                 text  \n",
       "0   안녕하세요 우리 친구들 만나서 반갑습니다. 여러분들과 함께 초등수학 개념 찾기로  ...  \n",
       "1   안녕하세요. 우리 EBS 친구들 반갑습니다. 여러분 어떻게 잘 지내셨어요? 선생님 ...  \n",
       "2   안녕하세요 우리 친구들 초등수학 개념 찾기 나소은 선생님입니다. 여러분!  이번 시...  \n",
       "3   여러분 안녕하세요. 자 우리 친구들과 함께 개념의 내용을 확실하게  잡아줄 아주 좋...  \n",
       "4   초등학교 학교 초등학교 학교 초등학교 학교 초등학교 학교 초등학교 학교 초등학교 학...  \n",
       "5   1. 2. 3. 4. 5. 6. 7. 8. 9. 10. 11. 12. 13. 14....  \n",
       "6   안녕하세요 우리 친구들 반갑습니다 안녕하세요 우리 친구들 반갑습니다  여러분들과 함...  \n",
       "7   초등수학의 개념 잡기 여러분들과 함께하는 초등수학의 개념 잡기 여러분들과 함께하는 ...  \n",
       "8   안녕하세요 우리 친구들 즐거운 수업시간입니다 선생님과 함께 할 준비 되셨죠? 우리 ...  \n",
       "9   안녕하세요 초등수학 개념 찾기 나소은 선생님입니다. 여러분 어때요? 오늘 하루도 즐...  \n",
       "10  그의 조립은 끝났다. 초등학과 여러분, 난 이미ing knife algorithm ...  \n",
       "11  안녕하세요. 우리 친구들 하루 어떻게 잘 보내고 계신가요? 우리 즐거운 수학시간이죠...  \n",
       "12  42cm다라고 얘기를 하고 있어요 작은 정삼각형 1개의 둘레의 길이를 묻고 있습니다...  \n",
       "13  두 개의 직선이 만나서 이루는 각이 직각입니다. 그래서 직각입니다. 두 직선이 만나...  \n",
       "14  안녕하세요 우리 친구들 즐거운 수학시간입니다 초등학생 개념 찾기 우리 이번 시간은요...  \n",
       "15  친한 친구 맞춰봐 왔어? 잠깐만 신난다 아파 어 뒤엣개 갖고 운동한 것 보세요 Ну...  \n",
       "16  할머니께서는 은정이 보다 감자를 몇 킬로그램 몇 그램 더 많이 캐셨는지 프리과정을 ...  \n",
       "17  안녕하세요 우리 친구들. 반가워요. 이번 시간은요 각도에 대해서 함께 알아보는 시간...  \n",
       "18  1킬로미터를 우리는 1000미터라고 얘기를 한단 말이에요. 그럼 이 1000미터 안...  \n",
       "19  안녕하세요. 우리 친구들 만나서 반갑습니다. 초등사학 기념잡기 여러분과 함께 할 시...  \n",
       "20  안녕하세요. 우리 친구들 초등수학 개념찾기 나소은 선생님입니다. 우리 친구들과 이번...  \n",
       "21  나라를 선택한 학생수는 20명에다가 4명씩 3칸 12만큼을 더하여서 32명이라고 답...  \n",
       "22  여러분 안녕하세요. 수학의 개념을 확실하게 잡아보는 시간이죠. 여러분과 함께 준비한...  \n",
       "23  해결해 준 것이다 라고도 표현해 줄 수 있게 되는 거고요. 표만 들어 문제를 해결하...  \n",
       "24  안녕하세요. 정말 반갑습니다. 김연경입니다. 오늘의 게스트는 김연경입니다. 안녕하세...  \n",
       "25  14 가 되어야 되는데요 나누기 4 를 해보세요 그러면 14 가 되나요 아 그렇군요...  \n",
       "26  여러분 안녕하세요. 정말 반갑습니다. 김연경 선생님입니다. 우리 친구들 기본 강의와...  \n",
       "27  색소프라노 여러분 안녕하세요 정말 반갑습니다 김연경 선생님이에요 자 우리 친구들 저...  \n",
       "28  여러분 안녕하세요 김연경 선생님입니다. 자, 우리 친구들 정말 축하합니다. 오늘은요...  \n",
       "29  여러분 안녕하세요. 반갑습니다. 김연경 선생님입니다. 우리 친구들 저번 시간까지는요...  \n",
       "30  여러분 안녕하세요. 반갑습니다. 김연경 선생님입니다. 자 우리 친구들 선생님이요 언...  \n",
       "31  오빠 енной이 비슷해보이지 않아요? 금일,  בכ사 wrote the stars...  \n",
       "32  여러분 안녕하세요 정말 반갑습니다 김연경 선생님이에요 자 우리 친구들 오늘 수업 시...  \n",
       "33  여러분 안녕하세요. 반갑습니다. 김연경 선생님이에요. 자 우리 친구들 오늘이요 뭔가...  \n",
       "34  네 여러분 안녕하세요 정말 반갑습니다 김연경 선생님이에요 자 우리 친구들 오늘은요 ...  \n",
       "35  여러분 안녕하세요 반갑습니다 김양경선생님 이에요 자 우리 친구들 우리요 처음에는 계...  \n",
       "36  여러분 안녕하세요 정말 반갑습니다 김연경선생님 이에요 자 우리 친구들 오늘 배우는 ...  \n",
       "37  여러분 안녕하세요. 반갑습니다. 김연경 선생님이에요. 우리 친구들 오늘 도형의 대칭...  \n",
       "38  여러분 안녕하세요 반갑습니다 김연경 선생님 이에요 자 우리 친구들 선생님과 함께 5...  \n",
       "39  여러분 안녕하세요. 반갑습니다. 김연경 선생님이에요. 우리 친구들 선생님과 함께 5...  \n",
       "40  그런데 우리 친구들 방금 전에 봤던 띠 그래프랑 조금 모양이 달라요 음식물, 플라스...  \n",
       "41  여러분, 안녕하세요. 반갑습니다. 김연경 선생님이에요. 자, 우리 친구들 5학년부터...  \n",
       "42  2를 곱했잖아요. 4 2 8 한거죠. 4 곱하기 2를 한 것입니다. 그래서 이것이 ...  \n",
       "43  여러분 안녕하세요 반갑습니다. 김연경 선생님이에요.  자 우리 친구들 오늘이요 굉장...  \n",
       "44  7종류의 퀴즈 힌트를 찾아가보시죠 可以 하apter 요 sign 여 여 여 여 만남...  "
      ]
     },
     "execution_count": 109,
     "metadata": {},
     "output_type": "execute_result"
    }
   ],
   "source": [
    "df_updated"
   ]
  },
  {
   "cell_type": "code",
   "execution_count": 113,
   "metadata": {},
   "outputs": [
    {
     "data": {
      "text/html": [
       "<div>\n",
       "<style scoped>\n",
       "    .dataframe tbody tr th:only-of-type {\n",
       "        vertical-align: middle;\n",
       "    }\n",
       "\n",
       "    .dataframe tbody tr th {\n",
       "        vertical-align: top;\n",
       "    }\n",
       "\n",
       "    .dataframe thead th {\n",
       "        text-align: right;\n",
       "    }\n",
       "</style>\n",
       "<table border=\"1\" class=\"dataframe\">\n",
       "  <thead>\n",
       "    <tr style=\"text-align: right;\">\n",
       "      <th></th>\n",
       "      <th>강의</th>\n",
       "      <th>태그</th>\n",
       "      <th>text</th>\n",
       "    </tr>\n",
       "  </thead>\n",
       "  <tbody>\n",
       "    <tr>\n",
       "      <th>22</th>\n",
       "      <td>23강</td>\n",
       "      <td>[0, 29]</td>\n",
       "      <td>여러분 안녕하세요. 수학의 개념을 확실하게 잡아보는 시간이죠. 여러분과 함께 준비한...</td>\n",
       "    </tr>\n",
       "    <tr>\n",
       "      <th>23</th>\n",
       "      <td>24강</td>\n",
       "      <td>[0, 19, 20, 27]</td>\n",
       "      <td>해결해 준 것이다 라고도 표현해 줄 수 있게 되는 거고요. 표만 들어 문제를 해결하...</td>\n",
       "    </tr>\n",
       "    <tr>\n",
       "      <th>24</th>\n",
       "      <td>25강</td>\n",
       "      <td>[25, 26, 3, 4]</td>\n",
       "      <td>안녕하세요. 정말 반갑습니다. 김연경입니다. 오늘의 게스트는 김연경입니다. 안녕하세...</td>\n",
       "    </tr>\n",
       "    <tr>\n",
       "      <th>25</th>\n",
       "      <td>26강</td>\n",
       "      <td>[4, 5, 25, 26]</td>\n",
       "      <td>14 가 되어야 되는데요 나누기 4 를 해보세요 그러면 14 가 되나요 아 그렇군요...</td>\n",
       "    </tr>\n",
       "    <tr>\n",
       "      <th>26</th>\n",
       "      <td>27강</td>\n",
       "      <td>[0, 1, 2, 5]</td>\n",
       "      <td>여러분 안녕하세요. 정말 반갑습니다. 김연경 선생님입니다. 우리 친구들 기본 강의와...</td>\n",
       "    </tr>\n",
       "    <tr>\n",
       "      <th>27</th>\n",
       "      <td>28강</td>\n",
       "      <td>[5, 3, 11, 13]</td>\n",
       "      <td>색소프라노 여러분 안녕하세요 정말 반갑습니다 김연경 선생님이에요 자 우리 친구들 저...</td>\n",
       "    </tr>\n",
       "    <tr>\n",
       "      <th>28</th>\n",
       "      <td>29강</td>\n",
       "      <td>[5, 4, 3]</td>\n",
       "      <td>여러분 안녕하세요 김연경 선생님입니다. 자, 우리 친구들 정말 축하합니다. 오늘은요...</td>\n",
       "    </tr>\n",
       "    <tr>\n",
       "      <th>29</th>\n",
       "      <td>30강</td>\n",
       "      <td>[5, 6, 3, 8]</td>\n",
       "      <td>여러분 안녕하세요. 반갑습니다. 김연경 선생님입니다. 우리 친구들 저번 시간까지는요...</td>\n",
       "    </tr>\n",
       "    <tr>\n",
       "      <th>30</th>\n",
       "      <td>31강</td>\n",
       "      <td>[4, 6]</td>\n",
       "      <td>여러분 안녕하세요. 반갑습니다. 김연경 선생님입니다. 자 우리 친구들 선생님이요 언...</td>\n",
       "    </tr>\n",
       "    <tr>\n",
       "      <th>31</th>\n",
       "      <td>32강</td>\n",
       "      <td>[0, 6, 4]</td>\n",
       "      <td>오빠 енной이 비슷해보이지 않아요? 금일,  בכ사 wrote the stars...</td>\n",
       "    </tr>\n",
       "    <tr>\n",
       "      <th>32</th>\n",
       "      <td>33강</td>\n",
       "      <td>[0, 6, 5, 4]</td>\n",
       "      <td>여러분 안녕하세요 정말 반갑습니다 김연경 선생님이에요 자 우리 친구들 오늘 수업 시...</td>\n",
       "    </tr>\n",
       "    <tr>\n",
       "      <th>33</th>\n",
       "      <td>34강</td>\n",
       "      <td>[0, 11, 13]</td>\n",
       "      <td>여러분 안녕하세요. 반갑습니다. 김연경 선생님이에요. 자 우리 친구들 오늘이요 뭔가...</td>\n",
       "    </tr>\n",
       "    <tr>\n",
       "      <th>34</th>\n",
       "      <td>35강</td>\n",
       "      <td>[17, 18, 19, 13]</td>\n",
       "      <td>네 여러분 안녕하세요 정말 반갑습니다 김연경 선생님이에요 자 우리 친구들 오늘은요 ...</td>\n",
       "    </tr>\n",
       "    <tr>\n",
       "      <th>35</th>\n",
       "      <td>36강</td>\n",
       "      <td>[14, 11, 8, 13]</td>\n",
       "      <td>여러분 안녕하세요 반갑습니다 김양경선생님 이에요 자 우리 친구들 우리요 처음에는 계...</td>\n",
       "    </tr>\n",
       "    <tr>\n",
       "      <th>36</th>\n",
       "      <td>37강</td>\n",
       "      <td>[14, 15, 17, 18]</td>\n",
       "      <td>여러분 안녕하세요 정말 반갑습니다 김연경선생님 이에요 자 우리 친구들 오늘 배우는 ...</td>\n",
       "    </tr>\n",
       "    <tr>\n",
       "      <th>37</th>\n",
       "      <td>38강</td>\n",
       "      <td>[15, 16]</td>\n",
       "      <td>여러분 안녕하세요. 반갑습니다. 김연경 선생님이에요. 우리 친구들 오늘 도형의 대칭...</td>\n",
       "    </tr>\n",
       "    <tr>\n",
       "      <th>38</th>\n",
       "      <td>39강</td>\n",
       "      <td>[0, 23, 22]</td>\n",
       "      <td>여러분 안녕하세요 반갑습니다 김연경 선생님 이에요 자 우리 친구들 선생님과 함께 5...</td>\n",
       "    </tr>\n",
       "    <tr>\n",
       "      <th>39</th>\n",
       "      <td>40강</td>\n",
       "      <td>[19, 20, 21, 22]</td>\n",
       "      <td>여러분 안녕하세요. 반갑습니다. 김연경 선생님이에요. 우리 친구들 선생님과 함께 5...</td>\n",
       "    </tr>\n",
       "    <tr>\n",
       "      <th>40</th>\n",
       "      <td>41강</td>\n",
       "      <td>[22, 19, 23]</td>\n",
       "      <td>그런데 우리 친구들 방금 전에 봤던 띠 그래프랑 조금 모양이 달라요 음식물, 플라스...</td>\n",
       "    </tr>\n",
       "    <tr>\n",
       "      <th>41</th>\n",
       "      <td>42강</td>\n",
       "      <td>[19, 20, 21]</td>\n",
       "      <td>여러분, 안녕하세요. 반갑습니다. 김연경 선생님이에요. 자, 우리 친구들 5학년부터...</td>\n",
       "    </tr>\n",
       "    <tr>\n",
       "      <th>42</th>\n",
       "      <td>43강</td>\n",
       "      <td>[3, 19, 20]</td>\n",
       "      <td>2를 곱했잖아요. 4 2 8 한거죠. 4 곱하기 2를 한 것입니다. 그래서 이것이 ...</td>\n",
       "    </tr>\n",
       "    <tr>\n",
       "      <th>43</th>\n",
       "      <td>44강</td>\n",
       "      <td>[24]</td>\n",
       "      <td>여러분 안녕하세요 반갑습니다. 김연경 선생님이에요.  자 우리 친구들 오늘이요 굉장...</td>\n",
       "    </tr>\n",
       "    <tr>\n",
       "      <th>44</th>\n",
       "      <td>45강</td>\n",
       "      <td>[28, 27, 1, 2, 4, 3]</td>\n",
       "      <td>7종류의 퀴즈 힌트를 찾아가보시죠 可以 하apter 요 sign 여 여 여 여 만남...</td>\n",
       "    </tr>\n",
       "  </tbody>\n",
       "</table>\n",
       "</div>"
      ],
      "text/plain": [
       "     강의                    태그  \\\n",
       "22  23강               [0, 29]   \n",
       "23  24강       [0, 19, 20, 27]   \n",
       "24  25강        [25, 26, 3, 4]   \n",
       "25  26강        [4, 5, 25, 26]   \n",
       "26  27강          [0, 1, 2, 5]   \n",
       "27  28강        [5, 3, 11, 13]   \n",
       "28  29강             [5, 4, 3]   \n",
       "29  30강          [5, 6, 3, 8]   \n",
       "30  31강                [4, 6]   \n",
       "31  32강             [0, 6, 4]   \n",
       "32  33강          [0, 6, 5, 4]   \n",
       "33  34강           [0, 11, 13]   \n",
       "34  35강      [17, 18, 19, 13]   \n",
       "35  36강       [14, 11, 8, 13]   \n",
       "36  37강      [14, 15, 17, 18]   \n",
       "37  38강              [15, 16]   \n",
       "38  39강           [0, 23, 22]   \n",
       "39  40강      [19, 20, 21, 22]   \n",
       "40  41강          [22, 19, 23]   \n",
       "41  42강          [19, 20, 21]   \n",
       "42  43강           [3, 19, 20]   \n",
       "43  44강                  [24]   \n",
       "44  45강  [28, 27, 1, 2, 4, 3]   \n",
       "\n",
       "                                                 text  \n",
       "22  여러분 안녕하세요. 수학의 개념을 확실하게 잡아보는 시간이죠. 여러분과 함께 준비한...  \n",
       "23  해결해 준 것이다 라고도 표현해 줄 수 있게 되는 거고요. 표만 들어 문제를 해결하...  \n",
       "24  안녕하세요. 정말 반갑습니다. 김연경입니다. 오늘의 게스트는 김연경입니다. 안녕하세...  \n",
       "25  14 가 되어야 되는데요 나누기 4 를 해보세요 그러면 14 가 되나요 아 그렇군요...  \n",
       "26  여러분 안녕하세요. 정말 반갑습니다. 김연경 선생님입니다. 우리 친구들 기본 강의와...  \n",
       "27  색소프라노 여러분 안녕하세요 정말 반갑습니다 김연경 선생님이에요 자 우리 친구들 저...  \n",
       "28  여러분 안녕하세요 김연경 선생님입니다. 자, 우리 친구들 정말 축하합니다. 오늘은요...  \n",
       "29  여러분 안녕하세요. 반갑습니다. 김연경 선생님입니다. 우리 친구들 저번 시간까지는요...  \n",
       "30  여러분 안녕하세요. 반갑습니다. 김연경 선생님입니다. 자 우리 친구들 선생님이요 언...  \n",
       "31  오빠 енной이 비슷해보이지 않아요? 금일,  בכ사 wrote the stars...  \n",
       "32  여러분 안녕하세요 정말 반갑습니다 김연경 선생님이에요 자 우리 친구들 오늘 수업 시...  \n",
       "33  여러분 안녕하세요. 반갑습니다. 김연경 선생님이에요. 자 우리 친구들 오늘이요 뭔가...  \n",
       "34  네 여러분 안녕하세요 정말 반갑습니다 김연경 선생님이에요 자 우리 친구들 오늘은요 ...  \n",
       "35  여러분 안녕하세요 반갑습니다 김양경선생님 이에요 자 우리 친구들 우리요 처음에는 계...  \n",
       "36  여러분 안녕하세요 정말 반갑습니다 김연경선생님 이에요 자 우리 친구들 오늘 배우는 ...  \n",
       "37  여러분 안녕하세요. 반갑습니다. 김연경 선생님이에요. 우리 친구들 오늘 도형의 대칭...  \n",
       "38  여러분 안녕하세요 반갑습니다 김연경 선생님 이에요 자 우리 친구들 선생님과 함께 5...  \n",
       "39  여러분 안녕하세요. 반갑습니다. 김연경 선생님이에요. 우리 친구들 선생님과 함께 5...  \n",
       "40  그런데 우리 친구들 방금 전에 봤던 띠 그래프랑 조금 모양이 달라요 음식물, 플라스...  \n",
       "41  여러분, 안녕하세요. 반갑습니다. 김연경 선생님이에요. 자, 우리 친구들 5학년부터...  \n",
       "42  2를 곱했잖아요. 4 2 8 한거죠. 4 곱하기 2를 한 것입니다. 그래서 이것이 ...  \n",
       "43  여러분 안녕하세요 반갑습니다. 김연경 선생님이에요.  자 우리 친구들 오늘이요 굉장...  \n",
       "44  7종류의 퀴즈 힌트를 찾아가보시죠 可以 하apter 요 sign 여 여 여 여 만남...  "
      ]
     },
     "execution_count": 113,
     "metadata": {},
     "output_type": "execute_result"
    }
   ],
   "source": [
    "import ast\n",
    "\n",
    "\n",
    "# 태그 데이터 타입 확인 및 변환 함수\n",
    "def validate_tags(tags):\n",
    "    # 문자열로 예상되는 태그 리스트를 평가\n",
    "    tag_list = ast.literal_eval(tags)\n",
    "    # 각 태그를 해당하는 숫자로 변환\n",
    "    return [labels_dict[tag] for tag in tag_list]\n",
    "\n",
    "\n",
    "# 데이터프레임 로드\n",
    "df = pd.read_csv(\"./updated_df.csv\")\n",
    "\n",
    "# 태그 라벨 인코딩 및 '강의' 열 수정\n",
    "df.loc[22:45, \"태그\"] = df.loc[22:45, \"태그\"].apply(validate_tags)\n",
    "df.loc[22:45, \"강의\"] += \"강\"\n",
    "\n",
    "# 변환된 데이터프레임 저장\n",
    "df.to_csv(\"./df_ebs.csv\", index=False)\n",
    "\n",
    "# 결과 확인\n",
    "df.loc[22:45]"
   ]
  },
  {
   "cell_type": "code",
   "execution_count": 114,
   "metadata": {},
   "outputs": [
    {
     "data": {
      "text/html": [
       "<div>\n",
       "<style scoped>\n",
       "    .dataframe tbody tr th:only-of-type {\n",
       "        vertical-align: middle;\n",
       "    }\n",
       "\n",
       "    .dataframe tbody tr th {\n",
       "        vertical-align: top;\n",
       "    }\n",
       "\n",
       "    .dataframe thead th {\n",
       "        text-align: right;\n",
       "    }\n",
       "</style>\n",
       "<table border=\"1\" class=\"dataframe\">\n",
       "  <thead>\n",
       "    <tr style=\"text-align: right;\">\n",
       "      <th></th>\n",
       "      <th>강의</th>\n",
       "      <th>태그</th>\n",
       "      <th>text</th>\n",
       "    </tr>\n",
       "  </thead>\n",
       "  <tbody>\n",
       "    <tr>\n",
       "      <th>0</th>\n",
       "      <td>1강</td>\n",
       "      <td>[0, 11, 7]</td>\n",
       "      <td>안녕하세요 우리 친구들 만나서 반갑습니다. 여러분들과 함께 초등수학 개념 찾기로  ...</td>\n",
       "    </tr>\n",
       "    <tr>\n",
       "      <th>1</th>\n",
       "      <td>2강</td>\n",
       "      <td>[0, 1, 2]</td>\n",
       "      <td>안녕하세요. 우리 EBS 친구들 반갑습니다. 여러분 어떻게 잘 지내셨어요? 선생님 ...</td>\n",
       "    </tr>\n",
       "    <tr>\n",
       "      <th>2</th>\n",
       "      <td>3강</td>\n",
       "      <td>[3, 0]</td>\n",
       "      <td>안녕하세요 우리 친구들 초등수학 개념 찾기 나소은 선생님입니다. 여러분!  이번 시...</td>\n",
       "    </tr>\n",
       "    <tr>\n",
       "      <th>3</th>\n",
       "      <td>4강</td>\n",
       "      <td>[4, 3, 9, 10, 11]</td>\n",
       "      <td>여러분 안녕하세요. 자 우리 친구들과 함께 개념의 내용을 확실하게  잡아줄 아주 좋...</td>\n",
       "    </tr>\n",
       "    <tr>\n",
       "      <th>4</th>\n",
       "      <td>5강</td>\n",
       "      <td>[0, 1, 2, 3, 4, 5, 6]</td>\n",
       "      <td>초등학교 학교 초등학교 학교 초등학교 학교 초등학교 학교 초등학교 학교 초등학교 학...</td>\n",
       "    </tr>\n",
       "    <tr>\n",
       "      <th>5</th>\n",
       "      <td>6강</td>\n",
       "      <td>[0, 5, 1, 2]</td>\n",
       "      <td>1. 2. 3. 4. 5. 6. 7. 8. 9. 10. 11. 12. 13. 14....</td>\n",
       "    </tr>\n",
       "    <tr>\n",
       "      <th>6</th>\n",
       "      <td>7강</td>\n",
       "      <td>[0, 6, 7, 9, 22]</td>\n",
       "      <td>안녕하세요 우리 친구들 반갑습니다 안녕하세요 우리 친구들 반갑습니다  여러분들과 함...</td>\n",
       "    </tr>\n",
       "    <tr>\n",
       "      <th>7</th>\n",
       "      <td>8강</td>\n",
       "      <td>[0, 1, 2, 5, 6, 7]</td>\n",
       "      <td>초등수학의 개념 잡기 여러분들과 함께하는 초등수학의 개념 잡기 여러분들과 함께하는 ...</td>\n",
       "    </tr>\n",
       "    <tr>\n",
       "      <th>8</th>\n",
       "      <td>9강</td>\n",
       "      <td>[0, 6, 7, 1, 2]</td>\n",
       "      <td>안녕하세요 우리 친구들 즐거운 수업시간입니다 선생님과 함께 할 준비 되셨죠? 우리 ...</td>\n",
       "    </tr>\n",
       "    <tr>\n",
       "      <th>9</th>\n",
       "      <td>10강</td>\n",
       "      <td>[0, 12, 13, 18]</td>\n",
       "      <td>안녕하세요 초등수학 개념 찾기 나소은 선생님입니다. 여러분 어때요? 오늘 하루도 즐...</td>\n",
       "    </tr>\n",
       "    <tr>\n",
       "      <th>10</th>\n",
       "      <td>11강</td>\n",
       "      <td>[13, 15, 16, 18]</td>\n",
       "      <td>그의 조립은 끝났다. 초등학과 여러분, 난 이미ing knife algorithm ...</td>\n",
       "    </tr>\n",
       "    <tr>\n",
       "      <th>11</th>\n",
       "      <td>12강</td>\n",
       "      <td>[0, 13, 17, 8]</td>\n",
       "      <td>안녕하세요. 우리 친구들 하루 어떻게 잘 보내고 계신가요? 우리 즐거운 수학시간이죠...</td>\n",
       "    </tr>\n",
       "    <tr>\n",
       "      <th>12</th>\n",
       "      <td>13강</td>\n",
       "      <td>[8, 13, 15, 12, 18]</td>\n",
       "      <td>42cm다라고 얘기를 하고 있어요 작은 정삼각형 1개의 둘레의 길이를 묻고 있습니다...</td>\n",
       "    </tr>\n",
       "    <tr>\n",
       "      <th>13</th>\n",
       "      <td>14강</td>\n",
       "      <td>[15, 18, 13, 12, 11]</td>\n",
       "      <td>두 개의 직선이 만나서 이루는 각이 직각입니다. 그래서 직각입니다. 두 직선이 만나...</td>\n",
       "    </tr>\n",
       "    <tr>\n",
       "      <th>14</th>\n",
       "      <td>15강</td>\n",
       "      <td>[12, 13, 15, 18]</td>\n",
       "      <td>안녕하세요 우리 친구들 즐거운 수학시간입니다 초등학생 개념 찾기 우리 이번 시간은요...</td>\n",
       "    </tr>\n",
       "    <tr>\n",
       "      <th>15</th>\n",
       "      <td>16강</td>\n",
       "      <td>[8, 11, 9]</td>\n",
       "      <td>친한 친구 맞춰봐 왔어? 잠깐만 신난다 아파 어 뒤엣개 갖고 운동한 것 보세요 Ну...</td>\n",
       "    </tr>\n",
       "    <tr>\n",
       "      <th>16</th>\n",
       "      <td>17강</td>\n",
       "      <td>[8, 11, 1, 2]</td>\n",
       "      <td>할머니께서는 은정이 보다 감자를 몇 킬로그램 몇 그램 더 많이 캐셨는지 프리과정을 ...</td>\n",
       "    </tr>\n",
       "    <tr>\n",
       "      <th>17</th>\n",
       "      <td>18강</td>\n",
       "      <td>[12, 18, 11, 13, 15]</td>\n",
       "      <td>안녕하세요 우리 친구들. 반가워요. 이번 시간은요 각도에 대해서 함께 알아보는 시간...</td>\n",
       "    </tr>\n",
       "    <tr>\n",
       "      <th>18</th>\n",
       "      <td>19강</td>\n",
       "      <td>[8, 3, 4, 11, 18, 13, 15]</td>\n",
       "      <td>1킬로미터를 우리는 1000미터라고 얘기를 한단 말이에요. 그럼 이 1000미터 안...</td>\n",
       "    </tr>\n",
       "    <tr>\n",
       "      <th>19</th>\n",
       "      <td>20강</td>\n",
       "      <td>[0, 1, 6, 5, 19, 11]</td>\n",
       "      <td>안녕하세요. 우리 친구들 만나서 반갑습니다. 초등사학 기념잡기 여러분과 함께 할 시...</td>\n",
       "    </tr>\n",
       "    <tr>\n",
       "      <th>20</th>\n",
       "      <td>21강</td>\n",
       "      <td>[0, 1, 2, 7, 11]</td>\n",
       "      <td>안녕하세요. 우리 친구들 초등수학 개념찾기 나소은 선생님입니다. 우리 친구들과 이번...</td>\n",
       "    </tr>\n",
       "    <tr>\n",
       "      <th>21</th>\n",
       "      <td>22강</td>\n",
       "      <td>[1, 22, 23, 11]</td>\n",
       "      <td>나라를 선택한 학생수는 20명에다가 4명씩 3칸 12만큼을 더하여서 32명이라고 답...</td>\n",
       "    </tr>\n",
       "    <tr>\n",
       "      <th>22</th>\n",
       "      <td>23강</td>\n",
       "      <td>[0, 29]</td>\n",
       "      <td>여러분 안녕하세요. 수학의 개념을 확실하게 잡아보는 시간이죠. 여러분과 함께 준비한...</td>\n",
       "    </tr>\n",
       "    <tr>\n",
       "      <th>23</th>\n",
       "      <td>24강</td>\n",
       "      <td>[0, 19, 20, 27]</td>\n",
       "      <td>해결해 준 것이다 라고도 표현해 줄 수 있게 되는 거고요. 표만 들어 문제를 해결하...</td>\n",
       "    </tr>\n",
       "    <tr>\n",
       "      <th>24</th>\n",
       "      <td>25강</td>\n",
       "      <td>[25, 26, 3, 4]</td>\n",
       "      <td>안녕하세요. 정말 반갑습니다. 김연경입니다. 오늘의 게스트는 김연경입니다. 안녕하세...</td>\n",
       "    </tr>\n",
       "    <tr>\n",
       "      <th>25</th>\n",
       "      <td>26강</td>\n",
       "      <td>[4, 5, 25, 26]</td>\n",
       "      <td>14 가 되어야 되는데요 나누기 4 를 해보세요 그러면 14 가 되나요 아 그렇군요...</td>\n",
       "    </tr>\n",
       "    <tr>\n",
       "      <th>26</th>\n",
       "      <td>27강</td>\n",
       "      <td>[0, 1, 2, 5]</td>\n",
       "      <td>여러분 안녕하세요. 정말 반갑습니다. 김연경 선생님입니다. 우리 친구들 기본 강의와...</td>\n",
       "    </tr>\n",
       "    <tr>\n",
       "      <th>27</th>\n",
       "      <td>28강</td>\n",
       "      <td>[5, 3, 11, 13]</td>\n",
       "      <td>색소프라노 여러분 안녕하세요 정말 반갑습니다 김연경 선생님이에요 자 우리 친구들 저...</td>\n",
       "    </tr>\n",
       "    <tr>\n",
       "      <th>28</th>\n",
       "      <td>29강</td>\n",
       "      <td>[5, 4, 3]</td>\n",
       "      <td>여러분 안녕하세요 김연경 선생님입니다. 자, 우리 친구들 정말 축하합니다. 오늘은요...</td>\n",
       "    </tr>\n",
       "    <tr>\n",
       "      <th>29</th>\n",
       "      <td>30강</td>\n",
       "      <td>[5, 6, 3, 8]</td>\n",
       "      <td>여러분 안녕하세요. 반갑습니다. 김연경 선생님입니다. 우리 친구들 저번 시간까지는요...</td>\n",
       "    </tr>\n",
       "    <tr>\n",
       "      <th>30</th>\n",
       "      <td>31강</td>\n",
       "      <td>[4, 6]</td>\n",
       "      <td>여러분 안녕하세요. 반갑습니다. 김연경 선생님입니다. 자 우리 친구들 선생님이요 언...</td>\n",
       "    </tr>\n",
       "    <tr>\n",
       "      <th>31</th>\n",
       "      <td>32강</td>\n",
       "      <td>[0, 6, 4]</td>\n",
       "      <td>오빠 енной이 비슷해보이지 않아요? 금일,  בכ사 wrote the stars...</td>\n",
       "    </tr>\n",
       "    <tr>\n",
       "      <th>32</th>\n",
       "      <td>33강</td>\n",
       "      <td>[0, 6, 5, 4]</td>\n",
       "      <td>여러분 안녕하세요 정말 반갑습니다 김연경 선생님이에요 자 우리 친구들 오늘 수업 시...</td>\n",
       "    </tr>\n",
       "    <tr>\n",
       "      <th>33</th>\n",
       "      <td>34강</td>\n",
       "      <td>[0, 11, 13]</td>\n",
       "      <td>여러분 안녕하세요. 반갑습니다. 김연경 선생님이에요. 자 우리 친구들 오늘이요 뭔가...</td>\n",
       "    </tr>\n",
       "    <tr>\n",
       "      <th>34</th>\n",
       "      <td>35강</td>\n",
       "      <td>[17, 18, 19, 13]</td>\n",
       "      <td>네 여러분 안녕하세요 정말 반갑습니다 김연경 선생님이에요 자 우리 친구들 오늘은요 ...</td>\n",
       "    </tr>\n",
       "    <tr>\n",
       "      <th>35</th>\n",
       "      <td>36강</td>\n",
       "      <td>[14, 11, 8, 13]</td>\n",
       "      <td>여러분 안녕하세요 반갑습니다 김양경선생님 이에요 자 우리 친구들 우리요 처음에는 계...</td>\n",
       "    </tr>\n",
       "    <tr>\n",
       "      <th>36</th>\n",
       "      <td>37강</td>\n",
       "      <td>[14, 15, 17, 18]</td>\n",
       "      <td>여러분 안녕하세요 정말 반갑습니다 김연경선생님 이에요 자 우리 친구들 오늘 배우는 ...</td>\n",
       "    </tr>\n",
       "    <tr>\n",
       "      <th>37</th>\n",
       "      <td>38강</td>\n",
       "      <td>[15, 16]</td>\n",
       "      <td>여러분 안녕하세요. 반갑습니다. 김연경 선생님이에요. 우리 친구들 오늘 도형의 대칭...</td>\n",
       "    </tr>\n",
       "    <tr>\n",
       "      <th>38</th>\n",
       "      <td>39강</td>\n",
       "      <td>[0, 23, 22]</td>\n",
       "      <td>여러분 안녕하세요 반갑습니다 김연경 선생님 이에요 자 우리 친구들 선생님과 함께 5...</td>\n",
       "    </tr>\n",
       "    <tr>\n",
       "      <th>39</th>\n",
       "      <td>40강</td>\n",
       "      <td>[19, 20, 21, 22]</td>\n",
       "      <td>여러분 안녕하세요. 반갑습니다. 김연경 선생님이에요. 우리 친구들 선생님과 함께 5...</td>\n",
       "    </tr>\n",
       "    <tr>\n",
       "      <th>40</th>\n",
       "      <td>41강</td>\n",
       "      <td>[22, 19, 23]</td>\n",
       "      <td>그런데 우리 친구들 방금 전에 봤던 띠 그래프랑 조금 모양이 달라요 음식물, 플라스...</td>\n",
       "    </tr>\n",
       "    <tr>\n",
       "      <th>41</th>\n",
       "      <td>42강</td>\n",
       "      <td>[19, 20, 21]</td>\n",
       "      <td>여러분, 안녕하세요. 반갑습니다. 김연경 선생님이에요. 자, 우리 친구들 5학년부터...</td>\n",
       "    </tr>\n",
       "    <tr>\n",
       "      <th>42</th>\n",
       "      <td>43강</td>\n",
       "      <td>[3, 19, 20]</td>\n",
       "      <td>2를 곱했잖아요. 4 2 8 한거죠. 4 곱하기 2를 한 것입니다. 그래서 이것이 ...</td>\n",
       "    </tr>\n",
       "    <tr>\n",
       "      <th>43</th>\n",
       "      <td>44강</td>\n",
       "      <td>[24]</td>\n",
       "      <td>여러분 안녕하세요 반갑습니다. 김연경 선생님이에요.  자 우리 친구들 오늘이요 굉장...</td>\n",
       "    </tr>\n",
       "    <tr>\n",
       "      <th>44</th>\n",
       "      <td>45강</td>\n",
       "      <td>[28, 27, 1, 2, 4, 3]</td>\n",
       "      <td>7종류의 퀴즈 힌트를 찾아가보시죠 可以 하apter 요 sign 여 여 여 여 만남...</td>\n",
       "    </tr>\n",
       "  </tbody>\n",
       "</table>\n",
       "</div>"
      ],
      "text/plain": [
       "     강의                         태그  \\\n",
       "0    1강                 [0, 11, 7]   \n",
       "1    2강                  [0, 1, 2]   \n",
       "2    3강                     [3, 0]   \n",
       "3    4강          [4, 3, 9, 10, 11]   \n",
       "4    5강      [0, 1, 2, 3, 4, 5, 6]   \n",
       "5    6강               [0, 5, 1, 2]   \n",
       "6    7강           [0, 6, 7, 9, 22]   \n",
       "7    8강         [0, 1, 2, 5, 6, 7]   \n",
       "8    9강            [0, 6, 7, 1, 2]   \n",
       "9   10강            [0, 12, 13, 18]   \n",
       "10  11강           [13, 15, 16, 18]   \n",
       "11  12강             [0, 13, 17, 8]   \n",
       "12  13강        [8, 13, 15, 12, 18]   \n",
       "13  14강       [15, 18, 13, 12, 11]   \n",
       "14  15강           [12, 13, 15, 18]   \n",
       "15  16강                 [8, 11, 9]   \n",
       "16  17강              [8, 11, 1, 2]   \n",
       "17  18강       [12, 18, 11, 13, 15]   \n",
       "18  19강  [8, 3, 4, 11, 18, 13, 15]   \n",
       "19  20강       [0, 1, 6, 5, 19, 11]   \n",
       "20  21강           [0, 1, 2, 7, 11]   \n",
       "21  22강            [1, 22, 23, 11]   \n",
       "22  23강                    [0, 29]   \n",
       "23  24강            [0, 19, 20, 27]   \n",
       "24  25강             [25, 26, 3, 4]   \n",
       "25  26강             [4, 5, 25, 26]   \n",
       "26  27강               [0, 1, 2, 5]   \n",
       "27  28강             [5, 3, 11, 13]   \n",
       "28  29강                  [5, 4, 3]   \n",
       "29  30강               [5, 6, 3, 8]   \n",
       "30  31강                     [4, 6]   \n",
       "31  32강                  [0, 6, 4]   \n",
       "32  33강               [0, 6, 5, 4]   \n",
       "33  34강                [0, 11, 13]   \n",
       "34  35강           [17, 18, 19, 13]   \n",
       "35  36강            [14, 11, 8, 13]   \n",
       "36  37강           [14, 15, 17, 18]   \n",
       "37  38강                   [15, 16]   \n",
       "38  39강                [0, 23, 22]   \n",
       "39  40강           [19, 20, 21, 22]   \n",
       "40  41강               [22, 19, 23]   \n",
       "41  42강               [19, 20, 21]   \n",
       "42  43강                [3, 19, 20]   \n",
       "43  44강                       [24]   \n",
       "44  45강       [28, 27, 1, 2, 4, 3]   \n",
       "\n",
       "                                                 text  \n",
       "0   안녕하세요 우리 친구들 만나서 반갑습니다. 여러분들과 함께 초등수학 개념 찾기로  ...  \n",
       "1   안녕하세요. 우리 EBS 친구들 반갑습니다. 여러분 어떻게 잘 지내셨어요? 선생님 ...  \n",
       "2   안녕하세요 우리 친구들 초등수학 개념 찾기 나소은 선생님입니다. 여러분!  이번 시...  \n",
       "3   여러분 안녕하세요. 자 우리 친구들과 함께 개념의 내용을 확실하게  잡아줄 아주 좋...  \n",
       "4   초등학교 학교 초등학교 학교 초등학교 학교 초등학교 학교 초등학교 학교 초등학교 학...  \n",
       "5   1. 2. 3. 4. 5. 6. 7. 8. 9. 10. 11. 12. 13. 14....  \n",
       "6   안녕하세요 우리 친구들 반갑습니다 안녕하세요 우리 친구들 반갑습니다  여러분들과 함...  \n",
       "7   초등수학의 개념 잡기 여러분들과 함께하는 초등수학의 개념 잡기 여러분들과 함께하는 ...  \n",
       "8   안녕하세요 우리 친구들 즐거운 수업시간입니다 선생님과 함께 할 준비 되셨죠? 우리 ...  \n",
       "9   안녕하세요 초등수학 개념 찾기 나소은 선생님입니다. 여러분 어때요? 오늘 하루도 즐...  \n",
       "10  그의 조립은 끝났다. 초등학과 여러분, 난 이미ing knife algorithm ...  \n",
       "11  안녕하세요. 우리 친구들 하루 어떻게 잘 보내고 계신가요? 우리 즐거운 수학시간이죠...  \n",
       "12  42cm다라고 얘기를 하고 있어요 작은 정삼각형 1개의 둘레의 길이를 묻고 있습니다...  \n",
       "13  두 개의 직선이 만나서 이루는 각이 직각입니다. 그래서 직각입니다. 두 직선이 만나...  \n",
       "14  안녕하세요 우리 친구들 즐거운 수학시간입니다 초등학생 개념 찾기 우리 이번 시간은요...  \n",
       "15  친한 친구 맞춰봐 왔어? 잠깐만 신난다 아파 어 뒤엣개 갖고 운동한 것 보세요 Ну...  \n",
       "16  할머니께서는 은정이 보다 감자를 몇 킬로그램 몇 그램 더 많이 캐셨는지 프리과정을 ...  \n",
       "17  안녕하세요 우리 친구들. 반가워요. 이번 시간은요 각도에 대해서 함께 알아보는 시간...  \n",
       "18  1킬로미터를 우리는 1000미터라고 얘기를 한단 말이에요. 그럼 이 1000미터 안...  \n",
       "19  안녕하세요. 우리 친구들 만나서 반갑습니다. 초등사학 기념잡기 여러분과 함께 할 시...  \n",
       "20  안녕하세요. 우리 친구들 초등수학 개념찾기 나소은 선생님입니다. 우리 친구들과 이번...  \n",
       "21  나라를 선택한 학생수는 20명에다가 4명씩 3칸 12만큼을 더하여서 32명이라고 답...  \n",
       "22  여러분 안녕하세요. 수학의 개념을 확실하게 잡아보는 시간이죠. 여러분과 함께 준비한...  \n",
       "23  해결해 준 것이다 라고도 표현해 줄 수 있게 되는 거고요. 표만 들어 문제를 해결하...  \n",
       "24  안녕하세요. 정말 반갑습니다. 김연경입니다. 오늘의 게스트는 김연경입니다. 안녕하세...  \n",
       "25  14 가 되어야 되는데요 나누기 4 를 해보세요 그러면 14 가 되나요 아 그렇군요...  \n",
       "26  여러분 안녕하세요. 정말 반갑습니다. 김연경 선생님입니다. 우리 친구들 기본 강의와...  \n",
       "27  색소프라노 여러분 안녕하세요 정말 반갑습니다 김연경 선생님이에요 자 우리 친구들 저...  \n",
       "28  여러분 안녕하세요 김연경 선생님입니다. 자, 우리 친구들 정말 축하합니다. 오늘은요...  \n",
       "29  여러분 안녕하세요. 반갑습니다. 김연경 선생님입니다. 우리 친구들 저번 시간까지는요...  \n",
       "30  여러분 안녕하세요. 반갑습니다. 김연경 선생님입니다. 자 우리 친구들 선생님이요 언...  \n",
       "31  오빠 енной이 비슷해보이지 않아요? 금일,  בכ사 wrote the stars...  \n",
       "32  여러분 안녕하세요 정말 반갑습니다 김연경 선생님이에요 자 우리 친구들 오늘 수업 시...  \n",
       "33  여러분 안녕하세요. 반갑습니다. 김연경 선생님이에요. 자 우리 친구들 오늘이요 뭔가...  \n",
       "34  네 여러분 안녕하세요 정말 반갑습니다 김연경 선생님이에요 자 우리 친구들 오늘은요 ...  \n",
       "35  여러분 안녕하세요 반갑습니다 김양경선생님 이에요 자 우리 친구들 우리요 처음에는 계...  \n",
       "36  여러분 안녕하세요 정말 반갑습니다 김연경선생님 이에요 자 우리 친구들 오늘 배우는 ...  \n",
       "37  여러분 안녕하세요. 반갑습니다. 김연경 선생님이에요. 우리 친구들 오늘 도형의 대칭...  \n",
       "38  여러분 안녕하세요 반갑습니다 김연경 선생님 이에요 자 우리 친구들 선생님과 함께 5...  \n",
       "39  여러분 안녕하세요. 반갑습니다. 김연경 선생님이에요. 우리 친구들 선생님과 함께 5...  \n",
       "40  그런데 우리 친구들 방금 전에 봤던 띠 그래프랑 조금 모양이 달라요 음식물, 플라스...  \n",
       "41  여러분, 안녕하세요. 반갑습니다. 김연경 선생님이에요. 자, 우리 친구들 5학년부터...  \n",
       "42  2를 곱했잖아요. 4 2 8 한거죠. 4 곱하기 2를 한 것입니다. 그래서 이것이 ...  \n",
       "43  여러분 안녕하세요 반갑습니다. 김연경 선생님이에요.  자 우리 친구들 오늘이요 굉장...  \n",
       "44  7종류의 퀴즈 힌트를 찾아가보시죠 可以 하apter 요 sign 여 여 여 여 만남...  "
      ]
     },
     "execution_count": 114,
     "metadata": {},
     "output_type": "execute_result"
    }
   ],
   "source": [
    "df"
   ]
  },
  {
   "cell_type": "code",
   "execution_count": 120,
   "metadata": {},
   "outputs": [
    {
     "data": {
      "text/html": [
       "<div>\n",
       "<style scoped>\n",
       "    .dataframe tbody tr th:only-of-type {\n",
       "        vertical-align: middle;\n",
       "    }\n",
       "\n",
       "    .dataframe tbody tr th {\n",
       "        vertical-align: top;\n",
       "    }\n",
       "\n",
       "    .dataframe thead th {\n",
       "        text-align: right;\n",
       "    }\n",
       "</style>\n",
       "<table border=\"1\" class=\"dataframe\">\n",
       "  <thead>\n",
       "    <tr style=\"text-align: right;\">\n",
       "      <th></th>\n",
       "      <th>강의</th>\n",
       "      <th>태그</th>\n",
       "      <th>text</th>\n",
       "      <th>태그1</th>\n",
       "      <th>태그2</th>\n",
       "      <th>태그3</th>\n",
       "    </tr>\n",
       "  </thead>\n",
       "  <tbody>\n",
       "    <tr>\n",
       "      <th>0</th>\n",
       "      <td>1강</td>\n",
       "      <td>[0, 11, 7]</td>\n",
       "      <td>안녕하세요 우리 친구들 만나서 반갑습니다. 여러분들과 함께 초등수학 개념 찾기로  ...</td>\n",
       "      <td>0</td>\n",
       "      <td>11</td>\n",
       "      <td>7</td>\n",
       "    </tr>\n",
       "    <tr>\n",
       "      <th>1</th>\n",
       "      <td>2강</td>\n",
       "      <td>[0, 1, 2]</td>\n",
       "      <td>안녕하세요. 우리 EBS 친구들 반갑습니다. 여러분 어떻게 잘 지내셨어요? 선생님 ...</td>\n",
       "      <td>0</td>\n",
       "      <td>1</td>\n",
       "      <td>2</td>\n",
       "    </tr>\n",
       "    <tr>\n",
       "      <th>2</th>\n",
       "      <td>3강</td>\n",
       "      <td>[3, 0]</td>\n",
       "      <td>안녕하세요 우리 친구들 초등수학 개념 찾기 나소은 선생님입니다. 여러분!  이번 시...</td>\n",
       "      <td>3</td>\n",
       "      <td>0</td>\n",
       "      <td>&lt;NA&gt;</td>\n",
       "    </tr>\n",
       "    <tr>\n",
       "      <th>3</th>\n",
       "      <td>4강</td>\n",
       "      <td>[4, 3, 9, 10, 11]</td>\n",
       "      <td>여러분 안녕하세요. 자 우리 친구들과 함께 개념의 내용을 확실하게  잡아줄 아주 좋...</td>\n",
       "      <td>4</td>\n",
       "      <td>3</td>\n",
       "      <td>9</td>\n",
       "    </tr>\n",
       "    <tr>\n",
       "      <th>4</th>\n",
       "      <td>5강</td>\n",
       "      <td>[0, 1, 2, 3, 4, 5, 6]</td>\n",
       "      <td>초등학교 학교 초등학교 학교 초등학교 학교 초등학교 학교 초등학교 학교 초등학교 학...</td>\n",
       "      <td>0</td>\n",
       "      <td>1</td>\n",
       "      <td>2</td>\n",
       "    </tr>\n",
       "    <tr>\n",
       "      <th>5</th>\n",
       "      <td>6강</td>\n",
       "      <td>[0, 5, 1, 2]</td>\n",
       "      <td>1. 2. 3. 4. 5. 6. 7. 8. 9. 10. 11. 12. 13. 14....</td>\n",
       "      <td>0</td>\n",
       "      <td>5</td>\n",
       "      <td>1</td>\n",
       "    </tr>\n",
       "    <tr>\n",
       "      <th>6</th>\n",
       "      <td>7강</td>\n",
       "      <td>[0, 6, 7, 9, 22]</td>\n",
       "      <td>안녕하세요 우리 친구들 반갑습니다 안녕하세요 우리 친구들 반갑습니다  여러분들과 함...</td>\n",
       "      <td>0</td>\n",
       "      <td>6</td>\n",
       "      <td>7</td>\n",
       "    </tr>\n",
       "    <tr>\n",
       "      <th>7</th>\n",
       "      <td>8강</td>\n",
       "      <td>[0, 1, 2, 5, 6, 7]</td>\n",
       "      <td>초등수학의 개념 잡기 여러분들과 함께하는 초등수학의 개념 잡기 여러분들과 함께하는 ...</td>\n",
       "      <td>0</td>\n",
       "      <td>1</td>\n",
       "      <td>2</td>\n",
       "    </tr>\n",
       "    <tr>\n",
       "      <th>8</th>\n",
       "      <td>9강</td>\n",
       "      <td>[0, 6, 7, 1, 2]</td>\n",
       "      <td>안녕하세요 우리 친구들 즐거운 수업시간입니다 선생님과 함께 할 준비 되셨죠? 우리 ...</td>\n",
       "      <td>0</td>\n",
       "      <td>6</td>\n",
       "      <td>7</td>\n",
       "    </tr>\n",
       "    <tr>\n",
       "      <th>9</th>\n",
       "      <td>10강</td>\n",
       "      <td>[0, 12, 13, 18]</td>\n",
       "      <td>안녕하세요 초등수학 개념 찾기 나소은 선생님입니다. 여러분 어때요? 오늘 하루도 즐...</td>\n",
       "      <td>0</td>\n",
       "      <td>12</td>\n",
       "      <td>13</td>\n",
       "    </tr>\n",
       "    <tr>\n",
       "      <th>10</th>\n",
       "      <td>11강</td>\n",
       "      <td>[13, 15, 16, 18]</td>\n",
       "      <td>그의 조립은 끝났다. 초등학과 여러분, 난 이미ing knife algorithm ...</td>\n",
       "      <td>13</td>\n",
       "      <td>15</td>\n",
       "      <td>16</td>\n",
       "    </tr>\n",
       "    <tr>\n",
       "      <th>11</th>\n",
       "      <td>12강</td>\n",
       "      <td>[0, 13, 17, 8]</td>\n",
       "      <td>안녕하세요. 우리 친구들 하루 어떻게 잘 보내고 계신가요? 우리 즐거운 수학시간이죠...</td>\n",
       "      <td>0</td>\n",
       "      <td>13</td>\n",
       "      <td>17</td>\n",
       "    </tr>\n",
       "    <tr>\n",
       "      <th>12</th>\n",
       "      <td>13강</td>\n",
       "      <td>[8, 13, 15, 12, 18]</td>\n",
       "      <td>42cm다라고 얘기를 하고 있어요 작은 정삼각형 1개의 둘레의 길이를 묻고 있습니다...</td>\n",
       "      <td>8</td>\n",
       "      <td>13</td>\n",
       "      <td>15</td>\n",
       "    </tr>\n",
       "    <tr>\n",
       "      <th>13</th>\n",
       "      <td>14강</td>\n",
       "      <td>[15, 18, 13, 12, 11]</td>\n",
       "      <td>두 개의 직선이 만나서 이루는 각이 직각입니다. 그래서 직각입니다. 두 직선이 만나...</td>\n",
       "      <td>15</td>\n",
       "      <td>18</td>\n",
       "      <td>13</td>\n",
       "    </tr>\n",
       "    <tr>\n",
       "      <th>14</th>\n",
       "      <td>15강</td>\n",
       "      <td>[12, 13, 15, 18]</td>\n",
       "      <td>안녕하세요 우리 친구들 즐거운 수학시간입니다 초등학생 개념 찾기 우리 이번 시간은요...</td>\n",
       "      <td>12</td>\n",
       "      <td>13</td>\n",
       "      <td>15</td>\n",
       "    </tr>\n",
       "    <tr>\n",
       "      <th>15</th>\n",
       "      <td>16강</td>\n",
       "      <td>[8, 11, 9]</td>\n",
       "      <td>친한 친구 맞춰봐 왔어? 잠깐만 신난다 아파 어 뒤엣개 갖고 운동한 것 보세요 Ну...</td>\n",
       "      <td>8</td>\n",
       "      <td>11</td>\n",
       "      <td>9</td>\n",
       "    </tr>\n",
       "    <tr>\n",
       "      <th>16</th>\n",
       "      <td>17강</td>\n",
       "      <td>[8, 11, 1, 2]</td>\n",
       "      <td>할머니께서는 은정이 보다 감자를 몇 킬로그램 몇 그램 더 많이 캐셨는지 프리과정을 ...</td>\n",
       "      <td>8</td>\n",
       "      <td>11</td>\n",
       "      <td>1</td>\n",
       "    </tr>\n",
       "    <tr>\n",
       "      <th>17</th>\n",
       "      <td>18강</td>\n",
       "      <td>[12, 18, 11, 13, 15]</td>\n",
       "      <td>안녕하세요 우리 친구들. 반가워요. 이번 시간은요 각도에 대해서 함께 알아보는 시간...</td>\n",
       "      <td>12</td>\n",
       "      <td>18</td>\n",
       "      <td>11</td>\n",
       "    </tr>\n",
       "    <tr>\n",
       "      <th>18</th>\n",
       "      <td>19강</td>\n",
       "      <td>[8, 3, 4, 11, 18, 13, 15]</td>\n",
       "      <td>1킬로미터를 우리는 1000미터라고 얘기를 한단 말이에요. 그럼 이 1000미터 안...</td>\n",
       "      <td>8</td>\n",
       "      <td>3</td>\n",
       "      <td>4</td>\n",
       "    </tr>\n",
       "    <tr>\n",
       "      <th>19</th>\n",
       "      <td>20강</td>\n",
       "      <td>[0, 1, 6, 5, 19, 11]</td>\n",
       "      <td>안녕하세요. 우리 친구들 만나서 반갑습니다. 초등사학 기념잡기 여러분과 함께 할 시...</td>\n",
       "      <td>0</td>\n",
       "      <td>1</td>\n",
       "      <td>6</td>\n",
       "    </tr>\n",
       "    <tr>\n",
       "      <th>20</th>\n",
       "      <td>21강</td>\n",
       "      <td>[0, 1, 2, 7, 11]</td>\n",
       "      <td>안녕하세요. 우리 친구들 초등수학 개념찾기 나소은 선생님입니다. 우리 친구들과 이번...</td>\n",
       "      <td>0</td>\n",
       "      <td>1</td>\n",
       "      <td>2</td>\n",
       "    </tr>\n",
       "    <tr>\n",
       "      <th>21</th>\n",
       "      <td>22강</td>\n",
       "      <td>[1, 22, 23, 11]</td>\n",
       "      <td>나라를 선택한 학생수는 20명에다가 4명씩 3칸 12만큼을 더하여서 32명이라고 답...</td>\n",
       "      <td>1</td>\n",
       "      <td>22</td>\n",
       "      <td>23</td>\n",
       "    </tr>\n",
       "    <tr>\n",
       "      <th>22</th>\n",
       "      <td>23강</td>\n",
       "      <td>[0, 29]</td>\n",
       "      <td>여러분 안녕하세요. 수학의 개념을 확실하게 잡아보는 시간이죠. 여러분과 함께 준비한...</td>\n",
       "      <td>0</td>\n",
       "      <td>29</td>\n",
       "      <td>&lt;NA&gt;</td>\n",
       "    </tr>\n",
       "    <tr>\n",
       "      <th>23</th>\n",
       "      <td>24강</td>\n",
       "      <td>[0, 19, 20, 27]</td>\n",
       "      <td>해결해 준 것이다 라고도 표현해 줄 수 있게 되는 거고요. 표만 들어 문제를 해결하...</td>\n",
       "      <td>0</td>\n",
       "      <td>19</td>\n",
       "      <td>20</td>\n",
       "    </tr>\n",
       "    <tr>\n",
       "      <th>24</th>\n",
       "      <td>25강</td>\n",
       "      <td>[25, 26, 3, 4]</td>\n",
       "      <td>안녕하세요. 정말 반갑습니다. 김연경입니다. 오늘의 게스트는 김연경입니다. 안녕하세...</td>\n",
       "      <td>25</td>\n",
       "      <td>26</td>\n",
       "      <td>3</td>\n",
       "    </tr>\n",
       "    <tr>\n",
       "      <th>25</th>\n",
       "      <td>26강</td>\n",
       "      <td>[4, 5, 25, 26]</td>\n",
       "      <td>14 가 되어야 되는데요 나누기 4 를 해보세요 그러면 14 가 되나요 아 그렇군요...</td>\n",
       "      <td>4</td>\n",
       "      <td>5</td>\n",
       "      <td>25</td>\n",
       "    </tr>\n",
       "    <tr>\n",
       "      <th>26</th>\n",
       "      <td>27강</td>\n",
       "      <td>[0, 1, 2, 5]</td>\n",
       "      <td>여러분 안녕하세요. 정말 반갑습니다. 김연경 선생님입니다. 우리 친구들 기본 강의와...</td>\n",
       "      <td>0</td>\n",
       "      <td>1</td>\n",
       "      <td>2</td>\n",
       "    </tr>\n",
       "    <tr>\n",
       "      <th>27</th>\n",
       "      <td>28강</td>\n",
       "      <td>[5, 3, 11, 13]</td>\n",
       "      <td>색소프라노 여러분 안녕하세요 정말 반갑습니다 김연경 선생님이에요 자 우리 친구들 저...</td>\n",
       "      <td>5</td>\n",
       "      <td>3</td>\n",
       "      <td>11</td>\n",
       "    </tr>\n",
       "    <tr>\n",
       "      <th>28</th>\n",
       "      <td>29강</td>\n",
       "      <td>[5, 4, 3]</td>\n",
       "      <td>여러분 안녕하세요 김연경 선생님입니다. 자, 우리 친구들 정말 축하합니다. 오늘은요...</td>\n",
       "      <td>5</td>\n",
       "      <td>4</td>\n",
       "      <td>3</td>\n",
       "    </tr>\n",
       "    <tr>\n",
       "      <th>29</th>\n",
       "      <td>30강</td>\n",
       "      <td>[5, 6, 3, 8]</td>\n",
       "      <td>여러분 안녕하세요. 반갑습니다. 김연경 선생님입니다. 우리 친구들 저번 시간까지는요...</td>\n",
       "      <td>5</td>\n",
       "      <td>6</td>\n",
       "      <td>3</td>\n",
       "    </tr>\n",
       "    <tr>\n",
       "      <th>30</th>\n",
       "      <td>31강</td>\n",
       "      <td>[4, 6]</td>\n",
       "      <td>여러분 안녕하세요. 반갑습니다. 김연경 선생님입니다. 자 우리 친구들 선생님이요 언...</td>\n",
       "      <td>4</td>\n",
       "      <td>6</td>\n",
       "      <td>&lt;NA&gt;</td>\n",
       "    </tr>\n",
       "    <tr>\n",
       "      <th>31</th>\n",
       "      <td>32강</td>\n",
       "      <td>[0, 6, 4]</td>\n",
       "      <td>오빠 енной이 비슷해보이지 않아요? 금일,  בכ사 wrote the stars...</td>\n",
       "      <td>0</td>\n",
       "      <td>6</td>\n",
       "      <td>4</td>\n",
       "    </tr>\n",
       "    <tr>\n",
       "      <th>32</th>\n",
       "      <td>33강</td>\n",
       "      <td>[0, 6, 5, 4]</td>\n",
       "      <td>여러분 안녕하세요 정말 반갑습니다 김연경 선생님이에요 자 우리 친구들 오늘 수업 시...</td>\n",
       "      <td>0</td>\n",
       "      <td>6</td>\n",
       "      <td>5</td>\n",
       "    </tr>\n",
       "    <tr>\n",
       "      <th>33</th>\n",
       "      <td>34강</td>\n",
       "      <td>[0, 11, 13]</td>\n",
       "      <td>여러분 안녕하세요. 반갑습니다. 김연경 선생님이에요. 자 우리 친구들 오늘이요 뭔가...</td>\n",
       "      <td>0</td>\n",
       "      <td>11</td>\n",
       "      <td>13</td>\n",
       "    </tr>\n",
       "    <tr>\n",
       "      <th>34</th>\n",
       "      <td>35강</td>\n",
       "      <td>[17, 18, 19, 13]</td>\n",
       "      <td>네 여러분 안녕하세요 정말 반갑습니다 김연경 선생님이에요 자 우리 친구들 오늘은요 ...</td>\n",
       "      <td>17</td>\n",
       "      <td>18</td>\n",
       "      <td>19</td>\n",
       "    </tr>\n",
       "    <tr>\n",
       "      <th>35</th>\n",
       "      <td>36강</td>\n",
       "      <td>[14, 11, 8, 13]</td>\n",
       "      <td>여러분 안녕하세요 반갑습니다 김양경선생님 이에요 자 우리 친구들 우리요 처음에는 계...</td>\n",
       "      <td>14</td>\n",
       "      <td>11</td>\n",
       "      <td>8</td>\n",
       "    </tr>\n",
       "    <tr>\n",
       "      <th>36</th>\n",
       "      <td>37강</td>\n",
       "      <td>[14, 15, 17, 18]</td>\n",
       "      <td>여러분 안녕하세요 정말 반갑습니다 김연경선생님 이에요 자 우리 친구들 오늘 배우는 ...</td>\n",
       "      <td>14</td>\n",
       "      <td>15</td>\n",
       "      <td>17</td>\n",
       "    </tr>\n",
       "    <tr>\n",
       "      <th>37</th>\n",
       "      <td>38강</td>\n",
       "      <td>[15, 16]</td>\n",
       "      <td>여러분 안녕하세요. 반갑습니다. 김연경 선생님이에요. 우리 친구들 오늘 도형의 대칭...</td>\n",
       "      <td>15</td>\n",
       "      <td>16</td>\n",
       "      <td>&lt;NA&gt;</td>\n",
       "    </tr>\n",
       "    <tr>\n",
       "      <th>38</th>\n",
       "      <td>39강</td>\n",
       "      <td>[0, 23, 22]</td>\n",
       "      <td>여러분 안녕하세요 반갑습니다 김연경 선생님 이에요 자 우리 친구들 선생님과 함께 5...</td>\n",
       "      <td>0</td>\n",
       "      <td>23</td>\n",
       "      <td>22</td>\n",
       "    </tr>\n",
       "    <tr>\n",
       "      <th>39</th>\n",
       "      <td>40강</td>\n",
       "      <td>[19, 20, 21, 22]</td>\n",
       "      <td>여러분 안녕하세요. 반갑습니다. 김연경 선생님이에요. 우리 친구들 선생님과 함께 5...</td>\n",
       "      <td>19</td>\n",
       "      <td>20</td>\n",
       "      <td>21</td>\n",
       "    </tr>\n",
       "    <tr>\n",
       "      <th>40</th>\n",
       "      <td>41강</td>\n",
       "      <td>[22, 19, 23]</td>\n",
       "      <td>그런데 우리 친구들 방금 전에 봤던 띠 그래프랑 조금 모양이 달라요 음식물, 플라스...</td>\n",
       "      <td>22</td>\n",
       "      <td>19</td>\n",
       "      <td>23</td>\n",
       "    </tr>\n",
       "    <tr>\n",
       "      <th>41</th>\n",
       "      <td>42강</td>\n",
       "      <td>[19, 20, 21]</td>\n",
       "      <td>여러분, 안녕하세요. 반갑습니다. 김연경 선생님이에요. 자, 우리 친구들 5학년부터...</td>\n",
       "      <td>19</td>\n",
       "      <td>20</td>\n",
       "      <td>21</td>\n",
       "    </tr>\n",
       "    <tr>\n",
       "      <th>42</th>\n",
       "      <td>43강</td>\n",
       "      <td>[3, 19, 20]</td>\n",
       "      <td>2를 곱했잖아요. 4 2 8 한거죠. 4 곱하기 2를 한 것입니다. 그래서 이것이 ...</td>\n",
       "      <td>3</td>\n",
       "      <td>19</td>\n",
       "      <td>20</td>\n",
       "    </tr>\n",
       "    <tr>\n",
       "      <th>43</th>\n",
       "      <td>44강</td>\n",
       "      <td>[24]</td>\n",
       "      <td>여러분 안녕하세요 반갑습니다. 김연경 선생님이에요.  자 우리 친구들 오늘이요 굉장...</td>\n",
       "      <td>24</td>\n",
       "      <td>&lt;NA&gt;</td>\n",
       "      <td>&lt;NA&gt;</td>\n",
       "    </tr>\n",
       "    <tr>\n",
       "      <th>44</th>\n",
       "      <td>45강</td>\n",
       "      <td>[28, 27, 1, 2, 4, 3]</td>\n",
       "      <td>7종류의 퀴즈 힌트를 찾아가보시죠 可以 하apter 요 sign 여 여 여 여 만남...</td>\n",
       "      <td>28</td>\n",
       "      <td>27</td>\n",
       "      <td>1</td>\n",
       "    </tr>\n",
       "  </tbody>\n",
       "</table>\n",
       "</div>"
      ],
      "text/plain": [
       "     강의                         태그  \\\n",
       "0    1강                 [0, 11, 7]   \n",
       "1    2강                  [0, 1, 2]   \n",
       "2    3강                     [3, 0]   \n",
       "3    4강          [4, 3, 9, 10, 11]   \n",
       "4    5강      [0, 1, 2, 3, 4, 5, 6]   \n",
       "5    6강               [0, 5, 1, 2]   \n",
       "6    7강           [0, 6, 7, 9, 22]   \n",
       "7    8강         [0, 1, 2, 5, 6, 7]   \n",
       "8    9강            [0, 6, 7, 1, 2]   \n",
       "9   10강            [0, 12, 13, 18]   \n",
       "10  11강           [13, 15, 16, 18]   \n",
       "11  12강             [0, 13, 17, 8]   \n",
       "12  13강        [8, 13, 15, 12, 18]   \n",
       "13  14강       [15, 18, 13, 12, 11]   \n",
       "14  15강           [12, 13, 15, 18]   \n",
       "15  16강                 [8, 11, 9]   \n",
       "16  17강              [8, 11, 1, 2]   \n",
       "17  18강       [12, 18, 11, 13, 15]   \n",
       "18  19강  [8, 3, 4, 11, 18, 13, 15]   \n",
       "19  20강       [0, 1, 6, 5, 19, 11]   \n",
       "20  21강           [0, 1, 2, 7, 11]   \n",
       "21  22강            [1, 22, 23, 11]   \n",
       "22  23강                    [0, 29]   \n",
       "23  24강            [0, 19, 20, 27]   \n",
       "24  25강             [25, 26, 3, 4]   \n",
       "25  26강             [4, 5, 25, 26]   \n",
       "26  27강               [0, 1, 2, 5]   \n",
       "27  28강             [5, 3, 11, 13]   \n",
       "28  29강                  [5, 4, 3]   \n",
       "29  30강               [5, 6, 3, 8]   \n",
       "30  31강                     [4, 6]   \n",
       "31  32강                  [0, 6, 4]   \n",
       "32  33강               [0, 6, 5, 4]   \n",
       "33  34강                [0, 11, 13]   \n",
       "34  35강           [17, 18, 19, 13]   \n",
       "35  36강            [14, 11, 8, 13]   \n",
       "36  37강           [14, 15, 17, 18]   \n",
       "37  38강                   [15, 16]   \n",
       "38  39강                [0, 23, 22]   \n",
       "39  40강           [19, 20, 21, 22]   \n",
       "40  41강               [22, 19, 23]   \n",
       "41  42강               [19, 20, 21]   \n",
       "42  43강                [3, 19, 20]   \n",
       "43  44강                       [24]   \n",
       "44  45강       [28, 27, 1, 2, 4, 3]   \n",
       "\n",
       "                                                 text  태그1   태그2   태그3  \n",
       "0   안녕하세요 우리 친구들 만나서 반갑습니다. 여러분들과 함께 초등수학 개념 찾기로  ...    0    11     7  \n",
       "1   안녕하세요. 우리 EBS 친구들 반갑습니다. 여러분 어떻게 잘 지내셨어요? 선생님 ...    0     1     2  \n",
       "2   안녕하세요 우리 친구들 초등수학 개념 찾기 나소은 선생님입니다. 여러분!  이번 시...    3     0  <NA>  \n",
       "3   여러분 안녕하세요. 자 우리 친구들과 함께 개념의 내용을 확실하게  잡아줄 아주 좋...    4     3     9  \n",
       "4   초등학교 학교 초등학교 학교 초등학교 학교 초등학교 학교 초등학교 학교 초등학교 학...    0     1     2  \n",
       "5   1. 2. 3. 4. 5. 6. 7. 8. 9. 10. 11. 12. 13. 14....    0     5     1  \n",
       "6   안녕하세요 우리 친구들 반갑습니다 안녕하세요 우리 친구들 반갑습니다  여러분들과 함...    0     6     7  \n",
       "7   초등수학의 개념 잡기 여러분들과 함께하는 초등수학의 개념 잡기 여러분들과 함께하는 ...    0     1     2  \n",
       "8   안녕하세요 우리 친구들 즐거운 수업시간입니다 선생님과 함께 할 준비 되셨죠? 우리 ...    0     6     7  \n",
       "9   안녕하세요 초등수학 개념 찾기 나소은 선생님입니다. 여러분 어때요? 오늘 하루도 즐...    0    12    13  \n",
       "10  그의 조립은 끝났다. 초등학과 여러분, 난 이미ing knife algorithm ...   13    15    16  \n",
       "11  안녕하세요. 우리 친구들 하루 어떻게 잘 보내고 계신가요? 우리 즐거운 수학시간이죠...    0    13    17  \n",
       "12  42cm다라고 얘기를 하고 있어요 작은 정삼각형 1개의 둘레의 길이를 묻고 있습니다...    8    13    15  \n",
       "13  두 개의 직선이 만나서 이루는 각이 직각입니다. 그래서 직각입니다. 두 직선이 만나...   15    18    13  \n",
       "14  안녕하세요 우리 친구들 즐거운 수학시간입니다 초등학생 개념 찾기 우리 이번 시간은요...   12    13    15  \n",
       "15  친한 친구 맞춰봐 왔어? 잠깐만 신난다 아파 어 뒤엣개 갖고 운동한 것 보세요 Ну...    8    11     9  \n",
       "16  할머니께서는 은정이 보다 감자를 몇 킬로그램 몇 그램 더 많이 캐셨는지 프리과정을 ...    8    11     1  \n",
       "17  안녕하세요 우리 친구들. 반가워요. 이번 시간은요 각도에 대해서 함께 알아보는 시간...   12    18    11  \n",
       "18  1킬로미터를 우리는 1000미터라고 얘기를 한단 말이에요. 그럼 이 1000미터 안...    8     3     4  \n",
       "19  안녕하세요. 우리 친구들 만나서 반갑습니다. 초등사학 기념잡기 여러분과 함께 할 시...    0     1     6  \n",
       "20  안녕하세요. 우리 친구들 초등수학 개념찾기 나소은 선생님입니다. 우리 친구들과 이번...    0     1     2  \n",
       "21  나라를 선택한 학생수는 20명에다가 4명씩 3칸 12만큼을 더하여서 32명이라고 답...    1    22    23  \n",
       "22  여러분 안녕하세요. 수학의 개념을 확실하게 잡아보는 시간이죠. 여러분과 함께 준비한...    0    29  <NA>  \n",
       "23  해결해 준 것이다 라고도 표현해 줄 수 있게 되는 거고요. 표만 들어 문제를 해결하...    0    19    20  \n",
       "24  안녕하세요. 정말 반갑습니다. 김연경입니다. 오늘의 게스트는 김연경입니다. 안녕하세...   25    26     3  \n",
       "25  14 가 되어야 되는데요 나누기 4 를 해보세요 그러면 14 가 되나요 아 그렇군요...    4     5    25  \n",
       "26  여러분 안녕하세요. 정말 반갑습니다. 김연경 선생님입니다. 우리 친구들 기본 강의와...    0     1     2  \n",
       "27  색소프라노 여러분 안녕하세요 정말 반갑습니다 김연경 선생님이에요 자 우리 친구들 저...    5     3    11  \n",
       "28  여러분 안녕하세요 김연경 선생님입니다. 자, 우리 친구들 정말 축하합니다. 오늘은요...    5     4     3  \n",
       "29  여러분 안녕하세요. 반갑습니다. 김연경 선생님입니다. 우리 친구들 저번 시간까지는요...    5     6     3  \n",
       "30  여러분 안녕하세요. 반갑습니다. 김연경 선생님입니다. 자 우리 친구들 선생님이요 언...    4     6  <NA>  \n",
       "31  오빠 енной이 비슷해보이지 않아요? 금일,  בכ사 wrote the stars...    0     6     4  \n",
       "32  여러분 안녕하세요 정말 반갑습니다 김연경 선생님이에요 자 우리 친구들 오늘 수업 시...    0     6     5  \n",
       "33  여러분 안녕하세요. 반갑습니다. 김연경 선생님이에요. 자 우리 친구들 오늘이요 뭔가...    0    11    13  \n",
       "34  네 여러분 안녕하세요 정말 반갑습니다 김연경 선생님이에요 자 우리 친구들 오늘은요 ...   17    18    19  \n",
       "35  여러분 안녕하세요 반갑습니다 김양경선생님 이에요 자 우리 친구들 우리요 처음에는 계...   14    11     8  \n",
       "36  여러분 안녕하세요 정말 반갑습니다 김연경선생님 이에요 자 우리 친구들 오늘 배우는 ...   14    15    17  \n",
       "37  여러분 안녕하세요. 반갑습니다. 김연경 선생님이에요. 우리 친구들 오늘 도형의 대칭...   15    16  <NA>  \n",
       "38  여러분 안녕하세요 반갑습니다 김연경 선생님 이에요 자 우리 친구들 선생님과 함께 5...    0    23    22  \n",
       "39  여러분 안녕하세요. 반갑습니다. 김연경 선생님이에요. 우리 친구들 선생님과 함께 5...   19    20    21  \n",
       "40  그런데 우리 친구들 방금 전에 봤던 띠 그래프랑 조금 모양이 달라요 음식물, 플라스...   22    19    23  \n",
       "41  여러분, 안녕하세요. 반갑습니다. 김연경 선생님이에요. 자, 우리 친구들 5학년부터...   19    20    21  \n",
       "42  2를 곱했잖아요. 4 2 8 한거죠. 4 곱하기 2를 한 것입니다. 그래서 이것이 ...    3    19    20  \n",
       "43  여러분 안녕하세요 반갑습니다. 김연경 선생님이에요.  자 우리 친구들 오늘이요 굉장...   24  <NA>  <NA>  \n",
       "44  7종류의 퀴즈 힌트를 찾아가보시죠 可以 하apter 요 sign 여 여 여 여 만남...   28    27     1  "
      ]
     },
     "execution_count": 120,
     "metadata": {},
     "output_type": "execute_result"
    }
   ],
   "source": [
    "# '태그' 열이 리스트 형태인지 확인하고 필요하다면 리스트로 변환\n",
    "def ensure_list(tags_str):\n",
    "    if isinstance(tags_str, str):\n",
    "        tags_str = eval(tags_str)\n",
    "    return tags_str\n",
    "\n",
    "\n",
    "df[\"태그\"] = df[\"태그\"].apply(ensure_list)\n",
    "\n",
    "# 각각의 태그를 새로운 열에 할당\n",
    "df[\"태그1\"] = df[\"태그\"].apply(lambda x: x[0] if len(x) > 0 else None)\n",
    "df[\"태그2\"] = df[\"태그\"].apply(lambda x: x[1] if len(x) > 1 else None)\n",
    "df[\"태그3\"] = df[\"태그\"].apply(lambda x: x[2] if len(x) > 2 else None)\n",
    "\n",
    "# 태그 열을 정수형으로 변환\n",
    "df[\"태그1\"] = df[\"태그1\"].astype(pd.Int64Dtype())\n",
    "df[\"태그2\"] = df[\"태그2\"].astype(pd.Int64Dtype())\n",
    "df[\"태그3\"] = df[\"태그3\"].astype(pd.Int64Dtype())\n",
    "\n",
    "df.to_csv(\"./df_ebs.csv\", index=False)\n",
    "df"
   ]
  },
  {
   "cell_type": "code",
   "execution_count": 122,
   "metadata": {},
   "outputs": [],
   "source": [
    "df2 = pd.read_csv(\"./khan_df.csv\")"
   ]
  },
  {
   "cell_type": "code",
   "execution_count": 123,
   "metadata": {},
   "outputs": [
    {
     "data": {
      "text/html": [
       "<div>\n",
       "<style scoped>\n",
       "    .dataframe tbody tr th:only-of-type {\n",
       "        vertical-align: middle;\n",
       "    }\n",
       "\n",
       "    .dataframe tbody tr th {\n",
       "        vertical-align: top;\n",
       "    }\n",
       "\n",
       "    .dataframe thead th {\n",
       "        text-align: right;\n",
       "    }\n",
       "</style>\n",
       "<table border=\"1\" class=\"dataframe\">\n",
       "  <thead>\n",
       "    <tr style=\"text-align: right;\">\n",
       "      <th></th>\n",
       "      <th>name</th>\n",
       "      <th>태그</th>\n",
       "      <th>text</th>\n",
       "    </tr>\n",
       "  </thead>\n",
       "  <tbody>\n",
       "    <tr>\n",
       "      <th>0</th>\n",
       "      <td>Video_ Comparing numbers of objects.txt</td>\n",
       "      <td>[0, 23]</td>\n",
       "      <td>이 텍스트를 한국어로 번역: \\n\\nGavin은 이런 말들이 있습니다. 아래의 각 ...</td>\n",
       "    </tr>\n",
       "    <tr>\n",
       "      <th>1</th>\n",
       "      <td>Video_ Comparing numbers on the number line.txt</td>\n",
       "      <td>[0, 22]</td>\n",
       "      <td>어떤 숫자들이 6보다 큰가요? 모두 선택해 보세요. 그래서 여기 수직선에서 6을 볼...</td>\n",
       "    </tr>\n",
       "    <tr>\n",
       "      <th>2</th>\n",
       "      <td>Video_ Counting by category.txt</td>\n",
       "      <td>[0, 23, 22]</td>\n",
       "      <td>우리는 별, 숫자, 또는 글자를 가장 많이 세어 봅시다. 이것을 한 번 보겠습니다....</td>\n",
       "    </tr>\n",
       "    <tr>\n",
       "      <th>3</th>\n",
       "      <td>Video_ Counting in pictures.txt</td>\n",
       "      <td>[0, 23]</td>\n",
       "      <td>이 사진에 얼마나 많은 사람들이 보이나요? 보세요, 저는 하나, 둘, 셋, 넷, 다...</td>\n",
       "    </tr>\n",
       "    <tr>\n",
       "      <th>4</th>\n",
       "      <td>Video_ Counting objects 1.txt</td>\n",
       "      <td>[0, 11]</td>\n",
       "      <td>어떤 상자에 12마리의 고래가 있는지요? 그래, 이런 이 녹색 상자를 보세요, 한번...</td>\n",
       "    </tr>\n",
       "    <tr>\n",
       "      <th>...</th>\n",
       "      <td>...</td>\n",
       "      <td>...</td>\n",
       "      <td>...</td>\n",
       "    </tr>\n",
       "    <tr>\n",
       "      <th>79</th>\n",
       "      <td>y2mate.com - Transformations dilation_720pFH.txt</td>\n",
       "      <td>[15, 13, 14, 16]</td>\n",
       "      <td>이전 비디오에서 우리는 변형에 대한 아이디어를 이야기하기 시작했습니다. 특히 우리는...</td>\n",
       "    </tr>\n",
       "    <tr>\n",
       "      <th>80</th>\n",
       "      <td>y2mate.com - Understanding place value when ad...</td>\n",
       "      <td>[0, 1, 7]</td>\n",
       "      <td>그래서 이 것이 바로 소수 37을 표현하는 한 가지 방법입니다. 숫자 37에는 십의...</td>\n",
       "    </tr>\n",
       "    <tr>\n",
       "      <th>81</th>\n",
       "      <td>y2mate.com - Understanding place value when su...</td>\n",
       "      <td>[0, 2]</td>\n",
       "      <td>여기에는 65개의 블록이 있습니다. 직접 세어보실 수도 있지만, 우리는 이를 숫자 ...</td>\n",
       "    </tr>\n",
       "    <tr>\n",
       "      <th>82</th>\n",
       "      <td>y2mate.com - Understanding place value while s...</td>\n",
       "      <td>[0, 2]</td>\n",
       "      <td>그래서 바로 여기에 우리는 숫자 46을 가지고 있습니다. 십의 자리에는 4가 있습니...</td>\n",
       "    </tr>\n",
       "    <tr>\n",
       "      <th>83</th>\n",
       "      <td>y2mate.com - Why a negative times a negative i...</td>\n",
       "      <td>[3, 0]</td>\n",
       "      <td>당신이 고대 철학자이며, 수학을 처음부터 쌓아가고 있다고 가정합시다. 부정수가 무엇...</td>\n",
       "    </tr>\n",
       "  </tbody>\n",
       "</table>\n",
       "<p>84 rows × 3 columns</p>\n",
       "</div>"
      ],
      "text/plain": [
       "                                                 name                태그  \\\n",
       "0             Video_ Comparing numbers of objects.txt           [0, 23]   \n",
       "1     Video_ Comparing numbers on the number line.txt           [0, 22]   \n",
       "2                     Video_ Counting by category.txt       [0, 23, 22]   \n",
       "3                     Video_ Counting in pictures.txt           [0, 23]   \n",
       "4                       Video_ Counting objects 1.txt           [0, 11]   \n",
       "..                                                ...               ...   \n",
       "79   y2mate.com - Transformations dilation_720pFH.txt  [15, 13, 14, 16]   \n",
       "80  y2mate.com - Understanding place value when ad...         [0, 1, 7]   \n",
       "81  y2mate.com - Understanding place value when su...            [0, 2]   \n",
       "82  y2mate.com - Understanding place value while s...            [0, 2]   \n",
       "83  y2mate.com - Why a negative times a negative i...            [3, 0]   \n",
       "\n",
       "                                                 text  \n",
       "0   이 텍스트를 한국어로 번역: \\n\\nGavin은 이런 말들이 있습니다. 아래의 각 ...  \n",
       "1   어떤 숫자들이 6보다 큰가요? 모두 선택해 보세요. 그래서 여기 수직선에서 6을 볼...  \n",
       "2   우리는 별, 숫자, 또는 글자를 가장 많이 세어 봅시다. 이것을 한 번 보겠습니다....  \n",
       "3   이 사진에 얼마나 많은 사람들이 보이나요? 보세요, 저는 하나, 둘, 셋, 넷, 다...  \n",
       "4   어떤 상자에 12마리의 고래가 있는지요? 그래, 이런 이 녹색 상자를 보세요, 한번...  \n",
       "..                                                ...  \n",
       "79  이전 비디오에서 우리는 변형에 대한 아이디어를 이야기하기 시작했습니다. 특히 우리는...  \n",
       "80  그래서 이 것이 바로 소수 37을 표현하는 한 가지 방법입니다. 숫자 37에는 십의...  \n",
       "81  여기에는 65개의 블록이 있습니다. 직접 세어보실 수도 있지만, 우리는 이를 숫자 ...  \n",
       "82  그래서 바로 여기에 우리는 숫자 46을 가지고 있습니다. 십의 자리에는 4가 있습니...  \n",
       "83  당신이 고대 철학자이며, 수학을 처음부터 쌓아가고 있다고 가정합시다. 부정수가 무엇...  \n",
       "\n",
       "[84 rows x 3 columns]"
      ]
     },
     "execution_count": 123,
     "metadata": {},
     "output_type": "execute_result"
    }
   ],
   "source": [
    "df2"
   ]
  },
  {
   "cell_type": "code",
   "execution_count": 135,
   "metadata": {},
   "outputs": [
    {
     "data": {
      "text/html": [
       "<div>\n",
       "<style scoped>\n",
       "    .dataframe tbody tr th:only-of-type {\n",
       "        vertical-align: middle;\n",
       "    }\n",
       "\n",
       "    .dataframe tbody tr th {\n",
       "        vertical-align: top;\n",
       "    }\n",
       "\n",
       "    .dataframe thead th {\n",
       "        text-align: right;\n",
       "    }\n",
       "</style>\n",
       "<table border=\"1\" class=\"dataframe\">\n",
       "  <thead>\n",
       "    <tr style=\"text-align: right;\">\n",
       "      <th></th>\n",
       "      <th>name</th>\n",
       "      <th>태그</th>\n",
       "      <th>text</th>\n",
       "      <th>강의</th>\n",
       "    </tr>\n",
       "  </thead>\n",
       "  <tbody>\n",
       "    <tr>\n",
       "      <th>0</th>\n",
       "      <td>Video_ Comparing numbers of objects.txt</td>\n",
       "      <td>[0, 23]</td>\n",
       "      <td>이 텍스트를 한국어로 번역: \\n\\nGavin은 이런 말들이 있습니다. 아래의 각 ...</td>\n",
       "      <td>1강</td>\n",
       "    </tr>\n",
       "    <tr>\n",
       "      <th>1</th>\n",
       "      <td>Video_ Comparing numbers on the number line.txt</td>\n",
       "      <td>[0, 22]</td>\n",
       "      <td>어떤 숫자들이 6보다 큰가요? 모두 선택해 보세요. 그래서 여기 수직선에서 6을 볼...</td>\n",
       "      <td>2강</td>\n",
       "    </tr>\n",
       "    <tr>\n",
       "      <th>2</th>\n",
       "      <td>Video_ Counting by category.txt</td>\n",
       "      <td>[0, 23, 22]</td>\n",
       "      <td>우리는 별, 숫자, 또는 글자를 가장 많이 세어 봅시다. 이것을 한 번 보겠습니다....</td>\n",
       "      <td>3강</td>\n",
       "    </tr>\n",
       "    <tr>\n",
       "      <th>3</th>\n",
       "      <td>Video_ Counting in pictures.txt</td>\n",
       "      <td>[0, 23]</td>\n",
       "      <td>이 사진에 얼마나 많은 사람들이 보이나요? 보세요, 저는 하나, 둘, 셋, 넷, 다...</td>\n",
       "      <td>4강</td>\n",
       "    </tr>\n",
       "    <tr>\n",
       "      <th>4</th>\n",
       "      <td>Video_ Counting objects 1.txt</td>\n",
       "      <td>[0, 11]</td>\n",
       "      <td>어떤 상자에 12마리의 고래가 있는지요? 그래, 이런 이 녹색 상자를 보세요, 한번...</td>\n",
       "      <td>5강</td>\n",
       "    </tr>\n",
       "  </tbody>\n",
       "</table>\n",
       "</div>"
      ],
      "text/plain": [
       "                                              name           태그  \\\n",
       "0          Video_ Comparing numbers of objects.txt      [0, 23]   \n",
       "1  Video_ Comparing numbers on the number line.txt      [0, 22]   \n",
       "2                  Video_ Counting by category.txt  [0, 23, 22]   \n",
       "3                  Video_ Counting in pictures.txt      [0, 23]   \n",
       "4                    Video_ Counting objects 1.txt      [0, 11]   \n",
       "\n",
       "                                                text  강의  \n",
       "0  이 텍스트를 한국어로 번역: \\n\\nGavin은 이런 말들이 있습니다. 아래의 각 ...  1강  \n",
       "1  어떤 숫자들이 6보다 큰가요? 모두 선택해 보세요. 그래서 여기 수직선에서 6을 볼...  2강  \n",
       "2  우리는 별, 숫자, 또는 글자를 가장 많이 세어 봅시다. 이것을 한 번 보겠습니다....  3강  \n",
       "3  이 사진에 얼마나 많은 사람들이 보이나요? 보세요, 저는 하나, 둘, 셋, 넷, 다...  4강  \n",
       "4  어떤 상자에 12마리의 고래가 있는지요? 그래, 이런 이 녹색 상자를 보세요, 한번...  5강  "
      ]
     },
     "execution_count": 135,
     "metadata": {},
     "output_type": "execute_result"
    }
   ],
   "source": [
    "# Add '강' suffix to the '강의' column\n",
    "df2[\"강의\"] = df2[\"강의\"].astype(str) + \"강\"\n",
    "\n",
    "# Check the dataframe to confirm the modification\n",
    "df2.head()"
   ]
  },
  {
   "cell_type": "code",
   "execution_count": 138,
   "metadata": {},
   "outputs": [
    {
     "data": {
      "text/html": [
       "<div>\n",
       "<style scoped>\n",
       "    .dataframe tbody tr th:only-of-type {\n",
       "        vertical-align: middle;\n",
       "    }\n",
       "\n",
       "    .dataframe tbody tr th {\n",
       "        vertical-align: top;\n",
       "    }\n",
       "\n",
       "    .dataframe thead th {\n",
       "        text-align: right;\n",
       "    }\n",
       "</style>\n",
       "<table border=\"1\" class=\"dataframe\">\n",
       "  <thead>\n",
       "    <tr style=\"text-align: right;\">\n",
       "      <th></th>\n",
       "      <th>name</th>\n",
       "      <th>태그</th>\n",
       "      <th>text</th>\n",
       "      <th>강의</th>\n",
       "      <th>태그1</th>\n",
       "      <th>태그2</th>\n",
       "      <th>태그3</th>\n",
       "    </tr>\n",
       "  </thead>\n",
       "  <tbody>\n",
       "    <tr>\n",
       "      <th>0</th>\n",
       "      <td>Video_ Comparing numbers of objects.txt</td>\n",
       "      <td>[0, 23]</td>\n",
       "      <td>이 텍스트를 한국어로 번역: \\n\\nGavin은 이런 말들이 있습니다. 아래의 각 ...</td>\n",
       "      <td>1강</td>\n",
       "      <td>0</td>\n",
       "      <td>23</td>\n",
       "      <td>&lt;NA&gt;</td>\n",
       "    </tr>\n",
       "    <tr>\n",
       "      <th>1</th>\n",
       "      <td>Video_ Comparing numbers on the number line.txt</td>\n",
       "      <td>[0, 22]</td>\n",
       "      <td>어떤 숫자들이 6보다 큰가요? 모두 선택해 보세요. 그래서 여기 수직선에서 6을 볼...</td>\n",
       "      <td>2강</td>\n",
       "      <td>0</td>\n",
       "      <td>22</td>\n",
       "      <td>&lt;NA&gt;</td>\n",
       "    </tr>\n",
       "    <tr>\n",
       "      <th>2</th>\n",
       "      <td>Video_ Counting by category.txt</td>\n",
       "      <td>[0, 23, 22]</td>\n",
       "      <td>우리는 별, 숫자, 또는 글자를 가장 많이 세어 봅시다. 이것을 한 번 보겠습니다....</td>\n",
       "      <td>3강</td>\n",
       "      <td>0</td>\n",
       "      <td>23</td>\n",
       "      <td>22</td>\n",
       "    </tr>\n",
       "    <tr>\n",
       "      <th>3</th>\n",
       "      <td>Video_ Counting in pictures.txt</td>\n",
       "      <td>[0, 23]</td>\n",
       "      <td>이 사진에 얼마나 많은 사람들이 보이나요? 보세요, 저는 하나, 둘, 셋, 넷, 다...</td>\n",
       "      <td>4강</td>\n",
       "      <td>0</td>\n",
       "      <td>23</td>\n",
       "      <td>&lt;NA&gt;</td>\n",
       "    </tr>\n",
       "    <tr>\n",
       "      <th>4</th>\n",
       "      <td>Video_ Counting objects 1.txt</td>\n",
       "      <td>[0, 11]</td>\n",
       "      <td>어떤 상자에 12마리의 고래가 있는지요? 그래, 이런 이 녹색 상자를 보세요, 한번...</td>\n",
       "      <td>5강</td>\n",
       "      <td>0</td>\n",
       "      <td>11</td>\n",
       "      <td>&lt;NA&gt;</td>\n",
       "    </tr>\n",
       "    <tr>\n",
       "      <th>...</th>\n",
       "      <td>...</td>\n",
       "      <td>...</td>\n",
       "      <td>...</td>\n",
       "      <td>...</td>\n",
       "      <td>...</td>\n",
       "      <td>...</td>\n",
       "      <td>...</td>\n",
       "    </tr>\n",
       "    <tr>\n",
       "      <th>79</th>\n",
       "      <td>y2mate.com - Transformations dilation_720pFH.txt</td>\n",
       "      <td>[15, 13, 14, 16]</td>\n",
       "      <td>이전 비디오에서 우리는 변형에 대한 아이디어를 이야기하기 시작했습니다. 특히 우리는...</td>\n",
       "      <td>80강</td>\n",
       "      <td>15</td>\n",
       "      <td>13</td>\n",
       "      <td>14</td>\n",
       "    </tr>\n",
       "    <tr>\n",
       "      <th>80</th>\n",
       "      <td>y2mate.com - Understanding place value when ad...</td>\n",
       "      <td>[0, 1, 7]</td>\n",
       "      <td>그래서 이 것이 바로 소수 37을 표현하는 한 가지 방법입니다. 숫자 37에는 십의...</td>\n",
       "      <td>81강</td>\n",
       "      <td>0</td>\n",
       "      <td>1</td>\n",
       "      <td>7</td>\n",
       "    </tr>\n",
       "    <tr>\n",
       "      <th>81</th>\n",
       "      <td>y2mate.com - Understanding place value when su...</td>\n",
       "      <td>[0, 2]</td>\n",
       "      <td>여기에는 65개의 블록이 있습니다. 직접 세어보실 수도 있지만, 우리는 이를 숫자 ...</td>\n",
       "      <td>82강</td>\n",
       "      <td>0</td>\n",
       "      <td>2</td>\n",
       "      <td>&lt;NA&gt;</td>\n",
       "    </tr>\n",
       "    <tr>\n",
       "      <th>82</th>\n",
       "      <td>y2mate.com - Understanding place value while s...</td>\n",
       "      <td>[0, 2]</td>\n",
       "      <td>그래서 바로 여기에 우리는 숫자 46을 가지고 있습니다. 십의 자리에는 4가 있습니...</td>\n",
       "      <td>83강</td>\n",
       "      <td>0</td>\n",
       "      <td>2</td>\n",
       "      <td>&lt;NA&gt;</td>\n",
       "    </tr>\n",
       "    <tr>\n",
       "      <th>83</th>\n",
       "      <td>y2mate.com - Why a negative times a negative i...</td>\n",
       "      <td>[3, 0]</td>\n",
       "      <td>당신이 고대 철학자이며, 수학을 처음부터 쌓아가고 있다고 가정합시다. 부정수가 무엇...</td>\n",
       "      <td>84강</td>\n",
       "      <td>3</td>\n",
       "      <td>0</td>\n",
       "      <td>&lt;NA&gt;</td>\n",
       "    </tr>\n",
       "  </tbody>\n",
       "</table>\n",
       "<p>84 rows × 7 columns</p>\n",
       "</div>"
      ],
      "text/plain": [
       "                                                 name                태그  \\\n",
       "0             Video_ Comparing numbers of objects.txt           [0, 23]   \n",
       "1     Video_ Comparing numbers on the number line.txt           [0, 22]   \n",
       "2                     Video_ Counting by category.txt       [0, 23, 22]   \n",
       "3                     Video_ Counting in pictures.txt           [0, 23]   \n",
       "4                       Video_ Counting objects 1.txt           [0, 11]   \n",
       "..                                                ...               ...   \n",
       "79   y2mate.com - Transformations dilation_720pFH.txt  [15, 13, 14, 16]   \n",
       "80  y2mate.com - Understanding place value when ad...         [0, 1, 7]   \n",
       "81  y2mate.com - Understanding place value when su...            [0, 2]   \n",
       "82  y2mate.com - Understanding place value while s...            [0, 2]   \n",
       "83  y2mate.com - Why a negative times a negative i...            [3, 0]   \n",
       "\n",
       "                                                 text   강의  태그1  태그2   태그3  \n",
       "0   이 텍스트를 한국어로 번역: \\n\\nGavin은 이런 말들이 있습니다. 아래의 각 ...   1강    0   23  <NA>  \n",
       "1   어떤 숫자들이 6보다 큰가요? 모두 선택해 보세요. 그래서 여기 수직선에서 6을 볼...   2강    0   22  <NA>  \n",
       "2   우리는 별, 숫자, 또는 글자를 가장 많이 세어 봅시다. 이것을 한 번 보겠습니다....   3강    0   23    22  \n",
       "3   이 사진에 얼마나 많은 사람들이 보이나요? 보세요, 저는 하나, 둘, 셋, 넷, 다...   4강    0   23  <NA>  \n",
       "4   어떤 상자에 12마리의 고래가 있는지요? 그래, 이런 이 녹색 상자를 보세요, 한번...   5강    0   11  <NA>  \n",
       "..                                                ...  ...  ...  ...   ...  \n",
       "79  이전 비디오에서 우리는 변형에 대한 아이디어를 이야기하기 시작했습니다. 특히 우리는...  80강   15   13    14  \n",
       "80  그래서 이 것이 바로 소수 37을 표현하는 한 가지 방법입니다. 숫자 37에는 십의...  81강    0    1     7  \n",
       "81  여기에는 65개의 블록이 있습니다. 직접 세어보실 수도 있지만, 우리는 이를 숫자 ...  82강    0    2  <NA>  \n",
       "82  그래서 바로 여기에 우리는 숫자 46을 가지고 있습니다. 십의 자리에는 4가 있습니...  83강    0    2  <NA>  \n",
       "83  당신이 고대 철학자이며, 수학을 처음부터 쌓아가고 있다고 가정합시다. 부정수가 무엇...  84강    3    0  <NA>  \n",
       "\n",
       "[84 rows x 7 columns]"
      ]
     },
     "execution_count": 138,
     "metadata": {},
     "output_type": "execute_result"
    }
   ],
   "source": [
    "# '태그' 열이 리스트 형태인지 확인하고 필요하다면 리스트로 변환\n",
    "def ensure_list(tags_str):\n",
    "    if isinstance(tags_str, str):\n",
    "        tags_str = eval(tags_str)\n",
    "    return tags_str\n",
    "\n",
    "\n",
    "df2[\"태그\"] = df2[\"태그\"].apply(ensure_list)\n",
    "\n",
    "# 각각의 태그를 새로운 열에 할당\n",
    "df2[\"태그1\"] = df2[\"태그\"].apply(lambda x: x[0] if len(x) > 0 else None)\n",
    "df2[\"태그2\"] = df2[\"태그\"].apply(lambda x: x[1] if len(x) > 1 else None)\n",
    "df2[\"태그3\"] = df2[\"태그\"].apply(lambda x: x[2] if len(x) > 2 else None)\n",
    "\n",
    "# 태그 열을 정수형으로 변환\n",
    "df2[\"태그1\"] = df2[\"태그1\"].astype(pd.Int64Dtype())\n",
    "df2[\"태그2\"] = df2[\"태그2\"].astype(pd.Int64Dtype())\n",
    "df2[\"태그3\"] = df2[\"태그3\"].astype(pd.Int64Dtype())\n",
    "\n",
    "df2\n",
    "\n",
    "df2.to_csv(\"./df_khan.csv\", index=False)\n",
    "\n",
    "df2"
   ]
  }
 ],
 "metadata": {
  "kernelspec": {
   "display_name": "Python 3",
   "language": "python",
   "name": "python3"
  },
  "language_info": {
   "codemirror_mode": {
    "name": "ipython",
    "version": 3
   },
   "file_extension": ".py",
   "mimetype": "text/x-python",
   "name": "python",
   "nbconvert_exporter": "python",
   "pygments_lexer": "ipython3",
   "version": "3.8.19"
  }
 },
 "nbformat": 4,
 "nbformat_minor": 2
}
