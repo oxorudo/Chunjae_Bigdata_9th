{
 "cells": [
  {
   "cell_type": "code",
   "execution_count": 3,
   "metadata": {},
   "outputs": [],
   "source": [
    "import pymysql\n",
    "\n",
    "def db_connect():\n",
    "    conn = pymysql.connect(\n",
    "        host='localhost',\n",
    "        user=\"testuser\",\n",
    "        password=\"\",\n",
    "        db='db_test',\n",
    "        charset='utf8mb4',\n",
    "        cursorclass=pymysql.cursors.DictCursor\n",
    "    )\n",
    "    return conn"
   ]
  },
  {
   "cell_type": "code",
   "execution_count": 5,
   "metadata": {},
   "outputs": [],
   "source": [
    "sql = '''\n",
    "CREATE TABLE ORDERS(\n",
    "ORDER_ID INT PRIMARY KEY,\n",
    "ORDER_DATE DATE,\n",
    "CUSTOMER_ID INT,\n",
    "TOTAL_AMOUNT DECIMAL(10,2)\n",
    ");\n",
    "'''\n",
    "\n",
    "\n",
    "\n",
    "\n",
    "with db_connect() as conn:\n",
    "    with conn.cursor() as cursor:\n",
    "        cursor.execute(sql)\n",
    "#        results = cursor.fetchall()\n",
    "#        print(results)\n",
    "        conn.commit()"
   ]
  },
  {
   "cell_type": "code",
   "execution_count": 6,
   "metadata": {},
   "outputs": [],
   "source": [
    "sql = '''\n",
    "INSERT INTO ORDERS(ORDER_ID, ORDER_DATE, CUSTOMER_ID, TOTAL_AMOUNT) VALUES\n",
    "(1, '2023-01-01', 101, 150.00),\n",
    "(2, '2023-01-05', 102, 200.00),\n",
    "(3, '2023-01-10', 101, 100.00),\n",
    "(4, '2023-01-15', 103, 300.00),\n",
    "(5, '2024-01-20', 102, 250.00);\n",
    "'''\n",
    "\n",
    "with db_connect() as conn:\n",
    "    with conn.cursor() as cursor:\n",
    "        cursor.execute(sql)\n",
    "        conn.commit()"
   ]
  },
  {
   "cell_type": "code",
   "execution_count": 7,
   "metadata": {},
   "outputs": [],
   "source": [
    "sql = '''\n",
    "delete from orders\n",
    "where order_id < 6;\n",
    "'''\n",
    "\n",
    "with db_connect() as conn:\n",
    "    with conn.cursor() as cursor:\n",
    "        cursor.execute(sql)\n",
    "        conn.commit()"
   ]
  },
  {
   "cell_type": "code",
   "execution_count": null,
   "metadata": {},
   "outputs": [],
   "source": []
  }
 ],
 "metadata": {
  "kernelspec": {
   "display_name": "base",
   "language": "python",
   "name": "python3"
  },
  "language_info": {
   "codemirror_mode": {
    "name": "ipython",
    "version": 3
   },
   "file_extension": ".py",
   "mimetype": "text/x-python",
   "name": "python",
   "nbconvert_exporter": "python",
   "pygments_lexer": "ipython3",
   "version": "3.12.4"
  }
 },
 "nbformat": 4,
 "nbformat_minor": 2
}
