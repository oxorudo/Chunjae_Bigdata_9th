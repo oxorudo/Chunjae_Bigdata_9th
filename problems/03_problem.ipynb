{
 "cells": [
  {
   "cell_type": "markdown",
   "metadata": {},
   "source": [
    "1. 딕셔너리 생성과 출력\n",
    "    - 세 명의 학생(키)에 대한 점수(값)를 저장한 딕셔너리 변수 `scores` 를 생성합니다.\n",
    "    - 학생 이름 및 점수\n",
    "        - 철수: 85\n",
    "        - 영희: 90\n",
    "        - 민수: 78\n",
    "    - 딕셔너리 변수 `scores` 를 출력하는 프로그램을 작성하세요.\n",
    "    - 예시\n",
    "    \n",
    "    ```bash\n",
    "    학생 점수 딕셔너리: {'철수': 85, '영희': 90, '민수': 78}\n",
    "    ```"
   ]
  },
  {
   "cell_type": "code",
   "execution_count": 3,
   "metadata": {},
   "outputs": [
    {
     "name": "stdout",
     "output_type": "stream",
     "text": [
      "학생 점수 딕셔너리 : {'철수': 85, '영희': 90, '민수': 78}\n"
     ]
    }
   ],
   "source": [
    "scores = {\"철수\": 85, \"영희\": 90, \"민수\": 78}\n",
    "print(f\"학생 점수 딕셔너리 : {scores}\")"
   ]
  },
  {
   "cell_type": "markdown",
   "metadata": {},
   "source": [
    "2. 딕셔너리 값 추가\n",
    "    - 위 딕셔너리 변수 `scores`에 새로운 학생과 점수를 추가합니다.\n",
    "    - 학생 이름 및 점수\n",
    "        - 민지 : 95\n",
    "    - 딕셔너리 변수`scores` 를 출력하는 프로그램을 작성하세요.\n",
    "    - 예시\n",
    "    \n",
    "    ```bash\n",
    "    추가된 학생 점수 딕셔너리: {'철수': 85, '영희': 90, '민수': 78, '민지': 95}\n",
    "    ```"
   ]
  },
  {
   "cell_type": "code",
   "execution_count": 4,
   "metadata": {},
   "outputs": [
    {
     "name": "stdout",
     "output_type": "stream",
     "text": [
      "추가된 학생 점수 딕셔너리 : {'철수': 85, '영희': 90, '민수': 78, '민지': 95}\n"
     ]
    }
   ],
   "source": [
    "scores = {\"철수\": 85, \"영희\": 90, \"민수\": 78}\n",
    "scores[\"민지\"] = 95\n",
    "\n",
    "print(f\"추가된 학생 점수 딕셔너리 : {scores}\")"
   ]
  },
  {
   "cell_type": "markdown",
   "metadata": {},
   "source": [
    "3. 딕셔너리 값 수정\n",
    "    - 위 딕셔너리 변수 `scores`에서 철수 학생의 점수를 100으로 수정합니다.\n",
    "    - 딕셔너리 변수`scores` 를 출력하는 프로그램을 작성하세요.\n",
    "    - 예시\n",
    "    \n",
    "    ```bash\n",
    "    수정된 학생 점수 딕셔너리: {'철수': 100, '영희': 90, '민수': 78, '민지': 95}\n",
    "    ```"
   ]
  },
  {
   "cell_type": "code",
   "execution_count": 5,
   "metadata": {},
   "outputs": [
    {
     "name": "stdout",
     "output_type": "stream",
     "text": [
      "수정된 학생 점수 딕셔너리 : {'철수': 100, '영희': 90, '민수': 78, '민지': 95}\n"
     ]
    }
   ],
   "source": [
    "scores = {\"철수\": 85, \"영희\": 90, \"민수\": 78, \"민지\": 95}\n",
    "scores[\"철수\"] = 100\n",
    "\n",
    "print(f\"수정된 학생 점수 딕셔너리 : {scores}\")"
   ]
  },
  {
   "cell_type": "markdown",
   "metadata": {},
   "source": [
    "4. 딕셔너리 값 삭제\n",
    "    - 위 딕셔너리 변수 `scores`에서 민지 학생에 대한 정보를 삭제합니다.\n",
    "    - 딕셔너리 변수`scores` 를 출력하는 프로그램을 작성하세요.\n",
    "    - 예시\n",
    "    \n",
    "    ```bash\n",
    "    삭제된 학생 점수 딕셔너리: {'철수': 100, '영희': 90, '민수': 78}\n",
    "    ```"
   ]
  },
  {
   "cell_type": "code",
   "execution_count": 6,
   "metadata": {},
   "outputs": [
    {
     "name": "stdout",
     "output_type": "stream",
     "text": [
      "삭제된 학생 점수 딕셔너리 : {'철수': 100, '영희': 90, '민수': 78}\n"
     ]
    }
   ],
   "source": [
    "scores = {\"철수\": 100, \"영희\": 90, \"민수\": 78, \"민지\": 95}\n",
    "del scores[\"민지\"]\n",
    "\n",
    "print(f\"삭제된 학생 점수 딕셔너리 : {scores}\")"
   ]
  },
  {
   "cell_type": "markdown",
   "metadata": {},
   "source": [
    "5. 딕셔너리 키(key) 모음 출력\n",
    "    - 위 딕셔너리 변수 `scores` 에서 학생의 이름만 출력하는 프로그램을 작성하세요.\n",
    "    - 예시\n",
    "    \n",
    "    ```bash\n",
    "    학생 이름 모음 : dict_keys(['철수', '영희', '민수'])\n",
    "    ```"
   ]
  },
  {
   "cell_type": "code",
   "execution_count": 7,
   "metadata": {},
   "outputs": [
    {
     "name": "stdout",
     "output_type": "stream",
     "text": [
      "학생 이름 모음 : dict_keys(['철수', '영희', '민수'])\n"
     ]
    }
   ],
   "source": [
    "scores = {\"철수\": 100, \"영희\": 90, \"민수\": 78}\n",
    "\n",
    "print(f\"학생 이름 모음 : {scores.keys()}\")"
   ]
  },
  {
   "cell_type": "markdown",
   "metadata": {},
   "source": [
    "6. 딕셔너리 값(value) 모음 출력\n",
    "    - 위 딕셔너리 변수 `scores` 에서 학생의 점수만 출력하는 프로그램을 작성하세요.\n",
    "    - 예시\n",
    "    \n",
    "    ```bash\n",
    "    학생 점수 모음: dict_values([100, 90, 78])\n",
    "    ```"
   ]
  },
  {
   "cell_type": "code",
   "execution_count": 9,
   "metadata": {},
   "outputs": [
    {
     "name": "stdout",
     "output_type": "stream",
     "text": [
      "학생 점수 모음 : dict_values([100, 90, 78])\n"
     ]
    }
   ],
   "source": [
    "scores = {\"철수\": 100, \"영희\": 90, \"민수\": 78}\n",
    "\n",
    "print(f\"학생 점수 모음 : {scores.values()}\")"
   ]
  }
 ],
 "metadata": {
  "kernelspec": {
   "display_name": "base",
   "language": "python",
   "name": "python3"
  },
  "language_info": {
   "codemirror_mode": {
    "name": "ipython",
    "version": 3
   },
   "file_extension": ".py",
   "mimetype": "text/x-python",
   "name": "python",
   "nbconvert_exporter": "python",
   "pygments_lexer": "ipython3",
   "version": "3.12.4"
  }
 },
 "nbformat": 4,
 "nbformat_minor": 2
}
