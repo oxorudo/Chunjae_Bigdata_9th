{
 "cells": [
  {
   "cell_type": "code",
   "execution_count": 12,
   "metadata": {},
   "outputs": [
    {
     "name": "stdout",
     "output_type": "stream",
     "text": [
      "<class 'pandas.core.frame.DataFrame'>\n",
      "RangeIndex: 97916 entries, 0 to 97915\n",
      "Data columns (total 40 columns):\n",
      " #   Column                         Non-Null Count  Dtype  \n",
      "---  ------                         --------------  -----  \n",
      " 0   Unnamed: 0                     97916 non-null  int64  \n",
      " 1   order_id                       97916 non-null  object \n",
      " 2   order_item_id                  97916 non-null  int64  \n",
      " 3   product_id                     97916 non-null  object \n",
      " 4   seller_id                      97916 non-null  object \n",
      " 5   shipping_limit_date            97916 non-null  object \n",
      " 6   price                          97916 non-null  float64\n",
      " 7   freight_value                  97916 non-null  float64\n",
      " 8   payment_sequential             97916 non-null  int64  \n",
      " 9   payment_type                   97916 non-null  object \n",
      " 10  payment_installments           97916 non-null  int64  \n",
      " 11  payment_value                  97916 non-null  float64\n",
      " 12  review_id                      97916 non-null  object \n",
      " 13  review_score                   97916 non-null  int64  \n",
      " 14  review_comment_title           11462 non-null  object \n",
      " 15  review_comment_message         40261 non-null  object \n",
      " 16  review_creation_date           97916 non-null  object \n",
      " 17  review_answer_timestamp        97916 non-null  object \n",
      " 18  product_category_name          96511 non-null  object \n",
      " 19  product_name_lenght            96511 non-null  float64\n",
      " 20  product_description_lenght     96511 non-null  float64\n",
      " 21  product_photos_qty             96511 non-null  float64\n",
      " 22  product_weight_g               97900 non-null  float64\n",
      " 23  product_length_cm              97900 non-null  float64\n",
      " 24  product_height_cm              97900 non-null  float64\n",
      " 25  product_width_cm               97900 non-null  float64\n",
      " 26  customer_id                    97916 non-null  object \n",
      " 27  order_status                   97916 non-null  object \n",
      " 28  order_purchase_timestamp       97916 non-null  object \n",
      " 29  order_approved_at              97902 non-null  object \n",
      " 30  order_delivered_carrier_date   96925 non-null  object \n",
      " 31  order_delivered_customer_date  95829 non-null  object \n",
      " 32  order_estimated_delivery_date  97916 non-null  object \n",
      " 33  customer_unique_id             97916 non-null  object \n",
      " 34  customer_zip_code_prefix       97916 non-null  int64  \n",
      " 35  customer_city                  97916 non-null  object \n",
      " 36  customer_state                 97916 non-null  object \n",
      " 37  seller_zip_code_prefix         97916 non-null  int64  \n",
      " 38  seller_city                    97916 non-null  object \n",
      " 39  seller_state                   97916 non-null  object \n",
      "dtypes: float64(10), int64(7), object(23)\n",
      "memory usage: 29.9+ MB\n",
      "None\n"
     ]
    }
   ],
   "source": [
    "import pandas as pd\n",
    "import seaborn as sns\n",
    "import matplotlib.pyplot as plt\n",
    "\n",
    "df = pd.read_csv(\"./olist_df.csv\")\n",
    "print(df.info())"
   ]
  },
  {
   "cell_type": "code",
   "execution_count": 13,
   "metadata": {},
   "outputs": [],
   "source": [
    "new_df =df.groupby(\"customer_state\")[\"payment_value\"].sum()\n",
    "new_df = new_df.sort_values(ascending=False).head(10)\n",
    "df_state= new_df.index\n"
   ]
  },
  {
   "cell_type": "code",
   "execution_count": 14,
   "metadata": {},
   "outputs": [
    {
     "name": "stdout",
     "output_type": "stream",
     "text": [
      "  customer_state  payment_value\n",
      "0             BA      591665.48\n",
      "1             DF      344924.32\n",
      "2             GO      338117.77\n",
      "3             MG     1814013.13\n",
      "4             PE      315396.74\n",
      "5             PR      787249.30\n",
      "6             RJ     2060255.14\n",
      "7             RS      867328.76\n",
      "8             SC      593552.67\n",
      "9             SP     5790219.33\n"
     ]
    }
   ],
   "source": [
    "# 그룹화를 하면 기준 -> 인덱스로 바뀐다 -> 시리즈 생성한다.\n",
    "# as_index=False -> 그룹화 기준 컬럼을 인덱스로 사용하지 않고, 그대로 컬럼으로 사용한다,\n",
    "# -> 그룹화 결과가 데이터프레임을 생성한다.\n",
    "\n",
    "new_df = df.groupby(by=[\"customer_state\"], as_index=False)[\"payment_value\"].sum()\n",
    "#new_df = new_df.sort_values(by=\"price\" ,ascending=False)\n",
    "# 'Position'이 'Data Scientist' 또는 'HR Specialist'인 행 필터링\n",
    "# filtered_df = df[df['Position'].isin(['Data Scientist', 'HR Specialist'])]\n",
    "filtered_df = new_df[new_df[\"customer_state\"].isin(df_state)].reset_index()\n",
    "filtered_df.drop(columns=\"index\",inplace=True)\n",
    "print(filtered_df)"
   ]
  },
  {
   "cell_type": "code",
   "execution_count": 15,
   "metadata": {},
   "outputs": [],
   "source": [
    "#customer_state ==SP and customer_state == RJ"
   ]
  },
  {
   "cell_type": "code",
   "execution_count": 16,
   "metadata": {},
   "outputs": [
    {
     "name": "stdout",
     "output_type": "stream",
     "text": [
      "4108\n"
     ]
    }
   ],
   "source": [
    "print(df[\"customer_city\"].nunique())"
   ]
  },
  {
   "cell_type": "code",
   "execution_count": 17,
   "metadata": {},
   "outputs": [
    {
     "data": {
      "text/plain": [
       "<Axes: xlabel='customer_state', ylabel='payment_value'>"
      ]
     },
     "execution_count": 17,
     "metadata": {},
     "output_type": "execute_result"
    },
    {
     "data": {
      "image/png": "[encoded data removed]",
      "text/plain": [
       "<Figure size 640x480 with 1 Axes>"
      ]
     },
     "metadata": {},
     "output_type": "display_data"
    }
   ],
   "source": [
    "import seaborn as sns\n",
    "import matplotlib.pyplot as plt\n",
    "\n",
    "\n",
    "sns.barplot(\n",
    "    data=filtered_df,\n",
    "    x=\"customer_state\",\n",
    "    y=\"payment_value\",\n",
    "    # hue=\"payment_type\",\n",
    ")"
   ]
  }
 ],
 "metadata": {
  "kernelspec": {
   "display_name": "base",
   "language": "python",
   "name": "python3"
  },
  "language_info": {
   "codemirror_mode": {
    "name": "ipython",
    "version": 3
   },
   "file_extension": ".py",
   "mimetype": "text/x-python",
   "name": "python",
   "nbconvert_exporter": "python",
   "pygments_lexer": "ipython3",
   "version": "3.12.4"
  }
 },
 "nbformat": 4,
 "nbformat_minor": 2
}
