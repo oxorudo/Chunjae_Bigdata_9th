{
 "cells": [
  {
   "cell_type": "code",
   "execution_count": 1,
   "metadata": {},
   "outputs": [
    {
     "name": "stdout",
     "output_type": "stream",
     "text": [
      "       Unnamed: 0                          order_id  order_item_id  \\\n",
      "97911       97911  fffc94f6ce00a00581880bf54a75a037              1   \n",
      "97912       97912  fffcd46ef2263f404302a634eb57f7eb              1   \n",
      "97913       97913  fffce4705a9662cd70adb13d4a31832d              1   \n",
      "97914       97914  fffe18544ffabc95dfada21779c9644f              1   \n",
      "97915       97915  fffe41c64501cc87c801fd61db3f6244              1   \n",
      "\n",
      "                             product_id                         seller_id  \\\n",
      "97911  4aa6014eceb682077f9dc4bffebc05b0  b8bc237ba3788b23da09c0f1f3a3288c   \n",
      "97912  32e07fd915822b0765e448c4dd74c828  f3c38ab652836d21de61fb8314b69182   \n",
      "97913  72a30483855e2eafc67aee5dc2560482  c3cfdc648177fdbbbb35635a37472c53   \n",
      "97914  9c422a519119dcad7575db5af1ba540e  2b3e4a2a3ea8e01938cabda2a3e5cc79   \n",
      "97915  350688d9dc1e75ff97be326363655e01  f7ccf836d21b2fb1de37564105216cc1   \n",
      "\n",
      "       shipping_limit_date   price  freight_value  payment_sequential  \\\n",
      "97911  2018-05-02 04:11:01  299.99          43.41                   1   \n",
      "97912  2018-07-20 04:31:48  350.00          36.53                   1   \n",
      "97913  2017-10-30 17:14:25   99.90          16.95                   1   \n",
      "97914  2017-08-21 00:04:32   55.99           8.72                   1   \n",
      "97915  2018-06-12 17:10:13   43.00          12.79                   1   \n",
      "\n",
      "      payment_type  ...  order_delivered_carrier_date  \\\n",
      "97911       boleto  ...           2018-04-25 12:09:00   \n",
      "97912       boleto  ...           2018-07-17 08:05:00   \n",
      "97913  credit_card  ...           2017-10-26 15:13:14   \n",
      "97914  credit_card  ...           2017-08-15 19:02:53   \n",
      "97915  credit_card  ...           2018-06-11 14:11:00   \n",
      "\n",
      "       order_delivered_customer_date order_estimated_delivery_date  \\\n",
      "97911            2018-05-10 22:56:40           2018-05-18 00:00:00   \n",
      "97912            2018-07-23 20:31:55           2018-08-01 00:00:00   \n",
      "97913            2017-10-28 12:22:22           2017-11-10 00:00:00   \n",
      "97914            2017-08-16 21:59:40           2017-08-25 00:00:00   \n",
      "97915            2018-06-14 17:56:26           2018-06-28 00:00:00   \n",
      "\n",
      "                     customer_unique_id customer_zip_code_prefix  \\\n",
      "97911  0c9aeda10a71f369396d0c04dce13a64                    65077   \n",
      "97912  0da9fe112eae0c74d3ba1fe16de0988b                    81690   \n",
      "97913  cd79b407828f02fdbba457111c38e4c4                     4039   \n",
      "97914  eb803377c9315b564bdedad672039306                    13289   \n",
      "97915  cd76a00d8e3ca5e6ab9ed9ecb6667ac4                    18605   \n",
      "\n",
      "      customer_city customer_state seller_zip_code_prefix seller_city  \\\n",
      "97911      sao luis             MA                  88303      itajai   \n",
      "97912      curitiba             PR                   1206   sao paulo   \n",
      "97913     sao paulo             SP                  80610    curitiba   \n",
      "97914       vinhedo             SP                   4733   sao paulo   \n",
      "97915      botucatu             SP                  14940    ibitinga   \n",
      "\n",
      "       seller_state  \n",
      "97911            SC  \n",
      "97912            SP  \n",
      "97913            PR  \n",
      "97914            SP  \n",
      "97915            SP  \n",
      "\n",
      "[5 rows x 40 columns]\n"
     ]
    }
   ],
   "source": [
    "import pandas as pd\n",
    "import datetime as dt\n",
    "import seaborn as sns\n",
    "import matplotlib.pyplot as plt\n",
    "import plotly.express as px\n",
    "\n",
    "df = pd.read_csv(\"./olist_df.csv\")\n",
    "\n",
    "print(df.tail())\n",
    "\n",
    "\n",
    "def read_data():\n",
    "    df = pd.read_csv(\"./olist_df.csv\")\n",
    "\n",
    "    df[\"order_estimated_delivery_date\"] = pd.to_datetime(\n",
    "        df[\"order_estimated_delivery_date\"]\n",
    "    )\n",
    "    df[\"order_delivered_customer_date\"] = pd.to_datetime(\n",
    "        df[\"order_delivered_customer_date\"]\n",
    "    )\n",
    "\n",
    "    df[\"order_purchase_timestamp\"] = pd.to_datetime(df[\"order_purchase_timestamp\"])\n",
    "    df[\"deliver_date_diff\"] = (\n",
    "        df[\"order_estimated_delivery_date\"] - df[\"order_delivered_customer_date\"]\n",
    "    )\n",
    "    df[\"deliver_date_diff\"] = df[\"deliver_date_diff\"].dt.days\n",
    "    df[\"order_purchase_timestamp\"] = df[\"order_purchase_timestamp\"].dt.month\n",
    "    return df\n",
    "\n",
    "\n",
    "# def calculate_days_difference(d1,d2):\n",
    "\n",
    "#     difference = d1 - d2\n",
    "#     return difference.days"
   ]
  },
  {
   "cell_type": "code",
   "execution_count": 2,
   "metadata": {},
   "outputs": [],
   "source": [
    "df = read_data()"
   ]
  },
  {
   "cell_type": "code",
   "execution_count": 3,
   "metadata": {},
   "outputs": [
    {
     "name": "stdout",
     "output_type": "stream",
     "text": [
      "Unnamed: 0                           0\n",
      "order_id                             0\n",
      "order_item_id                        0\n",
      "product_id                           0\n",
      "seller_id                            0\n",
      "shipping_limit_date                  0\n",
      "price                                0\n",
      "freight_value                        0\n",
      "payment_sequential                   0\n",
      "payment_type                         0\n",
      "payment_installments                 0\n",
      "payment_value                        0\n",
      "review_id                            0\n",
      "review_score                         0\n",
      "review_comment_title             86454\n",
      "review_comment_message           57655\n",
      "review_creation_date                 0\n",
      "review_answer_timestamp              0\n",
      "product_category_name             1405\n",
      "product_name_lenght               1405\n",
      "product_description_lenght        1405\n",
      "product_photos_qty                1405\n",
      "product_weight_g                    16\n",
      "product_length_cm                   16\n",
      "product_height_cm                   16\n",
      "product_width_cm                    16\n",
      "customer_id                          0\n",
      "order_status                         0\n",
      "order_purchase_timestamp             0\n",
      "order_approved_at                   14\n",
      "order_delivered_carrier_date       991\n",
      "order_delivered_customer_date     2087\n",
      "order_estimated_delivery_date        0\n",
      "customer_unique_id                   0\n",
      "customer_zip_code_prefix             0\n",
      "customer_city                        0\n",
      "customer_state                       0\n",
      "seller_zip_code_prefix               0\n",
      "seller_city                          0\n",
      "seller_state                         0\n",
      "deliver_date_diff                 2087\n",
      "dtype: int64\n"
     ]
    }
   ],
   "source": [
    "print(df.isnull().sum())"
   ]
  },
  {
   "cell_type": "code",
   "execution_count": 4,
   "metadata": {},
   "outputs": [],
   "source": [
    "df = df.dropna(axis=\"index\")"
   ]
  },
  {
   "cell_type": "code",
   "execution_count": 5,
   "metadata": {},
   "outputs": [
    {
     "name": "stdout",
     "output_type": "stream",
     "text": [
      "Unnamed: 0                       0\n",
      "order_id                         0\n",
      "order_item_id                    0\n",
      "product_id                       0\n",
      "seller_id                        0\n",
      "shipping_limit_date              0\n",
      "price                            0\n",
      "freight_value                    0\n",
      "payment_sequential               0\n",
      "payment_type                     0\n",
      "payment_installments             0\n",
      "payment_value                    0\n",
      "review_id                        0\n",
      "review_score                     0\n",
      "review_comment_title             0\n",
      "review_comment_message           0\n",
      "review_creation_date             0\n",
      "review_answer_timestamp          0\n",
      "product_category_name            0\n",
      "product_name_lenght              0\n",
      "product_description_lenght       0\n",
      "product_photos_qty               0\n",
      "product_weight_g                 0\n",
      "product_length_cm                0\n",
      "product_height_cm                0\n",
      "product_width_cm                 0\n",
      "customer_id                      0\n",
      "order_status                     0\n",
      "order_purchase_timestamp         0\n",
      "order_approved_at                0\n",
      "order_delivered_carrier_date     0\n",
      "order_delivered_customer_date    0\n",
      "order_estimated_delivery_date    0\n",
      "customer_unique_id               0\n",
      "customer_zip_code_prefix         0\n",
      "customer_city                    0\n",
      "customer_state                   0\n",
      "seller_zip_code_prefix           0\n",
      "seller_city                      0\n",
      "seller_state                     0\n",
      "deliver_date_diff                0\n",
      "dtype: int64\n"
     ]
    }
   ],
   "source": [
    "print(df.isnull().sum())"
   ]
  },
  {
   "cell_type": "code",
   "execution_count": 6,
   "metadata": {},
   "outputs": [
    {
     "data": {
      "text/plain": [
       "12       21.0\n",
       "16        3.0\n",
       "27        6.0\n",
       "46        0.0\n",
       "49       11.0\n",
       "         ... \n",
       "97836   -17.0\n",
       "97840    20.0\n",
       "97851    25.0\n",
       "97873    19.0\n",
       "97881    15.0\n",
       "Name: deliver_date_diff, Length: 9437, dtype: float64"
      ]
     },
     "execution_count": 6,
     "metadata": {},
     "output_type": "execute_result"
    }
   ],
   "source": [
    "df[\"deliver_date_diff\"]"
   ]
  },
  {
   "cell_type": "code",
   "execution_count": 7,
   "metadata": {},
   "outputs": [],
   "source": [
    "# df2 = pd.read_csv(\"data/olist_order_reviews_dataset.csv\")\n",
    "\n",
    "# # print(df2.isnull().sum())\n",
    "# # print(df2.head())\n",
    "\n",
    "# df2.info()"
   ]
  },
  {
   "cell_type": "code",
   "execution_count": 8,
   "metadata": {},
   "outputs": [],
   "source": [
    "# df_diff = pd.merge(df, df2, how=\"outer\", on=\"order_id\")\n",
    "\n",
    "# df_diff"
   ]
  },
  {
   "cell_type": "code",
   "execution_count": 9,
   "metadata": {},
   "outputs": [
    {
     "data": {
      "text/plain": [
       "202     -61.0\n",
       "3773    -53.0\n",
       "44363   -51.0\n",
       "96565   -50.0\n",
       "68163   -50.0\n",
       "         ... \n",
       "89370    49.0\n",
       "67026    50.0\n",
       "94767    52.0\n",
       "77071    52.0\n",
       "43114    54.0\n",
       "Name: deliver_date_diff, Length: 9437, dtype: float64"
      ]
     },
     "execution_count": 9,
     "metadata": {},
     "output_type": "execute_result"
    }
   ],
   "source": [
    "df[\"deliver_date_diff\"].sort_values()"
   ]
  },
  {
   "cell_type": "code",
   "execution_count": 10,
   "metadata": {},
   "outputs": [
    {
     "data": {
      "text/plain": [
       "review_score         0\n",
       "deliver_date_diff    0\n",
       "dtype: int64"
      ]
     },
     "execution_count": 10,
     "metadata": {},
     "output_type": "execute_result"
    }
   ],
   "source": [
    "df[[\"review_score\", \"deliver_date_diff\"]].isnull().sum()"
   ]
  },
  {
   "cell_type": "code",
   "execution_count": 11,
   "metadata": {},
   "outputs": [],
   "source": [
    "df = df.dropna(axis=0, subset=[\"review_score\", \"deliver_date_diff\"])"
   ]
  },
  {
   "cell_type": "code",
   "execution_count": 12,
   "metadata": {},
   "outputs": [
    {
     "data": {
      "text/html": [
       "<div>\n",
       "<style scoped>\n",
       "    .dataframe tbody tr th:only-of-type {\n",
       "        vertical-align: middle;\n",
       "    }\n",
       "\n",
       "    .dataframe tbody tr th {\n",
       "        vertical-align: top;\n",
       "    }\n",
       "\n",
       "    .dataframe thead th {\n",
       "        text-align: right;\n",
       "    }\n",
       "</style>\n",
       "<table border=\"1\" class=\"dataframe\">\n",
       "  <thead>\n",
       "    <tr style=\"text-align: right;\">\n",
       "      <th></th>\n",
       "      <th>review_score</th>\n",
       "      <th>deliver_date_diff</th>\n",
       "    </tr>\n",
       "  </thead>\n",
       "  <tbody>\n",
       "    <tr>\n",
       "      <th>12</th>\n",
       "      <td>5</td>\n",
       "      <td>21.0</td>\n",
       "    </tr>\n",
       "    <tr>\n",
       "      <th>16</th>\n",
       "      <td>1</td>\n",
       "      <td>3.0</td>\n",
       "    </tr>\n",
       "    <tr>\n",
       "      <th>27</th>\n",
       "      <td>5</td>\n",
       "      <td>6.0</td>\n",
       "    </tr>\n",
       "    <tr>\n",
       "      <th>46</th>\n",
       "      <td>1</td>\n",
       "      <td>0.0</td>\n",
       "    </tr>\n",
       "    <tr>\n",
       "      <th>49</th>\n",
       "      <td>4</td>\n",
       "      <td>11.0</td>\n",
       "    </tr>\n",
       "    <tr>\n",
       "      <th>...</th>\n",
       "      <td>...</td>\n",
       "      <td>...</td>\n",
       "    </tr>\n",
       "    <tr>\n",
       "      <th>97836</th>\n",
       "      <td>1</td>\n",
       "      <td>-17.0</td>\n",
       "    </tr>\n",
       "    <tr>\n",
       "      <th>97840</th>\n",
       "      <td>5</td>\n",
       "      <td>20.0</td>\n",
       "    </tr>\n",
       "    <tr>\n",
       "      <th>97851</th>\n",
       "      <td>4</td>\n",
       "      <td>25.0</td>\n",
       "    </tr>\n",
       "    <tr>\n",
       "      <th>97873</th>\n",
       "      <td>3</td>\n",
       "      <td>19.0</td>\n",
       "    </tr>\n",
       "    <tr>\n",
       "      <th>97881</th>\n",
       "      <td>5</td>\n",
       "      <td>15.0</td>\n",
       "    </tr>\n",
       "  </tbody>\n",
       "</table>\n",
       "<p>9437 rows × 2 columns</p>\n",
       "</div>"
      ],
      "text/plain": [
       "       review_score  deliver_date_diff\n",
       "12                5               21.0\n",
       "16                1                3.0\n",
       "27                5                6.0\n",
       "46                1                0.0\n",
       "49                4               11.0\n",
       "...             ...                ...\n",
       "97836             1              -17.0\n",
       "97840             5               20.0\n",
       "97851             4               25.0\n",
       "97873             3               19.0\n",
       "97881             5               15.0\n",
       "\n",
       "[9437 rows x 2 columns]"
      ]
     },
     "execution_count": 12,
     "metadata": {},
     "output_type": "execute_result"
    }
   ],
   "source": [
    "df[[\"review_score\", \"deliver_date_diff\"]]"
   ]
  },
  {
   "cell_type": "code",
   "execution_count": 13,
   "metadata": {},
   "outputs": [
    {
     "data": {
      "text/plain": [
       "review_score\n",
       "5    5365\n",
       "1    1527\n",
       "4    1418\n",
       "3     710\n",
       "2     417\n",
       "Name: count, dtype: int64"
      ]
     },
     "execution_count": 13,
     "metadata": {},
     "output_type": "execute_result"
    }
   ],
   "source": [
    "df[\"review_score\"].value_counts()"
   ]
  },
  {
   "cell_type": "code",
   "execution_count": 14,
   "metadata": {},
   "outputs": [],
   "source": [
    "df.loc[:, \"deliver_date_diff_score\"] = pd.qcut(\n",
    "    df[\"deliver_date_diff\"],\n",
    "    q=[0, 0.1, 0.2, 0.3, 0.4, 0.5, 0.6, 0.7, 0.8, 0.9, 1.0],\n",
    "    labels=[1, 2, 3, 4, 5, 6, 7, 8, 9, 10],\n",
    ")"
   ]
  },
  {
   "cell_type": "code",
   "execution_count": 15,
   "metadata": {},
   "outputs": [
    {
     "data": {
      "text/plain": [
       "75938     1\n",
       "28181     1\n",
       "83095     1\n",
       "28273     1\n",
       "44167     1\n",
       "         ..\n",
       "72814    10\n",
       "34545    10\n",
       "12946    10\n",
       "46193    10\n",
       "28817    10\n",
       "Name: deliver_date_diff_score, Length: 9437, dtype: category\n",
       "Categories (10, int64): [1 < 2 < 3 < 4 ... 7 < 8 < 9 < 10]"
      ]
     },
     "execution_count": 15,
     "metadata": {},
     "output_type": "execute_result"
    }
   ],
   "source": [
    "df[\"deliver_date_diff_score\"].sort_values()"
   ]
  },
  {
   "cell_type": "code",
   "execution_count": 16,
   "metadata": {},
   "outputs": [
    {
     "data": {
      "text/plain": [
       "<Axes: xlabel='deliver_date_diff_score', ylabel='review_score'>"
      ]
     },
     "execution_count": 16,
     "metadata": {},
     "output_type": "execute_result"
    },
    {
     "data": {
      "image/png": "[encoded data removed]",
      "text/plain": [
       "<Figure size 640x480 with 1 Axes>"
      ]
     },
     "metadata": {},
     "output_type": "display_data"
    }
   ],
   "source": [
    "sns.barplot(df, x=\"deliver_date_diff_score\", y=\"review_score\")"
   ]
  },
  {
   "cell_type": "markdown",
   "metadata": {},
   "source": [
    "배송일 차이 계층 == 1(배송 차이 하위 10%) 일때가 확연히 별점이 낮았다."
   ]
  },
  {
   "cell_type": "markdown",
   "metadata": {},
   "source": [
    "\"배송일 차이가 클수록 고객 만족도(별점)는 낮아진다.\"\n",
    "설명: 예상 배송일과 실제 배송일의 차이가 커질수록, 고객의 기대와 실제 경험 간의 차이가 커지며, 이는 고객의 불만으로 이어져 별점이 낮아진다."
   ]
  },
  {
   "cell_type": "code",
   "execution_count": 17,
   "metadata": {},
   "outputs": [
    {
     "data": {
      "text/html": [
       "<div>\n",
       "<style scoped>\n",
       "    .dataframe tbody tr th:only-of-type {\n",
       "        vertical-align: middle;\n",
       "    }\n",
       "\n",
       "    .dataframe tbody tr th {\n",
       "        vertical-align: top;\n",
       "    }\n",
       "\n",
       "    .dataframe thead th {\n",
       "        text-align: right;\n",
       "    }\n",
       "</style>\n",
       "<table border=\"1\" class=\"dataframe\">\n",
       "  <thead>\n",
       "    <tr style=\"text-align: right;\">\n",
       "      <th></th>\n",
       "      <th>deliver_date_diff</th>\n",
       "      <th>review_score</th>\n",
       "    </tr>\n",
       "  </thead>\n",
       "  <tbody>\n",
       "    <tr>\n",
       "      <th>46</th>\n",
       "      <td>0.0</td>\n",
       "      <td>1</td>\n",
       "    </tr>\n",
       "    <tr>\n",
       "      <th>93</th>\n",
       "      <td>0.0</td>\n",
       "      <td>5</td>\n",
       "    </tr>\n",
       "    <tr>\n",
       "      <th>97</th>\n",
       "      <td>0.0</td>\n",
       "      <td>5</td>\n",
       "    </tr>\n",
       "    <tr>\n",
       "      <th>198</th>\n",
       "      <td>-3.0</td>\n",
       "      <td>1</td>\n",
       "    </tr>\n",
       "    <tr>\n",
       "      <th>202</th>\n",
       "      <td>-61.0</td>\n",
       "      <td>4</td>\n",
       "    </tr>\n",
       "    <tr>\n",
       "      <th>...</th>\n",
       "      <td>...</td>\n",
       "      <td>...</td>\n",
       "    </tr>\n",
       "    <tr>\n",
       "      <th>97491</th>\n",
       "      <td>-8.0</td>\n",
       "      <td>1</td>\n",
       "    </tr>\n",
       "    <tr>\n",
       "      <th>97501</th>\n",
       "      <td>-13.0</td>\n",
       "      <td>5</td>\n",
       "    </tr>\n",
       "    <tr>\n",
       "      <th>97670</th>\n",
       "      <td>0.0</td>\n",
       "      <td>4</td>\n",
       "    </tr>\n",
       "    <tr>\n",
       "      <th>97699</th>\n",
       "      <td>-10.0</td>\n",
       "      <td>1</td>\n",
       "    </tr>\n",
       "    <tr>\n",
       "      <th>97836</th>\n",
       "      <td>-17.0</td>\n",
       "      <td>1</td>\n",
       "    </tr>\n",
       "  </tbody>\n",
       "</table>\n",
       "<p>966 rows × 2 columns</p>\n",
       "</div>"
      ],
      "text/plain": [
       "       deliver_date_diff  review_score\n",
       "46                   0.0             1\n",
       "93                   0.0             5\n",
       "97                   0.0             5\n",
       "198                 -3.0             1\n",
       "202                -61.0             4\n",
       "...                  ...           ...\n",
       "97491               -8.0             1\n",
       "97501              -13.0             5\n",
       "97670                0.0             4\n",
       "97699              -10.0             1\n",
       "97836              -17.0             1\n",
       "\n",
       "[966 rows x 2 columns]"
      ]
     },
     "execution_count": 17,
     "metadata": {},
     "output_type": "execute_result"
    }
   ],
   "source": [
    "df2 = df.loc[df[\"deliver_date_diff_score\"] == 1, [\"deliver_date_diff\", \"review_score\"]]\n",
    "df2"
   ]
  },
  {
   "cell_type": "code",
   "execution_count": 18,
   "metadata": {},
   "outputs": [
    {
     "data": {
      "application/vnd.plotly.v1+json": {
       "config": {
        "plotlyServerURL": "https://plotly.com"
       },
       "data": [
        {
         "alignmentgroup": "True",
         "bingroup": "x",
         "hovertemplate": "color=1<br>x=%{x}<br>count=%{y}<extra></extra>",
         "legendgroup": "1",
         "marker": {
          "color": "#636efa",
          "pattern": {
           "shape": ""
          }
         },
         "name": "1",
         "offsetgroup": "1",
         "orientation": "v",
         "showlegend": true,
         "type": "histogram",
         "x": [
          0,
          -3,
          -3,
          -5,
          -14,
          -10,
          -14,
          -18,
          -2,
          -1,
          -11,
          -8,
          -13,
          -20,
          -12,
          -53,
          -5,
          -32,
          -18,
          0,
          -7,
          -13,
          -10,
          -4,
          -6,
          -14,
          -12,
          -4,
          -8,
          -13,
          -1,
          -5,
          0,
          -7,
          -4,
          -4,
          -39,
          -3,
          -1,
          -3,
          -14,
          -3,
          -7,
          -30,
          -7,
          -32,
          -3,
          -6,
          -6,
          -6,
          -11,
          -10,
          -9,
          0,
          -5,
          -4,
          -3,
          -7,
          -21,
          -5,
          -3,
          0,
          -3,
          -12,
          -10,
          -5,
          -23,
          -8,
          -6,
          -15,
          -11,
          -11,
          -17,
          -1,
          -4,
          -5,
          -6,
          -11,
          -3,
          -7,
          -9,
          -14,
          -4,
          -7,
          -10,
          -16,
          -8,
          -7,
          -1,
          -5,
          -2,
          -9,
          -11,
          -8,
          -19,
          -9,
          -4,
          0,
          -8,
          -4,
          -15,
          -10,
          -9,
          -2,
          -8,
          -8,
          -6,
          -6,
          -8,
          -15,
          -8,
          -10,
          0,
          -2,
          -6,
          -8,
          -8,
          -22,
          -6,
          -14,
          -16,
          -39,
          0,
          -16,
          -7,
          -9,
          0,
          -12,
          -30,
          -20,
          -18,
          -4,
          -7,
          -11,
          -14,
          -36,
          -11,
          -9,
          -5,
          -7,
          -22,
          -1,
          -3,
          -7,
          -13,
          -6,
          -7,
          -14,
          -6,
          -3,
          -1,
          -3,
          -7,
          -4,
          -11,
          -11,
          -22,
          -15,
          -31,
          -8,
          -4,
          -7,
          -20,
          -15,
          -6,
          -4,
          -3,
          -10,
          -11,
          -2,
          -8,
          -2,
          -16,
          -1,
          -8,
          -22,
          -7,
          -7,
          -10,
          -7,
          -6,
          -16,
          -7,
          0,
          -4,
          -5,
          -2,
          -15,
          -5,
          -29,
          -6,
          -4,
          -18,
          -2,
          -6,
          -5,
          -4,
          -8,
          -1,
          -19,
          -9,
          -8,
          -4,
          -6,
          -5,
          -25,
          -10,
          -13,
          -2,
          -17,
          -20,
          -13,
          -4,
          -9,
          -19,
          -7,
          -10,
          -7,
          -33,
          -3,
          -17,
          -6,
          -16,
          -8,
          -14,
          -7,
          -6,
          -12,
          -9,
          -4,
          -15,
          -8,
          -10,
          -9,
          -3,
          -3,
          -9,
          -5,
          -14,
          -11,
          -17,
          -3,
          -6,
          -7,
          -13,
          -7,
          -10,
          -9,
          -7,
          -2,
          -8,
          -5,
          0,
          -22,
          -3,
          -9,
          -3,
          -42,
          -42,
          -8,
          -19,
          -7,
          -14,
          -7,
          0,
          -2,
          -8,
          -17,
          -5,
          -1,
          -10,
          -8,
          -15,
          0,
          -3,
          -10,
          -4,
          -29,
          -8,
          -8,
          -17,
          -6,
          -11,
          -2,
          -5,
          -11,
          -1,
          -1,
          -7,
          -15,
          -16,
          -2,
          0,
          -1,
          -6,
          -9,
          -1,
          -11,
          -7,
          -8,
          -6,
          -1,
          -9,
          -8,
          -1,
          -3,
          -7,
          -9,
          -12,
          -9,
          -34,
          -15,
          -6,
          -10,
          -7,
          -13,
          -3,
          -5,
          -9,
          0,
          -6,
          0,
          -12,
          -2,
          -1,
          -18,
          -8,
          -13,
          -27,
          -8,
          -5,
          -6,
          0,
          -8,
          -8,
          -11,
          -9,
          -10,
          -3,
          0,
          0,
          -28,
          -8,
          -6,
          -12,
          -22,
          -23,
          -25,
          -7,
          -8,
          -5,
          -3,
          -1,
          0,
          -48,
          -14,
          -15,
          -19,
          -11,
          -18,
          -6,
          -10,
          -3,
          -8,
          -10,
          -1,
          -3,
          -8,
          -11,
          -1,
          -7,
          -2,
          -6,
          -4,
          -8,
          -23,
          -2,
          -7,
          0,
          -25,
          -10,
          -9,
          -50,
          -9,
          -23,
          -15,
          -8,
          -10,
          -17
         ],
         "xaxis": "x",
         "yaxis": "y"
        },
        {
         "alignmentgroup": "True",
         "bingroup": "x",
         "hovertemplate": "color=5<br>x=%{x}<br>count=%{y}<extra></extra>",
         "legendgroup": "5",
         "marker": {
          "color": "#EF553B",
          "pattern": {
           "shape": ""
          }
         },
         "name": "5",
         "offsetgroup": "5",
         "orientation": "v",
         "showlegend": true,
         "type": "histogram",
         "x": [
          0,
          0,
          -1,
          0,
          0,
          -2,
          0,
          -1,
          -3,
          0,
          0,
          0,
          0,
          -7,
          -1,
          -1,
          -2,
          -3,
          -3,
          -1,
          -6,
          -4,
          0,
          -2,
          0,
          -2,
          -1,
          -22,
          -1,
          -1,
          0,
          -4,
          -4,
          -2,
          -1,
          -1,
          -1,
          -2,
          -6,
          -1,
          0,
          -1,
          0,
          -8,
          0,
          -2,
          -2,
          -10,
          0,
          -1,
          -2,
          0,
          -2,
          -1,
          -5,
          -12,
          0,
          -4,
          -3,
          -1,
          0,
          0,
          0,
          -1,
          0,
          -1,
          -1,
          -7,
          -1,
          0,
          0,
          0,
          0,
          0,
          0,
          0,
          -1,
          0,
          -1,
          -2,
          0,
          0,
          0,
          -11,
          -2,
          -5,
          -3,
          -1,
          -3,
          -1,
          -2,
          0,
          -1,
          0,
          0,
          -1,
          -2,
          0,
          -6,
          0,
          0,
          0,
          -10,
          -2,
          0,
          -6,
          0,
          0,
          -6,
          0,
          -3,
          0,
          -1,
          -12,
          -3,
          -3,
          0,
          -2,
          -1,
          0,
          -1,
          0,
          -8,
          0,
          -4,
          -1,
          0,
          -1,
          -8,
          0,
          -2,
          -1,
          -3,
          -1,
          -1,
          -2,
          0,
          -1,
          0,
          0,
          -43,
          0,
          -2,
          -3,
          -1,
          -1,
          0,
          0,
          -1,
          -12,
          -1,
          -8,
          -1,
          0,
          -3,
          -1,
          -1,
          -3,
          0,
          0,
          -1,
          -2,
          0,
          -1,
          -1,
          -1,
          -4,
          -2,
          -1,
          -1,
          -4,
          -1,
          0,
          -2,
          -2,
          -1,
          -1,
          0,
          0,
          -6,
          -1,
          -1,
          -2,
          -5,
          -2,
          0,
          0,
          0,
          -1,
          -2,
          0,
          -1,
          -2,
          -1,
          0,
          -5,
          -1,
          -2,
          0,
          -1,
          -4,
          -4,
          -3,
          -50,
          -1,
          -1,
          -1,
          0,
          -1,
          0,
          0,
          0,
          0,
          -2,
          -2,
          0,
          0,
          0,
          -17,
          -1,
          -1,
          0,
          0,
          0,
          -9,
          0,
          0,
          0,
          -1,
          -3,
          0,
          -13,
          -1,
          -8,
          -4,
          0,
          -2,
          -1,
          -2,
          -1,
          0,
          0,
          -2,
          -10,
          -1,
          -4,
          0,
          0,
          -9,
          -1,
          -1,
          -4,
          -1,
          -1,
          -5,
          0,
          -1,
          -4,
          -1,
          -1,
          -1,
          0,
          -1,
          0,
          0,
          0,
          0,
          -1,
          -1,
          0,
          0,
          -4,
          0,
          0,
          0,
          -3,
          -3,
          -8,
          -15,
          -8,
          0,
          0,
          0,
          -1,
          -1,
          0,
          -2,
          -2,
          0,
          0,
          0,
          -1,
          0,
          0,
          0,
          0,
          -1,
          -1,
          -1,
          -3,
          -1,
          -13
         ],
         "xaxis": "x",
         "yaxis": "y"
        },
        {
         "alignmentgroup": "True",
         "bingroup": "x",
         "hovertemplate": "color=4<br>x=%{x}<br>count=%{y}<extra></extra>",
         "legendgroup": "4",
         "marker": {
          "color": "#00cc96",
          "pattern": {
           "shape": ""
          }
         },
         "name": "4",
         "offsetgroup": "4",
         "orientation": "v",
         "showlegend": true,
         "type": "histogram",
         "x": [
          -61,
          0,
          -2,
          -4,
          -1,
          -1,
          -3,
          -4,
          0,
          -1,
          0,
          0,
          0,
          -9,
          -4,
          -2,
          -1,
          -1,
          0,
          0,
          -4,
          -1,
          -5,
          -1,
          -1,
          0,
          -1,
          0,
          -2,
          0,
          -1,
          0,
          -16,
          -3,
          -2,
          -1,
          -2,
          -5,
          -5,
          -1,
          -1,
          -15,
          -4,
          -1,
          0,
          0,
          0,
          -1,
          -1,
          -6,
          -7,
          -1,
          -1,
          -51,
          -8,
          -17,
          -8,
          -9,
          -3,
          0,
          -6,
          0,
          -3,
          0,
          -15,
          -12,
          -2,
          -23,
          -1,
          -4,
          0,
          -2,
          -1,
          -1,
          0,
          -3,
          0,
          -1,
          -1,
          0,
          -1,
          -1,
          -2,
          -2,
          -1,
          -10,
          0,
          -9,
          -6,
          -2,
          -1,
          -1,
          0,
          -2,
          0,
          0,
          0,
          0,
          -5,
          0,
          -8,
          -1,
          0,
          -5,
          -5,
          -9,
          -4,
          0,
          -2,
          -1,
          -1,
          -4,
          -12,
          -5,
          -4,
          -8,
          -2,
          0,
          0
         ],
         "xaxis": "x",
         "yaxis": "y"
        },
        {
         "alignmentgroup": "True",
         "bingroup": "x",
         "hovertemplate": "color=3<br>x=%{x}<br>count=%{y}<extra></extra>",
         "legendgroup": "3",
         "marker": {
          "color": "#ab63fa",
          "pattern": {
           "shape": ""
          }
         },
         "name": "3",
         "offsetgroup": "3",
         "orientation": "v",
         "showlegend": true,
         "type": "histogram",
         "x": [
          -10,
          -1,
          -17,
          0,
          -1,
          -2,
          -1,
          -15,
          -2,
          -1,
          -8,
          -3,
          -13,
          -4,
          -4,
          -2,
          -9,
          -2,
          -1,
          -8,
          -3,
          -6,
          -7,
          -2,
          -14,
          -18,
          -4,
          -4,
          -7,
          -8,
          -1,
          -4,
          -1,
          -12,
          -15,
          -2,
          -2,
          -2,
          -2,
          -6,
          -1,
          -29,
          0,
          -2,
          -11,
          -13,
          -6,
          -28,
          -26,
          -3,
          0,
          -2,
          -9,
          -5,
          -8,
          -8,
          -1,
          -18,
          -1,
          0,
          -14,
          -32,
          -12,
          -3,
          -6,
          -1,
          -6,
          -1,
          -37,
          0,
          -7,
          -1,
          -1,
          0,
          -20,
          -3,
          -8,
          -5,
          -3,
          -4,
          -4,
          0,
          -18,
          -3,
          -3,
          -8,
          -13,
          0,
          -14,
          -10
         ],
         "xaxis": "x",
         "yaxis": "y"
        },
        {
         "alignmentgroup": "True",
         "bingroup": "x",
         "hovertemplate": "color=2<br>x=%{x}<br>count=%{y}<extra></extra>",
         "legendgroup": "2",
         "marker": {
          "color": "#FFA15A",
          "pattern": {
           "shape": ""
          }
         },
         "name": "2",
         "offsetgroup": "2",
         "orientation": "v",
         "showlegend": true,
         "type": "histogram",
         "x": [
          0,
          -22,
          0,
          -9,
          -1,
          -14,
          -1,
          -27,
          -1,
          -6,
          -7,
          -7,
          -4,
          -5,
          -14,
          -24,
          -2,
          -8,
          -6,
          -6,
          -15,
          -7,
          -4,
          -1,
          -16,
          -2,
          -17,
          -10,
          -15,
          0,
          -19,
          -4,
          -10,
          0,
          -21,
          -7,
          -11,
          -16,
          -8,
          -21,
          -14,
          -4,
          -8,
          -18,
          -2,
          -14,
          -4,
          0,
          -12,
          -3,
          -3,
          -6,
          -21,
          -3,
          -3,
          0,
          -10,
          -13,
          -5,
          -2,
          -6,
          -19,
          -1,
          -12,
          -36,
          -8
         ],
         "xaxis": "x",
         "yaxis": "y"
        }
       ],
       "layout": {
        "barmode": "relative",
        "legend": {
         "title": {
          "text": "color"
         },
         "tracegroupgap": 0
        },
        "margin": {
         "t": 60
        },
        "template": {
         "data": {
          "bar": [
           {
            "error_x": {
             "color": "#2a3f5f"
            },
            "error_y": {
             "color": "#2a3f5f"
            },
            "marker": {
             "line": {
              "color": "#E5ECF6",
              "width": 0.5
             },
             "pattern": {
              "fillmode": "overlay",
              "size": 10,
              "solidity": 0.2
             }
            },
            "type": "bar"
           }
          ],
          "barpolar": [
           {
            "marker": {
             "line": {
              "color": "#E5ECF6",
              "width": 0.5
             },
             "pattern": {
              "fillmode": "overlay",
              "size": 10,
              "solidity": 0.2
             }
            },
            "type": "barpolar"
           }
          ],
          "carpet": [
           {
            "aaxis": {
             "endlinecolor": "#2a3f5f",
             "gridcolor": "white",
             "linecolor": "white",
             "minorgridcolor": "white",
             "startlinecolor": "#2a3f5f"
            },
            "baxis": {
             "endlinecolor": "#2a3f5f",
             "gridcolor": "white",
             "linecolor": "white",
             "minorgridcolor": "white",
             "startlinecolor": "#2a3f5f"
            },
            "type": "carpet"
           }
          ],
          "choropleth": [
           {
            "colorbar": {
             "outlinewidth": 0,
             "ticks": ""
            },
            "type": "choropleth"
           }
          ],
          "contour": [
           {
            "colorbar": {
             "outlinewidth": 0,
             "ticks": ""
            },
            "colorscale": [
             [
              0,
              "#0d0887"
             ],
             [
              0.1111111111111111,
              "#46039f"
             ],
             [
              0.2222222222222222,
              "#7201a8"
             ],
             [
              0.3333333333333333,
              "#9c179e"
             ],
             [
              0.4444444444444444,
              "#bd3786"
             ],
             [
              0.5555555555555556,
              "#d8576b"
             ],
             [
              0.6666666666666666,
              "#ed7953"
             ],
             [
              0.7777777777777778,
              "#fb9f3a"
             ],
             [
              0.8888888888888888,
              "#fdca26"
             ],
             [
              1,
              "#f0f921"
             ]
            ],
            "type": "contour"
           }
          ],
          "contourcarpet": [
           {
            "colorbar": {
             "outlinewidth": 0,
             "ticks": ""
            },
            "type": "contourcarpet"
           }
          ],
          "heatmap": [
           {
            "colorbar": {
             "outlinewidth": 0,
             "ticks": ""
            },
            "colorscale": [
             [
              0,
              "#0d0887"
             ],
             [
              0.1111111111111111,
              "#46039f"
             ],
             [
              0.2222222222222222,
              "#7201a8"
             ],
             [
              0.3333333333333333,
              "#9c179e"
             ],
             [
              0.4444444444444444,
              "#bd3786"
             ],
             [
              0.5555555555555556,
              "#d8576b"
             ],
             [
              0.6666666666666666,
              "#ed7953"
             ],
             [
              0.7777777777777778,
              "#fb9f3a"
             ],
             [
              0.8888888888888888,
              "#fdca26"
             ],
             [
              1,
              "#f0f921"
             ]
            ],
            "type": "heatmap"
           }
          ],
          "heatmapgl": [
           {
            "colorbar": {
             "outlinewidth": 0,
             "ticks": ""
            },
            "colorscale": [
             [
              0,
              "#0d0887"
             ],
             [
              0.1111111111111111,
              "#46039f"
             ],
             [
              0.2222222222222222,
              "#7201a8"
             ],
             [
              0.3333333333333333,
              "#9c179e"
             ],
             [
              0.4444444444444444,
              "#bd3786"
             ],
             [
              0.5555555555555556,
              "#d8576b"
             ],
             [
              0.6666666666666666,
              "#ed7953"
             ],
             [
              0.7777777777777778,
              "#fb9f3a"
             ],
             [
              0.8888888888888888,
              "#fdca26"
             ],
             [
              1,
              "#f0f921"
             ]
            ],
            "type": "heatmapgl"
           }
          ],
          "histogram": [
           {
            "marker": {
             "pattern": {
              "fillmode": "overlay",
              "size": 10,
              "solidity": 0.2
             }
            },
            "type": "histogram"
           }
          ],
          "histogram2d": [
           {
            "colorbar": {
             "outlinewidth": 0,
             "ticks": ""
            },
            "colorscale": [
             [
              0,
              "#0d0887"
             ],
             [
              0.1111111111111111,
              "#46039f"
             ],
             [
              0.2222222222222222,
              "#7201a8"
             ],
             [
              0.3333333333333333,
              "#9c179e"
             ],
             [
              0.4444444444444444,
              "#bd3786"
             ],
             [
              0.5555555555555556,
              "#d8576b"
             ],
             [
              0.6666666666666666,
              "#ed7953"
             ],
             [
              0.7777777777777778,
              "#fb9f3a"
             ],
             [
              0.8888888888888888,
              "#fdca26"
             ],
             [
              1,
              "#f0f921"
             ]
            ],
            "type": "histogram2d"
           }
          ],
          "histogram2dcontour": [
           {
            "colorbar": {
             "outlinewidth": 0,
             "ticks": ""
            },
            "colorscale": [
             [
              0,
              "#0d0887"
             ],
             [
              0.1111111111111111,
              "#46039f"
             ],
             [
              0.2222222222222222,
              "#7201a8"
             ],
             [
              0.3333333333333333,
              "#9c179e"
             ],
             [
              0.4444444444444444,
              "#bd3786"
             ],
             [
              0.5555555555555556,
              "#d8576b"
             ],
             [
              0.6666666666666666,
              "#ed7953"
             ],
             [
              0.7777777777777778,
              "#fb9f3a"
             ],
             [
              0.8888888888888888,
              "#fdca26"
             ],
             [
              1,
              "#f0f921"
             ]
            ],
            "type": "histogram2dcontour"
           }
          ],
          "mesh3d": [
           {
            "colorbar": {
             "outlinewidth": 0,
             "ticks": ""
            },
            "type": "mesh3d"
           }
          ],
          "parcoords": [
           {
            "line": {
             "colorbar": {
              "outlinewidth": 0,
              "ticks": ""
             }
            },
            "type": "parcoords"
           }
          ],
          "pie": [
           {
            "automargin": true,
            "type": "pie"
           }
          ],
          "scatter": [
           {
            "fillpattern": {
             "fillmode": "overlay",
             "size": 10,
             "solidity": 0.2
            },
            "type": "scatter"
           }
          ],
          "scatter3d": [
           {
            "line": {
             "colorbar": {
              "outlinewidth": 0,
              "ticks": ""
             }
            },
            "marker": {
             "colorbar": {
              "outlinewidth": 0,
              "ticks": ""
             }
            },
            "type": "scatter3d"
           }
          ],
          "scattercarpet": [
           {
            "marker": {
             "colorbar": {
              "outlinewidth": 0,
              "ticks": ""
             }
            },
            "type": "scattercarpet"
           }
          ],
          "scattergeo": [
           {
            "marker": {
             "colorbar": {
              "outlinewidth": 0,
              "ticks": ""
             }
            },
            "type": "scattergeo"
           }
          ],
          "scattergl": [
           {
            "marker": {
             "colorbar": {
              "outlinewidth": 0,
              "ticks": ""
             }
            },
            "type": "scattergl"
           }
          ],
          "scattermapbox": [
           {
            "marker": {
             "colorbar": {
              "outlinewidth": 0,
              "ticks": ""
             }
            },
            "type": "scattermapbox"
           }
          ],
          "scatterpolar": [
           {
            "marker": {
             "colorbar": {
              "outlinewidth": 0,
              "ticks": ""
             }
            },
            "type": "scatterpolar"
           }
          ],
          "scatterpolargl": [
           {
            "marker": {
             "colorbar": {
              "outlinewidth": 0,
              "ticks": ""
             }
            },
            "type": "scatterpolargl"
           }
          ],
          "scatterternary": [
           {
            "marker": {
             "colorbar": {
              "outlinewidth": 0,
              "ticks": ""
             }
            },
            "type": "scatterternary"
           }
          ],
          "surface": [
           {
            "colorbar": {
             "outlinewidth": 0,
             "ticks": ""
            },
            "colorscale": [
             [
              0,
              "#0d0887"
             ],
             [
              0.1111111111111111,
              "#46039f"
             ],
             [
              0.2222222222222222,
              "#7201a8"
             ],
             [
              0.3333333333333333,
              "#9c179e"
             ],
             [
              0.4444444444444444,
              "#bd3786"
             ],
             [
              0.5555555555555556,
              "#d8576b"
             ],
             [
              0.6666666666666666,
              "#ed7953"
             ],
             [
              0.7777777777777778,
              "#fb9f3a"
             ],
             [
              0.8888888888888888,
              "#fdca26"
             ],
             [
              1,
              "#f0f921"
             ]
            ],
            "type": "surface"
           }
          ],
          "table": [
           {
            "cells": {
             "fill": {
              "color": "#EBF0F8"
             },
             "line": {
              "color": "white"
             }
            },
            "header": {
             "fill": {
              "color": "#C8D4E3"
             },
             "line": {
              "color": "white"
             }
            },
            "type": "table"
           }
          ]
         },
         "layout": {
          "annotationdefaults": {
           "arrowcolor": "#2a3f5f",
           "arrowhead": 0,
           "arrowwidth": 1
          },
          "autotypenumbers": "strict",
          "coloraxis": {
           "colorbar": {
            "outlinewidth": 0,
            "ticks": ""
           }
          },
          "colorscale": {
           "diverging": [
            [
             0,
             "#8e0152"
            ],
            [
             0.1,
             "#c51b7d"
            ],
            [
             0.2,
             "#de77ae"
            ],
            [
             0.3,
             "#f1b6da"
            ],
            [
             0.4,
             "#fde0ef"
            ],
            [
             0.5,
             "#f7f7f7"
            ],
            [
             0.6,
             "#e6f5d0"
            ],
            [
             0.7,
             "#b8e186"
            ],
            [
             0.8,
             "#7fbc41"
            ],
            [
             0.9,
             "#4d9221"
            ],
            [
             1,
             "#276419"
            ]
           ],
           "sequential": [
            [
             0,
             "#0d0887"
            ],
            [
             0.1111111111111111,
             "#46039f"
            ],
            [
             0.2222222222222222,
             "#7201a8"
            ],
            [
             0.3333333333333333,
             "#9c179e"
            ],
            [
             0.4444444444444444,
             "#bd3786"
            ],
            [
             0.5555555555555556,
             "#d8576b"
            ],
            [
             0.6666666666666666,
             "#ed7953"
            ],
            [
             0.7777777777777778,
             "#fb9f3a"
            ],
            [
             0.8888888888888888,
             "#fdca26"
            ],
            [
             1,
             "#f0f921"
            ]
           ],
           "sequentialminus": [
            [
             0,
             "#0d0887"
            ],
            [
             0.1111111111111111,
             "#46039f"
            ],
            [
             0.2222222222222222,
             "#7201a8"
            ],
            [
             0.3333333333333333,
             "#9c179e"
            ],
            [
             0.4444444444444444,
             "#bd3786"
            ],
            [
             0.5555555555555556,
             "#d8576b"
            ],
            [
             0.6666666666666666,
             "#ed7953"
            ],
            [
             0.7777777777777778,
             "#fb9f3a"
            ],
            [
             0.8888888888888888,
             "#fdca26"
            ],
            [
             1,
             "#f0f921"
            ]
           ]
          },
          "colorway": [
           "#636efa",
           "#EF553B",
           "#00cc96",
           "#ab63fa",
           "#FFA15A",
           "#19d3f3",
           "#FF6692",
           "#B6E880",
           "#FF97FF",
           "#FECB52"
          ],
          "font": {
           "color": "#2a3f5f"
          },
          "geo": {
           "bgcolor": "white",
           "lakecolor": "white",
           "landcolor": "#E5ECF6",
           "showlakes": true,
           "showland": true,
           "subunitcolor": "white"
          },
          "hoverlabel": {
           "align": "left"
          },
          "hovermode": "closest",
          "mapbox": {
           "style": "light"
          },
          "paper_bgcolor": "white",
          "plot_bgcolor": "#E5ECF6",
          "polar": {
           "angularaxis": {
            "gridcolor": "white",
            "linecolor": "white",
            "ticks": ""
           },
           "bgcolor": "#E5ECF6",
           "radialaxis": {
            "gridcolor": "white",
            "linecolor": "white",
            "ticks": ""
           }
          },
          "scene": {
           "xaxis": {
            "backgroundcolor": "#E5ECF6",
            "gridcolor": "white",
            "gridwidth": 2,
            "linecolor": "white",
            "showbackground": true,
            "ticks": "",
            "zerolinecolor": "white"
           },
           "yaxis": {
            "backgroundcolor": "#E5ECF6",
            "gridcolor": "white",
            "gridwidth": 2,
            "linecolor": "white",
            "showbackground": true,
            "ticks": "",
            "zerolinecolor": "white"
           },
           "zaxis": {
            "backgroundcolor": "#E5ECF6",
            "gridcolor": "white",
            "gridwidth": 2,
            "linecolor": "white",
            "showbackground": true,
            "ticks": "",
            "zerolinecolor": "white"
           }
          },
          "shapedefaults": {
           "line": {
            "color": "#2a3f5f"
           }
          },
          "ternary": {
           "aaxis": {
            "gridcolor": "white",
            "linecolor": "white",
            "ticks": ""
           },
           "baxis": {
            "gridcolor": "white",
            "linecolor": "white",
            "ticks": ""
           },
           "bgcolor": "#E5ECF6",
           "caxis": {
            "gridcolor": "white",
            "linecolor": "white",
            "ticks": ""
           }
          },
          "title": {
           "x": 0.05
          },
          "xaxis": {
           "automargin": true,
           "gridcolor": "white",
           "linecolor": "white",
           "ticks": "",
           "title": {
            "standoff": 15
           },
           "zerolinecolor": "white",
           "zerolinewidth": 2
          },
          "yaxis": {
           "automargin": true,
           "gridcolor": "white",
           "linecolor": "white",
           "ticks": "",
           "title": {
            "standoff": 15
           },
           "zerolinecolor": "white",
           "zerolinewidth": 2
          }
         }
        },
        "xaxis": {
         "anchor": "y",
         "domain": [
          0,
          1
         ],
         "title": {
          "text": "x"
         }
        },
        "yaxis": {
         "anchor": "x",
         "domain": [
          0,
          1
         ],
         "title": {
          "text": "count"
         }
        }
       }
      }
     },
     "metadata": {},
     "output_type": "display_data"
    }
   ],
   "source": [
    "df3 = pd.DataFrame(df2)\n",
    "px.histogram(df3, df2[\"deliver_date_diff\"], color=df2[\"review_score\"])"
   ]
  },
  {
   "cell_type": "code",
   "execution_count": 19,
   "metadata": {},
   "outputs": [
    {
     "data": {
      "text/html": [
       "<div>\n",
       "<style scoped>\n",
       "    .dataframe tbody tr th:only-of-type {\n",
       "        vertical-align: middle;\n",
       "    }\n",
       "\n",
       "    .dataframe tbody tr th {\n",
       "        vertical-align: top;\n",
       "    }\n",
       "\n",
       "    .dataframe thead th {\n",
       "        text-align: right;\n",
       "    }\n",
       "</style>\n",
       "<table border=\"1\" class=\"dataframe\">\n",
       "  <thead>\n",
       "    <tr style=\"text-align: right;\">\n",
       "      <th></th>\n",
       "      <th>deliver_date_diff</th>\n",
       "      <th>review_score</th>\n",
       "    </tr>\n",
       "  </thead>\n",
       "  <tbody>\n",
       "    <tr>\n",
       "      <th>115</th>\n",
       "      <td>40.0</td>\n",
       "      <td>5</td>\n",
       "    </tr>\n",
       "    <tr>\n",
       "      <th>187</th>\n",
       "      <td>27.0</td>\n",
       "      <td>5</td>\n",
       "    </tr>\n",
       "    <tr>\n",
       "      <th>368</th>\n",
       "      <td>30.0</td>\n",
       "      <td>5</td>\n",
       "    </tr>\n",
       "    <tr>\n",
       "      <th>393</th>\n",
       "      <td>31.0</td>\n",
       "      <td>4</td>\n",
       "    </tr>\n",
       "    <tr>\n",
       "      <th>469</th>\n",
       "      <td>30.0</td>\n",
       "      <td>3</td>\n",
       "    </tr>\n",
       "    <tr>\n",
       "      <th>...</th>\n",
       "      <td>...</td>\n",
       "      <td>...</td>\n",
       "    </tr>\n",
       "    <tr>\n",
       "      <th>97554</th>\n",
       "      <td>28.0</td>\n",
       "      <td>2</td>\n",
       "    </tr>\n",
       "    <tr>\n",
       "      <th>97684</th>\n",
       "      <td>33.0</td>\n",
       "      <td>4</td>\n",
       "    </tr>\n",
       "    <tr>\n",
       "      <th>97744</th>\n",
       "      <td>26.0</td>\n",
       "      <td>5</td>\n",
       "    </tr>\n",
       "    <tr>\n",
       "      <th>97835</th>\n",
       "      <td>28.0</td>\n",
       "      <td>5</td>\n",
       "    </tr>\n",
       "    <tr>\n",
       "      <th>97851</th>\n",
       "      <td>25.0</td>\n",
       "      <td>4</td>\n",
       "    </tr>\n",
       "  </tbody>\n",
       "</table>\n",
       "<p>886 rows × 2 columns</p>\n",
       "</div>"
      ],
      "text/plain": [
       "       deliver_date_diff  review_score\n",
       "115                 40.0             5\n",
       "187                 27.0             5\n",
       "368                 30.0             5\n",
       "393                 31.0             4\n",
       "469                 30.0             3\n",
       "...                  ...           ...\n",
       "97554               28.0             2\n",
       "97684               33.0             4\n",
       "97744               26.0             5\n",
       "97835               28.0             5\n",
       "97851               25.0             4\n",
       "\n",
       "[886 rows x 2 columns]"
      ]
     },
     "execution_count": 19,
     "metadata": {},
     "output_type": "execute_result"
    }
   ],
   "source": [
    "df4 = df.loc[df[\"deliver_date_diff_score\"] == 10, [\"deliver_date_diff\", \"review_score\"]]\n",
    "df4"
   ]
  },
  {
   "cell_type": "code",
   "execution_count": 20,
   "metadata": {},
   "outputs": [
    {
     "data": {
      "application/vnd.plotly.v1+json": {
       "config": {
        "plotlyServerURL": "https://plotly.com"
       },
       "data": [
        {
         "alignmentgroup": "True",
         "bingroup": "x",
         "hovertemplate": "color=5<br>x=%{x}<br>count=%{y}<extra></extra>",
         "legendgroup": "5",
         "marker": {
          "color": "#636efa",
          "pattern": {
           "shape": ""
          }
         },
         "name": "5",
         "offsetgroup": "5",
         "orientation": "v",
         "showlegend": true,
         "type": "histogram",
         "x": [
          40,
          27,
          30,
          37,
          34,
          38,
          28,
          26,
          27,
          25,
          26,
          26,
          33,
          27,
          29,
          43,
          26,
          28,
          29,
          28,
          28,
          33,
          25,
          34,
          33,
          27,
          30,
          27,
          29,
          25,
          39,
          34,
          27,
          25,
          33,
          27,
          33,
          27,
          34,
          33,
          30,
          34,
          27,
          26,
          25,
          28,
          27,
          26,
          30,
          27,
          37,
          32,
          34,
          27,
          27,
          29,
          25,
          35,
          31,
          44,
          34,
          25,
          26,
          35,
          30,
          33,
          29,
          25,
          25,
          28,
          25,
          31,
          25,
          27,
          25,
          26,
          34,
          26,
          25,
          27,
          31,
          30,
          30,
          32,
          35,
          27,
          33,
          25,
          34,
          28,
          32,
          27,
          27,
          40,
          28,
          27,
          32,
          27,
          28,
          35,
          31,
          35,
          30,
          31,
          32,
          35,
          26,
          32,
          36,
          29,
          25,
          27,
          28,
          30,
          26,
          27,
          25,
          25,
          31,
          37,
          28,
          26,
          28,
          26,
          25,
          26,
          29,
          26,
          25,
          28,
          27,
          29,
          34,
          29,
          28,
          32,
          28,
          28,
          27,
          25,
          31,
          26,
          29,
          37,
          26,
          25,
          34,
          27,
          27,
          25,
          25,
          34,
          27,
          25,
          27,
          26,
          31,
          28,
          30,
          31,
          34,
          31,
          27,
          30,
          25,
          39,
          26,
          28,
          33,
          31,
          30,
          25,
          48,
          25,
          26,
          30,
          26,
          28,
          37,
          31,
          28,
          27,
          26,
          28,
          29,
          27,
          33,
          31,
          25,
          29,
          26,
          26,
          25,
          27,
          29,
          40,
          27,
          29,
          28,
          26,
          26,
          26,
          26,
          25,
          40,
          48,
          28,
          31,
          28,
          33,
          27,
          29,
          25,
          37,
          27,
          25,
          41,
          26,
          32,
          32,
          26,
          32,
          28,
          27,
          54,
          34,
          25,
          37,
          28,
          35,
          26,
          29,
          33,
          39,
          38,
          25,
          33,
          33,
          40,
          25,
          27,
          26,
          26,
          36,
          28,
          26,
          33,
          31,
          30,
          43,
          25,
          34,
          29,
          25,
          30,
          40,
          27,
          29,
          25,
          36,
          39,
          26,
          37,
          34,
          27,
          25,
          26,
          37,
          29,
          25,
          28,
          42,
          27,
          26,
          29,
          28,
          28,
          36,
          29,
          27,
          37,
          28,
          25,
          26,
          27,
          29,
          40,
          30,
          28,
          27,
          35,
          25,
          25,
          25,
          26,
          29,
          25,
          42,
          26,
          35,
          28,
          33,
          33,
          29,
          32,
          26,
          25,
          28,
          25,
          28,
          30,
          34,
          30,
          31,
          25,
          32,
          26,
          33,
          28,
          29,
          38,
          29,
          27,
          25,
          34,
          33,
          33,
          29,
          25,
          29,
          26,
          34,
          26,
          31,
          29,
          29,
          31,
          31,
          30,
          29,
          30,
          32,
          29,
          28,
          42,
          29,
          35,
          27,
          35,
          37,
          27,
          47,
          28,
          25,
          31,
          42,
          25,
          33,
          45,
          42,
          25,
          27,
          28,
          38,
          25,
          31,
          27,
          27,
          28,
          32,
          27,
          26,
          26,
          30,
          27,
          27,
          48,
          33,
          29,
          26,
          29,
          28,
          43,
          32,
          30,
          34,
          42,
          35,
          36,
          27,
          26,
          33,
          31,
          39,
          31,
          27,
          34,
          29,
          27,
          30,
          28,
          28,
          26,
          52,
          35,
          25,
          25,
          31,
          25,
          25,
          26,
          27,
          30,
          35,
          27,
          33,
          30,
          25,
          35,
          41,
          26,
          32,
          28,
          30,
          34,
          35,
          25,
          32,
          31,
          32,
          26,
          35,
          34,
          25,
          33,
          25,
          32,
          28,
          26,
          27,
          32,
          33,
          34,
          28,
          27,
          30,
          31,
          27,
          31,
          31,
          48,
          27,
          31,
          25,
          30,
          25,
          25,
          41,
          28,
          41,
          25,
          28,
          38,
          32,
          27,
          26,
          28,
          37,
          37,
          34,
          26,
          49,
          27,
          35,
          32,
          25,
          35,
          31,
          34,
          32,
          25,
          25,
          30,
          40,
          35,
          28,
          32,
          29,
          34,
          38,
          27,
          52,
          28,
          26,
          27,
          27,
          29,
          26,
          26,
          29,
          25,
          26,
          25,
          43,
          28,
          26,
          28
         ],
         "xaxis": "x",
         "yaxis": "y"
        },
        {
         "alignmentgroup": "True",
         "bingroup": "x",
         "hovertemplate": "color=4<br>x=%{x}<br>count=%{y}<extra></extra>",
         "legendgroup": "4",
         "marker": {
          "color": "#EF553B",
          "pattern": {
           "shape": ""
          }
         },
         "name": "4",
         "offsetgroup": "4",
         "orientation": "v",
         "showlegend": true,
         "type": "histogram",
         "x": [
          31,
          26,
          26,
          29,
          32,
          27,
          29,
          28,
          27,
          27,
          32,
          33,
          27,
          29,
          29,
          27,
          32,
          26,
          29,
          26,
          27,
          29,
          30,
          26,
          27,
          36,
          28,
          26,
          29,
          26,
          35,
          36,
          25,
          30,
          32,
          29,
          41,
          25,
          25,
          35,
          25,
          31,
          29,
          32,
          26,
          29,
          31,
          26,
          29,
          43,
          43,
          30,
          31,
          28,
          34,
          37,
          25,
          38,
          27,
          29,
          27,
          26,
          26,
          25,
          25,
          41,
          25,
          39,
          26,
          28,
          28,
          27,
          43,
          40,
          25,
          26,
          30,
          32,
          43,
          29,
          29,
          31,
          25,
          25,
          26,
          25,
          28,
          29,
          28,
          25,
          29,
          31,
          26,
          29,
          25,
          39,
          32,
          29,
          27,
          25,
          27,
          26,
          37,
          30,
          25,
          27,
          28,
          31,
          34,
          32,
          29,
          34,
          26,
          26,
          26,
          44,
          28,
          28,
          27,
          35,
          36,
          27,
          26,
          28,
          25,
          30,
          27,
          26,
          25,
          41,
          44,
          32,
          30,
          33,
          25
         ],
         "xaxis": "x",
         "yaxis": "y"
        },
        {
         "alignmentgroup": "True",
         "bingroup": "x",
         "hovertemplate": "color=3<br>x=%{x}<br>count=%{y}<extra></extra>",
         "legendgroup": "3",
         "marker": {
          "color": "#00cc96",
          "pattern": {
           "shape": ""
          }
         },
         "name": "3",
         "offsetgroup": "3",
         "orientation": "v",
         "showlegend": true,
         "type": "histogram",
         "x": [
          30,
          31,
          26,
          34,
          25,
          35,
          25,
          30,
          34,
          27,
          25,
          29,
          27,
          29,
          28,
          25,
          26,
          28,
          29,
          29,
          29,
          37,
          30,
          28,
          30,
          33,
          25,
          27,
          31,
          26,
          28,
          33,
          28,
          25,
          27,
          27,
          27,
          40,
          26,
          25,
          25,
          34,
          28,
          29,
          50,
          25,
          26,
          32,
          26,
          31,
          32,
          39,
          31,
          25,
          28,
          39,
          33,
          28,
          25,
          25,
          47,
          41,
          28,
          28,
          41
         ],
         "xaxis": "x",
         "yaxis": "y"
        },
        {
         "alignmentgroup": "True",
         "bingroup": "x",
         "hovertemplate": "color=1<br>x=%{x}<br>count=%{y}<extra></extra>",
         "legendgroup": "1",
         "marker": {
          "color": "#ab63fa",
          "pattern": {
           "shape": ""
          }
         },
         "name": "1",
         "offsetgroup": "1",
         "orientation": "v",
         "showlegend": true,
         "type": "histogram",
         "x": [
          26,
          28,
          32,
          26,
          27,
          36,
          25,
          30,
          28,
          26,
          25,
          39,
          41,
          26,
          30,
          25,
          26,
          35,
          37,
          25,
          30,
          27,
          25,
          25,
          37,
          33,
          28,
          29,
          27,
          25,
          29,
          27,
          27,
          40,
          25,
          26,
          25,
          36,
          36,
          30,
          26,
          32,
          34,
          35,
          39,
          34,
          34,
          25,
          34,
          44,
          35,
          36,
          26,
          25,
          46,
          34,
          31,
          26,
          27,
          34,
          25,
          25,
          31,
          34,
          29,
          38,
          26,
          28,
          41,
          36,
          36,
          26,
          26,
          35,
          27,
          27,
          29,
          36,
          41,
          43,
          26,
          31,
          26,
          33,
          40,
          26,
          26,
          46,
          27,
          26,
          48,
          30,
          26,
          25,
          26,
          25,
          28,
          31,
          26,
          25,
          31,
          34,
          37,
          25,
          26,
          26,
          27,
          27,
          30,
          31,
          26,
          31,
          35,
          30,
          33,
          33,
          33,
          43,
          25,
          27,
          25,
          29,
          35,
          28,
          25,
          34,
          33,
          32,
          29,
          25,
          27,
          25,
          27
         ],
         "xaxis": "x",
         "yaxis": "y"
        },
        {
         "alignmentgroup": "True",
         "bingroup": "x",
         "hovertemplate": "color=2<br>x=%{x}<br>count=%{y}<extra></extra>",
         "legendgroup": "2",
         "marker": {
          "color": "#FFA15A",
          "pattern": {
           "shape": ""
          }
         },
         "name": "2",
         "offsetgroup": "2",
         "orientation": "v",
         "showlegend": true,
         "type": "histogram",
         "x": [
          36,
          27,
          28,
          29,
          32,
          30,
          33,
          27,
          27,
          25,
          26,
          25,
          28,
          28,
          27,
          33,
          34,
          25,
          36,
          33,
          35,
          25,
          29,
          46,
          34,
          25,
          33,
          31,
          28,
          32,
          30,
          29,
          32,
          27,
          26,
          30,
          29,
          31,
          26,
          26,
          30,
          27,
          32,
          31,
          26,
          28
         ],
         "xaxis": "x",
         "yaxis": "y"
        }
       ],
       "layout": {
        "barmode": "relative",
        "legend": {
         "title": {
          "text": "color"
         },
         "tracegroupgap": 0
        },
        "margin": {
         "t": 60
        },
        "template": {
         "data": {
          "bar": [
           {
            "error_x": {
             "color": "#2a3f5f"
            },
            "error_y": {
             "color": "#2a3f5f"
            },
            "marker": {
             "line": {
              "color": "#E5ECF6",
              "width": 0.5
             },
             "pattern": {
              "fillmode": "overlay",
              "size": 10,
              "solidity": 0.2
             }
            },
            "type": "bar"
           }
          ],
          "barpolar": [
           {
            "marker": {
             "line": {
              "color": "#E5ECF6",
              "width": 0.5
             },
             "pattern": {
              "fillmode": "overlay",
              "size": 10,
              "solidity": 0.2
             }
            },
            "type": "barpolar"
           }
          ],
          "carpet": [
           {
            "aaxis": {
             "endlinecolor": "#2a3f5f",
             "gridcolor": "white",
             "linecolor": "white",
             "minorgridcolor": "white",
             "startlinecolor": "#2a3f5f"
            },
            "baxis": {
             "endlinecolor": "#2a3f5f",
             "gridcolor": "white",
             "linecolor": "white",
             "minorgridcolor": "white",
             "startlinecolor": "#2a3f5f"
            },
            "type": "carpet"
           }
          ],
          "choropleth": [
           {
            "colorbar": {
             "outlinewidth": 0,
             "ticks": ""
            },
            "type": "choropleth"
           }
          ],
          "contour": [
           {
            "colorbar": {
             "outlinewidth": 0,
             "ticks": ""
            },
            "colorscale": [
             [
              0,
              "#0d0887"
             ],
             [
              0.1111111111111111,
              "#46039f"
             ],
             [
              0.2222222222222222,
              "#7201a8"
             ],
             [
              0.3333333333333333,
              "#9c179e"
             ],
             [
              0.4444444444444444,
              "#bd3786"
             ],
             [
              0.5555555555555556,
              "#d8576b"
             ],
             [
              0.6666666666666666,
              "#ed7953"
             ],
             [
              0.7777777777777778,
              "#fb9f3a"
             ],
             [
              0.8888888888888888,
              "#fdca26"
             ],
             [
              1,
              "#f0f921"
             ]
            ],
            "type": "contour"
           }
          ],
          "contourcarpet": [
           {
            "colorbar": {
             "outlinewidth": 0,
             "ticks": ""
            },
            "type": "contourcarpet"
           }
          ],
          "heatmap": [
           {
            "colorbar": {
             "outlinewidth": 0,
             "ticks": ""
            },
            "colorscale": [
             [
              0,
              "#0d0887"
             ],
             [
              0.1111111111111111,
              "#46039f"
             ],
             [
              0.2222222222222222,
              "#7201a8"
             ],
             [
              0.3333333333333333,
              "#9c179e"
             ],
             [
              0.4444444444444444,
              "#bd3786"
             ],
             [
              0.5555555555555556,
              "#d8576b"
             ],
             [
              0.6666666666666666,
              "#ed7953"
             ],
             [
              0.7777777777777778,
              "#fb9f3a"
             ],
             [
              0.8888888888888888,
              "#fdca26"
             ],
             [
              1,
              "#f0f921"
             ]
            ],
            "type": "heatmap"
           }
          ],
          "heatmapgl": [
           {
            "colorbar": {
             "outlinewidth": 0,
             "ticks": ""
            },
            "colorscale": [
             [
              0,
              "#0d0887"
             ],
             [
              0.1111111111111111,
              "#46039f"
             ],
             [
              0.2222222222222222,
              "#7201a8"
             ],
             [
              0.3333333333333333,
              "#9c179e"
             ],
             [
              0.4444444444444444,
              "#bd3786"
             ],
             [
              0.5555555555555556,
              "#d8576b"
             ],
             [
              0.6666666666666666,
              "#ed7953"
             ],
             [
              0.7777777777777778,
              "#fb9f3a"
             ],
             [
              0.8888888888888888,
              "#fdca26"
             ],
             [
              1,
              "#f0f921"
             ]
            ],
            "type": "heatmapgl"
           }
          ],
          "histogram": [
           {
            "marker": {
             "pattern": {
              "fillmode": "overlay",
              "size": 10,
              "solidity": 0.2
             }
            },
            "type": "histogram"
           }
          ],
          "histogram2d": [
           {
            "colorbar": {
             "outlinewidth": 0,
             "ticks": ""
            },
            "colorscale": [
             [
              0,
              "#0d0887"
             ],
             [
              0.1111111111111111,
              "#46039f"
             ],
             [
              0.2222222222222222,
              "#7201a8"
             ],
             [
              0.3333333333333333,
              "#9c179e"
             ],
             [
              0.4444444444444444,
              "#bd3786"
             ],
             [
              0.5555555555555556,
              "#d8576b"
             ],
             [
              0.6666666666666666,
              "#ed7953"
             ],
             [
              0.7777777777777778,
              "#fb9f3a"
             ],
             [
              0.8888888888888888,
              "#fdca26"
             ],
             [
              1,
              "#f0f921"
             ]
            ],
            "type": "histogram2d"
           }
          ],
          "histogram2dcontour": [
           {
            "colorbar": {
             "outlinewidth": 0,
             "ticks": ""
            },
            "colorscale": [
             [
              0,
              "#0d0887"
             ],
             [
              0.1111111111111111,
              "#46039f"
             ],
             [
              0.2222222222222222,
              "#7201a8"
             ],
             [
              0.3333333333333333,
              "#9c179e"
             ],
             [
              0.4444444444444444,
              "#bd3786"
             ],
             [
              0.5555555555555556,
              "#d8576b"
             ],
             [
              0.6666666666666666,
              "#ed7953"
             ],
             [
              0.7777777777777778,
              "#fb9f3a"
             ],
             [
              0.8888888888888888,
              "#fdca26"
             ],
             [
              1,
              "#f0f921"
             ]
            ],
            "type": "histogram2dcontour"
           }
          ],
          "mesh3d": [
           {
            "colorbar": {
             "outlinewidth": 0,
             "ticks": ""
            },
            "type": "mesh3d"
           }
          ],
          "parcoords": [
           {
            "line": {
             "colorbar": {
              "outlinewidth": 0,
              "ticks": ""
             }
            },
            "type": "parcoords"
           }
          ],
          "pie": [
           {
            "automargin": true,
            "type": "pie"
           }
          ],
          "scatter": [
           {
            "fillpattern": {
             "fillmode": "overlay",
             "size": 10,
             "solidity": 0.2
            },
            "type": "scatter"
           }
          ],
          "scatter3d": [
           {
            "line": {
             "colorbar": {
              "outlinewidth": 0,
              "ticks": ""
             }
            },
            "marker": {
             "colorbar": {
              "outlinewidth": 0,
              "ticks": ""
             }
            },
            "type": "scatter3d"
           }
          ],
          "scattercarpet": [
           {
            "marker": {
             "colorbar": {
              "outlinewidth": 0,
              "ticks": ""
             }
            },
            "type": "scattercarpet"
           }
          ],
          "scattergeo": [
           {
            "marker": {
             "colorbar": {
              "outlinewidth": 0,
              "ticks": ""
             }
            },
            "type": "scattergeo"
           }
          ],
          "scattergl": [
           {
            "marker": {
             "colorbar": {
              "outlinewidth": 0,
              "ticks": ""
             }
            },
            "type": "scattergl"
           }
          ],
          "scattermapbox": [
           {
            "marker": {
             "colorbar": {
              "outlinewidth": 0,
              "ticks": ""
             }
            },
            "type": "scattermapbox"
           }
          ],
          "scatterpolar": [
           {
            "marker": {
             "colorbar": {
              "outlinewidth": 0,
              "ticks": ""
             }
            },
            "type": "scatterpolar"
           }
          ],
          "scatterpolargl": [
           {
            "marker": {
             "colorbar": {
              "outlinewidth": 0,
              "ticks": ""
             }
            },
            "type": "scatterpolargl"
           }
          ],
          "scatterternary": [
           {
            "marker": {
             "colorbar": {
              "outlinewidth": 0,
              "ticks": ""
             }
            },
            "type": "scatterternary"
           }
          ],
          "surface": [
           {
            "colorbar": {
             "outlinewidth": 0,
             "ticks": ""
            },
            "colorscale": [
             [
              0,
              "#0d0887"
             ],
             [
              0.1111111111111111,
              "#46039f"
             ],
             [
              0.2222222222222222,
              "#7201a8"
             ],
             [
              0.3333333333333333,
              "#9c179e"
             ],
             [
              0.4444444444444444,
              "#bd3786"
             ],
             [
              0.5555555555555556,
              "#d8576b"
             ],
             [
              0.6666666666666666,
              "#ed7953"
             ],
             [
              0.7777777777777778,
              "#fb9f3a"
             ],
             [
              0.8888888888888888,
              "#fdca26"
             ],
             [
              1,
              "#f0f921"
             ]
            ],
            "type": "surface"
           }
          ],
          "table": [
           {
            "cells": {
             "fill": {
              "color": "#EBF0F8"
             },
             "line": {
              "color": "white"
             }
            },
            "header": {
             "fill": {
              "color": "#C8D4E3"
             },
             "line": {
              "color": "white"
             }
            },
            "type": "table"
           }
          ]
         },
         "layout": {
          "annotationdefaults": {
           "arrowcolor": "#2a3f5f",
           "arrowhead": 0,
           "arrowwidth": 1
          },
          "autotypenumbers": "strict",
          "coloraxis": {
           "colorbar": {
            "outlinewidth": 0,
            "ticks": ""
           }
          },
          "colorscale": {
           "diverging": [
            [
             0,
             "#8e0152"
            ],
            [
             0.1,
             "#c51b7d"
            ],
            [
             0.2,
             "#de77ae"
            ],
            [
             0.3,
             "#f1b6da"
            ],
            [
             0.4,
             "#fde0ef"
            ],
            [
             0.5,
             "#f7f7f7"
            ],
            [
             0.6,
             "#e6f5d0"
            ],
            [
             0.7,
             "#b8e186"
            ],
            [
             0.8,
             "#7fbc41"
            ],
            [
             0.9,
             "#4d9221"
            ],
            [
             1,
             "#276419"
            ]
           ],
           "sequential": [
            [
             0,
             "#0d0887"
            ],
            [
             0.1111111111111111,
             "#46039f"
            ],
            [
             0.2222222222222222,
             "#7201a8"
            ],
            [
             0.3333333333333333,
             "#9c179e"
            ],
            [
             0.4444444444444444,
             "#bd3786"
            ],
            [
             0.5555555555555556,
             "#d8576b"
            ],
            [
             0.6666666666666666,
             "#ed7953"
            ],
            [
             0.7777777777777778,
             "#fb9f3a"
            ],
            [
             0.8888888888888888,
             "#fdca26"
            ],
            [
             1,
             "#f0f921"
            ]
           ],
           "sequentialminus": [
            [
             0,
             "#0d0887"
            ],
            [
             0.1111111111111111,
             "#46039f"
            ],
            [
             0.2222222222222222,
             "#7201a8"
            ],
            [
             0.3333333333333333,
             "#9c179e"
            ],
            [
             0.4444444444444444,
             "#bd3786"
            ],
            [
             0.5555555555555556,
             "#d8576b"
            ],
            [
             0.6666666666666666,
             "#ed7953"
            ],
            [
             0.7777777777777778,
             "#fb9f3a"
            ],
            [
             0.8888888888888888,
             "#fdca26"
            ],
            [
             1,
             "#f0f921"
            ]
           ]
          },
          "colorway": [
           "#636efa",
           "#EF553B",
           "#00cc96",
           "#ab63fa",
           "#FFA15A",
           "#19d3f3",
           "#FF6692",
           "#B6E880",
           "#FF97FF",
           "#FECB52"
          ],
          "font": {
           "color": "#2a3f5f"
          },
          "geo": {
           "bgcolor": "white",
           "lakecolor": "white",
           "landcolor": "#E5ECF6",
           "showlakes": true,
           "showland": true,
           "subunitcolor": "white"
          },
          "hoverlabel": {
           "align": "left"
          },
          "hovermode": "closest",
          "mapbox": {
           "style": "light"
          },
          "paper_bgcolor": "white",
          "plot_bgcolor": "#E5ECF6",
          "polar": {
           "angularaxis": {
            "gridcolor": "white",
            "linecolor": "white",
            "ticks": ""
           },
           "bgcolor": "#E5ECF6",
           "radialaxis": {
            "gridcolor": "white",
            "linecolor": "white",
            "ticks": ""
           }
          },
          "scene": {
           "xaxis": {
            "backgroundcolor": "#E5ECF6",
            "gridcolor": "white",
            "gridwidth": 2,
            "linecolor": "white",
            "showbackground": true,
            "ticks": "",
            "zerolinecolor": "white"
           },
           "yaxis": {
            "backgroundcolor": "#E5ECF6",
            "gridcolor": "white",
            "gridwidth": 2,
            "linecolor": "white",
            "showbackground": true,
            "ticks": "",
            "zerolinecolor": "white"
           },
           "zaxis": {
            "backgroundcolor": "#E5ECF6",
            "gridcolor": "white",
            "gridwidth": 2,
            "linecolor": "white",
            "showbackground": true,
            "ticks": "",
            "zerolinecolor": "white"
           }
          },
          "shapedefaults": {
           "line": {
            "color": "#2a3f5f"
           }
          },
          "ternary": {
           "aaxis": {
            "gridcolor": "white",
            "linecolor": "white",
            "ticks": ""
           },
           "baxis": {
            "gridcolor": "white",
            "linecolor": "white",
            "ticks": ""
           },
           "bgcolor": "#E5ECF6",
           "caxis": {
            "gridcolor": "white",
            "linecolor": "white",
            "ticks": ""
           }
          },
          "title": {
           "x": 0.05
          },
          "xaxis": {
           "automargin": true,
           "gridcolor": "white",
           "linecolor": "white",
           "ticks": "",
           "title": {
            "standoff": 15
           },
           "zerolinecolor": "white",
           "zerolinewidth": 2
          },
          "yaxis": {
           "automargin": true,
           "gridcolor": "white",
           "linecolor": "white",
           "ticks": "",
           "title": {
            "standoff": 15
           },
           "zerolinecolor": "white",
           "zerolinewidth": 2
          }
         }
        },
        "xaxis": {
         "anchor": "y",
         "domain": [
          0,
          1
         ],
         "title": {
          "text": "x"
         }
        },
        "yaxis": {
         "anchor": "x",
         "domain": [
          0,
          1
         ],
         "title": {
          "text": "count"
         }
        }
       }
      }
     },
     "metadata": {},
     "output_type": "display_data"
    }
   ],
   "source": [
    "df5 = pd.DataFrame(df4)\n",
    "\n",
    "px.histogram(df5, df4[\"deliver_date_diff\"], color=df4[\"review_score\"])"
   ]
  },
  {
   "cell_type": "markdown",
   "metadata": {},
   "source": [
    "성수기와 비성수기에 따라 배송일 차이가 고객 만족도에 미치는 영향이 다르다.\"\n",
    "설명: 성수기(예: 블랙프라이데이, 연말연시)에는 배송 지연이 더 자주 발생할 수 있으며, 이러한 시기에는 고객의 기대 수준이 다를 수 있다."
   ]
  },
  {
   "cell_type": "code",
   "execution_count": 21,
   "metadata": {},
   "outputs": [
    {
     "data": {
      "text/plain": [
       "42230     2\n",
       "19684     2\n",
       "32235     2\n",
       "8722      2\n",
       "29041     3\n",
       "         ..\n",
       "63816     8\n",
       "64676     8\n",
       "66020     8\n",
       "30972    12\n",
       "39853    12\n",
       "Name: order_purchase_timestamp, Length: 966, dtype: int32"
      ]
     },
     "execution_count": 21,
     "metadata": {},
     "output_type": "execute_result"
    }
   ],
   "source": [
    "df6 = df.loc[\n",
    "    df[\"deliver_date_diff_score\"] == 1,\n",
    "    [\"deliver_date_diff\", \"review_score\", \"order_purchase_timestamp\"],\n",
    "]\n",
    "df6[\"order_purchase_timestamp\"].sort_values()"
   ]
  },
  {
   "cell_type": "code",
   "execution_count": 22,
   "metadata": {},
   "outputs": [
    {
     "data": {
      "application/vnd.plotly.v1+json": {
       "config": {
        "plotlyServerURL": "https://plotly.com"
       },
       "data": [
        {
         "alignmentgroup": "True",
         "bingroup": "x",
         "hovertemplate": "color=1<br>x=%{x}<br>count=%{y}<extra></extra>",
         "legendgroup": "1",
         "marker": {
          "color": "#636efa",
          "pattern": {
           "shape": ""
          }
         },
         "name": "1",
         "offsetgroup": "1",
         "orientation": "v",
         "showlegend": true,
         "type": "histogram",
         "x": [
          5,
          5,
          8,
          4,
          5,
          3,
          3,
          4,
          8,
          8,
          4,
          4,
          5,
          3,
          4,
          4,
          5,
          4,
          4,
          5,
          7,
          4,
          8,
          5,
          8,
          5,
          3,
          5,
          8,
          7,
          6,
          5,
          8,
          4,
          5,
          8,
          4,
          8,
          8,
          8,
          4,
          4,
          5,
          8,
          5,
          3,
          8,
          8,
          5,
          7,
          5,
          8,
          8,
          8,
          8,
          5,
          7,
          7,
          8,
          4,
          4,
          7,
          8,
          5,
          5,
          8,
          3,
          7,
          4,
          3,
          3,
          5,
          7,
          8,
          8,
          7,
          8,
          5,
          8,
          2,
          5,
          8,
          8,
          8,
          5,
          8,
          4,
          6,
          5,
          7,
          5,
          6,
          7,
          3,
          3,
          3,
          5,
          7,
          5,
          4,
          5,
          5,
          5,
          5,
          7,
          7,
          7,
          6,
          7,
          4,
          5,
          4,
          8,
          4,
          8,
          3,
          7,
          6,
          4,
          4,
          3,
          7,
          4,
          3,
          5,
          7,
          8,
          5,
          4,
          7,
          5,
          7,
          5,
          3,
          5,
          4,
          5,
          5,
          7,
          2,
          3,
          8,
          8,
          3,
          3,
          8,
          8,
          5,
          5,
          5,
          4,
          4,
          5,
          8,
          5,
          5,
          7,
          4,
          6,
          5,
          7,
          7,
          7,
          5,
          7,
          8,
          8,
          3,
          7,
          3,
          7,
          5,
          8,
          5,
          6,
          3,
          4,
          7,
          3,
          6,
          5,
          8,
          3,
          6,
          7,
          5,
          5,
          4,
          8,
          4,
          4,
          5,
          8,
          8,
          7,
          5,
          8,
          7,
          5,
          4,
          5,
          4,
          8,
          4,
          7,
          4,
          5,
          6,
          8,
          5,
          5,
          5,
          4,
          3,
          8,
          5,
          4,
          7,
          7,
          7,
          3,
          8,
          3,
          7,
          3,
          5,
          4,
          5,
          5,
          5,
          4,
          8,
          6,
          5,
          4,
          5,
          8,
          8,
          7,
          8,
          4,
          6,
          5,
          8,
          5,
          8,
          4,
          3,
          4,
          7,
          7,
          5,
          8,
          4,
          8,
          6,
          7,
          4,
          7,
          5,
          7,
          7,
          7,
          7,
          5,
          8,
          5,
          4,
          4,
          5,
          5,
          5,
          7,
          8,
          4,
          4,
          8,
          3,
          7,
          8,
          6,
          5,
          3,
          5,
          8,
          4,
          6,
          8,
          5,
          4,
          4,
          4,
          8,
          5,
          8,
          6,
          8,
          7,
          8,
          8,
          8,
          8,
          4,
          7,
          8,
          3,
          8,
          8,
          3,
          5,
          6,
          4,
          5,
          5,
          3,
          5,
          8,
          7,
          7,
          8,
          4,
          8,
          5,
          6,
          7,
          3,
          5,
          7,
          3,
          5,
          8,
          8,
          5,
          7,
          8,
          5,
          5,
          3,
          8,
          7,
          3,
          4,
          8,
          5,
          4,
          4,
          7,
          4,
          6,
          8,
          5,
          8,
          4,
          4,
          3,
          5,
          5,
          8,
          7,
          6,
          7,
          4,
          4,
          4,
          4,
          8,
          7,
          5,
          4,
          8,
          4,
          5,
          5,
          7,
          8,
          3,
          4,
          5,
          8,
          4,
          7,
          4,
          4,
          5,
          4,
          3,
          4,
          5,
          5
         ],
         "xaxis": "x",
         "yaxis": "y"
        },
        {
         "alignmentgroup": "True",
         "bingroup": "x",
         "hovertemplate": "color=5<br>x=%{x}<br>count=%{y}<extra></extra>",
         "legendgroup": "5",
         "marker": {
          "color": "#EF553B",
          "pattern": {
           "shape": ""
          }
         },
         "name": "5",
         "offsetgroup": "5",
         "orientation": "v",
         "showlegend": true,
         "type": "histogram",
         "x": [
          8,
          7,
          5,
          8,
          8,
          5,
          8,
          8,
          3,
          8,
          5,
          7,
          4,
          5,
          8,
          6,
          5,
          8,
          5,
          5,
          5,
          8,
          8,
          5,
          8,
          8,
          7,
          2,
          8,
          7,
          5,
          5,
          8,
          8,
          5,
          7,
          4,
          8,
          5,
          4,
          8,
          5,
          8,
          5,
          8,
          5,
          4,
          5,
          8,
          5,
          8,
          7,
          8,
          8,
          5,
          3,
          8,
          3,
          5,
          8,
          8,
          8,
          5,
          8,
          7,
          8,
          8,
          5,
          8,
          5,
          7,
          8,
          8,
          7,
          8,
          5,
          8,
          8,
          5,
          8,
          8,
          8,
          3,
          8,
          8,
          7,
          7,
          8,
          5,
          8,
          8,
          5,
          4,
          4,
          5,
          8,
          3,
          4,
          5,
          8,
          8,
          8,
          5,
          7,
          5,
          5,
          8,
          7,
          7,
          5,
          5,
          8,
          6,
          4,
          5,
          7,
          5,
          7,
          8,
          8,
          12,
          8,
          5,
          7,
          3,
          8,
          8,
          7,
          4,
          8,
          4,
          7,
          8,
          4,
          4,
          8,
          8,
          8,
          5,
          8,
          5,
          7,
          8,
          8,
          8,
          8,
          8,
          8,
          8,
          7,
          8,
          7,
          8,
          8,
          5,
          5,
          5,
          5,
          5,
          8,
          8,
          8,
          5,
          5,
          7,
          4,
          5,
          8,
          8,
          8,
          4,
          8,
          5,
          5,
          6,
          8,
          5,
          8,
          8,
          5,
          4,
          8,
          7,
          8,
          7,
          8,
          8,
          5,
          8,
          8,
          8,
          7,
          8,
          8,
          8,
          8,
          8,
          8,
          5,
          8,
          4,
          4,
          5,
          7,
          8,
          5,
          6,
          8,
          7,
          8,
          8,
          8,
          8,
          4,
          5,
          4,
          8,
          4,
          8,
          6,
          7,
          8,
          8,
          8,
          5,
          8,
          8,
          7,
          5,
          7,
          8,
          5,
          7,
          8,
          8,
          5,
          5,
          5,
          8,
          8,
          5,
          5,
          5,
          4,
          8,
          5,
          8,
          8,
          7,
          8,
          6,
          5,
          4,
          8,
          8,
          8,
          7,
          5,
          8,
          5,
          8,
          4,
          5,
          8,
          8,
          4,
          8,
          4,
          8,
          8,
          7,
          5,
          8,
          8,
          8,
          7,
          5,
          5,
          3,
          7,
          8,
          3,
          8,
          8,
          8,
          7,
          7,
          6,
          8,
          8,
          7,
          8,
          8,
          8,
          8,
          8,
          8,
          8,
          7,
          6,
          5,
          6
         ],
         "xaxis": "x",
         "yaxis": "y"
        },
        {
         "alignmentgroup": "True",
         "bingroup": "x",
         "hovertemplate": "color=4<br>x=%{x}<br>count=%{y}<extra></extra>",
         "legendgroup": "4",
         "marker": {
          "color": "#00cc96",
          "pattern": {
           "shape": ""
          }
         },
         "name": "4",
         "offsetgroup": "4",
         "orientation": "v",
         "showlegend": true,
         "type": "histogram",
         "x": [
          7,
          7,
          8,
          7,
          8,
          5,
          8,
          5,
          4,
          8,
          8,
          8,
          8,
          5,
          5,
          8,
          8,
          8,
          8,
          8,
          5,
          8,
          4,
          7,
          8,
          7,
          8,
          3,
          8,
          8,
          8,
          7,
          4,
          8,
          8,
          8,
          8,
          4,
          3,
          8,
          5,
          4,
          3,
          8,
          8,
          8,
          8,
          4,
          7,
          5,
          5,
          8,
          8,
          5,
          5,
          5,
          5,
          3,
          7,
          8,
          7,
          7,
          8,
          8,
          7,
          7,
          8,
          4,
          7,
          5,
          8,
          8,
          7,
          5,
          8,
          4,
          5,
          7,
          8,
          5,
          8,
          5,
          8,
          4,
          6,
          5,
          8,
          5,
          5,
          5,
          8,
          8,
          8,
          5,
          5,
          8,
          8,
          8,
          4,
          5,
          7,
          7,
          8,
          5,
          8,
          5,
          4,
          5,
          3,
          5,
          8,
          7,
          4,
          8,
          8,
          8,
          5,
          5,
          8
         ],
         "xaxis": "x",
         "yaxis": "y"
        },
        {
         "alignmentgroup": "True",
         "bingroup": "x",
         "hovertemplate": "color=3<br>x=%{x}<br>count=%{y}<extra></extra>",
         "legendgroup": "3",
         "marker": {
          "color": "#ab63fa",
          "pattern": {
           "shape": ""
          }
         },
         "name": "3",
         "offsetgroup": "3",
         "orientation": "v",
         "showlegend": true,
         "type": "histogram",
         "x": [
          3,
          8,
          4,
          5,
          8,
          8,
          7,
          5,
          8,
          8,
          8,
          8,
          5,
          8,
          5,
          5,
          5,
          5,
          7,
          4,
          3,
          5,
          5,
          8,
          4,
          4,
          5,
          7,
          4,
          5,
          12,
          8,
          5,
          3,
          5,
          7,
          4,
          8,
          6,
          8,
          5,
          6,
          5,
          7,
          5,
          7,
          2,
          6,
          7,
          5,
          6,
          3,
          8,
          5,
          5,
          5,
          8,
          7,
          8,
          7,
          4,
          7,
          4,
          5,
          4,
          8,
          5,
          8,
          3,
          8,
          4,
          7,
          8,
          5,
          3,
          5,
          5,
          5,
          8,
          8,
          8,
          8,
          5,
          8,
          4,
          4,
          5,
          8,
          8,
          5
         ],
         "xaxis": "x",
         "yaxis": "y"
        },
        {
         "alignmentgroup": "True",
         "bingroup": "x",
         "hovertemplate": "color=2<br>x=%{x}<br>count=%{y}<extra></extra>",
         "legendgroup": "2",
         "marker": {
          "color": "#FFA15A",
          "pattern": {
           "shape": ""
          }
         },
         "name": "2",
         "offsetgroup": "2",
         "orientation": "v",
         "showlegend": true,
         "type": "histogram",
         "x": [
          7,
          5,
          5,
          8,
          4,
          5,
          8,
          4,
          5,
          4,
          5,
          8,
          4,
          7,
          5,
          5,
          6,
          4,
          6,
          8,
          5,
          7,
          8,
          8,
          5,
          5,
          5,
          7,
          8,
          8,
          8,
          7,
          3,
          5,
          5,
          7,
          3,
          3,
          4,
          5,
          5,
          4,
          8,
          3,
          5,
          7,
          8,
          8,
          6,
          8,
          4,
          8,
          4,
          5,
          8,
          5,
          5,
          8,
          5,
          5,
          8,
          3,
          4,
          7,
          6,
          5
         ],
         "xaxis": "x",
         "yaxis": "y"
        }
       ],
       "layout": {
        "barmode": "relative",
        "legend": {
         "title": {
          "text": "color"
         },
         "tracegroupgap": 0
        },
        "margin": {
         "t": 60
        },
        "template": {
         "data": {
          "bar": [
           {
            "error_x": {
             "color": "#2a3f5f"
            },
            "error_y": {
             "color": "#2a3f5f"
            },
            "marker": {
             "line": {
              "color": "#E5ECF6",
              "width": 0.5
             },
             "pattern": {
              "fillmode": "overlay",
              "size": 10,
              "solidity": 0.2
             }
            },
            "type": "bar"
           }
          ],
          "barpolar": [
           {
            "marker": {
             "line": {
              "color": "#E5ECF6",
              "width": 0.5
             },
             "pattern": {
              "fillmode": "overlay",
              "size": 10,
              "solidity": 0.2
             }
            },
            "type": "barpolar"
           }
          ],
          "carpet": [
           {
            "aaxis": {
             "endlinecolor": "#2a3f5f",
             "gridcolor": "white",
             "linecolor": "white",
             "minorgridcolor": "white",
             "startlinecolor": "#2a3f5f"
            },
            "baxis": {
             "endlinecolor": "#2a3f5f",
             "gridcolor": "white",
             "linecolor": "white",
             "minorgridcolor": "white",
             "startlinecolor": "#2a3f5f"
            },
            "type": "carpet"
           }
          ],
          "choropleth": [
           {
            "colorbar": {
             "outlinewidth": 0,
             "ticks": ""
            },
            "type": "choropleth"
           }
          ],
          "contour": [
           {
            "colorbar": {
             "outlinewidth": 0,
             "ticks": ""
            },
            "colorscale": [
             [
              0,
              "#0d0887"
             ],
             [
              0.1111111111111111,
              "#46039f"
             ],
             [
              0.2222222222222222,
              "#7201a8"
             ],
             [
              0.3333333333333333,
              "#9c179e"
             ],
             [
              0.4444444444444444,
              "#bd3786"
             ],
             [
              0.5555555555555556,
              "#d8576b"
             ],
             [
              0.6666666666666666,
              "#ed7953"
             ],
             [
              0.7777777777777778,
              "#fb9f3a"
             ],
             [
              0.8888888888888888,
              "#fdca26"
             ],
             [
              1,
              "#f0f921"
             ]
            ],
            "type": "contour"
           }
          ],
          "contourcarpet": [
           {
            "colorbar": {
             "outlinewidth": 0,
             "ticks": ""
            },
            "type": "contourcarpet"
           }
          ],
          "heatmap": [
           {
            "colorbar": {
             "outlinewidth": 0,
             "ticks": ""
            },
            "colorscale": [
             [
              0,
              "#0d0887"
             ],
             [
              0.1111111111111111,
              "#46039f"
             ],
             [
              0.2222222222222222,
              "#7201a8"
             ],
             [
              0.3333333333333333,
              "#9c179e"
             ],
             [
              0.4444444444444444,
              "#bd3786"
             ],
             [
              0.5555555555555556,
              "#d8576b"
             ],
             [
              0.6666666666666666,
              "#ed7953"
             ],
             [
              0.7777777777777778,
              "#fb9f3a"
             ],
             [
              0.8888888888888888,
              "#fdca26"
             ],
             [
              1,
              "#f0f921"
             ]
            ],
            "type": "heatmap"
           }
          ],
          "heatmapgl": [
           {
            "colorbar": {
             "outlinewidth": 0,
             "ticks": ""
            },
            "colorscale": [
             [
              0,
              "#0d0887"
             ],
             [
              0.1111111111111111,
              "#46039f"
             ],
             [
              0.2222222222222222,
              "#7201a8"
             ],
             [
              0.3333333333333333,
              "#9c179e"
             ],
             [
              0.4444444444444444,
              "#bd3786"
             ],
             [
              0.5555555555555556,
              "#d8576b"
             ],
             [
              0.6666666666666666,
              "#ed7953"
             ],
             [
              0.7777777777777778,
              "#fb9f3a"
             ],
             [
              0.8888888888888888,
              "#fdca26"
             ],
             [
              1,
              "#f0f921"
             ]
            ],
            "type": "heatmapgl"
           }
          ],
          "histogram": [
           {
            "marker": {
             "pattern": {
              "fillmode": "overlay",
              "size": 10,
              "solidity": 0.2
             }
            },
            "type": "histogram"
           }
          ],
          "histogram2d": [
           {
            "colorbar": {
             "outlinewidth": 0,
             "ticks": ""
            },
            "colorscale": [
             [
              0,
              "#0d0887"
             ],
             [
              0.1111111111111111,
              "#46039f"
             ],
             [
              0.2222222222222222,
              "#7201a8"
             ],
             [
              0.3333333333333333,
              "#9c179e"
             ],
             [
              0.4444444444444444,
              "#bd3786"
             ],
             [
              0.5555555555555556,
              "#d8576b"
             ],
             [
              0.6666666666666666,
              "#ed7953"
             ],
             [
              0.7777777777777778,
              "#fb9f3a"
             ],
             [
              0.8888888888888888,
              "#fdca26"
             ],
             [
              1,
              "#f0f921"
             ]
            ],
            "type": "histogram2d"
           }
          ],
          "histogram2dcontour": [
           {
            "colorbar": {
             "outlinewidth": 0,
             "ticks": ""
            },
            "colorscale": [
             [
              0,
              "#0d0887"
             ],
             [
              0.1111111111111111,
              "#46039f"
             ],
             [
              0.2222222222222222,
              "#7201a8"
             ],
             [
              0.3333333333333333,
              "#9c179e"
             ],
             [
              0.4444444444444444,
              "#bd3786"
             ],
             [
              0.5555555555555556,
              "#d8576b"
             ],
             [
              0.6666666666666666,
              "#ed7953"
             ],
             [
              0.7777777777777778,
              "#fb9f3a"
             ],
             [
              0.8888888888888888,
              "#fdca26"
             ],
             [
              1,
              "#f0f921"
             ]
            ],
            "type": "histogram2dcontour"
           }
          ],
          "mesh3d": [
           {
            "colorbar": {
             "outlinewidth": 0,
             "ticks": ""
            },
            "type": "mesh3d"
           }
          ],
          "parcoords": [
           {
            "line": {
             "colorbar": {
              "outlinewidth": 0,
              "ticks": ""
             }
            },
            "type": "parcoords"
           }
          ],
          "pie": [
           {
            "automargin": true,
            "type": "pie"
           }
          ],
          "scatter": [
           {
            "fillpattern": {
             "fillmode": "overlay",
             "size": 10,
             "solidity": 0.2
            },
            "type": "scatter"
           }
          ],
          "scatter3d": [
           {
            "line": {
             "colorbar": {
              "outlinewidth": 0,
              "ticks": ""
             }
            },
            "marker": {
             "colorbar": {
              "outlinewidth": 0,
              "ticks": ""
             }
            },
            "type": "scatter3d"
           }
          ],
          "scattercarpet": [
           {
            "marker": {
             "colorbar": {
              "outlinewidth": 0,
              "ticks": ""
             }
            },
            "type": "scattercarpet"
           }
          ],
          "scattergeo": [
           {
            "marker": {
             "colorbar": {
              "outlinewidth": 0,
              "ticks": ""
             }
            },
            "type": "scattergeo"
           }
          ],
          "scattergl": [
           {
            "marker": {
             "colorbar": {
              "outlinewidth": 0,
              "ticks": ""
             }
            },
            "type": "scattergl"
           }
          ],
          "scattermapbox": [
           {
            "marker": {
             "colorbar": {
              "outlinewidth": 0,
              "ticks": ""
             }
            },
            "type": "scattermapbox"
           }
          ],
          "scatterpolar": [
           {
            "marker": {
             "colorbar": {
              "outlinewidth": 0,
              "ticks": ""
             }
            },
            "type": "scatterpolar"
           }
          ],
          "scatterpolargl": [
           {
            "marker": {
             "colorbar": {
              "outlinewidth": 0,
              "ticks": ""
             }
            },
            "type": "scatterpolargl"
           }
          ],
          "scatterternary": [
           {
            "marker": {
             "colorbar": {
              "outlinewidth": 0,
              "ticks": ""
             }
            },
            "type": "scatterternary"
           }
          ],
          "surface": [
           {
            "colorbar": {
             "outlinewidth": 0,
             "ticks": ""
            },
            "colorscale": [
             [
              0,
              "#0d0887"
             ],
             [
              0.1111111111111111,
              "#46039f"
             ],
             [
              0.2222222222222222,
              "#7201a8"
             ],
             [
              0.3333333333333333,
              "#9c179e"
             ],
             [
              0.4444444444444444,
              "#bd3786"
             ],
             [
              0.5555555555555556,
              "#d8576b"
             ],
             [
              0.6666666666666666,
              "#ed7953"
             ],
             [
              0.7777777777777778,
              "#fb9f3a"
             ],
             [
              0.8888888888888888,
              "#fdca26"
             ],
             [
              1,
              "#f0f921"
             ]
            ],
            "type": "surface"
           }
          ],
          "table": [
           {
            "cells": {
             "fill": {
              "color": "#EBF0F8"
             },
             "line": {
              "color": "white"
             }
            },
            "header": {
             "fill": {
              "color": "#C8D4E3"
             },
             "line": {
              "color": "white"
             }
            },
            "type": "table"
           }
          ]
         },
         "layout": {
          "annotationdefaults": {
           "arrowcolor": "#2a3f5f",
           "arrowhead": 0,
           "arrowwidth": 1
          },
          "autotypenumbers": "strict",
          "coloraxis": {
           "colorbar": {
            "outlinewidth": 0,
            "ticks": ""
           }
          },
          "colorscale": {
           "diverging": [
            [
             0,
             "#8e0152"
            ],
            [
             0.1,
             "#c51b7d"
            ],
            [
             0.2,
             "#de77ae"
            ],
            [
             0.3,
             "#f1b6da"
            ],
            [
             0.4,
             "#fde0ef"
            ],
            [
             0.5,
             "#f7f7f7"
            ],
            [
             0.6,
             "#e6f5d0"
            ],
            [
             0.7,
             "#b8e186"
            ],
            [
             0.8,
             "#7fbc41"
            ],
            [
             0.9,
             "#4d9221"
            ],
            [
             1,
             "#276419"
            ]
           ],
           "sequential": [
            [
             0,
             "#0d0887"
            ],
            [
             0.1111111111111111,
             "#46039f"
            ],
            [
             0.2222222222222222,
             "#7201a8"
            ],
            [
             0.3333333333333333,
             "#9c179e"
            ],
            [
             0.4444444444444444,
             "#bd3786"
            ],
            [
             0.5555555555555556,
             "#d8576b"
            ],
            [
             0.6666666666666666,
             "#ed7953"
            ],
            [
             0.7777777777777778,
             "#fb9f3a"
            ],
            [
             0.8888888888888888,
             "#fdca26"
            ],
            [
             1,
             "#f0f921"
            ]
           ],
           "sequentialminus": [
            [
             0,
             "#0d0887"
            ],
            [
             0.1111111111111111,
             "#46039f"
            ],
            [
             0.2222222222222222,
             "#7201a8"
            ],
            [
             0.3333333333333333,
             "#9c179e"
            ],
            [
             0.4444444444444444,
             "#bd3786"
            ],
            [
             0.5555555555555556,
             "#d8576b"
            ],
            [
             0.6666666666666666,
             "#ed7953"
            ],
            [
             0.7777777777777778,
             "#fb9f3a"
            ],
            [
             0.8888888888888888,
             "#fdca26"
            ],
            [
             1,
             "#f0f921"
            ]
           ]
          },
          "colorway": [
           "#636efa",
           "#EF553B",
           "#00cc96",
           "#ab63fa",
           "#FFA15A",
           "#19d3f3",
           "#FF6692",
           "#B6E880",
           "#FF97FF",
           "#FECB52"
          ],
          "font": {
           "color": "#2a3f5f"
          },
          "geo": {
           "bgcolor": "white",
           "lakecolor": "white",
           "landcolor": "#E5ECF6",
           "showlakes": true,
           "showland": true,
           "subunitcolor": "white"
          },
          "hoverlabel": {
           "align": "left"
          },
          "hovermode": "closest",
          "mapbox": {
           "style": "light"
          },
          "paper_bgcolor": "white",
          "plot_bgcolor": "#E5ECF6",
          "polar": {
           "angularaxis": {
            "gridcolor": "white",
            "linecolor": "white",
            "ticks": ""
           },
           "bgcolor": "#E5ECF6",
           "radialaxis": {
            "gridcolor": "white",
            "linecolor": "white",
            "ticks": ""
           }
          },
          "scene": {
           "xaxis": {
            "backgroundcolor": "#E5ECF6",
            "gridcolor": "white",
            "gridwidth": 2,
            "linecolor": "white",
            "showbackground": true,
            "ticks": "",
            "zerolinecolor": "white"
           },
           "yaxis": {
            "backgroundcolor": "#E5ECF6",
            "gridcolor": "white",
            "gridwidth": 2,
            "linecolor": "white",
            "showbackground": true,
            "ticks": "",
            "zerolinecolor": "white"
           },
           "zaxis": {
            "backgroundcolor": "#E5ECF6",
            "gridcolor": "white",
            "gridwidth": 2,
            "linecolor": "white",
            "showbackground": true,
            "ticks": "",
            "zerolinecolor": "white"
           }
          },
          "shapedefaults": {
           "line": {
            "color": "#2a3f5f"
           }
          },
          "ternary": {
           "aaxis": {
            "gridcolor": "white",
            "linecolor": "white",
            "ticks": ""
           },
           "baxis": {
            "gridcolor": "white",
            "linecolor": "white",
            "ticks": ""
           },
           "bgcolor": "#E5ECF6",
           "caxis": {
            "gridcolor": "white",
            "linecolor": "white",
            "ticks": ""
           }
          },
          "title": {
           "x": 0.05
          },
          "xaxis": {
           "automargin": true,
           "gridcolor": "white",
           "linecolor": "white",
           "ticks": "",
           "title": {
            "standoff": 15
           },
           "zerolinecolor": "white",
           "zerolinewidth": 2
          },
          "yaxis": {
           "automargin": true,
           "gridcolor": "white",
           "linecolor": "white",
           "ticks": "",
           "title": {
            "standoff": 15
           },
           "zerolinecolor": "white",
           "zerolinewidth": 2
          }
         }
        },
        "xaxis": {
         "anchor": "y",
         "domain": [
          0,
          1
         ],
         "title": {
          "text": "x"
         }
        },
        "yaxis": {
         "anchor": "x",
         "domain": [
          0,
          1
         ],
         "title": {
          "text": "count"
         }
        }
       }
      }
     },
     "metadata": {},
     "output_type": "display_data"
    }
   ],
   "source": [
    "df7 = pd.DataFrame(df6)\n",
    "\n",
    "px.histogram(df7, df6[\"order_purchase_timestamp\"], color=df6[\"review_score\"])"
   ]
  }
 ],
 "metadata": {
  "kernelspec": {
   "display_name": "base",
   "language": "python",
   "name": "python3"
  },
  "language_info": {
   "codemirror_mode": {
    "name": "ipython",
    "version": 3
   },
   "file_extension": ".py",
   "mimetype": "text/x-python",
   "name": "python",
   "nbconvert_exporter": "python",
   "pygments_lexer": "ipython3",
   "version": "3.12.4"
  }
 },
 "nbformat": 4,
 "nbformat_minor": 2
}
