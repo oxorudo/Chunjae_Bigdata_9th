{
 "cells": [
  {
   "cell_type": "code",
   "execution_count": 12,
   "metadata": {},
   "outputs": [],
   "source": [
    "from tensorflow import keras\n",
    "import numpy as np\n",
    "import os\n",
    "import cv2"
   ]
  },
  {
   "cell_type": "code",
   "execution_count": 13,
   "metadata": {},
   "outputs": [],
   "source": [
    "model = keras.models.load_model(\"./model.keras\")"
   ]
  },
  {
   "cell_type": "code",
   "execution_count": 14,
   "metadata": {},
   "outputs": [
    {
     "data": {
      "text/plain": [
       "<Sequential name=sequential_1, built=True>"
      ]
     },
     "execution_count": 14,
     "metadata": {},
     "output_type": "execute_result"
    }
   ],
   "source": [
    "model"
   ]
  },
  {
   "cell_type": "code",
   "execution_count": 15,
   "metadata": {},
   "outputs": [
    {
     "name": "stdout",
     "output_type": "stream",
     "text": [
      "레이블 개수: 33, 이미지 파일 개수: 33\n",
      "\u001b[1m2/2\u001b[0m \u001b[32m━━━━━━━━━━━━━━━━━━━━\u001b[0m\u001b[37m\u001b[0m \u001b[1m4s\u001b[0m 1s/step\n",
      "paper-hires1.png: 가위, 확률: 1.00\n",
      "paper-hires2.png: 가위, 확률: 1.00\n",
      "paper1.png: 가위, 확률: 0.88\n",
      "paper2.png: 가위, 확률: 1.00\n",
      "paper3.png: 보, 확률: 0.82\n",
      "paper4.png: 가위, 확률: 0.82\n",
      "paper5.png: 가위, 확률: 0.42\n",
      "paper6.png: 가위, 확률: 0.61\n",
      "paper7.png: 가위, 확률: 1.00\n",
      "paper8.png: 가위, 확률: 1.00\n",
      "paper9.png: 바위, 확률: 0.37\n",
      "rock-hires1.png: 바위, 확률: 1.00\n",
      "rock-hires2.png: 바위, 확률: 0.98\n",
      "rock1.png: 바위, 확률: 1.00\n",
      "rock2.png: 바위, 확률: 1.00\n",
      "rock3.png: 바위, 확률: 0.98\n",
      "rock4.png: 바위, 확률: 0.99\n",
      "rock5.png: 바위, 확률: 0.97\n",
      "rock6.png: 바위, 확률: 0.89\n",
      "rock7.png: 바위, 확률: 0.99\n",
      "rock8.png: 바위, 확률: 1.00\n",
      "rock9.png: 바위, 확률: 0.98\n",
      "scissors-hires1.png: 보, 확률: 1.00\n",
      "scissors-hires2.png: 보, 확률: 0.99\n",
      "scissors1.png: 보, 확률: 0.89\n",
      "scissors2.png: 보, 확률: 0.98\n",
      "scissors3.png: 보, 확률: 1.00\n",
      "scissors4.png: 보, 확률: 0.90\n",
      "scissors5.png: 보, 확률: 0.99\n",
      "scissors6.png: 보, 확률: 1.00\n",
      "scissors7.png: 가위, 확률: 0.50\n",
      "scissors8.png: 보, 확률: 1.00\n",
      "scissors9.png: 보, 확률: 0.97\n",
      "\n",
      "전체 맞춘 비율(정확도): 90.91%\n"
     ]
    }
   ],
   "source": [
    "import os\n",
    "import cv2\n",
    "import numpy as np\n",
    "import matplotlib.pyplot as plt\n",
    "import seaborn as sns\n",
    "from sklearn.metrics import confusion_matrix\n",
    "\n",
    "# 이미지 경로 설정\n",
    "dlist = \"./data/Rock-Paper-Scissors/validation/\"\n",
    "predict_list = [\n",
    "    f for f in os.listdir(dlist) if f.lower().endswith((\"jpg\", \"jpeg\", \"png\", \"webp\"))\n",
    "]  # 이미지 파일만 선택\n",
    "\n",
    "# 실제 레이블 설정 (파일 이름에 따라 설정)\n",
    "true_labels = []\n",
    "for file_name in predict_list:\n",
    "    if (\n",
    "        \"paper\" in file_name or \"보\" in file_name\n",
    "    ):  # 사람을 나타내는 파일명에 따라 레이블 설정\n",
    "        true_labels.append(0)\n",
    "    elif (\n",
    "        \"rock\" in file_name or \"바위\" in file_name\n",
    "    ):  # 말을 나타내는 파일명에 따라 레이블 설정\n",
    "        true_labels.append(1)\n",
    "    elif (\n",
    "        \"scissors\" in file_name or \"가위\" in file_name\n",
    "    ):  # 말을 나타내는 파일명에 따라 레이블 설정\n",
    "        true_labels.append(2)\n",
    "\n",
    "print(f\"레이블 개수: {len(true_labels)}, 이미지 파일 개수: {len(predict_list)}\")\n",
    "\n",
    "# 실제 레이블과 예측할 이미지 개수가 일치하는지 확인\n",
    "assert len(true_labels) == len(\n",
    "    predict_list\n",
    "), \"레이블과 이미지 파일 개수가 일치하지 않습니다.\"\n",
    "\n",
    "# 이미지 전처리\n",
    "img = [cv2.imread(dlist + i) for i in predict_list]\n",
    "img = [cv2.resize(i, (300, 300)) for i in img]  # 모델 입력 크기에 맞게 이미지 크기 조정\n",
    "img = np.array(img)\n",
    "img = img.astype(\"float32\") / 255.0  # 정규화\n",
    "\n",
    "cutoff = 0.5  # 분류 기준점\n",
    "predictions = model.predict(img)  # 모델의 예측 값 반환\n",
    "\n",
    "# 예측 레이블 및 혼동 행렬 생성용 데이터\n",
    "predicted_labels = []\n",
    "correct_count = 0\n",
    "total_count = len(predictions)\n",
    "\n",
    "for idx, prediction in enumerate(predictions):\n",
    "    file_name = predict_list[idx]\n",
    "\n",
    "    # 가장 확률이 높은 클래스 찾기\n",
    "    predicted_label = np.argmax(prediction)  # 가장 높은 확률을 가진 레이블\n",
    "    predicted_labels.append(predicted_label)  # 예측된 레이블 저장\n",
    "\n",
    "    # 실제 레이블과 예측 레이블을 비교\n",
    "    if predicted_label == true_labels[idx]:\n",
    "        correct_count += 1  # 맞춘 경우 카운트 증가\n",
    "\n",
    "    # 파일 이름과 확률 출력\n",
    "    if predicted_label == 0:\n",
    "        print(f\"{file_name}: 가위, 확률: {prediction[predicted_label]:.2f}\")\n",
    "    elif predicted_label == 1:\n",
    "        print(f\"{file_name}: 바위, 확률: {prediction[predicted_label]:.2f}\")\n",
    "    else:\n",
    "        print(f\"{file_name}: 보, 확률: {prediction[predicted_label]:.2f}\")\n",
    "\n",
    "# 전체 맞춘 비율 (정확도) 계산\n",
    "accuracy = correct_count / total_count\n",
    "print(f\"\\n전체 맞춘 비율(정확도): {accuracy * 100:.2f}%\")\n",
    "\n",
    "\n",
    "# # 혼동 행렬 계산\n",
    "# cm = confusion_matrix(true_labels, predicted_labels)\n",
    "\n",
    "# # 혼동 행렬 시각화\n",
    "# plt.figure(figsize=(6.5, 6.5))  # 기본 크기의 1.3배\n",
    "# sns.heatmap(cm, annot=True, fmt=\"d\", cmap=\"Blues\", cbar=False, square=True,\n",
    "#             xticklabels=['Horse', 'Human'], yticklabels=['Horse', 'Human'])\n",
    "# plt.xlabel('Predicted Label')\n",
    "# plt.ylabel('True Label')\n",
    "# plt.title('Confusion Matrix')\n",
    "# plt.show()"
   ]
  }
 ],
 "metadata": {
  "kernelspec": {
   "display_name": "Python 3",
   "language": "python",
   "name": "python3"
  },
  "language_info": {
   "codemirror_mode": {
    "name": "ipython",
    "version": 3
   },
   "file_extension": ".py",
   "mimetype": "text/x-python",
   "name": "python",
   "nbconvert_exporter": "python",
   "pygments_lexer": "ipython3",
   "version": "3.12.4"
  }
 },
 "nbformat": 4,
 "nbformat_minor": 2
}
