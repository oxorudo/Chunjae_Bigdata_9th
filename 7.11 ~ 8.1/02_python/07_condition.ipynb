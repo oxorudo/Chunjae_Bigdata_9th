{
 "cells": [
  {
   "cell_type": "code",
   "execution_count": 2,
   "metadata": {},
   "outputs": [
    {
     "name": "stdout",
     "output_type": "stream",
     "text": [
      "변수 number는 값 1과 동일합니다.\n"
     ]
    }
   ],
   "source": [
    "# 조건문\n",
    "# if\n",
    "\"\"\" 조건문의 기본 구조\n",
    "if 조건:\n",
    "    조건의 평가 결과가 참이면 코드가 실행\n",
    "    코드 블럭 내부의 코드가 실행(tab으로 구분이 된 내부의 코드)\n",
    "\n",
    "\"\"\"\n",
    "\n",
    "number = 1\n",
    "if number == 1:  # 변수 number의 값이 1과 동일하면\n",
    "    print(\"변수 number는 값 1과 동일합니다.\")"
   ]
  },
  {
   "cell_type": "code",
   "execution_count": 4,
   "metadata": {},
   "outputs": [
    {
     "name": "stdout",
     "output_type": "stream",
     "text": [
      "변수 number는 1이다.\n",
      "변수 number는 1이 아니다.\n"
     ]
    }
   ],
   "source": [
    "# 코드 블럭 : 여러 줄이 모인 코드 뭉치\n",
    "# 코드 블럭을 구분하는 방법 : 들여쓰기(indentation) 4 space / 1 tab으로 구분\n",
    "# 코드 블럭을 구분하는 이유 : 조건 결과에 따라 실행할 코드를 구분하기 위해서\n",
    "\n",
    "number = 1\n",
    "if number == 1:  # 조건 결과가 참일 때\n",
    "    print(\"변수 number는 1이다.\")\n",
    "\n",
    "print(\"변수 number는 1이 아니다.\")"
   ]
  },
  {
   "cell_type": "code",
   "execution_count": 7,
   "metadata": {},
   "outputs": [
    {
     "name": "stdout",
     "output_type": "stream",
     "text": [
      "변수 number는 1이 아니다.\n"
     ]
    }
   ],
   "source": [
    "# 조건 결과가 거짓일 때의 처리\n",
    "number = 2\n",
    "\n",
    "if number == 1:  # 조건 number == 1이 참으로 평가될 때\n",
    "    print(\"변수 number는 1이다.\")\n",
    "else:  # 조건 number == 1이 거짓으로 평가될 때\n",
    "    print(\"변수 number는 1이 아니다.\")"
   ]
  },
  {
   "cell_type": "code",
   "execution_count": 12,
   "metadata": {},
   "outputs": [
    {
     "name": "stdout",
     "output_type": "stream",
     "text": [
      "number는 1도 아니고, 2도 아니고, 3도 아니고 4도 아니다.\n"
     ]
    }
   ],
   "source": [
    "# 또 다른 조건 elif\n",
    "\n",
    "number = 5\n",
    "\n",
    "if (\n",
    "    number == 1\n",
    "):  # 이들은 한 세트이므로 어디선가 조건문이 참이 되면 그 다음 조건들은 보지 않는다.\n",
    "    print(\"number는 1\")\n",
    "elif number == 2:\n",
    "    print(\"number는 2\")\n",
    "elif number == 3:\n",
    "    print(\"number는 3\")\n",
    "elif number == 4:\n",
    "    print(\"number는 4\")\n",
    "else:\n",
    "    print(\"number는 1도 아니고, 2도 아니고, 3도 아니고 4도 아니다.\")"
   ]
  },
  {
   "cell_type": "code",
   "execution_count": 23,
   "metadata": {},
   "outputs": [
    {
     "name": "stdout",
     "output_type": "stream",
     "text": [
      "나이가 20세 이상입니다.\n"
     ]
    }
   ],
   "source": [
    "# 조건문 안의 조건문(중첩 조건문)\n",
    "\n",
    "age = 20\n",
    "if age >= 30:\n",
    "    print(\"나이가 30세 이상입니다.\")\n",
    "else:\n",
    "    if age >= 20:\n",
    "        print(\"나이가 20세 이상입니다.\")\n",
    "    else:\n",
    "        print(\"나이가 20세 미만입니다.\")"
   ]
  },
  {
   "cell_type": "code",
   "execution_count": 25,
   "metadata": {},
   "outputs": [
    {
     "name": "stdout",
     "output_type": "stream",
     "text": [
      "값이 짝수고, 10보다 작거나 같다.\n"
     ]
    }
   ],
   "source": [
    "# 논리 연산자(and, or, not)를 활용한 조건문\n",
    "# 값1 and 값2 : 값1과 값2 모두 참일 때 참을 반환\n",
    "# 값1 or 값2 : 값1과 값2 중에 하나라도 참일 때 참을 반환\n",
    "# not 값1 : 값1의 평가 결과를 반대로 한다. (참 <-> 거짓)\n",
    "\n",
    "number = 20\n",
    "# 값이 10보다 크고, 짝수인지 평가\n",
    "\n",
    "if (\n",
    "    number % 2 == 1 and number > 10\n",
    "):  # 2개의 비교 연산자와 1개의 논리연산자를 활용한 조건문\n",
    "    print(\"값이 홀수고, 10보다 크다\")\n",
    "else:\n",
    "    print(\"값이 짝수고, 10보다 작거나 같다.\")"
   ]
  },
  {
   "cell_type": "code",
   "execution_count": 28,
   "metadata": {},
   "outputs": [
    {
     "name": "stdout",
     "output_type": "stream",
     "text": [
      "값이 짝수고 10보다 작거나 같다\n"
     ]
    }
   ],
   "source": [
    "# 값이 10보다 크거나 홀수인지 평가\n",
    "number = 2\n",
    "if number % 2 == 1 or number > 10:\n",
    "    print(\"값이 홀수거나 10보다 크다\")\n",
    "else:\n",
    "    print(\"값이 짝수고 10보다 작거나 같다\")"
   ]
  },
  {
   "cell_type": "code",
   "execution_count": 7,
   "metadata": {},
   "outputs": [
    {
     "name": "stdout",
     "output_type": "stream",
     "text": [
      "1\n",
      "2\n",
      "3\n",
      "4\n",
      "5\n",
      "7를 찾지 못했습니다.\n"
     ]
    }
   ],
   "source": [
    "# for - else 구조\n",
    "# else문은 for 반복문이 break에 의해 종료가 되지 않고 정상 종료됐을때 실행된다.\n",
    "\n",
    "numbers = [1, 2, 3, 4, 5]\n",
    "target = 7\n",
    "\n",
    "for number in numbers:\n",
    "    print(number)\n",
    "    # number가 3이면 종료\n",
    "    if number == target:\n",
    "        print(f\"{target}을 찾았습니다.\")\n",
    "        break\n",
    "\n",
    "else:\n",
    "    print(f\"{target}를 찾지 못했습니다.\")"
   ]
  },
  {
   "cell_type": "code",
   "execution_count": 11,
   "metadata": {},
   "outputs": [
    {
     "name": "stdout",
     "output_type": "stream",
     "text": [
      "2\n",
      "4\n"
     ]
    }
   ],
   "source": [
    "# continue 키워드\n",
    "numbers = [1, 2, 3, 4, 5]\n",
    "\n",
    "for number in numbers:\n",
    "    # 짝수만 출력\n",
    "    if number % 2 == 1:\n",
    "        continue  # 이번 반복 스킵하고 다음 반복부터 시작\n",
    "    print(number)"
   ]
  },
  {
   "cell_type": "code",
   "execution_count": 19,
   "metadata": {},
   "outputs": [
    {
     "name": "stdout",
     "output_type": "stream",
     "text": [
      "1\n",
      "7\n",
      "11\n",
      "13\n",
      "17\n",
      "19\n"
     ]
    }
   ],
   "source": [
    "# contiunue 활용 방법\n",
    "# 다중 필터링\n",
    "\n",
    "for i in list(range(0, 21)):\n",
    "    # 2의 배수, 3의 배수,, 5의 배수가 아닌 값만 출력\n",
    "    if i % 2 == 0:\n",
    "        continue\n",
    "    if i % 3 == 0:\n",
    "        continue\n",
    "    if i % 5 == 0:\n",
    "        continue\n",
    "    print(i)"
   ]
  },
  {
   "cell_type": "code",
   "execution_count": 20,
   "metadata": {},
   "outputs": [],
   "source": [
    "# pass 키워드\n",
    "\n",
    "for number in range(0, 20):\n",
    "    # 코드 블록을 채우지 않았기 때문에 오류가 발생\n",
    "    # print(number)\n",
    "    pass  # 오류가 뜨지 않도록 하는 땜빵"
   ]
  },
  {
   "cell_type": "code",
   "execution_count": 23,
   "metadata": {},
   "outputs": [
    {
     "name": "stdout",
     "output_type": "stream",
     "text": [
      "a\n",
      "b\n",
      "c\n"
     ]
    }
   ],
   "source": [
    "# 딕셔너리 반복문\n",
    "\n",
    "my_dict = {\"a\": 1, \"b\": 2, \"c\": 3}\n",
    "\n",
    "for variable in my_dict:  # 기본적으로 키가 반복되어 출력됨\n",
    "    print(variable)"
   ]
  },
  {
   "cell_type": "code",
   "execution_count": 25,
   "metadata": {},
   "outputs": [
    {
     "name": "stdout",
     "output_type": "stream",
     "text": [
      "1\n",
      "2\n",
      "3\n"
     ]
    }
   ],
   "source": [
    "# 딕셔너리 value 반복문\n",
    "my_dict = {\"a\": 1, \"b\": 2, \"c\": 3}\n",
    "\n",
    "for variable in my_dict.values():  # values() 이용\n",
    "    print(variable)"
   ]
  },
  {
   "cell_type": "code",
   "execution_count": 27,
   "metadata": {},
   "outputs": [
    {
     "name": "stdout",
     "output_type": "stream",
     "text": [
      "dict_items([('a', 1), ('b', 2), ('c', 3)])\n",
      "a - 1\n",
      "b - 2\n",
      "c - 3\n"
     ]
    }
   ],
   "source": [
    "# 딕셔너리 key - value 반복문\n",
    "my_dict = {\"a\": 1, \"b\": 2, \"c\": 3}\n",
    "print(my_dict.items())  # items() : key - value 쌍을 튜플로 변환\n",
    "\n",
    "for k, v in my_dict.items():\n",
    "    print(f\"{k} - {v}\")"
   ]
  }
 ],
 "metadata": {
  "kernelspec": {
   "display_name": "base",
   "language": "python",
   "name": "python3"
  },
  "language_info": {
   "codemirror_mode": {
    "name": "ipython",
    "version": 3
   },
   "file_extension": ".py",
   "mimetype": "text/x-python",
   "name": "python",
   "nbconvert_exporter": "python",
   "pygments_lexer": "ipython3",
   "version": "3.12.4"
  }
 },
 "nbformat": 4,
 "nbformat_minor": 2
}
