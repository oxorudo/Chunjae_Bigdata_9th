{
 "cells": [
  {
   "cell_type": "markdown",
   "metadata": {},
   "source": [
    "1. 숫자 비교\n",
    "    - 숫자 2개를 입력 받고, 각각 `num1` `num2` 변수에 할당합니다. 이 때, 정수형으로 형변환합니다.\n",
    "    - 두 숫자가 같은지 다른지 비교하는 조건문 프로그램을 작성합니다.\n",
    "    - 요구사항\n",
    "        - 두 숫자가 같으면 “두 숫자는 같습니다” 를 출력합니다.\n",
    "        - 두 숫자가 다르면 “두 숫자는 다릅니다” 를 출력합니다\n",
    "    - 예시\n",
    "    \n",
    "    ```bash\n",
    "    첫 번째 숫자를 입력하세요 : 1\n",
    "    두 번째 숫자를 입력하세요 : 2\n",
    "    두 숫자는 다릅니다\n",
    "    ```\n",
    "    \n",
    "    ```bash\n",
    "    첫 번째 숫자를 입력하세요 : 1\n",
    "    두 번째 숫자를 입력하세요 : 1\n",
    "    두 숫자는 같습니다\n",
    "    ```"
   ]
  },
  {
   "cell_type": "code",
   "execution_count": 2,
   "metadata": {},
   "outputs": [
    {
     "name": "stdout",
     "output_type": "stream",
     "text": [
      "두 숫자는 같습니다\n"
     ]
    }
   ],
   "source": [
    "num1, num2 = int(input(\"첫 번째 숫자를 입력하세요 : \")), int(\n",
    "    input(\"두 번째 숫자를 입력하세요 : \")\n",
    ")\n",
    "\n",
    "if num1 == num2:\n",
    "    print(\"두 숫자는 같습니다\")\n",
    "else:\n",
    "    print(\"두 숫자는 다릅니다\")"
   ]
  },
  {
   "cell_type": "markdown",
   "metadata": {},
   "source": [
    "2. 숫자 크기 비교\n",
    "    - 숫자 2개를 입력 받고, 각각 `num1` `num2` 변수에 할당합니다. 이 때, 정수형으로 형변환합니다.\n",
    "    - 두 숫자의 크기를 비교하는 조건문 프로그램을 작성합니다.\n",
    "    - 요구사항\n",
    "        - 두 숫자 중 더 큰 숫자를 출력합니다.\n",
    "        - 두 숫자가 같다면 “두 숫자의 크기는 같습니다” 를 출력합니다.\n",
    "    - 예시\n",
    "    \n",
    "    ```bash\n",
    "    첫 번째 숫자를 입력하세요 : 1\n",
    "    두 번째 숫자를 입력하세요 : 2\n",
    "    더 큰 숫자는 2 입니다.\n",
    "    ```\n",
    "    \n",
    "    ```bash\n",
    "    첫 번째 숫자를 입력하세요 : 1\n",
    "    두 번째 숫자를 입력하세요 : 1\n",
    "    두 숫자의 크기는 같습니다.\n",
    "    ```"
   ]
  },
  {
   "cell_type": "code",
   "execution_count": 4,
   "metadata": {},
   "outputs": [
    {
     "name": "stdout",
     "output_type": "stream",
     "text": [
      "두 숫자는 같습니다\n"
     ]
    }
   ],
   "source": [
    "num1, num2 = int(input(\"첫 번째 숫자를 입력하세요 : \")), int(\n",
    "    input(\"두 번째 숫자를 입력하세요 : \")\n",
    ")\n",
    "\n",
    "if num1 == num2:\n",
    "    print(\"두 숫자는 같습니다\")\n",
    "elif num1 < num2:\n",
    "    print(f\"더 큰 숫자는 {num2} 입니다\")\n",
    "else:\n",
    "    print(f\"더 큰 숫자는 {num1} 입니다\")"
   ]
  },
  {
   "cell_type": "markdown",
   "metadata": {},
   "source": [
    "3. 짝수 홀수 판별\n",
    "    - 숫자 1개를 입력받습니다. 이 때, 정수형으로 형변환합니다.\n",
    "    - 입력받은 숫자를 변수 `number`에 할당합니다.\n",
    "    - 해당 숫자가 짝수인지 판별하는 조건문 프로그램을 작성합니다.\n",
    "    - 요구사항\n",
    "        - 숫자가 0이면 짝수도 홀수도 아닙니다.\n",
    "        - 숫자를 2로 나눈 나머지가 0이면 짝수입니다.\n",
    "        - 숫자를 2로 나눈 나머지가 0이 아니면 홀수입니다.\n",
    "    - 예시\n",
    "    \n",
    "    ```bash\n",
    "    숫자를 입력하세요 : 0\n",
    "    0 입니다.\n",
    "    ```\n",
    "    \n",
    "    ```bash\n",
    "    숫자를 입력하세요 : 1\n",
    "    홀수입니다.\n",
    "    ```\n",
    "    \n",
    "    ```bash\n",
    "    숫자를 입력하세요 : 2\n",
    "    짝수입니다.\n",
    "    ```"
   ]
  },
  {
   "cell_type": "code",
   "execution_count": 14,
   "metadata": {},
   "outputs": [
    {
     "name": "stdout",
     "output_type": "stream",
     "text": [
      "홀수입니다.\n"
     ]
    }
   ],
   "source": [
    "number = int(input(\"숫자를 입력하세요.\"))\n",
    "\n",
    "if number == 0:\n",
    "    print(\"0 입니다.\")\n",
    "elif number % 2 == 0:\n",
    "    print(\"짝수입니다.\")\n",
    "elif number % 2 != 0:\n",
    "    print(\"홀수입니다.\")"
   ]
  },
  {
   "cell_type": "markdown",
   "metadata": {},
   "source": [
    "4. 점수에 맞는 학점\n",
    "    - 숫자 1개를 입력받습니다. 이 때, 실수형으로 형변환합니다.\n",
    "    - 입력받은 숫자를 변수 `number`에 할당합니다.\n",
    "    - 해당 숫자의 점수에 맞는 학점을 출력하는 프로그램을 작성합니다.\n",
    "    - 출력은 한 번만 해야합니다.\n",
    "    - 요구사항\n",
    "        - 점수가 90 이상이면 A\n",
    "        - 점수가 85.5 이상이면 B\n",
    "        - 점수가 70 이상이면 C\n",
    "        - 점수가 60 이상이면 D\n",
    "        - 그외 F\n",
    "    - 예시\n",
    "    \n",
    "    ```bash\n",
    "    숫자를 입력하세요 : 90\n",
    "    A\n",
    "    ```\n",
    "    \n",
    "    ```bash\n",
    "    숫자를 입력하세요 : 85.4\n",
    "    C\n",
    "    ```\n",
    "    \n",
    "    ```bash\n",
    "    숫자를 입력하세요 : 59.9\n",
    "    F\n",
    "    ```"
   ]
  },
  {
   "cell_type": "code",
   "execution_count": 4,
   "metadata": {},
   "outputs": [
    {
     "name": "stdout",
     "output_type": "stream",
     "text": [
      "F\n"
     ]
    }
   ],
   "source": [
    "number = float(input(\"점수를 입력해주세요.\"))\n",
    "\n",
    "if number >= 90:\n",
    "    print(\"A\")\n",
    "elif number >= 85.5:\n",
    "    print(\"B\")\n",
    "elif number >= 70:\n",
    "    print(\"C\")\n",
    "elif number >= 60:\n",
    "    print(\"D\")\n",
    "else:  # 위에 작성한 조건들(if ~ elif)이 모두 거짓으로 평가됐을 때 실행\n",
    "    print(\"F\")"
   ]
  }
 ],
 "metadata": {
  "kernelspec": {
   "display_name": "base",
   "language": "python",
   "name": "python3"
  },
  "language_info": {
   "codemirror_mode": {
    "name": "ipython",
    "version": 3
   },
   "file_extension": ".py",
   "mimetype": "text/x-python",
   "name": "python",
   "nbconvert_exporter": "python",
   "pygments_lexer": "ipython3",
   "version": "3.12.4"
  }
 },
 "nbformat": 4,
 "nbformat_minor": 2
}
