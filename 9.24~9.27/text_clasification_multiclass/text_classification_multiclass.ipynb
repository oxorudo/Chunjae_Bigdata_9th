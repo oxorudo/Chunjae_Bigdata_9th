{
 "cells": [
  {
   "cell_type": "code",
   "execution_count": 3,
   "id": "9feb9fd7-038a-489f-8305-336774190b87",
   "metadata": {},
   "outputs": [],
   "source": [
    "import pandas as pd\n",
    "from sklearn.model_selection import train_test_split\n",
    "from sklearn.preprocessing import OneHotEncoder\n",
    "import numpy as np\n",
    "import pickle\n",
    "import matplotlib.pyplot as plt\n",
    "import re\n",
    "from konlpy.tag import Okt\n",
    "from tqdm import tqdm\n",
    "from tensorflow.keras.preprocessing.text import Tokenizer\n",
    "from tensorflow.keras.preprocessing.sequence import pad_sequences\n",
    "from tensorflow.keras.layers import Embedding, Dense, LSTM\n",
    "from tensorflow.keras.models import Sequential, load_model\n",
    "from tensorflow.keras.callbacks import EarlyStopping, ModelCheckpoint\n",
    "\n",
    "okt = Okt()\n",
    "enc = OneHotEncoder()\n",
    "tokenizer = Tokenizer()\n",
    "stopwords = ['의','가','이','은','들','는','좀','잘','걍','과','도','를','으로','자','에','와','한','하다']\n",
    "best_model_path = './best_model.h5'\n",
    "\n",
    "vas = pd.read_csv('./vas.csv',encoding='EUC-KR')\n",
    "\n",
    "def vas_remap(x):\n",
    "    if x <= 1:\n",
    "        return 0\n",
    "    elif x <= 4:\n",
    "        return 1\n",
    "    elif x <= 7:\n",
    "        return 2\n",
    "    return 3\n",
    "\n",
    "vas['vas'] = vas['vas'].apply(vas_remap)"
   ]
  },
  {
   "cell_type": "code",
   "execution_count": 4,
   "id": "7a51e3eb-2f25-4ad9-b310-7379865df05f",
   "metadata": {},
   "outputs": [
    {
     "name": "stderr",
     "output_type": "stream",
     "text": [
      "100%|██████████| 724/724 [00:02<00:00, 346.47it/s]\n"
     ]
    }
   ],
   "source": [
    "input_array = np.array(vas['vas']).reshape(-1, 1)\n",
    "\n",
    "enc.fit(input_array)\n",
    "\n",
    "y_ori = enc.transform(input_array).toarray()\n",
    "\n",
    "X = []\n",
    "\n",
    "for sentence in tqdm(vas['symptom']):\n",
    "    tokenized_sentence = okt.morphs(sentence, stem=True) # 토큰화\n",
    "    stopwords_removed_sentence = [word for word in tokenized_sentence if not word in stopwords] # 불용어 제거\n",
    "    X.append(stopwords_removed_sentence)\n",
    "\n",
    "X_train, X_test, y_train, y_test = train_test_split(X, y_ori, random_state=12345, shuffle=True, test_size=.1)\n",
    "\n",
    "tokenizer.fit_on_texts(X_train)"
   ]
  },
  {
   "cell_type": "code",
   "execution_count": 5,
   "id": "d286465a-5b78-4abe-afb0-30fd5d3373f3",
   "metadata": {},
   "outputs": [
    {
     "name": "stdout",
     "output_type": "stream",
     "text": [
      "단어 집합(vocabulary)의 크기 : 323\n",
      "등장 빈도가 2번 이하인 희귀 단어의 수: 145\n",
      "단어 집합에서 희귀 단어의 비율: 44.89164086687307\n",
      "전체 등장 빈도에서 희귀 단어 등장 빈도 비율: 3.74869109947644\n"
     ]
    }
   ],
   "source": [
    "threshold = 3\n",
    "total_cnt = len(tokenizer.word_index) # 단어의 수\n",
    "rare_cnt = 0 # 등장 빈도수가 threshold보다 작은 단어의 개수를 카운트\n",
    "total_freq = 0 # 훈련 데이터의 전체 단어 빈도수 총 합\n",
    "rare_freq = 0 # 등장 빈도수가 threshold보다 작은 단어의 등장 빈도수의 총 합\n",
    "\n",
    "# 단어와 빈도수의 쌍(pair)을 key와 value로 받는다.\n",
    "for key, value in tokenizer.word_counts.items():\n",
    "    total_freq = total_freq + value\n",
    "\n",
    "    # 단어의 등장 빈도수가 threshold보다 작으면\n",
    "    if(value < threshold):\n",
    "        rare_cnt = rare_cnt + 1\n",
    "        rare_freq = rare_freq + value\n",
    "\n",
    "print('단어 집합(vocabulary)의 크기 :',total_cnt)\n",
    "print('등장 빈도가 %s번 이하인 희귀 단어의 수: %s'%(threshold - 1, rare_cnt))\n",
    "print(\"단어 집합에서 희귀 단어의 비율:\", (rare_cnt / total_cnt)*100)\n",
    "print(\"전체 등장 빈도에서 희귀 단어 등장 빈도 비율:\", (rare_freq / total_freq)*100)"
   ]
  },
  {
   "cell_type": "code",
   "execution_count": 6,
   "id": "af948b41-f373-4fef-ad0d-bce27c401c0a",
   "metadata": {},
   "outputs": [
    {
     "name": "stdout",
     "output_type": "stream",
     "text": [
      "단어 집합의 크기 : 179\n"
     ]
    }
   ],
   "source": [
    "# 전체 단어 개수 중 빈도수 2이하인 단어는 제거.\n",
    "# 0번 패딩 토큰을 고려하여 + 1\n",
    "vocab_size = total_cnt - rare_cnt + 1\n",
    "print('단어 집합의 크기 :',vocab_size)"
   ]
  },
  {
   "cell_type": "code",
   "execution_count": 7,
   "id": "0b6f45ef-8098-4e01-a95e-6a285c365ef5",
   "metadata": {},
   "outputs": [],
   "source": [
    "tokenizer = Tokenizer(vocab_size)\n",
    "tokenizer.fit_on_texts(X_train)\n",
    "X_train = tokenizer.texts_to_sequences(X_train)\n",
    "X_test = tokenizer.texts_to_sequences(X_test)"
   ]
  },
  {
   "cell_type": "code",
   "execution_count": 31,
   "id": "322944ac-9e02-4f84-9391-6408e97bb5ec",
   "metadata": {},
   "outputs": [],
   "source": [
    "# print('최대 길이 :',max(len(review) for review in X_train))\n",
    "# print('평균 길이 :',sum(map(len, X_train))/len(X_train))\n",
    "# plt.hist([len(review) for review in X_train], bins=50)\n",
    "# plt.xlabel('length of samples')\n",
    "# plt.ylabel('number of samples')\n",
    "# plt.show()"
   ]
  },
  {
   "cell_type": "code",
   "execution_count": 9,
   "id": "9b8ca3b5-508b-4a25-81b6-f39f1adaec06",
   "metadata": {},
   "outputs": [],
   "source": [
    "def below_threshold_len(max_len, nested_list):\n",
    "  count = 0\n",
    "  for sentence in nested_list:\n",
    "    if(len(sentence) <= max_len):\n",
    "        count = count + 1\n",
    "  print('전체 샘플 중 길이가 %s 이하인 샘플의 비율: %s'%(max_len, (count / len(nested_list))*100))"
   ]
  },
  {
   "cell_type": "code",
   "execution_count": 10,
   "id": "cd10d145-545d-4c82-a1b3-3dffc3b79a81",
   "metadata": {},
   "outputs": [
    {
     "name": "stdout",
     "output_type": "stream",
     "text": [
      "전체 샘플 중 길이가 30 이하인 샘플의 비율: 100.0\n"
     ]
    }
   ],
   "source": [
    "max_len = 30\n",
    "below_threshold_len(max_len, X_train)"
   ]
  },
  {
   "cell_type": "code",
   "execution_count": 11,
   "id": "97cc099c-1399-4e13-b013-f0feddfae562",
   "metadata": {},
   "outputs": [],
   "source": [
    "X_train = pad_sequences(X_train, maxlen=max_len)\n",
    "X_test = pad_sequences(X_test, maxlen=max_len)"
   ]
  },
  {
   "cell_type": "code",
   "execution_count": 12,
   "id": "4db82ad0-62d4-42a2-8548-5d86dd9e2ee9",
   "metadata": {},
   "outputs": [
    {
     "name": "stdout",
     "output_type": "stream",
     "text": [
      "Model: \"sequential\"\n",
      "_________________________________________________________________\n",
      " Layer (type)                Output Shape              Param #   \n",
      "=================================================================\n",
      " embedding (Embedding)       (None, None, 100)         17900     \n",
      "                                                                 \n",
      " lstm (LSTM)                 (None, 64)                42240     \n",
      "                                                                 \n",
      " dense (Dense)               (None, 4)                 260       \n",
      "                                                                 \n",
      "=================================================================\n",
      "Total params: 60400 (235.94 KB)\n",
      "Trainable params: 60400 (235.94 KB)\n",
      "Non-trainable params: 0 (0.00 Byte)\n",
      "_________________________________________________________________\n",
      "None\n",
      "Epoch 1/30\n",
      "12/17 [====================>.........] - ETA: 0s - loss: 1.3688 - acc: 0.3177\n",
      "Epoch 1: val_acc improved from -inf to 0.37405, saving model to .\\best_model.h5\n",
      "17/17 [==============================] - 3s 39ms/step - loss: 1.3556 - acc: 0.3462 - val_loss: 1.2951 - val_acc: 0.3740\n",
      "Epoch 2/30\n",
      " 6/17 [=========>....................] - ETA: 0s - loss: 1.3305 - acc: 0.3385"
     ]
    },
    {
     "name": "stderr",
     "output_type": "stream",
     "text": [
      "d:\\workspace\\Chunjae_Bigdata_9th\\9.4~9.23\\.conda\\lib\\site-packages\\keras\\src\\engine\\training.py:3000: UserWarning: You are saving your model as an HDF5 file via `model.save()`. This file format is considered legacy. We recommend using instead the native Keras format, e.g. `model.save('my_model.keras')`.\n",
      "  saving_api.save_model(\n"
     ]
    },
    {
     "name": "stdout",
     "output_type": "stream",
     "text": [
      "17/17 [==============================] - ETA: 0s - loss: 1.2827 - acc: 0.3577\n",
      "Epoch 2: val_acc improved from 0.37405 to 0.38168, saving model to .\\best_model.h5\n",
      "17/17 [==============================] - 0s 30ms/step - loss: 1.2827 - acc: 0.3577 - val_loss: 1.2071 - val_acc: 0.3817\n",
      "Epoch 3/30\n",
      "12/17 [====================>.........] - ETA: 0s - loss: 1.2117 - acc: 0.4740\n",
      "Epoch 3: val_acc improved from 0.38168 to 0.66412, saving model to .\\best_model.h5\n",
      "17/17 [==============================] - 0s 29ms/step - loss: 1.1954 - acc: 0.4808 - val_loss: 1.0639 - val_acc: 0.6641\n",
      "Epoch 4/30\n",
      "17/17 [==============================] - ETA: 0s - loss: 1.0001 - acc: 0.6038\n",
      "Epoch 4: val_acc did not improve from 0.66412\n",
      "17/17 [==============================] - 0s 13ms/step - loss: 1.0001 - acc: 0.6038 - val_loss: 0.8801 - val_acc: 0.6260\n",
      "Epoch 5/30\n",
      "13/17 [=====================>........] - ETA: 0s - loss: 0.8249 - acc: 0.6490\n",
      "Epoch 5: val_acc improved from 0.66412 to 0.68702, saving model to .\\best_model.h5\n",
      "17/17 [==============================] - 1s 32ms/step - loss: 0.8475 - acc: 0.6212 - val_loss: 0.7924 - val_acc: 0.6870\n",
      "Epoch 6/30\n",
      "12/17 [====================>.........] - ETA: 0s - loss: 0.7701 - acc: 0.6745\n",
      "Epoch 6: val_acc improved from 0.68702 to 0.72519, saving model to .\\best_model.h5\n",
      "17/17 [==============================] - 0s 14ms/step - loss: 0.7422 - acc: 0.6731 - val_loss: 0.7159 - val_acc: 0.7252\n",
      "Epoch 7/30\n",
      "14/17 [=======================>......] - ETA: 0s - loss: 0.6651 - acc: 0.7254\n",
      "Epoch 7: val_acc improved from 0.72519 to 0.74046, saving model to .\\best_model.h5\n",
      "17/17 [==============================] - 0s 13ms/step - loss: 0.6564 - acc: 0.7231 - val_loss: 0.6227 - val_acc: 0.7405\n",
      "Epoch 8/30\n",
      "13/17 [=====================>........] - ETA: 0s - loss: 0.5881 - acc: 0.7740\n",
      "Epoch 8: val_acc did not improve from 0.74046\n",
      "17/17 [==============================] - 0s 12ms/step - loss: 0.5799 - acc: 0.7750 - val_loss: 0.5499 - val_acc: 0.7328\n",
      "Epoch 9/30\n",
      "12/17 [====================>.........] - ETA: 0s - loss: 0.5236 - acc: 0.7943\n",
      "Epoch 9: val_acc did not improve from 0.74046\n",
      "17/17 [==============================] - 0s 13ms/step - loss: 0.5452 - acc: 0.7731 - val_loss: 0.5815 - val_acc: 0.7405\n",
      "Epoch 10/30\n",
      "12/17 [====================>.........] - ETA: 0s - loss: 0.5084 - acc: 0.7760\n",
      "Epoch 10: val_acc improved from 0.74046 to 0.75573, saving model to .\\best_model.h5\n",
      "17/17 [==============================] - 0s 30ms/step - loss: 0.4992 - acc: 0.7846 - val_loss: 0.5776 - val_acc: 0.7557\n",
      "Epoch 11/30\n",
      "13/17 [=====================>........] - ETA: 0s - loss: 0.4719 - acc: 0.8149\n",
      "Epoch 11: val_acc improved from 0.75573 to 0.76336, saving model to .\\best_model.h5\n",
      "17/17 [==============================] - 0s 13ms/step - loss: 0.4829 - acc: 0.7962 - val_loss: 0.5147 - val_acc: 0.7634\n",
      "Epoch 12/30\n",
      "12/17 [====================>.........] - ETA: 0s - loss: 0.4032 - acc: 0.8255\n",
      "Epoch 12: val_acc did not improve from 0.76336\n",
      "17/17 [==============================] - 0s 13ms/step - loss: 0.4065 - acc: 0.8308 - val_loss: 0.5537 - val_acc: 0.7328\n",
      "Epoch 13/30\n",
      "13/17 [=====================>........] - ETA: 0s - loss: 0.4441 - acc: 0.8077\n",
      "Epoch 13: val_acc did not improve from 0.76336\n",
      "17/17 [==============================] - 0s 12ms/step - loss: 0.4348 - acc: 0.8173 - val_loss: 0.5222 - val_acc: 0.7328\n",
      "Epoch 14/30\n",
      "17/17 [==============================] - ETA: 0s - loss: 0.4120 - acc: 0.8385\n",
      "Epoch 14: val_acc did not improve from 0.76336\n",
      "17/17 [==============================] - 0s 13ms/step - loss: 0.4120 - acc: 0.8385 - val_loss: 0.5282 - val_acc: 0.7481\n",
      "Epoch 15/30\n",
      "12/17 [====================>.........] - ETA: 0s - loss: 0.3916 - acc: 0.8255\n",
      "Epoch 15: val_acc improved from 0.76336 to 0.77863, saving model to .\\best_model.h5\n",
      "17/17 [==============================] - 0s 18ms/step - loss: 0.3915 - acc: 0.8327 - val_loss: 0.5204 - val_acc: 0.7786\n",
      "Epoch 15: early stopping\n"
     ]
    }
   ],
   "source": [
    "embedding_dim = 100\n",
    "hidden_units = 128\n",
    "\n",
    "model = Sequential()\n",
    "model.add(Embedding(vocab_size, embedding_dim))\n",
    "model.add(LSTM(64, dropout=0.7, recurrent_dropout=0.7))\n",
    "model.add(Dense(4, activation='softmax'))\n",
    "\n",
    "es = EarlyStopping(monitor='val_loss', mode='min', verbose=1, patience=4)\n",
    "mc = ModelCheckpoint(best_model_path, monitor='val_acc', mode='max', verbose=1, save_best_only=True)\n",
    "\n",
    "model.compile(optimizer='adam', loss='categorical_crossentropy', metrics=['acc'])\n",
    "print(model.summary())\n",
    "history = model.fit(X_train, y_train, epochs=30, batch_size=32, validation_split=0.2, callbacks=[es, mc])"
   ]
  },
  {
   "cell_type": "code",
   "execution_count": 13,
   "id": "c743bd8b-8f31-4eca-9643-92385bfc3afe",
   "metadata": {},
   "outputs": [
    {
     "name": "stdout",
     "output_type": "stream",
     "text": [
      "3/3 [==============================] - 0s 9ms/step - loss: 0.4129 - acc: 0.8082\n",
      "\n",
      " 테스트 정확도: 0.8082\n"
     ]
    }
   ],
   "source": [
    "loaded_model = load_model(best_model_path)\n",
    "print(\"\\n 테스트 정확도: %.4f\" % (loaded_model.evaluate(X_test, y_test)[1]))\n",
    "# UnicodeDecodeError: 'utf-8' codec can't decode byte 0xd5 in position 28: invalid continuation byte -> 경로에 띄어쓰기 등이 있으면 발생하는 에러"
   ]
  },
  {
   "cell_type": "code",
   "execution_count": 14,
   "id": "d6d696f4-17ea-4542-ac4b-88429d895efa",
   "metadata": {},
   "outputs": [],
   "source": [
    "# 토크나이저 백업\n",
    "with open('tokenizer.pickle', 'wb') as handle:\n",
    "     pickle.dump(tokenizer, handle)\n",
    "\n",
    "with open('tokenizer.pickle', 'rb') as handle:\n",
    "    tokenizer = pickle.load(handle)"
   ]
  },
  {
   "cell_type": "code",
   "execution_count": null,
   "id": "e6a5219b-8822-4c29-9deb-b16495c7a3bf",
   "metadata": {},
   "outputs": [],
   "source": []
  },
  {
   "cell_type": "code",
   "execution_count": 15,
   "id": "696afa20-d296-4334-be0f-528e0f124285",
   "metadata": {},
   "outputs": [
    {
     "data": {
      "image/png": "[encoded data removed]",
      "text/plain": [
       "<Figure size 640x480 with 1 Axes>"
      ]
     },
     "metadata": {},
     "output_type": "display_data"
    },
    {
     "data": {
      "image/png": "[encoded data removed]",
      "text/plain": [
       "<Figure size 640x480 with 1 Axes>"
      ]
     },
     "metadata": {},
     "output_type": "display_data"
    }
   ],
   "source": [
    "acc = history.history['acc']\n",
    "val_acc = history.history['val_acc']\n",
    "loss = history.history['loss']\n",
    "val_loss = history.history['val_loss']\n",
    "\n",
    "epochs = range(1, len(acc) + 1)\n",
    "\n",
    "plt.plot(epochs, acc, '--', label='Training acc')\n",
    "plt.plot(epochs, val_acc, label='Validation acc')\n",
    "plt.title('Training and validation accuracy')\n",
    "plt.legend()\n",
    "\n",
    "plt.figure()\n",
    "\n",
    "plt.plot(epochs, loss, '--', label='Training loss')\n",
    "plt.plot(epochs, val_loss, label='Validation loss')\n",
    "plt.title('Training and validation loss')\n",
    "plt.legend()\n",
    "\n",
    "plt.show()"
   ]
  },
  {
   "cell_type": "code",
   "execution_count": null,
   "id": "59361e07-9bd5-43ee-8546-e2e9745fdc51",
   "metadata": {},
   "outputs": [],
   "source": []
  },
  {
   "cell_type": "code",
   "execution_count": 16,
   "id": "b23f32e1-47e6-4403-b0e0-4f3f23a5537f",
   "metadata": {},
   "outputs": [
    {
     "data": {
      "text/html": [
       "<div>\n",
       "<style scoped>\n",
       "    .dataframe tbody tr th:only-of-type {\n",
       "        vertical-align: middle;\n",
       "    }\n",
       "\n",
       "    .dataframe tbody tr th {\n",
       "        vertical-align: top;\n",
       "    }\n",
       "\n",
       "    .dataframe thead th {\n",
       "        text-align: right;\n",
       "    }\n",
       "</style>\n",
       "<table border=\"1\" class=\"dataframe\">\n",
       "  <thead>\n",
       "    <tr style=\"text-align: right;\">\n",
       "      <th></th>\n",
       "      <th>symptom</th>\n",
       "      <th>vas</th>\n",
       "    </tr>\n",
       "  </thead>\n",
       "  <tbody>\n",
       "    <tr>\n",
       "      <th>0</th>\n",
       "      <td>잇몸이 건강하고 통증이 전혀 없어요.</td>\n",
       "      <td>0</td>\n",
       "    </tr>\n",
       "    <tr>\n",
       "      <th>1</th>\n",
       "      <td>입안이 아주 깨끗하고 아무런 통증이 없어요.</td>\n",
       "      <td>0</td>\n",
       "    </tr>\n",
       "    <tr>\n",
       "      <th>2</th>\n",
       "      <td>치아에 전혀 불편함이 없어요.</td>\n",
       "      <td>0</td>\n",
       "    </tr>\n",
       "    <tr>\n",
       "      <th>3</th>\n",
       "      <td>양치할 때 전혀 아프지 않아요.</td>\n",
       "      <td>0</td>\n",
       "    </tr>\n",
       "    <tr>\n",
       "      <th>4</th>\n",
       "      <td>음식을 씹을 때 전혀 아프지 않아요.</td>\n",
       "      <td>0</td>\n",
       "    </tr>\n",
       "    <tr>\n",
       "      <th>...</th>\n",
       "      <td>...</td>\n",
       "      <td>...</td>\n",
       "    </tr>\n",
       "    <tr>\n",
       "      <th>719</th>\n",
       "      <td>치아 통증이 너무 심해서 말하기도 힘들어요.</td>\n",
       "      <td>3</td>\n",
       "    </tr>\n",
       "    <tr>\n",
       "      <th>720</th>\n",
       "      <td>가끔 치아가 약간 아플 때가 있어요.</td>\n",
       "      <td>1</td>\n",
       "    </tr>\n",
       "    <tr>\n",
       "      <th>721</th>\n",
       "      <td>식사할 때마다 이가 불편하고 아파요.</td>\n",
       "      <td>2</td>\n",
       "    </tr>\n",
       "    <tr>\n",
       "      <th>722</th>\n",
       "      <td>치아에 지속적인 중간 정도의 통증이 있어요.</td>\n",
       "      <td>2</td>\n",
       "    </tr>\n",
       "    <tr>\n",
       "      <th>723</th>\n",
       "      <td>심한 치통으로 인해 먹기가 매우 어려워요.</td>\n",
       "      <td>2</td>\n",
       "    </tr>\n",
       "  </tbody>\n",
       "</table>\n",
       "<p>724 rows × 2 columns</p>\n",
       "</div>"
      ],
      "text/plain": [
       "                       symptom  vas\n",
       "0         잇몸이 건강하고 통증이 전혀 없어요.    0\n",
       "1     입안이 아주 깨끗하고 아무런 통증이 없어요.    0\n",
       "2             치아에 전혀 불편함이 없어요.    0\n",
       "3            양치할 때 전혀 아프지 않아요.    0\n",
       "4         음식을 씹을 때 전혀 아프지 않아요.    0\n",
       "..                         ...  ...\n",
       "719  치아 통증이 너무 심해서 말하기도 힘들어요.     3\n",
       "720      가끔 치아가 약간 아플 때가 있어요.     1\n",
       "721      식사할 때마다 이가 불편하고 아파요.     2\n",
       "722  치아에 지속적인 중간 정도의 통증이 있어요.     2\n",
       "723   심한 치통으로 인해 먹기가 매우 어려워요.     2\n",
       "\n",
       "[724 rows x 2 columns]"
      ]
     },
     "execution_count": 16,
     "metadata": {},
     "output_type": "execute_result"
    }
   ],
   "source": [
    "vas # vas : 통증 척도. 높을수록 더 아프다는 뜻이다."
   ]
  },
  {
   "cell_type": "code",
   "execution_count": 27,
   "id": "5ab07cd3-cf85-4e83-b09c-69c9873bda33",
   "metadata": {},
   "outputs": [
    {
     "name": "stdout",
     "output_type": "stream",
     "text": [
      "1/1 [==============================] - 0s 20ms/step\n"
     ]
    }
   ],
   "source": [
    "new_sentence = '조금 아파요.'\n",
    "\n",
    "new_sentence = re.sub(r'[^ㄱ-ㅎㅏ-ㅣ가-힣 ]','', new_sentence)\n",
    "new_sentence = okt.morphs(new_sentence, stem=True) # 토큰화\n",
    "new_sentence = [word for word in new_sentence if not word in stopwords] # 불용어 제거\n",
    "encoded = tokenizer.texts_to_sequences([new_sentence]) # 정수 인코딩\n",
    "pad_new = pad_sequences(encoded, maxlen = max_len) # 패딩\n",
    "score = loaded_model.predict(pad_new) # 예측"
   ]
  },
  {
   "cell_type": "code",
   "execution_count": 28,
   "id": "40d61606-d035-43c9-9c21-10a50e90c64c",
   "metadata": {},
   "outputs": [
    {
     "data": {
      "text/plain": [
       "array([[0.16975106, 0.5925659 , 0.19305103, 0.04463198]], dtype=float32)"
      ]
     },
     "execution_count": 28,
     "metadata": {},
     "output_type": "execute_result"
    }
   ],
   "source": [
    "score"
   ]
  },
  {
   "cell_type": "code",
   "execution_count": 29,
   "id": "d3add7d5-b923-40b8-8154-3b287698e1d8",
   "metadata": {},
   "outputs": [
    {
     "data": {
      "text/plain": [
       "1"
      ]
     },
     "execution_count": 29,
     "metadata": {},
     "output_type": "execute_result"
    }
   ],
   "source": [
    "np.argmax(score)"
   ]
  },
  {
   "cell_type": "code",
   "execution_count": null,
   "id": "47657705-8094-4a56-b509-28c767ab42d4",
   "metadata": {},
   "outputs": [],
   "source": []
  },
  {
   "cell_type": "code",
   "execution_count": null,
   "id": "db438009-7c54-42d1-b370-df66bf9740a5",
   "metadata": {},
   "outputs": [],
   "source": []
  }
 ],
 "metadata": {
  "kernelspec": {
   "display_name": "Python 3",
   "language": "python",
   "name": "python3"
  },
  "language_info": {
   "codemirror_mode": {
    "name": "ipython",
    "version": 3
   },
   "file_extension": ".py",
   "mimetype": "text/x-python",
   "name": "python",
   "nbconvert_exporter": "python",
   "pygments_lexer": "ipython3",
   "version": "3.8.19"
  },
  "widgets": {
   "application/vnd.jupyter.widget-state+json": {
    "state": {},
    "version_major": 2,
    "version_minor": 0
   }
  }
 },
 "nbformat": 4,
 "nbformat_minor": 5
}
