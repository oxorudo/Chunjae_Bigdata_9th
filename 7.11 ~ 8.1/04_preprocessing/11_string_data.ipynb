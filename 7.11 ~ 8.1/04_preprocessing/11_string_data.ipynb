{
 "cells": [
  {
   "cell_type": "code",
   "execution_count": 260,
   "metadata": {},
   "outputs": [],
   "source": [
    "import pandas as pd\n",
    "\n",
    "data = {\n",
    "    \"Name\": [\n",
    "        \"John\",\n",
    "        \"Alice\",\n",
    "        \"Bob\",\n",
    "        \"Eve\",\n",
    "        \"Charlie\",\n",
    "    ],\n",
    "    \"Gender\": [\n",
    "        \"Male\",\n",
    "        \"Female\",\n",
    "        \"Male\",\n",
    "        \"Female\",\n",
    "        \"Male\",\n",
    "    ],\n",
    "    \"Occupation\": [\n",
    "        \"Student\",\n",
    "        \"Teacher\",\n",
    "        \"Doctor\",\n",
    "        \"Engineer\",\n",
    "        \"Designer\",\n",
    "    ],\n",
    "    \"City\": [\n",
    "        \"New York\",\n",
    "        \"Los Angeles\",\n",
    "        \"Chicago\",\n",
    "        \"New York\",\n",
    "        \"Los Angeles\",\n",
    "    ],\n",
    "    \"Email\": [\n",
    "        \"john@example.com\",\n",
    "        \"alice@example.com\",\n",
    "        \"bob@domain.com\",\n",
    "        \"eve@domain.com\",\n",
    "        \"charlie@test.co.kr\",\n",
    "    ],\n",
    "}\n",
    "\n",
    "df = pd.DataFrame(data)"
   ]
  },
  {
   "cell_type": "code",
   "execution_count": 261,
   "metadata": {},
   "outputs": [
    {
     "name": "stdout",
     "output_type": "stream",
     "text": [
      "  Name  Gender Occupation      City           Email\n",
      "2  Bob    male     Doctor   Chicago  bob@domain.com\n",
      "3  Eve  female   Engineer  New York  eve@domain.com\n",
      "  Name           Email\n",
      "2  Bob  bob@domain.com\n",
      "3  Eve  eve@domain.com\n"
     ]
    }
   ],
   "source": [
    "# 문자열 처리\n",
    "# str 접근자 : 문자열 처리를 도와주는 도구\n",
    "# df['열'].str.메서드()\n",
    "\n",
    "# 1. 소문자로 변환\n",
    "df[\"Gender\"] = df[\"Gender\"].str.lower()\n",
    "# 대문자 : upper()\n",
    "\n",
    "# 이메일에서 domain.com 포함한 행만 탐색\n",
    "domain_contains_index = df[\"Email\"].str.contains(\"domain.com\")\n",
    "print(df.loc[domain_contains_index])\n",
    "\n",
    "# Name과 Email 만 출력\n",
    "print(df.loc[domain_contains_index, [\"Name\", \"Email\"]])"
   ]
  },
  {
   "cell_type": "code",
   "execution_count": 262,
   "metadata": {},
   "outputs": [
    {
     "name": "stdout",
     "output_type": "stream",
     "text": [
      "      Name  Gender Occupation         City               Email       Id  \\\n",
      "0     John    male    Student     New York    john@example.com     john   \n",
      "1    Alice  female    Teacher  Los Angeles   alice@example.com    alice   \n",
      "2      Bob    male     Doctor      Chicago      bob@domain.com      bob   \n",
      "3      Eve  female   Engineer     New York      eve@domain.com      eve   \n",
      "4  Charlie    male   Designer  Los Angeles  charlie@test.co.kr  charlie   \n",
      "\n",
      "        Domain  \n",
      "0  example.com  \n",
      "1  example.com  \n",
      "2   domain.com  \n",
      "3   domain.com  \n",
      "4   test.co.kr  \n"
     ]
    }
   ],
   "source": [
    "# Email 열을 @ 기준으로 분할 str.split()\n",
    "\n",
    "# df[\"Email\"] = df[\"Email\"].str.split(\"@\")\n",
    "\n",
    "# expand=True : 분할 결과를 데이터프레임으로 반환\n",
    "# @을 기준으로 분할했을 때, 첫 번째 값을 Id 열을 생성해서 저장\n",
    "df[\"Id\"] = df[\"Email\"].str.split(\"@\", expand=True)[0]\n",
    "\n",
    "# @을 기준으로 분할했을 때, 두 번째 값을 Domain 열을 생성해서 저장\n",
    "df['Domain'] = df['Email'].str.split(\"@\", expand=True)[1]\n",
    "\n",
    "print(df)"
   ]
  },
  {
   "cell_type": "code",
   "execution_count": 263,
   "metadata": {},
   "outputs": [],
   "source": [
    "import pandas as pd\n",
    "\n",
    "df = pd.DataFrame(\n",
    "    {\n",
    "        \"등급\": [\n",
    "            \"low\",\n",
    "            \"medium\",\n",
    "            \"high\",\n",
    "            \"low\",\n",
    "            \"high\",\n",
    "            \"medium\",\n",
    "            \"low\",\n",
    "        ]\n",
    "    }\n",
    ")"
   ]
  },
  {
   "cell_type": "code",
   "execution_count": 264,
   "metadata": {},
   "outputs": [
    {
     "name": "stdout",
     "output_type": "stream",
     "text": [
      "0       low\n",
      "3       low\n",
      "6       low\n",
      "1    medium\n",
      "5    medium\n",
      "2      high\n",
      "4      high\n",
      "Name: 등급, dtype: category\n",
      "Categories (3, object): ['low' < 'medium' < 'high']\n"
     ]
    }
   ],
   "source": [
    "# pd.Categorical(value, categories, ordered) 메서드\n",
    "\n",
    "# 데이터 중 어떤 데이터를 범주형(category)으로 변환할건지 정의\n",
    "# 순서형 데이터의 경우 순서도 정의\n",
    "category_list = [\"low\", \"medium\", \"high\"]\n",
    "\n",
    "df[\"등급\"] = pd.Categorical(\n",
    "    values=df[\"등급\"],\n",
    "    categories=category_list,\n",
    "    ordered=True,  # 순서 부여\n",
    ")\n",
    "\n",
    "sorted_grade = df[\"등급\"].sort_values()\n",
    "print(sorted_grade)"
   ]
  },
  {
   "cell_type": "code",
   "execution_count": 265,
   "metadata": {},
   "outputs": [
    {
     "name": "stdout",
     "output_type": "stream",
     "text": [
      "       등급\n",
      "1  medium\n",
      "2    high\n",
      "4    high\n",
      "5  medium\n"
     ]
    }
   ],
   "source": [
    "# pd.Categorical(value, categories, ordered) 메서드\n",
    "\n",
    "# 데이터 중 어떤 데이터를 범주형(category)으로 변환할건지 정의\n",
    "# 순서형 데이터의 경우 순서도 정의\n",
    "category_list = [\"low\", \"medium\", \"high\"]\n",
    "\n",
    "df[\"등급\"] = pd.Categorical(\n",
    "    values=df[\"등급\"],\n",
    "    categories=category_list,\n",
    "    ordered=True,  # 순서 부여\n",
    ")\n",
    "\n",
    "# 범주형 자료형의 비교(필터링)\n",
    "# medium 이상의 행만 출력\n",
    "\n",
    "print(df[df[\"등급\"] >= \"medium\"])"
   ]
  },
  {
   "cell_type": "code",
   "execution_count": 266,
   "metadata": {},
   "outputs": [
    {
     "name": "stdout",
     "output_type": "stream",
     "text": [
      "0       low\n",
      "3       low\n",
      "6       low\n",
      "1    medium\n",
      "5    medium\n",
      "2       NaN\n",
      "4       NaN\n",
      "Name: 등급, dtype: category\n",
      "Categories (2, object): ['low' < 'medium']\n"
     ]
    }
   ],
   "source": [
    "category_list = [\n",
    "    \"low\",\n",
    "    \"medium\",\n",
    "]  # high를 지우면 low, medeum에 대해서만 범주형 자료로 사용하겠다는 뜻 : high = 결측치 처리\n",
    "\n",
    "df[\"등급\"] = pd.Categorical(\n",
    "    values=df[\"등급\"],\n",
    "    categories=category_list,\n",
    "    ordered=True,  # 순서 부여\n",
    ")\n",
    "\n",
    "sorted_grade = df[\"등급\"].sort_values()\n",
    "print(sorted_grade)"
   ]
  },
  {
   "cell_type": "code",
   "execution_count": 267,
   "metadata": {},
   "outputs": [
    {
     "name": "stdout",
     "output_type": "stream",
     "text": [
      "0       low\n",
      "3       low\n",
      "6       low\n",
      "1    medium\n",
      "5    medium\n",
      "2       NaN\n",
      "4       NaN\n",
      "Name: 등급, dtype: category\n",
      "Categories (3, object): ['low' < 'high' < 'medium']\n"
     ]
    }
   ],
   "source": [
    "category_list = [\"low\", \"high\", \"medium\"]  # 적는 순서에 따라 우선순위가 달라짐\n",
    "\n",
    "df[\"등급\"] = pd.Categorical(\n",
    "    values=df[\"등급\"],\n",
    "    categories=category_list,\n",
    "    ordered=True,  # 순서 부여\n",
    ")\n",
    "\n",
    "sorted_grade = df[\"등급\"].sort_values()\n",
    "print(sorted_grade)"
   ]
  },
  {
   "cell_type": "code",
   "execution_count": 268,
   "metadata": {},
   "outputs": [],
   "source": [
    "import pandas as pd\n",
    "\n",
    "df = pd.DataFrame(\n",
    "    {\n",
    "        \"등급\": [\"1\", \"3\", \"2\", \"5\", \"4\", \"1\", \"3\", \"2\", \"5\", \"2\", \"4\"],\n",
    "    }\n",
    ")\n",
    "\n"
   ]
  },
  {
   "cell_type": "code",
   "execution_count": 269,
   "metadata": {},
   "outputs": [],
   "source": [
    "# 순서가 1 > 2 > 3 > 4 > 5인 범주형 데이터로 변환하세요.\n",
    "category_list = ['5','4','3','2','1']\n",
    "\n",
    "df[\"등급\"] = pd.Categorical(\n",
    "    values=df[\"등급\"],\n",
    "    categories=category_list,\n",
    "    ordered=True,  # 순서 부여\n",
    ")"
   ]
  },
  {
   "cell_type": "code",
   "execution_count": 270,
   "metadata": {},
   "outputs": [
    {
     "name": "stdout",
     "output_type": "stream",
     "text": [
      "  등급\n",
      "0  1\n",
      "2  2\n",
      "5  1\n",
      "7  2\n",
      "9  2\n"
     ]
    }
   ],
   "source": [
    "# 3보다 큰 데이터(행)만 출력\n",
    "\n",
    "print(df[df['등급'] > \"3\"])"
   ]
  }
 ],
 "metadata": {
  "kernelspec": {
   "display_name": "base",
   "language": "python",
   "name": "python3"
  },
  "language_info": {
   "codemirror_mode": {
    "name": "ipython",
    "version": 3
   },
   "file_extension": ".py",
   "mimetype": "text/x-python",
   "name": "python",
   "nbconvert_exporter": "python",
   "pygments_lexer": "ipython3",
   "version": "3.12.4"
  }
 },
 "nbformat": 4,
 "nbformat_minor": 2
}
