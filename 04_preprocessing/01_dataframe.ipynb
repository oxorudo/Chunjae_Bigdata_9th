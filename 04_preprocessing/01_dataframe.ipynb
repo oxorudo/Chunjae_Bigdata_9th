{
 "cells": [
  {
   "cell_type": "code",
   "execution_count": 5,
   "metadata": {},
   "outputs": [
    {
     "name": "stdout",
     "output_type": "stream",
     "text": [
      "     기온  날씨\n",
      "0  35.1  맑음\n",
      "1  33.2   비\n",
      "2  37.3   비\n",
      "3  31.2   비\n"
     ]
    }
   ],
   "source": [
    "# pandas 모듈 불러오기\n",
    "import pandas as pd\n",
    "\n",
    "# 데이터프레임 생성\n",
    "# 1. 딕셔너리를 활용한 방법(key - value)\n",
    "# key : 열 이름\n",
    "# value : 값들의 모음(리스트)\n",
    "\n",
    "data = {\n",
    "    \"기온\": [35.1, 33.2, 37.3, 31.2],\n",
    "    \"날씨\": [\"맑음\", \"비\", \"비\", \"비\"],\n",
    "}\n",
    "\n",
    "# 판다스 데이터프레임 객체를 생성\n",
    "weather_df = pd.DataFrame(data)\n",
    "\n",
    "print(weather_df)"
   ]
  },
  {
   "cell_type": "code",
   "execution_count": 8,
   "metadata": {},
   "outputs": [
    {
     "name": "stdout",
     "output_type": "stream",
     "text": [
      "     기온  날씨\n",
      "0  35.1  맑음\n",
      "1  33.2   비\n",
      "2  37.3   비\n",
      "3  31.2   비\n"
     ]
    }
   ],
   "source": [
    "import pandas as pd\n",
    "\n",
    "# 2. 이차원 리스트 / 컬럼 리스트 활용 방법\n",
    "# 이차원 리스트 : 행으로 구분한 데이터\n",
    "# 컬럼 리스트 : 열 이름이 저장된 리스트\n",
    "\n",
    "row_data = [\n",
    "    [35.1, \"맑음\"],\n",
    "    [33.2, \"비\"],\n",
    "    [37.3, \"비\"],\n",
    "    [31.2, \"비\"],\n",
    "]\n",
    "\n",
    "# 열 이름 리스트\n",
    "column_list = [\"기온\", \"날씨\"]\n",
    "\n",
    "weather_df = pd.DataFrame(row_data, columns = column_list)\n",
    "\n",
    "print(weather_df)"
   ]
  },
  {
   "cell_type": "code",
   "execution_count": 11,
   "metadata": {},
   "outputs": [
    {
     "name": "stdout",
     "output_type": "stream",
     "text": [
      "     기온  날씨\n",
      "0  35.2  맑음\n",
      "1  33.2   비\n",
      "2  37.3   비\n",
      "3  31.2   비\n"
     ]
    }
   ],
   "source": [
    "# 리스트 내부에 딕셔너리 형태\n",
    "\n",
    "data = [\n",
    "    {\"기온\" : 35.2, \"날씨\" : \"맑음\"},\n",
    "    {\"기온\" : 33.2, \"날씨\" : \"비\"},\n",
    "    {\"기온\" : 37.3, \"날씨\" : \"비\"},\n",
    "    {\"기온\" : 31.2, \"날씨\" : \"비\"},\n",
    "]\n",
    "\n",
    "df = pd.DataFrame(data)\n",
    "\n",
    "print(df)"
   ]
  },
  {
   "cell_type": "code",
   "execution_count": null,
   "metadata": {},
   "outputs": [],
   "source": []
  }
 ],
 "metadata": {
  "kernelspec": {
   "display_name": "base",
   "language": "python",
   "name": "python3"
  },
  "language_info": {
   "codemirror_mode": {
    "name": "ipython",
    "version": 3
   },
   "file_extension": ".py",
   "mimetype": "text/x-python",
   "name": "python",
   "nbconvert_exporter": "python",
   "pygments_lexer": "ipython3",
   "version": "3.12.4"
  }
 },
 "nbformat": 4,
 "nbformat_minor": 2
}
