{
 "cells": [
  {
   "cell_type": "code",
   "execution_count": 6,
   "metadata": {},
   "outputs": [
    {
     "name": "stdout",
     "output_type": "stream",
     "text": [
      "100\n",
      "0\n",
      "-25\n"
     ]
    }
   ],
   "source": [
    "# int : 정수형\n",
    "\n",
    "print(100)\n",
    "print(0)\n",
    "print(-25)"
   ]
  },
  {
   "cell_type": "code",
   "execution_count": 8,
   "metadata": {},
   "outputs": [
    {
     "name": "stdout",
     "output_type": "stream",
     "text": [
      "<class 'int'>\n",
      "<class 'int'>\n",
      "<class 'int'>\n"
     ]
    }
   ],
   "source": [
    "#type() : 데이터 타입을 확인해주는 함수\n",
    "\n",
    "print(type(100))\n",
    "print(type(0))\n",
    "print(type(-25))"
   ]
  },
  {
   "cell_type": "code",
   "execution_count": 11,
   "metadata": {},
   "outputs": [
    {
     "name": "stdout",
     "output_type": "stream",
     "text": [
      "1.2\n",
      "-3.56\n"
     ]
    }
   ],
   "source": [
    "# float : 실수형(소숫점 포함된 숫자)\n",
    "\n",
    "print(1.2)\n",
    "print(-3.56)"
   ]
  },
  {
   "cell_type": "code",
   "execution_count": 14,
   "metadata": {},
   "outputs": [
    {
     "name": "stdout",
     "output_type": "stream",
     "text": [
      "<class 'float'>\n",
      "<class 'int'>\n"
     ]
    }
   ],
   "source": [
    "print(type(10.0)) #소숫점으로 자료형 바꿀 수 있음\n",
    "print(type(10))"
   ]
  },
  {
   "cell_type": "code",
   "execution_count": 16,
   "metadata": {},
   "outputs": [
    {
     "name": "stdout",
     "output_type": "stream",
     "text": [
      "작은 따옴표나 큰 따옴표로 감싸준 문자들의 나열\n",
      "<class 'str'>\n"
     ]
    }
   ],
   "source": [
    "# 문자열(string)\n",
    "\n",
    "print(\"작은 따옴표나 큰 따옴표로 감싸준 문자들의 나열\")\n",
    "print(type(\"안녕\"))"
   ]
  },
  {
   "cell_type": "code",
   "execution_count": 18,
   "metadata": {},
   "outputs": [
    {
     "name": "stdout",
     "output_type": "stream",
     "text": [
      "큰따옴표 안에 '작은따옴표' 사용하기\n",
      "작은따옴표 안에 \"큰따옴표\" 사용하기\n"
     ]
    }
   ],
   "source": [
    "#따옴표 안에 따옴표를 표현할 경우에는 서로 다르게 작성해야 한다.\n",
    "\n",
    "print(\"큰따옴표 안에 '작은따옴표' 사용하기\")\n",
    "print('작은따옴표 안에 \"큰따옴표\" 사용하기')"
   ]
  },
  {
   "cell_type": "code",
   "execution_count": 20,
   "metadata": {},
   "outputs": [
    {
     "name": "stdout",
     "output_type": "stream",
     "text": [
      "   \n",
      "\n",
      "<class 'str'>\n",
      "<class 'str'>\n"
     ]
    }
   ],
   "source": [
    "# 0 공백, 빈 문자열 : 비었다고 없는 게 아니고 있음\n",
    "print(\"   \")\n",
    "print(\"\")\n",
    "print(type(\"    \"))\n",
    "print(type(\"\"))"
   ]
  },
  {
   "cell_type": "code",
   "execution_count": 23,
   "metadata": {},
   "outputs": [
    {
     "name": "stdout",
     "output_type": "stream",
     "text": [
      "123\n",
      "123\n",
      "<class 'int'>\n",
      "<class 'str'>\n"
     ]
    }
   ],
   "source": [
    "print(123)\n",
    "print(\"123\")\n",
    "\n",
    "print(type(123))\n",
    "print(type(\"123\")) # 똑같이 생겨도 다름"
   ]
  },
  {
   "cell_type": "code",
   "execution_count": 26,
   "metadata": {},
   "outputs": [
    {
     "name": "stdout",
     "output_type": "stream",
     "text": [
      "True\n",
      "False\n"
     ]
    }
   ],
   "source": [
    "print(True)\n",
    "print(False) # boolean(논리형)은 True와 False 두 값만 가진다."
   ]
  },
  {
   "cell_type": "code",
   "execution_count": 32,
   "metadata": {},
   "outputs": [
    {
     "name": "stdout",
     "output_type": "stream",
     "text": [
      "123\n",
      "<class 'int'>\n"
     ]
    }
   ],
   "source": [
    "# 문자열 or 실수형 -> 정수형으로 변환\n",
    "\n",
    "print(int('123'))\n",
    "print(type(int('123')))\n"
   ]
  },
  {
   "cell_type": "code",
   "execution_count": 34,
   "metadata": {},
   "outputs": [
    {
     "name": "stdout",
     "output_type": "stream",
     "text": [
      "1\n"
     ]
    }
   ],
   "source": [
    "#실수형 -> 정수형 : 소숫점 아래 부분 버리고 정수만 남음(내림)\n",
    "print(int(1.5))"
   ]
  },
  {
   "cell_type": "code",
   "execution_count": 37,
   "metadata": {},
   "outputs": [
    {
     "ename": "ValueError",
     "evalue": "invalid literal for int() with base 10: '1.5'",
     "output_type": "error",
     "traceback": [
      "\u001b[1;31m---------------------------------------------------------------------------\u001b[0m",
      "\u001b[1;31mValueError\u001b[0m                                Traceback (most recent call last)",
      "Cell \u001b[1;32mIn[37], line 2\u001b[0m\n\u001b[0;32m      1\u001b[0m \u001b[38;5;66;03m# 단, 정수로 변환될 수 있는 형식일 때만 가능\u001b[39;00m\n\u001b[1;32m----> 2\u001b[0m \u001b[38;5;28mprint\u001b[39m(\u001b[38;5;28mint\u001b[39m(\u001b[38;5;124m\"\u001b[39m\u001b[38;5;124m1.5\u001b[39m\u001b[38;5;124m\"\u001b[39m))\n\u001b[0;32m      3\u001b[0m \u001b[38;5;28mprint\u001b[39m(\u001b[38;5;124m\"\u001b[39m\u001b[38;5;124m일\u001b[39m\u001b[38;5;124m\"\u001b[39m)\n",
      "\u001b[1;31mValueError\u001b[0m: invalid literal for int() with base 10: '1.5'"
     ]
    }
   ],
   "source": [
    "# 단, 정수로 변환될 수 있는 형식일 때만 가능\n",
    "print(int(\"1.5\"))\n",
    "print(int(\"일\"))"
   ]
  },
  {
   "cell_type": "code",
   "execution_count": 39,
   "metadata": {},
   "outputs": [
    {
     "name": "stdout",
     "output_type": "stream",
     "text": [
      "2\n"
     ]
    }
   ],
   "source": [
    "#실수형을 정수형으로 바꿀 떄 내림 말고 반올림하고 싶으면 round()를 사용한다.\n",
    "print(round(1.5))"
   ]
  },
  {
   "cell_type": "code",
   "execution_count": 42,
   "metadata": {},
   "outputs": [
    {
     "name": "stdout",
     "output_type": "stream",
     "text": [
      "1.5\n",
      "<class 'float'>\n"
     ]
    }
   ],
   "source": [
    "#다른 자료형 -> 실수형 : float()\n",
    "\n",
    "print(float(\"1.5\"))\n",
    "print(type(float(\"1.5\")))"
   ]
  },
  {
   "cell_type": "code",
   "execution_count": 45,
   "metadata": {},
   "outputs": [
    {
     "ename": "ValueError",
     "evalue": "could not convert string to float: '3/5'",
     "output_type": "error",
     "traceback": [
      "\u001b[1;31m---------------------------------------------------------------------------\u001b[0m",
      "\u001b[1;31mValueError\u001b[0m                                Traceback (most recent call last)",
      "Cell \u001b[1;32mIn[45], line 2\u001b[0m\n\u001b[0;32m      1\u001b[0m \u001b[38;5;66;03m#단, 실수로 변환할 수 있어야 한다.\u001b[39;00m\n\u001b[1;32m----> 2\u001b[0m \u001b[38;5;28mprint\u001b[39m(\u001b[38;5;28mfloat\u001b[39m(\u001b[38;5;124m\"\u001b[39m\u001b[38;5;124m3/5\u001b[39m\u001b[38;5;124m\"\u001b[39m))\n",
      "\u001b[1;31mValueError\u001b[0m: could not convert string to float: '3/5'"
     ]
    }
   ],
   "source": [
    "#단, 실수로 변환할 수 있어야 한다.\n",
    "print(float(\"3/5\"))"
   ]
  },
  {
   "cell_type": "code",
   "execution_count": 47,
   "metadata": {},
   "outputs": [
    {
     "name": "stdout",
     "output_type": "stream",
     "text": [
      "10.0\n",
      "-10.0\n"
     ]
    }
   ],
   "source": [
    "#정수형 -> 실수형\n",
    "\n",
    "print(float(10))\n",
    "print(float(-10))"
   ]
  },
  {
   "cell_type": "code",
   "execution_count": 51,
   "metadata": {},
   "outputs": [
    {
     "name": "stdout",
     "output_type": "stream",
     "text": [
      "1\n",
      "<class 'str'>\n",
      "1.0\n",
      "<class 'str'>\n",
      "True\n",
      "<class 'str'>\n"
     ]
    }
   ],
   "source": [
    "#다른 자료형 -> 문자열 변환\n",
    "#str() : 다른 자료형을 문자열로 변환하는 기능\n",
    "# 문자열로의 변환은 제약 x\n",
    "print(str(1))\n",
    "print(type(str(1)))\n",
    "print(str(1.0))\n",
    "print(type(str(1.0)))\n",
    "print(str(True))\n",
    "print(type(str(True)))"
   ]
  },
  {
   "cell_type": "code",
   "execution_count": 56,
   "metadata": {},
   "outputs": [
    {
     "name": "stdout",
     "output_type": "stream",
     "text": [
      "False\n",
      "False\n",
      "False\n",
      "False\n",
      "False\n",
      "True\n",
      "True\n",
      "True\n",
      "True\n",
      "True\n"
     ]
    }
   ],
   "source": [
    "# 불린형으로의 변환\n",
    "# 참 / 거짓으로 평가한다.\n",
    "# 중요한건 무엇이 거짓(False)로 평가되는가\n",
    "\n",
    "print(bool(0)) # 정수형 0\n",
    "print(bool(0.0)) # 실수형 0\n",
    "print(bool('')), print(bool(\"\")) # 빈 문자열\n",
    "print(bool([])) # 빈 리스트\n",
    "\n",
    "#나머지는 다 True값을 가진다.\n",
    "print(bool(1))\n",
    "print(bool(1.1))\n",
    "print(bool(\"hello\")), print(bool('hello'))\n",
    "print(bool([1,2,3]))"
   ]
  }
 ],
 "metadata": {
  "kernelspec": {
   "display_name": "base",
   "language": "python",
   "name": "python3"
  },
  "language_info": {
   "codemirror_mode": {
    "name": "ipython",
    "version": 3
   },
   "file_extension": ".py",
   "mimetype": "text/x-python",
   "name": "python",
   "nbconvert_exporter": "python",
   "pygments_lexer": "ipython3",
   "version": "3.12.4"
  }
 },
 "nbformat": 4,
 "nbformat_minor": 2
}
