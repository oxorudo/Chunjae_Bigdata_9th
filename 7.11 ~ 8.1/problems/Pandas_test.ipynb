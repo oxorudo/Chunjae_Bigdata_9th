{
 "cells": [
  {
   "cell_type": "markdown",
   "metadata": {},
   "source": [
    "### (1) chipotle 데이터\n",
    "\n",
    "> 멕시코풍 프랜차이즈 chipotle의 주문 데이터\n",
    "> \n",
    "1. 데이터 불러오기\n",
    "    \n",
    "    ```python\n",
    "    import pandas as pd\n",
    "    url = \"https://raw.githubusercontent.com/justmarkham/DAT8/master/data/chipotle.tsv\"\n",
    "    \n",
    "    chipo = pd.read_csv(url, sep=\"\\t\")\n",
    "    ```"
   ]
  },
  {
   "cell_type": "code",
   "execution_count": 904,
   "metadata": {},
   "outputs": [
    {
     "name": "stdout",
     "output_type": "stream",
     "text": [
      "<class 'pandas.core.frame.DataFrame'>\n",
      "RangeIndex: 4622 entries, 0 to 4621\n",
      "Data columns (total 5 columns):\n",
      " #   Column              Non-Null Count  Dtype \n",
      "---  ------              --------------  ----- \n",
      " 0   order_id            4622 non-null   int64 \n",
      " 1   quantity            4622 non-null   int64 \n",
      " 2   item_name           4622 non-null   object\n",
      " 3   choice_description  3376 non-null   object\n",
      " 4   item_price          4622 non-null   object\n",
      "dtypes: int64(2), object(3)\n",
      "memory usage: 180.7+ KB\n",
      "None\n"
     ]
    }
   ],
   "source": [
    "import pandas as pd\n",
    "\n",
    "url = \"https://raw.githubusercontent.com/justmarkham/DAT8/master/data/chipotle.tsv\"\n",
    "\n",
    "chipo = pd.read_csv(url, sep=\"\\t\")\n",
    "\n",
    "print(chipo.info())"
   ]
  },
  {
   "cell_type": "markdown",
   "metadata": {},
   "source": [
    "2. 첫 10개 행 데이터 출력\n",
    "    \n",
    "    ```python\n",
    "       order_id  quantity                              item_name  \\\n",
    "    0         1         1           Chips and Fresh Tomato Salsa   \n",
    "    1         1         1                                   Izze   \n",
    "    2         1         1                       Nantucket Nectar   \n",
    "    3         1         1  Chips and Tomatillo-Green Chili Salsa   \n",
    "    4         2         2                           Chicken Bowl   \n",
    "    5         3         1                           Chicken Bowl   \n",
    "    6         3         1                          Side of Chips   \n",
    "    7         4         1                          Steak Burrito   \n",
    "    8         4         1                       Steak Soft Tacos   \n",
    "    9         5         1                          Steak Burrito   \n",
    "    \n",
    "                                      choice_description item_price  \n",
    "    0                                                NaN     $2.39   \n",
    "    1                                       [Clementine]     $3.39   \n",
    "    2                                            [Apple]     $3.39   \n",
    "    3                                                NaN     $2.39   \n",
    "    4  [Tomatillo-Red Chili Salsa (Hot), [Black Beans...    $16.98   \n",
    "    5  [Fresh Tomato Salsa (Mild), [Rice, Cheese, Sou...    $10.98   \n",
    "    6                                                NaN     $1.69   \n",
    "    7  [Tomatillo Red Chili Salsa, [Fajita Vegetables...    $11.75   \n",
    "    8  [Tomatillo Green Chili Salsa, [Pinto Beans, Ch...     $9.25   \n",
    "    9  [Fresh Tomato Salsa, [Rice, Black Beans, Pinto...     $9.25   \n",
    "    ```"
   ]
  },
  {
   "cell_type": "code",
   "execution_count": 905,
   "metadata": {},
   "outputs": [
    {
     "name": "stdout",
     "output_type": "stream",
     "text": [
      "   order_id  quantity                              item_name  \\\n",
      "0         1         1           Chips and Fresh Tomato Salsa   \n",
      "1         1         1                                   Izze   \n",
      "2         1         1                       Nantucket Nectar   \n",
      "3         1         1  Chips and Tomatillo-Green Chili Salsa   \n",
      "4         2         2                           Chicken Bowl   \n",
      "5         3         1                           Chicken Bowl   \n",
      "6         3         1                          Side of Chips   \n",
      "7         4         1                          Steak Burrito   \n",
      "8         4         1                       Steak Soft Tacos   \n",
      "9         5         1                          Steak Burrito   \n",
      "\n",
      "                                  choice_description item_price  \n",
      "0                                                NaN     $2.39   \n",
      "1                                       [Clementine]     $3.39   \n",
      "2                                            [Apple]     $3.39   \n",
      "3                                                NaN     $2.39   \n",
      "4  [Tomatillo-Red Chili Salsa (Hot), [Black Beans...    $16.98   \n",
      "5  [Fresh Tomato Salsa (Mild), [Rice, Cheese, Sou...    $10.98   \n",
      "6                                                NaN     $1.69   \n",
      "7  [Tomatillo Red Chili Salsa, [Fajita Vegetables...    $11.75   \n",
      "8  [Tomatillo Green Chili Salsa, [Pinto Beans, Ch...     $9.25   \n",
      "9  [Fresh Tomato Salsa, [Rice, Black Beans, Pinto...     $9.25   \n"
     ]
    }
   ],
   "source": [
    "print(chipo.head(10))"
   ]
  },
  {
   "cell_type": "markdown",
   "metadata": {},
   "source": [
    "3. 데이터프레임 행과 열의 수 출력\n",
    "    \n",
    "    ```python\n",
    "    (4622, 6)\n",
    "    ```"
   ]
  },
  {
   "cell_type": "code",
   "execution_count": 906,
   "metadata": {},
   "outputs": [
    {
     "name": "stdout",
     "output_type": "stream",
     "text": [
      "(4622, 5)\n"
     ]
    }
   ],
   "source": [
    "print(chipo.shape)"
   ]
  },
  {
   "cell_type": "markdown",
   "metadata": {},
   "source": [
    "4. 데이터프레임 모든 열 이름 출력\n",
    "    \n",
    "    ```python\n",
    "    Index(['order_id', 'quantity', 'item_name', 'choice_description',\n",
    "           'item_price'],\n",
    "          dtype='object')\n",
    "    ```"
   ]
  },
  {
   "cell_type": "code",
   "execution_count": 907,
   "metadata": {},
   "outputs": [
    {
     "name": "stdout",
     "output_type": "stream",
     "text": [
      "Index(['order_id', 'quantity', 'item_name', 'choice_description',\n",
      "       'item_price'],\n",
      "      dtype='object')\n"
     ]
    }
   ],
   "source": [
    "print(chipo.columns)"
   ]
  },
  {
   "cell_type": "markdown",
   "metadata": {},
   "source": [
    "5. 데이터프레임 요약 정보 출력\n",
    "    \n",
    "    ```python\n",
    "    <class 'pandas.core.frame.DataFrame'>\n",
    "    RangeIndex: 4622 entries, 0 to 4621\n",
    "    Data columns (total 5 columns):\n",
    "     #   Column              Non-Null Count  Dtype \n",
    "    ---  ------              --------------  ----- \n",
    "     0   order_id            4622 non-null   int64 \n",
    "     1   quantity            4622 non-null   int64 \n",
    "     2   item_name           4622 non-null   object\n",
    "     3   choice_description  3376 non-null   object\n",
    "     4   item_price          4622 non-null   object\n",
    "    dtypes: int64(2), object(3)\n",
    "    memory usage: 180.7+ KB\n",
    "    ```"
   ]
  },
  {
   "cell_type": "code",
   "execution_count": 908,
   "metadata": {},
   "outputs": [
    {
     "name": "stdout",
     "output_type": "stream",
     "text": [
      "<class 'pandas.core.frame.DataFrame'>\n",
      "RangeIndex: 4622 entries, 0 to 4621\n",
      "Data columns (total 5 columns):\n",
      " #   Column              Non-Null Count  Dtype \n",
      "---  ------              --------------  ----- \n",
      " 0   order_id            4622 non-null   int64 \n",
      " 1   quantity            4622 non-null   int64 \n",
      " 2   item_name           4622 non-null   object\n",
      " 3   choice_description  3376 non-null   object\n",
      " 4   item_price          4622 non-null   object\n",
      "dtypes: int64(2), object(3)\n",
      "memory usage: 180.7+ KB\n",
      "None\n"
     ]
    }
   ],
   "source": [
    "print(chipo.info())"
   ]
  },
  {
   "cell_type": "markdown",
   "metadata": {},
   "source": [
    "6. 데이터프레임 인덱스 정보 출력\n",
    "    \n",
    "    ```python\n",
    "    RangeIndex(start=0, stop=4622, step=1)\n",
    "    ```"
   ]
  },
  {
   "cell_type": "code",
   "execution_count": 909,
   "metadata": {},
   "outputs": [
    {
     "name": "stdout",
     "output_type": "stream",
     "text": [
      "RangeIndex(start=0, stop=4622, step=1)\n"
     ]
    }
   ],
   "source": [
    "print(chipo.index)"
   ]
  },
  {
   "cell_type": "markdown",
   "metadata": {},
   "source": [
    "7. `item_price` 열 선택 후 출력\n",
    "    \n",
    "    ```python\n",
    "    0        $2.39 \n",
    "    1        $3.39 \n",
    "    2        $3.39 \n",
    "    3        $2.39 \n",
    "    4       $16.98 \n",
    "             ...   \n",
    "    4617    $11.75 \n",
    "    4618    $11.75 \n",
    "    4619    $11.25 \n",
    "    4620     $8.75 \n",
    "    4621     $8.75 \n",
    "    Name: item_price, Length: 4622, dtype: object\n",
    "    ```"
   ]
  },
  {
   "cell_type": "code",
   "execution_count": 910,
   "metadata": {},
   "outputs": [
    {
     "name": "stdout",
     "output_type": "stream",
     "text": [
      "0        $2.39 \n",
      "1        $3.39 \n",
      "2        $3.39 \n",
      "3        $2.39 \n",
      "4       $16.98 \n",
      "         ...   \n",
      "4617    $11.75 \n",
      "4618    $11.75 \n",
      "4619    $11.25 \n",
      "4620     $8.75 \n",
      "4621     $8.75 \n",
      "Name: item_price, Length: 4622, dtype: object\n"
     ]
    }
   ],
   "source": [
    "print(chipo[\"item_price\"])"
   ]
  },
  {
   "cell_type": "markdown",
   "metadata": {},
   "source": [
    "8. `item_name` `item_price` 열 선택 후 출력 \n",
    "    \n",
    "    ```python\n",
    "                                      item_name item_price\n",
    "    0              Chips and Fresh Tomato Salsa     $2.39 \n",
    "    1                                      Izze     $3.39 \n",
    "    2                          Nantucket Nectar     $3.39 \n",
    "    3     Chips and Tomatillo-Green Chili Salsa     $2.39 \n",
    "    4                              Chicken Bowl    $16.98 \n",
    "    ...                                     ...        ...\n",
    "    4617                          Steak Burrito    $11.75 \n",
    "    4618                          Steak Burrito    $11.75 \n",
    "    4619                     Chicken Salad Bowl    $11.25 \n",
    "    4620                     Chicken Salad Bowl     $8.75 \n",
    "    4621                     Chicken Salad Bowl     $8.75 \n",
    "    \n",
    "    [4622 rows x 2 columns]\n",
    "    ```"
   ]
  },
  {
   "cell_type": "code",
   "execution_count": 911,
   "metadata": {},
   "outputs": [
    {
     "name": "stdout",
     "output_type": "stream",
     "text": [
      "                                  item_name item_price\n",
      "0              Chips and Fresh Tomato Salsa     $2.39 \n",
      "1                                      Izze     $3.39 \n",
      "2                          Nantucket Nectar     $3.39 \n",
      "3     Chips and Tomatillo-Green Chili Salsa     $2.39 \n",
      "4                              Chicken Bowl    $16.98 \n",
      "...                                     ...        ...\n",
      "4617                          Steak Burrito    $11.75 \n",
      "4618                          Steak Burrito    $11.75 \n",
      "4619                     Chicken Salad Bowl    $11.25 \n",
      "4620                     Chicken Salad Bowl     $8.75 \n",
      "4621                     Chicken Salad Bowl     $8.75 \n",
      "\n",
      "[4622 rows x 2 columns]\n"
     ]
    }
   ],
   "source": [
    "print(chipo[[\"item_name\", \"item_price\"]])"
   ]
  },
  {
   "cell_type": "markdown",
   "metadata": {},
   "source": [
    "9. 인덱스 0부터 10까지 `item_name` `item_price` 열 선택 후 출력\n",
    "    \n",
    "    ```python\n",
    "                                    item_name item_price\n",
    "    0            Chips and Fresh Tomato Salsa     $2.39 \n",
    "    1                                    Izze     $3.39 \n",
    "    2                        Nantucket Nectar     $3.39 \n",
    "    3   Chips and Tomatillo-Green Chili Salsa     $2.39 \n",
    "    4                            Chicken Bowl    $16.98 \n",
    "    5                            Chicken Bowl    $10.98 \n",
    "    6                           Side of Chips     $1.69 \n",
    "    7                           Steak Burrito    $11.75 \n",
    "    8                        Steak Soft Tacos     $9.25 \n",
    "    9                           Steak Burrito     $9.25 \n",
    "    10                    Chips and Guacamole     $4.45 \n",
    "    ```"
   ]
  },
  {
   "cell_type": "code",
   "execution_count": 912,
   "metadata": {},
   "outputs": [
    {
     "name": "stdout",
     "output_type": "stream",
     "text": [
      "                                item_name item_price\n",
      "0            Chips and Fresh Tomato Salsa     $2.39 \n",
      "1                                    Izze     $3.39 \n",
      "2                        Nantucket Nectar     $3.39 \n",
      "3   Chips and Tomatillo-Green Chili Salsa     $2.39 \n",
      "4                            Chicken Bowl    $16.98 \n",
      "5                            Chicken Bowl    $10.98 \n",
      "6                           Side of Chips     $1.69 \n",
      "7                           Steak Burrito    $11.75 \n",
      "8                        Steak Soft Tacos     $9.25 \n",
      "9                           Steak Burrito     $9.25 \n",
      "10                    Chips and Guacamole     $4.45 \n"
     ]
    }
   ],
   "source": [
    "print(chipo.loc[0:10, [\"item_name\", \"item_price\"]])"
   ]
  },
  {
   "cell_type": "markdown",
   "metadata": {},
   "source": [
    "10. `quantity` 열이 5보다 큰 데이터의 `order_id` `quantity` 출력\n",
    "    \n",
    "    ```python\n",
    "          order_id  quantity\n",
    "    3598      1443        15\n",
    "    3599      1443         7\n",
    "    3887      1559         8\n",
    "    4152      1660        10\n",
    "    ```"
   ]
  },
  {
   "cell_type": "code",
   "execution_count": 913,
   "metadata": {},
   "outputs": [
    {
     "name": "stdout",
     "output_type": "stream",
     "text": [
      "      order_id  quantity\n",
      "3598      1443        15\n",
      "3599      1443         7\n",
      "3887      1559         8\n",
      "4152      1660        10\n"
     ]
    }
   ],
   "source": [
    "print(chipo.loc[chipo[\"quantity\"] > 5, [\"order_id\", \"quantity\"]])"
   ]
  },
  {
   "cell_type": "markdown",
   "metadata": {},
   "source": [
    "11. `item_price` 의 `$` 문자를 공백으로 대체 후 기존 `item_price` 에 재 할당\n",
    "12. `item_price` 의 자료형을 `float`으로 수정 후 기존 `item_price` 에 재 할당"
   ]
  },
  {
   "cell_type": "code",
   "execution_count": 914,
   "metadata": {},
   "outputs": [],
   "source": [
    "chipo[\"item_price\"] = chipo[\"item_price\"].str.replace(\"$\", \" \")\n",
    "chipo[\"item_price\"] = chipo[\"item_price\"].astype(float)"
   ]
  },
  {
   "cell_type": "markdown",
   "metadata": {},
   "source": [
    "13. `item_price` 열 선택 후 출력\n",
    "    \n",
    "    ```python\n",
    "    0        2.39\n",
    "    1        3.39\n",
    "    2        3.39\n",
    "    3        2.39\n",
    "    4       16.98\n",
    "            ...  \n",
    "    4617    11.75\n",
    "    4618    11.75\n",
    "    4619    11.25\n",
    "    4620     8.75\n",
    "    4621     8.75\n",
    "    Name: item_price, Length: 4622, dtype: float64\n",
    "    ```"
   ]
  },
  {
   "cell_type": "code",
   "execution_count": 915,
   "metadata": {},
   "outputs": [
    {
     "name": "stdout",
     "output_type": "stream",
     "text": [
      "0        2.39\n",
      "1        3.39\n",
      "2        3.39\n",
      "3        2.39\n",
      "4       16.98\n",
      "        ...  \n",
      "4617    11.75\n",
      "4618    11.75\n",
      "4619    11.25\n",
      "4620     8.75\n",
      "4621     8.75\n",
      "Name: item_price, Length: 4622, dtype: float64\n"
     ]
    }
   ],
   "source": [
    "print(chipo[\"item_price\"])"
   ]
  },
  {
   "cell_type": "markdown",
   "metadata": {},
   "source": [
    "14. 새로운 열 `revenue` 생성 및 값 0 저장\n",
    "15. `quantity` 열과 `item_price` 열 곱 데이터를 열 `revenue` 에 저장"
   ]
  },
  {
   "cell_type": "code",
   "execution_count": 916,
   "metadata": {},
   "outputs": [],
   "source": [
    "chipo[\"revenue\"] = 0\n",
    "chipo[\"revenue\"] = chipo[\"quantity\"] * chipo[\"item_price\"]"
   ]
  },
  {
   "cell_type": "markdown",
   "metadata": {},
   "source": [
    "16. `order_id` `revenue` 열 선택 후 출력\n",
    "    \n",
    "    ```python\n",
    "          order_id  revenue\n",
    "    0            1     2.39\n",
    "    1            1     3.39\n",
    "    2            1     3.39\n",
    "    3            1     2.39\n",
    "    4            2    33.96\n",
    "    ...        ...      ...\n",
    "    4617      1833    11.75\n",
    "    4618      1833    11.75\n",
    "    4619      1834    11.25\n",
    "    4620      1834     8.75\n",
    "    4621      1834     8.75\n",
    "    \n",
    "    [4622 rows x 2 columns]\n",
    "    ```"
   ]
  },
  {
   "cell_type": "code",
   "execution_count": 917,
   "metadata": {},
   "outputs": [
    {
     "name": "stdout",
     "output_type": "stream",
     "text": [
      "      order_id  revenue\n",
      "0            1     2.39\n",
      "1            1     3.39\n",
      "2            1     3.39\n",
      "3            1     2.39\n",
      "4            2    33.96\n",
      "...        ...      ...\n",
      "4617      1833    11.75\n",
      "4618      1833    11.75\n",
      "4619      1834    11.25\n",
      "4620      1834     8.75\n",
      "4621      1834     8.75\n",
      "\n",
      "[4622 rows x 2 columns]\n"
     ]
    }
   ],
   "source": [
    "print(chipo[[\"order_id\", \"revenue\"]])"
   ]
  },
  {
   "cell_type": "markdown",
   "metadata": {},
   "source": [
    "17. `order_id` 기준 `revenue` 합 출력\n",
    "    \n",
    "    ```python\n",
    "    order_id\n",
    "    1       11.56\n",
    "    2       33.96\n",
    "    3       12.67\n",
    "    4       21.00\n",
    "    5       13.70\n",
    "            ...  \n",
    "    1830    23.00\n",
    "    1831    12.90\n",
    "    1832    13.20\n",
    "    1833    23.50\n",
    "    1834    28.75\n",
    "    Name: revenue, Length: 1834, dtype: float64\n",
    "    ```"
   ]
  },
  {
   "cell_type": "code",
   "execution_count": 918,
   "metadata": {},
   "outputs": [
    {
     "name": "stdout",
     "output_type": "stream",
     "text": [
      "order_id\n",
      "1       11.56\n",
      "2       33.96\n",
      "3       12.67\n",
      "4       21.00\n",
      "5       13.70\n",
      "        ...  \n",
      "1830    23.00\n",
      "1831    12.90\n",
      "1832    13.20\n",
      "1833    23.50\n",
      "1834    28.75\n",
      "Name: revenue, Length: 1834, dtype: float64\n"
     ]
    }
   ],
   "source": [
    "group = chipo.groupby(\"order_id\")\n",
    "print(group[\"revenue\"].sum())"
   ]
  },
  {
   "cell_type": "markdown",
   "metadata": {},
   "source": [
    "18. `item_name` 기준 `order_id` 데이터 개수 출력\n",
    "    \n",
    "    ```python\n",
    "    item_name\n",
    "    6 Pack Soft Drink                         54\n",
    "    Barbacoa Bowl                             66\n",
    "    Barbacoa Burrito                          91\n",
    "    Barbacoa Crispy Tacos                     11\n",
    "    Barbacoa Salad Bowl                       10\n",
    "    Barbacoa Soft Tacos                       25\n",
    "    Bottled Water                            162\n",
    "    Bowl                                       2\n",
    "    Burrito                                    6\n",
    "    Canned Soda                              104\n",
    "    Canned Soft Drink                        301\n",
    "    Carnitas Bowl                             68\n",
    "    Carnitas Burrito                          59\n",
    "    Carnitas Crispy Tacos                      7\n",
    "    Carnitas Salad                             1\n",
    "    Carnitas Salad Bowl                        6\n",
    "    Carnitas Soft Tacos                       40\n",
    "    Chicken Bowl                             726\n",
    "    Chicken Burrito                          553\n",
    "    Chicken Crispy Tacos                      47\n",
    "    Chicken Salad                              9\n",
    "    Chicken Salad Bowl                       110\n",
    "    Chicken Soft Tacos                       115\n",
    "    Chips                                    211\n",
    "    ...\n",
    "    Veggie Crispy Tacos                        1\n",
    "    Veggie Salad                               6\n",
    "    Veggie Salad Bowl                         18\n",
    "    Veggie Soft Tacos                          7\n",
    "    Name: order_id, dtype: int64\n",
    "    ```"
   ]
  },
  {
   "cell_type": "code",
   "execution_count": 919,
   "metadata": {},
   "outputs": [
    {
     "name": "stdout",
     "output_type": "stream",
     "text": [
      "item_name\n",
      "6 Pack Soft Drink                         54\n",
      "Barbacoa Bowl                             66\n",
      "Barbacoa Burrito                          91\n",
      "Barbacoa Crispy Tacos                     11\n",
      "Barbacoa Salad Bowl                       10\n",
      "Barbacoa Soft Tacos                       25\n",
      "Bottled Water                            162\n",
      "Bowl                                       2\n",
      "Burrito                                    6\n",
      "Canned Soda                              104\n",
      "Canned Soft Drink                        301\n",
      "Carnitas Bowl                             68\n",
      "Carnitas Burrito                          59\n",
      "Carnitas Crispy Tacos                      7\n",
      "Carnitas Salad                             1\n",
      "Carnitas Salad Bowl                        6\n",
      "Carnitas Soft Tacos                       40\n",
      "Chicken Bowl                             726\n",
      "Chicken Burrito                          553\n",
      "Chicken Crispy Tacos                      47\n",
      "Chicken Salad                              9\n",
      "Chicken Salad Bowl                       110\n",
      "Chicken Soft Tacos                       115\n",
      "Chips                                    211\n",
      "Chips and Fresh Tomato Salsa             110\n",
      "Chips and Guacamole                      479\n",
      "Chips and Mild Fresh Tomato Salsa          1\n",
      "Chips and Roasted Chili Corn Salsa        22\n",
      "Chips and Roasted Chili-Corn Salsa        18\n",
      "Chips and Tomatillo Green Chili Salsa     43\n",
      "Chips and Tomatillo Red Chili Salsa       48\n",
      "Chips and Tomatillo-Green Chili Salsa     31\n",
      "Chips and Tomatillo-Red Chili Salsa       20\n",
      "Crispy Tacos                               2\n",
      "Izze                                      20\n",
      "Nantucket Nectar                          27\n",
      "Salad                                      2\n",
      "Side of Chips                            101\n",
      "Steak Bowl                               211\n",
      "Steak Burrito                            368\n",
      "Steak Crispy Tacos                        35\n",
      "Steak Salad                                4\n",
      "Steak Salad Bowl                          29\n",
      "Steak Soft Tacos                          55\n",
      "Veggie Bowl                               85\n",
      "Veggie Burrito                            95\n",
      "Veggie Crispy Tacos                        1\n",
      "Veggie Salad                               6\n",
      "Veggie Salad Bowl                         18\n",
      "Veggie Soft Tacos                          7\n",
      "Name: order_id, dtype: int64\n"
     ]
    }
   ],
   "source": [
    "group = chipo.groupby(\"item_name\")\n",
    "\n",
    "print(group[\"order_id\"].count())"
   ]
  },
  {
   "cell_type": "markdown",
   "metadata": {},
   "source": [
    "19. `item_name` 기준 `order_id` 데이터 개수에 대한 상위 10개 데이터 출력\n",
    "    \n",
    "    ```python\n",
    "    item_name\n",
    "    Chicken Bowl           726\n",
    "    Chicken Burrito        553\n",
    "    Chips and Guacamole    479\n",
    "    Steak Burrito          368\n",
    "    Canned Soft Drink      301\n",
    "    Steak Bowl             211\n",
    "    Chips                  211\n",
    "    Bottled Water          162\n",
    "    Chicken Soft Tacos     115\n",
    "    Chicken Salad Bowl     110\n",
    "    Name: order_id, dtype: int64\n",
    "    ```"
   ]
  },
  {
   "cell_type": "code",
   "execution_count": 920,
   "metadata": {},
   "outputs": [
    {
     "name": "stdout",
     "output_type": "stream",
     "text": [
      "item_name\n",
      "Chicken Bowl           726\n",
      "Chicken Burrito        553\n",
      "Chips and Guacamole    479\n",
      "Steak Burrito          368\n",
      "Canned Soft Drink      301\n",
      "Steak Bowl             211\n",
      "Chips                  211\n",
      "Bottled Water          162\n",
      "Chicken Soft Tacos     115\n",
      "Chicken Salad Bowl     110\n",
      "Name: order_id, dtype: int64\n"
     ]
    }
   ],
   "source": [
    "group = chipo.groupby(\"item_name\")\n",
    "\n",
    "# print(group.count().nlargest(10))  # 상위 10개 데이터 출력 (큰 순서대로 내림차순)\n",
    "print(group[\"order_id\"].count().sort_values(ascending=False).head(10))"
   ]
  },
  {
   "cell_type": "markdown",
   "metadata": {},
   "source": [
    "20. `item_name` 기준 `quantity` 데이터 합에 대한 상위 10개 데이터 출력\n",
    "    \n",
    "    ```python\n",
    "    item_name\n",
    "    Chicken Bowl                    761\n",
    "    Chicken Burrito                 591\n",
    "    Chips and Guacamole             506\n",
    "    Steak Burrito                   386\n",
    "    Canned Soft Drink               351\n",
    "    Chips                           230\n",
    "    Steak Bowl                      221\n",
    "    Bottled Water                   211\n",
    "    Chips and Fresh Tomato Salsa    130\n",
    "    Canned Soda                     126\n",
    "    Name: quantity, dtype: int64\n",
    "    ```"
   ]
  },
  {
   "cell_type": "code",
   "execution_count": 921,
   "metadata": {},
   "outputs": [
    {
     "name": "stdout",
     "output_type": "stream",
     "text": [
      "item_name\n",
      "Chicken Bowl                    761\n",
      "Chicken Burrito                 591\n",
      "Chips and Guacamole             506\n",
      "Steak Burrito                   386\n",
      "Canned Soft Drink               351\n",
      "Chips                           230\n",
      "Steak Bowl                      221\n",
      "Bottled Water                   211\n",
      "Chips and Fresh Tomato Salsa    130\n",
      "Canned Soda                     126\n",
      "Name: quantity, dtype: int64\n"
     ]
    }
   ],
   "source": [
    "group = chipo.groupby(\"item_name\")\n",
    "\n",
    "print(group[\"quantity\"].sum().sort_values(ascending=False).head(10))"
   ]
  },
  {
   "cell_type": "markdown",
   "metadata": {},
   "source": [
    "21. `order_id` 기준 `revenue` 합에 대한 상위 10개 데이터 출력\n",
    "    \n",
    "    ```python\n",
    "    order_id\n",
    "    1443    1074.24\n",
    "    511      315.29\n",
    "    1559     246.00\n",
    "    1660     222.75\n",
    "    926      205.25\n",
    "    1786     197.70\n",
    "    1454     190.24\n",
    "    1449     164.31\n",
    "    1483     139.00\n",
    "    759      124.10\n",
    "    Name: revenue, dtype: float64\n",
    "    ```"
   ]
  },
  {
   "cell_type": "code",
   "execution_count": 922,
   "metadata": {},
   "outputs": [
    {
     "name": "stdout",
     "output_type": "stream",
     "text": [
      "order_id\n",
      "1443    1074.24\n",
      "511      315.29\n",
      "1559     246.00\n",
      "1660     222.75\n",
      "926      205.25\n",
      "1786     197.70\n",
      "1454     190.24\n",
      "1449     164.31\n",
      "1483     139.00\n",
      "759      124.10\n",
      "Name: revenue, dtype: float64\n"
     ]
    }
   ],
   "source": [
    "group = chipo.groupby(\"order_id\")\n",
    "\n",
    "\n",
    "\n",
    "print(group[\"revenue\"].sum().sort_values(ascending=False).head(10))\n",
    "\n",
    "# print(type(group['revenue'].sum()))"
   ]
  },
  {
   "cell_type": "markdown",
   "metadata": {},
   "source": [
    "22. `order_id` 가 1443인 데이터의 `order_id` `quantity` `item_price` `revenue` 선택 후 출력\n",
    "    \n",
    "    ```python\n",
    "          order_id  quantity  item_price  revenue\n",
    "    3598      1443        15       44.25   663.75\n",
    "    3599      1443         7       10.50    73.50\n",
    "    3600      1443         1        6.49     6.49\n",
    "    3601      1443         3       33.75   101.25\n",
    "    3602      1443         4       35.00   140.00\n",
    "    3603      1443         3       27.75    83.25\n",
    "    3604      1443         2        3.00     6.00\n",
    "    ```"
   ]
  },
  {
   "cell_type": "code",
   "execution_count": 923,
   "metadata": {},
   "outputs": [
    {
     "name": "stdout",
     "output_type": "stream",
     "text": [
      "      order_id  quantity  item_price  revenue\n",
      "3598      1443        15       44.25   663.75\n",
      "3599      1443         7       10.50    73.50\n",
      "3600      1443         1        6.49     6.49\n",
      "3601      1443         3       33.75   101.25\n",
      "3602      1443         4       35.00   140.00\n",
      "3603      1443         3       27.75    83.25\n",
      "3604      1443         2        3.00     6.00\n"
     ]
    }
   ],
   "source": [
    "print(\n",
    "    chipo.loc[\n",
    "        chipo[\"order_id\"] == 1443, [\"order_id\", \"quantity\", \"item_price\", \"revenue\"]\n",
    "    ]\n",
    ")"
   ]
  },
  {
   "cell_type": "markdown",
   "metadata": {},
   "source": [
    "23. `item_name` 기준 `quantity` 합이 100 이상인 `item_name` 의 고유값 출력\n",
    "    \n",
    "    ```python\n",
    "    ['Chips and Fresh Tomato Salsa' 'Chicken Bowl' 'Side of Chips'\n",
    "     'Steak Burrito' 'Chips and Guacamole' 'Chicken Soft Tacos'\n",
    "     'Chicken Burrito' 'Canned Soda' 'Bottled Water' 'Chips'\n",
    "     'Chicken Salad Bowl' 'Steak Bowl' 'Canned Soft Drink']\n",
    "    ```"
   ]
  },
  {
   "cell_type": "code",
   "execution_count": 924,
   "metadata": {},
   "outputs": [
    {
     "name": "stdout",
     "output_type": "stream",
     "text": [
      "['Chips and Fresh Tomato Salsa' 'Chicken Bowl' 'Side of Chips'\n",
      " 'Steak Burrito' 'Chips and Guacamole' 'Chicken Soft Tacos'\n",
      " 'Chicken Burrito' 'Canned Soda' 'Bottled Water' 'Chips'\n",
      " 'Chicken Salad Bowl' 'Steak Bowl' 'Canned Soft Drink']\n"
     ]
    }
   ],
   "source": [
    "group = chipo.groupby(\"item_name\")\n",
    "\n",
    "\n",
    "def func_1(group):\n",
    "    answer = group[\"quantity\"].sum() >= 100\n",
    "    return answer\n",
    "\n",
    "\n",
    "print(group.filter(func_1)[\"item_name\"].unique())"
   ]
  },
  {
   "cell_type": "markdown",
   "metadata": {},
   "source": [
    "24. `item_name` 기준 `item_price` 평균이 10 이상인 `item_name` 의 고유값 출력\n",
    "    \n",
    "    ```python\n",
    "    ['Chicken Bowl' 'Steak Burrito' 'Chicken Crispy Tacos' 'Chicken Burrito'\n",
    "     'Carnitas Burrito' 'Carnitas Bowl' 'Barbacoa Bowl' 'Chicken Salad Bowl'\n",
    "     'Steak Bowl' 'Barbacoa Soft Tacos' 'Veggie Bowl' 'Steak Crispy Tacos'\n",
    "     'Barbacoa Crispy Tacos' 'Veggie Salad Bowl' 'Steak Salad Bowl' 'Bowl'\n",
    "     'Carnitas Crispy Tacos' 'Veggie Soft Tacos' 'Carnitas Salad Bowl'\n",
    "     'Barbacoa Salad Bowl']\n",
    "    ```"
   ]
  },
  {
   "cell_type": "code",
   "execution_count": 925,
   "metadata": {},
   "outputs": [
    {
     "name": "stdout",
     "output_type": "stream",
     "text": [
      "['Chicken Bowl' 'Steak Burrito' 'Chicken Crispy Tacos' 'Chicken Burrito'\n",
      " 'Carnitas Burrito' 'Carnitas Bowl' 'Barbacoa Bowl' 'Chicken Salad Bowl'\n",
      " 'Steak Bowl' 'Barbacoa Soft Tacos' 'Veggie Bowl' 'Steak Crispy Tacos'\n",
      " 'Barbacoa Crispy Tacos' 'Veggie Salad Bowl' 'Steak Salad Bowl' 'Bowl'\n",
      " 'Carnitas Crispy Tacos' 'Veggie Soft Tacos' 'Carnitas Salad Bowl'\n",
      " 'Barbacoa Salad Bowl']\n"
     ]
    }
   ],
   "source": [
    "group = chipo.groupby(\"item_name\")\n",
    "\n",
    "\n",
    "def func_1(group):\n",
    "    answer = group[\"item_price\"].mean() >= 10\n",
    "    return answer\n",
    "\n",
    "\n",
    "print(group.filter(func_1)[\"item_name\"].unique())"
   ]
  },
  {
   "cell_type": "markdown",
   "metadata": {},
   "source": [
    "1. 데이터 불러오기\n",
    "    \n",
    "    ```python\n",
    "    import pandas as pd\n",
    "    \n",
    "    drinks = pd.read_csv(\n",
    "        \"https://raw.githubusercontent.com/justmarkham/DAT8/master/data/drinks.csv\"\n",
    "    )\n",
    "    \n",
    "    drinks.head()\n",
    "    ```"
   ]
  },
  {
   "cell_type": "code",
   "execution_count": 926,
   "metadata": {},
   "outputs": [
    {
     "data": {
      "text/html": [
       "<div>\n",
       "<style scoped>\n",
       "    .dataframe tbody tr th:only-of-type {\n",
       "        vertical-align: middle;\n",
       "    }\n",
       "\n",
       "    .dataframe tbody tr th {\n",
       "        vertical-align: top;\n",
       "    }\n",
       "\n",
       "    .dataframe thead th {\n",
       "        text-align: right;\n",
       "    }\n",
       "</style>\n",
       "<table border=\"1\" class=\"dataframe\">\n",
       "  <thead>\n",
       "    <tr style=\"text-align: right;\">\n",
       "      <th></th>\n",
       "      <th>country</th>\n",
       "      <th>beer_servings</th>\n",
       "      <th>spirit_servings</th>\n",
       "      <th>wine_servings</th>\n",
       "      <th>total_litres_of_pure_alcohol</th>\n",
       "      <th>continent</th>\n",
       "    </tr>\n",
       "  </thead>\n",
       "  <tbody>\n",
       "    <tr>\n",
       "      <th>0</th>\n",
       "      <td>Afghanistan</td>\n",
       "      <td>0</td>\n",
       "      <td>0</td>\n",
       "      <td>0</td>\n",
       "      <td>0.0</td>\n",
       "      <td>AS</td>\n",
       "    </tr>\n",
       "    <tr>\n",
       "      <th>1</th>\n",
       "      <td>Albania</td>\n",
       "      <td>89</td>\n",
       "      <td>132</td>\n",
       "      <td>54</td>\n",
       "      <td>4.9</td>\n",
       "      <td>EU</td>\n",
       "    </tr>\n",
       "    <tr>\n",
       "      <th>2</th>\n",
       "      <td>Algeria</td>\n",
       "      <td>25</td>\n",
       "      <td>0</td>\n",
       "      <td>14</td>\n",
       "      <td>0.7</td>\n",
       "      <td>AF</td>\n",
       "    </tr>\n",
       "    <tr>\n",
       "      <th>3</th>\n",
       "      <td>Andorra</td>\n",
       "      <td>245</td>\n",
       "      <td>138</td>\n",
       "      <td>312</td>\n",
       "      <td>12.4</td>\n",
       "      <td>EU</td>\n",
       "    </tr>\n",
       "    <tr>\n",
       "      <th>4</th>\n",
       "      <td>Angola</td>\n",
       "      <td>217</td>\n",
       "      <td>57</td>\n",
       "      <td>45</td>\n",
       "      <td>5.9</td>\n",
       "      <td>AF</td>\n",
       "    </tr>\n",
       "  </tbody>\n",
       "</table>\n",
       "</div>"
      ],
      "text/plain": [
       "       country  beer_servings  spirit_servings  wine_servings  \\\n",
       "0  Afghanistan              0                0              0   \n",
       "1      Albania             89              132             54   \n",
       "2      Algeria             25                0             14   \n",
       "3      Andorra            245              138            312   \n",
       "4       Angola            217               57             45   \n",
       "\n",
       "   total_litres_of_pure_alcohol continent  \n",
       "0                           0.0        AS  \n",
       "1                           4.9        EU  \n",
       "2                           0.7        AF  \n",
       "3                          12.4        EU  \n",
       "4                           5.9        AF  "
      ]
     },
     "execution_count": 926,
     "metadata": {},
     "output_type": "execute_result"
    }
   ],
   "source": [
    "import pandas as pd\n",
    "\n",
    "drinks = pd.read_csv(\n",
    "    \"https://raw.githubusercontent.com/justmarkham/DAT8/master/data/drinks.csv\"\n",
    ")\n",
    "\n",
    "drinks.head()"
   ]
  },
  {
   "cell_type": "markdown",
   "metadata": {},
   "source": [
    "2. 첫 5행 출력\n",
    "    \n",
    "    ```python\n",
    "           country  beer_servings  spirit_servings  wine_servings  \\\n",
    "    0  Afghanistan              0                0              0   \n",
    "    1      Albania             89              132             54   \n",
    "    2      Algeria             25                0             14   \n",
    "    3      Andorra            245              138            312   \n",
    "    4       Angola            217               57             45   \n",
    "    \n",
    "       total_litres_of_pure_alcohol continent  \n",
    "    0                           0.0        AS  \n",
    "    1                           4.9        EU  \n",
    "    2                           0.7        AF  \n",
    "    3                          12.4        EU  \n",
    "    4                           5.9        AF  \n",
    "    ```"
   ]
  },
  {
   "cell_type": "code",
   "execution_count": 927,
   "metadata": {},
   "outputs": [
    {
     "name": "stdout",
     "output_type": "stream",
     "text": [
      "       country  beer_servings  spirit_servings  wine_servings  \\\n",
      "0  Afghanistan              0                0              0   \n",
      "1      Albania             89              132             54   \n",
      "2      Algeria             25                0             14   \n",
      "3      Andorra            245              138            312   \n",
      "4       Angola            217               57             45   \n",
      "\n",
      "   total_litres_of_pure_alcohol continent  \n",
      "0                           0.0        AS  \n",
      "1                           4.9        EU  \n",
      "2                           0.7        AF  \n",
      "3                          12.4        EU  \n",
      "4                           5.9        AF  \n"
     ]
    }
   ],
   "source": [
    "print(drinks.head())"
   ]
  },
  {
   "cell_type": "markdown",
   "metadata": {},
   "source": [
    "3. 한국 `South Korea` 데이터 출력\n",
    "    \n",
    "    ```python\n",
    "             country  beer_servings  spirit_servings  wine_servings  \\\n",
    "    138  South Korea            140               16              9   \n",
    "    \n",
    "         total_litres_of_pure_alcohol continent  \n",
    "    138                           9.8        AS  \n",
    "    ```"
   ]
  },
  {
   "cell_type": "code",
   "execution_count": 928,
   "metadata": {},
   "outputs": [
    {
     "name": "stdout",
     "output_type": "stream",
     "text": [
      "         country  beer_servings  spirit_servings  wine_servings  \\\n",
      "138  South Korea            140               16              9   \n",
      "\n",
      "     total_litres_of_pure_alcohol continent  \n",
      "138                           9.8        AS  \n"
     ]
    }
   ],
   "source": [
    "print(drinks.loc[drinks[\"country\"] == \"South Korea\"])"
   ]
  },
  {
   "cell_type": "markdown",
   "metadata": {},
   "source": [
    "4. 대륙 `continent` 별 맥주 소비량 `beer_servings` 평균 출력\n",
    "    \n",
    "    ```python\n",
    "    continent\n",
    "    AF     61.471698\n",
    "    AS     37.045455\n",
    "    EU    193.777778\n",
    "    OC     89.687500\n",
    "    SA    175.083333\n",
    "    Name: beer_servings, dtype: float64\n",
    "    ```"
   ]
  },
  {
   "cell_type": "code",
   "execution_count": 929,
   "metadata": {},
   "outputs": [
    {
     "name": "stdout",
     "output_type": "stream",
     "text": [
      "continent\n",
      "AF     61.471698\n",
      "AS     37.045455\n",
      "EU    193.777778\n",
      "OC     89.687500\n",
      "SA    175.083333\n",
      "Name: beer_servings, dtype: float64\n"
     ]
    }
   ],
   "source": [
    "group = drinks.groupby(\"continent\")\n",
    "\n",
    "print(group[\"beer_servings\"].mean())"
   ]
  },
  {
   "cell_type": "markdown",
   "metadata": {},
   "source": [
    "5. 대륙 별 증류주 소비량 `spirit_servings` 평균, 최소, 최대 출력\n",
    "    \n",
    "    ```python\n",
    "                     mean  min  max\n",
    "    continent                      \n",
    "    AF          16.339623    0  152\n",
    "    AS          60.840909    0  326\n",
    "    EU         132.555556    0  373\n",
    "    OC          58.437500    0  254\n",
    "    SA         114.750000   25  302\n",
    "    ```"
   ]
  },
  {
   "cell_type": "code",
   "execution_count": 930,
   "metadata": {},
   "outputs": [
    {
     "name": "stdout",
     "output_type": "stream",
     "text": [
      "                 mean  min  max\n",
      "continent                      \n",
      "AF          16.339623    0  152\n",
      "AS          60.840909    0  326\n",
      "EU         132.555556    0  373\n",
      "OC          58.437500    0  254\n",
      "SA         114.750000   25  302\n"
     ]
    }
   ],
   "source": [
    "print(group[\"spirit_servings\"].agg([\"mean\", \"min\", \"max\"]))"
   ]
  },
  {
   "cell_type": "markdown",
   "metadata": {},
   "source": [
    "6. 나라 `country` 별 맥주 아래 컬럼에 대한 평균 출력\n",
    "    - `beer_servings`\n",
    "    - `spirit_servings`\n",
    "    - `wine_servings`\n",
    "    \n",
    "    ```python\n",
    "                beer_servings spirit_servings wine_servings\n",
    "                         mean            mean          mean\n",
    "    country                                                \n",
    "    Afghanistan           0.0             0.0           0.0\n",
    "    Albania              89.0           132.0          54.0\n",
    "    Algeria              25.0             0.0          14.0\n",
    "    Andorra             245.0           138.0         312.0\n",
    "    Angola              217.0            57.0          45.0\n",
    "    ...                   ...             ...           ...\n",
    "    Venezuela           333.0           100.0           3.0\n",
    "    Vietnam             111.0             2.0           1.0\n",
    "    Yemen                 6.0             0.0           0.0\n",
    "    Zambia               32.0            19.0           4.0\n",
    "    Zimbabwe             64.0            18.0           4.0\n",
    "    \n",
    "    [193 rows x 3 columns]\n",
    "    ```"
   ]
  },
  {
   "cell_type": "code",
   "execution_count": 931,
   "metadata": {},
   "outputs": [
    {
     "name": "stdout",
     "output_type": "stream",
     "text": [
      "             beer_servings  spirit_servings  wine_servings\n",
      "country                                                   \n",
      "Afghanistan            0.0              0.0            0.0\n",
      "Albania               89.0            132.0           54.0\n",
      "Algeria               25.0              0.0           14.0\n",
      "Andorra              245.0            138.0          312.0\n",
      "Angola               217.0             57.0           45.0\n",
      "...                    ...              ...            ...\n",
      "Venezuela            333.0            100.0            3.0\n",
      "Vietnam              111.0              2.0            1.0\n",
      "Yemen                  6.0              0.0            0.0\n",
      "Zambia                32.0             19.0            4.0\n",
      "Zimbabwe              64.0             18.0            4.0\n",
      "\n",
      "[193 rows x 3 columns]\n"
     ]
    }
   ],
   "source": [
    "group = drinks.groupby(\"country\")\n",
    "\n",
    "print(group[[\"beer_servings\", \"spirit_servings\", \"wine_servings\"]].mean())"
   ]
  },
  {
   "cell_type": "markdown",
   "metadata": {},
   "source": [
    "7. 대륙 및 나라 기준 총 알코올 소비량 `total_litres_of_pure_alcohol` 평균 출력\n",
    "    \n",
    "    ```python\n",
    "    continent  country     \n",
    "    AF         Algeria         0.7\n",
    "               Angola          5.9\n",
    "               Benin           1.1\n",
    "               Botswana        5.4\n",
    "               Burkina Faso    4.3\n",
    "                              ... \n",
    "    SA         Paraguay        7.3\n",
    "               Peru            6.1\n",
    "               Suriname        5.6\n",
    "               Uruguay         6.6\n",
    "               Venezuela       7.7\n",
    "    Name: total_litres_of_pure_alcohol, Length: 170, dtype: float64\n",
    "    ```"
   ]
  },
  {
   "cell_type": "code",
   "execution_count": 932,
   "metadata": {},
   "outputs": [
    {
     "name": "stdout",
     "output_type": "stream",
     "text": [
      "continent  country     \n",
      "AF         Algeria         0.7\n",
      "           Angola          5.9\n",
      "           Benin           1.1\n",
      "           Botswana        5.4\n",
      "           Burkina Faso    4.3\n",
      "                          ... \n",
      "SA         Paraguay        7.3\n",
      "           Peru            6.1\n",
      "           Suriname        5.6\n",
      "           Uruguay         6.6\n",
      "           Venezuela       7.7\n",
      "Name: total_litres_of_pure_alcohol, Length: 170, dtype: float64\n"
     ]
    }
   ],
   "source": [
    "group = drinks.groupby([\"continent\", \"country\"])\n",
    "\n",
    "print(group[\"total_litres_of_pure_alcohol\"].mean())"
   ]
  },
  {
   "cell_type": "markdown",
   "metadata": {},
   "source": [
    "8. 총 알코올 소비량이 가장 큰 나라 출력\n",
    "    \n",
    "    ```python\n",
    "    country                         Belarus\n",
    "    beer_servings                       142\n",
    "    spirit_servings                     373\n",
    "    wine_servings                        42\n",
    "    total_litres_of_pure_alcohol       14.4\n",
    "    continent                            EU\n",
    "    Name: 15, dtype: object\n",
    "    ```"
   ]
  },
  {
   "cell_type": "code",
   "execution_count": 933,
   "metadata": {},
   "outputs": [
    {
     "name": "stdout",
     "output_type": "stream",
     "text": [
      "    country  beer_servings  spirit_servings  wine_servings  \\\n",
      "15  Belarus            142              373             42   \n",
      "\n",
      "    total_litres_of_pure_alcohol continent  \n",
      "15                          14.4        EU  \n"
     ]
    }
   ],
   "source": [
    "alchohol = drinks[\"total_litres_of_pure_alcohol\"].max()\n",
    "\n",
    "print(drinks.loc[drinks[\"total_litres_of_pure_alcohol\"] == alchohol,])"
   ]
  },
  {
   "cell_type": "markdown",
   "metadata": {},
   "source": [
    "### (3) wine quality 데이터\n",
    "\n",
    "1. 2개의 데이터프레임 불러오기\n",
    "    \n",
    "    [winequality_red.csv](https://prod-files-secure.s3.us-west-2.amazonaws.com/f2678325-6f7b-4a25-b188-86c42030d6d5/d308ffbd-011a-40a8-beca-cd221c9b7b4c/winequality_red.csv)\n",
    "    \n",
    "    [winequality_white.csv](https://prod-files-secure.s3.us-west-2.amazonaws.com/f2678325-6f7b-4a25-b188-86c42030d6d5/af7d912a-de7f-4447-810d-de2daf20bbf2/winequality_white.csv)"
   ]
  },
  {
   "cell_type": "code",
   "execution_count": 934,
   "metadata": {},
   "outputs": [],
   "source": [
    "red = pd.read_csv(\"data/winequality_red.csv\")\n",
    "white = pd.read_csv(\"data/winequality_white.csv\")"
   ]
  },
  {
   "cell_type": "markdown",
   "metadata": {},
   "source": [
    "2. 각 데이터프레임의 정보 확인"
   ]
  },
  {
   "cell_type": "code",
   "execution_count": 935,
   "metadata": {},
   "outputs": [
    {
     "name": "stdout",
     "output_type": "stream",
     "text": [
      "<class 'pandas.core.frame.DataFrame'>\n",
      "RangeIndex: 1599 entries, 0 to 1598\n",
      "Data columns (total 12 columns):\n",
      " #   Column                Non-Null Count  Dtype  \n",
      "---  ------                --------------  -----  \n",
      " 0   fixed acidity         1444 non-null   float64\n",
      " 1   volatile acidity      1445 non-null   float64\n",
      " 2   citric acid           1442 non-null   float64\n",
      " 3   residual sugar        1451 non-null   float64\n",
      " 4   chlorides             1417 non-null   float64\n",
      " 5   free sulfur dioxide   1472 non-null   float64\n",
      " 6   total sulfur dioxide  1428 non-null   float64\n",
      " 7   density               1447 non-null   float64\n",
      " 8   pH                    1456 non-null   float64\n",
      " 9   sulphates             1448 non-null   float64\n",
      " 10  alcohol               1455 non-null   float64\n",
      " 11  quality               1444 non-null   float64\n",
      "dtypes: float64(12)\n",
      "memory usage: 150.0 KB\n",
      "None\n",
      "<class 'pandas.core.frame.DataFrame'>\n",
      "RangeIndex: 4898 entries, 0 to 4897\n",
      "Data columns (total 12 columns):\n",
      " #   Column                Non-Null Count  Dtype  \n",
      "---  ------                --------------  -----  \n",
      " 0   fixed acidity         4423 non-null   float64\n",
      " 1   volatile acidity      4425 non-null   float64\n",
      " 2   citric acid           4433 non-null   float64\n",
      " 3   residual sugar        4440 non-null   float64\n",
      " 4   chlorides             4460 non-null   float64\n",
      " 5   free sulfur dioxide   4450 non-null   float64\n",
      " 6   total sulfur dioxide  4387 non-null   float64\n",
      " 7   density               4436 non-null   float64\n",
      " 8   pH                    4417 non-null   float64\n",
      " 9   sulphates             4421 non-null   float64\n",
      " 10  alcohol               4465 non-null   float64\n",
      " 11  quality               4441 non-null   float64\n",
      "dtypes: float64(12)\n",
      "memory usage: 459.3 KB\n",
      "None\n"
     ]
    }
   ],
   "source": [
    "print(red.info())\n",
    "print(white.info())"
   ]
  },
  {
   "cell_type": "markdown",
   "metadata": {},
   "source": [
    "3. 각 데이터프레임에 열 `category` 추가 및 아래 값 저장\n",
    "    - red 와인 데이터프레임 -  `red`\n",
    "    - white 와인 데이터프레임-  `white`"
   ]
  },
  {
   "cell_type": "code",
   "execution_count": 936,
   "metadata": {},
   "outputs": [],
   "source": [
    "red[\"category\"] = \"red\"\n",
    "white[\"category\"] = \"white\"\n",
    "\n",
    "# print(red,white)"
   ]
  },
  {
   "cell_type": "markdown",
   "metadata": {},
   "source": [
    "4. 2개의 데이터프레임을 행 방향으로 합친 새로운 데이터프레임 생성\n",
    "    - 이 때 인덱스 번호는 0부터 다시 설정"
   ]
  },
  {
   "cell_type": "code",
   "execution_count": 937,
   "metadata": {},
   "outputs": [],
   "source": [
    "wine = pd.concat([red, white], ignore_index=True)\n",
    "\n",
    "# print(wine)"
   ]
  },
  {
   "cell_type": "markdown",
   "metadata": {},
   "source": [
    "5. `quality` 를 범주형 자료형으로 변환\n",
    "    - 순서형 자료형으로 변환해야하고 순서는 아래와 같습니다.\n",
    "        - 10이 가장 크며, 0이 가장 작습니다."
   ]
  },
  {
   "cell_type": "code",
   "execution_count": 938,
   "metadata": {},
   "outputs": [
    {
     "name": "stdout",
     "output_type": "stream",
     "text": [
      "5008      3\n",
      "3083      3\n",
      "1469      3\n",
      "2044      3\n",
      "3649      3\n",
      "       ... \n",
      "6443    NaN\n",
      "6472    NaN\n",
      "6482    NaN\n",
      "6485    NaN\n",
      "6490    NaN\n",
      "Name: quality, Length: 6497, dtype: category\n",
      "Categories (11, int64): [0 < 1 < 2 < 3 ... 7 < 8 < 9 < 10]\n",
      "<class 'pandas.core.series.Series'>\n"
     ]
    }
   ],
   "source": [
    "grade = [0, 1, 2, 3, 4, 5, 6, 7, 8, 9, 10]\n",
    "\n",
    "wine[\"quality\"] = pd.Categorical(\n",
    "    values=wine[\"quality\"],\n",
    "    categories=grade,\n",
    "    ordered=True,\n",
    ")\n",
    "\n",
    "print(wine[\"quality\"].sort_values())\n",
    "\n",
    "print(type(wine.loc[:, \"category\"]))"
   ]
  },
  {
   "cell_type": "markdown",
   "metadata": {},
   "source": [
    "6. 결측치를 확인하고, 적절한 방법으로 결측치 처리\n",
    "7. `quality` 의 고유값과 고유값의 수를 출력\n",
    "8. `quality` 와 다른 열의 관계를 적절한 기법으로 시각화"
   ]
  },
  {
   "cell_type": "code",
   "execution_count": 939,
   "metadata": {},
   "outputs": [
    {
     "name": "stdout",
     "output_type": "stream",
     "text": [
      "fixed acidity           630\n",
      "volatile acidity        627\n",
      "citric acid             622\n",
      "residual sugar          606\n",
      "chlorides               620\n",
      "free sulfur dioxide     575\n",
      "total sulfur dioxide    682\n",
      "density                 614\n",
      "pH                      624\n",
      "sulphates               628\n",
      "alcohol                 577\n",
      "quality                 612\n",
      "category                  0\n",
      "dtype: int64\n",
      "fixed acidity           0\n",
      "volatile acidity        0\n",
      "citric acid             0\n",
      "residual sugar          0\n",
      "chlorides               0\n",
      "free sulfur dioxide     0\n",
      "total sulfur dioxide    0\n",
      "density                 0\n",
      "pH                      0\n",
      "sulphates               0\n",
      "alcohol                 0\n",
      "quality                 0\n",
      "category                0\n",
      "dtype: int64\n",
      "[5, 7, 4, 6, 8, 3]\n",
      "Categories (11, int64): [0 < 1 < 2 < 3 ... 7 < 8 < 9 < 10]\n",
      "6\n"
     ]
    },
    {
     "data": {
      "image/png": "[encoded data removed]",
      "text/plain": [
       "<Figure size 640x480 with 1 Axes>"
      ]
     },
     "metadata": {},
     "output_type": "display_data"
    }
   ],
   "source": [
    "print(wine.isnull().sum())\n",
    "\n",
    "\n",
    "wine = wine.dropna()\n",
    "\n",
    "\n",
    "print(wine.isnull().sum())\n",
    "\n",
    "print(wine[\"quality\"].unique())\n",
    "print(wine[\"quality\"].nunique())\n",
    "\n",
    "import seaborn as sns\n",
    "import matplotlib.pyplot as plt\n",
    "\n",
    "sns.barplot(\n",
    "    data=wine,\n",
    "    x=\"quality\",\n",
    "    y=\"pH\",\n",
    "    hue=\"category\",\n",
    ")\n",
    "\n",
    "plt.title(\"wine pH by quality\")\n",
    "plt.show()"
   ]
  },
  {
   "cell_type": "code",
   "execution_count": 940,
   "metadata": {},
   "outputs": [
    {
     "data": {
      "image/png": "[encoded data removed]",
      "text/plain": [
       "<Figure size 640x480 with 1 Axes>"
      ]
     },
     "metadata": {},
     "output_type": "display_data"
    }
   ],
   "source": [
    "plt.title(\"Distribution of wine quality\")\n",
    "\n",
    "sns.countplot(\n",
    "    data=wine,\n",
    "    x=\"quality\",\n",
    "    hue=\"category\",\n",
    ")\n",
    "plt.show()"
   ]
  },
  {
   "cell_type": "code",
   "execution_count": 941,
   "metadata": {},
   "outputs": [
    {
     "data": {
      "image/png": "[encoded data removed]",
      "text/plain": [
       "<Figure size 640x480 with 1 Axes>"
      ]
     },
     "metadata": {},
     "output_type": "display_data"
    },
    {
     "name": "stdout",
     "output_type": "stream",
     "text": [
      "quality\n",
      "6    895\n",
      "5    632\n",
      "7    321\n",
      "4     70\n",
      "8     49\n",
      "3      9\n",
      "Name: count, dtype: int64\n",
      "[5, 7, 4, 6, 8, 3]\n",
      "Categories (11, int64): [0 < 1 < 2 < 3 ... 7 < 8 < 9 < 10]\n"
     ]
    }
   ],
   "source": [
    "plt.title(\"Distribution of wine quality\")\n",
    "\n",
    "quality_counts = (\n",
    "    wine[\"quality\"].cat.remove_unused_categories().value_counts()\n",
    ")  # .cat.remove_unused_categories() : 카테고리에 접근, 사용되지 않는 카테고리를 지움\n",
    "# 범주형 자료형 고유값\n",
    "labels = wine[\"quality\"].unique()\n",
    "\n",
    "plt.pie(\n",
    "    x=quality_counts,\n",
    "    labels=labels,\n",
    "    autopct=\"%1.1f%%\",\n",
    ")\n",
    "plt.show()\n",
    "\n",
    "print(quality_counts)\n",
    "print(labels)"
   ]
  }
 ],
 "metadata": {
  "kernelspec": {
   "display_name": "base",
   "language": "python",
   "name": "python3"
  },
  "language_info": {
   "codemirror_mode": {
    "name": "ipython",
    "version": 3
   },
   "file_extension": ".py",
   "mimetype": "text/x-python",
   "name": "python",
   "nbconvert_exporter": "python",
   "pygments_lexer": "ipython3",
   "version": "3.12.4"
  }
 },
 "nbformat": 4,
 "nbformat_minor": 2
}
