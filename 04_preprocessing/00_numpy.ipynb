{
 "cells": [
  {
   "cell_type": "code",
   "execution_count": 9,
   "metadata": {},
   "outputs": [
    {
     "name": "stdout",
     "output_type": "stream",
     "text": [
      "[1 2 3]\n",
      "<class 'numpy.ndarray'>\n",
      "['1' '2' '3' '4.1']\n",
      "[['1']\n",
      " ['2']\n",
      " ['2']\n",
      " ['4.1']]\n"
     ]
    }
   ],
   "source": [
    "import numpy as np\n",
    "\n",
    "# 1차원 넘파이 배열 생성\n",
    "array_1d = np.array([1, 2, 3])\n",
    "print(array_1d)\n",
    "print(type(array_1d))\n",
    "\n",
    "# 리스트의 특징 : 자료형 구분이 없다\n",
    "# 배열의 특징 : 자료형은 하나만 허용한다. 만약 다른 문자열이 있으면 통일해버린다.\n",
    "array_1d = np.array([1, 2, \"3\", 4.1])\n",
    "print(array_1d)\n",
    "\n",
    "# 2차원 넘파이 배열 생성\n",
    "array_2d = np.array([[1], [2], [\"2\"], [4.1]])\n",
    "print(array_2d)"
   ]
  },
  {
   "cell_type": "code",
   "execution_count": 17,
   "metadata": {},
   "outputs": [
    {
     "name": "stdout",
     "output_type": "stream",
     "text": [
      "[0. 0. 0. 0. 0. 0. 0. 0. 0. 0.]\n",
      "[[0. 0. 0. 0. 0. 0. 0. 0. 0. 0.]\n",
      " [0. 0. 0. 0. 0. 0. 0. 0. 0. 0.]\n",
      " [0. 0. 0. 0. 0. 0. 0. 0. 0. 0.]\n",
      " [0. 0. 0. 0. 0. 0. 0. 0. 0. 0.]\n",
      " [0. 0. 0. 0. 0. 0. 0. 0. 0. 0.]]\n",
      "[[9 9 9]\n",
      " [9 9 9]\n",
      " [9 9 9]]\n",
      "[0.39749132 0.55380033 0.78138647 0.69693513 0.54588058 0.27302083\n",
      " 0.46649227 0.71306315 0.26757147 0.28891977]\n"
     ]
    }
   ],
   "source": [
    "zero_array = np.zeros(10)  # 인자에 적은 숫자만큼 배열을 0으로 채움\n",
    "print(zero_array)\n",
    "\n",
    "# 행 5, 열 10\n",
    "zero_array_2d = np.zeros((5, 10))\n",
    "print(zero_array_2d)\n",
    "\n",
    "# 9로 채워진 3*3 2차원 배열\n",
    "nine_array_2d = np.full((3, 3), 9)\n",
    "print(nine_array_2d)\n",
    "\n",
    "# 랜덤값으로 채운 배열\n",
    "random_array = np.random.random(10)\n",
    "print(random_array)"
   ]
  },
  {
   "cell_type": "code",
   "execution_count": 23,
   "metadata": {},
   "outputs": [
    {
     "name": "stdout",
     "output_type": "stream",
     "text": [
      "[5 7 9]\n",
      "[ 4 10 18]\n"
     ]
    }
   ],
   "source": [
    "# 배열의 연산\n",
    "array1 = np.array([1, 2, 3])\n",
    "array2 = np.array([4, 5, 6])\n",
    "\n",
    "print(array1 + array2)  # 각자 자리끼리 더한 값을 반환\n",
    "\n",
    "array3 = np.array([7, 8])\n",
    "# print(array1 + array3) # 두 배열의 길이가 달라서 오류 발생\n",
    "\n",
    "print(array1 * array2)"
   ]
  },
  {
   "cell_type": "code",
   "execution_count": 28,
   "metadata": {},
   "outputs": [
    {
     "name": "stdout",
     "output_type": "stream",
     "text": [
      "[[ 6  8]\n",
      " [10 12]]\n",
      "[[-4 -4]\n",
      " [-4 -4]]\n",
      "[[ 5 12]\n",
      " [21 32]]\n",
      "[[0.2        0.33333333]\n",
      " [0.42857143 0.5       ]]\n"
     ]
    }
   ],
   "source": [
    "array1_2d = np.array([[1, 2], [3, 4]])\n",
    "array2_2d = np.array([[5, 6], [7, 8]])\n",
    "# 사칙연산\n",
    "\n",
    "print(array1_2d + array2_2d)\n",
    "print(array1_2d - array2_2d)\n",
    "\n",
    "print(array1_2d * array2_2d)\n",
    "print(array1_2d / array2_2d)\n",
    "# 각각의 자리끼리 연산"
   ]
  },
  {
   "cell_type": "code",
   "execution_count": 36,
   "metadata": {},
   "outputs": [
    {
     "name": "stdout",
     "output_type": "stream",
     "text": [
      "[0. 0. 0. 0. 0. 0. 0. 0. 0. 0. 0. 0.]\n",
      "(12,)\n",
      "[[0. 0. 0. 0.]\n",
      " [0. 0. 0. 0.]\n",
      " [0. 0. 0. 0.]]\n",
      "(3, 4)\n",
      "[[0. 0.]\n",
      " [0. 0.]\n",
      " [0. 0.]\n",
      " [0. 0.]\n",
      " [0. 0.]\n",
      " [0. 0.]]\n"
     ]
    }
   ],
   "source": [
    "# 배열의 차원(행과 열)크기 shape\n",
    "array_1d = np.zeros(12)\n",
    "print(array_1d)\n",
    "print(array_1d.shape)  # shape : 배열의 구조 확인\n",
    "\n",
    "array_2d = np.zeros((3, 4))\n",
    "print(array_2d)\n",
    "print(array_2d.shape)  # shape : 배열의 구조 확인\n",
    "\n",
    "array_2d = array_2d.reshape(\n",
    "    (6, 2)\n",
    ")  # reshape : 원소의 개수는 그대로 하고 구조를 바꿀 수 있다.\n",
    "print(array_2d)"
   ]
  }
 ],
 "metadata": {
  "kernelspec": {
   "display_name": "base",
   "language": "python",
   "name": "python3"
  },
  "language_info": {
   "codemirror_mode": {
    "name": "ipython",
    "version": 3
   },
   "file_extension": ".py",
   "mimetype": "text/x-python",
   "name": "python",
   "nbconvert_exporter": "python",
   "pygments_lexer": "ipython3",
   "version": "3.12.4"
  }
 },
 "nbformat": 4,
 "nbformat_minor": 2
}
