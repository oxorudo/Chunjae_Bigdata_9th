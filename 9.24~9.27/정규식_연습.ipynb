{
 "cells": [
  {
   "cell_type": "markdown",
   "metadata": {},
   "source": [
    "1. Groups and ranges\n",
    "- | 또는\n",
    "- () 그룹\n",
    "- [] 문자셋, 괄호안의 어떤 문자든\n",
    "- [^] 문자셋. 괄호안의 어떤 문자가 아니여야 함\n",
    "- (?:) 찾지만 기억하지는 않음(그룹으로 지정하지 않겠다)\n",
    "2. Quantifiers\n",
    "- ? 없거나 있거나 (zero or one)\n",
    "- * 없거나 있거나 많거나 (zero or more)\n",
    "- + 하나 또는 많이 (one or more)\n",
    "- {n} n번 반복\n",
    "- {min,} 최소\n",
    "- {min,max} 최소. 그리고 최대\n",
    "3. Boundary-type\n",
    "- \\b 단어 경계\n",
    "- \\B 단어 경계가 아님\n",
    "- ^ 문장의 시작\n",
    "- $ 문장의 끝\n",
    "4. Character classes\n",
    "- \\ 특수문자가 아닌 문자\n",
    "- . 어떤 글자(줄바꿈 문자 제외)\n",
    "- \\d digit 숫자\n",
    "- \\D digit 숫자 아님\n",
    "- \\w word 문자\n",
    "- \\W word 문자 아님\n",
    "- \\s space 공백\n",
    "- \\S space 공백 아님"
   ]
  },
  {
   "cell_type": "code",
   "execution_count": 4,
   "metadata": {},
   "outputs": [],
   "source": [
    "import re"
   ]
  },
  {
   "cell_type": "code",
   "execution_count": 7,
   "metadata": {},
   "outputs": [],
   "source": [
    "text = \"\"\"오늘의 기온은 25도입니다. 내일은 30도가 예상됩니다. 2021년에 비해 기온이 많이 상승했습니다.\"\"\""
   ]
  },
  {
   "cell_type": "code",
   "execution_count": 8,
   "metadata": {},
   "outputs": [
    {
     "data": {
      "text/plain": [
       "'오늘의 기온은 ###도입니다. 내일은 ###도가 예상됩니다. ###년에 비해 기온이 많이 상승했습니다.'"
      ]
     },
     "execution_count": 8,
     "metadata": {},
     "output_type": "execute_result"
    }
   ],
   "source": [
    "re.sub('[0-9]+','###',text)"
   ]
  },
  {
   "cell_type": "code",
   "execution_count": 10,
   "metadata": {},
   "outputs": [],
   "source": [
    "text = \"\"\"\n",
    "홍길동: 010-1234-5678\n",
    "이순신: (02) 9876-5432\n",
    "강감찬: 02-8765-4321\n",
    "김유신: 010-5555-6666\n",
    "\"\"\""
   ]
  },
  {
   "cell_type": "code",
   "execution_count": 66,
   "metadata": {},
   "outputs": [],
   "source": [
    "# ?가 이것의 뒤에 붙으면 '이것이 있을 수도 있고 없을 수도 있음'\n",
    "ph_pattern = r'\\(?0\\d{1,2}\\)?[- ]?\\d{4}-\\d{4}'"
   ]
  },
  {
   "cell_type": "code",
   "execution_count": 67,
   "metadata": {},
   "outputs": [
    {
     "data": {
      "text/plain": [
       "['010-1234-5678', '(02) 9876-5432', '02-8765-4321', '010-5555-6666']"
      ]
     },
     "execution_count": 67,
     "metadata": {},
     "output_type": "execute_result"
    }
   ],
   "source": [
    "re.findall(ph_pattern, text)"
   ]
  },
  {
   "cell_type": "code",
   "execution_count": 68,
   "metadata": {},
   "outputs": [],
   "source": [
    "text = \"\"\"\n",
    "이메일: test.email@example.com\n",
    "이메일: contact@domain.org\n",
    "이메일: support@service.co.kr\n",
    "\"\"\""
   ]
  },
  {
   "cell_type": "code",
   "execution_count": 72,
   "metadata": {},
   "outputs": [],
   "source": [
    "mail_pattern = '[a-z.]+@[a-z.]+'"
   ]
  },
  {
   "cell_type": "code",
   "execution_count": 73,
   "metadata": {},
   "outputs": [
    {
     "data": {
      "text/plain": [
       "['test.email@example.com', 'contact@domain.org', 'support@service.co.kr']"
      ]
     },
     "execution_count": 73,
     "metadata": {},
     "output_type": "execute_result"
    }
   ],
   "source": [
    "re.findall(mail_pattern, text)"
   ]
  },
  {
   "cell_type": "code",
   "execution_count": 75,
   "metadata": {},
   "outputs": [],
   "source": [
    "text = \"\"\"\n",
    "구글: https://www.google.com\n",
    "네이버: http://www.naver.com\n",
    "위키백과: https://ko.wikipedia.org/wiki/정규표현식\n",
    "\"\"\""
   ]
  },
  {
   "cell_type": "code",
   "execution_count": 78,
   "metadata": {},
   "outputs": [],
   "source": [
    "url_pattern = '[a-z]+://[a-z./가-힣]+'"
   ]
  },
  {
   "cell_type": "code",
   "execution_count": 79,
   "metadata": {},
   "outputs": [
    {
     "data": {
      "text/plain": [
       "['https://www.google.com',\n",
       " 'http://www.naver.com',\n",
       " 'https://ko.wikipedia.org/wiki/정규표현식']"
      ]
     },
     "execution_count": 79,
     "metadata": {},
     "output_type": "execute_result"
    }
   ],
   "source": [
    "re.findall(url_pattern, text)"
   ]
  },
  {
   "cell_type": "code",
   "execution_count": 80,
   "metadata": {},
   "outputs": [],
   "source": [
    "text = \"\"\"\n",
    "Python is an amazing language. Many Developers and Data Scientists use Python for Machine Learning.\n",
    "\"\"\""
   ]
  },
  {
   "cell_type": "code",
   "execution_count": 83,
   "metadata": {},
   "outputs": [],
   "source": [
    "pattern = '[A-Z][a-z]+'"
   ]
  },
  {
   "cell_type": "code",
   "execution_count": 84,
   "metadata": {},
   "outputs": [
    {
     "data": {
      "text/plain": [
       "['Python',\n",
       " 'Many',\n",
       " 'Developers',\n",
       " 'Data',\n",
       " 'Scientists',\n",
       " 'Python',\n",
       " 'Machine',\n",
       " 'Learning']"
      ]
     },
     "execution_count": 84,
     "metadata": {},
     "output_type": "execute_result"
    }
   ],
   "source": [
    "re.findall(pattern, text)"
   ]
  }
 ],
 "metadata": {
  "kernelspec": {
   "display_name": "Python 3",
   "language": "python",
   "name": "python3"
  },
  "language_info": {
   "codemirror_mode": {
    "name": "ipython",
    "version": 3
   },
   "file_extension": ".py",
   "mimetype": "text/x-python",
   "name": "python",
   "nbconvert_exporter": "python",
   "pygments_lexer": "ipython3",
   "version": "3.8.19"
  }
 },
 "nbformat": 4,
 "nbformat_minor": 2
}
