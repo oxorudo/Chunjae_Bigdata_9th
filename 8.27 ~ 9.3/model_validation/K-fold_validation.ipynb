{
 "cells": [
  {
   "cell_type": "markdown",
   "metadata": {},
   "source": [
    "### k-fold"
   ]
  },
  {
   "cell_type": "code",
   "execution_count": 1,
   "metadata": {},
   "outputs": [
    {
     "name": "stdout",
     "output_type": "stream",
     "text": [
      "1번째 Cross Validation 정확도: 100.00%\n",
      "2번째 Cross Validation 정확도: 100.00%\n",
      "3번째 Cross Validation 정확도: 83.33%\n",
      "4번째 Cross Validation 정확도: 93.33%\n",
      "5번째 Cross Validation 정확도: 73.33%\n",
      "-------------------------------------------\n",
      "Cross Validation 정확도 평균: 90.00%\n"
     ]
    }
   ],
   "source": [
    "# import package\n",
    "from sklearn.tree import DecisionTreeClassifier\n",
    "from sklearn.metrics import accuracy_score\n",
    "from sklearn.model_selection import KFold\n",
    "import numpy as np\n",
    "from sklearn.datasets import load_iris\n",
    "\n",
    "# input data, ML model\n",
    "iris = load_iris()\n",
    "X = iris.data\n",
    "y = iris.target\n",
    "dt_clf = DecisionTreeClassifier(random_state=12345)\n",
    "\n",
    "# 5-fold CV\n",
    "# shuffle 하면 데이터가 섞인다. -> y와 대응되는 값을 찾기 어려울 수 있음.\n",
    "kfold = KFold(n_splits=5, shuffle=False)\n",
    "cv_index = kfold.split(X) # X 5단계로 분할.\n",
    "\n",
    "cv_accuracy = []\n",
    "ind = 1\n",
    "\n",
    "for train_index, test_index in cv_index: # 순서대로 학습 시키고 정확도 계산 후 출력\n",
    "    X_train, X_test = X[train_index], X[test_index]\n",
    "    y_train, y_test = y[train_index], y[test_index]\n",
    "\n",
    "    dt_clf.fit(X_train , y_train)\n",
    "    accuracy = dt_clf.score(X_test, y_test)\n",
    "\n",
    "    print(f'{ind}번째 Cross Validation 정확도: {accuracy:.2%}')\n",
    "    cv_accuracy.append(accuracy)\n",
    "\n",
    "    ind += 1\n",
    "\n",
    "print(f'''-------------------------------------------\n",
    "Cross Validation 정확도 평균: {np.mean(cv_accuracy):.2%}''')"
   ]
  },
  {
   "cell_type": "markdown",
   "metadata": {},
   "source": [
    "### stratified K-fold"
   ]
  },
  {
   "cell_type": "code",
   "execution_count": 2,
   "metadata": {},
   "outputs": [
    {
     "name": "stdout",
     "output_type": "stream",
     "text": [
      "\u001b[1m[1번째 3-Fold Cross Validation]\u001b[0m\n",
      "* training set 데이터 분포\n",
      "species\n",
      "1    50\n",
      "2    50\n",
      "Name: count, dtype: int64\n",
      "* test set 데이터 분포\n",
      "species\n",
      "0    50\n",
      "Name: count, dtype: int64\n",
      "\u001b[1m[2번째 3-Fold Cross Validation]\u001b[0m\n",
      "* training set 데이터 분포\n",
      "species\n",
      "0    50\n",
      "2    50\n",
      "Name: count, dtype: int64\n",
      "* test set 데이터 분포\n",
      "species\n",
      "1    50\n",
      "Name: count, dtype: int64\n",
      "\u001b[1m[3번째 3-Fold Cross Validation]\u001b[0m\n",
      "* training set 데이터 분포\n",
      "species\n",
      "0    50\n",
      "1    50\n",
      "Name: count, dtype: int64\n",
      "* test set 데이터 분포\n",
      "species\n",
      "2    50\n",
      "Name: count, dtype: int64\n",
      "--------------------------------------------------\n",
      "\u001b[1m[1번째 Stratified 3-Fold Cross Validation]\u001b[0m\n",
      "* training set 데이터 분포\n",
      "species\n",
      "2    34\n",
      "0    33\n",
      "1    33\n",
      "Name: count, dtype: int64\n",
      "* test set 데이터 분포\n",
      "species\n",
      "0    17\n",
      "1    17\n",
      "2    16\n",
      "Name: count, dtype: int64\n",
      "\u001b[1m[2번째 Stratified 3-Fold Cross Validation]\u001b[0m\n",
      "* training set 데이터 분포\n",
      "species\n",
      "1    34\n",
      "0    33\n",
      "2    33\n",
      "Name: count, dtype: int64\n",
      "* test set 데이터 분포\n",
      "species\n",
      "0    17\n",
      "2    17\n",
      "1    16\n",
      "Name: count, dtype: int64\n",
      "\u001b[1m[3번째 Stratified 3-Fold Cross Validation]\u001b[0m\n",
      "* training set 데이터 분포\n",
      "species\n",
      "0    34\n",
      "1    33\n",
      "2    33\n",
      "Name: count, dtype: int64\n",
      "* test set 데이터 분포\n",
      "species\n",
      "1    17\n",
      "2    17\n",
      "0    16\n",
      "Name: count, dtype: int64\n"
     ]
    }
   ],
   "source": [
    "# 일반 K_fold와 stratified k_fold 비교\n",
    "\n",
    "import pandas as pd\n",
    "from sklearn.model_selection import StratifiedKFold\n",
    "\n",
    "# imput data\n",
    "iris_df = pd.DataFrame(iris.data, columns=iris.feature_names)\n",
    "iris_df['species'] = iris.target\n",
    "\n",
    "# 3-fold CV\n",
    "kfold = KFold(n_splits=3, shuffle=False)\n",
    "\n",
    "ind = 1\n",
    "\n",
    "for train_index, test_index in kfold.split(X):\n",
    "    train_label = iris_df.loc[train_index, 'species']\n",
    "    test_label = iris_df.loc[test_index, 'species']\n",
    "    print(\n",
    "f'''\\033[1m[{ind}번째 3-Fold Cross Validation]\\033[0m\n",
    "* training set 데이터 분포\n",
    "{train_label.value_counts()}\n",
    "* test set 데이터 분포\n",
    "{test_label.value_counts()}'''\n",
    "    )\n",
    "    ind += 1\n",
    "\n",
    "print('-'*50)\n",
    "\n",
    "\n",
    "# Stratified 3-fold CV\n",
    "skfold = StratifiedKFold(n_splits=3)\n",
    "\n",
    "ind = 1\n",
    "\n",
    "for train_index, test_index in skfold.split(X, y):\n",
    "    train_label = iris_df.loc[train_index, 'species']\n",
    "    test_label = iris_df.loc[test_index, 'species']\n",
    "    print(\n",
    "f'''\\033[1m[{ind}번째 Stratified 3-Fold Cross Validation]\\033[0m\n",
    "* training set 데이터 분포\n",
    "{train_label.value_counts()}\n",
    "* test set 데이터 분포\n",
    "{test_label.value_counts()}'''\n",
    "    )\n",
    "    ind += 1"
   ]
  },
  {
   "cell_type": "markdown",
   "metadata": {},
   "source": [
    "### 데이터가 비교적 균일하게 들어가는 것을 볼 수 있다"
   ]
  },
  {
   "cell_type": "code",
   "execution_count": 3,
   "metadata": {},
   "outputs": [
    {
     "name": "stdout",
     "output_type": "stream",
     "text": [
      "1번째 Cross Validation 정확도: 96.67%\n",
      "2번째 Cross Validation 정확도: 96.67%\n",
      "3번째 Cross Validation 정확도: 90.00%\n",
      "4번째 Cross Validation 정확도: 96.67%\n",
      "5번째 Cross Validation 정확도: 100.00%\n",
      "-------------------------------------------\n",
      "Cross Validation 정확도 평균: 96.00%\n"
     ]
    }
   ],
   "source": [
    "dt_clf = DecisionTreeClassifier(random_state=12345)\n",
    "skfold = StratifiedKFold(n_splits=3)\n",
    "ind=1\n",
    "cv_accuracy=[]\n",
    "\n",
    "# Stratified 5-fold CV\n",
    "skfold = StratifiedKFold(n_splits=5, shuffle=False)\n",
    "cv_index = skfold.split(X, y)\n",
    "\n",
    "cv_accuracy = []\n",
    "ind = 1\n",
    "\n",
    "for train_index, test_index in cv_index:\n",
    "    X_train, X_test = X[train_index], X[test_index]\n",
    "    y_train, y_test = y[train_index], y[test_index]\n",
    "\n",
    "    dt_clf.fit(X_train , y_train)\n",
    "    accuracy = dt_clf.score(X_test, y_test)\n",
    "\n",
    "    print(f'{ind}번째 Cross Validation 정확도: {accuracy:.2%}')\n",
    "    cv_accuracy.append(accuracy)\n",
    "\n",
    "    ind += 1\n",
    "\n",
    "print(f'''-------------------------------------------\n",
    "Cross Validation 정확도 평균: {np.mean(cv_accuracy):.2%}''')"
   ]
  },
  {
   "cell_type": "markdown",
   "metadata": {},
   "source": [
    "### 데이터 쏠림이 없으므로 정확도 평균도 더 높게 나오며, 정확도가 일정하다."
   ]
  },
  {
   "cell_type": "markdown",
   "metadata": {},
   "source": [
    "cross_val_score 를 사용하면 for문을 돌리지 않아도 결과를 출력할 수 있다."
   ]
  }
 ],
 "metadata": {
  "kernelspec": {
   "display_name": "base",
   "language": "python",
   "name": "python3"
  },
  "language_info": {
   "codemirror_mode": {
    "name": "ipython",
    "version": 3
   },
   "file_extension": ".py",
   "mimetype": "text/x-python",
   "name": "python",
   "nbconvert_exporter": "python",
   "pygments_lexer": "ipython3",
   "version": "3.12.4"
  }
 },
 "nbformat": 4,
 "nbformat_minor": 2
}
