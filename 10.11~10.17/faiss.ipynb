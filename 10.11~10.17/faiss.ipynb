{
 "cells": [
  {
   "cell_type": "code",
   "execution_count": 2,
   "metadata": {},
   "outputs": [
    {
     "name": "stderr",
     "output_type": "stream",
     "text": [
      "d:\\workspace\\Chunjae_Bigdata_9th\\9.4~9.23\\.conda\\lib\\site-packages\\IPython\\core\\interactiveshell.py:3508: LangChainDeprecationWarning: Default values for HuggingFaceBgeEmbeddings.model_name were deprecated in LangChain 0.2.5 and will be removed in 0.4.0. Explicitly pass a model_name to the HuggingFaceBgeEmbeddings constructor instead.\n",
      "  exec(code_obj, self.user_global_ns, self.user_ns)\n",
      "d:\\workspace\\Chunjae_Bigdata_9th\\9.4~9.23\\.conda\\lib\\site-packages\\sentence_transformers\\cross_encoder\\CrossEncoder.py:13: TqdmWarning: IProgress not found. Please update jupyter and ipywidgets. See https://ipywidgets.readthedocs.io/en/stable/user_install.html\n",
      "  from tqdm.autonotebook import tqdm, trange\n"
     ]
    }
   ],
   "source": [
    "# Import Package\n",
    "from langchain_community.document_loaders import TextLoader\n",
    "from langchain_community.vectorstores import FAISS\n",
    "from langchain.embeddings import HuggingFaceBgeEmbeddings\n",
    "from langchain_text_splitters import CharacterTextSplitter\n",
    "from IPython.display import display_markdown\n",
    "\n",
    "embeddings = HuggingFaceBgeEmbeddings()\n",
    "# Load Data\n",
    "documents = TextLoader(\"./index.md\", encoding='utf8').load()\n",
    "\n",
    "# Text Split\n",
    "text_splitter = CharacterTextSplitter(chunk_size=300, chunk_overlap=0)\n",
    "docs = text_splitter.split_documents(documents)\n",
    "\n",
    "# Create DB\n",
    "db = FAISS.from_documents(docs, embeddings)\n",
    "# Query\n",
    "query = \"HTML은 무엇일까\"\n",
    "answer = db.similarity_search(query)\n",
    "display_markdown(answer[0].page_content, raw=True)\n"
   ]
  },
  {
   "cell_type": "code",
   "execution_count": null,
   "metadata": {},
   "outputs": [],
   "source": [
    "rtn_list = db.similarity_search_with_score(query) # 이 점수는 코사인 유사도를 변형한 것으로, 낮을수록 좋음\n",
    "display_markdown('''# 응답 1\n",
    "---\n",
    "''', raw=True                 \n",
    ")\n",
    "display_markdown(rtn_list[0][0].page_content, raw=True)\n",
    "print('유사도 : ', rtn_list[0][1])\n",
    "\n",
    "display_markdown(\n",
    "    '''</br>\n",
    "'''\n",
    ")"
   ]
  }
 ],
 "metadata": {
  "kernelspec": {
   "display_name": "Python 3",
   "language": "python",
   "name": "python3"
  },
  "language_info": {
   "codemirror_mode": {
    "name": "ipython",
    "version": 3
   },
   "file_extension": ".py",
   "mimetype": "text/x-python",
   "name": "python",
   "nbconvert_exporter": "python",
   "pygments_lexer": "ipython3",
   "version": "3.8.19"
  }
 },
 "nbformat": 4,
 "nbformat_minor": 2
}
