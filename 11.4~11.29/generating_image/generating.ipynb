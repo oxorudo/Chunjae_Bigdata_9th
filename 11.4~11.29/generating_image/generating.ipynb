{
 "cells": [
  {
   "cell_type": "code",
   "execution_count": null,
   "metadata": {},
   "outputs": [],
   "source": [
    "from diffusers import StableDiffusionPipeline\n",
    "import torch\n",
    "\n",
    "# Load the pre-trained Stable Diffusion model\n",
    "model_id = \"CompVis/stable-diffusion-v-1-4\"\n",
    "pipe = StableDiffusionPipeline.from_pretrained(model_id)\n",
    "pipe.to(\"mps\" if torch.backends.mps.is_available() else (\"cuda\" if torch.cuda.is_available() else \"cpu\"))\n",
    "\n",
    "# Function to generate an image of a cute hippo character\n",
    "def generate_cute_hippo(prompt=\"cute cartoon hippo, playful, colorful, child-friendly, digital art\"):\n",
    "    # Generate the image\n",
    "    image = pipe(prompt).images[0]\n",
    "    \n",
    "    # Save the image to a file\n",
    "    image.save(\"cute_hippo_character.png\")\n",
    "    print(\"Image generated and saved as 'cute_hippo_character.png'\")\n",
    "\n",
    "# Run the function to generate the hippo character\n",
    "generate_cute_hippo()\n"
   ]
  }
 ],
 "metadata": {
  "language_info": {
   "name": "python"
  },
  "orig_nbformat": 4
 },
 "nbformat": 4,
 "nbformat_minor": 2
}
