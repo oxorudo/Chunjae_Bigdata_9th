{
 "cells": [
  {
   "cell_type": "code",
   "execution_count": 27,
   "metadata": {},
   "outputs": [
    {
     "name": "stdout",
     "output_type": "stream",
     "text": [
      "ktk\n"
     ]
    }
   ],
   "source": [
    "# 함수의 구조\n",
    "# def라는 키워드 (define)\n",
    "\n",
    "# def 함수이름(매개변수1, 매개변수2, .....):\n",
    "\n",
    "\n",
    "# 함수를 정의\n",
    "def add(x, y):\n",
    "    # 숫자 2개를 입력받아 더한 값을 반환(return)\n",
    "    return x + y\n",
    "\n",
    "\n",
    "# 함수를 호출(실행)\n",
    "number = add(\"k\", \"tk\")\n",
    "\n",
    "print(number)"
   ]
  },
  {
   "cell_type": "code",
   "execution_count": 28,
   "metadata": {},
   "outputs": [
    {
     "name": "stdout",
     "output_type": "stream",
     "text": [
      "8\n",
      "99\n",
      "1\n",
      "127\n",
      "1\n"
     ]
    }
   ],
   "source": [
    "# 내장 함수\n",
    "# len()\n",
    "numbers = [1, 2, 3, 4, 5, 6, 7, 99]\n",
    "print(len(numbers))  # 길이\n",
    "\n",
    "print(max(numbers))  # 최대\n",
    "print(min(numbers))  # 최소\n",
    "\n",
    "print(sum(numbers))  # 시퀀스 자료형의 합\n",
    "\n",
    "print(abs(-1))  # 절댓값"
   ]
  },
  {
   "cell_type": "code",
   "execution_count": 30,
   "metadata": {},
   "outputs": [
    {
     "name": "stdout",
     "output_type": "stream",
     "text": [
      "[9, 5, 6, 8, 4, 3, 7, 2, 1]\n",
      "[1, 2, 3, 4, 5, 6, 7, 8, 9]\n",
      "[9, 8, 7, 6, 5, 4, 3, 2, 1]\n",
      "['e', 'h', 'l', 'l', 'o']\n"
     ]
    }
   ],
   "source": [
    "numbers = [9, 5, 6, 8, 4, 3, 7, 2, 1]\n",
    "sorted_numbers = sorted(numbers)\n",
    "print(numbers)\n",
    "print(sorted_numbers)\n",
    "\n",
    "sorted_numbers2 = sorted(numbers, reverse=True)\n",
    "print(sorted_numbers2)\n",
    "\n",
    "string = \"hello\"\n",
    "sorted_string = sorted(string)  # 문자열의 정렬 => 반환값이 리스트\n",
    "print(sorted_string)"
   ]
  },
  {
   "cell_type": "code",
   "execution_count": 34,
   "metadata": {},
   "outputs": [
    {
     "name": "stdout",
     "output_type": "stream",
     "text": [
      "['e', 'h', 'l', 'l', 'o']\n",
      "ehllo\n"
     ]
    }
   ],
   "source": [
    "string = \"hello\"\n",
    "sorted_string = sorted(string)\n",
    "print(sorted_string)\n",
    "\n",
    "# 문자가 저장된 리스트 -> 문자열\n",
    "new_string = \"\"\n",
    "for char in sorted_string:\n",
    "    new_string = new_string + char\n",
    "\n",
    "print(new_string)"
   ]
  },
  {
   "cell_type": "code",
   "execution_count": 37,
   "metadata": {},
   "outputs": [
    {
     "name": "stdout",
     "output_type": "stream",
     "text": [
      "<list_reverseiterator object at 0x00000287AF27AA10>\n",
      "4\n",
      "3\n",
      "2\n",
      "1\n",
      "[4, 3, 2, 1]\n"
     ]
    }
   ],
   "source": [
    "numbers = [1, 2, 3, 4]\n",
    "\n",
    "print(reversed(numbers))\n",
    "\n",
    "for number in reversed(numbers):\n",
    "    print(number)\n",
    "\n",
    "reversed_numbers = list(reversed(numbers))  # 결과를 리스트로 다시 만듦\n",
    "print(reversed_numbers)"
   ]
  },
  {
   "cell_type": "markdown",
   "metadata": {},
   "source": [
    "### (2) 메서드(Method)\n",
    "\n",
    "- 함수와 메서드는 둘 다 특정 기능을 수행하는 코드의 뭉치입니다.\n",
    "- 함수는 자료형 구분 없이 동작합니다.\n",
    "    - 다만, 함수에 따라 허용하지 않는 자료형은 오류를 발생시킵니다.\n",
    "- 메서드는 `특정 자료형(객체)만의 기능`을 의미합니다.\n",
    "    - 리스트는 append(), pop() 등이 있습니다.\n",
    "    - 딕셔너리는 items(), keys() 등이 있습니다."
   ]
  },
  {
   "cell_type": "code",
   "execution_count": null,
   "metadata": {},
   "outputs": [],
   "source": [
    "numbers = [21, 2, 6, 1, 23]\n",
    "sorted_numbers = sorted(numbers)  # 정렬을 한 리스트를 반환\n",
    "print(sorted_numbers)\n",
    "\n",
    "\n",
    "sorted_numbers2 = numbers.sort()  # 원본 리스트 자체를 정렬, 반환값 x\n",
    "print(sorted_numbers2)\n",
    "\n",
    "# 함수 / 메서드\n",
    "# 함수는 자료형(객체) 구분이 x / 메서드는 구분이 있다.\n",
    "# 함수는 반환값이 (보통은) 있다. / 메서드는 반환값이 없다."
   ]
  }
 ],
 "metadata": {
  "kernelspec": {
   "display_name": "base",
   "language": "python",
   "name": "python3"
  },
  "language_info": {
   "codemirror_mode": {
    "name": "ipython",
    "version": 3
   },
   "file_extension": ".py",
   "mimetype": "text/x-python",
   "name": "python",
   "nbconvert_exporter": "python",
   "pygments_lexer": "ipython3",
   "version": "3.12.4"
  }
 },
 "nbformat": 4,
 "nbformat_minor": 2
}
