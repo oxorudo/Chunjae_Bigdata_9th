{
 "cells": [
  {
   "cell_type": "code",
   "execution_count": 2,
   "metadata": {},
   "outputs": [
    {
     "name": "stdout",
     "output_type": "stream",
     "text": [
      "3.5\n",
      "-1.5\n",
      "2.5\n",
      "0.4\n"
     ]
    }
   ],
   "source": [
    "#사칙연산\n",
    "number1 = 1 # 정수형\n",
    "number2 = 2.5 # 실수형 => 자동으로 결과가 실수형으로 변환됨(원래는 정수형)\n",
    "print(number1+number2)\n",
    "print(number1-number2)\n",
    "print(number1*number2)\n",
    "print(number1/number2) # 나누기\n"
   ]
  },
  {
   "cell_type": "code",
   "execution_count": 3,
   "metadata": {},
   "outputs": [
    {
     "name": "stdout",
     "output_type": "stream",
     "text": [
      "2\n",
      "1\n",
      "25\n"
     ]
    }
   ],
   "source": [
    "#몫, 나머지, 제곱\n",
    "number3 = 5\n",
    "number4 = 2\n",
    "\n",
    "print(number3 // number4) # 왼쪽의 값을 오른쪽의 값만큼 나눈 몫 //\n",
    "print(number3 % number4) # 왼쪽의 값을 오른쪽의 값만큼 나눈 나머지 %\n",
    "print(number3 ** number4) # 왼쪽의 값을 오른쪽의 값만큼 제곱 **"
   ]
  },
  {
   "cell_type": "code",
   "execution_count": 4,
   "metadata": {},
   "outputs": [
    {
     "ename": "ZeroDivisionError",
     "evalue": "division by zero",
     "output_type": "error",
     "traceback": [
      "\u001b[1;31m---------------------------------------------------------------------------\u001b[0m",
      "\u001b[1;31mZeroDivisionError\u001b[0m                         Traceback (most recent call last)",
      "Cell \u001b[1;32mIn[4], line 1\u001b[0m\n\u001b[1;32m----> 1\u001b[0m \u001b[38;5;28mprint\u001b[39m(\u001b[38;5;241m12\u001b[39m \u001b[38;5;241m/\u001b[39m \u001b[38;5;241m0\u001b[39m)\n",
      "\u001b[1;31mZeroDivisionError\u001b[0m: division by zero"
     ]
    }
   ],
   "source": [
    "print(12 / 0) #ZeroDivisionError 발생(0으로는 나눌 수 없음)"
   ]
  },
  {
   "cell_type": "code",
   "execution_count": 5,
   "metadata": {},
   "outputs": [
    {
     "name": "stdout",
     "output_type": "stream",
     "text": [
      "0.0\n"
     ]
    }
   ],
   "source": [
    "# 복합 대입 연산자(축약)\n",
    "# 산술 연산을 함과 동시에 대입을 한다.\n",
    "number1 = 1\n",
    "number2 = 2\n",
    "\n",
    "# 더하기에 대한 복합연산자\n",
    "# number1 = number1 + number2\n",
    "number1 += number2\n",
    "\n",
    "# 빼기에 대한 복합연산자\n",
    "number1 -= number2\n",
    "# number1 =- number2 : 복합연산자 x\n",
    "\n",
    "# 곱하기에 대한 복합연산자\n",
    "number1 *= number2\n",
    "\n",
    "# 나누기에 대한 복합연산자\n",
    "number1 /= number2\n",
    "\n",
    "# 몫에 대한 복합연산자\n",
    "number1 //= number2\n",
    "\n",
    "# 나머지에 대한 복합연산자\n",
    "number1 %= number2\n",
    "\n",
    "# 제곱에 대한 복합연산자\n",
    "number1 **= number2\n",
    "\n",
    "print(number1)\n"
   ]
  },
  {
   "cell_type": "code",
   "execution_count": 6,
   "metadata": {},
   "outputs": [
    {
     "name": "stdout",
     "output_type": "stream",
     "text": [
      "0\n",
      "12\n"
     ]
    }
   ],
   "source": [
    "a = 5\n",
    "b = 3\n",
    "\n",
    "a *= b - 3 # a = a * (b - 3) : 다른 연산식이 먼저 계산된 후 복합연산자를 계산\n",
    "print(a)\n",
    "\n",
    "a,b = 5,3\n",
    "a = a * b - 3\n",
    "print(a)"
   ]
  },
  {
   "cell_type": "code",
   "execution_count": 7,
   "metadata": {},
   "outputs": [
    {
     "name": "stdout",
     "output_type": "stream",
     "text": [
      "True\n",
      "True\n"
     ]
    }
   ],
   "source": [
    "number1 = 2\n",
    "number2 = 3\n",
    "\n",
    "print(number1 < number2) # number1은 number2보다 작은가?\n",
    "print(number1 <= number2) # number1은 number2보다 작거나 같은가?\n",
    "\n",
    "# 비교 연산자의 결과는 boolean형으로 참(True) / 거짓(False)으로 평가됩니다."
   ]
  },
  {
   "cell_type": "code",
   "execution_count": 9,
   "metadata": {},
   "outputs": [
    {
     "name": "stdout",
     "output_type": "stream",
     "text": [
      "False\n",
      "True\n"
     ]
    }
   ],
   "source": [
    "number3 = 2 # 정수형\n",
    "number4 = \"2\" # 문자열\n",
    "\n",
    "print(number3 == number4) # number3은 number4는 같은가?\n",
    "\n",
    "number5 = 2 # 정수형\n",
    "number6 = 2.0 # 실수형\n",
    "print(number5 == number6) # 평가를 진행할 때는 둘이 같다고 본다. (평가를 하면서 정수형이 실수형으로 변환됨)"
   ]
  },
  {
   "cell_type": "code",
   "execution_count": 10,
   "metadata": {},
   "outputs": [
    {
     "name": "stdout",
     "output_type": "stream",
     "text": [
      "True\n",
      "False\n",
      "False\n",
      "False\n"
     ]
    }
   ],
   "source": [
    "# 논리연산자\n",
    "# 하나 혹은 두개의 참 / 거짓을 가지고 새로운 하나의 참 / 거짓을 만든다.\n",
    "\n",
    "# and 연산자\n",
    "# 값1 and 값2\n",
    "# 값1과 값2가 모두 참(True)이면 새로운 하나의 참을 만들어 준다.\n",
    "# 둘 중에 하나라도 거짓(False)이면 새로운 하나의 거짓을 생성한다.\n",
    "\n",
    "print(True and True) # 하나의 참(True) 생성\n",
    "# 나머지(하나라도 거짓인 경우)는 하나의 거짓(False) 생성\n",
    "print(True and False)\n",
    "print(False and True)\n",
    "print(False and False)\n",
    "\n"
   ]
  },
  {
   "cell_type": "code",
   "execution_count": 12,
   "metadata": {},
   "outputs": [
    {
     "name": "stdout",
     "output_type": "stream",
     "text": [
      "True\n",
      "True\n",
      "True\n",
      "False\n"
     ]
    }
   ],
   "source": [
    "# or 연산자\n",
    "# 값1 or 값2\n",
    "# 둘 중의 하나라도 참(True)이면 새로운 하나의 참(True)를 생성\n",
    "# 둘 다 거짓(False)이면 새로운 하나의 거짓(False)을 생성\n",
    "\n",
    "print(True or True)\n",
    "print(True or False)\n",
    "print(False or True) # 하나라도 참인 경우에는 참(True) 생성\n",
    "print(False or False) # 둘 다 거짓이면 거짓(False) 생성"
   ]
  },
  {
   "cell_type": "code",
   "execution_count": 13,
   "metadata": {},
   "outputs": [
    {
     "name": "stdout",
     "output_type": "stream",
     "text": [
      "False\n",
      "True\n"
     ]
    }
   ],
   "source": [
    "# not 연산자\n",
    "# not 값\n",
    "# 참(True) <-> 거짓(False) 결과를 반대로 한다.\n",
    "\n",
    "print(not True)\n",
    "print(not False)"
   ]
  },
  {
   "cell_type": "code",
   "execution_count": 14,
   "metadata": {},
   "outputs": [
    {
     "name": "stdout",
     "output_type": "stream",
     "text": [
      "False\n",
      "True\n",
      "False\n",
      "True\n",
      "False\n",
      "True\n"
     ]
    }
   ],
   "source": [
    "# 숫자형, 문자열\n",
    "\n",
    "print(not 1) # 참 -> 거짓\n",
    "print(not 0) # 거짓 -> 참\n",
    "print(not 1.0) # 참 -> 거짓\n",
    "print(not 0.0) # 거짓 -> 참\n",
    "print(not \"True\") # 참 -> 거짓\n",
    "print(not \"\") # 거짓 -> 참"
   ]
  },
  {
   "cell_type": "code",
   "execution_count": 15,
   "metadata": {},
   "outputs": [
    {
     "name": "stdout",
     "output_type": "stream",
     "text": [
      "False\n"
     ]
    }
   ],
   "source": [
    "# 비교 연산자와 논리 연산자의 우선순위 : 비교 연산자를 먼저 실행하고 그 후에 논리 연산자를 실행한다.\n",
    "number1 = 1\n",
    "number2 = 2\n",
    "\n",
    "print(number1 == number2 and number1 != number2) # 거짓 and 참 => 거짓"
   ]
  },
  {
   "cell_type": "code",
   "execution_count": null,
   "metadata": {},
   "outputs": [],
   "source": [
    "number1 = 1\n",
    "number2 = 2\n",
    "\n",
    "print(number1 > number2 or number1 < number2) # 거짓 or 참 => 참"
   ]
  },
  {
   "cell_type": "code",
   "execution_count": 16,
   "metadata": {},
   "outputs": [
    {
     "name": "stdout",
     "output_type": "stream",
     "text": [
      "False\n"
     ]
    }
   ],
   "source": [
    "print(not 1 != 2) # 참 => 거짓"
   ]
  }
 ],
 "metadata": {
  "kernelspec": {
   "display_name": "base",
   "language": "python",
   "name": "python3"
  },
  "language_info": {
   "codemirror_mode": {
    "name": "ipython",
    "version": 3
   },
   "file_extension": ".py",
   "mimetype": "text/x-python",
   "name": "python",
   "nbconvert_exporter": "python",
   "pygments_lexer": "ipython3",
   "version": "3.12.4"
  }
 },
 "nbformat": 4,
 "nbformat_minor": 2
}
