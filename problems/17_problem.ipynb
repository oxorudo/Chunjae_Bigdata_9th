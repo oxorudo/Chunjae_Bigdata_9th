{
 "cells": [
  {
   "cell_type": "code",
   "execution_count": 26,
   "metadata": {},
   "outputs": [],
   "source": [
    "import pandas as pd\n",
    "\n",
    "data = {\n",
    "    \"고객ID\": [\"C001\", \"C002\", \"C003\", \"C004\", \"C005\"],\n",
    "    \"이름\": [\n",
    "        \"  김철수  \",\n",
    "        \"  이영희  \",\n",
    "        \"  박민수  \",\n",
    "        \"  최지우  \",\n",
    "        \"  홍길동  \",\n",
    "    ],\n",
    "    \"성별\": [\n",
    "        \"남자\",\n",
    "        \"여자\",\n",
    "        \"남\",\n",
    "        \"여\",\n",
    "        \"남자\",\n",
    "    ],\n",
    "    \"이메일\": [\n",
    "        \"KIMCS@EXAMPLE.COM\",\n",
    "        \"LEEYH@EXAMPLE.NET\",\n",
    "        \"PARKMS@SAMPLE.COM\",\n",
    "        \"CHOIJW@SAMPLE.NET\",\n",
    "        \"HONGGD@EXAMPLE.COM\",\n",
    "    ],\n",
    "    \"주소\": [\n",
    "        \"서울시 강남구\",\n",
    "        \"부산시 해운대구\",\n",
    "        \"대구시 수성구\",\n",
    "        \"서울시 마포구\",\n",
    "        \"인천시 연수구\",\n",
    "    ],\n",
    "    \"전화번호\": [\n",
    "        \"010.1234.5678\",\n",
    "        \"010.2345.6789\",\n",
    "        \"010.3456.7890\",\n",
    "        \"010.4567.8901\",\n",
    "        \"010.5678.9012\",\n",
    "    ],\n",
    "}\n",
    "\n",
    "df = pd.DataFrame(data)"
   ]
  },
  {
   "cell_type": "markdown",
   "metadata": {},
   "source": [
    "### (2) 문자열 처리\n",
    "\n",
    "1. 데이터프레임 출력\n",
    "    - 앞 5행을 출력하세요.\n",
    "    \n",
    "    ```bash\n",
    "       고객ID       이름  성별                 이메일        주소           전화번호\n",
    "    0  C001    김철수    남자   KIMCS@EXAMPLE.COM   서울시 강남구  010.1234.5678\n",
    "    1  C002    이영희    여자   LEEYH@EXAMPLE.NET  부산시 해운대구  010.2345.6789\n",
    "    2  C003    박민수     남   PARKMS@SAMPLE.COM   대구시 수성구  010.3456.7890\n",
    "    3  C004    최지우     여   CHOIJW@SAMPLE.NET   서울시 마포구  010.4567.8901\n",
    "    4  C005    홍길동    남자  HONGGD@EXAMPLE.COM   인천시 연수구  010.5678.9012\n",
    "    ```"
   ]
  },
  {
   "cell_type": "code",
   "execution_count": 27,
   "metadata": {},
   "outputs": [
    {
     "name": "stdout",
     "output_type": "stream",
     "text": [
      "   고객ID       이름  성별                 이메일        주소           전화번호\n",
      "0  C001    김철수    남자   KIMCS@EXAMPLE.COM   서울시 강남구  010.1234.5678\n",
      "1  C002    이영희    여자   LEEYH@EXAMPLE.NET  부산시 해운대구  010.2345.6789\n",
      "2  C003    박민수     남   PARKMS@SAMPLE.COM   대구시 수성구  010.3456.7890\n",
      "3  C004    최지우     여   CHOIJW@SAMPLE.NET   서울시 마포구  010.4567.8901\n",
      "4  C005    홍길동    남자  HONGGD@EXAMPLE.COM   인천시 연수구  010.5678.9012\n"
     ]
    }
   ],
   "source": [
    "print(df.head())"
   ]
  },
  {
   "cell_type": "markdown",
   "metadata": {},
   "source": [
    "2. 성별  통일\n",
    "    - `성별` 데이터에서 남자는 `남` 으로 여자는 `여` 로 수정하고, 출력하세요.\n",
    "    \n",
    "    ```bash\n",
    "    0    남\n",
    "    1    여\n",
    "    2    남\n",
    "    3    여\n",
    "    4    남\n",
    "    Name: 성별, dtype: object\n",
    "    ```"
   ]
  },
  {
   "cell_type": "code",
   "execution_count": 28,
   "metadata": {},
   "outputs": [
    {
     "name": "stdout",
     "output_type": "stream",
     "text": [
      "   고객ID       이름 성별                 이메일        주소           전화번호\n",
      "0  C001    김철수    남   KIMCS@EXAMPLE.COM   서울시 강남구  010.1234.5678\n",
      "1  C002    이영희    여   LEEYH@EXAMPLE.NET  부산시 해운대구  010.2345.6789\n",
      "2  C003    박민수    남   PARKMS@SAMPLE.COM   대구시 수성구  010.3456.7890\n",
      "3  C004    최지우    여   CHOIJW@SAMPLE.NET   서울시 마포구  010.4567.8901\n",
      "4  C005    홍길동    남  HONGGD@EXAMPLE.COM   인천시 연수구  010.5678.9012\n"
     ]
    }
   ],
   "source": [
    "# df.replace({\"남자\": \"남\", \"여자\": \"여\"}, inplace=True)\n",
    "\n",
    "df['성별'] = df['성별'].str.replace(\"남자\", \"남\")\n",
    "df['성별'] = df['성별'].str.replace('여자', '여')\n",
    "print(df)"
   ]
  },
  {
   "cell_type": "markdown",
   "metadata": {},
   "source": [
    "1. 소문자 변환\n",
    "    - 이메일을 소문자로 변환하고, 출력하세요.\n",
    "    \n",
    "    ```bash\n",
    "    0     kimcs@example.com\n",
    "    1     leeyh@example.net\n",
    "    2     parkms@sample.com\n",
    "    3     choijw@sample.net\n",
    "    4    honggd@example.com\n",
    "    Name: 이메일, dtype: object\n",
    "    ```"
   ]
  },
  {
   "cell_type": "code",
   "execution_count": 29,
   "metadata": {},
   "outputs": [
    {
     "name": "stdout",
     "output_type": "stream",
     "text": [
      "   고객ID       이름 성별                 이메일        주소           전화번호\n",
      "0  C001    김철수    남   kimcs@example.com   서울시 강남구  010.1234.5678\n",
      "1  C002    이영희    여   leeyh@example.net  부산시 해운대구  010.2345.6789\n",
      "2  C003    박민수    남   parkms@sample.com   대구시 수성구  010.3456.7890\n",
      "3  C004    최지우    여   choijw@sample.net   서울시 마포구  010.4567.8901\n",
      "4  C005    홍길동    남  honggd@example.com   인천시 연수구  010.5678.9012\n"
     ]
    }
   ],
   "source": [
    "df[\"이메일\"] = df[\"이메일\"].str.lower()\n",
    "\n",
    "print(df)"
   ]
  },
  {
   "cell_type": "markdown",
   "metadata": {},
   "source": [
    "1. 도메인 변경\n",
    "    - `이메일` 데이터에서 `example.net` 을 `naver.com` 으로 수정하고, 출력하세요.\n",
    "    \n",
    "    ```bash\n",
    "    0     kimcs@example.com\n",
    "    1       leeyh@naver.com\n",
    "    2     parkms@sample.com\n",
    "    3     choijw@sample.net\n",
    "    4    honggd@example.com\n",
    "    Name: 이메일, dtype: object\n",
    "    ```"
   ]
  },
  {
   "cell_type": "code",
   "execution_count": 30,
   "metadata": {},
   "outputs": [
    {
     "name": "stdout",
     "output_type": "stream",
     "text": [
      "   고객ID       이름 성별                 이메일        주소           전화번호\n",
      "0  C001    김철수    남   kimcs@example.com   서울시 강남구  010.1234.5678\n",
      "1  C002    이영희    여     leeyh@naver.com  부산시 해운대구  010.2345.6789\n",
      "2  C003    박민수    남   parkms@sample.com   대구시 수성구  010.3456.7890\n",
      "3  C004    최지우    여   choijw@sample.net   서울시 마포구  010.4567.8901\n",
      "4  C005    홍길동    남  honggd@example.com   인천시 연수구  010.5678.9012\n"
     ]
    }
   ],
   "source": [
    "df[\"이메일\"] = df[\"이메일\"].str.replace(\"example.net\", \"naver.com\")\n",
    "\n",
    "print(df)"
   ]
  },
  {
   "cell_type": "markdown",
   "metadata": {},
   "source": [
    "1. 이메일 나누기\n",
    "    - `이메일` 을 `@` 기준으로 나누고, 출력하세요.\n",
    "    \n",
    "    ```bash\n",
    "    0     [kimcs, example.com]\n",
    "    1       [leeyh, naver.com]\n",
    "    2     [parkms, sample.com]\n",
    "    3     [choijw, sample.net]\n",
    "    4    [honggd, example.com]\n",
    "    Name: 이메일, dtype: object\n",
    "    ```"
   ]
  },
  {
   "cell_type": "code",
   "execution_count": 31,
   "metadata": {},
   "outputs": [
    {
     "name": "stdout",
     "output_type": "stream",
     "text": [
      "   고객ID       이름 성별                    이메일        주소           전화번호\n",
      "0  C001    김철수    남   [kimcs, example.com]   서울시 강남구  010.1234.5678\n",
      "1  C002    이영희    여     [leeyh, naver.com]  부산시 해운대구  010.2345.6789\n",
      "2  C003    박민수    남   [parkms, sample.com]   대구시 수성구  010.3456.7890\n",
      "3  C004    최지우    여   [choijw, sample.net]   서울시 마포구  010.4567.8901\n",
      "4  C005    홍길동    남  [honggd, example.com]   인천시 연수구  010.5678.9012\n"
     ]
    }
   ],
   "source": [
    "df[\"이메일\"] = df[\"이메일\"].str.split(\"@\")\n",
    "\n",
    "print(df)"
   ]
  },
  {
   "cell_type": "markdown",
   "metadata": {},
   "source": [
    "1. 시 이름 추출\n",
    "    1. 주소에서 시 이름과 구 이름을 공백을 기준으로 나누세요.\n",
    "    2. 시이름만 추출해서 새로운 열 `시이름` 을 만들고 해당 데이터를 저장하고 출력하세요,\n",
    "    \n",
    "    ```bash\n",
    "    0    서울시\n",
    "    1    부산시\n",
    "    2    대구시\n",
    "    3    서울시\n",
    "    4    인천시\n",
    "    Name: 시이름, dtype: object\n",
    "    ```"
   ]
  },
  {
   "cell_type": "code",
   "execution_count": 32,
   "metadata": {},
   "outputs": [
    {
     "name": "stdout",
     "output_type": "stream",
     "text": [
      "   고객ID       이름 성별                    이메일        주소           전화번호  시이름\n",
      "0  C001    김철수    남   [kimcs, example.com]   서울시 강남구  010.1234.5678  서울시\n",
      "1  C002    이영희    여     [leeyh, naver.com]  부산시 해운대구  010.2345.6789  부산시\n",
      "2  C003    박민수    남   [parkms, sample.com]   대구시 수성구  010.3456.7890  대구시\n",
      "3  C004    최지우    여   [choijw, sample.net]   서울시 마포구  010.4567.8901  서울시\n",
      "4  C005    홍길동    남  [honggd, example.com]   인천시 연수구  010.5678.9012  인천시\n"
     ]
    }
   ],
   "source": [
    "df[\"시이름\"] = df[\"주소\"].str.split(\" \", expand=True)[0]\n",
    "\n",
    "print(df)"
   ]
  },
  {
   "cell_type": "markdown",
   "metadata": {},
   "source": [
    "1.  공백 제거\n",
    "    - `이름`  데이터의 앞뒤 공백을 제거하고, 출력하세요.\n",
    "    \n",
    "    ```bash\n",
    "    0    김철수\n",
    "    1    이영희\n",
    "    2    박민수\n",
    "    3    최지우\n",
    "    4    홍길동\n",
    "    Name: 이름, dtype: object\n",
    "    ```"
   ]
  },
  {
   "cell_type": "code",
   "execution_count": 33,
   "metadata": {},
   "outputs": [
    {
     "name": "stdout",
     "output_type": "stream",
     "text": [
      "   고객ID   이름 성별                    이메일        주소           전화번호  시이름\n",
      "0  C001  김철수  남   [kimcs, example.com]   서울시 강남구  010.1234.5678  서울시\n",
      "1  C002  이영희  여     [leeyh, naver.com]  부산시 해운대구  010.2345.6789  부산시\n",
      "2  C003  박민수  남   [parkms, sample.com]   대구시 수성구  010.3456.7890  대구시\n",
      "3  C004  최지우  여   [choijw, sample.net]   서울시 마포구  010.4567.8901  서울시\n",
      "4  C005  홍길동  남  [honggd, example.com]   인천시 연수구  010.5678.9012  인천시\n"
     ]
    }
   ],
   "source": [
    "df['이름'] = df['이름'].str.strip()\n",
    "\n",
    "print(df)"
   ]
  },
  {
   "cell_type": "markdown",
   "metadata": {},
   "source": [
    "1. 전화번호 형식 변경\n",
    "    - `전화번호` 데이터에서 `.` 을 `-` 로 바꾸고, 출력하세요.\n",
    "    \n",
    "    ```bash\n",
    "    0    010-1234-5678\n",
    "    1    010-2345-6789\n",
    "    2    010-3456-7890\n",
    "    3    010-4567-8901\n",
    "    4    010-5678-9012\n",
    "    Name: 전화번호, dtype: object\n",
    "    ```"
   ]
  },
  {
   "cell_type": "code",
   "execution_count": 34,
   "metadata": {},
   "outputs": [
    {
     "name": "stdout",
     "output_type": "stream",
     "text": [
      "   고객ID   이름 성별                    이메일        주소           전화번호  시이름\n",
      "0  C001  김철수  남   [kimcs, example.com]   서울시 강남구  010-1234-5678  서울시\n",
      "1  C002  이영희  여     [leeyh, naver.com]  부산시 해운대구  010-2345-6789  부산시\n",
      "2  C003  박민수  남   [parkms, sample.com]   대구시 수성구  010-3456-7890  대구시\n",
      "3  C004  최지우  여   [choijw, sample.net]   서울시 마포구  010-4567-8901  서울시\n",
      "4  C005  홍길동  남  [honggd, example.com]   인천시 연수구  010-5678-9012  인천시\n"
     ]
    }
   ],
   "source": [
    "df['전화번호'] = df['전화번호'].str.replace(\".\",\"-\")\n",
    "\n",
    "print(df)"
   ]
  },
  {
   "cell_type": "markdown",
   "metadata": {},
   "source": [
    "8. 김이 들어간 이름 찾기\n",
    "\n",
    "- 이름에 `김` 이 들어간 데이터만 출력하세요.\n",
    "\n",
    "```bash\n",
    "   고객ID   이름 성별                   이메일       주소           전화번호  시이름\n",
    "0  C001  김철수  남  [kimcs, example.com]  서울시 강남구  010-1234-5678  서울시\n",
    "```"
   ]
  },
  {
   "cell_type": "code",
   "execution_count": 35,
   "metadata": {},
   "outputs": [
    {
     "name": "stdout",
     "output_type": "stream",
     "text": [
      "   고객ID   이름 성별                   이메일       주소           전화번호  시이름\n",
      "0  C001  김철수  남  [kimcs, example.com]  서울시 강남구  010-1234-5678  서울시\n"
     ]
    }
   ],
   "source": [
    "print(df.loc[df['이름'].str.contains(\"김\")])\n",
    "\n",
    "# contains()은 불린값을 반환하므로 데이터 필터링에 사용할 수 있다."
   ]
  },
  {
   "cell_type": "markdown",
   "metadata": {},
   "source": [
    "1. 데이터프레임 출력\n",
    "    - 모든 데이터를 출력하세요.\n",
    "    \n",
    "    ```bash\n",
    "       고객ID   이름 성별                    이메일        주소           전화번호  시이름\n",
    "    0  C001  김철수  남   [kimcs, example.com]   서울시 강남구  010-1234-5678  서울시\n",
    "    1  C002  이영희  여     [leeyh, naver.com]  부산시 해운대구  010-2345-6789  부산시\n",
    "    2  C003  박민수  남   [parkms, sample.com]   대구시 수성구  010-3456-7890  대구시\n",
    "    3  C004  최지우  여   [choijw, sample.net]   서울시 마포구  010-4567-8901  서울시\n",
    "    4  C005  홍길동  남  [honggd, example.com]   인천시 연수구  010-5678-9012  인천시\n",
    "    ```"
   ]
  },
  {
   "cell_type": "code",
   "execution_count": 36,
   "metadata": {},
   "outputs": [
    {
     "name": "stdout",
     "output_type": "stream",
     "text": [
      "   고객ID   이름 성별                    이메일        주소           전화번호  시이름\n",
      "0  C001  김철수  남   [kimcs, example.com]   서울시 강남구  010-1234-5678  서울시\n",
      "1  C002  이영희  여     [leeyh, naver.com]  부산시 해운대구  010-2345-6789  부산시\n",
      "2  C003  박민수  남   [parkms, sample.com]   대구시 수성구  010-3456-7890  대구시\n",
      "3  C004  최지우  여   [choijw, sample.net]   서울시 마포구  010-4567-8901  서울시\n",
      "4  C005  홍길동  남  [honggd, example.com]   인천시 연수구  010-5678-9012  인천시\n"
     ]
    }
   ],
   "source": [
    "print(df)"
   ]
  }
 ],
 "metadata": {
  "kernelspec": {
   "display_name": "base",
   "language": "python",
   "name": "python3"
  },
  "language_info": {
   "codemirror_mode": {
    "name": "ipython",
    "version": 3
   },
   "file_extension": ".py",
   "mimetype": "text/x-python",
   "name": "python",
   "nbconvert_exporter": "python",
   "pygments_lexer": "ipython3",
   "version": "3.12.4"
  }
 },
 "nbformat": 4,
 "nbformat_minor": 2
}
