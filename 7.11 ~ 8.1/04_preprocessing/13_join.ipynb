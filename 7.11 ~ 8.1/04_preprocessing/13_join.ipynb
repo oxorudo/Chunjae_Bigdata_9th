{
 "cells": [
  {
   "cell_type": "code",
   "execution_count": 7,
   "metadata": {},
   "outputs": [],
   "source": [
    "import pandas as pd\n",
    "\n",
    "df_left = pd.DataFrame(\n",
    "    {\n",
    "        \"Key\": [\"K0\", \"K1\", \"K2\", \"K3\"],\n",
    "        \"A\": [\"A0\", \"A1\", \"A2\", \"A3\"],\n",
    "        \"B\": [\"B0\", \"B1\", \"B2\", \"B3\"],\n",
    "    }\n",
    ")\n",
    "\n",
    "df_right = pd.DataFrame(\n",
    "    {\n",
    "        \"Key\": [\"K0\", \"K1\", \"K2\", \"K4\"],\n",
    "        \"C\": [\"C0\", \"C1\", \"C2\", \"C3\"],\n",
    "        \"D\": [\"D0\", \"D1\", \"D2\", \"D3\"],\n",
    "    }\n",
    ")"
   ]
  },
  {
   "cell_type": "code",
   "execution_count": 8,
   "metadata": {},
   "outputs": [
    {
     "name": "stdout",
     "output_type": "stream",
     "text": [
      "  Key   A   B   C   D\n",
      "0  K0  A0  B0  C0  D0\n",
      "1  K1  A1  B1  C1  D1\n",
      "2  K2  A2  B2  C2  D2\n"
     ]
    }
   ],
   "source": [
    "# 내부 조인(inner join)\n",
    "\n",
    "# 왼쪽, 오른쪽 공통으로 있는 키 값인 K0, K1, K2에 해당하는 행만 결합\n",
    "inner_df = pd.merge(df_left, df_right, how=\"inner\", on=\"Key\")\n",
    "print(inner_df)"
   ]
  },
  {
   "cell_type": "code",
   "execution_count": 9,
   "metadata": {},
   "outputs": [
    {
     "name": "stdout",
     "output_type": "stream",
     "text": [
      "  Key   A   B    C    D\n",
      "0  K0  A0  B0   C0   D0\n",
      "1  K1  A1  B1   C1   D1\n",
      "2  K2  A2  B2   C2   D2\n",
      "3  K3  A3  B3  NaN  NaN\n"
     ]
    }
   ],
   "source": [
    "# left join\n",
    "# how= \"left\", on= \"Key\"인 코드를 작성해 보기\n",
    "left_df = pd.merge(df_left, df_right, how = \"left\", on = \"Key\")\n",
    "print(left_df)"
   ]
  },
  {
   "cell_type": "code",
   "execution_count": 10,
   "metadata": {},
   "outputs": [
    {
     "name": "stdout",
     "output_type": "stream",
     "text": [
      "  Key    A    B   C   D\n",
      "0  K0   A0   B0  C0  D0\n",
      "1  K1   A1   B1  C1  D1\n",
      "2  K2   A2   B2  C2  D2\n",
      "3  K4  NaN  NaN  C3  D3\n"
     ]
    }
   ],
   "source": [
    "# right join\n",
    "# how = \"right\", on = \"Key\"\n",
    "\n",
    "right_df = pd.merge(df_left, df_right, how = \"right\", on = \"Key\")\n",
    "\n",
    "print(right_df)"
   ]
  },
  {
   "cell_type": "code",
   "execution_count": 11,
   "metadata": {},
   "outputs": [
    {
     "name": "stdout",
     "output_type": "stream",
     "text": [
      "  Key    A    B    C    D\n",
      "0  K0   A0   B0   C0   D0\n",
      "1  K1   A1   B1   C1   D1\n",
      "2  K2   A2   B2   C2   D2\n",
      "3  K3   A3   B3  NaN  NaN\n",
      "4  K4  NaN  NaN   C3   D3\n"
     ]
    }
   ],
   "source": [
    "# outer join\n",
    "outer_df = pd.merge(df_left, df_right, how = \"outer\", on = \"Key\")\n",
    "print(outer_df)"
   ]
  }
 ],
 "metadata": {
  "kernelspec": {
   "display_name": "base",
   "language": "python",
   "name": "python3"
  },
  "language_info": {
   "codemirror_mode": {
    "name": "ipython",
    "version": 3
   },
   "file_extension": ".py",
   "mimetype": "text/x-python",
   "name": "python",
   "nbconvert_exporter": "python",
   "pygments_lexer": "ipython3",
   "version": "3.12.4"
  }
 },
 "nbformat": 4,
 "nbformat_minor": 2
}
