{
 "cells": [
  {
   "cell_type": "markdown",
   "metadata": {},
   "source": [
    "1. 리스트 데이터 추가 및 출력\n",
    "    - 빈 리스트 `[]`를 생성하고, 변수 `inputs` 에 할당합니다.\n",
    "    - 사용자에게 3개의 입력을 받습니다.\n",
    "    - 3개의 입력을 변수 `inputs` 에 추가`append`하고, 출력하는 프로그램을 작성하세요.\n",
    "    - 예시\n",
    "    \n",
    "    ```bash\n",
    "    첫 번째 입력 : \n",
    "    두 번째 입력 : \n",
    "    세 번째 입력 : \n",
    "    리스트 출력 : \n",
    "    ```"
   ]
  },
  {
   "cell_type": "code",
   "execution_count": 1,
   "metadata": {},
   "outputs": [
    {
     "name": "stdout",
     "output_type": "stream",
     "text": [
      "['d', 'f', 'e']\n"
     ]
    }
   ],
   "source": [
    "inputs = []  # 빈 리스트를 변수 inputs에 할당\n",
    "\n",
    "# 사용자에게 3개의 입력을 받고, 바로 inputs에 append\n",
    "inputs.append(input())\n",
    "inputs.append(input())\n",
    "inputs.append(input())\n",
    "\n",
    "print(inputs)"
   ]
  },
  {
   "cell_type": "markdown",
   "metadata": {},
   "source": [
    "2. 리스트 인덱싱\n",
    "    - 숫자 1 부터 10 까지 저장된 리스트를 생성하고, 변수 `numbers` 에 할당합니다.\n",
    "    - 사용자에게 숫자 1개를 입력받습니다.\n",
    "    - 사용자에게 입력받은 숫자로 변수 `numbers` 를 인덱싱해서 출력하는 프로그램을 작성하세요.\n",
    "    - 예시\n",
    "    \n",
    "    ```bash\n",
    "    숫자를 입력하세요 : 0\n",
    "    출력 : 1\n",
    "    ```\n",
    "    \n",
    "    ```bash\n",
    "    숫자를 입력하세요 : 9\n",
    "    출력 : 10\n",
    "    ```"
   ]
  },
  {
   "cell_type": "code",
   "execution_count": 4,
   "metadata": {},
   "outputs": [
    {
     "name": "stdout",
     "output_type": "stream",
     "text": [
      "출력 : 1\n"
     ]
    }
   ],
   "source": [
    "numbers = [1, 2, 3, 4, 5, 6, 7, 8, 9, 10]\n",
    "\n",
    "input_1 = int(input(\"숫자를 입력하세요 : \"))\n",
    "print(f\"출력 : {numbers[input_1]}\")"
   ]
  },
  {
   "cell_type": "markdown",
   "metadata": {},
   "source": [
    "3. 리스트 합치기\n",
    "    - 숫자 1부터 5까지 저장된 리스트 `numbers1` 와 숫자 6부터 10까지 저장된 리스트 `numbers2` 를 생성합니다.\n",
    "    - 두 리스트를 합친 리스트 변수 `numbers` 를 생성하고, 해당 리스트를 출력하는 프로그램을 작성하세요.\n",
    "    - 예시\n",
    "    \n",
    "    ```bash\n",
    "    합친 리스트 : [1, 2, 3, 4, 5, 6, 7, 8, 9, 10]\n",
    "    ```"
   ]
  },
  {
   "cell_type": "code",
   "execution_count": 5,
   "metadata": {},
   "outputs": [
    {
     "name": "stdout",
     "output_type": "stream",
     "text": [
      "합친 리스트 : [1, 2, 3, 4, 5, 6, 7, 8, 9, 10]\n"
     ]
    }
   ],
   "source": [
    "numbers1 = [1, 2, 3, 4, 5]\n",
    "numbers2 = [6, 7, 8, 9, 10]\n",
    "\n",
    "numbers = numbers1 + numbers2\n",
    "\n",
    "print(f\"합친 리스트 : {numbers}\")"
   ]
  },
  {
   "cell_type": "markdown",
   "metadata": {},
   "source": [
    "4. 컨테이너 내부 값 확인하기\n",
    "    - 숫자 1부터 10까지 저장된 튜플을 생성하고, 변수 `numbers`에 할당합니다.\n",
    "    - 사용자에게 숫자 1개를 입력받습니다.\n",
    "    - 해당 숫자가 변수 `numbers` 에 존재하는지에 대해 불린형(True / False)으로 출력하는 프로그램을 작성하세요.\n",
    "    - 예시\n",
    "    \n",
    "    ```bash\n",
    "    숫자를 입력하세요 : 1\n",
    "    True\n",
    "    ```\n",
    "    \n",
    "    ```bash\n",
    "    숫자를 입력하세요 : 11\n",
    "    False\n",
    "    ```"
   ]
  },
  {
   "cell_type": "code",
   "execution_count": 8,
   "metadata": {},
   "outputs": [
    {
     "name": "stdout",
     "output_type": "stream",
     "text": [
      "False\n"
     ]
    }
   ],
   "source": [
    "numbers = tuple(range(1, 11))\n",
    "\n",
    "input_number = int(input(\"숫자를 입력하세요 : \"))\n",
    "is_in_number = input_number in numbers\n",
    "\n",
    "print(is_in_number)"
   ]
  }
 ],
 "metadata": {
  "kernelspec": {
   "display_name": "base",
   "language": "python",
   "name": "python3"
  },
  "language_info": {
   "codemirror_mode": {
    "name": "ipython",
    "version": 3
   },
   "file_extension": ".py",
   "mimetype": "text/x-python",
   "name": "python",
   "nbconvert_exporter": "python",
   "pygments_lexer": "ipython3",
   "version": "3.12.4"
  }
 },
 "nbformat": 4,
 "nbformat_minor": 2
}
