{
 "cells": [
  {
   "cell_type": "code",
   "execution_count": 20,
   "metadata": {},
   "outputs": [],
   "source": [
    "import pandas as pd\n",
    "import numpy as np\n",
    "\n",
    "# 랜덤 모듈 사용을 위한 시드 설정\n",
    "np.random.seed(0)\n",
    "\n",
    "# 학생 수와 데이터 수 설정\n",
    "num_students = 1000\n",
    "\n",
    "# 데이터프레임 생성\n",
    "df = pd.DataFrame(\n",
    "    {\n",
    "        \"학생ID\": np.arange(1, num_students + 1),\n",
    "        \"이름\": [f\"학생{i}\" for i in range(1, num_students + 1)],\n",
    "        \"나이\": np.random.randint(20, 30, size=num_students),\n",
    "        \"전공\": np.random.choice(\n",
    "            [\"컴퓨터공학\", \"물리학\", \"전자공학\", \"수학\", \"화학\", \"생물학\"],\n",
    "            size=num_students,\n",
    "        ),\n",
    "        \"학년\": np.random.randint(1, 5, size=num_students),\n",
    "        \"학점\": np.round(np.random.uniform(1.0, 4.5, size=num_students), 2),\n",
    "    }\n",
    ")\n",
    "# 결측치 10% 생성\n",
    "num_na_count = int(num_students * 0.1)\n",
    "\n",
    "na_inde_age = np.random.choice(df.index, num_na_count, replace=False)\n",
    "df.loc[na_inde_age, \"나이\"] = np.nan\n",
    "\n",
    "na_inde_major = np.random.choice(df.index, num_na_count, replace=False)\n",
    "df.loc[na_inde_major, \"전공\"] = np.nan\n",
    "\n",
    "na_inde_grade = np.random.choice(df.index, num_na_count, replace=False)\n",
    "df.loc[na_inde_grade, \"학년\"] = np.nan\n",
    "\n",
    "na_inde_gpa = np.random.choice(df.index, num_na_count, replace=False)\n",
    "df.loc[na_inde_gpa, \"학점\"] = np.nan"
   ]
  },
  {
   "cell_type": "markdown",
   "metadata": {},
   "source": [
    "1. 각 열의 결측치 수를 출력하세요.\n",
    "    \n",
    "    ```bash\n",
    "    학생ID      0\n",
    "    이름        0\n",
    "    나이      100\n",
    "    전공      100\n",
    "    학년      100\n",
    "    학점      100\n",
    "    dtype: int64\n",
    "    ```\n",
    "    \n",
    "2. 결측치가 있는 행을 삭제하고, 변수 `df_cleaned_row` 에 저장하고 데이터프레임의 구조를 출력하세요.\n",
    "    \n",
    "    ```bash\n",
    "    (664, 6)\n",
    "    ```\n",
    "    \n",
    "3. `나이` 열의 결측치를 평균값으로 대체하세요.\n",
    "4. `전공` 열의 결측치를 최빈값으로 대체하세요.\n",
    "5. `학년` 열의 결측치를 1로 대체하세요.\n",
    "6. `학점` 열의 결측치를 중앙값으로 대체하세요.\n",
    "7. 각 열의 결측치 수를 출력하세요.\n",
    "    \n",
    "    ```bash\n",
    "    학생ID    0\n",
    "    이름      0\n",
    "    나이      0\n",
    "    전공      0\n",
    "    학년      0\n",
    "    학점      0\n",
    "    dtype: int64\n",
    "    ```"
   ]
  },
  {
   "cell_type": "code",
   "execution_count": 21,
   "metadata": {},
   "outputs": [
    {
     "name": "stdout",
     "output_type": "stream",
     "text": [
      "학생ID      0\n",
      "이름        0\n",
      "나이      100\n",
      "전공      100\n",
      "학년      100\n",
      "학점      100\n",
      "dtype: int64\n"
     ]
    }
   ],
   "source": [
    "print(df.isnull().sum())"
   ]
  },
  {
   "cell_type": "code",
   "execution_count": 22,
   "metadata": {},
   "outputs": [
    {
     "name": "stdout",
     "output_type": "stream",
     "text": [
      "(664, 6)\n"
     ]
    }
   ],
   "source": [
    "df_cleaned_row = df.dropna(axis=0)\n",
    "print(df_cleaned_row.shape)"
   ]
  },
  {
   "cell_type": "code",
   "execution_count": 24,
   "metadata": {},
   "outputs": [
    {
     "name": "stdout",
     "output_type": "stream",
     "text": [
      "학생ID    0\n",
      "이름      0\n",
      "나이      0\n",
      "전공      0\n",
      "학년      0\n",
      "학점      0\n",
      "dtype: int64\n"
     ]
    }
   ],
   "source": [
    "df[\"나이\"] = df[\"나이\"].fillna(df[\"나이\"].mean())\n",
    "df[\"전공\"] = df[\"전공\"].fillna(\n",
    "    df[\"전공\"].mode()[0]\n",
    ")  # 최빈값 제일 처음 나온 값만 사용하기\n",
    "df[\"학년\"] = df[\"학년\"].fillna(1)\n",
    "df[\"학점\"] = df[\"학점\"].fillna(df[\"학점\"].median())\n",
    "\n",
    "print(df.isnull().sum())"
   ]
  }
 ],
 "metadata": {
  "kernelspec": {
   "display_name": "base",
   "language": "python",
   "name": "python3"
  },
  "language_info": {
   "codemirror_mode": {
    "name": "ipython",
    "version": 3
   },
   "file_extension": ".py",
   "mimetype": "text/x-python",
   "name": "python",
   "nbconvert_exporter": "python",
   "pygments_lexer": "ipython3",
   "version": "3.12.4"
  }
 },
 "nbformat": 4,
 "nbformat_minor": 2
}
